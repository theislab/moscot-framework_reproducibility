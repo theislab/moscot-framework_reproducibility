{
 "cells": [
  {
   "cell_type": "raw",
   "id": "917886ef",
   "metadata": {},
   "source": [
    "---\n",
    "title: \"scRNA/ATAC-seq of NVF E14.5 Cells - SCTranfrom & Weighted Nearest Neighbor Analysis\"\n",
    "author: \"Michael Sterr\"\n",
    "date: \"`r format(Sys.time(), '%d %B, %Y')`\"\n",
    "output:\n",
    "  html_document:\n",
    "    code_folding: hide\n",
    "    toc: true\n",
    "    toc_depth: 3\n",
    "    toc_float: true \n",
    "---"
   ]
  },
  {
   "cell_type": "markdown",
   "id": "37f4233b",
   "metadata": {},
   "source": [
    "# Setup"
   ]
  },
  {
   "cell_type": "code",
   "execution_count": null,
   "id": "d6a590e7",
   "metadata": {},
   "outputs": [],
   "source": [
    "# General\n",
    "library(tidyverse) # incl. ggplot2\n",
    "library(reticulate)\n",
    "use_python(\"/home/michi/Software/venvs/scAnalysis_1.8_R4.1/bin/python3\", required = TRUE)\n",
    "\n",
    "# Analysis\n",
    "library(Signac)\n",
    "library(Seurat)\n",
    "library(SeuratDisk)\n",
    "library(SingleCellExperiment)\n",
    "library(pastecs)\n",
    "\n",
    "# Plotting\n",
    "library(cowplot)\n",
    "\n",
    "#Set theme for plotting\n",
    "##########################################\n",
    "#theme_set(theme_bw())\n",
    "theme_set(theme_cowplot())\n",
    "\n",
    "# Borders around cowplots:\n",
    "currentTheme <- theme_get()\n",
    "currentTheme <- theme_replace(aspect.ratio = 1,\n",
    "                              panel.border = element_rect(colour = \"black\", size = 0.75, fill = NA),\n",
    "                              rect = element_rect(colour = \"black\", size = 0.5, linetype = 1, fill = \"transparent\"),\n",
    "                              panel.background = element_rect(colour = \"black\", size = 0.5))\n",
    "currentTheme <- theme_update(plot.title = element_text(hjust = 0.5))\n",
    "\n",
    "library(future)\n",
    "plan(\"multicore\", workers=64)\n",
    "options(future.globals.maxSize = 100 * 1024 ^ 3) # for 50 Gb RAM\n",
    "\n",
    "# source(\"~/Scripts/R-Functions.R\")\n",
    "# \n",
    "# # Parallelization\n",
    "# library(BiocParallel)\n",
    "# register(MulticoreParam(32, progressbar = TRUE))\n",
    "\n",
    "set.seed(1234)"
   ]
  },
  {
   "cell_type": "code",
   "execution_count": null,
   "id": "4a4a849a",
   "metadata": {
    "lines_to_next_cell": 0
   },
   "outputs": [],
   "source": [
    "%%python\n",
    "# General\n",
    "import scipy as sci\n",
    "import numpy as np\n",
    "import pandas as pd\n",
    "import logging\n",
    "import scipy.stats\n",
    "\n",
    "# Analysis\n",
    "import scanpy as sc\n",
    "#sc.logging.print_versions()"
   ]
  },
  {
   "cell_type": "markdown",
   "id": "5ea8eff6",
   "metadata": {},
   "source": []
  },
  {
   "cell_type": "markdown",
   "id": "abeae732",
   "metadata": {},
   "source": [
    "# Doublets Removed\n",
    "## Load Data"
   ]
  },
  {
   "cell_type": "code",
   "execution_count": null,
   "id": "f4c56582",
   "metadata": {},
   "outputs": [],
   "source": [
    "# read preprocessed data\n",
    "seurat <- readRDS(\"/home/michi/Projects/scMultiome_NVF_Mouse-Pancreas-Development_E14.5_Notebooks/Files/E14-E15_adata_filtered_markedDoublets_seurat_jointPeaks.rds\")"
   ]
  },
  {
   "cell_type": "code",
   "execution_count": null,
   "id": "70a2ec2b",
   "metadata": {},
   "outputs": [],
   "source": [
    "%%python\n",
    "filtered = sc.read('/home/michi/Projects/scMultiome_NVF_Mouse-Pancreas-Development_E14.5_Notebooks/Files/E14-E15_adata_filtered_markedDoublets.h5ad')\n",
    "\n",
    "filtered_var=list(filtered.var_names)"
   ]
  },
  {
   "cell_type": "code",
   "execution_count": null,
   "id": "d86f8f94",
   "metadata": {
    "error": false,
    "lines_to_next_cell": 0,
    "message": false,
    "results": "hold",
    "warning": false
   },
   "outputs": [],
   "source": [
    "# Filter genes\n",
    "seurat[[\"RNA\"]] <- subset(seurat[[\"RNA\"]], features = py$filtered_var)\n",
    "seurat[[\"RNA\"]] "
   ]
  },
  {
   "cell_type": "code",
   "execution_count": null,
   "id": "9e24e3d4",
   "metadata": {},
   "outputs": [],
   "source": [
    "seurat@meta.data$sample <- sapply(rownames(seurat@meta.data), function(x){strsplit(x,\"_\")[[1]][1]})\n",
    "Idents(seurat) <- seurat@meta.data$sample"
   ]
  },
  {
   "cell_type": "markdown",
   "id": "aca27ec9",
   "metadata": {},
   "source": [
    "## Preprocessing"
   ]
  },
  {
   "cell_type": "code",
   "execution_count": null,
   "id": "4754e317",
   "metadata": {
    "lines_to_next_cell": 2
   },
   "outputs": [],
   "source": [
    "DefaultAssay(seurat) <- \"RNA\"\n",
    "seurat <- SCTransform(seurat, verbose = TRUE, return.only.var.genes = FALSE, variable.features.n = NULL, vst.flavor = \"v2\")\n",
    "seurat <- RunPCA(seurat)\n",
    "seurat <- RunUMAP(seurat, dims = 1:50, reduction.name = 'umap.rna', reduction.key = 'rnaUMAP_')"
   ]
  },
  {
   "cell_type": "code",
   "execution_count": null,
   "id": "a88897d8",
   "metadata": {},
   "outputs": [],
   "source": [
    "DefaultAssay(seurat) <- \"peaks\"\n",
    "seurat <- RunTFIDF(seurat)\n",
    "seurat <- FindTopFeatures(seurat, min.cutoff = 'q0')\n",
    "seurat <- RunSVD(seurat)\n",
    "seurat <- RunUMAP(seurat, reduction = 'lsi', dims = 2:50, reduction.name = \"umap.atac\", reduction.key = \"atacUMAP_\")"
   ]
  },
  {
   "cell_type": "markdown",
   "id": "7034ca65",
   "metadata": {},
   "source": [
    "## Weighted Nearest Neighbor Analysis"
   ]
  },
  {
   "cell_type": "code",
   "execution_count": null,
   "id": "b8b20c85",
   "metadata": {
    "lines_to_next_cell": 2
   },
   "outputs": [],
   "source": [
    "# build a joint neighbor graph using both assays\n",
    "seurat <- FindMultiModalNeighbors(\n",
    "  object = seurat,\n",
    "  reduction.list = list(\"pca\", \"lsi\"), \n",
    "  dims.list = list(1:50, 2:50),\n",
    "  modality.weight.name = \"RNA.weight\",\n",
    "  verbose = TRUE\n",
    ")\n",
    "\n",
    "# build a joint UMAP visualization\n",
    "DefaultAssay(seurat) <- \"SCT\"\n",
    "seurat <- RunUMAP(\n",
    "  object = seurat,\n",
    "  nn.name = \"weighted.nn\",\n",
    "  assay = \"SCT\",\n",
    "  verbose = TRUE\n",
    ")\n",
    "\n",
    "seurat <- RunSPCA(seurat, assay = 'SCT', graph = 'wsnn', npcs = 50)"
   ]
  },
  {
   "cell_type": "code",
   "execution_count": null,
   "id": "4e5abb06",
   "metadata": {},
   "outputs": [],
   "source": [
    "DimPlot(seurat, label = TRUE, repel = TRUE, reduction = \"umap.rna\") + NoLegend() + ggtitle(\"RNA\")\n",
    "DimPlot(seurat, label = TRUE, repel = TRUE, reduction = \"umap.atac\") + NoLegend() + ggtitle(\"ATAC\")\n",
    "DimPlot(seurat, label = TRUE, repel = TRUE, reduction = \"umap\") + NoLegend() + ggtitle(\"WNN\")"
   ]
  },
  {
   "cell_type": "markdown",
   "id": "01c0a340",
   "metadata": {},
   "source": [
    "## Export Results"
   ]
  },
  {
   "cell_type": "code",
   "execution_count": null,
   "id": "a266a0c5",
   "metadata": {},
   "outputs": [],
   "source": [
    "saveRDS(seurat, \"/home/michi/Projects/scMultiome_NVF_Mouse-Pancreas-Development_E14.5_Notebooks/Files/E14-E15_adata_filtered_markedDoublets_seurat_jointPeaks_sctNormalized_wnn.rds\")"
   ]
  },
  {
   "cell_type": "code",
   "execution_count": null,
   "id": "7e0199a3",
   "metadata": {
    "lines_to_next_cell": 2
   },
   "outputs": [],
   "source": [
    "seurat_export <- seurat\n",
    "Assays(seurat_export)\n",
    "DefaultAssay(seurat_export) <- 'SCT'\n",
    "#seurat_export[[\"RNA\"]] <- NULL\n",
    "seurat_export[[\"ATAC\"]] <- NULL\n",
    "seurat_export[[\"peaks\"]] <- NULL\n",
    "\n",
    "SaveH5Seurat(seurat_export, filename = \"/home/michi/Projects/scMultiome_NVF_Mouse-Pancreas-Development_E14.5_Notebooks/Files/E14-E15_adata_filtered_markedDoublets_sctNormalized_wsnn.h5Seurat\", overwrite = TRUE)\n",
    "Convert(\"/home/michi/Projects/scMultiome_NVF_Mouse-Pancreas-Development_E14.5_Notebooks/Files/E14-E15_adata_filtered_markedDoublets_sctNormalized_wsnn.h5Seurat\", dest = \"h5ad\", overwrite = TRUE)\n",
    "\n",
    "seurat_export@graphs$wsnn <- NULL\n",
    "\n",
    "SaveH5Seurat(seurat_export, filename = \"/home/michi/Projects/scMultiome_NVF_Mouse-Pancreas-Development_E14.5_Notebooks/Files/E14-E15_adata_filtered_markedDoublets_sctNormalized_wknn.h5Seurat\", overwrite = TRUE)\n",
    "Convert(\"/home/michi/Projects/scMultiome_NVF_Mouse-Pancreas-Development_E14.5_Notebooks/Files/E14-E15_adata_filtered_markedDoublets_sctNormalized_wknn.h5Seurat\", dest = \"h5ad\", overwrite = TRUE)"
   ]
  },
  {
   "cell_type": "code",
   "execution_count": null,
   "id": "31b28edf",
   "metadata": {
    "lines_to_next_cell": 2
   },
   "outputs": [],
   "source": [
    "# Add feature meta data (since Seurat v4 -> will be fixed?)\n",
    "var <- c('detection_rate','gmean', 'variance', 'residual_variance')\n",
    "seurat_export[[\"SCT\"]]@meta.features <- SCTResults(seurat_export[[\"SCT\"]], slot = \"feature.attributes\")[, var]\n",
    "seurat_export[[\"SCT\"]]@meta.features$variable <- FALSE\n",
    "seurat_export[[\"SCT\"]]@meta.features[VariableFeatures(seurat_export[[\"SCT\"]] ), \"variable\"] <- TRUE\n",
    "colnames(seurat_export[[\"SCT\"]]@meta.features) <- paste0(\"sct.\", colnames(seurat_export[[\"SCT\"]]@meta.features) )\n",
    "\n",
    "# Convert to SingleCellExperiment\n",
    "sce_export <- as.SingleCellExperiment(seurat_export)\n",
    "\n",
    "# Add feature meta data (since Seurat v4 -> will be fixed?)\n",
    "rowData(sce_export) <- seurat_export[[\"SCT\"]]@meta.features\n",
    "\n",
    "# Rename and add layers\n",
    "SummarizedExperiment::assay(sce_export, i = 1) <- seurat_export[[\"SCT\"]]@counts\n",
    "SummarizedExperiment::assay(sce_export, i = 2) <- seurat_export[[\"SCT\"]]@data\n",
    "SummarizedExperiment::assay(sce_export, i = 3) <- seurat_export[[\"SCT\"]]@scale.data\n",
    "#SummarizedExperiment::assay(sce_export, i = 4) <- seurat_export[[\"RNA\"]]@counts[rownames(seurat_export[[\"RNA\"]]@counts),]\n",
    "SummarizedExperiment::assayNames(sce_export) <- c(\"sct_counts\", \"sct_logcounts\", \"sct_scale_data\") #, \"raw_counts\")\n",
    "\n",
    "# Save to file\n",
    "saveRDS(seurat_export, \"/home/michi/Projects/scMultiome_NVF_Mouse-Pancreas-Development_E14.5_Notebooks/Files/E14-E15_adata_filtered_markedDoublets_sctNormalized_seurat.rds\")\n",
    "saveRDS(sce_export, \"/home/michi/Projects/scMultiome_NVF_Mouse-Pancreas-Development_E14.5_Notebooks/Files/E14-E15_adata_filtered_markedDoublets_sctNormalized_sce.rds\")"
   ]
  },
  {
   "cell_type": "markdown",
   "id": "358e5787",
   "metadata": {},
   "source": [
    "# Session Info"
   ]
  },
  {
   "cell_type": "code",
   "execution_count": null,
   "id": "1aa28269",
   "metadata": {
    "lines_to_next_cell": 0
   },
   "outputs": [],
   "source": [
    "sessionInfo()"
   ]
  },
  {
   "cell_type": "markdown",
   "id": "582be9f8",
   "metadata": {},
   "source": [
    "\n",
    "\n",
    "\n",
    "\n"
   ]
  }
 ],
 "metadata": {
  "jupytext": {
   "cell_metadata_filter": "results,warning,error,message,-all",
   "main_language": "R",
   "notebook_metadata_filter": "-all"
  }
 },
 "nbformat": 4,
 "nbformat_minor": 5
}
