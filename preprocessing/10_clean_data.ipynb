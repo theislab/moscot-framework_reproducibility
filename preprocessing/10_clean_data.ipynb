{
 "cells": [
  {
   "cell_type": "code",
   "execution_count": 1,
   "id": "66e19477-648f-4b9f-927f-875dfaff9c40",
   "metadata": {},
   "outputs": [],
   "source": [
    "import scanpy as sc\n",
    "import pandas as pd\n",
    "import numpy as np\n",
    "from scipy.sparse import csc_matrix"
   ]
  },
  {
   "cell_type": "code",
   "execution_count": 2,
   "id": "2a93706d-b117-4652-a5fb-188c2b5cf53c",
   "metadata": {},
   "outputs": [],
   "source": [
    "adata = sc.read('/Users/dominik.klein/data/E14-E15_adata_filtered_rmDoublets_sctNormalized_WNN_embedded_initialAnno_new_annotation.h5ad')"
   ]
  },
  {
   "cell_type": "code",
   "execution_count": 3,
   "id": "82cd310a-a2c2-485b-bb63-e06c8ce7fbd8",
   "metadata": {},
   "outputs": [],
   "source": [
    "adata.obsm[\"X_umap_wnn\"] = adata.obsm[\"umap\"]\n",
    "adata.obsm[\"X_umap\"] = adata.obsm[\"umap\"]"
   ]
  },
  {
   "cell_type": "code",
   "execution_count": 4,
   "id": "0d61a50a-90da-414c-85c4-f483a3f147f1",
   "metadata": {},
   "outputs": [],
   "source": [
    "adata.obsm[\"X_umap_GEX\"][:,0] = -adata.obsm[\"X_umap_GEX\"][:,0]  # make `direction` consistent"
   ]
  },
  {
   "cell_type": "code",
   "execution_count": 6,
   "id": "c2f7ddbe-9a34-413e-8045-1d0f1f20c92e",
   "metadata": {},
   "outputs": [
    {
     "data": {
      "text/plain": [
       "AnnData object with n_obs × n_vars = 16953 × 14663\n",
       "    obs: 'n_counts', 'sample', 'int_id', 'reporter', 'log_cell_probs', 'cell_barcodes_du', 'cell_barcodes_cr', 'cell_barcodes', 'log_counts', 'n_genes', 'log_genes', 'mt_frac', 'rp_frac', 'ambi_frac', 'total_counts_rank', 'n_genes_by_counts', 'log1p_n_genes_by_counts', 'total_counts', 'log1p_total_counts', 'pct_counts_in_top_50_genes', 'pct_counts_in_top_100_genes', 'pct_counts_in_top_200_genes', 'pct_counts_in_top_500_genes', 'leiden', 'orig.ident', 'nCount_RNA', 'nFeature_RNA', 'nCount_ATAC', 'nFeature_ATAC', 'nucleosome_signal', 'nucleosome_percentile', 'TSS.enrichment', 'TSS.percentile', 'log_nCount_ATAC', 'log_nFeature_ATAC', 'scrublet_scores', 'scrublet_doublets', 'scrublet_doublets_cat', 'dd_doublets', 'dd_scores', 'dd_log_p_values', 'dd_voting_average', 'dd_-log_p_values', 'dd_doublets_cat', 'pANN', 'DF_classifications_1', 'DF_classifications_2', 'pANN_SCT', 'DF_SCT_classifications_1', 'DF_SCT_classifications_2', 'df_doublets', 'scDblFinder.class', 'scDblFinder.score', 'hybrid_class', 'hybrid_score', 'scDblFinder.class.sct', 'scDblFinder.score.sct', 'hybrid_class_sct', 'hybrid_score_sct', 'sdf_doublets', 'scds_doublets', 'doublet_calls', 'final_doublets', 'final_doublets_cat', 'batch', 'size_factors', 'mt_frac_raw', 'rp_frac_raw', 'n_genes_raw', 'log_genes_raw', 'n_counts_raw', 'log_counts_raw', 'S_score', 'G2M_score', 'phase', 'proliferation', 'leiden_gex_graph', 'leiden_ATAC_graph', 'leiden_wnn_graph', 'umap_GEX_1', 'umap_GEX_2', 'umap_ATAC_1', 'umap_ATAC_2', 'leiden_sub', 'leiden_sub1', 'leiden_sub2', 'leiden_sub3', 'leiden_sub4', 'leiden_sub5', 'leiden_sub6', 'leiden_sub7', 'leiden_sub8', 'leiden_sub9', 'leiden_sub10', 'leiden_sub11', 'leiden_sub12', 'leiden_sub13', 'leiden_sub14', 'leiden_sub15', 'leiden_sub16', 'leiden_sub17', 'leiden_sub18', 'celltype'\n",
       "    var: 'feature_types', 'genome', 'gene_ids-0', 'n_cells-0', 'ambient_genes-0', 'is_ambient-0', 'n_cells_by_counts-0', 'mean_counts-0', 'log1p_mean_counts-0', 'pct_dropout_by_counts-0', 'total_counts-0', 'log1p_total_counts-0', 'gene_ids-1', 'n_cells-1', 'ambient_genes-1', 'is_ambient-1', 'n_cells_by_counts-1', 'mean_counts-1', 'log1p_mean_counts-1', 'pct_dropout_by_counts-1', 'total_counts-1', 'log1p_total_counts-1', 'n_cells', 'sct.detection_rate', 'sct.gmean', 'sct.variance', 'sct.residual_variance', 'sct.variable', 'highly_variable'\n",
       "    uns: 'celltype_colors', 'dendrogram_leiden_sub1', 'dendrogram_leiden_sub12', 'dendrogram_leiden_sub14', 'dendrogram_leiden_sub15', 'dendrogram_leiden_sub16', 'dendrogram_leiden_sub17', 'dendrogram_leiden_sub18', 'dendrogram_leiden_sub2', 'dendrogram_leiden_sub3', 'dendrogram_leiden_sub4', 'dendrogram_leiden_sub5', 'dendrogram_leiden_sub6', 'dendrogram_leiden_sub7', 'dendrogram_leiden_sub8', 'dendrogram_leiden_sub9', 'final_doublets_cat_colors', 'leiden', 'leiden_ATAC_graph_colors', 'leiden_colors', 'leiden_gex_graph_colors', 'leiden_sub10_colors', 'leiden_sub11_colors', 'leiden_sub12_colors', 'leiden_sub13_colors', 'leiden_sub14_colors', 'leiden_sub15_colors', 'leiden_sub16_colors', 'leiden_sub17_colors', 'leiden_sub18_colors', 'leiden_sub1_colors', 'leiden_sub2_colors', 'leiden_sub3_colors', 'leiden_sub4_colors', 'leiden_sub5_colors', 'leiden_sub6_colors', 'leiden_sub7_colors', 'leiden_sub8_colors', 'leiden_sub9_colors', 'leiden_sub_colors', 'leiden_wnn_graph_colors', 'neighbors', 'neighbors_wnn', 'pca', 'reporter_colors', 'sample_colors', 'umap'\n",
       "    obsm: 'X_pca', 'X_pca_wsnn', 'X_spca_wsnn', 'X_umap', 'X_umap_ATAC', 'X_umap_GEX', 'X_umap_wsnn', 'umap', 'umap_ATAC', 'umap_GEX', 'X_umap_wnn'\n",
       "    varm: 'PCs', 'PCs_wsnn', 'SPCA_wsnn'\n",
       "    layers: 'log_raw_counts', 'raw_counts', 'scran_counts', 'sct_counts', 'sct_logcounts', 'sct_scale_data'\n",
       "    obsp: 'connectivities', 'distances'"
      ]
     },
     "execution_count": 6,
     "metadata": {},
     "output_type": "execute_result"
    }
   ],
   "source": [
    "adata"
   ]
  },
  {
   "cell_type": "code",
   "execution_count": 7,
   "id": "9afaf82a-d8f2-4800-b8f4-766966f3da33",
   "metadata": {},
   "outputs": [],
   "source": [
    "adata.obsp[\"connectivities_wnn\"] = adata.obsp[\"connectivities\"].copy()\n",
    "adata.obsp[\"distances_wnn\"] = adata.obsp[\"distances\"].copy()"
   ]
  },
  {
   "cell_type": "code",
   "execution_count": 8,
   "id": "46b1b459-f555-478e-9bd4-8d5fd835a0ef",
   "metadata": {},
   "outputs": [],
   "source": [
    "for layer in adata.layers:\n",
    "    if not isinstance(adata.layers[layer], csc_matrix):\n",
    "        adata.layers[layer] = csc_matrix(adata.layers[layer])"
   ]
  },
  {
   "cell_type": "code",
   "execution_count": 9,
   "id": "f712656a-3935-46ad-87e5-e78c133687bd",
   "metadata": {},
   "outputs": [],
   "source": [
    "var_to_del = ['feature_types', 'genome', 'gene_ids-0', 'n_cells-0', 'ambient_genes-0', 'is_ambient-0', 'n_cells_by_counts-0', \n",
    "              'mean_counts-0', 'log1p_mean_counts-0', 'pct_dropout_by_counts-0', 'total_counts-0', 'log1p_total_counts-0', 'gene_ids-1', \n",
    "              'n_cells-1', 'ambient_genes-1', 'is_ambient-1', 'n_cells_by_counts-1', 'mean_counts-1', 'log1p_mean_counts-1', 'pct_dropout_by_counts-1', \n",
    "              'total_counts-1', 'log1p_total_counts-1', 'n_cells', 'sct.detection_rate', 'sct.gmean', 'sct.variance', 'sct.residual_variance', 'sct.variable', \n",
    "              'highly_variable']\n"
   ]
  },
  {
   "cell_type": "code",
   "execution_count": 10,
   "id": "10aa003f-ce8a-4c4e-9c32-0838b00efe93",
   "metadata": {},
   "outputs": [],
   "source": [
    "obsm_to_del = ['X_pca', 'X_pca_wsnn', 'X_spca_wsnn', 'X_umap_wsnn', 'umap', 'umap_ATAC', 'umap_GEX', 'X_umap_wnn']"
   ]
  },
  {
   "cell_type": "code",
   "execution_count": 11,
   "id": "bc8e6922-c8ff-49f6-b7a5-6bd06e57b6bd",
   "metadata": {},
   "outputs": [],
   "source": [
    "obs_cols_to_del = ['leiden_gex_graph', 'leiden_ATAC_graph', 'leiden_wnn_graph', 'umap_GEX_1', 'umap_GEX_2', \n",
    "                   'umap_ATAC_1', 'umap_ATAC_2', 'leiden_sub', 'leiden_sub1', 'leiden_sub2', 'leiden_sub3', \n",
    "                   'leiden_sub4', 'leiden_sub5', 'leiden_sub6', 'leiden_sub7', 'leiden_sub8', 'leiden_sub9', \n",
    "                   'leiden_sub10', 'leiden_sub11', 'leiden_sub12', 'leiden_sub13', 'leiden_sub14', 'leiden_sub15', \n",
    "                   'leiden_sub16', 'leiden_sub17', 'leiden_sub18', 'int_id', 'reporter', 'log_cell_probs', \n",
    "                   'cell_barcodes_du', 'cell_barcodes_cr', 'cell_barcodes', 'log_counts',\n",
    "                  'scDblFinder.score', 'hybrid_class', 'hybrid_score', 'scDblFinder.class.sct', 'scDblFinder.score.sct', 'hybrid_class_sct', 'hybrid_score_sct', 'sdf_doublets', 'scds_doublets']\n"
   ]
  },
  {
   "cell_type": "code",
   "execution_count": 12,
   "id": "2da7b036-308c-498a-875c-4b0356ff15b3",
   "metadata": {},
   "outputs": [],
   "source": [
    "uns_to_del = ['dendrogram_leiden_sub1', 'dendrogram_leiden_sub12', 'dendrogram_leiden_sub14', 'dendrogram_leiden_sub15', \n",
    "              'dendrogram_leiden_sub16', 'dendrogram_leiden_sub17', 'dendrogram_leiden_sub18', 'dendrogram_leiden_sub2', \n",
    "              'dendrogram_leiden_sub3', 'dendrogram_leiden_sub4', 'dendrogram_leiden_sub5', 'dendrogram_leiden_sub6', \n",
    "              'dendrogram_leiden_sub7', 'dendrogram_leiden_sub8', 'dendrogram_leiden_sub9', 'final_doublets_cat_colors', \n",
    "              'leiden_ATAC_graph_colors', 'leiden_colors', 'leiden_gex_graph_colors', 'leiden_sub10_colors', \n",
    "              'leiden_sub11_colors', 'leiden_sub12_colors', 'leiden_sub13_colors', 'leiden_sub14_colors', \n",
    "              'leiden_sub15_colors', 'leiden_sub16_colors', 'leiden_sub17_colors', 'leiden_sub18_colors', \n",
    "              'leiden_sub1_colors', 'leiden_sub2_colors', 'leiden_sub3_colors', 'leiden_sub4_colors', 'leiden_sub5_colors', \n",
    "              'leiden_sub6_colors', 'leiden_sub7_colors', 'leiden_sub8_colors', 'leiden_sub9_colors', 'leiden_sub_colors', \n",
    "              'leiden_wnn_graph_colors']"
   ]
  },
  {
   "cell_type": "code",
   "execution_count": 13,
   "id": "c2f207f8-82c1-485c-9b2a-85d2485d4672",
   "metadata": {},
   "outputs": [],
   "source": [
    "varm_to_del = ['PCs', 'PCs_wsnn', 'SPCA_wsnn']"
   ]
  },
  {
   "cell_type": "code",
   "execution_count": 14,
   "id": "d6abf89e-c84d-4464-9789-f68fcc0909d3",
   "metadata": {},
   "outputs": [],
   "source": [
    "for el in var_to_del:\n",
    "    del adata.var[el]"
   ]
  },
  {
   "cell_type": "code",
   "execution_count": 15,
   "id": "28281079-f5c5-40c3-b8c4-c17c28ef3035",
   "metadata": {},
   "outputs": [],
   "source": [
    "for el in obsm_to_del:\n",
    "    del adata.obsm[el]"
   ]
  },
  {
   "cell_type": "code",
   "execution_count": 16,
   "id": "d22ca868-7b66-46a9-97f7-1d8439594b46",
   "metadata": {},
   "outputs": [],
   "source": [
    "for col in obs_cols_to_del:\n",
    "    del adata.obs[col]"
   ]
  },
  {
   "cell_type": "code",
   "execution_count": 17,
   "id": "772355d6-5832-4f88-a974-b36db965b18e",
   "metadata": {},
   "outputs": [],
   "source": [
    "for el in uns_to_del:\n",
    "    del adata.uns[el]"
   ]
  },
  {
   "cell_type": "code",
   "execution_count": 18,
   "id": "8d3481ec-d8ec-42a2-8eb4-68fea1fada11",
   "metadata": {},
   "outputs": [],
   "source": [
    "for el in varm_to_del:\n",
    "    del adata.varm[el]"
   ]
  },
  {
   "cell_type": "code",
   "execution_count": 19,
   "id": "84e58a26-5a9a-4f65-bdce-64740abdc256",
   "metadata": {},
   "outputs": [],
   "source": [
    "adata.X = csc_matrix(np.round(np.exp(adata.layers[\"raw_counts\"].A)-1))"
   ]
  },
  {
   "cell_type": "code",
   "execution_count": 20,
   "id": "6aee73c9-dfb4-4468-ad0c-4f74df2ec76a",
   "metadata": {},
   "outputs": [],
   "source": [
    "del adata.layers[\"raw_counts\"]"
   ]
  },
  {
   "cell_type": "code",
   "execution_count": 21,
   "id": "446dad29-8664-48e9-955b-4d1c1438bba8",
   "metadata": {},
   "outputs": [],
   "source": [
    "adata_lsi = sc.read(\"/Users/dominik.klein/data/E14-E15_adata_filtered_rmDoublets_lsi_peaks_to_adata.h5ad\")"
   ]
  },
  {
   "cell_type": "code",
   "execution_count": 22,
   "id": "3624749a-59e1-4725-9d24-441be890b7e5",
   "metadata": {},
   "outputs": [
    {
     "data": {
      "text/plain": [
       "AnnData object with n_obs × n_vars = 16978 × 1\n",
       "    obs: 'orig.ident', 'nCount_RNA', 'nFeature_RNA', 'nCount_ATAC', 'nFeature_ATAC', 'nucleosome_signal', 'nucleosome_percentile', 'TSS.enrichment', 'TSS.percentile', 'doublet_calls', 'final_doublets', 'final_doublets_cat', 'nCount_peaks', 'nFeature_peaks', 'sample', 'peaks_snn_res.0.8', 'seurat_clusters'\n",
       "    obsm: 'lsi_full', 'lsi_red'"
      ]
     },
     "execution_count": 22,
     "metadata": {},
     "output_type": "execute_result"
    }
   ],
   "source": [
    "adata_lsi"
   ]
  },
  {
   "cell_type": "code",
   "execution_count": 23,
   "id": "4726a9a4-be78-4410-b995-ee5202e546e8",
   "metadata": {},
   "outputs": [],
   "source": [
    "def rename_index(x):\n",
    "    prefix, barcode = x.split(\"_\")\n",
    "    if prefix == \"E14-5\":\n",
    "        new_suffix=\"0\"\n",
    "    elif prefix == \"E15-5\":\n",
    "        new_suffix=\"1\"\n",
    "    else:\n",
    "        raise ValueError(\"no match\")\n",
    "    return barcode+\"-\"+new_suffix"
   ]
  },
  {
   "cell_type": "code",
   "execution_count": 24,
   "id": "c2307ee8-fd94-49ba-9042-57f66307d2ae",
   "metadata": {},
   "outputs": [],
   "source": [
    "adata_lsi.obs[\"old_index\"] = adata_lsi.obs.index\n",
    "adata_lsi.obs[\"index_adapted\"] = adata_lsi.obs[\"old_index\"].apply(rename_index)"
   ]
  },
  {
   "cell_type": "code",
   "execution_count": 25,
   "id": "13b9a89a-e837-4d50-bc54-244cb5ca68bc",
   "metadata": {},
   "outputs": [],
   "source": [
    "adata_lsi_adapted = adata_lsi[adata_lsi.obs[\"index_adapted\"].isin(adata.obs.index)]"
   ]
  },
  {
   "cell_type": "code",
   "execution_count": 26,
   "id": "6c1a6dc9-cb3c-4b81-8c3c-320619cbc0dc",
   "metadata": {},
   "outputs": [],
   "source": [
    "adata_lsi_adapted.obs.set_index(\"index_adapted\", inplace=True)"
   ]
  },
  {
   "cell_type": "code",
   "execution_count": 27,
   "id": "c0a657f1-f62b-4cdc-bb4f-208c24d127a1",
   "metadata": {},
   "outputs": [
    {
     "data": {
      "text/plain": [
       "True"
      ]
     },
     "execution_count": 27,
     "metadata": {},
     "output_type": "execute_result"
    }
   ],
   "source": [
    "np.all(adata_lsi_adapted.obs.index == adata.obs.index)"
   ]
  },
  {
   "cell_type": "code",
   "execution_count": 28,
   "id": "0bafc377-2767-4522-b8e2-35ae80053da5",
   "metadata": {},
   "outputs": [],
   "source": [
    "adata.obsm[\"lsi_full\"] = adata_lsi_adapted.obsm[\"lsi_full\"]\n",
    "adata.obsm[\"lsi_red\"] = adata_lsi_adapted.obsm[\"lsi_red\"]"
   ]
  },
  {
   "cell_type": "code",
   "execution_count": 29,
   "id": "3dc3a6f8-5ef2-429d-929d-96e5d0262536",
   "metadata": {},
   "outputs": [
    {
     "data": {
      "text/plain": [
       "AnnData object with n_obs × n_vars = 16953 × 14663\n",
       "    obs: 'n_counts', 'sample', 'n_genes', 'log_genes', 'mt_frac', 'rp_frac', 'ambi_frac', 'total_counts_rank', 'n_genes_by_counts', 'log1p_n_genes_by_counts', 'total_counts', 'log1p_total_counts', 'pct_counts_in_top_50_genes', 'pct_counts_in_top_100_genes', 'pct_counts_in_top_200_genes', 'pct_counts_in_top_500_genes', 'leiden', 'orig.ident', 'nCount_RNA', 'nFeature_RNA', 'nCount_ATAC', 'nFeature_ATAC', 'nucleosome_signal', 'nucleosome_percentile', 'TSS.enrichment', 'TSS.percentile', 'log_nCount_ATAC', 'log_nFeature_ATAC', 'scrublet_scores', 'scrublet_doublets', 'scrublet_doublets_cat', 'dd_doublets', 'dd_scores', 'dd_log_p_values', 'dd_voting_average', 'dd_-log_p_values', 'dd_doublets_cat', 'pANN', 'DF_classifications_1', 'DF_classifications_2', 'pANN_SCT', 'DF_SCT_classifications_1', 'DF_SCT_classifications_2', 'df_doublets', 'scDblFinder.class', 'doublet_calls', 'final_doublets', 'final_doublets_cat', 'batch', 'size_factors', 'mt_frac_raw', 'rp_frac_raw', 'n_genes_raw', 'log_genes_raw', 'n_counts_raw', 'log_counts_raw', 'S_score', 'G2M_score', 'phase', 'proliferation', 'celltype'\n",
       "    uns: 'celltype_colors', 'leiden', 'neighbors', 'neighbors_wnn', 'pca', 'reporter_colors', 'sample_colors', 'umap'\n",
       "    obsm: 'X_umap', 'X_umap_ATAC', 'X_umap_GEX', 'lsi_full', 'lsi_red'\n",
       "    layers: 'log_raw_counts', 'scran_counts', 'sct_counts', 'sct_logcounts', 'sct_scale_data'\n",
       "    obsp: 'connectivities', 'distances', 'connectivities_wnn', 'distances_wnn'"
      ]
     },
     "execution_count": 29,
     "metadata": {},
     "output_type": "execute_result"
    }
   ],
   "source": [
    "adata"
   ]
  },
  {
   "cell_type": "code",
   "execution_count": 30,
   "id": "6b900f29-c065-45b2-ac55-2b30a562bb56",
   "metadata": {},
   "outputs": [
    {
     "name": "stderr",
     "output_type": "stream",
     "text": [
      "/Users/dominik.klein/opt/anaconda3/lib/python3.9/site-packages/anndata/_core/anndata.py:121: ImplicitModificationWarning: Transforming to str index.\n",
      "  warnings.warn(\"Transforming to str index.\", ImplicitModificationWarning)\n"
     ]
    }
   ],
   "source": [
    "adata_cr_peaks = sc.read(\"/Users/dominik.klein/data/E14-E15_adata_filtered_rmDoublets_cellranger_peaks.h5ad\")\n"
   ]
  },
  {
   "cell_type": "code",
   "execution_count": 31,
   "id": "8a47609e-2852-4815-8417-7f3f95565db2",
   "metadata": {},
   "outputs": [],
   "source": [
    "adata_cr_peaks.obs[\"index_adapted\"] = adata_cr_peaks.obs[\"Row.names\"].apply(rename_index)"
   ]
  },
  {
   "cell_type": "code",
   "execution_count": 32,
   "id": "7f8eeb94-187a-4609-bdbb-0fa6266d577a",
   "metadata": {},
   "outputs": [],
   "source": [
    "adata_cr_peaks_adapted = adata_cr_peaks[adata_cr_peaks.obs[\"index_adapted\"].isin(adata.obs.index)]"
   ]
  },
  {
   "cell_type": "code",
   "execution_count": 33,
   "id": "81a92f61-f885-49be-af96-9bb4424d9f5a",
   "metadata": {},
   "outputs": [
    {
     "data": {
      "text/plain": [
       "View of AnnData object with n_obs × n_vars = 16953 × 228321\n",
       "    obs: 'Row.names', 'orig.ident', 'nCount_RNA', 'nFeature_RNA', 'nCount_ATAC', 'nFeature_ATAC', 'nucleosome_signal', 'nucleosome_percentile', 'TSS.enrichment', 'TSS.percentile', 'doublet_calls', 'final_doublets', 'final_doublets_cat', 'nCount_peaks', 'nFeature_peaks', 'nCount_SCT', 'nFeature_SCT', 'SCT.weight', 'peaks.weight', 'sample', 'celltype_new', 'index_adapted'"
      ]
     },
     "execution_count": 33,
     "metadata": {},
     "output_type": "execute_result"
    }
   ],
   "source": [
    "adata_cr_peaks_adapted\n"
   ]
  },
  {
   "cell_type": "code",
   "execution_count": 34,
   "id": "33a92c11-ebf1-467c-be4a-568dae653bef",
   "metadata": {},
   "outputs": [],
   "source": [
    "adata_cr_peaks_adapted.obs.set_index(\"index_adapted\", inplace=True)"
   ]
  },
  {
   "cell_type": "code",
   "execution_count": 35,
   "id": "413a7927-d0aa-43c6-918f-2c8def33ac31",
   "metadata": {},
   "outputs": [
    {
     "data": {
      "text/plain": [
       "True"
      ]
     },
     "execution_count": 35,
     "metadata": {},
     "output_type": "execute_result"
    }
   ],
   "source": [
    "np.all(adata_lsi_adapted.obs.index == adata.obs.index)"
   ]
  },
  {
   "cell_type": "code",
   "execution_count": 36,
   "id": "4e3b3063-80af-48b6-95dd-434b5c27801f",
   "metadata": {},
   "outputs": [],
   "source": [
    "adata.obsm[\"cellranger_peaks\"] = adata_cr_peaks_adapted.X"
   ]
  },
  {
   "cell_type": "code",
   "execution_count": 37,
   "id": "c073ad85-6b91-44c4-b441-a03467c2e9d8",
   "metadata": {},
   "outputs": [],
   "source": [
    "adata.write(\"/Users/dominik.klein/data/pancreas_multiome_2022.h5ad\")"
   ]
  },
  {
   "cell_type": "code",
   "execution_count": null,
   "id": "0b87d8d6-3172-4e0c-9d7c-1e5931aab1ab",
   "metadata": {},
   "outputs": [],
   "source": []
  }
 ],
 "metadata": {
  "kernelspec": {
   "display_name": "Python 3 (ipykernel)",
   "language": "python",
   "name": "python3"
  },
  "language_info": {
   "codemirror_mode": {
    "name": "ipython",
    "version": 3
   },
   "file_extension": ".py",
   "mimetype": "text/x-python",
   "name": "python",
   "nbconvert_exporter": "python",
   "pygments_lexer": "ipython3",
   "version": "3.9.12"
  }
 },
 "nbformat": 4,
 "nbformat_minor": 5
}
