{
 "cells": [
  {
   "cell_type": "raw",
   "id": "135ecf17",
   "metadata": {},
   "source": [
    "---\n",
    "title: \"scRNA/ATAC-seq of NVF E14.5/E15.5 Pancreas - Joint Peak Calling and Fragment Quantification\"\n",
    "author: \"Michael Sterr\"\n",
    "date: \"`r format(Sys.time(), '%d %B, %Y')`\"\n",
    "output:\n",
    "  html_document:\n",
    "    code_folding: hide\n",
    "    toc: true\n",
    "    toc_depth: 3\n",
    "    toc_float: true \n",
    "---"
   ]
  },
  {
   "cell_type": "markdown",
   "id": "084fb4f1",
   "metadata": {},
   "source": [
    "# Setup"
   ]
  },
  {
   "cell_type": "code",
   "execution_count": null,
   "id": "d61492e5",
   "metadata": {},
   "outputs": [],
   "source": [
    "# General\n",
    "library(tidyverse) # incl. ggplot2\n",
    "library(knitr)\n",
    "library(Cairo)\n",
    "# library(grid)\n",
    "# library(R.utils)\n",
    "# library(MASS)\n",
    "# library(reshape2)\n",
    "# library(lessR)\n",
    "# library(readxl)\n",
    "# library(MKmisc)\n",
    "# library(fastmatch)\n",
    "\n",
    "# Analysis\n",
    "library(Signac)\n",
    "library(Seurat)\n",
    "library(EnsDb.Mmusculus.v102)\n",
    "library(BSgenome.Mmusculus.UCSC.mm10)\n",
    "library(pastecs)\n",
    "\n",
    "# Plotting\n",
    "library(cowplot)\n",
    "\n",
    "# # Color\n",
    "# library(RColorBrewer)\n",
    "# library(viridis)\n",
    "# library(circlize) # colorRamp2\n",
    "# library(scico)\n",
    "# library(oce) # nice color maps e.g. oceColorsOxygen(n) ,deep, dense, speed, tempo, balance, delt, curl, haline\n",
    "# oceColorsOxygen <- oceColorsClosure(read.table(\"https://raw.githubusercontent.com/matplotlib/cmocean/master/cmocean/rgb/oxy-rgb.txt\", header=FALSE))\n",
    "# oceColorsHaline <- oceColorsClosure(read.table(\"https://raw.githubusercontent.com/matplotlib/cmocean/master/cmocean/rgb/haline-rgb.txt\", header=FALSE))\n",
    "# oceColorsDense <- oceColorsClosure(read.table(\"https://raw.githubusercontent.com/matplotlib/cmocean/master/cmocean/rgb/dense-rgb.txt\", header=FALSE))\n",
    "# oceColorsDeep <- oceColorsClosure(read.table(\"https://raw.githubusercontent.com/matplotlib/cmocean/master/cmocean/rgb/deep-rgb.txt\", header=FALSE))\n",
    "# oceColorsSeed <- oceColorsClosure(read.table(\"https://raw.githubusercontent.com/matplotlib/cmocean/master/cmocean/rgb/speed-rgb.txt\", header=FALSE))\n",
    "# oceColorsTempo <- oceColorsClosure(read.table(\"https://raw.githubusercontent.com/matplotlib/cmocean/master/cmocean/rgb/tempo-rgb.txt\", header=FALSE))\n",
    "# oceColorsBalance <- oceColorsClosure(read.table(\"https://raw.githubusercontent.com/matplotlib/cmocean/master/cmocean/rgb/balance-rgb.txt\", header=FALSE))\n",
    "# oceColorsDelta <- oceColorsClosure(read.table(\"https://raw.githubusercontent.com/matplotlib/cmocean/master/cmocean/rgb/delta-rgb.txt\", header=FALSE))\n",
    "# oceColorsCurl <- oceColorsClosure(read.table(\"https://raw.githubusercontent.com/matplotlib/cmocean/master/cmocean/rgb/curl-rgb.txt\", header=FALSE))\n",
    "# oceColorsDiff <- oceColorsClosure(read.table(\"https://raw.githubusercontent.com/matplotlib/cmocean/master/cmocean/rgb/diff-rgb.txt\", header=FALSE))\n",
    "# oceColorsTarn <- oceColorsClosure(read.table(\"https://raw.githubusercontent.com/matplotlib/cmocean/master/cmocean/rgb/tarn-rgb.txt\", header=FALSE))\n",
    "# oceColorsIce <- oceColorsClosure(read.table(\"https://raw.githubusercontent.com/matplotlib/cmocean/master/cmocean/rgb/ice-rgb.txt\", header=FALSE))\n",
    "# oceColorsRain <- oceColorsClosure(read.table(\"https://raw.githubusercontent.com/matplotlib/cmocean/master/cmocean/rgb/rain-rgb.txt\", header=FALSE))\n",
    "# oceColorsAmp <- oceColorsClosure(read.table(\"https://raw.githubusercontent.com/matplotlib/cmocean/master/cmocean/rgb/amp-rgb.txt\", header=FALSE))\n",
    "# michi_bk_rd_yl_4 <- oceColorsClosure(read.table(\"/home/michi/Software/viscm/maps/michi_bk_rd_yl_4.rgb.txt\", header=FALSE, sep = \",\"))\n",
    "# michi_bk_bl_gn_yl <- oceColorsClosure(read.table(\"/home/michi/Software/viscm/maps/michi_bk_rd_yl_4.rgb.txt\", header=FALSE, sep = \",\"))\n",
    "# michi_wt_rd_2 <- oceColorsClosure(read.table(\"/home/michi/Software/viscm/maps/michi_wt_rd_2.rgb.txt\", header=FALSE, sep = \",\"))\n",
    "# michi_wt_rd_3 <- oceColorsClosure(read.table(\"/home/michi/Software/viscm/maps/michi_wt_rd_3.rgb.txt\", header=FALSE, sep = \",\"))\n",
    "\n",
    "#Set theme for plotting\n",
    "##########################################\n",
    "#theme_set(theme_bw())\n",
    "theme_set(theme_cowplot())\n",
    "\n",
    "# Borders around cowplots:\n",
    "currentTheme <- theme_get()\n",
    "currentTheme <- theme_replace(aspect.ratio = 1,\n",
    "                              panel.border = element_rect(colour = \"black\", size = 0.75, fill = NA),\n",
    "                              rect = element_rect(colour = \"black\", size = 0.5, linetype = 1, fill = \"transparent\"),\n",
    "                              panel.background = element_rect(colour = \"black\", size = 0.5))\n",
    "currentTheme <- theme_update(plot.title = element_text(hjust = 0.5))\n",
    "\n",
    "library(future)\n",
    "plan(\"multicore\", workers=64)\n",
    "options(future.globals.maxSize = 100 * 1024 ^ 3) # for 50 Gb RAM\n",
    "\n",
    "source(\"~/Scripts/R-Functions.R\")\n",
    "\n",
    "# Parallelization\n",
    "library(BiocParallel)\n",
    "register(MulticoreParam(64, progressbar = TRUE))\n",
    "\n",
    "set.seed(1234)"
   ]
  },
  {
   "cell_type": "markdown",
   "id": "cb06c2f7",
   "metadata": {},
   "source": [
    "# Prepare Annotations & Genome"
   ]
  },
  {
   "cell_type": "code",
   "execution_count": null,
   "id": "4c6a39f7",
   "metadata": {
    "lines_to_next_cell": 0
   },
   "outputs": [],
   "source": [
    "# extract gene annotations from EnsDb\n",
    "annotations <- GetGRangesFromEnsDb(ensdb = EnsDb.Mmusculus.v102)\n",
    "\n",
    "# rename chromosome names to match cellranger output\n",
    "BSgenome.Mmusculus.UCSC.mm10.renamed <- renameSeqlevels(BSgenome.Mmusculus.UCSC.mm10, value = str_replace(str_replace(seqnames(BSgenome.Mmusculus.UCSC.mm10), pattern = \"chr\", replacement = \"\"), pattern = \"M\", replacement = \"MT\"))"
   ]
  },
  {
   "cell_type": "markdown",
   "id": "143a3e54",
   "metadata": {},
   "source": []
  },
  {
   "cell_type": "markdown",
   "id": "034450cf",
   "metadata": {},
   "source": [
    "# Load Data & Concatenate Samples"
   ]
  },
  {
   "cell_type": "code",
   "execution_count": null,
   "id": "c16543c8",
   "metadata": {},
   "outputs": [],
   "source": [
    "# read preprocessed data\n",
    "samples <- c(\"E14-5\",\"E15-5\")\n",
    "seurat_list <- list()\n",
    "\n",
    "for (sample in samples){\n",
    "  seurat_list[[sample]] <- readRDS(paste0(\"/storage/scRNA-seq/scMultiome_Mouse-Islets_NVF-E14.5_210044/data/cr_arc/cr_count/\", sample, \"/outs/\", sample, \"_raw_feature_bc_matrix_filtered_seurat_markedDoublets.rds\"))\n",
    "  print(seurat_list[[sample]])\n",
    "  seurat_list[[sample]] <- subset(seurat_list[[sample]], subset= final_doublets, invert=TRUE)\n",
    "  print(seurat_list[[sample]])\n",
    "}\n",
    "\n",
    "seurat <- merge(seurat_list[[1]], y=c(seurat_list[[2]]), add.cell.ids = c(\"E14-5\", \"E15-5\"), project = \"NVF\")\n",
    "#seurat <- seurat_list[[1]]"
   ]
  },
  {
   "cell_type": "code",
   "execution_count": null,
   "id": "b67da0ef",
   "metadata": {},
   "outputs": [],
   "source": [
    "saveRDS(seurat, \"/home/michi/Projects/scMultiome_NVF_Mouse-Pancreas-Development_E14.5_Notebooks/Files/E14-E15_adata_filtered_rmDoublets_seurat.rds\")\n",
    "saveRDS(seurat_list, \"/home/michi/Projects/scMultiome_NVF_Mouse-Pancreas-Development_E14.5_Notebooks/Files/E14-E15_adata_filtered_rmDoublets_list_seurat.rds\")"
   ]
  },
  {
   "cell_type": "code",
   "execution_count": null,
   "id": "9ce85384",
   "metadata": {
    "lines_to_next_cell": 0
   },
   "outputs": [],
   "source": [
    "# bed$V1 <- substring(bed$V1, 4)\n",
    "\n",
    "# Read blacklist file\n",
    "blacklist.BED <- read.delim(\"/home/michi/Genomes/mm10/mm10-blacklist.v2.bed\", header = FALSE, stringsAsFactors = FALSE)\n",
    "names(blacklist.BED) <- c(\"Chr\", \"Start\", \"End\", \"Type\")\n",
    "blacklist.BED$Chr <- substring(blacklist.BED$Chr, 4)\n",
    "blacklist.BED$Strand <- \"*\"\n",
    "blacklist.ranges <- makeGRangesFromDataFrame(df = blacklist.BED, seqnames.field = \"Chr\", start.field = \"Start\", end.field = \"End\", keep.extra.columns = TRUE)\n"
   ]
  },
  {
   "cell_type": "markdown",
   "id": "65111c2d",
   "metadata": {},
   "source": [
    "# Joint Peak Calling"
   ]
  },
  {
   "cell_type": "code",
   "execution_count": null,
   "id": "68a084c9",
   "metadata": {},
   "outputs": [],
   "source": [
    "DefaultAssay(seurat) <- \"ATAC\"\n",
    "\n",
    "# call peaks using MACS2\n",
    "peaks <- CallPeaks(seurat, macs2.path = \"/home/michi/Software/venvs/scAnalysis_sc1.8_mu0.1.3_R4.1/bin/macs2\")\n",
    "\n",
    "# remove peaks on nonstandard chromosomes and in genomic blacklist regions\n",
    "peaks <- keepStandardChromosomes(peaks, pruning.mode = \"coarse\")\n",
    "peaks <- subsetByOverlaps(x = peaks, ranges = blacklist.ranges, invert = TRUE)\n",
    "\n",
    "# quantify counts in each peak\n",
    "macs2_counts <- FeatureMatrix(\n",
    "  fragments = Fragments(seurat),\n",
    "  features = peaks,\n",
    "  cells = colnames(seurat)\n",
    ")\n",
    "\n",
    "# create a new assay using the MACS2 peak set and add it to the Seurat object\n",
    "seurat[[\"peaks\"]] <- CreateChromatinAssay(\n",
    "  counts = macs2_counts,\n",
    "  fragments = Fragments(seurat),\n",
    "  annotation = annotations\n",
    ")\n",
    "\n",
    "saveRDS(seurat, \"/home/michi/Projects/scMultiome_NVF_Mouse-Pancreas-Development_E14.5_Notebooks/Files/E14-E15_adata_filtered_rmDoublets_seurat_jointPeaks.rds\")"
   ]
  },
  {
   "cell_type": "code",
   "execution_count": null,
   "id": "e07fda21",
   "metadata": {},
   "outputs": [],
   "source": [
    "# export peak count matrix\n",
    "HDF5Array::writeTENxMatrix(x = macs2_counts, file=\"/home/michi/Projects/scMultiome_NVF_Mouse-Pancreas-Development_E14.5_Notebooks/Files/E14-E15_adata_filtered_rmDoublets_seurat_jointPeaks_peaks_count_matrix.h5\")\n",
    "write.table(x = rownames(macs2_counts), file = \"/home/michi/Projects/scMultiome_NVF_Mouse-Pancreas-Development_E14.5_Notebooks/Files/E14-E15_adata_filtered_rmDoublets_seurat_jointPeaks_peaks_count_matrix_features.txt\", col.names = FALSE, row.names = FALSE)\n",
    "write.table(x = colnames(macs2_counts), file = \"/home/michi/Projects/scMultiome_NVF_Mouse-Pancreas-Development_E14.5_Notebooks/Files/E14-E15_adata_filtered_rmDoublets_seurat_jointPeaks_peaks_count_matrix_barcodes.txt\", col.names = FALSE, row.names = FALSE)"
   ]
  },
  {
   "cell_type": "code",
   "execution_count": null,
   "id": "97f15015",
   "metadata": {
    "lines_to_next_cell": 0
   },
   "outputs": [],
   "source": [
    "sessionInfo()"
   ]
  },
  {
   "cell_type": "markdown",
   "id": "99725a0d",
   "metadata": {},
   "source": [
    "\n",
    "\n",
    "\n",
    "\n"
   ]
  }
 ],
 "metadata": {
  "jupytext": {
   "cell_metadata_filter": "-all",
   "main_language": "R",
   "notebook_metadata_filter": "-all"
  },
  "kernelspec": {
   "display_name": "mm_best_muon_full",
   "language": "python",
   "name": "mm_best_muon_full"
  },
  "language_info": {
   "codemirror_mode": {
    "name": "ipython",
    "version": 3
   },
   "file_extension": ".py",
   "mimetype": "text/x-python",
   "name": "python",
   "nbconvert_exporter": "python",
   "pygments_lexer": "ipython3",
   "version": "3.9.13"
  }
 },
 "nbformat": 4,
 "nbformat_minor": 5
}
