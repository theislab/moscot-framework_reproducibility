{
 "cells": [
  {
   "cell_type": "code",
   "execution_count": 2,
   "id": "bf90a84c-983c-4e8a-9adf-5ddaa324cf45",
   "metadata": {},
   "outputs": [
    {
     "name": "stdout",
     "output_type": "stream",
     "text": [
      "0 b'1\\t3000053\\t3000225\\tACTCGCTTCAGGGCCT-2\\t1\\n'\n",
      "1 b'1\\t3000086\\t3000294\\tTAGTAGGAGGTTTGAC-4\\t1\\n'\n",
      "2 b'1\\t3000135\\t3000223\\tAGTGAGTCAAGGTACG-2\\t1\\n'\n",
      "3 b'1\\t3000137\\t3000225\\tTGTGTTAAGCGATACT-2\\t1\\n'\n",
      "4 b'1\\t3000139\\t3000207\\tACTTATCTCGTCCTTA-2\\t1\\n'\n",
      "5 b'1\\t3000302\\t3000490\\tATGCATTCAACAGCCT-2\\t3\\n'\n",
      "6 b'1\\t3000395\\t3000630\\tTTTCACCCACTAAATC-2\\t2\\n'\n",
      "7 b'1\\t3000438\\t3000587\\tGATTGTTCAAGTAAGC-2\\t1\\n'\n",
      "8 b'1\\t3000438\\t3000604\\tACGTTACAGTGGCGGA-2\\t4\\n'\n",
      "9 b'1\\t3000519\\t3000611\\tGGACGGATCCTCAGCT-2\\t1\\n'\n"
     ]
    }
   ],
   "source": [
    "import gzip\n",
    "\n",
    "with gzip.open('/Users/dominik.klein/data/outs/atac_fragments.tsv.gz', 'rb') as f:\n",
    "    for i in range(10):\n",
    "        line = f.readline()\n",
    "        print(i, line)"
   ]
  },
  {
   "cell_type": "code",
   "execution_count": 3,
   "id": "8dafbafe-52e8-4d1b-a080-f3be28bf9d73",
   "metadata": {},
   "outputs": [],
   "source": [
    "import scanpy as sc"
   ]
  },
  {
   "cell_type": "code",
   "execution_count": 4,
   "id": "758d330e-67bc-4011-9ccc-285f616add35",
   "metadata": {},
   "outputs": [
    {
     "ename": "TypeError",
     "evalue": "__init__() got an unexpected keyword argument 'matrix'",
     "output_type": "error",
     "traceback": [
      "\u001b[0;31m---------------------------------------------------------------------------\u001b[0m",
      "\u001b[0;31mTypeError\u001b[0m                                 Traceback (most recent call last)",
      "Input \u001b[0;32mIn [4]\u001b[0m, in \u001b[0;36m<cell line: 1>\u001b[0;34m()\u001b[0m\n\u001b[0;32m----> 1\u001b[0m adata \u001b[38;5;241m=\u001b[39m \u001b[43msc\u001b[49m\u001b[38;5;241;43m.\u001b[39;49m\u001b[43mread\u001b[49m\u001b[43m(\u001b[49m\u001b[38;5;124;43m\"\u001b[39;49m\u001b[38;5;124;43m/Users/dominik.klein/data/outs/raw_feature_bc_matrix.h5\u001b[39;49m\u001b[38;5;124;43m\"\u001b[39;49m\u001b[43m)\u001b[49m\n",
      "File \u001b[0;32m~/opt/anaconda3/envs/mm_best_muon_full/lib/python3.9/site-packages/scanpy/readwrite.py:112\u001b[0m, in \u001b[0;36mread\u001b[0;34m(filename, backed, sheet, ext, delimiter, first_column_names, backup_url, cache, cache_compression, **kwargs)\u001b[0m\n\u001b[1;32m    110\u001b[0m filename \u001b[38;5;241m=\u001b[39m Path(filename)  \u001b[38;5;66;03m# allow passing strings\u001b[39;00m\n\u001b[1;32m    111\u001b[0m \u001b[38;5;28;01mif\u001b[39;00m is_valid_filename(filename):\n\u001b[0;32m--> 112\u001b[0m     \u001b[38;5;28;01mreturn\u001b[39;00m \u001b[43m_read\u001b[49m\u001b[43m(\u001b[49m\n\u001b[1;32m    113\u001b[0m \u001b[43m        \u001b[49m\u001b[43mfilename\u001b[49m\u001b[43m,\u001b[49m\n\u001b[1;32m    114\u001b[0m \u001b[43m        \u001b[49m\u001b[43mbacked\u001b[49m\u001b[38;5;241;43m=\u001b[39;49m\u001b[43mbacked\u001b[49m\u001b[43m,\u001b[49m\n\u001b[1;32m    115\u001b[0m \u001b[43m        \u001b[49m\u001b[43msheet\u001b[49m\u001b[38;5;241;43m=\u001b[39;49m\u001b[43msheet\u001b[49m\u001b[43m,\u001b[49m\n\u001b[1;32m    116\u001b[0m \u001b[43m        \u001b[49m\u001b[43mext\u001b[49m\u001b[38;5;241;43m=\u001b[39;49m\u001b[43mext\u001b[49m\u001b[43m,\u001b[49m\n\u001b[1;32m    117\u001b[0m \u001b[43m        \u001b[49m\u001b[43mdelimiter\u001b[49m\u001b[38;5;241;43m=\u001b[39;49m\u001b[43mdelimiter\u001b[49m\u001b[43m,\u001b[49m\n\u001b[1;32m    118\u001b[0m \u001b[43m        \u001b[49m\u001b[43mfirst_column_names\u001b[49m\u001b[38;5;241;43m=\u001b[39;49m\u001b[43mfirst_column_names\u001b[49m\u001b[43m,\u001b[49m\n\u001b[1;32m    119\u001b[0m \u001b[43m        \u001b[49m\u001b[43mbackup_url\u001b[49m\u001b[38;5;241;43m=\u001b[39;49m\u001b[43mbackup_url\u001b[49m\u001b[43m,\u001b[49m\n\u001b[1;32m    120\u001b[0m \u001b[43m        \u001b[49m\u001b[43mcache\u001b[49m\u001b[38;5;241;43m=\u001b[39;49m\u001b[43mcache\u001b[49m\u001b[43m,\u001b[49m\n\u001b[1;32m    121\u001b[0m \u001b[43m        \u001b[49m\u001b[43mcache_compression\u001b[49m\u001b[38;5;241;43m=\u001b[39;49m\u001b[43mcache_compression\u001b[49m\u001b[43m,\u001b[49m\n\u001b[1;32m    122\u001b[0m \u001b[43m        \u001b[49m\u001b[38;5;241;43m*\u001b[39;49m\u001b[38;5;241;43m*\u001b[39;49m\u001b[43mkwargs\u001b[49m\u001b[43m,\u001b[49m\n\u001b[1;32m    123\u001b[0m \u001b[43m    \u001b[49m\u001b[43m)\u001b[49m\n\u001b[1;32m    124\u001b[0m \u001b[38;5;66;03m# generate filename and read to dict\u001b[39;00m\n\u001b[1;32m    125\u001b[0m filekey \u001b[38;5;241m=\u001b[39m \u001b[38;5;28mstr\u001b[39m(filename)\n",
      "File \u001b[0;32m~/opt/anaconda3/envs/mm_best_muon_full/lib/python3.9/site-packages/scanpy/readwrite.py:722\u001b[0m, in \u001b[0;36m_read\u001b[0;34m(filename, backed, sheet, ext, delimiter, first_column_names, backup_url, cache, cache_compression, suppress_cache_warning, **kwargs)\u001b[0m\n\u001b[1;32m    720\u001b[0m \u001b[38;5;28;01mif\u001b[39;00m ext \u001b[38;5;129;01min\u001b[39;00m {\u001b[38;5;124m'\u001b[39m\u001b[38;5;124mh5\u001b[39m\u001b[38;5;124m'\u001b[39m, \u001b[38;5;124m'\u001b[39m\u001b[38;5;124mh5ad\u001b[39m\u001b[38;5;124m'\u001b[39m}:\n\u001b[1;32m    721\u001b[0m     \u001b[38;5;28;01mif\u001b[39;00m sheet \u001b[38;5;129;01mis\u001b[39;00m \u001b[38;5;28;01mNone\u001b[39;00m:\n\u001b[0;32m--> 722\u001b[0m         \u001b[38;5;28;01mreturn\u001b[39;00m \u001b[43mread_h5ad\u001b[49m\u001b[43m(\u001b[49m\u001b[43mfilename\u001b[49m\u001b[43m,\u001b[49m\u001b[43m \u001b[49m\u001b[43mbacked\u001b[49m\u001b[38;5;241;43m=\u001b[39;49m\u001b[43mbacked\u001b[49m\u001b[43m)\u001b[49m\n\u001b[1;32m    723\u001b[0m     \u001b[38;5;28;01melse\u001b[39;00m:\n\u001b[1;32m    724\u001b[0m         logg\u001b[38;5;241m.\u001b[39mdebug(\u001b[38;5;124mf\u001b[39m\u001b[38;5;124m'\u001b[39m\u001b[38;5;124mreading sheet \u001b[39m\u001b[38;5;132;01m{\u001b[39;00msheet\u001b[38;5;132;01m}\u001b[39;00m\u001b[38;5;124m from file \u001b[39m\u001b[38;5;132;01m{\u001b[39;00mfilename\u001b[38;5;132;01m}\u001b[39;00m\u001b[38;5;124m'\u001b[39m)\n",
      "File \u001b[0;32m~/opt/anaconda3/envs/mm_best_muon_full/lib/python3.9/site-packages/anndata/_io/h5ad.py:254\u001b[0m, in \u001b[0;36mread_h5ad\u001b[0;34m(filename, backed, as_sparse, as_sparse_fmt, chunk_size)\u001b[0m\n\u001b[1;32m    250\u001b[0m         \u001b[38;5;28;01mraise\u001b[39;00m \u001b[38;5;167;01mValueError\u001b[39;00m()\n\u001b[1;32m    252\u001b[0m _clean_uns(d)  \u001b[38;5;66;03m# backwards compat\u001b[39;00m\n\u001b[0;32m--> 254\u001b[0m \u001b[38;5;28;01mreturn\u001b[39;00m \u001b[43mAnnData\u001b[49m\u001b[43m(\u001b[49m\u001b[38;5;241;43m*\u001b[39;49m\u001b[38;5;241;43m*\u001b[39;49m\u001b[43md\u001b[49m\u001b[43m)\u001b[49m\n",
      "\u001b[0;31mTypeError\u001b[0m: __init__() got an unexpected keyword argument 'matrix'"
     ]
    }
   ],
   "source": [
    "adata = sc.read(\"/Users/dominik.klein/data/outs/raw_feature_bc_matrix.h5\")"
   ]
  },
  {
   "cell_type": "code",
   "execution_count": 9,
   "id": "41c0bd3f-f2d7-4f2e-a5f3-3ddce329b754",
   "metadata": {},
   "outputs": [],
   "source": [
    "import pysam\n",
    "from scipy.sparse import lil_matrix"
   ]
  },
  {
   "cell_type": "code",
   "execution_count": 13,
   "id": "b69ebc50-e080-404c-8f4b-27f07dd85c68",
   "metadata": {},
   "outputs": [],
   "source": [
    "n_features=100\n",
    "n = 100"
   ]
  },
  {
   "cell_type": "code",
   "execution_count": 16,
   "id": "c87fc002-684c-4eeb-9ae2-38aa4a6eb9f2",
   "metadata": {},
   "outputs": [
    {
     "name": "stderr",
     "output_type": "stream",
     "text": [
      "[W::hts_idx_load3] The index file is older than the data file: /Users/dominik.klein/data/outs/atac_fragments.tsv.gz.tbi\n"
     ]
    },
    {
     "ename": "NameError",
     "evalue": "name 'features' is not defined",
     "output_type": "error",
     "traceback": [
      "\u001b[0;31m---------------------------------------------------------------------------\u001b[0m",
      "\u001b[0;31mNameError\u001b[0m                                 Traceback (most recent call last)",
      "Input \u001b[0;32mIn [16]\u001b[0m, in \u001b[0;36m<cell line: 7>\u001b[0;34m()\u001b[0m\n\u001b[1;32m      4\u001b[0m mx \u001b[38;5;241m=\u001b[39m lil_matrix((n_features, n), dtype\u001b[38;5;241m=\u001b[39m\u001b[38;5;28mint\u001b[39m)\n\u001b[1;32m      7\u001b[0m \u001b[38;5;28;01mfor\u001b[39;00m i \u001b[38;5;129;01min\u001b[39;00m \u001b[38;5;28mrange\u001b[39m(n_features):  \u001b[38;5;66;03m# iterate over features (e.g. genes)\u001b[39;00m\n\u001b[0;32m----> 8\u001b[0m     f \u001b[38;5;241m=\u001b[39m \u001b[43mfeatures\u001b[49m\u001b[38;5;241m.\u001b[39miloc[i]\n\u001b[1;32m      9\u001b[0m     \u001b[38;5;28;01mfor\u001b[39;00m fr \u001b[38;5;129;01min\u001b[39;00m fragments\u001b[38;5;241m.\u001b[39mfetch(\n\u001b[1;32m     10\u001b[0m         f\u001b[38;5;241m.\u001b[39mChromosome, f\u001b[38;5;241m.\u001b[39mStart \u001b[38;5;241m-\u001b[39m extend_upstream, f\u001b[38;5;241m.\u001b[39mEnd \u001b[38;5;241m+\u001b[39m extend_downstream\n\u001b[1;32m     11\u001b[0m     ):\n\u001b[1;32m     12\u001b[0m         \u001b[38;5;28;01mtry\u001b[39;00m:\n",
      "\u001b[0;31mNameError\u001b[0m: name 'features' is not defined"
     ]
    }
   ],
   "source": [
    "fragments = pysam.TabixFile('/Users/dominik.klein/data/outs/atac_fragments.tsv.gz', parser=pysam.asBed())\n",
    "\n",
    "# List of lists matrix is quick and convenient to fill by row\n",
    "mx = lil_matrix((n_features, n), dtype=int)\n",
    "\n",
    "\n",
    "for i in range(n_features):  # iterate over features (e.g. genes)\n",
    "    f = features.iloc[i]\n",
    "    for fr in fragments.fetch(\n",
    "        f.Chromosome, f.Start - extend_upstream, f.End + extend_downstream\n",
    "    ):\n",
    "        try:\n",
    "            ind = d[fr.name]  # cell barcode (e.g. GTCAGTCAGTCAGTCA-1)\n",
    "            mx.rows[i].append(ind)\n",
    "            mx.data[i].append(int(fr.score))  # number of cuts per fragment (e.g. 2)\n",
    "        except:\n",
    "            pass\n",
    "\n",
    "# Faster to convert to csr first and then transpose\n",
    "mx = mx.tocsr().transpose()\n",
    "\n",
    "adata = AnnData(X=mx, obs=adata.obs, var=features)"
   ]
  },
  {
   "cell_type": "code",
   "execution_count": 17,
   "id": "bafbf5d4-654a-471d-9313-d9ec4f046a45",
   "metadata": {},
   "outputs": [
    {
     "data": {
      "text/plain": [
       "<pysam.libctabix.TabixFile at 0x1960fc940>"
      ]
     },
     "execution_count": 17,
     "metadata": {},
     "output_type": "execute_result"
    }
   ],
   "source": [
    "fragments"
   ]
  },
  {
   "cell_type": "code",
   "execution_count": null,
   "id": "b6f4e65c-bbed-490b-a4f2-8ec8dc396828",
   "metadata": {},
   "outputs": [],
   "source": []
  }
 ],
 "metadata": {
  "kernelspec": {
   "display_name": "Python 3 (ipykernel)",
   "language": "python",
   "name": "python3"
  },
  "language_info": {
   "codemirror_mode": {
    "name": "ipython",
    "version": 3
   },
   "file_extension": ".py",
   "mimetype": "text/x-python",
   "name": "python",
   "nbconvert_exporter": "python",
   "pygments_lexer": "ipython3",
   "version": "3.9.13"
  }
 },
 "nbformat": 4,
 "nbformat_minor": 5
}
