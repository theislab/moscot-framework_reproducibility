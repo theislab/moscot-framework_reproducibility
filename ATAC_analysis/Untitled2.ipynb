{
 "cells": [
  {
   "cell_type": "code",
   "execution_count": 4,
   "id": "f41b500c",
   "metadata": {},
   "outputs": [
    {
     "name": "stderr",
     "output_type": "stream",
     "text": [
      "Downloading GitHub repo quadbiolab/Pando@HEAD\n",
      "\n"
     ]
    },
    {
     "name": "stdout",
     "output_type": "stream",
     "text": [
      "restfulr     (NA    -> 0.0.15    ) [CRAN]\n",
      "XML          (NA    -> 3.99-0.13 ) [CRAN]\n",
      "annotate     (NA    -> 1.72.0    ) [CRAN]\n",
      "rtracklayer  (NA    -> 1.54.0    ) [CRAN]\n",
      "RcppArmad... (NA    -> 0.11.4.2.1) [CRAN]\n",
      "igraph       (NA    -> 1.3.5     ) [CRAN]\n",
      "purrr        (0.3.5 -> 1.0.0     ) [CRAN]\n",
      "polyclip     (NA    -> 1.10-4    ) [CRAN]\n",
      "httpuv       (1.6.6 -> 1.6.7     ) [CRAN]\n",
      "RcppParallel (NA    -> 5.1.5     ) [CRAN]\n",
      "StanHeaders  (NA    -> 2.21.0-7  ) [CRAN]\n",
      "threejs      (NA    -> 0.3.3     ) [CRAN]\n",
      "rstan        (NA    -> 2.21.7    ) [CRAN]\n",
      "CNEr         (NA    -> 1.30.0    ) [CRAN]\n",
      "BSgenome     (NA    -> 1.62.0    ) [CRAN]\n",
      "spatstat.... (NA    -> 3.0-1     ) [CRAN]\n",
      "spatstat.... (NA    -> 3.0-3     ) [CRAN]\n",
      "graphlayouts (NA    -> 0.8.4     ) [CRAN]\n",
      "tidygraph    (NA    -> 1.2.2     ) [CRAN]\n",
      "ggforce      (NA    -> 0.4.1     ) [CRAN]\n",
      "shinystan    (NA    -> 2.6.0     ) [CRAN]\n",
      "rstantools   (NA    -> 2.2.0     ) [CRAN]\n",
      "TFBSTools    (NA    -> 1.32.0    ) [CRAN]\n",
      "spatstat.... (NA    -> 3.0-5     ) [CRAN]\n",
      "sctransform  (NA    -> 0.3.5     ) [CRAN]\n",
      "leiden       (NA    -> 0.4.3     ) [CRAN]\n",
      "ggraph       (NA    -> 2.1.0     ) [CRAN]\n",
      "brms         (NA    -> 2.18.0    ) [CRAN]\n",
      "xgboost      (NA    -> 1.6.0.1   ) [CRAN]\n",
      "motifmatchr  (NA    -> 1.16.0    ) [CRAN]\n",
      "Seurat       (NA    -> 4.3.0     ) [CRAN]\n"
     ]
    },
    {
     "name": "stderr",
     "output_type": "stream",
     "text": [
      "Installing 31 packages: restfulr, XML, annotate, rtracklayer, RcppArmadillo, igraph, purrr, polyclip, httpuv, RcppParallel, StanHeaders, threejs, rstan, CNEr, BSgenome, spatstat.random, spatstat.geom, graphlayouts, tidygraph, ggforce, shinystan, rstantools, TFBSTools, spatstat.explore, sctransform, leiden, ggraph, brms, xgboost, motifmatchr, Seurat\n",
      "\n",
      "Warning message in i.p(...):\n",
      "\"installation of package 'XML' had non-zero exit status\"\n",
      "Warning message in i.p(...):\n",
      "\"installation of package 'RcppArmadillo' had non-zero exit status\"\n",
      "Warning message in i.p(...):\n",
      "\"installation of package 'igraph' had non-zero exit status\"\n",
      "Warning message in i.p(...):\n",
      "\"installation of package 'purrr' had non-zero exit status\"\n",
      "Warning message in i.p(...):\n",
      "\"installation of package 'polyclip' had non-zero exit status\"\n",
      "Warning message in i.p(...):\n",
      "\"installation of package 'httpuv' had non-zero exit status\"\n",
      "Warning message in i.p(...):\n",
      "\"installation of package 'RcppParallel' had non-zero exit status\"\n",
      "Warning message in i.p(...):\n",
      "\"installation of package 'xgboost' had non-zero exit status\"\n",
      "Warning message in i.p(...):\n",
      "\"installation of package 'restfulr' had non-zero exit status\"\n",
      "Warning message in i.p(...):\n",
      "\"installation of package 'annotate' had non-zero exit status\"\n",
      "Warning message in i.p(...):\n",
      "\"installation of package 'StanHeaders' had non-zero exit status\"\n",
      "Warning message in i.p(...):\n",
      "\"installation of package 'threejs' had non-zero exit status\"\n",
      "Warning message in i.p(...):\n",
      "\"installation of package 'spatstat.geom' had non-zero exit status\"\n",
      "Warning message in i.p(...):\n",
      "\"installation of package 'graphlayouts' had non-zero exit status\"\n",
      "Warning message in i.p(...):\n",
      "\"installation of package 'tidygraph' had non-zero exit status\"\n",
      "Warning message in i.p(...):\n",
      "\"installation of package 'ggforce' had non-zero exit status\"\n",
      "Warning message in i.p(...):\n",
      "\"installation of package 'rstantools' had non-zero exit status\"\n",
      "Warning message in i.p(...):\n",
      "\"installation of package 'sctransform' had non-zero exit status\"\n",
      "Warning message in i.p(...):\n",
      "\"installation of package 'leiden' had non-zero exit status\"\n",
      "Warning message in i.p(...):\n",
      "\"installation of package 'rtracklayer' had non-zero exit status\"\n",
      "Warning message in i.p(...):\n",
      "\"installation of package 'rstan' had non-zero exit status\"\n",
      "Warning message in i.p(...):\n",
      "\"installation of package 'spatstat.random' had non-zero exit status\"\n",
      "Warning message in i.p(...):\n",
      "\"installation of package 'ggraph' had non-zero exit status\"\n",
      "Warning message in i.p(...):\n",
      "\"installation of package 'CNEr' had non-zero exit status\"\n",
      "Warning message in i.p(...):\n",
      "\"installation of package 'BSgenome' had non-zero exit status\"\n",
      "Warning message in i.p(...):\n",
      "\"installation of package 'shinystan' had non-zero exit status\"\n",
      "Warning message in i.p(...):\n",
      "\"installation of package 'spatstat.explore' had non-zero exit status\"\n",
      "Warning message in i.p(...):\n",
      "\"installation of package 'TFBSTools' had non-zero exit status\"\n",
      "Warning message in i.p(...):\n",
      "\"installation of package 'brms' had non-zero exit status\"\n",
      "Warning message in i.p(...):\n",
      "\"installation of package 'Seurat' had non-zero exit status\"\n",
      "Warning message in i.p(...):\n",
      "\"installation of package 'motifmatchr' had non-zero exit status\"\n",
      "Updating HTML index of packages in '.Library'\n",
      "\n",
      "Making 'packages.html' ...\n",
      " done\n",
      "\n"
     ]
    },
    {
     "name": "stdout",
     "output_type": "stream",
     "text": [
      "\u001b[36m--\u001b[39m \u001b[36mR CMD build\u001b[39m \u001b[36m---------------------------------------------------------------------------------------------------\u001b[39m\n",
      "   During startup - Warning message:\n",
      "   Setting LC_CTYPE failed, using \"C\" \n",
      "\u001b[32mv\u001b[39m  \u001b[90mchecking for file '/tmp/RtmpM8l6k9/remotes3653457099477/quadbiolab-Pando-af09c63/DESCRIPTION'\u001b[39m\u001b[36m\u001b[39m\n",
      "\u001b[90m-\u001b[39m\u001b[90m  \u001b[39m\u001b[90mpreparing 'Pando':\u001b[39m\u001b[36m\u001b[39m\n",
      "\u001b[32mv\u001b[39m  \u001b[90mchecking DESCRIPTION meta-information\u001b[39m\u001b[36m\u001b[39m\n",
      "\u001b[90m-\u001b[39m\u001b[90m  \u001b[39m\u001b[90mchecking for LF line-endings in source and make files and shell scripts\u001b[39m\u001b[36m\u001b[39m\n",
      "\u001b[90m-\u001b[39m\u001b[90m  \u001b[39m\u001b[90mchecking for empty or unneeded directories\u001b[39m\u001b[36m\u001b[39m\n",
      "\u001b[90m-\u001b[39m\u001b[90m  \u001b[39m\u001b[90mbuilding 'Pando_1.0.2.tar.gz'\u001b[39m\u001b[36m\u001b[39m\n",
      "   Warning in sprintf(gettext(fmt, domain = domain), ...) :\n",
      "     one argument not used by format 'invalid uid value replaced by that for user 'nobody''\n",
      "   Warning: invalid uid value replaced by that for user 'nobody'\n",
      "   \n",
      "\r"
     ]
    },
    {
     "name": "stderr",
     "output_type": "stream",
     "text": [
      "Warning message in i.p(...):\n",
      "\"installation of package '/tmp/RtmpM8l6k9/file365341eb77151/Pando_1.0.2.tar.gz' had non-zero exit status\"\n"
     ]
    }
   ],
   "source": [
    "devtools::install_github('quadbiolab/Pando')"
   ]
  },
  {
   "cell_type": "code",
   "execution_count": 3,
   "id": "9da5fd95",
   "metadata": {},
   "outputs": [
    {
     "ename": "ERROR",
     "evalue": "Error in library(\"pando\"): there is no package called 'pando'\n",
     "output_type": "error",
     "traceback": [
      "Error in library(\"pando\"): there is no package called 'pando'\nTraceback:\n",
      "1. library(\"pando\")"
     ]
    }
   ],
   "source": [
    "library(\"pando\")"
   ]
  },
  {
   "cell_type": "code",
   "execution_count": null,
   "id": "0fa85563",
   "metadata": {},
   "outputs": [],
   "source": []
  }
 ],
 "metadata": {
  "kernelspec": {
   "display_name": "R",
   "language": "R",
   "name": "ir"
  },
  "language_info": {
   "codemirror_mode": "r",
   "file_extension": ".r",
   "mimetype": "text/x-r-source",
   "name": "R",
   "pygments_lexer": "r",
   "version": "4.1.3"
  }
 },
 "nbformat": 4,
 "nbformat_minor": 5
}
