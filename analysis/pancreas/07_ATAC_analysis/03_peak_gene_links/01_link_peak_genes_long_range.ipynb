{
 "cells": [
  {
   "cell_type": "code",
   "execution_count": 1,
   "id": "e0d77877-645c-422a-86f4-9734646ee668",
   "metadata": {},
   "outputs": [],
   "source": [
    "library(vctrs)\n",
    "library(stringr)"
   ]
  },
  {
   "cell_type": "code",
   "execution_count": 2,
   "id": "336a1ecf-e9ae-45d8-856f-3e46035c2613",
   "metadata": {},
   "outputs": [
    {
     "name": "stderr",
     "output_type": "stream",
     "text": [
      "Attaching SeuratObject\n",
      "\n",
      "── \u001b[1mAttaching packages\u001b[22m ─────────────────────────────────────────────────────────────── tidyverse 1.3.2 ──\n",
      "\u001b[32m✔\u001b[39m \u001b[34mtibble \u001b[39m 3.1.8      \u001b[32m✔\u001b[39m \u001b[34mpurrr  \u001b[39m 1.0.0 \n",
      "\u001b[32m✔\u001b[39m \u001b[34mtidyr  \u001b[39m 1.2.1      \u001b[32m✔\u001b[39m \u001b[34mdplyr  \u001b[39m 1.0.10\n",
      "\u001b[32m✔\u001b[39m \u001b[34mreadr  \u001b[39m 2.1.3      \u001b[32m✔\u001b[39m \u001b[34mforcats\u001b[39m 0.5.2 \n",
      "── \u001b[1mConflicts\u001b[22m ────────────────────────────────────────────────────────────────── tidyverse_conflicts() ──\n",
      "\u001b[31m✖\u001b[39m \u001b[34mdplyr\u001b[39m::\u001b[32mdata_frame()\u001b[39m masks \u001b[34mtibble\u001b[39m::data_frame(), \u001b[34mvctrs\u001b[39m::data_frame()\n",
      "\u001b[31m✖\u001b[39m \u001b[34mdplyr\u001b[39m::\u001b[32mfilter()\u001b[39m     masks \u001b[34mstats\u001b[39m::filter()\n",
      "\u001b[31m✖\u001b[39m \u001b[34mdplyr\u001b[39m::\u001b[32mlag()\u001b[39m        masks \u001b[34mstats\u001b[39m::lag()\n",
      "\u001b[31m✖\u001b[39m \u001b[34mreadr\u001b[39m::\u001b[32mread_csv()\u001b[39m   masks \u001b[34manndata\u001b[39m::read_csv()\n",
      "\u001b[31m✖\u001b[39m \u001b[34mpurrr\u001b[39m::\u001b[32mreduce()\u001b[39m     masks \u001b[34mSignac\u001b[39m::reduce()\n"
     ]
    }
   ],
   "source": [
    "library(anndata)\n",
    "library(Signac)\n",
    "library(Seurat)\n",
    "library(anndata)\n",
    "library(ggplot2)\n",
    "library(tidyverse)\n"
   ]
  },
  {
   "cell_type": "code",
   "execution_count": 3,
   "id": "efe96d2c-0826-431f-8c49-f88e194065fe",
   "metadata": {},
   "outputs": [],
   "source": [
    "data_dir = \"../..\"\n",
    "seurat <- readRDS(path.cat(data_dir, \"seurat_filtered.rds\"))"
   ]
  },
  {
   "cell_type": "code",
   "execution_count": 4,
   "id": "f055eadd-6f8a-4c1a-ab11-0c6e21e88529",
   "metadata": {},
   "outputs": [
    {
     "name": "stderr",
     "output_type": "stream",
     "text": [
      "Testing 17860 genes and 228235 peaks\n",
      "\n",
      "Found gene coordinates for 16350 genes\n",
      "\n",
      "as(<dgCMatrix>, \"dgTMatrix\") is deprecated since Matrix 1.5-0; do as(., \"TsparseMatrix\") instead\n",
      "\n"
     ]
    }
   ],
   "source": [
    "seurat <- LinkPeaks(\n",
    "  object = seurat,\n",
    "  peak.assay = \"ATAC_merged\",\n",
    "  expression.assay = \"RNA\",\n",
    "    distance = 1e+07,\n",
    ")"
   ]
  },
  {
   "cell_type": "code",
   "execution_count": 5,
   "id": "a4b1488e-b128-4031-817a-34c44c188c12",
   "metadata": {},
   "outputs": [],
   "source": [
    "saveRDS(seurat, file=path.cat(data_dir, \"seurat_filtered_with_links_long_range.rds\"))"
   ]
  },
  {
   "cell_type": "markdown",
   "id": "fe850c70-193d-4051-a86d-d3f2a9d0884f",
   "metadata": {},
   "source": [
    "Due to memory issues we load it here again"
   ]
  },
  {
   "cell_type": "code",
   "execution_count": 1,
   "id": "c552e3ae-2820-400a-9ef9-aa4daf3bca39",
   "metadata": {},
   "outputs": [],
   "source": [
    "seurat <- readRDS(path.cat(data_dir, \"seurat_filtered_with_links_long_range.rds\"))"
   ]
  },
  {
   "cell_type": "code",
   "execution_count": 2,
   "id": "91a7ba32-9afc-4353-a4f2-a92f299063a1",
   "metadata": {},
   "outputs": [
    {
     "name": "stderr",
     "output_type": "stream",
     "text": [
      "Lade nötiges Paket: SeuratObject\n",
      "\n",
      "Lade nötiges Paket: sp\n",
      "\n",
      "Lade nötiges Paket: Signac\n",
      "\n"
     ]
    },
    {
     "data": {
      "text/plain": [
       "An object of class Seurat \n",
       "475329 features across 9365 samples within 3 assays \n",
       "Active assay: ATAC_merged (228259 features, 228259 variable features)\n",
       " 2 other assays present: RNA, ATAC\n",
       " 1 dimensional reduction calculated: lsi"
      ]
     },
     "metadata": {},
     "output_type": "display_data"
    }
   ],
   "source": [
    "seurat"
   ]
  },
  {
   "cell_type": "code",
   "execution_count": 3,
   "id": "2d702611-f82e-4b64-acc8-e748d4c3388f",
   "metadata": {},
   "outputs": [
    {
     "data": {
      "text/plain": [
       "GRanges object with 178730 ranges and 5 metadata columns:\n",
       "           seqnames            ranges strand |      score        gene\n",
       "              <Rle>         <IRanges>  <Rle> |  <numeric> <character>\n",
       "       [1]        1   3361134-6487231      * |  0.0945307        St18\n",
       "       [2]        1   3388581-9299878      * |  0.0665771       Sntg1\n",
       "       [3]        1  3388581-10037987      * |  0.0553571       Cspp1\n",
       "       [4]        1  3388581-10232670      * |  0.0521205     Arfgef1\n",
       "       [5]        1   3477520-6487231      * | -0.0556314        St18\n",
       "       ...      ...               ...    ... .        ...         ...\n",
       "  [178726]        Y 90784738-90799322      * |  0.0667401     Gm47283\n",
       "  [178727]        Y 90784738-90803534      * |  0.0652607     Gm47283\n",
       "  [178728]        Y 90784738-90807679      * |  0.0571445     Gm47283\n",
       "  [178729]        Y 90784738-90808899      * |  0.0503883     Gm47283\n",
       "  [178730]        Y 90784738-90812832      * |  0.0802870     Gm47283\n",
       "                          peak    zscore      pvalue\n",
       "                   <character> <numeric>   <numeric>\n",
       "       [1]   1-3360686-3361582   2.93099 1.68940e-03\n",
       "       [2]   1-3388118-3389044   3.85900 5.69269e-05\n",
       "       [3]   1-3388118-3389044   2.89175 1.91549e-03\n",
       "       [4]   1-3388118-3389044   3.24388 5.89574e-04\n",
       "       [5]   1-3477065-3477975  -1.66053 4.84043e-02\n",
       "       ...                 ...       ...         ...\n",
       "  [178726] Y-90798887-90799756   6.59828 2.07972e-11\n",
       "  [178727] Y-90803113-90803955   6.93470 2.03544e-12\n",
       "  [178728] Y-90807280-90808077   5.57039 1.27088e-08\n",
       "  [178729] Y-90808486-90809311   5.87974 2.05456e-09\n",
       "  [178730] Y-90812396-90813268   8.05909 3.84330e-16\n",
       "  -------\n",
       "  seqinfo: 21 sequences from an unspecified genome; no seqlengths"
      ]
     },
     "metadata": {},
     "output_type": "display_data"
    }
   ],
   "source": [
    "Links(seurat)"
   ]
  },
  {
   "cell_type": "code",
   "execution_count": 5,
   "id": "63af2f7a-b158-442a-a998-d779622bfa5c",
   "metadata": {},
   "outputs": [],
   "source": [
    "markers_fev_delta <- read.csv(path.cat(data_dir, \"signac_marker_peak_analysis/diff_peaks_signac_fev_delta.csv\"))"
   ]
  },
  {
   "cell_type": "code",
   "execution_count": 6,
   "id": "fbedfed9-cf63-4636-b87f-f7c66d9058f1",
   "metadata": {},
   "outputs": [],
   "source": [
    "range <- markers_fev_delta$X[[1]]"
   ]
  },
  {
   "cell_type": "code",
   "execution_count": 7,
   "id": "d0f91fb5-1419-493d-92ff-cbfc9f6148f3",
   "metadata": {},
   "outputs": [
    {
     "data": {
      "text/html": [
       "'14-107586452-107587364'"
      ],
      "text/latex": [
       "'14-107586452-107587364'"
      ],
      "text/markdown": [
       "'14-107586452-107587364'"
      ],
      "text/plain": [
       "[1] \"14-107586452-107587364\""
      ]
     },
     "metadata": {},
     "output_type": "display_data"
    }
   ],
   "source": [
    "range"
   ]
  },
  {
   "cell_type": "code",
   "execution_count": 11,
   "id": "0fda21ff-0dfd-4af2-86e8-80e9591f8489",
   "metadata": {},
   "outputs": [
    {
     "data": {
      "text/plain": [
       "GRanges object with 2 ranges and 5 metadata columns:\n",
       "      seqnames              ranges strand |     score        gene\n",
       "         <Rle>           <IRanges>  <Rle> | <numeric> <character>\n",
       "  [1]       14 100284679-107586908      * | 0.0575380       Klf12\n",
       "  [2]       14 102982637-107586908      * | 0.0842945      Kctd12\n",
       "                        peak    zscore      pvalue\n",
       "                 <character> <numeric>   <numeric>\n",
       "  [1] 14-107586452-107587364   1.86700 0.030951050\n",
       "  [2] 14-107586452-107587364   3.67098 0.000120812\n",
       "  -------\n",
       "  seqinfo: 21 sequences from an unspecified genome; no seqlengths"
      ]
     },
     "metadata": {},
     "output_type": "display_data"
    }
   ],
   "source": [
    "Links(seurat)[Links(seurat)$peak==\"14-107586452-107587364\"]"
   ]
  },
  {
   "cell_type": "code",
   "execution_count": 12,
   "id": "999005b5-df2e-417a-ad91-8bbae9218a3c",
   "metadata": {},
   "outputs": [],
   "source": [
    "range <- markers_fev_delta$X[[2]]"
   ]
  },
  {
   "cell_type": "code",
   "execution_count": 13,
   "id": "79a3f922-5806-44b3-98ef-0e0d2fceb80d",
   "metadata": {},
   "outputs": [
    {
     "data": {
      "text/plain": [
       "GRanges object with 13 ranges and 5 metadata columns:\n",
       "       seqnames            ranges strand |      score        gene\n",
       "          <Rle>         <IRanges>  <Rle> |  <numeric> <character>\n",
       "   [1]       13 51846678-57889395      * | -0.0805884     Gadd45g\n",
       "   [2]       13 53286124-57889395      * | -0.0678605        Ror2\n",
       "   [3]       13 54371349-57889395      * |  0.0726682       Cplx2\n",
       "   [4]       13 55152640-57889395      * | -0.0601113       Fgfr4\n",
       "   [5]       13 55209782-57889395      * |  0.0586131        Nsd1\n",
       "   ...      ...               ...    ... .        ...         ...\n",
       "   [9]       13 57889395-58403343      * | -0.0651365      Hnrnpk\n",
       "  [10]       13 57889395-58610877      * | -0.0725173     Slc28a3\n",
       "  [11]       13 57889395-59585227      * |  0.0697843     Agtpbp1\n",
       "  [12]       13 57889395-64275290      * | -0.0863475      Cdc14b\n",
       "  [13]       13 57889395-64903955      * |  0.0512448     Cntnap3\n",
       "                       peak    zscore      pvalue\n",
       "                <character> <numeric>   <numeric>\n",
       "   [1] 13-57888916-57889874  -3.60339 0.000157049\n",
       "   [2] 13-57888916-57889874  -2.70813 0.003383148\n",
       "   [3] 13-57888916-57889874   3.49896 0.000233536\n",
       "   [4] 13-57888916-57889874  -3.25835 0.000560302\n",
       "   [5] 13-57888916-57889874   3.57526 0.000174942\n",
       "   ...                  ...       ...         ...\n",
       "   [9] 13-57888916-57889874  -4.22200 1.21074e-05\n",
       "  [10] 13-57888916-57889874  -2.75415 2.94223e-03\n",
       "  [11] 13-57888916-57889874   3.82527 6.53136e-05\n",
       "  [12] 13-57888916-57889874  -3.57882 1.72574e-04\n",
       "  [13] 13-57888916-57889874   4.88523 5.16542e-07\n",
       "  -------\n",
       "  seqinfo: 21 sequences from an unspecified genome; no seqlengths"
      ]
     },
     "metadata": {},
     "output_type": "display_data"
    }
   ],
   "source": [
    "Links(seurat)[Links(seurat)$peak==range]"
   ]
  },
  {
   "cell_type": "code",
   "execution_count": 14,
   "id": "f917d12d-7b71-4650-8e1e-86200891f1c1",
   "metadata": {},
   "outputs": [],
   "source": [
    "markers_eps_prog <- read.csv(path.cat(data_dir, \"signac_marker_peak_analysis/diff_peaks_signac_eps_prog.csv\"))\n"
   ]
  },
  {
   "cell_type": "code",
   "execution_count": 19,
   "id": "3d3f12f8-165b-44ec-95dc-9b4a9a7670ef",
   "metadata": {},
   "outputs": [],
   "source": [
    "range <- markers_eps_prog$X[[3]]"
   ]
  },
  {
   "cell_type": "code",
   "execution_count": 20,
   "id": "3b81a5d1-c9bf-4054-9c76-b0100015b8a6",
   "metadata": {},
   "outputs": [
    {
     "data": {
      "text/plain": [
       "GRanges object with 3 ranges and 5 metadata columns:\n",
       "      seqnames              ranges strand |     score        gene\n",
       "         <Rle>           <IRanges>  <Rle> | <numeric> <character>\n",
       "  [1]       13  96132577-102084836      * | 0.1148903        Sv2c\n",
       "  [2]       13 101768217-102084836      * | 0.0662023      Pik3r1\n",
       "  [3]       13 102084836-110280996      * | 0.0514769       Rab3c\n",
       "                        peak    zscore      pvalue\n",
       "                 <character> <numeric>   <numeric>\n",
       "  [1] 13-102084385-102085287   7.49879 3.22050e-14\n",
       "  [2] 13-102084385-102085287   3.73358 9.43886e-05\n",
       "  [3] 13-102084385-102085287   3.40984 3.25001e-04\n",
       "  -------\n",
       "  seqinfo: 21 sequences from an unspecified genome; no seqlengths"
      ]
     },
     "metadata": {},
     "output_type": "display_data"
    }
   ],
   "source": [
    "Links(seurat)[Links(seurat)$peak==range]"
   ]
  },
  {
   "cell_type": "code",
   "execution_count": 21,
   "id": "5c26ccde-fd1a-4583-8911-ff5da0116955",
   "metadata": {},
   "outputs": [],
   "source": [
    "eps_prog_moscot <- read.csv(path.cat(data_dir, \"driver_features/driver_eps_prog_peaks.csv\")"
   ]
  },
  {
   "cell_type": "code",
   "execution_count": 30,
   "id": "a2f78714-581c-4c11-8a9e-981cf78be65c",
   "metadata": {},
   "outputs": [],
   "source": [
    "range <- eps_prog_moscot$X[[5]]"
   ]
  },
  {
   "cell_type": "code",
   "execution_count": 31,
   "id": "50c3b024-cff5-40dc-8746-87ceac9f510e",
   "metadata": {},
   "outputs": [
    {
     "data": {
      "text/plain": [
       "GRanges object with 0 ranges and 5 metadata columns:\n",
       "   seqnames    ranges strand |     score        gene        peak    zscore\n",
       "      <Rle> <IRanges>  <Rle> | <numeric> <character> <character> <numeric>\n",
       "      pvalue\n",
       "   <numeric>\n",
       "  -------\n",
       "  seqinfo: 21 sequences from an unspecified genome; no seqlengths"
      ]
     },
     "metadata": {},
     "output_type": "display_data"
    }
   ],
   "source": [
    "Links(seurat)[Links(seurat)$peak==range]"
   ]
  },
  {
   "cell_type": "code",
   "execution_count": 32,
   "id": "16806478-26f2-4772-8aa7-74c1dda6a3a3",
   "metadata": {},
   "outputs": [],
   "source": [
    "fev_delta_moscot <- read.csv(path.cat(data_dir, \"driver_features/driver_eps_prog_peaks.csv\"))"
   ]
  },
  {
   "cell_type": "code",
   "execution_count": 43,
   "id": "a25aad67-5f29-4f5d-b9bf-086f6936c739",
   "metadata": {},
   "outputs": [],
   "source": [
    "range <- fev_delta_moscot$X[[6]]"
   ]
  },
  {
   "cell_type": "code",
   "execution_count": 44,
   "id": "ce18f538-e651-4954-b0f7-4a218f3b9b98",
   "metadata": {},
   "outputs": [
    {
     "data": {
      "text/plain": [
       "GRanges object with 2 ranges and 5 metadata columns:\n",
       "      seqnames            ranges strand |     score        gene\n",
       "         <Rle>         <IRanges>  <Rle> | <numeric> <character>\n",
       "  [1]       17 16437854-25175471      * | 0.0614206     Gm38655\n",
       "  [2]       17 16437854-25809085      * | 0.0524693      Fbxl16\n",
       "                      peak    zscore      pvalue\n",
       "               <character> <numeric>   <numeric>\n",
       "  [1] 17-16437424-16438283   5.00635 2.77352e-07\n",
       "  [2] 17-16437424-16438283   3.52395 2.12580e-04\n",
       "  -------\n",
       "  seqinfo: 21 sequences from an unspecified genome; no seqlengths"
      ]
     },
     "metadata": {},
     "output_type": "display_data"
    }
   ],
   "source": [
    "Links(seurat)[Links(seurat)$peak==range]"
   ]
  }
 ],
 "metadata": {
  "kernelspec": {
   "display_name": "R",
   "language": "R",
   "name": "ir"
  },
  "language_info": {
   "codemirror_mode": "r",
   "file_extension": ".r",
   "mimetype": "text/x-r-source",
   "name": "R",
   "pygments_lexer": "r",
   "version": "4.2.2"
  }
 },
 "nbformat": 4,
 "nbformat_minor": 5
}
