{
 "cells": [
  {
   "cell_type": "code",
   "execution_count": 1,
   "id": "336a1ecf-e9ae-45d8-856f-3e46035c2613",
   "metadata": {},
   "outputs": [
    {
     "name": "stderr",
     "output_type": "stream",
     "text": [
      "Attaching SeuratObject\n",
      "\n",
      "── \u001b[1mAttaching packages\u001b[22m ─────────────────────────────────────── tidyverse 1.3.2 ──\n",
      "\u001b[32m✔\u001b[39m \u001b[34mtibble \u001b[39m 3.1.8      \u001b[32m✔\u001b[39m \u001b[34mdplyr  \u001b[39m 1.0.10\n",
      "\u001b[32m✔\u001b[39m \u001b[34mtidyr  \u001b[39m 1.2.1      \u001b[32m✔\u001b[39m \u001b[34mstringr\u001b[39m 1.4.0 \n",
      "\u001b[32m✔\u001b[39m \u001b[34mreadr  \u001b[39m 2.1.3      \u001b[32m✔\u001b[39m \u001b[34mforcats\u001b[39m 0.5.2 \n",
      "\u001b[32m✔\u001b[39m \u001b[34mpurrr  \u001b[39m 1.0.0      \n",
      "── \u001b[1mConflicts\u001b[22m ────────────────────────────────────────── tidyverse_conflicts() ──\n",
      "\u001b[31m✖\u001b[39m \u001b[34mdplyr\u001b[39m::\u001b[32mfilter()\u001b[39m   masks \u001b[34mstats\u001b[39m::filter()\n",
      "\u001b[31m✖\u001b[39m \u001b[34mdplyr\u001b[39m::\u001b[32mlag()\u001b[39m      masks \u001b[34mstats\u001b[39m::lag()\n",
      "\u001b[31m✖\u001b[39m \u001b[34mreadr\u001b[39m::\u001b[32mread_csv()\u001b[39m masks \u001b[34manndata\u001b[39m::read_csv()\n",
      "\u001b[31m✖\u001b[39m \u001b[34mpurrr\u001b[39m::\u001b[32mreduce()\u001b[39m   masks \u001b[34mSignac\u001b[39m::reduce()\n"
     ]
    }
   ],
   "source": [
    "library(anndata)\n",
    "library(Signac)\n",
    "library(Seurat)\n",
    "library(ggplot2)\n",
    "library(tidyverse)\n"
   ]
  },
  {
   "cell_type": "code",
   "execution_count": 2,
   "id": "c552e3ae-2820-400a-9ef9-aa4daf3bca39",
   "metadata": {},
   "outputs": [],
   "source": [
    "data_dir <- \"../..\"\n",
    "seurat <- readRDS(path.cat(data_dir, \"seurat_filtered_with_links_long_range.rds\"))"
   ]
  },
  {
   "cell_type": "code",
   "execution_count": 3,
   "id": "63af2f7a-b158-442a-a998-d779622bfa5c",
   "metadata": {},
   "outputs": [],
   "source": [
    "markers_fev_delta0 <- read.csv(path.cat(data_dir, \"marker_peak_analysis/diff_peaks_signac_fev_delta0.csv\"))"
   ]
  },
  {
   "cell_type": "code",
   "execution_count": 4,
   "id": "fbedfed9-cf63-4636-b87f-f7c66d9058f1",
   "metadata": {},
   "outputs": [],
   "source": [
    "range <- markers_fev_delta0$X[[1]]"
   ]
  },
  {
   "cell_type": "code",
   "execution_count": 5,
   "id": "d0f91fb5-1419-493d-92ff-cbfc9f6148f3",
   "metadata": {},
   "outputs": [
    {
     "data": {
      "text/html": [
       "'3-137328983-137329833'"
      ],
      "text/latex": [
       "'3-137328983-137329833'"
      ],
      "text/markdown": [
       "'3-137328983-137329833'"
      ],
      "text/plain": [
       "[1] \"3-137328983-137329833\""
      ]
     },
     "metadata": {},
     "output_type": "display_data"
    }
   ],
   "source": [
    "range"
   ]
  },
  {
   "cell_type": "code",
   "execution_count": 6,
   "id": "0fda21ff-0dfd-4af2-86e8-80e9591f8489",
   "metadata": {},
   "outputs": [
    {
     "data": {
      "text/plain": [
       "GRanges object with 5 ranges and 5 metadata columns:\n",
       "      seqnames              ranges strand |      score        gene\n",
       "         <Rle>           <IRanges>  <Rle> |  <numeric> <character>\n",
       "  [1]        3 127499350-137329408      * |  0.0803163        Ank2\n",
       "  [2]        3 130730398-137329408      * | -0.0505487       Rpl34\n",
       "  [3]        3 131491411-137329408      * |  0.0615290       Sgms2\n",
       "  [4]        3 134199948-137329408      * |  0.0936714     Gm30648\n",
       "  [5]        3 134236484-137329408      * |  0.1591621       Cxxc4\n",
       "                       peak    zscore      pvalue\n",
       "                <character> <numeric>   <numeric>\n",
       "  [1] 3-137328983-137329833   3.65334 1.29426e-04\n",
       "  [2] 3-137328983-137329833  -2.04281 2.05356e-02\n",
       "  [3] 3-137328983-137329833   4.21397 1.25459e-05\n",
       "  [4] 3-137328983-137329833   5.80758 3.16912e-09\n",
       "  [5] 3-137328983-137329833   4.93620 3.98303e-07\n",
       "  -------\n",
       "  seqinfo: 21 sequences from an unspecified genome; no seqlengths"
      ]
     },
     "metadata": {},
     "output_type": "display_data"
    }
   ],
   "source": [
    "Links(seurat)[Links(seurat)$peak==range]"
   ]
  },
  {
   "cell_type": "code",
   "execution_count": 7,
   "id": "501de717-6427-436f-85a3-82d0dcfe79cc",
   "metadata": {},
   "outputs": [],
   "source": [
    "markers_fev_delta1 <- read.csv(path.cat(data_dir, \"marker_peak_analysis/diff_peaks_signac_fev_delta1.csv\"))"
   ]
  },
  {
   "cell_type": "code",
   "execution_count": 8,
   "id": "999005b5-df2e-417a-ad91-8bbae9218a3c",
   "metadata": {},
   "outputs": [],
   "source": [
    "range <- markers_fev_delta1$X[[1]]"
   ]
  },
  {
   "cell_type": "code",
   "execution_count": 9,
   "id": "79a3f922-5806-44b3-98ef-0e0d2fceb80d",
   "metadata": {},
   "outputs": [
    {
     "data": {
      "text/plain": [
       "GRanges object with 4 ranges and 5 metadata columns:\n",
       "      seqnames            ranges strand |      score        gene\n",
       "         <Rle>         <IRanges>  <Rle> |  <numeric> <character>\n",
       "  [1]        2  3284212-10758057      * |  0.0517456        Nmt2\n",
       "  [2]        2  5951469-10758057      * |  0.0521425        Upf2\n",
       "  [3]        2 10758057-13573927      * | -0.0577858         Vim\n",
       "  [4]        2 10758057-14603088      * |  0.0918789      Cacnb2\n",
       "                     peak    zscore     pvalue\n",
       "              <character> <numeric>  <numeric>\n",
       "  [1] 2-10757655-10758458   1.87008 0.03073638\n",
       "  [2] 2-10757655-10758458   2.90345 0.00184536\n",
       "  [3] 2-10757655-10758458  -2.14134 0.01612326\n",
       "  [4] 2-10757655-10758458   2.80594 0.00250847\n",
       "  -------\n",
       "  seqinfo: 21 sequences from an unspecified genome; no seqlengths"
      ]
     },
     "metadata": {},
     "output_type": "display_data"
    }
   ],
   "source": [
    "Links(seurat)[Links(seurat)$peak==range]"
   ]
  },
  {
   "cell_type": "code",
   "execution_count": 11,
   "id": "f917d12d-7b71-4650-8e1e-86200891f1c1",
   "metadata": {},
   "outputs": [],
   "source": [
    "markers_eps_prog <- read.csv(path.cat(data_dir, \"marker_peak_analysis/diff_peaks_signac_eps_prog.csv\"))\n"
   ]
  },
  {
   "cell_type": "code",
   "execution_count": 12,
   "id": "e10258c9-ff18-419d-8e59-34335009decd",
   "metadata": {},
   "outputs": [],
   "source": [
    "range <- markers_eps_prog$X[[1]]"
   ]
  },
  {
   "cell_type": "code",
   "execution_count": 13,
   "id": "c653c011-0f79-4b91-b36d-7d571246b5ad",
   "metadata": {},
   "outputs": [
    {
     "data": {
      "text/plain": [
       "GRanges object with 2 ranges and 5 metadata columns:\n",
       "      seqnames            ranges strand |     score        gene\n",
       "         <Rle>         <IRanges>  <Rle> | <numeric> <character>\n",
       "  [1]       10 63430098-64082536      * |  0.161945      Ctnna3\n",
       "  [2]       10 64082536-64090277      * |  0.173053      Lrrtm3\n",
       "                      peak    zscore      pvalue\n",
       "               <character> <numeric>   <numeric>\n",
       "  [1] 10-64082077-64082994   10.6498 8.73742e-27\n",
       "  [2] 10-64082077-64082994   13.2069 4.00257e-40\n",
       "  -------\n",
       "  seqinfo: 21 sequences from an unspecified genome; no seqlengths"
      ]
     },
     "metadata": {},
     "output_type": "display_data"
    }
   ],
   "source": [
    "Links(seurat)[Links(seurat)$peak==range]"
   ]
  }
 ],
 "metadata": {
  "kernelspec": {
   "display_name": "R",
   "language": "R",
   "name": "ir"
  },
  "language_info": {
   "codemirror_mode": "r",
   "file_extension": ".r",
   "mimetype": "text/x-r-source",
   "name": "R",
   "pygments_lexer": "r",
   "version": "4.2.2"
  }
 },
 "nbformat": 4,
 "nbformat_minor": 5
}
