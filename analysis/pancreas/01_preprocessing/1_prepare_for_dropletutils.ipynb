{
 "cells": [
  {
   "cell_type": "markdown",
   "metadata": {},
   "source": [
    "# scMultiome from NVF E14.5 Pancreatic Cells - Prepare GEX & ATAC Data"
   ]
  },
  {
   "cell_type": "code",
   "execution_count": 2,
   "metadata": {
    "ExecuteTime": {
     "end_time": "2019-04-15T09:23:27.277106Z",
     "start_time": "2019-04-15T09:23:25.653400Z"
    }
   },
   "outputs": [],
   "source": [
    "import scipy as sci\n",
    "import numpy as np\n",
    "import pandas as pd\n",
    "import logging\n",
    "import scanpy as sc"
   ]
  },
  {
   "cell_type": "code",
   "execution_count": 3,
   "metadata": {},
   "outputs": [
    {
     "name": "stdout",
     "output_type": "stream",
     "text": [
      "WARNING: If you miss a compact list, please try `print_header`!\n",
      "The `sinfo` package has changed name and is now called `session_info` to become more discoverable and self-explanatory. The `sinfo` PyPI package will be kept around to avoid breaking old installs and you can downgrade to 0.3.2 if you want to use it without seeing this message. For the latest features and bug fixes, please install `session_info` instead. The usage and defaults also changed slightly, so please review the latest README at https://gitlab.com/joelostblom/session_info.\n",
      "-----\n",
      "anndata     0.7.8\n",
      "scanpy      1.8.2\n",
      "sinfo       0.3.4\n",
      "-----\n",
      "PIL                         8.4.0\n",
      "anyio                       NA\n",
      "attr                        21.2.0\n",
      "babel                       2.9.1\n",
      "backcall                    0.2.0\n",
      "beta_ufunc                  NA\n",
      "binom_ufunc                 NA\n",
      "bottleneck                  1.3.2\n",
      "certifi                     2021.10.08\n",
      "cffi                        1.15.0\n",
      "chardet                     4.0.0\n",
      "charset_normalizer          2.0.7\n",
      "cloudpickle                 2.0.0\n",
      "colorama                    0.4.4\n",
      "cycler                      0.10.0\n",
      "cython_runtime              NA\n",
      "dask                        2021.10.0\n",
      "dateutil                    2.8.2\n",
      "debugpy                     1.4.1\n",
      "decorator                   5.1.0\n",
      "defusedxml                  0.7.1\n",
      "entrypoints                 0.3\n",
      "fsspec                      2021.10.1\n",
      "google                      NA\n",
      "h5py                        3.6.0\n",
      "idna                        3.3\n",
      "igraph                      0.9.8\n",
      "importlib_resources         NA\n",
      "ipykernel                   6.4.2\n",
      "ipython_genutils            0.2.0\n",
      "jedi                        0.18.0\n",
      "jinja2                      3.0.2\n",
      "joblib                      1.1.0\n",
      "json5                       NA\n",
      "jsonschema                  4.2.0\n",
      "jupyter_server              1.11.2\n",
      "jupyterlab_server           2.8.2\n",
      "kiwisolver                  1.3.2\n",
      "leidenalg                   0.8.8\n",
      "llvmlite                    0.37.0\n",
      "louvain                     0.7.0\n",
      "markupsafe                  2.0.1\n",
      "matplotlib                  3.4.3\n",
      "matplotlib_inline           NA\n",
      "mpl_toolkits                NA\n",
      "natsort                     8.0.0\n",
      "nbclassic                   NA\n",
      "nbformat                    5.1.3\n",
      "nbinom_ufunc                NA\n",
      "numba                       0.54.1\n",
      "numexpr                     2.7.3\n",
      "numpy                       1.20.0\n",
      "packaging                   21.2\n",
      "pandas                      1.3.4\n",
      "parso                       0.8.2\n",
      "pexpect                     4.8.0\n",
      "pickleshare                 0.7.5\n",
      "pkg_resources               NA\n",
      "prometheus_client           NA\n",
      "prompt_toolkit              3.0.21\n",
      "psutil                      5.8.0\n",
      "ptyprocess                  0.7.0\n",
      "pvectorc                    NA\n",
      "pydev_ipython               NA\n",
      "pydevconsole                NA\n",
      "pydevd                      2.4.1\n",
      "pydevd_concurrency_analyser NA\n",
      "pydevd_file_utils           NA\n",
      "pydevd_plugins              NA\n",
      "pydevd_tracing              NA\n",
      "pygments                    2.10.0\n",
      "pyparsing                   2.4.7\n",
      "pyrsistent                  NA\n",
      "pytz                        2021.3\n",
      "requests                    2.26.0\n",
      "scipy                       1.7.1\n",
      "send2trash                  NA\n",
      "six                         1.16.0\n",
      "sklearn                     1.0.1\n",
      "sniffio                     1.2.0\n",
      "sparse                      0.13.0\n",
      "storemagic                  NA\n",
      "tables                      3.6.1\n",
      "terminado                   0.12.1\n",
      "texttable                   1.6.4\n",
      "threadpoolctl               3.0.0\n",
      "tlz                         0.11.1\n",
      "toolz                       0.11.1\n",
      "tornado                     6.1\n",
      "traitlets                   5.1.1\n",
      "typing_extensions           NA\n",
      "urllib3                     1.26.7\n",
      "wcwidth                     0.2.5\n",
      "websocket                   1.2.1\n",
      "yaml                        5.4.1\n",
      "zipp                        NA\n",
      "zmq                         22.3.0\n",
      "-----\n",
      "IPython             7.29.0\n",
      "jupyter_client      7.0.6\n",
      "jupyter_core        4.9.1\n",
      "jupyterlab          3.2.4\n",
      "notebook            6.4.5\n",
      "-----\n",
      "Python 3.8.12 | packaged by conda-forge | (default, Oct 12 2021, 21:57:06) [GCC 9.4.0]\n",
      "Linux-5.13.0-30-generic-x86_64-with-glibc2.10\n",
      "64 logical CPU cores, x86_64\n",
      "-----\n",
      "Session information updated at 2022-02-25 18:56\n",
      "\n"
     ]
    }
   ],
   "source": [
    "sc.settings.verbosity = 3\n",
    "sc.logging.print_versions()"
   ]
  },
  {
   "cell_type": "markdown",
   "metadata": {},
   "source": [
    "# Prepare Data for DropletUtils\n",
    "\n",
    "Load raw data filter out droplets with less than 1 counts and save."
   ]
  },
  {
   "cell_type": "code",
   "execution_count": 6,
   "metadata": {},
   "outputs": [
    {
     "name": "stdout",
     "output_type": "stream",
     "text": [
      "Loading /storage/scRNA-seq/scMultiome_Mouse-Islets_NVF-E14.5_210044/data/cr_arc/cr_count/E15-5/outs\n",
      "reading /storage/scRNA-seq/scMultiome_Mouse-Islets_NVF-E14.5_210044/data/cr_arc/cr_count/E15-5/outs/raw_feature_bc_matrix.h5\n"
     ]
    },
    {
     "name": "stderr",
     "output_type": "stream",
     "text": [
      "Variable names are not unique. To make them unique, call `.var_names_make_unique`.\n"
     ]
    },
    {
     "name": "stdout",
     "output_type": "stream",
     "text": [
      " (0:00:10)\n",
      "(735587, 221966)\n",
      "filtered out 768 cells that have less than 1 counts\n"
     ]
    },
    {
     "name": "stderr",
     "output_type": "stream",
     "text": [
      "Variable names are not unique. To make them unique, call `.var_names_make_unique`.\n",
      "Variable names are not unique. To make them unique, call `.var_names_make_unique`.\n"
     ]
    },
    {
     "name": "stdout",
     "output_type": "stream",
     "text": [
      "filtered out 6471 genes that are detected in less than 1 cells\n"
     ]
    },
    {
     "name": "stderr",
     "output_type": "stream",
     "text": [
      "Variable names are not unique. To make them unique, call `.var_names_make_unique`.\n",
      "Variable names are not unique. To make them unique, call `.var_names_make_unique`.\n"
     ]
    },
    {
     "name": "stdout",
     "output_type": "stream",
     "text": [
      "(734819, 215495) \n",
      "\n",
      "\n"
     ]
    },
    {
     "name": "stderr",
     "output_type": "stream",
     "text": [
      "/home/michi/Software/venvs/scAnalysis_1.8_R4.1/lib/python3.8/site-packages/anndata/_core/anndata.py:1228: FutureWarning: The `inplace` parameter in pandas.Categorical.reorder_categories is deprecated and will be removed in a future version. Reordering categories will always return a new Categorical object.\n",
      "  c.reorder_categories(natsorted(c.categories), inplace=True)\n",
      "... storing 'feature_types' as categorical\n",
      "/home/michi/Software/venvs/scAnalysis_1.8_R4.1/lib/python3.8/site-packages/anndata/_core/anndata.py:1228: FutureWarning: The `inplace` parameter in pandas.Categorical.reorder_categories is deprecated and will be removed in a future version. Reordering categories will always return a new Categorical object.\n",
      "  c.reorder_categories(natsorted(c.categories), inplace=True)\n",
      "... storing 'genome' as categorical\n"
     ]
    },
    {
     "name": "stdout",
     "output_type": "stream",
     "text": [
      "Shape GEX: (734819, 24784)\n",
      "Shape ATAC: (734819, 190711)\n"
     ]
    }
   ],
   "source": [
    "samples = ['E14-5', 'E15-5']\n",
    "base_path = '/storage/scRNA-seq/scMultiome_Mouse-Islets_NVF-E14.5_210044/data/cr_arc/cr_count/' # might have to be adapted\n",
    "outs_path = '/outs' # might have to be adapted\n",
    "\n",
    "for sample in samples:\n",
    "    print('Loading ' + base_path + sample + outs_path)\n",
    "    path = base_path + sample + outs_path\n",
    "    adata = sc.read_10x_h5(path + '/raw_feature_bc_matrix.h5', gex_only=False)\n",
    "    print(adata.shape)\n",
    "    sc.pp.filter_cells(adata, min_counts=1)\n",
    "    sc.pp.filter_genes(adata, min_cells=1)\n",
    "    print(adata.shape,'\\n\\n')\n",
    "    # Save combined\n",
    "    sc.write(path + '/' + sample + '_raw_feature_bc_matrix', adata)\n",
    "    # Split and save GEX and ATAC\n",
    "    print('Shape GEX:', adata[:,adata.var.feature_types.isin(['Gene Expression'])].shape)\n",
    "    sc.write(path + '/' + sample + '_raw_gex_bc_matrix', adata[:,adata.var.feature_types.isin(['Gene Expression'])])\n",
    "    print('Shape ATAC:', adata[:,adata.var.feature_types.isin(['Peaks'])].shape)\n",
    "    sc.write(path + '/' + sample + '_raw_atac_bc_matrix', adata[:,adata.var.feature_types.isin(['Peaks'])])\n",
    "    del adata\n",
    "    gc.collect()\n"
   ]
  },
  {
   "cell_type": "code",
   "execution_count": null,
   "metadata": {},
   "outputs": [],
   "source": []
  }
 ],
 "metadata": {
  "kernelspec": {
   "display_name": "preprocessing_env_reduced",
   "language": "python",
   "name": "preprocessing_env_reduced"
  },
  "language_info": {
   "codemirror_mode": {
    "name": "ipython",
    "version": 3
   },
   "file_extension": ".py",
   "mimetype": "text/x-python",
   "name": "python",
   "nbconvert_exporter": "python",
   "pygments_lexer": "ipython3",
   "version": "3.9.13"
  },
  "toc": {
   "base_numbering": 1,
   "nav_menu": {},
   "number_sections": true,
   "sideBar": true,
   "skip_h1_title": false,
   "title_cell": "Table of Contents",
   "title_sidebar": "Contents",
   "toc_cell": false,
   "toc_position": {},
   "toc_section_display": true,
   "toc_window_display": false
  },
  "varInspector": {
   "cols": {
    "lenName": 16,
    "lenType": 16,
    "lenVar": 40
   },
   "kernels_config": {
    "python": {
     "delete_cmd_postfix": "",
     "delete_cmd_prefix": "del ",
     "library": "var_list.py",
     "varRefreshCmd": "print(var_dic_list())"
    },
    "r": {
     "delete_cmd_postfix": ") ",
     "delete_cmd_prefix": "rm(",
     "library": "var_list.r",
     "varRefreshCmd": "cat(var_dic_list()) "
    }
   },
   "types_to_exclude": [
    "module",
    "function",
    "builtin_function_or_method",
    "instance",
    "_Feature"
   ],
   "window_display": false
  }
 },
 "nbformat": 4,
 "nbformat_minor": 4
}
