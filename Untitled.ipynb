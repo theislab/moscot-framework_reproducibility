{
 "cells": [
  {
   "cell_type": "code",
   "execution_count": 2,
   "id": "33cba853-c751-4d99-aa21-e926408dae97",
   "metadata": {},
   "outputs": [],
   "source": [
    "import anndata\n",
    "import pandas as pd"
   ]
  },
  {
   "cell_type": "code",
   "execution_count": 3,
   "id": "a728c0b0-cafd-487a-97c1-589b4e26a085",
   "metadata": {},
   "outputs": [],
   "source": [
    "adata = anndata.read_h5ad(\"/Users/dominik.klein/data/E14-E15_adata_filtered_rmDoublets_sctNormalized_WNN_embedded_initialAnno_new_annotation.h5ad\")"
   ]
  },
  {
   "cell_type": "code",
   "execution_count": 6,
   "id": "aace6d79-9272-4cd8-839a-985682556c89",
   "metadata": {},
   "outputs": [],
   "source": [
    "df = adata.obs[[\"celltype_new\"]]"
   ]
  },
  {
   "cell_type": "code",
   "execution_count": 7,
   "id": "5e668552-70d3-44d0-b57b-d384a6536931",
   "metadata": {},
   "outputs": [],
   "source": [
    "df.to_csv(\"/Users/dominik.klein/data/cell_type_annotations.csv\")"
   ]
  },
  {
   "cell_type": "code",
   "execution_count": null,
   "id": "29f89f88-1c7c-4fd2-90a3-9f3d5d9b8462",
   "metadata": {},
   "outputs": [],
   "source": []
  }
 ],
 "metadata": {
  "kernelspec": {
   "display_name": "Python 3 (ipykernel)",
   "language": "python",
   "name": "python3"
  },
  "language_info": {
   "codemirror_mode": {
    "name": "ipython",
    "version": 3
   },
   "file_extension": ".py",
   "mimetype": "text/x-python",
   "name": "python",
   "nbconvert_exporter": "python",
   "pygments_lexer": "ipython3",
   "version": "3.9.13"
  }
 },
 "nbformat": 4,
 "nbformat_minor": 5
}
