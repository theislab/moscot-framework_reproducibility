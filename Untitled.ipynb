{
 "cells": [
  {
   "cell_type": "code",
   "execution_count": 2,
   "id": "6229e046-207e-472c-985b-4a7c23d873bd",
   "metadata": {},
   "outputs": [],
   "source": [
    "import scanpy as sc"
   ]
  },
  {
   "cell_type": "code",
   "execution_count": 13,
   "id": "d5a94d18-47e3-415b-993f-bdb56e83b1e1",
   "metadata": {},
   "outputs": [
    {
     "name": "stderr",
     "output_type": "stream",
     "text": [
      "/Users/dominik.klein/opt/anaconda3/envs/moscot_env3/lib/python3.9/site-packages/anndata/_core/anndata.py:1830: UserWarning: Variable names are not unique. To make them unique, call `.var_names_make_unique`.\n",
      "  utils.warn_names_duplicates(\"var\")\n"
     ]
    }
   ],
   "source": [
    "adata = sc.read_10x_h5(\"/Users/dominik.klein/Downloads/GSM4979875_filtered_feature_bc_matrix_rep2.h5\")"
   ]
  },
  {
   "cell_type": "code",
   "execution_count": 15,
   "id": "e4d81723-b115-4eb1-8800-3d478b4a76d7",
   "metadata": {},
   "outputs": [
    {
     "data": {
      "text/plain": [
       "Xkr4              Gene Expression\n",
       "Gm1992            Gene Expression\n",
       "Gm37381           Gene Expression\n",
       "Rp1               Gene Expression\n",
       "Sox17             Gene Expression\n",
       "                       ...       \n",
       "AC149090.1        Gene Expression\n",
       "CAAA01118383.1    Gene Expression\n",
       "Vmn2r122          Gene Expression\n",
       "CAAA01147332.1    Gene Expression\n",
       "GFP               Gene Expression\n",
       "Name: feature_types, Length: 31054, dtype: object"
      ]
     },
     "execution_count": 15,
     "metadata": {},
     "output_type": "execute_result"
    }
   ],
   "source": [
    "adata.var[\"feature_types\"]"
   ]
  },
  {
   "cell_type": "code",
   "execution_count": null,
   "id": "112b1771-5d46-4669-ba49-3ce4a996c180",
   "metadata": {},
   "outputs": [],
   "source": []
  }
 ],
 "metadata": {
  "kernelspec": {
   "display_name": "moscot_env3",
   "language": "python",
   "name": "moscot_env3"
  },
  "language_info": {
   "codemirror_mode": {
    "name": "ipython",
    "version": 3
   },
   "file_extension": ".py",
   "mimetype": "text/x-python",
   "name": "python",
   "nbconvert_exporter": "python",
   "pygments_lexer": "ipython3",
   "version": "3.9.13"
  }
 },
 "nbformat": 4,
 "nbformat_minor": 5
}
