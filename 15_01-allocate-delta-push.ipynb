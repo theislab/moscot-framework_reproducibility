{
 "cells": [
  {
   "cell_type": "code",
   "execution_count": 1,
   "id": "075ee171",
   "metadata": {},
   "outputs": [],
   "source": [
    "import pandas as pd\n",
    "import numpy as np\n",
    "import scanpy as sc"
   ]
  },
  {
   "cell_type": "code",
   "execution_count": 3,
   "id": "b0f706f8",
   "metadata": {},
   "outputs": [],
   "source": [
    "df_gex_scvi = pd.read_csv(\"/lustre/groups/ml01/workspace/moscot_paper/pancreas/delta_pull_gex_scvi.csv\")\n",
    "df_gex_pca = pd.read_csv(\"/lustre/groups/ml01/workspace/moscot_paper/pancreas/delta_pull_gex.csv\")\n",
    "df_atac_lsi = pd.read_csv(\"/lustre/groups/ml01/workspace/moscot_paper/pancreas/delta_pull_ATAC.csv\")\n",
    "df_atac_poisson = pd.read_csv(\"/lustre/groups/ml01/workspace/moscot_paper/pancreas/delta_pull_atac_poiss.csv\")\n",
    "df_multivi = pd.read_csv(\"/lustre/groups/ml01/workspace/moscot_paper/pancreas/delta_pull_multivi.csv\")"
   ]
  },
  {
   "cell_type": "code",
   "execution_count": 4,
   "id": "c26eed8e",
   "metadata": {},
   "outputs": [],
   "source": [
    "dfs = [df_gex_scvi, df_gex_pca, df_atac_lsi, df_atac_poisson, df_multivi]"
   ]
  },
  {
   "cell_type": "code",
   "execution_count": 6,
   "id": "efc77d8e",
   "metadata": {},
   "outputs": [
    {
     "name": "stdout",
     "output_type": "stream",
     "text": [
      "0.9999999999999999\n",
      "0.8179990043109635\n",
      "0.8307510559209306\n",
      "0.7470171071414298\n",
      "0.7290142794882427\n",
      "0.8179990043109636\n",
      "1.0\n",
      "0.8136581339646679\n",
      "0.8079890724096035\n",
      "0.776452387433451\n",
      "0.8307510559209306\n",
      "0.8136581339646679\n",
      "1.0\n",
      "0.7846140302553315\n",
      "0.754366009359341\n",
      "0.7470171071414298\n",
      "0.8079890724096035\n",
      "0.7846140302553315\n",
      "1.0\n",
      "0.8373350466209374\n",
      "0.7290142794882426\n",
      "0.776452387433451\n",
      "0.754366009359341\n",
      "0.8373350466209374\n",
      "1.0\n"
     ]
    }
   ],
   "source": [
    "for df1 in dfs:\n",
    "    for df2 in dfs:\n",
    "        print(np.corrcoef(df1[\"pull\"], df2[\"pull\"])[0,1])"
   ]
  },
  {
   "cell_type": "code",
   "execution_count": 13,
   "id": "df72d2ca",
   "metadata": {},
   "outputs": [],
   "source": [
    "def threshold(x):\n",
    "    if x[\"pull\"] > thr:\n",
    "        return x[\"pull\"]\n",
    "    return 0\n",
    "\n",
    "thr = np.percentile(df[\"pull\"], 98)\n",
    "for df in dfs:\n",
    "    df[\"pull_thresholded\"] = df.apply(threshold, axis=1)"
   ]
  },
  {
   "cell_type": "code",
   "execution_count": 14,
   "id": "49983426",
   "metadata": {},
   "outputs": [
    {
     "name": "stdout",
     "output_type": "stream",
     "text": [
      "1.0\n",
      "0.8178968247437405\n",
      "0.8307024724841579\n",
      "0.746976452912639\n",
      "0.7289515366982573\n",
      "0.8178968247437405\n",
      "1.0\n",
      "0.813545895537058\n",
      "0.8078827353056476\n",
      "0.7763088207420539\n",
      "0.8307024724841579\n",
      "0.8135458955370581\n",
      "1.0\n",
      "0.7844984649312217\n",
      "0.7542906819616813\n",
      "0.746976452912639\n",
      "0.8078827353056475\n",
      "0.7844984649312218\n",
      "0.9999999999999999\n",
      "0.8372392462165977\n",
      "0.7289515366982573\n",
      "0.7763088207420538\n",
      "0.7542906819616813\n",
      "0.8372392462165975\n",
      "1.0\n"
     ]
    }
   ],
   "source": [
    "for df1 in dfs:\n",
    "    for df2 in dfs:\n",
    "        print(np.corrcoef(df1[\"pull_thresholded\"], df2[\"pull_thresholded\"])[0,1])"
   ]
  },
  {
   "cell_type": "code",
   "execution_count": 19,
   "id": "49b609db",
   "metadata": {},
   "outputs": [],
   "source": [
    "def restrict_pull(x):\n",
    "    if x[\"celltype\"]==\"Ductal\" or x[\"celltype\"]==\"Prlf. Ductal\":\n",
    "        return x[\"pull_thresholded\"]\n",
    "    return 0\n",
    "\n",
    "for df in dfs:\n",
    "    df[\"pull_restricted\"] = df.apply(restrict_pull, axis=1)"
   ]
  },
  {
   "cell_type": "code",
   "execution_count": 21,
   "id": "b16f586e",
   "metadata": {},
   "outputs": [
    {
     "name": "stdout",
     "output_type": "stream",
     "text": [
      "1.0\n",
      "0.16537873789908147\n",
      "0.006847009805020918\n",
      "0.02831822483492117\n",
      "0.0626774510672934\n",
      "0.16537873789908145\n",
      "1.0\n",
      "0.018640324977343404\n",
      "0.1112353844738706\n",
      "0.02231565162638589\n",
      "0.006847009805020919\n",
      "0.0186403249773434\n",
      "0.9999999999999999\n",
      "0.13039363580449867\n",
      "0.044030366202375645\n",
      "0.02831822483492117\n",
      "0.1112353844738706\n",
      "0.13039363580449867\n",
      "1.0\n",
      "0.3460362222414476\n",
      "0.0626774510672934\n",
      "0.022315651626385893\n",
      "0.044030366202375645\n",
      "0.34603622224144764\n",
      "1.0\n"
     ]
    }
   ],
   "source": [
    "for df1 in dfs:\n",
    "    for df2 in dfs:\n",
    "        print(np.corrcoef(df1[\"pull_restricted\"], df2[\"pull_restricted\"])[0,1])"
   ]
  },
  {
   "cell_type": "code",
   "execution_count": 34,
   "id": "df23caf0",
   "metadata": {},
   "outputs": [],
   "source": [
    "def restrict_pull(x):\n",
    "    if x[\"celltype\"]==\"Fev+ Delta\":\n",
    "        return x[\"pull_thresholded\"]\n",
    "    return 0\n",
    "\n",
    "for df in dfs:\n",
    "    df[\"pull_restricted2\"] = df.apply(restrict_pull, axis=1)"
   ]
  },
  {
   "cell_type": "code",
   "execution_count": 35,
   "id": "1456e683",
   "metadata": {},
   "outputs": [
    {
     "name": "stdout",
     "output_type": "stream",
     "text": [
      "1.0\n",
      "0.38396669724616495\n",
      "0.3204040491900728\n",
      "0.02679740366739718\n",
      "0.016295421090760345\n",
      "0.38396669724616495\n",
      "1.0\n",
      "0.1537983081463437\n",
      "0.2768054839657372\n",
      "0.11139027339010256\n",
      "0.3204040491900728\n",
      "0.15379830814634374\n",
      "1.0\n",
      "0.09085781706612904\n",
      "0.06865353716999296\n",
      "0.02679740366739718\n",
      "0.2768054839657372\n",
      "0.09085781706612903\n",
      "1.0\n",
      "0.15309423525746196\n",
      "0.01629542109076034\n",
      "0.11139027339010255\n",
      "0.06865353716999296\n",
      "0.15309423525746194\n",
      "1.0\n"
     ]
    }
   ],
   "source": [
    "for df1 in dfs:\n",
    "    for df2 in dfs:\n",
    "        print(np.corrcoef(df1[\"pull_restricted2\"], df2[\"pull_restricted2\"])[0,1])"
   ]
  },
  {
   "cell_type": "code",
   "execution_count": 36,
   "id": "89490919",
   "metadata": {},
   "outputs": [],
   "source": [
    "def restrict_pull(x):\n",
    "    if x[\"celltype\"]==\"Delta\":\n",
    "        return x[\"pull_thresholded\"]\n",
    "    return 0\n",
    "\n",
    "for df in dfs:\n",
    "    df[\"pull_restricted2\"] = df.apply(restrict_pull, axis=1)"
   ]
  },
  {
   "cell_type": "code",
   "execution_count": 37,
   "id": "acc1bafb",
   "metadata": {},
   "outputs": [
    {
     "name": "stdout",
     "output_type": "stream",
     "text": [
      "1.0\n",
      "0.9598999909724389\n",
      "0.9873050118251476\n",
      "0.9387163562214744\n",
      "0.9287081805145441\n",
      "0.9598999909724389\n",
      "1.0\n",
      "0.9640848406676237\n",
      "0.9808721985719481\n",
      "0.9759171112396307\n",
      "0.9873050118251477\n",
      "0.9640848406676237\n",
      "0.9999999999999999\n",
      "0.9455195548927127\n",
      "0.9323959134752616\n",
      "0.9387163562214743\n",
      "0.9808721985719481\n",
      "0.9455195548927127\n",
      "1.0\n",
      "0.9935006009719143\n",
      "0.9287081805145441\n",
      "0.9759171112396307\n",
      "0.9323959134752616\n",
      "0.9935006009719143\n",
      "0.9999999999999998\n"
     ]
    }
   ],
   "source": [
    "for df1 in dfs:\n",
    "    for df2 in dfs:\n",
    "        print(np.corrcoef(df1[\"pull_restricted2\"], df2[\"pull_restricted2\"])[0,1])"
   ]
  },
  {
   "cell_type": "code",
   "execution_count": null,
   "id": "4b1fed67",
   "metadata": {},
   "outputs": [],
   "source": []
  }
 ],
 "metadata": {
  "kernelspec": {
   "display_name": "jax_gpu2",
   "language": "python",
   "name": "jax_gpu2"
  },
  "language_info": {
   "codemirror_mode": {
    "name": "ipython",
    "version": 3
   },
   "file_extension": ".py",
   "mimetype": "text/x-python",
   "name": "python",
   "nbconvert_exporter": "python",
   "pygments_lexer": "ipython3",
   "version": "3.9.13"
  }
 },
 "nbformat": 4,
 "nbformat_minor": 5
}
