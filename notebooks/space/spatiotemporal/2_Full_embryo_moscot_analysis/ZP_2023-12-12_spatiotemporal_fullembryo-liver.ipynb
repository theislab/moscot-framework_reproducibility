{
 "cells": [
  {
   "cell_type": "markdown",
   "id": "f9229f05-57ed-470b-b5b4-e1115cc90267",
   "metadata": {
    "pycharm": {
     "name": "#%% md\n"
    }
   },
   "source": [
    "# Evaluation of `moscot-spatio-temporal` mapping on the MOSTA dataset considering liver mapping\n"
   ]
  },
  {
   "cell_type": "code",
   "execution_count": 1,
   "id": "531d2548-1d17-4702-89d6-76acb94aec2d",
   "metadata": {
    "pycharm": {
     "name": "#%%\n"
    }
   },
   "outputs": [],
   "source": [
    "%load_ext autoreload \n",
    "%autoreload 2"
   ]
  },
  {
   "cell_type": "code",
   "execution_count": 3,
   "id": "eed2acc9-9987-4d36-a266-46bf8ea5cc93",
   "metadata": {
    "pycharm": {
     "name": "#%%\n"
    }
   },
   "outputs": [],
   "source": [
    "import scanpy as sc\n",
    "import matplotlib.pyplot as plt"
   ]
  },
  {
   "cell_type": "code",
   "execution_count": 4,
   "id": "7bf7f217-dbe2-4e4c-a70f-b35440d4c3f6",
   "metadata": {
    "pycharm": {
     "name": "#%%\n"
    }
   },
   "outputs": [],
   "source": [
    "import jax\n",
    "jax.config.update(\"jax_enable_x64\", True)"
   ]
  },
  {
   "cell_type": "code",
   "execution_count": 5,
   "id": "167b1f28-cecb-4da9-ad62-4d2de9ca3701",
   "metadata": {
    "pycharm": {
     "name": "#%%\n"
    }
   },
   "outputs": [],
   "source": [
    "from moscot.problems.spatiotemporal import SpatioTemporalProblem"
   ]
  },
  {
   "cell_type": "code",
   "execution_count": 6,
   "id": "dc40df22-0920-4605-adca-5c486426b328",
   "metadata": {
    "pycharm": {
     "name": "#%%\n"
    }
   },
   "outputs": [],
   "source": [
    "import mplscience\n",
    "mplscience.set_style()\n",
    "plt.rcParams[\"legend.scatterpoints\"] = 1"
   ]
  },
  {
   "cell_type": "code",
   "execution_count": 7,
   "id": "4b97d12b-0b1b-4ee5-9345-9b9255a13ccf",
   "metadata": {
    "pycharm": {
     "name": "#%%\n"
    }
   },
   "outputs": [],
   "source": [
    "import warnings\n",
    "warnings.simplefilter(\"ignore\", UserWarning)\n",
    "warnings.simplefilter(\"ignore\", FutureWarning)"
   ]
  },
  {
   "cell_type": "markdown",
   "id": "ab885625-f5b0-4c86-96c4-df0faa716c09",
   "metadata": {
    "pycharm": {
     "name": "#%% md\n"
    }
   },
   "source": [
    "## Dependencies\n",
    "\n",
    "Requires running:\n",
    "\n",
    "1. `0_Data_preparation/ZP_2023-04-20_spatiotemporal_fullembryo-preprocess.ipynb`: creates `mouse_embryo_{tp1}_{tp2}_renormalized.h5ad` for all consecutive time points.\n",
    "2. `mosta_st_map_array_save.sh`: runs the SpatioTemporal problem over all consecutive time points and saves the ouput in `DATA_DIR + \"grid/save/\"` (uses `save_config.txt`, and `mosta_st_map_accuracies_save.py`)\n"
   ]
  },
  {
   "cell_type": "markdown",
   "id": "d2d03970-b9ff-4767-814d-f052f52a8cf8",
   "metadata": {
    "pycharm": {
     "name": "#%% md\n"
    }
   },
   "source": [
    "## Set parameters"
   ]
  },
  {
   "cell_type": "code",
   "execution_count": 8,
   "id": "90d042ab-6c22-43c1-bffe-7d703cd30949",
   "metadata": {
    "pycharm": {
     "name": "#%%\n"
    },
    "tags": []
   },
   "outputs": [],
   "source": [
    "sys.path.insert(\n",
    "    0, \"../../../../../\"\n",
    ")  # this depends on the notebook depth and must be adapted per notebook\n",
    "\n",
    "from paths import DATA_DIR, FIG_DIR\n",
    "\n",
    "FIG_DIR = FIG_DIR / \"space/spatiotemporal/\"\n",
    "DATA_DIR = DATA_DIR / \"space/spatiotemporal/\""
   ]
  },
  {
   "cell_type": "markdown",
   "id": "4c69f170-7010-494b-a054-55bd680c5a5e",
   "metadata": {
    "pycharm": {
     "name": "#%% md\n"
    }
   },
   "source": [
    "## Evaluate results"
   ]
  },
  {
   "cell_type": "code",
   "execution_count": 9,
   "id": "877ae445-9318-4843-a573-8de4c21fef9e",
   "metadata": {
    "pycharm": {
     "name": "#%%\n"
    }
   },
   "outputs": [],
   "source": [
    "lst_load = [\n",
    "    'stp_eps_0.0001_rank_500_gamma_100.0_alpha_0.4_tp_9_5_10_5_cost_sq_euclidean.pkl',\n",
    "    'stp_eps_0.0001_rank_500_gamma_100.0_alpha_0.6_tp_10_5_11_5_cost_sq_euclidean.pkl',\n",
    "    'stp_eps_0.0001_rank_500_gamma_100.0_alpha_0.2_tp_11_5_12_5_cost_sq_euclidean.pkl',\n",
    "    'stp_eps_0.0001_rank_500_gamma_100.0_alpha_0.6_tp_12_5_13_5_cost_sq_euclidean.pkl',\n",
    "    'stp_eps_0.0001_rank_500_gamma_10.0_alpha_0.4_tp_13_5_14_5_cost_sq_euclidean.pkl',\n",
    "    'stp_eps_0.0001_rank_500_gamma_100.0_alpha_0.4_tp_14_5_15_5_cost_sq_euclidean.pkl',\n",
    "    'stp_eps_0.0001_rank_500_gamma_10.0_alpha_0.4_tp_15_5_16_5_cost_sq_euclidean.pkl'\n",
    "]"
   ]
  },
  {
   "cell_type": "markdown",
   "id": "2fbacd53-0f19-4214-9c49-ad45eb04cabf",
   "metadata": {
    "pycharm": {
     "name": "#%% md\n"
    }
   },
   "source": [
    "### Liver annotation pull analysis"
   ]
  },
  {
   "cell_type": "code",
   "execution_count": 10,
   "id": "d69b7362-57d1-42c4-942f-068d40cb8065",
   "metadata": {
    "pycharm": {
     "name": "#%%\n"
    }
   },
   "outputs": [
    {
     "name": "stdout",
     "output_type": "stream",
     "text": [
      "pulling 9.5-10.5\n",
      "pulling 10.5-11.5\n",
      "pulling 11.5-12.5\n",
      "pulling 12.5-13.5\n",
      "pulling 13.5-14.5\n",
      "pulling 14.5-15.5\n",
      "pulling 15.5-16.5\n"
     ]
    }
   ],
   "source": [
    "## load res\n",
    "adatas = []\n",
    "for file in lst_load: \n",
    "    stp = SpatioTemporalProblem.load(DATA_DIR + f\"grid/save/{file}\")\n",
    "    start, end = stp.adata.obs[\"time\"].unique()\n",
    "    print(f\"pulling {start}-{end}\")\n",
    "    stp.pull(source=start, target=end, data=\"annotation\", subset=\"Liver\", key_added=f\"Liver_pull\", normalize=False)\n",
    "    adatas.append(stp.adata.copy())\n",
    "    "
   ]
  },
  {
   "cell_type": "code",
   "execution_count": 11,
   "id": "583d6118-fe47-41c0-87e8-cbe2cbb49f2e",
   "metadata": {
    "pycharm": {
     "name": "#%%\n"
    }
   },
   "outputs": [],
   "source": [
    "adata_pulls = []\n",
    "for adata in adatas:\n",
    "    adata_pulls.append(adata[adata.obs[\"time\"] == adata.obs[\"time\"].unique()[0]].copy())\n",
    "    "
   ]
  },
  {
   "cell_type": "code",
   "execution_count": 12,
   "id": "69ecc5a5-0ffb-47b9-8d0c-216db9e23ade",
   "metadata": {
    "pycharm": {
     "name": "#%%\n"
    }
   },
   "outputs": [
    {
     "data": {
      "text/plain": [
       "AnnData object with n_obs × n_vars = 397204 × 2000\n",
       "    obs: 'annotation', 'timepoint', 'n_genes_by_counts', 'log1p_n_genes_by_counts', 'total_counts', 'log1p_total_counts', 'pct_counts_in_top_50_genes', 'pct_counts_in_top_100_genes', 'pct_counts_in_top_200_genes', 'pct_counts_in_top_500_genes', 'time', 'n_genes', 'total_counts_mt', 'pct_counts_mt', 'transition', 'proliferation', 'apoptosis', 'Liver_pull'\n",
       "    var: 'n_cells_by_counts', 'mean_counts', 'log1p_mean_counts', 'pct_dropout_by_counts', 'total_counts', 'log1p_total_counts', 'n_cells', 'mt', 'highly_variable', 'highly_variable_rank', 'means', 'variances', 'variances_norm', 'highly_variable_nbatches'\n",
       "    obsm: 'X_pca', 'X_pca_30', 'spatial'"
      ]
     },
     "execution_count": 12,
     "metadata": {},
     "output_type": "execute_result"
    }
   ],
   "source": [
    "adata_pull = sc.concat(adata_pulls)\n",
    "adata_pull.var = adata.var.copy()\n",
    "adata_pull = adata_pull[:, adata_pull.var[\"highly_variable\"]].copy()\n",
    "adata_pull"
   ]
  },
  {
   "cell_type": "code",
   "execution_count": 13,
   "id": "a8ad53cf-e7dd-4919-b71e-54f3e9781e13",
   "metadata": {
    "pycharm": {
     "name": "#%%\n"
    }
   },
   "outputs": [
    {
     "name": "stdout",
     "output_type": "stream",
     "text": [
      "WARNING: genes are not in var_names and ignored: ['Anln', 'Anp32e', 'Atad2', 'Aurka', 'Aurkb', 'Birc5', 'Blm', 'Brip1', 'Bub1', 'Casp8ap2', 'Cbx5', 'Ccnb2', 'Ccne2', 'Cdc20', 'Cdc25c', 'Cdc45', 'Cdc6', 'Cdca2', 'Cdca3', 'Cdca7', 'Cdca8', 'Cdk1', 'Cenpa', 'Cenpe', 'Cenpf', 'Chaf1b', 'Ckap2', 'Ckap2l', 'Ckap5', 'Cks1b', 'Cks2', 'Clspn', 'Ctcf', 'Dlgap5', 'Dscc1', 'Dtl', 'E2f8', 'Ect2', 'Exo1', 'Fam64a', 'Fen1', 'G2e3', 'Gas2l3', 'Gins2', 'Gmnn', 'Gtse1', 'Hells', 'Hjurp', 'Hmgb2', 'Hmmr', 'Hn1', 'Kif11', 'Kif20b', 'Kif23', 'Kif2c', 'Lbr', 'Mcm2', 'Mcm4', 'Mcm5', 'Mcm6', 'Mki67', 'Mlf1ip', 'Msh2', 'Nasp', 'Ncapd2', 'Ndc80', 'Nek2', 'Nuf2', 'Nusap1', 'Pcna', 'Pola1', 'Pold3', 'Prim1', 'Psrc1', 'Rad51', 'Rad51ap1', 'Rangap1', 'Rfc2', 'Rpa2', 'Rrm1', 'Rrm2', 'Slbp', 'Smc4', 'Tacc3', 'Tipin', 'Tmpo', 'Top2a', 'Tpx2', 'Ttk', 'Tubb4b', 'Tyms', 'Ubr7', 'Uhrf1', 'Ung', 'Usp1', 'Wdr76']\n",
      "WARNING: genes are not in var_names and ignored: ['Abat', 'Abcc5', 'Abhd4', 'Acvr1b', 'Ada', 'Adck3', 'Aen', 'Ak1', 'Alox8', 'Ankra2', 'Apaf1', 'App', 'Atf3', 'Baiap2', 'Bak1', 'Bax', 'Blcap', 'Bmp2', 'Btg1', 'Casp1', 'Ccnd3', 'Ccng1', 'Ccnk', 'Ccp110', 'Cd81', 'Cd82', 'Cdkn2a', 'Cdkn2aip', 'Cdkn2b', 'Cebpa', 'Cgrrf1', 'Csrnp2', 'Ctsd', 'Ctsf', 'Cyfip2', 'Dcxr', 'Ddb2', 'Ddit3', 'Ddit4', 'Def6', 'Dgka', 'Dnttip2', 'Dram1', 'Ei24', 'Epha2', 'Ephx1', 'Eps8l2', 'Ercc5', 'F2r', 'Fam162a', 'Fas', 'Fbxw7', 'Fdxr', 'Fos', 'Foxo3', 'Fuca1', 'Gadd45a', 'Gls2', 'Gm2a', 'Gnb2l1', 'Gpx2', 'H2afj', 'Hbegf', 'Hdac3', 'Hexim1', 'Hint1', 'Hist1h1c', 'Hmox1', 'Hras', 'Hspa4l', 'Ier3', 'Ier5', 'Ikbkap', 'Il1a', 'Inhbb', 'Ip6k2', 'Irak1', 'Iscu', 'Itgb4', 'Jag2', 'Jun', 'Kif13b', 'Klf4', 'Klk8', 'Ldhb', 'Lrmp', 'Mapkapk3', 'Mdm2', 'Mknk2', 'Mxd1', 'Mxd4', 'Ndrg1', 'Ninj1', 'Nol8', 'Notch1', 'Nudt15', 'Nupr1', 'Osgin1', 'Pcna', 'Pdgfa', 'Phlda3', 'Plk2', 'Plk3', 'Plxnb2', 'Pmm1', 'Polh', 'Pom121', 'Ppm1d', 'Ppp1r15a', 'Prkab1', 'Prmt2', 'Procr', 'Ptpn14', 'Ptpre', 'Rab40c', 'Rad51c', 'Rad9a', 'Ralgds', 'Rap2b', 'Rb1', 'Rchy1', 'Retsat', 'Rgs16', 'Rhbdf2', 'Rnf19b', 'Rpl18', 'Rps12', 'Rps27l', 'Rrp8', 'Rxra', 'S100a10', 'S100a4', 'Sat1', 'Sdc1', 'Sec61a1', 'Serpinb5', 'Sertad3', 'Sesn1', 'Slc19a2', 'Slc35d1', 'Slc3a2', 'Socs1', 'Sp1', 'Sphk1', 'St14', 'Steap3', 'Stom', 'Tap1', 'Tax1bp3', 'Tcn2', 'Tgfa', 'Tgfb1', 'Tm4sf1', 'Tm7sf3', 'Tob1', 'Tpd52l1', 'Tprkb', 'Traf4', 'Trafd1', 'Triap1', 'Trib3', 'Trp53', 'Trp63', 'Tsc22d1', 'Tspyl2', 'Txnip', 'Upp1', 'Vamp8', 'Vdr', 'Vwa5a', 'Wrap73', 'Wwp1', 'Xpc', 'Zbtb16', 'Zfp365', 'Zfp36l1', 'Zmat3']\n",
      "\u001B[34mINFO    \u001B[0m Normalizing spatial coordinates of `x`.                                                                   \n",
      "\u001B[34mINFO    \u001B[0m Normalizing spatial coordinates of `y`.                                                                   \n",
      "\u001B[34mINFO    \u001B[0m Normalizing spatial coordinates of `x`.                                                                   \n",
      "\u001B[34mINFO    \u001B[0m Normalizing spatial coordinates of `y`.                                                                   \n",
      "\u001B[34mINFO    \u001B[0m Normalizing spatial coordinates of `x`.                                                                   \n",
      "\u001B[34mINFO    \u001B[0m Normalizing spatial coordinates of `y`.                                                                   \n",
      "\u001B[34mINFO    \u001B[0m Normalizing spatial coordinates of `x`.                                                                   \n",
      "\u001B[34mINFO    \u001B[0m Normalizing spatial coordinates of `y`.                                                                   \n",
      "\u001B[34mINFO    \u001B[0m Normalizing spatial coordinates of `x`.                                                                   \n",
      "\u001B[34mINFO    \u001B[0m Normalizing spatial coordinates of `y`.                                                                   \n",
      "\u001B[34mINFO    \u001B[0m Normalizing spatial coordinates of `x`.                                                                   \n",
      "\u001B[34mINFO    \u001B[0m Normalizing spatial coordinates of `y`.                                                                   \n"
     ]
    }
   ],
   "source": [
    "stp = SpatioTemporalProblem(adata=adata_pull)\n",
    "stp=stp.score_genes_for_marginals(gene_set_proliferation=\"mouse\", gene_set_apoptosis=\"mouse\")\n",
    "stp = stp.prepare(\n",
    "    time_key=\"time\",\n",
    "    spatial_key=\"spatial\",\n",
    "    joint_attr=\"X_pca_30\",\n",
    "    cost=\"sq_euclidean\"\n",
    ")"
   ]
  },
  {
   "cell_type": "code",
   "execution_count": 14,
   "id": "4b14955e-240e-4d53-9cc8-0b27f236e78c",
   "metadata": {
    "pycharm": {
     "name": "#%%\n"
    }
   },
   "outputs": [],
   "source": [
    "df_liver = stp.compute_feature_correlation(\n",
    "        obs_key=f\"Liver_pull\",\n",
    "    )"
   ]
  },
  {
   "cell_type": "code",
   "execution_count": 15,
   "id": "73b87a9d-dfef-4c1e-a83a-bcf2338b99ec",
   "metadata": {
    "pycharm": {
     "name": "#%%\n"
    }
   },
   "outputs": [
    {
     "data": {
      "text/html": [
       "<div>\n",
       "<style scoped>\n",
       "    .dataframe tbody tr th:only-of-type {\n",
       "        vertical-align: middle;\n",
       "    }\n",
       "\n",
       "    .dataframe tbody tr th {\n",
       "        vertical-align: top;\n",
       "    }\n",
       "\n",
       "    .dataframe thead th {\n",
       "        text-align: right;\n",
       "    }\n",
       "</style>\n",
       "<table border=\"1\" class=\"dataframe\">\n",
       "  <thead>\n",
       "    <tr style=\"text-align: right;\">\n",
       "      <th></th>\n",
       "      <th>Liver_pull_corr</th>\n",
       "      <th>Liver_pull_pval</th>\n",
       "      <th>Liver_pull_qval</th>\n",
       "      <th>Liver_pull_ci_low</th>\n",
       "      <th>Liver_pull_ci_high</th>\n",
       "    </tr>\n",
       "  </thead>\n",
       "  <tbody>\n",
       "    <tr>\n",
       "      <th>Afp</th>\n",
       "      <td>0.595480</td>\n",
       "      <td>0.0</td>\n",
       "      <td>0.0</td>\n",
       "      <td>0.593469</td>\n",
       "      <td>0.597483</td>\n",
       "    </tr>\n",
       "    <tr>\n",
       "      <th>Alb</th>\n",
       "      <td>0.577517</td>\n",
       "      <td>0.0</td>\n",
       "      <td>0.0</td>\n",
       "      <td>0.575441</td>\n",
       "      <td>0.579586</td>\n",
       "    </tr>\n",
       "    <tr>\n",
       "      <th>Apoa2</th>\n",
       "      <td>0.534929</td>\n",
       "      <td>0.0</td>\n",
       "      <td>0.0</td>\n",
       "      <td>0.532705</td>\n",
       "      <td>0.537145</td>\n",
       "    </tr>\n",
       "    <tr>\n",
       "      <th>Car2</th>\n",
       "      <td>0.523767</td>\n",
       "      <td>0.0</td>\n",
       "      <td>0.0</td>\n",
       "      <td>0.521506</td>\n",
       "      <td>0.526020</td>\n",
       "    </tr>\n",
       "    <tr>\n",
       "      <th>Mt2</th>\n",
       "      <td>0.507893</td>\n",
       "      <td>0.0</td>\n",
       "      <td>0.0</td>\n",
       "      <td>0.505582</td>\n",
       "      <td>0.510197</td>\n",
       "    </tr>\n",
       "    <tr>\n",
       "      <th>Trf</th>\n",
       "      <td>0.506352</td>\n",
       "      <td>0.0</td>\n",
       "      <td>0.0</td>\n",
       "      <td>0.504036</td>\n",
       "      <td>0.508661</td>\n",
       "    </tr>\n",
       "    <tr>\n",
       "      <th>Gm45774</th>\n",
       "      <td>0.497100</td>\n",
       "      <td>0.0</td>\n",
       "      <td>0.0</td>\n",
       "      <td>0.494755</td>\n",
       "      <td>0.499438</td>\n",
       "    </tr>\n",
       "    <tr>\n",
       "      <th>Apoa1</th>\n",
       "      <td>0.492680</td>\n",
       "      <td>0.0</td>\n",
       "      <td>0.0</td>\n",
       "      <td>0.490321</td>\n",
       "      <td>0.495031</td>\n",
       "    </tr>\n",
       "    <tr>\n",
       "      <th>Cpox</th>\n",
       "      <td>0.484279</td>\n",
       "      <td>0.0</td>\n",
       "      <td>0.0</td>\n",
       "      <td>0.481894</td>\n",
       "      <td>0.486655</td>\n",
       "    </tr>\n",
       "    <tr>\n",
       "      <th>Rbp4</th>\n",
       "      <td>0.482769</td>\n",
       "      <td>0.0</td>\n",
       "      <td>0.0</td>\n",
       "      <td>0.480380</td>\n",
       "      <td>0.485150</td>\n",
       "    </tr>\n",
       "  </tbody>\n",
       "</table>\n",
       "</div>"
      ],
      "text/plain": [
       "         Liver_pull_corr  Liver_pull_pval  Liver_pull_qval  Liver_pull_ci_low  \\\n",
       "Afp             0.595480              0.0              0.0           0.593469   \n",
       "Alb             0.577517              0.0              0.0           0.575441   \n",
       "Apoa2           0.534929              0.0              0.0           0.532705   \n",
       "Car2            0.523767              0.0              0.0           0.521506   \n",
       "Mt2             0.507893              0.0              0.0           0.505582   \n",
       "Trf             0.506352              0.0              0.0           0.504036   \n",
       "Gm45774         0.497100              0.0              0.0           0.494755   \n",
       "Apoa1           0.492680              0.0              0.0           0.490321   \n",
       "Cpox            0.484279              0.0              0.0           0.481894   \n",
       "Rbp4            0.482769              0.0              0.0           0.480380   \n",
       "\n",
       "         Liver_pull_ci_high  \n",
       "Afp                0.597483  \n",
       "Alb                0.579586  \n",
       "Apoa2              0.537145  \n",
       "Car2               0.526020  \n",
       "Mt2                0.510197  \n",
       "Trf                0.508661  \n",
       "Gm45774            0.499438  \n",
       "Apoa1              0.495031  \n",
       "Cpox               0.486655  \n",
       "Rbp4               0.485150  "
      ]
     },
     "execution_count": 15,
     "metadata": {},
     "output_type": "execute_result"
    }
   ],
   "source": [
    "top_genes = df_liver[:10].index\n",
    "df_liver[:10]"
   ]
  },
  {
   "cell_type": "markdown",
   "id": "12ce11c9-c42c-4f8d-8917-2d8d7ed1bf62",
   "metadata": {
    "pycharm": {
     "name": "#%% md\n"
    }
   },
   "source": [
    "### Transcription Factor `Hnf4a` push analysis"
   ]
  },
  {
   "cell_type": "code",
   "execution_count": 16,
   "id": "ce89875c-7605-4aa4-bb38-91d71b186d9c",
   "metadata": {
    "pycharm": {
     "name": "#%%\n"
    }
   },
   "outputs": [
    {
     "name": "stdout",
     "output_type": "stream",
     "text": [
      "pushing 9.5-10.5\n",
      "pushing 10.5-11.5\n",
      "pushing 11.5-12.5\n",
      "pushing 12.5-13.5\n",
      "pushing 13.5-14.5\n",
      "pushing 14.5-15.5\n",
      "pushing 15.5-16.5\n"
     ]
    }
   ],
   "source": [
    "adatas_push = []\n",
    "tf = \"Hnf4a\"\n",
    "for file in lst_load: \n",
    "    stp = SpatioTemporalProblem.load(DATA_DIR + f\"grid/save/{file}\")\n",
    "    start, end = stp.adata.obs[\"time\"].unique()\n",
    "    print(f\"pushing {start}-{end}\")\n",
    "    stp.adata.obs[tf] = stp.adata[:, tf].X.A.copy()\n",
    "    stp.push(source=start, target=end, data=tf, key_added=f\"{tf}_push\", normalize=False)\n",
    "    del stp.adata.obs[tf]\n",
    "    adatas_push.append(stp.adata.copy())\n",
    "    "
   ]
  },
  {
   "cell_type": "code",
   "execution_count": 17,
   "id": "f7ffff4d-550d-48c1-a8b2-8b5a49a48ce5",
   "metadata": {
    "pycharm": {
     "name": "#%%\n"
    }
   },
   "outputs": [],
   "source": [
    "adatas_push_all = []\n",
    "for adata in adatas_push:\n",
    "    adatas_push_all.append(adata[adata.obs[\"time\"] == adata.obs[\"time\"].unique()[1]].copy())\n",
    "    "
   ]
  },
  {
   "cell_type": "code",
   "execution_count": 18,
   "id": "df5033b3-9aa9-41ac-b419-757b7088317a",
   "metadata": {
    "pycharm": {
     "name": "#%%\n"
    }
   },
   "outputs": [
    {
     "data": {
      "text/plain": [
       "AnnData object with n_obs × n_vars = 512814 × 2000\n",
       "    obs: 'annotation', 'timepoint', 'n_genes_by_counts', 'log1p_n_genes_by_counts', 'total_counts', 'log1p_total_counts', 'pct_counts_in_top_50_genes', 'pct_counts_in_top_100_genes', 'pct_counts_in_top_200_genes', 'pct_counts_in_top_500_genes', 'time', 'n_genes', 'total_counts_mt', 'pct_counts_mt', 'transition', 'proliferation', 'apoptosis', 'Hnf4a_push'\n",
       "    var: 'n_cells_by_counts', 'mean_counts', 'log1p_mean_counts', 'pct_dropout_by_counts', 'total_counts', 'log1p_total_counts', 'n_cells', 'mt', 'highly_variable', 'highly_variable_rank', 'means', 'variances', 'variances_norm', 'highly_variable_nbatches'\n",
       "    obsm: 'X_pca', 'X_pca_30', 'spatial'"
      ]
     },
     "execution_count": 18,
     "metadata": {},
     "output_type": "execute_result"
    }
   ],
   "source": [
    "adata_push = sc.concat(adatas_push_all)\n",
    "adata_push.var = adata.var.copy()\n",
    "adata_push = adata_push[:, adata_push.var[\"highly_variable\"]].copy()\n",
    "adata_push"
   ]
  },
  {
   "cell_type": "code",
   "execution_count": 19,
   "id": "97f79e50-a177-4d3d-afd1-0a1a517c7fe5",
   "metadata": {
    "pycharm": {
     "name": "#%%\n"
    }
   },
   "outputs": [
    {
     "name": "stdout",
     "output_type": "stream",
     "text": [
      "WARNING: genes are not in var_names and ignored: ['Anln', 'Anp32e', 'Atad2', 'Aurka', 'Aurkb', 'Birc5', 'Blm', 'Brip1', 'Bub1', 'Casp8ap2', 'Cbx5', 'Ccnb2', 'Ccne2', 'Cdc20', 'Cdc25c', 'Cdc45', 'Cdc6', 'Cdca2', 'Cdca3', 'Cdca7', 'Cdca8', 'Cdk1', 'Cenpa', 'Cenpe', 'Cenpf', 'Chaf1b', 'Ckap2', 'Ckap2l', 'Ckap5', 'Cks1b', 'Cks2', 'Clspn', 'Ctcf', 'Dlgap5', 'Dscc1', 'Dtl', 'E2f8', 'Ect2', 'Exo1', 'Fam64a', 'Fen1', 'G2e3', 'Gas2l3', 'Gins2', 'Gmnn', 'Gtse1', 'Hells', 'Hjurp', 'Hmgb2', 'Hmmr', 'Hn1', 'Kif11', 'Kif20b', 'Kif23', 'Kif2c', 'Lbr', 'Mcm2', 'Mcm4', 'Mcm5', 'Mcm6', 'Mki67', 'Mlf1ip', 'Msh2', 'Nasp', 'Ncapd2', 'Ndc80', 'Nek2', 'Nuf2', 'Nusap1', 'Pcna', 'Pola1', 'Pold3', 'Prim1', 'Psrc1', 'Rad51', 'Rad51ap1', 'Rangap1', 'Rfc2', 'Rpa2', 'Rrm1', 'Rrm2', 'Slbp', 'Smc4', 'Tacc3', 'Tipin', 'Tmpo', 'Top2a', 'Tpx2', 'Ttk', 'Tubb4b', 'Tyms', 'Ubr7', 'Uhrf1', 'Ung', 'Usp1', 'Wdr76']\n",
      "WARNING: genes are not in var_names and ignored: ['Abat', 'Abcc5', 'Abhd4', 'Acvr1b', 'Ada', 'Adck3', 'Aen', 'Ak1', 'Alox8', 'Ankra2', 'Apaf1', 'App', 'Atf3', 'Baiap2', 'Bak1', 'Bax', 'Blcap', 'Bmp2', 'Btg1', 'Casp1', 'Ccnd3', 'Ccng1', 'Ccnk', 'Ccp110', 'Cd81', 'Cd82', 'Cdkn2a', 'Cdkn2aip', 'Cdkn2b', 'Cebpa', 'Cgrrf1', 'Csrnp2', 'Ctsd', 'Ctsf', 'Cyfip2', 'Dcxr', 'Ddb2', 'Ddit3', 'Ddit4', 'Def6', 'Dgka', 'Dnttip2', 'Dram1', 'Ei24', 'Epha2', 'Ephx1', 'Eps8l2', 'Ercc5', 'F2r', 'Fam162a', 'Fas', 'Fbxw7', 'Fdxr', 'Fos', 'Foxo3', 'Fuca1', 'Gadd45a', 'Gls2', 'Gm2a', 'Gnb2l1', 'Gpx2', 'H2afj', 'Hbegf', 'Hdac3', 'Hexim1', 'Hint1', 'Hist1h1c', 'Hmox1', 'Hras', 'Hspa4l', 'Ier3', 'Ier5', 'Ikbkap', 'Il1a', 'Inhbb', 'Ip6k2', 'Irak1', 'Iscu', 'Itgb4', 'Jag2', 'Jun', 'Kif13b', 'Klf4', 'Klk8', 'Ldhb', 'Lrmp', 'Mapkapk3', 'Mdm2', 'Mknk2', 'Mxd1', 'Mxd4', 'Ndrg1', 'Ninj1', 'Nol8', 'Notch1', 'Nudt15', 'Nupr1', 'Osgin1', 'Pcna', 'Pdgfa', 'Phlda3', 'Plk2', 'Plk3', 'Plxnb2', 'Pmm1', 'Polh', 'Pom121', 'Ppm1d', 'Ppp1r15a', 'Prkab1', 'Prmt2', 'Procr', 'Ptpn14', 'Ptpre', 'Rab40c', 'Rad51c', 'Rad9a', 'Ralgds', 'Rap2b', 'Rb1', 'Rchy1', 'Retsat', 'Rgs16', 'Rhbdf2', 'Rnf19b', 'Rpl18', 'Rps12', 'Rps27l', 'Rrp8', 'Rxra', 'S100a10', 'S100a4', 'Sat1', 'Sdc1', 'Sec61a1', 'Serpinb5', 'Sertad3', 'Sesn1', 'Slc19a2', 'Slc35d1', 'Slc3a2', 'Socs1', 'Sp1', 'Sphk1', 'St14', 'Steap3', 'Stom', 'Tap1', 'Tax1bp3', 'Tcn2', 'Tgfa', 'Tgfb1', 'Tm4sf1', 'Tm7sf3', 'Tob1', 'Tpd52l1', 'Tprkb', 'Traf4', 'Trafd1', 'Triap1', 'Trib3', 'Trp53', 'Trp63', 'Tsc22d1', 'Tspyl2', 'Txnip', 'Upp1', 'Vamp8', 'Vdr', 'Vwa5a', 'Wrap73', 'Wwp1', 'Xpc', 'Zbtb16', 'Zfp365', 'Zfp36l1', 'Zmat3']\n",
      "\u001B[34mINFO    \u001B[0m Normalizing spatial coordinates of `x`.                                                                   \n",
      "\u001B[34mINFO    \u001B[0m Normalizing spatial coordinates of `y`.                                                                   \n",
      "\u001B[34mINFO    \u001B[0m Normalizing spatial coordinates of `x`.                                                                   \n",
      "\u001B[34mINFO    \u001B[0m Normalizing spatial coordinates of `y`.                                                                   \n",
      "\u001B[34mINFO    \u001B[0m Normalizing spatial coordinates of `x`.                                                                   \n",
      "\u001B[34mINFO    \u001B[0m Normalizing spatial coordinates of `y`.                                                                   \n",
      "\u001B[34mINFO    \u001B[0m Normalizing spatial coordinates of `x`.                                                                   \n",
      "\u001B[34mINFO    \u001B[0m Normalizing spatial coordinates of `y`.                                                                   \n",
      "\u001B[34mINFO    \u001B[0m Normalizing spatial coordinates of `x`.                                                                   \n",
      "\u001B[34mINFO    \u001B[0m Normalizing spatial coordinates of `y`.                                                                   \n",
      "\u001B[34mINFO    \u001B[0m Normalizing spatial coordinates of `x`.                                                                   \n",
      "\u001B[34mINFO    \u001B[0m Normalizing spatial coordinates of `y`.                                                                   \n"
     ]
    }
   ],
   "source": [
    "stp = SpatioTemporalProblem(adata=adata_push)\n",
    "stp=stp.score_genes_for_marginals(gene_set_proliferation=\"mouse\", gene_set_apoptosis=\"mouse\")\n",
    "stp = stp.prepare(\n",
    "    time_key=\"time\",\n",
    "    spatial_key=\"spatial\",\n",
    "    joint_attr=\"X_pca_30\",\n",
    "    cost=\"sq_euclidean\"\n",
    ")"
   ]
  },
  {
   "cell_type": "code",
   "execution_count": 20,
   "id": "81bdef31-ce66-46b3-86e7-9c35b7b05a31",
   "metadata": {
    "pycharm": {
     "name": "#%%\n"
    }
   },
   "outputs": [],
   "source": [
    "df = stp.compute_feature_correlation(obs_key=f\"{tf}_push\")"
   ]
  },
  {
   "cell_type": "code",
   "execution_count": 21,
   "id": "6c9b752a-6f84-4091-862d-9e6747fd2779",
   "metadata": {
    "pycharm": {
     "name": "#%%\n"
    }
   },
   "outputs": [
    {
     "name": "stdout",
     "output_type": "stream",
     "text": [
      "Afp       0.415220\n",
      "Alb       0.405604\n",
      "Lgals2    0.388928\n",
      "Lgals4    0.368240\n",
      "Mt1       0.357200\n",
      "Name: Hnf4a_push_corr, dtype: float64\n"
     ]
    }
   ],
   "source": [
    "print(df.iloc[:5, 0])"
   ]
  },
  {
   "cell_type": "code",
   "execution_count": null,
   "id": "6fb56eff-1570-45b1-8d47-a87dfb03d8b7",
   "metadata": {
    "pycharm": {
     "name": "#%%\n"
    }
   },
   "outputs": [],
   "source": []
  }
 ],
 "metadata": {
  "kernelspec": {
   "display_name": "biovenv",
   "language": "python",
   "name": "biovenv"
  },
  "language_info": {
   "codemirror_mode": {
    "name": "ipython",
    "version": 3
   },
   "file_extension": ".py",
   "mimetype": "text/x-python",
   "name": "python",
   "nbconvert_exporter": "python",
   "pygments_lexer": "ipython3",
   "version": "3.9.2"
  }
 },
 "nbformat": 4,
 "nbformat_minor": 5
}