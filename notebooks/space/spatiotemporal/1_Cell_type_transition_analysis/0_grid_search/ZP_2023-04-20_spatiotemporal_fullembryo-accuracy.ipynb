{
 "cells": [
  {
   "cell_type": "markdown",
   "id": "f9229f05-57ed-470b-b5b4-e1115cc90267",
   "metadata": {
    "pycharm": {
     "name": "#%% md\n"
    }
   },
   "source": [
    "# Evaluation of mapping performance of `moscot.spatiotemporal` applied to the MOSTA dataset\n",
    "\n",
    "Imports mapping results after running the grid search using `run_mosta_st_map.py`.\n"
   ]
  },
  {
   "cell_type": "code",
   "execution_count": 1,
   "id": "531d2548-1d17-4702-89d6-76acb94aec2d",
   "metadata": {
    "pycharm": {
     "name": "#%%\n"
    }
   },
   "outputs": [],
   "source": [
    "%load_ext autoreload \n",
    "%autoreload 2"
   ]
  },
  {
   "cell_type": "code",
   "execution_count": 2,
   "id": "12d05a8a-1a2a-4212-b9f5-ed7ec43073aa",
   "metadata": {
    "pycharm": {
     "name": "#%%\n"
    }
   },
   "outputs": [],
   "source": [
    "import os\n",
    "import sys"
   ]
  },
  {
   "cell_type": "code",
   "execution_count": 3,
   "id": "eed2acc9-9987-4d36-a266-46bf8ea5cc93",
   "metadata": {
    "pycharm": {
     "name": "#%%\n"
    }
   },
   "outputs": [],
   "source": [
    "from datetime import datetime\n",
    "import numpy as np\n",
    "from copy import copy\n",
    "import glob\n",
    "\n",
    "import pandas as pd\n",
    "\n",
    "import seaborn as sns\n",
    "import matplotlib.pyplot as plt"
   ]
  },
  {
   "cell_type": "code",
   "execution_count": 4,
   "id": "9162c17f-5792-4056-bd89-3b11f074a2e1",
   "metadata": {
    "pycharm": {
     "name": "#%%\n"
    }
   },
   "outputs": [],
   "source": [
    "import warnings\n",
    "warnings.simplefilter(\"ignore\", UserWarning)\n",
    "warnings.simplefilter(\"ignore\", FutureWarning)"
   ]
  },
  {
   "cell_type": "markdown",
   "id": "9efee01d-7332-464e-85ed-14136179c63c",
   "metadata": {
    "pycharm": {
     "name": "#%% md\n"
    }
   },
   "source": [
    "## Set parameters"
   ]
  },
  {
   "cell_type": "code",
   "execution_count": 5,
   "id": "dc40df22-0920-4605-adca-5c486426b328",
   "metadata": {
    "pycharm": {
     "name": "#%%\n"
    }
   },
   "outputs": [],
   "source": [
    "import mplscience\n",
    "mplscience.set_style()\n",
    "plt.rcParams[\"legend.scatterpoints\"] = 1"
   ]
  },
  {
   "cell_type": "code",
   "execution_count": 10,
   "id": "3b37b18a-e120-44dd-bd45-e25d97201606",
   "metadata": {
    "pycharm": {
     "name": "#%%\n"
    }
   },
   "outputs": [],
   "source": [
    "color_dict = {\n",
    "    \"SpatioTemporal (LR)\":\"#332288\",\n",
    "    \"SpatioTemporal\":\"#332288\",\n",
    "    \"Temporal (LR)\":\"#999933\",\n",
    "    \"Temporal\":\"#999933\",\n",
    "    \"TOME\": \"#339999\",\n",
    "    \"PASTE2\":\"#e6bf00\"\n",
    "}"
   ]
  },
  {
   "cell_type": "code",
   "execution_count": 7,
   "id": "7e2a9a3a-0c4c-4677-8dfe-bc55fa811821",
   "metadata": {
    "pycharm": {
     "name": "#%%\n"
    }
   },
   "outputs": [],
   "source": [
    "sys.path.insert(\n",
    "    0, \"../../../../../\"\n",
    ")  # this depends on the notebook depth and must be adapted per notebook\n",
    "\n",
    "from paths import DATA_DIR, FIG_DIR\n",
    "\n",
    "FIG_DIR = FIG_DIR / \"space/spatiotemporal/\"\n",
    "DATA_DIR =  DATA_DIR / \"space/spatiotemporal/\""
   ]
  },
  {
   "cell_type": "markdown",
   "id": "ab885625-f5b0-4c86-96c4-df0faa716c09",
   "metadata": {
    "pycharm": {
     "name": "#%% md\n"
    }
   },
   "source": [
    "## Dependencies\n",
    "\n",
    "Requires running:\n",
    "\n",
    "1. `0_Data_preparation/ZP_2023-04-20_spatiotemporal_fullembryo-preprocess.ipynb`: creates `mouse_embryo_all_stage_renormalized.h5ad`\n",
    " and independent anndata files for each pair in the data `mouse_embryo_{tp_i}_{tp_j}_renormalized.h5ad` consecutive $\\forall i,j$s.\n",
    "3. `1_Cell_type_transition_analysis/0_grid_search/`: running `0_moscot`, `1_TOME`, and `2_PASTE2` to create `.csv` accuracy files\n"
   ]
  },
  {
   "cell_type": "markdown",
   "id": "ebc6609d-9faf-459a-be4c-67b84e0301e7",
   "metadata": {
    "pycharm": {
     "name": "#%% md\n"
    },
    "tags": []
   },
   "source": [
    "## Load scores"
   ]
  },
  {
   "cell_type": "code",
   "execution_count": 8,
   "id": "2ad1da21-cd1d-460c-97ae-c5949be02b3a",
   "metadata": {
    "pycharm": {
     "name": "#%%\n"
    }
   },
   "outputs": [],
   "source": [
    "tps_couple = np.asarray([\n",
    "        [9.5, 10.5],\n",
    "        [10.5, 11.5],\n",
    "        [11.5, 12.5],\n",
    "        [12.5, 13.5],\n",
    "        [13.5, 14.5],\n",
    "        [14.5, 15.5],\n",
    "        [15.5, 16.5]\n",
    "])"
   ]
  },
  {
   "cell_type": "code",
   "execution_count": 9,
   "id": "39132c8f-a814-401c-b333-776dd8c29251",
   "metadata": {
    "pycharm": {
     "name": "#%%\n"
    }
   },
   "outputs": [],
   "source": [
    "filenames = glob.glob(DATA_DIR + \"output/*.csv\")"
   ]
  },
  {
   "cell_type": "code",
   "execution_count": 11,
   "id": "2e546791-decf-4484-a8fd-d7ddb7d44167",
   "metadata": {
    "pycharm": {
     "name": "#%%\n"
    }
   },
   "outputs": [],
   "source": [
    "res = None\n",
    "for file in filenames:\n",
    "    if os.stat(file).st_size:\n",
    "        split_ = file.split(\"/\")[-1].split(\"_\")\n",
    "        epsilon = split_[3]\n",
    "        rank = split_[5]\n",
    "        gamma = split_[7]\n",
    "        alpha = split_[9]\n",
    "        start = float(split_[11] + \".5\")\n",
    "        end = float(split_[13] + \".5\")\n",
    "        tp_ind = np.argwhere(tps_couple[:, 0] == start)[0][0]\n",
    "        cost = split_[-1].split(\".\")[0]\n",
    "        df = pd.read_csv(file) #, index_col=0)\n",
    "        df[\"tp_ind\"]=tp_ind\n",
    "        df[\"tp\"]=f\"E{start}-E{end}\"\n",
    "        df[\"rank\"]=rank\n",
    "        df[\"gamma\"]=gamma\n",
    "        df[\"epsilon\"]=epsilon\n",
    "        df[\"alpha\"]=alpha\n",
    "        df[\"cost\"]=cost\n",
    "        df[\"type\"]=\"moscot\"\n",
    "        if res is None:\n",
    "            res = df\n",
    "        else:\n",
    "            res = pd.concat([res, df])\n",
    "    else:\n",
    "        print(file)\n",
    "    "
   ]
  },
  {
   "cell_type": "code",
   "execution_count": 12,
   "id": "92c940d2-f455-41f5-8eaf-12234a31de77",
   "metadata": {
    "pycharm": {
     "name": "#%%\n"
    }
   },
   "outputs": [],
   "source": [
    "filenames_tome = glob.glob(DATA_DIR + \"output_tome/*.csv\")"
   ]
  },
  {
   "cell_type": "code",
   "execution_count": 13,
   "id": "b908692c-c6a6-42b1-b6eb-e0f0b96f3cbd",
   "metadata": {
    "pycharm": {
     "name": "#%%\n"
    }
   },
   "outputs": [],
   "source": [
    "res_tome = None\n",
    "for file in filenames_tome:\n",
    "    split_ = file.split(\"/\")[-1].split(\"_\")\n",
    "    tp = split_[-1].split(\".\")[0]\n",
    "    start, end = tps_couple[int(tp)]\n",
    "    df = pd.read_csv(file)\n",
    "    for row in df.values:\n",
    "        df_ = pd.DataFrame.from_dict({\n",
    "                \"tp\":[f\"E{start}-E{end}\"],\n",
    "                \"tp_ind\":[tp],\n",
    "                \"rank\":[None],\n",
    "                \"gamma\":[None],\n",
    "                \"epsilon\":[None],\n",
    "                \"alpha\":[None],\n",
    "                \"cost\": [None],\n",
    "                \"accuracy\":[row[-1]],\n",
    "                \"tau_a\":[None],\n",
    "                \"tau_b\":[None],\n",
    "                \"type\": [\"TOME\"],\n",
    "                \"prob_type\": [\"TOME\"]\n",
    "        })\n",
    "        if res_tome is None:\n",
    "            res_tome = df_\n",
    "        else:\n",
    "            res_tome = pd.concat([res_tome, df_])\n",
    "    "
   ]
  },
  {
   "cell_type": "code",
   "execution_count": 14,
   "id": "5f505f7b-b422-40b4-a9f6-70cd869e6987",
   "metadata": {
    "pycharm": {
     "name": "#%%\n"
    }
   },
   "outputs": [],
   "source": [
    "filenames_paste = glob.glob(DATA_DIR + \"output_paste2/*.csv\")"
   ]
  },
  {
   "cell_type": "code",
   "execution_count": 15,
   "id": "33b23064-1d38-4f62-b75e-7c47ced828d5",
   "metadata": {
    "pycharm": {
     "name": "#%%\n"
    }
   },
   "outputs": [],
   "source": [
    "res_paste = None\n",
    "for file in filenames_paste:\n",
    "    split_ = file.split(\"/\")[-1].split(\"_\")\n",
    "    random_state = split_[-1].split(\".\")[0]\n",
    "    tp = split_[-2]\n",
    "    start, end = tps_couple[int(tp)]\n",
    "    df = pd.read_csv(file)\n",
    "    for row in df.values:\n",
    "        df_ = pd.DataFrame.from_dict({\n",
    "                \"random_state\": random_state,\n",
    "                \"tp\":[f\"E{start}-E{end}\"],\n",
    "                \"tp_ind\":[tp],\n",
    "                \"rank\":[None],\n",
    "                \"gamma\":[None],\n",
    "                \"epsilon\":[None],\n",
    "                \"alpha\":[None],\n",
    "                \"cost\": [None],\n",
    "                \"accuracy\":[row[-1]],\n",
    "                \"tau_a\":[None],\n",
    "                \"tau_b\":[None],\n",
    "                \"type\": [\"PASTE2\"],\n",
    "                \"prob_type\": [\"PASTE2\"]\n",
    "        })\n",
    "        if res_paste is None:\n",
    "            res_paste = df_\n",
    "        else:\n",
    "            res_paste = pd.concat([res_paste, df_])\n",
    "    "
   ]
  },
  {
   "cell_type": "code",
   "execution_count": 16,
   "id": "d01238ae-deb2-428c-8c24-fe0db23d3143",
   "metadata": {
    "pycharm": {
     "name": "#%%\n"
    }
   },
   "outputs": [
    {
     "data": {
      "text/html": [
       "<div>\n",
       "<style scoped>\n",
       "    .dataframe tbody tr th:only-of-type {\n",
       "        vertical-align: middle;\n",
       "    }\n",
       "\n",
       "    .dataframe tbody tr th {\n",
       "        vertical-align: top;\n",
       "    }\n",
       "\n",
       "    .dataframe thead th {\n",
       "        text-align: right;\n",
       "    }\n",
       "</style>\n",
       "<table border=\"1\" class=\"dataframe\">\n",
       "  <thead>\n",
       "    <tr style=\"text-align: right;\">\n",
       "      <th></th>\n",
       "      <th>Unnamed: 0</th>\n",
       "      <th>tau_a</th>\n",
       "      <th>tau_b</th>\n",
       "      <th>accuracy</th>\n",
       "      <th>scale_cost</th>\n",
       "      <th>converged</th>\n",
       "      <th>costs_last</th>\n",
       "      <th>n_iters</th>\n",
       "      <th>tp_ind</th>\n",
       "      <th>tp</th>\n",
       "      <th>rank</th>\n",
       "      <th>gamma</th>\n",
       "      <th>epsilon</th>\n",
       "      <th>alpha</th>\n",
       "      <th>cost</th>\n",
       "      <th>type</th>\n",
       "      <th>type_lr</th>\n",
       "      <th>balanced</th>\n",
       "      <th>prob_type</th>\n",
       "    </tr>\n",
       "  </thead>\n",
       "  <tbody>\n",
       "    <tr>\n",
       "      <th>0</th>\n",
       "      <td>0</td>\n",
       "      <td>0.01</td>\n",
       "      <td>0.01</td>\n",
       "      <td>0.141750</td>\n",
       "      <td>max_cost</td>\n",
       "      <td>True</td>\n",
       "      <td>0.003348411580845297_0.0033356000206625205</td>\n",
       "      <td>2</td>\n",
       "      <td>4</td>\n",
       "      <td>E13.5-E14.5</td>\n",
       "      <td>500</td>\n",
       "      <td>100.0</td>\n",
       "      <td>0.0001</td>\n",
       "      <td>0.8</td>\n",
       "      <td>euclidean</td>\n",
       "      <td>SpatioTemporal</td>\n",
       "      <td>SpatioTemporal (LR)</td>\n",
       "      <td>un-balanced</td>\n",
       "      <td>SpatioTemporal (LR, un-balanced)</td>\n",
       "    </tr>\n",
       "    <tr>\n",
       "      <th>1</th>\n",
       "      <td>1</td>\n",
       "      <td>0.01</td>\n",
       "      <td>0.05</td>\n",
       "      <td>0.433648</td>\n",
       "      <td>max_cost</td>\n",
       "      <td>True</td>\n",
       "      <td>0.003163726568695267_0.003096768869166651</td>\n",
       "      <td>2</td>\n",
       "      <td>4</td>\n",
       "      <td>E13.5-E14.5</td>\n",
       "      <td>500</td>\n",
       "      <td>100.0</td>\n",
       "      <td>0.0001</td>\n",
       "      <td>0.8</td>\n",
       "      <td>euclidean</td>\n",
       "      <td>SpatioTemporal</td>\n",
       "      <td>SpatioTemporal (LR)</td>\n",
       "      <td>un-balanced</td>\n",
       "      <td>SpatioTemporal (LR, un-balanced)</td>\n",
       "    </tr>\n",
       "    <tr>\n",
       "      <th>2</th>\n",
       "      <td>2</td>\n",
       "      <td>0.01</td>\n",
       "      <td>1.00</td>\n",
       "      <td>0.142684</td>\n",
       "      <td>max_cost</td>\n",
       "      <td>True</td>\n",
       "      <td>0.009808892636121568_0.009640694052643381</td>\n",
       "      <td>2</td>\n",
       "      <td>4</td>\n",
       "      <td>E13.5-E14.5</td>\n",
       "      <td>500</td>\n",
       "      <td>100.0</td>\n",
       "      <td>0.0001</td>\n",
       "      <td>0.8</td>\n",
       "      <td>euclidean</td>\n",
       "      <td>SpatioTemporal</td>\n",
       "      <td>SpatioTemporal (LR)</td>\n",
       "      <td>un-balanced</td>\n",
       "      <td>SpatioTemporal (LR, un-balanced)</td>\n",
       "    </tr>\n",
       "    <tr>\n",
       "      <th>3</th>\n",
       "      <td>3</td>\n",
       "      <td>0.05</td>\n",
       "      <td>0.01</td>\n",
       "      <td>0.421841</td>\n",
       "      <td>max_cost</td>\n",
       "      <td>True</td>\n",
       "      <td>0.0032941943818906973_0.0032098444402314237</td>\n",
       "      <td>2</td>\n",
       "      <td>4</td>\n",
       "      <td>E13.5-E14.5</td>\n",
       "      <td>500</td>\n",
       "      <td>100.0</td>\n",
       "      <td>0.0001</td>\n",
       "      <td>0.8</td>\n",
       "      <td>euclidean</td>\n",
       "      <td>SpatioTemporal</td>\n",
       "      <td>SpatioTemporal (LR)</td>\n",
       "      <td>un-balanced</td>\n",
       "      <td>SpatioTemporal (LR, un-balanced)</td>\n",
       "    </tr>\n",
       "    <tr>\n",
       "      <th>4</th>\n",
       "      <td>4</td>\n",
       "      <td>0.05</td>\n",
       "      <td>0.05</td>\n",
       "      <td>0.422627</td>\n",
       "      <td>max_cost</td>\n",
       "      <td>True</td>\n",
       "      <td>0.00381382599894662_0.003717893759673757</td>\n",
       "      <td>2</td>\n",
       "      <td>4</td>\n",
       "      <td>E13.5-E14.5</td>\n",
       "      <td>500</td>\n",
       "      <td>100.0</td>\n",
       "      <td>0.0001</td>\n",
       "      <td>0.8</td>\n",
       "      <td>euclidean</td>\n",
       "      <td>SpatioTemporal</td>\n",
       "      <td>SpatioTemporal (LR)</td>\n",
       "      <td>un-balanced</td>\n",
       "      <td>SpatioTemporal (LR, un-balanced)</td>\n",
       "    </tr>\n",
       "  </tbody>\n",
       "</table>\n",
       "</div>"
      ],
      "text/plain": [
       "   Unnamed: 0  tau_a  tau_b  accuracy scale_cost  converged  \\\n",
       "0           0   0.01   0.01  0.141750   max_cost       True   \n",
       "1           1   0.01   0.05  0.433648   max_cost       True   \n",
       "2           2   0.01   1.00  0.142684   max_cost       True   \n",
       "3           3   0.05   0.01  0.421841   max_cost       True   \n",
       "4           4   0.05   0.05  0.422627   max_cost       True   \n",
       "\n",
       "                                    costs_last  n_iters  tp_ind           tp  \\\n",
       "0   0.003348411580845297_0.0033356000206625205        2       4  E13.5-E14.5   \n",
       "1    0.003163726568695267_0.003096768869166651        2       4  E13.5-E14.5   \n",
       "2    0.009808892636121568_0.009640694052643381        2       4  E13.5-E14.5   \n",
       "3  0.0032941943818906973_0.0032098444402314237        2       4  E13.5-E14.5   \n",
       "4     0.00381382599894662_0.003717893759673757        2       4  E13.5-E14.5   \n",
       "\n",
       "  rank  gamma epsilon alpha       cost            type              type_lr  \\\n",
       "0  500  100.0  0.0001   0.8  euclidean  SpatioTemporal  SpatioTemporal (LR)   \n",
       "1  500  100.0  0.0001   0.8  euclidean  SpatioTemporal  SpatioTemporal (LR)   \n",
       "2  500  100.0  0.0001   0.8  euclidean  SpatioTemporal  SpatioTemporal (LR)   \n",
       "3  500  100.0  0.0001   0.8  euclidean  SpatioTemporal  SpatioTemporal (LR)   \n",
       "4  500  100.0  0.0001   0.8  euclidean  SpatioTemporal  SpatioTemporal (LR)   \n",
       "\n",
       "      balanced                         prob_type  \n",
       "0  un-balanced  SpatioTemporal (LR, un-balanced)  \n",
       "1  un-balanced  SpatioTemporal (LR, un-balanced)  \n",
       "2  un-balanced  SpatioTemporal (LR, un-balanced)  \n",
       "3  un-balanced  SpatioTemporal (LR, un-balanced)  \n",
       "4  un-balanced  SpatioTemporal (LR, un-balanced)  "
      ]
     },
     "execution_count": 16,
     "metadata": {},
     "output_type": "execute_result"
    }
   ],
   "source": [
    "res[\"type\"] = \"SpatioTemporal\"\n",
    "res.loc[res[\"alpha\"] == \"0.0\", \"type\"] = \"Temporal\"\n",
    "\n",
    "res[\"type_lr\"] = \"SpatioTemporal (LR)\"\n",
    "res.loc[res[\"alpha\"] == \"0.0\", \"type_lr\"] = \"Temporal (LR)\"\n",
    "\n",
    "res[\"balanced\"] = \"un-balanced\"\n",
    "res.loc[(res[\"tau_a\"] == 1.0) & (res[\"tau_b\"] == 1.0), \"balanced\"] = \"balanced\"\n",
    "\n",
    "res[\"prob_type\"] = res[\"type\"] + \" (LR, \" + res[\"balanced\"]  + \")\"\n",
    "res.head()"
   ]
  },
  {
   "cell_type": "code",
   "execution_count": 17,
   "id": "a241b411-df03-4736-a4f0-fe188577838a",
   "metadata": {
    "pycharm": {
     "name": "#%%\n"
    }
   },
   "outputs": [],
   "source": [
    "res[\"accuracy\"] = res[\"accuracy\"].astype(float)\n",
    "res = res.reset_index()"
   ]
  },
  {
   "cell_type": "code",
   "execution_count": 18,
   "id": "dceb1824-01f8-4c17-8ca8-ea15dd30ab1c",
   "metadata": {
    "pycharm": {
     "name": "#%%\n"
    }
   },
   "outputs": [],
   "source": [
    "res_max = res.loc[res.groupby([\"tp\", \"prob_type\"])[\"accuracy\"].idxmax(), :].copy()"
   ]
  },
  {
   "cell_type": "code",
   "execution_count": 20,
   "id": "43785f40-931c-473e-87fe-7f8f2f086062",
   "metadata": {
    "pycharm": {
     "name": "#%%\n"
    }
   },
   "outputs": [],
   "source": [
    "tps = ['E9.5-E10.5', 'E10.5-E11.5', 'E11.5-E12.5', 'E12.5-E13.5', 'E13.5-E14.5', 'E14.5-E15.5', 'E15.5-E16.5']"
   ]
  },
  {
   "cell_type": "code",
   "execution_count": 21,
   "id": "961744fc-f271-432d-860b-c4c51b0b565d",
   "metadata": {
    "pycharm": {
     "name": "#%%\n"
    }
   },
   "outputs": [
    {
     "name": "stdout",
     "output_type": "stream",
     "text": [
      "E9.5-E10.5:['0.2' '0.9' '0.8' '0.0' '0.4' '0.6']\n",
      "E10.5-E11.5:['0.4' '0.6' '0.9' '0.0' '0.8' '0.2']\n",
      "E11.5-E12.5:['0.8' '0.6' '0.2' '0.9' '0.0' '0.4']\n",
      "E12.5-E13.5:['0.0' '0.4' '0.6' '0.8' '0.2' '0.9']\n",
      "E13.5-E14.5:['0.8' '0.0' '0.2' '0.4' '0.9' '0.6']\n",
      "E14.5-E15.5:['0.4' '0.2' '0.6' '0.0' '0.8']\n",
      "E15.5-E16.5:['0.6' '0.8' '0.0' '0.2' '0.4']\n"
     ]
    }
   ],
   "source": [
    "for tp in tps:\n",
    "    alphas = res[res[\"tp\"] == tp][\"alpha\"].unique()\n",
    "    print(f\"{tp}:{alphas}\")"
   ]
  },
  {
   "cell_type": "code",
   "execution_count": 22,
   "id": "6b3fc5c4-b213-4a3f-a167-a136f9435215",
   "metadata": {
    "pycharm": {
     "name": "#%%\n"
    }
   },
   "outputs": [
    {
     "name": "stdout",
     "output_type": "stream",
     "text": [
      "optimal alpha:\n",
      "['0.4' '0.6' '0.2' '0.6' '0.6' '0.4' '0.6']\n",
      "optimal epsilon:\n",
      "['0.0001' '0.0001' '0.0001' '0.0001' '0.0001' '0.0001' '0.0001']\n",
      "optimal tau_a:\n",
      "[1.   0.05 0.01 1.   0.01 1.   1.  ]\n",
      "optimal tau_b:\n",
      "[0.01 1.   1.   0.01 1.   0.05 0.01]\n",
      "optimal rank:\n",
      "['500' '500' '500' '500' '500' '500' '500']\n",
      "optimal gamma:\n",
      "['100.0' '100.0' '100.0' '100.0' '100.0' '100.0' '100.0']\n",
      "optimal scale_cost:\n",
      "['max_cost' 'max_cost' 'max_cost' 'max_cost' 'max_cost' 'max_cost'\n",
      " 'max_cost']\n",
      "optimal accuracy:\n",
      "[0.36704162 0.39218253 0.39142227 0.39105698 0.48793794 0.49104312\n",
      " 0.45728599]\n",
      "optimal costs_last:\n",
      "['0.08560951994509024_0.08557255503823347'\n",
      " '0.034646706279427536_0.03464100162682919'\n",
      " '0.22700430407061717_0.2265780732878149'\n",
      " '0.03323227730773162_0.03320907627862501'\n",
      " '0.025675736950355042_0.02553808423478854'\n",
      " '0.06995206520912345_0.06990533655541785'\n",
      " '0.026907507964625155_0.026874263215898635']\n",
      "optimal converged:\n",
      "[ True  True  True  True  True  True  True]\n"
     ]
    }
   ],
   "source": [
    "for val in [\"alpha\", \"epsilon\", \"tau_a\", \"tau_b\", \"rank\", \"gamma\", \"scale_cost\", \"accuracy\" , \"costs_last\", \"converged\"]:\n",
    "    print(f\"optimal {val}:\")\n",
    "    optimal_val = res_max[(res_max[\"prob_type\"] == \"SpatioTemporal (LR, un-balanced)\")][[\"tp_ind\", \"tp\", val]]\n",
    "    print(optimal_val.sort_values(by=\"tp_ind\")[val].values)\n",
    "    "
   ]
  },
  {
   "cell_type": "code",
   "execution_count": 23,
   "id": "a5fc56c5-a8f7-401c-af9b-238e407e86d7",
   "metadata": {
    "pycharm": {
     "name": "#%%\n"
    }
   },
   "outputs": [
    {
     "name": "stdout",
     "output_type": "stream",
     "text": [
      "optimal alpha:\n",
      "['0.0' '0.0' '0.0' '0.0' '0.0' '0.0' '0.0']\n",
      "optimal epsilon:\n",
      "['0.0001' '0.0001' '0.0001' '0.0001' '0.0001' '0.0001' '0.0001']\n",
      "optimal tau_a:\n",
      "[1.   0.01 0.01 0.01 0.01 0.01 0.01]\n",
      "optimal tau_b:\n",
      "[0.01 0.05 1.   0.01 0.01 0.01 0.01]\n",
      "optimal rank:\n",
      "['500' '500' '500' '500' '500' '500' '500']\n",
      "optimal gamma:\n",
      "['100.0' '100.0' '100.0' '100.0' '100.0' '100.0' '100.0']\n",
      "optimal scale_cost:\n",
      "['max_cost' 'max_cost' 'max_cost' 'max_cost' 'max_cost' 'max_cost'\n",
      " 'max_cost']\n",
      "optimal accuracy:\n",
      "[0.31083868 0.31857121 0.38604736 0.34530021 0.44232522 0.47970246\n",
      " 0.35383009]\n",
      "optimal costs_last:\n",
      "['0.08583101171677962_0.08579922938485433'\n",
      " '0.0468661897615314_0.04684553587646239'\n",
      " '0.08008994426662233_0.08007573210785479'\n",
      " '0.019628219864409616_0.0196221309997412'\n",
      " '0.018973744230683716_0.01895792789161506'\n",
      " '0.018663905659841672_0.018641164139686882'\n",
      " '0.018956333100340853_0.01892470929702565']\n",
      "optimal converged:\n",
      "[ True  True  True  True  True  True  True]\n"
     ]
    }
   ],
   "source": [
    "for val in [\"alpha\", \"epsilon\", \"tau_a\", \"tau_b\", \"rank\", \"gamma\", \"scale_cost\", \"accuracy\", \"costs_last\", \"converged\"]:\n",
    "    print(f\"optimal {val}:\")\n",
    "    optimal_val = res_max[(res_max[\"prob_type\"] == \"Temporal (LR, un-balanced)\")][[\"tp_ind\", \"tp\", val]]\n",
    "    print(optimal_val.sort_values(by=\"tp_ind\")[val].values)\n"
   ]
  },
  {
   "cell_type": "code",
   "execution_count": 24,
   "id": "93db25ea-7155-4bc8-ba94-f67fc19d5077",
   "metadata": {
    "pycharm": {
     "name": "#%%\n"
    }
   },
   "outputs": [],
   "source": [
    "res_max_unbal = res_max[res_max[\"balanced\"] == \"un-balanced\"]"
   ]
  },
  {
   "cell_type": "code",
   "execution_count": 25,
   "id": "ef058011-7787-403f-b50c-e3ca4bfcd96b",
   "metadata": {
    "pycharm": {
     "name": "#%%\n"
    }
   },
   "outputs": [],
   "source": [
    "res_full = pd.concat([res_max_unbal, res_tome, res_paste])"
   ]
  },
  {
   "cell_type": "code",
   "execution_count": 26,
   "id": "a22f6c09-6c10-420d-b180-efb4bf9770ac",
   "metadata": {
    "pycharm": {
     "name": "#%%\n"
    }
   },
   "outputs": [],
   "source": [
    "hue_order = ['SpatioTemporal',\n",
    "            'Temporal',\n",
    "             'TOME']"
   ]
  },
  {
   "cell_type": "code",
   "execution_count": 27,
   "id": "2d692f6f-122d-4720-9177-f8fe02425a90",
   "metadata": {
    "pycharm": {
     "name": "#%%\n"
    }
   },
   "outputs": [
    {
     "data": {
      "text/html": [
       "<div>\n",
       "<style scoped>\n",
       "    .dataframe tbody tr th:only-of-type {\n",
       "        vertical-align: middle;\n",
       "    }\n",
       "\n",
       "    .dataframe tbody tr th {\n",
       "        vertical-align: top;\n",
       "    }\n",
       "\n",
       "    .dataframe thead th {\n",
       "        text-align: right;\n",
       "    }\n",
       "</style>\n",
       "<table border=\"1\" class=\"dataframe\">\n",
       "  <thead>\n",
       "    <tr style=\"text-align: right;\">\n",
       "      <th></th>\n",
       "      <th>index</th>\n",
       "      <th>Unnamed: 0</th>\n",
       "      <th>tau_a</th>\n",
       "      <th>tau_b</th>\n",
       "      <th>accuracy</th>\n",
       "      <th>scale_cost</th>\n",
       "      <th>converged</th>\n",
       "      <th>costs_last</th>\n",
       "      <th>n_iters</th>\n",
       "      <th>tp_ind</th>\n",
       "      <th>...</th>\n",
       "      <th>rank</th>\n",
       "      <th>gamma</th>\n",
       "      <th>epsilon</th>\n",
       "      <th>alpha</th>\n",
       "      <th>cost</th>\n",
       "      <th>type</th>\n",
       "      <th>type_lr</th>\n",
       "      <th>balanced</th>\n",
       "      <th>prob_type</th>\n",
       "      <th>random_state</th>\n",
       "    </tr>\n",
       "  </thead>\n",
       "  <tbody>\n",
       "    <tr>\n",
       "      <th>53</th>\n",
       "      <td>5.0</td>\n",
       "      <td>5.0</td>\n",
       "      <td>0.05</td>\n",
       "      <td>1.00</td>\n",
       "      <td>0.392183</td>\n",
       "      <td>max_cost</td>\n",
       "      <td>True</td>\n",
       "      <td>0.034646706279427536_0.03464100162682919</td>\n",
       "      <td>3.0</td>\n",
       "      <td>1</td>\n",
       "      <td>...</td>\n",
       "      <td>500</td>\n",
       "      <td>100.0</td>\n",
       "      <td>0.0001</td>\n",
       "      <td>0.6</td>\n",
       "      <td>euclidean</td>\n",
       "      <td>SpatioTemporal</td>\n",
       "      <td>SpatioTemporal (LR)</td>\n",
       "      <td>un-balanced</td>\n",
       "      <td>SpatioTemporal (LR, un-balanced)</td>\n",
       "      <td>NaN</td>\n",
       "    </tr>\n",
       "    <tr>\n",
       "      <th>293</th>\n",
       "      <td>1.0</td>\n",
       "      <td>1.0</td>\n",
       "      <td>0.01</td>\n",
       "      <td>0.05</td>\n",
       "      <td>0.318571</td>\n",
       "      <td>max_cost</td>\n",
       "      <td>True</td>\n",
       "      <td>0.0468661897615314_0.04684553587646239</td>\n",
       "      <td>2.0</td>\n",
       "      <td>1</td>\n",
       "      <td>...</td>\n",
       "      <td>500</td>\n",
       "      <td>100.0</td>\n",
       "      <td>0.0001</td>\n",
       "      <td>0.0</td>\n",
       "      <td>euclidean</td>\n",
       "      <td>Temporal</td>\n",
       "      <td>Temporal (LR)</td>\n",
       "      <td>un-balanced</td>\n",
       "      <td>Temporal (LR, un-balanced)</td>\n",
       "      <td>NaN</td>\n",
       "    </tr>\n",
       "    <tr>\n",
       "      <th>209</th>\n",
       "      <td>2.0</td>\n",
       "      <td>2.0</td>\n",
       "      <td>0.01</td>\n",
       "      <td>1.00</td>\n",
       "      <td>0.391422</td>\n",
       "      <td>max_cost</td>\n",
       "      <td>True</td>\n",
       "      <td>0.22700430407061717_0.2265780732878149</td>\n",
       "      <td>2.0</td>\n",
       "      <td>2</td>\n",
       "      <td>...</td>\n",
       "      <td>500</td>\n",
       "      <td>100.0</td>\n",
       "      <td>0.0001</td>\n",
       "      <td>0.2</td>\n",
       "      <td>euclidean</td>\n",
       "      <td>SpatioTemporal</td>\n",
       "      <td>SpatioTemporal (LR)</td>\n",
       "      <td>un-balanced</td>\n",
       "      <td>SpatioTemporal (LR, un-balanced)</td>\n",
       "      <td>NaN</td>\n",
       "    </tr>\n",
       "    <tr>\n",
       "      <th>261</th>\n",
       "      <td>2.0</td>\n",
       "      <td>2.0</td>\n",
       "      <td>0.01</td>\n",
       "      <td>1.00</td>\n",
       "      <td>0.386047</td>\n",
       "      <td>max_cost</td>\n",
       "      <td>True</td>\n",
       "      <td>0.08008994426662233_0.08007573210785479</td>\n",
       "      <td>2.0</td>\n",
       "      <td>2</td>\n",
       "      <td>...</td>\n",
       "      <td>500</td>\n",
       "      <td>100.0</td>\n",
       "      <td>0.0001</td>\n",
       "      <td>0.0</td>\n",
       "      <td>euclidean</td>\n",
       "      <td>Temporal</td>\n",
       "      <td>Temporal (LR)</td>\n",
       "      <td>un-balanced</td>\n",
       "      <td>Temporal (LR, un-balanced)</td>\n",
       "      <td>NaN</td>\n",
       "    </tr>\n",
       "    <tr>\n",
       "      <th>87</th>\n",
       "      <td>6.0</td>\n",
       "      <td>6.0</td>\n",
       "      <td>1.00</td>\n",
       "      <td>0.01</td>\n",
       "      <td>0.391057</td>\n",
       "      <td>max_cost</td>\n",
       "      <td>True</td>\n",
       "      <td>0.03323227730773162_0.03320907627862501</td>\n",
       "      <td>2.0</td>\n",
       "      <td>3</td>\n",
       "      <td>...</td>\n",
       "      <td>500</td>\n",
       "      <td>100.0</td>\n",
       "      <td>0.0001</td>\n",
       "      <td>0.6</td>\n",
       "      <td>euclidean</td>\n",
       "      <td>SpatioTemporal</td>\n",
       "      <td>SpatioTemporal (LR)</td>\n",
       "      <td>un-balanced</td>\n",
       "      <td>SpatioTemporal (LR, un-balanced)</td>\n",
       "      <td>NaN</td>\n",
       "    </tr>\n",
       "    <tr>\n",
       "      <th>...</th>\n",
       "      <td>...</td>\n",
       "      <td>...</td>\n",
       "      <td>...</td>\n",
       "      <td>...</td>\n",
       "      <td>...</td>\n",
       "      <td>...</td>\n",
       "      <td>...</td>\n",
       "      <td>...</td>\n",
       "      <td>...</td>\n",
       "      <td>...</td>\n",
       "      <td>...</td>\n",
       "      <td>...</td>\n",
       "      <td>...</td>\n",
       "      <td>...</td>\n",
       "      <td>...</td>\n",
       "      <td>...</td>\n",
       "      <td>...</td>\n",
       "      <td>...</td>\n",
       "      <td>...</td>\n",
       "      <td>...</td>\n",
       "      <td>...</td>\n",
       "    </tr>\n",
       "    <tr>\n",
       "      <th>0</th>\n",
       "      <td>NaN</td>\n",
       "      <td>NaN</td>\n",
       "      <td>NaN</td>\n",
       "      <td>NaN</td>\n",
       "      <td>0.308750</td>\n",
       "      <td>NaN</td>\n",
       "      <td>NaN</td>\n",
       "      <td>NaN</td>\n",
       "      <td>NaN</td>\n",
       "      <td>2</td>\n",
       "      <td>...</td>\n",
       "      <td>None</td>\n",
       "      <td>None</td>\n",
       "      <td>None</td>\n",
       "      <td>None</td>\n",
       "      <td>None</td>\n",
       "      <td>PASTE2</td>\n",
       "      <td>NaN</td>\n",
       "      <td>NaN</td>\n",
       "      <td>PASTE2</td>\n",
       "      <td>36489</td>\n",
       "    </tr>\n",
       "    <tr>\n",
       "      <th>0</th>\n",
       "      <td>NaN</td>\n",
       "      <td>NaN</td>\n",
       "      <td>NaN</td>\n",
       "      <td>NaN</td>\n",
       "      <td>0.156250</td>\n",
       "      <td>NaN</td>\n",
       "      <td>NaN</td>\n",
       "      <td>NaN</td>\n",
       "      <td>NaN</td>\n",
       "      <td>1</td>\n",
       "      <td>...</td>\n",
       "      <td>None</td>\n",
       "      <td>None</td>\n",
       "      <td>None</td>\n",
       "      <td>None</td>\n",
       "      <td>None</td>\n",
       "      <td>PASTE2</td>\n",
       "      <td>NaN</td>\n",
       "      <td>NaN</td>\n",
       "      <td>PASTE2</td>\n",
       "      <td>4698</td>\n",
       "    </tr>\n",
       "    <tr>\n",
       "      <th>0</th>\n",
       "      <td>NaN</td>\n",
       "      <td>NaN</td>\n",
       "      <td>NaN</td>\n",
       "      <td>NaN</td>\n",
       "      <td>0.286875</td>\n",
       "      <td>NaN</td>\n",
       "      <td>NaN</td>\n",
       "      <td>NaN</td>\n",
       "      <td>NaN</td>\n",
       "      <td>2</td>\n",
       "      <td>...</td>\n",
       "      <td>None</td>\n",
       "      <td>None</td>\n",
       "      <td>None</td>\n",
       "      <td>None</td>\n",
       "      <td>None</td>\n",
       "      <td>PASTE2</td>\n",
       "      <td>NaN</td>\n",
       "      <td>NaN</td>\n",
       "      <td>PASTE2</td>\n",
       "      <td>59707</td>\n",
       "    </tr>\n",
       "    <tr>\n",
       "      <th>0</th>\n",
       "      <td>NaN</td>\n",
       "      <td>NaN</td>\n",
       "      <td>NaN</td>\n",
       "      <td>NaN</td>\n",
       "      <td>0.370625</td>\n",
       "      <td>NaN</td>\n",
       "      <td>NaN</td>\n",
       "      <td>NaN</td>\n",
       "      <td>NaN</td>\n",
       "      <td>4</td>\n",
       "      <td>...</td>\n",
       "      <td>None</td>\n",
       "      <td>None</td>\n",
       "      <td>None</td>\n",
       "      <td>None</td>\n",
       "      <td>None</td>\n",
       "      <td>PASTE2</td>\n",
       "      <td>NaN</td>\n",
       "      <td>NaN</td>\n",
       "      <td>PASTE2</td>\n",
       "      <td>50349</td>\n",
       "    </tr>\n",
       "    <tr>\n",
       "      <th>0</th>\n",
       "      <td>NaN</td>\n",
       "      <td>NaN</td>\n",
       "      <td>NaN</td>\n",
       "      <td>NaN</td>\n",
       "      <td>0.383125</td>\n",
       "      <td>NaN</td>\n",
       "      <td>NaN</td>\n",
       "      <td>NaN</td>\n",
       "      <td>NaN</td>\n",
       "      <td>3</td>\n",
       "      <td>...</td>\n",
       "      <td>None</td>\n",
       "      <td>None</td>\n",
       "      <td>None</td>\n",
       "      <td>None</td>\n",
       "      <td>None</td>\n",
       "      <td>PASTE2</td>\n",
       "      <td>NaN</td>\n",
       "      <td>NaN</td>\n",
       "      <td>PASTE2</td>\n",
       "      <td>25295</td>\n",
       "    </tr>\n",
       "  </tbody>\n",
       "</table>\n",
       "<p>91 rows × 21 columns</p>\n",
       "</div>"
      ],
      "text/plain": [
       "     index  Unnamed: 0  tau_a  tau_b  accuracy scale_cost converged  \\\n",
       "53     5.0         5.0   0.05   1.00  0.392183   max_cost      True   \n",
       "293    1.0         1.0   0.01   0.05  0.318571   max_cost      True   \n",
       "209    2.0         2.0   0.01   1.00  0.391422   max_cost      True   \n",
       "261    2.0         2.0   0.01   1.00  0.386047   max_cost      True   \n",
       "87     6.0         6.0   1.00   0.01  0.391057   max_cost      True   \n",
       "..     ...         ...    ...    ...       ...        ...       ...   \n",
       "0      NaN         NaN    NaN    NaN  0.308750        NaN       NaN   \n",
       "0      NaN         NaN    NaN    NaN  0.156250        NaN       NaN   \n",
       "0      NaN         NaN    NaN    NaN  0.286875        NaN       NaN   \n",
       "0      NaN         NaN    NaN    NaN  0.370625        NaN       NaN   \n",
       "0      NaN         NaN    NaN    NaN  0.383125        NaN       NaN   \n",
       "\n",
       "                                   costs_last  n_iters tp_ind  ...  rank  \\\n",
       "53   0.034646706279427536_0.03464100162682919      3.0      1  ...   500   \n",
       "293    0.0468661897615314_0.04684553587646239      2.0      1  ...   500   \n",
       "209    0.22700430407061717_0.2265780732878149      2.0      2  ...   500   \n",
       "261   0.08008994426662233_0.08007573210785479      2.0      2  ...   500   \n",
       "87    0.03323227730773162_0.03320907627862501      2.0      3  ...   500   \n",
       "..                                        ...      ...    ...  ...   ...   \n",
       "0                                         NaN      NaN      2  ...  None   \n",
       "0                                         NaN      NaN      1  ...  None   \n",
       "0                                         NaN      NaN      2  ...  None   \n",
       "0                                         NaN      NaN      4  ...  None   \n",
       "0                                         NaN      NaN      3  ...  None   \n",
       "\n",
       "     gamma epsilon alpha       cost            type              type_lr  \\\n",
       "53   100.0  0.0001   0.6  euclidean  SpatioTemporal  SpatioTemporal (LR)   \n",
       "293  100.0  0.0001   0.0  euclidean        Temporal        Temporal (LR)   \n",
       "209  100.0  0.0001   0.2  euclidean  SpatioTemporal  SpatioTemporal (LR)   \n",
       "261  100.0  0.0001   0.0  euclidean        Temporal        Temporal (LR)   \n",
       "87   100.0  0.0001   0.6  euclidean  SpatioTemporal  SpatioTemporal (LR)   \n",
       "..     ...     ...   ...        ...             ...                  ...   \n",
       "0     None    None  None       None          PASTE2                  NaN   \n",
       "0     None    None  None       None          PASTE2                  NaN   \n",
       "0     None    None  None       None          PASTE2                  NaN   \n",
       "0     None    None  None       None          PASTE2                  NaN   \n",
       "0     None    None  None       None          PASTE2                  NaN   \n",
       "\n",
       "        balanced                         prob_type random_state  \n",
       "53   un-balanced  SpatioTemporal (LR, un-balanced)          NaN  \n",
       "293  un-balanced        Temporal (LR, un-balanced)          NaN  \n",
       "209  un-balanced  SpatioTemporal (LR, un-balanced)          NaN  \n",
       "261  un-balanced        Temporal (LR, un-balanced)          NaN  \n",
       "87   un-balanced  SpatioTemporal (LR, un-balanced)          NaN  \n",
       "..           ...                               ...          ...  \n",
       "0            NaN                            PASTE2        36489  \n",
       "0            NaN                            PASTE2         4698  \n",
       "0            NaN                            PASTE2        59707  \n",
       "0            NaN                            PASTE2        50349  \n",
       "0            NaN                            PASTE2        25295  \n",
       "\n",
       "[91 rows x 21 columns]"
      ]
     },
     "execution_count": 27,
     "metadata": {},
     "output_type": "execute_result"
    }
   ],
   "source": [
    "res_full"
   ]
  },
  {
   "cell_type": "code",
   "execution_count": 28,
   "id": "162f99a1-ee23-4368-a328-6eebf8d3171a",
   "metadata": {
    "pycharm": {
     "name": "#%%\n"
    }
   },
   "outputs": [
    {
     "data": {
      "image/png": "[encoded data removed]",
      "text/plain": [
       "<Figure size 432x288 with 1 Axes>"
      ]
     },
     "metadata": {
      "needs_background": "light"
     },
     "output_type": "display_data"
    }
   ],
   "source": [
    "fig, axs = plt.subplots(1, 1, figsize=(6,4))\n",
    "ax = sns.barplot(\n",
    "    x=\"tp\",\n",
    "    y=\"accuracy\", \n",
    "    hue=\"type\",\n",
    "    hue_order = hue_order,\n",
    "    order = [\"E9.5-E10.5\",\"E10.5-E11.5\", \"E11.5-E12.5\", \"E12.5-E13.5\", \"E13.5-E14.5\",\"E14.5-E15.5\", \"E15.5-E16.5\"],\n",
    "    data=res_full,\n",
    "    ax=axs,\n",
    "    palette=[color_dict[c] for c in hue_order]\n",
    ")\n",
    "plt.legend(loc=\"upper left\", bbox_to_anchor=(1, 1))\n",
    "plt.ylim(0, 0.6)\n",
    "plt.xlabel(\"\")\n",
    "plt.ylabel(\"Cell transition accuracy\")\n",
    "plt.xticks(rotation=45)\n",
    "plt.savefig(FIG_DIR + \"st_accuracy.pdf\", bbox_inches=\"tight\", dpi=300)\n",
    "plt.show()"
   ]
  },
  {
   "cell_type": "code",
   "execution_count": 50,
   "id": "f96f98be-b259-4c2f-9b86-0d3c00bd3722",
   "metadata": {
    "pycharm": {
     "name": "#%%\n"
    }
   },
   "outputs": [
    {
     "name": "stdout",
     "output_type": "stream",
     "text": [
      "E9.5-E10.5:0.37-0.19=0.17\n",
      "E9.5-E10.5:0.37-0.31=0.06\n",
      "E10.5-E11.5:0.39-0.25=0.14\n",
      "E10.5-E11.5:0.39-0.32=0.07\n",
      "E11.5-E12.5:0.39-0.32=0.08\n",
      "E11.5-E12.5:0.39-0.39=0.01\n",
      "E12.5-E13.5:0.39-0.25=0.14\n",
      "E12.5-E13.5:0.39-0.35=0.05\n",
      "E13.5-E14.5:0.49-0.36=0.13\n",
      "E13.5-E14.5:0.49-0.44=0.05\n",
      "E14.5-E15.5:0.49-0.41=0.08\n",
      "E14.5-E15.5:0.49-0.48=0.01\n",
      "E15.5-E16.5:0.46-0.32=0.14\n",
      "E15.5-E16.5:0.46-0.35=0.10\n",
      "diff mean:0.13\n",
      "diff temp mean:0.05\n"
     ]
    }
   ],
   "source": [
    "diffs = []\n",
    "diffs_t = []\n",
    "for tp in tps:\n",
    "    acc_tome= res_full[(res_full[\"tp\"] == tp) & (res_full[\"type\"] == \"TOME\")][\"accuracy\"].mean()\n",
    "    acc_st = res_full[(res_full[\"tp\"] == tp) & (res_full[\"type\"] == \"SpatioTemporal\")][\"accuracy\"].mean()\n",
    "    acc_t = res_full[(res_full[\"tp\"] == tp) & (res_full[\"type\"] == \"Temporal\")][\"accuracy\"].mean()\n",
    "    diff = acc_st-acc_tome\n",
    "    diff_t = acc_st-acc_t\n",
    "    diffs.append(diff)\n",
    "    diffs_t.append(diff_t)\n",
    "    print(f\"{tp}:{acc_st:.2f}-{acc_tome:.2f}={diff:.2f}\")\n",
    "    print(f\"{tp}:{acc_st:.2f}-{acc_t:.2f}={diff_t:.2f}\")\n",
    "print(f\"diff mean:{np.mean(diffs):.2f}\")\n",
    "print(f\"diff temp mean:{np.mean(diffs_t):.2f}\")"
   ]
  },
  {
   "cell_type": "code",
   "execution_count": 30,
   "id": "14886a00-3296-4c63-a80b-a50f7bb48d13",
   "metadata": {
    "pycharm": {
     "name": "#%%\n"
    }
   },
   "outputs": [
    {
     "data": {
      "image/png": "[encoded data removed]",
      "text/plain": [
       "<Figure size 432x288 with 1 Axes>"
      ]
     },
     "metadata": {
      "needs_background": "light"
     },
     "output_type": "display_data"
    }
   ],
   "source": [
    "fig, axs = plt.subplots(1, 1, figsize=(6,4))\n",
    "hue_order = ['SpatioTemporal', \"PASTE2\"]\n",
    "ax = sns.barplot(\n",
    "    x=\"tp\",\n",
    "    y=\"accuracy\", \n",
    "    hue=\"type\",\n",
    "    hue_order = hue_order, \n",
    "    order = [\"E9.5-E10.5\",\"E10.5-E11.5\", \"E11.5-E12.5\", \"E12.5-E13.5\", \"E13.5-E14.5\",\"E14.5-E15.5\", \"E15.5-E16.5\"],\n",
    "    data=res_full,\n",
    "    ax=axs,\n",
    "    palette=[color_dict[c] for c in hue_order]\n",
    ")\n",
    "plt.legend(loc=\"upper left\", bbox_to_anchor=(1, 1))\n",
    "plt.ylim(0, 0.5)\n",
    "plt.xlabel(\"\")\n",
    "plt.ylabel(\"Cell transition accuracy\")\n",
    "plt.xticks(rotation=45)\n",
    "plt.savefig(FIG_DIR + \"st_accuracy_subsampled.pdf\", bbox_inches=\"tight\", dpi=300)\n",
    "plt.show()"
   ]
  },
  {
   "cell_type": "code",
   "execution_count": 49,
   "id": "a59be9cf-9fcd-4822-b43d-fd1b69f2fb4d",
   "metadata": {
    "pycharm": {
     "name": "#%%\n"
    }
   },
   "outputs": [
    {
     "name": "stdout",
     "output_type": "stream",
     "text": [
      "E9.5-E10.5:0.37-0.20=0.17\n",
      "E10.5-E11.5:0.39-0.17=0.23\n",
      "E11.5-E12.5:0.39-0.30=0.09\n",
      "E12.5-E13.5:0.39-0.38=0.01\n",
      "E13.5-E14.5:0.49-0.39=0.10\n",
      "E14.5-E15.5:0.49-0.46=0.03\n",
      "E15.5-E16.5:0.46-0.41=0.05\n",
      "diff mean:0.10\n"
     ]
    }
   ],
   "source": [
    "diffs = []\n",
    "for tp in tps:\n",
    "    acc_paste2 = res_full[(res_full[\"tp\"] == tp) & (res_full[\"type\"] == \"PASTE2\")][\"accuracy\"].mean()\n",
    "    acc_st = res_full[(res_full[\"tp\"] == tp) & (res_full[\"type\"] == \"SpatioTemporal\")][\"accuracy\"].mean()\n",
    "    diff = acc_st-acc_paste2\n",
    "    diffs.append(diff)\n",
    "    print(f\"{tp}:{acc_st:.2f}-{acc_paste2:.2f}={diff:.2f}\")\n",
    "print(f\"diff mean:{np.mean(diffs):.2f}\")"
   ]
  },
  {
   "cell_type": "code",
   "execution_count": 31,
   "id": "c5bf3605-c863-454e-b8c8-f2f570e95868",
   "metadata": {
    "pycharm": {
     "name": "#%%\n"
    },
    "tags": []
   },
   "outputs": [
    {
     "data": {
      "text/html": [
       "<svg  width=\"440\" height=\"55\"><rect x=\"0\" y=\"0\" width=\"55\" height=\"55\" style=\"fill:#332288;stroke-width:2;stroke:rgb(255,255,255)\"/><rect x=\"55\" y=\"0\" width=\"55\" height=\"55\" style=\"fill:#504199;stroke-width:2;stroke:rgb(255,255,255)\"/><rect x=\"110\" y=\"0\" width=\"55\" height=\"55\" style=\"fill:#6d61aa;stroke-width:2;stroke:rgb(255,255,255)\"/><rect x=\"165\" y=\"0\" width=\"55\" height=\"55\" style=\"fill:#8a80bb;stroke-width:2;stroke:rgb(255,255,255)\"/><rect x=\"220\" y=\"0\" width=\"55\" height=\"55\" style=\"fill:#a8a1cc;stroke-width:2;stroke:rgb(255,255,255)\"/><rect x=\"275\" y=\"0\" width=\"55\" height=\"55\" style=\"fill:#c5c0dd;stroke-width:2;stroke:rgb(255,255,255)\"/><rect x=\"330\" y=\"0\" width=\"55\" height=\"55\" style=\"fill:#e2e0ee;stroke-width:2;stroke:rgb(255,255,255)\"/><rect x=\"385\" y=\"0\" width=\"55\" height=\"55\" style=\"fill:#ffffff;stroke-width:2;stroke:rgb(255,255,255)\"/></svg>"
      ],
      "text/plain": [
       "[(0.2, 0.13333333333333333, 0.5333333333333333),\n",
       " (0.3129411764705883, 0.2556862745098039, 0.5992156862745098),\n",
       " (0.42901960784313725, 0.381437908496732, 0.6669281045751634),\n",
       " (0.5419607843137255, 0.5037908496732026, 0.7328104575163399),\n",
       " (0.6580392156862744, 0.6295424836601307, 0.8005228758169934),\n",
       " (0.7709803921568628, 0.7518954248366013, 0.8664052287581699),\n",
       " (0.8870588235294117, 0.8776470588235293, 0.9341176470588235),\n",
       " (1.0, 1.0, 1.0)]"
      ]
     },
     "execution_count": 31,
     "metadata": {},
     "output_type": "execute_result"
    }
   ],
   "source": [
    "colors = sns.blend_palette([\"#332288\", \"#FFFFFF\"], 8)\n",
    "colors"
   ]
  },
  {
   "cell_type": "code",
   "execution_count": 32,
   "id": "092592e6-9821-41e8-a3fd-032fa1595c9c",
   "metadata": {
    "pycharm": {
     "name": "#%%\n"
    },
    "tags": []
   },
   "outputs": [
    {
     "data": {
      "text/plain": [
       "array(['0.8', '0.4', '0.0', '0.6', '0.9', '0.2'], dtype=object)"
      ]
     },
     "execution_count": 32,
     "metadata": {},
     "output_type": "execute_result"
    }
   ],
   "source": [
    "res[\"alpha\"].unique()"
   ]
  },
  {
   "cell_type": "code",
   "execution_count": 34,
   "id": "4936323e-856c-4f38-bd21-3e2b8661721c",
   "metadata": {
    "pycharm": {
     "name": "#%%\n"
    }
   },
   "outputs": [],
   "source": [
    "res_max_alpha = res.loc[res.groupby([\"tp\", \"prob_type\", \"alpha\"])[\"accuracy\"].idxmax(), :].copy()"
   ]
  },
  {
   "cell_type": "code",
   "execution_count": 35,
   "id": "7d316de2-7b09-4423-ac46-6a126f42d6c1",
   "metadata": {
    "pycharm": {
     "name": "#%%\n"
    }
   },
   "outputs": [],
   "source": [
    "res_max_alpha = res_max_alpha[res_max_alpha[\"prob_type\"].isin([\"SpatioTemporal (LR, un-balanced)\", \"Temporal (LR, un-balanced)\"])]"
   ]
  },
  {
   "cell_type": "code",
   "execution_count": 40,
   "id": "ccf0ce13-569c-476b-806f-01757655f66f",
   "metadata": {
    "pycharm": {
     "name": "#%%\n"
    }
   },
   "outputs": [
    {
     "data": {
      "image/png": "[encoded data removed]",
      "text/plain": [
       "<Figure size 288x288 with 1 Axes>"
      ]
     },
     "metadata": {
      "needs_background": "light"
     },
     "output_type": "display_data"
    }
   ],
   "source": [
    "hue_order = ['0.2', '0.4', '0.6', '0.8', '0.9', '0.0']\n",
    "fig, axs = plt.subplots(1, 1, figsize=(4,4))\n",
    "ax = sns.stripplot(\n",
    "    x=\"tp\",\n",
    "    y=\"accuracy\", \n",
    "    hue=\"alpha\", \n",
    "    hue_order=hue_order[:-1],\n",
    "    order = [\"E9.5-E10.5\",\"E10.5-E11.5\", \"E11.5-E12.5\", \"E12.5-E13.5\", \"E13.5-E14.5\",\"E14.5-E15.5\", \"E15.5-E16.5\"],\n",
    "    data=res_max_alpha[res_max_alpha[\"alpha\"] != \"0.0\"],\n",
    "    ax=axs,\n",
    "    palette=[\"#332288\", \"#4292C6\",  \"#9ECAE1\", \"#DEEBF7\", \"#E9EBEC\", \"#F1F2F3\"],\n",
    "    linewidth=.2,\n",
    "    size=5,\n",
    "    jitter=False\n",
    ")\n",
    "\n",
    "ax = sns.stripplot(\n",
    "    x=\"tp\",\n",
    "    y=\"accuracy\", \n",
    "    hue=\"alpha\",\n",
    "    order = [\"E9.5-E10.5\",\"E10.5-E11.5\", \"E11.5-E12.5\", \"E12.5-E13.5\", \"E13.5-E14.5\",\"E14.5-E15.5\", \"E15.5-E16.5\"],\n",
    "    data=res_max_alpha[res_max_alpha[\"alpha\"] == \"0.0\"],\n",
    "    ax=axs,\n",
    "    palette=[\"#999933\", \"#998844\"],\n",
    "    linewidth=.2,\n",
    "    size=5,\n",
    "    jitter=False\n",
    ")\n",
    "\n",
    "sns.move_legend(ax, \"upper left\", bbox_to_anchor=(1, 1))\n",
    "leg = ax.axes.get_legend()\n",
    "new_labels = [\n",
    "    \"SpatioTemporal - 0.2\",\n",
    "    \"SpatioTemporal - 0.4\",\n",
    "    \"SpatioTemporal - 0.6\",\n",
    "    \"SpatioTemporal - 0.8\",\n",
    "    \"SpatioTemporal - 0.9\",\n",
    "    \"Temporal\", \n",
    "    \n",
    "]\n",
    "for t, l in zip(leg.texts, new_labels):\n",
    "    t.set_text(l)\n",
    "    \n",
    "plt.xlabel(\"\")\n",
    "plt.ylim(0, 0.62)\n",
    "plt.ylabel(\"Cell transition accuracy\")\n",
    "plt.xticks(rotation=45)\n",
    "plt.savefig(FIG_DIR + \"st_accuracy_alpha.pdf\", bbox_inches=\"tight\", dpi=300)\n",
    "plt.show()"
   ]
  },
  {
   "cell_type": "code",
   "execution_count": null,
   "id": "68ac1ea7-460b-4957-aea6-ae3449e4eac3",
   "metadata": {
    "pycharm": {
     "name": "#%%\n"
    }
   },
   "outputs": [],
   "source": []
  }
 ],
 "metadata": {
  "kernelspec": {
   "display_name": "biovenv",
   "language": "python",
   "name": "biovenv"
  },
  "language_info": {
   "codemirror_mode": {
    "name": "ipython",
    "version": 3
   },
   "file_extension": ".py",
   "mimetype": "text/x-python",
   "name": "python",
   "nbconvert_exporter": "python",
   "pygments_lexer": "ipython3",
   "version": "3.9.2"
  }
 },
 "nbformat": 4,
 "nbformat_minor": 5
}