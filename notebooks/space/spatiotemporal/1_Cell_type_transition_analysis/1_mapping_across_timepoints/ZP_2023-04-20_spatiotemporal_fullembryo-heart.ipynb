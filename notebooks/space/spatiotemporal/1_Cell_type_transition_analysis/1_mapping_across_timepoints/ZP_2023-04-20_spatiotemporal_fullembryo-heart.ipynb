{
 "cells": [
  {
   "cell_type": "markdown",
   "id": "f9229f05-57ed-470b-b5b4-e1115cc90267",
   "metadata": {},
   "source": [
    "# Visualization of Heart mapping using `moscot.spatiotemporal` applied to the MOSTA dataset\n",
    "\n",
    "Imports mapping results after running the grid search using `run_mosta_st_map.py`.\n"
   ]
  },
  {
   "cell_type": "code",
   "execution_count": null,
   "id": "531d2548-1d17-4702-89d6-76acb94aec2d",
   "metadata": {},
   "outputs": [],
   "source": [
    "%load_ext autoreload \n",
    "%autoreload 2"
   ]
  },
  {
   "cell_type": "code",
   "execution_count": null,
   "id": "12d05a8a-1a2a-4212-b9f5-ed7ec43073aa",
   "metadata": {},
   "outputs": [],
   "source": [
    "import os\n",
    "import sys"
   ]
  },
  {
   "cell_type": "code",
   "execution_count": null,
   "id": "eed2acc9-9987-4d36-a266-46bf8ea5cc93",
   "metadata": {},
   "outputs": [],
   "source": [
    "from datetime import datetime\n",
    "import numpy as np\n",
    "from copy import copy\n",
    "import pickle as pkl\n",
    "import glob\n",
    "\n",
    "import scanpy as sc\n",
    "import squidpy as sq\n",
    "import pandas as pd\n",
    "\n",
    "import seaborn as sns\n",
    "import matplotlib.pyplot as plt"
   ]
  },
  {
   "cell_type": "code",
   "execution_count": null,
   "id": "dc40df22-0920-4605-adca-5c486426b328",
   "metadata": {},
   "outputs": [],
   "source": [
    "import mplscience\n",
    "mplscience.set_style()\n",
    "plt.rcParams[\"legend.scatterpoints\"] = 1"
   ]
  },
  {
   "cell_type": "markdown",
   "id": "ab885625-f5b0-4c86-96c4-df0faa716c09",
   "metadata": {},
   "source": [
    "## Dependencies\n",
    "\n",
    "Requires running:\n",
    "\n",
    "1. `0_Data_preparation/ZP_2023-04-20_spatiotemporal_fullembryo-preprocess.ipynb`: creates `mouse_embryo_all_stage_renormalized.h5ad`\n",
    "2. `1_Cell_type_transition_analysis/1_mapping_across_timepoints`: creates `.csv` heart push forwards files\n"
   ]
  },
  {
   "cell_type": "markdown",
   "id": "d2d03970-b9ff-4767-814d-f052f52a8cf8",
   "metadata": {},
   "source": [
    "## Set parameters"
   ]
  },
  {
   "cell_type": "code",
   "execution_count": null,
   "id": "90d042ab-6c22-43c1-bffe-7d703cd30949",
   "metadata": {
    "tags": []
   },
   "outputs": [],
   "source": [
    "sys.path.insert(\n",
    "    0, \"../../../../../\"\n",
    ")  # this depends on the notebook depth and must be adapted per notebook\n",
    "\n",
    "from paths import DATA_DIR, FIG_DIR\n",
    "\n",
    "FIG_DIR = FIG_DIR / \"space/spatiotemporal\"\n",
    "DATA_DIR = DATA_DIR / \"space/spatiotemporal\"\n"
   ]
  },
  {
   "cell_type": "markdown",
   "id": "7f7d9e76-bcf8-4e41-90b7-c15d3fe35a9c",
   "metadata": {
    "tags": []
   },
   "source": [
    "## Load processed"
   ]
  },
  {
   "cell_type": "code",
   "execution_count": null,
   "id": "121acef8-a530-41d4-9dc8-320687132901",
   "metadata": {},
   "outputs": [],
   "source": [
    "adata_six = sc.read(DATA_DIR / \"mouse_embryo_all_stage_renormalized.h5ad\")"
   ]
  },
  {
   "cell_type": "code",
   "execution_count": null,
   "id": "a11f658f-4489-4145-98b3-d3814c22e670",
   "metadata": {
    "tags": []
   },
   "outputs": [],
   "source": [
    "tps = adata_six.obs[\"time\"].unique()\n",
    "tps_couple = [[i, i+1] for i in tps[:-1]]"
   ]
  },
  {
   "cell_type": "markdown",
   "id": "ebc6609d-9faf-459a-be4c-67b84e0301e7",
   "metadata": {
    "tags": []
   },
   "source": [
    "## Load mappings"
   ]
  },
  {
   "cell_type": "code",
   "execution_count": null,
   "id": "10b3b01c-c227-4f49-8e74-bffc86e9c7b1",
   "metadata": {
    "pycharm": {
     "name": "#%%\n"
    },
    "tags": []
   },
   "outputs": [],
   "source": [
    "tps_alpha = [\"0.4\", \"0.99\", \"0.4\", \"0.8\", \"0.8\", \"0.6\", \"0.99\"]"
   ]
  },
  {
   "cell_type": "code",
   "execution_count": null,
   "id": "550cd898-367b-4327-a664-12e0d2682a2b",
   "metadata": {
    "pycharm": {
     "name": "#%%\n"
    },
    "tags": []
   },
   "outputs": [],
   "source": [
    "adata_six.obs[\"Heart_push\"] =  0"
   ]
  },
  {
   "cell_type": "code",
   "execution_count": null,
   "id": "91391f3a-fe25-45a7-87c0-baa9757b2c8b",
   "metadata": {
    "pycharm": {
     "name": "#%%\n"
    },
    "tags": []
   },
   "outputs": [],
   "source": [
    "for tp in range(7):\n",
    "    file_push = DATA_DIR / f\"output/mouse_embryo_eps_0.001_rank_500_gamma_10_alpha_{tps_alpha[tp]}_tp_{tp}_heart_push.pkl\"\n",
    "    epsilon = 0.001\n",
    "    rank = 500\n",
    "    gamma = 10\n",
    "    alpha = tps_alpha[tp]\n",
    "    start, end = tps_couple[tp]\n",
    "    print(f\"{tp} and {start}-{end}\")\n",
    "    with open(file_push, \"rb\") as handle:\n",
    "        df = pkl.load(handle)\n",
    "        adata_six.obs.loc[df.index , \"Heart_push\"] = df[0] / df[0].max()"
   ]
  },
  {
   "cell_type": "code",
   "execution_count": null,
   "id": "6eca4f74-caaf-49f1-8aee-d7183f6db930",
   "metadata": {
    "tags": []
   },
   "outputs": [],
   "source": [
    "heart_col = adata_six.uns[\"annotation_colors\"][adata_six.obs[\"annotation\"].cat.categories == \"Heart\"][0]"
   ]
  },
  {
   "cell_type": "code",
   "execution_count": null,
   "id": "df671b3e-8aad-42e4-932e-75cc792faba4",
   "metadata": {},
   "outputs": [],
   "source": [
    "vmax = np.percentile(adata_six.obs[\"Heart_push\"], 97)\n",
    "sq.pl.spatial_scatter(\n",
    "    adata_six,\n",
    "    shape=None,\n",
    "    color=[\"Heart_push\"],\n",
    "    cmap=cmap,\n",
    "    size=1,\n",
    "    frameon=False,\n",
    "    figsize=(18, 3),\n",
    "    dpi=300,\n",
    "    legend_loc=None,\n",
    "    vmax = vmax\n",
    ")\n",
    "\n",
    "plt.savefig(FIG_DIR / \"Heart_push.png\", bbox_inches=\"tight\", transparent=True, dpi=300)\n",
    "plt.show()"
   ]
  }
 ],
 "metadata": {
  "kernelspec": {
   "display_name": "venvzp",
   "language": "python",
   "name": "venvzp"
  },
  "language_info": {
   "codemirror_mode": {
    "name": "ipython",
    "version": 3
   },
   "file_extension": ".py",
   "mimetype": "text/x-python",
   "name": "python",
   "nbconvert_exporter": "python",
   "pygments_lexer": "ipython3",
   "version": "3.9.2"
  }
 },
 "nbformat": 4,
 "nbformat_minor": 5
}
