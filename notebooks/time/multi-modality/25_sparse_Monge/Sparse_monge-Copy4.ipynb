{
 "cells": [
  {
   "cell_type": "code",
   "execution_count": 1,
   "id": "1ee165ab-b11c-4d6c-a1d6-e016f4bee33b",
   "metadata": {},
   "outputs": [],
   "source": [
    "import jax\n",
    "jax.config.update('jax_platform_name', 'cpu')"
   ]
  },
  {
   "cell_type": "code",
   "execution_count": 2,
   "id": "6f42a722-6ec6-4f69-849e-cfdd15e9ae50",
   "metadata": {},
   "outputs": [
    {
     "name": "stderr",
     "output_type": "stream",
     "text": [
      "/home/icb/dominik.klein/mambaforge/envs/moscot_rev_new/lib/python3.12/site-packages/tqdm/auto.py:21: TqdmWarning: IProgress not found. Please update jupyter and ipywidgets. See https://ipywidgets.readthedocs.io/en/stable/user_install.html\n",
      "  from .autonotebook import tqdm as notebook_tqdm\n"
     ]
    },
    {
     "name": "stdout",
     "output_type": "stream",
     "text": [
      "['default', 'despine']\n"
     ]
    }
   ],
   "source": [
    "import muon\n",
    "import ott\n",
    "import functools\n",
    "import logging\n",
    "import typing as t\n",
    "\n",
    "import anndata as ad\n",
    "import jax\n",
    "import jax.numpy as jnp\n",
    "import matplotlib.pyplot as plt\n",
    "import numpy as np\n",
    "\n",
    "import scanpy as sc\n",
    "import scipy.sparse as sp\n",
    "import scipy.stats as ss\n",
    "from ott.geometry import costs, geometry, pointcloud\n",
    "from ott.problems.linear import linear_problem, potentials\n",
    "from ott.solvers.linear import sinkhorn\n",
    "from ott.tools import sinkhorn_divergence\n",
    "from sklearn import metrics, model_selection\n",
    "from ott.geometry import costs as sparse_costs\n",
    "\n",
    "sc.set_figure_params(scanpy=True, dpi=80, dpi_save=200)\n",
    "\n",
    "import mplscience\n",
    "\n",
    "mplscience.available_styles()\n",
    "mplscience.set_style(reset_current=True)\n",
    "plt.rcParams['legend.scatterpoints'] = 1 "
   ]
  },
  {
   "cell_type": "code",
   "execution_count": 3,
   "id": "bbc69ae6-9d68-4339-9edf-6ebfca32813f",
   "metadata": {},
   "outputs": [
    {
     "name": "stderr",
     "output_type": "stream",
     "text": [
      "/home/icb/dominik.klein/mambaforge/envs/moscot_rev_new/lib/python3.12/site-packages/anndata/_core/anndata.py:522: FutureWarning: The dtype argument is deprecated and will be removed in late 2024.\n",
      "  warnings.warn(\n",
      "/home/icb/dominik.klein/mambaforge/envs/moscot_rev_new/lib/python3.12/site-packages/anndata/_core/anndata.py:522: FutureWarning: The dtype argument is deprecated and will be removed in late 2024.\n",
      "  warnings.warn(\n"
     ]
    }
   ],
   "source": [
    "mudata = muon.read(\"/lustre/groups/ml01/workspace/moscot_paper/pancreas_revision/mudata_with_annotation_all.h5mu\")"
   ]
  },
  {
   "cell_type": "code",
   "execution_count": 4,
   "id": "de83ea41-336f-478e-8653-ba5b1a915e32",
   "metadata": {},
   "outputs": [],
   "source": [
    "endocrine_celltypes = [\n",
    "    \"Ngn3 low\",\n",
    "    \"Ngn3 high\",\n",
    "    \"Fev+\",\n",
    "    \"Fev+ Alpha\",\n",
    "    \"Fev+ Beta\",\n",
    "    \"Fev+ Delta\",\n",
    "    \"Eps. progenitors\",\n",
    "    \"Alpha\",\n",
    "    \"Beta\",\n",
    "    \"Delta\",\n",
    "    \"Epsilon\"\n",
    "]"
   ]
  },
  {
   "cell_type": "code",
   "execution_count": 5,
   "id": "8eab90b1-1567-4a6a-a974-ae5ad40a81da",
   "metadata": {},
   "outputs": [],
   "source": [
    "mudata = mudata[mudata.obs[\"cell_type\"].isin(endocrine_celltypes)]"
   ]
  },
  {
   "cell_type": "code",
   "execution_count": 6,
   "id": "b2f5426a-9899-4510-9c6c-3c77c9d2b298",
   "metadata": {},
   "outputs": [
    {
     "name": "stderr",
     "output_type": "stream",
     "text": [
      "/tmp/ipykernel_544521/2312537565.py:10: ImplicitModificationWarning: Trying to modify attribute `.obs` of view, initializing view as actual.\n",
      "  mudata.obs['time'] = mudata.obs.apply(adapt_time, axis=1).astype(\"category\")\n"
     ]
    }
   ],
   "source": [
    "def adapt_time(x):\n",
    "    if x[\"stage\"]==\"E14.5\":\n",
    "        return 14.5\n",
    "    if x[\"stage\"]==\"E15.5\":\n",
    "        return 15.5\n",
    "    if x[\"stage\"]==\"E16.5\":\n",
    "        return 16.5\n",
    "    raise ValueError\n",
    "\n",
    "mudata.obs['time'] = mudata.obs.apply(adapt_time, axis=1).astype(\"category\")"
   ]
  },
  {
   "cell_type": "code",
   "execution_count": 7,
   "id": "0fe34223-9217-4599-a80e-330046c5a944",
   "metadata": {},
   "outputs": [],
   "source": [
    "adata=mudata[\"rna\"]\n"
   ]
  },
  {
   "cell_type": "code",
   "execution_count": 8,
   "id": "d40ccb55-7f6f-4dc1-8c25-cb699edc01db",
   "metadata": {},
   "outputs": [],
   "source": [
    "adata.obs[\"cell_type_refined\"] = mudata.obs[\"cell_type_refined\"]\n",
    "adata.obsm[\"X_umap\"] = mudata.obsm[\"X_umap\"]\n",
    "adata.obs[\"time\"] = mudata.obs[\"time\"] "
   ]
  },
  {
   "cell_type": "code",
   "execution_count": 9,
   "id": "92de6fd5-f652-4d53-b11c-9a3c238eb251",
   "metadata": {},
   "outputs": [],
   "source": [
    "adata.X = adata.layers[\"raw_counts\"]"
   ]
  },
  {
   "cell_type": "code",
   "execution_count": 10,
   "id": "754cee9f-9cc5-4f07-bbaf-7a1f245c4203",
   "metadata": {},
   "outputs": [
    {
     "name": "stdout",
     "output_type": "stream",
     "text": [
      "WARNING: adata.X seems to be already log-transformed.\n"
     ]
    }
   ],
   "source": [
    "sc.pp.normalize_total(adata)\n",
    "sc.pp.log1p(adata)"
   ]
  },
  {
   "cell_type": "code",
   "execution_count": 11,
   "id": "cee85c69-395d-4f46-8c2c-606254f1aa28",
   "metadata": {},
   "outputs": [
    {
     "name": "stderr",
     "output_type": "stream",
     "text": [
      "/home/icb/dominik.klein/mambaforge/envs/moscot_rev_new/lib/python3.12/site-packages/scanpy/preprocessing/_highly_variable_genes.py:226: FutureWarning: The default of observed=False is deprecated and will be changed to True in a future version of pandas. Pass observed=False to retain current behavior or observed=True to adopt the future default and silence this warning.\n",
      "  disp_grouped = df.groupby(\"mean_bin\")[\"dispersions\"]\n"
     ]
    }
   ],
   "source": [
    "sc.pp.highly_variable_genes(adata, inplace=True, subset=True, n_top_genes=5000)"
   ]
  },
  {
   "cell_type": "code",
   "execution_count": 12,
   "id": "346806f7-3753-4299-99b0-a04811826503",
   "metadata": {},
   "outputs": [],
   "source": [
    "gex_early = adata[adata.obs[\"time\"]==15.5].X.A\n",
    "gex_late = adata[adata.obs[\"time\"]==16.5].X.A"
   ]
  },
  {
   "cell_type": "code",
   "execution_count": 13,
   "id": "b1d78116-69e4-4817-abaf-026e917a35bc",
   "metadata": {},
   "outputs": [],
   "source": [
    "x=gex_early\n",
    "y=gex_late"
   ]
  },
  {
   "cell_type": "code",
   "execution_count": 14,
   "id": "78808a7e-91d5-46c6-8a84-6d123776b4d0",
   "metadata": {},
   "outputs": [],
   "source": [
    "solver = jax.jit(sinkhorn.Sinkhorn())\n",
    "\n",
    "\n",
    "def entropic_map(x, y, cost_fn: costs.TICost) -> jnp.ndarray:\n",
    "    geom = pointcloud.PointCloud(x, y, cost_fn=cost_fn, batch_size=1)\n",
    "    output = solver(linear_problem.LinearProblem(geom))\n",
    "    dual_potentials = output.to_dual_potentials()\n",
    "    return dual_potentials.transport"
   ]
  },
  {
   "cell_type": "code",
   "execution_count": 15,
   "id": "bc5cacd1-da2c-4581-9464-80cb1ee54133",
   "metadata": {},
   "outputs": [],
   "source": [
    "map_l1 = entropic_map(x, y, costs.ElasticL1(scaling_reg=20.0))"
   ]
  },
  {
   "cell_type": "code",
   "execution_count": null,
   "id": "b8e25a40-5bc9-404e-823b-81ce60821b00",
   "metadata": {},
   "outputs": [
    {
     "name": "stderr",
     "output_type": "stream",
     "text": [
      "  0%|                                                                                                | 0/52 [00:00<?, ?it/s]"
     ]
    }
   ],
   "source": [
    "from tqdm import tqdm\n",
    "batch_size=100\n",
    "push_forward = []\n",
    "for i in tqdm(range(0, len(x), batch_size)):\n",
    "    push_forward.append(map_l1(x[i:i+batch_size]))"
   ]
  },
  {
   "cell_type": "code",
   "execution_count": null,
   "id": "1912ac77-5a8e-4ee2-bc68-905b7f84cc21",
   "metadata": {},
   "outputs": [],
   "source": [
    "ls_flattened=[]\n",
    "for el in push_forward:\n",
    "    ls_flattened.extend(el)"
   ]
  },
  {
   "cell_type": "code",
   "execution_count": null,
   "id": "0343c027-709b-4390-9dbf-4109603235f8",
   "metadata": {},
   "outputs": [],
   "source": [
    "res=np.asarray(ls_flattened)"
   ]
  },
  {
   "cell_type": "code",
   "execution_count": null,
   "id": "c993717c-ec1a-45aa-9413-39c1645a59cf",
   "metadata": {},
   "outputs": [],
   "source": [
    "gene_mask = (np.abs(res-x) > 1e-6)"
   ]
  },
  {
   "cell_type": "code",
   "execution_count": null,
   "id": "1b3b6be1-4256-4a3e-801c-711de2f2c96f",
   "metadata": {},
   "outputs": [],
   "source": [
    "adata_15 = adata[adata.obs[\"time\"].isin((15.5, ))]"
   ]
  },
  {
   "cell_type": "code",
   "execution_count": null,
   "id": "ed1aa0e7-7933-4d1c-8b8b-dcadc375d952",
   "metadata": {},
   "outputs": [],
   "source": [
    "adata_15.layers[\"sparse_mask\"] = gene_mask"
   ]
  },
  {
   "cell_type": "code",
   "execution_count": null,
   "id": "b66e18ae-66b8-478c-88a5-7246db07e181",
   "metadata": {},
   "outputs": [],
   "source": [
    "import os\n",
    "output_dir = \"/lustre/groups/ml01/workspace/moscot_paper/pancreas_revision/sparse_monge\"\n",
    "adata_15.write(os.path.join(output_dir, \"adata_15_with_sparse_mask_balanced_5000_hvg.h5ad\"))"
   ]
  },
  {
   "cell_type": "code",
   "execution_count": null,
   "id": "6120e873-89f1-4634-9114-9471d2a66b99",
   "metadata": {},
   "outputs": [],
   "source": [
    "adata_15.var[\"sparse_counts\"] = adata_15.layers[\"sparse_mask\"].sum(axis=0)\n",
    "adata_15.obs[\"sparse_counts\"] = adata_15.layers[\"sparse_mask\"].sum(axis=1)"
   ]
  },
  {
   "cell_type": "code",
   "execution_count": null,
   "id": "c81ab8f0-d6bd-4334-baf3-9c20cdf7d131",
   "metadata": {},
   "outputs": [],
   "source": [
    "adata_15.var[\"sparse_counts\"].sort_values()[-5:]/len(adata_15)"
   ]
  },
  {
   "cell_type": "code",
   "execution_count": null,
   "id": "1b195b9c-00dd-43c9-b3e4-6022273c0d34",
   "metadata": {},
   "outputs": [],
   "source": [
    "sc.pl.umap(adata_15, color='sparse_counts')"
   ]
  },
  {
   "cell_type": "code",
   "execution_count": null,
   "id": "0aab0014-f50f-4be1-97b7-7bb69ed3fd8f",
   "metadata": {},
   "outputs": [],
   "source": [
    "res_dict = {}\n",
    "res_dict_2 = {}\n",
    "for cell_type in endocrine_celltypes:\n",
    "    adata_tmp = adata_15[adata_15.obs[\"cell_type\"]==cell_type]\n",
    "    adata_tmp.var[\"sparse_counts\"] = adata_tmp.layers[\"sparse_mask\"].sum(axis=0)\n",
    "    adata_tmp.obs[\"sparse_counts\"] = adata_tmp.layers[\"sparse_mask\"].sum(axis=1)\n",
    "    res_dict[cell_type] = adata_tmp.var[\"sparse_counts\"].sort_values()[-5:]/len(adata_tmp)\n",
    "    res_dict_2[cell_type] = (adata_tmp.var[\"sparse_counts\"]/len(adata_tmp)).var()"
   ]
  },
  {
   "cell_type": "code",
   "execution_count": null,
   "id": "5ef28b7d-c595-4360-a28d-49e2092ead54",
   "metadata": {},
   "outputs": [],
   "source": [
    "res_dict"
   ]
  },
  {
   "cell_type": "code",
   "execution_count": null,
   "id": "5b06287c-91c2-4e8e-9680-33b874b47492",
   "metadata": {},
   "outputs": [],
   "source": [
    "res_dict_2"
   ]
  },
  {
   "cell_type": "code",
   "execution_count": null,
   "id": "79217fc0-2746-4c4f-8153-e124e4043fd3",
   "metadata": {},
   "outputs": [],
   "source": [
    "import pandas as pd\n",
    "df = pd.DataFrame.from_dict(res_dict_2, orient=\"index\")#.sort_values(\"score\")"
   ]
  },
  {
   "cell_type": "code",
   "execution_count": null,
   "id": "21687b08-cfa4-4052-a30f-1ccb58f7ff4c",
   "metadata": {},
   "outputs": [],
   "source": [
    "\n",
    "df.sort_values(0)"
   ]
  },
  {
   "cell_type": "code",
   "execution_count": null,
   "id": "cc2241d6-624f-431f-ad17-26271838cd15",
   "metadata": {},
   "outputs": [],
   "source": [
    "sc.pp.pca(adata_15)\n",
    "sc.pp.neighbors(adata_15, use_rep=\"X_pca\", n_neighbors=50)"
   ]
  },
  {
   "cell_type": "code",
   "execution_count": null,
   "id": "88e06a1d-1382-48a0-856c-32c237c70815",
   "metadata": {},
   "outputs": [],
   "source": [
    "def jaccard_similarity(set1, set2):\n",
    "    intersection = len(set1.intersection(set2))\n",
    "    union = len(set1.union(set2))\n",
    "    return intersection / union\n",
    "\n",
    "js = []\n",
    "for i in tqdm(range(len(adata_15))):\n",
    "    neighbors = (adata_15.obsp[\"distances\"][i]>0).T\n",
    "    adata_cell = adata_15[i]\n",
    "    adata_tmp = adata_15[list(neighbors.A[:,0])]   \n",
    "    adata_tmp.var[\"sparse_counts\"] = adata_tmp.layers[\"sparse_mask\"].sum(axis=0)\n",
    "    genes_neighborhood = adata_tmp.var[\"sparse_counts\"][adata_tmp.var[\"sparse_counts\"]>0].index\n",
    "    genes_cell = adata_cell.var[\"sparse_counts\"][adata_cell.var[\"sparse_counts\"]>0].index\n",
    "    js.append(jaccard_similarity(set(genes_neighborhood), set(genes_cell)))\n",
    "    \n",
    "    "
   ]
  },
  {
   "cell_type": "code",
   "execution_count": null,
   "id": "3f3e0534-823f-4211-9c9a-595697ae3987",
   "metadata": {},
   "outputs": [],
   "source": [
    "adata_15.obs[\"js_inv\"] = 1-np.asarray(js)"
   ]
  },
  {
   "cell_type": "code",
   "execution_count": null,
   "id": "2b771209-6666-4d09-92ac-3cd5a2fa0c45",
   "metadata": {},
   "outputs": [],
   "source": [
    "sc.pl.umap(adata_15, color=\"js_inv\")"
   ]
  },
  {
   "cell_type": "code",
   "execution_count": null,
   "id": "f9496854-ee57-4fe4-addd-d432d29d410b",
   "metadata": {},
   "outputs": [],
   "source": [
    "adata_15.obs[[\"cell_type_refined\", \"js_inv\"]].groupby(\"cell_type_refined\").mean().sort_values(\"js_inv\")"
   ]
  },
  {
   "cell_type": "code",
   "execution_count": null,
   "id": "a676d271-9250-46f9-86c2-7883b2680426",
   "metadata": {},
   "outputs": [],
   "source": []
  },
  {
   "cell_type": "code",
   "execution_count": null,
   "id": "77cf7d6d-88f8-4c40-9764-ed0683745fe7",
   "metadata": {},
   "outputs": [],
   "source": []
  }
 ],
 "metadata": {
  "kernelspec": {
   "display_name": "moscot_rev_new",
   "language": "python",
   "name": "moscot_rev_new"
  },
  "language_info": {
   "codemirror_mode": {
    "name": "ipython",
    "version": 3
   },
   "file_extension": ".py",
   "mimetype": "text/x-python",
   "name": "python",
   "nbconvert_exporter": "python",
   "pygments_lexer": "ipython3",
   "version": "3.12.1"
  }
 },
 "nbformat": 4,
 "nbformat_minor": 5
}
