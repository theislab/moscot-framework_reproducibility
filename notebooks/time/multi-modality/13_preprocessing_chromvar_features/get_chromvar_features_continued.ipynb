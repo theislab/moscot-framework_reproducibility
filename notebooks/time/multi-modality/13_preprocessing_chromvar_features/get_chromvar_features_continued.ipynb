{
 "cells": [
  {
   "cell_type": "code",
   "execution_count": 5,
   "id": "dfed75c2-3bce-4945-ba48-6a1dac189d72",
   "metadata": {},
   "outputs": [
    {
     "name": "stderr",
     "output_type": "stream",
     "text": [
      "Loading required package: BSgenome\n",
      "\n",
      "Loading required package: BiocGenerics\n",
      "\n",
      "\n",
      "Attaching package: ‘BiocGenerics’\n",
      "\n",
      "\n",
      "The following objects are masked from ‘package:lubridate’:\n",
      "\n",
      "    intersect, setdiff, union\n",
      "\n",
      "\n",
      "The following objects are masked from ‘package:dplyr’:\n",
      "\n",
      "    combine, intersect, setdiff, union\n",
      "\n",
      "\n",
      "The following object is masked from ‘package:SeuratObject’:\n",
      "\n",
      "    intersect\n",
      "\n",
      "\n",
      "The following objects are masked from ‘package:stats’:\n",
      "\n",
      "    IQR, mad, sd, var, xtabs\n",
      "\n",
      "\n",
      "The following objects are masked from ‘package:base’:\n",
      "\n",
      "    anyDuplicated, aperm, append, as.data.frame, basename, cbind,\n",
      "    colnames, dirname, do.call, duplicated, eval, evalq, Filter, Find,\n",
      "    get, grep, grepl, intersect, is.unsorted, lapply, Map, mapply,\n",
      "    match, mget, order, paste, pmax, pmax.int, pmin, pmin.int,\n",
      "    Position, rank, rbind, Reduce, rownames, sapply, setdiff, sort,\n",
      "    table, tapply, union, unique, unsplit, which.max, which.min\n",
      "\n",
      "\n",
      "Loading required package: S4Vectors\n",
      "\n",
      "Loading required package: stats4\n",
      "\n",
      "\n",
      "Attaching package: ‘S4Vectors’\n",
      "\n",
      "\n",
      "The following objects are masked from ‘package:lubridate’:\n",
      "\n",
      "    second, second<-\n",
      "\n",
      "\n",
      "The following objects are masked from ‘package:dplyr’:\n",
      "\n",
      "    first, rename\n",
      "\n",
      "\n",
      "The following object is masked from ‘package:tidyr’:\n",
      "\n",
      "    expand\n",
      "\n",
      "\n",
      "The following objects are masked from ‘package:base’:\n",
      "\n",
      "    expand.grid, I, unname\n",
      "\n",
      "\n",
      "Loading required package: IRanges\n",
      "\n",
      "\n",
      "Attaching package: ‘IRanges’\n",
      "\n",
      "\n",
      "The following object is masked from ‘package:lubridate’:\n",
      "\n",
      "    %within%\n",
      "\n",
      "\n",
      "The following objects are masked from ‘package:dplyr’:\n",
      "\n",
      "    collapse, desc, slice\n",
      "\n",
      "\n",
      "The following object is masked from ‘package:purrr’:\n",
      "\n",
      "    reduce\n",
      "\n",
      "\n",
      "Loading required package: GenomeInfoDb\n",
      "\n",
      "Loading required package: GenomicRanges\n",
      "\n",
      "Loading required package: Biostrings\n",
      "\n",
      "Loading required package: XVector\n",
      "\n",
      "\n",
      "Attaching package: ‘XVector’\n",
      "\n",
      "\n",
      "The following object is masked from ‘package:purrr’:\n",
      "\n",
      "    compact\n",
      "\n",
      "\n",
      "\n",
      "Attaching package: ‘Biostrings’\n",
      "\n",
      "\n",
      "The following object is masked from ‘package:base’:\n",
      "\n",
      "    strsplit\n",
      "\n",
      "\n",
      "Loading required package: rtracklayer\n",
      "\n"
     ]
    }
   ],
   "source": [
    "library(Seurat)\n",
    "library(Signac)\n",
    "library(ggplot2)\n",
    "library(tidyverse)\n",
    "#library(EnsDb.Mmusculus.v102)\n",
    "#if (!require(\"BiocManager\", quietly = TRUE))\n",
    "#    install.packages(\"BiocManager\")\n",
    "\n",
    "#BiocManager::install(\"BSgenome.Mmusculus.UCSC.mm10\")\n",
    "#library(EnsDb.Mmusculus.v102)\n",
    "#library(pastecs)\n",
    "library(stringr)\n",
    "library(BSgenome.Mmusculus.UCSC.mm10)\n",
    "library(universalmotif)"
   ]
  },
  {
   "cell_type": "code",
   "execution_count": 2,
   "id": "99c8d6e0-b0b0-402c-b8da-21ba0511fdd2",
   "metadata": {},
   "outputs": [],
   "source": [
    "seurat <- readRDS(\"/lustre/groups/ml01/workspace/moscot_paper/pancreas_revision/seurat_endocrine_annotated_with_motifs.rds\")"
   ]
  },
  {
   "cell_type": "code",
   "execution_count": 6,
   "id": "5f46b96b-4cbf-4298-b74b-df0c75b230f0",
   "metadata": {},
   "outputs": [],
   "source": [
    "BSgenome.Mmusculus.UCSC.mm10.renamed <- renameSeqlevels(BSgenome.Mmusculus.UCSC.mm10, value = str_replace(str_replace(seqnames(BSgenome.Mmusculus.UCSC.mm10), pattern = \"chr\", replacement = \"\"), pattern = \"M\", replacement = \"MT\"))"
   ]
  },
  {
   "cell_type": "code",
   "execution_count": 4,
   "id": "6a16efe8-843a-4ea7-a207-bd9f905c1583",
   "metadata": {},
   "outputs": [
    {
     "name": "stderr",
     "output_type": "stream",
     "text": [
      "\n",
      "\n"
     ]
    }
   ],
   "source": [
    "library(\"chromVAR\")"
   ]
  },
  {
   "cell_type": "code",
   "execution_count": null,
   "id": "d1b9393b-bd69-460b-8475-0e75cc1af47a",
   "metadata": {},
   "outputs": [
    {
     "name": "stderr",
     "output_type": "stream",
     "text": [
      "Computing GC bias per region\n",
      "\n",
      "Selecting background regions\n",
      "\n",
      "Computing deviations from background\n",
      "\n"
     ]
    }
   ],
   "source": [
    "seurat <- RunChromVAR(\n",
    "  object = seurat,\n",
    "  genome = BSgenome.Mmusculus.UCSC.mm10.renamed\n",
    ")\n"
   ]
  },
  {
   "cell_type": "code",
   "execution_count": null,
   "id": "a58011ad-2a36-4625-8242-b3eb79edafd8",
   "metadata": {},
   "outputs": [],
   "source": [
    "write.csv(seurat[[\"chromvar\"]]@data, \"/lustre/groups/ml01/workspace/moscot_paper/pancreas_revision/cisBP_chromvar_annotations_reduced.csv\"))"
   ]
  },
  {
   "cell_type": "code",
   "execution_count": null,
   "id": "75b84c6c-4250-4ea6-97f1-d9d1fef52084",
   "metadata": {},
   "outputs": [],
   "source": [
    "saveRDS(seurat, path.cat(data_dir, \"/lustre/groups/ml01/workspace/moscot_paper/pancreas_revision/cisBP_seurat_with_chromVAR_reduced.rds\"))"
   ]
  },
  {
   "cell_type": "code",
   "execution_count": null,
   "id": "8ecff674-dc53-4156-ab84-812419d3ef47",
   "metadata": {},
   "outputs": [],
   "source": []
  }
 ],
 "metadata": {
  "kernelspec": {
   "display_name": "r_env",
   "language": "R",
   "name": "r_env"
  },
  "language_info": {
   "codemirror_mode": "r",
   "file_extension": ".r",
   "mimetype": "text/x-r-source",
   "name": "R",
   "pygments_lexer": "r",
   "version": "4.2.3"
  }
 },
 "nbformat": 4,
 "nbformat_minor": 5
}
