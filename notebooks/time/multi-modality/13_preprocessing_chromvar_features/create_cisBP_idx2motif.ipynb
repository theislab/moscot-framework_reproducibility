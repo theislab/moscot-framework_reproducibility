{
 "cells": [
  {
   "cell_type": "code",
   "execution_count": 2,
   "id": "7f6c159e-bb43-402b-8135-840d667e4600",
   "metadata": {},
   "outputs": [],
   "source": [
    "library(Signac)\n",
    "library(Seurat)\n",
    "library(anndata)\n",
    "library(ggplot2)\n",
    "library(tidyverse)\n",
    "library(Signac)\n",
    "library(Seurat)\n",
    "library(BSgenome.Mmusculus.UCSC.mm10)\n",
    "library(stringr)\n",
    "library(\"universalmotif\")"
   ]
  },
  {
   "cell_type": "code",
   "execution_count": 13,
   "id": "cfa25dfb-fe88-4da6-ac84-cc99e172bf8f",
   "metadata": {},
   "outputs": [],
   "source": [
    "data_dir <- \"../..\"\n",
    "filenames <- list.files(path.cat(data_dir, \"Mus_musculus_2023_01_03_10_03_am/pwms_all_motifs\", full.names=TRUE))\n"
   ]
  },
  {
   "cell_type": "code",
   "execution_count": 14,
   "id": "3f6e23ba-34ed-4e24-ba9d-db5dd47e4bf4",
   "metadata": {},
   "outputs": [],
   "source": [
    "read_cisbp_with_errors <- function (filename) {\n",
    "  out <- tryCatch(read_cisbp(filename), error=function(cond)NULL)\n",
    "}"
   ]
  },
  {
   "cell_type": "code",
   "execution_count": 15,
   "id": "0672b012-1eee-4ae1-babb-9f6276fd3e35",
   "metadata": {},
   "outputs": [],
   "source": [
    "pfm_cisbp <- lapply(filenames, read_cisbp_with_errors)"
   ]
  },
  {
   "cell_type": "code",
   "execution_count": 16,
   "id": "930730ea-7331-445d-8d69-e505c2ee8cc7",
   "metadata": {},
   "outputs": [],
   "source": [
    "filtered <- sapply(pfm_cisbp, is.null)"
   ]
  },
  {
   "cell_type": "code",
   "execution_count": 23,
   "id": "4b82302a-e024-471c-996a-abb3d14a2361",
   "metadata": {},
   "outputs": [],
   "source": [
    "write.csv(filtered, file=path.cat(data_dir, \"filtering_list.csv\"),row.names=F)"
   ]
  }
 ],
 "metadata": {
  "kernelspec": {
   "display_name": "R",
   "language": "R",
   "name": "ir"
  },
  "language_info": {
   "codemirror_mode": "r",
   "file_extension": ".r",
   "mimetype": "text/x-r-source",
   "name": "R",
   "pygments_lexer": "r",
   "version": "4.2.2"
  }
 },
 "nbformat": 4,
 "nbformat_minor": 5
}
