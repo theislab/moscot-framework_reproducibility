{
 "cells": [
  {
   "cell_type": "code",
   "execution_count": 7,
   "id": "817c48e1-eb6f-4f50-9f92-7918f8609784",
   "metadata": {},
   "outputs": [
    {
     "ename": "ERROR",
     "evalue": "Error in library(reader): there is no package called ‘reader’\n",
     "output_type": "error",
     "traceback": [
      "Error in library(reader): there is no package called ‘reader’\nTraceback:\n",
      "1. library(reader)"
     ]
    }
   ],
   "source": [
    "library(Signac)\n",
    "library(Seurat)\n",
    "library(reader)"
   ]
  },
  {
   "cell_type": "code",
   "execution_count": 2,
   "id": "1d47d395-948e-4093-a1f2-cbf1760962c4",
   "metadata": {},
   "outputs": [],
   "source": [
    "seurat <- readRDS(\"/lustre/groups/ml01/workspace/moscot_paper/pancreas_revision/seurat_endocrine_annotated.rds\")"
   ]
  },
  {
   "cell_type": "code",
   "execution_count": null,
   "id": "47c53936-e7a8-4ec6-995a-5a7d243c335c",
   "metadata": {},
   "outputs": [],
   "source": [
    "#seurat@meta.data[[\"refinement\"]] <- as.factor(seurat@meta.data[[\"refinement\"]])"
   ]
  },
  {
   "cell_type": "code",
   "execution_count": 3,
   "id": "214a8966-75ab-474a-aca8-c2f80b40ca59",
   "metadata": {},
   "outputs": [],
   "source": [
    "Idents(seurat) <- seurat@meta.data[[\"cell_type_refined\"]]"
   ]
  },
  {
   "cell_type": "code",
   "execution_count": 4,
   "id": "ba861c13-2c73-4278-9d85-6cc4a88c432c",
   "metadata": {},
   "outputs": [
    {
     "name": "stderr",
     "output_type": "stream",
     "text": [
      "For a more efficient implementation of the Wilcoxon Rank Sum Test,\n",
      "(default method for FindMarkers) please install the limma package\n",
      "--------------------------------------------\n",
      "install.packages('BiocManager')\n",
      "BiocManager::install('limma')\n",
      "--------------------------------------------\n",
      "After installation of limma, Seurat will automatically use the more \n",
      "efficient implementation (no further action necessary).\n",
      "This message will be shown once per session\n",
      "\n"
     ]
    }
   ],
   "source": [
    "da_peaks <- FindMarkers(\n",
    "  object = seurat,\n",
    "  ident.1=\"Eps. progenitors\",\n",
    "  test.use = 'wilcox',\n",
    ")"
   ]
  },
  {
   "cell_type": "code",
   "execution_count": 5,
   "id": "ab657f46-26ff-4bc3-bd93-f0e7519bbe3e",
   "metadata": {},
   "outputs": [],
   "source": [
    "data_dir <- \"/lustre/groups/ml01/workspace/moscot_paper/pancreas_revision/marker_peak_analysis\""
   ]
  },
  {
   "cell_type": "code",
   "execution_count": 8,
   "id": "f4c2411e-715e-4c5d-88c0-60609cb19db3",
   "metadata": {},
   "outputs": [],
   "source": [
    "write.csv(da_peaks, \"/lustre/groups/ml01/workspace/moscot_paper/pancreas_revision/marker_peak_analysis/diff_peaks_signac_eps_prog.csv\")"
   ]
  },
  {
   "cell_type": "code",
   "execution_count": null,
   "id": "8fce3ab7-a129-4fcd-8a92-6c2898d54843",
   "metadata": {},
   "outputs": [],
   "source": []
  }
 ],
 "metadata": {
  "kernelspec": {
   "display_name": "R",
   "language": "R",
   "name": "ir"
  },
  "language_info": {
   "codemirror_mode": "r",
   "file_extension": ".r",
   "mimetype": "text/x-r-source",
   "name": "R",
   "pygments_lexer": "r",
   "version": "4.2.2"
  }
 },
 "nbformat": 4,
 "nbformat_minor": 5
}
