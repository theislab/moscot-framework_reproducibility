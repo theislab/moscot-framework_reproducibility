{
 "cells": [
  {
   "cell_type": "code",
   "execution_count": 1,
   "id": "817c48e1-eb6f-4f50-9f92-7918f8609784",
   "metadata": {},
   "outputs": [
    {
     "name": "stderr",
     "output_type": "stream",
     "text": [
      "Warning message:\n",
      "“package ‘Signac’ was built under R version 4.2.3”\n",
      "Signac built for for SeuratObject v4 was just loaded with SeuratObject\n",
      "v5; disabling v5 assays and validation routines, and ensuring assays\n",
      "work in strict v3/v4 compatibility mode\n",
      "\n",
      "Warning message:\n",
      "“package ‘Seurat’ was built under R version 4.2.3”\n",
      "Attaching SeuratObject\n",
      "\n",
      "‘SeuratObject’ was built with package ‘Matrix’ 1.6.3 but the current\n",
      "version is 1.6.4; it is recomended that you reinstall ‘SeuratObject’ as\n",
      "the ABI for ‘Matrix’ may have changed\n",
      "\n",
      "Seurat v4 was just loaded with SeuratObject v5; disabling v5 assays and\n",
      "validation routines, and ensuring assays work in strict v3/v4\n",
      "compatibility mode\n",
      "\n",
      "\n",
      "Attaching package: ‘anndata’\n",
      "\n",
      "\n",
      "The following object is masked from ‘package:SeuratObject’:\n",
      "\n",
      "    Layers\n",
      "\n",
      "\n",
      "Warning message:\n",
      "“package ‘ggplot2’ was built under R version 4.2.3”\n"
     ]
    }
   ],
   "source": [
    "library(Signac)\n",
    "library(Seurat)\n",
    "library(anndata)\n",
    "library(ggplot2)"
   ]
  },
  {
   "cell_type": "code",
   "execution_count": 2,
   "id": "36e30118-59ef-4a74-9164-ba3d1c714337",
   "metadata": {},
   "outputs": [
    {
     "name": "stderr",
     "output_type": "stream",
     "text": [
      "Updating HTML index of packages in '.Library'\n",
      "\n",
      "Making 'packages.html' ...\n",
      " done\n",
      "\n",
      "'getOption(\"repos\")' replaces Bioconductor standard repositories, see\n",
      "'help(\"repositories\", package = \"BiocManager\")' for details.\n",
      "Replacement repositories:\n",
      "    CRAN: https://cran.r-project.org\n",
      "\n",
      "Bioconductor version 3.16 (BiocManager 1.30.22), R 4.2.2 (2022-10-31)\n",
      "\n",
      "Installing package(s) 'limma'\n",
      "\n",
      "Warning message in install.packages(...):\n",
      "“installation of package ‘limma’ had non-zero exit status”\n",
      "Updating HTML index of packages in '.Library'\n",
      "\n",
      "Making 'packages.html' ...\n",
      " done\n",
      "\n",
      "Old packages: 'anndata', 'AnnotationDbi', 'AUCell', 'basilisk', 'BH',\n",
      "  'BiocParallel', 'Cairo', 'chromVAR', 'cowplot', 'curl', 'DBI', 'deldir',\n",
      "  'digest', 'dqrng', 'FNN', 'future', 'future.apply', 'GenomicAlignments',\n",
      "  'GenomicRanges', 'ggrepel', 'ggridges', 'glue', 'ica', 'igraph', 'leiden',\n",
      "  'Matrix', 'mgcv', 'patchwork', 'pkgbuild', 'polyclip', 'ragg', 'RcisTarget',\n",
      "  'Rcpp', 'RcppAnnoy', 'RcppArmadillo', 'RCurl', 'readr', 'reprex', 'rlang',\n",
      "  'roxygen2', 'segmented', 'Seurat', 'Signac', 'SingleCellExperiment',\n",
      "  'stringi', 'textshaping', 'tiff', 'vipor', 'XML', 'xml2', 'zoo'\n",
      "\n"
     ]
    }
   ],
   "source": [
    "install.packages('BiocManager')\n",
    "BiocManager::install('limma')"
   ]
  },
  {
   "cell_type": "code",
   "execution_count": 3,
   "id": "1d47d395-948e-4093-a1f2-cbf1760962c4",
   "metadata": {},
   "outputs": [],
   "source": [
    "seurat <- readRDS(\"/lustre/groups/ml01/workspace/moscot_paper/pancreas_revision/seurat_endocrine_annotated.rds\")"
   ]
  },
  {
   "cell_type": "code",
   "execution_count": 4,
   "id": "214a8966-75ab-474a-aca8-c2f80b40ca59",
   "metadata": {},
   "outputs": [],
   "source": [
    "Idents(seurat) <- seurat@meta.data[[\"cell_type_refined\"]]"
   ]
  },
  {
   "cell_type": "code",
   "execution_count": 5,
   "id": "ba861c13-2c73-4278-9d85-6cc4a88c432c",
   "metadata": {},
   "outputs": [
    {
     "name": "stderr",
     "output_type": "stream",
     "text": [
      "For a more efficient implementation of the Wilcoxon Rank Sum Test,\n",
      "(default method for FindMarkers) please install the limma package\n",
      "--------------------------------------------\n",
      "install.packages('BiocManager')\n",
      "BiocManager::install('limma')\n",
      "--------------------------------------------\n",
      "After installation of limma, Seurat will automatically use the more \n",
      "efficient implementation (no further action necessary).\n",
      "This message will be shown once per session\n",
      "\n"
     ]
    }
   ],
   "source": [
    "da_peaks <- FindMarkers(\n",
    "  object = seurat,\n",
    "  ident.1=\"Fev+ Delta,0\",\n",
    "  test.use = 'wilcox',\n",
    ")"
   ]
  },
  {
   "cell_type": "code",
   "execution_count": 6,
   "id": "f4c2411e-715e-4c5d-88c0-60609cb19db3",
   "metadata": {},
   "outputs": [],
   "source": [
    "write.csv(da_peaks, \"/lustre/groups/ml01/workspace/moscot_paper/pancreas_revision/marker_peak_analysis/diff_peaks_signac_fev_delta0.csv\")"
   ]
  }
 ],
 "metadata": {
  "kernelspec": {
   "display_name": "R",
   "language": "R",
   "name": "ir"
  },
  "language_info": {
   "codemirror_mode": "r",
   "file_extension": ".r",
   "mimetype": "text/x-r-source",
   "name": "R",
   "pygments_lexer": "r",
   "version": "4.2.2"
  }
 },
 "nbformat": 4,
 "nbformat_minor": 5
}
