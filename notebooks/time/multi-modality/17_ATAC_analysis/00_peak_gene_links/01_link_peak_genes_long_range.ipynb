{
 "cells": [
  {
   "cell_type": "code",
   "execution_count": 1,
   "id": "e0d77877-645c-422a-86f4-9734646ee668",
   "metadata": {},
   "outputs": [],
   "source": [
    "library(vctrs)\n",
    "library(stringr)"
   ]
  },
  {
   "cell_type": "code",
   "execution_count": 2,
   "id": "336a1ecf-e9ae-45d8-856f-3e46035c2613",
   "metadata": {},
   "outputs": [
    {
     "name": "stderr",
     "output_type": "stream",
     "text": [
      "Warning message:\n",
      "“package ‘anndata’ was built under R version 4.3.2”\n",
      "Attaching SeuratObject\n",
      "\n",
      "‘SeuratObject’ was built with package ‘Matrix’ 1.6.1.1 but the current\n",
      "version is 1.6.4; it is recomended that you reinstall ‘SeuratObject’ as\n",
      "the ABI for ‘Matrix’ may have changed\n",
      "\n",
      "── \u001b[1mAttaching core tidyverse packages\u001b[22m ──────────────────────── tidyverse 2.0.0 ──\n",
      "\u001b[32m✔\u001b[39m \u001b[34mdplyr    \u001b[39m 1.1.4     \u001b[32m✔\u001b[39m \u001b[34mreadr    \u001b[39m 2.1.4\n",
      "\u001b[32m✔\u001b[39m \u001b[34mforcats  \u001b[39m 1.0.0     \u001b[32m✔\u001b[39m \u001b[34mtibble   \u001b[39m 3.2.1\n",
      "\u001b[32m✔\u001b[39m \u001b[34mlubridate\u001b[39m 1.9.3     \u001b[32m✔\u001b[39m \u001b[34mtidyr    \u001b[39m 1.3.0\n",
      "\u001b[32m✔\u001b[39m \u001b[34mpurrr    \u001b[39m 1.0.2     \n",
      "── \u001b[1mConflicts\u001b[22m ────────────────────────────────────────── tidyverse_conflicts() ──\n",
      "\u001b[31m✖\u001b[39m \u001b[34mdplyr\u001b[39m::\u001b[32mdata_frame()\u001b[39m masks \u001b[34mtibble\u001b[39m::data_frame(), \u001b[34mvctrs\u001b[39m::data_frame()\n",
      "\u001b[31m✖\u001b[39m \u001b[34mdplyr\u001b[39m::\u001b[32mfilter()\u001b[39m     masks \u001b[34mstats\u001b[39m::filter()\n",
      "\u001b[31m✖\u001b[39m \u001b[34mdplyr\u001b[39m::\u001b[32mlag()\u001b[39m        masks \u001b[34mstats\u001b[39m::lag()\n",
      "\u001b[31m✖\u001b[39m \u001b[34mreadr\u001b[39m::\u001b[32mread_csv()\u001b[39m   masks \u001b[34manndata\u001b[39m::read_csv()\n",
      "\u001b[31m✖\u001b[39m \u001b[34mpurrr\u001b[39m::\u001b[32mreduce()\u001b[39m     masks \u001b[34mSignac\u001b[39m::reduce()\n",
      "\u001b[36mℹ\u001b[39m Use the conflicted package (\u001b[3m\u001b[34m<http://conflicted.r-lib.org/>\u001b[39m\u001b[23m) to force all conflicts to become errors\n",
      "Loading required package: BSgenome\n",
      "\n",
      "Loading required package: BiocGenerics\n",
      "\n",
      "\n",
      "Attaching package: ‘BiocGenerics’\n",
      "\n",
      "\n",
      "The following objects are masked from ‘package:lubridate’:\n",
      "\n",
      "    intersect, setdiff, union\n",
      "\n",
      "\n",
      "The following objects are masked from ‘package:dplyr’:\n",
      "\n",
      "    combine, intersect, setdiff, union\n",
      "\n",
      "\n",
      "The following objects are masked from ‘package:stats’:\n",
      "\n",
      "    IQR, mad, sd, var, xtabs\n",
      "\n",
      "\n",
      "The following objects are masked from ‘package:base’:\n",
      "\n",
      "    anyDuplicated, aperm, append, as.data.frame, basename, cbind,\n",
      "    colnames, dirname, do.call, duplicated, eval, evalq, Filter, Find,\n",
      "    get, grep, grepl, intersect, is.unsorted, lapply, Map, mapply,\n",
      "    match, mget, order, paste, pmax, pmax.int, pmin, pmin.int,\n",
      "    Position, rank, rbind, Reduce, rownames, sapply, setdiff, sort,\n",
      "    table, tapply, union, unique, unsplit, which.max, which.min\n",
      "\n",
      "\n",
      "Loading required package: S4Vectors\n",
      "\n",
      "Loading required package: stats4\n",
      "\n",
      "\n",
      "Attaching package: ‘S4Vectors’\n",
      "\n",
      "\n",
      "The following objects are masked from ‘package:lubridate’:\n",
      "\n",
      "    second, second<-\n",
      "\n",
      "\n",
      "The following objects are masked from ‘package:dplyr’:\n",
      "\n",
      "    first, rename\n",
      "\n",
      "\n",
      "The following object is masked from ‘package:tidyr’:\n",
      "\n",
      "    expand\n",
      "\n",
      "\n",
      "The following objects are masked from ‘package:base’:\n",
      "\n",
      "    expand.grid, I, unname\n",
      "\n",
      "\n",
      "Loading required package: IRanges\n",
      "\n",
      "\n",
      "Attaching package: ‘IRanges’\n",
      "\n",
      "\n",
      "The following object is masked from ‘package:lubridate’:\n",
      "\n",
      "    %within%\n",
      "\n",
      "\n",
      "The following objects are masked from ‘package:dplyr’:\n",
      "\n",
      "    collapse, desc, slice\n",
      "\n",
      "\n",
      "The following object is masked from ‘package:purrr’:\n",
      "\n",
      "    reduce\n",
      "\n",
      "\n",
      "Loading required package: GenomeInfoDb\n",
      "\n",
      "Loading required package: GenomicRanges\n",
      "\n",
      "Loading required package: Biostrings\n",
      "\n",
      "Loading required package: XVector\n",
      "\n",
      "\n",
      "Attaching package: ‘XVector’\n",
      "\n",
      "\n",
      "The following object is masked from ‘package:purrr’:\n",
      "\n",
      "    compact\n",
      "\n",
      "\n",
      "\n",
      "Attaching package: ‘Biostrings’\n",
      "\n",
      "\n",
      "The following object is masked from ‘package:base’:\n",
      "\n",
      "    strsplit\n",
      "\n",
      "\n",
      "Loading required package: rtracklayer\n",
      "\n"
     ]
    }
   ],
   "source": [
    "library(anndata)\n",
    "library(Signac)\n",
    "library(Seurat)\n",
    "library(anndata)\n",
    "library(ggplot2)\n",
    "library(tidyverse)\n",
    "library(BSgenome.Mmusculus.UCSC.mm10)"
   ]
  },
  {
   "cell_type": "code",
   "execution_count": 3,
   "id": "efe96d2c-0826-431f-8c49-f88e194065fe",
   "metadata": {},
   "outputs": [],
   "source": [
    "seurat <- readRDS(\"/lustre/groups/ml01/workspace/moscot_paper/pancreas_revision/seurat_endocrine_annotated.rds\")"
   ]
  },
  {
   "cell_type": "code",
   "execution_count": 4,
   "id": "7d4cec73-89b9-48a7-bb34-2cb4ce414750",
   "metadata": {},
   "outputs": [],
   "source": [
    "BSgenome.Mmusculus.UCSC.mm10.renamed <- renameSeqlevels(BSgenome.Mmusculus.UCSC.mm10, value = str_replace(str_replace(seqnames(BSgenome.Mmusculus.UCSC.mm10), pattern = \"chr\", replacement = \"\"), pattern = \"M\", replacement = \"MT\"))\n"
   ]
  },
  {
   "cell_type": "code",
   "execution_count": 5,
   "id": "0b9152b7-d63d-4ab2-ac42-04b2bc659c81",
   "metadata": {},
   "outputs": [],
   "source": [
    "seurat <- RegionStats(seurat, genome = BSgenome.Mmusculus.UCSC.mm10.renamed, assay='atac')"
   ]
  },
  {
   "cell_type": "code",
   "execution_count": null,
   "id": "e0fa2b19-50b9-421d-be6b-e1cc09e8a84a",
   "metadata": {},
   "outputs": [
    {
     "name": "stderr",
     "output_type": "stream",
     "text": [
      "Testing 18587 genes and 251653 peaks\n",
      "\n",
      "Found gene coordinates for 16925 genes\n",
      "\n"
     ]
    }
   ],
   "source": [
    "seurat <- LinkPeaks(\n",
    "  object = seurat,\n",
    "  peak.assay = \"atac\",\n",
    "  expression.assay = \"scran\",\n",
    "    distance = 1e+07,\n",
    ")"
   ]
  },
  {
   "cell_type": "code",
   "execution_count": null,
   "id": "a4b1488e-b128-4031-817a-34c44c188c12",
   "metadata": {},
   "outputs": [],
   "source": [
    "saveRDS(seurat, \"/lustre/groups/ml01/workspace/moscot_paper/pancreas_revision/seurat_endocrine_with_links_long_range.rds\"))"
   ]
  },
  {
   "cell_type": "markdown",
   "id": "fe850c70-193d-4051-a86d-d3f2a9d0884f",
   "metadata": {},
   "source": [
    "Due to memory issues we load it here again"
   ]
  },
  {
   "cell_type": "code",
   "execution_count": 3,
   "id": "c552e3ae-2820-400a-9ef9-aa4daf3bca39",
   "metadata": {},
   "outputs": [],
   "source": [
    "seurat <- readRDS(\"/lustre/groups/ml01/workspace/moscot_paper/pancreas_revision/seurat_endocrine_with_links_long_range.rds\")"
   ]
  },
  {
   "cell_type": "code",
   "execution_count": 4,
   "id": "91a7ba32-9afc-4353-a4f2-a92f299063a1",
   "metadata": {},
   "outputs": [
    {
     "data": {
      "text/plain": [
       "An object of class Seurat \n",
       "312402 features across 11645 samples within 4 assays \n",
       "Active assay: atac (251676 features, 125868 variable features)\n",
       " 3 other assays present: rna, scran, SCT\n",
       " 2 dimensional reductions calculated: lsi, umap.atac"
      ]
     },
     "metadata": {},
     "output_type": "display_data"
    }
   ],
   "source": [
    "seurat"
   ]
  },
  {
   "cell_type": "code",
   "execution_count": 5,
   "id": "2d702611-f82e-4b64-acc8-e748d4c3388f",
   "metadata": {},
   "outputs": [
    {
     "data": {
      "text/plain": [
       "GRanges object with 186306 ranges and 5 metadata columns:\n",
       "           seqnames            ranges strand |     score        gene\n",
       "              <Rle>         <IRanges>  <Rle> | <numeric> <character>\n",
       "       [1]        1   3671498-4725011      * | 0.0906936        Xkr4\n",
       "       [2]        1   3671498-6800382      * | 0.0565270        Xkr4\n",
       "       [3]        1   3671498-9290122      * | 0.0814732        Xkr4\n",
       "       [4]        1  3671498-10633844      * | 0.0709508        Xkr4\n",
       "       [5]        1  3671498-10693997      * | 0.0749745        Xkr4\n",
       "       ...      ...               ...    ... .       ...         ...\n",
       "  [186302]        Y 90784738-90803535      * | 0.1303846     Gm47283\n",
       "  [186303]        Y 90784738-90805106      * | 0.0931848     Gm47283\n",
       "  [186304]        Y 90784738-90807679      * | 0.1469824     Gm47283\n",
       "  [186305]        Y 90784738-90808899      * | 0.1273070     Gm47283\n",
       "  [186306]        Y 90784738-90812832      * | 0.1448052     Gm47283\n",
       "                          peak    zscore      pvalue\n",
       "                   <character> <numeric>   <numeric>\n",
       "       [1]   1-4724541-4725480   4.90378 4.70055e-07\n",
       "       [2]   1-6799965-6800798   3.37918 3.63512e-04\n",
       "       [3]   1-9289656-9290588   4.07670 2.28394e-05\n",
       "       [4] 1-10633367-10634321   3.61710 1.48963e-04\n",
       "       [5] 1-10693553-10694441   3.95550 3.81877e-05\n",
       "       ...                 ...       ...         ...\n",
       "  [186302] Y-90803113-90803956  11.37537 2.77350e-30\n",
       "  [186303] Y-90804643-90805569   5.88219 2.02431e-09\n",
       "  [186304] Y-90807280-90808077  12.48732 4.37756e-36\n",
       "  [186305] Y-90808486-90809311  12.39075 1.46651e-35\n",
       "  [186306] Y-90812396-90813268  12.29247 4.97126e-35\n",
       "  -------\n",
       "  seqinfo: 21 sequences from an unspecified genome; no seqlengths"
      ]
     },
     "metadata": {},
     "output_type": "display_data"
    }
   ],
   "source": [
    "Links(seurat)"
   ]
  },
  {
   "cell_type": "code",
   "execution_count": 7,
   "id": "63af2f7a-b158-442a-a998-d779622bfa5c",
   "metadata": {},
   "outputs": [
    {
     "name": "stderr",
     "output_type": "stream",
     "text": [
      "Warning message in file(file, \"rt\"):\n",
      "“cannot open file '/lustre/groups/ml01/workspace/moscot_paper/pancreas_revision/marker_peak_analysis/diff_peaks_signac_fev_delta.csv': No such file or directory”\n"
     ]
    },
    {
     "ename": "ERROR",
     "evalue": "Error in file(file, \"rt\"): cannot open the connection\n",
     "output_type": "error",
     "traceback": [
      "Error in file(file, \"rt\"): cannot open the connection\nTraceback:\n",
      "1. read.csv(\"/lustre/groups/ml01/workspace/moscot_paper/pancreas_revision/marker_peak_analysis/diff_peaks_signac_fev_delta.csv\")",
      "2. read.table(file = file, header = header, sep = sep, quote = quote, \n .     dec = dec, fill = fill, comment.char = comment.char, ...)",
      "3. file(file, \"rt\")"
     ]
    }
   ],
   "source": [
    "markers_fev_delta <- read.csv(\"/lustre/groups/ml01/workspace/moscot_paper/pancreas_revision/marker_peak_analysis/diff_peaks_signac_fev_delta.csv\")"
   ]
  },
  {
   "cell_type": "code",
   "execution_count": 6,
   "id": "fbedfed9-cf63-4636-b87f-f7c66d9058f1",
   "metadata": {},
   "outputs": [],
   "source": [
    "range <- markers_fev_delta$X[[1]]"
   ]
  },
  {
   "cell_type": "code",
   "execution_count": 7,
   "id": "d0f91fb5-1419-493d-92ff-cbfc9f6148f3",
   "metadata": {},
   "outputs": [
    {
     "data": {
      "text/html": [
       "'14-107586452-107587364'"
      ],
      "text/latex": [
       "'14-107586452-107587364'"
      ],
      "text/markdown": [
       "'14-107586452-107587364'"
      ],
      "text/plain": [
       "[1] \"14-107586452-107587364\""
      ]
     },
     "metadata": {},
     "output_type": "display_data"
    }
   ],
   "source": [
    "range"
   ]
  },
  {
   "cell_type": "code",
   "execution_count": 11,
   "id": "0fda21ff-0dfd-4af2-86e8-80e9591f8489",
   "metadata": {},
   "outputs": [
    {
     "data": {
      "text/plain": [
       "GRanges object with 2 ranges and 5 metadata columns:\n",
       "      seqnames              ranges strand |     score        gene\n",
       "         <Rle>           <IRanges>  <Rle> | <numeric> <character>\n",
       "  [1]       14 100284679-107586908      * | 0.0575380       Klf12\n",
       "  [2]       14 102982637-107586908      * | 0.0842945      Kctd12\n",
       "                        peak    zscore      pvalue\n",
       "                 <character> <numeric>   <numeric>\n",
       "  [1] 14-107586452-107587364   1.86700 0.030951050\n",
       "  [2] 14-107586452-107587364   3.67098 0.000120812\n",
       "  -------\n",
       "  seqinfo: 21 sequences from an unspecified genome; no seqlengths"
      ]
     },
     "metadata": {},
     "output_type": "display_data"
    }
   ],
   "source": [
    "Links(seurat)[Links(seurat)$peak==\"14-107586452-107587364\"]"
   ]
  },
  {
   "cell_type": "code",
   "execution_count": 12,
   "id": "999005b5-df2e-417a-ad91-8bbae9218a3c",
   "metadata": {},
   "outputs": [],
   "source": [
    "range <- markers_fev_delta$X[[2]]"
   ]
  },
  {
   "cell_type": "code",
   "execution_count": 13,
   "id": "79a3f922-5806-44b3-98ef-0e0d2fceb80d",
   "metadata": {},
   "outputs": [
    {
     "data": {
      "text/plain": [
       "GRanges object with 13 ranges and 5 metadata columns:\n",
       "       seqnames            ranges strand |      score        gene\n",
       "          <Rle>         <IRanges>  <Rle> |  <numeric> <character>\n",
       "   [1]       13 51846678-57889395      * | -0.0805884     Gadd45g\n",
       "   [2]       13 53286124-57889395      * | -0.0678605        Ror2\n",
       "   [3]       13 54371349-57889395      * |  0.0726682       Cplx2\n",
       "   [4]       13 55152640-57889395      * | -0.0601113       Fgfr4\n",
       "   [5]       13 55209782-57889395      * |  0.0586131        Nsd1\n",
       "   ...      ...               ...    ... .        ...         ...\n",
       "   [9]       13 57889395-58403343      * | -0.0651365      Hnrnpk\n",
       "  [10]       13 57889395-58610877      * | -0.0725173     Slc28a3\n",
       "  [11]       13 57889395-59585227      * |  0.0697843     Agtpbp1\n",
       "  [12]       13 57889395-64275290      * | -0.0863475      Cdc14b\n",
       "  [13]       13 57889395-64903955      * |  0.0512448     Cntnap3\n",
       "                       peak    zscore      pvalue\n",
       "                <character> <numeric>   <numeric>\n",
       "   [1] 13-57888916-57889874  -3.60339 0.000157049\n",
       "   [2] 13-57888916-57889874  -2.70813 0.003383148\n",
       "   [3] 13-57888916-57889874   3.49896 0.000233536\n",
       "   [4] 13-57888916-57889874  -3.25835 0.000560302\n",
       "   [5] 13-57888916-57889874   3.57526 0.000174942\n",
       "   ...                  ...       ...         ...\n",
       "   [9] 13-57888916-57889874  -4.22200 1.21074e-05\n",
       "  [10] 13-57888916-57889874  -2.75415 2.94223e-03\n",
       "  [11] 13-57888916-57889874   3.82527 6.53136e-05\n",
       "  [12] 13-57888916-57889874  -3.57882 1.72574e-04\n",
       "  [13] 13-57888916-57889874   4.88523 5.16542e-07\n",
       "  -------\n",
       "  seqinfo: 21 sequences from an unspecified genome; no seqlengths"
      ]
     },
     "metadata": {},
     "output_type": "display_data"
    }
   ],
   "source": [
    "Links(seurat)[Links(seurat)$peak==range]"
   ]
  },
  {
   "cell_type": "code",
   "execution_count": 14,
   "id": "f917d12d-7b71-4650-8e1e-86200891f1c1",
   "metadata": {},
   "outputs": [],
   "source": [
    "markers_eps_prog <- read.csv(path.cat(data_dir, \"signac_marker_peak_analysis/diff_peaks_signac_eps_prog.csv\"))\n"
   ]
  },
  {
   "cell_type": "code",
   "execution_count": 19,
   "id": "3d3f12f8-165b-44ec-95dc-9b4a9a7670ef",
   "metadata": {},
   "outputs": [],
   "source": [
    "range <- markers_eps_prog$X[[3]]"
   ]
  },
  {
   "cell_type": "code",
   "execution_count": 20,
   "id": "3b81a5d1-c9bf-4054-9c76-b0100015b8a6",
   "metadata": {},
   "outputs": [
    {
     "data": {
      "text/plain": [
       "GRanges object with 3 ranges and 5 metadata columns:\n",
       "      seqnames              ranges strand |     score        gene\n",
       "         <Rle>           <IRanges>  <Rle> | <numeric> <character>\n",
       "  [1]       13  96132577-102084836      * | 0.1148903        Sv2c\n",
       "  [2]       13 101768217-102084836      * | 0.0662023      Pik3r1\n",
       "  [3]       13 102084836-110280996      * | 0.0514769       Rab3c\n",
       "                        peak    zscore      pvalue\n",
       "                 <character> <numeric>   <numeric>\n",
       "  [1] 13-102084385-102085287   7.49879 3.22050e-14\n",
       "  [2] 13-102084385-102085287   3.73358 9.43886e-05\n",
       "  [3] 13-102084385-102085287   3.40984 3.25001e-04\n",
       "  -------\n",
       "  seqinfo: 21 sequences from an unspecified genome; no seqlengths"
      ]
     },
     "metadata": {},
     "output_type": "display_data"
    }
   ],
   "source": [
    "Links(seurat)[Links(seurat)$peak==range]"
   ]
  },
  {
   "cell_type": "code",
   "execution_count": 21,
   "id": "5c26ccde-fd1a-4583-8911-ff5da0116955",
   "metadata": {},
   "outputs": [],
   "source": [
    "eps_prog_moscot <- read.csv(path.cat(data_dir, \"driver_features/driver_eps_prog_peaks.csv\")"
   ]
  },
  {
   "cell_type": "code",
   "execution_count": 30,
   "id": "a2f78714-581c-4c11-8a9e-981cf78be65c",
   "metadata": {},
   "outputs": [],
   "source": [
    "range <- eps_prog_moscot$X[[5]]"
   ]
  },
  {
   "cell_type": "code",
   "execution_count": 31,
   "id": "50c3b024-cff5-40dc-8746-87ceac9f510e",
   "metadata": {},
   "outputs": [
    {
     "data": {
      "text/plain": [
       "GRanges object with 0 ranges and 5 metadata columns:\n",
       "   seqnames    ranges strand |     score        gene        peak    zscore\n",
       "      <Rle> <IRanges>  <Rle> | <numeric> <character> <character> <numeric>\n",
       "      pvalue\n",
       "   <numeric>\n",
       "  -------\n",
       "  seqinfo: 21 sequences from an unspecified genome; no seqlengths"
      ]
     },
     "metadata": {},
     "output_type": "display_data"
    }
   ],
   "source": [
    "Links(seurat)[Links(seurat)$peak==range]"
   ]
  },
  {
   "cell_type": "code",
   "execution_count": 32,
   "id": "16806478-26f2-4772-8aa7-74c1dda6a3a3",
   "metadata": {},
   "outputs": [],
   "source": [
    "fev_delta_moscot <- read.csv(path.cat(data_dir, \"driver_features/driver_eps_prog_peaks.csv\"))"
   ]
  },
  {
   "cell_type": "code",
   "execution_count": 43,
   "id": "a25aad67-5f29-4f5d-b9bf-086f6936c739",
   "metadata": {},
   "outputs": [],
   "source": [
    "range <- fev_delta_moscot$X[[6]]"
   ]
  },
  {
   "cell_type": "code",
   "execution_count": 44,
   "id": "ce18f538-e651-4954-b0f7-4a218f3b9b98",
   "metadata": {},
   "outputs": [
    {
     "data": {
      "text/plain": [
       "GRanges object with 2 ranges and 5 metadata columns:\n",
       "      seqnames            ranges strand |     score        gene\n",
       "         <Rle>         <IRanges>  <Rle> | <numeric> <character>\n",
       "  [1]       17 16437854-25175471      * | 0.0614206     Gm38655\n",
       "  [2]       17 16437854-25809085      * | 0.0524693      Fbxl16\n",
       "                      peak    zscore      pvalue\n",
       "               <character> <numeric>   <numeric>\n",
       "  [1] 17-16437424-16438283   5.00635 2.77352e-07\n",
       "  [2] 17-16437424-16438283   3.52395 2.12580e-04\n",
       "  -------\n",
       "  seqinfo: 21 sequences from an unspecified genome; no seqlengths"
      ]
     },
     "metadata": {},
     "output_type": "display_data"
    }
   ],
   "source": [
    "Links(seurat)[Links(seurat)$peak==range]"
   ]
  },
  {
   "cell_type": "code",
   "execution_count": 18,
   "id": "b1c55533-9152-44e2-a7c6-674a147c002e",
   "metadata": {},
   "outputs": [
    {
     "data": {
      "text/plain": [
       "R version 4.2.3 (2023-03-15)\n",
       "Platform: x86_64-conda-linux-gnu (64-bit)\n",
       "Running under: Rocky Linux 8.8 (Green Obsidian)\n",
       "\n",
       "Matrix products: default\n",
       "BLAS/LAPACK: /home/icb/dominik.klein/mambaforge/envs/r_env/lib/libopenblasp-r0.3.25.so\n",
       "\n",
       "locale:\n",
       " [1] LC_CTYPE=C.UTF-8           LC_NUMERIC=C              \n",
       " [3] LC_TIME=en_US.UTF-8        LC_COLLATE=en_US.UTF-8    \n",
       " [5] LC_MONETARY=en_US.UTF-8    LC_MESSAGES=en_US.UTF-8   \n",
       " [7] LC_PAPER=en_US.UTF-8       LC_NAME=C                 \n",
       " [9] LC_ADDRESS=C               LC_TELEPHONE=C            \n",
       "[11] LC_MEASUREMENT=en_US.UTF-8 LC_IDENTIFICATION=C       \n",
       "\n",
       "attached base packages:\n",
       "[1] stats4    stats     graphics  grDevices utils     datasets  methods  \n",
       "[8] base     \n",
       "\n",
       "other attached packages:\n",
       " [1] qlcMatrix_0.9.7                    sparsesvd_0.2                     \n",
       " [3] slam_0.1-50                        Matrix_1.6-4                      \n",
       " [5] BSgenome.Mmusculus.UCSC.mm10_1.4.3 BSgenome_1.66.3                   \n",
       " [7] rtracklayer_1.58.0                 Biostrings_2.66.0                 \n",
       " [9] XVector_0.38.0                     GenomicRanges_1.50.0              \n",
       "[11] GenomeInfoDb_1.34.9                IRanges_2.32.0                    \n",
       "[13] S4Vectors_0.36.0                   BiocGenerics_0.44.0               \n",
       "[15] lubridate_1.9.3                    forcats_1.0.0                     \n",
       "[17] dplyr_1.1.4                        purrr_1.0.2                       \n",
       "[19] readr_2.1.4                        tidyr_1.3.0                       \n",
       "[21] tibble_3.2.1                       tidyverse_2.0.0                   \n",
       "[23] ggplot2_3.4.4                      SeuratObject_5.0.1                \n",
       "[25] Seurat_4.4.0                       Signac_1.10.0                     \n",
       "[27] anndata_0.7.5.6                    stringr_1.5.1                     \n",
       "[29] vctrs_0.6.5                       \n",
       "\n",
       "loaded via a namespace (and not attached):\n",
       "  [1] uuid_1.1-1                  spam_2.8-0                 \n",
       "  [3] fastmatch_1.1-3             plyr_1.8.9                 \n",
       "  [5] igraph_1.3.1                repr_1.1.6                 \n",
       "  [7] lazyeval_0.2.2              sp_2.1-2                   \n",
       "  [9] splines_4.2.3               BiocParallel_1.32.5        \n",
       " [11] listenv_0.9.0               scattermore_1.2            \n",
       " [13] digest_0.6.33               htmltools_0.5.7            \n",
       " [15] fansi_1.0.6                 magrittr_2.0.3             \n",
       " [17] tensor_1.5                  cluster_2.1.6              \n",
       " [19] ROCR_1.0-11                 tzdb_0.4.0                 \n",
       " [21] globals_0.16.2              matrixStats_0.62.0         \n",
       " [23] docopt_0.7.1                timechange_0.2.0           \n",
       " [25] spatstat.sparse_3.0-3       colorspace_2.1-0           \n",
       " [27] ggrepel_0.9.1               crayon_1.5.2               \n",
       " [29] RCurl_1.98-1.6              jsonlite_1.8.8             \n",
       " [31] progressr_0.14.0            spatstat.data_3.0-3        \n",
       " [33] survival_3.5-7              zoo_1.8-12                 \n",
       " [35] glue_1.6.2                  polyclip_1.10-0            \n",
       " [37] gtable_0.3.4                zlibbioc_1.44.0            \n",
       " [39] leiden_0.4.2                DelayedArray_0.24.0        \n",
       " [41] future.apply_1.11.0         abind_1.4-5                \n",
       " [43] scales_1.3.0                spatstat.random_3.2-2      \n",
       " [45] miniUI_0.1.1.1              Rcpp_1.0.11                \n",
       " [47] viridisLite_0.4.2           xtable_1.8-4               \n",
       " [49] reticulate_1.25             dotCall64_1.0-1            \n",
       " [51] htmlwidgets_1.6.4           httr_1.4.7                 \n",
       " [53] RColorBrewer_1.1-3          ellipsis_0.3.2             \n",
       " [55] ica_1.0-2                   XML_3.99-0.9               \n",
       " [57] pkgconfig_2.0.3             uwot_0.1.16                \n",
       " [59] deldir_1.0-6                utf8_1.2.4                 \n",
       " [61] tidyselect_1.2.0            rlang_1.1.2                \n",
       " [63] reshape2_1.4.4              later_1.3.2                \n",
       " [65] munsell_0.5.0               tools_4.2.3                \n",
       " [67] cli_3.6.2                   generics_0.1.3             \n",
       " [69] ggridges_0.5.3              evaluate_0.23              \n",
       " [71] fastmap_1.1.1               yaml_2.3.8                 \n",
       " [73] goftest_1.2-3               fitdistrplus_1.1-11        \n",
       " [75] RANN_2.6.1                  pbapply_1.5-0              \n",
       " [77] future_1.33.0               nlme_3.1-164               \n",
       " [79] mime_0.12                   RcppRoll_0.3.0             \n",
       " [81] compiler_4.2.3              plotly_4.10.0              \n",
       " [83] png_0.1-7                   spatstat.utils_3.0-4       \n",
       " [85] stringi_1.8.3               lattice_0.22-5             \n",
       " [87] IRdisplay_1.1               pillar_1.9.0               \n",
       " [89] lifecycle_1.0.4             spatstat.geom_3.2-7        \n",
       " [91] lmtest_0.9-40               RcppAnnoy_0.0.19           \n",
       " [93] data.table_1.14.10          cowplot_1.1.1              \n",
       " [95] bitops_1.0-7                irlba_2.3.5                \n",
       " [97] httpuv_1.6.13               patchwork_1.1.1            \n",
       " [99] BiocIO_1.8.0                R6_2.5.1                   \n",
       "[101] promises_1.2.1              KernSmooth_2.23-22         \n",
       "[103] gridExtra_2.3               parallelly_1.36.0          \n",
       "[105] codetools_0.2-19            MASS_7.3-60                \n",
       "[107] assertthat_0.2.1            SummarizedExperiment_1.28.0\n",
       "[109] rjson_0.2.21                withr_2.5.2                \n",
       "[111] GenomicAlignments_1.34.0    sctransform_0.4.1          \n",
       "[113] Rsamtools_2.14.0            GenomeInfoDbData_1.2.9     \n",
       "[115] parallel_4.2.3              hms_1.1.3                  \n",
       "[117] grid_4.2.3                  IRkernel_1.3.2             \n",
       "[119] MatrixGenerics_1.10.0       Rtsne_0.16                 \n",
       "[121] pbdZMQ_0.3-10               spatstat.explore_3.2-5     \n",
       "[123] Biobase_2.58.0              shiny_1.8.0                \n",
       "[125] base64enc_0.1-3             restfulr_0.0.15            "
      ]
     },
     "metadata": {},
     "output_type": "display_data"
    }
   ],
   "source": [
    "sessionInfo()"
   ]
  },
  {
   "cell_type": "code",
   "execution_count": null,
   "id": "99417876-11a7-446b-9a2b-8c89ae8ecc2e",
   "metadata": {},
   "outputs": [],
   "source": []
  }
 ],
 "metadata": {
  "kernelspec": {
   "display_name": "r_env",
   "language": "R",
   "name": "r_env"
  },
  "language_info": {
   "codemirror_mode": "r",
   "file_extension": ".r",
   "mimetype": "text/x-r-source",
   "name": "R",
   "pygments_lexer": "r",
   "version": "4.2.3"
  }
 },
 "nbformat": 4,
 "nbformat_minor": 5
}
