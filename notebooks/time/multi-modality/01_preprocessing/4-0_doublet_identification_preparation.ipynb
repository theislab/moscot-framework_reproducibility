{
 "cells": [
  {
   "cell_type": "code",
   "execution_count": null,
   "id": "cb3a2575",
   "metadata": {
    "error": false,
    "lines_to_next_cell": 2,
    "message": false,
    "results": "hold",
    "warning": false
   },
   "outputs": [],
   "source": [
    "# General\n",
    "library(tidyverse)\n",
    "library(cowplot)\n",
    "library(reticulate)\n",
    "\n",
    "# Analysis\n",
    "library(DoubletFinder)\n",
    "library(Seurat)\n",
    "library(sctransform)\n",
    "library(scDblFinder)\n",
    "library(SingleCellExperiment)\n",
    "library(scater)\n",
    "library(scds)\n",
    "library(pastecs)\n",
    "\n",
    "# Parallelization\n",
    "library(BiocParallel)\n",
    "register(MulticoreParam(64, progressbar = TRUE))\n",
    "\n",
    "set.seed(1234)"
   ]
  },
  {
   "cell_type": "markdown",
   "id": "432c44fd",
   "metadata": {},
   "source": [
    "# Doublet Identification\n",
    "\n",
    "## Load Data"
   ]
  },
  {
   "cell_type": "code",
   "execution_count": null,
   "id": "33750920",
   "metadata": {
    "lines_to_next_cell": 2
   },
   "outputs": [],
   "source": [
    "sample_names <- c('E14-5','E15-5')\n",
    "base_path <- \"/home/michi/Projects/scMultiome_NVF_Mouse-Pancreas-Development_E14.5_Notebooks/Files/DoubletFinder/\"\n",
    "file_suffix <- \"_raw_gex_bc_matrix_filtered\"\n",
    "clusters = FALSE # scDblFinder has two main modes for generating artificial doublets: a random one (clusters=FALSE, now default) and a cluster-based one (clusters=TRUE or providing your own clusters - the approach from previous versions). In practice, we observed that both approaches perform well (and better than alternatives). We suggest using the cluster-based approach when the datasets are segregated into clear clusters, and the random one for the rest (e.g. developmental trajectories)."
   ]
  },
  {
   "cell_type": "code",
   "execution_count": null,
   "id": "43137ca2",
   "metadata": {},
   "outputs": [],
   "source": [
    "%%python\n",
    "# General\n",
    "import scipy as sci\n",
    "import numpy as np\n",
    "import pandas as pd\n",
    "import logging\n",
    "import scipy.stats\n",
    "\n",
    "# Analysis\n",
    "import scanpy as sc\n",
    "sc.logging.print_versions()"
   ]
  },
  {
   "cell_type": "code",
   "execution_count": null,
   "id": "ee6d88b6",
   "metadata": {},
   "outputs": [],
   "source": [
    "%%python\n",
    "sample_1_filtered = sc.read('/storage/scRNA-seq/scMultiome_Mouse-Islets_NVF-E14.5_210044/data/cr_arc/cr_count/E14-5/outs/E14-5_raw_gex_bc_matrix_filtered.h5ad')\n",
    "sample_2_filtered = sc.read('/storage/scRNA-seq/scMultiome_Mouse-Islets_NVF-E14.5_210044/data/cr_arc/cr_count/E15-5/outs/E15-5_raw_gex_bc_matrix_filtered.h5ad')"
   ]
  },
  {
   "cell_type": "code",
   "execution_count": null,
   "id": "b1712c01",
   "metadata": {
    "lines_to_next_cell": 2
   },
   "outputs": [],
   "source": [
    "%%python\n",
    "sample_1_filtered_x=sample_1_filtered.X.T\n",
    "sample_2_filtered_x=sample_2_filtered.X.T\n",
    "\n",
    "sample_1_filtered_var=list(sample_1_filtered.var_names)\n",
    "sample_2_filtered_var=list(sample_2_filtered.var_names)\n",
    "\n",
    "sample_1_filtered_obs=list(sample_1_filtered.obs_names)\n",
    "sample_2_filtered_obs=list(sample_2_filtered.obs_names)"
   ]
  },
  {
   "cell_type": "code",
   "execution_count": null,
   "id": "f4d8ce90",
   "metadata": {
    "error": false,
    "message": false,
    "results": "hold",
    "warning": false
   },
   "outputs": [],
   "source": [
    "sample_1_filtered_x <- py$sample_1_filtered_x\n",
    "rownames(sample_1_filtered_x) <- py$sample_1_filtered_var\n",
    "colnames(sample_1_filtered_x) <- py$sample_1_filtered_obs\n",
    "\n",
    "sample_2_filtered_x <- py$sample_2_filtered_x\n",
    "rownames(sample_2_filtered_x) <- py$sample_2_filtered_var\n",
    "colnames(sample_2_filtered_x) <- py$sample_2_filtered_obs"
   ]
  },
  {
   "cell_type": "markdown",
   "id": "9f791825",
   "metadata": {},
   "source": [
    "## scDblFinder & scdc with Standard Preprocessing"
   ]
  },
  {
   "cell_type": "code",
   "execution_count": null,
   "id": "09f13d94",
   "metadata": {
    "error": false,
    "lines_to_next_cell": 2,
    "message": false,
    "results": "hold",
    "warning": false
   },
   "outputs": [],
   "source": [
    "# Initialize the Seurat object with the raw (non-normalized data).\n",
    "sample_1.seurat <- CreateSeuratObject(counts = sample_1_filtered_x, project = \"0\", min.cells = 1, min.features = 0)\n",
    "sample_2.seurat <- CreateSeuratObject(counts = sample_2_filtered_x, project = \"0\", min.cells = 1, min.features = 0)\n",
    "\n",
    "seurat.list <- list(sample_1.seurat, sample_2.seurat)#, sample_3.seurat)\n",
    "names(seurat.list) <- sample_names\n",
    "\n",
    "sce.list <- list()\n",
    "\n",
    "for (i in 1:length(seurat.list)) {\n",
    "    seurat.list[[i]] <- NormalizeData(seurat.list[[i]], verbose = FALSE)\n",
    "    seurat.list[[i]] <- FindVariableFeatures(seurat.list[[i]], selection.method = \"vst\", nfeatures = 5000, verbose = FALSE)\n",
    "    seurat.list[[i]] <- ScaleData(seurat.list[[i]], verbose = FALSE)\n",
    "    seurat.list[[i]] <- RunPCA(seurat.list[[i]], npcs = 50, verbose = FALSE)\n",
    "    seurat.list[[i]] <- RunUMAP(seurat.list[[i]], reduction = \"pca\", dims = 1:50)\n",
    "    seurat.list[[i]] <- FindNeighbors(seurat.list[[i]], dims = 1:50, verbose = FALSE)\n",
    "    seurat.list[[i]] <- FindClusters(seurat.list[[i]], verbose = FALSE, resolution = 0.5)\n",
    "    print(DimPlot(seurat.list[[i]], label = TRUE))\n",
    "    \n",
    "    #Conversion to SingleCellExperiment\n",
    "    sce.list[[i]] <- as.SingleCellExperiment(seurat.list[[i]])\n",
    "    \n",
    "    #scDblFinder\n",
    "    colData(sce.list[[i]])$scoresDoubletDensity <- computeDoubletDensity(sce.list[[i]])\n",
    "    sce.list[[i]] <- scDblFinder(sce.list[[i]], clusters = clusters) #, dbr=0.1)\n",
    "    \n",
    "    # SCDS\n",
    "    sce.list[[i]] <- cxds(sce.list[[i]], retRes = TRUE)\n",
    "    sce.list[[i]] <- bcds(sce.list[[i]], retRes = TRUE, verb=TRUE)\n",
    "    sce.list[[i]] <- cxds_bcds_hybrid(sce.list[[i]])\n",
    "    \n",
    "    dens <- density(sce.list[[i]]$hybrid_score)\n",
    "    min_idx <- match(-1, extract(turnpoints(dens$y, calc.proba = TRUE)))\n",
    "    cut_off <- dens$x[min_idx[length(min_idx)]]\n",
    "    \n",
    "    print(ggplot(as.data.frame(colData(sce.list[[i]])), aes(x=hybrid_score)) + geom_density() + geom_vline(xintercept = cut_off, linetype=2))\n",
    "    \n",
    "    sce.list[[i]]$hybrid_class <- \"doublet\"\n",
    "    sce.list[[i]][,sce.list[[i]]$hybrid_score < cut_off]$hybrid_class <- \"singlet\"\n",
    "    \n",
    "    #Plots\n",
    "    print(plotUMAP(sce.list[[i]], colour_by=\"hybrid_score\"))\n",
    "    print(plotUMAP(sce.list[[i]], colour_by=\"hybrid_class\"))\n",
    "    print(plotUMAP(sce.list[[i]], colour_by=\"scDblFinder.score\"))\n",
    "    print(plotUMAP(sce.list[[i]], colour_by=\"scDblFinder.class\"))\n",
    "    #print(plotUMAP(sce.list[[i]], colour_by=\"scDblFinder.cluster\"))\n",
    "    print(plotUMAP(sce.list[[i]], colour_by=\"Lgr5\"))\n",
    "    print(plotUMAP(sce.list[[i]], colour_by=\"Neurog3\"))\n",
    "    print(plotUMAP(sce.list[[i]], colour_by=\"Neurod1\"))\n",
    "    print(plotUMAP(sce.list[[i]], colour_by=\"Top2a\"))\n",
    "    print(plotUMAP(sce.list[[i]], colour_by=\"nCount_RNA\"))\n",
    "    print(plotUMAP(sce.list[[i]], colour_by=\"nFeature_RNA\"))\n",
    "    print(plotUMAP(sce.list[[i]], colour_by=\"seurat_clusters\"))\n",
    "    \n",
    "    #Save doublets\n",
    "    doublets <- colData(sce.list[[i]])[,c(\"scDblFinder.class\", \"scDblFinder.score\", \"hybrid_class\", \"hybrid_score\")]\n",
    "    write.table(doublets, file = paste0(base_path, names(seurat.list)[i], file_suffix,\"_scDblFinder_scds.txt\"), sep = \"\\t\")\n",
    "}\n",
    "\n",
    "saveRDS(sce.list,paste0(base_path, \"scDblFinder_sce_list.rds\"))"
   ]
  },
  {
   "cell_type": "markdown",
   "id": "f395a362",
   "metadata": {},
   "source": [
    "## DoubletFinder with Standard Preprocessing\n"
   ]
  },
  {
   "cell_type": "code",
   "execution_count": null,
   "id": "4988efbe",
   "metadata": {
    "error": false,
    "lines_to_next_cell": 0,
    "message": false,
    "results": "hold",
    "warning": false
   },
   "outputs": [],
   "source": [
    "for (i in 1:length(seurat.list)) {\n",
    "    ## pK Identification (no ground-truth) ---------------------------------------------------------------------------------------\n",
    "    sweep.res.list <- paramSweep_v3(seurat.list[[i]], PCs = 1:50, sct = FALSE, num.cores = 64)\n",
    "    sweep.stats <- summarizeSweep(sweep.res.list, GT = FALSE)\n",
    "    bcmvn <- find.pK(sweep.stats)\n",
    "    \n",
    "    ## Homotypic Doublet Proportion Estimate -------------------------------------------------------------------------------------\n",
    "    homotypic.prop <- modelHomotypic(seurat.list[[i]]@meta.data$seurat_clusters)           ## ex: annotations <- seurat.list[[1]]@meta.data$ClusteringResults\n",
    "    nExp_poi <- round(0.1*length(seurat.list[[i]]@meta.data$seurat_clusters))  # I guess that doublet formation rate is higher than the ~7.5% estimated from 10x if doublets are present in input cell suspension -> set to 10%  ## Assuming 7.5% doublet formation rate - tailor for your dataset\n",
    "    nExp_poi.adj <- round(nExp_poi*(1-homotypic.prop))\n",
    "    \n",
    "    ## Run DoubletFinder with varying classification stringencies ----------------------------------------------------------------\n",
    "    seurat.list[[i]] <- doubletFinder_v3(seurat.list[[i]], \n",
    "                                              PCs = 1:50, \n",
    "                                              pN = 0.25, \n",
    "                                              pK = as.numeric(as.character(bcmvn$pK[which.max(bcmvn$BCmetric)])), \n",
    "                                              nExp = nExp_poi, \n",
    "                                              reuse.pANN = FALSE, \n",
    "                                              sct = FALSE)\n",
    "    \n",
    "    seurat.list[[i]] <- doubletFinder_v3(seurat.list[[i]], \n",
    "                                              PCs = 1:50, \n",
    "                                              pN = 0.25, \n",
    "                                              pK = as.numeric(as.character(bcmvn$pK[which.max(bcmvn$BCmetric)])), \n",
    "                                              nExp = nExp_poi.adj, \n",
    "                                              reuse.pANN = paste0(\"pANN_0.25_\",as.character(bcmvn$pK[which.max(bcmvn$BCmetric)]),\"_\",nExp_poi), \n",
    "                                              sct = FALSE)\n",
    "    \n",
    "    ## Plot results\n",
    "    print(DimPlot(seurat.list[[i]], group.by = paste0(\"DF.classifications_0.25_\",as.character(bcmvn$pK[which.max(bcmvn$BCmetric)]),\"_\",nExp_poi)))\n",
    "    print(DimPlot(seurat.list[[i]], group.by = paste0(\"DF.classifications_0.25_\",as.character(bcmvn$pK[which.max(bcmvn$BCmetric)]),\"_\",nExp_poi.adj)))\n",
    "    \n",
    "    ## Save results to txt\n",
    "    table <- seurat.list[[i]]@meta.data[,6:8]\n",
    "    colnames(table) <- c(\"pANN\",\"DF_classifications_1\",\"DF_classifications_2\")\n",
    "    write.table(table, file = paste0(base_path, names(seurat.list)[i], file_suffix,\"_DoubletFinder.txt\"), sep = \"\\t\")\n",
    "}\n",
    "\n",
    "saveRDS(seurat.list,paste0(base_path, \"doubletFinder_seurat_list.rds\"))"
   ]
  },
  {
   "cell_type": "markdown",
   "id": "e154562f",
   "metadata": {},
   "source": [
    "\n"
   ]
  },
  {
   "cell_type": "markdown",
   "id": "5d856c02",
   "metadata": {},
   "source": [
    "## DoubletFinder, scDblFinder & scdc with SCTransform Preprocessing"
   ]
  },
  {
   "cell_type": "code",
   "execution_count": null,
   "id": "f3e0988b",
   "metadata": {
    "error": false,
    "lines_to_next_cell": 2,
    "message": false,
    "results": "hold",
    "warning": false
   },
   "outputs": [],
   "source": [
    "# Initialize the Seurat object with the raw (non-normalized data).\n",
    "sample_1.seuratSCT <- CreateSeuratObject(counts = sample_1_filtered_x, project = \"0\", min.cells = 1, min.features = 0)\n",
    "sample_2.seuratSCT <- CreateSeuratObject(counts = sample_2_filtered_x, project = \"0\", min.cells = 1, min.features = 0)\n",
    "# sample_3.seuratSCT <- CreateSeuratObject(counts = sample_3_filtered_x, project = \"0\", min.cells = 1, min.features = 0)\n",
    "\n",
    "seuratSCT.list <- list(sample_1.seuratSCT, sample_2.seuratSCT)#, sample_3.seuratSCT)\n",
    "names(seuratSCT.list) <- sample_names\n",
    "\n",
    "sceSCT.list <- list()\n",
    "\n",
    "for (i in 1:length(seuratSCT.list)) {\n",
    "    # Basic Preprocessing\n",
    "    seuratSCT.list[[i]] <- SCTransform(seuratSCT.list[[i]], verbose = FALSE)\n",
    "    seuratSCT.list[[i]] <- RunPCA(seuratSCT.list[[i]], npcs = 50, verbose = FALSE)\n",
    "    seuratSCT.list[[i]] <- RunUMAP(seuratSCT.list[[i]], reduction = \"pca\", dims = 1:50)\n",
    "    seuratSCT.list[[i]] <- FindNeighbors(seuratSCT.list[[i]], dims = 1:50, verbose = FALSE)\n",
    "    seuratSCT.list[[i]] <- FindClusters(seuratSCT.list[[i]], verbose = FALSE)\n",
    "    \n",
    "    print(DimPlot(seuratSCT.list[[i]], label = TRUE))\n",
    "    \n",
    "    #Conversion to SingleCellExperiment\n",
    "    sceSCT.list[[i]] <- as.SingleCellExperiment(seuratSCT.list[[i]])\n",
    "    \n",
    "    #scDblFinder\n",
    "    colData(sceSCT.list[[i]])$scoresDoubletDensity <- computeDoubletDensity(sceSCT.list[[i]])\n",
    "    sceSCT.list[[i]] <- scDblFinder(sceSCT.list[[i]], clusters = clusters) #, dbr=0.1)\n",
    "    \n",
    "    # SCDS\n",
    "    sceSCT.list[[i]] <- cxds(sceSCT.list[[i]], retRes = TRUE)\n",
    "    sceSCT.list[[i]] <- bcds(sceSCT.list[[i]], retRes = TRUE, verb=TRUE)\n",
    "    sceSCT.list[[i]] <- cxds_bcds_hybrid(sceSCT.list[[i]])\n",
    "    \n",
    "    dens <- density(sceSCT.list[[i]]$hybrid_score)\n",
    "    min_idx <- match(-1, extract(turnpoints(dens$y, calc.proba = TRUE)))\n",
    "    cut_off <- dens$x[min_idx[length(min_idx)]]\n",
    "    print(\"Cut off: \",cut_off)\n",
    "    \n",
    "    print(ggplot(as.data.frame(colData(sceSCT.list[[i]])), aes(x=hybrid_score)) + geom_density() + geom_vline(xintercept = cut_off, linetype=2))\n",
    "    \n",
    "    sceSCT.list[[i]]$hybrid_class <- \"doublet\"\n",
    "    sceSCT.list[[i]][,sceSCT.list[[i]]$hybrid_score < cut_off]$hybrid_class <- \"singlet\"\n",
    "    \n",
    "    #Plots\n",
    "    print(plotUMAP(sceSCT.list[[i]], colour_by=\"hybrid_score\"))\n",
    "    print(plotUMAP(sceSCT.list[[i]], colour_by=\"hybrid_class\"))\n",
    "    print(plotUMAP(sceSCT.list[[i]], colour_by=\"scDblFinder.score\"))\n",
    "    print(plotUMAP(sceSCT.list[[i]], colour_by=\"scDblFinder.class\"))\n",
    "    #print(plotUMAP(sceSCT.list[[i]], colour_by=\"scDblFinder.cluster\"))\n",
    "    print(plotUMAP(sceSCT.list[[i]], colour_by=\"Lgr5\"))\n",
    "    print(plotUMAP(sceSCT.list[[i]], colour_by=\"Neurog3\"))\n",
    "    print(plotUMAP(sceSCT.list[[i]], colour_by=\"Neurod1\"))\n",
    "    print(plotUMAP(sceSCT.list[[i]], colour_by=\"Top2a\"))\n",
    "    print(plotUMAP(sceSCT.list[[i]], colour_by=\"nCount_RNA\"))\n",
    "    print(plotUMAP(sceSCT.list[[i]], colour_by=\"nFeature_RNA\"))\n",
    "    print(plotUMAP(sceSCT.list[[i]], colour_by=\"seurat_clusters\"))\n",
    "    \n",
    "    #Save doublets\n",
    "    doublets <- colData(sceSCT.list[[i]])[,c(\"scDblFinder.class\", \"scDblFinder.score\", \"hybrid_class\", \"hybrid_score\")]\n",
    "    colnames(doublets) <- c(\"scDblFinder.class.sct\", \"scDblFinder.score.sct\", \"hybrid_class_sct\", \"hybrid_score_sct\")\n",
    "    write.table(doublets, file = paste0(base_path, names(seuratSCT.list)[i], file_suffix,\"_scDblFinder_scds_SCT.txt\"), sep = \"\\t\")\n",
    "    \n",
    "    ## pK Identification (no ground-truth) ---------------------------------------------------------------------------------------\n",
    "    sweep.res.list <- paramSweep_v3(seuratSCT.list[[i]], PCs = 1:50, sct = TRUE, num.cores = 64)\n",
    "    sweep.stats <- summarizeSweep(sweep.res.list, GT = FALSE)\n",
    "    bcmvn <- find.pK(sweep.stats)\n",
    "    \n",
    "    ## Homotypic Doublet Proportion Estimate -------------------------------------------------------------------------------------\n",
    "    homotypic.prop <- modelHomotypic(seuratSCT.list[[i]]@meta.data$seurat_clusters)           ## ex: annotations <- seuratSCT.list[[i]]@meta.data$ClusteringResults\n",
    "    nExp_poi <- round(0.1*length(seuratSCT.list[[i]]@meta.data$seurat_clusters))  ## Assuming 7.5% doublet formation rate - tailor for your dataset\n",
    "    nExp_poi.adj <- round(nExp_poi*(1-homotypic.prop))\n",
    "    \n",
    "    ## Run DoubletFinder with varying classification stringencies ----------------------------------------------------------------\n",
    "    seuratSCT.list[[i]] <- doubletFinder_v3(seuratSCT.list[[i]], PCs = 1:50, pN = 0.25, pK = as.numeric(as.character(bcmvn$pK[which.max(bcmvn$BCmetric)])), nExp = nExp_poi, reuse.pANN = FALSE, sct = TRUE)\n",
    "    seuratSCT.list[[i]] <- doubletFinder_v3(seuratSCT.list[[i]], PCs = 1:50, pN = 0.25, pK = as.numeric(as.character(bcmvn$pK[which.max(bcmvn$BCmetric)])), nExp = nExp_poi.adj, reuse.pANN = paste0(\"pANN_0.25_\",as.character(bcmvn$pK[which.max(bcmvn$BCmetric)]),\"_\",nExp_poi), sct = TRUE)\n",
    "    \n",
    "    ## Plot results\n",
    "    print(DimPlot(seuratSCT.list[[i]], group.by = paste0(\"DF.classifications_0.25_\",as.character(bcmvn$pK[which.max(bcmvn$BCmetric)]),\"_\",nExp_poi)))\n",
    "    print(DimPlot(seuratSCT.list[[i]], group.by = paste0(\"DF.classifications_0.25_\",as.character(bcmvn$pK[which.max(bcmvn$BCmetric)]),\"_\",nExp_poi.adj)))\n",
    "    \n",
    "    ## Save results to txt\n",
    "    table <- seuratSCT.list[[i]]@meta.data[,8:10]\n",
    "    colnames(table) <- c(\"pANN_SCT\",\"DF_SCT_classifications_1\",\"DF_SCT_classifications_2\")\n",
    "    write.table(table, file = paste0(base_path, names(seuratSCT.list)[i], file_suffix,\"_DoubletFinder_SCT.txt\"), sep = \"\\t\")\n",
    "}\n",
    "\n",
    "saveRDS(seurat.list,paste0(base_path, \"doubletFinder_seurat_sct_list.rds\"))\n",
    "saveRDS(sce.list,paste0(base_path, \"scDblFinder_sce__sct_list.rds\"))"
   ]
  }
 ],
 "metadata": {
  "jupytext": {
   "cell_metadata_filter": "results,warning,message,error,-all",
   "main_language": "R",
   "notebook_metadata_filter": "-all"
  },
  "kernelspec": {
   "display_name": "Python 2",
   "language": "python",
   "name": "python2"
  },
  "language_info": {
   "codemirror_mode": {
    "name": "ipython",
    "version": 2
   },
   "file_extension": ".py",
   "mimetype": "text/x-python",
   "name": "python",
   "nbconvert_exporter": "python",
   "pygments_lexer": "ipython2",
   "version": "2.7.5"
  }
 },
 "nbformat": 4,
 "nbformat_minor": 5
}
