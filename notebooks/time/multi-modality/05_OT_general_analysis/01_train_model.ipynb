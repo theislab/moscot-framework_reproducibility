{
 "cells": [
  {
   "cell_type": "code",
   "execution_count": 1,
   "id": "716132e7",
   "metadata": {},
   "outputs": [],
   "source": [
    "import jax\n",
    "from jax.config import config\n",
    "config.update(\"jax_enable_x64\", True)"
   ]
  },
  {
   "cell_type": "code",
   "execution_count": 2,
   "id": "e66396df",
   "metadata": {},
   "outputs": [
    {
     "name": "stdout",
     "output_type": "stream",
     "text": [
      "['default', 'despine']\n"
     ]
    }
   ],
   "source": [
    "import scanpy as sc\n",
    "import numpy as np\n",
    "import seaborn as sns\n",
    "import matplotlib.pyplot as plt\n",
    "import moscot\n",
    "from moscot.problems.time import TemporalProblem\n",
    "import moscot.plotting as mpl\n",
    "import pandas as pd\n",
    "import os\n",
    "\n",
    "sc.set_figure_params(scanpy=True, dpi=80, dpi_save=200)\n",
    "                         \n",
    "import mplscience\n",
    "\n",
    "mplscience.available_styles()\n",
    "mplscience.set_style(reset_current=True)\n",
    "plt.rcParams['legend.scatterpoints'] = 1 "
   ]
  },
  {
   "cell_type": "code",
   "execution_count": 3,
   "id": "195cb97a",
   "metadata": {},
   "outputs": [],
   "source": [
    "output_dir = \".\""
   ]
  },
  {
   "cell_type": "code",
   "execution_count": 4,
   "id": "c2d5564a",
   "metadata": {},
   "outputs": [],
   "source": [
    "adata = sc.read_h5ad(\"/lustre/groups/ml01/workspace/moscot_paper/pancreas/pancreas_multiome_2022_processed.h5ad\")"
   ]
  },
  {
   "cell_type": "code",
   "execution_count": 5,
   "id": "8138551c",
   "metadata": {},
   "outputs": [],
   "source": [
    "adata_2 = sc.read_h5ad(\"/lustre/groups/ml01/workspace/moscot_paper/pancreas/embeddings/pancreas_shared_embeddings.h5ad\")"
   ]
  },
  {
   "cell_type": "code",
   "execution_count": 6,
   "id": "ffd693e9",
   "metadata": {},
   "outputs": [],
   "source": [
    "adata.obsm[\"X_multi_vi\"] = adata_2.obsm[\"X_multi_vi\"].copy()"
   ]
  },
  {
   "cell_type": "code",
   "execution_count": 7,
   "id": "75cdb840",
   "metadata": {},
   "outputs": [],
   "source": [
    "del adata_2"
   ]
  },
  {
   "cell_type": "code",
   "execution_count": 8,
   "id": "008b444c",
   "metadata": {},
   "outputs": [],
   "source": [
    "new_annotation = pd.read_csv(\"/lustre/groups/ml01/workspace/moscot_paper/pancreas/EDA/endocrine_refinement.csv\")"
   ]
  },
  {
   "cell_type": "code",
   "execution_count": 9,
   "id": "5503b4c2",
   "metadata": {},
   "outputs": [],
   "source": [
    "adata.obs[\"Fev_delta_refinement\"] = new_annotation[\"Fev_delta_refinement\"].values\n",
    "adata.obs[\"Ngn3_high_refinement\"] = new_annotation[\"Ngn3_high_refinement\"].values\n",
    "adata.obs[\"refinement\"] = new_annotation[\"refinement\"].values"
   ]
  },
  {
   "cell_type": "code",
   "execution_count": 10,
   "id": "6c202cfb",
   "metadata": {},
   "outputs": [],
   "source": [
    "adata.obs['time'] = adata.obs.apply(lambda x: 14.5 if x[\"sample\"]==\"E14.5\" else 15.5, axis=1)"
   ]
  },
  {
   "cell_type": "code",
   "execution_count": 11,
   "id": "56363eed",
   "metadata": {},
   "outputs": [],
   "source": [
    "color_dict = { 'Prlf. Ductal': '#f7b6d2', 'Ductal': '#d62728', 'Imm. Acinar': '#ffeb3b', 'Mat. Acinar': '#98df8a',\n",
    "    'Alpha': '#1f77b4', 'Beta': '#ff7f0e', 'Delta': '#279e68', 'Eps. progenitors': '#aa40fc', 'Epsilon': '#8c564b',\n",
    "       'Fev+': '#e377c2', 'Fev+ Alpha': '#b5bd61', 'Fev+ Beta': '#42f5ec', 'Fev+ Delta': '#aec7e8', 'Fev+ Delta,0': '#17becf', 'Fev+ Delta,1':'#98df8a',\n",
    "      'Ngn3 high cycling': '#adf542',\n",
    "        'Ngn3 high,0': '#ff9896', 'Ngn3 high': '#ff9896', 'Ngn3 high,1':'#f0b98d', 'Ngn3 low': '#c5b0d5'\n",
    "}"
   ]
  },
  {
   "cell_type": "code",
   "execution_count": 12,
   "id": "d4e0ec1f",
   "metadata": {},
   "outputs": [],
   "source": [
    "adata.obs[\"refinement\"] = adata.obs[\"refinement\"].astype(\"category\")\n",
    "adata.uns[\"refinement_colors\"] = [color_dict[ct] for ct in adata.obs[\"refinement\"].cat.categories]"
   ]
  },
  {
   "cell_type": "markdown",
   "id": "8e4b8598",
   "metadata": {},
   "source": [
    "# Heat kernel distances"
   ]
  },
  {
   "cell_type": "code",
   "execution_count": 13,
   "id": "df32bc81",
   "metadata": {},
   "outputs": [],
   "source": [
    "import pygsp"
   ]
  },
  {
   "cell_type": "code",
   "execution_count": 14,
   "id": "b75c68e0",
   "metadata": {},
   "outputs": [],
   "source": [
    "sc.pp.neighbors(adata, use_rep=\"X_multi_vi\", key_added=\"multi_vi\", n_neighbors=30)"
   ]
  },
  {
   "cell_type": "code",
   "execution_count": 15,
   "id": "cd06210b",
   "metadata": {},
   "outputs": [],
   "source": [
    "cell_ids_source = adata[adata.obs[\"time\"]==14.5].obs_names\n",
    "cell_ids_target = adata[adata.obs[\"time\"]==15.5].obs_names"
   ]
  },
  {
   "cell_type": "code",
   "execution_count": 16,
   "id": "27af9390",
   "metadata": {},
   "outputs": [],
   "source": [
    "assert (adata.obs.iloc[:(len(cell_ids_source))].index == cell_ids_source).all()\n",
    "assert (adata.obs.iloc[(len(cell_ids_source)):].index == cell_ids_target).all()"
   ]
  },
  {
   "cell_type": "code",
   "execution_count": 17,
   "id": "668237d5",
   "metadata": {},
   "outputs": [],
   "source": [
    "G = pygsp.graphs.Graph(adata.obsp[\"multi_vi_connectivities\"])"
   ]
  },
  {
   "cell_type": "code",
   "execution_count": 18,
   "id": "1cfad71c",
   "metadata": {},
   "outputs": [],
   "source": [
    "G.estimate_lmax()"
   ]
  },
  {
   "cell_type": "code",
   "execution_count": 19,
   "id": "13665f37",
   "metadata": {},
   "outputs": [],
   "source": [
    "filt = pygsp.filters.Heat(G, tau=100)\n",
    "diffusion_distances = filt.filter(np.eye(len(adata)))\n",
    "custom_cost = pd.DataFrame(data=-np.log(diffusion_distances[:len(cell_ids_source), len(cell_ids_source):].copy())+1e-15, index=cell_ids_source, columns=cell_ids_target)"
   ]
  },
  {
   "cell_type": "code",
   "execution_count": 20,
   "id": "98f0f7ab",
   "metadata": {},
   "outputs": [],
   "source": [
    "tp0 = TemporalProblem(adata)\n",
    "tp0 = tp0.prepare(\"time\", joint_attr=\"X_multi_vi\")"
   ]
  },
  {
   "cell_type": "code",
   "execution_count": 21,
   "id": "12d4201c",
   "metadata": {},
   "outputs": [],
   "source": [
    "tp0[14.5, 15.5].set_xy(custom_cost, tag=\"cost_matrix\")"
   ]
  },
  {
   "cell_type": "code",
   "execution_count": 22,
   "id": "b83e9f5e",
   "metadata": {},
   "outputs": [
    {
     "name": "stdout",
     "output_type": "stream",
     "text": [
      "\u001b[34mINFO    \u001b[0m Solving problem BirthDeathProblem\u001b[1m[\u001b[0m\u001b[33mstage\u001b[0m=\u001b[32m'prepared'\u001b[0m, \u001b[33mshape\u001b[0m=\u001b[1m(\u001b[0m\u001b[1;36m9811\u001b[0m, \u001b[1;36m7107\u001b[0m\u001b[1m)\u001b[0m\u001b[1m]\u001b[0m.            \n"
     ]
    },
    {
     "name": "stderr",
     "output_type": "stream",
     "text": [
      "Numba: Attempted to fork from a non-main thread, the TBB library may be in an invalid state in the child process.\n",
      "Numba: Attempted to fork from a non-main thread, the TBB library may be in an invalid state in the child process.\n",
      "Numba: Attempted to fork from a non-main thread, the TBB library may be in an invalid state in the child process.\n",
      "Numba: Attempted to fork from a non-main thread, the TBB library may be in an invalid state in the child process.\n",
      "Numba: Attempted to fork from a non-main thread, the TBB library may be in an invalid state in the child process.\n",
      "Numba: Attempted to fork from a non-main thread, the TBB library may be in an invalid state in the child process.\n",
      "Numba: Attempted to fork from a non-main thread, the TBB library may be in an invalid state in the child process.\n",
      "Numba: Attempted to fork from a non-main thread, the TBB library may be in an invalid state in the child process.\n",
      "Numba: Attempted to fork from a non-main thread, the TBB library may be in an invalid state in the child process.\n",
      "Numba: Attempted to fork from a non-main thread, the TBB library may be in an invalid state in the child process.\n",
      "Numba: Attempted to fork from a non-main thread, the TBB library may be in an invalid state in the child process.\n",
      "Numba: Attempted to fork from a non-main thread, the TBB library may be in an invalid state in the child process.\n",
      "Numba: Attempted to fork from a non-main thread, the TBB library may be in an invalid state in the child process.\n",
      "Numba: Attempted to fork from a non-main thread, the TBB library may be in an invalid state in the child process.\n",
      "Numba: Attempted to fork from a non-main thread, the TBB library may be in an invalid state in the child process.\n",
      "Numba: Attempted to fork from a non-main thread, the TBB library may be in an invalid state in the child process.\n",
      "Numba: Attempted to fork from a non-main thread, the TBB library may be in an invalid state in the child process.\n",
      "Numba: Attempted to fork from a non-main thread, the TBB library may be in an invalid state in the child process.\n",
      "Numba: Attempted to fork from a non-main thread, the TBB library may be in an invalid state in the child process.\n",
      "Numba: Attempted to fork from a non-main thread, the TBB library may be in an invalid state in the child process.\n",
      "Numba: Attempted to fork from a non-main thread, the TBB library may be in an invalid state in the child process.\n"
     ]
    }
   ],
   "source": [
    "tp0 = tp0.solve(max_iterations=1e8)"
   ]
  },
  {
   "cell_type": "code",
   "execution_count": 23,
   "id": "d117be7f",
   "metadata": {},
   "outputs": [],
   "source": [
    "order_celltypes = ['Mat. Acinar', 'Imm. Acinar', 'Prlf. Ductal', 'Ductal', 'Ngn3 low', 'Ngn3 high cycling', 'Ngn3 high', 'Eps. progenitors', 'Fev+', 'Fev+ Alpha', \n",
    "                   'Fev+ Beta', 'Fev+ Delta', 'Alpha', 'Beta', 'Delta', 'Epsilon']"
   ]
  },
  {
   "cell_type": "code",
   "execution_count": 24,
   "id": "958d6304",
   "metadata": {},
   "outputs": [
    {
     "name": "stderr",
     "output_type": "stream",
     "text": [
      "Numba: Attempted to fork from a non-main thread, the TBB library may be in an invalid state in the child process.\n",
      "Numba: Attempted to fork from a non-main thread, the TBB library may be in an invalid state in the child process.\n",
      "Numba: Attempted to fork from a non-main thread, the TBB library may be in an invalid state in the child process.\n",
      "Numba: Attempted to fork from a non-main thread, the TBB library may be in an invalid state in the child process.\n",
      "Numba: Attempted to fork from a non-main thread, the TBB library may be in an invalid state in the child process.\n",
      "Numba: Attempted to fork from a non-main thread, the TBB library may be in an invalid state in the child process.\n",
      "Numba: Attempted to fork from a non-main thread, the TBB library may be in an invalid state in the child process.\n",
      "Numba: Attempted to fork from a non-main thread, the TBB library may be in an invalid state in the child process.\n",
      "Numba: Attempted to fork from a non-main thread, the TBB library may be in an invalid state in the child process.\n",
      "Numba: Attempted to fork from a non-main thread, the TBB library may be in an invalid state in the child process.\n",
      "Numba: Attempted to fork from a non-main thread, the TBB library may be in an invalid state in the child process.\n",
      "Numba: Attempted to fork from a non-main thread, the TBB library may be in an invalid state in the child process.\n",
      "Numba: Attempted to fork from a non-main thread, the TBB library may be in an invalid state in the child process.\n",
      "Numba: Attempted to fork from a non-main thread, the TBB library may be in an invalid state in the child process.\n",
      "Numba: Attempted to fork from a non-main thread, the TBB library may be in an invalid state in the child process.\n",
      "Numba: Attempted to fork from a non-main thread, the TBB library may be in an invalid state in the child process.\n",
      "Numba: Attempted to fork from a non-main thread, the TBB library may be in an invalid state in the child process.\n",
      "Numba: Attempted to fork from a non-main thread, the TBB library may be in an invalid state in the child process.\n",
      "Numba: Attempted to fork from a non-main thread, the TBB library may be in an invalid state in the child process.\n",
      "Numba: Attempted to fork from a non-main thread, the TBB library may be in an invalid state in the child process.\n",
      "Numba: Attempted to fork from a non-main thread, the TBB library may be in an invalid state in the child process.\n",
      "Numba: Attempted to fork from a non-main thread, the TBB library may be in an invalid state in the child process.\n",
      "Numba: Attempted to fork from a non-main thread, the TBB library may be in an invalid state in the child process.\n",
      "Numba: Attempted to fork from a non-main thread, the TBB library may be in an invalid state in the child process.\n",
      "Numba: Attempted to fork from a non-main thread, the TBB library may be in an invalid state in the child process.\n",
      "Numba: Attempted to fork from a non-main thread, the TBB library may be in an invalid state in the child process.\n",
      "Numba: Attempted to fork from a non-main thread, the TBB library may be in an invalid state in the child process.\n",
      "Numba: Attempted to fork from a non-main thread, the TBB library may be in an invalid state in the child process.\n",
      "Numba: Attempted to fork from a non-main thread, the TBB library may be in an invalid state in the child process.\n",
      "Numba: Attempted to fork from a non-main thread, the TBB library may be in an invalid state in the child process.\n",
      "Numba: Attempted to fork from a non-main thread, the TBB library may be in an invalid state in the child process.\n"
     ]
    }
   ],
   "source": [
    "_ = tp0.cell_transition(14.5, 15.5, {\"celltype\": order_celltypes}, {\"celltype\": order_celltypes}, forward=False)"
   ]
  },
  {
   "cell_type": "code",
   "execution_count": 25,
   "id": "12f2a33c",
   "metadata": {},
   "outputs": [],
   "source": [
    "mpl.cell_transition(tp0, dpi=120, fontsize=5)"
   ]
  },
  {
   "cell_type": "code",
   "execution_count": 26,
   "id": "e3a08820",
   "metadata": {},
   "outputs": [
    {
     "name": "stdout",
     "output_type": "stream",
     "text": [
      "\u001b[34mINFO    \u001b[0m Successfully saved the problem as                                                   \n",
      "         `\u001b[35m/lustre/groups/ml01/workspace/moscot_paper/pancreas/\u001b[0m\u001b[95mall_cells_TemporalProblem.pkl\u001b[0m` \n"
     ]
    }
   ],
   "source": [
    "tp0.save(\"/lustre/groups/ml01/workspace/moscot_paper/pancreas/\", file_prefix=\"all_cells\", overwrite=True)"
   ]
  }
 ],
 "metadata": {
  "kernelspec": {
   "display_name": "jax_gpu3",
   "language": "python",
   "name": "jax_gpu3"
  },
  "language_info": {
   "codemirror_mode": {
    "name": "ipython",
    "version": 3
   },
   "file_extension": ".py",
   "mimetype": "text/x-python",
   "name": "python",
   "nbconvert_exporter": "python",
   "pygments_lexer": "ipython3",
   "version": "3.8.13"
  }
 },
 "nbformat": 4,
 "nbformat_minor": 5
}
