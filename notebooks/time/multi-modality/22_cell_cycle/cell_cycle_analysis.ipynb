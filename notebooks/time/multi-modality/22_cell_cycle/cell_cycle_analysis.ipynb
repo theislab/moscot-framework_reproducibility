{
 "cells": [
  {
   "cell_type": "code",
   "execution_count": 1,
   "id": "45494908-8965-43d3-a74b-414b87249f26",
   "metadata": {},
   "outputs": [],
   "source": [
    "import jax"
   ]
  },
  {
   "cell_type": "code",
   "execution_count": 2,
   "id": "7c9d51b4-a968-428b-825c-6e98188ce5cd",
   "metadata": {},
   "outputs": [
    {
     "name": "stderr",
     "output_type": "stream",
     "text": [
      "/home/icb/dominik.klein/mambaforge/envs/moscot_up/lib/python3.11/site-packages/umap/distances.py:1063: NumbaDeprecationWarning: \u001b[1mThe 'nopython' keyword argument was not supplied to the 'numba.jit' decorator. The implicit default value for this argument is currently False, but it will be changed to True in Numba 0.59.0. See https://numba.readthedocs.io/en/stable/reference/deprecation.html#deprecation-of-object-mode-fall-back-behaviour-when-using-jit for details.\u001b[0m\n",
      "  @numba.jit()\n",
      "/home/icb/dominik.klein/mambaforge/envs/moscot_up/lib/python3.11/site-packages/umap/distances.py:1071: NumbaDeprecationWarning: \u001b[1mThe 'nopython' keyword argument was not supplied to the 'numba.jit' decorator. The implicit default value for this argument is currently False, but it will be changed to True in Numba 0.59.0. See https://numba.readthedocs.io/en/stable/reference/deprecation.html#deprecation-of-object-mode-fall-back-behaviour-when-using-jit for details.\u001b[0m\n",
      "  @numba.jit()\n",
      "/home/icb/dominik.klein/mambaforge/envs/moscot_up/lib/python3.11/site-packages/umap/distances.py:1086: NumbaDeprecationWarning: \u001b[1mThe 'nopython' keyword argument was not supplied to the 'numba.jit' decorator. The implicit default value for this argument is currently False, but it will be changed to True in Numba 0.59.0. See https://numba.readthedocs.io/en/stable/reference/deprecation.html#deprecation-of-object-mode-fall-back-behaviour-when-using-jit for details.\u001b[0m\n",
      "  @numba.jit()\n",
      "/home/icb/dominik.klein/mambaforge/envs/moscot_up/lib/python3.11/site-packages/tqdm/auto.py:21: TqdmWarning: IProgress not found. Please update jupyter and ipywidgets. See https://ipywidgets.readthedocs.io/en/stable/user_install.html\n",
      "  from .autonotebook import tqdm as notebook_tqdm\n",
      "/home/icb/dominik.klein/mambaforge/envs/moscot_up/lib/python3.11/site-packages/umap/umap_.py:660: NumbaDeprecationWarning: \u001b[1mThe 'nopython' keyword argument was not supplied to the 'numba.jit' decorator. The implicit default value for this argument is currently False, but it will be changed to True in Numba 0.59.0. See https://numba.readthedocs.io/en/stable/reference/deprecation.html#deprecation-of-object-mode-fall-back-behaviour-when-using-jit for details.\u001b[0m\n",
      "  @numba.jit()\n"
     ]
    }
   ],
   "source": [
    "import os\n",
    "import muon\n",
    "import pandas as pd\n",
    "import numpy as np\n",
    "from scipy import stats\n",
    "import seaborn as sns\n",
    "import scanpy as sc"
   ]
  },
  {
   "cell_type": "code",
   "execution_count": 3,
   "id": "69954eff-cc36-4097-9958-d2298eb61d88",
   "metadata": {},
   "outputs": [],
   "source": [
    "mudata = muon.read(\"/lustre/groups/ml01/workspace/moscot_paper/pancreas_revision/mudata_with_annotation_all.h5mu\")"
   ]
  },
  {
   "cell_type": "code",
   "execution_count": 4,
   "id": "68190c38-3b03-4975-b278-a3adde5b91d4",
   "metadata": {},
   "outputs": [],
   "source": [
    "cc_genes_macosko = pd.read_table('/lustre/groups/ml01/workspace/moscot_paper/pancreas/Macosko_cell_cycle_genes.txt', delimiter='\\t')\n",
    "def capitalize_first_letter(word):\n",
    "    if pd.notna(word):\n",
    "        return word.capitalize()\n",
    "    else:\n",
    "        return None\n",
    "\n",
    "for column in cc_genes_macosko.columns:\n",
    "    cc_genes_macosko[column] = cc_genes_macosko[column].apply(lambda x: capitalize_first_letter(x))\n"
   ]
  },
  {
   "cell_type": "code",
   "execution_count": 5,
   "id": "0c862973-9ee7-4b39-bd44-2385a35b3a6e",
   "metadata": {},
   "outputs": [],
   "source": [
    "s_genes_macosko = list(mudata[\"rna\"].var_names[np.isin(mudata[\"rna\"].var_names, cc_genes_macosko['S'].dropna())])\n",
    "g2m_genes_macosko = list(mudata[\"rna\"].var_names[np.isin(mudata[\"rna\"].var_names, cc_genes_macosko['G2.M'].dropna())])\n",
    "m_genes_macosko = list(mudata[\"rna\"].var_names[np.isin(mudata[\"rna\"].var_names, cc_genes_macosko['M'].dropna())])\n",
    "mg1_genes_macosko = list(mudata[\"rna\"].var_names[np.isin(mudata[\"rna\"].var_names, cc_genes_macosko['M.G1'].dropna())])\n",
    "g1s_genes_macosko = list(mudata[\"rna\"].var_names[np.isin(mudata[\"rna\"].var_names, cc_genes_macosko['IG1.S'].dropna())])"
   ]
  },
  {
   "cell_type": "code",
   "execution_count": 6,
   "id": "838e1f15-5664-44bd-8574-5284dc70903c",
   "metadata": {},
   "outputs": [
    {
     "data": {
      "text/html": [
       "<div>\n",
       "<style scoped>\n",
       "    .dataframe tbody tr th:only-of-type {\n",
       "        vertical-align: middle;\n",
       "    }\n",
       "\n",
       "    .dataframe tbody tr th {\n",
       "        vertical-align: top;\n",
       "    }\n",
       "\n",
       "    .dataframe thead th {\n",
       "        text-align: right;\n",
       "    }\n",
       "</style>\n",
       "<table border=\"1\" class=\"dataframe\">\n",
       "  <thead>\n",
       "    <tr style=\"text-align: right;\">\n",
       "      <th></th>\n",
       "      <th>IG1.S</th>\n",
       "      <th>S</th>\n",
       "      <th>G2.M</th>\n",
       "      <th>M</th>\n",
       "      <th>M.G1</th>\n",
       "      <th>Unnamed: 5</th>\n",
       "    </tr>\n",
       "  </thead>\n",
       "  <tbody>\n",
       "    <tr>\n",
       "      <th>0</th>\n",
       "      <td>Acd</td>\n",
       "      <td>Abcc5</td>\n",
       "      <td>Anln</td>\n",
       "      <td>Ahi1</td>\n",
       "      <td>agfg1</td>\n",
       "      <td>None</td>\n",
       "    </tr>\n",
       "    <tr>\n",
       "      <th>1</th>\n",
       "      <td>Acyp1</td>\n",
       "      <td>Abhd10</td>\n",
       "      <td>Ap3d1</td>\n",
       "      <td>Akirin2</td>\n",
       "      <td>Agpat3</td>\n",
       "      <td>None</td>\n",
       "    </tr>\n",
       "    <tr>\n",
       "      <th>2</th>\n",
       "      <td>Adamts1</td>\n",
       "      <td>Ankrd18a</td>\n",
       "      <td>Arhgap19</td>\n",
       "      <td>Ankrd40</td>\n",
       "      <td>Akap13</td>\n",
       "      <td>None</td>\n",
       "    </tr>\n",
       "    <tr>\n",
       "      <th>3</th>\n",
       "      <td>Ankrd10</td>\n",
       "      <td>Asf1b</td>\n",
       "      <td>Arl4a</td>\n",
       "      <td>Anln</td>\n",
       "      <td>Amd1</td>\n",
       "      <td>None</td>\n",
       "    </tr>\n",
       "    <tr>\n",
       "      <th>4</th>\n",
       "      <td>Apex2</td>\n",
       "      <td>Atad2</td>\n",
       "      <td>Armc1</td>\n",
       "      <td>Anp32b</td>\n",
       "      <td>Anp32e</td>\n",
       "      <td>None</td>\n",
       "    </tr>\n",
       "    <tr>\n",
       "      <th>...</th>\n",
       "      <td>...</td>\n",
       "      <td>...</td>\n",
       "      <td>...</td>\n",
       "      <td>...</td>\n",
       "      <td>...</td>\n",
       "      <td>...</td>\n",
       "    </tr>\n",
       "    <tr>\n",
       "      <th>146</th>\n",
       "      <td>None</td>\n",
       "      <td>None</td>\n",
       "      <td>None</td>\n",
       "      <td>Ywhah</td>\n",
       "      <td>None</td>\n",
       "      <td>None</td>\n",
       "    </tr>\n",
       "    <tr>\n",
       "      <th>147</th>\n",
       "      <td>None</td>\n",
       "      <td>None</td>\n",
       "      <td>None</td>\n",
       "      <td>Zc3hc1</td>\n",
       "      <td>None</td>\n",
       "      <td>None</td>\n",
       "    </tr>\n",
       "    <tr>\n",
       "      <th>148</th>\n",
       "      <td>None</td>\n",
       "      <td>None</td>\n",
       "      <td>None</td>\n",
       "      <td>Zfx</td>\n",
       "      <td>None</td>\n",
       "      <td>None</td>\n",
       "    </tr>\n",
       "    <tr>\n",
       "      <th>149</th>\n",
       "      <td>None</td>\n",
       "      <td>None</td>\n",
       "      <td>None</td>\n",
       "      <td>Zmym1</td>\n",
       "      <td>None</td>\n",
       "      <td>None</td>\n",
       "    </tr>\n",
       "    <tr>\n",
       "      <th>150</th>\n",
       "      <td>None</td>\n",
       "      <td>None</td>\n",
       "      <td>None</td>\n",
       "      <td>Znf207</td>\n",
       "      <td>None</td>\n",
       "      <td>None</td>\n",
       "    </tr>\n",
       "  </tbody>\n",
       "</table>\n",
       "<p>151 rows × 6 columns</p>\n",
       "</div>"
      ],
      "text/plain": [
       "       IG1.S         S      G2.M        M    M.G1 Unnamed: 5\n",
       "0        Acd     Abcc5      Anln     Ahi1   agfg1       None\n",
       "1      Acyp1    Abhd10     Ap3d1  Akirin2  Agpat3       None\n",
       "2    Adamts1  Ankrd18a  Arhgap19  Ankrd40  Akap13       None\n",
       "3    Ankrd10     Asf1b     Arl4a     Anln    Amd1       None\n",
       "4      Apex2     Atad2     Armc1   Anp32b  Anp32e       None\n",
       "..       ...       ...       ...      ...     ...        ...\n",
       "146     None      None      None    Ywhah    None       None\n",
       "147     None      None      None   Zc3hc1    None       None\n",
       "148     None      None      None      Zfx    None       None\n",
       "149     None      None      None    Zmym1    None       None\n",
       "150     None      None      None   Znf207    None       None\n",
       "\n",
       "[151 rows x 6 columns]"
      ]
     },
     "execution_count": 6,
     "metadata": {},
     "output_type": "execute_result"
    }
   ],
   "source": [
    "cc_genes_macosko"
   ]
  },
  {
   "cell_type": "code",
   "execution_count": 7,
   "id": "aa4371ee-0f4f-41b8-8134-76026a3522bd",
   "metadata": {},
   "outputs": [
    {
     "data": {
      "text/plain": [
       "(99, 123, 140, 99, 92)"
      ]
     },
     "execution_count": 7,
     "metadata": {},
     "output_type": "execute_result"
    }
   ],
   "source": [
    "len(s_genes_macosko), len(g2m_genes_macosko), len(m_genes_macosko), len(mg1_genes_macosko), len(g1s_genes_macosko)"
   ]
  },
  {
   "cell_type": "code",
   "execution_count": 8,
   "id": "fb136bdb-5ec0-46c0-806f-61fa95d5ddbe",
   "metadata": {},
   "outputs": [],
   "source": [
    "adata = mudata[\"rna\"].copy()"
   ]
  },
  {
   "cell_type": "code",
   "execution_count": 9,
   "id": "04dc1f6e-9784-438f-bccc-a4ca051eafad",
   "metadata": {},
   "outputs": [],
   "source": [
    "adata = mudata[\"rna\"]\n",
    "adata.obsm[\"X_MultiVI\"] = mudata.obsm[\"X_MultiVI\"]\n",
    "adata.obsm[\"X_umap\"] = mudata.obsm[\"X_umap\"]\n",
    "adata.obs[\"cell_type_refined\"] = mudata.obs[\"cell_type_refined\"]"
   ]
  },
  {
   "cell_type": "code",
   "execution_count": 10,
   "id": "69c41402-5f87-4e21-ad9d-2fa4694f1c0b",
   "metadata": {},
   "outputs": [],
   "source": [
    "def adapt_time(x):\n",
    "    if x[\"stage\"]==\"E14.5\":\n",
    "        return 14.5\n",
    "    if x[\"stage\"]==\"E15.5\":\n",
    "        return 15.5\n",
    "    if x[\"stage\"]==\"E16.5\":\n",
    "        return 16.5\n",
    "    raise ValueError\n",
    "\n",
    "adata.obs['time'] = adata.obs.apply(adapt_time, axis=1)"
   ]
  },
  {
   "cell_type": "code",
   "execution_count": 11,
   "id": "6f64c5c8-64df-4d80-9540-857c00fc7283",
   "metadata": {},
   "outputs": [],
   "source": [
    "adata = adata[~adata.obs[\"cell_type\"].isin([\"Mat. Acinar\", \"Imm. Acinar\"])]"
   ]
  },
  {
   "cell_type": "code",
   "execution_count": 12,
   "id": "2c3ec44a-96e2-427f-832b-a6870abeafb2",
   "metadata": {},
   "outputs": [],
   "source": [
    "dfs = {}\n",
    "batch_column = \"time\"\n",
    "unique_batches = [14.5, 15.5, 16.5]\n",
    "for i in range(len(unique_batches) - 1):\n",
    "    batch1 = unique_batches[i]\n",
    "    batch2 = unique_batches[i + 1]\n",
    "\n",
    "    indices = np.where((adata.obs[batch_column] == batch1) | (adata.obs[batch_column] == batch2))[0]\n",
    "    adata_subset = adata[indices]\n",
    "    sc.pp.neighbors(adata_subset, use_rep=\"X_MultiVI\")\n",
    "    dfs[(batch1, batch2)] = (\n",
    "        pd.DataFrame(\n",
    "            index=adata_subset.obs_names,\n",
    "            columns=adata_subset.obs_names,\n",
    "            data=adata_subset.obsp[\"connectivities\"].A.astype(\"float64\")\n",
    "        )\n",
    "    )"
   ]
  },
  {
   "cell_type": "code",
   "execution_count": 13,
   "id": "298beddb-70e5-400d-a500-bd55761ff1ea",
   "metadata": {},
   "outputs": [
    {
     "name": "stderr",
     "output_type": "stream",
     "text": [
      "/tmp/ipykernel_1807388/3091254131.py:1: ImplicitModificationWarning: Trying to modify attribute `.obs` of view, initializing view as actual.\n",
      "  adata.obs[\"time\"] = adata.obs[\"time\"].astype(\"category\")\n"
     ]
    }
   ],
   "source": [
    "adata.obs[\"time\"] = adata.obs[\"time\"].astype(\"category\")"
   ]
  },
  {
   "cell_type": "code",
   "execution_count": 14,
   "id": "a8942974-b26d-426c-90e0-f10dd0aa066c",
   "metadata": {},
   "outputs": [
    {
     "name": "stdout",
     "output_type": "stream",
     "text": [
      "WARNING: genes are not in var_names and ignored: ['Fam64a', 'Hn1', 'Mlf1ip']\n",
      "WARNING: genes are not in var_names and ignored: ['Adck3', 'Casp1', 'Clca2', 'Gnb2l1', 'H2afj', 'Hist1h1c', 'Hist3h2a', 'Ikbkap', 'S100a4']\n"
     ]
    }
   ],
   "source": [
    "from moscot.problems.time import TemporalProblem\n",
    "tp0 = TemporalProblem(adata)\n",
    "tp0 = tp0.score_genes_for_marginals(\"mouse\", \"mouse\")\n",
    "tp0 = tp0.prepare(\"time\", joint_attr=\"X_MultiVI\", marginal_kwargs={\"scaling\": 1.0})"
   ]
  },
  {
   "cell_type": "code",
   "execution_count": 15,
   "id": "ded985ca-782a-437f-89fb-48a5734255df",
   "metadata": {},
   "outputs": [],
   "source": [
    "tp0[14.5, 15.5].set_graph_xy(dfs[14.5, 15.5], t=100)\n",
    "tp0[15.5, 16.5].set_graph_xy(dfs[15.5, 16.5], t=100)"
   ]
  },
  {
   "cell_type": "code",
   "execution_count": 16,
   "id": "980c5c99-13ac-47ea-a8b1-ebce0ff1dabf",
   "metadata": {},
   "outputs": [
    {
     "name": "stdout",
     "output_type": "stream",
     "text": [
      "\u001b[34mINFO    \u001b[0m Solving `\u001b[1;36m2\u001b[0m` problems                                                                                      \n",
      "\u001b[34mINFO    \u001b[0m Solving problem BirthDeathProblem\u001b[1m[\u001b[0m\u001b[33mstage\u001b[0m=\u001b[32m'prepared'\u001b[0m, \u001b[33mshape\u001b[0m=\u001b[1m(\u001b[0m\u001b[1;36m7404\u001b[0m, \u001b[1;36m2213\u001b[0m\u001b[1m)\u001b[0m\u001b[1m]\u001b[0m.                                  \n",
      "\u001b[34mINFO    \u001b[0m Solving problem BirthDeathProblem\u001b[1m[\u001b[0m\u001b[33mstage\u001b[0m=\u001b[32m'prepared'\u001b[0m, \u001b[33mshape\u001b[0m=\u001b[1m(\u001b[0m\u001b[1;36m7665\u001b[0m, \u001b[1;36m7404\u001b[0m\u001b[1m)\u001b[0m\u001b[1m]\u001b[0m.                                  \n"
     ]
    },
    {
     "data": {
      "text/plain": [
       "TemporalProblem[(15.5, 16.5), (14.5, 15.5)]"
      ]
     },
     "execution_count": 16,
     "metadata": {},
     "output_type": "execute_result"
    }
   ],
   "source": [
    "tp0.solve(max_iterations=1e7, device='cpu', tau_a=0.99, tau_b=0.99)"
   ]
  },
  {
   "cell_type": "code",
   "execution_count": null,
   "id": "8e711037-16d4-4126-80c7-3575ca62e484",
   "metadata": {},
   "outputs": [],
   "source": []
  },
  {
   "cell_type": "code",
   "execution_count": 17,
   "id": "47481e26-a911-4387-9556-d13eb94cc568",
   "metadata": {},
   "outputs": [],
   "source": [
    "adata = adata[adata.obs[\"cell_type\"].isin([\"Prlf. Ductal\"])].copy()"
   ]
  },
  {
   "cell_type": "code",
   "execution_count": 18,
   "id": "f0114a02-ded5-4114-b9bd-8e093593c142",
   "metadata": {},
   "outputs": [
    {
     "data": {
      "text/plain": [
       "1920"
      ]
     },
     "execution_count": 18,
     "metadata": {},
     "output_type": "execute_result"
    }
   ],
   "source": [
    "len(adata)"
   ]
  },
  {
   "cell_type": "code",
   "execution_count": 19,
   "id": "2211e1a6-e2b0-4a91-affe-32048641aec8",
   "metadata": {},
   "outputs": [],
   "source": [
    "adata.X = adata.layers[\"raw_counts\"]"
   ]
  },
  {
   "cell_type": "code",
   "execution_count": 20,
   "id": "e5340b02-e842-46ce-8f4d-1c71dbc23d50",
   "metadata": {},
   "outputs": [],
   "source": [
    "sc.pp.normalize_total(adata)"
   ]
  },
  {
   "cell_type": "code",
   "execution_count": 21,
   "id": "e4dcdf73-a9fd-4efb-9b47-9a9c6ae5a416",
   "metadata": {},
   "outputs": [
    {
     "name": "stdout",
     "output_type": "stream",
     "text": [
      "WARNING: adata.X seems to be already log-transformed.\n"
     ]
    }
   ],
   "source": [
    "sc.pp.log1p(adata)"
   ]
  },
  {
   "cell_type": "code",
   "execution_count": 22,
   "id": "639a83cd-7cc6-4776-b629-34ae0bd901d3",
   "metadata": {},
   "outputs": [],
   "source": [
    "adata = adata[:, adata.var_names.isin(cc_genes_macosko.values.flatten().tolist())]"
   ]
  },
  {
   "cell_type": "code",
   "execution_count": 23,
   "id": "8ef34de8-4984-41c8-aa00-401d26a704ed",
   "metadata": {},
   "outputs": [
    {
     "data": {
      "text/plain": [
       "509"
      ]
     },
     "execution_count": 23,
     "metadata": {},
     "output_type": "execute_result"
    }
   ],
   "source": [
    "adata.n_vars\n"
   ]
  },
  {
   "cell_type": "code",
   "execution_count": 24,
   "id": "291e3662-af43-43e7-aff4-8b004b8ff6af",
   "metadata": {},
   "outputs": [],
   "source": [
    "adata_s = adata[:,adata.var_names.isin(s_genes_macosko)].copy()\n",
    "adata_g1s = adata[:,adata.var_names.isin(g1s_genes_macosko)].copy()\n",
    "adata_mg1 = adata[:,adata.var_names.isin(mg1_genes_macosko)].copy()\n",
    "adata_m = adata[:,adata.var_names.isin(m_genes_macosko)].copy()\n",
    "adata_g2m = adata[:,adata.var_names.isin(g2m_genes_macosko)].copy()"
   ]
  },
  {
   "cell_type": "code",
   "execution_count": 25,
   "id": "be0f0cd2-9b09-45ef-a76b-a8e9ec5e3674",
   "metadata": {},
   "outputs": [],
   "source": [
    "adata_s.obs[\"mean_expr\"] = adata_s.X.mean(axis=1)\n",
    "adata_g1s.obs[\"mean_expr\"] = adata_g1s.X.mean(axis=1)\n",
    "adata_mg1.obs[\"mean_expr\"] = adata_mg1.X.mean(axis=1)\n",
    "adata_m.obs[\"mean_expr\"] = adata_m.X.mean(axis=1)\n",
    "adata_g2m.obs[\"mean_expr\"] = adata_g2m.X.mean(axis=1)"
   ]
  },
  {
   "cell_type": "code",
   "execution_count": 26,
   "id": "51541637-2738-4f0e-beb7-19dbca30b24f",
   "metadata": {},
   "outputs": [],
   "source": [
    "adata_s.var[f\"correlation_s\"] = np.apply_along_axis(lambda x: stats.pearsonr(x, adata_s.obs[\"mean_expr\"]), 0, adata_s.X.A)[0,:]\n",
    "adata_g1s.var[f\"correlation_g1s\"] = np.apply_along_axis(lambda x: stats.pearsonr(x, adata_g1s.obs[\"mean_expr\"]), 0, adata_g1s.X.A)[0,:]\n",
    "adata_mg1.var[f\"correlation_mg1\"] = np.apply_along_axis(lambda x: stats.pearsonr(x, adata_mg1.obs[\"mean_expr\"]), 0, adata_mg1.X.A)[0,:]\n",
    "adata_m.var[f\"correlation_m\"] = np.apply_along_axis(lambda x: stats.pearsonr(x, adata_m.obs[\"mean_expr\"]), 0, adata_m.X.A)[0,:]\n",
    "adata_g2m.var[f\"correlation_g2m\"] = np.apply_along_axis(lambda x: stats.pearsonr(x, adata_g2m.obs[\"mean_expr\"]), 0, adata_g2m.X.A)[0,:]"
   ]
  },
  {
   "cell_type": "code",
   "execution_count": 27,
   "id": "cf201320-cd41-4ad7-9a83-01de35259606",
   "metadata": {},
   "outputs": [
    {
     "data": {
      "text/plain": [
       "(99, 92, 99, 140, 123)"
      ]
     },
     "execution_count": 27,
     "metadata": {},
     "output_type": "execute_result"
    }
   ],
   "source": [
    "adata_s.n_vars, adata_g1s.n_vars, adata_mg1.n_vars, adata_m.n_vars, adata_g2m.n_vars\n"
   ]
  },
  {
   "cell_type": "code",
   "execution_count": 28,
   "id": "567f8e6b-ad5b-4184-b621-890c68d9c47e",
   "metadata": {},
   "outputs": [],
   "source": [
    "adata_s = adata_s[:, (np.abs(adata_s.var[f\"correlation_s\"])>=0.2)]\n",
    "adata_g1s = adata_g1s[:, (np.abs(adata_g1s.var[f\"correlation_g1s\"])>=0.2)]\n",
    "adata_mg1 = adata_mg1[:, (np.abs(adata_mg1.var[f\"correlation_mg1\"])>=0.2)]\n",
    "adata_m = adata_m[:, (np.abs(adata_m.var[f\"correlation_m\"])>=0.2)]\n",
    "adata_g2m = adata_g2m[:, (np.abs(adata_g2m.var[f\"correlation_g2m\"])>=0.2)]\n"
   ]
  },
  {
   "cell_type": "code",
   "execution_count": 29,
   "id": "d879a8e6-f3bc-4e44-8b40-f8b362b33c6e",
   "metadata": {},
   "outputs": [
    {
     "data": {
      "text/plain": [
       "(31, 43, 31, 72, 61)"
      ]
     },
     "execution_count": 29,
     "metadata": {},
     "output_type": "execute_result"
    }
   ],
   "source": [
    "adata_s.n_vars, adata_g1s.n_vars, adata_mg1.n_vars, adata_m.n_vars, adata_g2m.n_vars\n"
   ]
  },
  {
   "cell_type": "code",
   "execution_count": 30,
   "id": "a33c2faf-a1da-4d72-84d0-a56dfa17972d",
   "metadata": {},
   "outputs": [],
   "source": [
    "A = np.concatenate((adata_s.X.mean(axis=1), adata_g1s.X.mean(axis=1), adata_mg1.X.mean(axis=1), adata_m.X.mean(axis=1), adata_g2m.X.mean(axis=1)), axis=1)\n"
   ]
  },
  {
   "cell_type": "code",
   "execution_count": 31,
   "id": "b70bcf5a-9bdd-4c2b-ac5c-4085a1eb42ed",
   "metadata": {},
   "outputs": [
    {
     "data": {
      "text/plain": [
       "(1920, 5)"
      ]
     },
     "execution_count": 31,
     "metadata": {},
     "output_type": "execute_result"
    }
   ],
   "source": [
    "A.shape\n"
   ]
  },
  {
   "cell_type": "code",
   "execution_count": 32,
   "id": "5108be62-e384-4502-99b2-4e9752e2f9f3",
   "metadata": {},
   "outputs": [
    {
     "data": {
      "text/plain": [
       "1920"
      ]
     },
     "execution_count": 32,
     "metadata": {},
     "output_type": "execute_result"
    }
   ],
   "source": [
    "adata.n_obs"
   ]
  },
  {
   "cell_type": "code",
   "execution_count": 33,
   "id": "e1ac464d-989d-48fc-9693-b70018032cd4",
   "metadata": {},
   "outputs": [],
   "source": [
    "import scipy\n",
    "A_norm = scipy.stats.zscore(np.array(A))"
   ]
  },
  {
   "cell_type": "code",
   "execution_count": 34,
   "id": "17a6b3d4-2637-4a73-a18c-656c13fda87f",
   "metadata": {},
   "outputs": [],
   "source": [
    "cols = [\"expr_g1s\", \"expr_s\",\"expr_g2m\", \"expr_m\", \"expr_mg1\"]"
   ]
  },
  {
   "cell_type": "code",
   "execution_count": 35,
   "id": "b950985f-225f-4d83-92ed-5e4135ccf887",
   "metadata": {},
   "outputs": [
    {
     "name": "stderr",
     "output_type": "stream",
     "text": [
      "/tmp/ipykernel_1807388/368601202.py:1: ImplicitModificationWarning: Trying to modify attribute `.obs` of view, initializing view as actual.\n",
      "  adata.obs[cols] = A_norm\n"
     ]
    }
   ],
   "source": [
    "adata.obs[cols] = A_norm"
   ]
  },
  {
   "cell_type": "code",
   "execution_count": 36,
   "id": "ee6999b1-29c0-4225-a4e5-28912cd4ce2f",
   "metadata": {},
   "outputs": [],
   "source": [
    "adata.obs[\"phase_first\"] = adata.obs[cols].idxmax(axis=1)"
   ]
  },
  {
   "cell_type": "code",
   "execution_count": 37,
   "id": "d2327785-7635-4e17-958c-9dd08f46949d",
   "metadata": {},
   "outputs": [
    {
     "data": {
      "text/plain": [
       "phase_first\n",
       "expr_s      562\n",
       "expr_g1s    424\n",
       "expr_g2m    351\n",
       "expr_m      294\n",
       "expr_mg1    289\n",
       "Name: count, dtype: int64"
      ]
     },
     "execution_count": 37,
     "metadata": {},
     "output_type": "execute_result"
    }
   ],
   "source": [
    "adata.obs[\"phase_first\"].value_counts()"
   ]
  },
  {
   "cell_type": "code",
   "execution_count": 38,
   "id": "1c39c1ec-22ea-4de7-b65b-3deb02cb21d0",
   "metadata": {},
   "outputs": [],
   "source": [
    "def get_second_largest_column(row):\n",
    "    sorted_row = sorted(row.items(), key=lambda x: x[1], reverse=True)\n",
    "    return sorted_row[1][0]\n",
    "\n",
    "adata.obs[\"phase_second\"] = adata.obs[cols].apply(get_second_largest_column, axis=1)"
   ]
  },
  {
   "cell_type": "code",
   "execution_count": 39,
   "id": "8a4d8eac-ca07-440b-9436-45bd14963b42",
   "metadata": {},
   "outputs": [],
   "source": [
    "phase_dict = {\"expr_g1s\": 1, \"expr_s\":2, \"expr_g2m\": 3, \"expr_m\": 4, \"expr_mg1\":5}"
   ]
  },
  {
   "cell_type": "code",
   "execution_count": 40,
   "id": "f83a6fa2-f9e0-40ae-8c4a-04080ddd7c53",
   "metadata": {},
   "outputs": [],
   "source": [
    "adata.obs[\"phase_numeric_1\"] = adata.obs[\"phase_first\"].map(phase_dict)"
   ]
  },
  {
   "cell_type": "code",
   "execution_count": 41,
   "id": "6b27749e-aa4d-4376-a385-b19dc2924567",
   "metadata": {},
   "outputs": [],
   "source": [
    "adata.obs[\"phase_numeric_2\"] = adata.obs[\"phase_second\"].map(phase_dict)"
   ]
  },
  {
   "cell_type": "code",
   "execution_count": 42,
   "id": "d40a7f7a-8453-4208-be86-6291742e306c",
   "metadata": {},
   "outputs": [],
   "source": [
    "adata.obs[\"phase_diff\"] = np.abs(adata.obs[\"phase_numeric_2\"] - adata.obs[\"phase_numeric_1\"])"
   ]
  },
  {
   "cell_type": "code",
   "execution_count": 43,
   "id": "d23b7393-fda1-4298-bc36-da54d924b767",
   "metadata": {},
   "outputs": [
    {
     "data": {
      "text/plain": [
       "phase_diff\n",
       "1    1593\n",
       "2     239\n",
       "4      47\n",
       "3      41\n",
       "Name: count, dtype: int64"
      ]
     },
     "execution_count": 43,
     "metadata": {},
     "output_type": "execute_result"
    }
   ],
   "source": [
    "adata.obs[\"phase_diff\"].value_counts()"
   ]
  },
  {
   "cell_type": "code",
   "execution_count": 44,
   "id": "a6743417-4764-4345-9264-d73eb398bf02",
   "metadata": {},
   "outputs": [
    {
     "data": {
      "text/plain": [
       "1920"
      ]
     },
     "execution_count": 44,
     "metadata": {},
     "output_type": "execute_result"
    }
   ],
   "source": [
    "adata.n_obs"
   ]
  },
  {
   "cell_type": "code",
   "execution_count": 45,
   "id": "b8b34d7c-034e-4d66-b1ec-6c9a586cde28",
   "metadata": {},
   "outputs": [],
   "source": [
    "adata_red = adata[adata.obs[\"phase_diff\"].isin((1,4))]"
   ]
  },
  {
   "cell_type": "code",
   "execution_count": 46,
   "id": "06250814-80fc-4931-9c97-723aeac77df9",
   "metadata": {},
   "outputs": [
    {
     "data": {
      "text/plain": [
       "phase_first\n",
       "expr_s      541\n",
       "expr_g1s    374\n",
       "expr_m      283\n",
       "expr_mg1    227\n",
       "expr_g2m    215\n",
       "Name: count, dtype: int64"
      ]
     },
     "execution_count": 46,
     "metadata": {},
     "output_type": "execute_result"
    }
   ],
   "source": [
    "adata_red.obs[\"phase_first\"].value_counts()"
   ]
  },
  {
   "cell_type": "code",
   "execution_count": 47,
   "id": "829fd1e3-bcdb-44f5-9e64-e730a7e4f5d3",
   "metadata": {},
   "outputs": [
    {
     "name": "stderr",
     "output_type": "stream",
     "text": [
      "/tmp/ipykernel_1807388/253259611.py:3: ImplicitModificationWarning: Trying to modify attribute `.obs` of view, initializing view as actual.\n",
      "  adata_red.obs[\"phase_first_value\"] = adata_red.obs.apply(get_largest_value, axis=1)\n"
     ]
    }
   ],
   "source": [
    "def get_largest_value(x):\n",
    "    return x[x[\"phase_first\"]]\n",
    "adata_red.obs[\"phase_first_value\"] = adata_red.obs.apply(get_largest_value, axis=1)"
   ]
  },
  {
   "cell_type": "code",
   "execution_count": 48,
   "id": "503d2988-6495-44ca-8ae2-ccf562e69912",
   "metadata": {},
   "outputs": [],
   "source": [
    "def get_second_largest_value(x):\n",
    "    return x[x[\"phase_second\"]]\n",
    "adata_red.obs[\"phase_second_value\"] = adata_red.obs.apply(get_second_largest_value, axis=1)"
   ]
  },
  {
   "cell_type": "code",
   "execution_count": 49,
   "id": "7fdb12ed-0b8b-454b-9659-24c800f2e9c2",
   "metadata": {},
   "outputs": [
    {
     "data": {
      "text/plain": [
       "1640"
      ]
     },
     "execution_count": 49,
     "metadata": {},
     "output_type": "execute_result"
    }
   ],
   "source": [
    "adata_red.n_obs"
   ]
  },
  {
   "cell_type": "code",
   "execution_count": 50,
   "id": "f768b4c3-fb20-4137-810b-2c5991826ef1",
   "metadata": {},
   "outputs": [],
   "source": [
    "adata_red2 = adata_red[adata_red.obs[\"phase_second_value\"]<=0.7] # 0.7"
   ]
  },
  {
   "cell_type": "code",
   "execution_count": 51,
   "id": "7339a22b-24e1-4013-8d0c-94aa35679d00",
   "metadata": {},
   "outputs": [
    {
     "data": {
      "text/plain": [
       "(790,\n",
       " phase_first\n",
       " expr_s      337\n",
       " expr_g1s    185\n",
       " expr_mg1    101\n",
       " expr_m       92\n",
       " expr_g2m     75\n",
       " Name: count, dtype: int64)"
      ]
     },
     "execution_count": 51,
     "metadata": {},
     "output_type": "execute_result"
    }
   ],
   "source": [
    "adata_red2.n_obs, adata_red2.obs[\"phase_first\"].value_counts()"
   ]
  },
  {
   "cell_type": "code",
   "execution_count": 52,
   "id": "49f365ff-16d8-486c-8be8-17aaeabef485",
   "metadata": {},
   "outputs": [],
   "source": [
    "adata_red3 = adata_red2[adata_red2.obs[\"phase_first_value\"]>=0.5]\n"
   ]
  },
  {
   "cell_type": "code",
   "execution_count": 53,
   "id": "820751a9-95a6-4062-89f1-16b30143bbb3",
   "metadata": {},
   "outputs": [
    {
     "data": {
      "text/plain": [
       "587"
      ]
     },
     "execution_count": 53,
     "metadata": {},
     "output_type": "execute_result"
    }
   ],
   "source": [
    "adata_red3.n_obs"
   ]
  },
  {
   "cell_type": "code",
   "execution_count": 54,
   "id": "ce06c55a-060c-4b51-9c51-be133467569b",
   "metadata": {},
   "outputs": [
    {
     "name": "stderr",
     "output_type": "stream",
     "text": [
      "/tmp/ipykernel_1807388/1663559947.py:1: ImplicitModificationWarning: Trying to modify attribute `.obs` of view, initializing view as actual.\n",
      "  adata_red3.obs[\"index\"] = adata_red3.obs.index\n"
     ]
    }
   ],
   "source": [
    "adata_red3.obs[\"index\"] = adata_red3.obs.index\n",
    "tp0.adata.obs[\"index\"] = tp0.adata.obs_names"
   ]
  },
  {
   "cell_type": "code",
   "execution_count": 55,
   "id": "eb7f8588-41b6-4b9c-aa2e-9da008f6bb45",
   "metadata": {},
   "outputs": [],
   "source": [
    "def get_phase(x):\n",
    "    if x[\"index\"] in adata_red3.obs_names:\n",
    "        return adata_red3.obs.loc[x[\"index\"], \"phase_first\"]\n",
    "    return None\n",
    "tp0.adata.obs[\"phase_first\"] = tp0.adata.obs.apply(get_phase, axis=1).astype(\"category\")"
   ]
  },
  {
   "cell_type": "code",
   "execution_count": 56,
   "id": "6dc4355f-f917-430f-8146-5dde0c2b14d9",
   "metadata": {},
   "outputs": [
    {
     "data": {
      "text/plain": [
       "phase_first\n",
       "expr_s      236\n",
       "expr_g1s    161\n",
       "expr_mg1     72\n",
       "expr_m       64\n",
       "expr_g2m     54\n",
       "Name: count, dtype: int64"
      ]
     },
     "execution_count": 56,
     "metadata": {},
     "output_type": "execute_result"
    }
   ],
   "source": [
    "tp0.adata.obs[\"phase_first\"].value_counts()"
   ]
  },
  {
   "cell_type": "code",
   "execution_count": 57,
   "id": "d3ec659a-2364-421f-a675-941ce6d374a4",
   "metadata": {},
   "outputs": [],
   "source": [
    "df_early = tp0.cell_transition(14.5, 15.5, \"phase_first\", \"phase_first\", forward=True)"
   ]
  },
  {
   "cell_type": "code",
   "execution_count": 58,
   "id": "14b17c5c-2861-41f7-89cc-dc1de15b2414",
   "metadata": {},
   "outputs": [],
   "source": [
    "df_late = tp0.cell_transition(15.5, 16.5, \"phase_first\", \"phase_first\", forward=True)"
   ]
  },
  {
   "cell_type": "code",
   "execution_count": 59,
   "id": "b79d4ff1-20dd-4cb1-83b0-61783712488c",
   "metadata": {},
   "outputs": [
    {
     "data": {
      "text/html": [
       "<div>\n",
       "<style scoped>\n",
       "    .dataframe tbody tr th:only-of-type {\n",
       "        vertical-align: middle;\n",
       "    }\n",
       "\n",
       "    .dataframe tbody tr th {\n",
       "        vertical-align: top;\n",
       "    }\n",
       "\n",
       "    .dataframe thead th {\n",
       "        text-align: right;\n",
       "    }\n",
       "</style>\n",
       "<table border=\"1\" class=\"dataframe\">\n",
       "  <thead>\n",
       "    <tr style=\"text-align: right;\">\n",
       "      <th></th>\n",
       "      <th>expr_s</th>\n",
       "      <th>expr_m</th>\n",
       "      <th>expr_mg1</th>\n",
       "      <th>expr_g1s</th>\n",
       "      <th>expr_g2m</th>\n",
       "    </tr>\n",
       "  </thead>\n",
       "  <tbody>\n",
       "    <tr>\n",
       "      <th>expr_s</th>\n",
       "      <td>0.887251</td>\n",
       "      <td>0.004458</td>\n",
       "      <td>0.003141</td>\n",
       "      <td>0.103653</td>\n",
       "      <td>0.001498</td>\n",
       "    </tr>\n",
       "    <tr>\n",
       "      <th>expr_m</th>\n",
       "      <td>0.120528</td>\n",
       "      <td>0.321529</td>\n",
       "      <td>0.154378</td>\n",
       "      <td>0.324214</td>\n",
       "      <td>0.079351</td>\n",
       "    </tr>\n",
       "    <tr>\n",
       "      <th>expr_g1s</th>\n",
       "      <td>0.574058</td>\n",
       "      <td>0.013144</td>\n",
       "      <td>0.008287</td>\n",
       "      <td>0.400449</td>\n",
       "      <td>0.004063</td>\n",
       "    </tr>\n",
       "    <tr>\n",
       "      <th>expr_mg1</th>\n",
       "      <td>0.147301</td>\n",
       "      <td>0.172965</td>\n",
       "      <td>0.099620</td>\n",
       "      <td>0.530254</td>\n",
       "      <td>0.049860</td>\n",
       "    </tr>\n",
       "    <tr>\n",
       "      <th>expr_g2m</th>\n",
       "      <td>0.158642</td>\n",
       "      <td>0.220476</td>\n",
       "      <td>0.117759</td>\n",
       "      <td>0.429188</td>\n",
       "      <td>0.073934</td>\n",
       "    </tr>\n",
       "  </tbody>\n",
       "</table>\n",
       "</div>"
      ],
      "text/plain": [
       "            expr_s    expr_m  expr_mg1  expr_g1s  expr_g2m\n",
       "expr_s    0.887251  0.004458  0.003141  0.103653  0.001498\n",
       "expr_m    0.120528  0.321529  0.154378  0.324214  0.079351\n",
       "expr_g1s  0.574058  0.013144  0.008287  0.400449  0.004063\n",
       "expr_mg1  0.147301  0.172965  0.099620  0.530254  0.049860\n",
       "expr_g2m  0.158642  0.220476  0.117759  0.429188  0.073934"
      ]
     },
     "execution_count": 59,
     "metadata": {},
     "output_type": "execute_result"
    }
   ],
   "source": [
    "df_late"
   ]
  },
  {
   "cell_type": "code",
   "execution_count": 60,
   "id": "9c9a9353-a084-43f0-92d4-c8ee296cf4cf",
   "metadata": {},
   "outputs": [],
   "source": [
    "d = {\"expr_g1s\": 1, \"expr_s\":2, \"expr_g2m\": 3, \"expr_m\": 4, \"expr_mg1\":5}"
   ]
  },
  {
   "cell_type": "code",
   "execution_count": 61,
   "id": "25367e59-7532-4f7c-98be-d289de80e576",
   "metadata": {},
   "outputs": [
    {
     "data": {
      "text/plain": [
       "array([[ 0,  1,  0,  0, -1],\n",
       "       [-1,  0,  1,  0,  0],\n",
       "       [ 0, -1,  0,  1,  0],\n",
       "       [ 0,  0, -1,  0,  1],\n",
       "       [ 1,  0,  0, -1,  0]])"
      ]
     },
     "execution_count": 61,
     "metadata": {},
     "output_type": "execute_result"
    }
   ],
   "source": [
    "data = np.array([\n",
    "    [0, 1, 0, 0, -1],\n",
    "    [-1, 0, 1, 0, 0],\n",
    "    [0, -1, 0, 1, 0],\n",
    "    [0, 0, -1, 0, 1],\n",
    "    [1, 0, 0, -1, 0]\n",
    "])\n",
    "data"
   ]
  },
  {
   "cell_type": "code",
   "execution_count": 62,
   "id": "78a31fb6-6462-4f5f-a8c3-0f53637b867a",
   "metadata": {},
   "outputs": [
    {
     "data": {
      "text/html": [
       "<div>\n",
       "<style scoped>\n",
       "    .dataframe tbody tr th:only-of-type {\n",
       "        vertical-align: middle;\n",
       "    }\n",
       "\n",
       "    .dataframe tbody tr th {\n",
       "        vertical-align: top;\n",
       "    }\n",
       "\n",
       "    .dataframe thead th {\n",
       "        text-align: right;\n",
       "    }\n",
       "</style>\n",
       "<table border=\"1\" class=\"dataframe\">\n",
       "  <thead>\n",
       "    <tr style=\"text-align: right;\">\n",
       "      <th></th>\n",
       "      <th>expr_g1s</th>\n",
       "      <th>expr_s</th>\n",
       "      <th>expr_g2m</th>\n",
       "      <th>expr_m</th>\n",
       "      <th>expr_mg1</th>\n",
       "    </tr>\n",
       "  </thead>\n",
       "  <tbody>\n",
       "    <tr>\n",
       "      <th>expr_g1s</th>\n",
       "      <td>0</td>\n",
       "      <td>1</td>\n",
       "      <td>0</td>\n",
       "      <td>0</td>\n",
       "      <td>-1</td>\n",
       "    </tr>\n",
       "    <tr>\n",
       "      <th>expr_s</th>\n",
       "      <td>-1</td>\n",
       "      <td>0</td>\n",
       "      <td>1</td>\n",
       "      <td>0</td>\n",
       "      <td>0</td>\n",
       "    </tr>\n",
       "    <tr>\n",
       "      <th>expr_g2m</th>\n",
       "      <td>0</td>\n",
       "      <td>-1</td>\n",
       "      <td>0</td>\n",
       "      <td>1</td>\n",
       "      <td>0</td>\n",
       "    </tr>\n",
       "    <tr>\n",
       "      <th>expr_m</th>\n",
       "      <td>0</td>\n",
       "      <td>0</td>\n",
       "      <td>-1</td>\n",
       "      <td>0</td>\n",
       "      <td>1</td>\n",
       "    </tr>\n",
       "    <tr>\n",
       "      <th>expr_mg1</th>\n",
       "      <td>1</td>\n",
       "      <td>0</td>\n",
       "      <td>0</td>\n",
       "      <td>-1</td>\n",
       "      <td>0</td>\n",
       "    </tr>\n",
       "  </tbody>\n",
       "</table>\n",
       "</div>"
      ],
      "text/plain": [
       "          expr_g1s  expr_s  expr_g2m  expr_m  expr_mg1\n",
       "expr_g1s         0       1         0       0        -1\n",
       "expr_s          -1       0         1       0         0\n",
       "expr_g2m         0      -1         0       1         0\n",
       "expr_m           0       0        -1       0         1\n",
       "expr_mg1         1       0         0      -1         0"
      ]
     },
     "execution_count": 62,
     "metadata": {},
     "output_type": "execute_result"
    }
   ],
   "source": [
    "df_reference = pd.DataFrame(data, columns=d.keys(), index=d.keys())\n",
    "df_reference"
   ]
  },
  {
   "cell_type": "code",
   "execution_count": 63,
   "id": "738b9c6e-debf-4d56-84dc-13a45de0b8ca",
   "metadata": {},
   "outputs": [],
   "source": [
    "df_early = df_early[df_reference.columns]\n",
    "df_early = df_early.loc[df_reference.index] "
   ]
  },
  {
   "cell_type": "code",
   "execution_count": 64,
   "id": "5f522080-f875-4f10-8561-03bf3e309325",
   "metadata": {},
   "outputs": [
    {
     "data": {
      "text/plain": [
       "(array([ True,  True,  True,  True,  True]),\n",
       " array([ True,  True,  True,  True,  True]))"
      ]
     },
     "execution_count": 64,
     "metadata": {},
     "output_type": "execute_result"
    }
   ],
   "source": [
    "df_early.index == df_reference.index, df_early.index == df_reference.index\n"
   ]
  },
  {
   "cell_type": "code",
   "execution_count": 65,
   "id": "cac23c2e-3722-490f-8f89-e27be615dbd7",
   "metadata": {},
   "outputs": [
    {
     "data": {
      "text/plain": [
       "0.7161679672832135"
      ]
     },
     "execution_count": 65,
     "metadata": {},
     "output_type": "execute_result"
    }
   ],
   "source": [
    "stat_early = (df_early.values*df_reference.values).sum()\n",
    "stat_early"
   ]
  },
  {
   "cell_type": "code",
   "execution_count": 66,
   "id": "dff26c76-17ee-42de-8738-4f6eee9949f5",
   "metadata": {},
   "outputs": [],
   "source": [
    "def get_permuted_score(df, df_reference):\n",
    "    matrix = np.zeros((5, 5))\n",
    "    \n",
    "    permuted_values = df.values.copy()\n",
    "    non_diagonal_indices = np.where(~np.eye(df.shape[0], dtype=bool))\n",
    "    permuted_values = np.random.permutation(permuted_values[non_diagonal_indices])\n",
    "    \n",
    "    # Define the values you want to fill the diagonal and non-diagonal elements with\n",
    "    diagonal_value = np.diag(df)\n",
    "    non_diagonal_value = np.nan\n",
    "    \n",
    "    # Fill the diagonal with the diagonal_value\n",
    "    np.fill_diagonal(matrix, diagonal_value)\n",
    "    \n",
    "    # Fill all other values except the diagonal with the non_diagonal_value\n",
    "    matrix[~np.eye(matrix.shape[0], dtype=bool)] = permuted_values\n",
    "\n",
    "    return (matrix*df_reference.values).sum()\n",
    "\n",
    "\n"
   ]
  },
  {
   "cell_type": "code",
   "execution_count": 67,
   "id": "a7759141-d8df-4d69-b687-1e75a042bdb4",
   "metadata": {},
   "outputs": [],
   "source": [
    "res_early = []\n",
    "for i in range(10_000):\n",
    "    res_early.append(get_permuted_score(df_early, df_reference))"
   ]
  },
  {
   "cell_type": "code",
   "execution_count": 68,
   "id": "22cdb2e4-8aad-4e5b-81c5-953c2dc3892d",
   "metadata": {},
   "outputs": [
    {
     "data": {
      "text/plain": [
       "0.8779"
      ]
     },
     "execution_count": 68,
     "metadata": {},
     "output_type": "execute_result"
    }
   ],
   "source": [
    "(res_early < stat_early).sum()/len(res_early)"
   ]
  },
  {
   "cell_type": "code",
   "execution_count": 69,
   "id": "68c5def0-ac5e-4cc3-a1e3-607629105280",
   "metadata": {},
   "outputs": [
    {
     "data": {
      "text/plain": [
       "<matplotlib.lines.Line2D at 0x7f022eaf05d0>"
      ]
     },
     "execution_count": 69,
     "metadata": {},
     "output_type": "execute_result"
    },
    {
     "data": {
      "image/png": "[encoded data removed]",
      "text/plain": [
       "<Figure size 432x288 with 1 Axes>"
      ]
     },
     "metadata": {
      "needs_background": "light"
     },
     "output_type": "display_data"
    }
   ],
   "source": [
    "import matplotlib.pyplot as plt\n",
    "\n",
    "sns.histplot(res_early)\n",
    "plt.axvline(x=stat_early, color='r', linestyle='--')"
   ]
  },
  {
   "cell_type": "code",
   "execution_count": 70,
   "id": "3c92201c-bb28-49c2-bd2f-db712ab513c3",
   "metadata": {},
   "outputs": [],
   "source": [
    "df_late = df_late[df_reference.columns]\n",
    "df_late = df_late.loc[df_reference.index] "
   ]
  },
  {
   "cell_type": "code",
   "execution_count": 71,
   "id": "a9537b0b-cff9-4ac4-b95d-31797816ae8f",
   "metadata": {},
   "outputs": [
    {
     "data": {
      "text/plain": [
       "(array([ True,  True,  True,  True,  True]),\n",
       " array([ True,  True,  True,  True,  True]))"
      ]
     },
     "execution_count": 71,
     "metadata": {},
     "output_type": "execute_result"
    }
   ],
   "source": [
    "df_early.index == df_reference.index, df_early.index == df_reference.index\n"
   ]
  },
  {
   "cell_type": "code",
   "execution_count": 72,
   "id": "77018668-3f27-446a-91e1-90e0bba0a4f2",
   "metadata": {},
   "outputs": [
    {
     "data": {
      "text/plain": [
       "0.957767086335938"
      ]
     },
     "execution_count": 72,
     "metadata": {},
     "output_type": "execute_result"
    }
   ],
   "source": [
    "stat_late = (df_late.values*df_reference.values).sum()\n",
    "stat_late\n"
   ]
  },
  {
   "cell_type": "code",
   "execution_count": 73,
   "id": "53f24c39-cf25-4ec7-b431-d3bf1cc1192d",
   "metadata": {},
   "outputs": [],
   "source": [
    "res_late = []\n",
    "for i in range(10_000):\n",
    "    res_late.append(get_permuted_score(df_late, df_reference))"
   ]
  },
  {
   "cell_type": "code",
   "execution_count": 74,
   "id": "65f41265-ce96-4796-a4dd-749d60b2131c",
   "metadata": {},
   "outputs": [
    {
     "data": {
      "text/plain": [
       "0.9587"
      ]
     },
     "execution_count": 74,
     "metadata": {},
     "output_type": "execute_result"
    }
   ],
   "source": [
    "(res_late < stat_late).sum()/len(res_late)"
   ]
  },
  {
   "cell_type": "code",
   "execution_count": 75,
   "id": "75bddd12-8804-4d58-9ac4-55ad8ea3c9da",
   "metadata": {},
   "outputs": [
    {
     "data": {
      "text/plain": [
       "<matplotlib.lines.Line2D at 0x7f022d72cb50>"
      ]
     },
     "execution_count": 75,
     "metadata": {},
     "output_type": "execute_result"
    },
    {
     "data": {
      "image/png": "[encoded data removed]",
      "text/plain": [
       "<Figure size 432x288 with 1 Axes>"
      ]
     },
     "metadata": {
      "needs_background": "light"
     },
     "output_type": "display_data"
    }
   ],
   "source": [
    "sns.histplot(res_late)\n",
    "plt.axvline(x=stat_late, color='r', linestyle='--')"
   ]
  },
  {
   "cell_type": "code",
   "execution_count": 76,
   "id": "448c54d2-1f05-490b-9ce0-fb86e92db98d",
   "metadata": {},
   "outputs": [],
   "source": [
    "mudata[\"rna\"].obs[\"cell_cycle\"] = tp0.adata.obs[\"phase_first\"]"
   ]
  },
  {
   "cell_type": "code",
   "execution_count": 78,
   "id": "c4811640-458e-4826-9ae3-02bac6ade563",
   "metadata": {},
   "outputs": [
    {
     "name": "stderr",
     "output_type": "stream",
     "text": [
      "/home/icb/dominik.klein/mambaforge/envs/moscot_up/lib/python3.11/site-packages/scanpy/plotting/_tools/scatterplots.py:391: UserWarning: No data for colormapping provided via 'c'. Parameters 'cmap' will be ignored\n",
      "  cax = scatter(\n"
     ]
    },
    {
     "data": {
      "image/png": "[encoded data removed]",
      "text/plain": [
       "<Figure size 432x288 with 1 Axes>"
      ]
     },
     "metadata": {},
     "output_type": "display_data"
    }
   ],
   "source": [
    "sc.pl.umap(mudata[\"rna\"], color=\"cell_cycle\")"
   ]
  },
  {
   "cell_type": "code",
   "execution_count": 79,
   "id": "6085376c-ee4d-495f-b14e-099d900e6266",
   "metadata": {},
   "outputs": [
    {
     "name": "stderr",
     "output_type": "stream",
     "text": [
      "/home/icb/dominik.klein/mambaforge/envs/moscot_up/lib/python3.11/site-packages/scanpy/plotting/_tools/scatterplots.py:391: UserWarning: No data for colormapping provided via 'c'. Parameters 'cmap' will be ignored\n",
      "  cax = scatter(\n"
     ]
    },
    {
     "data": {
      "image/png": "[encoded data removed]",
      "text/plain": [
       "<Figure size 432x288 with 1 Axes>"
      ]
     },
     "metadata": {},
     "output_type": "display_data"
    }
   ],
   "source": [
    "sc.pl.umap(mudata[~mudata.obs[\"cell_type\"].isin((\"Imm. Acinar\", \"Mat. Acinar\"))][\"rna\"], color=\"cell_cycle\")"
   ]
  },
  {
   "cell_type": "code",
   "execution_count": null,
   "id": "3166a54e-84d9-4435-b0c1-3da039a1a909",
   "metadata": {},
   "outputs": [],
   "source": []
  }
 ],
 "metadata": {
  "kernelspec": {
   "display_name": "moscot_up",
   "language": "python",
   "name": "moscot_up"
  },
  "language_info": {
   "codemirror_mode": {
    "name": "ipython",
    "version": 3
   },
   "file_extension": ".py",
   "mimetype": "text/x-python",
   "name": "python",
   "nbconvert_exporter": "python",
   "pygments_lexer": "ipython3",
   "version": "3.11.5"
  }
 },
 "nbformat": 4,
 "nbformat_minor": 5
}
