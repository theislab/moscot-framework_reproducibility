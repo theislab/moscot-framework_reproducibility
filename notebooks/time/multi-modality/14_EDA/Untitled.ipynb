{
 "cells": [
  {
   "cell_type": "code",
   "execution_count": 1,
   "id": "2b3c33a5-7fe6-45dc-8d46-9289bb3f60fd",
   "metadata": {},
   "outputs": [
    {
     "name": "stderr",
     "output_type": "stream",
     "text": [
      "/home/icb/dominik.klein/mambaforge/envs/moscot_up/lib/python3.11/site-packages/umap/distances.py:1063: NumbaDeprecationWarning: \u001b[1mThe 'nopython' keyword argument was not supplied to the 'numba.jit' decorator. The implicit default value for this argument is currently False, but it will be changed to True in Numba 0.59.0. See https://numba.readthedocs.io/en/stable/reference/deprecation.html#deprecation-of-object-mode-fall-back-behaviour-when-using-jit for details.\u001b[0m\n",
      "  @numba.jit()\n",
      "/home/icb/dominik.klein/mambaforge/envs/moscot_up/lib/python3.11/site-packages/umap/distances.py:1071: NumbaDeprecationWarning: \u001b[1mThe 'nopython' keyword argument was not supplied to the 'numba.jit' decorator. The implicit default value for this argument is currently False, but it will be changed to True in Numba 0.59.0. See https://numba.readthedocs.io/en/stable/reference/deprecation.html#deprecation-of-object-mode-fall-back-behaviour-when-using-jit for details.\u001b[0m\n",
      "  @numba.jit()\n",
      "/home/icb/dominik.klein/mambaforge/envs/moscot_up/lib/python3.11/site-packages/umap/distances.py:1086: NumbaDeprecationWarning: \u001b[1mThe 'nopython' keyword argument was not supplied to the 'numba.jit' decorator. The implicit default value for this argument is currently False, but it will be changed to True in Numba 0.59.0. See https://numba.readthedocs.io/en/stable/reference/deprecation.html#deprecation-of-object-mode-fall-back-behaviour-when-using-jit for details.\u001b[0m\n",
      "  @numba.jit()\n",
      "/home/icb/dominik.klein/mambaforge/envs/moscot_up/lib/python3.11/site-packages/tqdm/auto.py:21: TqdmWarning: IProgress not found. Please update jupyter and ipywidgets. See https://ipywidgets.readthedocs.io/en/stable/user_install.html\n",
      "  from .autonotebook import tqdm as notebook_tqdm\n",
      "/home/icb/dominik.klein/mambaforge/envs/moscot_up/lib/python3.11/site-packages/umap/umap_.py:660: NumbaDeprecationWarning: \u001b[1mThe 'nopython' keyword argument was not supplied to the 'numba.jit' decorator. The implicit default value for this argument is currently False, but it will be changed to True in Numba 0.59.0. See https://numba.readthedocs.io/en/stable/reference/deprecation.html#deprecation-of-object-mode-fall-back-behaviour-when-using-jit for details.\u001b[0m\n",
      "  @numba.jit()\n"
     ]
    }
   ],
   "source": [
    "import muon"
   ]
  },
  {
   "cell_type": "code",
   "execution_count": 2,
   "id": "7894c0c7-e54c-4efc-b505-eaf068f218e9",
   "metadata": {},
   "outputs": [],
   "source": [
    "mudata = muon.read(\"/lustre/groups/ml01/workspace/moscot_paper/pancreas_revision/mudata_with_annotation_all.h5mu\")"
   ]
  },
  {
   "cell_type": "code",
   "execution_count": 4,
   "id": "47b0a174-f9f8-4e5c-b49d-5e236ef51541",
   "metadata": {},
   "outputs": [
    {
     "data": {
      "text/plain": [
       "sample\n",
       "E14_5             9029\n",
       "E15_5             6745\n",
       "NVF_E15-5_Rep2    3588\n",
       "NVF_E16-5_Rep1    3242\n",
       "Name: count, dtype: int64"
      ]
     },
     "execution_count": 4,
     "metadata": {},
     "output_type": "execute_result"
    }
   ],
   "source": [
    "mudata.obs[\"sample\"].value_counts()"
   ]
  },
  {
   "cell_type": "code",
   "execution_count": 5,
   "id": "e8a086d8-cbab-403a-8e1c-39d05cbacf65",
   "metadata": {},
   "outputs": [
    {
     "data": {
      "text/plain": [
       "Index(['rna:sample', 'rna:name', 'rna:stage', 'rna:stage_num', 'rna:int_id',\n",
       "       'rna:seq_id_gex_id', 'rna:seq_id_atac', 'rna:reporter',\n",
       "       'rna:experiment_batch', 'rna:sequencing_batch',\n",
       "       ...\n",
       "       'leiden_r2.2', 'leiden_r2.3', 'leiden_r2.4', 'leiden_r2.5', 'cell_type',\n",
       "       'cell_type_refined', 'S_score', 'G2M_score', 'phase', 'proliferation'],\n",
       "      dtype='object', length=192)"
      ]
     },
     "execution_count": 5,
     "metadata": {},
     "output_type": "execute_result"
    }
   ],
   "source": [
    "mudata.obs.columns"
   ]
  },
  {
   "cell_type": "code",
   "execution_count": 6,
   "id": "9ff019e7-28f7-4cf5-ab97-b31a37f1be67",
   "metadata": {},
   "outputs": [
    {
     "data": {
      "text/plain": [
       "10333"
      ]
     },
     "execution_count": 6,
     "metadata": {},
     "output_type": "execute_result"
    }
   ],
   "source": [
    "6745+3588"
   ]
  },
  {
   "cell_type": "code",
   "execution_count": null,
   "id": "be9aa723-3a06-443d-aa2b-1fa56d8af8fb",
   "metadata": {},
   "outputs": [],
   "source": []
  }
 ],
 "metadata": {
  "kernelspec": {
   "display_name": "moscot_up",
   "language": "python",
   "name": "moscot_up"
  },
  "language_info": {
   "codemirror_mode": {
    "name": "ipython",
    "version": 3
   },
   "file_extension": ".py",
   "mimetype": "text/x-python",
   "name": "python",
   "nbconvert_exporter": "python",
   "pygments_lexer": "ipython3",
   "version": "3.11.5"
  }
 },
 "nbformat": 4,
 "nbformat_minor": 5
}
