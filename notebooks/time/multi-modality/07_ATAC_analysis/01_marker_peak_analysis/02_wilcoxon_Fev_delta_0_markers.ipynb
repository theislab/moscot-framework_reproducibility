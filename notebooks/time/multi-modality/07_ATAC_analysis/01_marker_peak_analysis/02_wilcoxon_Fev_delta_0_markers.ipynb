{
 "cells": [
  {
   "cell_type": "code",
   "execution_count": 1,
   "id": "817c48e1-eb6f-4f50-9f92-7918f8609784",
   "metadata": {},
   "outputs": [
    {
     "name": "stderr",
     "output_type": "stream",
     "text": [
      "Attaching SeuratObject\n",
      "\n"
     ]
    }
   ],
   "source": [
    "library(Signac)\n",
    "library(Seurat)\n",
    "library(anndata)\n",
    "library(ggplot2)"
   ]
  },
  {
   "cell_type": "code",
   "execution_count": 2,
   "id": "36e30118-59ef-4a74-9164-ba3d1c714337",
   "metadata": {},
   "outputs": [
    {
     "name": "stderr",
     "output_type": "stream",
     "text": [
      "Aktualisiere HTML-Index der Pakete in '.Library'\n",
      "\n",
      "Making 'packages.html' ...\n",
      " fertig\n",
      "\n",
      "'getOption(\"repos\")' replaces Bioconductor standard repositories, see\n",
      "'?repositories' for details\n",
      "\n",
      "replacement repositories:\n",
      "    CRAN: https://cran.r-project.org\n",
      "\n",
      "\n",
      "Bioconductor version 3.16 (BiocManager 1.30.19), R 4.2.2 (2022-10-31)\n",
      "\n",
      "Installing package(s) 'limma'\n",
      "\n",
      "Aktualisiere HTML-Index der Pakete in '.Library'\n",
      "\n",
      "Making 'packages.html' ...\n",
      " fertig\n",
      "\n",
      "Old packages: 'BH', 'BSgenome', 'DT', 'GenomeInfoDb', 'IRkernel', 'MASS',\n",
      "  'RCurl', 'Rcpp', 'RcppArmadillo', 'RcppTOML', 'anndata', 'broom', 'chromVAR',\n",
      "  'class', 'codetools', 'colorspace', 'curl', 'dbplyr', 'dplyr', 'e1071',\n",
      "  'evaluate', 'fansi', 'fontawesome', 'forcats', 'formatR', 'fs', 'future',\n",
      "  'gargle', 'gert', 'glmnet', 'gower', 'hdf5r', 'highr', 'htmlwidgets',\n",
      "  'httpuv', 'knitr', 'lava', 'lubridate', 'nlme', 'parallelly', 'pbapply',\n",
      "  'pbdZMQ', 'progressr', 'pryr', 'purrr', 'ragg', 'recipes', 'repr',\n",
      "  'reticulate', 'rgl', 'rmarkdown', 'sass', 'sourcetools', 'sp', 'spatial',\n",
      "  'spatstat.explore', 'spatstat.geom', 'spatstat.random', 'stringr',\n",
      "  'survival', 'tidyr', 'timeDate', 'timechange', 'tinytex', 'utf8', 'vctrs',\n",
      "  'vroom', 'xfun', 'yaml'\n",
      "\n"
     ]
    }
   ],
   "source": [
    "install.packages('BiocManager')\n",
    "BiocManager::install('limma')"
   ]
  },
  {
   "cell_type": "code",
   "execution_count": 4,
   "id": "1d47d395-948e-4093-a1f2-cbf1760962c4",
   "metadata": {},
   "outputs": [],
   "source": [
    "data_dir = \"../..\"\n",
    "seurat <- readRDS(path.cat(data_dir, \"seurat_new_annotations.rds\"))"
   ]
  },
  {
   "cell_type": "code",
   "execution_count": 5,
   "id": "214a8966-75ab-474a-aca8-c2f80b40ca59",
   "metadata": {},
   "outputs": [],
   "source": [
    "Idents(seurat) <- seurat@meta.data[[\"refinement\"]]"
   ]
  },
  {
   "cell_type": "code",
   "execution_count": 6,
   "id": "ba861c13-2c73-4278-9d85-6cc4a88c432c",
   "metadata": {},
   "outputs": [],
   "source": [
    "da_peaks <- FindMarkers(\n",
    "  object = seurat,\n",
    "  ident.1=\"Fev+ Delta,0\",\n",
    "  test.use = 'wilcox',\n",
    ")"
   ]
  },
  {
   "cell_type": "code",
   "execution_count": 8,
   "id": "f4c2411e-715e-4c5d-88c0-60609cb19db3",
   "metadata": {},
   "outputs": [],
   "source": [
    "write.csv(da_peaks, path.cat(data_dir, \"marker_peak_analysis/diff_peaks_signac_fev_delta0.csv\"))"
   ]
  }
 ],
 "metadata": {
  "kernelspec": {
   "display_name": "R",
   "language": "R",
   "name": "ir"
  },
  "language_info": {
   "codemirror_mode": "r",
   "file_extension": ".r",
   "mimetype": "text/x-r-source",
   "name": "R",
   "pygments_lexer": "r",
   "version": "4.2.2"
  }
 },
 "nbformat": 4,
 "nbformat_minor": 5
}
