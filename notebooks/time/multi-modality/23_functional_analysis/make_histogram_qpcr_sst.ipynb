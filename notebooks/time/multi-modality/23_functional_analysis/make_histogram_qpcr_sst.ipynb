{
 "cells": [
  {
   "cell_type": "code",
   "execution_count": 1,
   "id": "4d3d7276-0644-4cf9-8a29-b48b2a83c8e4",
   "metadata": {},
   "outputs": [],
   "source": [
    "import pandas as pd\n",
    "import seaborn as sns\n",
    "import numpy as np\n",
    "import matplotlib.pyplot as plt"
   ]
  },
  {
   "cell_type": "code",
   "execution_count": 2,
   "id": "dfc8b1a3-fe6d-43ba-bb4c-c6cac017c6b0",
   "metadata": {},
   "outputs": [],
   "source": [
    "control = [1.000049455,\t1.004586061\t,1.002849704\t,1.011434096\t,1.00053684,\t1.00018838,\t1.000808831]\n",
    "c_37 = [0.540686098,\t0.524496796,\t0.575426193,\t0.786783266,\t1.225618206\t,1.441820633\t,1.417758793]\n",
    "c_89 = [1.830439086,\t1.038432203\t,1.173867867,\t1.469207344\t,1.099505967\t,0.720571651,\t1.038244878]"
   ]
  },
  {
   "cell_type": "code",
   "execution_count": 3,
   "id": "93080690-e0ad-4dee-99c5-3f97d183b3dd",
   "metadata": {},
   "outputs": [],
   "source": [
    "df = pd.DataFrame()"
   ]
  },
  {
   "cell_type": "code",
   "execution_count": 4,
   "id": "90f2751b-9926-4caf-87b6-62e3af28d7e1",
   "metadata": {},
   "outputs": [],
   "source": [
    "df[\"control\"] = control\n",
    "df[\"c_37\"] = c_37\n",
    "df[\"c_89\"] = c_89"
   ]
  },
  {
   "cell_type": "code",
   "execution_count": 5,
   "id": "7c611a9c-9f8c-4035-bac9-8bf771c398e7",
   "metadata": {},
   "outputs": [
    {
     "data": {
      "text/html": [
       "<div>\n",
       "<style scoped>\n",
       "    .dataframe tbody tr th:only-of-type {\n",
       "        vertical-align: middle;\n",
       "    }\n",
       "\n",
       "    .dataframe tbody tr th {\n",
       "        vertical-align: top;\n",
       "    }\n",
       "\n",
       "    .dataframe thead th {\n",
       "        text-align: right;\n",
       "    }\n",
       "</style>\n",
       "<table border=\"1\" class=\"dataframe\">\n",
       "  <thead>\n",
       "    <tr style=\"text-align: right;\">\n",
       "      <th></th>\n",
       "      <th>control</th>\n",
       "      <th>c_37</th>\n",
       "      <th>c_89</th>\n",
       "    </tr>\n",
       "  </thead>\n",
       "  <tbody>\n",
       "    <tr>\n",
       "      <th>0</th>\n",
       "      <td>1.000049</td>\n",
       "      <td>0.540686</td>\n",
       "      <td>1.830439</td>\n",
       "    </tr>\n",
       "    <tr>\n",
       "      <th>1</th>\n",
       "      <td>1.004586</td>\n",
       "      <td>0.524497</td>\n",
       "      <td>1.038432</td>\n",
       "    </tr>\n",
       "    <tr>\n",
       "      <th>2</th>\n",
       "      <td>1.002850</td>\n",
       "      <td>0.575426</td>\n",
       "      <td>1.173868</td>\n",
       "    </tr>\n",
       "    <tr>\n",
       "      <th>3</th>\n",
       "      <td>1.011434</td>\n",
       "      <td>0.786783</td>\n",
       "      <td>1.469207</td>\n",
       "    </tr>\n",
       "    <tr>\n",
       "      <th>4</th>\n",
       "      <td>1.000537</td>\n",
       "      <td>1.225618</td>\n",
       "      <td>1.099506</td>\n",
       "    </tr>\n",
       "    <tr>\n",
       "      <th>5</th>\n",
       "      <td>1.000188</td>\n",
       "      <td>1.441821</td>\n",
       "      <td>0.720572</td>\n",
       "    </tr>\n",
       "    <tr>\n",
       "      <th>6</th>\n",
       "      <td>1.000809</td>\n",
       "      <td>1.417759</td>\n",
       "      <td>1.038245</td>\n",
       "    </tr>\n",
       "  </tbody>\n",
       "</table>\n",
       "</div>"
      ],
      "text/plain": [
       "    control      c_37      c_89\n",
       "0  1.000049  0.540686  1.830439\n",
       "1  1.004586  0.524497  1.038432\n",
       "2  1.002850  0.575426  1.173868\n",
       "3  1.011434  0.786783  1.469207\n",
       "4  1.000537  1.225618  1.099506\n",
       "5  1.000188  1.441821  0.720572\n",
       "6  1.000809  1.417759  1.038245"
      ]
     },
     "execution_count": 5,
     "metadata": {},
     "output_type": "execute_result"
    }
   ],
   "source": [
    "df"
   ]
  },
  {
   "cell_type": "code",
   "execution_count": 6,
   "id": "39059092-93ce-4642-915c-59ac19e663d7",
   "metadata": {},
   "outputs": [],
   "source": [
    "my_palette =  ['#e3e3e3', \"#c1f7cc\", \"#007016\"]"
   ]
  },
  {
   "cell_type": "code",
   "execution_count": 7,
   "id": "e623a03a-2375-45bf-ac51-80be2c2a46d3",
   "metadata": {},
   "outputs": [
    {
     "name": "stderr",
     "output_type": "stream",
     "text": [
      "/home/icb/dominik.klein/mambaforge/envs/moscot_up/lib/python3.11/site-packages/seaborn/categorical.py:166: FutureWarning: Setting a gradient palette using color= is deprecated and will be removed in version 0.13. Set `palette='dark:black'` for same effect.\n",
      "  warnings.warn(msg, FutureWarning)\n"
     ]
    },
    {
     "data": {
      "text/plain": [
       "<Axes: >"
      ]
     },
     "execution_count": 7,
     "metadata": {},
     "output_type": "execute_result"
    },
    {
     "data": {
      "image/png": "[encoded data removed]",
      "text/plain": [
       "<Figure size 288x576 with 1 Axes>"
      ]
     },
     "metadata": {
      "needs_background": "light"
     },
     "output_type": "display_data"
    }
   ],
   "source": [
    "fig, ax = plt.subplots(1, 1, figsize=(4,8))\n",
    "ax = sns.barplot(df, errorbar=\"se\", ax=ax, palette=my_palette)\n",
    "sns.stripplot(data=df,  color=\"black\", size=10, jitter=0.2, ax=ax)"
   ]
  },
  {
   "cell_type": "code",
   "execution_count": null,
   "id": "4043dbf4-e46f-4ee4-aa43-b3a9734dbc0b",
   "metadata": {},
   "outputs": [],
   "source": []
  }
 ],
 "metadata": {
  "kernelspec": {
   "display_name": "moscot_up",
   "language": "python",
   "name": "moscot_up"
  },
  "language_info": {
   "codemirror_mode": {
    "name": "ipython",
    "version": 3
   },
   "file_extension": ".py",
   "mimetype": "text/x-python",
   "name": "python",
   "nbconvert_exporter": "python",
   "pygments_lexer": "ipython3",
   "version": "3.11.5"
  }
 },
 "nbformat": 4,
 "nbformat_minor": 5
}
