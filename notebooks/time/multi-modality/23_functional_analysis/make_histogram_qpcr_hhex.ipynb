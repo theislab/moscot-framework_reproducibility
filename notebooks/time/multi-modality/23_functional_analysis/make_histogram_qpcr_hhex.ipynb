{
 "cells": [
  {
   "cell_type": "code",
   "execution_count": 1,
   "id": "4d3d7276-0644-4cf9-8a29-b48b2a83c8e4",
   "metadata": {},
   "outputs": [],
   "source": [
    "import pandas as pd\n",
    "import seaborn as sns\n",
    "import numpy as np\n",
    "import matplotlib.pyplot as plt"
   ]
  },
  {
   "cell_type": "code",
   "execution_count": 2,
   "id": "1885e62c-94fa-42ef-ae72-3ba0582070b3",
   "metadata": {},
   "outputs": [],
   "source": [
    "control = [1.00030997,\t1.026021126\t,1.057217465,\t1.00085519]\n",
    "c_37 = [0.91968739,\t0.729044068\t,1.32845585,\t0.874289095]\n",
    "c_89 = [0.738918528,\t0.863008805\t,1.889581999,\t1.650895174]"
   ]
  },
  {
   "cell_type": "code",
   "execution_count": 3,
   "id": "93080690-e0ad-4dee-99c5-3f97d183b3dd",
   "metadata": {},
   "outputs": [],
   "source": [
    "df = pd.DataFrame()"
   ]
  },
  {
   "cell_type": "code",
   "execution_count": 4,
   "id": "90f2751b-9926-4caf-87b6-62e3af28d7e1",
   "metadata": {},
   "outputs": [],
   "source": [
    "df[\"control\"] = control\n",
    "df[\"c_37\"] = c_37\n",
    "df[\"c_89\"] = c_89"
   ]
  },
  {
   "cell_type": "code",
   "execution_count": 5,
   "id": "7c611a9c-9f8c-4035-bac9-8bf771c398e7",
   "metadata": {},
   "outputs": [
    {
     "data": {
      "text/html": [
       "<div>\n",
       "<style scoped>\n",
       "    .dataframe tbody tr th:only-of-type {\n",
       "        vertical-align: middle;\n",
       "    }\n",
       "\n",
       "    .dataframe tbody tr th {\n",
       "        vertical-align: top;\n",
       "    }\n",
       "\n",
       "    .dataframe thead th {\n",
       "        text-align: right;\n",
       "    }\n",
       "</style>\n",
       "<table border=\"1\" class=\"dataframe\">\n",
       "  <thead>\n",
       "    <tr style=\"text-align: right;\">\n",
       "      <th></th>\n",
       "      <th>control</th>\n",
       "      <th>c_37</th>\n",
       "      <th>c_89</th>\n",
       "    </tr>\n",
       "  </thead>\n",
       "  <tbody>\n",
       "    <tr>\n",
       "      <th>0</th>\n",
       "      <td>1.000310</td>\n",
       "      <td>0.919687</td>\n",
       "      <td>0.738919</td>\n",
       "    </tr>\n",
       "    <tr>\n",
       "      <th>1</th>\n",
       "      <td>1.026021</td>\n",
       "      <td>0.729044</td>\n",
       "      <td>0.863009</td>\n",
       "    </tr>\n",
       "    <tr>\n",
       "      <th>2</th>\n",
       "      <td>1.057217</td>\n",
       "      <td>1.328456</td>\n",
       "      <td>1.889582</td>\n",
       "    </tr>\n",
       "    <tr>\n",
       "      <th>3</th>\n",
       "      <td>1.000855</td>\n",
       "      <td>0.874289</td>\n",
       "      <td>1.650895</td>\n",
       "    </tr>\n",
       "  </tbody>\n",
       "</table>\n",
       "</div>"
      ],
      "text/plain": [
       "    control      c_37      c_89\n",
       "0  1.000310  0.919687  0.738919\n",
       "1  1.026021  0.729044  0.863009\n",
       "2  1.057217  1.328456  1.889582\n",
       "3  1.000855  0.874289  1.650895"
      ]
     },
     "execution_count": 5,
     "metadata": {},
     "output_type": "execute_result"
    }
   ],
   "source": [
    "df"
   ]
  },
  {
   "cell_type": "code",
   "execution_count": 6,
   "id": "39059092-93ce-4642-915c-59ac19e663d7",
   "metadata": {},
   "outputs": [],
   "source": [
    "my_palette =  ['#e3e3e3', \"#c1f7cc\", \"#007016\"]"
   ]
  },
  {
   "cell_type": "code",
   "execution_count": 7,
   "id": "e623a03a-2375-45bf-ac51-80be2c2a46d3",
   "metadata": {},
   "outputs": [
    {
     "name": "stderr",
     "output_type": "stream",
     "text": [
      "/home/icb/dominik.klein/mambaforge/envs/moscot_up/lib/python3.11/site-packages/seaborn/categorical.py:166: FutureWarning: Setting a gradient palette using color= is deprecated and will be removed in version 0.13. Set `palette='dark:black'` for same effect.\n",
      "  warnings.warn(msg, FutureWarning)\n"
     ]
    },
    {
     "data": {
      "text/plain": [
       "<Axes: >"
      ]
     },
     "execution_count": 7,
     "metadata": {},
     "output_type": "execute_result"
    },
    {
     "data": {
      "image/png": "[encoded data removed]",
      "text/plain": [
       "<Figure size 288x576 with 1 Axes>"
      ]
     },
     "metadata": {
      "needs_background": "light"
     },
     "output_type": "display_data"
    }
   ],
   "source": [
    "fig, ax = plt.subplots(1, 1, figsize=(4,8))\n",
    "ax = sns.barplot(df, errorbar=\"se\", ax=ax, palette=my_palette)\n",
    "sns.stripplot(data=df,  color=\"black\", size=10, jitter=0.2, ax=ax)"
   ]
  },
  {
   "cell_type": "code",
   "execution_count": null,
   "id": "4043dbf4-e46f-4ee4-aa43-b3a9734dbc0b",
   "metadata": {},
   "outputs": [],
   "source": []
  }
 ],
 "metadata": {
  "kernelspec": {
   "display_name": "moscot_up",
   "language": "python",
   "name": "moscot_up"
  },
  "language_info": {
   "codemirror_mode": {
    "name": "ipython",
    "version": 3
   },
   "file_extension": ".py",
   "mimetype": "text/x-python",
   "name": "python",
   "nbconvert_exporter": "python",
   "pygments_lexer": "ipython3",
   "version": "3.11.5"
  }
 },
 "nbformat": 4,
 "nbformat_minor": 5
}
