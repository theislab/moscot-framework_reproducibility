{
 "cells": [
  {
   "cell_type": "code",
   "execution_count": 1,
   "id": "4d3d7276-0644-4cf9-8a29-b48b2a83c8e4",
   "metadata": {},
   "outputs": [],
   "source": [
    "import pandas as pd\n",
    "import seaborn as sns\n",
    "import numpy as np\n",
    "import matplotlib.pyplot as plt"
   ]
  },
  {
   "cell_type": "code",
   "execution_count": 2,
   "id": "145720d7-fe8e-42ab-85ab-40f9608b7b9e",
   "metadata": {},
   "outputs": [],
   "source": [
    "control = [1.025888492,\t1.006375615,\t1.000076125,\t1.000000081,\t1.038627724,\t1.000101147]\n",
    "c_37 = [0.739212021,\t0.240039861\t,0.35992939\t,1.651557381,\t1.351705607\t,1.125939442]\n",
    "c_89 = [0.895822754,\t1.147170183,\t0.680002758\t,1.364140703,\t1.246033488,\t0.290919478]"
   ]
  },
  {
   "cell_type": "code",
   "execution_count": 3,
   "id": "93080690-e0ad-4dee-99c5-3f97d183b3dd",
   "metadata": {},
   "outputs": [],
   "source": [
    "df = pd.DataFrame()"
   ]
  },
  {
   "cell_type": "code",
   "execution_count": 4,
   "id": "90f2751b-9926-4caf-87b6-62e3af28d7e1",
   "metadata": {},
   "outputs": [],
   "source": [
    "df[\"control\"] = control\n",
    "df[\"c_37\"] = c_37\n",
    "df[\"c_89\"] = c_89"
   ]
  },
  {
   "cell_type": "code",
   "execution_count": 5,
   "id": "7c611a9c-9f8c-4035-bac9-8bf771c398e7",
   "metadata": {},
   "outputs": [
    {
     "data": {
      "text/html": [
       "<div>\n",
       "<style scoped>\n",
       "    .dataframe tbody tr th:only-of-type {\n",
       "        vertical-align: middle;\n",
       "    }\n",
       "\n",
       "    .dataframe tbody tr th {\n",
       "        vertical-align: top;\n",
       "    }\n",
       "\n",
       "    .dataframe thead th {\n",
       "        text-align: right;\n",
       "    }\n",
       "</style>\n",
       "<table border=\"1\" class=\"dataframe\">\n",
       "  <thead>\n",
       "    <tr style=\"text-align: right;\">\n",
       "      <th></th>\n",
       "      <th>control</th>\n",
       "      <th>c_37</th>\n",
       "      <th>c_89</th>\n",
       "    </tr>\n",
       "  </thead>\n",
       "  <tbody>\n",
       "    <tr>\n",
       "      <th>0</th>\n",
       "      <td>1.025888</td>\n",
       "      <td>0.739212</td>\n",
       "      <td>0.895823</td>\n",
       "    </tr>\n",
       "    <tr>\n",
       "      <th>1</th>\n",
       "      <td>1.006376</td>\n",
       "      <td>0.240040</td>\n",
       "      <td>1.147170</td>\n",
       "    </tr>\n",
       "    <tr>\n",
       "      <th>2</th>\n",
       "      <td>1.000076</td>\n",
       "      <td>0.359929</td>\n",
       "      <td>0.680003</td>\n",
       "    </tr>\n",
       "    <tr>\n",
       "      <th>3</th>\n",
       "      <td>1.000000</td>\n",
       "      <td>1.651557</td>\n",
       "      <td>1.364141</td>\n",
       "    </tr>\n",
       "    <tr>\n",
       "      <th>4</th>\n",
       "      <td>1.038628</td>\n",
       "      <td>1.351706</td>\n",
       "      <td>1.246033</td>\n",
       "    </tr>\n",
       "    <tr>\n",
       "      <th>5</th>\n",
       "      <td>1.000101</td>\n",
       "      <td>1.125939</td>\n",
       "      <td>0.290919</td>\n",
       "    </tr>\n",
       "  </tbody>\n",
       "</table>\n",
       "</div>"
      ],
      "text/plain": [
       "    control      c_37      c_89\n",
       "0  1.025888  0.739212  0.895823\n",
       "1  1.006376  0.240040  1.147170\n",
       "2  1.000076  0.359929  0.680003\n",
       "3  1.000000  1.651557  1.364141\n",
       "4  1.038628  1.351706  1.246033\n",
       "5  1.000101  1.125939  0.290919"
      ]
     },
     "execution_count": 5,
     "metadata": {},
     "output_type": "execute_result"
    }
   ],
   "source": [
    "df"
   ]
  },
  {
   "cell_type": "code",
   "execution_count": 6,
   "id": "39059092-93ce-4642-915c-59ac19e663d7",
   "metadata": {},
   "outputs": [],
   "source": [
    "my_palette =  ['#e3e3e3', \"#faa46e\", \"#f76002\"]"
   ]
  },
  {
   "cell_type": "code",
   "execution_count": 7,
   "id": "e623a03a-2375-45bf-ac51-80be2c2a46d3",
   "metadata": {},
   "outputs": [
    {
     "name": "stderr",
     "output_type": "stream",
     "text": [
      "/home/icb/dominik.klein/mambaforge/envs/moscot_up/lib/python3.11/site-packages/seaborn/categorical.py:166: FutureWarning: Setting a gradient palette using color= is deprecated and will be removed in version 0.13. Set `palette='dark:black'` for same effect.\n",
      "  warnings.warn(msg, FutureWarning)\n"
     ]
    },
    {
     "data": {
      "text/plain": [
       "<Axes: >"
      ]
     },
     "execution_count": 7,
     "metadata": {},
     "output_type": "execute_result"
    },
    {
     "data": {
      "image/png": "[encoded data removed]",
      "text/plain": [
       "<Figure size 288x576 with 1 Axes>"
      ]
     },
     "metadata": {
      "needs_background": "light"
     },
     "output_type": "display_data"
    }
   ],
   "source": [
    "fig, ax = plt.subplots(1, 1, figsize=(4,8))\n",
    "ax = sns.barplot(df, errorbar=\"se\", ax=ax, palette=my_palette)\n",
    "sns.stripplot(data=df,  color=\"black\", size=10, jitter=0.2, ax=ax)"
   ]
  },
  {
   "cell_type": "code",
   "execution_count": null,
   "id": "4043dbf4-e46f-4ee4-aa43-b3a9734dbc0b",
   "metadata": {},
   "outputs": [],
   "source": []
  }
 ],
 "metadata": {
  "kernelspec": {
   "display_name": "moscot_up",
   "language": "python",
   "name": "moscot_up"
  },
  "language_info": {
   "codemirror_mode": {
    "name": "ipython",
    "version": 3
   },
   "file_extension": ".py",
   "mimetype": "text/x-python",
   "name": "python",
   "nbconvert_exporter": "python",
   "pygments_lexer": "ipython3",
   "version": "3.11.5"
  }
 },
 "nbformat": 4,
 "nbformat_minor": 5
}
