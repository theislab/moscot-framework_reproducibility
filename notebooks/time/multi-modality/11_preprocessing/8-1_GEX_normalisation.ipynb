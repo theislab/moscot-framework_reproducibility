{
 "cells": [
  {
   "cell_type": "markdown",
   "metadata": {},
   "source": [
    "# Preprocessing - SCT & Scran Normalization"
   ]
  },
  {
   "cell_type": "code",
   "execution_count": null,
   "metadata": {},
   "outputs": [],
   "source": [
    "from IPython.core.display import display, HTML\n",
    "display(HTML(\"<style>.container { width:85% !important; }</style>\"))"
   ]
  },
  {
   "cell_type": "code",
   "execution_count": null,
   "metadata": {
    "ExecuteTime": {
     "end_time": "2019-04-15T09:23:27.277106Z",
     "start_time": "2019-04-15T09:23:25.653400Z"
    }
   },
   "outputs": [],
   "source": [
    "# General\n",
    "import scipy as sci\n",
    "import numpy as np\n",
    "import pandas as pd\n",
    "import logging\n",
    "import time\n",
    "import pickle\n",
    "from itertools import chain\n",
    "\n",
    "#R\n",
    "import rpy2\n",
    "import rpy2.rinterface_lib.callbacks\n",
    "from rpy2.robjects import pandas2ri\n",
    "import anndata2ri\n",
    "\n",
    "# Plotting\n",
    "import matplotlib.pyplot as plt\n",
    "import matplotlib as mpl\n",
    "from matplotlib import rcParams\n",
    "from matplotlib import cm\n",
    "import seaborn as sb\n",
    "\n",
    "# Analysis\n",
    "import scanpy as sc\n",
    "import scvelo as scv\n",
    "\n",
    "data_dir = \"../..\""
   ]
  },
  {
   "cell_type": "code",
   "execution_count": null,
   "metadata": {},
   "outputs": [],
   "source": [
    "# Settings\n",
    "\n",
    "## Scanpy settings\n",
    "sc.settings.verbosity = 3\n",
    "sc.logging.print_versions()\n",
    "\n",
    "## ScVelo settings\n",
    "scv.settings.verbosity = 3\n",
    "scv.logging.print_versions()\n",
    "\n",
    "## R settings\n",
    "### Ignore R warning messages\n",
    "#### Note: this can be commented out to get more verbose R output\n",
    "rpy2.rinterface_lib.callbacks.logger.setLevel(logging.ERROR)\n",
    "\n",
    "### Automatically convert rpy2 outputs to pandas dataframes\n",
    "pandas2ri.activate()\n",
    "anndata2ri.activate()\n",
    "%load_ext rpy2.ipython"
   ]
  },
  {
   "cell_type": "markdown",
   "metadata": {},
   "source": [
    "# Load Data"
   ]
  },
  {
   "cell_type": "code",
   "execution_count": null,
   "metadata": {},
   "outputs": [],
   "source": [
    "adata=sc.read(os.path.join(data_dir, 'E14-E15_adata_filtered_rmDoublets.h5ad'))\n",
    "adata_wsnn=sc.read(os.path.join(data_dir, 'E14-E15_adata_filtered_rmDoublets_sctNormalized_wsnn.h5ad'))\n"
   ]
  },
  {
   "cell_type": "code",
   "execution_count": null,
   "metadata": {},
   "outputs": [],
   "source": [
    "adata_wknn=sc.read(os.path.join(data_dir, 'E14-E15_adata_filtered_rmDoublets_sctNormalized_wknn.h5ad'))"
   ]
  },
  {
   "cell_type": "markdown",
   "metadata": {},
   "source": [
    "# Normalization with Scran"
   ]
  },
  {
   "cell_type": "code",
   "execution_count": null,
   "metadata": {
    "scrolled": true
   },
   "outputs": [],
   "source": [
    "#Perform a clustering for scran normalization in clusters\n",
    "adata_pp = adata.copy()\n",
    "sc.pp.normalize_total(adata_pp, target_sum=1e6)#, exclude_highly_expressed=True) #sc.pp.normalize_per_cell(adata_pp, counts_per_cell_after=1e6)\n",
    "sc.pp.log1p(adata_pp)\n",
    "sc.pp.pca(adata_pp)\n",
    "sc.pp.neighbors(adata_pp)\n",
    "sc.tl.leiden(adata_pp, key_added='groups', resolution=0.5) #sc.tl.louvain(adata_pp, key_added='groups', resolution=0.5)"
   ]
  },
  {
   "cell_type": "code",
   "execution_count": null,
   "metadata": {},
   "outputs": [],
   "source": [
    "#Preprocess variables for scran normalization\n",
    "input_groups = adata_pp.obs['groups']\n",
    "data_mat = adata.X.T"
   ]
  },
  {
   "cell_type": "code",
   "execution_count": null,
   "metadata": {},
   "outputs": [],
   "source": [
    "%%R -i data_mat -i input_groups -o size_factors\n",
    "\n",
    "install.packages(\"scran\")\n",
    "library(scran)\n",
    "size_factors = calculateSumFactors(data_mat, clusters=input_groups, min.mean=0.1)"
   ]
  },
  {
   "cell_type": "code",
   "execution_count": null,
   "metadata": {},
   "outputs": [],
   "source": [
    "# Visualize the estimated size factors\n",
    "adata.obs['size_factors'] = size_factors\n",
    "\n",
    "sc.pl.scatter(adata, 'size_factors', 'n_counts')\n",
    "sc.pl.scatter(adata, 'size_factors', 'n_genes')\n",
    "\n",
    "sb.distplot(size_factors, bins=100, kde=True)"
   ]
  },
  {
   "cell_type": "code",
   "execution_count": null,
   "metadata": {},
   "outputs": [],
   "source": [
    "#Keep the count data in a counts layer\n",
    "adata.layers['raw_counts'] = adata.X.copy()\n",
    "\n",
    "#Logarithmize raw counts\n",
    "adata.layers['log_raw_counts'] = sc.pp.log1p(adata.layers['raw_counts'])"
   ]
  },
  {
   "cell_type": "code",
   "execution_count": null,
   "metadata": {},
   "outputs": [],
   "source": [
    "#Normalize adata \n",
    "adata.X /= adata.obs['size_factors'].values[:,None]\n",
    "sc.pp.log1p(adata)\n",
    "\n",
    "#Keep the normalized count data in a counts layer\n",
    "adata.layers['scran_counts'] = adata.X.copy()"
   ]
  },
  {
   "cell_type": "markdown",
   "metadata": {},
   "source": [
    "# Add Normalization from Seurat SCT "
   ]
  },
  {
   "cell_type": "code",
   "execution_count": null,
   "metadata": {
    "tags": []
   },
   "outputs": [],
   "source": [
    "%%R -o adata_sct\n",
    "\n",
    "adata_sct <- readRDS(path.cat(data_dir, 'E14-E15_adata_filtered_rmDoublets_sctNormalized_sce.rds'))"
   ]
  },
  {
   "cell_type": "code",
   "execution_count": null,
   "metadata": {
    "tags": []
   },
   "outputs": [],
   "source": [
    "adata_sct.layers['sct_counts'] = adata_sct.X.copy()"
   ]
  },
  {
   "cell_type": "code",
   "execution_count": null,
   "metadata": {
    "tags": []
   },
   "outputs": [],
   "source": [
    "# Harmonize features\n",
    "adata = adata[:,adata_sct.var_names].copy()"
   ]
  },
  {
   "cell_type": "code",
   "execution_count": null,
   "metadata": {
    "tags": []
   },
   "outputs": [],
   "source": [
    "# Add SCT data\n",
    "adata.layers['sct_counts'] = adata_sct.layers['sct_counts']\n",
    "adata.layers['sct_logcounts'] = adata_sct.layers['sct_logcounts']\n",
    "adata.layers['sct_scale_data'] = adata_sct.layers['sct_scale_data']\n",
    "adata.var[['sct.detection_rate', 'sct.gmean', 'sct.variance', 'sct.residual_variance', 'sct.variable']] = adata_sct.var[['sct.detection_rate', 'sct.gmean', 'sct.variance', 'sct.residual_variance', 'sct.variable']]"
   ]
  },
  {
   "cell_type": "code",
   "execution_count": null,
   "metadata": {},
   "outputs": [],
   "source": [
    "# Put X in a layer to keep it after merging\n",
    "adata_sct.layers['sct_counts'] = adata_sct.X.copy()\n",
    "\n",
    "# Keep raw QC metrics & counts\n",
    "adata.obs['mt_frac_raw'] = adata.obs['mt_frac']\n",
    "adata.obs['rp_frac_raw'] = adata.obs['rp_frac']\n",
    "adata.obs['n_genes_raw'] = adata.obs['n_genes']\n",
    "adata.obs['log_genes_raw'] = adata.obs['log_genes']\n",
    "adata.obs['n_counts_raw'] = adata.obs['n_counts']\n",
    "adata.obs['log_counts_raw'] = adata.obs['log_counts']\n",
    "#adata.layers['raw_counts'] = adata.X\n",
    "\n",
    "# Add SCT data\n",
    "adata.layers['sct_counts'] = adata_sct.layers['sct_counts']\n",
    "adata.layers['sct_logcounts'] = adata_sct.layers['sct_logcounts']\n",
    "adata.layers['sct_scale_data'] = adata_sct.layers['sct_scale_data']\n",
    "adata.var[['sct.detection_rate', 'sct.gmean', 'sct.variance', 'sct.residual_variance', 'sct.variable']] = adata_sct.var[['sct.detection_rate', 'sct.gmean', 'sct.variance', 'sct.residual_variance', 'sct.variable']]\n",
    "\n",
    "# Set normalized counts as X for QC metrics\n",
    "adata.X = adata.layers['sct_counts']\n",
    "adata.X=adata.X.toarray()\n",
    "\n",
    "# Filter genes: Min 20 cells - filters out 0 count genes\n",
    "sc.pp.filter_genes(adata, min_cells=20)\n",
    "print('Number of genes after cell filter: {:d}'.format(adata.n_vars))"
   ]
  },
  {
   "cell_type": "code",
   "execution_count": null,
   "metadata": {},
   "outputs": [],
   "source": [
    "# Quality control - calculate QC covariates\n",
    "adata.obs['n_counts'] = adata.X.sum(1)\n",
    "adata.obs['log_counts'] = np.log(adata.obs['n_counts'])\n",
    "adata.obs['n_genes'] = (adata.X > 0).sum(1)\n",
    "adata.obs['log_genes'] = np.log(adata.obs['n_genes'])\n",
    "\n",
    "mt_gene_mask = [gene.startswith('mt-') for gene in adata.var_names]\n",
    "adata.obs['mt_frac'] = adata.X[:, mt_gene_mask].sum(1)/adata.obs['n_counts']\n",
    "\n",
    "rp_gene_mask = [gene.startswith(('Rps','Rpl')) for gene in adata.var_names]\n",
    "adata.obs['rp_frac'] = adata.X[:,rp_gene_mask].sum(1) / adata.X.sum(1)"
   ]
  },
  {
   "cell_type": "code",
   "execution_count": null,
   "metadata": {},
   "outputs": [],
   "source": [
    "# Set log-normalized counts as X\n",
    "adata.X = adata.layers['sct_logcounts']\n",
    "adata.X=adata.X.toarray()\n",
    "\n",
    "# Store the full data set in 'raw' as log-normalized data for statistical testing\n",
    "adata.raw = adata"
   ]
  },
  {
   "cell_type": "code",
   "execution_count": null,
   "metadata": {},
   "outputs": [],
   "source": [
    "# Calc umap & trimap\n",
    "hvgs = pd.Series(adata.var['sct.variable'][adata.var['sct.variable'] > 0].index) # use HVGs from sct\n",
    "adata.var['highly_variable']= False\n",
    "adata.var['highly_variable'][hvgs] = True\n",
    "\n",
    "sc.pp.pca(adata, svd_solver='arpack', use_highly_variable=True)\n",
    "sc.pp.neighbors(adata, metric='correlation', n_neighbors=20, n_pcs=30)\n",
    "sc.tl.leiden(adata, resolution=0.5)\n",
    "\n",
    "sc.tl.umap(adata)"
   ]
  },
  {
   "cell_type": "code",
   "execution_count": null,
   "metadata": {
    "tags": []
   },
   "outputs": [],
   "source": [
    "adata.write(os.path.join(data_dir, \"E14-E15_adata_filtered_rmDoublets_sctNormalized_WNN.h5ad\"))"
   ]
  }
 ],
 "metadata": {
  "kernelspec": {
   "display_name": "mm_best_muon_full",
   "language": "python",
   "name": "mm_best_muon_full"
  },
  "language_info": {
   "codemirror_mode": {
    "name": "ipython",
    "version": 3
   },
   "file_extension": ".py",
   "mimetype": "text/x-python",
   "name": "python",
   "nbconvert_exporter": "python",
   "pygments_lexer": "ipython3",
   "version": "3.9.13"
  },
  "toc": {
   "base_numbering": 1,
   "nav_menu": {},
   "number_sections": true,
   "sideBar": true,
   "skip_h1_title": false,
   "title_cell": "Table of Contents",
   "title_sidebar": "Contents",
   "toc_cell": false,
   "toc_position": {
    "height": "calc(100% - 180px)",
    "left": "10px",
    "top": "150px",
    "width": "343px"
   },
   "toc_section_display": true,
   "toc_window_display": true
  },
  "varInspector": {
   "cols": {
    "lenName": 16,
    "lenType": 16,
    "lenVar": 40
   },
   "kernels_config": {
    "python": {
     "delete_cmd_postfix": "",
     "delete_cmd_prefix": "del ",
     "library": "var_list.py",
     "varRefreshCmd": "print(var_dic_list())"
    },
    "r": {
     "delete_cmd_postfix": ") ",
     "delete_cmd_prefix": "rm(",
     "library": "var_list.r",
     "varRefreshCmd": "cat(var_dic_list()) "
    }
   },
   "types_to_exclude": [
    "module",
    "function",
    "builtin_function_or_method",
    "instance",
    "_Feature"
   ],
   "window_display": false
  }
 },
 "nbformat": 4,
 "nbformat_minor": 4
}
