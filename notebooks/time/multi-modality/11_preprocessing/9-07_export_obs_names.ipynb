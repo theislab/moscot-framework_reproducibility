{
 "cells": [
  {
   "cell_type": "code",
   "execution_count": 1,
   "id": "ffed86b1-681d-417d-828d-2a68116393b6",
   "metadata": {},
   "outputs": [],
   "source": [
    "import muon"
   ]
  },
  {
   "cell_type": "code",
   "execution_count": 2,
   "id": "93e8b5ce-9dce-42b4-8fb2-c94c0f9c2c6f",
   "metadata": {},
   "outputs": [
    {
     "name": "stderr",
     "output_type": "stream",
     "text": [
      "/home/icb/dominik.klein/mambaforge/envs/scvi-tools/lib/python3.11/site-packages/anndata/_core/anndata.py:522: FutureWarning: The dtype argument is deprecated and will be removed in late 2024.\n",
      "  warnings.warn(\n",
      "/home/icb/dominik.klein/mambaforge/envs/scvi-tools/lib/python3.11/site-packages/anndata/_core/anndata.py:522: FutureWarning: The dtype argument is deprecated and will be removed in late 2024.\n",
      "  warnings.warn(\n"
     ]
    }
   ],
   "source": [
    "mudata = muon.read(\"/lustre/groups/ml01/workspace/moscot_paper/pancreas_revision/mudata_with_annotation_all.h5mu\")"
   ]
  },
  {
   "cell_type": "code",
   "execution_count": 3,
   "id": "ea547b39-8988-41bc-a74d-7aef44520af2",
   "metadata": {},
   "outputs": [],
   "source": [
    "endocrine_celltypes = [\n",
    "    \"Ngn3 low\",\n",
    "    \"Ngn3 high\",\n",
    "    \"Ngn3 high cycling\",\n",
    "    \"Fev+\",\n",
    "    \"Fev+ Alpha\",\n",
    "    \"Fev+ Beta\",\n",
    "    \"Fev+ Delta\",\n",
    "    \"Eps. progenitors\",\n",
    "    \"Alpha\",\n",
    "    \"Beta\",\n",
    "    \"Delta\",\n",
    "    \"Epsilon\"\n",
    "]"
   ]
  },
  {
   "cell_type": "code",
   "execution_count": 4,
   "id": "ad11c38c-62f8-4b0a-9a3c-5611ad487166",
   "metadata": {},
   "outputs": [],
   "source": [
    "mudata.obs[[\"cell_type\", \"cell_type_refined\"]].to_csv(\"/lustre/groups/ml01/workspace/moscot_paper/pancreas_revision/cell_type_annotation.csv\")"
   ]
  },
  {
   "cell_type": "code",
   "execution_count": 5,
   "id": "3c077f2c-f7ce-4338-809b-f2cdf5a7a917",
   "metadata": {},
   "outputs": [],
   "source": [
    "mudata_filtered = mudata[mudata.obs[\"cell_type\"].isin(endocrine_celltypes)]"
   ]
  },
  {
   "cell_type": "code",
   "execution_count": 6,
   "id": "e6ab8c36-4d3b-490d-aff3-c9415f393450",
   "metadata": {},
   "outputs": [],
   "source": [
    "mudata_filtered.obs[[\"cell_type\", \"cell_type_refined\"]].to_csv(\"/lustre/groups/ml01/workspace/moscot_paper/pancreas_revision/cell_type_annotation_endocrine.csv\")"
   ]
  }
 ],
 "metadata": {
  "kernelspec": {
   "display_name": "scvi-tools",
   "language": "python",
   "name": "scvi-tools"
  },
  "language_info": {
   "codemirror_mode": {
    "name": "ipython",
    "version": 3
   },
   "file_extension": ".py",
   "mimetype": "text/x-python",
   "name": "python",
   "nbconvert_exporter": "python",
   "pygments_lexer": "ipython3",
   "version": "3.11.6"
  }
 },
 "nbformat": 4,
 "nbformat_minor": 5
}
