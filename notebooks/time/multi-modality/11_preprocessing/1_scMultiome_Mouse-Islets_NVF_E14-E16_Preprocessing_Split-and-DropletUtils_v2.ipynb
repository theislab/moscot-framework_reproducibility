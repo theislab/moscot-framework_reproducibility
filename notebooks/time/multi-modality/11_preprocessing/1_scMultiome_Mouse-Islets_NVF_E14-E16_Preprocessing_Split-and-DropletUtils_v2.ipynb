{
 "cells": [
  {
   "cell_type": "markdown",
   "metadata": {},
   "source": [
    "# NVF Mouse Islets - Preprocessing - Prepare Data for DropletUtils\n",
    "\n",
    "2023-11-25 10:44:48    "
   ]
  },
  {
   "cell_type": "markdown",
   "metadata": {},
   "source": [
    "# Setup"
   ]
  },
  {
   "cell_type": "code",
   "execution_count": 1,
   "metadata": {
    "ExecuteTime": {
     "end_time": "2023-11-25T09:50:36.131079Z",
     "start_time": "2023-11-25T09:50:36.126030Z"
    },
    "scrolled": true
   },
   "outputs": [
    {
     "name": "stderr",
     "output_type": "stream",
     "text": [
      "/tmp/ipykernel_3124226/495279268.py:1: DeprecationWarning: Importing display from IPython.core.display is deprecated since IPython 7.14, please import from IPython display\n",
      "  from IPython.core.display import display, HTML\n"
     ]
    },
    {
     "data": {
      "text/html": [
       "<style>.container { width:85% !important; }</style>"
      ],
      "text/plain": [
       "<IPython.core.display.HTML object>"
      ]
     },
     "metadata": {},
     "output_type": "display_data"
    }
   ],
   "source": [
    "from IPython.core.display import display, HTML\n",
    "display(HTML(\"<style>.container { width:85% !important; }</style>\"))"
   ]
  },
  {
   "cell_type": "code",
   "execution_count": 2,
   "metadata": {
    "ExecuteTime": {
     "end_time": "2023-11-25T09:50:37.409796Z",
     "start_time": "2023-11-25T09:50:36.131938Z"
    }
   },
   "outputs": [],
   "source": [
    "# General\n",
    "import scipy as sci\n",
    "import numpy as np\n",
    "import pandas as pd\n",
    "import logging\n",
    "import gc # Free memory #gc.collect()\n",
    "\n",
    "# Analysis\n",
    "import scanpy as sc"
   ]
  },
  {
   "cell_type": "code",
   "execution_count": 3,
   "metadata": {
    "ExecuteTime": {
     "end_time": "2023-11-25T09:50:37.561537Z",
     "start_time": "2023-11-25T09:50:37.411457Z"
    },
    "scrolled": false
   },
   "outputs": [
    {
     "name": "stdout",
     "output_type": "stream",
     "text": [
      "-----\n",
      "anndata     0.8.0\n",
      "scanpy      1.9.3\n",
      "-----\n",
      "PIL                 9.4.0\n",
      "asttokens           NA\n",
      "backcall            0.2.0\n",
      "cffi                1.15.1\n",
      "comm                0.1.2\n",
      "cycler              0.10.0\n",
      "cython_runtime      NA\n",
      "dateutil            2.8.2\n",
      "debugpy             1.6.6\n",
      "decorator           5.1.1\n",
      "defusedxml          0.7.1\n",
      "executing           1.2.0\n",
      "h5py                3.8.0\n",
      "igraph              0.10.8\n",
      "importlib_resources NA\n",
      "ipykernel           6.21.2\n",
      "ipython_genutils    0.2.0\n",
      "jedi                0.18.2\n",
      "joblib              1.2.0\n",
      "kiwisolver          1.4.4\n",
      "leidenalg           0.10.1\n",
      "llvmlite            0.39.1\n",
      "louvain             0.8.1\n",
      "matplotlib          3.7.1\n",
      "mpl_toolkits        NA\n",
      "natsort             8.3.1\n",
      "numba               0.56.4\n",
      "numexpr             2.8.6\n",
      "numpy               1.23.5\n",
      "packaging           23.0\n",
      "pandas              1.5.3\n",
      "parso               0.8.3\n",
      "pexpect             4.8.0\n",
      "pickleshare         0.7.5\n",
      "pkg_resources       NA\n",
      "platformdirs        3.0.0\n",
      "prompt_toolkit      3.0.36\n",
      "psutil              5.9.4\n",
      "ptyprocess          0.7.0\n",
      "pure_eval           0.2.2\n",
      "pydev_ipython       NA\n",
      "pydevconsole        NA\n",
      "pydevd              2.9.5\n",
      "pydevd_file_utils   NA\n",
      "pydevd_plugins      NA\n",
      "pydevd_tracing      NA\n",
      "pygments            2.14.0\n",
      "pyparsing           3.0.9\n",
      "pytz                2022.7.1\n",
      "scipy               1.10.1\n",
      "session_info        1.0.0\n",
      "setuptools          67.4.0\n",
      "six                 1.16.0\n",
      "sklearn             1.2.1\n",
      "stack_data          0.6.2\n",
      "texttable           1.6.7\n",
      "threadpoolctl       3.1.0\n",
      "tornado             6.2\n",
      "traitlets           5.9.0\n",
      "typing_extensions   NA\n",
      "wcwidth             0.2.6\n",
      "yaml                6.0\n",
      "zipp                NA\n",
      "zmq                 25.0.0\n",
      "-----\n",
      "IPython             8.10.0\n",
      "jupyter_client      8.0.3\n",
      "jupyter_core        5.2.0\n",
      "notebook            6.5.2\n",
      "-----\n",
      "Python 3.8.16 | packaged by conda-forge | (default, Feb  1 2023, 16:01:55) [GCC 11.3.0]\n",
      "Linux-5.15.0-89-generic-x86_64-with-glibc2.10\n",
      "-----\n",
      "Session information updated at 2023-11-25 10:50\n"
     ]
    }
   ],
   "source": [
    "# Settings\n",
    "\n",
    "## Scanpy settings\n",
    "sc.settings.verbosity = 3\n",
    "sc.logging.print_versions()"
   ]
  },
  {
   "cell_type": "markdown",
   "metadata": {},
   "source": [
    "# Setup R"
   ]
  },
  {
   "cell_type": "code",
   "execution_count": 4,
   "metadata": {
    "ExecuteTime": {
     "end_time": "2023-11-25T09:50:38.287350Z",
     "start_time": "2023-11-25T09:50:37.562535Z"
    }
   },
   "outputs": [],
   "source": [
    "#R\n",
    "import os\n",
    "os.environ['R_HOME'] = '/home/michi/Software/venvs/scverse_2023/lib/R' #path to your R installation\n",
    "\n",
    "import rpy2\n",
    "import rpy2.robjects as ro\n",
    "import rpy2.rinterface_lib.callbacks\n",
    "from rpy2.robjects import pandas2ri\n",
    "import anndata2ri\n",
    "\n",
    "## R settings\n",
    "\n",
    "### Ignore R warning messages\n",
    "#### Note: this can be commented out to get more verbose R output\n",
    "rpy2.rinterface_lib.callbacks.logger.setLevel(logging.ERROR)\n",
    "\n",
    "### Automatically convert rpy2 outputs to pandas dataframes\n",
    "pandas2ri.activate()\n",
    "anndata2ri.activate()\n",
    "%load_ext rpy2.ipython"
   ]
  },
  {
   "cell_type": "code",
   "execution_count": 5,
   "metadata": {
    "ExecuteTime": {
     "end_time": "2023-11-25T09:50:38.326302Z",
     "start_time": "2023-11-25T09:50:38.288618Z"
    }
   },
   "outputs": [
    {
     "name": "stdout",
     "output_type": "stream",
     "text": [
      "[1] \"/home/michi/Software/venvs/scverse_2023/lib/R/library\"\n"
     ]
    }
   ],
   "source": [
    "%%R\n",
    "\n",
    ".libPaths()"
   ]
  },
  {
   "cell_type": "code",
   "execution_count": 6,
   "metadata": {
    "ExecuteTime": {
     "end_time": "2023-11-25T09:50:44.150131Z",
     "start_time": "2023-11-25T09:50:38.327424Z"
    },
    "scrolled": false
   },
   "outputs": [
    {
     "name": "stdout",
     "output_type": "stream",
     "text": [
      "R version 4.2.2 (2022-10-31)\n",
      "Platform: x86_64-conda-linux-gnu (64-bit)\n",
      "Running under: Ubuntu 20.04.6 LTS\n",
      "\n",
      "Matrix products: default\n",
      "BLAS/LAPACK: /home/michi/Software/venvs/scverse_2023_test/lib/libopenblasp-r0.3.21.so\n",
      "\n",
      "locale:\n",
      " [1] LC_CTYPE=en_US.UTF-8       LC_NUMERIC=C              \n",
      " [3] LC_TIME=de_DE.UTF-8        LC_COLLATE=en_US.UTF-8    \n",
      " [5] LC_MONETARY=de_DE.UTF-8    LC_MESSAGES=en_US.UTF-8   \n",
      " [7] LC_PAPER=de_DE.UTF-8       LC_NAME=C                 \n",
      " [9] LC_ADDRESS=C               LC_TELEPHONE=C            \n",
      "[11] LC_MEASUREMENT=de_DE.UTF-8 LC_IDENTIFICATION=C       \n",
      "\n",
      "attached base packages:\n",
      " [1] parallel  stats4    tools     stats     graphics  grDevices utils    \n",
      " [8] datasets  methods   base     \n",
      "\n",
      "other attached packages:\n",
      " [1] doParallel_1.0.17           iterators_1.0.14           \n",
      " [3] foreach_1.5.2               future_1.33.0              \n",
      " [5] BiocParallel_1.32.5         DropletUtils_1.18.1        \n",
      " [7] SingleCellExperiment_1.20.1 SummarizedExperiment_1.28.0\n",
      " [9] Biobase_2.58.0              GenomicRanges_1.50.2       \n",
      "[11] GenomeInfoDb_1.34.9         IRanges_2.32.0             \n",
      "[13] S4Vectors_0.36.2            BiocGenerics_0.44.0        \n",
      "[15] MatrixGenerics_1.10.0       matrixStats_0.63.0         \n",
      "[17] Matrix_1.5-3                rhdf5_2.42.0               \n",
      "\n",
      "loaded via a namespace (and not attached):\n",
      " [1] Rcpp_1.0.10               compiler_4.2.2           \n",
      " [3] XVector_0.38.0            R.methodsS3_1.8.2        \n",
      " [5] bitops_1.0-7              rhdf5filters_1.10.0      \n",
      " [7] R.utils_2.12.2            DelayedMatrixStats_1.20.0\n",
      " [9] zlibbioc_1.44.0           digest_0.6.31            \n",
      "[11] lattice_0.20-45           DelayedArray_0.24.0      \n",
      "[13] GenomeInfoDbData_1.2.9    globals_0.16.2           \n",
      "[15] locfit_1.5-9.7            grid_4.2.2               \n",
      "[17] scuttle_1.8.4             listenv_0.9.0            \n",
      "[19] parallelly_1.36.0         HDF5Array_1.26.0         \n",
      "[21] limma_3.54.2              Rhdf5lib_1.20.0          \n",
      "[23] edgeR_3.40.2              codetools_0.2-19         \n",
      "[25] sparseMatrixStats_1.10.0  beachmat_2.14.0          \n",
      "[27] dqrng_0.3.0               RCurl_1.98-1.10          \n",
      "[29] R.oo_1.25.0              \n"
     ]
    }
   ],
   "source": [
    "%%R\n",
    "# General\n",
    "#library(tidyverse) # incl. ggplot2\n",
    "library(rhdf5)\n",
    "library(Matrix)\n",
    "library(SingleCellExperiment)\n",
    "library(DropletUtils)\n",
    "\n",
    "# Parallelization\n",
    "library(BiocParallel)\n",
    "register(MulticoreParam(64, progressbar = TRUE))\n",
    "\n",
    "library(future)\n",
    "plan(multicore, workers = 64)\n",
    "options(future.globals.maxSize = 100 * 1024 ^ 3) # for 50 Gb RAM\n",
    "plan()\n",
    "\n",
    "library(doParallel)\n",
    "registerDoParallel(64)\n",
    "\n",
    "sessionInfo()"
   ]
  },
  {
   "cell_type": "markdown",
   "metadata": {},
   "source": [
    "# Functions"
   ]
  },
  {
   "cell_type": "code",
   "execution_count": 7,
   "metadata": {
    "ExecuteTime": {
     "end_time": "2023-11-25T09:50:44.156240Z",
     "start_time": "2023-11-25T09:50:44.151696Z"
    }
   },
   "outputs": [],
   "source": [
    "def run_dropletUtils(sample=None, # sample name fround in base_path e.g. '21L011182'\n",
    "                     base_path=None, # path to cellranger out put folder containing different samples e.g. '/storage/scRNA-seq/scRNA-seq_iPSC_IIR-KO_S5_P21092B/data/cr_rev_7/cellranger/'\n",
    "                     outs_path=None # folder name containing count matrices (include \"/\" before) e.g. '/count_matrices'\n",
    "                    ):\n",
    "    ro.globalenv['sample'] = sample\n",
    "    ro.globalenv['base_path'] = base_path\n",
    "    ro.globalenv['outs_path'] = outs_path + '/'\n",
    "    ro.r('''\n",
    "    path_to_adata = paste0(base_path, sample, outs_path, sample, \"_raw_gex_bc_matrix.h5ad\")\n",
    "\n",
    "    print(paste0('Loading ',path_to_adata))\n",
    "\n",
    "    adata <- h5read(path_to_adata, \"/\", compoundAsDataFrame=FALSE)\n",
    "\n",
    "    barcodes <- adata$obs$`_index`\n",
    "    genes <- adata$var$`_index`\n",
    "    counts <- adata$X$data\n",
    "    indices <- adata$X$indices\n",
    "    pointer <- adata$X$indptr\n",
    "\n",
    "    print(\"Construct SingleCellExperiment object as input for DropUtils\")\n",
    "    sparse_mat <- sparseMatrix(p = as.numeric(pointer), x= as.numeric(counts),  i = as.numeric(indices)+1)\n",
    "    sce <- SingleCellExperiment(assays = list(counts = sparse_mat), colData=barcodes)\n",
    "    rownames(sce) <- genes\n",
    "\n",
    "    print(\"Computing barcode ranks\")\n",
    "    barcode_ranks <- barcodeRanks(counts(sce))\n",
    "\n",
    "    print(\"Run DropUtils\")\n",
    "    drops <- emptyDrops(counts(sce))\n",
    "    rownames(drops) <- colData(sce)$X\n",
    "    is_cell <- drops$FDR <= 0.05\n",
    "\n",
    "    print(\"Save output\")\n",
    "    cell_barcodes <- barcodes[which(is_cell)]\n",
    "    write.csv(cell_barcodes, file=paste0(base_path, sample, outs_path, sample, \"_DropletUtils_CellBarcodes.csv\"))\n",
    "\n",
    "    ambient_genes <- drops@metadata$ambient\n",
    "    write.csv(data.frame(ambient_genes), file=paste0(base_path, sample, outs_path, sample, \"_DropletUtils_AmbientGenes.csv\"))\n",
    "\n",
    "    cell_probs <- drops$LogProb\n",
    "    write.csv(data.frame(barcodes=rownames(drops), cell_probs=cell_probs), file=paste0(base_path, sample, outs_path, sample, \"_DropletUtils_LogProbabilities.csv\"))\n",
    "    ''')"
   ]
  },
  {
   "cell_type": "markdown",
   "metadata": {},
   "source": [
    "# Prepare Data for DropletUtils\n",
    "\n",
    "Load raw data filter out droplets with less than 1 counts and save."
   ]
  },
  {
   "cell_type": "code",
   "execution_count": 8,
   "metadata": {
    "ExecuteTime": {
     "end_time": "2023-11-25T10:07:15.240107Z",
     "start_time": "2023-11-25T09:50:44.157188Z"
    },
    "scrolled": false
   },
   "outputs": [
    {
     "name": "stdout",
     "output_type": "stream",
     "text": [
      "Loading /storage/scRNA-seq/scMultiome_Mouse-Islets_NVF_E14-E16_P23044/cr_arc_rev9/cr_count/E14_5/outs\n",
      "reading /storage/scRNA-seq/scMultiome_Mouse-Islets_NVF_E14-E16_P23044/cr_arc_rev9/cr_count/E14_5/outs/raw_feature_bc_matrix.h5\n",
      " (0:00:11)\n",
      "(735798, 242829)\n",
      "filtered out 355 cells that have less than 1 counts\n"
     ]
    },
    {
     "name": "stderr",
     "output_type": "stream",
     "text": [
      "/home/michi/Software/venvs/scverse_2023/lib/python3.8/site-packages/anndata/_core/anndata.py:1830: UserWarning: Variable names are not unique. To make them unique, call `.var_names_make_unique`.\n",
      "  utils.warn_names_duplicates(\"var\")\n",
      "/home/michi/Software/venvs/scverse_2023/lib/python3.8/site-packages/anndata/_core/anndata.py:1830: UserWarning: Variable names are not unique. To make them unique, call `.var_names_make_unique`.\n",
      "  utils.warn_names_duplicates(\"var\")\n"
     ]
    },
    {
     "name": "stdout",
     "output_type": "stream",
     "text": [
      "filtered out 6622 genes that are detected in less than 1 cells\n"
     ]
    },
    {
     "name": "stderr",
     "output_type": "stream",
     "text": [
      "/home/michi/Software/venvs/scverse_2023/lib/python3.8/site-packages/anndata/_core/anndata.py:1830: UserWarning: Variable names are not unique. To make them unique, call `.var_names_make_unique`.\n",
      "  utils.warn_names_duplicates(\"var\")\n"
     ]
    },
    {
     "name": "stdout",
     "output_type": "stream",
     "text": [
      "(735443, 236207) \n",
      "\n",
      "\n",
      "Shape GEX: (735443, 24633)\n",
      "Shape ATAC: (735443, 211574)\n",
      "[1] \"Loading /storage/scRNA-seq/scMultiome_Mouse-Islets_NVF_E14-E16_P23044/cr_arc_rev9/cr_count/E14_5/outs/E14_5_raw_gex_bc_matrix.h5ad\"\n",
      "[1] \"Construct SingleCellExperiment object as input for DropUtils\"\n",
      "[1] \"Computing barcode ranks\"\n",
      "[1] \"Run DropUtils\"\n",
      "[1] \"Save output\"\n",
      "Loading /storage/scRNA-seq/scMultiome_Mouse-Islets_NVF_E14-E16_P23044/cr_arc_rev9/cr_count/E15_5/outs\n",
      "reading /storage/scRNA-seq/scMultiome_Mouse-Islets_NVF_E14-E16_P23044/cr_arc_rev9/cr_count/E15_5/outs/raw_feature_bc_matrix.h5\n",
      " (0:00:06)\n",
      "(735587, 221966)\n",
      "filtered out 768 cells that have less than 1 counts\n"
     ]
    },
    {
     "name": "stderr",
     "output_type": "stream",
     "text": [
      "/home/michi/Software/venvs/scverse_2023/lib/python3.8/site-packages/anndata/_core/anndata.py:1830: UserWarning: Variable names are not unique. To make them unique, call `.var_names_make_unique`.\n",
      "  utils.warn_names_duplicates(\"var\")\n",
      "/home/michi/Software/venvs/scverse_2023/lib/python3.8/site-packages/anndata/_core/anndata.py:1830: UserWarning: Variable names are not unique. To make them unique, call `.var_names_make_unique`.\n",
      "  utils.warn_names_duplicates(\"var\")\n"
     ]
    },
    {
     "name": "stdout",
     "output_type": "stream",
     "text": [
      "filtered out 6471 genes that are detected in less than 1 cells\n"
     ]
    },
    {
     "name": "stderr",
     "output_type": "stream",
     "text": [
      "/home/michi/Software/venvs/scverse_2023/lib/python3.8/site-packages/anndata/_core/anndata.py:1830: UserWarning: Variable names are not unique. To make them unique, call `.var_names_make_unique`.\n",
      "  utils.warn_names_duplicates(\"var\")\n"
     ]
    },
    {
     "name": "stdout",
     "output_type": "stream",
     "text": [
      "(734819, 215495) \n",
      "\n",
      "\n",
      "Shape GEX: (734819, 24784)\n",
      "Shape ATAC: (734819, 190711)\n",
      "[1] \"Loading /storage/scRNA-seq/scMultiome_Mouse-Islets_NVF_E14-E16_P23044/cr_arc_rev9/cr_count/E15_5/outs/E15_5_raw_gex_bc_matrix.h5ad\"\n",
      "[1] \"Construct SingleCellExperiment object as input for DropUtils\"\n",
      "[1] \"Computing barcode ranks\"\n",
      "[1] \"Run DropUtils\"\n",
      "[1] \"Save output\"\n",
      "Loading /storage/scRNA-seq/scMultiome_Mouse-Islets_NVF_E14-E16_P23044/cr_arc_rev9/cr_count/NVF_E15-5_Rep2/outs\n",
      "reading /storage/scRNA-seq/scMultiome_Mouse-Islets_NVF_E14-E16_P23044/cr_arc_rev9/cr_count/NVF_E15-5_Rep2/outs/raw_feature_bc_matrix.h5\n",
      " (0:00:06)\n",
      "(734646, 223466)\n",
      "filtered out 2532 cells that have less than 1 counts\n"
     ]
    },
    {
     "name": "stderr",
     "output_type": "stream",
     "text": [
      "/home/michi/Software/venvs/scverse_2023/lib/python3.8/site-packages/anndata/_core/anndata.py:1830: UserWarning: Variable names are not unique. To make them unique, call `.var_names_make_unique`.\n",
      "  utils.warn_names_duplicates(\"var\")\n",
      "/home/michi/Software/venvs/scverse_2023/lib/python3.8/site-packages/anndata/_core/anndata.py:1830: UserWarning: Variable names are not unique. To make them unique, call `.var_names_make_unique`.\n",
      "  utils.warn_names_duplicates(\"var\")\n"
     ]
    },
    {
     "name": "stdout",
     "output_type": "stream",
     "text": [
      "filtered out 6224 genes that are detected in less than 1 cells\n"
     ]
    },
    {
     "name": "stderr",
     "output_type": "stream",
     "text": [
      "/home/michi/Software/venvs/scverse_2023/lib/python3.8/site-packages/anndata/_core/anndata.py:1830: UserWarning: Variable names are not unique. To make them unique, call `.var_names_make_unique`.\n",
      "  utils.warn_names_duplicates(\"var\")\n"
     ]
    },
    {
     "name": "stdout",
     "output_type": "stream",
     "text": [
      "(732114, 217242) \n",
      "\n",
      "\n",
      "Shape GEX: (732114, 25031)\n",
      "Shape ATAC: (732114, 192211)\n",
      "[1] \"Loading /storage/scRNA-seq/scMultiome_Mouse-Islets_NVF_E14-E16_P23044/cr_arc_rev9/cr_count/NVF_E15-5_Rep2/outs/NVF_E15-5_Rep2_raw_gex_bc_matrix.h5ad\"\n",
      "[1] \"Construct SingleCellExperiment object as input for DropUtils\"\n",
      "[1] \"Computing barcode ranks\"\n",
      "[1] \"Run DropUtils\"\n",
      "[1] \"Save output\"\n",
      "Loading /storage/scRNA-seq/scMultiome_Mouse-Islets_NVF_E14-E16_P23044/cr_arc_rev9/cr_count/NVF_E16-5_Rep1/outs\n",
      "reading /storage/scRNA-seq/scMultiome_Mouse-Islets_NVF_E14-E16_P23044/cr_arc_rev9/cr_count/NVF_E16-5_Rep1/outs/raw_feature_bc_matrix.h5\n",
      " (0:00:07)\n",
      "(735492, 212894)\n",
      "filtered out 1419 cells that have less than 1 counts\n"
     ]
    },
    {
     "name": "stderr",
     "output_type": "stream",
     "text": [
      "/home/michi/Software/venvs/scverse_2023/lib/python3.8/site-packages/anndata/_core/anndata.py:1830: UserWarning: Variable names are not unique. To make them unique, call `.var_names_make_unique`.\n",
      "  utils.warn_names_duplicates(\"var\")\n",
      "/home/michi/Software/venvs/scverse_2023/lib/python3.8/site-packages/anndata/_core/anndata.py:1830: UserWarning: Variable names are not unique. To make them unique, call `.var_names_make_unique`.\n",
      "  utils.warn_names_duplicates(\"var\")\n"
     ]
    },
    {
     "name": "stdout",
     "output_type": "stream",
     "text": [
      "filtered out 6284 genes that are detected in less than 1 cells\n"
     ]
    },
    {
     "name": "stderr",
     "output_type": "stream",
     "text": [
      "/home/michi/Software/venvs/scverse_2023/lib/python3.8/site-packages/anndata/_core/anndata.py:1830: UserWarning: Variable names are not unique. To make them unique, call `.var_names_make_unique`.\n",
      "  utils.warn_names_duplicates(\"var\")\n"
     ]
    },
    {
     "name": "stdout",
     "output_type": "stream",
     "text": [
      "(734073, 206610) \n",
      "\n",
      "\n",
      "Shape GEX: (734073, 24971)\n",
      "Shape ATAC: (734073, 181639)\n",
      "[1] \"Loading /storage/scRNA-seq/scMultiome_Mouse-Islets_NVF_E14-E16_P23044/cr_arc_rev9/cr_count/NVF_E16-5_Rep1/outs/NVF_E16-5_Rep1_raw_gex_bc_matrix.h5ad\"\n",
      "[1] \"Construct SingleCellExperiment object as input for DropUtils\"\n",
      "[1] \"Computing barcode ranks\"\n",
      "[1] \"Run DropUtils\"\n",
      "[1] \"Save output\"\n"
     ]
    }
   ],
   "source": [
    "samples = ['E14_5','E15_5','NVF_E15-5_Rep2','NVF_E16-5_Rep1']\n",
    "base_path = '/storage/scRNA-seq/scMultiome_Mouse-Islets_NVF_E14-E16_P23044/cr_arc_rev9/cr_count/'\n",
    "outs_path = '/outs'\n",
    "\n",
    "for sample in samples:\n",
    "    print('Loading ' + base_path + sample + outs_path)\n",
    "    path = base_path + sample + outs_path\n",
    "    adata = sc.read_10x_h5(path + '/raw_feature_bc_matrix.h5', gex_only=False)\n",
    "    print(adata.shape)\n",
    "    sc.pp.filter_cells(adata, min_counts=1)\n",
    "    sc.pp.filter_genes(adata, min_cells=1)\n",
    "    print(adata.shape,'\\n\\n')\n",
    "    # Save combined\n",
    "    sc.write(path + '/' + sample + '_raw_feature_bc_matrix', adata)\n",
    "    # Split and save GEX and ATAC\n",
    "    print('Shape GEX:', adata[:,adata.var.feature_types.isin(['Gene Expression'])].shape)\n",
    "    sc.write(path + '/' + sample + '_raw_gex_bc_matrix', adata[:,adata.var.feature_types.isin(['Gene Expression'])])\n",
    "    print('Shape ATAC:', adata[:,adata.var.feature_types.isin(['Peaks'])].shape)\n",
    "    sc.write(path + '/' + sample + '_raw_atac_bc_matrix', adata[:,adata.var.feature_types.isin(['Peaks'])])\n",
    "    del adata\n",
    "    gc.collect()\n",
    "    run_dropletUtils(sample=sample, base_path=base_path, outs_path=outs_path)\n"
   ]
  },
  {
   "cell_type": "code",
   "execution_count": null,
   "metadata": {},
   "outputs": [],
   "source": []
  }
 ],
 "metadata": {
  "kernelspec": {
   "display_name": "scverse_2023",
   "language": "python",
   "name": "scverse_2023"
  },
  "language_info": {
   "codemirror_mode": {
    "name": "ipython",
    "version": 3
   },
   "file_extension": ".py",
   "mimetype": "text/x-python",
   "name": "python",
   "nbconvert_exporter": "python",
   "pygments_lexer": "ipython3",
   "version": "3.8.16"
  },
  "toc": {
   "base_numbering": 1,
   "nav_menu": {},
   "number_sections": true,
   "sideBar": true,
   "skip_h1_title": false,
   "title_cell": "Table of Contents",
   "title_sidebar": "Contents",
   "toc_cell": false,
   "toc_position": {},
   "toc_section_display": true,
   "toc_window_display": false
  },
  "varInspector": {
   "cols": {
    "lenName": 16,
    "lenType": 16,
    "lenVar": 40
   },
   "kernels_config": {
    "python": {
     "delete_cmd_postfix": "",
     "delete_cmd_prefix": "del ",
     "library": "var_list.py",
     "varRefreshCmd": "print(var_dic_list())"
    },
    "r": {
     "delete_cmd_postfix": ") ",
     "delete_cmd_prefix": "rm(",
     "library": "var_list.r",
     "varRefreshCmd": "cat(var_dic_list()) "
    }
   },
   "types_to_exclude": [
    "module",
    "function",
    "builtin_function_or_method",
    "instance",
    "_Feature"
   ],
   "window_display": false
  }
 },
 "nbformat": 4,
 "nbformat_minor": 4
}
