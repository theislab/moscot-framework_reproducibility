{
 "cells": [
  {
   "cell_type": "code",
   "execution_count": 1,
   "id": "464fbd15-a750-46fa-9d9f-d0ed01c41213",
   "metadata": {},
   "outputs": [
    {
     "name": "stderr",
     "output_type": "stream",
     "text": [
      "Warning message:\n",
      "“package ‘anndata’ was built under R version 4.3.2”\n",
      "Signac built for for SeuratObject v4 was just loaded with SeuratObject\n",
      "v5; disabling v5 assays and validation routines, and ensuring assays\n",
      "work in strict v3/v4 compatibility mode\n",
      "\n",
      "Attaching SeuratObject\n",
      "\n",
      "‘SeuratObject’ was built with package ‘Matrix’ 1.6.3 but the current\n",
      "version is 1.6.4; it is recomended that you reinstall ‘SeuratObject’ as\n",
      "the ABI for ‘Matrix’ may have changed\n",
      "\n",
      "Seurat v4 was just loaded with SeuratObject v5; disabling v5 assays and\n",
      "validation routines, and ensuring assays work in strict v3/v4\n",
      "compatibility mode\n",
      "\n",
      "── \u001b[1mAttaching core tidyverse packages\u001b[22m ───────────────────────────────────────────────────────────────────────────────────────────────────────────────────────────── tidyverse 2.0.0 ──\n",
      "\u001b[32m✔\u001b[39m \u001b[34mdplyr    \u001b[39m 1.1.4     \u001b[32m✔\u001b[39m \u001b[34mreadr    \u001b[39m 2.1.4\n",
      "\u001b[32m✔\u001b[39m \u001b[34mforcats  \u001b[39m 1.0.0     \u001b[32m✔\u001b[39m \u001b[34mstringr  \u001b[39m 1.5.1\n",
      "\u001b[32m✔\u001b[39m \u001b[34mggplot2  \u001b[39m 3.4.4     \u001b[32m✔\u001b[39m \u001b[34mtibble   \u001b[39m 3.2.1\n",
      "\u001b[32m✔\u001b[39m \u001b[34mlubridate\u001b[39m 1.9.3     \u001b[32m✔\u001b[39m \u001b[34mtidyr    \u001b[39m 1.3.0\n",
      "\u001b[32m✔\u001b[39m \u001b[34mpurrr    \u001b[39m 1.0.2     \n",
      "── \u001b[1mConflicts\u001b[22m ─────────────────────────────────────────────────────────────────────────────────────────────────────────────────────────────────────────────── tidyverse_conflicts() ──\n",
      "\u001b[31m✖\u001b[39m \u001b[34mdplyr\u001b[39m::\u001b[32mfilter()\u001b[39m   masks \u001b[34mstats\u001b[39m::filter()\n",
      "\u001b[31m✖\u001b[39m \u001b[34mdplyr\u001b[39m::\u001b[32mlag()\u001b[39m      masks \u001b[34mstats\u001b[39m::lag()\n",
      "\u001b[31m✖\u001b[39m \u001b[34mreadr\u001b[39m::\u001b[32mread_csv()\u001b[39m masks \u001b[34manndata\u001b[39m::read_csv()\n",
      "\u001b[31m✖\u001b[39m \u001b[34mpurrr\u001b[39m::\u001b[32mreduce()\u001b[39m   masks \u001b[34mSignac\u001b[39m::reduce()\n",
      "\u001b[36mℹ\u001b[39m Use the conflicted package (\u001b[3m\u001b[34m<http://conflicted.r-lib.org/>\u001b[39m\u001b[23m) to force all conflicts to become errors\n"
     ]
    }
   ],
   "source": [
    "library(anndata)\n",
    "library(Signac)\n",
    "library(Seurat)\n",
    "library(tidyverse)"
   ]
  },
  {
   "cell_type": "code",
   "execution_count": 2,
   "id": "76607129-426f-4878-b83f-7602ae0b7eef",
   "metadata": {},
   "outputs": [],
   "source": [
    "seurat <- readRDS(\"/lustre/groups/shared/users/idr_icb/scMultiome_Mouse-Islets_NVF_E14-E16/scMultiome_Mouse-Islets_NVF_E14-E16_seurat_markedDoublets_mergedPeaks_normalized.rds\")"
   ]
  },
  {
   "cell_type": "code",
   "execution_count": 3,
   "id": "552901e8-d9bf-4432-9310-b1e906609564",
   "metadata": {},
   "outputs": [],
   "source": [
    "new_annotations <- read.csv(\"/lustre/groups/ml01/workspace/moscot_paper/pancreas_revision/cell_type_annotation.csv\")"
   ]
  },
  {
   "cell_type": "code",
   "execution_count": 4,
   "id": "37f70912-9c59-43c7-879b-62907fdc8dad",
   "metadata": {},
   "outputs": [],
   "source": [
    "cells_to_keep <- colnames(seurat) %in% new_annotations$X\n",
    "\n",
    "filtered_seurat_object <- seurat[, cells_to_keep]\n"
   ]
  },
  {
   "cell_type": "code",
   "execution_count": 5,
   "id": "a219bcf9-ae92-40c0-a9dd-07ae2d03ffa1",
   "metadata": {},
   "outputs": [
    {
     "data": {
      "text/plain": [
       "An object of class Seurat \n",
       "312402 features across 22604 samples within 4 assays \n",
       "Active assay: SCT (20242 features, 2082 variable features)\n",
       " 3 layers present: counts, data, scale.data\n",
       " 3 other assays present: rna, atac, scran\n",
       " 2 dimensional reductions calculated: lsi, umap.atac"
      ]
     },
     "metadata": {},
     "output_type": "display_data"
    }
   ],
   "source": [
    "filtered_seurat_object"
   ]
  },
  {
   "cell_type": "code",
   "execution_count": 6,
   "id": "69c6c15f-974d-4a40-b797-4447879f3b18",
   "metadata": {},
   "outputs": [],
   "source": [
    "DefaultAssay(object=filtered_seurat_object) <- \"atac\""
   ]
  },
  {
   "cell_type": "code",
   "execution_count": 7,
   "id": "31c04169-f6eb-4a8e-acbd-2d2cecabec90",
   "metadata": {},
   "outputs": [
    {
     "name": "stderr",
     "output_type": "stream",
     "text": [
      "Computing hash\n",
      "\n"
     ]
    }
   ],
   "source": [
    "Fragments(filtered_seurat_object) <- NULL\n",
    "\n",
    "fragments <- CreateFragmentObject(path = \"/lustre/groups/shared/users/idr_icb/scMultiome_Mouse-Islets_NVF_E14-E16/atac_fragments.tsv.gz\", cells = colnames(filtered_seurat_object), validate.fragments = TRUE)\n",
    "\n",
    "Fragments(filtered_seurat_object) <- fragments"
   ]
  },
  {
   "cell_type": "code",
   "execution_count": 8,
   "id": "da5022d1-2b8e-43de-a0e9-9a869f1f2643",
   "metadata": {},
   "outputs": [],
   "source": [
    "filtered_seurat_object$cell_type <- new_annotations$cell_type"
   ]
  },
  {
   "cell_type": "code",
   "execution_count": 9,
   "id": "ece0776a-54e4-41de-926c-e0d1357871fc",
   "metadata": {},
   "outputs": [],
   "source": [
    "filtered_seurat_object$cell_type_refined <- new_annotations$cell_type_refined"
   ]
  },
  {
   "cell_type": "code",
   "execution_count": 10,
   "id": "c2f6c51e-21d2-4956-b066-4130026f2dd9",
   "metadata": {},
   "outputs": [],
   "source": [
    "saveRDS(filtered_seurat_object, file=\"/lustre/groups/ml01/workspace/moscot_paper/pancreas_revision/seurat_annotated.rds\")"
   ]
  },
  {
   "cell_type": "code",
   "execution_count": 11,
   "id": "9094f288-c8ed-4f74-80ae-8ef579de52a8",
   "metadata": {},
   "outputs": [],
   "source": [
    "new_annotations_endocrine <- read.csv(\"/lustre/groups/ml01/workspace/moscot_paper/pancreas_revision/cell_type_annotation_endocrine.csv\")"
   ]
  },
  {
   "cell_type": "code",
   "execution_count": 12,
   "id": "dce55ff4-b22a-416a-8386-ba2305f2bd8d",
   "metadata": {},
   "outputs": [],
   "source": [
    "cells_to_keep <- colnames(filtered_seurat_object) %in% new_annotations_endocrine$X\n",
    "\n",
    "filtered_seurat_object_endocrine <- filtered_seurat_object[, cells_to_keep]"
   ]
  },
  {
   "cell_type": "code",
   "execution_count": 13,
   "id": "4b924e7f-1a9d-428b-980a-8d670eb45a6f",
   "metadata": {},
   "outputs": [],
   "source": [
    "filtered_seurat_object_endocrine@meta.data <- cbind(filtered_seurat_object_endocrine@meta.data, new_annotations_endocrine)"
   ]
  },
  {
   "cell_type": "code",
   "execution_count": 14,
   "id": "6659c9f8-d8bb-4813-af10-b633c178cc4e",
   "metadata": {},
   "outputs": [],
   "source": [
    "saveRDS(filtered_seurat_object_endocrine, file=\"/lustre/groups/ml01/workspace/moscot_paper/pancreas_revision/seurat_endocrine_annotated.rds\")"
   ]
  },
  {
   "cell_type": "code",
   "execution_count": null,
   "id": "41292215-e743-48d0-8e1c-92c38db52441",
   "metadata": {},
   "outputs": [],
   "source": []
  }
 ],
 "metadata": {
  "kernelspec": {
   "display_name": "r_env",
   "language": "R",
   "name": "r_env"
  },
  "language_info": {
   "codemirror_mode": "r",
   "file_extension": ".r",
   "mimetype": "text/x-r-source",
   "name": "R",
   "pygments_lexer": "r",
   "version": "4.2.3"
  }
 },
 "nbformat": 4,
 "nbformat_minor": 5
}
