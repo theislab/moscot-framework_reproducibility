{
 "cells": [
  {
   "cell_type": "code",
   "execution_count": 1,
   "id": "716132e7",
   "metadata": {},
   "outputs": [
    {
     "name": "stderr",
     "output_type": "stream",
     "text": [
      "/tmp/ipykernel_1713576/2441880800.py:2: DeprecationWarning: Accessing jax.config via the jax.config submodule is deprecated.\n",
      "  from jax.config import config\n"
     ]
    }
   ],
   "source": [
    "import jax\n",
    "from jax.config import config\n",
    "config.update(\"jax_enable_x64\", True)"
   ]
  },
  {
   "cell_type": "code",
   "execution_count": 2,
   "id": "e66396df",
   "metadata": {},
   "outputs": [
    {
     "name": "stderr",
     "output_type": "stream",
     "text": [
      "/home/icb/dominik.klein/mambaforge/envs/moscot_up/lib/python3.11/site-packages/umap/distances.py:1063: NumbaDeprecationWarning: \u001b[1mThe 'nopython' keyword argument was not supplied to the 'numba.jit' decorator. The implicit default value for this argument is currently False, but it will be changed to True in Numba 0.59.0. See https://numba.readthedocs.io/en/stable/reference/deprecation.html#deprecation-of-object-mode-fall-back-behaviour-when-using-jit for details.\u001b[0m\n",
      "  @numba.jit()\n",
      "/home/icb/dominik.klein/mambaforge/envs/moscot_up/lib/python3.11/site-packages/umap/distances.py:1071: NumbaDeprecationWarning: \u001b[1mThe 'nopython' keyword argument was not supplied to the 'numba.jit' decorator. The implicit default value for this argument is currently False, but it will be changed to True in Numba 0.59.0. See https://numba.readthedocs.io/en/stable/reference/deprecation.html#deprecation-of-object-mode-fall-back-behaviour-when-using-jit for details.\u001b[0m\n",
      "  @numba.jit()\n",
      "/home/icb/dominik.klein/mambaforge/envs/moscot_up/lib/python3.11/site-packages/umap/distances.py:1086: NumbaDeprecationWarning: \u001b[1mThe 'nopython' keyword argument was not supplied to the 'numba.jit' decorator. The implicit default value for this argument is currently False, but it will be changed to True in Numba 0.59.0. See https://numba.readthedocs.io/en/stable/reference/deprecation.html#deprecation-of-object-mode-fall-back-behaviour-when-using-jit for details.\u001b[0m\n",
      "  @numba.jit()\n",
      "/home/icb/dominik.klein/mambaforge/envs/moscot_up/lib/python3.11/site-packages/tqdm/auto.py:21: TqdmWarning: IProgress not found. Please update jupyter and ipywidgets. See https://ipywidgets.readthedocs.io/en/stable/user_install.html\n",
      "  from .autonotebook import tqdm as notebook_tqdm\n"
     ]
    },
    {
     "name": "stdout",
     "output_type": "stream",
     "text": [
      "['default', 'despine']\n"
     ]
    },
    {
     "name": "stderr",
     "output_type": "stream",
     "text": [
      "/home/icb/dominik.klein/mambaforge/envs/moscot_up/lib/python3.11/site-packages/umap/umap_.py:660: NumbaDeprecationWarning: \u001b[1mThe 'nopython' keyword argument was not supplied to the 'numba.jit' decorator. The implicit default value for this argument is currently False, but it will be changed to True in Numba 0.59.0. See https://numba.readthedocs.io/en/stable/reference/deprecation.html#deprecation-of-object-mode-fall-back-behaviour-when-using-jit for details.\u001b[0m\n",
      "  @numba.jit()\n"
     ]
    }
   ],
   "source": [
    "import scanpy as sc\n",
    "import numpy as np\n",
    "import seaborn as sns\n",
    "import matplotlib.pyplot as plt\n",
    "import moscot\n",
    "from moscot.problems.time import TemporalProblem\n",
    "import moscot.plotting as mpl\n",
    "import pandas as pd\n",
    "import os\n",
    "import muon\n",
    "sc.set_figure_params(scanpy=True, dpi=80, dpi_save=200)\n",
    "                         \n",
    "import mplscience\n",
    "\n",
    "mplscience.available_styles()\n",
    "mplscience.set_style(reset_current=True)\n",
    "plt.rcParams['legend.scatterpoints'] = 1 "
   ]
  },
  {
   "cell_type": "code",
   "execution_count": 3,
   "id": "ac720ca0-b815-47a1-a377-779f369932fa",
   "metadata": {},
   "outputs": [],
   "source": [
    "output_dir = \"/lustre/groups/ml01/workspace/moscot_paper/pancreas_revision/plots/OT_encodrine_analysis\""
   ]
  },
  {
   "cell_type": "code",
   "execution_count": 4,
   "id": "4ac87d66-1f1c-4d8e-b20b-39fef502eef4",
   "metadata": {},
   "outputs": [],
   "source": [
    "tp0 = TemporalProblem.load(\"/lustre/groups/ml01/workspace/moscot_paper/pancreas_revision/plots/OT_encodrine_analysis/1415_TemporalProblem.pkl\")"
   ]
  },
  {
   "cell_type": "code",
   "execution_count": 5,
   "id": "03d5ed43-a8e3-419e-8a78-ee280c3dfa0b",
   "metadata": {},
   "outputs": [],
   "source": [
    "tp1 = TemporalProblem.load(\"/lustre/groups/ml01/workspace/moscot_paper/pancreas_revision/plots/OT_encodrine_analysis/1516_TemporalProblem.pkl\")"
   ]
  },
  {
   "cell_type": "code",
   "execution_count": 6,
   "id": "1aa2e278-a90e-4d64-af8b-d373e5d7a23b",
   "metadata": {},
   "outputs": [],
   "source": [
    "mudata = muon.read(\"/lustre/groups/ml01/workspace/moscot_paper/pancreas_revision/mudata_with_annotation_all.h5mu\")"
   ]
  },
  {
   "cell_type": "code",
   "execution_count": 7,
   "id": "4f463395-4c3e-42ad-b695-7e141dc501b8",
   "metadata": {},
   "outputs": [],
   "source": [
    "endocrine_celltypes = [\n",
    "    \"Ngn3 low\",\n",
    "    \"Ngn3 high\",\n",
    "    \"Ngn3 high cycling\",\n",
    "    \"Fev+\",\n",
    "    \"Fev+ Alpha\",\n",
    "    \"Fev+ Beta\",\n",
    "    \"Fev+ Delta\",\n",
    "    \"Eps. progenitors\",\n",
    "    \"Alpha\",\n",
    "    \"Beta\",\n",
    "    \"Delta\",\n",
    "    \"Epsilon\"\n",
    "]"
   ]
  },
  {
   "cell_type": "code",
   "execution_count": 8,
   "id": "5c6a7499-ca1b-453c-97c9-3579547ae02e",
   "metadata": {},
   "outputs": [
    {
     "name": "stderr",
     "output_type": "stream",
     "text": [
      "/home/icb/dominik.klein/mambaforge/envs/moscot_up/lib/python3.11/site-packages/anndata/_core/anndata.py:1113: FutureWarning: is_categorical_dtype is deprecated and will be removed in a future version. Use isinstance(dtype, CategoricalDtype) instead\n",
      "  if not is_categorical_dtype(df_full[k]):\n"
     ]
    }
   ],
   "source": [
    "mudata = mudata[mudata.obs[\"cell_type\"].isin(endocrine_celltypes)].copy()"
   ]
  },
  {
   "cell_type": "code",
   "execution_count": 9,
   "id": "52cd2eba-5cbb-404b-bea9-aea408c4fdaa",
   "metadata": {},
   "outputs": [],
   "source": [
    "adata = mudata[\"rna\"]\n",
    "adata.obsm[\"X_MultiVI\"] = mudata.obsm[\"X_MultiVI\"]\n",
    "adata.obsm[\"X_umap\"] = mudata.obsm[\"X_umap\"]\n",
    "adata.obs[\"cell_type_refined\"] = mudata.obs[\"cell_type_refined\"]"
   ]
  },
  {
   "cell_type": "code",
   "execution_count": 10,
   "id": "5c87f990-61a4-4664-be8f-e25da6124319",
   "metadata": {},
   "outputs": [],
   "source": [
    "def adapt_time(x):\n",
    "    if x[\"stage\"]==\"E14.5\":\n",
    "        return 14.5\n",
    "    if x[\"stage\"]==\"E15.5\":\n",
    "        return 15.5\n",
    "    if x[\"stage\"]==\"E16.5\":\n",
    "        return 16.5\n",
    "    raise ValueError\n",
    "\n",
    "adata.obs['time'] = adata.obs.apply(adapt_time, axis=1).astype(\"category\")"
   ]
  },
  {
   "cell_type": "code",
   "execution_count": 11,
   "id": "c3ffc14b-a742-4122-b729-b91b21ead7d6",
   "metadata": {},
   "outputs": [
    {
     "name": "stdout",
     "output_type": "stream",
     "text": [
      "\u001b[34mINFO    \u001b[0m Ordering \u001b[1;35mIndex\u001b[0m\u001b[1m(\u001b[0m\u001b[1m[\u001b[0m\u001b[32m'AAACAGCCAACAGCCT-1'\u001b[0m, \u001b[32m'AAACAGCCAACCCTCC-1'\u001b[0m, \u001b[32m'AAACAGCCACTAAGCC-1'\u001b[0m,                         \n",
      "                \u001b[32m'AAACAGCCATAAAGCA-1'\u001b[0m, \u001b[32m'AAACATGCAAGGTAAC-1'\u001b[0m, \u001b[32m'AAACATGCAAGGTGGC-1'\u001b[0m,                                  \n",
      "                \u001b[32m'AAACATGCAGCATTAT-1'\u001b[0m, \u001b[32m'AAACATGCATTGTGGC-1'\u001b[0m, \u001b[32m'AAACCAACAACCTAAT-1'\u001b[0m,                                  \n",
      "                \u001b[32m'AAACCAACATAGGCGA-1'\u001b[0m,                                                                              \n",
      "                \u001b[33m...\u001b[0m                                                                                                \n",
      "                \u001b[32m'TTTGAGTCACGTTACA-4'\u001b[0m, \u001b[32m'TTTGCGACATGCTATG-4'\u001b[0m, \u001b[32m'TTTGCGGAGACTCGCA-4'\u001b[0m,                                  \n",
      "                \u001b[32m'TTTGGCTGTGTGAGAG-4'\u001b[0m, \u001b[32m'TTTGGTAAGTAACGAG-4'\u001b[0m, \u001b[32m'TTTGGTGCACGTAATT-4'\u001b[0m,                                  \n",
      "                \u001b[32m'TTTGTGAAGCGGATTT-4'\u001b[0m, \u001b[32m'TTTGTGAAGTTGTCAA-4'\u001b[0m, \u001b[32m'TTTGTGTTCATTCATC-4'\u001b[0m,                                  \n",
      "                \u001b[32m'TTTGTTGGTCACAGCG-4'\u001b[0m\u001b[1m]\u001b[0m,                                                                             \n",
      "               \u001b[33mdtype\u001b[0m=\u001b[32m'object'\u001b[0m, \u001b[33mlength\u001b[0m=\u001b[1;36m11645\u001b[0m\u001b[1m)\u001b[0m in ascending order.                                                   \n"
     ]
    },
    {
     "name": "stderr",
     "output_type": "stream",
     "text": [
      "/home/icb/dominik.klein/git_repos/moscot/src/moscot/problems/time/_mixins.py:986: FutureWarning: is_categorical_dtype is deprecated and will be removed in a future version. Use isinstance(dtype, CategoricalDtype) instead\n",
      "  if not (is_categorical_dtype(col) and is_numeric_dtype(col.cat.categories)):\n",
      "/home/icb/dominik.klein/mambaforge/envs/moscot_up/lib/python3.11/site-packages/anndata/_core/anndata.py:1113: FutureWarning: is_categorical_dtype is deprecated and will be removed in a future version. Use isinstance(dtype, CategoricalDtype) instead\n",
      "  if not is_categorical_dtype(df_full[k]):\n"
     ]
    }
   ],
   "source": [
    "tp = TemporalProblem(adata)\n",
    "tp = tp.prepare(\"time\", joint_attr=\"X_MultiVI\")"
   ]
  },
  {
   "cell_type": "code",
   "execution_count": 12,
   "id": "bfe81a21-fe40-449e-9a47-7e2ad7fd7b6f",
   "metadata": {},
   "outputs": [
    {
     "data": {
      "text/plain": [
       "BirthDeathProblem[stage='solved', shape=(5185, 1699)]"
      ]
     },
     "execution_count": 12,
     "metadata": {},
     "output_type": "execute_result"
    }
   ],
   "source": [
    "tp[14.5, 15.5].set_solution(tp0[14.5, 15.5].solution)\n",
    "tp[15.5, 16.5].set_solution(tp1[15.5, 16.5].solution)"
   ]
  },
  {
   "cell_type": "code",
   "execution_count": 13,
   "id": "e01460b2-84b4-4781-8d15-871b8aae046b",
   "metadata": {},
   "outputs": [],
   "source": [
    "tp.save(os.path.join(output_dir, \"TemporalProblem.pkl\"), overwrite=True)"
   ]
  }
 ],
 "metadata": {
  "kernelspec": {
   "display_name": "moscot_up",
   "language": "python",
   "name": "moscot_up"
  },
  "language_info": {
   "codemirror_mode": {
    "name": "ipython",
    "version": 3
   },
   "file_extension": ".py",
   "mimetype": "text/x-python",
   "name": "python",
   "nbconvert_exporter": "python",
   "pygments_lexer": "ipython3",
   "version": "3.11.5"
  }
 },
 "nbformat": 4,
 "nbformat_minor": 5
}
