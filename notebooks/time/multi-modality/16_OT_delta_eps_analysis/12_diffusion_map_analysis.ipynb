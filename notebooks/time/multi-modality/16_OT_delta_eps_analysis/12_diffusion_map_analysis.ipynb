{
 "cells": [
  {
   "cell_type": "code",
   "execution_count": null,
   "id": "b08ecabc-86d3-4ece-95f5-a027a266279d",
   "metadata": {},
   "outputs": [],
   "source": [
    "%matplotlib inline"
   ]
  },
  {
   "cell_type": "code",
   "execution_count": null,
   "id": "e66396df",
   "metadata": {},
   "outputs": [],
   "source": [
    "import scanpy as sc\n",
    "import numpy as np\n",
    "import seaborn as sns\n",
    "import matplotlib.pyplot as plt\n",
    "import pandas as pd\n",
    "import os\n",
    "import muon\n",
    "\n",
    "                         \n",
    "import mplscience\n",
    "\n",
    "mplscience.available_styles()\n",
    "mplscience.set_style(reset_current=True)\n",
    "plt.rcParams['legend.scatterpoints'] = 1 \n",
    "sc.set_figure_params(scanpy=True, dpi=500, dpi_save=500)"
   ]
  },
  {
   "cell_type": "code",
   "execution_count": null,
   "id": "195cb97a",
   "metadata": {},
   "outputs": [],
   "source": [
    "output_dir = \"/lustre/groups/ml01/workspace/moscot_paper/pancreas_revision/plots/diffmap\""
   ]
  },
  {
   "cell_type": "code",
   "execution_count": null,
   "id": "c20f6913-39fe-4cfe-b066-0ae74a1d7592",
   "metadata": {},
   "outputs": [],
   "source": [
    "not_endocrine_celltypes = [\"Mat. Acinar\", \"Imm. Acinar\", \"Prlf. Ductal\", \"Ductal\", \"Ngn3 high cycling\"]"
   ]
  },
  {
   "cell_type": "code",
   "execution_count": null,
   "id": "76c637f9",
   "metadata": {},
   "outputs": [],
   "source": [
    "mudata = muon.read(\"/lustre/groups/ml01/workspace/moscot_paper/pancreas_revision/mudata_with_annotation_all.h5mu\")\n",
    "mudata = mudata[~mudata.obs[\"cell_type\"].isin(not_endocrine_celltypes)]"
   ]
  },
  {
   "cell_type": "code",
   "execution_count": null,
   "id": "de30d180-5c48-4483-8027-7cf1b9504bcd",
   "metadata": {},
   "outputs": [],
   "source": [
    "color_dict = { 'Prlf. Ductal': '#f7b6d2', 'Ductal': '#d62728', 'Imm. Acinar': '#ffeb3b', 'Mat. Acinar': '#98df8a',\n",
    "    'Alpha': '#1f77b4', 'Beta': '#ff7f0e', 'Delta': '#279e68', 'Eps. progenitors': '#aa40fc', 'Epsilon': '#8c564b',\n",
    "       'Fev+': '#e377c2', 'Fev+ Alpha': '#b5bd61', 'Fev+ Beta': '#42f5ec', 'Fev+ Delta': '#aec7e8', 'Fev+ Delta,0': '#17becf', 'Fev+ Delta,1':'#98df8a',\n",
    "      'Ngn3 high cycling': '#adf542',\n",
    "        'Ngn3 high,0': '#ff9896', 'Ngn3 high': '#ff9896', 'Ngn3 high,1':'#f0b98d', 'Ngn3 low': '#c5b0d5'\n",
    "}"
   ]
  },
  {
   "cell_type": "code",
   "execution_count": null,
   "id": "37ac08bd-e802-4593-9799-a7374e28a616",
   "metadata": {},
   "outputs": [],
   "source": [
    "mudata.obs[\"cell_type\"] = mudata.obs[\"cell_type\"].astype(\"category\")\n",
    "mudata.uns[\"cell_type_colors\"] = [color_dict[ct] for ct in mudata.obs[\"cell_type\"].cat.categories]\n",
    "\n",
    "mudata.obs[\"cell_type_refined\"] = mudata.obs[\"cell_type_refined\"].astype(\"category\")\n",
    "mudata.uns[\"cell_type_refined_colors\"] = [color_dict[ct] for ct in mudata.obs[\"cell_type_refined\"].cat.categories]"
   ]
  },
  {
   "cell_type": "code",
   "execution_count": null,
   "id": "3d10536c-3091-49d2-9f37-500b9321b594",
   "metadata": {},
   "outputs": [],
   "source": [
    "from anndata import AnnData\n",
    "bdata = AnnData(mudata.obsm[\"X_MultiVI\"])"
   ]
  },
  {
   "cell_type": "code",
   "execution_count": null,
   "id": "f350a5f8-3822-4a5b-a1c7-dc573c4a8d5d",
   "metadata": {},
   "outputs": [],
   "source": [
    "bdata.obs=mudata.obs"
   ]
  },
  {
   "cell_type": "code",
   "execution_count": null,
   "id": "07ed5a0b-8bea-4e42-9b42-b032c4706618",
   "metadata": {},
   "outputs": [],
   "source": [
    "import scanpy.external as sce\n",
    "sce.tl.phate(bdata, k=30, n_components=3)"
   ]
  },
  {
   "cell_type": "code",
   "execution_count": null,
   "id": "fdbc6869-2e49-4c87-be23-b6e09a17f4ff",
   "metadata": {},
   "outputs": [],
   "source": [
    "sce.pl.phate(bdata, color=\"cell_type\", components='all')"
   ]
  },
  {
   "cell_type": "code",
   "execution_count": null,
   "id": "85eac76d-7356-43cf-99ec-57dcc8dad181",
   "metadata": {},
   "outputs": [],
   "source": [
    "from moscot.problems.time import TemporalProblem\n",
    "tp0 = TemporalProblem.load(\"/lustre/groups/ml01/workspace/moscot_paper/pancreas_revision/plots/OT_encodrine_analysis/TemporalProblem.pkl\")"
   ]
  },
  {
   "cell_type": "code",
   "execution_count": null,
   "id": "ccd7fc9a-3ba8-42f1-94f3-2da6f4b5dd64",
   "metadata": {},
   "outputs": [],
   "source": [
    "tp0.adata.uns[\"cell_type_colors\"] = [color_dict[ct] for ct in tp0.adata.obs[\"cell_type\"].cat.categories]\n",
    "tp0.adata.uns[\"cell_type_refined_colors\"] = [color_dict[ct] for ct in tp0.adata.obs[\"cell_type_refined\"].cat.categories]"
   ]
  },
  {
   "cell_type": "code",
   "execution_count": null,
   "id": "3149d499-7680-4165-b45d-3e57db7e56e4",
   "metadata": {},
   "outputs": [],
   "source": [
    "tp0.pull(14.5, 16.5, data=\"cell_type\", subset=\"Delta\", key_added=\"Delta_pull\")"
   ]
  },
  {
   "cell_type": "code",
   "execution_count": null,
   "id": "2ce53e8e-536a-445c-97f7-ef2b41dcd48d",
   "metadata": {},
   "outputs": [],
   "source": [
    "tp0.pull(14.5, 16.5, data=\"cell_type\", subset=\"Beta\", key_added=\"Beta_pull\")"
   ]
  },
  {
   "cell_type": "code",
   "execution_count": null,
   "id": "6e8b7760-b35e-4a5a-aeff-14ca54bb4c67",
   "metadata": {},
   "outputs": [],
   "source": [
    "tp0.pull(14.5, 16.5, data=\"cell_type\", subset=\"Fev+\", key_added=\"Fev_pull\")"
   ]
  },
  {
   "cell_type": "code",
   "execution_count": null,
   "id": "9b1c5aef-0e0e-4cb5-94b9-b50c31d92e81",
   "metadata": {},
   "outputs": [],
   "source": [
    "tp0.pull(14.5, 16.5, data=\"cell_type\", subset=\"Fev+ Alpha\", key_added=\"Fev_Alpha_pull\")"
   ]
  },
  {
   "cell_type": "code",
   "execution_count": null,
   "id": "2a0e78fa-5863-4b7b-a6f0-0b674ccabd60",
   "metadata": {},
   "outputs": [],
   "source": [
    "tp0.pull(14.5, 16.5, data=\"cell_type\", subset=\"Fev+ Beta\", key_added=\"Fev_Beta_pull\")"
   ]
  },
  {
   "cell_type": "code",
   "execution_count": null,
   "id": "d73c1eb1-a6db-4ff2-b99d-f057c0d79803",
   "metadata": {},
   "outputs": [],
   "source": [
    "tp0.pull(14.5, 16.5, data=\"cell_type\", subset=\"Alpha\", key_added=\"Alpha_pull\")"
   ]
  },
  {
   "cell_type": "code",
   "execution_count": null,
   "id": "62fa3baa-aa00-44ac-8a04-f3bff01d6bdb",
   "metadata": {},
   "outputs": [],
   "source": [
    "tp0.pull(14.5, 16.5, data=\"cell_type\", subset=\"Epsilon\", key_added=\"Epsilon_pull\")"
   ]
  },
  {
   "cell_type": "code",
   "execution_count": null,
   "id": "b55088ce-1324-4be9-b8d4-46ff9105f2b3",
   "metadata": {},
   "outputs": [],
   "source": [
    "tp0.pull(14.5, 16.5, data=\"cell_type\", subset=\"Fev+ Delta\", key_added=\"Fev_delta_pull\")"
   ]
  },
  {
   "cell_type": "code",
   "execution_count": null,
   "id": "cdf7f6d7-8078-4347-abcc-4a28a9075c1d",
   "metadata": {},
   "outputs": [],
   "source": [
    "tp0.pull(14.5, 16.5, data=\"cell_type_refined\", subset=\"Fev+ Delta,0\", key_added=\"Fev_delta0_pull\")"
   ]
  },
  {
   "cell_type": "code",
   "execution_count": null,
   "id": "785d22a1-41f8-4ac5-b420-e3f30fcf248a",
   "metadata": {},
   "outputs": [],
   "source": [
    "tp0.pull(14.5, 16.5, data=\"cell_type_refined\", subset=\"Fev+ Delta,1\", key_added=\"Fev_delta1_pull\")"
   ]
  },
  {
   "cell_type": "code",
   "execution_count": null,
   "id": "6b4b8c56-c66a-42d9-92c9-f7a870a3aef2",
   "metadata": {},
   "outputs": [],
   "source": [
    "tp0.pull(14.5, 16.5, data=\"cell_type_refined\", subset=\"Eps. progenitors\", key_added=\"Eps_prog_pull\")"
   ]
  },
  {
   "cell_type": "code",
   "execution_count": null,
   "id": "d44bdf4f-4282-4aad-a416-f3c45a9fc77f",
   "metadata": {},
   "outputs": [],
   "source": [
    "tp0.push(14.5, 16.5, data=\"cell_type\", subset=\"Fev+ Delta\", key_added=\"Fev_delta_push\")"
   ]
  },
  {
   "cell_type": "code",
   "execution_count": null,
   "id": "8c64dbb2-8c0e-4962-9f67-85fff3300c67",
   "metadata": {},
   "outputs": [],
   "source": [
    "tp0.push(14.5, 16.5, data=\"cell_type_refined\", subset=\"Fev+ Delta,0\", key_added=\"Fev_delta0_push\")"
   ]
  },
  {
   "cell_type": "code",
   "execution_count": null,
   "id": "1bbc67e6-887c-44ef-859e-bfceed3243a4",
   "metadata": {},
   "outputs": [],
   "source": [
    "tp0.push(14.5, 16.5, data=\"cell_type_refined\", subset=\"Fev+ Delta,1\", key_added=\"Fev_delta1_push\")"
   ]
  },
  {
   "cell_type": "code",
   "execution_count": null,
   "id": "2943e21c-0377-4d5c-878e-6d474fa7f8a5",
   "metadata": {},
   "outputs": [],
   "source": [
    "tp0.push(14.5, 16.5, data=\"cell_type_refined\", subset=\"Eps. progenitors\", key_added=\"Eps_prog_push\")"
   ]
  },
  {
   "cell_type": "code",
   "execution_count": null,
   "id": "e091446c-6eda-4903-82e8-16fe29ec6577",
   "metadata": {},
   "outputs": [],
   "source": [
    "tp0.push(14.5, 16.5, data=\"cell_type\", subset=\"Epsilon\", key_added=\"Epsilon_push\")"
   ]
  },
  {
   "cell_type": "code",
   "execution_count": null,
   "id": "deaf27c4-4f6e-44c5-adee-9f42286441db",
   "metadata": {},
   "outputs": [],
   "source": [
    "tp0.push(14.5, 16.5, data=\"cell_type\", subset=\"Fev+\", key_added=\"Fev_push\")"
   ]
  },
  {
   "cell_type": "code",
   "execution_count": null,
   "id": "ea799e31-8682-49e1-871b-dd9b7ebfe0e4",
   "metadata": {},
   "outputs": [],
   "source": [
    "tp0.push(14.5, 16.5, data=\"cell_type\", subset=\"Fev+ Alpha\", key_added=\"Fev_Alpha_push\")"
   ]
  },
  {
   "cell_type": "code",
   "execution_count": null,
   "id": "aaf845b2-1fc5-4eb0-ae8b-4dad1ca16eb4",
   "metadata": {},
   "outputs": [],
   "source": [
    "tp0.push(14.5, 16.5, data=\"cell_type\", subset=\"Fev+ Beta\", key_added=\"Fev_Beta_push\")"
   ]
  },
  {
   "cell_type": "code",
   "execution_count": null,
   "id": "055982c0-f42c-46f0-9bab-8dd0ed061445",
   "metadata": {},
   "outputs": [],
   "source": [
    "tp0._adata = tp0.adata[~tp0.adata.obs[\"cell_type\"].isin((\"Ngn3 high cycling\",))]\n",
    "tp0.adata.obsm[\"diff_map\"] = bdata.obsm[\"X_phate\"][:, [2,0]]\n",
    "tp0.adata.obsm[\"diff_map\"][:,1] = -tp0.adata.obsm[\"diff_map\"][:,1]"
   ]
  },
  {
   "cell_type": "code",
   "execution_count": null,
   "id": "9b780dd7-eab4-45bd-917f-bb303796fcdb",
   "metadata": {},
   "outputs": [],
   "source": [
    "with plt.rc_context({\"figure.figsize\": (5, 3), \"figure.dpi\": (300)}):\n",
    "    axes = sc.pl.embedding(tp0.adata, basis=\"diff_map\", color=\"cell_type_refined\", show=False)\n",
    "    axes.set_xlabel(\"Diffusion component 2\")\n",
    "    axes.set_ylabel(\"Diffusion component 4\")\n"
   ]
  },
  {
   "cell_type": "code",
   "execution_count": null,
   "id": "a1deb924-3a92-49ff-8b8a-8c5ec81af159",
   "metadata": {},
   "outputs": [],
   "source": [
    "axes.figure.savefig(os.path.join(output_dir, 'diffusion_refinement.png'))"
   ]
  },
  {
   "cell_type": "code",
   "execution_count": null,
   "id": "9f35568c-43d9-4fae-a8ed-cd99321ddaa4",
   "metadata": {},
   "outputs": [],
   "source": [
    "label_params = axes.get_legend_handles_labels() \n",
    "figl, axl = plt.subplots()\n",
    "axl.axis(False)\n",
    "axl.legend(*label_params, fontsize=5, loc=\"center\", markerscale=2, bbox_to_anchor=(0.5, 0.5), prop={\"size\":10})"
   ]
  },
  {
   "cell_type": "code",
   "execution_count": null,
   "id": "54461b2b-6b74-4e6e-ac18-4cd5b5876098",
   "metadata": {},
   "outputs": [],
   "source": [
    "axl.figure.savefig(os.path.join(output_dir, 'diffusion_refinement_legend_only.png'))\n"
   ]
  },
  {
   "cell_type": "code",
   "execution_count": null,
   "id": "18a71695-5562-48fe-bbde-aecda8aedb94",
   "metadata": {},
   "outputs": [],
   "source": [
    "import moscot as mt\n",
    "mt.plotting.pull(tp0, key=\"Delta_pull\", basis=\"diff_map\", time_points=[14.5, 15.5, 16.5], figsize=(15,3), dot_scale_factor=5.0, save=os.path.join(output_dir, \"Delta_pull\"))"
   ]
  },
  {
   "cell_type": "code",
   "execution_count": null,
   "id": "c125900b-d14a-4ec4-be9a-abf783e2f85f",
   "metadata": {},
   "outputs": [],
   "source": [
    "mt.plotting.pull(tp0, key=\"Alpha_pull\", basis=\"diff_map\", time_points=[14.5, 15.5, 16.5], figsize=(15,3), dot_scale_factor=5.0, save=os.path.join(output_dir, \"Alpha_pull\"))"
   ]
  },
  {
   "cell_type": "code",
   "execution_count": null,
   "id": "105f6f85-edc2-49ae-9657-1eda7fcbd3df",
   "metadata": {},
   "outputs": [],
   "source": [
    "mt.plotting.pull(tp0, key=\"Beta_pull\", basis=\"diff_map\", time_points=[14.5, 15.5, 16.5], figsize=(15,3), dot_scale_factor=5.0, save=os.path.join(output_dir, \"Beta_pull\"))"
   ]
  },
  {
   "cell_type": "code",
   "execution_count": null,
   "id": "628f14fb-38df-492c-b1a2-88ec5b559423",
   "metadata": {},
   "outputs": [],
   "source": [
    "mt.plotting.pull(tp0, key=\"Epsilon_pull\", basis=\"diff_map\", time_points=[14.5, 15.5, 16.5], figsize=(15,3), dot_scale_factor=5.0, save=os.path.join(output_dir, \"Epsilon_pull\"))"
   ]
  },
  {
   "cell_type": "code",
   "execution_count": null,
   "id": "5d02e24a-993b-42e8-b945-de117ab06852",
   "metadata": {},
   "outputs": [],
   "source": [
    "mt.plotting.pull(tp0, key=\"Fev_delta_pull\", basis=\"diff_map\", time_points=[14.5, 15.5, 16.5], figsize=(15,3), dot_scale_factor=5.0, save=os.path.join(output_dir, \"Fev_delta_pull\"))"
   ]
  },
  {
   "cell_type": "code",
   "execution_count": null,
   "id": "b4fc12d0-5de2-4537-9e5f-77cb66a271dd",
   "metadata": {},
   "outputs": [],
   "source": [
    "mt.plotting.pull(tp0, key=\"Fev_delta1_pull\", basis=\"diff_map\", time_points=[14.5, 15.5, 16.5], figsize=(15,3), dot_scale_factor=5.0, save=os.path.join(output_dir, \"Fev_delta1_pull\"))"
   ]
  },
  {
   "cell_type": "code",
   "execution_count": null,
   "id": "9c7b7789-00b0-4ae7-9951-db825ee39280",
   "metadata": {},
   "outputs": [],
   "source": [
    "mt.plotting.pull(tp0, key=\"Fev_delta0_pull\", basis=\"diff_map\", time_points=[14.5, 15.5, 16.5], figsize=(15,3), dot_scale_factor=5.0, save=os.path.join(output_dir, \"Fev_delta0_pull\"))"
   ]
  },
  {
   "cell_type": "code",
   "execution_count": null,
   "id": "90caef74-3ca4-47de-9a7f-bae0d12a52c2",
   "metadata": {},
   "outputs": [],
   "source": [
    "mt.plotting.pull(tp0, key=\"Eps_prog_pull\", basis=\"diff_map\", time_points=[14.5, 15.5, 16.5], figsize=(15,3), dot_scale_factor=5.0, save=os.path.join(output_dir, \"Eps_prog_pull\"))"
   ]
  },
  {
   "cell_type": "code",
   "execution_count": null,
   "id": "1917b542-5abd-45ac-9bc8-53b44dfaabc8",
   "metadata": {},
   "outputs": [],
   "source": [
    "mt.plotting.pull(tp0, key=\"Fev_pull\", basis=\"diff_map\", time_points=[14.5, 15.5, 16.5], figsize=(15,3), dot_scale_factor=5.0, save=os.path.join(output_dir, \"Fev_pull\"))"
   ]
  },
  {
   "cell_type": "code",
   "execution_count": null,
   "id": "44cb4fc7-dc82-4d2f-aa98-89990a6b78a4",
   "metadata": {},
   "outputs": [],
   "source": [
    "mt.plotting.pull(tp0, key=\"Fev_Alpha_pull\", basis=\"diff_map\", time_points=[14.5, 15.5, 16.5], figsize=(15,3), dot_scale_factor=5.0, save=os.path.join(output_dir, \"Fev_Alpha_pull\"))"
   ]
  },
  {
   "cell_type": "code",
   "execution_count": null,
   "id": "09025889-5bb4-4615-8e40-4576ab83f628",
   "metadata": {},
   "outputs": [],
   "source": [
    "mt.plotting.pull(tp0, key=\"Fev_Beta_pull\", basis=\"diff_map\", time_points=[14.5, 15.5, 16.5], figsize=(15,3), dot_scale_factor=5.0, save=os.path.join(output_dir, \"Fev_Beta_pull\"))"
   ]
  },
  {
   "cell_type": "markdown",
   "id": "432240e0-5b9d-4cb7-8122-3a04b10d02a8",
   "metadata": {},
   "source": [
    "## Push"
   ]
  },
  {
   "cell_type": "code",
   "execution_count": null,
   "id": "8e7a7895-2272-459e-b6ae-5409b4273d5a",
   "metadata": {},
   "outputs": [],
   "source": [
    "mt.plotting.push(tp0, key=\"Epsilon_push\", basis=\"diff_map\", time_points=[14.5, 15.5, 16.5], figsize=(15,3), dot_scale_factor=5.0, save=os.path.join(output_dir, \"Epsilon_push\"))"
   ]
  },
  {
   "cell_type": "code",
   "execution_count": null,
   "id": "b5c41383-03bb-43ec-bd48-916929ed4ec1",
   "metadata": {},
   "outputs": [],
   "source": [
    "mt.plotting.push(tp0, key=\"Fev_delta_push\", basis=\"diff_map\", time_points=[14.5, 15.5, 16.5], figsize=(15,3), dot_scale_factor=5.0, save=os.path.join(output_dir, \"Fev_delta_push\"))"
   ]
  },
  {
   "cell_type": "code",
   "execution_count": null,
   "id": "bac4cad8-5278-40c3-8c6d-673337a30d94",
   "metadata": {},
   "outputs": [],
   "source": [
    "mt.plotting.push(tp0, key=\"Fev_delta0_push\", basis=\"diff_map\", time_points=[14.5, 15.5, 16.5], figsize=(15,3), dot_scale_factor=5.0, save=os.path.join(output_dir, \"Fev_delta0_push\"))"
   ]
  },
  {
   "cell_type": "code",
   "execution_count": null,
   "id": "4b968a8f-d5b2-41af-9234-1faa29b38150",
   "metadata": {},
   "outputs": [],
   "source": [
    "mt.plotting.push(tp0, key=\"Fev_delta1_push\", basis=\"diff_map\", time_points=[14.5, 15.5, 16.5], figsize=(15,3), dot_scale_factor=5.0, save=os.path.join(output_dir, \"Fev_delta1_push\"))"
   ]
  },
  {
   "cell_type": "code",
   "execution_count": null,
   "id": "76706cc8-e1e5-49e3-8720-01ab76607a87",
   "metadata": {},
   "outputs": [],
   "source": [
    "mt.plotting.push(tp0, key=\"Fev_delta_push\", basis=\"diff_map\", time_points=[14.5, 15.5, 16.5], figsize=(15,3), dot_scale_factor=5.0, save=os.path.join(output_dir, \"Fev_delta_push\"))"
   ]
  },
  {
   "cell_type": "code",
   "execution_count": null,
   "id": "ccc4f132-b281-476e-bb5d-6093049b0e7c",
   "metadata": {},
   "outputs": [],
   "source": [
    "mt.plotting.push(tp0, key=\"Fev_push\", basis=\"diff_map\", time_points=[14.5, 15.5, 16.5], figsize=(15,3), dot_scale_factor=5.0, save=os.path.join(output_dir, \"Fev_push\"))"
   ]
  },
  {
   "cell_type": "code",
   "execution_count": null,
   "id": "6d15d8cc-e481-4576-830c-162f41f0e319",
   "metadata": {},
   "outputs": [],
   "source": [
    "mt.plotting.push(tp0, key=\"Fev_Alpha_push\", basis=\"diff_map\", time_points=[14.5, 15.5, 16.5], figsize=(15,3), dot_scale_factor=5.0, save=os.path.join(output_dir, \"Fev_Alpha_push\"))"
   ]
  },
  {
   "cell_type": "code",
   "execution_count": null,
   "id": "86ee6465-c8bb-4460-b061-fb2a89c06bc1",
   "metadata": {},
   "outputs": [],
   "source": [
    "mt.plotting.push(tp0, key=\"Fev_Beta_push\", basis=\"diff_map\", time_points=[14.5, 15.5, 16.5], figsize=(15,3), dot_scale_factor=5.0, save=os.path.join(output_dir, \"Fev_Beta_push\"))"
   ]
  },
  {
   "cell_type": "code",
   "execution_count": null,
   "id": "8d22ee7e-ba22-4771-a9a5-c1c11e4a69f4",
   "metadata": {},
   "outputs": [],
   "source": [
    "mt.plotting.push(tp0, key=\"Eps_prog_push\", basis=\"diff_map\", time_points=[14.5, 15.5, 16.5], figsize=(15,3), dot_scale_factor=5.0, save=os.path.join(output_dir, \"Eps_prog_push\"))"
   ]
  },
  {
   "cell_type": "code",
   "execution_count": null,
   "id": "203d28dd-c44f-468b-b939-9d56de76f8eb",
   "metadata": {},
   "outputs": [],
   "source": []
  }
 ],
 "metadata": {
  "kernelspec": {
   "display_name": "moscot_up",
   "language": "python",
   "name": "moscot_up"
  },
  "language_info": {
   "codemirror_mode": {
    "name": "ipython",
    "version": 3
   },
   "file_extension": ".py",
   "mimetype": "text/x-python",
   "name": "python",
   "nbconvert_exporter": "python",
   "pygments_lexer": "ipython3",
   "version": "3.11.5"
  }
 },
 "nbformat": 4,
 "nbformat_minor": 5
}
