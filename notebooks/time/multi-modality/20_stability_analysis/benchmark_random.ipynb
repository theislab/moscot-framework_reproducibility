{
 "cells": [
  {
   "cell_type": "code",
   "execution_count": 1,
   "id": "102a3045-e93c-4d18-b54e-af380fb9535e",
   "metadata": {},
   "outputs": [
    {
     "name": "stderr",
     "output_type": "stream",
     "text": [
      "/home/icb/dominik.klein/mambaforge/envs/moscot_up/lib/python3.11/site-packages/umap/distances.py:1063: NumbaDeprecationWarning: \u001b[1mThe 'nopython' keyword argument was not supplied to the 'numba.jit' decorator. The implicit default value for this argument is currently False, but it will be changed to True in Numba 0.59.0. See https://numba.readthedocs.io/en/stable/reference/deprecation.html#deprecation-of-object-mode-fall-back-behaviour-when-using-jit for details.\u001b[0m\n",
      "  @numba.jit()\n",
      "/home/icb/dominik.klein/mambaforge/envs/moscot_up/lib/python3.11/site-packages/umap/distances.py:1071: NumbaDeprecationWarning: \u001b[1mThe 'nopython' keyword argument was not supplied to the 'numba.jit' decorator. The implicit default value for this argument is currently False, but it will be changed to True in Numba 0.59.0. See https://numba.readthedocs.io/en/stable/reference/deprecation.html#deprecation-of-object-mode-fall-back-behaviour-when-using-jit for details.\u001b[0m\n",
      "  @numba.jit()\n",
      "/home/icb/dominik.klein/mambaforge/envs/moscot_up/lib/python3.11/site-packages/umap/distances.py:1086: NumbaDeprecationWarning: \u001b[1mThe 'nopython' keyword argument was not supplied to the 'numba.jit' decorator. The implicit default value for this argument is currently False, but it will be changed to True in Numba 0.59.0. See https://numba.readthedocs.io/en/stable/reference/deprecation.html#deprecation-of-object-mode-fall-back-behaviour-when-using-jit for details.\u001b[0m\n",
      "  @numba.jit()\n",
      "/home/icb/dominik.klein/mambaforge/envs/moscot_up/lib/python3.11/site-packages/tqdm/auto.py:21: TqdmWarning: IProgress not found. Please update jupyter and ipywidgets. See https://ipywidgets.readthedocs.io/en/stable/user_install.html\n",
      "  from .autonotebook import tqdm as notebook_tqdm\n",
      "/home/icb/dominik.klein/mambaforge/envs/moscot_up/lib/python3.11/site-packages/umap/umap_.py:660: NumbaDeprecationWarning: \u001b[1mThe 'nopython' keyword argument was not supplied to the 'numba.jit' decorator. The implicit default value for this argument is currently False, but it will be changed to True in Numba 0.59.0. See https://numba.readthedocs.io/en/stable/reference/deprecation.html#deprecation-of-object-mode-fall-back-behaviour-when-using-jit for details.\u001b[0m\n",
      "  @numba.jit()\n"
     ]
    },
    {
     "name": "stdout",
     "output_type": "stream",
     "text": [
      "['default', 'despine']\n"
     ]
    }
   ],
   "source": [
    "import scanpy as sc\n",
    "import numpy as np\n",
    "import seaborn as sns\n",
    "import matplotlib.pyplot as plt\n",
    "import moscot\n",
    "from moscot.problems.time import TemporalProblem\n",
    "import moscot.plotting as mpl\n",
    "import pandas as pd\n",
    "import os\n",
    "import muon\n",
    "from ott.geometry import pointcloud, geometry\n",
    "from sklearn.preprocessing import StandardScaler\n",
    "import networkx as nx\n",
    "import itertools\n",
    "import anndata\n",
    "from mudata import MuData\n",
    "import jax.numpy as jnp\n",
    "from typing import Dict, Tuple\n",
    "from ott import tools\n",
    "from tqdm import tqdm\n",
    "import jax\n",
    "sc.set_figure_params(scanpy=True, dpi=80, dpi_save=200)\n",
    "                         \n",
    "import mplscience\n",
    "\n",
    "mplscience.available_styles()\n",
    "mplscience.set_style(reset_current=True)\n",
    "plt.rcParams['legend.scatterpoints'] = 1 "
   ]
  },
  {
   "cell_type": "code",
   "execution_count": 2,
   "id": "e74e7c2b-fdcf-42df-9044-873f51a70228",
   "metadata": {},
   "outputs": [],
   "source": [
    "output_dir = \"/lustre/groups/ml01/workspace/moscot_paper/pancreas_revision/stability_analysis\""
   ]
  },
  {
   "cell_type": "code",
   "execution_count": 3,
   "id": "40ff2681-e7aa-4fba-8d50-f874d125f059",
   "metadata": {},
   "outputs": [],
   "source": [
    "mudata = muon.read(\"/lustre/groups/ml01/workspace/moscot_paper/pancreas_revision/mudata_with_annotation_all.h5mu\")\n",
    "\n",
    "endocrine_celltypes = [\n",
    "    \"Ngn3 low\",\n",
    "    \"Ngn3 high\",\n",
    "    \"Ngn3 high cycling\",\n",
    "    \"Fev+\",\n",
    "    \"Fev+ Alpha\",\n",
    "    \"Fev+ Beta\",\n",
    "    \"Fev+ Delta\",\n",
    "    \"Eps. progenitors\",\n",
    "    \"Alpha\",\n",
    "    \"Beta\",\n",
    "    \"Delta\",\n",
    "    \"Epsilon\"\n",
    "]\n",
    "\n",
    "mudata = mudata[mudata.obs[\"cell_type\"].isin(endocrine_celltypes)].copy()"
   ]
  },
  {
   "cell_type": "code",
   "execution_count": 4,
   "id": "05612f75-3487-4fe9-88e8-727d8924ef7f",
   "metadata": {},
   "outputs": [
    {
     "data": {
      "text/plain": [
       "MuAxisArrays with keys: X_MultiVI, X_umap, atac, rna"
      ]
     },
     "execution_count": 4,
     "metadata": {},
     "output_type": "execute_result"
    }
   ],
   "source": [
    "mudata.obsm"
   ]
  },
  {
   "cell_type": "code",
   "execution_count": 5,
   "id": "35723d2d-4c3b-4c81-b180-0199a7c7dc91",
   "metadata": {},
   "outputs": [
    {
     "name": "stderr",
     "output_type": "stream",
     "text": [
      "CUDA backend failed to initialize: Found CUDA version 12020, but JAX was built against version 12030, which is newer. The copy of CUDA that is installed must be at least as new as the version against which JAX was built. (Set TF_CPP_MIN_LOG_LEVEL=0 and rerun for more info.)\n"
     ]
    }
   ],
   "source": [
    "cm = jnp.ones((144, 144)) - jnp.eye(144)\n",
    "\n",
    "def compute_metrics(df_reference: jax.Array, df: pd.DataFrame, emb_0: str, emb_1: str, cost_0: str, cost_1: str) -> pd.DataFrame:\n",
    "    \n",
    "    sink_div = tools.sinkhorn_divergence.sinkhorn_divergence(geometry.Geometry, cost_matrix=(cm,cm,cm), a=df_reference.values.flatten(), b=df.values.flatten(), epsilon=1e-3).divergence\n",
    "    eps_from_eps_prog = df.loc[\"Eps. progenitors\", \"Epsilon\"]\n",
    "    delta_from_fev_delta = df.loc[\"Fev+ Delta\", \"Delta\"]\n",
    "    fev_delta_from_eps_prog = df.loc[\"Eps. progenitors\", \"Fev+ Delta\"]\n",
    "    eps_from_fev_delta = df.loc[\"Fev+ Delta\", \"Epsilon\"]\n",
    "    beta_from_fev_beta = df.loc[\"Fev+ Beta\", \"Beta\"]\n",
    "    delta_from_ngn3_low = df.loc[\"Ngn3 low\", \"Delta\"]\n",
    "    print(emb_0 , emb_1, cost_0, cost_1, sink_div)\n",
    "    print(eps_from_eps_prog, delta_from_fev_delta, fev_delta_from_eps_prog, eps_from_fev_delta)\n",
    "    data = [[str(emb_0),str(emb_0), str(cost_0), str(cost_1), sink_div, eps_from_eps_prog, delta_from_fev_delta, fev_delta_from_eps_prog, eps_from_fev_delta, beta_from_fev_beta, delta_from_ngn3_low]]\n",
    "    \n",
    "    return pd.DataFrame(data=data, columns=[\"emb_0\", \"emb_1\", \"cost_0\", \"cost_1\", \"sink_div\", \"eps_from_eps_prog\", \"delta_from_fev_delta\", \"fev_delta_from_eps_prog\", \"eps_from_fev_delta\", \"beta_from_fev_beta\", \"delta_from_ngn3_low\"])\n",
    "                              \n",
    "                                      "
   ]
  },
  {
   "cell_type": "code",
   "execution_count": 6,
   "id": "e1995b9d-a9b8-4c08-acc2-a5a5e33f3ff8",
   "metadata": {},
   "outputs": [],
   "source": [
    "tp_reference = TemporalProblem.load(\"/lustre/groups/ml01/workspace/moscot_paper/pancreas_revision/plots/OT_encodrine_analysis/TemporalProblem.pkl\")\n"
   ]
  },
  {
   "cell_type": "code",
   "execution_count": 7,
   "id": "da278e9c-2372-4510-bdb3-6c1310ac6e0b",
   "metadata": {},
   "outputs": [],
   "source": [
    "metrics_early = pd.DataFrame(columns=[\"emb\", \"cost_0\", \"cost_1\", \"sink_div\", \"eps_from_eps_prog\", \"delta_from_fev_delta\", \"fev_delta_from_eps_prog\", \"eps_from_fev_delta\", \"beta_from_fev_beta\", \"delta_from_ngn3_low\"])\n",
    "metrics_late= pd.DataFrame(columns=[\"emb\", \"cost_0\", \"cost_1\", \"sink_div\", \"eps_from_eps_prog\", \"delta_from_fev_delta\", \"fev_delta_from_eps_prog\", \"eps_from_fev_delta\", \"beta_from_fev_beta\", \"delta_from_ngn3_low\"])"
   ]
  },
  {
   "cell_type": "code",
   "execution_count": 8,
   "id": "b2fac020-195e-4653-ba02-5019225a63b0",
   "metadata": {},
   "outputs": [],
   "source": [
    "order_cell_types = list(tp_reference.adata.obs[\"cell_type\"].cat.categories)"
   ]
  },
  {
   "cell_type": "code",
   "execution_count": 9,
   "id": "68dd00e5-7b3f-4f03-8306-7d204da6980d",
   "metadata": {},
   "outputs": [],
   "source": [
    "outer_tmat_early = np.ones(tp_reference[14.5, 15.5].shape)\n",
    "outer_tmat_late = np.ones(tp_reference[15.5, 16.5].shape)\n",
    "\n",
    "outer_tmat_early /= (outer_tmat_early.shape[0]*outer_tmat_early.shape[1])\n",
    "outer_tmat_late /= (outer_tmat_late.shape[0]*outer_tmat_late.shape[1])"
   ]
  },
  {
   "cell_type": "code",
   "execution_count": 10,
   "id": "b0bf0373-aa64-4479-9c30-40d069c8a967",
   "metadata": {},
   "outputs": [
    {
     "name": "stdout",
     "output_type": "stream",
     "text": [
      "ref ref ref ref 6.8868113\n",
      "0.034236504935937835 0.025204788909892875 0.03423650493593782 0.02520478890989288\n",
      "ref ref ref ref 7.550257\n",
      "0.019093539054966253 0.025458052073288332 0.01909353905496625 0.025458052073288336\n"
     ]
    }
   ],
   "source": [
    "reference_tmap_early = tp_reference.cell_transition(14.5, 15.5, {\"cell_type\": order_cell_types}, {\"cell_type\": order_cell_types}, forward=False)\n",
    "reference_tmap_late = tp_reference.cell_transition(15.5, 16.5, {\"cell_type\": order_cell_types}, {\"cell_type\": order_cell_types}, forward=False)\n",
    "\n",
    "tp = TemporalProblem(tp_reference.adata)\n",
    "tp = tp.prepare(\"time\", joint_attr=\"X_pca\")\n",
    "\n",
    "tp[14.5, 15.5].set_solution(outer_tmat_early)\n",
    "tp[15.5, 16.5].set_solution(outer_tmat_late)\n",
    "\n",
    "\n",
    "df_early = tp.cell_transition(14.5, 15.5, {\"cell_type\": order_cell_types}, {\"cell_type\": order_cell_types}, forward=False)\n",
    "df_late = tp.cell_transition(15.5, 16.5, {\"cell_type\": order_cell_types}, {\"cell_type\": order_cell_types}, forward=False)\n",
    "metrics_early = pd.concat((metrics_early, compute_metrics(reference_tmap_early, df_early,\"ref\", \"ref\", \"ref\", \"ref\")))\n",
    "metrics_late = pd.concat((metrics_late, compute_metrics(reference_tmap_late, df_late, \"ref\", \"ref\", \"ref\", \"ref\")))"
   ]
  },
  {
   "cell_type": "code",
   "execution_count": 11,
   "id": "48ae7ba0-7445-470d-a8ba-f8b2c9019ddd",
   "metadata": {},
   "outputs": [],
   "source": [
    "metrics_early.to_csv(os.path.join(output_dir, f\"stability_metrics_early_outer.csv\"))\n",
    "metrics_late.to_csv(os.path.join(output_dir, f\"stability_metrics_late_outer.csv\"))"
   ]
  },
  {
   "cell_type": "code",
   "execution_count": null,
   "id": "065deae3-7429-447c-9b52-8ac666eaa1fa",
   "metadata": {},
   "outputs": [],
   "source": []
  }
 ],
 "metadata": {
  "kernelspec": {
   "display_name": "moscot_up",
   "language": "python",
   "name": "moscot_up"
  },
  "language_info": {
   "codemirror_mode": {
    "name": "ipython",
    "version": 3
   },
   "file_extension": ".py",
   "mimetype": "text/x-python",
   "name": "python",
   "nbconvert_exporter": "python",
   "pygments_lexer": "ipython3",
   "version": "3.11.5"
  }
 },
 "nbformat": 4,
 "nbformat_minor": 5
}
