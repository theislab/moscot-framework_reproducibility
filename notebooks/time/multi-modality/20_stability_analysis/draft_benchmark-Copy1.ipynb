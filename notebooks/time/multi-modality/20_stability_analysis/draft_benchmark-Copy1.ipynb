{
 "cells": [
  {
   "cell_type": "code",
   "execution_count": 1,
   "id": "65832707-7632-490d-bb1f-319c02888ed2",
   "metadata": {},
   "outputs": [
    {
     "name": "stderr",
     "output_type": "stream",
     "text": [
      "/tmp/ipykernel_3502114/2441880800.py:2: DeprecationWarning: Accessing jax.config via the jax.config submodule is deprecated.\n",
      "  from jax.config import config\n"
     ]
    }
   ],
   "source": [
    "import jax\n",
    "from jax import config\n",
    "config.update(\"jax_enable_x64\", True)"
   ]
  },
  {
   "cell_type": "code",
   "execution_count": 2,
   "id": "102a3045-e93c-4d18-b54e-af380fb9535e",
   "metadata": {},
   "outputs": [
    {
     "name": "stderr",
     "output_type": "stream",
     "text": [
      "/home/icb/dominik.klein/mambaforge/envs/moscot_up/lib/python3.11/site-packages/umap/distances.py:1063: NumbaDeprecationWarning: \u001b[1mThe 'nopython' keyword argument was not supplied to the 'numba.jit' decorator. The implicit default value for this argument is currently False, but it will be changed to True in Numba 0.59.0. See https://numba.readthedocs.io/en/stable/reference/deprecation.html#deprecation-of-object-mode-fall-back-behaviour-when-using-jit for details.\u001b[0m\n",
      "  @numba.jit()\n",
      "/home/icb/dominik.klein/mambaforge/envs/moscot_up/lib/python3.11/site-packages/umap/distances.py:1071: NumbaDeprecationWarning: \u001b[1mThe 'nopython' keyword argument was not supplied to the 'numba.jit' decorator. The implicit default value for this argument is currently False, but it will be changed to True in Numba 0.59.0. See https://numba.readthedocs.io/en/stable/reference/deprecation.html#deprecation-of-object-mode-fall-back-behaviour-when-using-jit for details.\u001b[0m\n",
      "  @numba.jit()\n",
      "/home/icb/dominik.klein/mambaforge/envs/moscot_up/lib/python3.11/site-packages/umap/distances.py:1086: NumbaDeprecationWarning: \u001b[1mThe 'nopython' keyword argument was not supplied to the 'numba.jit' decorator. The implicit default value for this argument is currently False, but it will be changed to True in Numba 0.59.0. See https://numba.readthedocs.io/en/stable/reference/deprecation.html#deprecation-of-object-mode-fall-back-behaviour-when-using-jit for details.\u001b[0m\n",
      "  @numba.jit()\n",
      "/home/icb/dominik.klein/mambaforge/envs/moscot_up/lib/python3.11/site-packages/tqdm/auto.py:21: TqdmWarning: IProgress not found. Please update jupyter and ipywidgets. See https://ipywidgets.readthedocs.io/en/stable/user_install.html\n",
      "  from .autonotebook import tqdm as notebook_tqdm\n",
      "/home/icb/dominik.klein/mambaforge/envs/moscot_up/lib/python3.11/site-packages/umap/umap_.py:660: NumbaDeprecationWarning: \u001b[1mThe 'nopython' keyword argument was not supplied to the 'numba.jit' decorator. The implicit default value for this argument is currently False, but it will be changed to True in Numba 0.59.0. See https://numba.readthedocs.io/en/stable/reference/deprecation.html#deprecation-of-object-mode-fall-back-behaviour-when-using-jit for details.\u001b[0m\n",
      "  @numba.jit()\n"
     ]
    },
    {
     "name": "stdout",
     "output_type": "stream",
     "text": [
      "['default', 'despine']\n"
     ]
    }
   ],
   "source": [
    "import scanpy as sc\n",
    "import numpy as np\n",
    "import seaborn as sns\n",
    "import matplotlib.pyplot as plt\n",
    "import moscot\n",
    "from moscot.problems.time import TemporalProblem\n",
    "import moscot.plotting as mpl\n",
    "import pandas as pd\n",
    "import os\n",
    "import muon\n",
    "from ott.geometry import pointcloud\n",
    "from sklearn.preprocessing import StandardScaler\n",
    "import networkx as nx\n",
    "import itertools\n",
    "import anndata\n",
    "from mudata import MuData\n",
    "import jax.numpy as jnp\n",
    "from typing import Dict, Tuple\n",
    "from ott import tools\n",
    "from tqdm import tqdm\n",
    "import jax\n",
    "sc.set_figure_params(scanpy=True, dpi=80, dpi_save=200)\n",
    "                         \n",
    "import mplscience\n",
    "\n",
    "mplscience.available_styles()\n",
    "mplscience.set_style(reset_current=True)\n",
    "plt.rcParams['legend.scatterpoints'] = 1 "
   ]
  },
  {
   "cell_type": "code",
   "execution_count": 3,
   "id": "e74e7c2b-fdcf-42df-9044-873f51a70228",
   "metadata": {},
   "outputs": [],
   "source": [
    "output_dir = \"/lustre/groups/ml01/workspace/moscot_paper/pancreas_revision/stability_analysis\""
   ]
  },
  {
   "cell_type": "code",
   "execution_count": 4,
   "id": "40ff2681-e7aa-4fba-8d50-f874d125f059",
   "metadata": {},
   "outputs": [],
   "source": [
    "mudata = muon.read(\"/lustre/groups/ml01/workspace/moscot_paper/pancreas_revision/mudata_with_annotation_all.h5mu\")\n",
    "\n",
    "endocrine_celltypes = [\n",
    "    \"Ngn3 low\",\n",
    "    \"Ngn3 high\",\n",
    "    \"Ngn3 high cycling\",\n",
    "    \"Fev+\",\n",
    "    \"Fev+ Alpha\",\n",
    "    \"Fev+ Beta\",\n",
    "    \"Fev+ Delta\",\n",
    "    \"Eps. progenitors\",\n",
    "    \"Alpha\",\n",
    "    \"Beta\",\n",
    "    \"Delta\",\n",
    "    \"Epsilon\"\n",
    "]\n",
    "\n",
    "mudata = mudata[mudata.obs[\"cell_type\"].isin(endocrine_celltypes)].copy()"
   ]
  },
  {
   "cell_type": "code",
   "execution_count": 5,
   "id": "05612f75-3487-4fe9-88e8-727d8924ef7f",
   "metadata": {},
   "outputs": [
    {
     "data": {
      "text/plain": [
       "MuAxisArrays with keys: X_MultiVI, X_umap, atac, rna"
      ]
     },
     "execution_count": 5,
     "metadata": {},
     "output_type": "execute_result"
    }
   ],
   "source": [
    "mudata.obsm"
   ]
  },
  {
   "cell_type": "code",
   "execution_count": 6,
   "id": "85ec32cc-d0a0-4486-8b54-bf60f0daa4af",
   "metadata": {},
   "outputs": [],
   "source": [
    "RNA_emb = [None, \"X_pca\", \"X_scVI\"]\n",
    "ATAC_emb = [None, \"X_lsi\", \"X_poissonvi\"]\n",
    "\n"
   ]
  },
  {
   "cell_type": "code",
   "execution_count": 7,
   "id": "f8541185-9439-42b1-b7b3-615b06e1db33",
   "metadata": {},
   "outputs": [],
   "source": [
    "EMBEDDINGS = [\"X_MultiVI\"]"
   ]
  },
  {
   "cell_type": "code",
   "execution_count": 8,
   "id": "e1fbb12f-34be-4992-813b-23e412912130",
   "metadata": {},
   "outputs": [],
   "source": [
    "COSTS = [(\"geodesic\", 5)]"
   ]
  },
  {
   "cell_type": "code",
   "execution_count": null,
   "id": "71b80f6a-76c7-4b62-8a68-78d304a9b393",
   "metadata": {},
   "outputs": [],
   "source": []
  },
  {
   "cell_type": "code",
   "execution_count": 9,
   "id": "c309aba4-cf96-44ee-8d61-552666f601ba",
   "metadata": {},
   "outputs": [],
   "source": [
    "EMB = \"embedding\""
   ]
  },
  {
   "cell_type": "code",
   "execution_count": 10,
   "id": "b6107e8e-7435-4eb0-ae46-bc3c1f701a83",
   "metadata": {},
   "outputs": [],
   "source": [
    "def adapt_time(x):\n",
    "        if x[\"stage\"]==\"E14.5\":\n",
    "            return 14.5\n",
    "        if x[\"stage\"]==\"E15.5\":\n",
    "            return 15.5\n",
    "        if x[\"stage\"]==\"E16.5\":\n",
    "            return 16.5\n",
    "        raise ValueError\n",
    "    \n",
    "def create_adata(mudata: MuData, embedding: str) -> anndata.AnnData:\n",
    "\n",
    "    adata = mudata[\"rna\"]\n",
    "    adata.obs[\"cell_type_refined\"] = mudata.obs[\"cell_type_refined\"]\n",
    "    adata.obs['time'] = adata.obs.apply(adapt_time, axis=1).astype(\"category\")\n",
    "    if embedding == \"X_MultiVI\":\n",
    "        adata.obsm[EMB] = mudata.obsm[embedding].copy()\n",
    "    elif len(embedding)==2:\n",
    "        rna_embedding, atac_embedding = embedding\n",
    "        if rna_embedding is not None:\n",
    "            rna_emb = mudata[\"rna\"].obsm[rna_embedding]\n",
    "            rna_emb_scaled = StandardScaler().fit_transform(rna_emb)\n",
    "        if atac_embedding is not None:\n",
    "            atac_emb = mudata[\"atac\"].obsm[atac_embedding]\n",
    "            atac_emb_scaled = StandardScaler().fit_transform(atac_emb)\n",
    "        if rna_embedding is not None and atac_embedding is not None:\n",
    "            emb = np.concatenate((rna_emb, atac_emb), axis=1)\n",
    "        elif rna_embedding is None and atac_embedding is not None:\n",
    "            emb = atac_emb\n",
    "        elif rna_embedding is not None and atac_embedding is None:\n",
    "            emb = rna_emb\n",
    "        else:\n",
    "            raise NotImplementedError\n",
    "    \n",
    "        adata.obsm[EMB] = emb\n",
    "        return adata\n",
    "    raise NotImplementedError\n",
    "\n",
    "\n",
    "def create_graphs(adata: anndata.AnnData, n_neighbors: int) -> Dict[Tuple, pd.DataFrame]:\n",
    "    dfs = {}\n",
    "    batch_column = \"time\"\n",
    "    unique_batches = [14.5, 15.5, 16.5]\n",
    "    for i in range(len(unique_batches) - 1):\n",
    "        batch1 = unique_batches[i]\n",
    "        batch2 = unique_batches[i + 1]\n",
    "    \n",
    "        indices = np.where((adata.obs[batch_column] == batch1) | (adata.obs[batch_column] == batch2))[0]\n",
    "        adata_subset = adata[indices]\n",
    "        sc.pp.neighbors(adata_subset, use_rep=EMB, n_neighbors=n_neighbors)\n",
    "        G = nx.from_numpy_array(adata_subset.obsp[\"connectivities\"].A)\n",
    "        assert nx.is_connected(G)\n",
    "    \n",
    "        dfs[(batch1, batch2)] = (\n",
    "            pd.DataFrame(\n",
    "                index=adata_subset.obs_names,\n",
    "                columns=adata_subset.obs_names,\n",
    "                data=adata_subset.obsp[\"connectivities\"].A.astype(\"float\"),\n",
    "            )\n",
    "        )\n",
    "    return dfs"
   ]
  },
  {
   "cell_type": "code",
   "execution_count": 11,
   "id": "35723d2d-4c3b-4c81-b180-0199a7c7dc91",
   "metadata": {},
   "outputs": [
    {
     "name": "stderr",
     "output_type": "stream",
     "text": [
      "CUDA backend failed to initialize: Found CUDA version 12020, but JAX was built against version 12030, which is newer. The copy of CUDA that is installed must be at least as new as the version against which JAX was built. (Set TF_CPP_MIN_LOG_LEVEL=0 and rerun for more info.)\n"
     ]
    }
   ],
   "source": [
    "cm = jnp.ones((144, 144)) - jnp.eye(144)\n",
    "\n",
    "def compute_metrics(df_reference: jax.Array, df: pd.DataFrame, emb: str, cost_0: str, cost_1: str) -> pd.DataFrame:\n",
    "    \n",
    "    sink_div = tools.sinkhorn_divergence.sinkhorn_divergence(geometry.Geometry, cost_matrix=(cm,cm,cm), a=df_reference.values.flatten(), b=df.values.flatten(), epsilon=1e-3).divergence\n",
    "    eps_from_eps_prog = df.loc[\"Eps. progenitors\", \"Epsilon\"]\n",
    "    delta_from_fev_delta = df.loc[\"Delta\", \"Fev+ Delta\"]\n",
    "    fev_delta_from_eps_prog = df.loc[\"Eps. progenitors\", \"Fev+ Delta\"]\n",
    "    eps_from_fev_delta = df.loc[\"Fev+ Delta\", \"Epsilon\"]\n",
    "    print(emb, cost_0, cost_1, sink_div)\n",
    "    print(eps_from_eps_prog, delta_from_fev_delta, fev_delta_from_eps_prog, eps_from_fev_delta)\n",
    "    data = [[str(emb), str(cost_0), str(cost_1), sink_div, eps_from_eps_prog, delta_from_fev_delta, fev_delta_from_eps_prog, eps_from_fev_delta]]\n",
    "    \n",
    "    return pd.DataFrame(data=data, columns=[\"emb\", \"cost_0\", \"cost_1\", \"sink_div\", \"eps_from_eps_prog\", \"delta_from_dev_delta\", \"fev_delta_from_eps_prog\", \"eps_from_fev_delta\"])\n",
    "                            \n",
    "                                      "
   ]
  },
  {
   "cell_type": "code",
   "execution_count": 11,
   "id": "e1995b9d-a9b8-4c08-acc2-a5a5e33f3ff8",
   "metadata": {},
   "outputs": [],
   "source": [
    "#tp_reference = TemporalProblem.load(\"/lustre/groups/ml01/workspace/moscot_paper/pancreas_revision/plots/OT_encodrine_analysis/TemporalProblem.pkl\")\n"
   ]
  },
  {
   "cell_type": "code",
   "execution_count": 12,
   "id": "da278e9c-2372-4510-bdb3-6c1310ac6e0b",
   "metadata": {},
   "outputs": [],
   "source": [
    "metrics_early = pd.DataFrame(columns=[\"emb\", \"cost_0\", \"cost_1\", \"sink_div\", \"eps_from_eps_prog\", \"delta_from_dev_delta\", \"fev_delta_from_eps_prog\", \"eps_from_fev_delta\"])\n",
    "metrics_late= pd.DataFrame(columns=[\"emb\", \"cost_0\", \"cost_1\", \"sink_div\", \"eps_from_eps_prog\", \"delta_from_dev_delta\", \"fev_delta_from_eps_prog\", \"eps_from_fev_delta\"])"
   ]
  },
  {
   "cell_type": "code",
   "execution_count": 13,
   "id": "b2fac020-195e-4653-ba02-5019225a63b0",
   "metadata": {},
   "outputs": [
    {
     "ename": "NameError",
     "evalue": "name 'adata' is not defined",
     "output_type": "error",
     "traceback": [
      "\u001b[0;31m---------------------------------------------------------------------------\u001b[0m",
      "\u001b[0;31mNameError\u001b[0m                                 Traceback (most recent call last)",
      "Cell \u001b[0;32mIn[13], line 1\u001b[0m\n\u001b[0;32m----> 1\u001b[0m order_cell_types \u001b[38;5;241m=\u001b[39m \u001b[38;5;28mlist\u001b[39m(adata\u001b[38;5;241m.\u001b[39mobs[\u001b[38;5;124m\"\u001b[39m\u001b[38;5;124mcell_type\u001b[39m\u001b[38;5;124m\"\u001b[39m]\u001b[38;5;241m.\u001b[39mcat\u001b[38;5;241m.\u001b[39mcategories)\n",
      "\u001b[0;31mNameError\u001b[0m: name 'adata' is not defined"
     ]
    }
   ],
   "source": [
    "order_cell_types = list(adata.obs[\"cell_type\"].cat.categories)"
   ]
  },
  {
   "cell_type": "code",
   "execution_count": 18,
   "id": "dc3ac970-c760-4d2d-aec9-441bc17e88bf",
   "metadata": {},
   "outputs": [
    {
     "name": "stdout",
     "output_type": "stream",
     "text": [
      "rna_emb None\n",
      "atac_emb None\n"
     ]
    },
    {
     "ename": "NotImplementedError",
     "evalue": "",
     "output_type": "error",
     "traceback": [
      "\u001b[0;31m---------------------------------------------------------------------------\u001b[0m",
      "\u001b[0;31mNotImplementedError\u001b[0m                       Traceback (most recent call last)",
      "Cell \u001b[0;32mIn[18], line 97\u001b[0m\n\u001b[1;32m     91\u001b[0m metrics_late\u001b[38;5;241m=\u001b[39m pd\u001b[38;5;241m.\u001b[39mDataFrame(columns\u001b[38;5;241m=\u001b[39m[\u001b[38;5;124m\"\u001b[39m\u001b[38;5;124memb_0\u001b[39m\u001b[38;5;124m\"\u001b[39m, \u001b[38;5;124m\"\u001b[39m\u001b[38;5;124memb_1\u001b[39m\u001b[38;5;124m\"\u001b[39m, \u001b[38;5;124m\"\u001b[39m\u001b[38;5;124mcost_0\u001b[39m\u001b[38;5;124m\"\u001b[39m, \u001b[38;5;124m\"\u001b[39m\u001b[38;5;124mcost_1\u001b[39m\u001b[38;5;124m\"\u001b[39m, \u001b[38;5;124m\"\u001b[39m\u001b[38;5;124msink_div\u001b[39m\u001b[38;5;124m\"\u001b[39m, \u001b[38;5;124m\"\u001b[39m\u001b[38;5;124meps_from_eps_prog\u001b[39m\u001b[38;5;124m\"\u001b[39m, \u001b[38;5;124m\"\u001b[39m\u001b[38;5;124mdelta_from_fev_delta\u001b[39m\u001b[38;5;124m\"\u001b[39m, \u001b[38;5;124m\"\u001b[39m\u001b[38;5;124mfev_delta_from_eps_prog\u001b[39m\u001b[38;5;124m\"\u001b[39m, \u001b[38;5;124m\"\u001b[39m\u001b[38;5;124meps_from_fev_delta\u001b[39m\u001b[38;5;124m\"\u001b[39m, \u001b[38;5;124m\"\u001b[39m\u001b[38;5;124mbeta_from_fev_beta\u001b[39m\u001b[38;5;124m\"\u001b[39m])\n\u001b[1;32m     94\u001b[0m \u001b[38;5;66;03m#reference_tmap_early = tp_reference.cell_transition(14.5, 15.5, {\"cell_type\": order_cell_types}, {\"cell_type\": order_cell_types}, forward=False)\u001b[39;00m\n\u001b[1;32m     95\u001b[0m \u001b[38;5;66;03m#reference_tmap_late = tp_reference.cell_transition(15.5, 16.5, {\"cell_type\": order_cell_types}, {\"cell_type\": order_cell_types}, forward=False)\u001b[39;00m\n\u001b[0;32m---> 97\u001b[0m adata \u001b[38;5;241m=\u001b[39m create_adata(mudata, emb_1, emb_2)\n\u001b[1;32m     99\u001b[0m tp \u001b[38;5;241m=\u001b[39m TemporalProblem(adata)\n\u001b[1;32m    100\u001b[0m tp \u001b[38;5;241m=\u001b[39m tp\u001b[38;5;241m.\u001b[39mprepare(\u001b[38;5;124m\"\u001b[39m\u001b[38;5;124mtime\u001b[39m\u001b[38;5;124m\"\u001b[39m, joint_attr\u001b[38;5;241m=\u001b[39mEMB, cost\u001b[38;5;241m=\u001b[39mcost_1 \u001b[38;5;28;01mif\u001b[39;00m cost_1\u001b[38;5;241m!=\u001b[39m\u001b[38;5;124m\"\u001b[39m\u001b[38;5;124mgeodesic\u001b[39m\u001b[38;5;124m\"\u001b[39m \u001b[38;5;28;01melse\u001b[39;00m \u001b[38;5;124m\"\u001b[39m\u001b[38;5;124msq_euclidean\u001b[39m\u001b[38;5;124m\"\u001b[39m)\n",
      "Cell \u001b[0;32mIn[18], line 40\u001b[0m, in \u001b[0;36mcreate_adata\u001b[0;34m(mudata, rna_embedding, atac_embedding)\u001b[0m\n\u001b[1;32m     38\u001b[0m     emb \u001b[38;5;241m=\u001b[39m rna_emb\n\u001b[1;32m     39\u001b[0m \u001b[38;5;28;01melse\u001b[39;00m:\n\u001b[0;32m---> 40\u001b[0m     \u001b[38;5;28;01mraise\u001b[39;00m \u001b[38;5;167;01mNotImplementedError\u001b[39;00m\n\u001b[1;32m     42\u001b[0m adata\u001b[38;5;241m.\u001b[39mobsm[EMB] \u001b[38;5;241m=\u001b[39m emb\n\u001b[1;32m     43\u001b[0m \u001b[38;5;28;01mreturn\u001b[39;00m adata\n",
      "\u001b[0;31mNotImplementedError\u001b[0m: "
     ]
    }
   ],
   "source": [
    "emb_1 = None#\"X_pca\"#arguments[1] if arguments[1] != \"None\" else None\n",
    "emb_2 = None#\"X_poissonvi\" #None#arguments[2] if arguments[2] != \"None\" else None\n",
    "cost_1 = \"geodesic\"#arguments[3] if arguments[3] != \"None\" else None\n",
    "cost_2 = 30#int(arguments[4]) if arguments[4] != \"None\" else None\n",
    "\n",
    "EMB = \"embedding\"\n",
    "\n",
    "def adapt_time(x):\n",
    "        if x[\"stage\"]==\"E14.5\":\n",
    "            return 14.5\n",
    "        if x[\"stage\"]==\"E15.5\":\n",
    "            return 15.5\n",
    "        if x[\"stage\"]==\"E16.5\":\n",
    "            return 16.5\n",
    "        raise ValueError\n",
    "    \n",
    "def create_adata(mudata: MuData, rna_embedding: str, atac_embedding: str) -> anndata.AnnData:\n",
    "    print(\"rna_emb\", rna_embedding)\n",
    "    print(\"atac_emb\", atac_embedding)\n",
    "    adata = mudata[\"rna\"]\n",
    "    adata.obs[\"cell_type_refined\"] = mudata.obs[\"cell_type_refined\"]\n",
    "    adata.obs['time'] = adata.obs.apply(adapt_time, axis=1).astype(\"category\")\n",
    "    if rna_embedding == \"X_MultiVI\":\n",
    "        adata.obsm[EMB] = mudata.obsm[rna_embedding].copy()\n",
    "        return adata\n",
    "    else:\n",
    "        if rna_embedding is not None:\n",
    "            rna_emb = mudata[\"rna\"].obsm[rna_embedding]\n",
    "            rna_emb_scaled = StandardScaler().fit_transform(rna_emb)\n",
    "        if atac_embedding is not None:\n",
    "            atac_emb = mudata[\"atac\"].obsm[atac_embedding]\n",
    "            atac_emb_scaled = StandardScaler().fit_transform(atac_emb)\n",
    "        if rna_embedding is not None and atac_embedding is not None:\n",
    "            emb = np.concatenate((rna_emb_scaled, atac_emb_scaled), axis=1)\n",
    "        elif rna_embedding is None and atac_embedding is not None:\n",
    "            emb = atac_emb\n",
    "        elif rna_embedding is not None and atac_embedding is None:\n",
    "            emb = rna_emb\n",
    "        else:\n",
    "            raise NotImplementedError\n",
    "    \n",
    "        adata.obsm[EMB] = emb\n",
    "        return adata\n",
    "    raise NotImplementedError\n",
    "\n",
    "\n",
    "def create_graphs(adata: anndata.AnnData, n_neighbors: int) -> Dict[Tuple, pd.DataFrame]:\n",
    "    dfs = {}\n",
    "    batch_column = \"time\"\n",
    "    unique_batches = [14.5, 15.5, 16.5]\n",
    "    for i in range(len(unique_batches) - 1):\n",
    "        batch1 = unique_batches[i]\n",
    "        batch2 = unique_batches[i + 1]\n",
    "    \n",
    "        indices = np.where((adata.obs[batch_column] == batch1) | (adata.obs[batch_column] == batch2))[0]\n",
    "        adata_subset = adata[indices]\n",
    "        sc.pp.neighbors(adata_subset, use_rep=EMB, n_neighbors=n_neighbors)\n",
    "        G = nx.from_numpy_array(adata_subset.obsp[\"connectivities\"].A)\n",
    "        assert nx.is_connected(G)\n",
    "    \n",
    "        dfs[(batch1, batch2)] = (\n",
    "            pd.DataFrame(\n",
    "                index=adata_subset.obs_names,\n",
    "                columns=adata_subset.obs_names,\n",
    "                data=adata_subset.obsp[\"connectivities\"].A.astype(\"float\"),\n",
    "            )\n",
    "        )\n",
    "    return dfs\n",
    "\n",
    "cm = jnp.ones((144, 144)) - jnp.eye(144)\n",
    "\n",
    "def compute_metrics(df_reference: jax.Array, df: pd.DataFrame, emb_0: str, emb_1: str, cost_0: str, cost_1: str) -> pd.DataFrame:\n",
    "    \n",
    "    sink_div = tools.sinkhorn_divergence.sinkhorn_divergence(geometry.Geometry, cost_matrix=(cm,cm,cm), a=df_reference.values.flatten(), b=df.values.flatten(), epsilon=1e-3).divergence\n",
    "    eps_from_eps_prog = df.loc[\"Eps. progenitors\", \"Epsilon\"]\n",
    "    delta_from_fev_delta = df.loc[\"Fev+ Delta\", \"Delta\"]\n",
    "    fev_delta_from_eps_prog = df.loc[\"Eps. progenitors\", \"Fev+ Delta\"]\n",
    "    eps_from_fev_delta = df.loc[\"Fev+ Delta\", \"Epsilon\"]\n",
    "    beta_from_fev_beta = df.loc[\"Fev+ Beta\", \"Beta\"]\n",
    "    print(emb_0 , emb_1, cost_0, cost_1, sink_div)\n",
    "    print(eps_from_eps_prog, delta_from_fev_delta, fev_delta_from_eps_prog, eps_from_fev_delta)\n",
    "    data = [[str(emb_0),str(emb_0), str(cost_0), str(cost_1), sink_div, eps_from_eps_prog, delta_from_fev_delta, fev_delta_from_eps_prog, eps_from_fev_delta, beta_from_fev_beta]]\n",
    "    \n",
    "    return pd.DataFrame(data=data, columns=[\"emb_0\", \"emb_1\", \"cost_0\", \"cost_1\", \"sink_div\", \"eps_from_eps_prog\", \"delta_from_fev_delta\", \"fev_delta_from_eps_prog\", \"eps_from_fev_delta\", \"beta_from_fev_beta\"])\n",
    "                            \n",
    "order_cell_types = endocrine_celltypes\n",
    "\n",
    "\n",
    "#tp_reference = TemporalProblem.load(\"/lustre/groups/ml01/workspace/moscot_paper/pancreas_revision/plots/OT_encodrine_analysis/TemporalProblem.pkl\")\n",
    "metrics_early = pd.DataFrame(columns=[\"emb_0\", \"emb_1\", \"cost_0\", \"cost_1\", \"sink_div\", \"eps_from_eps_prog\", \"delta_from_fev_delta\", \"fev_delta_from_eps_prog\", \"eps_from_fev_delta\", \"beta_from_fev_beta\"])\n",
    "metrics_late= pd.DataFrame(columns=[\"emb_0\", \"emb_1\", \"cost_0\", \"cost_1\", \"sink_div\", \"eps_from_eps_prog\", \"delta_from_fev_delta\", \"fev_delta_from_eps_prog\", \"eps_from_fev_delta\", \"beta_from_fev_beta\"])\n",
    "            \n",
    "\n",
    "#reference_tmap_early = tp_reference.cell_transition(14.5, 15.5, {\"cell_type\": order_cell_types}, {\"cell_type\": order_cell_types}, forward=False)\n",
    "#reference_tmap_late = tp_reference.cell_transition(15.5, 16.5, {\"cell_type\": order_cell_types}, {\"cell_type\": order_cell_types}, forward=False)\n",
    "\n",
    "adata = create_adata(mudata, emb_1, emb_2)\n",
    "\n",
    "tp = TemporalProblem(adata)\n",
    "tp = tp.prepare(\"time\", joint_attr=EMB, cost=cost_1 if cost_1!=\"geodesic\" else \"sq_euclidean\")\n",
    "\n",
    "if cost_1==\"geodesic\":\n",
    "    dfs = create_graphs(adata, cost_2)\n",
    "    tp[14.5, 15.5].set_graph_xy((dfs[14.5, 15.5]).astype(\"float\"), t=100.0)\n",
    "    tp[15.5, 16.5].set_graph_xy((dfs[15.5, 16.5]).astype(\"float\"), t=100.0)\n",
    "\n",
    "tp[15.5, 16.5].solve(max_iterations=1e7, threshold=5e-3, lse_mode=False if cost_1==\"geodesic\" else True)\n",
    "\n",
    "#df_early = tp.cell_transition(14.5, 15.5, {\"cell_type\": order_cell_types}, {\"cell_type\": order_cell_types}, forward=False)\n",
    "#df_late = tp.cell_transition(15.5, 16.5, {\"cell_type\": order_cell_types}, {\"cell_type\": order_cell_types}, forward=False)\n",
    "#metrics_early = pd.concat((metrics_early, compute_metrics(reference_tmap_early, df_early,emb_1, emb_2,  str(cost_1), str(cost_2))))\n",
    "#metrics_late = pd.concat((metrics_late, compute_metrics(reference_tmap_late, df_late, emb_1, emb_2, str(cost_1), str(cost_2))))\n",
    "\n",
    "#metrics_early.to_csv(os.path.join(output_dir, f\"stability_metrics_early_{emb_1}_{emb_2}_{cost_1}_{cost_2}.csv\"))\n",
    "#metrics_late.to_csv(os.path.join(output_dir, f\"stability_metrics_late_{emb_1}_{emb_2}_{cost_1}_{cost_2}.csv\"))\n"
   ]
  },
  {
   "cell_type": "code",
   "execution_count": 15,
   "id": "f5dd409b-cad4-44a6-9f39-bb247e48aa4f",
   "metadata": {},
   "outputs": [
    {
     "data": {
      "text/plain": [
       "Array([0.00058688, 0.00058828, 0.00059004, ..., 0.00058786, 0.00059012,\n",
       "       0.0005872 ], dtype=float64)"
      ]
     },
     "execution_count": 15,
     "metadata": {},
     "output_type": "execute_result"
    }
   ],
   "source": [
    "tp[15.5, 16.5].solution.transport_matrix.sum(axis=0)"
   ]
  },
  {
   "cell_type": "code",
   "execution_count": 17,
   "id": "e34e5345-54f8-4a35-8fdf-02e0f78491cb",
   "metadata": {},
   "outputs": [
    {
     "data": {
      "text/html": [
       "<div>\n",
       "<style scoped>\n",
       "    .dataframe tbody tr th:only-of-type {\n",
       "        vertical-align: middle;\n",
       "    }\n",
       "\n",
       "    .dataframe tbody tr th {\n",
       "        vertical-align: top;\n",
       "    }\n",
       "\n",
       "    .dataframe thead th {\n",
       "        text-align: right;\n",
       "    }\n",
       "</style>\n",
       "<table border=\"1\" class=\"dataframe\">\n",
       "  <thead>\n",
       "    <tr style=\"text-align: right;\">\n",
       "      <th></th>\n",
       "      <th>Alpha</th>\n",
       "      <th>Beta</th>\n",
       "      <th>Delta</th>\n",
       "      <th>Eps. progenitors</th>\n",
       "      <th>Epsilon</th>\n",
       "      <th>Fev+</th>\n",
       "      <th>Fev+ Alpha</th>\n",
       "      <th>Fev+ Beta</th>\n",
       "      <th>Fev+ Delta</th>\n",
       "      <th>Ngn3 high</th>\n",
       "      <th>Ngn3 high cycling</th>\n",
       "      <th>Ngn3 low</th>\n",
       "    </tr>\n",
       "  </thead>\n",
       "  <tbody>\n",
       "    <tr>\n",
       "      <th>Alpha</th>\n",
       "      <td>0.420203</td>\n",
       "      <td>0.088592</td>\n",
       "      <td>0.057062</td>\n",
       "      <td>0.001652</td>\n",
       "      <td>0.126432</td>\n",
       "      <td>0.027327</td>\n",
       "      <td>0.142663</td>\n",
       "      <td>0.088995</td>\n",
       "      <td>0.010205</td>\n",
       "      <td>0.001095</td>\n",
       "      <td>0.000159</td>\n",
       "      <td>1.880891e-06</td>\n",
       "    </tr>\n",
       "    <tr>\n",
       "      <th>Beta</th>\n",
       "      <td>0.060010</td>\n",
       "      <td>0.355942</td>\n",
       "      <td>0.056873</td>\n",
       "      <td>0.000097</td>\n",
       "      <td>0.010282</td>\n",
       "      <td>0.017772</td>\n",
       "      <td>0.037434</td>\n",
       "      <td>0.154694</td>\n",
       "      <td>0.002760</td>\n",
       "      <td>0.000411</td>\n",
       "      <td>0.000038</td>\n",
       "      <td>3.048524e-07</td>\n",
       "    </tr>\n",
       "    <tr>\n",
       "      <th>Delta</th>\n",
       "      <td>0.005068</td>\n",
       "      <td>0.004137</td>\n",
       "      <td>0.368122</td>\n",
       "      <td>0.000193</td>\n",
       "      <td>0.002461</td>\n",
       "      <td>0.001505</td>\n",
       "      <td>0.002508</td>\n",
       "      <td>0.004830</td>\n",
       "      <td>0.004495</td>\n",
       "      <td>0.000215</td>\n",
       "      <td>0.000032</td>\n",
       "      <td>9.658101e-07</td>\n",
       "    </tr>\n",
       "    <tr>\n",
       "      <th>Eps. progenitors</th>\n",
       "      <td>0.005698</td>\n",
       "      <td>0.001217</td>\n",
       "      <td>0.008777</td>\n",
       "      <td>0.064053</td>\n",
       "      <td>0.072119</td>\n",
       "      <td>0.030769</td>\n",
       "      <td>0.013935</td>\n",
       "      <td>0.007578</td>\n",
       "      <td>0.074012</td>\n",
       "      <td>0.043329</td>\n",
       "      <td>0.035688</td>\n",
       "      <td>7.123854e-03</td>\n",
       "    </tr>\n",
       "    <tr>\n",
       "      <th>Epsilon</th>\n",
       "      <td>0.072347</td>\n",
       "      <td>0.008999</td>\n",
       "      <td>0.024386</td>\n",
       "      <td>0.019810</td>\n",
       "      <td>0.162071</td>\n",
       "      <td>0.007469</td>\n",
       "      <td>0.027521</td>\n",
       "      <td>0.013687</td>\n",
       "      <td>0.037053</td>\n",
       "      <td>0.002321</td>\n",
       "      <td>0.000804</td>\n",
       "      <td>5.064402e-05</td>\n",
       "    </tr>\n",
       "    <tr>\n",
       "      <th>Fev+</th>\n",
       "      <td>0.122321</td>\n",
       "      <td>0.117201</td>\n",
       "      <td>0.118890</td>\n",
       "      <td>0.012501</td>\n",
       "      <td>0.054899</td>\n",
       "      <td>0.168800</td>\n",
       "      <td>0.225395</td>\n",
       "      <td>0.204165</td>\n",
       "      <td>0.041209</td>\n",
       "      <td>0.027845</td>\n",
       "      <td>0.012048</td>\n",
       "      <td>4.190892e-04</td>\n",
       "    </tr>\n",
       "    <tr>\n",
       "      <th>Fev+ Alpha</th>\n",
       "      <td>0.058518</td>\n",
       "      <td>0.024189</td>\n",
       "      <td>0.020325</td>\n",
       "      <td>0.000892</td>\n",
       "      <td>0.020315</td>\n",
       "      <td>0.023791</td>\n",
       "      <td>0.058060</td>\n",
       "      <td>0.038678</td>\n",
       "      <td>0.005335</td>\n",
       "      <td>0.002208</td>\n",
       "      <td>0.000693</td>\n",
       "      <td>1.564537e-05</td>\n",
       "    </tr>\n",
       "    <tr>\n",
       "      <th>Fev+ Beta</th>\n",
       "      <td>0.142342</td>\n",
       "      <td>0.344473</td>\n",
       "      <td>0.154926</td>\n",
       "      <td>0.001014</td>\n",
       "      <td>0.037775</td>\n",
       "      <td>0.069493</td>\n",
       "      <td>0.134014</td>\n",
       "      <td>0.259702</td>\n",
       "      <td>0.012986</td>\n",
       "      <td>0.003532</td>\n",
       "      <td>0.000718</td>\n",
       "      <td>1.016737e-05</td>\n",
       "    </tr>\n",
       "    <tr>\n",
       "      <th>Fev+ Delta</th>\n",
       "      <td>0.024009</td>\n",
       "      <td>0.006082</td>\n",
       "      <td>0.049992</td>\n",
       "      <td>0.055124</td>\n",
       "      <td>0.143230</td>\n",
       "      <td>0.030655</td>\n",
       "      <td>0.027246</td>\n",
       "      <td>0.016896</td>\n",
       "      <td>0.085861</td>\n",
       "      <td>0.025766</td>\n",
       "      <td>0.017354</td>\n",
       "      <td>2.088319e-03</td>\n",
       "    </tr>\n",
       "    <tr>\n",
       "      <th>Ngn3 high</th>\n",
       "      <td>0.083510</td>\n",
       "      <td>0.046702</td>\n",
       "      <td>0.130534</td>\n",
       "      <td>0.551027</td>\n",
       "      <td>0.296181</td>\n",
       "      <td>0.533752</td>\n",
       "      <td>0.302945</td>\n",
       "      <td>0.194555</td>\n",
       "      <td>0.543523</td>\n",
       "      <td>0.558853</td>\n",
       "      <td>0.490277</td>\n",
       "      <td>1.992481e-01</td>\n",
       "    </tr>\n",
       "    <tr>\n",
       "      <th>Ngn3 high cycling</th>\n",
       "      <td>0.002935</td>\n",
       "      <td>0.001249</td>\n",
       "      <td>0.004216</td>\n",
       "      <td>0.030497</td>\n",
       "      <td>0.017815</td>\n",
       "      <td>0.026177</td>\n",
       "      <td>0.012154</td>\n",
       "      <td>0.007188</td>\n",
       "      <td>0.030264</td>\n",
       "      <td>0.030507</td>\n",
       "      <td>0.034115</td>\n",
       "      <td>6.644556e-03</td>\n",
       "    </tr>\n",
       "    <tr>\n",
       "      <th>Ngn3 low</th>\n",
       "      <td>0.003041</td>\n",
       "      <td>0.001216</td>\n",
       "      <td>0.005895</td>\n",
       "      <td>0.263141</td>\n",
       "      <td>0.056421</td>\n",
       "      <td>0.062489</td>\n",
       "      <td>0.016125</td>\n",
       "      <td>0.009033</td>\n",
       "      <td>0.152297</td>\n",
       "      <td>0.303917</td>\n",
       "      <td>0.408073</td>\n",
       "      <td>7.843965e-01</td>\n",
       "    </tr>\n",
       "  </tbody>\n",
       "</table>\n",
       "</div>"
      ],
      "text/plain": [
       "                      Alpha      Beta     Delta  Eps. progenitors   Epsilon  \\\n",
       "Alpha              0.420203  0.088592  0.057062          0.001652  0.126432   \n",
       "Beta               0.060010  0.355942  0.056873          0.000097  0.010282   \n",
       "Delta              0.005068  0.004137  0.368122          0.000193  0.002461   \n",
       "Eps. progenitors   0.005698  0.001217  0.008777          0.064053  0.072119   \n",
       "Epsilon            0.072347  0.008999  0.024386          0.019810  0.162071   \n",
       "Fev+               0.122321  0.117201  0.118890          0.012501  0.054899   \n",
       "Fev+ Alpha         0.058518  0.024189  0.020325          0.000892  0.020315   \n",
       "Fev+ Beta          0.142342  0.344473  0.154926          0.001014  0.037775   \n",
       "Fev+ Delta         0.024009  0.006082  0.049992          0.055124  0.143230   \n",
       "Ngn3 high          0.083510  0.046702  0.130534          0.551027  0.296181   \n",
       "Ngn3 high cycling  0.002935  0.001249  0.004216          0.030497  0.017815   \n",
       "Ngn3 low           0.003041  0.001216  0.005895          0.263141  0.056421   \n",
       "\n",
       "                       Fev+  Fev+ Alpha  Fev+ Beta  Fev+ Delta  Ngn3 high  \\\n",
       "Alpha              0.027327    0.142663   0.088995    0.010205   0.001095   \n",
       "Beta               0.017772    0.037434   0.154694    0.002760   0.000411   \n",
       "Delta              0.001505    0.002508   0.004830    0.004495   0.000215   \n",
       "Eps. progenitors   0.030769    0.013935   0.007578    0.074012   0.043329   \n",
       "Epsilon            0.007469    0.027521   0.013687    0.037053   0.002321   \n",
       "Fev+               0.168800    0.225395   0.204165    0.041209   0.027845   \n",
       "Fev+ Alpha         0.023791    0.058060   0.038678    0.005335   0.002208   \n",
       "Fev+ Beta          0.069493    0.134014   0.259702    0.012986   0.003532   \n",
       "Fev+ Delta         0.030655    0.027246   0.016896    0.085861   0.025766   \n",
       "Ngn3 high          0.533752    0.302945   0.194555    0.543523   0.558853   \n",
       "Ngn3 high cycling  0.026177    0.012154   0.007188    0.030264   0.030507   \n",
       "Ngn3 low           0.062489    0.016125   0.009033    0.152297   0.303917   \n",
       "\n",
       "                   Ngn3 high cycling      Ngn3 low  \n",
       "Alpha                       0.000159  1.880891e-06  \n",
       "Beta                        0.000038  3.048524e-07  \n",
       "Delta                       0.000032  9.658101e-07  \n",
       "Eps. progenitors            0.035688  7.123854e-03  \n",
       "Epsilon                     0.000804  5.064402e-05  \n",
       "Fev+                        0.012048  4.190892e-04  \n",
       "Fev+ Alpha                  0.000693  1.564537e-05  \n",
       "Fev+ Beta                   0.000718  1.016737e-05  \n",
       "Fev+ Delta                  0.017354  2.088319e-03  \n",
       "Ngn3 high                   0.490277  1.992481e-01  \n",
       "Ngn3 high cycling           0.034115  6.644556e-03  \n",
       "Ngn3 low                    0.408073  7.843965e-01  "
      ]
     },
     "execution_count": 17,
     "metadata": {},
     "output_type": "execute_result"
    }
   ],
   "source": [
    "tp.cell_transition(15.5, 16.5, \"cell_type\", \"cell_type\")"
   ]
  },
  {
   "cell_type": "code",
   "execution_count": null,
   "id": "4e2f58ec-1240-473e-9c3f-fb6c715ca967",
   "metadata": {},
   "outputs": [],
   "source": []
  },
  {
   "cell_type": "code",
   "execution_count": null,
   "id": "5d079d65-0c21-4131-b8f4-1d175b37994c",
   "metadata": {},
   "outputs": [],
   "source": []
  },
  {
   "cell_type": "code",
   "execution_count": null,
   "id": "f81240fa-78f6-4bb6-845a-d88f7ce30c7d",
   "metadata": {},
   "outputs": [],
   "source": []
  },
  {
   "cell_type": "code",
   "execution_count": 31,
   "id": "4065f811-78b7-4d6a-b8d2-f659623b5268",
   "metadata": {},
   "outputs": [
    {
     "data": {
      "text/plain": [
       "Array(0.99999994, dtype=float32)"
      ]
     },
     "execution_count": 31,
     "metadata": {},
     "output_type": "execute_result"
    }
   ],
   "source": [
    "tp[15.5, 16.5].solution._output.errors.max()"
   ]
  },
  {
   "cell_type": "code",
   "execution_count": null,
   "id": "542787c5-fabe-407e-8fbb-740e83fdba88",
   "metadata": {},
   "outputs": [],
   "source": []
  },
  {
   "cell_type": "code",
   "execution_count": 14,
   "id": "b0bf0373-aa64-4479-9c30-40d069c8a967",
   "metadata": {},
   "outputs": [
    {
     "name": "stderr",
     "output_type": "stream",
     "text": [
      "  0%|          | 0/1 [00:00<?, ?it/s]\n"
     ]
    },
    {
     "ename": "NotImplementedError",
     "evalue": "",
     "output_type": "error",
     "traceback": [
      "\u001b[0;31m---------------------------------------------------------------------------\u001b[0m",
      "\u001b[0;31mNotImplementedError\u001b[0m                       Traceback (most recent call last)",
      "Cell \u001b[0;32mIn[14], line 7\u001b[0m\n\u001b[1;32m      5\u001b[0m \u001b[38;5;28;01mif\u001b[39;00m emb \u001b[38;5;241m==\u001b[39m (\u001b[38;5;28;01mNone\u001b[39;00m, \u001b[38;5;28;01mNone\u001b[39;00m):\n\u001b[1;32m      6\u001b[0m     \u001b[38;5;28;01mcontinue\u001b[39;00m\n\u001b[0;32m----> 7\u001b[0m adata \u001b[38;5;241m=\u001b[39m create_adata(mudata, emb)\n\u001b[1;32m      8\u001b[0m \u001b[38;5;28;01mfor\u001b[39;00m cost \u001b[38;5;129;01min\u001b[39;00m COSTS:\n\u001b[1;32m     10\u001b[0m     tp \u001b[38;5;241m=\u001b[39m TemporalProblem(adata)\n",
      "Cell \u001b[0;32mIn[9], line 36\u001b[0m, in \u001b[0;36mcreate_adata\u001b[0;34m(mudata, embedding)\u001b[0m\n\u001b[1;32m     34\u001b[0m     adata\u001b[38;5;241m.\u001b[39mobsm[EMB] \u001b[38;5;241m=\u001b[39m emb\n\u001b[1;32m     35\u001b[0m     \u001b[38;5;28;01mreturn\u001b[39;00m adata\n\u001b[0;32m---> 36\u001b[0m \u001b[38;5;28;01mraise\u001b[39;00m \u001b[38;5;167;01mNotImplementedError\u001b[39;00m\n",
      "\u001b[0;31mNotImplementedError\u001b[0m: "
     ]
    }
   ],
   "source": [
    "#reference_tmap_early = tp_reference.cell_transition(14.5, 15.5, {\"cell_type\": order_cell_types}, {\"cell_type\": order_cell_types}, forward=False)\n",
    "#reference_tmap_late = tp_reference.cell_transition(15.5, 16.5, {\"cell_type\": order_cell_types}, {\"cell_type\": order_cell_types}, forward=False)\n",
    "i=0\n",
    "for emb in tqdm(EMBEDDINGS):\n",
    "    if emb == (None, None):\n",
    "        continue\n",
    "    adata = create_adata(mudata, emb)\n",
    "    for cost in COSTS:\n",
    "    \n",
    "        tp = TemporalProblem(adata)\n",
    "        tp = tp.prepare(\"time\", joint_attr=EMB, cost=cost[0] if cost[0]!=\"geodesic\" else \"sq_euclidean\")\n",
    "\n",
    "        if cost[0]==\"geodesic\":\n",
    "            dfs = create_graphs(adata, cost[1])\n",
    "            tp[14.5, 15.5].set_graph_xy((dfs[14.5, 15.5]).astype(\"float\"), t=100.0)\n",
    "            tp[15.5, 16.5].set_graph_xy((dfs[15.5, 16.5]).astype(\"float\"), t=100.0)\n",
    "        \n",
    "        tp = tp.solve(lse_mode=False if cost[0]==\"geodesic\" else True, max_iterations=1e7, device='cpu')\n",
    "\n",
    "        #df_early = tp.cell_transition(14.5, 15.5, {\"cell_type\": order_cell_types}, {\"cell_type\": order_cell_types}, forward=False)\n",
    "        #df_late = tp.cell_transition(15.5, 16.5, {\"cell_type\": order_cell_types}, {\"cell_type\": order_cell_types}, forward=False)\n",
    "        #metrics_early = pd.concat((metrics_early, compute_metrics(reference_tmap_early, df_early, str(cost[0]), str(cost[1]), str(emb))))\n",
    "        #metrics_late = pd.concat((metrics_late, compute_metrics(reference_tmap_late, df_late, str(cost[0]), str(cost[1]), str(emb))))\n",
    "\n",
    "        i+=1"
   ]
  },
  {
   "cell_type": "code",
   "execution_count": null,
   "id": "67888141-f376-406c-be5c-569fd01692b6",
   "metadata": {},
   "outputs": [],
   "source": []
  },
  {
   "cell_type": "code",
   "execution_count": null,
   "id": "48ae7ba0-7445-470d-a8ba-f8b2c9019ddd",
   "metadata": {},
   "outputs": [],
   "source": [
    "#metrics_early.to_csv(os.path.join(output_dir, f\"stability_metrics_early.csv\"))\n",
    "#metrics_late.to_csv(os.path.join(output_dir, f\"stability_metrics_late.csv\"))"
   ]
  },
  {
   "cell_type": "code",
   "execution_count": null,
   "id": "99530510-cd35-45b8-9fa9-4701fc8f35c8",
   "metadata": {},
   "outputs": [],
   "source": [
    "cost[0], cost[1], str(emb)"
   ]
  },
  {
   "cell_type": "code",
   "execution_count": null,
   "id": "32d29518-9fd9-451c-a2bd-fee926b3296b",
   "metadata": {},
   "outputs": [],
   "source": [
    "data = np.ones((8,1)).T"
   ]
  },
  {
   "cell_type": "code",
   "execution_count": null,
   "id": "ef56caf5-6898-49f0-abfe-c79880ad755a",
   "metadata": {},
   "outputs": [],
   "source": [
    "pd.DataFrame(data=data, columns=[\"emb\", \"cost_0\", \"cost_1\", \"sink_div\", \"eps_from_eps_prog\", \"delta_from_dev_delta\", \"fev_delta_from_eps_prog\", \"eps_from_fev_delta\"])"
   ]
  },
  {
   "cell_type": "code",
   "execution_count": null,
   "id": "ff6151fd-0b23-4704-b936-7737ada2999e",
   "metadata": {},
   "outputs": [],
   "source": [
    "out"
   ]
  },
  {
   "cell_type": "code",
   "execution_count": null,
   "id": "729980d7-372c-4d20-899a-ff707fcbc42c",
   "metadata": {},
   "outputs": [],
   "source": [
    "reference_tmap_early.shape"
   ]
  },
  {
   "cell_type": "code",
   "execution_count": null,
   "id": "2f711ed5-e669-4433-be29-56f30efd8af1",
   "metadata": {},
   "outputs": [],
   "source": [
    "reference_tmap_early.values.flatten()[:,None].shape"
   ]
  },
  {
   "cell_type": "code",
   "execution_count": null,
   "id": "8ddff452-0218-4edc-a1ca-c5552aee0251",
   "metadata": {},
   "outputs": [],
   "source": [
    "df_early.values.flatten()[:,None].shape"
   ]
  },
  {
   "cell_type": "code",
   "execution_count": null,
   "id": "6bf0b1bb-65fc-4710-88ff-4be7226fe95d",
   "metadata": {},
   "outputs": [],
   "source": [
    "a = np.array([[1,2], [23,3]])\n",
    "b = np.array([[13,1], [21,3]])"
   ]
  },
  {
   "cell_type": "code",
   "execution_count": null,
   "id": "41d60c34-dd86-4ab9-a7a6-4b2761bbc74e",
   "metadata": {},
   "outputs": [],
   "source": [
    "sink_div = tools.sinkhorn_divergence.sinkhorn_divergence(pointcloud.PointCloud, x=a, y=b, epsilon=1e-1)\n",
    "    "
   ]
  },
  {
   "cell_type": "code",
   "execution_count": null,
   "id": "ec416bb1-0b67-4a36-b164-c269fcab0158",
   "metadata": {},
   "outputs": [],
   "source": [
    "sink_div = tools.sinkhorn_divergence.sinkhorn_divergence(pointcloud.PointCloud, pointcloud.PointCloud(reference_tmap_early.values.flatten()[:,None]), pointcloud.PointCloud(df_early.values.flatten()[:,None]), epsilon=1e-1)\n",
    "    "
   ]
  },
  {
   "cell_type": "code",
   "execution_count": null,
   "id": "121dbbd4-7e18-4efa-b537-fed39e7097ca",
   "metadata": {},
   "outputs": [],
   "source": []
  },
  {
   "cell_type": "code",
   "execution_count": null,
   "id": "7b03e4e6-9544-44fb-b8b1-a159dae71b72",
   "metadata": {},
   "outputs": [],
   "source": [
    "metrics_early.to_csv(os.path.join(output_dir, f\"stability_metrics_early.csv\"))\n",
    "metrics_late.to_csv(os.path.join(output_dir, f\"stability_metrics_late.csv\"))"
   ]
  }
 ],
 "metadata": {
  "kernelspec": {
   "display_name": "moscot_up",
   "language": "python",
   "name": "moscot_up"
  },
  "language_info": {
   "codemirror_mode": {
    "name": "ipython",
    "version": 3
   },
   "file_extension": ".py",
   "mimetype": "text/x-python",
   "name": "python",
   "nbconvert_exporter": "python",
   "pygments_lexer": "ipython3",
   "version": "3.11.5"
  }
 },
 "nbformat": 4,
 "nbformat_minor": 5
}
