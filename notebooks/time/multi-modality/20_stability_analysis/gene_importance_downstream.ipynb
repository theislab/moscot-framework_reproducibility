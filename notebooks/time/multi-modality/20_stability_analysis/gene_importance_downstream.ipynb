{
 "cells": [
  {
   "cell_type": "code",
   "execution_count": 38,
   "id": "fecc6d9f-82f4-4e37-a747-9008bbaa35ef",
   "metadata": {},
   "outputs": [
    {
     "name": "stdout",
     "output_type": "stream",
     "text": [
      "['default', 'despine']\n"
     ]
    }
   ],
   "source": [
    "import pandas as pd\n",
    "import os\n",
    "import scanpy as sc\n",
    "sc.set_figure_params(scanpy=True, dpi=80, dpi_save=200)\n",
    "                         \n",
    "import mplscience\n",
    "\n",
    "mplscience.available_styles()\n",
    "mplscience.set_style(reset_current=True)\n",
    "plt.rcParams['legend.scatterpoints'] = 1 "
   ]
  },
  {
   "cell_type": "code",
   "execution_count": 6,
   "id": "32059009-2f93-490e-b0d7-9c1a73ddce4e",
   "metadata": {},
   "outputs": [],
   "source": [
    "output_dir = \"/lustre/groups/ml01/workspace/moscot_paper/pancreas_revision/stability_analysis\""
   ]
  },
  {
   "cell_type": "code",
   "execution_count": 7,
   "id": "eb08a45b-91eb-4290-81ff-2b4d22157e1b",
   "metadata": {},
   "outputs": [],
   "source": [
    "metrics = pd.read_csv(os.path.join(output_dir, f\"stability_metrics_gene.csv\"))"
   ]
  },
  {
   "cell_type": "code",
   "execution_count": 8,
   "id": "366709bf-3495-4409-822e-f48f8b86d735",
   "metadata": {},
   "outputs": [
    {
     "data": {
      "text/html": [
       "<div>\n",
       "<style scoped>\n",
       "    .dataframe tbody tr th:only-of-type {\n",
       "        vertical-align: middle;\n",
       "    }\n",
       "\n",
       "    .dataframe tbody tr th {\n",
       "        vertical-align: top;\n",
       "    }\n",
       "\n",
       "    .dataframe thead th {\n",
       "        text-align: right;\n",
       "    }\n",
       "</style>\n",
       "<table border=\"1\" class=\"dataframe\">\n",
       "  <thead>\n",
       "    <tr style=\"text-align: right;\">\n",
       "      <th></th>\n",
       "      <th>Unnamed: 0</th>\n",
       "      <th>gene_omitted</th>\n",
       "      <th>sink_div</th>\n",
       "    </tr>\n",
       "  </thead>\n",
       "  <tbody>\n",
       "    <tr>\n",
       "      <th>0</th>\n",
       "      <td>0</td>\n",
       "      <td>Robo2</td>\n",
       "      <td>1.078618e-01</td>\n",
       "    </tr>\n",
       "    <tr>\n",
       "      <th>1</th>\n",
       "      <td>0</td>\n",
       "      <td>Hnf1aos1</td>\n",
       "      <td>3.596102e-02</td>\n",
       "    </tr>\n",
       "    <tr>\n",
       "      <th>2</th>\n",
       "      <td>0</td>\n",
       "      <td>Neurog3</td>\n",
       "      <td>1.767870e-01</td>\n",
       "    </tr>\n",
       "    <tr>\n",
       "      <th>3</th>\n",
       "      <td>0</td>\n",
       "      <td>Tinagl1</td>\n",
       "      <td>9.846196e-03</td>\n",
       "    </tr>\n",
       "    <tr>\n",
       "      <th>4</th>\n",
       "      <td>0</td>\n",
       "      <td>Irx2</td>\n",
       "      <td>1.299115e-02</td>\n",
       "    </tr>\n",
       "    <tr>\n",
       "      <th>...</th>\n",
       "      <td>...</td>\n",
       "      <td>...</td>\n",
       "      <td>...</td>\n",
       "    </tr>\n",
       "    <tr>\n",
       "      <th>995</th>\n",
       "      <td>0</td>\n",
       "      <td>Runx1</td>\n",
       "      <td>1.958013e-05</td>\n",
       "    </tr>\n",
       "    <tr>\n",
       "      <th>996</th>\n",
       "      <td>0</td>\n",
       "      <td>Thrb</td>\n",
       "      <td>3.558263e-03</td>\n",
       "    </tr>\n",
       "    <tr>\n",
       "      <th>997</th>\n",
       "      <td>0</td>\n",
       "      <td>Gm12153</td>\n",
       "      <td>2.980232e-08</td>\n",
       "    </tr>\n",
       "    <tr>\n",
       "      <th>998</th>\n",
       "      <td>0</td>\n",
       "      <td>Gm15873</td>\n",
       "      <td>2.980232e-08</td>\n",
       "    </tr>\n",
       "    <tr>\n",
       "      <th>999</th>\n",
       "      <td>0</td>\n",
       "      <td>Negr1</td>\n",
       "      <td>3.511310e-04</td>\n",
       "    </tr>\n",
       "  </tbody>\n",
       "</table>\n",
       "<p>1000 rows × 3 columns</p>\n",
       "</div>"
      ],
      "text/plain": [
       "     Unnamed: 0 gene_omitted      sink_div\n",
       "0             0        Robo2  1.078618e-01\n",
       "1             0     Hnf1aos1  3.596102e-02\n",
       "2             0      Neurog3  1.767870e-01\n",
       "3             0      Tinagl1  9.846196e-03\n",
       "4             0         Irx2  1.299115e-02\n",
       "..          ...          ...           ...\n",
       "995           0        Runx1  1.958013e-05\n",
       "996           0         Thrb  3.558263e-03\n",
       "997           0      Gm12153  2.980232e-08\n",
       "998           0      Gm15873  2.980232e-08\n",
       "999           0        Negr1  3.511310e-04\n",
       "\n",
       "[1000 rows x 3 columns]"
      ]
     },
     "execution_count": 8,
     "metadata": {},
     "output_type": "execute_result"
    }
   ],
   "source": [
    "metrics"
   ]
  },
  {
   "cell_type": "code",
   "execution_count": 9,
   "id": "46863d2d-ad2e-4026-9422-f89a8cb6fcf9",
   "metadata": {},
   "outputs": [],
   "source": [
    "import moscot"
   ]
  },
  {
   "cell_type": "code",
   "execution_count": 10,
   "id": "b9e30b50-35ca-4fde-aa1a-66c97f47d9e6",
   "metadata": {},
   "outputs": [],
   "source": [
    "tfs = moscot.utils.data.transcription_factors(\"mouse\")"
   ]
  },
  {
   "cell_type": "code",
   "execution_count": 13,
   "id": "d9ebb81b-10c0-4387-9097-651f5fca1863",
   "metadata": {},
   "outputs": [],
   "source": [
    "metrics[\"TF\"] = metrics.apply(lambda x: x[\"gene_omitted\"] in tfs, axis=1)"
   ]
  },
  {
   "cell_type": "code",
   "execution_count": 14,
   "id": "35a215fc-7649-40f4-987f-f14756039a62",
   "metadata": {},
   "outputs": [
    {
     "data": {
      "text/plain": [
       "91"
      ]
     },
     "execution_count": 14,
     "metadata": {},
     "output_type": "execute_result"
    }
   ],
   "source": [
    "metrics[\"TF\"].sum()"
   ]
  },
  {
   "cell_type": "code",
   "execution_count": 42,
   "id": "b0bf7629-8ae3-4d6b-8d55-636f1fd79dea",
   "metadata": {},
   "outputs": [],
   "source": [
    "tf_metrics = metrics[metrics[\"TF\"] == True].sort_values(by=\"sink_div\")[-9:]"
   ]
  },
  {
   "cell_type": "code",
   "execution_count": 43,
   "id": "31dccee4-9bed-4942-a7bf-7a552cafb809",
   "metadata": {},
   "outputs": [],
   "source": [
    "marker_genes = tf_metrics.gene_omitted.values"
   ]
  },
  {
   "cell_type": "code",
   "execution_count": 44,
   "id": "435503c8-5f03-46f0-974a-2758481fa9e0",
   "metadata": {},
   "outputs": [
    {
     "data": {
      "text/html": [
       "<div>\n",
       "<style scoped>\n",
       "    .dataframe tbody tr th:only-of-type {\n",
       "        vertical-align: middle;\n",
       "    }\n",
       "\n",
       "    .dataframe tbody tr th {\n",
       "        vertical-align: top;\n",
       "    }\n",
       "\n",
       "    .dataframe thead th {\n",
       "        text-align: right;\n",
       "    }\n",
       "</style>\n",
       "<table border=\"1\" class=\"dataframe\">\n",
       "  <thead>\n",
       "    <tr style=\"text-align: right;\">\n",
       "      <th></th>\n",
       "      <th>Unnamed: 0</th>\n",
       "      <th>gene_omitted</th>\n",
       "      <th>sink_div</th>\n",
       "      <th>TF</th>\n",
       "    </tr>\n",
       "  </thead>\n",
       "  <tbody>\n",
       "    <tr>\n",
       "      <th>333</th>\n",
       "      <td>0</td>\n",
       "      <td>Sox4</td>\n",
       "      <td>0.134913</td>\n",
       "      <td>True</td>\n",
       "    </tr>\n",
       "    <tr>\n",
       "      <th>27</th>\n",
       "      <td>0</td>\n",
       "      <td>Mctp2</td>\n",
       "      <td>0.135933</td>\n",
       "      <td>True</td>\n",
       "    </tr>\n",
       "    <tr>\n",
       "      <th>193</th>\n",
       "      <td>0</td>\n",
       "      <td>Meis1</td>\n",
       "      <td>0.174344</td>\n",
       "      <td>True</td>\n",
       "    </tr>\n",
       "    <tr>\n",
       "      <th>2</th>\n",
       "      <td>0</td>\n",
       "      <td>Neurog3</td>\n",
       "      <td>0.176787</td>\n",
       "      <td>True</td>\n",
       "    </tr>\n",
       "    <tr>\n",
       "      <th>815</th>\n",
       "      <td>0</td>\n",
       "      <td>Sim1</td>\n",
       "      <td>0.177038</td>\n",
       "      <td>True</td>\n",
       "    </tr>\n",
       "    <tr>\n",
       "      <th>802</th>\n",
       "      <td>0</td>\n",
       "      <td>Etv1</td>\n",
       "      <td>0.198849</td>\n",
       "      <td>True</td>\n",
       "    </tr>\n",
       "    <tr>\n",
       "      <th>588</th>\n",
       "      <td>0</td>\n",
       "      <td>Cbfa2t2</td>\n",
       "      <td>0.209794</td>\n",
       "      <td>True</td>\n",
       "    </tr>\n",
       "    <tr>\n",
       "      <th>858</th>\n",
       "      <td>0</td>\n",
       "      <td>Cers6</td>\n",
       "      <td>0.242787</td>\n",
       "      <td>True</td>\n",
       "    </tr>\n",
       "    <tr>\n",
       "      <th>590</th>\n",
       "      <td>0</td>\n",
       "      <td>Prdm16</td>\n",
       "      <td>0.322497</td>\n",
       "      <td>True</td>\n",
       "    </tr>\n",
       "  </tbody>\n",
       "</table>\n",
       "</div>"
      ],
      "text/plain": [
       "     Unnamed: 0 gene_omitted  sink_div    TF\n",
       "333           0         Sox4  0.134913  True\n",
       "27            0        Mctp2  0.135933  True\n",
       "193           0        Meis1  0.174344  True\n",
       "2             0      Neurog3  0.176787  True\n",
       "815           0         Sim1  0.177038  True\n",
       "802           0         Etv1  0.198849  True\n",
       "588           0      Cbfa2t2  0.209794  True\n",
       "858           0        Cers6  0.242787  True\n",
       "590           0       Prdm16  0.322497  True"
      ]
     },
     "execution_count": 44,
     "metadata": {},
     "output_type": "execute_result"
    }
   ],
   "source": [
    "tf_metrics"
   ]
  },
  {
   "cell_type": "code",
   "execution_count": 45,
   "id": "c5cdc054-ad65-4a0b-a6a6-628681c8612d",
   "metadata": {},
   "outputs": [
    {
     "data": {
      "image/png": "[encoded data removed]",
      "text/plain": [
       "<Figure size 400x400 with 1 Axes>"
      ]
     },
     "metadata": {
      "image/png": {
       "height": 351,
       "width": 395
      }
     },
     "output_type": "display_data"
    }
   ],
   "source": [
    "import seaborn as sns\n",
    "import matplotlib.pyplot as plt\n",
    "metrics_marker_genes = metrics[metrics.gene_omitted.isin(marker_genes)]\n",
    "\n",
    "sns.histplot(metrics.sink_div.values, color=\"green\")\n",
    "\n",
    "for i in range(len(metrics_marker_genes)):\n",
    "    plt.axvline(x=metrics_marker_genes.iloc[i,:].sink_div, color='r', linestyle='--')\n",
    "    \n",
    "plt.show()"
   ]
  },
  {
   "cell_type": "code",
   "execution_count": 46,
   "id": "bcd444ae-b4a7-4946-8ba0-78df62d25358",
   "metadata": {},
   "outputs": [
    {
     "data": {
      "text/plain": [
       "9"
      ]
     },
     "execution_count": 46,
     "metadata": {},
     "output_type": "execute_result"
    }
   ],
   "source": [
    "len(metrics_marker_genes)"
   ]
  },
  {
   "cell_type": "code",
   "execution_count": 49,
   "id": "f7e0d742-97e5-4f8e-a3af-3ee969bb4531",
   "metadata": {},
   "outputs": [
    {
     "data": {
      "text/plain": [
       "['Sox4',\n",
       " 'Mctp2',\n",
       " 'Meis1',\n",
       " 'Neurog3',\n",
       " 'Sim1',\n",
       " 'Etv1',\n",
       " 'Cbfa2t2',\n",
       " 'Cers6',\n",
       " 'Prdm16']"
      ]
     },
     "execution_count": 49,
     "metadata": {},
     "output_type": "execute_result"
    }
   ],
   "source": [
    "list(tf_metrics.gene_omitted)"
   ]
  },
  {
   "cell_type": "code",
   "execution_count": null,
   "id": "b10acbce-6438-48da-aa09-51005e3a85ee",
   "metadata": {},
   "outputs": [],
   "source": []
  }
 ],
 "metadata": {
  "kernelspec": {
   "display_name": "moscot_up",
   "language": "python",
   "name": "moscot_up"
  },
  "language_info": {
   "codemirror_mode": {
    "name": "ipython",
    "version": 3
   },
   "file_extension": ".py",
   "mimetype": "text/x-python",
   "name": "python",
   "nbconvert_exporter": "python",
   "pygments_lexer": "ipython3",
   "version": "3.11.5"
  }
 },
 "nbformat": 4,
 "nbformat_minor": 5
}
