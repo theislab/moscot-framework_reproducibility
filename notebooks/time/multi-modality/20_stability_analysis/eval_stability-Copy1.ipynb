{
 "cells": [
  {
   "cell_type": "code",
   "execution_count": 1,
   "id": "5877a5f4-f6cd-43fd-873e-a3b74fbb6706",
   "metadata": {},
   "outputs": [],
   "source": [
    "import pandas as pd\n",
    "import os\n",
    "import itertools\n",
    "import seaborn as sns\n",
    "import matplotlib.pyplot as plt"
   ]
  },
  {
   "cell_type": "code",
   "execution_count": 2,
   "id": "9560c997-0f01-4faa-b1d6-ce6f8e79530d",
   "metadata": {},
   "outputs": [],
   "source": [
    "RNA_emb = [None, \"X_pca\", \"X_scVI\"]\n",
    "ATAC_emb = [None, \"X_lsi\", \"X_poissonvi\"]\n",
    "EMBEDDINGS = list(itertools.product(RNA_emb, ATAC_emb)) + [(\"X_MultiVI\", \"X_MultiVI\")]\n",
    "COSTS = [(\"sq_euclidean\", None), (\"cosine\", None), (\"geodesic\", 50), (\"geodesic\", 100), (\"geodesic\", 30), (\"geodesic\", 5), (\"geodesic\", 10)]"
   ]
  },
  {
   "cell_type": "code",
   "execution_count": 3,
   "id": "93a34f19-3f98-4ab9-bb36-bc7e7e68b81d",
   "metadata": {},
   "outputs": [],
   "source": [
    "metrics_early = pd.DataFrame(columns=[\"emb_0\", \"emb_1\", \"cost_0\", \"cost_1\", \"sink_div\", \"eps_from_eps_prog\", \"delta_from_fev_delta\", \"fev_delta_from_eps_prog\", \"eps_from_fev_delta\", \"beta_from_fev_beta\", \"delta_from_ngn3_low\"])\n",
    "metrics_late= pd.DataFrame(columns=[\"emb_0\", \"emb_1\", \"cost_0\", \"cost_1\", \"sink_div\", \"eps_from_eps_prog\", \"delta_from_fev_delta\", \"fev_delta_from_eps_prog\", \"eps_from_fev_delta\", \"beta_from_fev_beta\", \"delta_from_ngn3_low\"])\n"
   ]
  },
  {
   "cell_type": "code",
   "execution_count": 4,
   "id": "4baf75d2-9351-44a8-8ca2-410f3ae1ad1d",
   "metadata": {},
   "outputs": [],
   "source": [
    "out_dir = \"/lustre/groups/ml01/workspace/moscot_paper/pancreas_revision/stability_analysis\""
   ]
  },
  {
   "cell_type": "code",
   "execution_count": 5,
   "id": "72194eb8-f5af-4edf-8b2b-b0660a355c58",
   "metadata": {},
   "outputs": [],
   "source": [
    "outer_early = pd.read_csv(os.path.join(out_dir, f\"stability_metrics_early_outer.csv\"))\n",
    "outer_late = pd.read_csv(os.path.join(out_dir, f\"stability_metrics_late_outer.csv\"))"
   ]
  },
  {
   "cell_type": "code",
   "execution_count": 6,
   "id": "9d01292e-892a-43c7-9ae2-41dcabb61dbd",
   "metadata": {},
   "outputs": [
    {
     "data": {
      "text/html": [
       "<div>\n",
       "<style scoped>\n",
       "    .dataframe tbody tr th:only-of-type {\n",
       "        vertical-align: middle;\n",
       "    }\n",
       "\n",
       "    .dataframe tbody tr th {\n",
       "        vertical-align: top;\n",
       "    }\n",
       "\n",
       "    .dataframe thead th {\n",
       "        text-align: right;\n",
       "    }\n",
       "</style>\n",
       "<table border=\"1\" class=\"dataframe\">\n",
       "  <thead>\n",
       "    <tr style=\"text-align: right;\">\n",
       "      <th></th>\n",
       "      <th>Unnamed: 0</th>\n",
       "      <th>emb</th>\n",
       "      <th>cost_0</th>\n",
       "      <th>cost_1</th>\n",
       "      <th>sink_div</th>\n",
       "      <th>eps_from_eps_prog</th>\n",
       "      <th>delta_from_fev_delta</th>\n",
       "      <th>fev_delta_from_eps_prog</th>\n",
       "      <th>eps_from_fev_delta</th>\n",
       "      <th>beta_from_fev_beta</th>\n",
       "      <th>delta_from_ngn3_low</th>\n",
       "      <th>emb_0</th>\n",
       "      <th>emb_1</th>\n",
       "    </tr>\n",
       "  </thead>\n",
       "  <tbody>\n",
       "    <tr>\n",
       "      <th>0</th>\n",
       "      <td>0</td>\n",
       "      <td>NaN</td>\n",
       "      <td>ref</td>\n",
       "      <td>ref</td>\n",
       "      <td>6.886811</td>\n",
       "      <td>0.034237</td>\n",
       "      <td>0.025205</td>\n",
       "      <td>0.034237</td>\n",
       "      <td>0.025205</td>\n",
       "      <td>0.069313</td>\n",
       "      <td>0.195337</td>\n",
       "      <td>ref</td>\n",
       "      <td>ref</td>\n",
       "    </tr>\n",
       "  </tbody>\n",
       "</table>\n",
       "</div>"
      ],
      "text/plain": [
       "   Unnamed: 0  emb cost_0 cost_1  sink_div  eps_from_eps_prog  \\\n",
       "0           0  NaN    ref    ref  6.886811           0.034237   \n",
       "\n",
       "   delta_from_fev_delta  fev_delta_from_eps_prog  eps_from_fev_delta  \\\n",
       "0              0.025205                 0.034237            0.025205   \n",
       "\n",
       "   beta_from_fev_beta  delta_from_ngn3_low emb_0 emb_1  \n",
       "0            0.069313             0.195337   ref   ref  "
      ]
     },
     "execution_count": 6,
     "metadata": {},
     "output_type": "execute_result"
    }
   ],
   "source": [
    "outer_early"
   ]
  },
  {
   "cell_type": "code",
   "execution_count": 7,
   "id": "a7ade145-9412-4815-9332-505063b57b92",
   "metadata": {},
   "outputs": [
    {
     "name": "stderr",
     "output_type": "stream",
     "text": [
      "/tmp/ipykernel_2393273/4164665178.py:6: FutureWarning: The behavior of DataFrame concatenation with empty or all-NA entries is deprecated. In a future version, this will no longer exclude empty or all-NA columns when determining the result dtypes. To retain the old behavior, exclude the relevant entries before the concat operation.\n",
      "  metrics_early = pd.concat((metrics_early, m_early))\n",
      "/tmp/ipykernel_2393273/4164665178.py:7: FutureWarning: The behavior of DataFrame concatenation with empty or all-NA entries is deprecated. In a future version, this will no longer exclude empty or all-NA columns when determining the result dtypes. To retain the old behavior, exclude the relevant entries before the concat operation.\n",
      "  metrics_late = pd.concat((metrics_late, m_late))\n"
     ]
    }
   ],
   "source": [
    "for emb_1, emb_2 in EMBEDDINGS:\n",
    "    for cost_1, cost_2 in COSTS:\n",
    "        try:\n",
    "            m_early = pd.read_csv(os.path.join(out_dir, f\"stability_metrics_early_{emb_1}_{emb_2}_{cost_1}_{cost_2}_new2.csv\"))\n",
    "            m_late = pd.read_csv(os.path.join(out_dir, f\"stability_metrics_late_{emb_1}_{emb_2}_{cost_1}_{cost_2}_new2.csv\"))\n",
    "            metrics_early = pd.concat((metrics_early, m_early))\n",
    "            metrics_late = pd.concat((metrics_late, m_late))\n",
    "        except FileNotFoundError:\n",
    "            continue"
   ]
  },
  {
   "cell_type": "code",
   "execution_count": 8,
   "id": "cd2a6f69-4036-4aba-a9ba-365db6468925",
   "metadata": {},
   "outputs": [
    {
     "data": {
      "text/plain": [
       "(63, 63)"
      ]
     },
     "execution_count": 8,
     "metadata": {},
     "output_type": "execute_result"
    }
   ],
   "source": [
    "len(metrics_early), len(metrics_late)"
   ]
  },
  {
   "cell_type": "code",
   "execution_count": 9,
   "id": "0879eed6-2dd8-46a8-9e6e-0139911e1f5f",
   "metadata": {},
   "outputs": [],
   "source": [
    "emb_1=\"X_MultiVI\"\n",
    "emb_2=\"X_MultiVI\"\n",
    "cost_1 = \"geodesic\"\n",
    "cost_2 = 30\n",
    "used_early = pd.read_csv(os.path.join(out_dir, f\"stability_metrics_early_{emb_1}_{emb_2}_{cost_1}_{cost_2}_new2.csv\"))\n",
    "used_late = pd.read_csv(os.path.join(out_dir, f\"stability_metrics_late_{emb_1}_{emb_2}_{cost_1}_{cost_2}_new2.csv\"))"
   ]
  },
  {
   "cell_type": "code",
   "execution_count": 10,
   "id": "417cd664-741d-4446-8a2d-fd0f515dca5a",
   "metadata": {},
   "outputs": [],
   "source": [
    "import seaborn as sns"
   ]
  },
  {
   "cell_type": "code",
   "execution_count": 11,
   "id": "ca0226a7-d428-49b9-b5ce-712ae692797d",
   "metadata": {},
   "outputs": [],
   "source": [
    "cols_1 = [\"eps_from_eps_prog\", \"delta_from_fev_delta\", \"fev_delta_from_eps_prog\", \"eps_from_fev_delta\", \"beta_from_fev_beta\"]"
   ]
  },
  {
   "cell_type": "code",
   "execution_count": 12,
   "id": "c76df86c-2231-424c-b5bf-5c6c5cc17d18",
   "metadata": {},
   "outputs": [
    {
     "ename": "ValueError",
     "evalue": "Columns with duplicate values are not supported in stack",
     "output_type": "error",
     "traceback": [
      "\u001b[0;31m---------------------------------------------------------------------------\u001b[0m",
      "\u001b[0;31mValueError\u001b[0m                                Traceback (most recent call last)",
      "Cell \u001b[0;32mIn[12], line 1\u001b[0m\n\u001b[0;32m----> 1\u001b[0m df_early_new_1 \u001b[38;5;241m=\u001b[39m pd\u001b[38;5;241m.\u001b[39mDataFrame(metrics_early[cols_1]\u001b[38;5;241m.\u001b[39munstack())\n\u001b[1;32m      2\u001b[0m df_late_new_1 \u001b[38;5;241m=\u001b[39m pd\u001b[38;5;241m.\u001b[39mDataFrame(metrics_late[cols_1]\u001b[38;5;241m.\u001b[39munstack())\n\u001b[1;32m      3\u001b[0m outer_early_new \u001b[38;5;241m=\u001b[39m pd\u001b[38;5;241m.\u001b[39mDataFrame(outer_early[cols_1]\u001b[38;5;241m.\u001b[39munstack())\n",
      "File \u001b[0;32m~/mambaforge/envs/moscot_up/lib/python3.11/site-packages/pandas/core/frame.py:9625\u001b[0m, in \u001b[0;36mDataFrame.unstack\u001b[0;34m(self, level, fill_value, sort)\u001b[0m\n\u001b[1;32m   9561\u001b[0m \u001b[38;5;124;03m\"\"\"\u001b[39;00m\n\u001b[1;32m   9562\u001b[0m \u001b[38;5;124;03mPivot a level of the (necessarily hierarchical) index labels.\u001b[39;00m\n\u001b[1;32m   9563\u001b[0m \n\u001b[0;32m   (...)\u001b[0m\n\u001b[1;32m   9621\u001b[0m \u001b[38;5;124;03mdtype: float64\u001b[39;00m\n\u001b[1;32m   9622\u001b[0m \u001b[38;5;124;03m\"\"\"\u001b[39;00m\n\u001b[1;32m   9623\u001b[0m \u001b[38;5;28;01mfrom\u001b[39;00m \u001b[38;5;21;01mpandas\u001b[39;00m\u001b[38;5;21;01m.\u001b[39;00m\u001b[38;5;21;01mcore\u001b[39;00m\u001b[38;5;21;01m.\u001b[39;00m\u001b[38;5;21;01mreshape\u001b[39;00m\u001b[38;5;21;01m.\u001b[39;00m\u001b[38;5;21;01mreshape\u001b[39;00m \u001b[38;5;28;01mimport\u001b[39;00m unstack\n\u001b[0;32m-> 9625\u001b[0m result \u001b[38;5;241m=\u001b[39m unstack(\u001b[38;5;28mself\u001b[39m, level, fill_value, sort)\n\u001b[1;32m   9627\u001b[0m \u001b[38;5;28;01mreturn\u001b[39;00m result\u001b[38;5;241m.\u001b[39m__finalize__(\u001b[38;5;28mself\u001b[39m, method\u001b[38;5;241m=\u001b[39m\u001b[38;5;124m\"\u001b[39m\u001b[38;5;124munstack\u001b[39m\u001b[38;5;124m\"\u001b[39m)\n",
      "File \u001b[0;32m~/mambaforge/envs/moscot_up/lib/python3.11/site-packages/pandas/core/reshape/reshape.py:506\u001b[0m, in \u001b[0;36munstack\u001b[0;34m(obj, level, fill_value, sort)\u001b[0m\n\u001b[1;32m    504\u001b[0m         \u001b[38;5;28;01mreturn\u001b[39;00m _unstack_frame(obj, level, fill_value\u001b[38;5;241m=\u001b[39mfill_value, sort\u001b[38;5;241m=\u001b[39msort)\n\u001b[1;32m    505\u001b[0m     \u001b[38;5;28;01melse\u001b[39;00m:\n\u001b[0;32m--> 506\u001b[0m         \u001b[38;5;28;01mreturn\u001b[39;00m obj\u001b[38;5;241m.\u001b[39mT\u001b[38;5;241m.\u001b[39mstack(future_stack\u001b[38;5;241m=\u001b[39m\u001b[38;5;28;01mTrue\u001b[39;00m)\n\u001b[1;32m    507\u001b[0m \u001b[38;5;28;01melif\u001b[39;00m \u001b[38;5;129;01mnot\u001b[39;00m \u001b[38;5;28misinstance\u001b[39m(obj\u001b[38;5;241m.\u001b[39mindex, MultiIndex):\n\u001b[1;32m    508\u001b[0m     \u001b[38;5;66;03m# GH 36113\u001b[39;00m\n\u001b[1;32m    509\u001b[0m     \u001b[38;5;66;03m# Give nicer error messages when unstack a Series whose\u001b[39;00m\n\u001b[1;32m    510\u001b[0m     \u001b[38;5;66;03m# Index is not a MultiIndex.\u001b[39;00m\n\u001b[1;32m    511\u001b[0m     \u001b[38;5;28;01mraise\u001b[39;00m \u001b[38;5;167;01mValueError\u001b[39;00m(\n\u001b[1;32m    512\u001b[0m         \u001b[38;5;124mf\u001b[39m\u001b[38;5;124m\"\u001b[39m\u001b[38;5;124mindex must be a MultiIndex to unstack, \u001b[39m\u001b[38;5;132;01m{\u001b[39;00m\u001b[38;5;28mtype\u001b[39m(obj\u001b[38;5;241m.\u001b[39mindex)\u001b[38;5;132;01m}\u001b[39;00m\u001b[38;5;124m was passed\u001b[39m\u001b[38;5;124m\"\u001b[39m\n\u001b[1;32m    513\u001b[0m     )\n",
      "File \u001b[0;32m~/mambaforge/envs/moscot_up/lib/python3.11/site-packages/pandas/core/frame.py:9428\u001b[0m, in \u001b[0;36mDataFrame.stack\u001b[0;34m(self, level, dropna, sort, future_stack)\u001b[0m\n\u001b[1;32m   9426\u001b[0m         level \u001b[38;5;241m=\u001b[39m [level]\n\u001b[1;32m   9427\u001b[0m     level \u001b[38;5;241m=\u001b[39m [\u001b[38;5;28mself\u001b[39m\u001b[38;5;241m.\u001b[39mcolumns\u001b[38;5;241m.\u001b[39m_get_level_number(lev) \u001b[38;5;28;01mfor\u001b[39;00m lev \u001b[38;5;129;01min\u001b[39;00m level]\n\u001b[0;32m-> 9428\u001b[0m     result \u001b[38;5;241m=\u001b[39m stack_v3(\u001b[38;5;28mself\u001b[39m, level)\n\u001b[1;32m   9430\u001b[0m \u001b[38;5;28;01mreturn\u001b[39;00m result\u001b[38;5;241m.\u001b[39m__finalize__(\u001b[38;5;28mself\u001b[39m, method\u001b[38;5;241m=\u001b[39m\u001b[38;5;124m\"\u001b[39m\u001b[38;5;124mstack\u001b[39m\u001b[38;5;124m\"\u001b[39m)\n",
      "File \u001b[0;32m~/mambaforge/envs/moscot_up/lib/python3.11/site-packages/pandas/core/reshape/reshape.py:887\u001b[0m, in \u001b[0;36mstack_v3\u001b[0;34m(frame, level)\u001b[0m\n\u001b[1;32m    885\u001b[0m \u001b[38;5;28;01mdef\u001b[39;00m \u001b[38;5;21mstack_v3\u001b[39m(frame: DataFrame, level: \u001b[38;5;28mlist\u001b[39m[\u001b[38;5;28mint\u001b[39m]) \u001b[38;5;241m-\u001b[39m\u001b[38;5;241m>\u001b[39m Series \u001b[38;5;241m|\u001b[39m DataFrame:\n\u001b[1;32m    886\u001b[0m     \u001b[38;5;28;01mif\u001b[39;00m frame\u001b[38;5;241m.\u001b[39mcolumns\u001b[38;5;241m.\u001b[39mnunique() \u001b[38;5;241m!=\u001b[39m \u001b[38;5;28mlen\u001b[39m(frame\u001b[38;5;241m.\u001b[39mcolumns):\n\u001b[0;32m--> 887\u001b[0m         \u001b[38;5;28;01mraise\u001b[39;00m \u001b[38;5;167;01mValueError\u001b[39;00m(\u001b[38;5;124m\"\u001b[39m\u001b[38;5;124mColumns with duplicate values are not supported in stack\u001b[39m\u001b[38;5;124m\"\u001b[39m)\n\u001b[1;32m    889\u001b[0m     \u001b[38;5;66;03m# If we need to drop `level` from columns, it needs to be in descending order\u001b[39;00m\n\u001b[1;32m    890\u001b[0m     drop_levnums \u001b[38;5;241m=\u001b[39m \u001b[38;5;28msorted\u001b[39m(level, reverse\u001b[38;5;241m=\u001b[39m\u001b[38;5;28;01mTrue\u001b[39;00m)\n",
      "\u001b[0;31mValueError\u001b[0m: Columns with duplicate values are not supported in stack"
     ]
    }
   ],
   "source": [
    "df_early_new_1 = pd.DataFrame(metrics_early[cols_1].unstack())\n",
    "df_late_new_1 = pd.DataFrame(metrics_late[cols_1].unstack())\n",
    "outer_early_new = pd.DataFrame(outer_early[cols_1].unstack())\n",
    "outer_late_new = pd.DataFrame(outer_late[cols_1].unstack())\n",
    "df_outer = pd.concat((outer_early_new, outer_late_new), keys=[\"early\", \"late\"])\n",
    "df_outer= df_outer.reset_index()\n",
    "df_1 = pd.concat((df_early_new_1, df_late_new_1), keys=[\"early\", \"late\"])\n",
    "df_1 = df_1.reset_index()"
   ]
  },
  {
   "cell_type": "code",
   "execution_count": null,
   "id": "3b49b67b-3a77-4912-ae9d-d07b2c1a5cef",
   "metadata": {},
   "outputs": [],
   "source": [
    "palette = [\"#f5d889\", \"#c5faeb\"]\n",
    "palette_baseline = [\"#f77b72\", \"#f77b72\"]"
   ]
  },
  {
   "cell_type": "code",
   "execution_count": null,
   "id": "4b51f8e6-3f96-4a6c-9209-6218262a75e4",
   "metadata": {},
   "outputs": [],
   "source": [
    "fig, ax = plt.subplots(figsize=(10, 6))\n",
    "sns.barplot(data=df_1, x=\"level_1\", y=0, hue=\"level_0\", errorbar=\"se\", palette=palette, ax=ax)\n",
    "sns.boxplot(data=df_outer, x=\"level_1\", y=0, hue=\"level_0\", palette=palette_baseline, ax=ax)\n",
    "ax.get_legend().remove()"
   ]
  },
  {
   "cell_type": "code",
   "execution_count": null,
   "id": "3c16eb3c-d556-4547-b90f-928948baaa45",
   "metadata": {},
   "outputs": [],
   "source": [
    "df = "
   ]
  },
  {
   "cell_type": "code",
   "execution_count": 15,
   "id": "a5a2fbb7-92a0-4d03-9fe0-e82bde7ee099",
   "metadata": {},
   "outputs": [],
   "source": [
    "cols_2 = [\"sink_div\"]"
   ]
  },
  {
   "cell_type": "code",
   "execution_count": 16,
   "id": "92438470-b1da-41eb-8862-04d4a2bbe873",
   "metadata": {},
   "outputs": [],
   "source": [
    "df_early_new_2 = pd.DataFrame(metrics_early[cols_2].unstack())\n",
    "df_late_new_2 = pd.DataFrame(metrics_late[cols_2].unstack())"
   ]
  },
  {
   "cell_type": "code",
   "execution_count": 17,
   "id": "26d0a773-5101-4465-98b6-cd3c7d46a120",
   "metadata": {},
   "outputs": [],
   "source": [
    "df_2 = pd.concat((df_early_new_2, df_late_new_2), keys=[\"early\", \"late\"])"
   ]
  },
  {
   "cell_type": "code",
   "execution_count": 18,
   "id": "6b3f6125-b11c-4960-a8f0-2ca22514dc69",
   "metadata": {},
   "outputs": [],
   "source": [
    "df_2 = df_2.reset_index()"
   ]
  },
  {
   "cell_type": "code",
   "execution_count": 19,
   "id": "d6f94aa3-dfe8-4d7c-967e-ed34688ec994",
   "metadata": {},
   "outputs": [],
   "source": [
    "df_outer2 = pd.concat((outer_early[cols_2], outer_late[cols_2]), keys=[\"early\", \"late\"])\n",
    "df_outer2= df_outer2.reset_index()\n"
   ]
  },
  {
   "cell_type": "code",
   "execution_count": 20,
   "id": "3df28689-0981-4677-9f87-bb932b099d4f",
   "metadata": {},
   "outputs": [
    {
     "data": {
      "image/png": "[encoded data removed]",
      "text/plain": [
       "<Figure size 720x432 with 1 Axes>"
      ]
     },
     "metadata": {
      "needs_background": "light"
     },
     "output_type": "display_data"
    }
   ],
   "source": [
    "fig, ax = plt.subplots(figsize=(10, 6))\n",
    "sns.boxplot(data=df_outer2, x=\"level_1\", y=\"sink_div\", hue=\"level_0\", ax=ax)\n",
    "sns.barplot(data=df_2, x=\"level_1\", y=0, hue=\"level_0\", errorbar=\"se\", palette=palette, ax=ax)\n",
    "ax.get_legend().remove()"
   ]
  },
  {
   "cell_type": "code",
   "execution_count": 21,
   "id": "72f3753b-febc-4c77-bcad-334d507eec87",
   "metadata": {},
   "outputs": [],
   "source": [
    "df_3 = pd.concat((metrics_early, metrics_late), keys=[\"early\", \"late\"])\n",
    "df_3 = df_3.reset_index()"
   ]
  },
  {
   "cell_type": "code",
   "execution_count": 22,
   "id": "aeb961a8-dd8d-4fc5-b847-af03c37a8145",
   "metadata": {},
   "outputs": [],
   "source": [
    "df_outer3 = pd.concat((outer_early, outer_late), keys=[\"early\", \"late\"])\n",
    "df_outer3 = df_outer3.reset_index()"
   ]
  },
  {
   "cell_type": "code",
   "execution_count": 23,
   "id": "db0851db-e1b1-4da8-ba99-7d4f5acd6865",
   "metadata": {},
   "outputs": [
    {
     "data": {
      "image/png": "[encoded data removed]",
      "text/plain": [
       "<Figure size 720x432 with 1 Axes>"
      ]
     },
     "metadata": {
      "needs_background": "light"
     },
     "output_type": "display_data"
    }
   ],
   "source": [
    "fig, ax = plt.subplots(figsize=(10, 6))\n",
    "sns.barplot(df_3, x=\"cost_0\", y=\"delta_from_ngn3_low\", errorbar=\"se\", hue=\"level_0\", palette=palette)\n",
    "ax.set_ylim(0, 0.5)\n",
    "ax.get_legend().remove()"
   ]
  },
  {
   "cell_type": "code",
   "execution_count": null,
   "id": "89c53025-7d90-4ad6-8868-2c7a3b0c0ce8",
   "metadata": {},
   "outputs": [],
   "source": []
  }
 ],
 "metadata": {
  "kernelspec": {
   "display_name": "moscot_up",
   "language": "python",
   "name": "moscot_up"
  },
  "language_info": {
   "codemirror_mode": {
    "name": "ipython",
    "version": 3
   },
   "file_extension": ".py",
   "mimetype": "text/x-python",
   "name": "python",
   "nbconvert_exporter": "python",
   "pygments_lexer": "ipython3",
   "version": "3.11.5"
  }
 },
 "nbformat": 4,
 "nbformat_minor": 5
}
