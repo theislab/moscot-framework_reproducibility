{
 "cells": [
  {
   "cell_type": "markdown",
   "metadata": {},
   "source": [
    "# Evaluating Gene Correlations - First heart field"
   ]
  },
  {
   "cell_type": "code",
   "execution_count": 1,
   "metadata": {},
   "outputs": [
    {
     "name": "stderr",
     "output_type": "stream",
     "text": [
      "/home/mgander/miniconda3/envs/mc/lib/python3.10/site-packages/flax/struct.py:132: FutureWarning: jax.tree_util.register_keypaths is deprecated, and will be removed in a future release. Please use `register_pytree_with_keys()` instead.\n",
      "  jax.tree_util.register_keypaths(data_clz, keypaths)\n",
      "/home/mgander/miniconda3/envs/mc/lib/python3.10/site-packages/flax/struct.py:132: FutureWarning: jax.tree_util.register_keypaths is deprecated, and will be removed in a future release. Please use `register_pytree_with_keys()` instead.\n",
      "  jax.tree_util.register_keypaths(data_clz, keypaths)\n",
      "No GPU/TPU found, falling back to CPU. (Set TF_CPP_MIN_LOG_LEVEL=0 and rerun for more info.)\n"
     ]
    }
   ],
   "source": [
    "import numpy as np\n",
    "import anndata\n",
    "import pandas as pd\n",
    "import scanpy as sc\n",
    "import scipy\n",
    "import seaborn as sns\n",
    "import matplotlib.pyplot as plt\n",
    "\n",
    "\n",
    "from moscot.problems.time._lineage import TemporalProblem"
   ]
  },
  {
   "cell_type": "code",
   "execution_count": 2,
   "metadata": {},
   "outputs": [],
   "source": [
    "Path=\"/home/mgander/Unrelated/moscotTime_Reproducibility/Data\"\n",
    "ts=['E3.5', 'E4.5', 'E5.25', 'E5.5', 'E6.25', 'E6.5', 'E6.75', 'E7.0', 'E7.25', 'E7.5', 'E7.75', 'E8.0', 'E8.25', 'E8.5a', 'E8.5b', 'E9.5', 'E10.5', 'E11.5', 'E12.5', 'E13.5']"
   ]
  },
  {
   "cell_type": "code",
   "execution_count": 3,
   "metadata": {},
   "outputs": [],
   "source": [
    "ct='E8.25:Second heart field'\n",
    "i=11\n",
    "\n",
    "ts0=ts[i]\n",
    "ts1=ts[i+1]"
   ]
  },
  {
   "cell_type": "code",
   "execution_count": 5,
   "metadata": {},
   "outputs": [],
   "source": [
    "gT=np.load(f\"{Path}/TOME_transport_maps/{ts0}_{ct}_pull.npy\", allow_pickle=True)\n",
    "gM=np.load(f\"{Path}/moscot_maps/{ts0}_{ct}_pull.npy\", allow_pickle=True)"
   ]
  },
  {
   "cell_type": "markdown",
   "metadata": {},
   "source": [
    "# Correlation for curated genes"
   ]
  },
  {
   "cell_type": "markdown",
   "metadata": {},
   "source": [
    "The following list of genes was obtained by litarture seach when looking for genes that predict deveopment into first heart field cells. The key in the dictionary corresponds to the citation (Pubmed ID), and the values correspond to the genes the publication lists."
   ]
  },
  {
   "cell_type": "markdown",
   "metadata": {},
   "source": [
    "TOME used the following genes to identify the first heart field cluster: Tbx5, Hcn4, Gata4."
   ]
  },
  {
   "cell_type": "code",
   "execution_count": 6,
   "metadata": {},
   "outputs": [],
   "source": [
    "D={}\n",
    "D['PMID: 25274757']=['Nkx2-5', 'Gata4', 'Tbx5', 'Smarcd3']\n",
    "\n",
    "# Isl1 and Tbx1 are SHF-driver genes!!!\n",
    "#D['PMID: 22072574']=['Isl1', 'Tbx1', 'Tbx5']\n",
    "\n",
    "\n",
    "D['PMID: 23457256']=['Eomes', 'Mesp1', 'Kdr', 'Pdgfra', 'Nkx2-5',  'Bmp2', 'Wnt1', 'Notch1', 'Tbx5', 'Gata4', \n",
    "                     'Mef2c', 'Mef2a', 'Smarcd3', 'Gata6']\n",
    "D['PMID: 27194630']=['Tnnt2']\n",
    "D['PMID: 23743334']=['Hcn4']\n",
    "D['PMID: 18924235']=['Bmp4', 'Mef2c']\n",
    "D['PMID: 30288953']=['Hand1', 'Hand2', 'Gata4', 'Mef2c', 'Tbx5']\n",
    "\n",
    "D['PMID: 29440224']=['Nkx2-5', 'Tbx20', 'Foxf1','Pdgfra', 'Kdr', \n",
    "                     'Smarcd3', 'Foxa2',  'Bmp4', 'Hdac3', 'Nup155', 'Myod1']\n",
    "\n",
    "D['PMID: 24123507']=['Irx4']\n",
    "D['PMID: 17576928']=['Wnt2', 'Wnt7a', 'Wnt8a']\n",
    "D['PMID: 29985326']=['Actc1']   #Actc1 is pan-cardiac marker\n",
    "D['PMID: 33585493']=['Tbx20']\n",
    "\n",
    "# Only in chamber myocardium: Nppa\n",
    "# Only in AV canal: Tbx2\n",
    "\n",
    "genes=[]\n",
    "for a in D.values():\n",
    "    genes=[*genes, *a]\n",
    "\n",
    "# Eliminate duplicates\n",
    "genes=[a for a in set(genes)]"
   ]
  },
  {
   "cell_type": "code",
   "execution_count": null,
   "metadata": {},
   "outputs": [],
   "source": []
  },
  {
   "cell_type": "code",
   "execution_count": 7,
   "metadata": {
    "scrolled": true
   },
   "outputs": [],
   "source": [
    "adata=sc.read(f\"{Path}/anndatas/scVI_anndatas/scvi_adata_{ts0}.h5ad\")\n",
    "adata.var.index=list(adata.var['gene_names'])"
   ]
  },
  {
   "cell_type": "code",
   "execution_count": 8,
   "metadata": {
    "scrolled": true
   },
   "outputs": [],
   "source": [
    "hvgs=list(adata.var[adata.var['highly_variable']]['gene_names'])\n",
    "genes_selected=[]\n",
    "for gene in genes:\n",
    "    if gene in hvgs:\n",
    "        genes_selected.append(gene)"
   ]
  },
  {
   "cell_type": "code",
   "execution_count": 9,
   "metadata": {
    "scrolled": true
   },
   "outputs": [],
   "source": [
    "subset=True\n",
    "\n",
    "DF=pd.DataFrame({})\n",
    "\n",
    "for gene in genes_selected:\n",
    "    if gene in [a for a in adata.var.index]:\n",
    "\n",
    "        loc=adata.var.index.get_loc(gene)\n",
    "        exp=adata.layers['scvi_normalized'][:,loc]\n",
    "        #exp=adataS.X[:,loc]\n",
    "        #exp=np.array(exp.todense()).T[0]\n",
    "        \n",
    "        if subset==True:\n",
    "            wh=np.where(adata.obs['cell_state'].isin(['E8:Splanchnic mesoderm', 'E8:First heart field']))[0]\n",
    "            exp=exp[wh]\n",
    "            gT2=gT[wh]\n",
    "            gM2=gM[wh]\n",
    "        else:\n",
    "            gT2=gT.copy()\n",
    "            gM2=gM.copy()\n",
    "\n",
    "\n",
    "        (cor, p)=scipy.stats.spearmanr(exp, gT2)\n",
    "        dfT=pd.DataFrame({'Timepoint': ts0, 'Gene':[gene], 'Method': 'TOME', 'Correlation':cor, 'P-value':p, 'type':'Spearman'})\n",
    "        (cor, p)=scipy.stats.spearmanr(exp, gM2)\n",
    "        dfM=pd.DataFrame({'Timepoint': ts0, 'Gene':[gene], 'Method': 'moscot', 'Correlation':cor, 'P-value':p, 'type':'Spearman'})\n",
    "        DF=pd.concat([DF, dfM,dfT])\n",
    "DF['Abs. Correlation']=abs(DF['Correlation'])\n",
    "DF.index=np.arange(len(DF))"
   ]
  },
  {
   "cell_type": "code",
   "execution_count": 11,
   "metadata": {},
   "outputs": [
    {
     "data": {
      "image/png": "[encoded data removed]",
      "text/plain": [
       "<Figure size 300x300 with 1 Axes>"
      ]
     },
     "metadata": {},
     "output_type": "display_data"
    }
   ],
   "source": [
    "fig, ax = plt.subplots(ncols=1, figsize=(3, 3))\n",
    "g=sns.boxplot(data=DF, x=\"Abs. Correlation\", y=\"Timepoint\", hue='Method', showfliers=True,\n",
    "               showmeans=False,  whis=[100,0], ax=ax)\n",
    "sns.move_legend(g,(1,0))"
   ]
  },
  {
   "cell_type": "code",
   "execution_count": null,
   "metadata": {},
   "outputs": [],
   "source": []
  },
  {
   "cell_type": "code",
   "execution_count": 10,
   "metadata": {},
   "outputs": [
    {
     "data": {
      "text/plain": [
       "<Axes: xlabel='Abs. Correlation', ylabel='Timepoint'>"
      ]
     },
     "execution_count": 10,
     "metadata": {},
     "output_type": "execute_result"
    },
    {
     "data": {
      "image/png": "[encoded data removed]",
      "text/plain": [
       "<Figure size 300x300 with 1 Axes>"
      ]
     },
     "metadata": {},
     "output_type": "display_data"
    }
   ],
   "source": [
    "fig, ax = plt.subplots(ncols=1, figsize=(3, 3))\n",
    "sns.boxplot(data=DF, x=\"Abs. Correlation\", y=\"Timepoint\", hue='Method', showfliers=True,\n",
    "               showmeans=False,  whis=[100,0], ax=ax)"
   ]
  },
  {
   "cell_type": "code",
   "execution_count": null,
   "metadata": {},
   "outputs": [],
   "source": []
  },
  {
   "cell_type": "code",
   "execution_count": 124,
   "metadata": {
    "scrolled": true
   },
   "outputs": [],
   "source": [
    "DF.to_pickle(f'{Path}/Correlations/{ts0}_FHF.npy')"
   ]
  },
  {
   "cell_type": "code",
   "execution_count": null,
   "metadata": {},
   "outputs": [],
   "source": []
  },
  {
   "cell_type": "code",
   "execution_count": null,
   "metadata": {},
   "outputs": [],
   "source": []
  },
  {
   "cell_type": "code",
   "execution_count": null,
   "metadata": {},
   "outputs": [],
   "source": []
  }
 ],
 "metadata": {
  "kernelspec": {
   "display_name": "mc",
   "language": "python",
   "name": "mc"
  },
  "language_info": {
   "codemirror_mode": {
    "name": "ipython",
    "version": 3
   },
   "file_extension": ".py",
   "mimetype": "text/x-python",
   "name": "python",
   "nbconvert_exporter": "python",
   "pygments_lexer": "ipython3",
   "version": "3.10.9"
  }
 },
 "nbformat": 4,
 "nbformat_minor": 2
}
