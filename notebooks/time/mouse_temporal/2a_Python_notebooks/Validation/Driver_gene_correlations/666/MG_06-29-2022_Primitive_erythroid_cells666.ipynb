{
 "cells": [
  {
   "cell_type": "markdown",
   "metadata": {},
   "source": [
    "# Evaluating Gene Correlations - First heart field"
   ]
  },
  {
   "cell_type": "code",
   "execution_count": 1,
   "metadata": {},
   "outputs": [],
   "source": [
    "import numpy as np\n",
    "import anndata\n",
    "import pandas as pd\n",
    "import matplotlib.pyplot as plt\n",
    "import datetime\n",
    "import time\n",
    "import os\n",
    "import scanpy as sc\n",
    "import sklearn.metrics\n",
    "import seaborn as sns\n",
    "import scipy\n",
    "\n",
    "import matplotlib\n",
    "from scipy.spatial import cKDTree\n",
    "import sys\n",
    "sys.path.append('/home/icb/manuel.gander/Reproducibility_TOME/Utils')\n",
    "\n",
    "# Utils contains some functions I use a lot\n",
    "import Utils\n",
    "\n",
    "#sc.settings.verbosity = 0"
   ]
  },
  {
   "cell_type": "code",
   "execution_count": 2,
   "metadata": {},
   "outputs": [],
   "source": [
    "Path=\"/home/icb/manuel.gander/Reproducibility_TOME/Data\"\n",
    "\n",
    "# Define time points\n",
    "t=[3.5, 4.5, 5.25, 5.5]+[6.25+x/4 for x in range(0,10)]+[8.5]+[9.5+x for x in range(0,5)]\n",
    "ts=[str(a) for a in [3.5, 4.5, 5.25, 5.5, 6.25]] + [str(a) for a in np.arange(6.5, 8.5, 0.25)] + ['8.5a', '8.5b']+ [str(a) for a in np.arange(9.5, 14.5, 1)]\n",
    "ts=['E'+a for a in ts]\n",
    "\n",
    "\n",
    "t2=[3.5, 4.5, 5.25, 5.5]+[6.25+x/4 for x in range(0,10)]+[9.5+x for x in range(0,5)]\n",
    "\n",
    "# Growth of embryo:\n",
    "#    - cells corresponds to the estimated total amount of cells in the embryo for each time point\n",
    "#    - av_g corresponds to the average grwoth rate of the embryo at each specific time point\n",
    "cells=[32, 80, 100, 120, 400, 660, 1720, 4500, 8200, 15000, 30000, 60000, 73000, 90000, 200000, 1100000, 2600000, 6000000, 13000000 ]\n",
    "av_g=np.zeros(len(t2)-1)\n",
    "for i in range(0,len(av_g)):\n",
    "    av_g[i]=cells[i+1]/cells[i]/(t2[i+1]-t2[i])"
   ]
  },
  {
   "cell_type": "markdown",
   "metadata": {},
   "source": [
    "# Load anndatas and maps"
   ]
  },
  {
   "cell_type": "code",
   "execution_count": 3,
   "metadata": {},
   "outputs": [
    {
     "name": "stdout",
     "output_type": "stream",
     "text": [
      "E7.5\n"
     ]
    },
    {
     "name": "stderr",
     "output_type": "stream",
     "text": [
      "/home/icb/manuel.gander/miniconda3/envs/m/lib/python3.10/site-packages/anndata/_core/anndata.py:1785: FutureWarning: X.dtype being converted to np.float32 from float64. In the next version of anndata (0.9) conversion will not be automatic. Pass dtype explicitly to avoid this warning. Pass `AnnData(X, dtype=X.dtype, ...)` to get the future behavour.\n",
      "  [AnnData(sparse.csr_matrix(a.shape), obs=a.obs) for a in all_adatas],\n",
      "/home/icb/manuel.gander/miniconda3/envs/m/lib/python3.10/site-packages/anndata/_core/anndata.py:1785: FutureWarning: X.dtype being converted to np.float32 from float64. In the next version of anndata (0.9) conversion will not be automatic. Pass dtype explicitly to avoid this warning. Pass `AnnData(X, dtype=X.dtype, ...)` to get the future behavour.\n",
      "  [AnnData(sparse.csr_matrix(a.shape), obs=a.obs) for a in all_adatas],\n"
     ]
    }
   ],
   "source": [
    "ct='Primitive erythroid cells'\n",
    "i=9\n",
    "\n",
    "\n",
    "ts0=ts[i]\n",
    "print(ts0)\n",
    "ts1=ts[i+1]\n",
    "\n",
    "(A0,  A1)=Utils.load_adata(ts0, ts1)\n",
    "\n",
    "adata=A0.concatenate(A1, join='outer', index_unique=None)"
   ]
  },
  {
   "cell_type": "code",
   "execution_count": 4,
   "metadata": {},
   "outputs": [],
   "source": [
    "eps=0.005\n",
    "\n",
    "gT=np.load(f\"{Path}/TOME-maps/Gene_cor_{ts0}_{ct}.npy\", allow_pickle=True)\n",
    "gM=np.load(f\"{Path}/Moscot-maps/Gene_cor_{ts0}_{ct}_{eps}.npy\", allow_pickle=True)\n",
    "gT = dict(enumerate(gT.flatten(), 1))[1]['g']\n",
    "gM = dict(enumerate(gM.flatten(), 1))[1]['g']\n",
    "\n",
    "\n",
    "gT=gT/gT.sum()*len(A1[A1.obs['cell_type']==ct])*cells[11]/cells[10]\n",
    "gM=gM/gM.sum()*len(A1[A1.obs['cell_type']==ct])*cells[11]/cells[10]"
   ]
  },
  {
   "cell_type": "code",
   "execution_count": 5,
   "metadata": {},
   "outputs": [],
   "source": [
    "zT=np.zeros(len(adata))\n",
    "zT[:len(gT)]=gT\n",
    "adata.obs['Pull_TOME']=zT\n",
    "\n",
    "zM=np.zeros(len(adata))\n",
    "zM[:len(gM)]=gM\n",
    "adata.obs['Pull_Moscot']=zM"
   ]
  },
  {
   "cell_type": "markdown",
   "metadata": {},
   "source": [
    "# Correlation for curated genes"
   ]
  },
  {
   "cell_type": "markdown",
   "metadata": {},
   "source": [
    "The following list of genes was obtained by litarture seach when looking for genes that predict deveopment into first heart field cells. The key in the dictionary corresponds to the citation (Pubmed ID), and the values correspond to the genes the publication lists."
   ]
  },
  {
   "cell_type": "code",
   "execution_count": 6,
   "metadata": {},
   "outputs": [],
   "source": [
    "D={}\n",
    "D['PMID: 33783643']=['Hba-x', 'Hbb-y']\n",
    "D['PMID: 24478716']=['Gata1', 'Klf1', 'Myb', 'Sox6', 'Bcl11a', 'Hba-x','Hba-a1', 'Hbb-y',  'Hbb-bh1', 'Tal1', 'Lmo2', 'Ldb1', 'Zfpm1']\n",
    "\n",
    "# (myb only def erythr.)\n",
    "# Fog1=Zfpm1, Ly76='Ter-119' not found!,  \n",
    "\n",
    "\n",
    "D['PMID: 23243273 ']=['Aqp3', 'Aqp8']\n",
    "D['PMID: 30185409  ']=['Tal1', 'Gata1', 'Lmo2', 'Ldb1']\n",
    "\n",
    "D['PMID: 34496088 ']=['Meis1', 'Hif1a', 'Gata1']\n",
    "\n",
    "\n",
    "D['PMID: 33302450 ']=['Ezh1', 'Gata1', 'Tal1', 'Klf1']\n",
    "\n",
    "D['PMID: Stat3 Is Activated By ROS to Uniquely Regulate Primitive Erythropoiesis (No Pubmed)']=['Stat3']\n",
    "\n",
    "D['PMID: 27716579']=['Nfe2']\n",
    "\n",
    "D['PMID: 9391090']=['Ldb1', 'Lmo2', 'Tal1']\n",
    "\n",
    "genes=[]\n",
    "for a in D.values():\n",
    "    genes=[*genes, *a]\n",
    "\n",
    "# Eliminate duplicates\n",
    "genes=[a for a in set(genes)]"
   ]
  },
  {
   "cell_type": "code",
   "execution_count": 7,
   "metadata": {
    "scrolled": true
   },
   "outputs": [],
   "source": [
    "adataS=sc.read(f\"{Path}/anndatas/scvi_adata_{ts0}_PEC.h5ad\")\n",
    "adataS.var.index=[a for a in adataS.var['gene_names']]"
   ]
  },
  {
   "cell_type": "code",
   "execution_count": 8,
   "metadata": {},
   "outputs": [],
   "source": [
    "sc.pp.highly_variable_genes(adata)\n",
    "hvgs=list(adata.var[adata.var['highly_variable']]['gene_names'])\n",
    "genes_selected=[]\n",
    "for gene in genes:\n",
    "    if gene in hvgs:\n",
    "        genes_selected.append(gene)"
   ]
  },
  {
   "cell_type": "code",
   "execution_count": null,
   "metadata": {},
   "outputs": [],
   "source": []
  },
  {
   "cell_type": "code",
   "execution_count": 9,
   "metadata": {
    "scrolled": true
   },
   "outputs": [],
   "source": [
    "DF=pd.DataFrame({})\n",
    "subset=True\n",
    "\n",
    "for gene in genes_selected:\n",
    "    if gene in [a for a in adataS.var.index]:\n",
    "\n",
    "        loc=adataS.var.index.get_loc(gene)\n",
    "        exp=adataS.layers['scvi_normalized'][:,loc]\n",
    "        #exp=adataS.X[:,loc]\n",
    "        #exp=np.array(exp.todense()).T[0]\n",
    "        \n",
    "        if subset==True:\n",
    "            wh=np.where(adataS.obs['cell_state']=='E7.5:Blood progenitors')[0]\n",
    "            exp=exp[wh]\n",
    "            gT2=gT[wh]\n",
    "            gM2=gM[wh]\n",
    "        else:\n",
    "            gT2=gT.copy()\n",
    "            gM2=gM.copy()\n",
    "        \n",
    "        (cor, p)=scipy.stats.spearmanr(exp, gT2)\n",
    "        dfT=pd.DataFrame({'Timepoint': ts0, 'Gene':[gene], 'Method': 'TOME', 'Correlation':cor, 'P-value':p, 'type':'Spearman'})\n",
    "        (cor, p)=scipy.stats.spearmanr(exp, gM2)\n",
    "        dfM=pd.DataFrame({'Timepoint': ts0, 'Gene':[gene], 'Method': 'moscot', 'Correlation':cor, 'P-value':p, 'type':'Spearman'})\n",
    "        DF=pd.concat([DF, dfM,dfT])\n",
    "    else:\n",
    "        print(gene)\n",
    "DF['Abs. Correlation']=abs(DF['Correlation'])\n",
    "DF.index=np.arange(len(DF))"
   ]
  },
  {
   "cell_type": "code",
   "execution_count": 10,
   "metadata": {},
   "outputs": [],
   "source": [
    "sns.set_style(\"darkgrid\")\n",
    "sns.set(rc={'figure.figsize':(8,4)})"
   ]
  },
  {
   "cell_type": "code",
   "execution_count": 13,
   "metadata": {},
   "outputs": [
    {
     "data": {
      "text/plain": [
       "<AxesSubplot:xlabel='Abs. Correlation', ylabel='Timepoint'>"
      ]
     },
     "execution_count": 13,
     "metadata": {},
     "output_type": "execute_result"
    },
    {
     "data": {
      "image/png": "[encoded data removed]",
      "text/plain": [
       "<Figure size 360x720 with 1 Axes>"
      ]
     },
     "metadata": {
      "needs_background": "light"
     },
     "output_type": "display_data"
    }
   ],
   "source": [
    "pal=sns.color_palette()\n",
    "pals=pal.copy()\n",
    "pals[0]=pal[1]\n",
    "pals[1]=pal[0]\n",
    "fig, ax = plt.subplots(ncols=1, figsize=(5, 10))\n",
    "sns.boxplot(data=DF, x=\"Abs. Correlation\", y=\"Timepoint\", hue='Method', showfliers=True,\n",
    "               showmeans=False,  whis=[100,0], ax=ax, palette=pals)"
   ]
  },
  {
   "cell_type": "code",
   "execution_count": 14,
   "metadata": {},
   "outputs": [],
   "source": [
    "DF.to_pickle(f'{Path}/Correlations/PEC.npy')"
   ]
  },
  {
   "cell_type": "code",
   "execution_count": null,
   "metadata": {},
   "outputs": [],
   "source": []
  },
  {
   "cell_type": "code",
   "execution_count": null,
   "metadata": {},
   "outputs": [],
   "source": []
  },
  {
   "cell_type": "code",
   "execution_count": null,
   "metadata": {},
   "outputs": [],
   "source": []
  }
 ],
 "metadata": {
  "kernelspec": {
   "display_name": "mc",
   "language": "python",
   "name": "mc"
  },
  "language_info": {
   "codemirror_mode": {
    "name": "ipython",
    "version": 3
   },
   "file_extension": ".py",
   "mimetype": "text/x-python",
   "name": "python",
   "nbconvert_exporter": "python",
   "pygments_lexer": "ipython3",
   "version": "3.10.9"
  }
 },
 "nbformat": 4,
 "nbformat_minor": 2
}
