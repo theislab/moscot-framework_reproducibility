{
 "cells": [
  {
   "cell_type": "markdown",
   "metadata": {},
   "source": [
    "# Evaluating Gene Correlations - First heart field"
   ]
  },
  {
   "cell_type": "code",
   "execution_count": 1,
   "metadata": {},
   "outputs": [],
   "source": [
    "import numpy as np\n",
    "import anndata\n",
    "import pandas as pd\n",
    "import matplotlib.pyplot as plt\n",
    "import datetime\n",
    "import time\n",
    "import os\n",
    "import scanpy as sc\n",
    "import sklearn.metrics\n",
    "import seaborn as sns\n",
    "import scipy\n",
    "\n",
    "import matplotlib\n",
    "from scipy.spatial import cKDTree\n",
    "import sys\n",
    "sys.path.append('/home/icb/manuel.gander/Reproducibility_TOME/Utils')\n",
    "\n",
    "# Utils contains some functions I use a lot\n",
    "import Utils\n",
    "\n",
    "#sc.settings.verbosity = 0"
   ]
  },
  {
   "cell_type": "code",
   "execution_count": 2,
   "metadata": {},
   "outputs": [],
   "source": [
    "Path=\"/home/icb/manuel.gander/Reproducibility_TOME/Data\"\n",
    "\n",
    "# Define time points\n",
    "t=[3.5, 4.5, 5.25, 5.5]+[6.25+x/4 for x in range(0,10)]+[8.5]+[9.5+x for x in range(0,5)]\n",
    "ts=[str(a) for a in [3.5, 4.5, 5.25, 5.5, 6.25]] + [str(a) for a in np.arange(6.5, 8.5, 0.25)] + ['8.5a', '8.5b']+ [str(a) for a in np.arange(9.5, 14.5, 1)]\n",
    "ts=['E'+a for a in ts]\n",
    "\n",
    "\n",
    "t2=[3.5, 4.5, 5.25, 5.5]+[6.25+x/4 for x in range(0,10)]+[9.5+x for x in range(0,5)]\n",
    "\n",
    "# Growth of embryo:\n",
    "#    - cells corresponds to the estimated total amount of cells in the embryo for each time point\n",
    "#    - av_g corresponds to the average grwoth rate of the embryo at each specific time point\n",
    "cells=[32, 80, 100, 120, 400, 660, 1720, 4500, 8200, 15000, 30000, 60000, 73000, 90000, 200000, 1100000, 2600000, 6000000, 13000000 ]\n",
    "av_g=np.zeros(len(t2)-1)\n",
    "for i in range(0,len(av_g)):\n",
    "    av_g[i]=cells[i+1]/cells[i]/(t2[i+1]-t2[i])"
   ]
  },
  {
   "cell_type": "code",
   "execution_count": 3,
   "metadata": {},
   "outputs": [],
   "source": [
    "pal=sns.color_palette()\n",
    "pals=pal.copy()\n",
    "pals[0]=pal[1]\n",
    "pals[1]=pal[0]"
   ]
  },
  {
   "cell_type": "markdown",
   "metadata": {},
   "source": [
    "# Load anndatas and maps"
   ]
  },
  {
   "cell_type": "code",
   "execution_count": 4,
   "metadata": {},
   "outputs": [
    {
     "name": "stdout",
     "output_type": "stream",
     "text": [
      "E7.75\n"
     ]
    },
    {
     "name": "stderr",
     "output_type": "stream",
     "text": [
      "/home/icb/manuel.gander/miniconda3/envs/m/lib/python3.10/site-packages/anndata/_core/anndata.py:1785: FutureWarning: X.dtype being converted to np.float32 from float64. In the next version of anndata (0.9) conversion will not be automatic. Pass dtype explicitly to avoid this warning. Pass `AnnData(X, dtype=X.dtype, ...)` to get the future behavour.\n",
      "  [AnnData(sparse.csr_matrix(a.shape), obs=a.obs) for a in all_adatas],\n",
      "/home/icb/manuel.gander/miniconda3/envs/m/lib/python3.10/site-packages/anndata/_core/anndata.py:1785: FutureWarning: X.dtype being converted to np.float32 from float64. In the next version of anndata (0.9) conversion will not be automatic. Pass dtype explicitly to avoid this warning. Pass `AnnData(X, dtype=X.dtype, ...)` to get the future behavour.\n",
      "  [AnnData(sparse.csr_matrix(a.shape), obs=a.obs) for a in all_adatas],\n"
     ]
    }
   ],
   "source": [
    "ct='First heart field'\n",
    "i=10\n",
    "\n",
    "\n",
    "ts0=ts[i]\n",
    "print(ts0)\n",
    "ts1=ts[i+1]\n",
    "\n",
    "(A0,  A1)=Utils.load_adata(ts0, ts1)\n",
    "\n",
    "adata=A0.concatenate(A1, join='outer', index_unique=None)"
   ]
  },
  {
   "cell_type": "code",
   "execution_count": 13,
   "metadata": {},
   "outputs": [],
   "source": [
    "eps=0.005\n",
    "\n",
    "gT=np.load(f\"{Path}/TOME-maps/Gene_cor_{ts0}_{ct}.npy\", allow_pickle=True)\n",
    "gM=np.load(f\"{Path}/Moscot-maps/Gene_cor_{ts0}_{ct}_{eps}.npy\", allow_pickle=True)\n",
    "gT = dict(enumerate(gT.flatten(), 1))[1]['g']\n",
    "gM = dict(enumerate(gM.flatten(), 1))[1]['g']\n",
    "\n",
    "\n",
    "gT=gT/gT.sum()*len(A1[A1.obs['cell_type']==ct])*cells[11]/cells[10]\n",
    "gM=gM/gM.sum()*len(A1[A1.obs['cell_type']==ct])*cells[11]/cells[10]"
   ]
  },
  {
   "cell_type": "code",
   "execution_count": 14,
   "metadata": {},
   "outputs": [],
   "source": [
    "zT=np.zeros(len(adata))\n",
    "zT[:len(gT)]=gT\n",
    "adata.obs['Pull_TOME']=zT\n",
    "\n",
    "zM=np.zeros(len(adata))\n",
    "zM[:len(gM)]=gM\n",
    "adata.obs['Pull_Moscot']=zM"
   ]
  },
  {
   "cell_type": "markdown",
   "metadata": {},
   "source": [
    "# Correlation for curated genes"
   ]
  },
  {
   "cell_type": "markdown",
   "metadata": {},
   "source": [
    "The following list of genes was obtained by litarture seach when looking for genes that predict deveopment into first heart field cells. The key in the dictionary corresponds to the citation (Pubmed ID), and the values correspond to the genes the publication lists."
   ]
  },
  {
   "cell_type": "markdown",
   "metadata": {},
   "source": [
    "TOME used the following genes to identify the first heart field cluster: Tbx5, Hcn4, Gata4."
   ]
  },
  {
   "cell_type": "code",
   "execution_count": 15,
   "metadata": {},
   "outputs": [],
   "source": [
    "D={}\n",
    "D['PMID: 25274757']=['Nkx2-5', 'Gata4', 'Tbx5', 'Smarcd3']\n",
    "\n",
    "# Isl1 and Tbx1 are SHF-driver genes!!!\n",
    "#D['PMID: 22072574']=['Isl1', 'Tbx1', 'Tbx5']\n",
    "\n",
    "\n",
    "D['PMID: 23457256']=['Eomes', 'Mesp1', 'Kdr', 'Pdgfra', 'Nkx2-5',  'Bmp2', 'Wnt1', 'Notch1', 'Tbx5', 'Gata4', \n",
    "                     'Mef2c', 'Mef2a', 'Smarcd3', 'Gata6']\n",
    "D['PMID: 27194630']=['Tnnt2']\n",
    "D['PMID: 23743334']=['Hcn4']\n",
    "D['PMID: 18924235']=['Bmp4', 'Mef2c']\n",
    "D['PMID: 30288953']=['Hand1', 'Hand2', 'Gata4', 'Mef2c', 'Tbx5']\n",
    "\n",
    "D['PMID: 29440224']=['Nkx2-5', 'Tbx20', 'Foxf1','Pdgfra', 'Kdr', \n",
    "                     'Smarcd3', 'Foxa2',  'Bmp4', 'Hdac3', 'Nup155', 'Myod1']\n",
    "\n",
    "D['PMID: 24123507']=['Irx4']\n",
    "D['PMID: 17576928']=['Wnt2', 'Wnt7a', 'Wnt8a']\n",
    "D['PMID: 29985326']=['Actc1']   #Actc1 is pan-cardiac marker\n",
    "D['PMID: 33585493']=['Tbx20']\n",
    "\n",
    "# Only in chamber myocardium: Nppa\n",
    "# Only in AV canal: Tbx2\n",
    "\n",
    "genes=[]\n",
    "for a in D.values():\n",
    "    genes=[*genes, *a]\n",
    "\n",
    "# Eliminate duplicates\n",
    "genes=[a for a in set(genes)]"
   ]
  },
  {
   "cell_type": "code",
   "execution_count": 16,
   "metadata": {},
   "outputs": [],
   "source": [
    "adataS=sc.read(f\"{Path}/anndatas/scvi_adata_{ts0}_FHF.h5ad\")\n",
    "adataS.var.index=[a for a in adataS.var['gene_names']]"
   ]
  },
  {
   "cell_type": "code",
   "execution_count": 17,
   "metadata": {},
   "outputs": [],
   "source": [
    "sc.pp.highly_variable_genes(adata)\n",
    "hvgs=list(adata.var[adata.var['highly_variable']]['gene_names'])\n",
    "genes_selected=[]\n",
    "for gene in genes:\n",
    "    if gene in hvgs:\n",
    "        genes_selected.append(gene)"
   ]
  },
  {
   "cell_type": "code",
   "execution_count": null,
   "metadata": {},
   "outputs": [],
   "source": []
  },
  {
   "cell_type": "code",
   "execution_count": 18,
   "metadata": {
    "scrolled": true
   },
   "outputs": [],
   "source": [
    "subset=True\n",
    "\n",
    "DF=pd.DataFrame({})\n",
    "\n",
    "for gene in genes_selected:\n",
    "    if gene in [a for a in adataS.var.index]:\n",
    "\n",
    "        loc=adataS.var.index.get_loc(gene)\n",
    "        exp=adataS.layers['scvi_normalized'][:,loc]\n",
    "        #exp=adataS.X[:,loc]\n",
    "        #exp=np.array(exp.todense()).T[0]\n",
    "        \n",
    "        if subset==True:\n",
    "            wh=np.where(adataS.obs['cell_state'].isin(['E7.75:Splanchnic mesoderm', 'E7.75:First heart field']))[0]\n",
    "            exp=exp[wh]\n",
    "            gT2=gT[wh]\n",
    "            gM2=gM[wh]\n",
    "        else:\n",
    "            gT2=gT.copy()\n",
    "            gM2=gM.copy()\n",
    "\n",
    "\n",
    "        (cor, p)=scipy.stats.spearmanr(exp, gT2)\n",
    "        dfT=pd.DataFrame({'Timepoint': ts0, 'Gene':[gene], 'Method': 'TOME', 'Correlation':cor, 'P-value':p, 'type':'Spearman'})\n",
    "        (cor, p)=scipy.stats.spearmanr(exp, gM2)\n",
    "        dfM=pd.DataFrame({'Timepoint': ts0, 'Gene':[gene], 'Method': 'moscot', 'Correlation':cor, 'P-value':p, 'type':'Spearman'})\n",
    "        DF=pd.concat([DF, dfM,dfT])\n",
    "DF['Abs. Correlation']=abs(DF['Correlation'])\n",
    "DF.index=np.arange(len(DF))"
   ]
  },
  {
   "cell_type": "code",
   "execution_count": 20,
   "metadata": {},
   "outputs": [
    {
     "data": {
      "text/plain": [
       "<AxesSubplot:xlabel='Abs. Correlation', ylabel='Timepoint'>"
      ]
     },
     "execution_count": 20,
     "metadata": {},
     "output_type": "execute_result"
    },
    {
     "data": {
      "image/png": "[encoded data removed]",
      "text/plain": [
       "<Figure size 360x720 with 1 Axes>"
      ]
     },
     "metadata": {
      "needs_background": "light"
     },
     "output_type": "display_data"
    }
   ],
   "source": [
    "fig, ax = plt.subplots(ncols=1, figsize=(5, 10))\n",
    "sns.boxplot(data=DF, x=\"Abs. Correlation\", y=\"Timepoint\", hue='Method', showfliers=True,\n",
    "               showmeans=False,  whis=[100,0], ax=ax, palette=pals)"
   ]
  },
  {
   "cell_type": "code",
   "execution_count": 21,
   "metadata": {},
   "outputs": [],
   "source": [
    "DF.to_pickle(f'{Path}/Correlations/FHF.npy')"
   ]
  },
  {
   "cell_type": "code",
   "execution_count": null,
   "metadata": {},
   "outputs": [],
   "source": []
  }
 ],
 "metadata": {
  "kernelspec": {
   "display_name": "m",
   "language": "python",
   "name": "m"
  },
  "language_info": {
   "codemirror_mode": {
    "name": "ipython",
    "version": 3
   },
   "file_extension": ".py",
   "mimetype": "text/x-python",
   "name": "python",
   "nbconvert_exporter": "python",
   "pygments_lexer": "ipython3",
   "version": "3.10.5"
  }
 },
 "nbformat": 4,
 "nbformat_minor": 2
}
