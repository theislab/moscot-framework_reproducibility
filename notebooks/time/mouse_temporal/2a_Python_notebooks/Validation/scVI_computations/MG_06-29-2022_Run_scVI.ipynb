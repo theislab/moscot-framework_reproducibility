{
 "cells": [
  {
   "cell_type": "markdown",
   "metadata": {},
   "source": [
    "# scVI for normalized_gene_expression"
   ]
  },
  {
   "cell_type": "markdown",
   "metadata": {},
   "source": [
    "scVI is run here to obtain a more smoothed gene expression landscape. This is mostly done because for cells with 0 expression in some genes correlations of pull to these driver genes does not work well. "
   ]
  },
  {
   "cell_type": "code",
   "execution_count": 1,
   "metadata": {
    "scrolled": true
   },
   "outputs": [
    {
     "name": "stderr",
     "output_type": "stream",
     "text": [
      "Global seed set to 0\n",
      "/home/mgander/miniconda3/envs/mc/lib/python3.10/site-packages/flax/struct.py:132: FutureWarning: jax.tree_util.register_keypaths is deprecated, and will be removed in a future release. Please use `register_pytree_with_keys()` instead.\n",
      "  jax.tree_util.register_keypaths(data_clz, keypaths)\n",
      "/home/mgander/miniconda3/envs/mc/lib/python3.10/site-packages/flax/struct.py:132: FutureWarning: jax.tree_util.register_keypaths is deprecated, and will be removed in a future release. Please use `register_pytree_with_keys()` instead.\n",
      "  jax.tree_util.register_keypaths(data_clz, keypaths)\n"
     ]
    }
   ],
   "source": [
    "import numpy as np\n",
    "import anndata\n",
    "import scanpy as sc\n",
    "import scvi"
   ]
  },
  {
   "cell_type": "code",
   "execution_count": 2,
   "metadata": {},
   "outputs": [
    {
     "name": "stdout",
     "output_type": "stream",
     "text": [
      "Package                           Version\n",
      "--------------------------------- --------------------\n",
      "absl-py                           1.2.0\n",
      "anndata                           0.8.0\n",
      "anyio                             3.6.1\n",
      "argon2-cffi                       21.3.0\n",
      "argon2-cffi-bindings              21.2.0\n",
      "asttokens                         2.0.5\n",
      "astunparse                        1.6.3\n",
      "attrs                             22.1.0\n",
      "Babel                             2.10.3\n",
      "backcall                          0.2.0\n",
      "backports.functools-lru-cache     1.6.4\n",
      "beautifulsoup4                    4.11.1\n",
      "bleach                            5.0.1\n",
      "bokeh                             2.4.3\n",
      "brotlipy                          0.7.0\n",
      "CacheControl                      0.12.11\n",
      "cached-property                   1.5.2\n",
      "cachetools                        5.2.0\n",
      "cachy                             0.3.0\n",
      "certifi                           2022.12.7\n",
      "cffi                              1.15.1\n",
      "charset-normalizer                2.1.0\n",
      "chex                              0.1.6\n",
      "cleo                              1.0.0a5\n",
      "click                             8.1.3\n",
      "cloudpickle                       2.2.1\n",
      "clr-loader                        0.2.3\n",
      "cmake                             3.26.0\n",
      "colorcet                          3.0.1\n",
      "commonmark                        0.9.1\n",
      "crashtest                         0.3.1\n",
      "cryptography                      37.0.4\n",
      "cycler                            0.11.0\n",
      "dask                              2023.1.1\n",
      "datashader                        0.14.4\n",
      "datashape                         0.5.2\n",
      "debugpy                           1.6.0\n",
      "decorator                         5.1.1\n",
      "defusedxml                        0.7.1\n",
      "distlib                           0.3.6\n",
      "dm-tree                           0.1.8\n",
      "dnspython                         2.3.0\n",
      "docrep                            0.3.2\n",
      "docutils                          0.19\n",
      "dulwich                           0.20.46\n",
      "entrypoints                       0.4\n",
      "et-xmlfile                        1.1.0\n",
      "etils                             1.0.0\n",
      "executing                         0.9.1\n",
      "fastjsonschema                    2.16.1\n",
      "filelock                          3.8.0\n",
      "flatbuffers                       1.12\n",
      "flax                              0.6.7\n",
      "flit_core                         3.7.1\n",
      "fonttools                         4.34.4\n",
      "fsspec                            2023.1.0\n",
      "gast                              0.4.0\n",
      "google-auth                       2.11.0\n",
      "google-auth-oauthlib              0.4.6\n",
      "google-pasta                      0.2.0\n",
      "graphviz                          0.20.1\n",
      "grpcio                            1.47.0\n",
      "h5py                              3.7.0\n",
      "holoviews                         1.15.4\n",
      "html5lib                          1.1\n",
      "idna                              3.3\n",
      "igraph                            0.9.11\n",
      "imageio                           2.25.0\n",
      "implicit                          0.6.1\n",
      "importlib-metadata                4.11.4\n",
      "importlib-resources               5.9.0\n",
      "ipykernel                         6.15.1\n",
      "ipython                           8.4.0\n",
      "ipython-genutils                  0.2.0\n",
      "ipywidgets                        8.0.1\n",
      "jaraco.classes                    3.2.3\n",
      "jax                               0.4.8\n",
      "jaxlib                            0.4.7+cuda11.cudnn86\n",
      "jaxopt                            0.6\n",
      "jedi                              0.18.1\n",
      "jeepney                           0.8.0\n",
      "Jinja2                            3.1.2\n",
      "joblib                            1.1.0\n",
      "json5                             0.9.5\n",
      "jsonschema                        4.16.0\n",
      "jupyter-client                    7.3.4\n",
      "jupyter-contrib-core              0.4.2\n",
      "jupyter-contrib-nbextensions      0.7.0\n",
      "jupyter_core                      4.11.1\n",
      "jupyter-highlight-selected-word   0.2.0\n",
      "jupyter-nbextensions-configurator 0.6.1\n",
      "jupyter-server                    1.18.1\n",
      "jupyterlab                        3.4.4\n",
      "jupyterlab-pygments               0.2.2\n",
      "jupyterlab-server                 2.15.0\n",
      "jupyterlab-widgets                3.0.2\n",
      "keras                             2.9.0\n",
      "Keras-Preprocessing               1.1.2\n",
      "keyring                           23.9.3\n",
      "kiwisolver                        1.4.4\n",
      "leidenalg                         0.8.10\n",
      "libclang                          14.0.6\n",
      "lit                               16.0.0\n",
      "llvmlite                          0.39.0\n",
      "locket                            1.0.0\n",
      "lockfile                          0.12.2\n",
      "loompy                            3.0.7\n",
      "lxml                              4.9.2\n",
      "Markdown                          3.4.1\n",
      "MarkupSafe                        2.1.1\n",
      "matplotlib                        3.5.2\n",
      "matplotlib-inline                 0.1.3\n",
      "mistune                           0.8.4\n",
      "ml-dtypes                         0.1.0\n",
      "more-itertools                    8.14.0\n",
      "moscot                            0.2.0\n",
      "mpmath                            1.3.0\n",
      "msgpack                           1.0.4\n",
      "multipledispatch                  0.6.0\n",
      "natsort                           8.1.0\n",
      "nbclassic                         0.4.3\n",
      "nbclient                          0.6.6\n",
      "nbconvert                         6.5.0\n",
      "nbformat                          5.4.0\n",
      "nest-asyncio                      1.5.5\n",
      "networkx                          2.8.5\n",
      "notebook                          6.4.12\n",
      "notebook-shim                     0.1.0\n",
      "numba                             0.56.4\n",
      "numpy                             1.23.5\n",
      "numpy-groupies                    0.9.17\n",
      "nvidia-cublas-cu11                11.10.3.66\n",
      "nvidia-cuda-cupti-cu11            11.7.101\n",
      "nvidia-cuda-nvrtc-cu11            11.7.99\n",
      "nvidia-cuda-runtime-cu11          11.7.99\n",
      "nvidia-cudnn-cu11                 8.5.0.96\n",
      "nvidia-cufft-cu11                 10.9.0.58\n",
      "nvidia-curand-cu11                10.2.10.91\n",
      "nvidia-cusolver-cu11              11.4.0.1\n",
      "nvidia-cusparse-cu11              11.7.4.91\n",
      "nvidia-nccl-cu11                  2.14.3\n",
      "nvidia-nvtx-cu11                  11.7.91\n",
      "oauthlib                          3.2.0\n",
      "openpyxl                          3.0.10\n",
      "opt-einsum                        3.3.0\n",
      "optax                             0.1.4\n",
      "orbax                             0.1.3\n",
      "ott-jax                           0.4.0\n",
      "packaging                         21.3\n",
      "pandas                            1.5.2\n",
      "pandocfilters                     1.5.0\n",
      "panel                             0.14.3\n",
      "param                             1.12.3\n",
      "parso                             0.8.3\n",
      "partd                             1.3.0\n",
      "patsy                             0.5.2\n",
      "pexpect                           4.8.0\n",
      "pickleshare                       0.7.5\n",
      "Pillow                            9.2.0\n",
      "pip                               22.2.1\n",
      "pkginfo                           1.8.3\n",
      "pkgutil_resolve_name              1.3.10\n",
      "platformdirs                      2.5.2\n",
      "plotly                            5.10.0\n",
      "poetry                            1.2.2\n",
      "poetry-core                       1.3.2\n",
      "poetry-plugin-export              1.1.2\n",
      "POT                               0.8.2\n",
      "prometheus-client                 0.14.1\n",
      "prompt-toolkit                    3.0.30\n",
      "protobuf                          3.19.4\n",
      "psite-recommender                 0.1.0\n",
      "psutil                            5.9.1\n",
      "ptyprocess                        0.7.0\n",
      "pure-eval                         0.2.2\n",
      "pyasn1                            0.4.8\n",
      "pyasn1-modules                    0.2.8\n",
      "pycparser                         2.21\n",
      "pyct                              0.5.0\n",
      "pydantic                          1.10.4\n",
      "pydot                             1.4.2\n",
      "pygame                            2.1.2\n",
      "Pygments                          2.12.0\n",
      "pylev                             1.4.0\n",
      "pymongo                           4.3.3\n",
      "pymzml                            2.5.2\n",
      "pynndescent                       0.5.7\n",
      "pyOpenSSL                         22.0.0\n",
      "pyparsing                         3.0.9\n",
      "pyrsistent                        0.18.1\n",
      "PySocks                           1.7.1\n",
      "pyteomics                         4.5.7a5\n",
      "python-dateutil                   2.8.2\n",
      "pythonnet                         3.0.0rc6\n",
      "pytz                              2022.1\n",
      "pyviz-comms                       2.2.1\n",
      "PyWavelets                        1.4.1\n",
      "PyYAML                            6.0\n",
      "pyzmq                             23.2.0\n",
      "readme-renderer                   37.3\n",
      "regex                             2022.10.31\n",
      "requests                          2.28.1\n",
      "requests-oauthlib                 1.3.1\n",
      "requests-toolbelt                 0.9.1\n",
      "rfc3986                           2.0.0\n",
      "rich                              12.6.0\n",
      "rsa                               4.9\n",
      "scanpy                            1.9.3\n",
      "scikit-image                      0.19.3\n",
      "scikit-learn                      1.1.1\n",
      "scipy                             1.9.0\n",
      "scvelo                            0.2.4\n",
      "seaborn                           0.12.1\n",
      "SecretStorage                     3.3.3\n",
      "Send2Trash                        1.8.0\n",
      "session-info                      1.0.0\n",
      "setuptools                        63.3.0\n",
      "shellingham                       1.5.0\n",
      "six                               1.16.0\n",
      "sniffio                           1.2.0\n",
      "soupsieve                         2.3.2.post1\n",
      "stack-data                        0.3.0\n",
      "statsmodels                       0.13.2\n",
      "stdlib-list                       0.8.0\n",
      "sympy                             1.11.1\n",
      "tenacity                          8.1.0\n",
      "tensorboard                       2.9.1\n",
      "tensorboard-data-server           0.6.1\n",
      "tensorboard-plugin-wit            1.8.1\n",
      "tensorflow                        2.9.1\n",
      "tensorflow-estimator              2.9.0\n",
      "tensorflow-io-gcs-filesystem      0.26.0\n",
      "tensorstore                       0.1.33\n",
      "termcolor                         1.1.0\n",
      "terminado                         0.15.0\n",
      "texttable                         1.6.4\n",
      "threadpoolctl                     3.1.0\n",
      "tifffile                          2023.2.3\n",
      "tinycss2                          1.1.1\n",
      "toml                              0.10.2\n",
      "tomli                             2.0.1\n",
      "tomlkit                           0.11.5\n",
      "toolz                             0.12.0\n",
      "torch                             2.0.0\n",
      "torchvision                       0.15.1\n",
      "tornado                           6.2\n",
      "tqdm                              4.64.0\n",
      "traitlets                         5.3.0\n",
      "triton                            2.0.0\n",
      "twine                             4.0.1\n",
      "typing_extensions                 4.3.0\n",
      "umap-learn                        0.5.3\n",
      "urllib3                           1.26.11\n",
      "virtualenv                        20.16.5\n",
      "wcwidth                           0.2.5\n",
      "webencodings                      0.5.1\n",
      "websocket-client                  1.3.3\n",
      "Werkzeug                          2.2.2\n",
      "wheel                             0.37.1\n",
      "widgetsnbextension                4.0.2\n",
      "wrapt                             1.14.1\n",
      "xarray                            2023.1.0\n",
      "zipp                              3.8.0\n"
     ]
    }
   ],
   "source": [
    "!pip list"
   ]
  },
  {
   "cell_type": "code",
   "execution_count": 3,
   "metadata": {},
   "outputs": [],
   "source": [
    "Path=\"/home/mgander/moscot-framework_reproducibility/data/mouse_temporal\"\n",
    "ts=['E3.5', 'E4.5', 'E5.25', 'E5.5', 'E6.25', 'E6.5', 'E6.75', 'E7.0', 'E7.25', 'E7.5', 'E7.75', 'E8.0', 'E8.25', 'E8.5a', 'E8.5b', 'E9.5', 'E10.5', 'E11.5', 'E12.5', 'E13.5']"
   ]
  },
  {
   "cell_type": "markdown",
   "metadata": {},
   "source": [
    "# Running scVI over all time points of interest"
   ]
  },
  {
   "cell_type": "code",
   "execution_count": null,
   "metadata": {},
   "outputs": [
    {
     "name": "stdout",
     "output_type": "stream",
     "text": [
      "E7.0\n"
     ]
    },
    {
     "name": "stderr",
     "output_type": "stream",
     "text": [
      "GPU available: True, used: True\n",
      "TPU available: False, using: 0 TPU cores\n",
      "IPU available: False, using: 0 IPUs\n",
      "HPU available: False, using: 0 HPUs\n",
      "LOCAL_RANK: 0 - CUDA_VISIBLE_DEVICES: [0]\n"
     ]
    },
    {
     "name": "stdout",
     "output_type": "stream",
     "text": [
      "Epoch 30/400:   7%|█████                                                                 | 29/400 [00:27<05:00,  1.23it/s, loss=1.59e+03, v_num=1]"
     ]
    }
   ],
   "source": [
    "number_of_hvgs=3000\n",
    "\n",
    "for i in [7,9,10,16]:\n",
    "    ts0=ts[i]\n",
    "    ts1=ts[i+1]\n",
    "    print(ts0)\n",
    "    # Prepare the data set\n",
    "    adata=anndata.read(f'{Path}/anndatas/adata_{ts0}.h5ad')\n",
    "    adata=adata.raw.to_adata()\n",
    "    adata.layers[\"counts\"] = adata.X.copy()\n",
    "    sc.pp.highly_variable_genes(adata, n_top_genes=number_of_hvgs, subset=True, layer=\"counts\", flavor=\"seurat_v3\")\n",
    "    \n",
    "    # Run scVI\n",
    "    scvi.model.SCVI.setup_anndata(adata, layer=\"counts\")\n",
    "    model = scvi.model.SCVI(adata)\n",
    "    model.train()\n",
    "    adata.obsm[\"X_scVI\"]=model.get_latent_representation()\n",
    "    adata.layers[\"scvi_normalized\"] = model.get_normalized_expression(library_size=10e4)\n",
    "    adata.write(f'{Path}/anndatas/scvi_adata_{ts0}.h5ad', compression='gzip')"
   ]
  },
  {
   "cell_type": "code",
   "execution_count": null,
   "metadata": {},
   "outputs": [],
   "source": []
  },
  {
   "cell_type": "code",
   "execution_count": 19,
   "metadata": {
    "scrolled": true
   },
   "outputs": [
    {
     "name": "stdout",
     "output_type": "stream",
     "text": [
      "E8.0\n"
     ]
    },
    {
     "name": "stderr",
     "output_type": "stream",
     "text": [
      "No GPU/TPU found, falling back to CPU. (Set TF_CPP_MIN_LOG_LEVEL=0 and rerun for more info.)\n",
      "GPU available: True (cuda), used: True\n",
      "TPU available: False, using: 0 TPU cores\n",
      "IPU available: False, using: 0 IPUs\n",
      "HPU available: False, using: 0 HPUs\n",
      "LOCAL_RANK: 0 - CUDA_VISIBLE_DEVICES: [0,1]\n"
     ]
    },
    {
     "name": "stdout",
     "output_type": "stream",
     "text": [
      "Epoch 400/400: 100%|██████████████████████████████████████████████████████████████████████████████████| 400/400 [27:45<00:00,  4.16s/it, loss=1.37e+03, v_num=1]"
     ]
    },
    {
     "name": "stderr",
     "output_type": "stream",
     "text": [
      "`Trainer.fit` stopped: `max_epochs=400` reached.\n"
     ]
    },
    {
     "name": "stdout",
     "output_type": "stream",
     "text": [
      "Epoch 400/400: 100%|██████████████████████████████████████████████████████████████████████████████████| 400/400 [27:45<00:00,  4.16s/it, loss=1.37e+03, v_num=1]\n"
     ]
    }
   ],
   "source": [
    "number_of_hvgs=3000\n",
    "\n",
    "for i in [11]:\n",
    "    ts0=ts[i]\n",
    "    ts1=ts[i+1]\n",
    "    print(ts0)\n",
    "    # Prepare the data set\n",
    "    adata=anndata.read(f'{Path}/anndatas/Comb_anndatas/adata_{ts0}_{ts1}.h5ad')\n",
    "    adata=adata[adata.obs['day']==min(set(adata.obs['day']))].copy()\n",
    "    avar=adata.var.copy()\n",
    "    adata=adata.raw.to_adata()\n",
    "    adata.var=avar.copy()\n",
    "    adata.layers[\"counts\"] = adata.X.copy()\n",
    "    sc.pp.highly_variable_genes(adata, n_top_genes=number_of_hvgs, subset=True, layer=\"counts\", flavor=\"seurat_v3\")\n",
    "\n",
    "\n",
    "    # Run scVI\n",
    "    scvi.model.SCVI.setup_anndata(adata, layer=\"counts\")\n",
    "    model = scvi.model.SCVI(adata)\n",
    "    model.train()\n",
    "    adata.obsm[\"X_scVI\"]=model.get_latent_representation()\n",
    "    adata.layers[\"scvi_normalized\"] = model.get_normalized_expression(library_size=10e4)\n",
    "    adata.write(f'{Path}/anndatas/scVI_anndatas/scvi_adata_{ts0}.h5ad', compression='gzip')"
   ]
  },
  {
   "cell_type": "code",
   "execution_count": null,
   "metadata": {},
   "outputs": [],
   "source": []
  },
  {
   "cell_type": "code",
   "execution_count": 6,
   "metadata": {
    "collapsed": true
   },
   "outputs": [
    {
     "name": "stdout",
     "output_type": "stream",
     "text": [
      "E8.25\n"
     ]
    },
    {
     "name": "stderr",
     "output_type": "stream",
     "text": [
      "No GPU/TPU found, falling back to CPU. (Set TF_CPP_MIN_LOG_LEVEL=0 and rerun for more info.)\n",
      "GPU available: True (cuda), used: True\n",
      "TPU available: False, using: 0 TPU cores\n",
      "IPU available: False, using: 0 IPUs\n",
      "HPU available: False, using: 0 HPUs\n",
      "LOCAL_RANK: 0 - CUDA_VISIBLE_DEVICES: [0,1]\n"
     ]
    },
    {
     "name": "stdout",
     "output_type": "stream",
     "text": [
      "Epoch 400/400: 100%|██████████████████████████████████████████████████████████████████████████████████| 400/400 [19:15<00:00,  2.54s/it, loss=1.41e+03, v_num=1]"
     ]
    },
    {
     "name": "stderr",
     "output_type": "stream",
     "text": [
      "`Trainer.fit` stopped: `max_epochs=400` reached.\n"
     ]
    },
    {
     "name": "stdout",
     "output_type": "stream",
     "text": [
      "Epoch 400/400: 100%|██████████████████████████████████████████████████████████████████████████████████| 400/400 [19:15<00:00,  2.89s/it, loss=1.41e+03, v_num=1]\n"
     ]
    }
   ],
   "source": [
    "number_of_hvgs=3000\n",
    "\n",
    "for i in [12]:\n",
    "    ts0=ts[i]\n",
    "    ts1=ts[i+1]\n",
    "    print(ts0)\n",
    "    # Prepare the data set\n",
    "    adata=anndata.read(f'{Path}/anndatas/Comb_anndatas/adata_{ts0}_{ts1}.h5ad')\n",
    "    adata=adata[adata.obs['day']==min(set(adata.obs['day']))].copy()\n",
    "    avar=adata.var.copy()\n",
    "    adata=adata.raw.to_adata()\n",
    "    adata.var=avar.copy()\n",
    "    adata.layers[\"counts\"] = adata.X.copy()\n",
    "    sc.pp.highly_variable_genes(adata, n_top_genes=number_of_hvgs, subset=True, layer=\"counts\", flavor=\"seurat_v3\")\n",
    "\n",
    "\n",
    "    # Run scVI\n",
    "    scvi.model.SCVI.setup_anndata(adata, layer=\"counts\")\n",
    "    model = scvi.model.SCVI(adata)\n",
    "    model.train()\n",
    "    adata.obsm[\"X_scVI\"]=model.get_latent_representation()\n",
    "    adata.layers[\"scvi_normalized\"] = model.get_normalized_expression(library_size=10e4)\n",
    "    adata.write(f'{Path}/anndatas/scVI_anndatas/scvi_adata_{ts0}.h5ad', compression='gzip')"
   ]
  },
  {
   "cell_type": "code",
   "execution_count": null,
   "metadata": {},
   "outputs": [],
   "source": []
  },
  {
   "cell_type": "code",
   "execution_count": 7,
   "metadata": {},
   "outputs": [
    {
     "name": "stdout",
     "output_type": "stream",
     "text": [
      "E6.75\n"
     ]
    },
    {
     "name": "stderr",
     "output_type": "stream",
     "text": [
      "GPU available: True (cuda), used: True\n",
      "TPU available: False, using: 0 TPU cores\n",
      "IPU available: False, using: 0 IPUs\n",
      "HPU available: False, using: 0 HPUs\n",
      "LOCAL_RANK: 0 - CUDA_VISIBLE_DEVICES: [0,1]\n"
     ]
    },
    {
     "name": "stdout",
     "output_type": "stream",
     "text": [
      "Epoch 400/400: 100%|██████████████████████████████████████████████████████████████████████████████████| 400/400 [02:17<00:00,  2.87it/s, loss=1.52e+03, v_num=1]"
     ]
    },
    {
     "name": "stderr",
     "output_type": "stream",
     "text": [
      "`Trainer.fit` stopped: `max_epochs=400` reached.\n"
     ]
    },
    {
     "name": "stdout",
     "output_type": "stream",
     "text": [
      "Epoch 400/400: 100%|██████████████████████████████████████████████████████████████████████████████████| 400/400 [02:17<00:00,  2.91it/s, loss=1.52e+03, v_num=1]\n"
     ]
    }
   ],
   "source": [
    "number_of_hvgs=3000\n",
    "\n",
    "for i in [6]:\n",
    "    ts0=ts[i]\n",
    "    ts1=ts[i+1]\n",
    "    print(ts0)\n",
    "    # Prepare the data set\n",
    "    adata=anndata.read(f'{Path}/anndatas/Comb_anndatas/adata_{ts0}_{ts1}.h5ad')\n",
    "    adata=adata[adata.obs['day']==min(set(adata.obs['day']))].copy()\n",
    "    avar=adata.var.copy()\n",
    "    adata=adata.raw.to_adata()\n",
    "    adata.var=avar.copy()\n",
    "    adata.layers[\"counts\"] = adata.X.copy()\n",
    "    sc.pp.highly_variable_genes(adata, n_top_genes=number_of_hvgs, subset=True, layer=\"counts\", flavor=\"seurat_v3\")\n",
    "\n",
    "\n",
    "    # Run scVI\n",
    "    scvi.model.SCVI.setup_anndata(adata, layer=\"counts\")\n",
    "    model = scvi.model.SCVI(adata)\n",
    "    model.train()\n",
    "    adata.obsm[\"X_scVI\"]=model.get_latent_representation()\n",
    "    adata.layers[\"scvi_normalized\"] = model.get_normalized_expression(library_size=10e4)\n",
    "    adata.write(f'{Path}/anndatas/scVI_anndatas/scvi_adata_{ts0}.h5ad', compression='gzip')"
   ]
  },
  {
   "cell_type": "code",
   "execution_count": null,
   "metadata": {},
   "outputs": [],
   "source": []
  },
  {
   "cell_type": "code",
   "execution_count": null,
   "metadata": {},
   "outputs": [],
   "source": []
  },
  {
   "cell_type": "code",
   "execution_count": 4,
   "metadata": {},
   "outputs": [
    {
     "name": "stdout",
     "output_type": "stream",
     "text": [
      "E7.25\n"
     ]
    },
    {
     "name": "stderr",
     "output_type": "stream",
     "text": [
      "No GPU/TPU found, falling back to CPU. (Set TF_CPP_MIN_LOG_LEVEL=0 and rerun for more info.)\n",
      "GPU available: True (cuda), used: True\n",
      "TPU available: False, using: 0 TPU cores\n",
      "IPU available: False, using: 0 IPUs\n",
      "HPU available: False, using: 0 HPUs\n",
      "LOCAL_RANK: 0 - CUDA_VISIBLE_DEVICES: [0,1]\n"
     ]
    },
    {
     "name": "stdout",
     "output_type": "stream",
     "text": [
      "Epoch 400/400: 100%|███████████████████████████████████████████████████████████████████████████████████| 400/400 [13:32<00:00,  2.12s/it, loss=1.6e+03, v_num=1]"
     ]
    },
    {
     "name": "stderr",
     "output_type": "stream",
     "text": [
      "`Trainer.fit` stopped: `max_epochs=400` reached.\n"
     ]
    },
    {
     "name": "stdout",
     "output_type": "stream",
     "text": [
      "Epoch 400/400: 100%|███████████████████████████████████████████████████████████████████████████████████| 400/400 [13:32<00:00,  2.03s/it, loss=1.6e+03, v_num=1]\n"
     ]
    }
   ],
   "source": [
    "number_of_hvgs=3000\n",
    "\n",
    "for i in [8]:\n",
    "    ts0=ts[i]\n",
    "    ts1=ts[i+1]\n",
    "    print(ts0)\n",
    "    # Prepare the data set\n",
    "    adata=anndata.read(f'{Path}/anndatas/Comb_anndatas/adata_{ts0}_{ts1}.h5ad')\n",
    "    adata=adata[adata.obs['day']==min(set(adata.obs['day']))].copy()\n",
    "    avar=adata.var.copy()\n",
    "    adata=adata.raw.to_adata()\n",
    "    adata.var=avar.copy()\n",
    "    adata.layers[\"counts\"] = adata.X.copy()\n",
    "    sc.pp.highly_variable_genes(adata, n_top_genes=number_of_hvgs, subset=True, layer=\"counts\", flavor=\"seurat_v3\")\n",
    "\n",
    "\n",
    "    # Run scVI\n",
    "    scvi.model.SCVI.setup_anndata(adata, layer=\"counts\")\n",
    "    model = scvi.model.SCVI(adata)\n",
    "    model.train()\n",
    "    adata.obsm[\"X_scVI\"]=model.get_latent_representation()\n",
    "    adata.layers[\"scvi_normalized\"] = model.get_normalized_expression(library_size=10e4)\n",
    "    adata.write(f'{Path}/anndatas/scVI_anndatas/scvi_adata_{ts0}.h5ad', compression='gzip')"
   ]
  },
  {
   "cell_type": "code",
   "execution_count": null,
   "metadata": {},
   "outputs": [],
   "source": []
  },
  {
   "cell_type": "code",
   "execution_count": null,
   "metadata": {},
   "outputs": [],
   "source": []
  },
  {
   "cell_type": "code",
   "execution_count": null,
   "metadata": {},
   "outputs": [],
   "source": []
  },
  {
   "cell_type": "code",
   "execution_count": null,
   "metadata": {},
   "outputs": [],
   "source": []
  },
  {
   "cell_type": "code",
   "execution_count": null,
   "metadata": {},
   "outputs": [],
   "source": []
  },
  {
   "cell_type": "code",
   "execution_count": null,
   "metadata": {},
   "outputs": [],
   "source": []
  }
 ],
 "metadata": {
  "kernelspec": {
   "display_name": "mc",
   "language": "python",
   "name": "mc"
  },
  "language_info": {
   "codemirror_mode": {
    "name": "ipython",
    "version": 3
   },
   "file_extension": ".py",
   "mimetype": "text/x-python",
   "name": "python",
   "nbconvert_exporter": "python",
   "pygments_lexer": "ipython3",
   "version": "3.10.9"
  }
 },
 "nbformat": 4,
 "nbformat_minor": 2
}
