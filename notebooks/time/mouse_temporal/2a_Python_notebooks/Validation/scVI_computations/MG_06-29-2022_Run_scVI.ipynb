{
 "cells": [
  {
   "cell_type": "markdown",
   "metadata": {},
   "source": [
    "# scVI for normalized_gene_expression"
   ]
  },
  {
   "cell_type": "markdown",
   "metadata": {},
   "source": [
    "scVI is run here to obtain a more smoothed gene expression landscape. This is mostly done because for cells with 0 expression in some genes correlations of pull to these driver genes does not work well. "
   ]
  },
  {
   "cell_type": "code",
   "execution_count": 1,
   "metadata": {
    "scrolled": true
   },
   "outputs": [
    {
     "name": "stderr",
     "output_type": "stream",
     "text": [
      "Global seed set to 0\n",
      "/home/mgander/miniconda3/envs/mc/lib/python3.10/site-packages/flax/struct.py:132: FutureWarning: jax.tree_util.register_keypaths is deprecated, and will be removed in a future release. Please use `register_pytree_with_keys()` instead.\n",
      "  jax.tree_util.register_keypaths(data_clz, keypaths)\n",
      "/home/mgander/miniconda3/envs/mc/lib/python3.10/site-packages/flax/struct.py:132: FutureWarning: jax.tree_util.register_keypaths is deprecated, and will be removed in a future release. Please use `register_pytree_with_keys()` instead.\n",
      "  jax.tree_util.register_keypaths(data_clz, keypaths)\n"
     ]
    }
   ],
   "source": [
    "import numpy as np\n",
    "import anndata\n",
    "import scanpy as sc\n",
    "import scvi"
   ]
  },
  {
   "cell_type": "code",
   "execution_count": 2,
   "metadata": {},
   "outputs": [
    {
     "name": "stdout",
     "output_type": "stream",
     "text": [
      "Package                           Version\r\n",
      "--------------------------------- --------------------\r\n",
      "absl-py                           1.2.0\r\n",
      "anndata                           0.8.0\r\n",
      "anyio                             3.6.1\r\n",
      "argon2-cffi                       21.3.0\r\n",
      "argon2-cffi-bindings              21.2.0\r\n",
      "asttokens                         2.0.5\r\n",
      "astunparse                        1.6.3\r\n",
      "attrs                             22.1.0\r\n",
      "Babel                             2.10.3\r\n",
      "backcall                          0.2.0\r\n",
      "backports.functools-lru-cache     1.6.4\r\n",
      "beautifulsoup4                    4.11.1\r\n",
      "bleach                            5.0.1\r\n",
      "bokeh                             2.4.3\r\n",
      "brotlipy                          0.7.0\r\n",
      "CacheControl                      0.12.11\r\n",
      "cached-property                   1.5.2\r\n",
      "cachetools                        5.2.0\r\n",
      "cachy                             0.3.0\r\n",
      "certifi                           2022.12.7\r\n",
      "cffi                              1.15.1\r\n",
      "charset-normalizer                2.1.0\r\n",
      "chex                              0.1.6\r\n",
      "cleo                              1.0.0a5\r\n",
      "click                             8.1.3\r\n",
      "cloudpickle                       2.2.1\r\n",
      "clr-loader                        0.2.3\r\n",
      "cmake                             3.26.0\r\n",
      "colorcet                          3.0.1\r\n",
      "commonmark                        0.9.1\r\n",
      "crashtest                         0.3.1\r\n",
      "cryptography                      37.0.4\r\n",
      "cycler                            0.11.0\r\n",
      "dask                              2023.1.1\r\n",
      "datashader                        0.14.4\r\n",
      "datashape                         0.5.2\r\n",
      "debugpy                           1.6.0\r\n",
      "decorator                         5.1.1\r\n",
      "defusedxml                        0.7.1\r\n",
      "distlib                           0.3.6\r\n",
      "dm-tree                           0.1.8\r\n",
      "dnspython                         2.3.0\r\n",
      "docrep                            0.3.2\r\n",
      "docutils                          0.19\r\n",
      "dulwich                           0.20.46\r\n",
      "entrypoints                       0.4\r\n",
      "et-xmlfile                        1.1.0\r\n",
      "etils                             1.0.0\r\n",
      "executing                         0.9.1\r\n",
      "fastjsonschema                    2.16.1\r\n",
      "filelock                          3.8.0\r\n",
      "flatbuffers                       1.12\r\n",
      "flax                              0.6.7\r\n",
      "flit_core                         3.7.1\r\n",
      "fonttools                         4.34.4\r\n",
      "fsspec                            2023.1.0\r\n",
      "gast                              0.4.0\r\n",
      "google-auth                       2.11.0\r\n",
      "google-auth-oauthlib              0.4.6\r\n",
      "google-pasta                      0.2.0\r\n",
      "graphviz                          0.20.1\r\n",
      "grpcio                            1.47.0\r\n",
      "h5py                              3.7.0\r\n",
      "holoviews                         1.15.4\r\n",
      "html5lib                          1.1\r\n",
      "idna                              3.3\r\n",
      "igraph                            0.9.11\r\n",
      "imageio                           2.25.0\r\n",
      "implicit                          0.6.1\r\n",
      "importlib-metadata                4.11.4\r\n",
      "importlib-resources               5.9.0\r\n",
      "ipykernel                         6.15.1\r\n",
      "ipython                           8.4.0\r\n",
      "ipython-genutils                  0.2.0\r\n",
      "ipywidgets                        8.0.1\r\n",
      "jaraco.classes                    3.2.3\r\n",
      "jax                               0.4.8\r\n",
      "jaxlib                            0.4.7+cuda11.cudnn86\r\n",
      "jaxopt                            0.6\r\n",
      "jedi                              0.18.1\r\n",
      "jeepney                           0.8.0\r\n",
      "Jinja2                            3.1.2\r\n",
      "joblib                            1.1.0\r\n",
      "json5                             0.9.5\r\n",
      "jsonschema                        4.16.0\r\n",
      "jupyter-client                    7.3.4\r\n",
      "jupyter-contrib-core              0.4.2\r\n",
      "jupyter-contrib-nbextensions      0.7.0\r\n",
      "jupyter_core                      4.11.1\r\n",
      "jupyter-highlight-selected-word   0.2.0\r\n",
      "jupyter-nbextensions-configurator 0.6.1\r\n",
      "jupyter-server                    1.18.1\r\n",
      "jupyterlab                        3.4.4\r\n",
      "jupyterlab-pygments               0.2.2\r\n",
      "jupyterlab-server                 2.15.0\r\n",
      "jupyterlab-widgets                3.0.2\r\n",
      "keras                             2.9.0\r\n",
      "Keras-Preprocessing               1.1.2\r\n",
      "keyring                           23.9.3\r\n",
      "kiwisolver                        1.4.4\r\n",
      "leidenalg                         0.8.10\r\n",
      "libclang                          14.0.6\r\n",
      "lit                               16.0.0\r\n",
      "llvmlite                          0.39.0\r\n",
      "locket                            1.0.0\r\n",
      "lockfile                          0.12.2\r\n",
      "loompy                            3.0.7\r\n",
      "lxml                              4.9.2\r\n",
      "Markdown                          3.4.1\r\n",
      "MarkupSafe                        2.1.1\r\n",
      "matplotlib                        3.5.2\r\n",
      "matplotlib-inline                 0.1.3\r\n",
      "mistune                           0.8.4\r\n",
      "ml-dtypes                         0.1.0\r\n",
      "more-itertools                    8.14.0\r\n",
      "moscot                            0.2.0\r\n",
      "mpmath                            1.3.0\r\n",
      "msgpack                           1.0.4\r\n",
      "multipledispatch                  0.6.0\r\n",
      "natsort                           8.1.0\r\n",
      "nbclassic                         0.4.3\r\n",
      "nbclient                          0.6.6\r\n",
      "nbconvert                         6.5.0\r\n",
      "nbformat                          5.4.0\r\n",
      "nest-asyncio                      1.5.5\r\n",
      "networkx                          2.8.5\r\n",
      "notebook                          6.4.12\r\n",
      "notebook-shim                     0.1.0\r\n",
      "numba                             0.56.4\r\n",
      "numpy                             1.23.5\r\n",
      "numpy-groupies                    0.9.17\r\n",
      "nvidia-cublas-cu11                11.10.3.66\r\n",
      "nvidia-cuda-cupti-cu11            11.7.101\r\n",
      "nvidia-cuda-nvrtc-cu11            11.7.99\r\n",
      "nvidia-cuda-runtime-cu11          11.7.99\r\n",
      "nvidia-cudnn-cu11                 8.5.0.96\r\n",
      "nvidia-cufft-cu11                 10.9.0.58\r\n",
      "nvidia-curand-cu11                10.2.10.91\r\n",
      "nvidia-cusolver-cu11              11.4.0.1\r\n",
      "nvidia-cusparse-cu11              11.7.4.91\r\n",
      "nvidia-nccl-cu11                  2.14.3\r\n",
      "nvidia-nvtx-cu11                  11.7.91\r\n",
      "oauthlib                          3.2.0\r\n",
      "openpyxl                          3.0.10\r\n",
      "opt-einsum                        3.3.0\r\n",
      "optax                             0.1.4\r\n",
      "orbax                             0.1.3\r\n",
      "ott-jax                           0.4.0\r\n",
      "packaging                         21.3\r\n",
      "pandas                            1.5.2\r\n",
      "pandocfilters                     1.5.0\r\n",
      "panel                             0.14.3\r\n",
      "param                             1.12.3\r\n",
      "parso                             0.8.3\r\n",
      "partd                             1.3.0\r\n",
      "patsy                             0.5.2\r\n",
      "pexpect                           4.8.0\r\n",
      "pickleshare                       0.7.5\r\n",
      "Pillow                            9.2.0\r\n",
      "pip                               22.2.1\r\n",
      "pkginfo                           1.8.3\r\n",
      "pkgutil_resolve_name              1.3.10\r\n",
      "platformdirs                      2.5.2\r\n",
      "plotly                            5.10.0\r\n",
      "poetry                            1.2.2\r\n",
      "poetry-core                       1.3.2\r\n",
      "poetry-plugin-export              1.1.2\r\n",
      "POT                               0.8.2\r\n",
      "prometheus-client                 0.14.1\r\n",
      "prompt-toolkit                    3.0.30\r\n",
      "protobuf                          3.19.4\r\n",
      "psite-recommender                 0.1.0\r\n",
      "psutil                            5.9.1\r\n",
      "ptyprocess                        0.7.0\r\n",
      "pure-eval                         0.2.2\r\n",
      "pyasn1                            0.4.8\r\n",
      "pyasn1-modules                    0.2.8\r\n",
      "pycparser                         2.21\r\n",
      "pyct                              0.5.0\r\n",
      "pydantic                          1.10.4\r\n",
      "pydot                             1.4.2\r\n",
      "pygame                            2.1.2\r\n",
      "Pygments                          2.12.0\r\n",
      "pylev                             1.4.0\r\n",
      "pymongo                           4.3.3\r\n",
      "pymzml                            2.5.2\r\n",
      "pynndescent                       0.5.7\r\n",
      "pyOpenSSL                         22.0.0\r\n",
      "pyparsing                         3.0.9\r\n",
      "pyrsistent                        0.18.1\r\n",
      "PySocks                           1.7.1\r\n",
      "pyteomics                         4.5.7a5\r\n",
      "python-dateutil                   2.8.2\r\n",
      "pythonnet                         3.0.0rc6\r\n",
      "pytz                              2022.1\r\n",
      "pyviz-comms                       2.2.1\r\n",
      "PyWavelets                        1.4.1\r\n",
      "PyYAML                            6.0\r\n",
      "pyzmq                             23.2.0\r\n",
      "readme-renderer                   37.3\r\n",
      "regex                             2022.10.31\r\n",
      "requests                          2.28.1\r\n",
      "requests-oauthlib                 1.3.1\r\n",
      "requests-toolbelt                 0.9.1\r\n",
      "rfc3986                           2.0.0\r\n",
      "rich                              12.6.0\r\n",
      "rsa                               4.9\r\n",
      "scanpy                            1.9.3\r\n",
      "scikit-image                      0.19.3\r\n",
      "scikit-learn                      1.1.1\r\n",
      "scipy                             1.9.0\r\n",
      "scvelo                            0.2.4\r\n",
      "seaborn                           0.12.1\r\n",
      "SecretStorage                     3.3.3\r\n",
      "Send2Trash                        1.8.0\r\n",
      "session-info                      1.0.0\r\n",
      "setuptools                        63.3.0\r\n",
      "shellingham                       1.5.0\r\n",
      "six                               1.16.0\r\n",
      "sniffio                           1.2.0\r\n",
      "soupsieve                         2.3.2.post1\r\n",
      "stack-data                        0.3.0\r\n",
      "statsmodels                       0.13.2\r\n",
      "stdlib-list                       0.8.0\r\n",
      "sympy                             1.11.1\r\n",
      "tenacity                          8.1.0\r\n",
      "tensorboard                       2.9.1\r\n",
      "tensorboard-data-server           0.6.1\r\n",
      "tensorboard-plugin-wit            1.8.1\r\n",
      "tensorflow                        2.9.1\r\n",
      "tensorflow-estimator              2.9.0\r\n",
      "tensorflow-io-gcs-filesystem      0.26.0\r\n",
      "tensorstore                       0.1.33\r\n",
      "termcolor                         1.1.0\r\n",
      "terminado                         0.15.0\r\n",
      "texttable                         1.6.4\r\n",
      "threadpoolctl                     3.1.0\r\n",
      "tifffile                          2023.2.3\r\n",
      "tinycss2                          1.1.1\r\n"
     ]
    },
    {
     "name": "stdout",
     "output_type": "stream",
     "text": [
      "toml                              0.10.2\r\n",
      "tomli                             2.0.1\r\n",
      "tomlkit                           0.11.5\r\n",
      "toolz                             0.12.0\r\n",
      "torch                             2.0.0\r\n",
      "torchvision                       0.15.1\r\n",
      "tornado                           6.2\r\n",
      "tqdm                              4.64.0\r\n",
      "traitlets                         5.3.0\r\n",
      "triton                            2.0.0\r\n",
      "twine                             4.0.1\r\n",
      "typing_extensions                 4.3.0\r\n",
      "umap-learn                        0.5.3\r\n",
      "urllib3                           1.26.11\r\n",
      "virtualenv                        20.16.5\r\n",
      "wcwidth                           0.2.5\r\n",
      "webencodings                      0.5.1\r\n",
      "websocket-client                  1.3.3\r\n",
      "Werkzeug                          2.2.2\r\n",
      "wheel                             0.37.1\r\n",
      "widgetsnbextension                4.0.2\r\n",
      "wrapt                             1.14.1\r\n",
      "xarray                            2023.1.0\r\n",
      "zipp                              3.8.0\r\n"
     ]
    }
   ],
   "source": [
    "!pip list"
   ]
  },
  {
   "cell_type": "code",
   "execution_count": 3,
   "metadata": {},
   "outputs": [],
   "source": [
    "Path=\"/home/mgander/Unrelated/moscotTime_Reproducibility/Data\"\n",
    "ts=['E3.5', 'E4.5', 'E5.25', 'E5.5', 'E6.25', 'E6.5', 'E6.75', 'E7.0', 'E7.25', 'E7.5', 'E7.75', 'E8.0', 'E8.25', 'E8.5a', 'E8.5b', 'E9.5', 'E10.5', 'E11.5', 'E12.5', 'E13.5']"
   ]
  },
  {
   "cell_type": "markdown",
   "metadata": {},
   "source": [
    "# Running scVI over all time points of interest"
   ]
  },
  {
   "cell_type": "code",
   "execution_count": null,
   "metadata": {},
   "outputs": [
    {
     "name": "stdout",
     "output_type": "stream",
     "text": [
      "E7.0\n"
     ]
    },
    {
     "name": "stderr",
     "output_type": "stream",
     "text": [
      "GPU available: True, used: True\n",
      "TPU available: False, using: 0 TPU cores\n",
      "IPU available: False, using: 0 IPUs\n",
      "HPU available: False, using: 0 HPUs\n",
      "LOCAL_RANK: 0 - CUDA_VISIBLE_DEVICES: [0]\n"
     ]
    },
    {
     "name": "stdout",
     "output_type": "stream",
     "text": [
      "Epoch 30/400:   7%|█████                                                                 | 29/400 [00:27<05:00,  1.23it/s, loss=1.59e+03, v_num=1]"
     ]
    }
   ],
   "source": [
    "number_of_hvgs=3000\n",
    "\n",
    "for i in [7,9,10,16]:\n",
    "    ts0=ts[i]\n",
    "    ts1=ts[i+1]\n",
    "    print(ts0)\n",
    "    # Prepare the data set\n",
    "    adata=anndata.read(f'{Path}/anndatas/adata_{ts0}.h5ad')\n",
    "    adata=adata.raw.to_adata()\n",
    "    adata.layers[\"counts\"] = adata.X.copy()\n",
    "    sc.pp.highly_variable_genes(adata, n_top_genes=number_of_hvgs, subset=True, layer=\"counts\", flavor=\"seurat_v3\")\n",
    "    \n",
    "    # Run scVI\n",
    "    scvi.model.SCVI.setup_anndata(adata, layer=\"counts\")\n",
    "    model = scvi.model.SCVI(adata)\n",
    "    model.train()\n",
    "    adata.obsm[\"X_scVI\"]=model.get_latent_representation()\n",
    "    adata.layers[\"scvi_normalized\"] = model.get_normalized_expression(library_size=10e4)\n",
    "    adata.write(f'{Path}/anndatas/scvi_adata_{ts0}.h5ad', compression='gzip')"
   ]
  },
  {
   "cell_type": "code",
   "execution_count": null,
   "metadata": {},
   "outputs": [],
   "source": []
  },
  {
   "cell_type": "code",
   "execution_count": 19,
   "metadata": {
    "scrolled": true
   },
   "outputs": [
    {
     "name": "stdout",
     "output_type": "stream",
     "text": [
      "E8.0\n"
     ]
    },
    {
     "name": "stderr",
     "output_type": "stream",
     "text": [
      "No GPU/TPU found, falling back to CPU. (Set TF_CPP_MIN_LOG_LEVEL=0 and rerun for more info.)\n",
      "GPU available: True (cuda), used: True\n",
      "TPU available: False, using: 0 TPU cores\n",
      "IPU available: False, using: 0 IPUs\n",
      "HPU available: False, using: 0 HPUs\n",
      "LOCAL_RANK: 0 - CUDA_VISIBLE_DEVICES: [0,1]\n"
     ]
    },
    {
     "name": "stdout",
     "output_type": "stream",
     "text": [
      "Epoch 400/400: 100%|██████████████████████████████████████████████████████████████████████████████████| 400/400 [27:45<00:00,  4.16s/it, loss=1.37e+03, v_num=1]"
     ]
    },
    {
     "name": "stderr",
     "output_type": "stream",
     "text": [
      "`Trainer.fit` stopped: `max_epochs=400` reached.\n"
     ]
    },
    {
     "name": "stdout",
     "output_type": "stream",
     "text": [
      "Epoch 400/400: 100%|██████████████████████████████████████████████████████████████████████████████████| 400/400 [27:45<00:00,  4.16s/it, loss=1.37e+03, v_num=1]\n"
     ]
    }
   ],
   "source": [
    "number_of_hvgs=3000\n",
    "\n",
    "for i in [11]:\n",
    "    ts0=ts[i]\n",
    "    ts1=ts[i+1]\n",
    "    print(ts0)\n",
    "    # Prepare the data set\n",
    "    adata=anndata.read(f'{Path}/anndatas/Comb_anndatas/adata_{ts0}_{ts1}.h5ad')\n",
    "    adata=adata[adata.obs['day']==min(set(adata.obs['day']))].copy()\n",
    "    avar=adata.var.copy()\n",
    "    adata=adata.raw.to_adata()\n",
    "    adata.var=avar.copy()\n",
    "    adata.layers[\"counts\"] = adata.X.copy()\n",
    "    sc.pp.highly_variable_genes(adata, n_top_genes=number_of_hvgs, subset=True, layer=\"counts\", flavor=\"seurat_v3\")\n",
    "\n",
    "\n",
    "    # Run scVI\n",
    "    scvi.model.SCVI.setup_anndata(adata, layer=\"counts\")\n",
    "    model = scvi.model.SCVI(adata)\n",
    "    model.train()\n",
    "    adata.obsm[\"X_scVI\"]=model.get_latent_representation()\n",
    "    adata.layers[\"scvi_normalized\"] = model.get_normalized_expression(library_size=10e4)\n",
    "    adata.write(f'{Path}/anndatas/scVI_anndatas/scvi_adata_{ts0}.h5ad', compression='gzip')"
   ]
  },
  {
   "cell_type": "code",
   "execution_count": null,
   "metadata": {},
   "outputs": [],
   "source": []
  },
  {
   "cell_type": "code",
   "execution_count": null,
   "metadata": {},
   "outputs": [],
   "source": []
  },
  {
   "cell_type": "code",
   "execution_count": null,
   "metadata": {},
   "outputs": [],
   "source": []
  },
  {
   "cell_type": "code",
   "execution_count": null,
   "metadata": {},
   "outputs": [],
   "source": []
  },
  {
   "cell_type": "code",
   "execution_count": null,
   "metadata": {},
   "outputs": [],
   "source": []
  },
  {
   "cell_type": "code",
   "execution_count": null,
   "metadata": {},
   "outputs": [],
   "source": []
  }
 ],
 "metadata": {
  "kernelspec": {
   "display_name": "mc",
   "language": "python",
   "name": "mc"
  },
  "language_info": {
   "codemirror_mode": {
    "name": "ipython",
    "version": 3
   },
   "file_extension": ".py",
   "mimetype": "text/x-python",
   "name": "python",
   "nbconvert_exporter": "python",
   "pygments_lexer": "ipython3",
   "version": "3.10.9"
  }
 },
 "nbformat": 4,
 "nbformat_minor": 2
}
