{
 "cells": [
  {
   "cell_type": "code",
   "execution_count": 3,
   "id": "eea495f6",
   "metadata": {},
   "outputs": [
    {
     "name": "stderr",
     "output_type": "stream",
     "text": [
      "/home/mgander/miniconda3/envs/mc/lib/python3.10/site-packages/flax/struct.py:132: FutureWarning: jax.tree_util.register_keypaths is deprecated, and will be removed in a future release. Please use `register_pytree_with_keys()` instead.\n",
      "  jax.tree_util.register_keypaths(data_clz, keypaths)\n",
      "/home/mgander/miniconda3/envs/mc/lib/python3.10/site-packages/flax/struct.py:132: FutureWarning: jax.tree_util.register_keypaths is deprecated, and will be removed in a future release. Please use `register_pytree_with_keys()` instead.\n",
      "  jax.tree_util.register_keypaths(data_clz, keypaths)\n",
      "No GPU/TPU found, falling back to CPU. (Set TF_CPP_MIN_LOG_LEVEL=0 and rerun for more info.)\n"
     ]
    }
   ],
   "source": [
    "import numpy as np\n",
    "import anndata\n",
    "import pandas as pd\n",
    "import scanpy as sc\n",
    "import scipy\n",
    "import seaborn as sns\n",
    "\n",
    "from moscot.problems.time._lineage import TemporalProblem"
   ]
  },
  {
   "cell_type": "code",
   "execution_count": 4,
   "id": "e0b23fce",
   "metadata": {},
   "outputs": [],
   "source": [
    "Path=\"/home/mgander/Unrelated/moscotTime_Reproducibility/Data\"\n",
    "ts=['E3.5', 'E4.5', 'E5.25', 'E5.5', 'E6.25', 'E6.5', 'E6.75', 'E7.0', 'E7.25', 'E7.5', 'E7.75', 'E8.0', 'E8.25', 'E8.5a', 'E8.5b', 'E9.5', 'E10.5', 'E11.5', 'E12.5', 'E13.5']\n",
    "\n",
    "cells=[32, 80, 100, 120, 400, 660, 1720, 4500, 8200, 15000, 30000, 60000, 73000, 90000, 90000, 200000, 1100000, 2600000, 6000000, 13000000]\n",
    "Cell_number_dict={}\n",
    "for i in range(20):\n",
    "    Cell_number_dict[ts[i]]=cells[i]\n",
    "    \n",
    "# Doesn't matter which adata you use to create a tp instance, the result is always the same. I just need one\n",
    "# to instantiate a tp-problem\n",
    "adata=sc.read(f\"{Path}/anndatas/Comb_anndatas/adata_E3.5_E4.5.h5ad\")\n",
    "tp=TemporalProblem(adata)"
   ]
  },
  {
   "cell_type": "markdown",
   "id": "00bd05b6",
   "metadata": {},
   "source": [
    "# Moscot maps to growth rates"
   ]
  },
  {
   "cell_type": "code",
   "execution_count": 25,
   "id": "1ffd0253",
   "metadata": {},
   "outputs": [
    {
     "name": "stdout",
     "output_type": "stream",
     "text": [
      "E3.5\n",
      "E4.5\n",
      "E5.25\n",
      "E5.5\n",
      "E6.25\n",
      "E6.5\n",
      "E6.75\n",
      "E7.0\n",
      "E7.25\n",
      "E7.5\n",
      "E7.75\n",
      "E8.0\n",
      "E8.25\n"
     ]
    }
   ],
   "source": [
    "for i in range(13):\n",
    "    ts0=ts[i]\n",
    "    ts1=ts[i+1]\n",
    "    print(ts0)\n",
    "    \n",
    "    tp=tp.load(f'{Path}/moscot_maps/{ts0}_{ts1}_TemporalProblem.pkl')\n",
    "    time_tuple=list(tp.solutions.keys())[0]\n",
    "    gr=tp[time_tuple].solution.a\n",
    "    gr=gr/gr.mean()*Cell_number_dict[ts1]/Cell_number_dict[ts0]\n",
    "    np.save(f'{Path}/moscot_maps/{ts0}_growth_rates.npy', gr)"
   ]
  },
  {
   "cell_type": "code",
   "execution_count": null,
   "id": "15e4352c",
   "metadata": {},
   "outputs": [],
   "source": []
  },
  {
   "cell_type": "markdown",
   "id": "ba570418",
   "metadata": {},
   "source": [
    "# For E8.0--> E8.25 I need prior growth rates and map without growth rate intitialitions"
   ]
  },
  {
   "cell_type": "code",
   "execution_count": 15,
   "id": "72c3dfc4",
   "metadata": {},
   "outputs": [
    {
     "name": "stdout",
     "output_type": "stream",
     "text": [
      "E8.0\n"
     ]
    }
   ],
   "source": [
    "# Prior growth rates and growth rates without initialization\n",
    "i=11\n",
    "ts0=ts[i]\n",
    "ts1=ts[i+1]\n",
    "print(ts0)\n",
    "\n",
    "tp=tp.load(f'{Path}/moscot_maps/{ts0}_{ts1}_TemporalProblem.pkl')\n",
    "adata=tp.adata\n",
    "time_tuple=list(tp.solutions.keys())[0]\n",
    "gr=np.array(list(tp.prior_growth_rates['prior_growth_rates'])[:len(adata[adata.obs['day']==time_tuple[0]])])\n",
    "gr=gr/gr.mean()\n",
    "np.save(f'{Path}/moscot_maps/{ts0}_init_growth_rates.npy', gr)\n",
    "\n",
    "tp=tp.load(f'{Path}/moscot_maps/{ts0}_{ts1}_no_gr_init_TemporalProblem.pkl')\n",
    "adata=tp.adata\n",
    "gr=tp[time_tuple].solution.a\n",
    "gr=gr/gr.mean()*Cell_number_dict[ts1]/Cell_number_dict[ts0]\n",
    "np.save(f'{Path}/moscot_maps/{ts0}_growth_rates_no_gr_init.npy', gr)"
   ]
  },
  {
   "cell_type": "code",
   "execution_count": null,
   "id": "3040c1ef",
   "metadata": {},
   "outputs": [],
   "source": []
  },
  {
   "cell_type": "code",
   "execution_count": null,
   "id": "37f6be48",
   "metadata": {},
   "outputs": [],
   "source": []
  },
  {
   "cell_type": "code",
   "execution_count": 14,
   "id": "c40ae884",
   "metadata": {},
   "outputs": [
    {
     "name": "stdout",
     "output_type": "stream",
     "text": [
      "E8.0\n"
     ]
    }
   ],
   "source": [
    "i=11\n",
    "ts0=ts[i]\n",
    "ts1=ts[i+1]\n",
    "print(ts0)\n",
    "\n",
    "tp=tp.load(f'{Path}/moscot_maps/{ts0}_{ts1}_TemporalProblem.pkl')\n",
    "time_tuple=list(tp.solutions.keys())[0]\n",
    "gr=tp[time_tuple].solution.a\n",
    "gr=gr/gr.mean()*Cell_number_dict[ts1]/Cell_number_dict[ts0]\n",
    "np.save(f'{Path}/moscot_maps/{ts0}_growth_rates_no_gr_init.npy', gr)"
   ]
  },
  {
   "cell_type": "code",
   "execution_count": null,
   "id": "89da224a",
   "metadata": {},
   "outputs": [],
   "source": []
  },
  {
   "cell_type": "code",
   "execution_count": null,
   "id": "d8b72e28",
   "metadata": {},
   "outputs": [],
   "source": []
  },
  {
   "cell_type": "code",
   "execution_count": null,
   "id": "dd096ef3",
   "metadata": {},
   "outputs": [],
   "source": []
  }
 ],
 "metadata": {
  "kernelspec": {
   "display_name": "mc",
   "language": "python",
   "name": "mc"
  },
  "language_info": {
   "codemirror_mode": {
    "name": "ipython",
    "version": 3
   },
   "file_extension": ".py",
   "mimetype": "text/x-python",
   "name": "python",
   "nbconvert_exporter": "python",
   "pygments_lexer": "ipython3",
   "version": "3.10.9"
  }
 },
 "nbformat": 4,
 "nbformat_minor": 5
}
