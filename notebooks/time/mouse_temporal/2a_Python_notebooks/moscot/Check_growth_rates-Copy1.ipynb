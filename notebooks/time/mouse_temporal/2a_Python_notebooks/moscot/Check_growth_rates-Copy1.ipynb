{
 "cells": [
  {
   "cell_type": "code",
   "execution_count": 15,
   "id": "eea495f6",
   "metadata": {},
   "outputs": [],
   "source": [
    "import numpy as np\n",
    "import anndata\n",
    "import pandas as pd\n",
    "import scanpy as sc\n",
    "import scipy\n",
    "import seaborn as sns\n",
    "\n",
    "from moscot.problems.time._lineage import TemporalProblem"
   ]
  },
  {
   "cell_type": "code",
   "execution_count": 16,
   "id": "e0b23fce",
   "metadata": {},
   "outputs": [],
   "source": [
    "Path=\"/home/mgander/Unrelated/moscotTime_Reproducibility/Data\"\n",
    "ts=['E3.5', 'E4.5', 'E5.25', 'E5.5', 'E6.25', 'E6.5', 'E6.75', 'E7.0', 'E7.25', 'E7.5', 'E7.75', 'E8.0', 'E8.25', 'E8.5a', 'E8.5b', 'E9.5', 'E10.5', 'E11.5', 'E12.5', 'E13.5']"
   ]
  },
  {
   "cell_type": "markdown",
   "id": "00bd05b6",
   "metadata": {},
   "source": [
    "# Moscot maps to growth rates"
   ]
  },
  {
   "cell_type": "code",
   "execution_count": 17,
   "id": "2e4b5950",
   "metadata": {},
   "outputs": [],
   "source": [
    "cells=[32, 80, 100, 120, 400, 660, 1720, 4500, 8200, 15000, 30000, 60000, 73000, 90000, 90000, 200000, 1100000, 2600000, 6000000, 13000000]\n",
    "Cell_number_dict={}\n",
    "for i in range(20):\n",
    "    Cell_number_dict[ts[i]]=cells[i]"
   ]
  },
  {
   "cell_type": "code",
   "execution_count": 18,
   "id": "95df4374",
   "metadata": {},
   "outputs": [
    {
     "name": "stdout",
     "output_type": "stream",
     "text": [
      "WARNING: Your filename has more than two extensions: ['.5_E4', '.5', '.h5ad'].\n",
      "Only considering the two last: ['.5', '.h5ad'].\n",
      "WARNING: Your filename has more than two extensions: ['.5_E4', '.5', '.h5ad'].\n",
      "Only considering the two last: ['.5', '.h5ad'].\n"
     ]
    }
   ],
   "source": [
    "# Doesn't matter which adata you use to create a tp instance, the result is always the same. I just need one\n",
    "# to instantiate a tp-problem\n",
    "adata=sc.read(f\"{Path}/anndatas/Comb_anndatas/adata_E3.5_E4.5.h5ad\")\n",
    "tp=TemporalProblem(adata)"
   ]
  },
  {
   "cell_type": "code",
   "execution_count": null,
   "id": "fdb1a702",
   "metadata": {},
   "outputs": [],
   "source": []
  },
  {
   "cell_type": "code",
   "execution_count": 26,
   "id": "48b75c2f",
   "metadata": {
    "scrolled": true
   },
   "outputs": [
    {
     "name": "stdout",
     "output_type": "stream",
     "text": [
      "E8.0 --> E8.25\n",
      "------------------------\n"
     ]
    }
   ],
   "source": [
    "i=11\n",
    "ts0=ts[i]\n",
    "ts1=ts[i+1]\n",
    "print(f'{ts0} --> {ts1}')\n",
    "print('------------------------')"
   ]
  },
  {
   "cell_type": "code",
   "execution_count": 27,
   "id": "13d691e1",
   "metadata": {},
   "outputs": [],
   "source": [
    "tp=tp.load(f'{Path}/moscot_maps/{ts0}_{ts1}2_TemporalProblem.pkl')"
   ]
  },
  {
   "cell_type": "code",
   "execution_count": 28,
   "id": "61845d3f",
   "metadata": {
    "scrolled": true
   },
   "outputs": [],
   "source": [
    "time_tuple=list(tp.solutions.keys())[0]\n",
    "gr=tp[time_tuple].solution.a\n",
    "gr=gr/gr.mean()*Cell_number_dict[ts1]/Cell_number_dict[ts0]"
   ]
  },
  {
   "cell_type": "code",
   "execution_count": 29,
   "id": "a232116c",
   "metadata": {},
   "outputs": [
    {
     "data": {
      "text/plain": [
       "0.03069205768406391"
      ]
     },
     "execution_count": 29,
     "metadata": {},
     "output_type": "execute_result"
    }
   ],
   "source": [
    "cell_dying=np.sum((1-gr[gr<1]))\n",
    "apoptosis_rate=float(cell_dying/len(gr))\n",
    "apoptosis_rate"
   ]
  },
  {
   "cell_type": "code",
   "execution_count": null,
   "id": "ae593754",
   "metadata": {},
   "outputs": [],
   "source": []
  },
  {
   "cell_type": "code",
   "execution_count": null,
   "id": "70447cec",
   "metadata": {},
   "outputs": [],
   "source": []
  },
  {
   "cell_type": "code",
   "execution_count": null,
   "id": "0640d525",
   "metadata": {},
   "outputs": [],
   "source": []
  },
  {
   "cell_type": "code",
   "execution_count": null,
   "id": "64ed152f",
   "metadata": {},
   "outputs": [],
   "source": []
  },
  {
   "cell_type": "code",
   "execution_count": null,
   "id": "6277ede8",
   "metadata": {},
   "outputs": [],
   "source": []
  },
  {
   "cell_type": "code",
   "execution_count": null,
   "id": "6a831235",
   "metadata": {},
   "outputs": [],
   "source": []
  },
  {
   "cell_type": "code",
   "execution_count": null,
   "id": "b755b010",
   "metadata": {},
   "outputs": [],
   "source": []
  },
  {
   "cell_type": "code",
   "execution_count": null,
   "id": "e613c675",
   "metadata": {},
   "outputs": [],
   "source": []
  },
  {
   "cell_type": "code",
   "execution_count": null,
   "id": "522cdc88",
   "metadata": {},
   "outputs": [],
   "source": []
  },
  {
   "cell_type": "code",
   "execution_count": 9,
   "id": "a429c9f3",
   "metadata": {
    "scrolled": true
   },
   "outputs": [],
   "source": [
    "adata=tp.adata\n",
    "adata.obs['gr_pr']=tp.prior_growth_rates\n",
    "adata.obs['gr_po']=tp.posterior_growth_rates\n",
    "A0=adata[adata.obs['day']==time_tuple[0]].copy()\n",
    "A0.obs['gr']=gr"
   ]
  },
  {
   "cell_type": "code",
   "execution_count": 10,
   "id": "c73b4955",
   "metadata": {},
   "outputs": [],
   "source": [
    "#ax=sns.histplot(data=A0.obs, x='gr', hue='cell_type', bins=np.linspace(0,5,201))\n",
    "#sns.move_legend(ax,(1,0))"
   ]
  },
  {
   "cell_type": "code",
   "execution_count": 11,
   "id": "d364c1cd",
   "metadata": {},
   "outputs": [],
   "source": [
    "cts=list(set(A0.obs['cell_type']))"
   ]
  },
  {
   "cell_type": "code",
   "execution_count": 12,
   "id": "abebedb0",
   "metadata": {},
   "outputs": [],
   "source": [
    "ns=[]\n",
    "for ct in cts:\n",
    "    ns.append(len(A0[A0.obs['cell_type']==ct]))"
   ]
  },
  {
   "cell_type": "code",
   "execution_count": 13,
   "id": "b1dff1e5",
   "metadata": {},
   "outputs": [],
   "source": [
    "df=pd.DataFrame({'n':ns, 'ct':cts})\n",
    "df=df.sort_values('n', ascending=False)\n",
    "df.index=np.arange(len(df))"
   ]
  },
  {
   "cell_type": "code",
   "execution_count": 14,
   "id": "99185e1c",
   "metadata": {},
   "outputs": [],
   "source": [
    "dfs=df.iloc[:6]"
   ]
  },
  {
   "cell_type": "code",
   "execution_count": 15,
   "id": "e9288be1",
   "metadata": {},
   "outputs": [],
   "source": [
    "As=A0[A0.obs['cell_type'].isin(dfs['ct'])]"
   ]
  },
  {
   "cell_type": "code",
   "execution_count": 16,
   "id": "19b953b1",
   "metadata": {},
   "outputs": [
    {
     "data": {
      "image/png": "[encoded data removed]",
      "text/plain": [
       "<Figure size 640x480 with 1 Axes>"
      ]
     },
     "metadata": {},
     "output_type": "display_data"
    }
   ],
   "source": [
    "ax=sns.histplot(data=As.obs, x='gr', hue='cell_type', bins=np.linspace(0,5,101))\n",
    "sns.move_legend(ax,(1,0))"
   ]
  },
  {
   "cell_type": "code",
   "execution_count": null,
   "id": "6df427ff",
   "metadata": {},
   "outputs": [],
   "source": []
  },
  {
   "cell_type": "code",
   "execution_count": null,
   "id": "e3203bca",
   "metadata": {},
   "outputs": [],
   "source": []
  },
  {
   "cell_type": "code",
   "execution_count": null,
   "id": "491d8414",
   "metadata": {},
   "outputs": [],
   "source": []
  },
  {
   "cell_type": "code",
   "execution_count": null,
   "id": "d7095015",
   "metadata": {},
   "outputs": [],
   "source": []
  },
  {
   "cell_type": "code",
   "execution_count": null,
   "id": "086347e3",
   "metadata": {},
   "outputs": [],
   "source": []
  },
  {
   "cell_type": "code",
   "execution_count": 38,
   "id": "887d4648",
   "metadata": {},
   "outputs": [
    {
     "ename": "ValueError",
     "evalue": "Axes(0.125,0.11;0.775x0.77) has no legend attached.",
     "output_type": "error",
     "traceback": [
      "\u001b[0;31m---------------------------------------------------------------------------\u001b[0m",
      "\u001b[0;31mValueError\u001b[0m                                Traceback (most recent call last)",
      "Cell \u001b[0;32mIn[38], line 2\u001b[0m\n\u001b[1;32m      1\u001b[0m ax\u001b[38;5;241m=\u001b[39msns\u001b[38;5;241m.\u001b[39mhistplot(data\u001b[38;5;241m=\u001b[39mAs\u001b[38;5;241m.\u001b[39mobs, x\u001b[38;5;241m=\u001b[39m\u001b[38;5;124m'\u001b[39m\u001b[38;5;124mgr_pr\u001b[39m\u001b[38;5;124m'\u001b[39m, hue\u001b[38;5;241m=\u001b[39m\u001b[38;5;124m'\u001b[39m\u001b[38;5;124mcell_type\u001b[39m\u001b[38;5;124m'\u001b[39m, bins\u001b[38;5;241m=\u001b[39mnp\u001b[38;5;241m.\u001b[39mlinspace(\u001b[38;5;241m0\u001b[39m,\u001b[38;5;241m3\u001b[39m,\u001b[38;5;241m101\u001b[39m))\n\u001b[0;32m----> 2\u001b[0m \u001b[43msns\u001b[49m\u001b[38;5;241;43m.\u001b[39;49m\u001b[43mmove_legend\u001b[49m\u001b[43m(\u001b[49m\u001b[43max\u001b[49m\u001b[43m,\u001b[49m\u001b[43m(\u001b[49m\u001b[38;5;241;43m1\u001b[39;49m\u001b[43m,\u001b[49m\u001b[38;5;241;43m0\u001b[39;49m\u001b[43m)\u001b[49m\u001b[43m)\u001b[49m\n",
      "File \u001b[0;32m~/miniconda3/envs/mc/lib/python3.10/site-packages/seaborn/utils.py:453\u001b[0m, in \u001b[0;36mmove_legend\u001b[0;34m(obj, loc, **kwargs)\u001b[0m\n\u001b[1;32m    451\u001b[0m \u001b[38;5;28;01mif\u001b[39;00m old_legend \u001b[38;5;129;01mis\u001b[39;00m \u001b[38;5;28;01mNone\u001b[39;00m:\n\u001b[1;32m    452\u001b[0m     err \u001b[38;5;241m=\u001b[39m \u001b[38;5;124mf\u001b[39m\u001b[38;5;124m\"\u001b[39m\u001b[38;5;132;01m{\u001b[39;00mobj\u001b[38;5;132;01m}\u001b[39;00m\u001b[38;5;124m has no legend attached.\u001b[39m\u001b[38;5;124m\"\u001b[39m\n\u001b[0;32m--> 453\u001b[0m     \u001b[38;5;28;01mraise\u001b[39;00m \u001b[38;5;167;01mValueError\u001b[39;00m(err)\n\u001b[1;32m    455\u001b[0m \u001b[38;5;66;03m# Extract the components of the legend we need to reuse\u001b[39;00m\n\u001b[1;32m    456\u001b[0m handles \u001b[38;5;241m=\u001b[39m old_legend\u001b[38;5;241m.\u001b[39mlegendHandles\n",
      "\u001b[0;31mValueError\u001b[0m: Axes(0.125,0.11;0.775x0.77) has no legend attached."
     ]
    },
    {
     "data": {
      "image/png": "[encoded data removed]",
      "text/plain": [
       "<Figure size 640x480 with 1 Axes>"
      ]
     },
     "metadata": {},
     "output_type": "display_data"
    }
   ],
   "source": [
    "ax=sns.histplot(data=As.obs, x='gr_pr', hue='cell_type', bins=np.linspace(0,3,101))\n",
    "sns.move_legend(ax,(1,0))"
   ]
  },
  {
   "cell_type": "code",
   "execution_count": null,
   "id": "1cd1db40",
   "metadata": {},
   "outputs": [],
   "source": []
  },
  {
   "cell_type": "code",
   "execution_count": null,
   "id": "8cb3d491",
   "metadata": {},
   "outputs": [],
   "source": []
  },
  {
   "cell_type": "code",
   "execution_count": null,
   "id": "62780d20",
   "metadata": {},
   "outputs": [],
   "source": []
  },
  {
   "cell_type": "code",
   "execution_count": null,
   "id": "d7412d32",
   "metadata": {},
   "outputs": [],
   "source": []
  },
  {
   "cell_type": "code",
   "execution_count": null,
   "id": "61fa0ef3",
   "metadata": {},
   "outputs": [],
   "source": []
  },
  {
   "cell_type": "code",
   "execution_count": null,
   "id": "74208fa3",
   "metadata": {},
   "outputs": [],
   "source": []
  },
  {
   "cell_type": "code",
   "execution_count": 546,
   "id": "8fb1f107",
   "metadata": {},
   "outputs": [
    {
     "data": {
      "text/plain": [
       "AnnData object with n_obs × n_vars = 16824 × 29452\n",
       "    obs: 'cellID', 'day', 'cell_state', 'cell_type', 'group', 'sample', 'origin', 'proliferation', 'apoptosis', 'gr_pr', 'gr_po'\n",
       "    var: 'features', 'gene_names'\n",
       "    obsm: 'X_pcaS', 'X_umap3'"
      ]
     },
     "execution_count": 546,
     "metadata": {},
     "output_type": "execute_result"
    }
   ],
   "source": [
    "adata"
   ]
  },
  {
   "cell_type": "code",
   "execution_count": null,
   "id": "17a5310d",
   "metadata": {},
   "outputs": [],
   "source": []
  },
  {
   "cell_type": "code",
   "execution_count": null,
   "id": "2c1c5bbc",
   "metadata": {},
   "outputs": [],
   "source": []
  },
  {
   "cell_type": "code",
   "execution_count": null,
   "id": "5b9d4703",
   "metadata": {},
   "outputs": [],
   "source": []
  },
  {
   "cell_type": "code",
   "execution_count": null,
   "id": "02b0be2f",
   "metadata": {},
   "outputs": [],
   "source": []
  },
  {
   "cell_type": "code",
   "execution_count": null,
   "id": "1e9d6666",
   "metadata": {},
   "outputs": [],
   "source": []
  },
  {
   "cell_type": "code",
   "execution_count": 337,
   "id": "da418f2c",
   "metadata": {},
   "outputs": [
    {
     "data": {
      "text/html": [
       "<div>\n",
       "<style scoped>\n",
       "    .dataframe tbody tr th:only-of-type {\n",
       "        vertical-align: middle;\n",
       "    }\n",
       "\n",
       "    .dataframe tbody tr th {\n",
       "        vertical-align: top;\n",
       "    }\n",
       "\n",
       "    .dataframe thead th {\n",
       "        text-align: right;\n",
       "    }\n",
       "</style>\n",
       "<table border=\"1\" class=\"dataframe\">\n",
       "  <thead>\n",
       "    <tr style=\"text-align: right;\">\n",
       "      <th></th>\n",
       "      <th>cellID</th>\n",
       "      <th>day</th>\n",
       "      <th>cell_state</th>\n",
       "      <th>cell_type</th>\n",
       "      <th>group</th>\n",
       "      <th>sample</th>\n",
       "      <th>origin</th>\n",
       "      <th>proliferation</th>\n",
       "      <th>apoptosis</th>\n",
       "      <th>gr_pr</th>\n",
       "      <th>gr_po</th>\n",
       "    </tr>\n",
       "  </thead>\n",
       "  <tbody>\n",
       "    <tr>\n",
       "      <th>cell_30635</th>\n",
       "      <td>cell_30635</td>\n",
       "      <td>8.00</td>\n",
       "      <td>E8:Caudal neuroectoderm</td>\n",
       "      <td>Caudal neuroectoderm</td>\n",
       "      <td>2</td>\n",
       "      <td>cell_30635</td>\n",
       "      <td>Pijuan</td>\n",
       "      <td>0.260485</td>\n",
       "      <td>0.034528</td>\n",
       "      <td>1.539916</td>\n",
       "      <td>3.816089</td>\n",
       "    </tr>\n",
       "    <tr>\n",
       "      <th>cell_30636</th>\n",
       "      <td>cell_30636</td>\n",
       "      <td>8.00</td>\n",
       "      <td>E8:Paraxial mesoderm A</td>\n",
       "      <td>Paraxial mesoderm A</td>\n",
       "      <td>2</td>\n",
       "      <td>cell_30636</td>\n",
       "      <td>Pijuan</td>\n",
       "      <td>0.241697</td>\n",
       "      <td>0.040115</td>\n",
       "      <td>1.422081</td>\n",
       "      <td>2.891842</td>\n",
       "    </tr>\n",
       "    <tr>\n",
       "      <th>cell_30638</th>\n",
       "      <td>cell_30638</td>\n",
       "      <td>8.00</td>\n",
       "      <td>E8:Surface ectoderm</td>\n",
       "      <td>Surface ectoderm</td>\n",
       "      <td>2</td>\n",
       "      <td>cell_30638</td>\n",
       "      <td>Pijuan</td>\n",
       "      <td>0.181482</td>\n",
       "      <td>0.066780</td>\n",
       "      <td>1.037858</td>\n",
       "      <td>3.154767</td>\n",
       "    </tr>\n",
       "    <tr>\n",
       "      <th>cell_30639</th>\n",
       "      <td>cell_30639</td>\n",
       "      <td>8.00</td>\n",
       "      <td>E8:Caudal lateral epiblast</td>\n",
       "      <td>Caudal lateral epiblast</td>\n",
       "      <td>2</td>\n",
       "      <td>cell_30639</td>\n",
       "      <td>Pijuan</td>\n",
       "      <td>0.276569</td>\n",
       "      <td>0.079271</td>\n",
       "      <td>1.242563</td>\n",
       "      <td>2.264359</td>\n",
       "    </tr>\n",
       "    <tr>\n",
       "      <th>cell_30642</th>\n",
       "      <td>cell_30642</td>\n",
       "      <td>8.00</td>\n",
       "      <td>E8:Splanchnic mesoderm</td>\n",
       "      <td>Splanchnic mesoderm</td>\n",
       "      <td>2</td>\n",
       "      <td>cell_30642</td>\n",
       "      <td>Pijuan</td>\n",
       "      <td>0.268484</td>\n",
       "      <td>0.008921</td>\n",
       "      <td>1.744938</td>\n",
       "      <td>3.752757</td>\n",
       "    </tr>\n",
       "    <tr>\n",
       "      <th>...</th>\n",
       "      <td>...</td>\n",
       "      <td>...</td>\n",
       "      <td>...</td>\n",
       "      <td>...</td>\n",
       "      <td>...</td>\n",
       "      <td>...</td>\n",
       "      <td>...</td>\n",
       "      <td>...</td>\n",
       "      <td>...</td>\n",
       "      <td>...</td>\n",
       "      <td>...</td>\n",
       "    </tr>\n",
       "    <tr>\n",
       "      <th>cell_95722</th>\n",
       "      <td>cell_95722</td>\n",
       "      <td>8.25</td>\n",
       "      <td>E8.25:Splanchnic mesoderm</td>\n",
       "      <td>Splanchnic mesoderm</td>\n",
       "      <td>1</td>\n",
       "      <td>cell_95722</td>\n",
       "      <td>Pijuan</td>\n",
       "      <td>0.153689</td>\n",
       "      <td>0.057125</td>\n",
       "      <td>NaN</td>\n",
       "      <td>NaN</td>\n",
       "    </tr>\n",
       "    <tr>\n",
       "      <th>cell_95723</th>\n",
       "      <td>cell_95723</td>\n",
       "      <td>8.25</td>\n",
       "      <td>E8.25:Paraxial mesoderm A</td>\n",
       "      <td>Paraxial mesoderm A</td>\n",
       "      <td>1</td>\n",
       "      <td>cell_95723</td>\n",
       "      <td>Pijuan</td>\n",
       "      <td>0.162054</td>\n",
       "      <td>0.098392</td>\n",
       "      <td>NaN</td>\n",
       "      <td>NaN</td>\n",
       "    </tr>\n",
       "    <tr>\n",
       "      <th>cell_95724</th>\n",
       "      <td>cell_95724</td>\n",
       "      <td>8.25</td>\n",
       "      <td>E8.25:Extraembryonic ectoderm</td>\n",
       "      <td>Extraembryonic ectoderm</td>\n",
       "      <td>1</td>\n",
       "      <td>cell_95724</td>\n",
       "      <td>Pijuan</td>\n",
       "      <td>0.251958</td>\n",
       "      <td>0.071817</td>\n",
       "      <td>NaN</td>\n",
       "      <td>NaN</td>\n",
       "    </tr>\n",
       "    <tr>\n",
       "      <th>cell_95725</th>\n",
       "      <td>cell_95725</td>\n",
       "      <td>8.25</td>\n",
       "      <td>E8.25:Splanchnic mesoderm</td>\n",
       "      <td>Splanchnic mesoderm</td>\n",
       "      <td>1</td>\n",
       "      <td>cell_95725</td>\n",
       "      <td>Pijuan</td>\n",
       "      <td>0.182309</td>\n",
       "      <td>0.051910</td>\n",
       "      <td>NaN</td>\n",
       "      <td>NaN</td>\n",
       "    </tr>\n",
       "    <tr>\n",
       "      <th>cell_95726</th>\n",
       "      <td>cell_95726</td>\n",
       "      <td>8.25</td>\n",
       "      <td>E8.25:Primitive erythroid cells</td>\n",
       "      <td>Primitive erythroid cells</td>\n",
       "      <td>1</td>\n",
       "      <td>cell_95726</td>\n",
       "      <td>Pijuan</td>\n",
       "      <td>0.161420</td>\n",
       "      <td>0.058788</td>\n",
       "      <td>NaN</td>\n",
       "      <td>NaN</td>\n",
       "    </tr>\n",
       "  </tbody>\n",
       "</table>\n",
       "<p>32616 rows × 11 columns</p>\n",
       "</div>"
      ],
      "text/plain": [
       "                cellID   day                       cell_state   \n",
       "cell_30635  cell_30635  8.00          E8:Caudal neuroectoderm  \\\n",
       "cell_30636  cell_30636  8.00           E8:Paraxial mesoderm A   \n",
       "cell_30638  cell_30638  8.00              E8:Surface ectoderm   \n",
       "cell_30639  cell_30639  8.00       E8:Caudal lateral epiblast   \n",
       "cell_30642  cell_30642  8.00           E8:Splanchnic mesoderm   \n",
       "...                ...   ...                              ...   \n",
       "cell_95722  cell_95722  8.25        E8.25:Splanchnic mesoderm   \n",
       "cell_95723  cell_95723  8.25        E8.25:Paraxial mesoderm A   \n",
       "cell_95724  cell_95724  8.25    E8.25:Extraembryonic ectoderm   \n",
       "cell_95725  cell_95725  8.25        E8.25:Splanchnic mesoderm   \n",
       "cell_95726  cell_95726  8.25  E8.25:Primitive erythroid cells   \n",
       "\n",
       "                            cell_type  group      sample  origin   \n",
       "cell_30635       Caudal neuroectoderm      2  cell_30635  Pijuan  \\\n",
       "cell_30636        Paraxial mesoderm A      2  cell_30636  Pijuan   \n",
       "cell_30638           Surface ectoderm      2  cell_30638  Pijuan   \n",
       "cell_30639    Caudal lateral epiblast      2  cell_30639  Pijuan   \n",
       "cell_30642        Splanchnic mesoderm      2  cell_30642  Pijuan   \n",
       "...                               ...    ...         ...     ...   \n",
       "cell_95722        Splanchnic mesoderm      1  cell_95722  Pijuan   \n",
       "cell_95723        Paraxial mesoderm A      1  cell_95723  Pijuan   \n",
       "cell_95724    Extraembryonic ectoderm      1  cell_95724  Pijuan   \n",
       "cell_95725        Splanchnic mesoderm      1  cell_95725  Pijuan   \n",
       "cell_95726  Primitive erythroid cells      1  cell_95726  Pijuan   \n",
       "\n",
       "            proliferation  apoptosis     gr_pr     gr_po  \n",
       "cell_30635       0.260485   0.034528  1.539916  3.816089  \n",
       "cell_30636       0.241697   0.040115  1.422081  2.891842  \n",
       "cell_30638       0.181482   0.066780  1.037858  3.154767  \n",
       "cell_30639       0.276569   0.079271  1.242563  2.264359  \n",
       "cell_30642       0.268484   0.008921  1.744938  3.752757  \n",
       "...                   ...        ...       ...       ...  \n",
       "cell_95722       0.153689   0.057125       NaN       NaN  \n",
       "cell_95723       0.162054   0.098392       NaN       NaN  \n",
       "cell_95724       0.251958   0.071817       NaN       NaN  \n",
       "cell_95725       0.182309   0.051910       NaN       NaN  \n",
       "cell_95726       0.161420   0.058788       NaN       NaN  \n",
       "\n",
       "[32616 rows x 11 columns]"
      ]
     },
     "execution_count": 337,
     "metadata": {},
     "output_type": "execute_result"
    }
   ],
   "source": [
    "adata.obs"
   ]
  },
  {
   "cell_type": "code",
   "execution_count": null,
   "id": "2e6b625a",
   "metadata": {},
   "outputs": [],
   "source": []
  },
  {
   "cell_type": "code",
   "execution_count": null,
   "id": "7c09cd73",
   "metadata": {},
   "outputs": [],
   "source": []
  },
  {
   "cell_type": "code",
   "execution_count": null,
   "id": "a892de10",
   "metadata": {},
   "outputs": [],
   "source": []
  },
  {
   "cell_type": "code",
   "execution_count": 245,
   "id": "54260101",
   "metadata": {},
   "outputs": [
    {
     "data": {
      "image/png": "[encoded data removed]",
      "text/plain": [
       "<Figure size 640x480 with 1 Axes>"
      ]
     },
     "metadata": {},
     "output_type": "display_data"
    }
   ],
   "source": [
    "ax=sns.histplot(data=As.obs, x='gr_pr', hue='cell_type', bins=np.linspace(0,3,101))\n",
    "sns.move_legend(ax,(1,0))"
   ]
  },
  {
   "cell_type": "code",
   "execution_count": null,
   "id": "b73558d9",
   "metadata": {},
   "outputs": [],
   "source": []
  },
  {
   "cell_type": "code",
   "execution_count": 230,
   "id": "c6f01081",
   "metadata": {},
   "outputs": [
    {
     "data": {
      "text/html": [
       "<div>\n",
       "<style scoped>\n",
       "    .dataframe tbody tr th:only-of-type {\n",
       "        vertical-align: middle;\n",
       "    }\n",
       "\n",
       "    .dataframe tbody tr th {\n",
       "        vertical-align: top;\n",
       "    }\n",
       "\n",
       "    .dataframe thead th {\n",
       "        text-align: right;\n",
       "    }\n",
       "</style>\n",
       "<table border=\"1\" class=\"dataframe\">\n",
       "  <thead>\n",
       "    <tr style=\"text-align: right;\">\n",
       "      <th></th>\n",
       "      <th>prior_growth_rates</th>\n",
       "    </tr>\n",
       "  </thead>\n",
       "  <tbody>\n",
       "    <tr>\n",
       "      <th>cell_30635</th>\n",
       "      <td>1.539916</td>\n",
       "    </tr>\n",
       "    <tr>\n",
       "      <th>cell_30636</th>\n",
       "      <td>1.422081</td>\n",
       "    </tr>\n",
       "    <tr>\n",
       "      <th>cell_30638</th>\n",
       "      <td>1.037858</td>\n",
       "    </tr>\n",
       "    <tr>\n",
       "      <th>cell_30639</th>\n",
       "      <td>1.242563</td>\n",
       "    </tr>\n",
       "    <tr>\n",
       "      <th>cell_30642</th>\n",
       "      <td>1.744938</td>\n",
       "    </tr>\n",
       "    <tr>\n",
       "      <th>...</th>\n",
       "      <td>...</td>\n",
       "    </tr>\n",
       "    <tr>\n",
       "      <th>cell_95722</th>\n",
       "      <td>NaN</td>\n",
       "    </tr>\n",
       "    <tr>\n",
       "      <th>cell_95723</th>\n",
       "      <td>NaN</td>\n",
       "    </tr>\n",
       "    <tr>\n",
       "      <th>cell_95724</th>\n",
       "      <td>NaN</td>\n",
       "    </tr>\n",
       "    <tr>\n",
       "      <th>cell_95725</th>\n",
       "      <td>NaN</td>\n",
       "    </tr>\n",
       "    <tr>\n",
       "      <th>cell_95726</th>\n",
       "      <td>NaN</td>\n",
       "    </tr>\n",
       "  </tbody>\n",
       "</table>\n",
       "<p>32616 rows × 1 columns</p>\n",
       "</div>"
      ],
      "text/plain": [
       "            prior_growth_rates\n",
       "cell_30635            1.539916\n",
       "cell_30636            1.422081\n",
       "cell_30638            1.037858\n",
       "cell_30639            1.242563\n",
       "cell_30642            1.744938\n",
       "...                        ...\n",
       "cell_95722                 NaN\n",
       "cell_95723                 NaN\n",
       "cell_95724                 NaN\n",
       "cell_95725                 NaN\n",
       "cell_95726                 NaN\n",
       "\n",
       "[32616 rows x 1 columns]"
      ]
     },
     "execution_count": 230,
     "metadata": {},
     "output_type": "execute_result"
    }
   ],
   "source": [
    "tp.prior_growth_rates"
   ]
  },
  {
   "cell_type": "code",
   "execution_count": 246,
   "id": "2e6190bd",
   "metadata": {},
   "outputs": [
    {
     "data": {
      "text/html": [
       "<div>\n",
       "<style scoped>\n",
       "    .dataframe tbody tr th:only-of-type {\n",
       "        vertical-align: middle;\n",
       "    }\n",
       "\n",
       "    .dataframe tbody tr th {\n",
       "        vertical-align: top;\n",
       "    }\n",
       "\n",
       "    .dataframe thead th {\n",
       "        text-align: right;\n",
       "    }\n",
       "</style>\n",
       "<table border=\"1\" class=\"dataframe\">\n",
       "  <thead>\n",
       "    <tr style=\"text-align: right;\">\n",
       "      <th></th>\n",
       "      <th>prior_growth_rates</th>\n",
       "    </tr>\n",
       "  </thead>\n",
       "  <tbody>\n",
       "    <tr>\n",
       "      <th>cell_30635</th>\n",
       "      <td>1.539916</td>\n",
       "    </tr>\n",
       "    <tr>\n",
       "      <th>cell_30636</th>\n",
       "      <td>1.422081</td>\n",
       "    </tr>\n",
       "    <tr>\n",
       "      <th>cell_30638</th>\n",
       "      <td>1.037858</td>\n",
       "    </tr>\n",
       "    <tr>\n",
       "      <th>cell_30639</th>\n",
       "      <td>1.242563</td>\n",
       "    </tr>\n",
       "    <tr>\n",
       "      <th>cell_30642</th>\n",
       "      <td>1.744938</td>\n",
       "    </tr>\n",
       "    <tr>\n",
       "      <th>...</th>\n",
       "      <td>...</td>\n",
       "    </tr>\n",
       "    <tr>\n",
       "      <th>cell_95722</th>\n",
       "      <td>NaN</td>\n",
       "    </tr>\n",
       "    <tr>\n",
       "      <th>cell_95723</th>\n",
       "      <td>NaN</td>\n",
       "    </tr>\n",
       "    <tr>\n",
       "      <th>cell_95724</th>\n",
       "      <td>NaN</td>\n",
       "    </tr>\n",
       "    <tr>\n",
       "      <th>cell_95725</th>\n",
       "      <td>NaN</td>\n",
       "    </tr>\n",
       "    <tr>\n",
       "      <th>cell_95726</th>\n",
       "      <td>NaN</td>\n",
       "    </tr>\n",
       "  </tbody>\n",
       "</table>\n",
       "<p>32616 rows × 1 columns</p>\n",
       "</div>"
      ],
      "text/plain": [
       "            prior_growth_rates\n",
       "cell_30635            1.539916\n",
       "cell_30636            1.422081\n",
       "cell_30638            1.037858\n",
       "cell_30639            1.242563\n",
       "cell_30642            1.744938\n",
       "...                        ...\n",
       "cell_95722                 NaN\n",
       "cell_95723                 NaN\n",
       "cell_95724                 NaN\n",
       "cell_95725                 NaN\n",
       "cell_95726                 NaN\n",
       "\n",
       "[32616 rows x 1 columns]"
      ]
     },
     "execution_count": 246,
     "metadata": {},
     "output_type": "execute_result"
    }
   ],
   "source": [
    "tp.prior_growth_rates"
   ]
  },
  {
   "cell_type": "code",
   "execution_count": null,
   "id": "d6fc151e",
   "metadata": {},
   "outputs": [],
   "source": []
  },
  {
   "cell_type": "code",
   "execution_count": 232,
   "id": "afdce83a",
   "metadata": {},
   "outputs": [
    {
     "data": {
      "text/html": [
       "<div>\n",
       "<style scoped>\n",
       "    .dataframe tbody tr th:only-of-type {\n",
       "        vertical-align: middle;\n",
       "    }\n",
       "\n",
       "    .dataframe tbody tr th {\n",
       "        vertical-align: top;\n",
       "    }\n",
       "\n",
       "    .dataframe thead th {\n",
       "        text-align: right;\n",
       "    }\n",
       "</style>\n",
       "<table border=\"1\" class=\"dataframe\">\n",
       "  <thead>\n",
       "    <tr style=\"text-align: right;\">\n",
       "      <th></th>\n",
       "      <th>cellID</th>\n",
       "      <th>day</th>\n",
       "      <th>cell_state</th>\n",
       "      <th>cell_type</th>\n",
       "      <th>group</th>\n",
       "      <th>sample</th>\n",
       "      <th>origin</th>\n",
       "      <th>proliferation</th>\n",
       "      <th>apoptosis</th>\n",
       "      <th>gr_pr</th>\n",
       "      <th>gr_po</th>\n",
       "    </tr>\n",
       "  </thead>\n",
       "  <tbody>\n",
       "    <tr>\n",
       "      <th>cell_30635</th>\n",
       "      <td>cell_30635</td>\n",
       "      <td>8.00</td>\n",
       "      <td>E8:Caudal neuroectoderm</td>\n",
       "      <td>Caudal neuroectoderm</td>\n",
       "      <td>2</td>\n",
       "      <td>cell_30635</td>\n",
       "      <td>Pijuan</td>\n",
       "      <td>0.260485</td>\n",
       "      <td>0.034528</td>\n",
       "      <td>1.539916</td>\n",
       "      <td>1.898174</td>\n",
       "    </tr>\n",
       "    <tr>\n",
       "      <th>cell_30636</th>\n",
       "      <td>cell_30636</td>\n",
       "      <td>8.00</td>\n",
       "      <td>E8:Paraxial mesoderm A</td>\n",
       "      <td>Paraxial mesoderm A</td>\n",
       "      <td>2</td>\n",
       "      <td>cell_30636</td>\n",
       "      <td>Pijuan</td>\n",
       "      <td>0.241697</td>\n",
       "      <td>0.040115</td>\n",
       "      <td>1.422081</td>\n",
       "      <td>1.813372</td>\n",
       "    </tr>\n",
       "    <tr>\n",
       "      <th>cell_30638</th>\n",
       "      <td>cell_30638</td>\n",
       "      <td>8.00</td>\n",
       "      <td>E8:Surface ectoderm</td>\n",
       "      <td>Surface ectoderm</td>\n",
       "      <td>2</td>\n",
       "      <td>cell_30638</td>\n",
       "      <td>Pijuan</td>\n",
       "      <td>0.181482</td>\n",
       "      <td>0.066780</td>\n",
       "      <td>1.037858</td>\n",
       "      <td>1.246302</td>\n",
       "    </tr>\n",
       "    <tr>\n",
       "      <th>cell_30639</th>\n",
       "      <td>cell_30639</td>\n",
       "      <td>8.00</td>\n",
       "      <td>E8:Caudal lateral epiblast</td>\n",
       "      <td>Caudal lateral epiblast</td>\n",
       "      <td>2</td>\n",
       "      <td>cell_30639</td>\n",
       "      <td>Pijuan</td>\n",
       "      <td>0.276569</td>\n",
       "      <td>0.079271</td>\n",
       "      <td>1.242563</td>\n",
       "      <td>1.503402</td>\n",
       "    </tr>\n",
       "    <tr>\n",
       "      <th>cell_30642</th>\n",
       "      <td>cell_30642</td>\n",
       "      <td>8.00</td>\n",
       "      <td>E8:Splanchnic mesoderm</td>\n",
       "      <td>Splanchnic mesoderm</td>\n",
       "      <td>2</td>\n",
       "      <td>cell_30642</td>\n",
       "      <td>Pijuan</td>\n",
       "      <td>0.268484</td>\n",
       "      <td>0.008921</td>\n",
       "      <td>1.744938</td>\n",
       "      <td>2.257906</td>\n",
       "    </tr>\n",
       "    <tr>\n",
       "      <th>...</th>\n",
       "      <td>...</td>\n",
       "      <td>...</td>\n",
       "      <td>...</td>\n",
       "      <td>...</td>\n",
       "      <td>...</td>\n",
       "      <td>...</td>\n",
       "      <td>...</td>\n",
       "      <td>...</td>\n",
       "      <td>...</td>\n",
       "      <td>...</td>\n",
       "      <td>...</td>\n",
       "    </tr>\n",
       "    <tr>\n",
       "      <th>cell_95722</th>\n",
       "      <td>cell_95722</td>\n",
       "      <td>8.25</td>\n",
       "      <td>E8.25:Splanchnic mesoderm</td>\n",
       "      <td>Splanchnic mesoderm</td>\n",
       "      <td>1</td>\n",
       "      <td>cell_95722</td>\n",
       "      <td>Pijuan</td>\n",
       "      <td>0.153689</td>\n",
       "      <td>0.057125</td>\n",
       "      <td>NaN</td>\n",
       "      <td>NaN</td>\n",
       "    </tr>\n",
       "    <tr>\n",
       "      <th>cell_95723</th>\n",
       "      <td>cell_95723</td>\n",
       "      <td>8.25</td>\n",
       "      <td>E8.25:Paraxial mesoderm A</td>\n",
       "      <td>Paraxial mesoderm A</td>\n",
       "      <td>1</td>\n",
       "      <td>cell_95723</td>\n",
       "      <td>Pijuan</td>\n",
       "      <td>0.162054</td>\n",
       "      <td>0.098392</td>\n",
       "      <td>NaN</td>\n",
       "      <td>NaN</td>\n",
       "    </tr>\n",
       "    <tr>\n",
       "      <th>cell_95724</th>\n",
       "      <td>cell_95724</td>\n",
       "      <td>8.25</td>\n",
       "      <td>E8.25:Extraembryonic ectoderm</td>\n",
       "      <td>Extraembryonic ectoderm</td>\n",
       "      <td>1</td>\n",
       "      <td>cell_95724</td>\n",
       "      <td>Pijuan</td>\n",
       "      <td>0.251958</td>\n",
       "      <td>0.071817</td>\n",
       "      <td>NaN</td>\n",
       "      <td>NaN</td>\n",
       "    </tr>\n",
       "    <tr>\n",
       "      <th>cell_95725</th>\n",
       "      <td>cell_95725</td>\n",
       "      <td>8.25</td>\n",
       "      <td>E8.25:Splanchnic mesoderm</td>\n",
       "      <td>Splanchnic mesoderm</td>\n",
       "      <td>1</td>\n",
       "      <td>cell_95725</td>\n",
       "      <td>Pijuan</td>\n",
       "      <td>0.182309</td>\n",
       "      <td>0.051910</td>\n",
       "      <td>NaN</td>\n",
       "      <td>NaN</td>\n",
       "    </tr>\n",
       "    <tr>\n",
       "      <th>cell_95726</th>\n",
       "      <td>cell_95726</td>\n",
       "      <td>8.25</td>\n",
       "      <td>E8.25:Primitive erythroid cells</td>\n",
       "      <td>Primitive erythroid cells</td>\n",
       "      <td>1</td>\n",
       "      <td>cell_95726</td>\n",
       "      <td>Pijuan</td>\n",
       "      <td>0.161420</td>\n",
       "      <td>0.058788</td>\n",
       "      <td>NaN</td>\n",
       "      <td>NaN</td>\n",
       "    </tr>\n",
       "  </tbody>\n",
       "</table>\n",
       "<p>32616 rows × 11 columns</p>\n",
       "</div>"
      ],
      "text/plain": [
       "                cellID   day                       cell_state   \n",
       "cell_30635  cell_30635  8.00          E8:Caudal neuroectoderm  \\\n",
       "cell_30636  cell_30636  8.00           E8:Paraxial mesoderm A   \n",
       "cell_30638  cell_30638  8.00              E8:Surface ectoderm   \n",
       "cell_30639  cell_30639  8.00       E8:Caudal lateral epiblast   \n",
       "cell_30642  cell_30642  8.00           E8:Splanchnic mesoderm   \n",
       "...                ...   ...                              ...   \n",
       "cell_95722  cell_95722  8.25        E8.25:Splanchnic mesoderm   \n",
       "cell_95723  cell_95723  8.25        E8.25:Paraxial mesoderm A   \n",
       "cell_95724  cell_95724  8.25    E8.25:Extraembryonic ectoderm   \n",
       "cell_95725  cell_95725  8.25        E8.25:Splanchnic mesoderm   \n",
       "cell_95726  cell_95726  8.25  E8.25:Primitive erythroid cells   \n",
       "\n",
       "                            cell_type  group      sample  origin   \n",
       "cell_30635       Caudal neuroectoderm      2  cell_30635  Pijuan  \\\n",
       "cell_30636        Paraxial mesoderm A      2  cell_30636  Pijuan   \n",
       "cell_30638           Surface ectoderm      2  cell_30638  Pijuan   \n",
       "cell_30639    Caudal lateral epiblast      2  cell_30639  Pijuan   \n",
       "cell_30642        Splanchnic mesoderm      2  cell_30642  Pijuan   \n",
       "...                               ...    ...         ...     ...   \n",
       "cell_95722        Splanchnic mesoderm      1  cell_95722  Pijuan   \n",
       "cell_95723        Paraxial mesoderm A      1  cell_95723  Pijuan   \n",
       "cell_95724    Extraembryonic ectoderm      1  cell_95724  Pijuan   \n",
       "cell_95725        Splanchnic mesoderm      1  cell_95725  Pijuan   \n",
       "cell_95726  Primitive erythroid cells      1  cell_95726  Pijuan   \n",
       "\n",
       "            proliferation  apoptosis     gr_pr     gr_po  \n",
       "cell_30635       0.260485   0.034528  1.539916  1.898174  \n",
       "cell_30636       0.241697   0.040115  1.422081  1.813372  \n",
       "cell_30638       0.181482   0.066780  1.037858  1.246302  \n",
       "cell_30639       0.276569   0.079271  1.242563  1.503402  \n",
       "cell_30642       0.268484   0.008921  1.744938  2.257906  \n",
       "...                   ...        ...       ...       ...  \n",
       "cell_95722       0.153689   0.057125       NaN       NaN  \n",
       "cell_95723       0.162054   0.098392       NaN       NaN  \n",
       "cell_95724       0.251958   0.071817       NaN       NaN  \n",
       "cell_95725       0.182309   0.051910       NaN       NaN  \n",
       "cell_95726       0.161420   0.058788       NaN       NaN  \n",
       "\n",
       "[32616 rows x 11 columns]"
      ]
     },
     "execution_count": 232,
     "metadata": {},
     "output_type": "execute_result"
    }
   ],
   "source": [
    "adata.obs"
   ]
  },
  {
   "cell_type": "code",
   "execution_count": null,
   "id": "e978a3db",
   "metadata": {},
   "outputs": [],
   "source": []
  },
  {
   "cell_type": "code",
   "execution_count": 199,
   "id": "9e517ca9",
   "metadata": {
    "scrolled": false
   },
   "outputs": [
    {
     "data": {
      "text/html": [
       "<div>\n",
       "<style scoped>\n",
       "    .dataframe tbody tr th:only-of-type {\n",
       "        vertical-align: middle;\n",
       "    }\n",
       "\n",
       "    .dataframe tbody tr th {\n",
       "        vertical-align: top;\n",
       "    }\n",
       "\n",
       "    .dataframe thead th {\n",
       "        text-align: right;\n",
       "    }\n",
       "</style>\n",
       "<table border=\"1\" class=\"dataframe\">\n",
       "  <thead>\n",
       "    <tr style=\"text-align: right;\">\n",
       "      <th></th>\n",
       "      <th>prior_growth_rates</th>\n",
       "    </tr>\n",
       "  </thead>\n",
       "  <tbody>\n",
       "    <tr>\n",
       "      <th>cell_30635</th>\n",
       "      <td>1.539916</td>\n",
       "    </tr>\n",
       "    <tr>\n",
       "      <th>cell_30636</th>\n",
       "      <td>1.422081</td>\n",
       "    </tr>\n",
       "    <tr>\n",
       "      <th>cell_30638</th>\n",
       "      <td>1.037858</td>\n",
       "    </tr>\n",
       "    <tr>\n",
       "      <th>cell_30639</th>\n",
       "      <td>1.242563</td>\n",
       "    </tr>\n",
       "    <tr>\n",
       "      <th>cell_30642</th>\n",
       "      <td>1.744938</td>\n",
       "    </tr>\n",
       "    <tr>\n",
       "      <th>...</th>\n",
       "      <td>...</td>\n",
       "    </tr>\n",
       "    <tr>\n",
       "      <th>cell_95722</th>\n",
       "      <td>NaN</td>\n",
       "    </tr>\n",
       "    <tr>\n",
       "      <th>cell_95723</th>\n",
       "      <td>NaN</td>\n",
       "    </tr>\n",
       "    <tr>\n",
       "      <th>cell_95724</th>\n",
       "      <td>NaN</td>\n",
       "    </tr>\n",
       "    <tr>\n",
       "      <th>cell_95725</th>\n",
       "      <td>NaN</td>\n",
       "    </tr>\n",
       "    <tr>\n",
       "      <th>cell_95726</th>\n",
       "      <td>NaN</td>\n",
       "    </tr>\n",
       "  </tbody>\n",
       "</table>\n",
       "<p>32616 rows × 1 columns</p>\n",
       "</div>"
      ],
      "text/plain": [
       "            prior_growth_rates\n",
       "cell_30635            1.539916\n",
       "cell_30636            1.422081\n",
       "cell_30638            1.037858\n",
       "cell_30639            1.242563\n",
       "cell_30642            1.744938\n",
       "...                        ...\n",
       "cell_95722                 NaN\n",
       "cell_95723                 NaN\n",
       "cell_95724                 NaN\n",
       "cell_95725                 NaN\n",
       "cell_95726                 NaN\n",
       "\n",
       "[32616 rows x 1 columns]"
      ]
     },
     "execution_count": 199,
     "metadata": {},
     "output_type": "execute_result"
    }
   ],
   "source": [
    "tp.prior_growth_rates"
   ]
  },
  {
   "cell_type": "code",
   "execution_count": null,
   "id": "7068c6d7",
   "metadata": {},
   "outputs": [],
   "source": [
    "**(time_tuple[1]-time_tuple[0])"
   ]
  },
  {
   "cell_type": "code",
   "execution_count": 200,
   "id": "aac5dd1a",
   "metadata": {},
   "outputs": [
    {
     "data": {
      "text/plain": [
       "0.25"
      ]
     },
     "execution_count": 200,
     "metadata": {},
     "output_type": "execute_result"
    }
   ],
   "source": [
    "time_tuple[1]-time_tuple[0]"
   ]
  },
  {
   "cell_type": "code",
   "execution_count": null,
   "id": "2bbf23a9",
   "metadata": {},
   "outputs": [],
   "source": []
  },
  {
   "cell_type": "code",
   "execution_count": null,
   "id": "223d26f7",
   "metadata": {},
   "outputs": [],
   "source": []
  },
  {
   "cell_type": "code",
   "execution_count": null,
   "id": "2a7c7b6d",
   "metadata": {},
   "outputs": [],
   "source": []
  },
  {
   "cell_type": "code",
   "execution_count": null,
   "id": "d348404a",
   "metadata": {},
   "outputs": [],
   "source": []
  },
  {
   "cell_type": "code",
   "execution_count": null,
   "id": "65153afb",
   "metadata": {},
   "outputs": [],
   "source": []
  },
  {
   "cell_type": "code",
   "execution_count": null,
   "id": "9412838a",
   "metadata": {},
   "outputs": [],
   "source": []
  },
  {
   "cell_type": "code",
   "execution_count": 182,
   "id": "007ff6b9",
   "metadata": {},
   "outputs": [
    {
     "data": {
      "text/html": [
       "<div>\n",
       "<style scoped>\n",
       "    .dataframe tbody tr th:only-of-type {\n",
       "        vertical-align: middle;\n",
       "    }\n",
       "\n",
       "    .dataframe tbody tr th {\n",
       "        vertical-align: top;\n",
       "    }\n",
       "\n",
       "    .dataframe thead th {\n",
       "        text-align: right;\n",
       "    }\n",
       "</style>\n",
       "<table border=\"1\" class=\"dataframe\">\n",
       "  <thead>\n",
       "    <tr style=\"text-align: right;\">\n",
       "      <th></th>\n",
       "      <th>posterior_growth_rates</th>\n",
       "    </tr>\n",
       "  </thead>\n",
       "  <tbody>\n",
       "    <tr>\n",
       "      <th>cell_30635</th>\n",
       "      <td>4.312301</td>\n",
       "    </tr>\n",
       "    <tr>\n",
       "      <th>cell_30636</th>\n",
       "      <td>3.210051</td>\n",
       "    </tr>\n",
       "    <tr>\n",
       "      <th>cell_30638</th>\n",
       "      <td>4.288957</td>\n",
       "    </tr>\n",
       "    <tr>\n",
       "      <th>cell_30639</th>\n",
       "      <td>2.216922</td>\n",
       "    </tr>\n",
       "    <tr>\n",
       "      <th>cell_30642</th>\n",
       "      <td>4.081030</td>\n",
       "    </tr>\n",
       "    <tr>\n",
       "      <th>...</th>\n",
       "      <td>...</td>\n",
       "    </tr>\n",
       "    <tr>\n",
       "      <th>cell_95722</th>\n",
       "      <td>NaN</td>\n",
       "    </tr>\n",
       "    <tr>\n",
       "      <th>cell_95723</th>\n",
       "      <td>NaN</td>\n",
       "    </tr>\n",
       "    <tr>\n",
       "      <th>cell_95724</th>\n",
       "      <td>NaN</td>\n",
       "    </tr>\n",
       "    <tr>\n",
       "      <th>cell_95725</th>\n",
       "      <td>NaN</td>\n",
       "    </tr>\n",
       "    <tr>\n",
       "      <th>cell_95726</th>\n",
       "      <td>NaN</td>\n",
       "    </tr>\n",
       "  </tbody>\n",
       "</table>\n",
       "<p>32616 rows × 1 columns</p>\n",
       "</div>"
      ],
      "text/plain": [
       "            posterior_growth_rates\n",
       "cell_30635                4.312301\n",
       "cell_30636                3.210051\n",
       "cell_30638                4.288957\n",
       "cell_30639                2.216922\n",
       "cell_30642                4.081030\n",
       "...                            ...\n",
       "cell_95722                     NaN\n",
       "cell_95723                     NaN\n",
       "cell_95724                     NaN\n",
       "cell_95725                     NaN\n",
       "cell_95726                     NaN\n",
       "\n",
       "[32616 rows x 1 columns]"
      ]
     },
     "execution_count": 182,
     "metadata": {},
     "output_type": "execute_result"
    }
   ],
   "source": [
    "tp.posterior_growth_rates"
   ]
  },
  {
   "cell_type": "code",
   "execution_count": null,
   "id": "043813ee",
   "metadata": {},
   "outputs": [],
   "source": []
  },
  {
   "cell_type": "code",
   "execution_count": null,
   "id": "e861580e",
   "metadata": {},
   "outputs": [],
   "source": []
  },
  {
   "cell_type": "code",
   "execution_count": null,
   "id": "37ffff50",
   "metadata": {},
   "outputs": [],
   "source": []
  },
  {
   "cell_type": "code",
   "execution_count": null,
   "id": "39da0974",
   "metadata": {},
   "outputs": [],
   "source": []
  },
  {
   "cell_type": "code",
   "execution_count": null,
   "id": "5a80e789",
   "metadata": {},
   "outputs": [],
   "source": []
  },
  {
   "cell_type": "code",
   "execution_count": null,
   "id": "e971fcc0",
   "metadata": {},
   "outputs": [],
   "source": []
  },
  {
   "cell_type": "code",
   "execution_count": null,
   "id": "1ffd0253",
   "metadata": {},
   "outputs": [],
   "source": [
    "epsilon=0.005\n",
    "ap_min=0.02\n",
    "ap_max=0.04\n",
    "\n",
    "for i in range(19):\n",
    "    ts0=ts[i]\n",
    "    ts1=ts[i+1]\n",
    "    print(ts0)\n",
    "    \n",
    "    tp=tp.load(f'{Path}/moscot_maps/{ts0}_{epsilon}_{ap_min}_{ap_max}_TemporalProblem.pkl')\n",
    "    time_tuple=list(tp.solutions.keys())[0]\n",
    "    gr=tp[time_tuple].solution.a\n",
    "    gr=gr/gr.mean()*Cell_number_dict[ts1]/Cell_number_dict[ts0]\n",
    "    np.save(f'{Path}/moscot_maps/{ts0}_growth_rates.npy', gr)"
   ]
  },
  {
   "cell_type": "code",
   "execution_count": null,
   "id": "5290de7e",
   "metadata": {},
   "outputs": [],
   "source": []
  },
  {
   "cell_type": "code",
   "execution_count": null,
   "id": "d8b72e28",
   "metadata": {},
   "outputs": [],
   "source": []
  },
  {
   "cell_type": "code",
   "execution_count": null,
   "id": "dd096ef3",
   "metadata": {},
   "outputs": [],
   "source": []
  }
 ],
 "metadata": {
  "kernelspec": {
   "display_name": "mc",
   "language": "python",
   "name": "mc"
  },
  "language_info": {
   "codemirror_mode": {
    "name": "ipython",
    "version": 3
   },
   "file_extension": ".py",
   "mimetype": "text/x-python",
   "name": "python",
   "nbconvert_exporter": "python",
   "pygments_lexer": "ipython3",
   "version": "3.10.9"
  }
 },
 "nbformat": 4,
 "nbformat_minor": 5
}
