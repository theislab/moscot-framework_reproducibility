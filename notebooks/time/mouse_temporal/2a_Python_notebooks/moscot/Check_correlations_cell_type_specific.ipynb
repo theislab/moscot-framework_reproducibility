{
 "cells": [
  {
   "cell_type": "code",
   "execution_count": 5,
   "id": "eea495f6",
   "metadata": {},
   "outputs": [],
   "source": [
    "import numpy as np\n",
    "import anndata\n",
    "import pandas as pd\n",
    "import scanpy as sc\n",
    "import scipy\n",
    "import seaborn as sns\n",
    "import matplotlib.pyplot as plt\n",
    "import scanpy\n",
    "\n",
    "\n",
    "from moscot.problems.time._lineage import TemporalProblem"
   ]
  },
  {
   "cell_type": "code",
   "execution_count": 6,
   "id": "e0b23fce",
   "metadata": {},
   "outputs": [],
   "source": [
    "Path=\"/home/mgander/moscot-framework_reproducibility/data/mouse_temporal\"\n",
    "ts=['E3.5', 'E4.5', 'E5.25', 'E5.5', 'E6.25', 'E6.5', 'E6.75', 'E7.0', 'E7.25', 'E7.5', 'E7.75', 'E8.0', 'E8.25', 'E8.5a', 'E8.5b', 'E9.5', 'E10.5', 'E11.5', 'E12.5', 'E13.5']"
   ]
  },
  {
   "cell_type": "markdown",
   "id": "00bd05b6",
   "metadata": {},
   "source": [
    "# Moscot maps to growth rates"
   ]
  },
  {
   "cell_type": "code",
   "execution_count": 7,
   "id": "2e4b5950",
   "metadata": {},
   "outputs": [],
   "source": [
    "cells=[32, 80, 100, 120, 400, 660, 1720, 4500, 8200, 15000, 30000, 60000, 73000, 90000, 90000, 200000, 1100000, 2600000, 6000000, 13000000]\n",
    "Cell_number_dict={}\n",
    "for i in range(20):\n",
    "    Cell_number_dict[ts[i]]=cells[i]"
   ]
  },
  {
   "cell_type": "code",
   "execution_count": 8,
   "id": "95df4374",
   "metadata": {},
   "outputs": [
    {
     "name": "stdout",
     "output_type": "stream",
     "text": [
      "WARNING: Your filename has more than two extensions: ['.5_E4', '.5', '.h5ad'].\n",
      "Only considering the two last: ['.5', '.h5ad'].\n",
      "WARNING: Your filename has more than two extensions: ['.5_E4', '.5', '.h5ad'].\n",
      "Only considering the two last: ['.5', '.h5ad'].\n"
     ]
    }
   ],
   "source": [
    "# Doesn't matter which adata you use to create a tp instance, the result is always the same. I just need one\n",
    "# to instantiate a tp-problem\n",
    "adata=sc.read(f\"{Path}/anndatas/Comb_anndatas/adata_E3.5_E4.5.h5ad\")\n",
    "tp=TemporalProblem(adata)"
   ]
  },
  {
   "cell_type": "code",
   "execution_count": 9,
   "id": "48b75c2f",
   "metadata": {
    "collapsed": true
   },
   "outputs": [
    {
     "name": "stdout",
     "output_type": "stream",
     "text": [
      "E3.5 --> E4.5\n",
      "------------------------\n",
      "WARNING: genes are not in var_names and ignored: ['Fam64a', 'Hn1', 'Mlf1ip']\n",
      "WARNING: genes are not in var_names and ignored: ['Adck3', 'Gnb2l1', 'H2afj', 'Hist1h1c', 'Hist3h2a', 'Ikbkap', 'Lrmp']\n",
      "E4.5 --> E5.25\n",
      "------------------------\n",
      "WARNING: genes are not in var_names and ignored: ['Fam64a', 'Hn1', 'Mlf1ip']\n",
      "WARNING: genes are not in var_names and ignored: ['Adck3', 'Gnb2l1', 'H2afj', 'Hist1h1c', 'Hist3h2a', 'Ikbkap', 'Lrmp']\n",
      "E5.25 --> E5.5\n",
      "------------------------\n",
      "WARNING: genes are not in var_names and ignored: ['Fam64a', 'Hn1', 'Mlf1ip']\n",
      "WARNING: genes are not in var_names and ignored: ['Adck3', 'Gnb2l1', 'H2afj', 'Hist1h1c', 'Hist3h2a', 'Ikbkap', 'Lrmp']\n",
      "E5.5 --> E6.25\n",
      "------------------------\n",
      "WARNING: genes are not in var_names and ignored: ['Fam64a', 'Hn1', 'Mlf1ip']\n",
      "WARNING: genes are not in var_names and ignored: ['Adck3', 'Gnb2l1', 'H2afj', 'Hist1h1c', 'Hist3h2a', 'Ikbkap', 'Lrmp']\n",
      "E6.25 --> E6.5\n",
      "------------------------\n",
      "WARNING: genes are not in var_names and ignored: ['Fam64a', 'Hn1', 'Mlf1ip']\n",
      "WARNING: genes are not in var_names and ignored: ['Adck3', 'Gnb2l1', 'H2afj', 'Hist1h1c', 'Hist3h2a', 'Ikbkap', 'Lrmp']\n",
      "E6.5 --> E6.75\n",
      "------------------------\n",
      "WARNING: genes are not in var_names and ignored: ['Fam64a', 'Hn1', 'Mlf1ip']\n",
      "WARNING: genes are not in var_names and ignored: ['Adck3', 'Gnb2l1', 'H2afj', 'Hist1h1c', 'Hist3h2a', 'Ikbkap', 'Lrmp']\n",
      "E6.75 --> E7.0\n",
      "------------------------\n",
      "WARNING: genes are not in var_names and ignored: ['Fam64a', 'Hn1', 'Mlf1ip']\n",
      "WARNING: genes are not in var_names and ignored: ['Adck3', 'Gnb2l1', 'H2afj', 'Hist1h1c', 'Hist3h2a', 'Ikbkap', 'Lrmp']\n",
      "E7.0 --> E7.25\n",
      "------------------------\n",
      "WARNING: genes are not in var_names and ignored: ['Fam64a', 'Hn1', 'Mlf1ip']\n",
      "WARNING: genes are not in var_names and ignored: ['Adck3', 'Gnb2l1', 'H2afj', 'Hist1h1c', 'Hist3h2a', 'Ikbkap', 'Lrmp']\n",
      "E7.25 --> E7.5\n",
      "------------------------\n",
      "WARNING: genes are not in var_names and ignored: ['Fam64a', 'Hn1', 'Mlf1ip']\n",
      "WARNING: genes are not in var_names and ignored: ['Adck3', 'Gnb2l1', 'H2afj', 'Hist1h1c', 'Hist3h2a', 'Ikbkap', 'Lrmp']\n",
      "E7.5 --> E7.75\n",
      "------------------------\n"
     ]
    },
    {
     "name": "stderr",
     "output_type": "stream",
     "text": [
      "\n",
      "KeyboardInterrupt\n",
      "\n"
     ]
    }
   ],
   "source": [
    "corm=[]\n",
    "cort=[]\n",
    "ns=[]\n",
    "d=[]\n",
    "ctd=[]\n",
    "for i in range(13):\n",
    "    ts0=ts[i]\n",
    "    ts1=ts[i+1]\n",
    "    print(f'{ts0} --> {ts1}')\n",
    "    print('------------------------')\n",
    "\n",
    "    tp=tp.load(f'{Path}/moscot_maps/{ts0}_{ts1}_no_gr2_TemporalProblem.pkl')\n",
    "    adata=tp.adata\n",
    "    time_tuple=list(tp.solutions.keys())[0]\n",
    "    gr=tp[time_tuple].solution.a\n",
    "    gr=gr/gr.mean()*Cell_number_dict[ts1]/Cell_number_dict[ts0]\n",
    "\n",
    "    cell_dying=np.sum((1-gr[gr<1]))\n",
    "    apoptosis_rate=float(cell_dying/len(gr))\n",
    "    apoptosis_rate\n",
    "\n",
    "    tp=TemporalProblem(adata)\n",
    "    tp.score_genes_for_marginals(gene_set_proliferation='mouse',  gene_set_apoptosis='mouse')\n",
    "    tp = tp.prepare('day', joint_attr=f'X_pcaS')\n",
    "\n",
    "    A0=adata[adata.obs['day']==time_tuple[0]].copy()\n",
    "    #A0.obs['gr']=z_transf(gr)\n",
    "    #A0.obs['gr_init']=z_transf(list(tp.prior_growth_rates['prior_growth_rates'])[:len(A0)])\n",
    "\n",
    "    #A0.obs['gr_t']=np.load(f'{Path}/TOME_transport_maps/{ts0}_growth_rates.npy')\n",
    "    A0.obs['gr']=gr\n",
    "    A0.obs['gr_init']=list(tp.prior_growth_rates['prior_growth_rates'])[:len(A0)]\n",
    "    \n",
    "    grT=np.load(f'{Path}/TOME_transport_maps/{ts0}_growth_rates2.npy')\n",
    "    A0.obs['grT']=grT\n",
    "\n",
    "\n",
    "\n",
    "    cts=list(set(A0.obs['cell_type']))\n",
    "\n",
    "    for ct in cts:\n",
    "        As=A0[A0.obs['cell_type']==ct]\n",
    "        #sns.scatterplot(data=As.obs, x='gr', y='gr_init', s=5)\n",
    "        #plt.xlim(0,4)\n",
    "        #plt.pause(0.01)\n",
    "        #if len(As)>400:\n",
    "        ns.append(len(As))\n",
    "        corm.append(scipy.stats.pearsonr(x=As.obs['gr'], y=As.obs['gr_init'])[0])\n",
    "        cort.append(scipy.stats.pearsonr(x=As.obs['grT'], y=As.obs['gr_init'])[0])\n",
    "        d.append(ts0)\n",
    "        ctd.append(ct)\n",
    "    #sns.histplot(cor, bins=np.linspace(-1,1,51))\n",
    "    #plt.pause(0.001)\n",
    "    #sns.scatterplot(x=ns, y=cor)\n",
    "    #plt.pause(0.001)"
   ]
  },
  {
   "cell_type": "code",
   "execution_count": null,
   "id": "fac31bf2",
   "metadata": {},
   "outputs": [],
   "source": []
  },
  {
   "cell_type": "code",
   "execution_count": null,
   "id": "b85c6a63",
   "metadata": {},
   "outputs": [],
   "source": []
  },
  {
   "cell_type": "code",
   "execution_count": 10,
   "id": "650f180b",
   "metadata": {
    "scrolled": true
   },
   "outputs": [
    {
     "name": "stdout",
     "output_type": "stream",
     "text": [
      "E3.5 --> E4.5\n",
      "------------------------\n",
      "WARNING: genes are not in var_names and ignored: ['Fam64a', 'Hn1', 'Mlf1ip']\n",
      "WARNING: genes are not in var_names and ignored: ['Adck3', 'Gnb2l1', 'H2afj', 'Hist1h1c', 'Hist3h2a', 'Ikbkap', 'Lrmp']\n",
      "WARNING: genes are not in var_names and ignored: ['Hn1', 'Mlf1ip', 'Fam64a']\n",
      "E4.5 --> E5.25\n",
      "------------------------\n",
      "WARNING: genes are not in var_names and ignored: ['Fam64a', 'Hn1', 'Mlf1ip']\n",
      "WARNING: genes are not in var_names and ignored: ['Adck3', 'Gnb2l1', 'H2afj', 'Hist1h1c', 'Hist3h2a', 'Ikbkap', 'Lrmp']\n",
      "WARNING: genes are not in var_names and ignored: ['Hn1', 'Mlf1ip', 'Fam64a']\n",
      "E5.25 --> E5.5\n",
      "------------------------\n",
      "WARNING: genes are not in var_names and ignored: ['Fam64a', 'Hn1', 'Mlf1ip']\n",
      "WARNING: genes are not in var_names and ignored: ['Adck3', 'Gnb2l1', 'H2afj', 'Hist1h1c', 'Hist3h2a', 'Ikbkap', 'Lrmp']\n",
      "WARNING: genes are not in var_names and ignored: ['Hn1', 'Mlf1ip', 'Fam64a']\n",
      "E5.5 --> E6.25\n",
      "------------------------\n",
      "WARNING: genes are not in var_names and ignored: ['Fam64a', 'Hn1', 'Mlf1ip']\n",
      "WARNING: genes are not in var_names and ignored: ['Adck3', 'Gnb2l1', 'H2afj', 'Hist1h1c', 'Hist3h2a', 'Ikbkap', 'Lrmp']\n",
      "WARNING: genes are not in var_names and ignored: ['Hn1', 'Mlf1ip', 'Fam64a']\n",
      "E6.25 --> E6.5\n",
      "------------------------\n",
      "WARNING: genes are not in var_names and ignored: ['Fam64a', 'Hn1', 'Mlf1ip']\n",
      "WARNING: genes are not in var_names and ignored: ['Adck3', 'Gnb2l1', 'H2afj', 'Hist1h1c', 'Hist3h2a', 'Ikbkap', 'Lrmp']\n",
      "WARNING: genes are not in var_names and ignored: ['Hn1', 'Mlf1ip', 'Fam64a']\n",
      "E6.5 --> E6.75\n",
      "------------------------\n",
      "WARNING: genes are not in var_names and ignored: ['Fam64a', 'Hn1', 'Mlf1ip']\n",
      "WARNING: genes are not in var_names and ignored: ['Adck3', 'Gnb2l1', 'H2afj', 'Hist1h1c', 'Hist3h2a', 'Ikbkap', 'Lrmp']\n",
      "WARNING: genes are not in var_names and ignored: ['Hn1', 'Mlf1ip', 'Fam64a']\n",
      "E6.75 --> E7.0\n",
      "------------------------\n",
      "WARNING: genes are not in var_names and ignored: ['Fam64a', 'Hn1', 'Mlf1ip']\n",
      "WARNING: genes are not in var_names and ignored: ['Adck3', 'Gnb2l1', 'H2afj', 'Hist1h1c', 'Hist3h2a', 'Ikbkap', 'Lrmp']\n",
      "WARNING: genes are not in var_names and ignored: ['Hn1', 'Mlf1ip', 'Fam64a']\n",
      "E7.0 --> E7.25\n",
      "------------------------\n",
      "WARNING: genes are not in var_names and ignored: ['Fam64a', 'Hn1', 'Mlf1ip']\n",
      "WARNING: genes are not in var_names and ignored: ['Adck3', 'Gnb2l1', 'H2afj', 'Hist1h1c', 'Hist3h2a', 'Ikbkap', 'Lrmp']\n",
      "WARNING: genes are not in var_names and ignored: ['Hn1', 'Mlf1ip', 'Fam64a']\n",
      "E7.25 --> E7.5\n",
      "------------------------\n",
      "WARNING: genes are not in var_names and ignored: ['Fam64a', 'Hn1', 'Mlf1ip']\n",
      "WARNING: genes are not in var_names and ignored: ['Adck3', 'Gnb2l1', 'H2afj', 'Hist1h1c', 'Hist3h2a', 'Ikbkap', 'Lrmp']\n",
      "WARNING: genes are not in var_names and ignored: ['Hn1', 'Mlf1ip', 'Fam64a']\n",
      "E7.5 --> E7.75\n",
      "------------------------\n",
      "WARNING: genes are not in var_names and ignored: ['Fam64a', 'Hn1', 'Mlf1ip']\n",
      "WARNING: genes are not in var_names and ignored: ['Adck3', 'Gnb2l1', 'H2afj', 'Hist1h1c', 'Hist3h2a', 'Ikbkap', 'Lrmp']\n",
      "WARNING: genes are not in var_names and ignored: ['Hn1', 'Mlf1ip', 'Fam64a']\n",
      "E7.75 --> E8.0\n",
      "------------------------\n",
      "WARNING: genes are not in var_names and ignored: ['Fam64a', 'Hn1', 'Mlf1ip']\n",
      "WARNING: genes are not in var_names and ignored: ['Adck3', 'Gnb2l1', 'H2afj', 'Hist1h1c', 'Hist3h2a', 'Ikbkap', 'Lrmp']\n",
      "WARNING: genes are not in var_names and ignored: ['Hn1', 'Mlf1ip', 'Fam64a']\n",
      "E8.0 --> E8.25\n",
      "------------------------\n",
      "WARNING: genes are not in var_names and ignored: ['Fam64a', 'Hn1', 'Mlf1ip']\n",
      "WARNING: genes are not in var_names and ignored: ['Adck3', 'Gnb2l1', 'H2afj', 'Hist1h1c', 'Hist3h2a', 'Ikbkap', 'Lrmp']\n",
      "WARNING: genes are not in var_names and ignored: ['Hn1', 'Mlf1ip', 'Fam64a']\n",
      "E8.25 --> E8.5a\n",
      "------------------------\n",
      "WARNING: genes are not in var_names and ignored: ['Fam64a', 'Hn1', 'Mlf1ip']\n",
      "WARNING: genes are not in var_names and ignored: ['Adck3', 'Gnb2l1', 'H2afj', 'Hist1h1c', 'Hist3h2a', 'Ikbkap', 'Lrmp']\n",
      "WARNING: genes are not in var_names and ignored: ['Hn1', 'Mlf1ip', 'Fam64a']\n"
     ]
    }
   ],
   "source": [
    "corm=[]\n",
    "cort=[]\n",
    "ns=[]\n",
    "d=[]\n",
    "ctd=[]\n",
    "for i in range(13):\n",
    "    ts0=ts[i]\n",
    "    ts1=ts[i+1]\n",
    "    print(f'{ts0} --> {ts1}')\n",
    "    print('------------------------')\n",
    "\n",
    "    tp=tp.load(f'{Path}/moscot_maps/{ts0}_{ts1}_no_gr2_TemporalProblem.pkl')\n",
    "    adata=tp.adata\n",
    "    time_tuple=list(tp.solutions.keys())[0]\n",
    "    gr=tp[time_tuple].solution.a\n",
    "    gr=gr/gr.mean()*Cell_number_dict[ts1]/Cell_number_dict[ts0]\n",
    "\n",
    "    cell_dying=np.sum((1-gr[gr<1]))\n",
    "    apoptosis_rate=float(cell_dying/len(gr))\n",
    "    apoptosis_rate\n",
    "\n",
    "    tp=TemporalProblem(adata)\n",
    "    tp.score_genes_for_marginals(gene_set_proliferation='mouse',  gene_set_apoptosis='mouse')\n",
    "    tp = tp.prepare('day', joint_attr=f'X_pcaS')\n",
    "\n",
    "    A0=adata[adata.obs['day']==time_tuple[0]].copy()\n",
    "    #A0.obs['gr']=z_transf(gr)\n",
    "    #A0.obs['gr_init']=z_transf(list(tp.prior_growth_rates['prior_growth_rates'])[:len(A0)])\n",
    "\n",
    "    #A0.obs['gr_t']=np.load(f'{Path}/TOME_transport_maps/{ts0}_growth_rates.npy')\n",
    "    A0.obs['gr']=gr\n",
    "    \n",
    "    grT=np.load(f'{Path}/TOME_transport_maps/{ts0}_growth_rates2.npy')\n",
    "    A0.obs['grT']=grT\n",
    "    \n",
    "    \n",
    "    scanpy.pp.scale(A0)\n",
    "    cc_genes_mouse=list(pd.read_csv(f'{Path}/utils/mouse_proliferation.txt', header=None)[0])\n",
    "    scanpy.tl.score_genes(A0, cc_genes_mouse)\n",
    "\n",
    "    #A0.obs['gr_init']=list(tp.prior_growth_rates['prior_growth_rates'])[:len(A0)]\n",
    "    A0.obs['gr_init']=A0.obs['score']\n",
    "    \n",
    "    cts=list(set(A0.obs['cell_type']))\n",
    "\n",
    "    for ct in cts:\n",
    "        As=A0[A0.obs['cell_type']==ct]\n",
    "        #sns.scatterplot(data=As.obs, x='gr', y='gr_init', s=5)\n",
    "        #plt.xlim(0,4)\n",
    "        #plt.pause(0.01)\n",
    "        #if len(As)>400:\n",
    "        ns.append(len(As))\n",
    "        corm.append(scipy.stats.pearsonr(x=As.obs['gr'], y=As.obs['gr_init'])[0])\n",
    "        cort.append(scipy.stats.pearsonr(x=As.obs['grT'], y=As.obs['gr_init'])[0])\n",
    "        d.append(ts0)\n",
    "        ctd.append(ct)\n",
    "    #sns.histplot(cor, bins=np.linspace(-1,1,51))\n",
    "    #plt.pause(0.001)\n",
    "    #sns.scatterplot(x=ns, y=cor)\n",
    "    #plt.pause(0.001)\n",
    "df=pd.DataFrame({'n':ns, 'corm':corm, 'cort':cort, 'd':d, 'ct':ctd})"
   ]
  },
  {
   "cell_type": "code",
   "execution_count": 12,
   "id": "2c4a6e61",
   "metadata": {},
   "outputs": [
    {
     "data": {
      "text/plain": [
       "<Axes: xlabel='n', ylabel='corm'>"
      ]
     },
     "execution_count": 12,
     "metadata": {},
     "output_type": "execute_result"
    },
    {
     "data": {
      "image/png": "[encoded data removed]",
      "text/plain": [
       "<Figure size 640x480 with 1 Axes>"
      ]
     },
     "metadata": {},
     "output_type": "display_data"
    }
   ],
   "source": [
    "sns.scatterplot(data=df, x='n', y='corm')"
   ]
  },
  {
   "cell_type": "code",
   "execution_count": 13,
   "id": "812ba1b0",
   "metadata": {
    "scrolled": true
   },
   "outputs": [],
   "source": [
    "k=101\n",
    "\n",
    "corn=[]\n",
    "for n in np.linspace(0,5000,k):\n",
    "    dfn=df[df['n']>n]\n",
    "    corn.append(dfn['corm'].mean())"
   ]
  },
  {
   "cell_type": "code",
   "execution_count": 14,
   "id": "aa0d67d6",
   "metadata": {},
   "outputs": [
    {
     "data": {
      "text/plain": [
       "<Axes: >"
      ]
     },
     "execution_count": 14,
     "metadata": {},
     "output_type": "execute_result"
    },
    {
     "data": {
      "image/png": "[encoded data removed]",
      "text/plain": [
       "<Figure size 640x480 with 1 Axes>"
      ]
     },
     "metadata": {},
     "output_type": "display_data"
    }
   ],
   "source": [
    "sns.lineplot(x=np.linspace(0,5000,k), y=corn)"
   ]
  },
  {
   "cell_type": "code",
   "execution_count": 18,
   "id": "8d0be1ff",
   "metadata": {
    "scrolled": true
   },
   "outputs": [
    {
     "data": {
      "text/html": [
       "<div>\n",
       "<style scoped>\n",
       "    .dataframe tbody tr th:only-of-type {\n",
       "        vertical-align: middle;\n",
       "    }\n",
       "\n",
       "    .dataframe tbody tr th {\n",
       "        vertical-align: top;\n",
       "    }\n",
       "\n",
       "    .dataframe thead th {\n",
       "        text-align: right;\n",
       "    }\n",
       "</style>\n",
       "<table border=\"1\" class=\"dataframe\">\n",
       "  <thead>\n",
       "    <tr style=\"text-align: right;\">\n",
       "      <th></th>\n",
       "      <th>n</th>\n",
       "      <th>corm</th>\n",
       "      <th>cort</th>\n",
       "      <th>d</th>\n",
       "      <th>ct</th>\n",
       "    </tr>\n",
       "  </thead>\n",
       "  <tbody>\n",
       "    <tr>\n",
       "      <th>3</th>\n",
       "      <td>120</td>\n",
       "      <td>0.390577</td>\n",
       "      <td>-0.335509</td>\n",
       "      <td>E5.25</td>\n",
       "      <td>Visceral endoderm</td>\n",
       "    </tr>\n",
       "    <tr>\n",
       "      <th>4</th>\n",
       "      <td>116</td>\n",
       "      <td>0.437306</td>\n",
       "      <td>-0.033464</td>\n",
       "      <td>E5.25</td>\n",
       "      <td>Epiblast</td>\n",
       "    </tr>\n",
       "    <tr>\n",
       "      <th>8</th>\n",
       "      <td>314</td>\n",
       "      <td>0.491657</td>\n",
       "      <td>0.298566</td>\n",
       "      <td>E5.5</td>\n",
       "      <td>Epiblast</td>\n",
       "    </tr>\n",
       "    <tr>\n",
       "      <th>13</th>\n",
       "      <td>143</td>\n",
       "      <td>0.121708</td>\n",
       "      <td>0.055668</td>\n",
       "      <td>E6.25</td>\n",
       "      <td>Epiblast</td>\n",
       "    </tr>\n",
       "    <tr>\n",
       "      <th>17</th>\n",
       "      <td>835</td>\n",
       "      <td>0.124061</td>\n",
       "      <td>0.320361</td>\n",
       "      <td>E6.5</td>\n",
       "      <td>Primitive streak and adjacent ectoderm</td>\n",
       "    </tr>\n",
       "    <tr>\n",
       "      <th>...</th>\n",
       "      <td>...</td>\n",
       "      <td>...</td>\n",
       "      <td>...</td>\n",
       "      <td>...</td>\n",
       "      <td>...</td>\n",
       "    </tr>\n",
       "    <tr>\n",
       "      <th>121</th>\n",
       "      <td>1275</td>\n",
       "      <td>0.059435</td>\n",
       "      <td>0.034674</td>\n",
       "      <td>E8.25</td>\n",
       "      <td>Paraxial mesoderm A</td>\n",
       "    </tr>\n",
       "    <tr>\n",
       "      <th>123</th>\n",
       "      <td>839</td>\n",
       "      <td>0.106684</td>\n",
       "      <td>0.065668</td>\n",
       "      <td>E8.25</td>\n",
       "      <td>Paraxial mesoderm B</td>\n",
       "    </tr>\n",
       "    <tr>\n",
       "      <th>124</th>\n",
       "      <td>554</td>\n",
       "      <td>0.040674</td>\n",
       "      <td>0.071012</td>\n",
       "      <td>E8.25</td>\n",
       "      <td>Amniochorionic mesoderm A</td>\n",
       "    </tr>\n",
       "    <tr>\n",
       "      <th>125</th>\n",
       "      <td>153</td>\n",
       "      <td>-0.054427</td>\n",
       "      <td>-0.100294</td>\n",
       "      <td>E8.25</td>\n",
       "      <td>Rostral neuroectoderm</td>\n",
       "    </tr>\n",
       "    <tr>\n",
       "      <th>126</th>\n",
       "      <td>413</td>\n",
       "      <td>0.085976</td>\n",
       "      <td>0.109306</td>\n",
       "      <td>E8.25</td>\n",
       "      <td>Gut</td>\n",
       "    </tr>\n",
       "  </tbody>\n",
       "</table>\n",
       "<p>96 rows × 5 columns</p>\n",
       "</div>"
      ],
      "text/plain": [
       "        n      corm      cort      d                                      ct\n",
       "3     120  0.390577 -0.335509  E5.25                       Visceral endoderm\n",
       "4     116  0.437306 -0.033464  E5.25                                Epiblast\n",
       "8     314  0.491657  0.298566   E5.5                                Epiblast\n",
       "13    143  0.121708  0.055668  E6.25                                Epiblast\n",
       "17    835  0.124061  0.320361   E6.5  Primitive streak and adjacent ectoderm\n",
       "..    ...       ...       ...    ...                                     ...\n",
       "121  1275  0.059435  0.034674  E8.25                     Paraxial mesoderm A\n",
       "123   839  0.106684  0.065668  E8.25                     Paraxial mesoderm B\n",
       "124   554  0.040674  0.071012  E8.25               Amniochorionic mesoderm A\n",
       "125   153 -0.054427 -0.100294  E8.25                   Rostral neuroectoderm\n",
       "126   413  0.085976  0.109306  E8.25                                     Gut\n",
       "\n",
       "[96 rows x 5 columns]"
      ]
     },
     "execution_count": 18,
     "metadata": {},
     "output_type": "execute_result"
    }
   ],
   "source": [
    "dfn=df[df['n']>100]\n",
    "dfn"
   ]
  },
  {
   "cell_type": "code",
   "execution_count": 19,
   "id": "0548b4e6",
   "metadata": {},
   "outputs": [
    {
     "data": {
      "text/plain": [
       "0.06780871209075086"
      ]
     },
     "execution_count": 19,
     "metadata": {},
     "output_type": "execute_result"
    }
   ],
   "source": [
    "dfn['corm'].mean()"
   ]
  },
  {
   "cell_type": "code",
   "execution_count": 20,
   "id": "b22df172",
   "metadata": {},
   "outputs": [
    {
     "data": {
      "text/plain": [
       "-0.001273472618100531"
      ]
     },
     "execution_count": 20,
     "metadata": {},
     "output_type": "execute_result"
    }
   ],
   "source": [
    "dfn['cort'].mean()"
   ]
  },
  {
   "cell_type": "code",
   "execution_count": 23,
   "id": "f7134b8f",
   "metadata": {},
   "outputs": [
    {
     "data": {
      "text/plain": [
       "67"
      ]
     },
     "execution_count": 23,
     "metadata": {},
     "output_type": "execute_result"
    }
   ],
   "source": [
    "(dfn['corm']>0).sum()"
   ]
  },
  {
   "cell_type": "code",
   "execution_count": 24,
   "id": "2ec45391",
   "metadata": {},
   "outputs": [
    {
     "data": {
      "text/plain": [
       "96"
      ]
     },
     "execution_count": 24,
     "metadata": {},
     "output_type": "execute_result"
    }
   ],
   "source": [
    "len(dfn)"
   ]
  },
  {
   "cell_type": "code",
   "execution_count": null,
   "id": "07dcaa33",
   "metadata": {},
   "outputs": [],
   "source": []
  },
  {
   "cell_type": "code",
   "execution_count": null,
   "id": "ec3c8640",
   "metadata": {},
   "outputs": [],
   "source": []
  },
  {
   "cell_type": "code",
   "execution_count": 92,
   "id": "bf1e6391",
   "metadata": {},
   "outputs": [
    {
     "data": {
      "text/plain": [
       "50"
      ]
     },
     "execution_count": 92,
     "metadata": {},
     "output_type": "execute_result"
    }
   ],
   "source": [
    "(dfn['cor']>0).sum()"
   ]
  },
  {
   "cell_type": "code",
   "execution_count": 118,
   "id": "b755e9c2",
   "metadata": {},
   "outputs": [
    {
     "data": {
      "text/plain": [
       "<Axes: xlabel='corm', ylabel='Count'>"
      ]
     },
     "execution_count": 118,
     "metadata": {},
     "output_type": "execute_result"
    },
    {
     "data": {
      "image/png": "[encoded data removed]",
      "text/plain": [
       "<Figure size 640x480 with 1 Axes>"
      ]
     },
     "metadata": {},
     "output_type": "display_data"
    }
   ],
   "source": [
    "sns.histplot(data=df, x='corm', bins=np.linspace(-1,1,41))\n",
    "sns.histplot(data=df, x='cort', bins=np.linspace(-1,1,41))"
   ]
  },
  {
   "cell_type": "code",
   "execution_count": null,
   "id": "eff9a1d5",
   "metadata": {},
   "outputs": [],
   "source": []
  },
  {
   "cell_type": "code",
   "execution_count": null,
   "id": "70c2994f",
   "metadata": {},
   "outputs": [],
   "source": []
  },
  {
   "cell_type": "code",
   "execution_count": null,
   "id": "2d42d1fe",
   "metadata": {},
   "outputs": [],
   "source": []
  },
  {
   "cell_type": "code",
   "execution_count": null,
   "id": "31821e49",
   "metadata": {},
   "outputs": [],
   "source": []
  },
  {
   "cell_type": "code",
   "execution_count": 39,
   "id": "2bf6c877",
   "metadata": {},
   "outputs": [
    {
     "data": {
      "text/plain": [
       "[]"
      ]
     },
     "execution_count": 39,
     "metadata": {},
     "output_type": "execute_result"
    }
   ],
   "source": [
    "ns"
   ]
  },
  {
   "cell_type": "code",
   "execution_count": null,
   "id": "76992f46",
   "metadata": {},
   "outputs": [],
   "source": []
  },
  {
   "cell_type": "code",
   "execution_count": 35,
   "id": "ce83ecfa",
   "metadata": {},
   "outputs": [
    {
     "data": {
      "image/png": "[encoded data removed]",
      "text/plain": [
       "<Figure size 640x480 with 1 Axes>"
      ]
     },
     "metadata": {},
     "output_type": "display_data"
    },
    {
     "data": {
      "image/png": "[encoded data removed]",
      "text/plain": [
       "<Figure size 640x480 with 1 Axes>"
      ]
     },
     "metadata": {},
     "output_type": "display_data"
    }
   ],
   "source": [
    "sns.histplot(cor, bins=np.linspace(-1,1,51))\n",
    "plt.pause(0.001)\n",
    "sns.scatterplot(x=ns, y=cor)\n",
    "plt.pause(0.001)"
   ]
  },
  {
   "cell_type": "code",
   "execution_count": null,
   "id": "32faa5ca",
   "metadata": {},
   "outputs": [],
   "source": []
  },
  {
   "cell_type": "code",
   "execution_count": null,
   "id": "fb37ddd3",
   "metadata": {},
   "outputs": [],
   "source": []
  },
  {
   "cell_type": "code",
   "execution_count": null,
   "id": "8d1c223a",
   "metadata": {},
   "outputs": [],
   "source": []
  },
  {
   "cell_type": "code",
   "execution_count": null,
   "id": "72766e8c",
   "metadata": {},
   "outputs": [],
   "source": []
  },
  {
   "cell_type": "code",
   "execution_count": null,
   "id": "834d2127",
   "metadata": {},
   "outputs": [],
   "source": []
  },
  {
   "cell_type": "code",
   "execution_count": 31,
   "id": "c86ee412",
   "metadata": {},
   "outputs": [
    {
     "data": {
      "text/plain": [
       "0.05322615634428257"
      ]
     },
     "execution_count": 31,
     "metadata": {},
     "output_type": "execute_result"
    }
   ],
   "source": [
    "np.mean(cor)"
   ]
  },
  {
   "cell_type": "code",
   "execution_count": null,
   "id": "0138245b",
   "metadata": {},
   "outputs": [],
   "source": []
  },
  {
   "cell_type": "code",
   "execution_count": null,
   "id": "125eb712",
   "metadata": {},
   "outputs": [],
   "source": []
  },
  {
   "cell_type": "code",
   "execution_count": null,
   "id": "5e9291ba",
   "metadata": {},
   "outputs": [],
   "source": []
  },
  {
   "cell_type": "code",
   "execution_count": null,
   "id": "4b3a9dfe",
   "metadata": {},
   "outputs": [],
   "source": []
  },
  {
   "cell_type": "code",
   "execution_count": null,
   "id": "1a4fdde1",
   "metadata": {},
   "outputs": [],
   "source": []
  },
  {
   "cell_type": "code",
   "execution_count": null,
   "id": "e169d06a",
   "metadata": {},
   "outputs": [],
   "source": []
  },
  {
   "cell_type": "code",
   "execution_count": null,
   "id": "84e4a55e",
   "metadata": {},
   "outputs": [],
   "source": []
  },
  {
   "cell_type": "code",
   "execution_count": null,
   "id": "bd36fc3b",
   "metadata": {},
   "outputs": [],
   "source": []
  },
  {
   "cell_type": "code",
   "execution_count": null,
   "id": "aa9635d0",
   "metadata": {},
   "outputs": [],
   "source": []
  },
  {
   "cell_type": "code",
   "execution_count": 303,
   "id": "0fd7e9de",
   "metadata": {},
   "outputs": [],
   "source": [
    "As=A0[A0.obs['cell_type']=='Blood progenitors']"
   ]
  },
  {
   "cell_type": "code",
   "execution_count": 305,
   "id": "ca415677",
   "metadata": {},
   "outputs": [
    {
     "data": {
      "text/plain": [
       "(0.0, 4.0)"
      ]
     },
     "execution_count": 305,
     "metadata": {},
     "output_type": "execute_result"
    },
    {
     "data": {
      "image/png": "[encoded data removed]",
      "text/plain": [
       "<Figure size 640x480 with 1 Axes>"
      ]
     },
     "metadata": {},
     "output_type": "display_data"
    }
   ],
   "source": [
    "sns.scatterplot(data=As.obs, x='gr', y='gr_init', s=1)\n",
    "plt.xlim(0,4)"
   ]
  },
  {
   "cell_type": "code",
   "execution_count": null,
   "id": "40ea5b4b",
   "metadata": {},
   "outputs": [],
   "source": []
  },
  {
   "cell_type": "code",
   "execution_count": null,
   "id": "65a1638f",
   "metadata": {},
   "outputs": [],
   "source": []
  },
  {
   "cell_type": "code",
   "execution_count": null,
   "id": "29655271",
   "metadata": {},
   "outputs": [],
   "source": []
  },
  {
   "cell_type": "code",
   "execution_count": null,
   "id": "828a84ee",
   "metadata": {},
   "outputs": [],
   "source": []
  },
  {
   "cell_type": "code",
   "execution_count": null,
   "id": "1900020b",
   "metadata": {},
   "outputs": [],
   "source": []
  },
  {
   "cell_type": "code",
   "execution_count": 243,
   "id": "5cf02292",
   "metadata": {},
   "outputs": [
    {
     "data": {
      "text/plain": [
       "AnnData object with n_obs × n_vars = 24502 × 29452\n",
       "    obs: 'cellID', 'day', 'cell_state', 'cell_type', 'group', 'sample', 'origin', 'proliferation', 'apoptosis'\n",
       "    var: 'features', 'gene_names'\n",
       "    obsm: 'X_pcaS', 'X_umap3'"
      ]
     },
     "execution_count": 243,
     "metadata": {},
     "output_type": "execute_result"
    }
   ],
   "source": [
    "adata"
   ]
  },
  {
   "cell_type": "code",
   "execution_count": 260,
   "id": "25a773ab",
   "metadata": {},
   "outputs": [],
   "source": [
    "scanpy.pp.scale(A0)"
   ]
  },
  {
   "cell_type": "code",
   "execution_count": 261,
   "id": "79a56942",
   "metadata": {},
   "outputs": [
    {
     "name": "stdout",
     "output_type": "stream",
     "text": [
      "WARNING: genes are not in var_names and ignored: ['Hn1', 'Mlf1ip', 'Fam64a']\n"
     ]
    }
   ],
   "source": [
    "cc_genes_mouse=list(pd.read_csv(f'{Path}/utils/mouse_proliferation.txt', header=None)[0])\n",
    "scanpy.tl.score_genes(A0, cc_genes_mouse)"
   ]
  },
  {
   "cell_type": "code",
   "execution_count": null,
   "id": "dd609c80",
   "metadata": {},
   "outputs": [],
   "source": []
  },
  {
   "cell_type": "code",
   "execution_count": 262,
   "id": "7e59e77f",
   "metadata": {},
   "outputs": [
    {
     "data": {
      "text/plain": [
       "(0.0, 4.0)"
      ]
     },
     "execution_count": 262,
     "metadata": {},
     "output_type": "execute_result"
    },
    {
     "data": {
      "image/png": "[encoded data removed]",
      "text/plain": [
       "<Figure size 640x480 with 1 Axes>"
      ]
     },
     "metadata": {},
     "output_type": "display_data"
    }
   ],
   "source": [
    "sns.scatterplot(data=A0.obs, x='gr_init', y='score', s=1)\n",
    "plt.xlim(0,4)"
   ]
  },
  {
   "cell_type": "code",
   "execution_count": 263,
   "id": "bcab12a6",
   "metadata": {},
   "outputs": [
    {
     "data": {
      "text/plain": [
       "(0.0, 4.0)"
      ]
     },
     "execution_count": 263,
     "metadata": {},
     "output_type": "execute_result"
    },
    {
     "data": {
      "image/png": "[encoded data removed]",
      "text/plain": [
       "<Figure size 640x480 with 1 Axes>"
      ]
     },
     "metadata": {},
     "output_type": "display_data"
    }
   ],
   "source": [
    "sns.scatterplot(data=A0.obs, x='gr', y='score', s=1)\n",
    "plt.xlim(0,4)"
   ]
  },
  {
   "cell_type": "code",
   "execution_count": 264,
   "id": "07745928",
   "metadata": {},
   "outputs": [
    {
     "data": {
      "text/plain": [
       "(0.11088526113803816, 8.131657700462687e-29)"
      ]
     },
     "execution_count": 264,
     "metadata": {},
     "output_type": "execute_result"
    }
   ],
   "source": [
    "scipy.stats.pearsonr(x=A0.obs['gr'], y=A0.obs['score'])"
   ]
  },
  {
   "cell_type": "code",
   "execution_count": null,
   "id": "fef082fc",
   "metadata": {},
   "outputs": [],
   "source": []
  },
  {
   "cell_type": "code",
   "execution_count": null,
   "id": "34280045",
   "metadata": {},
   "outputs": [],
   "source": []
  },
  {
   "cell_type": "code",
   "execution_count": null,
   "id": "7948948a",
   "metadata": {},
   "outputs": [],
   "source": []
  },
  {
   "cell_type": "code",
   "execution_count": null,
   "id": "4fa97825",
   "metadata": {},
   "outputs": [],
   "source": []
  },
  {
   "cell_type": "code",
   "execution_count": null,
   "id": "3db7bea2",
   "metadata": {},
   "outputs": [],
   "source": []
  },
  {
   "cell_type": "code",
   "execution_count": 6,
   "id": "6db6f77b",
   "metadata": {},
   "outputs": [
    {
     "name": "stdout",
     "output_type": "stream",
     "text": [
      "E8.0 --> E8.25\n",
      "------------------------\n",
      "WARNING: genes are not in var_names and ignored: ['Fam64a', 'Hn1', 'Mlf1ip']\n",
      "WARNING: genes are not in var_names and ignored: ['Adck3', 'Gnb2l1', 'H2afj', 'Hist1h1c', 'Hist3h2a', 'Ikbkap', 'Lrmp']\n"
     ]
    }
   ],
   "source": [
    "corm=[]\n",
    "cort=[]\n",
    "ns=[]\n",
    "d=[]\n",
    "ctd=[]\n",
    "\n",
    "\n",
    "i=11\n",
    "ts0=ts[i]\n",
    "ts1=ts[i+1]\n",
    "print(f'{ts0} --> {ts1}')\n",
    "print('------------------------')\n",
    "\n",
    "tp=tp.load(f'{Path}/moscot_maps/{ts0}_{ts1}_no_gr2_TemporalProblem.pkl')\n",
    "adata=tp.adata\n",
    "time_tuple=list(tp.solutions.keys())[0]\n",
    "gr=tp[time_tuple].solution.a\n",
    "gr=gr/gr.mean()*Cell_number_dict[ts1]/Cell_number_dict[ts0]\n",
    "\n",
    "cell_dying=np.sum((1-gr[gr<1]))\n",
    "apoptosis_rate=float(cell_dying/len(gr))\n",
    "apoptosis_rate\n",
    "\n",
    "tp=TemporalProblem(adata)\n",
    "tp.score_genes_for_marginals(gene_set_proliferation='mouse',  gene_set_apoptosis='mouse')\n",
    "tp = tp.prepare('day', joint_attr=f'X_pcaS')\n",
    "\n",
    "A0=adata[adata.obs['day']==time_tuple[0]].copy()\n",
    "#A0.obs['gr']=z_transf(gr)\n",
    "#A0.obs['gr_init']=z_transf(list(tp.prior_growth_rates['prior_growth_rates'])[:len(A0)])\n",
    "\n",
    "#A0.obs['gr_t']=np.load(f'{Path}/TOME_transport_maps/{ts0}_growth_rates.npy')\n",
    "A0.obs['gr']=gr\n",
    "A0.obs['gr_init']=list(tp.prior_growth_rates['prior_growth_rates'])[:len(A0)]\n",
    "\n",
    "grT=np.load(f'{Path}/TOME_transport_maps/{ts0}_growth_rates2.npy')\n",
    "A0.obs['grT']=grT\n",
    "\n",
    "\n",
    "\n",
    "cts=list(set(A0.obs['cell_type']))\n",
    "\n",
    "for ct in cts:\n",
    "    As=A0[A0.obs['cell_type']==ct]\n",
    "    #sns.scatterplot(data=As.obs, x='gr', y='gr_init', s=5)\n",
    "    #plt.xlim(0,4)\n",
    "    #plt.pause(0.01)\n",
    "    #if len(As)>400:\n",
    "    ns.append(len(As))\n",
    "    corm.append(scipy.stats.pearsonr(x=As.obs['gr'], y=As.obs['gr_init'])[0])\n",
    "    cort.append(scipy.stats.pearsonr(x=As.obs['grT'], y=As.obs['gr_init'])[0])\n",
    "    d.append(ts0)\n",
    "    ctd.append(ct)\n",
    "#sns.histplot(cor, bins=np.linspace(-1,1,51))\n",
    "#plt.pause(0.001)\n",
    "#sns.scatterplot(x=ns, y=cor)\n",
    "#plt.pause(0.001)\n",
    "df=pd.DataFrame({'n':ns, 'corm':corm, 'cort':cort, 'd':d, 'ct':ctd})"
   ]
  },
  {
   "cell_type": "code",
   "execution_count": null,
   "id": "5419d640",
   "metadata": {},
   "outputs": [],
   "source": []
  },
  {
   "cell_type": "code",
   "execution_count": null,
   "id": "2b209f6f",
   "metadata": {},
   "outputs": [],
   "source": []
  },
  {
   "cell_type": "code",
   "execution_count": null,
   "id": "47a69057",
   "metadata": {},
   "outputs": [],
   "source": []
  }
 ],
 "metadata": {
  "kernelspec": {
   "display_name": "mc",
   "language": "python",
   "name": "mc"
  },
  "language_info": {
   "codemirror_mode": {
    "name": "ipython",
    "version": 3
   },
   "file_extension": ".py",
   "mimetype": "text/x-python",
   "name": "python",
   "nbconvert_exporter": "python",
   "pygments_lexer": "ipython3",
   "version": "3.10.9"
  }
 },
 "nbformat": 4,
 "nbformat_minor": 5
}
