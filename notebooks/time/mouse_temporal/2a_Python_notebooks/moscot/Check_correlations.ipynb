{
 "cells": [
  {
   "cell_type": "code",
   "execution_count": 1,
   "id": "eea495f6",
   "metadata": {},
   "outputs": [
    {
     "name": "stderr",
     "output_type": "stream",
     "text": [
      "/home/mgander/miniconda3/envs/mc/lib/python3.10/site-packages/flax/struct.py:132: FutureWarning: jax.tree_util.register_keypaths is deprecated, and will be removed in a future release. Please use `register_pytree_with_keys()` instead.\n",
      "  jax.tree_util.register_keypaths(data_clz, keypaths)\n",
      "/home/mgander/miniconda3/envs/mc/lib/python3.10/site-packages/flax/struct.py:132: FutureWarning: jax.tree_util.register_keypaths is deprecated, and will be removed in a future release. Please use `register_pytree_with_keys()` instead.\n",
      "  jax.tree_util.register_keypaths(data_clz, keypaths)\n",
      "No GPU/TPU found, falling back to CPU. (Set TF_CPP_MIN_LOG_LEVEL=0 and rerun for more info.)\n"
     ]
    }
   ],
   "source": [
    "import numpy as np\n",
    "import anndata\n",
    "import pandas as pd\n",
    "import scanpy as sc\n",
    "import scipy\n",
    "import seaborn as sns\n",
    "import matplotlib.pyplot as plt\n",
    "import scanpy\n",
    "\n",
    "\n",
    "from moscot.problems.time._lineage import TemporalProblem"
   ]
  },
  {
   "cell_type": "code",
   "execution_count": 2,
   "id": "e0b23fce",
   "metadata": {},
   "outputs": [],
   "source": [
    "Path=\"/home/mgander/moscot-framework_reproducibility/data/mouse_temporal\"\n",
    "ts=['E3.5', 'E4.5', 'E5.25', 'E5.5', 'E6.25', 'E6.5', 'E6.75', 'E7.0', 'E7.25', 'E7.5', 'E7.75', 'E8.0', 'E8.25', 'E8.5a', 'E8.5b', 'E9.5', 'E10.5', 'E11.5', 'E12.5', 'E13.5']"
   ]
  },
  {
   "cell_type": "markdown",
   "id": "00bd05b6",
   "metadata": {},
   "source": [
    "# Moscot maps to growth rates"
   ]
  },
  {
   "cell_type": "code",
   "execution_count": 3,
   "id": "2e4b5950",
   "metadata": {},
   "outputs": [],
   "source": [
    "cells=[32, 80, 100, 120, 400, 660, 1720, 4500, 8200, 15000, 30000, 60000, 73000, 90000, 90000, 200000, 1100000, 2600000, 6000000, 13000000]\n",
    "Cell_number_dict={}\n",
    "for i in range(20):\n",
    "    Cell_number_dict[ts[i]]=cells[i]"
   ]
  },
  {
   "cell_type": "code",
   "execution_count": 4,
   "id": "95df4374",
   "metadata": {},
   "outputs": [
    {
     "name": "stdout",
     "output_type": "stream",
     "text": [
      "WARNING: Your filename has more than two extensions: ['.5_E4', '.5', '.h5ad'].\n",
      "Only considering the two last: ['.5', '.h5ad'].\n",
      "WARNING: Your filename has more than two extensions: ['.5_E4', '.5', '.h5ad'].\n",
      "Only considering the two last: ['.5', '.h5ad'].\n"
     ]
    }
   ],
   "source": [
    "# Doesn't matter which adata you use to create a tp instance, the result is always the same. I just need one\n",
    "# to instantiate a tp-problem\n",
    "adata=sc.read(f\"{Path}/anndatas/Comb_anndatas/adata_E3.5_E4.5.h5ad\")\n",
    "tp=TemporalProblem(adata)"
   ]
  },
  {
   "cell_type": "code",
   "execution_count": 66,
   "id": "48b75c2f",
   "metadata": {
    "scrolled": true
   },
   "outputs": [
    {
     "name": "stdout",
     "output_type": "stream",
     "text": [
      "E3.5 --> E4.5\n",
      "------------------------\n",
      "WARNING: genes are not in var_names and ignored: ['Fam64a', 'Hn1', 'Mlf1ip']\n",
      "WARNING: genes are not in var_names and ignored: ['Adck3', 'Gnb2l1', 'H2afj', 'Hist1h1c', 'Hist3h2a', 'Ikbkap', 'Lrmp']\n",
      "E4.5 --> E5.25\n",
      "------------------------\n",
      "WARNING: genes are not in var_names and ignored: ['Fam64a', 'Hn1', 'Mlf1ip']\n",
      "WARNING: genes are not in var_names and ignored: ['Adck3', 'Gnb2l1', 'H2afj', 'Hist1h1c', 'Hist3h2a', 'Ikbkap', 'Lrmp']\n",
      "E5.25 --> E5.5\n",
      "------------------------\n",
      "WARNING: genes are not in var_names and ignored: ['Fam64a', 'Hn1', 'Mlf1ip']\n",
      "WARNING: genes are not in var_names and ignored: ['Adck3', 'Gnb2l1', 'H2afj', 'Hist1h1c', 'Hist3h2a', 'Ikbkap', 'Lrmp']\n",
      "E5.5 --> E6.25\n",
      "------------------------\n",
      "WARNING: genes are not in var_names and ignored: ['Fam64a', 'Hn1', 'Mlf1ip']\n",
      "WARNING: genes are not in var_names and ignored: ['Adck3', 'Gnb2l1', 'H2afj', 'Hist1h1c', 'Hist3h2a', 'Ikbkap', 'Lrmp']\n",
      "E6.25 --> E6.5\n",
      "------------------------\n",
      "WARNING: genes are not in var_names and ignored: ['Fam64a', 'Hn1', 'Mlf1ip']\n",
      "WARNING: genes are not in var_names and ignored: ['Adck3', 'Gnb2l1', 'H2afj', 'Hist1h1c', 'Hist3h2a', 'Ikbkap', 'Lrmp']\n",
      "E6.5 --> E6.75\n",
      "------------------------\n",
      "WARNING: genes are not in var_names and ignored: ['Fam64a', 'Hn1', 'Mlf1ip']\n",
      "WARNING: genes are not in var_names and ignored: ['Adck3', 'Gnb2l1', 'H2afj', 'Hist1h1c', 'Hist3h2a', 'Ikbkap', 'Lrmp']\n",
      "E6.75 --> E7.0\n",
      "------------------------\n",
      "WARNING: genes are not in var_names and ignored: ['Fam64a', 'Hn1', 'Mlf1ip']\n",
      "WARNING: genes are not in var_names and ignored: ['Adck3', 'Gnb2l1', 'H2afj', 'Hist1h1c', 'Hist3h2a', 'Ikbkap', 'Lrmp']\n",
      "E7.0 --> E7.25\n",
      "------------------------\n",
      "WARNING: genes are not in var_names and ignored: ['Fam64a', 'Hn1', 'Mlf1ip']\n",
      "WARNING: genes are not in var_names and ignored: ['Adck3', 'Gnb2l1', 'H2afj', 'Hist1h1c', 'Hist3h2a', 'Ikbkap', 'Lrmp']\n",
      "E7.25 --> E7.5\n",
      "------------------------\n",
      "WARNING: genes are not in var_names and ignored: ['Fam64a', 'Hn1', 'Mlf1ip']\n",
      "WARNING: genes are not in var_names and ignored: ['Adck3', 'Gnb2l1', 'H2afj', 'Hist1h1c', 'Hist3h2a', 'Ikbkap', 'Lrmp']\n",
      "E7.5 --> E7.75\n",
      "------------------------\n",
      "WARNING: genes are not in var_names and ignored: ['Fam64a', 'Hn1', 'Mlf1ip']\n",
      "WARNING: genes are not in var_names and ignored: ['Adck3', 'Gnb2l1', 'H2afj', 'Hist1h1c', 'Hist3h2a', 'Ikbkap', 'Lrmp']\n",
      "E7.75 --> E8.0\n",
      "------------------------\n",
      "WARNING: genes are not in var_names and ignored: ['Fam64a', 'Hn1', 'Mlf1ip']\n",
      "WARNING: genes are not in var_names and ignored: ['Adck3', 'Gnb2l1', 'H2afj', 'Hist1h1c', 'Hist3h2a', 'Ikbkap', 'Lrmp']\n",
      "E8.0 --> E8.25\n",
      "------------------------\n",
      "WARNING: genes are not in var_names and ignored: ['Fam64a', 'Hn1', 'Mlf1ip']\n",
      "WARNING: genes are not in var_names and ignored: ['Adck3', 'Gnb2l1', 'H2afj', 'Hist1h1c', 'Hist3h2a', 'Ikbkap', 'Lrmp']\n",
      "E8.25 --> E8.5a\n",
      "------------------------\n",
      "WARNING: genes are not in var_names and ignored: ['Fam64a', 'Hn1', 'Mlf1ip']\n",
      "WARNING: genes are not in var_names and ignored: ['Adck3', 'Gnb2l1', 'H2afj', 'Hist1h1c', 'Hist3h2a', 'Ikbkap', 'Lrmp']\n"
     ]
    }
   ],
   "source": [
    "cor=[]\n",
    "ns=[]\n",
    "d=[]\n",
    "ctd=[]\n",
    "for i in range(13):\n",
    "    ts0=ts[i]\n",
    "    ts1=ts[i+1]\n",
    "    print(f'{ts0} --> {ts1}')\n",
    "    print('------------------------')\n",
    "\n",
    "    tp=tp.load(f'{Path}/moscot_maps/{ts0}_{ts1}_no_gr_TemporalProblem.pkl')\n",
    "    adata=tp.adata\n",
    "    time_tuple=list(tp.solutions.keys())[0]\n",
    "    gr=tp[time_tuple].solution.a\n",
    "    gr=gr/gr.mean()*Cell_number_dict[ts1]/Cell_number_dict[ts0]\n",
    "\n",
    "    cell_dying=np.sum((1-gr[gr<1]))\n",
    "    apoptosis_rate=float(cell_dying/len(gr))\n",
    "    apoptosis_rate\n",
    "\n",
    "    tp=TemporalProblem(adata)\n",
    "    tp.score_genes_for_marginals(gene_set_proliferation='mouse',  gene_set_apoptosis='mouse')\n",
    "    tp = tp.prepare('day', joint_attr=f'X_pcaS')\n",
    "\n",
    "    A0=adata[adata.obs['day']==time_tuple[0]].copy()\n",
    "    #A0.obs['gr']=z_transf(gr)\n",
    "    #A0.obs['gr_init']=z_transf(list(tp.prior_growth_rates['prior_growth_rates'])[:len(A0)])\n",
    "\n",
    "    #A0.obs['gr_t']=np.load(f'{Path}/TOME_transport_maps/{ts0}_growth_rates.npy')\n",
    "    A0.obs['gr']=gr\n",
    "    A0.obs['gr_init']=list(tp.prior_growth_rates['prior_growth_rates'])[:len(A0)]\n",
    "\n",
    "\n",
    "    cts=list(set(A0.obs['cell_type']))\n",
    "\n",
    "    for ct in cts:\n",
    "        As=A0[A0.obs['cell_type']==ct]\n",
    "        #sns.scatterplot(data=As.obs, x='gr', y='gr_init', s=5)\n",
    "        #plt.xlim(0,4)\n",
    "        #plt.pause(0.01)\n",
    "        #if len(As)>400:\n",
    "        ns.append(len(As))\n",
    "        cor.append(scipy.stats.pearsonr(x=As.obs['gr'], y=As.obs['gr_init'])[0])\n",
    "        d.append(ts0)\n",
    "        ctd.append(ct)\n",
    "    #sns.histplot(cor, bins=np.linspace(-1,1,51))\n",
    "    #plt.pause(0.001)\n",
    "    #sns.scatterplot(x=ns, y=cor)\n",
    "    #plt.pause(0.001)"
   ]
  },
  {
   "cell_type": "code",
   "execution_count": 67,
   "id": "db5ae73d",
   "metadata": {},
   "outputs": [],
   "source": [
    "df=pd.DataFrame({'n':ns, 'cor':cor, 'd':d, 'ct':ctd})"
   ]
  },
  {
   "cell_type": "code",
   "execution_count": 68,
   "id": "9374801c",
   "metadata": {},
   "outputs": [
    {
     "data": {
      "text/plain": [
       "<Axes: xlabel='n', ylabel='cor'>"
      ]
     },
     "execution_count": 68,
     "metadata": {},
     "output_type": "execute_result"
    },
    {
     "data": {
      "image/png": "[encoded data removed]",
      "text/plain": [
       "<Figure size 640x480 with 1 Axes>"
      ]
     },
     "metadata": {},
     "output_type": "display_data"
    }
   ],
   "source": [
    "sns.scatterplot(data=df, x='n', y='cor')"
   ]
  },
  {
   "cell_type": "code",
   "execution_count": 69,
   "id": "cce3c7d5",
   "metadata": {},
   "outputs": [
    {
     "data": {
      "text/html": [
       "<div>\n",
       "<style scoped>\n",
       "    .dataframe tbody tr th:only-of-type {\n",
       "        vertical-align: middle;\n",
       "    }\n",
       "\n",
       "    .dataframe tbody tr th {\n",
       "        vertical-align: top;\n",
       "    }\n",
       "\n",
       "    .dataframe thead th {\n",
       "        text-align: right;\n",
       "    }\n",
       "</style>\n",
       "<table border=\"1\" class=\"dataframe\">\n",
       "  <thead>\n",
       "    <tr style=\"text-align: right;\">\n",
       "      <th></th>\n",
       "      <th>n</th>\n",
       "      <th>cor</th>\n",
       "      <th>d</th>\n",
       "      <th>ct</th>\n",
       "    </tr>\n",
       "  </thead>\n",
       "  <tbody>\n",
       "    <tr>\n",
       "      <th>122</th>\n",
       "      <td>25</td>\n",
       "      <td>-0.705983</td>\n",
       "      <td>E8.25</td>\n",
       "      <td>Definitive endoderm</td>\n",
       "    </tr>\n",
       "    <tr>\n",
       "      <th>14</th>\n",
       "      <td>20</td>\n",
       "      <td>-0.549621</td>\n",
       "      <td>E6.25</td>\n",
       "      <td>Embryonic visceral endoderm</td>\n",
       "    </tr>\n",
       "    <tr>\n",
       "      <th>37</th>\n",
       "      <td>62</td>\n",
       "      <td>-0.352062</td>\n",
       "      <td>E7.25</td>\n",
       "      <td>Notochord</td>\n",
       "    </tr>\n",
       "    <tr>\n",
       "      <th>98</th>\n",
       "      <td>95</td>\n",
       "      <td>-0.302133</td>\n",
       "      <td>E8.0</td>\n",
       "      <td>First heart field</td>\n",
       "    </tr>\n",
       "    <tr>\n",
       "      <th>56</th>\n",
       "      <td>69</td>\n",
       "      <td>-0.290714</td>\n",
       "      <td>E7.5</td>\n",
       "      <td>Notochord</td>\n",
       "    </tr>\n",
       "    <tr>\n",
       "      <th>...</th>\n",
       "      <td>...</td>\n",
       "      <td>...</td>\n",
       "      <td>...</td>\n",
       "      <td>...</td>\n",
       "    </tr>\n",
       "    <tr>\n",
       "      <th>33</th>\n",
       "      <td>3567</td>\n",
       "      <td>0.382471</td>\n",
       "      <td>E7.25</td>\n",
       "      <td>Epiblast</td>\n",
       "    </tr>\n",
       "    <tr>\n",
       "      <th>88</th>\n",
       "      <td>102</td>\n",
       "      <td>0.434832</td>\n",
       "      <td>E8.0</td>\n",
       "      <td>Somatic mesoderm</td>\n",
       "    </tr>\n",
       "    <tr>\n",
       "      <th>13</th>\n",
       "      <td>143</td>\n",
       "      <td>0.486039</td>\n",
       "      <td>E6.25</td>\n",
       "      <td>Epiblast</td>\n",
       "    </tr>\n",
       "    <tr>\n",
       "      <th>106</th>\n",
       "      <td>24</td>\n",
       "      <td>0.492642</td>\n",
       "      <td>E8.25</td>\n",
       "      <td>Primordial germ cells</td>\n",
       "    </tr>\n",
       "    <tr>\n",
       "      <th>5</th>\n",
       "      <td>27</td>\n",
       "      <td>0.633107</td>\n",
       "      <td>E5.25</td>\n",
       "      <td>Parietal endoderm</td>\n",
       "    </tr>\n",
       "  </tbody>\n",
       "</table>\n",
       "<p>127 rows × 4 columns</p>\n",
       "</div>"
      ],
      "text/plain": [
       "        n       cor      d                           ct\n",
       "122    25 -0.705983  E8.25          Definitive endoderm\n",
       "14     20 -0.549621  E6.25  Embryonic visceral endoderm\n",
       "37     62 -0.352062  E7.25                    Notochord\n",
       "98     95 -0.302133   E8.0            First heart field\n",
       "56     69 -0.290714   E7.5                    Notochord\n",
       "..    ...       ...    ...                          ...\n",
       "33   3567  0.382471  E7.25                     Epiblast\n",
       "88    102  0.434832   E8.0             Somatic mesoderm\n",
       "13    143  0.486039  E6.25                     Epiblast\n",
       "106    24  0.492642  E8.25        Primordial germ cells\n",
       "5      27  0.633107  E5.25            Parietal endoderm\n",
       "\n",
       "[127 rows x 4 columns]"
      ]
     },
     "execution_count": 69,
     "metadata": {},
     "output_type": "execute_result"
    }
   ],
   "source": [
    "df.sort_values('cor')"
   ]
  },
  {
   "cell_type": "code",
   "execution_count": null,
   "id": "ac058aed",
   "metadata": {},
   "outputs": [],
   "source": []
  },
  {
   "cell_type": "code",
   "execution_count": 70,
   "id": "1869c734",
   "metadata": {},
   "outputs": [],
   "source": [
    "k=101\n",
    "\n",
    "corn=[]\n",
    "for n in np.linspace(0,5000,k):\n",
    "    dfn=df[df['n']>n]\n",
    "    corn.append(dfn['cor'].mean())"
   ]
  },
  {
   "cell_type": "code",
   "execution_count": 71,
   "id": "4a229827",
   "metadata": {},
   "outputs": [
    {
     "data": {
      "text/plain": [
       "<Axes: >"
      ]
     },
     "execution_count": 71,
     "metadata": {},
     "output_type": "execute_result"
    },
    {
     "data": {
      "image/png": "[encoded data removed]",
      "text/plain": [
       "<Figure size 640x480 with 1 Axes>"
      ]
     },
     "metadata": {},
     "output_type": "display_data"
    }
   ],
   "source": [
    "sns.lineplot(x=np.linspace(0,5000,k), y=corn)"
   ]
  },
  {
   "cell_type": "code",
   "execution_count": 83,
   "id": "021a3ca2",
   "metadata": {},
   "outputs": [],
   "source": [
    "dfn=df[df['n']>200]"
   ]
  },
  {
   "cell_type": "code",
   "execution_count": 84,
   "id": "88570912",
   "metadata": {},
   "outputs": [
    {
     "data": {
      "text/plain": [
       "0.050977227172610794"
      ]
     },
     "execution_count": 84,
     "metadata": {},
     "output_type": "execute_result"
    }
   ],
   "source": [
    "dfn['cor'].mean()"
   ]
  },
  {
   "cell_type": "code",
   "execution_count": null,
   "id": "c9980ef0",
   "metadata": {},
   "outputs": [],
   "source": []
  },
  {
   "cell_type": "code",
   "execution_count": null,
   "id": "849531d8",
   "metadata": {},
   "outputs": [],
   "source": []
  },
  {
   "cell_type": "code",
   "execution_count": 39,
   "id": "1fc96e12",
   "metadata": {},
   "outputs": [
    {
     "data": {
      "text/plain": [
       "[]"
      ]
     },
     "execution_count": 39,
     "metadata": {},
     "output_type": "execute_result"
    }
   ],
   "source": [
    "ns"
   ]
  },
  {
   "cell_type": "code",
   "execution_count": null,
   "id": "03ef24a1",
   "metadata": {},
   "outputs": [],
   "source": []
  },
  {
   "cell_type": "code",
   "execution_count": 35,
   "id": "dc602f90",
   "metadata": {},
   "outputs": [
    {
     "data": {
      "image/png": "[encoded data removed]",
      "text/plain": [
       "<Figure size 640x480 with 1 Axes>"
      ]
     },
     "metadata": {},
     "output_type": "display_data"
    },
    {
     "data": {
      "image/png": "[encoded data removed]",
      "text/plain": [
       "<Figure size 640x480 with 1 Axes>"
      ]
     },
     "metadata": {},
     "output_type": "display_data"
    }
   ],
   "source": [
    "sns.histplot(cor, bins=np.linspace(-1,1,51))\n",
    "plt.pause(0.001)\n",
    "sns.scatterplot(x=ns, y=cor)\n",
    "plt.pause(0.001)"
   ]
  },
  {
   "cell_type": "code",
   "execution_count": null,
   "id": "fffb9f0c",
   "metadata": {},
   "outputs": [],
   "source": []
  },
  {
   "cell_type": "code",
   "execution_count": null,
   "id": "2b1bd0f7",
   "metadata": {},
   "outputs": [],
   "source": []
  },
  {
   "cell_type": "code",
   "execution_count": null,
   "id": "2b7a8e08",
   "metadata": {},
   "outputs": [],
   "source": []
  },
  {
   "cell_type": "code",
   "execution_count": null,
   "id": "f54ab186",
   "metadata": {},
   "outputs": [],
   "source": []
  },
  {
   "cell_type": "code",
   "execution_count": null,
   "id": "eccc0780",
   "metadata": {},
   "outputs": [],
   "source": []
  },
  {
   "cell_type": "code",
   "execution_count": 31,
   "id": "c86ee412",
   "metadata": {},
   "outputs": [
    {
     "data": {
      "text/plain": [
       "0.05322615634428257"
      ]
     },
     "execution_count": 31,
     "metadata": {},
     "output_type": "execute_result"
    }
   ],
   "source": [
    "np.mean(cor)"
   ]
  },
  {
   "cell_type": "code",
   "execution_count": null,
   "id": "0138245b",
   "metadata": {},
   "outputs": [],
   "source": []
  },
  {
   "cell_type": "code",
   "execution_count": null,
   "id": "125eb712",
   "metadata": {},
   "outputs": [],
   "source": []
  },
  {
   "cell_type": "code",
   "execution_count": null,
   "id": "5e9291ba",
   "metadata": {},
   "outputs": [],
   "source": []
  },
  {
   "cell_type": "code",
   "execution_count": null,
   "id": "4b3a9dfe",
   "metadata": {},
   "outputs": [],
   "source": []
  },
  {
   "cell_type": "code",
   "execution_count": null,
   "id": "1a4fdde1",
   "metadata": {},
   "outputs": [],
   "source": []
  },
  {
   "cell_type": "code",
   "execution_count": null,
   "id": "e169d06a",
   "metadata": {},
   "outputs": [],
   "source": []
  },
  {
   "cell_type": "code",
   "execution_count": null,
   "id": "84e4a55e",
   "metadata": {},
   "outputs": [],
   "source": []
  },
  {
   "cell_type": "code",
   "execution_count": null,
   "id": "bd36fc3b",
   "metadata": {},
   "outputs": [],
   "source": []
  },
  {
   "cell_type": "code",
   "execution_count": null,
   "id": "aa9635d0",
   "metadata": {},
   "outputs": [],
   "source": []
  },
  {
   "cell_type": "code",
   "execution_count": 303,
   "id": "0fd7e9de",
   "metadata": {},
   "outputs": [],
   "source": [
    "As=A0[A0.obs['cell_type']=='Blood progenitors']"
   ]
  },
  {
   "cell_type": "code",
   "execution_count": 305,
   "id": "ca415677",
   "metadata": {},
   "outputs": [
    {
     "data": {
      "text/plain": [
       "(0.0, 4.0)"
      ]
     },
     "execution_count": 305,
     "metadata": {},
     "output_type": "execute_result"
    },
    {
     "data": {
      "image/png": "[encoded data removed]",
      "text/plain": [
       "<Figure size 640x480 with 1 Axes>"
      ]
     },
     "metadata": {},
     "output_type": "display_data"
    }
   ],
   "source": [
    "sns.scatterplot(data=As.obs, x='gr', y='gr_init', s=1)\n",
    "plt.xlim(0,4)"
   ]
  },
  {
   "cell_type": "code",
   "execution_count": null,
   "id": "40ea5b4b",
   "metadata": {},
   "outputs": [],
   "source": []
  },
  {
   "cell_type": "code",
   "execution_count": null,
   "id": "65a1638f",
   "metadata": {},
   "outputs": [],
   "source": []
  },
  {
   "cell_type": "code",
   "execution_count": null,
   "id": "29655271",
   "metadata": {},
   "outputs": [],
   "source": []
  },
  {
   "cell_type": "code",
   "execution_count": null,
   "id": "828a84ee",
   "metadata": {},
   "outputs": [],
   "source": []
  },
  {
   "cell_type": "code",
   "execution_count": null,
   "id": "1900020b",
   "metadata": {},
   "outputs": [],
   "source": []
  },
  {
   "cell_type": "code",
   "execution_count": 243,
   "id": "5cf02292",
   "metadata": {},
   "outputs": [
    {
     "data": {
      "text/plain": [
       "AnnData object with n_obs × n_vars = 24502 × 29452\n",
       "    obs: 'cellID', 'day', 'cell_state', 'cell_type', 'group', 'sample', 'origin', 'proliferation', 'apoptosis'\n",
       "    var: 'features', 'gene_names'\n",
       "    obsm: 'X_pcaS', 'X_umap3'"
      ]
     },
     "execution_count": 243,
     "metadata": {},
     "output_type": "execute_result"
    }
   ],
   "source": [
    "adata"
   ]
  },
  {
   "cell_type": "code",
   "execution_count": 260,
   "id": "25a773ab",
   "metadata": {},
   "outputs": [],
   "source": [
    "scanpy.pp.scale(A0)"
   ]
  },
  {
   "cell_type": "code",
   "execution_count": 261,
   "id": "79a56942",
   "metadata": {},
   "outputs": [
    {
     "name": "stdout",
     "output_type": "stream",
     "text": [
      "WARNING: genes are not in var_names and ignored: ['Hn1', 'Mlf1ip', 'Fam64a']\n"
     ]
    }
   ],
   "source": [
    "cc_genes_mouse=list(pd.read_csv(f'{Path}/utils/mouse_proliferation.txt', header=None)[0])\n",
    "scanpy.tl.score_genes(A0, cc_genes_mouse)"
   ]
  },
  {
   "cell_type": "code",
   "execution_count": null,
   "id": "dd609c80",
   "metadata": {},
   "outputs": [],
   "source": []
  },
  {
   "cell_type": "code",
   "execution_count": 262,
   "id": "7e59e77f",
   "metadata": {},
   "outputs": [
    {
     "data": {
      "text/plain": [
       "(0.0, 4.0)"
      ]
     },
     "execution_count": 262,
     "metadata": {},
     "output_type": "execute_result"
    },
    {
     "data": {
      "image/png": "[encoded data removed]",
      "text/plain": [
       "<Figure size 640x480 with 1 Axes>"
      ]
     },
     "metadata": {},
     "output_type": "display_data"
    }
   ],
   "source": [
    "sns.scatterplot(data=A0.obs, x='gr_init', y='score', s=1)\n",
    "plt.xlim(0,4)"
   ]
  },
  {
   "cell_type": "code",
   "execution_count": 263,
   "id": "bcab12a6",
   "metadata": {},
   "outputs": [
    {
     "data": {
      "text/plain": [
       "(0.0, 4.0)"
      ]
     },
     "execution_count": 263,
     "metadata": {},
     "output_type": "execute_result"
    },
    {
     "data": {
      "image/png": "[encoded data removed]",
      "text/plain": [
       "<Figure size 640x480 with 1 Axes>"
      ]
     },
     "metadata": {},
     "output_type": "display_data"
    }
   ],
   "source": [
    "sns.scatterplot(data=A0.obs, x='gr', y='score', s=1)\n",
    "plt.xlim(0,4)"
   ]
  },
  {
   "cell_type": "code",
   "execution_count": 264,
   "id": "07745928",
   "metadata": {},
   "outputs": [
    {
     "data": {
      "text/plain": [
       "(0.11088526113803816, 8.131657700462687e-29)"
      ]
     },
     "execution_count": 264,
     "metadata": {},
     "output_type": "execute_result"
    }
   ],
   "source": [
    "scipy.stats.pearsonr(x=A0.obs['gr'], y=A0.obs['score'])"
   ]
  },
  {
   "cell_type": "code",
   "execution_count": null,
   "id": "fef082fc",
   "metadata": {},
   "outputs": [],
   "source": []
  },
  {
   "cell_type": "code",
   "execution_count": null,
   "id": "34280045",
   "metadata": {},
   "outputs": [],
   "source": []
  },
  {
   "cell_type": "code",
   "execution_count": null,
   "id": "7948948a",
   "metadata": {},
   "outputs": [],
   "source": []
  },
  {
   "cell_type": "code",
   "execution_count": null,
   "id": "4fa97825",
   "metadata": {},
   "outputs": [],
   "source": []
  },
  {
   "cell_type": "code",
   "execution_count": null,
   "id": "3db7bea2",
   "metadata": {},
   "outputs": [],
   "source": []
  },
  {
   "cell_type": "code",
   "execution_count": null,
   "id": "47a69057",
   "metadata": {},
   "outputs": [],
   "source": []
  },
  {
   "cell_type": "code",
   "execution_count": 15,
   "id": "d5c92b6a",
   "metadata": {
    "collapsed": true
   },
   "outputs": [
    {
     "ename": "ValueError",
     "evalue": "Could not interpret value `gr_t` for parameter `x`",
     "output_type": "error",
     "traceback": [
      "\u001b[0;31m---------------------------------------------------------------------------\u001b[0m",
      "\u001b[0;31mValueError\u001b[0m                                Traceback (most recent call last)",
      "Cell \u001b[0;32mIn[15], line 1\u001b[0m\n\u001b[0;32m----> 1\u001b[0m \u001b[43msns\u001b[49m\u001b[38;5;241;43m.\u001b[39;49m\u001b[43mscatterplot\u001b[49m\u001b[43m(\u001b[49m\u001b[43mdata\u001b[49m\u001b[38;5;241;43m=\u001b[39;49m\u001b[43mA0\u001b[49m\u001b[38;5;241;43m.\u001b[39;49m\u001b[43mobs\u001b[49m\u001b[43m,\u001b[49m\u001b[43m \u001b[49m\u001b[43mx\u001b[49m\u001b[38;5;241;43m=\u001b[39;49m\u001b[38;5;124;43m'\u001b[39;49m\u001b[38;5;124;43mgr_t\u001b[39;49m\u001b[38;5;124;43m'\u001b[39;49m\u001b[43m,\u001b[49m\u001b[43m \u001b[49m\u001b[43my\u001b[49m\u001b[38;5;241;43m=\u001b[39;49m\u001b[38;5;124;43m'\u001b[39;49m\u001b[38;5;124;43mgr_init\u001b[39;49m\u001b[38;5;124;43m'\u001b[39;49m\u001b[43m,\u001b[49m\u001b[43m \u001b[49m\u001b[43ms\u001b[49m\u001b[38;5;241;43m=\u001b[39;49m\u001b[38;5;241;43m1\u001b[39;49m\u001b[43m)\u001b[49m\n\u001b[1;32m      2\u001b[0m plt\u001b[38;5;241m.\u001b[39mxlim(\u001b[38;5;241m0\u001b[39m,\u001b[38;5;241m4\u001b[39m)\n",
      "File \u001b[0;32m~/miniconda3/envs/mc/lib/python3.10/site-packages/seaborn/relational.py:742\u001b[0m, in \u001b[0;36mscatterplot\u001b[0;34m(data, x, y, hue, size, style, palette, hue_order, hue_norm, sizes, size_order, size_norm, markers, style_order, legend, ax, **kwargs)\u001b[0m\n\u001b[1;32m    732\u001b[0m \u001b[38;5;28;01mdef\u001b[39;00m \u001b[38;5;21mscatterplot\u001b[39m(\n\u001b[1;32m    733\u001b[0m     data\u001b[38;5;241m=\u001b[39m\u001b[38;5;28;01mNone\u001b[39;00m, \u001b[38;5;241m*\u001b[39m,\n\u001b[1;32m    734\u001b[0m     x\u001b[38;5;241m=\u001b[39m\u001b[38;5;28;01mNone\u001b[39;00m, y\u001b[38;5;241m=\u001b[39m\u001b[38;5;28;01mNone\u001b[39;00m, hue\u001b[38;5;241m=\u001b[39m\u001b[38;5;28;01mNone\u001b[39;00m, size\u001b[38;5;241m=\u001b[39m\u001b[38;5;28;01mNone\u001b[39;00m, style\u001b[38;5;241m=\u001b[39m\u001b[38;5;28;01mNone\u001b[39;00m,\n\u001b[0;32m   (...)\u001b[0m\n\u001b[1;32m    738\u001b[0m     \u001b[38;5;241m*\u001b[39m\u001b[38;5;241m*\u001b[39mkwargs\n\u001b[1;32m    739\u001b[0m ):\n\u001b[1;32m    741\u001b[0m     variables \u001b[38;5;241m=\u001b[39m _ScatterPlotter\u001b[38;5;241m.\u001b[39mget_semantics(\u001b[38;5;28mlocals\u001b[39m())\n\u001b[0;32m--> 742\u001b[0m     p \u001b[38;5;241m=\u001b[39m \u001b[43m_ScatterPlotter\u001b[49m\u001b[43m(\u001b[49m\u001b[43mdata\u001b[49m\u001b[38;5;241;43m=\u001b[39;49m\u001b[43mdata\u001b[49m\u001b[43m,\u001b[49m\u001b[43m \u001b[49m\u001b[43mvariables\u001b[49m\u001b[38;5;241;43m=\u001b[39;49m\u001b[43mvariables\u001b[49m\u001b[43m,\u001b[49m\u001b[43m \u001b[49m\u001b[43mlegend\u001b[49m\u001b[38;5;241;43m=\u001b[39;49m\u001b[43mlegend\u001b[49m\u001b[43m)\u001b[49m\n\u001b[1;32m    744\u001b[0m     p\u001b[38;5;241m.\u001b[39mmap_hue(palette\u001b[38;5;241m=\u001b[39mpalette, order\u001b[38;5;241m=\u001b[39mhue_order, norm\u001b[38;5;241m=\u001b[39mhue_norm)\n\u001b[1;32m    745\u001b[0m     p\u001b[38;5;241m.\u001b[39mmap_size(sizes\u001b[38;5;241m=\u001b[39msizes, order\u001b[38;5;241m=\u001b[39msize_order, norm\u001b[38;5;241m=\u001b[39msize_norm)\n",
      "File \u001b[0;32m~/miniconda3/envs/mc/lib/python3.10/site-packages/seaborn/relational.py:538\u001b[0m, in \u001b[0;36m_ScatterPlotter.__init__\u001b[0;34m(self, data, variables, legend)\u001b[0m\n\u001b[1;32m    529\u001b[0m \u001b[38;5;28;01mdef\u001b[39;00m \u001b[38;5;21m__init__\u001b[39m(\u001b[38;5;28mself\u001b[39m, \u001b[38;5;241m*\u001b[39m, data\u001b[38;5;241m=\u001b[39m\u001b[38;5;28;01mNone\u001b[39;00m, variables\u001b[38;5;241m=\u001b[39m{}, legend\u001b[38;5;241m=\u001b[39m\u001b[38;5;28;01mNone\u001b[39;00m):\n\u001b[1;32m    530\u001b[0m \n\u001b[1;32m    531\u001b[0m     \u001b[38;5;66;03m# TODO this is messy, we want the mapping to be agnostic about\u001b[39;00m\n\u001b[1;32m    532\u001b[0m     \u001b[38;5;66;03m# the kind of plot to draw, but for the time being we need to set\u001b[39;00m\n\u001b[1;32m    533\u001b[0m     \u001b[38;5;66;03m# this information so the SizeMapping can use it\u001b[39;00m\n\u001b[1;32m    534\u001b[0m     \u001b[38;5;28mself\u001b[39m\u001b[38;5;241m.\u001b[39m_default_size_range \u001b[38;5;241m=\u001b[39m (\n\u001b[1;32m    535\u001b[0m         np\u001b[38;5;241m.\u001b[39mr_[\u001b[38;5;241m.5\u001b[39m, \u001b[38;5;241m2\u001b[39m] \u001b[38;5;241m*\u001b[39m np\u001b[38;5;241m.\u001b[39msquare(mpl\u001b[38;5;241m.\u001b[39mrcParams[\u001b[38;5;124m\"\u001b[39m\u001b[38;5;124mlines.markersize\u001b[39m\u001b[38;5;124m\"\u001b[39m])\n\u001b[1;32m    536\u001b[0m     )\n\u001b[0;32m--> 538\u001b[0m     \u001b[38;5;28;43msuper\u001b[39;49m\u001b[43m(\u001b[49m\u001b[43m)\u001b[49m\u001b[38;5;241;43m.\u001b[39;49m\u001b[38;5;21;43m__init__\u001b[39;49m\u001b[43m(\u001b[49m\u001b[43mdata\u001b[49m\u001b[38;5;241;43m=\u001b[39;49m\u001b[43mdata\u001b[49m\u001b[43m,\u001b[49m\u001b[43m \u001b[49m\u001b[43mvariables\u001b[49m\u001b[38;5;241;43m=\u001b[39;49m\u001b[43mvariables\u001b[49m\u001b[43m)\u001b[49m\n\u001b[1;32m    540\u001b[0m     \u001b[38;5;28mself\u001b[39m\u001b[38;5;241m.\u001b[39mlegend \u001b[38;5;241m=\u001b[39m legend\n",
      "File \u001b[0;32m~/miniconda3/envs/mc/lib/python3.10/site-packages/seaborn/_oldcore.py:640\u001b[0m, in \u001b[0;36mVectorPlotter.__init__\u001b[0;34m(self, data, variables)\u001b[0m\n\u001b[1;32m    635\u001b[0m \u001b[38;5;66;03m# var_ordered is relevant only for categorical axis variables, and may\u001b[39;00m\n\u001b[1;32m    636\u001b[0m \u001b[38;5;66;03m# be better handled by an internal axis information object that tracks\u001b[39;00m\n\u001b[1;32m    637\u001b[0m \u001b[38;5;66;03m# such information and is set up by the scale_* methods. The analogous\u001b[39;00m\n\u001b[1;32m    638\u001b[0m \u001b[38;5;66;03m# information for numeric axes would be information about log scales.\u001b[39;00m\n\u001b[1;32m    639\u001b[0m \u001b[38;5;28mself\u001b[39m\u001b[38;5;241m.\u001b[39m_var_ordered \u001b[38;5;241m=\u001b[39m {\u001b[38;5;124m\"\u001b[39m\u001b[38;5;124mx\u001b[39m\u001b[38;5;124m\"\u001b[39m: \u001b[38;5;28;01mFalse\u001b[39;00m, \u001b[38;5;124m\"\u001b[39m\u001b[38;5;124my\u001b[39m\u001b[38;5;124m\"\u001b[39m: \u001b[38;5;28;01mFalse\u001b[39;00m}  \u001b[38;5;66;03m# alt., used DefaultDict\u001b[39;00m\n\u001b[0;32m--> 640\u001b[0m \u001b[38;5;28;43mself\u001b[39;49m\u001b[38;5;241;43m.\u001b[39;49m\u001b[43massign_variables\u001b[49m\u001b[43m(\u001b[49m\u001b[43mdata\u001b[49m\u001b[43m,\u001b[49m\u001b[43m \u001b[49m\u001b[43mvariables\u001b[49m\u001b[43m)\u001b[49m\n\u001b[1;32m    642\u001b[0m \u001b[38;5;28;01mfor\u001b[39;00m var, \u001b[38;5;28mcls\u001b[39m \u001b[38;5;129;01min\u001b[39;00m \u001b[38;5;28mself\u001b[39m\u001b[38;5;241m.\u001b[39m_semantic_mappings\u001b[38;5;241m.\u001b[39mitems():\n\u001b[1;32m    643\u001b[0m \n\u001b[1;32m    644\u001b[0m     \u001b[38;5;66;03m# Create the mapping function\u001b[39;00m\n\u001b[1;32m    645\u001b[0m     map_func \u001b[38;5;241m=\u001b[39m partial(\u001b[38;5;28mcls\u001b[39m\u001b[38;5;241m.\u001b[39mmap, plotter\u001b[38;5;241m=\u001b[39m\u001b[38;5;28mself\u001b[39m)\n",
      "File \u001b[0;32m~/miniconda3/envs/mc/lib/python3.10/site-packages/seaborn/_oldcore.py:701\u001b[0m, in \u001b[0;36mVectorPlotter.assign_variables\u001b[0;34m(self, data, variables)\u001b[0m\n\u001b[1;32m    699\u001b[0m \u001b[38;5;28;01melse\u001b[39;00m:\n\u001b[1;32m    700\u001b[0m     \u001b[38;5;28mself\u001b[39m\u001b[38;5;241m.\u001b[39minput_format \u001b[38;5;241m=\u001b[39m \u001b[38;5;124m\"\u001b[39m\u001b[38;5;124mlong\u001b[39m\u001b[38;5;124m\"\u001b[39m\n\u001b[0;32m--> 701\u001b[0m     plot_data, variables \u001b[38;5;241m=\u001b[39m \u001b[38;5;28;43mself\u001b[39;49m\u001b[38;5;241;43m.\u001b[39;49m\u001b[43m_assign_variables_longform\u001b[49m\u001b[43m(\u001b[49m\n\u001b[1;32m    702\u001b[0m \u001b[43m        \u001b[49m\u001b[43mdata\u001b[49m\u001b[43m,\u001b[49m\u001b[43m \u001b[49m\u001b[38;5;241;43m*\u001b[39;49m\u001b[38;5;241;43m*\u001b[39;49m\u001b[43mvariables\u001b[49m\u001b[43m,\u001b[49m\n\u001b[1;32m    703\u001b[0m \u001b[43m    \u001b[49m\u001b[43m)\u001b[49m\n\u001b[1;32m    705\u001b[0m \u001b[38;5;28mself\u001b[39m\u001b[38;5;241m.\u001b[39mplot_data \u001b[38;5;241m=\u001b[39m plot_data\n\u001b[1;32m    706\u001b[0m \u001b[38;5;28mself\u001b[39m\u001b[38;5;241m.\u001b[39mvariables \u001b[38;5;241m=\u001b[39m variables\n",
      "File \u001b[0;32m~/miniconda3/envs/mc/lib/python3.10/site-packages/seaborn/_oldcore.py:938\u001b[0m, in \u001b[0;36mVectorPlotter._assign_variables_longform\u001b[0;34m(self, data, **kwargs)\u001b[0m\n\u001b[1;32m    933\u001b[0m \u001b[38;5;28;01melif\u001b[39;00m \u001b[38;5;28misinstance\u001b[39m(val, (\u001b[38;5;28mstr\u001b[39m, \u001b[38;5;28mbytes\u001b[39m)):\n\u001b[1;32m    934\u001b[0m \n\u001b[1;32m    935\u001b[0m     \u001b[38;5;66;03m# This looks like a column name but we don't know what it means!\u001b[39;00m\n\u001b[1;32m    937\u001b[0m     err \u001b[38;5;241m=\u001b[39m \u001b[38;5;124mf\u001b[39m\u001b[38;5;124m\"\u001b[39m\u001b[38;5;124mCould not interpret value `\u001b[39m\u001b[38;5;132;01m{\u001b[39;00mval\u001b[38;5;132;01m}\u001b[39;00m\u001b[38;5;124m` for parameter `\u001b[39m\u001b[38;5;132;01m{\u001b[39;00mkey\u001b[38;5;132;01m}\u001b[39;00m\u001b[38;5;124m`\u001b[39m\u001b[38;5;124m\"\u001b[39m\n\u001b[0;32m--> 938\u001b[0m     \u001b[38;5;28;01mraise\u001b[39;00m \u001b[38;5;167;01mValueError\u001b[39;00m(err)\n\u001b[1;32m    940\u001b[0m \u001b[38;5;28;01melse\u001b[39;00m:\n\u001b[1;32m    941\u001b[0m \n\u001b[1;32m    942\u001b[0m     \u001b[38;5;66;03m# Otherwise, assume the value is itself data\u001b[39;00m\n\u001b[1;32m    943\u001b[0m \n\u001b[1;32m    944\u001b[0m     \u001b[38;5;66;03m# Raise when data object is present and a vector can't matched\u001b[39;00m\n\u001b[1;32m    945\u001b[0m     \u001b[38;5;28;01mif\u001b[39;00m \u001b[38;5;28misinstance\u001b[39m(data, pd\u001b[38;5;241m.\u001b[39mDataFrame) \u001b[38;5;129;01mand\u001b[39;00m \u001b[38;5;129;01mnot\u001b[39;00m \u001b[38;5;28misinstance\u001b[39m(val, pd\u001b[38;5;241m.\u001b[39mSeries):\n",
      "\u001b[0;31mValueError\u001b[0m: Could not interpret value `gr_t` for parameter `x`"
     ]
    }
   ],
   "source": [
    "sns.scatterplot(data=A0.obs, x='gr_t', y='gr_init', s=1)\n",
    "plt.xlim(0,4)"
   ]
  },
  {
   "cell_type": "code",
   "execution_count": 16,
   "id": "4ec773a5",
   "metadata": {},
   "outputs": [
    {
     "data": {
      "text/plain": [
       "(-0.12398674912951577, 0.24430309651214144)"
      ]
     },
     "execution_count": 16,
     "metadata": {},
     "output_type": "execute_result"
    }
   ],
   "source": [
    "scipy.stats.pearsonr(x=A0.obs['gr'], y=A0.obs['gr_init'])"
   ]
  },
  {
   "cell_type": "code",
   "execution_count": 17,
   "id": "e5896471",
   "metadata": {
    "collapsed": true
   },
   "outputs": [
    {
     "ename": "KeyError",
     "evalue": "'gr_t'",
     "output_type": "error",
     "traceback": [
      "\u001b[0;31m---------------------------------------------------------------------------\u001b[0m",
      "\u001b[0;31mKeyError\u001b[0m                                  Traceback (most recent call last)",
      "File \u001b[0;32m~/miniconda3/envs/mc/lib/python3.10/site-packages/pandas/core/indexes/base.py:3652\u001b[0m, in \u001b[0;36mIndex.get_loc\u001b[0;34m(self, key)\u001b[0m\n\u001b[1;32m   3651\u001b[0m \u001b[38;5;28;01mtry\u001b[39;00m:\n\u001b[0;32m-> 3652\u001b[0m     \u001b[38;5;28;01mreturn\u001b[39;00m \u001b[38;5;28;43mself\u001b[39;49m\u001b[38;5;241;43m.\u001b[39;49m\u001b[43m_engine\u001b[49m\u001b[38;5;241;43m.\u001b[39;49m\u001b[43mget_loc\u001b[49m\u001b[43m(\u001b[49m\u001b[43mcasted_key\u001b[49m\u001b[43m)\u001b[49m\n\u001b[1;32m   3653\u001b[0m \u001b[38;5;28;01mexcept\u001b[39;00m \u001b[38;5;167;01mKeyError\u001b[39;00m \u001b[38;5;28;01mas\u001b[39;00m err:\n",
      "File \u001b[0;32m~/miniconda3/envs/mc/lib/python3.10/site-packages/pandas/_libs/index.pyx:147\u001b[0m, in \u001b[0;36mpandas._libs.index.IndexEngine.get_loc\u001b[0;34m()\u001b[0m\n",
      "File \u001b[0;32m~/miniconda3/envs/mc/lib/python3.10/site-packages/pandas/_libs/index.pyx:176\u001b[0m, in \u001b[0;36mpandas._libs.index.IndexEngine.get_loc\u001b[0;34m()\u001b[0m\n",
      "File \u001b[0;32mpandas/_libs/hashtable_class_helper.pxi:7080\u001b[0m, in \u001b[0;36mpandas._libs.hashtable.PyObjectHashTable.get_item\u001b[0;34m()\u001b[0m\n",
      "File \u001b[0;32mpandas/_libs/hashtable_class_helper.pxi:7088\u001b[0m, in \u001b[0;36mpandas._libs.hashtable.PyObjectHashTable.get_item\u001b[0;34m()\u001b[0m\n",
      "\u001b[0;31mKeyError\u001b[0m: 'gr_t'",
      "\nThe above exception was the direct cause of the following exception:\n",
      "\u001b[0;31mKeyError\u001b[0m                                  Traceback (most recent call last)",
      "Cell \u001b[0;32mIn[17], line 1\u001b[0m\n\u001b[0;32m----> 1\u001b[0m scipy\u001b[38;5;241m.\u001b[39mstats\u001b[38;5;241m.\u001b[39mpearsonr(x\u001b[38;5;241m=\u001b[39m\u001b[43mA0\u001b[49m\u001b[38;5;241;43m.\u001b[39;49m\u001b[43mobs\u001b[49m\u001b[43m[\u001b[49m\u001b[38;5;124;43m'\u001b[39;49m\u001b[38;5;124;43mgr_t\u001b[39;49m\u001b[38;5;124;43m'\u001b[39;49m\u001b[43m]\u001b[49m, y\u001b[38;5;241m=\u001b[39mA0\u001b[38;5;241m.\u001b[39mobs[\u001b[38;5;124m'\u001b[39m\u001b[38;5;124mgr_init\u001b[39m\u001b[38;5;124m'\u001b[39m])\n",
      "File \u001b[0;32m~/miniconda3/envs/mc/lib/python3.10/site-packages/pandas/core/frame.py:3760\u001b[0m, in \u001b[0;36mDataFrame.__getitem__\u001b[0;34m(self, key)\u001b[0m\n\u001b[1;32m   3758\u001b[0m \u001b[38;5;28;01mif\u001b[39;00m \u001b[38;5;28mself\u001b[39m\u001b[38;5;241m.\u001b[39mcolumns\u001b[38;5;241m.\u001b[39mnlevels \u001b[38;5;241m>\u001b[39m \u001b[38;5;241m1\u001b[39m:\n\u001b[1;32m   3759\u001b[0m     \u001b[38;5;28;01mreturn\u001b[39;00m \u001b[38;5;28mself\u001b[39m\u001b[38;5;241m.\u001b[39m_getitem_multilevel(key)\n\u001b[0;32m-> 3760\u001b[0m indexer \u001b[38;5;241m=\u001b[39m \u001b[38;5;28;43mself\u001b[39;49m\u001b[38;5;241;43m.\u001b[39;49m\u001b[43mcolumns\u001b[49m\u001b[38;5;241;43m.\u001b[39;49m\u001b[43mget_loc\u001b[49m\u001b[43m(\u001b[49m\u001b[43mkey\u001b[49m\u001b[43m)\u001b[49m\n\u001b[1;32m   3761\u001b[0m \u001b[38;5;28;01mif\u001b[39;00m is_integer(indexer):\n\u001b[1;32m   3762\u001b[0m     indexer \u001b[38;5;241m=\u001b[39m [indexer]\n",
      "File \u001b[0;32m~/miniconda3/envs/mc/lib/python3.10/site-packages/pandas/core/indexes/base.py:3654\u001b[0m, in \u001b[0;36mIndex.get_loc\u001b[0;34m(self, key)\u001b[0m\n\u001b[1;32m   3652\u001b[0m     \u001b[38;5;28;01mreturn\u001b[39;00m \u001b[38;5;28mself\u001b[39m\u001b[38;5;241m.\u001b[39m_engine\u001b[38;5;241m.\u001b[39mget_loc(casted_key)\n\u001b[1;32m   3653\u001b[0m \u001b[38;5;28;01mexcept\u001b[39;00m \u001b[38;5;167;01mKeyError\u001b[39;00m \u001b[38;5;28;01mas\u001b[39;00m err:\n\u001b[0;32m-> 3654\u001b[0m     \u001b[38;5;28;01mraise\u001b[39;00m \u001b[38;5;167;01mKeyError\u001b[39;00m(key) \u001b[38;5;28;01mfrom\u001b[39;00m \u001b[38;5;21;01merr\u001b[39;00m\n\u001b[1;32m   3655\u001b[0m \u001b[38;5;28;01mexcept\u001b[39;00m \u001b[38;5;167;01mTypeError\u001b[39;00m:\n\u001b[1;32m   3656\u001b[0m     \u001b[38;5;66;03m# If we have a listlike key, _check_indexing_error will raise\u001b[39;00m\n\u001b[1;32m   3657\u001b[0m     \u001b[38;5;66;03m#  InvalidIndexError. Otherwise we fall through and re-raise\u001b[39;00m\n\u001b[1;32m   3658\u001b[0m     \u001b[38;5;66;03m#  the TypeError.\u001b[39;00m\n\u001b[1;32m   3659\u001b[0m     \u001b[38;5;28mself\u001b[39m\u001b[38;5;241m.\u001b[39m_check_indexing_error(key)\n",
      "\u001b[0;31mKeyError\u001b[0m: 'gr_t'"
     ]
    }
   ],
   "source": [
    "scipy.stats.pearsonr(x=A0.obs['gr_t'], y=A0.obs['gr_init'])"
   ]
  },
  {
   "cell_type": "code",
   "execution_count": 24,
   "id": "4715de4e",
   "metadata": {},
   "outputs": [
    {
     "data": {
      "text/plain": [
       "<Axes: xlabel='gr', ylabel='Count'>"
      ]
     },
     "execution_count": 24,
     "metadata": {},
     "output_type": "execute_result"
    },
    {
     "data": {
      "image/png": "[encoded data removed]",
      "text/plain": [
       "<Figure size 640x480 with 1 Axes>"
      ]
     },
     "metadata": {},
     "output_type": "display_data"
    }
   ],
   "source": [
    "# Only k biggest cell types\n",
    "cts=list(A0.obs.value_counts('cell_type').index)[:5]\n",
    "A0s=A0[A0.obs['cell_type'].isin(cts)].copy()\n",
    "sns.histplot(data=A0s.obs, x='gr', hue='cell_type', bins=np.linspace(0,3,51))"
   ]
  },
  {
   "cell_type": "code",
   "execution_count": null,
   "id": "4a2cacf0",
   "metadata": {},
   "outputs": [],
   "source": []
  },
  {
   "cell_type": "code",
   "execution_count": null,
   "id": "8f827858",
   "metadata": {},
   "outputs": [],
   "source": []
  },
  {
   "cell_type": "code",
   "execution_count": null,
   "id": "609a5df9",
   "metadata": {},
   "outputs": [],
   "source": []
  },
  {
   "cell_type": "code",
   "execution_count": null,
   "id": "d7ba181a",
   "metadata": {},
   "outputs": [],
   "source": []
  },
  {
   "cell_type": "code",
   "execution_count": null,
   "id": "1d1430a4",
   "metadata": {},
   "outputs": [],
   "source": []
  },
  {
   "cell_type": "code",
   "execution_count": null,
   "id": "2599bd87",
   "metadata": {},
   "outputs": [],
   "source": []
  },
  {
   "cell_type": "code",
   "execution_count": 191,
   "id": "e7492752",
   "metadata": {},
   "outputs": [
    {
     "data": {
      "text/plain": [
       "<Axes: xlabel='gr', ylabel='Count'>"
      ]
     },
     "execution_count": 191,
     "metadata": {},
     "output_type": "execute_result"
    },
    {
     "data": {
      "image/png": "[encoded data removed]",
      "text/plain": [
       "<Figure size 640x480 with 1 Axes>"
      ]
     },
     "metadata": {},
     "output_type": "display_data"
    }
   ],
   "source": [
    "# Only k biggest cell types\n",
    "cts=list(A0.obs.value_counts('cell_type').index)[:5]\n",
    "A0s=A0[A0.obs['cell_type'].isin(cts)].copy()\n",
    "sns.histplot(data=A0s.obs, x='gr', hue='cell_type', bins=np.linspace(0,2,101))"
   ]
  },
  {
   "cell_type": "code",
   "execution_count": null,
   "id": "920bdaff",
   "metadata": {},
   "outputs": [],
   "source": []
  },
  {
   "cell_type": "code",
   "execution_count": null,
   "id": "8eb1d7b7",
   "metadata": {},
   "outputs": [],
   "source": []
  },
  {
   "cell_type": "code",
   "execution_count": null,
   "id": "d4653153",
   "metadata": {},
   "outputs": [],
   "source": []
  },
  {
   "cell_type": "code",
   "execution_count": null,
   "id": "f19e3808",
   "metadata": {},
   "outputs": [],
   "source": []
  },
  {
   "cell_type": "code",
   "execution_count": null,
   "id": "09a01b72",
   "metadata": {},
   "outputs": [],
   "source": []
  },
  {
   "cell_type": "code",
   "execution_count": 157,
   "id": "bc504d9d",
   "metadata": {},
   "outputs": [],
   "source": [
    "dfs=A0.obs.groupby('cell_type').mean(['gr_init'])"
   ]
  },
  {
   "cell_type": "code",
   "execution_count": 158,
   "id": "d3e54a2a",
   "metadata": {},
   "outputs": [
    {
     "data": {
      "text/plain": [
       "<Axes: xlabel='gr', ylabel='gr_init'>"
      ]
     },
     "execution_count": 158,
     "metadata": {},
     "output_type": "execute_result"
    },
    {
     "data": {
      "image/png": "[encoded data removed]",
      "text/plain": [
       "<Figure size 640x480 with 1 Axes>"
      ]
     },
     "metadata": {},
     "output_type": "display_data"
    }
   ],
   "source": [
    "sns.scatterplot(data=dfs, x='gr', y='gr_init')"
   ]
  },
  {
   "cell_type": "code",
   "execution_count": 159,
   "id": "26e329b0",
   "metadata": {},
   "outputs": [
    {
     "data": {
      "text/plain": [
       "(0.3375249405456633, 0.12448718329387236)"
      ]
     },
     "execution_count": 159,
     "metadata": {},
     "output_type": "execute_result"
    }
   ],
   "source": [
    "scipy.stats.pearsonr(x=dfs['gr'], y=dfs['gr_init'])"
   ]
  },
  {
   "cell_type": "code",
   "execution_count": 160,
   "id": "64a1854f",
   "metadata": {},
   "outputs": [
    {
     "data": {
      "text/plain": [
       "SpearmanrResult(correlation=0.383399209486166, pvalue=0.07817838660087381)"
      ]
     },
     "execution_count": 160,
     "metadata": {},
     "output_type": "execute_result"
    }
   ],
   "source": [
    "scipy.stats.spearmanr(dfs['gr'], dfs['gr_init'])"
   ]
  },
  {
   "cell_type": "code",
   "execution_count": null,
   "id": "f8dbd4a5",
   "metadata": {},
   "outputs": [],
   "source": []
  },
  {
   "cell_type": "code",
   "execution_count": null,
   "id": "a267f3c3",
   "metadata": {},
   "outputs": [],
   "source": []
  },
  {
   "cell_type": "code",
   "execution_count": null,
   "id": "371109d0",
   "metadata": {},
   "outputs": [],
   "source": []
  },
  {
   "cell_type": "code",
   "execution_count": null,
   "id": "e7e76909",
   "metadata": {},
   "outputs": [],
   "source": []
  },
  {
   "cell_type": "code",
   "execution_count": null,
   "id": "a0131f09",
   "metadata": {},
   "outputs": [],
   "source": []
  },
  {
   "cell_type": "code",
   "execution_count": null,
   "id": "91ecda9c",
   "metadata": {},
   "outputs": [],
   "source": []
  },
  {
   "cell_type": "code",
   "execution_count": null,
   "id": "0b3f8b5f",
   "metadata": {},
   "outputs": [],
   "source": []
  },
  {
   "cell_type": "code",
   "execution_count": 86,
   "id": "34c52b97",
   "metadata": {},
   "outputs": [
    {
     "data": {
      "text/html": [
       "<div>\n",
       "<style scoped>\n",
       "    .dataframe tbody tr th:only-of-type {\n",
       "        vertical-align: middle;\n",
       "    }\n",
       "\n",
       "    .dataframe tbody tr th {\n",
       "        vertical-align: top;\n",
       "    }\n",
       "\n",
       "    .dataframe thead th {\n",
       "        text-align: right;\n",
       "    }\n",
       "</style>\n",
       "<table border=\"1\" class=\"dataframe\">\n",
       "  <thead>\n",
       "    <tr style=\"text-align: right;\">\n",
       "      <th></th>\n",
       "      <th>day</th>\n",
       "      <th>group</th>\n",
       "      <th>proliferation</th>\n",
       "      <th>apoptosis</th>\n",
       "      <th>gr</th>\n",
       "      <th>gr_init</th>\n",
       "    </tr>\n",
       "    <tr>\n",
       "      <th>cell_type</th>\n",
       "      <th></th>\n",
       "      <th></th>\n",
       "      <th></th>\n",
       "      <th></th>\n",
       "      <th></th>\n",
       "      <th></th>\n",
       "    </tr>\n",
       "  </thead>\n",
       "  <tbody>\n",
       "    <tr>\n",
       "      <th>Allantois</th>\n",
       "      <td>8.0</td>\n",
       "      <td>2.656036</td>\n",
       "      <td>0.278035</td>\n",
       "      <td>0.072207</td>\n",
       "      <td>1.187451</td>\n",
       "      <td>1.320369</td>\n",
       "    </tr>\n",
       "    <tr>\n",
       "      <th>Amniochorionic mesoderm</th>\n",
       "      <td>8.0</td>\n",
       "      <td>2.748646</td>\n",
       "      <td>0.276424</td>\n",
       "      <td>0.074846</td>\n",
       "      <td>1.195280</td>\n",
       "      <td>1.295180</td>\n",
       "    </tr>\n",
       "    <tr>\n",
       "      <th>Caudal lateral epiblast</th>\n",
       "      <td>8.0</td>\n",
       "      <td>2.800180</td>\n",
       "      <td>0.341842</td>\n",
       "      <td>0.069509</td>\n",
       "      <td>1.188380</td>\n",
       "      <td>1.572410</td>\n",
       "    </tr>\n",
       "    <tr>\n",
       "      <th>Caudal neuroectoderm</th>\n",
       "      <td>8.0</td>\n",
       "      <td>2.812613</td>\n",
       "      <td>0.338547</td>\n",
       "      <td>0.067804</td>\n",
       "      <td>1.320316</td>\n",
       "      <td>1.579520</td>\n",
       "    </tr>\n",
       "    <tr>\n",
       "      <th>Definitive endoderm</th>\n",
       "      <td>8.0</td>\n",
       "      <td>2.853659</td>\n",
       "      <td>0.165480</td>\n",
       "      <td>0.078785</td>\n",
       "      <td>0.841943</td>\n",
       "      <td>1.049235</td>\n",
       "    </tr>\n",
       "    <tr>\n",
       "      <th>Embryonic visceral endoderm</th>\n",
       "      <td>8.0</td>\n",
       "      <td>2.587302</td>\n",
       "      <td>0.169486</td>\n",
       "      <td>0.099047</td>\n",
       "      <td>1.024192</td>\n",
       "      <td>0.901466</td>\n",
       "    </tr>\n",
       "    <tr>\n",
       "      <th>Endothelium</th>\n",
       "      <td>8.0</td>\n",
       "      <td>2.482143</td>\n",
       "      <td>0.292346</td>\n",
       "      <td>0.105233</td>\n",
       "      <td>1.379814</td>\n",
       "      <td>1.107805</td>\n",
       "    </tr>\n",
       "    <tr>\n",
       "      <th>First heart field</th>\n",
       "      <td>8.0</td>\n",
       "      <td>2.568421</td>\n",
       "      <td>0.278206</td>\n",
       "      <td>0.073398</td>\n",
       "      <td>2.250379</td>\n",
       "      <td>1.321583</td>\n",
       "    </tr>\n",
       "    <tr>\n",
       "      <th>Gut</th>\n",
       "      <td>8.0</td>\n",
       "      <td>2.744361</td>\n",
       "      <td>0.266309</td>\n",
       "      <td>0.079528</td>\n",
       "      <td>1.041947</td>\n",
       "      <td>1.229439</td>\n",
       "    </tr>\n",
       "    <tr>\n",
       "      <th>Hematoendothelial progenitors</th>\n",
       "      <td>8.0</td>\n",
       "      <td>2.716172</td>\n",
       "      <td>0.294570</td>\n",
       "      <td>0.089794</td>\n",
       "      <td>1.160724</td>\n",
       "      <td>1.230174</td>\n",
       "    </tr>\n",
       "    <tr>\n",
       "      <th>Intermediate mesoderm</th>\n",
       "      <td>8.0</td>\n",
       "      <td>2.842975</td>\n",
       "      <td>0.324890</td>\n",
       "      <td>0.051404</td>\n",
       "      <td>1.134994</td>\n",
       "      <td>1.674837</td>\n",
       "    </tr>\n",
       "    <tr>\n",
       "      <th>Notochord</th>\n",
       "      <td>8.0</td>\n",
       "      <td>2.854430</td>\n",
       "      <td>0.053882</td>\n",
       "      <td>0.074194</td>\n",
       "      <td>0.376872</td>\n",
       "      <td>0.870044</td>\n",
       "    </tr>\n",
       "    <tr>\n",
       "      <th>Paraxial mesoderm A</th>\n",
       "      <td>8.0</td>\n",
       "      <td>2.811302</td>\n",
       "      <td>0.319951</td>\n",
       "      <td>0.057606</td>\n",
       "      <td>1.230328</td>\n",
       "      <td>1.602943</td>\n",
       "    </tr>\n",
       "    <tr>\n",
       "      <th>Paraxial mesoderm B</th>\n",
       "      <td>8.0</td>\n",
       "      <td>2.862007</td>\n",
       "      <td>0.309743</td>\n",
       "      <td>0.062151</td>\n",
       "      <td>1.004344</td>\n",
       "      <td>1.522359</td>\n",
       "    </tr>\n",
       "    <tr>\n",
       "      <th>Paraxial mesoderm C</th>\n",
       "      <td>8.0</td>\n",
       "      <td>2.834437</td>\n",
       "      <td>0.313678</td>\n",
       "      <td>0.072516</td>\n",
       "      <td>1.072295</td>\n",
       "      <td>1.448139</td>\n",
       "    </tr>\n",
       "    <tr>\n",
       "      <th>Parietal endoderm</th>\n",
       "      <td>8.0</td>\n",
       "      <td>2.920000</td>\n",
       "      <td>0.191240</td>\n",
       "      <td>0.092078</td>\n",
       "      <td>0.313097</td>\n",
       "      <td>0.932574</td>\n",
       "    </tr>\n",
       "    <tr>\n",
       "      <th>Primordial germ cells</th>\n",
       "      <td>8.0</td>\n",
       "      <td>2.750000</td>\n",
       "      <td>0.237635</td>\n",
       "      <td>0.078357</td>\n",
       "      <td>1.001482</td>\n",
       "      <td>1.173745</td>\n",
       "    </tr>\n",
       "    <tr>\n",
       "      <th>Rostral neuroectoderm</th>\n",
       "      <td>8.0</td>\n",
       "      <td>2.837572</td>\n",
       "      <td>0.337686</td>\n",
       "      <td>0.060661</td>\n",
       "      <td>1.396992</td>\n",
       "      <td>1.643151</td>\n",
       "    </tr>\n",
       "    <tr>\n",
       "      <th>Somatic mesoderm</th>\n",
       "      <td>8.0</td>\n",
       "      <td>2.813725</td>\n",
       "      <td>0.314899</td>\n",
       "      <td>0.056365</td>\n",
       "      <td>1.179094</td>\n",
       "      <td>1.594794</td>\n",
       "    </tr>\n",
       "    <tr>\n",
       "      <th>Spinal cord</th>\n",
       "      <td>8.0</td>\n",
       "      <td>2.820000</td>\n",
       "      <td>0.391350</td>\n",
       "      <td>0.063491</td>\n",
       "      <td>1.343614</td>\n",
       "      <td>1.818878</td>\n",
       "    </tr>\n",
       "    <tr>\n",
       "      <th>Splanchnic mesoderm</th>\n",
       "      <td>8.0</td>\n",
       "      <td>2.735955</td>\n",
       "      <td>0.319594</td>\n",
       "      <td>0.063193</td>\n",
       "      <td>1.294987</td>\n",
       "      <td>1.554025</td>\n",
       "    </tr>\n",
       "    <tr>\n",
       "      <th>Surface ectoderm</th>\n",
       "      <td>8.0</td>\n",
       "      <td>2.775837</td>\n",
       "      <td>0.328501</td>\n",
       "      <td>0.079768</td>\n",
       "      <td>1.333468</td>\n",
       "      <td>1.436256</td>\n",
       "    </tr>\n",
       "  </tbody>\n",
       "</table>\n",
       "</div>"
      ],
      "text/plain": [
       "                               day     group  proliferation  apoptosis   \n",
       "cell_type                                                                \n",
       "Allantois                      8.0  2.656036       0.278035   0.072207  \\\n",
       "Amniochorionic mesoderm        8.0  2.748646       0.276424   0.074846   \n",
       "Caudal lateral epiblast        8.0  2.800180       0.341842   0.069509   \n",
       "Caudal neuroectoderm           8.0  2.812613       0.338547   0.067804   \n",
       "Definitive endoderm            8.0  2.853659       0.165480   0.078785   \n",
       "Embryonic visceral endoderm    8.0  2.587302       0.169486   0.099047   \n",
       "Endothelium                    8.0  2.482143       0.292346   0.105233   \n",
       "First heart field              8.0  2.568421       0.278206   0.073398   \n",
       "Gut                            8.0  2.744361       0.266309   0.079528   \n",
       "Hematoendothelial progenitors  8.0  2.716172       0.294570   0.089794   \n",
       "Intermediate mesoderm          8.0  2.842975       0.324890   0.051404   \n",
       "Notochord                      8.0  2.854430       0.053882   0.074194   \n",
       "Paraxial mesoderm A            8.0  2.811302       0.319951   0.057606   \n",
       "Paraxial mesoderm B            8.0  2.862007       0.309743   0.062151   \n",
       "Paraxial mesoderm C            8.0  2.834437       0.313678   0.072516   \n",
       "Parietal endoderm              8.0  2.920000       0.191240   0.092078   \n",
       "Primordial germ cells          8.0  2.750000       0.237635   0.078357   \n",
       "Rostral neuroectoderm          8.0  2.837572       0.337686   0.060661   \n",
       "Somatic mesoderm               8.0  2.813725       0.314899   0.056365   \n",
       "Spinal cord                    8.0  2.820000       0.391350   0.063491   \n",
       "Splanchnic mesoderm            8.0  2.735955       0.319594   0.063193   \n",
       "Surface ectoderm               8.0  2.775837       0.328501   0.079768   \n",
       "\n",
       "                                     gr   gr_init  \n",
       "cell_type                                          \n",
       "Allantois                      1.187451  1.320369  \n",
       "Amniochorionic mesoderm        1.195280  1.295180  \n",
       "Caudal lateral epiblast        1.188380  1.572410  \n",
       "Caudal neuroectoderm           1.320316  1.579520  \n",
       "Definitive endoderm            0.841943  1.049235  \n",
       "Embryonic visceral endoderm    1.024192  0.901466  \n",
       "Endothelium                    1.379814  1.107805  \n",
       "First heart field              2.250379  1.321583  \n",
       "Gut                            1.041947  1.229439  \n",
       "Hematoendothelial progenitors  1.160724  1.230174  \n",
       "Intermediate mesoderm          1.134994  1.674837  \n",
       "Notochord                      0.376872  0.870044  \n",
       "Paraxial mesoderm A            1.230328  1.602943  \n",
       "Paraxial mesoderm B            1.004344  1.522359  \n",
       "Paraxial mesoderm C            1.072295  1.448139  \n",
       "Parietal endoderm              0.313097  0.932574  \n",
       "Primordial germ cells          1.001482  1.173745  \n",
       "Rostral neuroectoderm          1.396992  1.643151  \n",
       "Somatic mesoderm               1.179094  1.594794  \n",
       "Spinal cord                    1.343614  1.818878  \n",
       "Splanchnic mesoderm            1.294987  1.554025  \n",
       "Surface ectoderm               1.333468  1.436256  "
      ]
     },
     "execution_count": 86,
     "metadata": {},
     "output_type": "execute_result"
    }
   ],
   "source": [
    "dfs"
   ]
  },
  {
   "cell_type": "code",
   "execution_count": null,
   "id": "bcc015a5",
   "metadata": {},
   "outputs": [],
   "source": []
  },
  {
   "cell_type": "code",
   "execution_count": null,
   "id": "360379d3",
   "metadata": {},
   "outputs": [],
   "source": []
  },
  {
   "cell_type": "code",
   "execution_count": null,
   "id": "deb80e4e",
   "metadata": {},
   "outputs": [],
   "source": []
  },
  {
   "cell_type": "code",
   "execution_count": null,
   "id": "5f376a58",
   "metadata": {},
   "outputs": [],
   "source": []
  },
  {
   "cell_type": "code",
   "execution_count": null,
   "id": "4a5500e5",
   "metadata": {},
   "outputs": [],
   "source": []
  },
  {
   "cell_type": "code",
   "execution_count": null,
   "id": "34fa2f69",
   "metadata": {},
   "outputs": [],
   "source": []
  },
  {
   "cell_type": "code",
   "execution_count": null,
   "id": "50375547",
   "metadata": {},
   "outputs": [],
   "source": []
  },
  {
   "cell_type": "code",
   "execution_count": null,
   "id": "32b4b975",
   "metadata": {},
   "outputs": [],
   "source": []
  },
  {
   "cell_type": "code",
   "execution_count": null,
   "id": "d26272c1",
   "metadata": {},
   "outputs": [],
   "source": []
  },
  {
   "cell_type": "code",
   "execution_count": null,
   "id": "98857e4f",
   "metadata": {},
   "outputs": [],
   "source": []
  },
  {
   "cell_type": "code",
   "execution_count": null,
   "id": "287e3007",
   "metadata": {},
   "outputs": [],
   "source": []
  },
  {
   "cell_type": "code",
   "execution_count": null,
   "id": "a4dce891",
   "metadata": {},
   "outputs": [],
   "source": []
  },
  {
   "cell_type": "code",
   "execution_count": null,
   "id": "79cbd210",
   "metadata": {},
   "outputs": [],
   "source": []
  },
  {
   "cell_type": "code",
   "execution_count": 50,
   "id": "c9c4e956",
   "metadata": {},
   "outputs": [
    {
     "name": "stdout",
     "output_type": "stream",
     "text": [
      "WARNING: genes are not in var_names and ignored: ['Fam64a', 'Hn1', 'Mlf1ip']\n",
      "WARNING: genes are not in var_names and ignored: ['Adck3', 'Gnb2l1', 'H2afj', 'Hist1h1c', 'Hist3h2a', 'Ikbkap', 'Lrmp']\n"
     ]
    }
   ],
   "source": [
    "tp=TemporalProblem(adata)\n",
    "tp.score_genes_for_marginals(gene_set_proliferation='mouse',  gene_set_apoptosis='mouse')\n",
    "tp = tp.prepare('day', joint_attr=f'X_pcaS')"
   ]
  },
  {
   "cell_type": "code",
   "execution_count": 53,
   "id": "97fd458d",
   "metadata": {
    "scrolled": true
   },
   "outputs": [
    {
     "data": {
      "text/html": [
       "<div>\n",
       "<style scoped>\n",
       "    .dataframe tbody tr th:only-of-type {\n",
       "        vertical-align: middle;\n",
       "    }\n",
       "\n",
       "    .dataframe tbody tr th {\n",
       "        vertical-align: top;\n",
       "    }\n",
       "\n",
       "    .dataframe thead th {\n",
       "        text-align: right;\n",
       "    }\n",
       "</style>\n",
       "<table border=\"1\" class=\"dataframe\">\n",
       "  <thead>\n",
       "    <tr style=\"text-align: right;\">\n",
       "      <th></th>\n",
       "      <th>prior_growth_rates</th>\n",
       "    </tr>\n",
       "  </thead>\n",
       "  <tbody>\n",
       "    <tr>\n",
       "      <th>cell_30635</th>\n",
       "      <td>1.466585</td>\n",
       "    </tr>\n",
       "    <tr>\n",
       "      <th>cell_30636</th>\n",
       "      <td>1.394676</td>\n",
       "    </tr>\n",
       "    <tr>\n",
       "      <th>cell_30638</th>\n",
       "      <td>1.175681</td>\n",
       "    </tr>\n",
       "    <tr>\n",
       "      <th>cell_30639</th>\n",
       "      <td>1.475032</td>\n",
       "    </tr>\n",
       "    <tr>\n",
       "      <th>cell_30642</th>\n",
       "      <td>1.838632</td>\n",
       "    </tr>\n",
       "    <tr>\n",
       "      <th>...</th>\n",
       "      <td>...</td>\n",
       "    </tr>\n",
       "    <tr>\n",
       "      <th>cell_95719</th>\n",
       "      <td>NaN</td>\n",
       "    </tr>\n",
       "    <tr>\n",
       "      <th>cell_95721</th>\n",
       "      <td>NaN</td>\n",
       "    </tr>\n",
       "    <tr>\n",
       "      <th>cell_95722</th>\n",
       "      <td>NaN</td>\n",
       "    </tr>\n",
       "    <tr>\n",
       "      <th>cell_95723</th>\n",
       "      <td>NaN</td>\n",
       "    </tr>\n",
       "    <tr>\n",
       "      <th>cell_95725</th>\n",
       "      <td>NaN</td>\n",
       "    </tr>\n",
       "  </tbody>\n",
       "</table>\n",
       "<p>23235 rows × 1 columns</p>\n",
       "</div>"
      ],
      "text/plain": [
       "            prior_growth_rates\n",
       "cell_30635            1.466585\n",
       "cell_30636            1.394676\n",
       "cell_30638            1.175681\n",
       "cell_30639            1.475032\n",
       "cell_30642            1.838632\n",
       "...                        ...\n",
       "cell_95719                 NaN\n",
       "cell_95721                 NaN\n",
       "cell_95722                 NaN\n",
       "cell_95723                 NaN\n",
       "cell_95725                 NaN\n",
       "\n",
       "[23235 rows x 1 columns]"
      ]
     },
     "execution_count": 53,
     "metadata": {},
     "output_type": "execute_result"
    }
   ],
   "source": [
    "tp.prior_growth_rates"
   ]
  },
  {
   "cell_type": "code",
   "execution_count": null,
   "id": "31682e1f",
   "metadata": {},
   "outputs": [],
   "source": []
  },
  {
   "cell_type": "code",
   "execution_count": null,
   "id": "7ffea8b1",
   "metadata": {},
   "outputs": [],
   "source": []
  },
  {
   "cell_type": "code",
   "execution_count": null,
   "id": "66982f88",
   "metadata": {},
   "outputs": [],
   "source": []
  },
  {
   "cell_type": "code",
   "execution_count": null,
   "id": "0b1d62b5",
   "metadata": {},
   "outputs": [],
   "source": []
  },
  {
   "cell_type": "code",
   "execution_count": null,
   "id": "cc8f090a",
   "metadata": {},
   "outputs": [],
   "source": []
  },
  {
   "cell_type": "code",
   "execution_count": null,
   "id": "81519f55",
   "metadata": {},
   "outputs": [],
   "source": []
  },
  {
   "cell_type": "code",
   "execution_count": 43,
   "id": "d3855ea2",
   "metadata": {},
   "outputs": [],
   "source": [
    "# Only k biggest cell types\n",
    "cts=list(A0.obs.value_counts('cell_type').index)[:5]\n",
    "A0s=A0[A0.obs['cell_type'].isin(cts)].copy()\n",
    "sns.histplot(data=A0s.obs, x='gr', hue='cell_type', bins=np.linspace(0,2,101))"
   ]
  },
  {
   "cell_type": "code",
   "execution_count": 44,
   "id": "dc25e527",
   "metadata": {},
   "outputs": [
    {
     "data": {
      "text/plain": [
       "<Axes: xlabel='gr', ylabel='Count'>"
      ]
     },
     "execution_count": 44,
     "metadata": {},
     "output_type": "execute_result"
    },
    {
     "data": {
      "image/png": "[encoded data removed]",
      "text/plain": [
       "<Figure size 640x480 with 1 Axes>"
      ]
     },
     "metadata": {},
     "output_type": "display_data"
    }
   ],
   "source": [
    "sns.histplot(data=A0s.obs, x='gr', hue='cell_type', bins=np.linspace(0,2,101))"
   ]
  },
  {
   "cell_type": "code",
   "execution_count": null,
   "id": "51e5e71e",
   "metadata": {},
   "outputs": [],
   "source": []
  },
  {
   "cell_type": "code",
   "execution_count": null,
   "id": "a7064425",
   "metadata": {},
   "outputs": [],
   "source": []
  },
  {
   "cell_type": "code",
   "execution_count": 48,
   "id": "1b8763b0",
   "metadata": {},
   "outputs": [],
   "source": [
    "# Only k biggest cell types\n",
    "cts=list(A0.obs.value_counts('cell_type').index)[:8]\n",
    "A0s=A0[A0.obs['cell_type'].isin(cts)].copy()"
   ]
  },
  {
   "cell_type": "code",
   "execution_count": 49,
   "id": "c8e6d3aa",
   "metadata": {},
   "outputs": [
    {
     "data": {
      "text/plain": [
       "<Axes: xlabel='gr', ylabel='Count'>"
      ]
     },
     "execution_count": 49,
     "metadata": {},
     "output_type": "execute_result"
    },
    {
     "data": {
      "image/png": "[encoded data removed]",
      "text/plain": [
       "<Figure size 640x480 with 1 Axes>"
      ]
     },
     "metadata": {},
     "output_type": "display_data"
    }
   ],
   "source": [
    "sns.histplot(data=A0s.obs, x='gr', hue='cell_type', bins=np.linspace(0,2,101))"
   ]
  },
  {
   "cell_type": "code",
   "execution_count": null,
   "id": "79ece0c4",
   "metadata": {},
   "outputs": [],
   "source": []
  },
  {
   "cell_type": "code",
   "execution_count": null,
   "id": "b0ca22f9",
   "metadata": {},
   "outputs": [],
   "source": []
  },
  {
   "cell_type": "code",
   "execution_count": null,
   "id": "85782f97",
   "metadata": {},
   "outputs": [],
   "source": []
  },
  {
   "cell_type": "code",
   "execution_count": null,
   "id": "0902200b",
   "metadata": {},
   "outputs": [],
   "source": []
  },
  {
   "cell_type": "code",
   "execution_count": 47,
   "id": "125e17b7",
   "metadata": {},
   "outputs": [
    {
     "data": {
      "image/png": "[encoded data removed]",
      "text/plain": [
       "<Figure size 640x480 with 1 Axes>"
      ]
     },
     "metadata": {},
     "output_type": "display_data"
    }
   ],
   "source": [
    "g=sns.histplot(data=A0.obs, x='gr', hue='cell_type', bins=np.linspace(0,2,101))\n",
    "sns.move_legend(g,(1,0))"
   ]
  },
  {
   "cell_type": "code",
   "execution_count": null,
   "id": "27961112",
   "metadata": {},
   "outputs": [],
   "source": []
  },
  {
   "cell_type": "code",
   "execution_count": null,
   "id": "e18b142c",
   "metadata": {},
   "outputs": [],
   "source": []
  },
  {
   "cell_type": "code",
   "execution_count": null,
   "id": "eae80053",
   "metadata": {},
   "outputs": [],
   "source": []
  },
  {
   "cell_type": "code",
   "execution_count": null,
   "id": "0a2f64ff",
   "metadata": {},
   "outputs": [],
   "source": []
  },
  {
   "cell_type": "code",
   "execution_count": null,
   "id": "c45c9a7f",
   "metadata": {},
   "outputs": [],
   "source": []
  },
  {
   "cell_type": "code",
   "execution_count": null,
   "id": "e7b64bb2",
   "metadata": {},
   "outputs": [],
   "source": []
  },
  {
   "cell_type": "code",
   "execution_count": null,
   "id": "64ed152f",
   "metadata": {},
   "outputs": [],
   "source": []
  },
  {
   "cell_type": "code",
   "execution_count": null,
   "id": "6277ede8",
   "metadata": {},
   "outputs": [],
   "source": []
  },
  {
   "cell_type": "code",
   "execution_count": null,
   "id": "6a831235",
   "metadata": {},
   "outputs": [],
   "source": []
  },
  {
   "cell_type": "code",
   "execution_count": null,
   "id": "b755b010",
   "metadata": {},
   "outputs": [],
   "source": []
  },
  {
   "cell_type": "code",
   "execution_count": null,
   "id": "e613c675",
   "metadata": {},
   "outputs": [],
   "source": []
  },
  {
   "cell_type": "code",
   "execution_count": null,
   "id": "522cdc88",
   "metadata": {},
   "outputs": [],
   "source": []
  },
  {
   "cell_type": "code",
   "execution_count": 9,
   "id": "a429c9f3",
   "metadata": {
    "scrolled": true
   },
   "outputs": [],
   "source": [
    "adata=tp.adata\n",
    "adata.obs['gr_pr']=tp.prior_growth_rates\n",
    "adata.obs['gr_po']=tp.posterior_growth_rates\n",
    "A0=adata[adata.obs['day']==time_tuple[0]].copy()\n",
    "A0.obs['gr']=gr"
   ]
  },
  {
   "cell_type": "code",
   "execution_count": 10,
   "id": "c73b4955",
   "metadata": {},
   "outputs": [],
   "source": [
    "#ax=sns.histplot(data=A0.obs, x='gr', hue='cell_type', bins=np.linspace(0,5,201))\n",
    "#sns.move_legend(ax,(1,0))"
   ]
  },
  {
   "cell_type": "code",
   "execution_count": 11,
   "id": "d364c1cd",
   "metadata": {},
   "outputs": [],
   "source": [
    "cts=list(set(A0.obs['cell_type']))"
   ]
  },
  {
   "cell_type": "code",
   "execution_count": 12,
   "id": "abebedb0",
   "metadata": {},
   "outputs": [],
   "source": [
    "ns=[]\n",
    "for ct in cts:\n",
    "    ns.append(len(A0[A0.obs['cell_type']==ct]))"
   ]
  },
  {
   "cell_type": "code",
   "execution_count": 13,
   "id": "b1dff1e5",
   "metadata": {},
   "outputs": [],
   "source": [
    "df=pd.DataFrame({'n':ns, 'ct':cts})\n",
    "df=df.sort_values('n', ascending=False)\n",
    "df.index=np.arange(len(df))"
   ]
  },
  {
   "cell_type": "code",
   "execution_count": 14,
   "id": "99185e1c",
   "metadata": {},
   "outputs": [],
   "source": [
    "dfs=df.iloc[:6]"
   ]
  },
  {
   "cell_type": "code",
   "execution_count": 15,
   "id": "e9288be1",
   "metadata": {},
   "outputs": [],
   "source": [
    "As=A0[A0.obs['cell_type'].isin(dfs['ct'])]"
   ]
  },
  {
   "cell_type": "code",
   "execution_count": 16,
   "id": "19b953b1",
   "metadata": {},
   "outputs": [
    {
     "data": {
      "image/png": "[encoded data removed]",
      "text/plain": [
       "<Figure size 640x480 with 1 Axes>"
      ]
     },
     "metadata": {},
     "output_type": "display_data"
    }
   ],
   "source": [
    "ax=sns.histplot(data=As.obs, x='gr', hue='cell_type', bins=np.linspace(0,5,101))\n",
    "sns.move_legend(ax,(1,0))"
   ]
  },
  {
   "cell_type": "code",
   "execution_count": null,
   "id": "6df427ff",
   "metadata": {},
   "outputs": [],
   "source": []
  },
  {
   "cell_type": "code",
   "execution_count": null,
   "id": "e3203bca",
   "metadata": {},
   "outputs": [],
   "source": []
  },
  {
   "cell_type": "code",
   "execution_count": null,
   "id": "491d8414",
   "metadata": {},
   "outputs": [],
   "source": []
  },
  {
   "cell_type": "code",
   "execution_count": null,
   "id": "d7095015",
   "metadata": {},
   "outputs": [],
   "source": []
  },
  {
   "cell_type": "code",
   "execution_count": null,
   "id": "086347e3",
   "metadata": {},
   "outputs": [],
   "source": []
  },
  {
   "cell_type": "code",
   "execution_count": 38,
   "id": "887d4648",
   "metadata": {},
   "outputs": [
    {
     "ename": "ValueError",
     "evalue": "Axes(0.125,0.11;0.775x0.77) has no legend attached.",
     "output_type": "error",
     "traceback": [
      "\u001b[0;31m---------------------------------------------------------------------------\u001b[0m",
      "\u001b[0;31mValueError\u001b[0m                                Traceback (most recent call last)",
      "Cell \u001b[0;32mIn[38], line 2\u001b[0m\n\u001b[1;32m      1\u001b[0m ax\u001b[38;5;241m=\u001b[39msns\u001b[38;5;241m.\u001b[39mhistplot(data\u001b[38;5;241m=\u001b[39mAs\u001b[38;5;241m.\u001b[39mobs, x\u001b[38;5;241m=\u001b[39m\u001b[38;5;124m'\u001b[39m\u001b[38;5;124mgr_pr\u001b[39m\u001b[38;5;124m'\u001b[39m, hue\u001b[38;5;241m=\u001b[39m\u001b[38;5;124m'\u001b[39m\u001b[38;5;124mcell_type\u001b[39m\u001b[38;5;124m'\u001b[39m, bins\u001b[38;5;241m=\u001b[39mnp\u001b[38;5;241m.\u001b[39mlinspace(\u001b[38;5;241m0\u001b[39m,\u001b[38;5;241m3\u001b[39m,\u001b[38;5;241m101\u001b[39m))\n\u001b[0;32m----> 2\u001b[0m \u001b[43msns\u001b[49m\u001b[38;5;241;43m.\u001b[39;49m\u001b[43mmove_legend\u001b[49m\u001b[43m(\u001b[49m\u001b[43max\u001b[49m\u001b[43m,\u001b[49m\u001b[43m(\u001b[49m\u001b[38;5;241;43m1\u001b[39;49m\u001b[43m,\u001b[49m\u001b[38;5;241;43m0\u001b[39;49m\u001b[43m)\u001b[49m\u001b[43m)\u001b[49m\n",
      "File \u001b[0;32m~/miniconda3/envs/mc/lib/python3.10/site-packages/seaborn/utils.py:453\u001b[0m, in \u001b[0;36mmove_legend\u001b[0;34m(obj, loc, **kwargs)\u001b[0m\n\u001b[1;32m    451\u001b[0m \u001b[38;5;28;01mif\u001b[39;00m old_legend \u001b[38;5;129;01mis\u001b[39;00m \u001b[38;5;28;01mNone\u001b[39;00m:\n\u001b[1;32m    452\u001b[0m     err \u001b[38;5;241m=\u001b[39m \u001b[38;5;124mf\u001b[39m\u001b[38;5;124m\"\u001b[39m\u001b[38;5;132;01m{\u001b[39;00mobj\u001b[38;5;132;01m}\u001b[39;00m\u001b[38;5;124m has no legend attached.\u001b[39m\u001b[38;5;124m\"\u001b[39m\n\u001b[0;32m--> 453\u001b[0m     \u001b[38;5;28;01mraise\u001b[39;00m \u001b[38;5;167;01mValueError\u001b[39;00m(err)\n\u001b[1;32m    455\u001b[0m \u001b[38;5;66;03m# Extract the components of the legend we need to reuse\u001b[39;00m\n\u001b[1;32m    456\u001b[0m handles \u001b[38;5;241m=\u001b[39m old_legend\u001b[38;5;241m.\u001b[39mlegendHandles\n",
      "\u001b[0;31mValueError\u001b[0m: Axes(0.125,0.11;0.775x0.77) has no legend attached."
     ]
    },
    {
     "data": {
      "image/png": "[encoded data removed]",
      "text/plain": [
       "<Figure size 640x480 with 1 Axes>"
      ]
     },
     "metadata": {},
     "output_type": "display_data"
    }
   ],
   "source": [
    "ax=sns.histplot(data=As.obs, x='gr_pr', hue='cell_type', bins=np.linspace(0,3,101))\n",
    "sns.move_legend(ax,(1,0))"
   ]
  },
  {
   "cell_type": "code",
   "execution_count": null,
   "id": "1cd1db40",
   "metadata": {},
   "outputs": [],
   "source": []
  },
  {
   "cell_type": "code",
   "execution_count": null,
   "id": "8cb3d491",
   "metadata": {},
   "outputs": [],
   "source": []
  },
  {
   "cell_type": "code",
   "execution_count": null,
   "id": "62780d20",
   "metadata": {},
   "outputs": [],
   "source": []
  },
  {
   "cell_type": "code",
   "execution_count": null,
   "id": "d7412d32",
   "metadata": {},
   "outputs": [],
   "source": []
  },
  {
   "cell_type": "code",
   "execution_count": null,
   "id": "61fa0ef3",
   "metadata": {},
   "outputs": [],
   "source": []
  },
  {
   "cell_type": "code",
   "execution_count": null,
   "id": "74208fa3",
   "metadata": {},
   "outputs": [],
   "source": []
  },
  {
   "cell_type": "code",
   "execution_count": 546,
   "id": "8fb1f107",
   "metadata": {},
   "outputs": [
    {
     "data": {
      "text/plain": [
       "AnnData object with n_obs × n_vars = 16824 × 29452\n",
       "    obs: 'cellID', 'day', 'cell_state', 'cell_type', 'group', 'sample', 'origin', 'proliferation', 'apoptosis', 'gr_pr', 'gr_po'\n",
       "    var: 'features', 'gene_names'\n",
       "    obsm: 'X_pcaS', 'X_umap3'"
      ]
     },
     "execution_count": 546,
     "metadata": {},
     "output_type": "execute_result"
    }
   ],
   "source": [
    "adata"
   ]
  },
  {
   "cell_type": "code",
   "execution_count": null,
   "id": "17a5310d",
   "metadata": {},
   "outputs": [],
   "source": []
  },
  {
   "cell_type": "code",
   "execution_count": null,
   "id": "2c1c5bbc",
   "metadata": {},
   "outputs": [],
   "source": []
  },
  {
   "cell_type": "code",
   "execution_count": null,
   "id": "5b9d4703",
   "metadata": {},
   "outputs": [],
   "source": []
  },
  {
   "cell_type": "code",
   "execution_count": null,
   "id": "02b0be2f",
   "metadata": {},
   "outputs": [],
   "source": []
  },
  {
   "cell_type": "code",
   "execution_count": null,
   "id": "1e9d6666",
   "metadata": {},
   "outputs": [],
   "source": []
  },
  {
   "cell_type": "code",
   "execution_count": 337,
   "id": "da418f2c",
   "metadata": {},
   "outputs": [
    {
     "data": {
      "text/html": [
       "<div>\n",
       "<style scoped>\n",
       "    .dataframe tbody tr th:only-of-type {\n",
       "        vertical-align: middle;\n",
       "    }\n",
       "\n",
       "    .dataframe tbody tr th {\n",
       "        vertical-align: top;\n",
       "    }\n",
       "\n",
       "    .dataframe thead th {\n",
       "        text-align: right;\n",
       "    }\n",
       "</style>\n",
       "<table border=\"1\" class=\"dataframe\">\n",
       "  <thead>\n",
       "    <tr style=\"text-align: right;\">\n",
       "      <th></th>\n",
       "      <th>cellID</th>\n",
       "      <th>day</th>\n",
       "      <th>cell_state</th>\n",
       "      <th>cell_type</th>\n",
       "      <th>group</th>\n",
       "      <th>sample</th>\n",
       "      <th>origin</th>\n",
       "      <th>proliferation</th>\n",
       "      <th>apoptosis</th>\n",
       "      <th>gr_pr</th>\n",
       "      <th>gr_po</th>\n",
       "    </tr>\n",
       "  </thead>\n",
       "  <tbody>\n",
       "    <tr>\n",
       "      <th>cell_30635</th>\n",
       "      <td>cell_30635</td>\n",
       "      <td>8.00</td>\n",
       "      <td>E8:Caudal neuroectoderm</td>\n",
       "      <td>Caudal neuroectoderm</td>\n",
       "      <td>2</td>\n",
       "      <td>cell_30635</td>\n",
       "      <td>Pijuan</td>\n",
       "      <td>0.260485</td>\n",
       "      <td>0.034528</td>\n",
       "      <td>1.539916</td>\n",
       "      <td>3.816089</td>\n",
       "    </tr>\n",
       "    <tr>\n",
       "      <th>cell_30636</th>\n",
       "      <td>cell_30636</td>\n",
       "      <td>8.00</td>\n",
       "      <td>E8:Paraxial mesoderm A</td>\n",
       "      <td>Paraxial mesoderm A</td>\n",
       "      <td>2</td>\n",
       "      <td>cell_30636</td>\n",
       "      <td>Pijuan</td>\n",
       "      <td>0.241697</td>\n",
       "      <td>0.040115</td>\n",
       "      <td>1.422081</td>\n",
       "      <td>2.891842</td>\n",
       "    </tr>\n",
       "    <tr>\n",
       "      <th>cell_30638</th>\n",
       "      <td>cell_30638</td>\n",
       "      <td>8.00</td>\n",
       "      <td>E8:Surface ectoderm</td>\n",
       "      <td>Surface ectoderm</td>\n",
       "      <td>2</td>\n",
       "      <td>cell_30638</td>\n",
       "      <td>Pijuan</td>\n",
       "      <td>0.181482</td>\n",
       "      <td>0.066780</td>\n",
       "      <td>1.037858</td>\n",
       "      <td>3.154767</td>\n",
       "    </tr>\n",
       "    <tr>\n",
       "      <th>cell_30639</th>\n",
       "      <td>cell_30639</td>\n",
       "      <td>8.00</td>\n",
       "      <td>E8:Caudal lateral epiblast</td>\n",
       "      <td>Caudal lateral epiblast</td>\n",
       "      <td>2</td>\n",
       "      <td>cell_30639</td>\n",
       "      <td>Pijuan</td>\n",
       "      <td>0.276569</td>\n",
       "      <td>0.079271</td>\n",
       "      <td>1.242563</td>\n",
       "      <td>2.264359</td>\n",
       "    </tr>\n",
       "    <tr>\n",
       "      <th>cell_30642</th>\n",
       "      <td>cell_30642</td>\n",
       "      <td>8.00</td>\n",
       "      <td>E8:Splanchnic mesoderm</td>\n",
       "      <td>Splanchnic mesoderm</td>\n",
       "      <td>2</td>\n",
       "      <td>cell_30642</td>\n",
       "      <td>Pijuan</td>\n",
       "      <td>0.268484</td>\n",
       "      <td>0.008921</td>\n",
       "      <td>1.744938</td>\n",
       "      <td>3.752757</td>\n",
       "    </tr>\n",
       "    <tr>\n",
       "      <th>...</th>\n",
       "      <td>...</td>\n",
       "      <td>...</td>\n",
       "      <td>...</td>\n",
       "      <td>...</td>\n",
       "      <td>...</td>\n",
       "      <td>...</td>\n",
       "      <td>...</td>\n",
       "      <td>...</td>\n",
       "      <td>...</td>\n",
       "      <td>...</td>\n",
       "      <td>...</td>\n",
       "    </tr>\n",
       "    <tr>\n",
       "      <th>cell_95722</th>\n",
       "      <td>cell_95722</td>\n",
       "      <td>8.25</td>\n",
       "      <td>E8.25:Splanchnic mesoderm</td>\n",
       "      <td>Splanchnic mesoderm</td>\n",
       "      <td>1</td>\n",
       "      <td>cell_95722</td>\n",
       "      <td>Pijuan</td>\n",
       "      <td>0.153689</td>\n",
       "      <td>0.057125</td>\n",
       "      <td>NaN</td>\n",
       "      <td>NaN</td>\n",
       "    </tr>\n",
       "    <tr>\n",
       "      <th>cell_95723</th>\n",
       "      <td>cell_95723</td>\n",
       "      <td>8.25</td>\n",
       "      <td>E8.25:Paraxial mesoderm A</td>\n",
       "      <td>Paraxial mesoderm A</td>\n",
       "      <td>1</td>\n",
       "      <td>cell_95723</td>\n",
       "      <td>Pijuan</td>\n",
       "      <td>0.162054</td>\n",
       "      <td>0.098392</td>\n",
       "      <td>NaN</td>\n",
       "      <td>NaN</td>\n",
       "    </tr>\n",
       "    <tr>\n",
       "      <th>cell_95724</th>\n",
       "      <td>cell_95724</td>\n",
       "      <td>8.25</td>\n",
       "      <td>E8.25:Extraembryonic ectoderm</td>\n",
       "      <td>Extraembryonic ectoderm</td>\n",
       "      <td>1</td>\n",
       "      <td>cell_95724</td>\n",
       "      <td>Pijuan</td>\n",
       "      <td>0.251958</td>\n",
       "      <td>0.071817</td>\n",
       "      <td>NaN</td>\n",
       "      <td>NaN</td>\n",
       "    </tr>\n",
       "    <tr>\n",
       "      <th>cell_95725</th>\n",
       "      <td>cell_95725</td>\n",
       "      <td>8.25</td>\n",
       "      <td>E8.25:Splanchnic mesoderm</td>\n",
       "      <td>Splanchnic mesoderm</td>\n",
       "      <td>1</td>\n",
       "      <td>cell_95725</td>\n",
       "      <td>Pijuan</td>\n",
       "      <td>0.182309</td>\n",
       "      <td>0.051910</td>\n",
       "      <td>NaN</td>\n",
       "      <td>NaN</td>\n",
       "    </tr>\n",
       "    <tr>\n",
       "      <th>cell_95726</th>\n",
       "      <td>cell_95726</td>\n",
       "      <td>8.25</td>\n",
       "      <td>E8.25:Primitive erythroid cells</td>\n",
       "      <td>Primitive erythroid cells</td>\n",
       "      <td>1</td>\n",
       "      <td>cell_95726</td>\n",
       "      <td>Pijuan</td>\n",
       "      <td>0.161420</td>\n",
       "      <td>0.058788</td>\n",
       "      <td>NaN</td>\n",
       "      <td>NaN</td>\n",
       "    </tr>\n",
       "  </tbody>\n",
       "</table>\n",
       "<p>32616 rows × 11 columns</p>\n",
       "</div>"
      ],
      "text/plain": [
       "                cellID   day                       cell_state   \n",
       "cell_30635  cell_30635  8.00          E8:Caudal neuroectoderm  \\\n",
       "cell_30636  cell_30636  8.00           E8:Paraxial mesoderm A   \n",
       "cell_30638  cell_30638  8.00              E8:Surface ectoderm   \n",
       "cell_30639  cell_30639  8.00       E8:Caudal lateral epiblast   \n",
       "cell_30642  cell_30642  8.00           E8:Splanchnic mesoderm   \n",
       "...                ...   ...                              ...   \n",
       "cell_95722  cell_95722  8.25        E8.25:Splanchnic mesoderm   \n",
       "cell_95723  cell_95723  8.25        E8.25:Paraxial mesoderm A   \n",
       "cell_95724  cell_95724  8.25    E8.25:Extraembryonic ectoderm   \n",
       "cell_95725  cell_95725  8.25        E8.25:Splanchnic mesoderm   \n",
       "cell_95726  cell_95726  8.25  E8.25:Primitive erythroid cells   \n",
       "\n",
       "                            cell_type  group      sample  origin   \n",
       "cell_30635       Caudal neuroectoderm      2  cell_30635  Pijuan  \\\n",
       "cell_30636        Paraxial mesoderm A      2  cell_30636  Pijuan   \n",
       "cell_30638           Surface ectoderm      2  cell_30638  Pijuan   \n",
       "cell_30639    Caudal lateral epiblast      2  cell_30639  Pijuan   \n",
       "cell_30642        Splanchnic mesoderm      2  cell_30642  Pijuan   \n",
       "...                               ...    ...         ...     ...   \n",
       "cell_95722        Splanchnic mesoderm      1  cell_95722  Pijuan   \n",
       "cell_95723        Paraxial mesoderm A      1  cell_95723  Pijuan   \n",
       "cell_95724    Extraembryonic ectoderm      1  cell_95724  Pijuan   \n",
       "cell_95725        Splanchnic mesoderm      1  cell_95725  Pijuan   \n",
       "cell_95726  Primitive erythroid cells      1  cell_95726  Pijuan   \n",
       "\n",
       "            proliferation  apoptosis     gr_pr     gr_po  \n",
       "cell_30635       0.260485   0.034528  1.539916  3.816089  \n",
       "cell_30636       0.241697   0.040115  1.422081  2.891842  \n",
       "cell_30638       0.181482   0.066780  1.037858  3.154767  \n",
       "cell_30639       0.276569   0.079271  1.242563  2.264359  \n",
       "cell_30642       0.268484   0.008921  1.744938  3.752757  \n",
       "...                   ...        ...       ...       ...  \n",
       "cell_95722       0.153689   0.057125       NaN       NaN  \n",
       "cell_95723       0.162054   0.098392       NaN       NaN  \n",
       "cell_95724       0.251958   0.071817       NaN       NaN  \n",
       "cell_95725       0.182309   0.051910       NaN       NaN  \n",
       "cell_95726       0.161420   0.058788       NaN       NaN  \n",
       "\n",
       "[32616 rows x 11 columns]"
      ]
     },
     "execution_count": 337,
     "metadata": {},
     "output_type": "execute_result"
    }
   ],
   "source": [
    "adata.obs"
   ]
  },
  {
   "cell_type": "code",
   "execution_count": null,
   "id": "2e6b625a",
   "metadata": {},
   "outputs": [],
   "source": []
  },
  {
   "cell_type": "code",
   "execution_count": null,
   "id": "7c09cd73",
   "metadata": {},
   "outputs": [],
   "source": []
  },
  {
   "cell_type": "code",
   "execution_count": null,
   "id": "a892de10",
   "metadata": {},
   "outputs": [],
   "source": []
  },
  {
   "cell_type": "code",
   "execution_count": 245,
   "id": "54260101",
   "metadata": {},
   "outputs": [
    {
     "data": {
      "image/png": "[encoded data removed]",
      "text/plain": [
       "<Figure size 640x480 with 1 Axes>"
      ]
     },
     "metadata": {},
     "output_type": "display_data"
    }
   ],
   "source": [
    "ax=sns.histplot(data=As.obs, x='gr_pr', hue='cell_type', bins=np.linspace(0,3,101))\n",
    "sns.move_legend(ax,(1,0))"
   ]
  },
  {
   "cell_type": "code",
   "execution_count": null,
   "id": "b73558d9",
   "metadata": {},
   "outputs": [],
   "source": []
  },
  {
   "cell_type": "code",
   "execution_count": 230,
   "id": "c6f01081",
   "metadata": {},
   "outputs": [
    {
     "data": {
      "text/html": [
       "<div>\n",
       "<style scoped>\n",
       "    .dataframe tbody tr th:only-of-type {\n",
       "        vertical-align: middle;\n",
       "    }\n",
       "\n",
       "    .dataframe tbody tr th {\n",
       "        vertical-align: top;\n",
       "    }\n",
       "\n",
       "    .dataframe thead th {\n",
       "        text-align: right;\n",
       "    }\n",
       "</style>\n",
       "<table border=\"1\" class=\"dataframe\">\n",
       "  <thead>\n",
       "    <tr style=\"text-align: right;\">\n",
       "      <th></th>\n",
       "      <th>prior_growth_rates</th>\n",
       "    </tr>\n",
       "  </thead>\n",
       "  <tbody>\n",
       "    <tr>\n",
       "      <th>cell_30635</th>\n",
       "      <td>1.539916</td>\n",
       "    </tr>\n",
       "    <tr>\n",
       "      <th>cell_30636</th>\n",
       "      <td>1.422081</td>\n",
       "    </tr>\n",
       "    <tr>\n",
       "      <th>cell_30638</th>\n",
       "      <td>1.037858</td>\n",
       "    </tr>\n",
       "    <tr>\n",
       "      <th>cell_30639</th>\n",
       "      <td>1.242563</td>\n",
       "    </tr>\n",
       "    <tr>\n",
       "      <th>cell_30642</th>\n",
       "      <td>1.744938</td>\n",
       "    </tr>\n",
       "    <tr>\n",
       "      <th>...</th>\n",
       "      <td>...</td>\n",
       "    </tr>\n",
       "    <tr>\n",
       "      <th>cell_95722</th>\n",
       "      <td>NaN</td>\n",
       "    </tr>\n",
       "    <tr>\n",
       "      <th>cell_95723</th>\n",
       "      <td>NaN</td>\n",
       "    </tr>\n",
       "    <tr>\n",
       "      <th>cell_95724</th>\n",
       "      <td>NaN</td>\n",
       "    </tr>\n",
       "    <tr>\n",
       "      <th>cell_95725</th>\n",
       "      <td>NaN</td>\n",
       "    </tr>\n",
       "    <tr>\n",
       "      <th>cell_95726</th>\n",
       "      <td>NaN</td>\n",
       "    </tr>\n",
       "  </tbody>\n",
       "</table>\n",
       "<p>32616 rows × 1 columns</p>\n",
       "</div>"
      ],
      "text/plain": [
       "            prior_growth_rates\n",
       "cell_30635            1.539916\n",
       "cell_30636            1.422081\n",
       "cell_30638            1.037858\n",
       "cell_30639            1.242563\n",
       "cell_30642            1.744938\n",
       "...                        ...\n",
       "cell_95722                 NaN\n",
       "cell_95723                 NaN\n",
       "cell_95724                 NaN\n",
       "cell_95725                 NaN\n",
       "cell_95726                 NaN\n",
       "\n",
       "[32616 rows x 1 columns]"
      ]
     },
     "execution_count": 230,
     "metadata": {},
     "output_type": "execute_result"
    }
   ],
   "source": [
    "tp.prior_growth_rates"
   ]
  },
  {
   "cell_type": "code",
   "execution_count": 246,
   "id": "2e6190bd",
   "metadata": {},
   "outputs": [
    {
     "data": {
      "text/html": [
       "<div>\n",
       "<style scoped>\n",
       "    .dataframe tbody tr th:only-of-type {\n",
       "        vertical-align: middle;\n",
       "    }\n",
       "\n",
       "    .dataframe tbody tr th {\n",
       "        vertical-align: top;\n",
       "    }\n",
       "\n",
       "    .dataframe thead th {\n",
       "        text-align: right;\n",
       "    }\n",
       "</style>\n",
       "<table border=\"1\" class=\"dataframe\">\n",
       "  <thead>\n",
       "    <tr style=\"text-align: right;\">\n",
       "      <th></th>\n",
       "      <th>prior_growth_rates</th>\n",
       "    </tr>\n",
       "  </thead>\n",
       "  <tbody>\n",
       "    <tr>\n",
       "      <th>cell_30635</th>\n",
       "      <td>1.539916</td>\n",
       "    </tr>\n",
       "    <tr>\n",
       "      <th>cell_30636</th>\n",
       "      <td>1.422081</td>\n",
       "    </tr>\n",
       "    <tr>\n",
       "      <th>cell_30638</th>\n",
       "      <td>1.037858</td>\n",
       "    </tr>\n",
       "    <tr>\n",
       "      <th>cell_30639</th>\n",
       "      <td>1.242563</td>\n",
       "    </tr>\n",
       "    <tr>\n",
       "      <th>cell_30642</th>\n",
       "      <td>1.744938</td>\n",
       "    </tr>\n",
       "    <tr>\n",
       "      <th>...</th>\n",
       "      <td>...</td>\n",
       "    </tr>\n",
       "    <tr>\n",
       "      <th>cell_95722</th>\n",
       "      <td>NaN</td>\n",
       "    </tr>\n",
       "    <tr>\n",
       "      <th>cell_95723</th>\n",
       "      <td>NaN</td>\n",
       "    </tr>\n",
       "    <tr>\n",
       "      <th>cell_95724</th>\n",
       "      <td>NaN</td>\n",
       "    </tr>\n",
       "    <tr>\n",
       "      <th>cell_95725</th>\n",
       "      <td>NaN</td>\n",
       "    </tr>\n",
       "    <tr>\n",
       "      <th>cell_95726</th>\n",
       "      <td>NaN</td>\n",
       "    </tr>\n",
       "  </tbody>\n",
       "</table>\n",
       "<p>32616 rows × 1 columns</p>\n",
       "</div>"
      ],
      "text/plain": [
       "            prior_growth_rates\n",
       "cell_30635            1.539916\n",
       "cell_30636            1.422081\n",
       "cell_30638            1.037858\n",
       "cell_30639            1.242563\n",
       "cell_30642            1.744938\n",
       "...                        ...\n",
       "cell_95722                 NaN\n",
       "cell_95723                 NaN\n",
       "cell_95724                 NaN\n",
       "cell_95725                 NaN\n",
       "cell_95726                 NaN\n",
       "\n",
       "[32616 rows x 1 columns]"
      ]
     },
     "execution_count": 246,
     "metadata": {},
     "output_type": "execute_result"
    }
   ],
   "source": [
    "tp.prior_growth_rates"
   ]
  },
  {
   "cell_type": "code",
   "execution_count": null,
   "id": "d6fc151e",
   "metadata": {},
   "outputs": [],
   "source": []
  },
  {
   "cell_type": "code",
   "execution_count": 232,
   "id": "afdce83a",
   "metadata": {},
   "outputs": [
    {
     "data": {
      "text/html": [
       "<div>\n",
       "<style scoped>\n",
       "    .dataframe tbody tr th:only-of-type {\n",
       "        vertical-align: middle;\n",
       "    }\n",
       "\n",
       "    .dataframe tbody tr th {\n",
       "        vertical-align: top;\n",
       "    }\n",
       "\n",
       "    .dataframe thead th {\n",
       "        text-align: right;\n",
       "    }\n",
       "</style>\n",
       "<table border=\"1\" class=\"dataframe\">\n",
       "  <thead>\n",
       "    <tr style=\"text-align: right;\">\n",
       "      <th></th>\n",
       "      <th>cellID</th>\n",
       "      <th>day</th>\n",
       "      <th>cell_state</th>\n",
       "      <th>cell_type</th>\n",
       "      <th>group</th>\n",
       "      <th>sample</th>\n",
       "      <th>origin</th>\n",
       "      <th>proliferation</th>\n",
       "      <th>apoptosis</th>\n",
       "      <th>gr_pr</th>\n",
       "      <th>gr_po</th>\n",
       "    </tr>\n",
       "  </thead>\n",
       "  <tbody>\n",
       "    <tr>\n",
       "      <th>cell_30635</th>\n",
       "      <td>cell_30635</td>\n",
       "      <td>8.00</td>\n",
       "      <td>E8:Caudal neuroectoderm</td>\n",
       "      <td>Caudal neuroectoderm</td>\n",
       "      <td>2</td>\n",
       "      <td>cell_30635</td>\n",
       "      <td>Pijuan</td>\n",
       "      <td>0.260485</td>\n",
       "      <td>0.034528</td>\n",
       "      <td>1.539916</td>\n",
       "      <td>1.898174</td>\n",
       "    </tr>\n",
       "    <tr>\n",
       "      <th>cell_30636</th>\n",
       "      <td>cell_30636</td>\n",
       "      <td>8.00</td>\n",
       "      <td>E8:Paraxial mesoderm A</td>\n",
       "      <td>Paraxial mesoderm A</td>\n",
       "      <td>2</td>\n",
       "      <td>cell_30636</td>\n",
       "      <td>Pijuan</td>\n",
       "      <td>0.241697</td>\n",
       "      <td>0.040115</td>\n",
       "      <td>1.422081</td>\n",
       "      <td>1.813372</td>\n",
       "    </tr>\n",
       "    <tr>\n",
       "      <th>cell_30638</th>\n",
       "      <td>cell_30638</td>\n",
       "      <td>8.00</td>\n",
       "      <td>E8:Surface ectoderm</td>\n",
       "      <td>Surface ectoderm</td>\n",
       "      <td>2</td>\n",
       "      <td>cell_30638</td>\n",
       "      <td>Pijuan</td>\n",
       "      <td>0.181482</td>\n",
       "      <td>0.066780</td>\n",
       "      <td>1.037858</td>\n",
       "      <td>1.246302</td>\n",
       "    </tr>\n",
       "    <tr>\n",
       "      <th>cell_30639</th>\n",
       "      <td>cell_30639</td>\n",
       "      <td>8.00</td>\n",
       "      <td>E8:Caudal lateral epiblast</td>\n",
       "      <td>Caudal lateral epiblast</td>\n",
       "      <td>2</td>\n",
       "      <td>cell_30639</td>\n",
       "      <td>Pijuan</td>\n",
       "      <td>0.276569</td>\n",
       "      <td>0.079271</td>\n",
       "      <td>1.242563</td>\n",
       "      <td>1.503402</td>\n",
       "    </tr>\n",
       "    <tr>\n",
       "      <th>cell_30642</th>\n",
       "      <td>cell_30642</td>\n",
       "      <td>8.00</td>\n",
       "      <td>E8:Splanchnic mesoderm</td>\n",
       "      <td>Splanchnic mesoderm</td>\n",
       "      <td>2</td>\n",
       "      <td>cell_30642</td>\n",
       "      <td>Pijuan</td>\n",
       "      <td>0.268484</td>\n",
       "      <td>0.008921</td>\n",
       "      <td>1.744938</td>\n",
       "      <td>2.257906</td>\n",
       "    </tr>\n",
       "    <tr>\n",
       "      <th>...</th>\n",
       "      <td>...</td>\n",
       "      <td>...</td>\n",
       "      <td>...</td>\n",
       "      <td>...</td>\n",
       "      <td>...</td>\n",
       "      <td>...</td>\n",
       "      <td>...</td>\n",
       "      <td>...</td>\n",
       "      <td>...</td>\n",
       "      <td>...</td>\n",
       "      <td>...</td>\n",
       "    </tr>\n",
       "    <tr>\n",
       "      <th>cell_95722</th>\n",
       "      <td>cell_95722</td>\n",
       "      <td>8.25</td>\n",
       "      <td>E8.25:Splanchnic mesoderm</td>\n",
       "      <td>Splanchnic mesoderm</td>\n",
       "      <td>1</td>\n",
       "      <td>cell_95722</td>\n",
       "      <td>Pijuan</td>\n",
       "      <td>0.153689</td>\n",
       "      <td>0.057125</td>\n",
       "      <td>NaN</td>\n",
       "      <td>NaN</td>\n",
       "    </tr>\n",
       "    <tr>\n",
       "      <th>cell_95723</th>\n",
       "      <td>cell_95723</td>\n",
       "      <td>8.25</td>\n",
       "      <td>E8.25:Paraxial mesoderm A</td>\n",
       "      <td>Paraxial mesoderm A</td>\n",
       "      <td>1</td>\n",
       "      <td>cell_95723</td>\n",
       "      <td>Pijuan</td>\n",
       "      <td>0.162054</td>\n",
       "      <td>0.098392</td>\n",
       "      <td>NaN</td>\n",
       "      <td>NaN</td>\n",
       "    </tr>\n",
       "    <tr>\n",
       "      <th>cell_95724</th>\n",
       "      <td>cell_95724</td>\n",
       "      <td>8.25</td>\n",
       "      <td>E8.25:Extraembryonic ectoderm</td>\n",
       "      <td>Extraembryonic ectoderm</td>\n",
       "      <td>1</td>\n",
       "      <td>cell_95724</td>\n",
       "      <td>Pijuan</td>\n",
       "      <td>0.251958</td>\n",
       "      <td>0.071817</td>\n",
       "      <td>NaN</td>\n",
       "      <td>NaN</td>\n",
       "    </tr>\n",
       "    <tr>\n",
       "      <th>cell_95725</th>\n",
       "      <td>cell_95725</td>\n",
       "      <td>8.25</td>\n",
       "      <td>E8.25:Splanchnic mesoderm</td>\n",
       "      <td>Splanchnic mesoderm</td>\n",
       "      <td>1</td>\n",
       "      <td>cell_95725</td>\n",
       "      <td>Pijuan</td>\n",
       "      <td>0.182309</td>\n",
       "      <td>0.051910</td>\n",
       "      <td>NaN</td>\n",
       "      <td>NaN</td>\n",
       "    </tr>\n",
       "    <tr>\n",
       "      <th>cell_95726</th>\n",
       "      <td>cell_95726</td>\n",
       "      <td>8.25</td>\n",
       "      <td>E8.25:Primitive erythroid cells</td>\n",
       "      <td>Primitive erythroid cells</td>\n",
       "      <td>1</td>\n",
       "      <td>cell_95726</td>\n",
       "      <td>Pijuan</td>\n",
       "      <td>0.161420</td>\n",
       "      <td>0.058788</td>\n",
       "      <td>NaN</td>\n",
       "      <td>NaN</td>\n",
       "    </tr>\n",
       "  </tbody>\n",
       "</table>\n",
       "<p>32616 rows × 11 columns</p>\n",
       "</div>"
      ],
      "text/plain": [
       "                cellID   day                       cell_state   \n",
       "cell_30635  cell_30635  8.00          E8:Caudal neuroectoderm  \\\n",
       "cell_30636  cell_30636  8.00           E8:Paraxial mesoderm A   \n",
       "cell_30638  cell_30638  8.00              E8:Surface ectoderm   \n",
       "cell_30639  cell_30639  8.00       E8:Caudal lateral epiblast   \n",
       "cell_30642  cell_30642  8.00           E8:Splanchnic mesoderm   \n",
       "...                ...   ...                              ...   \n",
       "cell_95722  cell_95722  8.25        E8.25:Splanchnic mesoderm   \n",
       "cell_95723  cell_95723  8.25        E8.25:Paraxial mesoderm A   \n",
       "cell_95724  cell_95724  8.25    E8.25:Extraembryonic ectoderm   \n",
       "cell_95725  cell_95725  8.25        E8.25:Splanchnic mesoderm   \n",
       "cell_95726  cell_95726  8.25  E8.25:Primitive erythroid cells   \n",
       "\n",
       "                            cell_type  group      sample  origin   \n",
       "cell_30635       Caudal neuroectoderm      2  cell_30635  Pijuan  \\\n",
       "cell_30636        Paraxial mesoderm A      2  cell_30636  Pijuan   \n",
       "cell_30638           Surface ectoderm      2  cell_30638  Pijuan   \n",
       "cell_30639    Caudal lateral epiblast      2  cell_30639  Pijuan   \n",
       "cell_30642        Splanchnic mesoderm      2  cell_30642  Pijuan   \n",
       "...                               ...    ...         ...     ...   \n",
       "cell_95722        Splanchnic mesoderm      1  cell_95722  Pijuan   \n",
       "cell_95723        Paraxial mesoderm A      1  cell_95723  Pijuan   \n",
       "cell_95724    Extraembryonic ectoderm      1  cell_95724  Pijuan   \n",
       "cell_95725        Splanchnic mesoderm      1  cell_95725  Pijuan   \n",
       "cell_95726  Primitive erythroid cells      1  cell_95726  Pijuan   \n",
       "\n",
       "            proliferation  apoptosis     gr_pr     gr_po  \n",
       "cell_30635       0.260485   0.034528  1.539916  1.898174  \n",
       "cell_30636       0.241697   0.040115  1.422081  1.813372  \n",
       "cell_30638       0.181482   0.066780  1.037858  1.246302  \n",
       "cell_30639       0.276569   0.079271  1.242563  1.503402  \n",
       "cell_30642       0.268484   0.008921  1.744938  2.257906  \n",
       "...                   ...        ...       ...       ...  \n",
       "cell_95722       0.153689   0.057125       NaN       NaN  \n",
       "cell_95723       0.162054   0.098392       NaN       NaN  \n",
       "cell_95724       0.251958   0.071817       NaN       NaN  \n",
       "cell_95725       0.182309   0.051910       NaN       NaN  \n",
       "cell_95726       0.161420   0.058788       NaN       NaN  \n",
       "\n",
       "[32616 rows x 11 columns]"
      ]
     },
     "execution_count": 232,
     "metadata": {},
     "output_type": "execute_result"
    }
   ],
   "source": [
    "adata.obs"
   ]
  },
  {
   "cell_type": "code",
   "execution_count": null,
   "id": "e978a3db",
   "metadata": {},
   "outputs": [],
   "source": []
  },
  {
   "cell_type": "code",
   "execution_count": 199,
   "id": "9e517ca9",
   "metadata": {
    "scrolled": false
   },
   "outputs": [
    {
     "data": {
      "text/html": [
       "<div>\n",
       "<style scoped>\n",
       "    .dataframe tbody tr th:only-of-type {\n",
       "        vertical-align: middle;\n",
       "    }\n",
       "\n",
       "    .dataframe tbody tr th {\n",
       "        vertical-align: top;\n",
       "    }\n",
       "\n",
       "    .dataframe thead th {\n",
       "        text-align: right;\n",
       "    }\n",
       "</style>\n",
       "<table border=\"1\" class=\"dataframe\">\n",
       "  <thead>\n",
       "    <tr style=\"text-align: right;\">\n",
       "      <th></th>\n",
       "      <th>prior_growth_rates</th>\n",
       "    </tr>\n",
       "  </thead>\n",
       "  <tbody>\n",
       "    <tr>\n",
       "      <th>cell_30635</th>\n",
       "      <td>1.539916</td>\n",
       "    </tr>\n",
       "    <tr>\n",
       "      <th>cell_30636</th>\n",
       "      <td>1.422081</td>\n",
       "    </tr>\n",
       "    <tr>\n",
       "      <th>cell_30638</th>\n",
       "      <td>1.037858</td>\n",
       "    </tr>\n",
       "    <tr>\n",
       "      <th>cell_30639</th>\n",
       "      <td>1.242563</td>\n",
       "    </tr>\n",
       "    <tr>\n",
       "      <th>cell_30642</th>\n",
       "      <td>1.744938</td>\n",
       "    </tr>\n",
       "    <tr>\n",
       "      <th>...</th>\n",
       "      <td>...</td>\n",
       "    </tr>\n",
       "    <tr>\n",
       "      <th>cell_95722</th>\n",
       "      <td>NaN</td>\n",
       "    </tr>\n",
       "    <tr>\n",
       "      <th>cell_95723</th>\n",
       "      <td>NaN</td>\n",
       "    </tr>\n",
       "    <tr>\n",
       "      <th>cell_95724</th>\n",
       "      <td>NaN</td>\n",
       "    </tr>\n",
       "    <tr>\n",
       "      <th>cell_95725</th>\n",
       "      <td>NaN</td>\n",
       "    </tr>\n",
       "    <tr>\n",
       "      <th>cell_95726</th>\n",
       "      <td>NaN</td>\n",
       "    </tr>\n",
       "  </tbody>\n",
       "</table>\n",
       "<p>32616 rows × 1 columns</p>\n",
       "</div>"
      ],
      "text/plain": [
       "            prior_growth_rates\n",
       "cell_30635            1.539916\n",
       "cell_30636            1.422081\n",
       "cell_30638            1.037858\n",
       "cell_30639            1.242563\n",
       "cell_30642            1.744938\n",
       "...                        ...\n",
       "cell_95722                 NaN\n",
       "cell_95723                 NaN\n",
       "cell_95724                 NaN\n",
       "cell_95725                 NaN\n",
       "cell_95726                 NaN\n",
       "\n",
       "[32616 rows x 1 columns]"
      ]
     },
     "execution_count": 199,
     "metadata": {},
     "output_type": "execute_result"
    }
   ],
   "source": [
    "tp.prior_growth_rates"
   ]
  },
  {
   "cell_type": "code",
   "execution_count": null,
   "id": "7068c6d7",
   "metadata": {},
   "outputs": [],
   "source": [
    "**(time_tuple[1]-time_tuple[0])"
   ]
  },
  {
   "cell_type": "code",
   "execution_count": 200,
   "id": "aac5dd1a",
   "metadata": {},
   "outputs": [
    {
     "data": {
      "text/plain": [
       "0.25"
      ]
     },
     "execution_count": 200,
     "metadata": {},
     "output_type": "execute_result"
    }
   ],
   "source": [
    "time_tuple[1]-time_tuple[0]"
   ]
  },
  {
   "cell_type": "code",
   "execution_count": null,
   "id": "2bbf23a9",
   "metadata": {},
   "outputs": [],
   "source": []
  },
  {
   "cell_type": "code",
   "execution_count": null,
   "id": "223d26f7",
   "metadata": {},
   "outputs": [],
   "source": []
  },
  {
   "cell_type": "code",
   "execution_count": null,
   "id": "2a7c7b6d",
   "metadata": {},
   "outputs": [],
   "source": []
  },
  {
   "cell_type": "code",
   "execution_count": null,
   "id": "d348404a",
   "metadata": {},
   "outputs": [],
   "source": []
  },
  {
   "cell_type": "code",
   "execution_count": null,
   "id": "65153afb",
   "metadata": {},
   "outputs": [],
   "source": []
  },
  {
   "cell_type": "code",
   "execution_count": null,
   "id": "9412838a",
   "metadata": {},
   "outputs": [],
   "source": []
  },
  {
   "cell_type": "code",
   "execution_count": 182,
   "id": "007ff6b9",
   "metadata": {},
   "outputs": [
    {
     "data": {
      "text/html": [
       "<div>\n",
       "<style scoped>\n",
       "    .dataframe tbody tr th:only-of-type {\n",
       "        vertical-align: middle;\n",
       "    }\n",
       "\n",
       "    .dataframe tbody tr th {\n",
       "        vertical-align: top;\n",
       "    }\n",
       "\n",
       "    .dataframe thead th {\n",
       "        text-align: right;\n",
       "    }\n",
       "</style>\n",
       "<table border=\"1\" class=\"dataframe\">\n",
       "  <thead>\n",
       "    <tr style=\"text-align: right;\">\n",
       "      <th></th>\n",
       "      <th>posterior_growth_rates</th>\n",
       "    </tr>\n",
       "  </thead>\n",
       "  <tbody>\n",
       "    <tr>\n",
       "      <th>cell_30635</th>\n",
       "      <td>4.312301</td>\n",
       "    </tr>\n",
       "    <tr>\n",
       "      <th>cell_30636</th>\n",
       "      <td>3.210051</td>\n",
       "    </tr>\n",
       "    <tr>\n",
       "      <th>cell_30638</th>\n",
       "      <td>4.288957</td>\n",
       "    </tr>\n",
       "    <tr>\n",
       "      <th>cell_30639</th>\n",
       "      <td>2.216922</td>\n",
       "    </tr>\n",
       "    <tr>\n",
       "      <th>cell_30642</th>\n",
       "      <td>4.081030</td>\n",
       "    </tr>\n",
       "    <tr>\n",
       "      <th>...</th>\n",
       "      <td>...</td>\n",
       "    </tr>\n",
       "    <tr>\n",
       "      <th>cell_95722</th>\n",
       "      <td>NaN</td>\n",
       "    </tr>\n",
       "    <tr>\n",
       "      <th>cell_95723</th>\n",
       "      <td>NaN</td>\n",
       "    </tr>\n",
       "    <tr>\n",
       "      <th>cell_95724</th>\n",
       "      <td>NaN</td>\n",
       "    </tr>\n",
       "    <tr>\n",
       "      <th>cell_95725</th>\n",
       "      <td>NaN</td>\n",
       "    </tr>\n",
       "    <tr>\n",
       "      <th>cell_95726</th>\n",
       "      <td>NaN</td>\n",
       "    </tr>\n",
       "  </tbody>\n",
       "</table>\n",
       "<p>32616 rows × 1 columns</p>\n",
       "</div>"
      ],
      "text/plain": [
       "            posterior_growth_rates\n",
       "cell_30635                4.312301\n",
       "cell_30636                3.210051\n",
       "cell_30638                4.288957\n",
       "cell_30639                2.216922\n",
       "cell_30642                4.081030\n",
       "...                            ...\n",
       "cell_95722                     NaN\n",
       "cell_95723                     NaN\n",
       "cell_95724                     NaN\n",
       "cell_95725                     NaN\n",
       "cell_95726                     NaN\n",
       "\n",
       "[32616 rows x 1 columns]"
      ]
     },
     "execution_count": 182,
     "metadata": {},
     "output_type": "execute_result"
    }
   ],
   "source": [
    "tp.posterior_growth_rates"
   ]
  },
  {
   "cell_type": "code",
   "execution_count": null,
   "id": "043813ee",
   "metadata": {},
   "outputs": [],
   "source": []
  },
  {
   "cell_type": "code",
   "execution_count": null,
   "id": "e861580e",
   "metadata": {},
   "outputs": [],
   "source": []
  },
  {
   "cell_type": "code",
   "execution_count": null,
   "id": "37ffff50",
   "metadata": {},
   "outputs": [],
   "source": []
  },
  {
   "cell_type": "code",
   "execution_count": null,
   "id": "39da0974",
   "metadata": {},
   "outputs": [],
   "source": []
  },
  {
   "cell_type": "code",
   "execution_count": null,
   "id": "5a80e789",
   "metadata": {},
   "outputs": [],
   "source": []
  },
  {
   "cell_type": "code",
   "execution_count": null,
   "id": "e971fcc0",
   "metadata": {},
   "outputs": [],
   "source": []
  },
  {
   "cell_type": "code",
   "execution_count": null,
   "id": "1ffd0253",
   "metadata": {},
   "outputs": [],
   "source": [
    "epsilon=0.005\n",
    "ap_min=0.02\n",
    "ap_max=0.04\n",
    "\n",
    "for i in range(19):\n",
    "    ts0=ts[i]\n",
    "    ts1=ts[i+1]\n",
    "    print(ts0)\n",
    "    \n",
    "    tp=tp.load(f'{Path}/moscot_maps/{ts0}_{epsilon}_{ap_min}_{ap_max}_TemporalProblem.pkl')\n",
    "    time_tuple=list(tp.solutions.keys())[0]\n",
    "    gr=tp[time_tuple].solution.a\n",
    "    gr=gr/gr.mean()*Cell_number_dict[ts1]/Cell_number_dict[ts0]\n",
    "    np.save(f'{Path}/moscot_maps/{ts0}_growth_rates.npy', gr)"
   ]
  },
  {
   "cell_type": "code",
   "execution_count": null,
   "id": "5290de7e",
   "metadata": {},
   "outputs": [],
   "source": []
  },
  {
   "cell_type": "code",
   "execution_count": null,
   "id": "d8b72e28",
   "metadata": {},
   "outputs": [],
   "source": []
  },
  {
   "cell_type": "code",
   "execution_count": null,
   "id": "dd096ef3",
   "metadata": {},
   "outputs": [],
   "source": []
  }
 ],
 "metadata": {
  "kernelspec": {
   "display_name": "mc",
   "language": "python",
   "name": "mc"
  },
  "language_info": {
   "codemirror_mode": {
    "name": "ipython",
    "version": 3
   },
   "file_extension": ".py",
   "mimetype": "text/x-python",
   "name": "python",
   "nbconvert_exporter": "python",
   "pygments_lexer": "ipython3",
   "version": "3.10.9"
  }
 },
 "nbformat": 4,
 "nbformat_minor": 5
}
