{
 "cells": [
  {
   "cell_type": "code",
   "execution_count": 1,
   "id": "eea495f6",
   "metadata": {},
   "outputs": [
    {
     "name": "stderr",
     "output_type": "stream",
     "text": [
      "/home/mgander/miniconda3/envs/mc/lib/python3.10/site-packages/flax/struct.py:132: FutureWarning: jax.tree_util.register_keypaths is deprecated, and will be removed in a future release. Please use `register_pytree_with_keys()` instead.\n",
      "  jax.tree_util.register_keypaths(data_clz, keypaths)\n",
      "/home/mgander/miniconda3/envs/mc/lib/python3.10/site-packages/flax/struct.py:132: FutureWarning: jax.tree_util.register_keypaths is deprecated, and will be removed in a future release. Please use `register_pytree_with_keys()` instead.\n",
      "  jax.tree_util.register_keypaths(data_clz, keypaths)\n",
      "No GPU/TPU found, falling back to CPU. (Set TF_CPP_MIN_LOG_LEVEL=0 and rerun for more info.)\n"
     ]
    }
   ],
   "source": [
    "import numpy as np\n",
    "import anndata\n",
    "import pandas as pd\n",
    "import scanpy as sc\n",
    "import scipy\n",
    "\n",
    "from moscot.problems.time._lineage import TemporalProblem"
   ]
  },
  {
   "cell_type": "code",
   "execution_count": 2,
   "id": "e0b23fce",
   "metadata": {},
   "outputs": [],
   "source": [
    "Path=\"/home/mgander/moscot-framework_reproducibility/data/mouse_temporal\"\n",
    "ts=['E3.5', 'E4.5', 'E5.25', 'E5.5', 'E6.25', 'E6.5', 'E6.75', 'E7.0', 'E7.25', 'E7.5', 'E7.75', 'E8.0', 'E8.25', 'E8.5a', 'E8.5b', 'E9.5', 'E10.5', 'E11.5', 'E12.5', 'E13.5']"
   ]
  },
  {
   "cell_type": "markdown",
   "id": "16af0019",
   "metadata": {},
   "source": [
    "# Moscot maps to growth rates"
   ]
  },
  {
   "cell_type": "code",
   "execution_count": 3,
   "id": "32ffe77a",
   "metadata": {
    "scrolled": true
   },
   "outputs": [
    {
     "name": "stdout",
     "output_type": "stream",
     "text": [
      "WARNING: Your filename has more than two extensions: ['.5_E4', '.5', '.h5ad'].\n",
      "Only considering the two last: ['.5', '.h5ad'].\n",
      "WARNING: Your filename has more than two extensions: ['.5_E4', '.5', '.h5ad'].\n",
      "Only considering the two last: ['.5', '.h5ad'].\n"
     ]
    }
   ],
   "source": [
    "# Doesn't matter which adata you use to create a tp instance, the result is always the same. I just need one\n",
    "# to instantiate a tp-problem\n",
    "adata=sc.read(f\"{Path}/anndatas/Comb_anndatas/adata_E3.5_E4.5.h5ad\")\n",
    "tp=TemporalProblem(adata)"
   ]
  },
  {
   "cell_type": "code",
   "execution_count": 5,
   "id": "1f5e42eb",
   "metadata": {},
   "outputs": [],
   "source": [
    "cts=['E7.25:Definitive endoderm', 'E7.75:Primitive erythroid cells', 'E8.0:First heart field', 'E11.5:Pancreatic epithelium']\n",
    "ii=[7,9,10,16]"
   ]
  },
  {
   "cell_type": "code",
   "execution_count": null,
   "id": "50795eb9",
   "metadata": {},
   "outputs": [],
   "source": []
  },
  {
   "cell_type": "code",
   "execution_count": 6,
   "id": "d6cf5602",
   "metadata": {},
   "outputs": [],
   "source": [
    "cts=['E7.25:Definitive endoderm', 'E7.75:Primitive erythroid cells', 'E8.25:First heart field']\n",
    "ii=[7,9,11]"
   ]
  },
  {
   "cell_type": "code",
   "execution_count": 11,
   "id": "5fbd184b",
   "metadata": {},
   "outputs": [
    {
     "name": "stdout",
     "output_type": "stream",
     "text": [
      "E7.0\n",
      "E7.5\n",
      "E8.0\n"
     ]
    }
   ],
   "source": [
    "for ct,i in zip(cts, ii):\n",
    "    ts0=ts[i]\n",
    "    ts1=ts[i+1]\n",
    "    print(ts0)\n",
    "    \n",
    "    tp=tp.load(f'{Path}/moscot_maps/{ts0}_{ts1}_TemporalProblem.pkl')\n",
    "    adata=tp.adata\n",
    "    time_tuple=sorted(list(tp.solutions.keys())[0])\n",
    "    pull=tp.pull(time_tuple[0], time_tuple[1], data='cell_state', subset=ct, return_data=True)\n",
    "    pull=pull[time_tuple[0]].flatten()\n",
    "    np.save(f'{Path}/moscot_maps/{ts0}_{ct}_pull.npy', pull)"
   ]
  },
  {
   "cell_type": "code",
   "execution_count": null,
   "id": "0a347db4",
   "metadata": {},
   "outputs": [],
   "source": []
  },
  {
   "cell_type": "code",
   "execution_count": 11,
   "id": "0dc5aca4",
   "metadata": {},
   "outputs": [],
   "source": [
    "cts=['E7.25:Definitive endoderm', 'E7.75:Surface ectoderm', 'E8.25:First heart field']\n",
    "ii=[7,9,11]"
   ]
  },
  {
   "cell_type": "code",
   "execution_count": 24,
   "id": "84645fd2",
   "metadata": {},
   "outputs": [],
   "source": [
    "cts=['E7:Hematoendothelial progenitors']\n",
    "ii=[6]"
   ]
  },
  {
   "cell_type": "code",
   "execution_count": 29,
   "id": "ba167972",
   "metadata": {},
   "outputs": [],
   "source": [
    "cts=['E8.5a:Pre-epidermal keratinocytes']\n",
    "ii=[12]"
   ]
  },
  {
   "cell_type": "code",
   "execution_count": 33,
   "id": "7cbaddda",
   "metadata": {},
   "outputs": [],
   "source": [
    "cts=['E7.5:Rostral neuroectoderm']\n",
    "ii=[8]"
   ]
  },
  {
   "cell_type": "code",
   "execution_count": 39,
   "id": "50f80336",
   "metadata": {},
   "outputs": [],
   "source": [
    "cts=['E8: Allantois']\n",
    "ii=[10]"
   ]
  },
  {
   "cell_type": "code",
   "execution_count": 45,
   "id": "cd2be8dd",
   "metadata": {},
   "outputs": [],
   "source": [
    "cts=['E8.25:Spinal cord']\n",
    "ii=[11]"
   ]
  },
  {
   "cell_type": "code",
   "execution_count": 4,
   "id": "ffbc0954",
   "metadata": {},
   "outputs": [],
   "source": [
    "cts=['E8.5a:Allantois']\n",
    "ii=[12]"
   ]
  },
  {
   "cell_type": "code",
   "execution_count": 14,
   "id": "6b03a0a3",
   "metadata": {},
   "outputs": [],
   "source": [
    "cts=['E8.25:Allantois']\n",
    "ii=[11]"
   ]
  },
  {
   "cell_type": "code",
   "execution_count": 15,
   "id": "dd83f5c2",
   "metadata": {
    "scrolled": true
   },
   "outputs": [
    {
     "name": "stdout",
     "output_type": "stream",
     "text": [
      "E8.0\n"
     ]
    }
   ],
   "source": [
    "for ct,i in zip(cts, ii):\n",
    "    ts0=ts[i]\n",
    "    ts1=ts[i+1]\n",
    "    print(ts0)\n",
    "    \n",
    "    tp=tp.load(f'{Path}/moscot_maps/{ts0}_{ts1}_no_gr2_TemporalProblem.pkl')\n",
    "    adata=tp.adata\n",
    "    time_tuple=sorted(list(tp.solutions.keys())[0])\n",
    "    pull=tp.pull(time_tuple[0], time_tuple[1], data='cell_state', subset=ct, return_data=True)\n",
    "    pull=pull[time_tuple[0]].flatten()\n",
    "    np.save(f'{Path}/moscot_maps/{ts0}_{ct}_pull2.npy', pull)"
   ]
  },
  {
   "cell_type": "code",
   "execution_count": null,
   "id": "d141616e",
   "metadata": {},
   "outputs": [],
   "source": []
  },
  {
   "cell_type": "code",
   "execution_count": 35,
   "id": "567d3330",
   "metadata": {},
   "outputs": [
    {
     "data": {
      "text/plain": [
       "Array([1.9874999e-07, 3.7700462e-04, 2.1048123e-04, ..., 1.1480488e-33,\n",
       "       1.5380005e-05, 3.7670699e-08], dtype=float32)"
      ]
     },
     "execution_count": 35,
     "metadata": {},
     "output_type": "execute_result"
    }
   ],
   "source": [
    "pull"
   ]
  },
  {
   "cell_type": "code",
   "execution_count": 36,
   "id": "2b4e974c",
   "metadata": {},
   "outputs": [
    {
     "data": {
      "text/html": [
       "<div>\n",
       "<style scoped>\n",
       "    .dataframe tbody tr th:only-of-type {\n",
       "        vertical-align: middle;\n",
       "    }\n",
       "\n",
       "    .dataframe tbody tr th {\n",
       "        vertical-align: top;\n",
       "    }\n",
       "\n",
       "    .dataframe thead th {\n",
       "        text-align: right;\n",
       "    }\n",
       "</style>\n",
       "<table border=\"1\" class=\"dataframe\">\n",
       "  <thead>\n",
       "    <tr style=\"text-align: right;\">\n",
       "      <th></th>\n",
       "      <th>cellID</th>\n",
       "      <th>day</th>\n",
       "      <th>cell_state</th>\n",
       "      <th>cell_type</th>\n",
       "      <th>group</th>\n",
       "      <th>sample</th>\n",
       "      <th>origin</th>\n",
       "      <th>pull</th>\n",
       "    </tr>\n",
       "  </thead>\n",
       "  <tbody>\n",
       "    <tr>\n",
       "      <th>cell_61792</th>\n",
       "      <td>cell_61792</td>\n",
       "      <td>7.25</td>\n",
       "      <td>E7.25:Primitive streak and adjacent ectoderm</td>\n",
       "      <td>Primitive streak and adjacent ectoderm</td>\n",
       "      <td>23</td>\n",
       "      <td>cell_61792</td>\n",
       "      <td>Pijuan</td>\n",
       "      <td>1.987500e-07</td>\n",
       "    </tr>\n",
       "    <tr>\n",
       "      <th>cell_61793</th>\n",
       "      <td>cell_61793</td>\n",
       "      <td>7.25</td>\n",
       "      <td>E7.25:Primitive streak and adjacent ectoderm</td>\n",
       "      <td>Primitive streak and adjacent ectoderm</td>\n",
       "      <td>23</td>\n",
       "      <td>cell_61793</td>\n",
       "      <td>Pijuan</td>\n",
       "      <td>3.770046e-04</td>\n",
       "    </tr>\n",
       "    <tr>\n",
       "      <th>cell_61794</th>\n",
       "      <td>cell_61794</td>\n",
       "      <td>7.25</td>\n",
       "      <td>E7.25:Epiblast</td>\n",
       "      <td>Epiblast</td>\n",
       "      <td>23</td>\n",
       "      <td>cell_61794</td>\n",
       "      <td>Pijuan</td>\n",
       "      <td>2.104812e-04</td>\n",
       "    </tr>\n",
       "    <tr>\n",
       "      <th>cell_61795</th>\n",
       "      <td>cell_61795</td>\n",
       "      <td>7.25</td>\n",
       "      <td>E7.25:Nascent mesoderm</td>\n",
       "      <td>Nascent mesoderm</td>\n",
       "      <td>23</td>\n",
       "      <td>cell_61795</td>\n",
       "      <td>Pijuan</td>\n",
       "      <td>0.000000e+00</td>\n",
       "    </tr>\n",
       "    <tr>\n",
       "      <th>cell_61796</th>\n",
       "      <td>cell_61796</td>\n",
       "      <td>7.25</td>\n",
       "      <td>E7.25:Anterior primitive streak</td>\n",
       "      <td>Anterior primitive streak</td>\n",
       "      <td>23</td>\n",
       "      <td>cell_61796</td>\n",
       "      <td>Pijuan</td>\n",
       "      <td>5.283536e-17</td>\n",
       "    </tr>\n",
       "    <tr>\n",
       "      <th>...</th>\n",
       "      <td>...</td>\n",
       "      <td>...</td>\n",
       "      <td>...</td>\n",
       "      <td>...</td>\n",
       "      <td>...</td>\n",
       "      <td>...</td>\n",
       "      <td>...</td>\n",
       "      <td>...</td>\n",
       "    </tr>\n",
       "    <tr>\n",
       "      <th>cell_52455</th>\n",
       "      <td>cell_52455</td>\n",
       "      <td>7.50</td>\n",
       "      <td>E7.5:Paraxial mesoderm B</td>\n",
       "      <td>Paraxial mesoderm B</td>\n",
       "      <td>20</td>\n",
       "      <td>cell_52455</td>\n",
       "      <td>Pijuan</td>\n",
       "      <td>0.000000e+00</td>\n",
       "    </tr>\n",
       "    <tr>\n",
       "      <th>cell_52457</th>\n",
       "      <td>cell_52457</td>\n",
       "      <td>7.50</td>\n",
       "      <td>E7.5:Rostral neuroectoderm</td>\n",
       "      <td>Rostral neuroectoderm</td>\n",
       "      <td>20</td>\n",
       "      <td>cell_52457</td>\n",
       "      <td>Pijuan</td>\n",
       "      <td>7.782101e-04</td>\n",
       "    </tr>\n",
       "    <tr>\n",
       "      <th>cell_52458</th>\n",
       "      <td>cell_52458</td>\n",
       "      <td>7.50</td>\n",
       "      <td>E7.5:Surface ectoderm</td>\n",
       "      <td>Surface ectoderm</td>\n",
       "      <td>20</td>\n",
       "      <td>cell_52458</td>\n",
       "      <td>Pijuan</td>\n",
       "      <td>0.000000e+00</td>\n",
       "    </tr>\n",
       "    <tr>\n",
       "      <th>cell_52464</th>\n",
       "      <td>cell_52464</td>\n",
       "      <td>7.50</td>\n",
       "      <td>E7.5:Epiblast</td>\n",
       "      <td>Epiblast</td>\n",
       "      <td>20</td>\n",
       "      <td>cell_52464</td>\n",
       "      <td>Pijuan</td>\n",
       "      <td>0.000000e+00</td>\n",
       "    </tr>\n",
       "    <tr>\n",
       "      <th>cell_52465</th>\n",
       "      <td>cell_52465</td>\n",
       "      <td>7.50</td>\n",
       "      <td>E7.5:Rostral neuroectoderm</td>\n",
       "      <td>Rostral neuroectoderm</td>\n",
       "      <td>20</td>\n",
       "      <td>cell_52465</td>\n",
       "      <td>Pijuan</td>\n",
       "      <td>7.782101e-04</td>\n",
       "    </tr>\n",
       "  </tbody>\n",
       "</table>\n",
       "<p>16757 rows × 8 columns</p>\n",
       "</div>"
      ],
      "text/plain": [
       "                cellID   day                                    cell_state   \n",
       "cell_61792  cell_61792  7.25  E7.25:Primitive streak and adjacent ectoderm  \\\n",
       "cell_61793  cell_61793  7.25  E7.25:Primitive streak and adjacent ectoderm   \n",
       "cell_61794  cell_61794  7.25                                E7.25:Epiblast   \n",
       "cell_61795  cell_61795  7.25                        E7.25:Nascent mesoderm   \n",
       "cell_61796  cell_61796  7.25               E7.25:Anterior primitive streak   \n",
       "...                ...   ...                                           ...   \n",
       "cell_52455  cell_52455  7.50                      E7.5:Paraxial mesoderm B   \n",
       "cell_52457  cell_52457  7.50                    E7.5:Rostral neuroectoderm   \n",
       "cell_52458  cell_52458  7.50                         E7.5:Surface ectoderm   \n",
       "cell_52464  cell_52464  7.50                                 E7.5:Epiblast   \n",
       "cell_52465  cell_52465  7.50                    E7.5:Rostral neuroectoderm   \n",
       "\n",
       "                                         cell_type  group      sample  origin   \n",
       "cell_61792  Primitive streak and adjacent ectoderm     23  cell_61792  Pijuan  \\\n",
       "cell_61793  Primitive streak and adjacent ectoderm     23  cell_61793  Pijuan   \n",
       "cell_61794                                Epiblast     23  cell_61794  Pijuan   \n",
       "cell_61795                        Nascent mesoderm     23  cell_61795  Pijuan   \n",
       "cell_61796               Anterior primitive streak     23  cell_61796  Pijuan   \n",
       "...                                            ...    ...         ...     ...   \n",
       "cell_52455                     Paraxial mesoderm B     20  cell_52455  Pijuan   \n",
       "cell_52457                   Rostral neuroectoderm     20  cell_52457  Pijuan   \n",
       "cell_52458                        Surface ectoderm     20  cell_52458  Pijuan   \n",
       "cell_52464                                Epiblast     20  cell_52464  Pijuan   \n",
       "cell_52465                   Rostral neuroectoderm     20  cell_52465  Pijuan   \n",
       "\n",
       "                    pull  \n",
       "cell_61792  1.987500e-07  \n",
       "cell_61793  3.770046e-04  \n",
       "cell_61794  2.104812e-04  \n",
       "cell_61795  0.000000e+00  \n",
       "cell_61796  5.283536e-17  \n",
       "...                  ...  \n",
       "cell_52455  0.000000e+00  \n",
       "cell_52457  7.782101e-04  \n",
       "cell_52458  0.000000e+00  \n",
       "cell_52464  0.000000e+00  \n",
       "cell_52465  7.782101e-04  \n",
       "\n",
       "[16757 rows x 8 columns]"
      ]
     },
     "execution_count": 36,
     "metadata": {},
     "output_type": "execute_result"
    }
   ],
   "source": [
    "adata.obs"
   ]
  },
  {
   "cell_type": "code",
   "execution_count": 38,
   "id": "34efa1c7",
   "metadata": {},
   "outputs": [
    {
     "data": {
      "text/html": [
       "<div>\n",
       "<style scoped>\n",
       "    .dataframe tbody tr th:only-of-type {\n",
       "        vertical-align: middle;\n",
       "    }\n",
       "\n",
       "    .dataframe tbody tr th {\n",
       "        vertical-align: top;\n",
       "    }\n",
       "\n",
       "    .dataframe thead th {\n",
       "        text-align: right;\n",
       "    }\n",
       "</style>\n",
       "<table border=\"1\" class=\"dataframe\">\n",
       "  <thead>\n",
       "    <tr style=\"text-align: right;\">\n",
       "      <th></th>\n",
       "      <th>cellID</th>\n",
       "      <th>day</th>\n",
       "      <th>cell_state</th>\n",
       "      <th>cell_type</th>\n",
       "      <th>group</th>\n",
       "      <th>sample</th>\n",
       "      <th>origin</th>\n",
       "      <th>pull</th>\n",
       "    </tr>\n",
       "  </thead>\n",
       "  <tbody>\n",
       "    <tr>\n",
       "      <th>cell_61792</th>\n",
       "      <td>cell_61792</td>\n",
       "      <td>7.25</td>\n",
       "      <td>E7.25:Primitive streak and adjacent ectoderm</td>\n",
       "      <td>Primitive streak and adjacent ectoderm</td>\n",
       "      <td>23</td>\n",
       "      <td>cell_61792</td>\n",
       "      <td>Pijuan</td>\n",
       "      <td>1.987500e-07</td>\n",
       "    </tr>\n",
       "    <tr>\n",
       "      <th>cell_61793</th>\n",
       "      <td>cell_61793</td>\n",
       "      <td>7.25</td>\n",
       "      <td>E7.25:Primitive streak and adjacent ectoderm</td>\n",
       "      <td>Primitive streak and adjacent ectoderm</td>\n",
       "      <td>23</td>\n",
       "      <td>cell_61793</td>\n",
       "      <td>Pijuan</td>\n",
       "      <td>3.770046e-04</td>\n",
       "    </tr>\n",
       "    <tr>\n",
       "      <th>cell_61794</th>\n",
       "      <td>cell_61794</td>\n",
       "      <td>7.25</td>\n",
       "      <td>E7.25:Epiblast</td>\n",
       "      <td>Epiblast</td>\n",
       "      <td>23</td>\n",
       "      <td>cell_61794</td>\n",
       "      <td>Pijuan</td>\n",
       "      <td>2.104812e-04</td>\n",
       "    </tr>\n",
       "    <tr>\n",
       "      <th>cell_61795</th>\n",
       "      <td>cell_61795</td>\n",
       "      <td>7.25</td>\n",
       "      <td>E7.25:Nascent mesoderm</td>\n",
       "      <td>Nascent mesoderm</td>\n",
       "      <td>23</td>\n",
       "      <td>cell_61795</td>\n",
       "      <td>Pijuan</td>\n",
       "      <td>0.000000e+00</td>\n",
       "    </tr>\n",
       "    <tr>\n",
       "      <th>cell_61796</th>\n",
       "      <td>cell_61796</td>\n",
       "      <td>7.25</td>\n",
       "      <td>E7.25:Anterior primitive streak</td>\n",
       "      <td>Anterior primitive streak</td>\n",
       "      <td>23</td>\n",
       "      <td>cell_61796</td>\n",
       "      <td>Pijuan</td>\n",
       "      <td>5.283536e-17</td>\n",
       "    </tr>\n",
       "    <tr>\n",
       "      <th>...</th>\n",
       "      <td>...</td>\n",
       "      <td>...</td>\n",
       "      <td>...</td>\n",
       "      <td>...</td>\n",
       "      <td>...</td>\n",
       "      <td>...</td>\n",
       "      <td>...</td>\n",
       "      <td>...</td>\n",
       "    </tr>\n",
       "    <tr>\n",
       "      <th>cell_91074</th>\n",
       "      <td>cell_91074</td>\n",
       "      <td>7.25</td>\n",
       "      <td>E7.25:Nascent mesoderm</td>\n",
       "      <td>Nascent mesoderm</td>\n",
       "      <td>26</td>\n",
       "      <td>cell_91074</td>\n",
       "      <td>Pijuan</td>\n",
       "      <td>8.004260e-25</td>\n",
       "    </tr>\n",
       "    <tr>\n",
       "      <th>cell_91075</th>\n",
       "      <td>cell_91075</td>\n",
       "      <td>7.25</td>\n",
       "      <td>E7.25:Primitive streak and adjacent ectoderm</td>\n",
       "      <td>Primitive streak and adjacent ectoderm</td>\n",
       "      <td>26</td>\n",
       "      <td>cell_91075</td>\n",
       "      <td>Pijuan</td>\n",
       "      <td>1.055114e-06</td>\n",
       "    </tr>\n",
       "    <tr>\n",
       "      <th>cell_91076</th>\n",
       "      <td>cell_91076</td>\n",
       "      <td>7.25</td>\n",
       "      <td>E7.25:Nascent mesoderm</td>\n",
       "      <td>Nascent mesoderm</td>\n",
       "      <td>26</td>\n",
       "      <td>cell_91076</td>\n",
       "      <td>Pijuan</td>\n",
       "      <td>1.148049e-33</td>\n",
       "    </tr>\n",
       "    <tr>\n",
       "      <th>cell_91078</th>\n",
       "      <td>cell_91078</td>\n",
       "      <td>7.25</td>\n",
       "      <td>E7.25:Primitive streak and adjacent ectoderm</td>\n",
       "      <td>Primitive streak and adjacent ectoderm</td>\n",
       "      <td>26</td>\n",
       "      <td>cell_91078</td>\n",
       "      <td>Pijuan</td>\n",
       "      <td>1.538000e-05</td>\n",
       "    </tr>\n",
       "    <tr>\n",
       "      <th>cell_91079</th>\n",
       "      <td>cell_91079</td>\n",
       "      <td>7.25</td>\n",
       "      <td>E7.25:Primitive streak and adjacent ectoderm</td>\n",
       "      <td>Primitive streak and adjacent ectoderm</td>\n",
       "      <td>26</td>\n",
       "      <td>cell_91079</td>\n",
       "      <td>Pijuan</td>\n",
       "      <td>3.767070e-08</td>\n",
       "    </tr>\n",
       "  </tbody>\n",
       "</table>\n",
       "<p>10216 rows × 8 columns</p>\n",
       "</div>"
      ],
      "text/plain": [
       "                cellID   day                                    cell_state   \n",
       "cell_61792  cell_61792  7.25  E7.25:Primitive streak and adjacent ectoderm  \\\n",
       "cell_61793  cell_61793  7.25  E7.25:Primitive streak and adjacent ectoderm   \n",
       "cell_61794  cell_61794  7.25                                E7.25:Epiblast   \n",
       "cell_61795  cell_61795  7.25                        E7.25:Nascent mesoderm   \n",
       "cell_61796  cell_61796  7.25               E7.25:Anterior primitive streak   \n",
       "...                ...   ...                                           ...   \n",
       "cell_91074  cell_91074  7.25                        E7.25:Nascent mesoderm   \n",
       "cell_91075  cell_91075  7.25  E7.25:Primitive streak and adjacent ectoderm   \n",
       "cell_91076  cell_91076  7.25                        E7.25:Nascent mesoderm   \n",
       "cell_91078  cell_91078  7.25  E7.25:Primitive streak and adjacent ectoderm   \n",
       "cell_91079  cell_91079  7.25  E7.25:Primitive streak and adjacent ectoderm   \n",
       "\n",
       "                                         cell_type  group      sample  origin   \n",
       "cell_61792  Primitive streak and adjacent ectoderm     23  cell_61792  Pijuan  \\\n",
       "cell_61793  Primitive streak and adjacent ectoderm     23  cell_61793  Pijuan   \n",
       "cell_61794                                Epiblast     23  cell_61794  Pijuan   \n",
       "cell_61795                        Nascent mesoderm     23  cell_61795  Pijuan   \n",
       "cell_61796               Anterior primitive streak     23  cell_61796  Pijuan   \n",
       "...                                            ...    ...         ...     ...   \n",
       "cell_91074                        Nascent mesoderm     26  cell_91074  Pijuan   \n",
       "cell_91075  Primitive streak and adjacent ectoderm     26  cell_91075  Pijuan   \n",
       "cell_91076                        Nascent mesoderm     26  cell_91076  Pijuan   \n",
       "cell_91078  Primitive streak and adjacent ectoderm     26  cell_91078  Pijuan   \n",
       "cell_91079  Primitive streak and adjacent ectoderm     26  cell_91079  Pijuan   \n",
       "\n",
       "                    pull  \n",
       "cell_61792  1.987500e-07  \n",
       "cell_61793  3.770046e-04  \n",
       "cell_61794  2.104812e-04  \n",
       "cell_61795  0.000000e+00  \n",
       "cell_61796  5.283536e-17  \n",
       "...                  ...  \n",
       "cell_91074  8.004260e-25  \n",
       "cell_91075  1.055114e-06  \n",
       "cell_91076  1.148049e-33  \n",
       "cell_91078  1.538000e-05  \n",
       "cell_91079  3.767070e-08  \n",
       "\n",
       "[10216 rows x 8 columns]"
      ]
     },
     "execution_count": 38,
     "metadata": {},
     "output_type": "execute_result"
    }
   ],
   "source": [
    "adata[adata.obs['day']==7.25].obs"
   ]
  },
  {
   "cell_type": "code",
   "execution_count": null,
   "id": "ebb5b176",
   "metadata": {},
   "outputs": [],
   "source": []
  },
  {
   "cell_type": "code",
   "execution_count": null,
   "id": "b5e99066",
   "metadata": {},
   "outputs": [],
   "source": []
  },
  {
   "cell_type": "code",
   "execution_count": null,
   "id": "a917d689",
   "metadata": {},
   "outputs": [],
   "source": []
  },
  {
   "cell_type": "code",
   "execution_count": null,
   "id": "c2e295d0",
   "metadata": {},
   "outputs": [],
   "source": []
  },
  {
   "cell_type": "code",
   "execution_count": 8,
   "id": "1bb82ee6",
   "metadata": {},
   "outputs": [
    {
     "data": {
      "text/plain": [
       "['E7.25:Definitive endoderm',\n",
       " 'E7.75:Primitive erythroid cells',\n",
       " 'E8.25:First heart field']"
      ]
     },
     "execution_count": 8,
     "metadata": {},
     "output_type": "execute_result"
    }
   ],
   "source": [
    "cts"
   ]
  },
  {
   "cell_type": "code",
   "execution_count": null,
   "id": "2f2eb8ef",
   "metadata": {},
   "outputs": [],
   "source": []
  },
  {
   "cell_type": "code",
   "execution_count": null,
   "id": "752cdb22",
   "metadata": {},
   "outputs": [],
   "source": []
  },
  {
   "cell_type": "code",
   "execution_count": null,
   "id": "ec3689ab",
   "metadata": {},
   "outputs": [],
   "source": [
    "BMP-4\n",
    "Chordin\n",
    "FGF-8\n",
    "FoxJ3\n",
    "Nestin\n",
    "Noggin\n",
    "Otx2\n",
    "p63/TP73L\n",
    "Pax2\n",
    "Pax6\n",
    "SOX1\n",
    "beta-III Tubulin"
   ]
  },
  {
   "cell_type": "code",
   "execution_count": null,
   "id": "c558ab48",
   "metadata": {},
   "outputs": [],
   "source": []
  },
  {
   "cell_type": "code",
   "execution_count": null,
   "id": "93b9635f",
   "metadata": {},
   "outputs": [],
   "source": []
  },
  {
   "cell_type": "code",
   "execution_count": null,
   "id": "49212d5b",
   "metadata": {},
   "outputs": [],
   "source": []
  },
  {
   "cell_type": "code",
   "execution_count": null,
   "id": "987a0288",
   "metadata": {},
   "outputs": [],
   "source": []
  }
 ],
 "metadata": {
  "kernelspec": {
   "display_name": "mc",
   "language": "python",
   "name": "mc"
  },
  "language_info": {
   "codemirror_mode": {
    "name": "ipython",
    "version": 3
   },
   "file_extension": ".py",
   "mimetype": "text/x-python",
   "name": "python",
   "nbconvert_exporter": "python",
   "pygments_lexer": "ipython3",
   "version": "3.10.9"
  }
 },
 "nbformat": 4,
 "nbformat_minor": 5
}
