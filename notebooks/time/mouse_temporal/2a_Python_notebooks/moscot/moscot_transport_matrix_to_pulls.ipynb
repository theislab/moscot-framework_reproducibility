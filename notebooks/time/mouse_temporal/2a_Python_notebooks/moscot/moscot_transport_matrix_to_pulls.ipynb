{
 "cells": [
  {
   "cell_type": "code",
   "execution_count": 1,
   "id": "eea495f6",
   "metadata": {},
   "outputs": [
    {
     "name": "stderr",
     "output_type": "stream",
     "text": [
      "/home/mgander/miniconda3/envs/mc/lib/python3.10/site-packages/flax/struct.py:132: FutureWarning: jax.tree_util.register_keypaths is deprecated, and will be removed in a future release. Please use `register_pytree_with_keys()` instead.\n",
      "  jax.tree_util.register_keypaths(data_clz, keypaths)\n",
      "/home/mgander/miniconda3/envs/mc/lib/python3.10/site-packages/flax/struct.py:132: FutureWarning: jax.tree_util.register_keypaths is deprecated, and will be removed in a future release. Please use `register_pytree_with_keys()` instead.\n",
      "  jax.tree_util.register_keypaths(data_clz, keypaths)\n",
      "No GPU/TPU found, falling back to CPU. (Set TF_CPP_MIN_LOG_LEVEL=0 and rerun for more info.)\n"
     ]
    }
   ],
   "source": [
    "import numpy as np\n",
    "import anndata\n",
    "import pandas as pd\n",
    "import scanpy as sc\n",
    "import scipy\n",
    "\n",
    "from moscot.problems.time._lineage import TemporalProblem"
   ]
  },
  {
   "cell_type": "code",
   "execution_count": 2,
   "id": "e0b23fce",
   "metadata": {},
   "outputs": [],
   "source": [
    "Path=\"/home/mgander/Unrelated/moscotTime_Reproducibility/Data\"\n",
    "ts=['E3.5', 'E4.5', 'E5.25', 'E5.5', 'E6.25', 'E6.5', 'E6.75', 'E7.0', 'E7.25', 'E7.5', 'E7.75', 'E8.0', 'E8.25', 'E8.5a', 'E8.5b', 'E9.5', 'E10.5', 'E11.5', 'E12.5', 'E13.5']"
   ]
  },
  {
   "cell_type": "markdown",
   "id": "16af0019",
   "metadata": {},
   "source": [
    "# Moscot maps to growth rates"
   ]
  },
  {
   "cell_type": "code",
   "execution_count": 4,
   "id": "32ffe77a",
   "metadata": {
    "scrolled": true
   },
   "outputs": [
    {
     "name": "stdout",
     "output_type": "stream",
     "text": [
      "WARNING: Your filename has more than two extensions: ['.5_E4', '.5', '.h5ad'].\n",
      "Only considering the two last: ['.5', '.h5ad'].\n",
      "WARNING: Your filename has more than two extensions: ['.5_E4', '.5', '.h5ad'].\n",
      "Only considering the two last: ['.5', '.h5ad'].\n"
     ]
    }
   ],
   "source": [
    "# Doesn't matter which adata you use to create a tp instance, the result is always the same. I just need one\n",
    "# to instantiate a tp-problem\n",
    "adata=sc.read(f\"{Path}/anndatas/Comb_anndatas/adata_E3.5_E4.5.h5ad\")\n",
    "tp=TemporalProblem(adata)"
   ]
  },
  {
   "cell_type": "code",
   "execution_count": 5,
   "id": "1f5e42eb",
   "metadata": {},
   "outputs": [],
   "source": [
    "cts=['E7.25:Definitive endoderm', 'E7.75:Primitive erythroid cells', 'E8.0:First heart field', 'E11.5:Pancreatic epithelium']\n",
    "ii=[7,9,10,16]"
   ]
  },
  {
   "cell_type": "code",
   "execution_count": null,
   "id": "50795eb9",
   "metadata": {},
   "outputs": [],
   "source": []
  },
  {
   "cell_type": "code",
   "execution_count": 6,
   "id": "d6cf5602",
   "metadata": {},
   "outputs": [],
   "source": [
    "cts=['E7.25:Definitive endoderm', 'E7.75:Primitive erythroid cells', 'E8.25:First heart field']\n",
    "ii=[7,9,11]"
   ]
  },
  {
   "cell_type": "code",
   "execution_count": 11,
   "id": "5fbd184b",
   "metadata": {},
   "outputs": [
    {
     "name": "stdout",
     "output_type": "stream",
     "text": [
      "E7.0\n",
      "E7.5\n",
      "E8.0\n"
     ]
    }
   ],
   "source": [
    "for ct,i in zip(cts, ii):\n",
    "    ts0=ts[i]\n",
    "    ts1=ts[i+1]\n",
    "    print(ts0)\n",
    "    \n",
    "    tp=tp.load(f'{Path}/moscot_maps/{ts0}_{ts1}_TemporalProblem.pkl')\n",
    "    adata=tp.adata\n",
    "    time_tuple=sorted(list(tp.solutions.keys())[0])\n",
    "    pull=tp.pull(time_tuple[0], time_tuple[1], data='cell_state', subset=ct, return_data=True)\n",
    "    pull=pull[time_tuple[0]].flatten()\n",
    "    np.save(f'{Path}/moscot_maps/{ts0}_{ct}_pull.npy', pull)"
   ]
  },
  {
   "cell_type": "code",
   "execution_count": null,
   "id": "752cdb22",
   "metadata": {},
   "outputs": [],
   "source": []
  },
  {
   "cell_type": "code",
   "execution_count": 17,
   "id": "aae5eee8",
   "metadata": {},
   "outputs": [],
   "source": [
    "cts=['E8.25:Neural crest']\n",
    "ii=[11]"
   ]
  },
  {
   "cell_type": "code",
   "execution_count": 18,
   "id": "976a5eb8",
   "metadata": {
    "scrolled": true
   },
   "outputs": [
    {
     "name": "stdout",
     "output_type": "stream",
     "text": [
      "E8.0\n"
     ]
    }
   ],
   "source": [
    "for ct,i in zip(cts, ii):\n",
    "    ts0=ts[i]\n",
    "    ts1=ts[i+1]\n",
    "    print(ts0)\n",
    "    \n",
    "    tp=tp.load(f'{Path}/moscot_maps/{ts0}_{ts1}_TemporalProblem.pkl')\n",
    "    adata=tp.adata\n",
    "    time_tuple=sorted(list(tp.solutions.keys())[0])\n",
    "    pull=tp.pull(time_tuple[0], time_tuple[1], data='cell_state', subset=ct, return_data=True)\n",
    "    pull=pull[time_tuple[0]].flatten()\n",
    "    np.save(f'{Path}/moscot_maps/{ts0}_{ct}_pull.npy', pull)"
   ]
  },
  {
   "cell_type": "code",
   "execution_count": null,
   "id": "3d730b43",
   "metadata": {},
   "outputs": [],
   "source": []
  },
  {
   "cell_type": "code",
   "execution_count": null,
   "id": "ec3689ab",
   "metadata": {},
   "outputs": [],
   "source": []
  },
  {
   "cell_type": "code",
   "execution_count": null,
   "id": "c558ab48",
   "metadata": {},
   "outputs": [],
   "source": []
  },
  {
   "cell_type": "code",
   "execution_count": null,
   "id": "93b9635f",
   "metadata": {},
   "outputs": [],
   "source": []
  },
  {
   "cell_type": "code",
   "execution_count": null,
   "id": "49212d5b",
   "metadata": {},
   "outputs": [],
   "source": []
  },
  {
   "cell_type": "code",
   "execution_count": null,
   "id": "987a0288",
   "metadata": {},
   "outputs": [],
   "source": []
  }
 ],
 "metadata": {
  "kernelspec": {
   "display_name": "mc",
   "language": "python",
   "name": "mc"
  },
  "language_info": {
   "codemirror_mode": {
    "name": "ipython",
    "version": 3
   },
   "file_extension": ".py",
   "mimetype": "text/x-python",
   "name": "python",
   "nbconvert_exporter": "python",
   "pygments_lexer": "ipython3",
   "version": "3.10.9"
  }
 },
 "nbformat": 4,
 "nbformat_minor": 5
}
