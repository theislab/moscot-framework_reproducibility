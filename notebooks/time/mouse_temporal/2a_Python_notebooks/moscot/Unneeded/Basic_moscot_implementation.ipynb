{
 "cells": [
  {
   "cell_type": "code",
   "execution_count": 53,
   "id": "eea495f6",
   "metadata": {
    "scrolled": false
   },
   "outputs": [],
   "source": [
    "import numpy as np\n",
    "import anndata\n",
    "import pandas as pd\n",
    "import scanpy as sc\n",
    "import scipy\n",
    "import seaborn as sns\n",
    "\n",
    "from moscot.problems.time._lineage import TemporalProblem\n",
    "from moscot.backends.ott._solver import SinkhornSolver"
   ]
  },
  {
   "cell_type": "code",
   "execution_count": 41,
   "id": "6ded8022",
   "metadata": {},
   "outputs": [],
   "source": [
    "from importlib import reload\n",
    "\n",
    "import sys\n",
    "sys.path.append('/home/icb/manuel.gander/moscotTime_Reproducibility/Notebooks/Python_notebooks')\n",
    "import Utils\n",
    "\n",
    "Utils=reload(Utils)"
   ]
  },
  {
   "cell_type": "code",
   "execution_count": null,
   "id": "63317970",
   "metadata": {},
   "outputs": [],
   "source": []
  },
  {
   "cell_type": "code",
   "execution_count": 3,
   "id": "e0b23fce",
   "metadata": {},
   "outputs": [],
   "source": [
    "Path=\"/home/icb/manuel.gander/moscotTime_Reproducibility/Data\"\n",
    "ts=['E3.5', 'E4.5', 'E5.25', 'E5.5', 'E6.25', 'E6.5', 'E6.75', 'E7.0', 'E7.25', 'E7.5', 'E7.75', 'E8.0', 'E8.25', 'E8.5a', 'E8.5b', 'E9.5', 'E10.5', 'E11.5', 'E12.5', 'E13.5']"
   ]
  },
  {
   "cell_type": "code",
   "execution_count": 6,
   "id": "cd1273b2",
   "metadata": {
    "scrolled": true
   },
   "outputs": [
    {
     "name": "stdout",
     "output_type": "stream",
     "text": [
      "WARNING: Your filename has more than two extensions: ['.25_E6', '.5', '.h5ad'].\n",
      "Only considering the two last: ['.5', '.h5ad'].\n",
      "WARNING: Your filename has more than two extensions: ['.25_E6', '.5', '.h5ad'].\n",
      "Only considering the two last: ['.5', '.h5ad'].\n"
     ]
    }
   ],
   "source": [
    "i=4\n",
    "ts0=ts[i]\n",
    "ts1=ts[i+1]\n",
    "\n",
    "adata=sc.read(f\"{Path}/anndatas/Comb_anndatas/adata_{ts0}_{ts1}.h5ad\")\n",
    "\n",
    "del adata.raw\n",
    "time_tuple=tuple(sorted(set(adata.obs['day'])))"
   ]
  },
  {
   "cell_type": "code",
   "execution_count": 7,
   "id": "cef01de2",
   "metadata": {
    "scrolled": true
   },
   "outputs": [
    {
     "name": "stdout",
     "output_type": "stream",
     "text": [
      "WARNING: genes are not in var_names and ignored: ['Hn1', 'Mlf1ip', 'Fam64a']\n",
      "WARNING: genes are not in var_names and ignored: ['Adck3', 'Ikbkap', 'H2afj', 'Lrmp', 'Gnb2l1', 'Hist3h2a', 'Hist1h1c']\n"
     ]
    },
    {
     "name": "stderr",
     "output_type": "stream",
     "text": [
      "/home/icb/manuel.gander/miniconda3/lib/python3.9/site-packages/scanpy/tools/_score_genes.py:151: FutureWarning: Passing a set as an indexer is deprecated and will raise in a future version. Use a list instead.\n",
      "  for cut in np.unique(obs_cut.loc[gene_list]):\n",
      "/home/icb/manuel.gander/miniconda3/lib/python3.9/site-packages/scanpy/tools/_score_genes.py:151: FutureWarning: Passing a set as an indexer is deprecated and will raise in a future version. Use a list instead.\n",
      "  for cut in np.unique(obs_cut.loc[gene_list]):\n"
     ]
    }
   ],
   "source": [
    "tp=TemporalProblem(adata)\n",
    "tp.score_genes_for_marginals(gene_set_proliferation='mouse',  gene_set_apoptosis='mouse')\n",
    "tp = tp.prepare('day', joint_attr=f'X_pcaS')"
   ]
  },
  {
   "cell_type": "code",
   "execution_count": 8,
   "id": "b5b59394",
   "metadata": {},
   "outputs": [],
   "source": [
    "batch_size=10**6"
   ]
  },
  {
   "cell_type": "code",
   "execution_count": 55,
   "id": "9209d5fc",
   "metadata": {},
   "outputs": [],
   "source": [
    "eps=0.005\n",
    "tau1=0.9\n",
    "tau2=0.9999"
   ]
  },
  {
   "cell_type": "code",
   "execution_count": 56,
   "id": "7cfaf674",
   "metadata": {},
   "outputs": [
    {
     "name": "stdout",
     "output_type": "stream",
     "text": [
      "\u001b[34mINFO    \u001b[0m Solving problem BirthDeathProblem\u001b[1m[\u001b[0m\u001b[33mstage\u001b[0m=\u001b[32m'solved'\u001b[0m, \u001b[33mshape\u001b[0m=\u001b[1m(\u001b[0m\u001b[1;36m321\u001b[0m, \u001b[1;36m4444\u001b[0m\u001b[1m)\u001b[0m\u001b[1m]\u001b[0m.                                     \n"
     ]
    }
   ],
   "source": [
    "result=tp.solve(batch_size=batch_size, epsilon=eps, tau_a=tau1, tau_b=tau2, scale_cost=\"mean\", max_iterations=10**6)"
   ]
  },
  {
   "cell_type": "code",
   "execution_count": 20,
   "id": "feb9ef5c",
   "metadata": {},
   "outputs": [],
   "source": [
    "gr=result[time_tuple].posterior_growth_rates"
   ]
  },
  {
   "cell_type": "code",
   "execution_count": 42,
   "id": "399025d5",
   "metadata": {
    "scrolled": true
   },
   "outputs": [],
   "source": [
    "ap, cgr=Utils.growth_rates_to_apoptosis_ratio(gr, ts0, ts1)"
   ]
  },
  {
   "cell_type": "code",
   "execution_count": 49,
   "id": "621d9b57",
   "metadata": {
    "scrolled": true
   },
   "outputs": [
    {
     "data": {
      "text/plain": [
       "161.59271"
      ]
     },
     "execution_count": 49,
     "metadata": {},
     "output_type": "execute_result"
    }
   ],
   "source": [
    "(1-cgr[cgr<1]).sum()"
   ]
  },
  {
   "cell_type": "code",
   "execution_count": 50,
   "id": "67c9d419",
   "metadata": {},
   "outputs": [
    {
     "data": {
      "text/plain": [
       "321"
      ]
     },
     "execution_count": 50,
     "metadata": {},
     "output_type": "execute_result"
    }
   ],
   "source": [
    "len(cgr)"
   ]
  },
  {
   "cell_type": "code",
   "execution_count": 54,
   "id": "facc91cc",
   "metadata": {},
   "outputs": [
    {
     "data": {
      "text/plain": [
       "<AxesSubplot: ylabel='Count'>"
      ]
     },
     "execution_count": 54,
     "metadata": {},
     "output_type": "execute_result"
    },
    {
     "data": {
      "image/png": "[encoded data removed]",
      "text/plain": [
       "<Figure size 640x480 with 1 Axes>"
      ]
     },
     "metadata": {},
     "output_type": "display_data"
    }
   ],
   "source": [
    "sns.histplot(cgr)"
   ]
  },
  {
   "cell_type": "code",
   "execution_count": null,
   "id": "cdb7acdb",
   "metadata": {},
   "outputs": [],
   "source": []
  },
  {
   "cell_type": "code",
   "execution_count": 36,
   "id": "62cdb372",
   "metadata": {},
   "outputs": [],
   "source": [
    "growth_rates=gr"
   ]
  },
  {
   "cell_type": "code",
   "execution_count": 37,
   "id": "3bc3afd9",
   "metadata": {},
   "outputs": [],
   "source": [
    "cells=[32, 80, 100, 120, 400, 660, 1720, 4500, 8200, 15000, 30000, 60000, 73000, 90000, 90000, 200000, 1100000, 2600000, 6000000, 13000000]\n",
    "Cell_number_dict={}\n",
    "for i in range(20):\n",
    "    Cell_number_dict[ts[i]]=cells[i]\n",
    "\n",
    "growth_rates=growth_rates/growth_rates.mean()\n",
    "cellular_growth_rates=growth_rates*Cell_number_dict[ts1]/Cell_number_dict[ts0]\n",
    "apoptotic_cells=cellular_growth_rates[cellular_growth_rates<1]\n",
    "sum_apoptotic_cells=(1-apoptotic_cells).sum()\n",
    "perc_apoptotic_cells=sum_apoptotic_cells/len(growth_rates)"
   ]
  },
  {
   "cell_type": "code",
   "execution_count": null,
   "id": "355b182d",
   "metadata": {},
   "outputs": [],
   "source": []
  },
  {
   "cell_type": "code",
   "execution_count": 39,
   "id": "eba2413b",
   "metadata": {
    "scrolled": true
   },
   "outputs": [
    {
     "data": {
      "text/plain": [
       "1.6500001"
      ]
     },
     "execution_count": 39,
     "metadata": {},
     "output_type": "execute_result"
    }
   ],
   "source": [
    "cellular_growth_rates.mean()"
   ]
  },
  {
   "cell_type": "code",
   "execution_count": null,
   "id": "3d474b7c",
   "metadata": {},
   "outputs": [],
   "source": []
  },
  {
   "cell_type": "code",
   "execution_count": null,
   "id": "e511e4cf",
   "metadata": {},
   "outputs": [],
   "source": []
  },
  {
   "cell_type": "code",
   "execution_count": 31,
   "id": "6970f1eb",
   "metadata": {},
   "outputs": [
    {
     "data": {
      "text/plain": [
       "4.625638"
      ]
     },
     "execution_count": 31,
     "metadata": {},
     "output_type": "execute_result"
    }
   ],
   "source": [
    "gr.mean()"
   ]
  },
  {
   "cell_type": "code",
   "execution_count": 32,
   "id": "500d8131",
   "metadata": {},
   "outputs": [],
   "source": [
    "    cells=[32, 80, 100, 120, 400, 660, 1720, 4500, 8200, 15000, 30000, 60000, 73000, 90000, 90000, 200000, 1100000, 2600000, 6000000, 13000000]"
   ]
  },
  {
   "cell_type": "code",
   "execution_count": 33,
   "id": "3e9bc942",
   "metadata": {},
   "outputs": [
    {
     "data": {
      "text/plain": [
       "400"
      ]
     },
     "execution_count": 33,
     "metadata": {},
     "output_type": "execute_result"
    }
   ],
   "source": [
    "cells[i]"
   ]
  },
  {
   "cell_type": "code",
   "execution_count": 34,
   "id": "ab5702d8",
   "metadata": {},
   "outputs": [
    {
     "data": {
      "text/plain": [
       "660"
      ]
     },
     "execution_count": 34,
     "metadata": {},
     "output_type": "execute_result"
    }
   ],
   "source": [
    "cells[i+1]"
   ]
  },
  {
   "cell_type": "code",
   "execution_count": null,
   "id": "cdb7b60a",
   "metadata": {},
   "outputs": [],
   "source": []
  },
  {
   "cell_type": "code",
   "execution_count": 22,
   "id": "4ec95f6c",
   "metadata": {},
   "outputs": [
    {
     "data": {
      "text/plain": [
       "0.3260535599658051"
      ]
     },
     "execution_count": 22,
     "metadata": {},
     "output_type": "execute_result"
    }
   ],
   "source": [
    "ap"
   ]
  },
  {
   "cell_type": "code",
   "execution_count": 24,
   "id": "890bd3ca",
   "metadata": {
    "scrolled": true
   },
   "outputs": [
    {
     "data": {
      "text/plain": [
       "7.6323028"
      ]
     },
     "execution_count": 24,
     "metadata": {},
     "output_type": "execute_result"
    }
   ],
   "source": [
    "cgr.mean()"
   ]
  },
  {
   "cell_type": "code",
   "execution_count": 27,
   "id": "35329732",
   "metadata": {},
   "outputs": [
    {
     "data": {
      "text/plain": [
       "(6.25, 6.5)"
      ]
     },
     "execution_count": 27,
     "metadata": {},
     "output_type": "execute_result"
    }
   ],
   "source": [
    "time_tuple"
   ]
  },
  {
   "cell_type": "code",
   "execution_count": null,
   "id": "0cd48225",
   "metadata": {},
   "outputs": [],
   "source": []
  },
  {
   "cell_type": "code",
   "execution_count": null,
   "id": "aab2f9b7",
   "metadata": {},
   "outputs": [],
   "source": []
  },
  {
   "cell_type": "code",
   "execution_count": null,
   "id": "7a4c6151",
   "metadata": {},
   "outputs": [],
   "source": []
  },
  {
   "cell_type": "code",
   "execution_count": null,
   "id": "a10dc640",
   "metadata": {},
   "outputs": [],
   "source": []
  },
  {
   "cell_type": "code",
   "execution_count": 52,
   "id": "a15fdd2a",
   "metadata": {
    "scrolled": false
   },
   "outputs": [
    {
     "ename": "KeyError",
     "evalue": "(3.5, 4.5)",
     "output_type": "error",
     "traceback": [
      "\u001b[0;31m---------------------------------------------------------------------------\u001b[0m",
      "\u001b[0;31mKeyError\u001b[0m                                  Traceback (most recent call last)",
      "Cell \u001b[0;32mIn[52], line 1\u001b[0m\n\u001b[0;32m----> 1\u001b[0m \u001b[43mresult\u001b[49m\u001b[43m[\u001b[49m\u001b[43m(\u001b[49m\u001b[38;5;241;43m3.5\u001b[39;49m\u001b[43m,\u001b[49m\u001b[43m \u001b[49m\u001b[38;5;241;43m4.5\u001b[39;49m\u001b[43m)\u001b[49m\u001b[43m]\u001b[49m\u001b[38;5;241m.\u001b[39mprior_growth_rates\n",
      "File \u001b[0;32m~/miniconda3/lib/python3.9/site-packages/moscot/problems/base/_compound_problem.py:533\u001b[0m, in \u001b[0;36mBaseCompoundProblem.__getitem__\u001b[0;34m(self, item)\u001b[0m\n\u001b[1;32m    532\u001b[0m \u001b[38;5;28;01mdef\u001b[39;00m \u001b[38;5;21m__getitem__\u001b[39m(\u001b[38;5;28mself\u001b[39m, item: Tuple[K, K]) \u001b[38;5;241m-\u001b[39m\u001b[38;5;241m>\u001b[39m B:\n\u001b[0;32m--> 533\u001b[0m     \u001b[38;5;28;01mreturn\u001b[39;00m \u001b[38;5;28;43mself\u001b[39;49m\u001b[38;5;241;43m.\u001b[39;49m\u001b[43mproblems\u001b[49m\u001b[43m[\u001b[49m\u001b[43mitem\u001b[49m\u001b[43m]\u001b[49m\n",
      "\u001b[0;31mKeyError\u001b[0m: (3.5, 4.5)"
     ]
    }
   ],
   "source": [
    "result[(3.5, 4.5)].prior_growth_rates"
   ]
  },
  {
   "cell_type": "code",
   "execution_count": 12,
   "id": "1c18def7",
   "metadata": {
    "scrolled": true
   },
   "outputs": [
    {
     "data": {
      "text/plain": [
       "array([1.516324  , 2.262105  , 2.2294652 , 0.691475  , 1.2384843 ,\n",
       "       1.4204352 , 1.6313256 , 1.2801087 , 1.0793859 , 1.1423753 ,\n",
       "       0.97168034, 1.4996556 , 1.286574  , 1.4681895 , 1.429768  ,\n",
       "       1.1128223 , 1.9699379 , 1.5912125 , 1.95343   , 1.4232569 ,\n",
       "       1.682814  , 1.6004962 , 1.2506804 , 0.8694256 , 1.3322569 ,\n",
       "       1.6551878 , 1.7712559 , 1.3879583 , 1.4331118 , 1.9446353 ,\n",
       "       1.6640384 , 1.5643923 , 1.4686795 , 1.3328084 , 1.4271312 ,\n",
       "       1.6333454 , 1.5847415 , 1.7624072 , 1.703348  , 0.9729266 ,\n",
       "       1.4094578 , 1.2636775 , 1.898906  , 1.3089905 , 1.5923388 ,\n",
       "       1.3189671 , 1.5710088 , 1.2725669 , 1.8614773 , 0.87953275,\n",
       "       1.036942  , 1.4957477 , 1.5409652 , 1.3872622 , 1.148727  ,\n",
       "       1.9339234 , 2.047886  , 1.444325  , 1.3694967 , 0.91033375,\n",
       "       1.3744962 , 2.0698364 , 1.7068255 , 1.1375473 , 1.4318004 ,\n",
       "       1.6789917 , 1.0609529 , 1.1524479 , 1.4672091 , 2.089243  ,\n",
       "       1.7782366 , 1.3371676 , 2.569455  , 1.9794396 , 1.0048853 ,\n",
       "       0.99228287, 1.1437254 , 1.0234646 , 1.1823884 , 1.4761978 ,\n",
       "       1.2803541 , 2.2470145 , 1.8401011 , 2.0400906 , 0.91127884,\n",
       "       2.0745378 , 2.2401206 , 0.76481587, 1.1045709 , 1.8582386 ],\n",
       "      dtype=float32)"
      ]
     },
     "execution_count": 12,
     "metadata": {},
     "output_type": "execute_result"
    }
   ],
   "source": [
    "result[(3.5, 4.5)].posterior_growth_rates"
   ]
  },
  {
   "cell_type": "code",
   "execution_count": 18,
   "id": "3902b1c8",
   "metadata": {},
   "outputs": [],
   "source": [
    "T=result[(3.5, 4.5)].solution.transport_matrix"
   ]
  },
  {
   "cell_type": "code",
   "execution_count": 20,
   "id": "6f310e8a",
   "metadata": {},
   "outputs": [
    {
     "data": {
      "text/plain": [
       "Array([0.01130674, 0.01686773, 0.01662435, 0.00515608, 0.00923493,\n",
       "       0.01059169, 0.01216424, 0.00954532, 0.0080486 , 0.00851829,\n",
       "       0.00724548, 0.01118241, 0.00959352, 0.01094778, 0.01066128,\n",
       "       0.00829793, 0.01468915, 0.01186512, 0.01456604, 0.01061273,\n",
       "       0.01254815, 0.01193435, 0.0093259 , 0.00648302, 0.00993418,\n",
       "       0.01234215, 0.01320764, 0.01034952, 0.01068621, 0.01450046,\n",
       "       0.01240816, 0.01166513, 0.01095143, 0.00993829, 0.01064163,\n",
       "       0.01217928, 0.01181686, 0.01314165, 0.01270127, 0.00725478,\n",
       "       0.01050984, 0.0094228 , 0.01415947, 0.00976068, 0.01187352,\n",
       "       0.00983508, 0.01171447, 0.00948909, 0.01388039, 0.00655837,\n",
       "       0.00773212, 0.01115327, 0.01149046, 0.01034433, 0.00856563,\n",
       "       0.01442059, 0.01527036, 0.01076983, 0.01021186, 0.00678804,\n",
       "       0.01024914, 0.01543404, 0.0127272 , 0.00848229, 0.01067643,\n",
       "       0.01251964, 0.00791116, 0.0085934 , 0.01094046, 0.01557875,\n",
       "       0.01325969, 0.00997079, 0.01915953, 0.01475999, 0.00749308,\n",
       "       0.00739911, 0.00852836, 0.00763162, 0.00881666, 0.01100749,\n",
       "       0.00954716, 0.0167552 , 0.01372099, 0.01521224, 0.00679509,\n",
       "       0.0154691 , 0.0167038 , 0.00570297, 0.0082364 , 0.01385623],      dtype=float32)"
      ]
     },
     "execution_count": 20,
     "metadata": {},
     "output_type": "execute_result"
    }
   ],
   "source": [
    "T.sum(1)"
   ]
  },
  {
   "cell_type": "code",
   "execution_count": 31,
   "id": "1bf473cf",
   "metadata": {},
   "outputs": [],
   "source": [
    "gr=result[(3.5, 4.5)].posterior_growth_rates"
   ]
  },
  {
   "cell_type": "code",
   "execution_count": 36,
   "id": "eb3da6ba",
   "metadata": {},
   "outputs": [
    {
     "data": {
      "text/plain": [
       "Array([0.01132012, 0.01688769, 0.01664402, 0.00516218, 0.00924586,\n",
       "       0.01060422, 0.01217864, 0.00955662, 0.00805813, 0.00852838,\n",
       "       0.00725405, 0.01119564, 0.00960488, 0.01096074, 0.0106739 ,\n",
       "       0.00830775, 0.01470653, 0.01187916, 0.01458328, 0.01062529,\n",
       "       0.012563  , 0.01194847, 0.00933694, 0.00649069, 0.00994594,\n",
       "       0.01235676, 0.01322327, 0.01036177, 0.01069886, 0.01451762,\n",
       "       0.01242284, 0.01167893, 0.01096439, 0.00995005, 0.01065422,\n",
       "       0.0121937 , 0.01183085, 0.01315721, 0.0127163 , 0.00726336,\n",
       "       0.01052228, 0.00943396, 0.01417623, 0.00977224, 0.01188757,\n",
       "       0.00984672, 0.01172833, 0.00950032, 0.01389682, 0.00656614,\n",
       "       0.00774127, 0.01116647, 0.01150406, 0.01035657, 0.00857577,\n",
       "       0.01443766, 0.01528844, 0.01078258, 0.01022395, 0.00679608,\n",
       "       0.01026127, 0.01545231, 0.01274226, 0.00849233, 0.01068907,\n",
       "       0.01253446, 0.00792053, 0.00860357, 0.01095341, 0.01559719,\n",
       "       0.01327538, 0.00998259, 0.01918221, 0.01477746, 0.00750195,\n",
       "       0.00740786, 0.00853845, 0.00764065, 0.0088271 , 0.01102052,\n",
       "       0.00955846, 0.01677503, 0.01373723, 0.01523025, 0.00680313,\n",
       "       0.01548741, 0.01672357, 0.00570972, 0.00824615, 0.01387263],      dtype=float32)"
      ]
     },
     "execution_count": 36,
     "metadata": {},
     "output_type": "execute_result"
    }
   ],
   "source": [
    "T.sum(1)/T.sum()"
   ]
  },
  {
   "cell_type": "code",
   "execution_count": 37,
   "id": "e38cfbc5",
   "metadata": {},
   "outputs": [
    {
     "data": {
      "text/plain": [
       "array([0.01132008, 0.01688769, 0.01664402, 0.00516219, 0.00924588,\n",
       "       0.01060423, 0.01217862, 0.00955662, 0.00805813, 0.00852838,\n",
       "       0.00725406, 0.01119564, 0.00960489, 0.01096074, 0.0106739 ,\n",
       "       0.00830775, 0.01470653, 0.01187916, 0.01458329, 0.01062529,\n",
       "       0.01256301, 0.01194847, 0.00933693, 0.00649068, 0.00994593,\n",
       "       0.01235677, 0.01322327, 0.01036177, 0.01069886, 0.01451763,\n",
       "       0.01242284, 0.01167894, 0.01096439, 0.00995005, 0.01065422,\n",
       "       0.0121937 , 0.01183085, 0.01315721, 0.01271631, 0.00726336,\n",
       "       0.01052228, 0.00943396, 0.01417624, 0.00977224, 0.01188757,\n",
       "       0.00984672, 0.01172833, 0.00950032, 0.01389682, 0.00656613,\n",
       "       0.00774127, 0.01116647, 0.01150404, 0.01035658, 0.0085758 ,\n",
       "       0.01443766, 0.01528845, 0.01078258, 0.01022395, 0.00679608,\n",
       "       0.01026127, 0.01545232, 0.01274227, 0.00849233, 0.01068907,\n",
       "       0.01253447, 0.00792052, 0.00860357, 0.01095342, 0.0155972 ,\n",
       "       0.01327539, 0.00998259, 0.01918221, 0.01477746, 0.00750195,\n",
       "       0.00740787, 0.00853846, 0.00764065, 0.00882709, 0.01102052,\n",
       "       0.00955846, 0.01677504, 0.01373723, 0.01523025, 0.00680313,\n",
       "       0.01548741, 0.01672357, 0.00570972, 0.00824615, 0.01387264],\n",
       "      dtype=float32)"
      ]
     },
     "execution_count": 37,
     "metadata": {},
     "output_type": "execute_result"
    }
   ],
   "source": [
    "gr/gr.sum()"
   ]
  },
  {
   "cell_type": "code",
   "execution_count": null,
   "id": "77f2ec33",
   "metadata": {},
   "outputs": [],
   "source": []
  },
  {
   "cell_type": "code",
   "execution_count": null,
   "id": "7ca9730d",
   "metadata": {},
   "outputs": [],
   "source": [
    "save(dir_path[, file_prefix, overwrite])"
   ]
  },
  {
   "cell_type": "code",
   "execution_count": 140,
   "id": "0934772d",
   "metadata": {},
   "outputs": [
    {
     "name": "stdout",
     "output_type": "stream",
     "text": [
      "\u001b[34mINFO    \u001b[0m Successfully saved the problem as                                                                         \n",
      "         `\u001b[35m/home/icb/manuel.gander/moscotTime_Reproducibility/Data/moscot_maps/\u001b[0m\u001b[95mE3.5_TemporalProblem.pkl\u001b[0m`            \n"
     ]
    }
   ],
   "source": [
    "tp.save(f'{Path}/moscot_maps/', f'{ts0}')"
   ]
  },
  {
   "cell_type": "code",
   "execution_count": null,
   "id": "f5bdaf94",
   "metadata": {},
   "outputs": [],
   "source": []
  },
  {
   "cell_type": "code",
   "execution_count": 144,
   "id": "d1c46ff7",
   "metadata": {},
   "outputs": [],
   "source": [
    "tp=tp.load(f'{Path}/moscot_maps/{ts0}_TemporalProblem.pkl')"
   ]
  },
  {
   "cell_type": "code",
   "execution_count": 148,
   "id": "53d5381c",
   "metadata": {
    "collapsed": true
   },
   "outputs": [
    {
     "data": {
      "text/plain": [
       "array([1.74635174, 2.58819747, 2.28579773, 1.10982672, 1.77890424,\n",
       "       1.36235977, 2.01571155, 1.64890756, 1.45195649, 1.66700088,\n",
       "       1.03753039, 1.5426195 , 1.65465152, 1.35361   , 1.43312474,\n",
       "       1.03071585, 1.84696893, 1.47390778, 1.79060743, 1.3101418 ,\n",
       "       1.78467567, 1.60605323, 1.28677735, 1.21873822, 1.22032073,\n",
       "       1.5157602 , 1.61381278, 1.26514752, 1.75844924, 1.83664127,\n",
       "       1.5410088 , 1.44346247, 1.35858502, 1.21669276, 1.77446452,\n",
       "       1.54702357, 1.45859248, 1.62241706, 1.56301952, 0.8905782 ,\n",
       "       1.30606454, 1.16530294, 1.74136154, 1.27472795, 1.47030881,\n",
       "       1.36049107, 1.50054964, 1.16731084, 1.71458029, 0.89891862,\n",
       "       1.27368849, 1.36723378, 1.44226697, 1.2712985 , 1.1730001 ,\n",
       "       1.78454436, 1.90461412, 1.32664719, 1.31688386, 0.83342317,\n",
       "       1.26541533, 1.90625208, 1.61279114, 1.05491114, 1.45819064,\n",
       "       1.81738972, 1.00426039, 1.06404513, 1.39366979, 1.93536837,\n",
       "       1.64538766, 1.22999253, 2.34962313, 1.80549249, 0.96383431,\n",
       "       0.90515112, 1.08422033, 0.94591163, 1.42610179, 1.39653346,\n",
       "       1.18107345, 2.09491746, 1.72328678, 1.98573505, 1.15081382,\n",
       "       2.15886652, 2.14306308, 1.08364104, 1.27886433, 2.09933   ])"
      ]
     },
     "execution_count": 148,
     "metadata": {},
     "output_type": "execute_result"
    }
   ],
   "source": [
    "tp[(3.5, 4.5)].prior_growth_rates"
   ]
  },
  {
   "cell_type": "code",
   "execution_count": null,
   "id": "bb4a4057",
   "metadata": {},
   "outputs": [],
   "source": []
  },
  {
   "cell_type": "code",
   "execution_count": null,
   "id": "497b6902",
   "metadata": {},
   "outputs": [],
   "source": []
  },
  {
   "cell_type": "code",
   "execution_count": null,
   "id": "30e4b06b",
   "metadata": {},
   "outputs": [],
   "source": []
  },
  {
   "cell_type": "code",
   "execution_count": null,
   "id": "de8f3cb9",
   "metadata": {},
   "outputs": [],
   "source": []
  }
 ],
 "metadata": {
  "kernelspec": {
   "display_name": "phos",
   "language": "python",
   "name": "phos"
  },
  "language_info": {
   "codemirror_mode": {
    "name": "ipython",
    "version": 3
   },
   "file_extension": ".py",
   "mimetype": "text/x-python",
   "name": "python",
   "nbconvert_exporter": "python",
   "pygments_lexer": "ipython3",
   "version": "3.10.5"
  }
 },
 "nbformat": 4,
 "nbformat_minor": 5
}
