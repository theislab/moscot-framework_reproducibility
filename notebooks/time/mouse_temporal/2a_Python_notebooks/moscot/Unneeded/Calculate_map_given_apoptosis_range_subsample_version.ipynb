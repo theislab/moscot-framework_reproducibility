{
 "cells": [
  {
   "cell_type": "code",
   "execution_count": 8,
   "id": "eea495f6",
   "metadata": {},
   "outputs": [],
   "source": [
    "# Setting jax to use float64, makes the algorithm more stable\n",
    "from jax.config import config\n",
    "config.update(\"jax_enable_x64\", True)\n",
    "\n",
    "# The lines below are useful to customize RAM-Memory usage\n",
    "import os\n",
    "# By default, OTT takes 90% of RAM-memory. Using the line below it uses exactly how much it needs\n",
    "os.environ['XLA_PYTHON_CLIENT_PREALLOCATE'] = 'false'\n",
    "# This frees RAM-Memory if no longer needed, but might slow down computations (I didn't observe that)\n",
    "os.environ['XLA_PYTHON_CLIENT_ALLOCATOR']='platform'\n",
    "\n",
    "\n",
    "import numpy as np\n",
    "import anndata\n",
    "import pandas as pd\n",
    "import scanpy as sc\n",
    "import scipy\n",
    "import time\n",
    "\n",
    "from moscot.problems.time._lineage import TemporalProblem\n",
    "from moscot.backends.ott._solver import SinkhornSolver"
   ]
  },
  {
   "cell_type": "code",
   "execution_count": 4,
   "id": "e0b23fce",
   "metadata": {},
   "outputs": [],
   "source": [
    "Path=\"/home/icb/manuel.gander/moscotTime_Reproducibility/Data\"\n",
    "ts=['E3.5', 'E4.5', 'E5.25', 'E5.5', 'E6.25', 'E6.5', 'E6.75', 'E7.0', 'E7.25', 'E7.5', 'E7.75', 'E8.0', 'E8.25', 'E8.5a', 'E8.5b', 'E9.5', 'E10.5', 'E11.5', 'E12.5', 'E13.5']"
   ]
  },
  {
   "cell_type": "markdown",
   "id": "e81f8e21",
   "metadata": {},
   "source": [
    "# Calculate transport maps"
   ]
  },
  {
   "cell_type": "code",
   "execution_count": 9,
   "id": "984fce84",
   "metadata": {},
   "outputs": [],
   "source": [
    "def growth_rates_to_apoptosis_ratio(growth_rates, ts0, ts1):\n",
    "    \n",
    "    # I got these cell numbers from http://tome.gs.washington.edu/, and they got them from the experiments or \n",
    "    # for E8.5b they estimated it themselves (it was their experiment)\n",
    "    \n",
    "    cells=[32, 80, 100, 120, 400, 660, 1720, 4500, 8200, 15000, 30000, 60000, 73000, 90000, 90000, 200000, 1100000, 2600000, 6000000, 13000000]\n",
    "    Cell_number_dict={}\n",
    "    for i in range(20):\n",
    "        Cell_number_dict[ts[i]]=cells[i]\n",
    "    \n",
    "    cellular_growth_rates=growth_rates*Cell_number_dict[ts1]/Cell_number_dict[ts0]\n",
    "    apoptotic_cells=cellular_growth_rates[cellular_growth_rates<1]\n",
    "    sum_apoptotic_cells=(1-apoptotic_cells).sum()\n",
    "    perc_apoptotic_cells=sum_apoptotic_cells/len(growth_rates)\n",
    "    \n",
    "    return(perc_apoptotic_cells)\n",
    "\n",
    "\n",
    "\n",
    "def lambda_to_growth_rates(adata, epsilon, lam1, score_genes=True):\n",
    "    time_tuple=tuple(sorted(set(adata.obs['day'])))\n",
    "    \n",
    "    tp=TemporalProblem(adata)\n",
    "    \n",
    "    if score_genes:\n",
    "        tp.score_genes_for_marginals(gene_set_proliferation='mouse',  gene_set_apoptosis='mouse')\n",
    "    tp = tp.prepare('day', joint_attr=f'X_pcaS')\n",
    "    \n",
    "    \n",
    "    if len(adata)<=10**5:\n",
    "        batch_size=20000\n",
    "    else:\n",
    "        batch_size=20000\n",
    "    \n",
    "    lam2=lam1*100\n",
    "    \n",
    "    tau1=lam1/(lam1+epsilon)\n",
    "    tau2=lam2/(lam2+epsilon)\n",
    "    print(batch_size)\n",
    "    result=tp.solve(batch_size=batch_size, epsilon=epsilon, tau_a=tau1, tau_b=tau2, scale_cost=\"mean\", max_iterations=10**6)\n",
    "    \n",
    "    # ToDo: Tell Dominik to fix posterior_growth_rates, .solutions.a corresponds to transport_matrix.sum(1)\n",
    "    growth_rates=np.array(result[time_tuple].solution.a)\n",
    "    growth_rates=growth_rates/np.mean(growth_rates)\n",
    "    return(growth_rates, result)\n",
    "\n",
    "\n",
    "\n",
    "def given_apoptosis_rate_find_lam(adata, ts0, ts1, epsilon, ap_min, ap_max, posterior_search=False, lam_init=None):\n",
    "    # For the big data sets, it is faster to subsample to find the right lambda, and then to compute the full map\n",
    "    # in the end once. Apoptosis rate typically stay approxiamtely the same\n",
    "\n",
    "    # Lambdas are in log-scale, i.e. lam=10**x, with x in linear scale\n",
    "    xm=-1\n",
    "    x_interval_initial=[4, -6]    \n",
    "    \n",
    "    # This is only used for the big data sets, where lambda search is done on a subsampled set. The lambdas found in\n",
    "    # the subsampled case should already correspond to the right apoptosis rates, but in case they do not, find the\n",
    "    # right lambda in the not subsampled data set\n",
    "    if posterior_search:\n",
    "        xm=np.log10(lam)\n",
    "        x_interval_initial=[xm+2, xm-2]\n",
    "        \n",
    "        \n",
    "    x_interval=x_interval_initial.copy()\n",
    "        \n",
    "    \n",
    "    time0=time.time()\n",
    "    \n",
    "    \n",
    "    \n",
    "    while(True):\n",
    "        lam=10**xm\n",
    "        \n",
    "        result=0\n",
    "        \n",
    "        growth_rates, result=lambda_to_growth_rates(adata, epsilon, lam)\n",
    "        perc_apop=growth_rates_to_apoptosis_ratio(growth_rates, ts0, ts1)\n",
    "        print(lam)\n",
    "        print(perc_apop)\n",
    "        \n",
    "        print(time.time()-time0)\n",
    "        t0=time.time()\n",
    "        time.sleep(0.1)\n",
    "\n",
    "        if ap_min<=perc_apop<=ap_max:\n",
    "            # First entry is whether it was sucessful\n",
    "            return(lam, result)\n",
    "\n",
    "        elif xm>max(x_interval_initial)-1 or xm<min(x_interval_initial)+1:\n",
    "            # Not successful\n",
    "            return(np.NaN, np.NaN)\n",
    "\n",
    "        else:\n",
    "            if ap_max<perc_apop:\n",
    "                x_interval=[x_interval[0], xm]\n",
    "            elif ap_min>perc_apop:\n",
    "                x_interval=[xm, x_interval[1]]\n",
    "            xm=np.mean(x_interval)"
   ]
  },
  {
   "cell_type": "code",
   "execution_count": 6,
   "id": "bfb71f14",
   "metadata": {},
   "outputs": [],
   "source": [
    "def compute_map_given_apoptosis_rate(adata, ts0, ts1, epsilon, ap_min, ap_max):\n",
    "    # For the big data set, estimate lambda on a subsampled set to speed up computations\n",
    "    if len(adata)>100000:\n",
    "        adatas=sc.pp.subsample(adata, n_obs=10**5, copy=True)\n",
    "        print('Subsampling to find lambda')\n",
    "    else:\n",
    "        adatas=adata.copy()\n",
    "        \n",
    "    lam, result=given_apoptosis_rate_find_lam(adatas, ts0, ts1, epsilon, ap_min, ap_max)\n",
    "    \n",
    "    if len(adatas)!=len(adata):\n",
    "        result=0\n",
    "        lam, result=given_apoptosis_rate_find_lam(adata, ts0, ts1, epsilon, ap_min, ap_max, posterior_serch=True, lam_init=lam)\n",
    "    \n",
    "    return(not np.isnan(lam), result, lam)"
   ]
  },
  {
   "cell_type": "markdown",
   "id": "749740dc",
   "metadata": {},
   "source": [
    "# Loop over all time points"
   ]
  },
  {
   "cell_type": "code",
   "execution_count": 15,
   "id": "2ce119c0",
   "metadata": {
    "scrolled": true
   },
   "outputs": [
    {
     "name": "stdout",
     "output_type": "stream",
     "text": [
      "E8.5b\n",
      "WARNING: Your filename has more than two extensions: ['.5b_E9', '.5', '.h5ad'].\n",
      "Only considering the two last: ['.5', '.h5ad'].\n",
      "WARNING: Your filename has more than two extensions: ['.5b_E9', '.5', '.h5ad'].\n",
      "Only considering the two last: ['.5', '.h5ad'].\n",
      "Subsampling to find lambda\n",
      "WARNING: genes are not in var_names and ignored: ['Hn1', 'Mlf1ip', 'Fam64a', 'Pola1']\n"
     ]
    },
    {
     "name": "stderr",
     "output_type": "stream",
     "text": [
      "/home/icb/manuel.gander/miniconda3/lib/python3.9/site-packages/scanpy/tools/_score_genes.py:151: FutureWarning: Passing a set as an indexer is deprecated and will raise in a future version. Use a list instead.\n",
      "  for cut in np.unique(obs_cut.loc[gene_list]):\n"
     ]
    },
    {
     "name": "stdout",
     "output_type": "stream",
     "text": [
      "WARNING: genes are not in var_names and ignored: ['Adck3', 'Fgf13', 'Irak1', 'Tspyl2', 'Sat1', 'Ikbkap', 'H2afj', 'Lrmp', 'Gnb2l1', 'Hist3h2a', 'Hist1h1c']\n"
     ]
    },
    {
     "name": "stderr",
     "output_type": "stream",
     "text": [
      "/home/icb/manuel.gander/miniconda3/lib/python3.9/site-packages/scanpy/tools/_score_genes.py:151: FutureWarning: Passing a set as an indexer is deprecated and will raise in a future version. Use a list instead.\n",
      "  for cut in np.unique(obs_cut.loc[gene_list]):\n"
     ]
    },
    {
     "name": "stdout",
     "output_type": "stream",
     "text": [
      "20000\n",
      "\u001b[34mINFO    \u001b[0m Solving problem BirthDeathProblem\u001b[1m[\u001b[0m\u001b[33mstage\u001b[0m=\u001b[32m'prepared'\u001b[0m, \u001b[33mshape\u001b[0m=\u001b[1m(\u001b[0m\u001b[1;36m58177\u001b[0m, \u001b[1;36m41823\u001b[0m\u001b[1m)\u001b[0m\u001b[1m]\u001b[0m.                                \n",
      "0.1\n",
      "0.08542798571977343\n"
     ]
    },
    {
     "ename": "UnboundLocalError",
     "evalue": "local variable 't0' referenced before assignment",
     "output_type": "error",
     "traceback": [
      "\u001b[0;31m---------------------------------------------------------------------------\u001b[0m",
      "\u001b[0;31mUnboundLocalError\u001b[0m                         Traceback (most recent call last)",
      "Cell \u001b[0;32mIn[15], line 15\u001b[0m\n\u001b[1;32m     11\u001b[0m adata\u001b[38;5;241m=\u001b[39msc\u001b[38;5;241m.\u001b[39mread(\u001b[38;5;124mf\u001b[39m\u001b[38;5;124m\"\u001b[39m\u001b[38;5;132;01m{\u001b[39;00mPath\u001b[38;5;132;01m}\u001b[39;00m\u001b[38;5;124m/anndatas/adata_\u001b[39m\u001b[38;5;132;01m{\u001b[39;00mts0\u001b[38;5;132;01m}\u001b[39;00m\u001b[38;5;124m_\u001b[39m\u001b[38;5;132;01m{\u001b[39;00mts1\u001b[38;5;132;01m}\u001b[39;00m\u001b[38;5;124m.h5ad\u001b[39m\u001b[38;5;124m\"\u001b[39m)\n\u001b[1;32m     13\u001b[0m \u001b[38;5;28;01mdel\u001b[39;00m adata\u001b[38;5;241m.\u001b[39mraw\n\u001b[0;32m---> 15\u001b[0m success, result, lam\u001b[38;5;241m=\u001b[39m\u001b[43mcompute_map_given_apoptosis_rate\u001b[49m\u001b[43m(\u001b[49m\u001b[43madata\u001b[49m\u001b[43m,\u001b[49m\u001b[43m \u001b[49m\u001b[43mts0\u001b[49m\u001b[43m,\u001b[49m\u001b[43m \u001b[49m\u001b[43mts1\u001b[49m\u001b[43m,\u001b[49m\u001b[43m \u001b[49m\u001b[43mepsilon\u001b[49m\u001b[43m,\u001b[49m\u001b[43m \u001b[49m\u001b[43map_min\u001b[49m\u001b[43m,\u001b[49m\u001b[43m \u001b[49m\u001b[43map_max\u001b[49m\u001b[43m)\u001b[49m\n\u001b[1;32m     17\u001b[0m \u001b[38;5;28;01mif\u001b[39;00m success:\n\u001b[1;32m     18\u001b[0m     result\u001b[38;5;241m.\u001b[39msave(\u001b[38;5;124mf\u001b[39m\u001b[38;5;124m'\u001b[39m\u001b[38;5;132;01m{\u001b[39;00mPath\u001b[38;5;132;01m}\u001b[39;00m\u001b[38;5;124m/moscot_maps/\u001b[39m\u001b[38;5;124m'\u001b[39m, \u001b[38;5;124mf\u001b[39m\u001b[38;5;124m'\u001b[39m\u001b[38;5;132;01m{\u001b[39;00mts0\u001b[38;5;132;01m}\u001b[39;00m\u001b[38;5;124m_\u001b[39m\u001b[38;5;132;01m{\u001b[39;00mepsilon\u001b[38;5;132;01m}\u001b[39;00m\u001b[38;5;124m_\u001b[39m\u001b[38;5;132;01m{\u001b[39;00map_min\u001b[38;5;132;01m}\u001b[39;00m\u001b[38;5;124m_\u001b[39m\u001b[38;5;132;01m{\u001b[39;00map_max\u001b[38;5;132;01m}\u001b[39;00m\u001b[38;5;124m'\u001b[39m, overwrite\u001b[38;5;241m=\u001b[39m\u001b[38;5;28;01mTrue\u001b[39;00m)\n",
      "Cell \u001b[0;32mIn[14], line 9\u001b[0m, in \u001b[0;36mcompute_map_given_apoptosis_rate\u001b[0;34m(adata, ts0, ts1, epsilon, ap_min, ap_max)\u001b[0m\n\u001b[1;32m      6\u001b[0m \u001b[38;5;28;01melse\u001b[39;00m:\n\u001b[1;32m      7\u001b[0m     adatas\u001b[38;5;241m=\u001b[39madata\u001b[38;5;241m.\u001b[39mcopy()\n\u001b[0;32m----> 9\u001b[0m lam, result\u001b[38;5;241m=\u001b[39m\u001b[43mgiven_apoptosis_rate_find_lam\u001b[49m\u001b[43m(\u001b[49m\u001b[43madatas\u001b[49m\u001b[43m,\u001b[49m\u001b[43m \u001b[49m\u001b[43mts0\u001b[49m\u001b[43m,\u001b[49m\u001b[43m \u001b[49m\u001b[43mts1\u001b[49m\u001b[43m,\u001b[49m\u001b[43m \u001b[49m\u001b[43mepsilon\u001b[49m\u001b[43m,\u001b[49m\u001b[43m \u001b[49m\u001b[43map_min\u001b[49m\u001b[43m,\u001b[49m\u001b[43m \u001b[49m\u001b[43map_max\u001b[49m\u001b[43m)\u001b[49m\n\u001b[1;32m     11\u001b[0m \u001b[38;5;28;01mif\u001b[39;00m \u001b[38;5;28mlen\u001b[39m(adatas)\u001b[38;5;241m!=\u001b[39m\u001b[38;5;28mlen\u001b[39m(adata):\n\u001b[1;32m     12\u001b[0m     lam, result\u001b[38;5;241m=\u001b[39mgiven_apoptosis_rate_find_lam(adata, ts0, ts1, epsilon, ap_min, ap_max, posterior_serch\u001b[38;5;241m=\u001b[39m\u001b[38;5;28;01mTrue\u001b[39;00m, lam_init\u001b[38;5;241m=\u001b[39mlam)\n",
      "Cell \u001b[0;32mIn[13], line 80\u001b[0m, in \u001b[0;36mgiven_apoptosis_rate_find_lam\u001b[0;34m(adata, ts0, ts1, epsilon, ap_min, ap_max, posterior_search, lam_init)\u001b[0m\n\u001b[1;32m     77\u001b[0m \u001b[38;5;28mprint\u001b[39m(lam)\n\u001b[1;32m     78\u001b[0m \u001b[38;5;28mprint\u001b[39m(perc_apop)\n\u001b[0;32m---> 80\u001b[0m \u001b[38;5;28mprint\u001b[39m(time\u001b[38;5;241m.\u001b[39mtime()\u001b[38;5;241m-\u001b[39m\u001b[43mt0\u001b[49m)\n\u001b[1;32m     81\u001b[0m t0\u001b[38;5;241m=\u001b[39mtime\u001b[38;5;241m.\u001b[39mtime()\n\u001b[1;32m     82\u001b[0m time\u001b[38;5;241m.\u001b[39msleep(\u001b[38;5;241m0.1\u001b[39m)\n",
      "\u001b[0;31mUnboundLocalError\u001b[0m: local variable 't0' referenced before assignment"
     ]
    }
   ],
   "source": [
    "epsilon=0.005\n",
    "ap_min=0.02\n",
    "ap_max=0.04\n",
    "\n",
    "for i in range(13,19):\n",
    "    if i==13:\n",
    "        continue\n",
    "    ts0=ts[i]\n",
    "    ts1=ts[i+1]\n",
    "    print(ts0)\n",
    "    adata=sc.read(f\"{Path}/anndatas/adata_{ts0}_{ts1}.h5ad\")\n",
    "\n",
    "    del adata.raw\n",
    "        \n",
    "    success, result, lam=compute_map_given_apoptosis_rate(adata, ts0, ts1, epsilon, ap_min, ap_max)\n",
    "    \n",
    "    if success:\n",
    "        result.save(f'{Path}/moscot_maps/', f'{ts0}_{epsilon}_{ap_min}_{ap_max}', overwrite=True)\n",
    "        np.save(f'{Path}/moscot_maps/{ts0}_{epsilon}_{ap_min}_{ap_max}_used_lam.npy', lam)    \n",
    "    print('-------------------------------------------------------------------')"
   ]
  },
  {
   "cell_type": "code",
   "execution_count": null,
   "id": "7421134e",
   "metadata": {},
   "outputs": [],
   "source": []
  },
  {
   "cell_type": "code",
   "execution_count": 7,
   "id": "6efb09fd",
   "metadata": {
    "scrolled": true
   },
   "outputs": [
    {
     "name": "stdout",
     "output_type": "stream",
     "text": [
      "E8.5b\n",
      "WARNING: Your filename has more than two extensions: ['.5b_E9', '.5', '.h5ad'].\n",
      "Only considering the two last: ['.5', '.h5ad'].\n",
      "WARNING: Your filename has more than two extensions: ['.5b_E9', '.5', '.h5ad'].\n",
      "Only considering the two last: ['.5', '.h5ad'].\n",
      "Subsampling to find lambda\n"
     ]
    },
    {
     "ename": "NameError",
     "evalue": "name 'time' is not defined",
     "output_type": "error",
     "traceback": [
      "\u001b[0;31m---------------------------------------------------------------------------\u001b[0m",
      "\u001b[0;31mNameError\u001b[0m                                 Traceback (most recent call last)",
      "Cell \u001b[0;32mIn[7], line 13\u001b[0m\n\u001b[1;32m      9\u001b[0m adata\u001b[38;5;241m=\u001b[39msc\u001b[38;5;241m.\u001b[39mread(\u001b[38;5;124mf\u001b[39m\u001b[38;5;124m\"\u001b[39m\u001b[38;5;132;01m{\u001b[39;00mPath\u001b[38;5;132;01m}\u001b[39;00m\u001b[38;5;124m/anndatas/adata_\u001b[39m\u001b[38;5;132;01m{\u001b[39;00mts0\u001b[38;5;132;01m}\u001b[39;00m\u001b[38;5;124m_\u001b[39m\u001b[38;5;132;01m{\u001b[39;00mts1\u001b[38;5;132;01m}\u001b[39;00m\u001b[38;5;124m.h5ad\u001b[39m\u001b[38;5;124m\"\u001b[39m)\n\u001b[1;32m     11\u001b[0m \u001b[38;5;28;01mdel\u001b[39;00m adata\u001b[38;5;241m.\u001b[39mraw\n\u001b[0;32m---> 13\u001b[0m success, result, lam\u001b[38;5;241m=\u001b[39m\u001b[43mcompute_map_given_apoptosis_rate\u001b[49m\u001b[43m(\u001b[49m\u001b[43madata\u001b[49m\u001b[43m,\u001b[49m\u001b[43m \u001b[49m\u001b[43mts0\u001b[49m\u001b[43m,\u001b[49m\u001b[43m \u001b[49m\u001b[43mts1\u001b[49m\u001b[43m,\u001b[49m\u001b[43m \u001b[49m\u001b[43mepsilon\u001b[49m\u001b[43m,\u001b[49m\u001b[43m \u001b[49m\u001b[43map_min\u001b[49m\u001b[43m,\u001b[49m\u001b[43m \u001b[49m\u001b[43map_max\u001b[49m\u001b[43m)\u001b[49m\n",
      "Cell \u001b[0;32mIn[6], line 9\u001b[0m, in \u001b[0;36mcompute_map_given_apoptosis_rate\u001b[0;34m(adata, ts0, ts1, epsilon, ap_min, ap_max)\u001b[0m\n\u001b[1;32m      6\u001b[0m \u001b[38;5;28;01melse\u001b[39;00m:\n\u001b[1;32m      7\u001b[0m     adatas\u001b[38;5;241m=\u001b[39madata\u001b[38;5;241m.\u001b[39mcopy()\n\u001b[0;32m----> 9\u001b[0m lam, result\u001b[38;5;241m=\u001b[39m\u001b[43mgiven_apoptosis_rate_find_lam\u001b[49m\u001b[43m(\u001b[49m\u001b[43madatas\u001b[49m\u001b[43m,\u001b[49m\u001b[43m \u001b[49m\u001b[43mts0\u001b[49m\u001b[43m,\u001b[49m\u001b[43m \u001b[49m\u001b[43mts1\u001b[49m\u001b[43m,\u001b[49m\u001b[43m \u001b[49m\u001b[43mepsilon\u001b[49m\u001b[43m,\u001b[49m\u001b[43m \u001b[49m\u001b[43map_min\u001b[49m\u001b[43m,\u001b[49m\u001b[43m \u001b[49m\u001b[43map_max\u001b[49m\u001b[43m)\u001b[49m\n\u001b[1;32m     11\u001b[0m \u001b[38;5;28;01mif\u001b[39;00m \u001b[38;5;28mlen\u001b[39m(adatas)\u001b[38;5;241m!=\u001b[39m\u001b[38;5;28mlen\u001b[39m(adata):\n\u001b[1;32m     12\u001b[0m     result\u001b[38;5;241m=\u001b[39m\u001b[38;5;241m0\u001b[39m\n",
      "Cell \u001b[0;32mIn[5], line 68\u001b[0m, in \u001b[0;36mgiven_apoptosis_rate_find_lam\u001b[0;34m(adata, ts0, ts1, epsilon, ap_min, ap_max, posterior_search, lam_init)\u001b[0m\n\u001b[1;32m     62\u001b[0m     x_interval_initial\u001b[38;5;241m=\u001b[39m[xm\u001b[38;5;241m+\u001b[39m\u001b[38;5;241m2\u001b[39m, xm\u001b[38;5;241m-\u001b[39m\u001b[38;5;241m2\u001b[39m]\n\u001b[1;32m     65\u001b[0m x_interval\u001b[38;5;241m=\u001b[39mx_interval_initial\u001b[38;5;241m.\u001b[39mcopy()\n\u001b[0;32m---> 68\u001b[0m time0\u001b[38;5;241m=\u001b[39m\u001b[43mtime\u001b[49m\u001b[38;5;241m.\u001b[39mtime()\n\u001b[1;32m     72\u001b[0m \u001b[38;5;28;01mwhile\u001b[39;00m(\u001b[38;5;28;01mTrue\u001b[39;00m):\n\u001b[1;32m     73\u001b[0m     lam\u001b[38;5;241m=\u001b[39m\u001b[38;5;241m10\u001b[39m\u001b[38;5;241m*\u001b[39m\u001b[38;5;241m*\u001b[39mxm\n",
      "\u001b[0;31mNameError\u001b[0m: name 'time' is not defined"
     ]
    }
   ],
   "source": [
    "epsilon=0.005\n",
    "ap_min=0.02\n",
    "ap_max=0.04\n",
    "\n",
    "i=14\n",
    "ts0=ts[i]\n",
    "ts1=ts[i+1]\n",
    "print(ts0)\n",
    "adata=sc.read(f\"{Path}/anndatas/adata_{ts0}_{ts1}.h5ad\")\n",
    "\n",
    "del adata.raw\n",
    "\n",
    "success, result, lam=compute_map_given_apoptosis_rate(adata, ts0, ts1, epsilon, ap_min, ap_max)\n"
   ]
  },
  {
   "cell_type": "code",
   "execution_count": null,
   "id": "728bbc69",
   "metadata": {},
   "outputs": [],
   "source": []
  },
  {
   "cell_type": "code",
   "execution_count": null,
   "id": "0deaf6b7",
   "metadata": {},
   "outputs": [],
   "source": []
  },
  {
   "cell_type": "code",
   "execution_count": null,
   "id": "22135602",
   "metadata": {
    "scrolled": true
   },
   "outputs": [
    {
     "name": "stdout",
     "output_type": "stream",
     "text": [
      "Subsampling to find lambda\n",
      "WARNING: genes are not in var_names and ignored: ['Hn1', 'Mlf1ip', 'Fam64a', 'Pola1']\n"
     ]
    },
    {
     "name": "stderr",
     "output_type": "stream",
     "text": [
      "/home/icb/manuel.gander/miniconda3/lib/python3.9/site-packages/scanpy/tools/_score_genes.py:151: FutureWarning: Passing a set as an indexer is deprecated and will raise in a future version. Use a list instead.\n",
      "  for cut in np.unique(obs_cut.loc[gene_list]):\n"
     ]
    },
    {
     "name": "stdout",
     "output_type": "stream",
     "text": [
      "WARNING: genes are not in var_names and ignored: ['Adck3', 'Fgf13', 'Irak1', 'Tspyl2', 'Sat1', 'Ikbkap', 'H2afj', 'Lrmp', 'Gnb2l1', 'Hist3h2a', 'Hist1h1c']\n"
     ]
    },
    {
     "name": "stderr",
     "output_type": "stream",
     "text": [
      "/home/icb/manuel.gander/miniconda3/lib/python3.9/site-packages/scanpy/tools/_score_genes.py:151: FutureWarning: Passing a set as an indexer is deprecated and will raise in a future version. Use a list instead.\n",
      "  for cut in np.unique(obs_cut.loc[gene_list]):\n"
     ]
    },
    {
     "name": "stdout",
     "output_type": "stream",
     "text": [
      "20000\n",
      "\u001b[34mINFO    \u001b[0m Solving problem BirthDeathProblem\u001b[1m[\u001b[0m\u001b[33mstage\u001b[0m=\u001b[32m'prepared'\u001b[0m, \u001b[33mshape\u001b[0m=\u001b[1m(\u001b[0m\u001b[1;36m58177\u001b[0m, \u001b[1;36m41823\u001b[0m\u001b[1m)\u001b[0m\u001b[1m]\u001b[0m.                                \n",
      "0.1\n",
      "0.08542798571977343\n",
      "191.9025821685791\n",
      "WARNING: genes are not in var_names and ignored: ['Hn1', 'Mlf1ip', 'Fam64a', 'Pola1']\n"
     ]
    },
    {
     "name": "stderr",
     "output_type": "stream",
     "text": [
      "/home/icb/manuel.gander/miniconda3/lib/python3.9/site-packages/scanpy/tools/_score_genes.py:151: FutureWarning: Passing a set as an indexer is deprecated and will raise in a future version. Use a list instead.\n",
      "  for cut in np.unique(obs_cut.loc[gene_list]):\n"
     ]
    },
    {
     "name": "stdout",
     "output_type": "stream",
     "text": [
      "WARNING: genes are not in var_names and ignored: ['Adck3', 'Fgf13', 'Irak1', 'Tspyl2', 'Sat1', 'Ikbkap', 'H2afj', 'Lrmp', 'Gnb2l1', 'Hist3h2a', 'Hist1h1c']\n"
     ]
    },
    {
     "name": "stderr",
     "output_type": "stream",
     "text": [
      "/home/icb/manuel.gander/miniconda3/lib/python3.9/site-packages/scanpy/tools/_score_genes.py:151: FutureWarning: Passing a set as an indexer is deprecated and will raise in a future version. Use a list instead.\n",
      "  for cut in np.unique(obs_cut.loc[gene_list]):\n"
     ]
    },
    {
     "name": "stdout",
     "output_type": "stream",
     "text": [
      "20000\n",
      "\u001b[34mINFO    \u001b[0m Solving problem BirthDeathProblem\u001b[1m[\u001b[0m\u001b[33mstage\u001b[0m=\u001b[32m'prepared'\u001b[0m, \u001b[33mshape\u001b[0m=\u001b[1m(\u001b[0m\u001b[1;36m58177\u001b[0m, \u001b[1;36m41823\u001b[0m\u001b[1m)\u001b[0m\u001b[1m]\u001b[0m.                                \n"
     ]
    }
   ],
   "source": [
    "success, result, lam=compute_map_given_apoptosis_rate(adata, ts0, ts1, epsilon, ap_min, ap_max)"
   ]
  },
  {
   "cell_type": "code",
   "execution_count": null,
   "id": "f07412ba",
   "metadata": {},
   "outputs": [],
   "source": []
  },
  {
   "cell_type": "code",
   "execution_count": null,
   "id": "ce4ea337",
   "metadata": {},
   "outputs": [],
   "source": []
  },
  {
   "cell_type": "code",
   "execution_count": null,
   "id": "43c35d59",
   "metadata": {},
   "outputs": [],
   "source": []
  },
  {
   "cell_type": "code",
   "execution_count": null,
   "id": "b78fba88",
   "metadata": {},
   "outputs": [],
   "source": []
  },
  {
   "cell_type": "code",
   "execution_count": null,
   "id": "97732014",
   "metadata": {},
   "outputs": [],
   "source": []
  },
  {
   "cell_type": "code",
   "execution_count": null,
   "id": "d4166843",
   "metadata": {},
   "outputs": [],
   "source": []
  },
  {
   "cell_type": "code",
   "execution_count": null,
   "id": "9199b6f1",
   "metadata": {},
   "outputs": [],
   "source": []
  },
  {
   "cell_type": "code",
   "execution_count": null,
   "id": "40732d4a",
   "metadata": {},
   "outputs": [],
   "source": []
  },
  {
   "cell_type": "code",
   "execution_count": null,
   "id": "1de67ea1",
   "metadata": {},
   "outputs": [],
   "source": []
  },
  {
   "cell_type": "code",
   "execution_count": null,
   "id": "f7c70b5b",
   "metadata": {},
   "outputs": [],
   "source": []
  },
  {
   "cell_type": "code",
   "execution_count": null,
   "id": "0789a98a",
   "metadata": {},
   "outputs": [],
   "source": []
  },
  {
   "cell_type": "code",
   "execution_count": null,
   "id": "0478dea8",
   "metadata": {},
   "outputs": [],
   "source": []
  },
  {
   "cell_type": "code",
   "execution_count": null,
   "id": "03de49b8",
   "metadata": {},
   "outputs": [],
   "source": []
  }
 ],
 "metadata": {
  "kernelspec": {
   "display_name": "n",
   "language": "python",
   "name": "n"
  },
  "language_info": {
   "codemirror_mode": {
    "name": "ipython",
    "version": 3
   },
   "file_extension": ".py",
   "mimetype": "text/x-python",
   "name": "python",
   "nbconvert_exporter": "python",
   "pygments_lexer": "ipython3",
   "version": "3.9.12"
  }
 },
 "nbformat": 4,
 "nbformat_minor": 5
}
