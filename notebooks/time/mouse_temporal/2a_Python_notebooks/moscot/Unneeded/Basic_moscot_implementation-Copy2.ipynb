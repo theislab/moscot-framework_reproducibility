{
 "cells": [
  {
   "cell_type": "code",
   "execution_count": 2,
   "id": "eea495f6",
   "metadata": {},
   "outputs": [],
   "source": [
    "import numpy as np\n",
    "import anndata\n",
    "import pandas as pd\n",
    "import scanpy as sc\n",
    "import scipy"
   ]
  },
  {
   "cell_type": "code",
   "execution_count": 3,
   "id": "288a2ec8",
   "metadata": {},
   "outputs": [],
   "source": [
    "import moscot"
   ]
  },
  {
   "cell_type": "code",
   "execution_count": 6,
   "id": "2fe635a4",
   "metadata": {},
   "outputs": [],
   "source": [
    "from moscot.problems.time._lineage import TemporalProblem"
   ]
  },
  {
   "cell_type": "code",
   "execution_count": null,
   "id": "c6e660ec",
   "metadata": {},
   "outputs": [],
   "source": []
  },
  {
   "cell_type": "code",
   "execution_count": null,
   "id": "a28a3eb1",
   "metadata": {},
   "outputs": [],
   "source": [
    "    \"# The lines below are useful to customize RAM-Memory usage\\n\",\n",
    "    \"import os\\n\",\n",
    "    \"# By default, OTT takes 90% of RAM-memory. Using the line below it uses exactly how much it needs\\n\",\n",
    "    \"os.environ['XLA_PYTHON_CLIENT_PREALLOCATE'] = 'false'\\n\",\n",
    "    \"# This frees RAM-Memory if no longer needed, but might slow down computations (I didn't observe that)\\n\",\n",
    "    \"os.environ['XLA_PYTHON_CLIENT_ALLOCATOR']='platform'\\n\","
   ]
  },
  {
   "cell_type": "code",
   "execution_count": null,
   "id": "74a6f838",
   "metadata": {},
   "outputs": [],
   "source": []
  },
  {
   "cell_type": "code",
   "execution_count": null,
   "id": "ab87f3b0",
   "metadata": {},
   "outputs": [],
   "source": [
    "import numpy as np\n",
    "import anndata\n",
    "import pandas as pd\n",
    "import scanpy as sc\n",
    "import scipy\n",
    "from moscot.problems.time._lineage import TemporalProblem\n",
    "\n",
    "Path=\"/home/mgander/Unrelated/moscotTime_Reproducibility/Data\"\n",
    "ts=['E3.5', 'E4.5', 'E5.25', 'E5.5', 'E6.25', 'E6.5', 'E6.75', 'E7.0', 'E7.25', 'E7.5', 'E7.75', 'E8.0', 'E8.25', 'E8.5a', 'E8.5b', 'E9.5', 'E10.5', 'E11.5', 'E12.5', 'E13.5']\n",
    "\n",
    "\n",
    "i=2\n",
    "ts0=ts[0]\n",
    "ts1=ts[1]\n",
    "\n",
    "adata=sc.read(f\"{Path}/anndatas/Comb_anndatas/adata_{ts0}_{ts1}.h5ad\")\n",
    "# Raw count matrix not needed here, but causes problems in \"score_genes_for_marginals\"\n",
    "del adata.raw\n",
    "\n",
    "tp=TemporalProblem(adata)\n",
    "tp.score_genes_for_marginals(gene_set_proliferation='mouse',  gene_set_apoptosis='mouse')\n",
    "tp = tp.prepare('day', joint_attr=f'X_pcaS')\n",
    "\n",
    "batch_size=10**6\n",
    "eps=0.05\n",
    "tau1=0.99\n",
    "tau2=0.99+0.01*tau1\n",
    "\n",
    "result=tp.solve(batch_size=batch_size, epsilon=eps, tau_a=tau1, tau_b=tau2, scale_cost=\"mean\", max_iterations=10**6)\n",
    "\n",
    "tp.save(f'{Path}/moscot_maps/', f'{ts0}')"
   ]
  },
  {
   "cell_type": "code",
   "execution_count": null,
   "id": "8714ed4c",
   "metadata": {},
   "outputs": [],
   "source": []
  },
  {
   "cell_type": "code",
   "execution_count": null,
   "id": "10939a00",
   "metadata": {},
   "outputs": [],
   "source": []
  },
  {
   "cell_type": "code",
   "execution_count": null,
   "id": "f50867f1",
   "metadata": {},
   "outputs": [],
   "source": []
  },
  {
   "cell_type": "code",
   "execution_count": 8,
   "id": "4d263647",
   "metadata": {
    "scrolled": false
   },
   "outputs": [],
   "source": [
    "# Setting jax to use float64, makes the algorithm more stable\n",
    "#from jax.config import config\n",
    "#config.update(\"jax_enable_x64\", True)\n",
    "\n",
    "#import sys\n",
    "#sys.path.append('/home/icb/manuel.gander/github_repos/moscot-main/src/moscot')\n",
    "#sys.path.append('/home/icb/manuel.gander/github_repos/moscot')\n",
    "#sys.path.append('/home/icb/manuel.gander/github_repos/moscot-master')"
   ]
  },
  {
   "cell_type": "code",
   "execution_count": null,
   "id": "c759a52a",
   "metadata": {},
   "outputs": [],
   "source": []
  },
  {
   "cell_type": "code",
   "execution_count": 16,
   "id": "e0b23fce",
   "metadata": {},
   "outputs": [],
   "source": [
    "Path=\"/home/mgander/Unrelated/moscotTime_Reproducibility/Data\"\n",
    "ts=['E3.5', 'E4.5', 'E5.25', 'E5.5', 'E6.25', 'E6.5', 'E6.75', 'E7.0', 'E7.25', 'E7.5', 'E7.75', 'E8.0', 'E8.25', 'E8.5a', 'E8.5b', 'E9.5', 'E10.5', 'E11.5', 'E12.5', 'E13.5']\n",
    "\n",
    "from importlib import reload\n",
    "\n",
    "import sys\n",
    "sys.path.append('/home/mgander/Unrelated/moscotTime_Reproducibility/Notebooks/Python_notebooks')\n",
    "import Utils\n",
    "\n",
    "Utils=reload(Utils)"
   ]
  },
  {
   "cell_type": "code",
   "execution_count": 18,
   "id": "cd1273b2",
   "metadata": {
    "scrolled": true
   },
   "outputs": [],
   "source": [
    "i=2\n",
    "ts0=ts[0]\n",
    "ts1=ts[1]\n",
    "\n",
    "adata=sc.read(f\"{Path}/anndatas/Comb_anndatas/adata_{ts0}_{ts1}.h5ad\")\n",
    "# Raw count matrix not needed here, but causes problems in \"score_genes_for_marginals\"\n",
    "del adata.raw"
   ]
  },
  {
   "cell_type": "code",
   "execution_count": null,
   "id": "71fc09a3",
   "metadata": {},
   "outputs": [],
   "source": []
  },
  {
   "cell_type": "code",
   "execution_count": 19,
   "id": "cef01de2",
   "metadata": {
    "scrolled": true
   },
   "outputs": [],
   "source": [
    "tp=TemporalProblem(adata)\n",
    "tp.score_genes_for_marginals(gene_set_proliferation='mouse',  gene_set_apoptosis='mouse')\n",
    "tp = tp.prepare('day', joint_attr=f'X_pcaS')"
   ]
  },
  {
   "cell_type": "code",
   "execution_count": 20,
   "id": "b5b59394",
   "metadata": {},
   "outputs": [],
   "source": [
    "batch_size=10**6"
   ]
  },
  {
   "cell_type": "code",
   "execution_count": 21,
   "id": "9209d5fc",
   "metadata": {},
   "outputs": [],
   "source": [
    "batch_size=10**6\n",
    "eps=0.05\n",
    "tau1=0.99\n",
    "tau2=0.9999"
   ]
  },
  {
   "cell_type": "code",
   "execution_count": 22,
   "id": "7cfaf674",
   "metadata": {},
   "outputs": [
    {
     "name": "stdout",
     "output_type": "stream",
     "text": [
      "\u001b[34mINFO    \u001b[0m Solving problem BirthDeathProblem\u001b[1m[\u001b[0m\u001b[33mstage\u001b[0m=\u001b[32m'prepared'\u001b[0m, \u001b[33mshape\u001b[0m=\u001b[1m(\u001b[0m\u001b[1;36m90\u001b[0m, \u001b[1;36m67\u001b[0m\u001b[1m)\u001b[0m\u001b[1m]\u001b[0m.                                      \n"
     ]
    }
   ],
   "source": [
    "result=tp.solve(batch_size=batch_size, epsilon=eps, tau_a=tau1, tau_b=tau2, scale_cost=\"mean\", max_iterations=10**6)"
   ]
  },
  {
   "cell_type": "code",
   "execution_count": null,
   "id": "d929ccf8",
   "metadata": {},
   "outputs": [],
   "source": []
  },
  {
   "cell_type": "code",
   "execution_count": null,
   "id": "c4e06d2a",
   "metadata": {},
   "outputs": [],
   "source": []
  },
  {
   "cell_type": "code",
   "execution_count": null,
   "id": "d9db8df4",
   "metadata": {},
   "outputs": [],
   "source": []
  },
  {
   "cell_type": "code",
   "execution_count": null,
   "id": "6c7c7f03",
   "metadata": {},
   "outputs": [],
   "source": []
  },
  {
   "cell_type": "code",
   "execution_count": 23,
   "id": "230d9d7c",
   "metadata": {},
   "outputs": [
    {
     "name": "stdout",
     "output_type": "stream",
     "text": [
      "\u001b[34mINFO    \u001b[0m Successfully saved the problem as                                                                         \n",
      "         `\u001b[35m/home/mgander/Unrelated/moscotTime_Reproducibility/Data/moscot_maps/\u001b[0m\u001b[95mE3.5_TemporalProblem.pkl\u001b[0m`            \n"
     ]
    }
   ],
   "source": [
    "tp.save(f'{Path}/moscot_maps/', f'{ts0}')"
   ]
  },
  {
   "cell_type": "code",
   "execution_count": null,
   "id": "2ae8263f",
   "metadata": {},
   "outputs": [],
   "source": []
  },
  {
   "cell_type": "code",
   "execution_count": null,
   "id": "c4a9e416",
   "metadata": {},
   "outputs": [],
   "source": []
  },
  {
   "cell_type": "code",
   "execution_count": null,
   "id": "9e52f9a9",
   "metadata": {},
   "outputs": [],
   "source": []
  },
  {
   "cell_type": "code",
   "execution_count": null,
   "id": "d2522fcd",
   "metadata": {},
   "outputs": [],
   "source": []
  },
  {
   "cell_type": "code",
   "execution_count": 125,
   "id": "a15fdd2a",
   "metadata": {
    "collapsed": true
   },
   "outputs": [
    {
     "data": {
      "text/plain": [
       "array([1.74635174, 2.58819747, 2.28579773, 1.10982672, 1.77890424,\n",
       "       1.36235977, 2.01571155, 1.64890756, 1.45195649, 1.66700088,\n",
       "       1.03753039, 1.5426195 , 1.65465152, 1.35361   , 1.43312474,\n",
       "       1.03071585, 1.84696893, 1.47390778, 1.79060743, 1.3101418 ,\n",
       "       1.78467567, 1.60605323, 1.28677735, 1.21873822, 1.22032073,\n",
       "       1.5157602 , 1.61381278, 1.26514752, 1.75844924, 1.83664127,\n",
       "       1.5410088 , 1.44346247, 1.35858502, 1.21669276, 1.77446452,\n",
       "       1.54702357, 1.45859248, 1.62241706, 1.56301952, 0.8905782 ,\n",
       "       1.30606454, 1.16530294, 1.74136154, 1.27472795, 1.47030881,\n",
       "       1.36049107, 1.50054964, 1.16731084, 1.71458029, 0.89891862,\n",
       "       1.27368849, 1.36723378, 1.44226697, 1.2712985 , 1.1730001 ,\n",
       "       1.78454436, 1.90461412, 1.32664719, 1.31688386, 0.83342317,\n",
       "       1.26541533, 1.90625208, 1.61279114, 1.05491114, 1.45819064,\n",
       "       1.81738972, 1.00426039, 1.06404513, 1.39366979, 1.93536837,\n",
       "       1.64538766, 1.22999253, 2.34962313, 1.80549249, 0.96383431,\n",
       "       0.90515112, 1.08422033, 0.94591163, 1.42610179, 1.39653346,\n",
       "       1.18107345, 2.09491746, 1.72328678, 1.98573505, 1.15081382,\n",
       "       2.15886652, 2.14306308, 1.08364104, 1.27886433, 2.09933   ])"
      ]
     },
     "execution_count": 125,
     "metadata": {},
     "output_type": "execute_result"
    }
   ],
   "source": [
    "result[(3.5, 4.5)].prior_growth_rates"
   ]
  },
  {
   "cell_type": "code",
   "execution_count": 126,
   "id": "1c18def7",
   "metadata": {
    "collapsed": true
   },
   "outputs": [
    {
     "data": {
      "text/plain": [
       "array([1.5163205 , 2.262108  , 2.2294397 , 0.6914981 , 1.2385108 ,\n",
       "       1.4204378 , 1.6313179 , 1.2801179 , 1.0793808 , 1.1423699 ,\n",
       "       0.9716743 , 1.4996556 , 1.2865893 , 1.4681895 , 1.429772  ,\n",
       "       1.1128207 , 1.969939  , 1.5912064 , 1.9534299 , 1.4232541 ,\n",
       "       1.6828415 , 1.600497  , 1.2506745 , 0.86941737, 1.3322581 ,\n",
       "       1.6551887 , 1.7712574 , 1.387959  , 1.4331528 , 1.9446251 ,\n",
       "       1.6640416 , 1.5643946 , 1.468681  , 1.3328097 , 1.4271245 ,\n",
       "       1.6333416 , 1.5847436 , 1.7624037 , 1.7033474 , 0.9729271 ,\n",
       "       1.4094694 , 1.2636817 , 1.8989061 , 1.308983  , 1.5923434 ,\n",
       "       1.3189608 , 1.5710067 , 1.2725681 , 1.8614746 , 0.87953657,\n",
       "       1.0369346 , 1.4957498 , 1.540974  , 1.3872588 , 1.1487161 ,\n",
       "       1.9339346 , 2.047877  , 1.4443278 , 1.3694973 , 0.91033727,\n",
       "       1.3745    , 2.0698373 , 1.7068238 , 1.1375479 , 1.4317881 ,\n",
       "       1.6790253 , 1.0609534 , 1.1524457 , 1.467218  , 2.089247  ,\n",
       "       1.77824   , 1.3371664 , 2.5694544 , 1.9794387 , 1.0048877 ,\n",
       "       0.99228567, 1.1436381 , 1.023467  , 1.1823978 , 1.4761964 ,\n",
       "       1.2803571 , 2.2469919 , 1.8401109 , 2.040069  , 0.91131145,\n",
       "       2.0745575 , 2.240114  , 0.7648232 , 1.1045656 , 1.8582697 ],\n",
       "      dtype=float32)"
      ]
     },
     "execution_count": 126,
     "metadata": {},
     "output_type": "execute_result"
    }
   ],
   "source": [
    "result[(3.5, 4.5)].posterior_growth_rates"
   ]
  },
  {
   "cell_type": "code",
   "execution_count": null,
   "id": "7ca9730d",
   "metadata": {},
   "outputs": [],
   "source": [
    "save(dir_path[, file_prefix, overwrite])"
   ]
  },
  {
   "cell_type": "code",
   "execution_count": 140,
   "id": "0934772d",
   "metadata": {},
   "outputs": [
    {
     "name": "stdout",
     "output_type": "stream",
     "text": [
      "\u001b[34mINFO    \u001b[0m Successfully saved the problem as                                                                         \n",
      "         `\u001b[35m/home/icb/manuel.gander/moscotTime_Reproducibility/Data/moscot_maps/\u001b[0m\u001b[95mE3.5_TemporalProblem.pkl\u001b[0m`            \n"
     ]
    }
   ],
   "source": [
    "tp.save(f'{Path}/moscot_maps/', f'{ts0}')"
   ]
  },
  {
   "cell_type": "code",
   "execution_count": null,
   "id": "f5bdaf94",
   "metadata": {},
   "outputs": [],
   "source": []
  },
  {
   "cell_type": "code",
   "execution_count": 144,
   "id": "d1c46ff7",
   "metadata": {},
   "outputs": [],
   "source": [
    "tp=tp.load(f'{Path}/moscot_maps/{ts0}_TemporalProblem.pkl')"
   ]
  },
  {
   "cell_type": "code",
   "execution_count": 148,
   "id": "53d5381c",
   "metadata": {
    "collapsed": true
   },
   "outputs": [
    {
     "data": {
      "text/plain": [
       "array([1.74635174, 2.58819747, 2.28579773, 1.10982672, 1.77890424,\n",
       "       1.36235977, 2.01571155, 1.64890756, 1.45195649, 1.66700088,\n",
       "       1.03753039, 1.5426195 , 1.65465152, 1.35361   , 1.43312474,\n",
       "       1.03071585, 1.84696893, 1.47390778, 1.79060743, 1.3101418 ,\n",
       "       1.78467567, 1.60605323, 1.28677735, 1.21873822, 1.22032073,\n",
       "       1.5157602 , 1.61381278, 1.26514752, 1.75844924, 1.83664127,\n",
       "       1.5410088 , 1.44346247, 1.35858502, 1.21669276, 1.77446452,\n",
       "       1.54702357, 1.45859248, 1.62241706, 1.56301952, 0.8905782 ,\n",
       "       1.30606454, 1.16530294, 1.74136154, 1.27472795, 1.47030881,\n",
       "       1.36049107, 1.50054964, 1.16731084, 1.71458029, 0.89891862,\n",
       "       1.27368849, 1.36723378, 1.44226697, 1.2712985 , 1.1730001 ,\n",
       "       1.78454436, 1.90461412, 1.32664719, 1.31688386, 0.83342317,\n",
       "       1.26541533, 1.90625208, 1.61279114, 1.05491114, 1.45819064,\n",
       "       1.81738972, 1.00426039, 1.06404513, 1.39366979, 1.93536837,\n",
       "       1.64538766, 1.22999253, 2.34962313, 1.80549249, 0.96383431,\n",
       "       0.90515112, 1.08422033, 0.94591163, 1.42610179, 1.39653346,\n",
       "       1.18107345, 2.09491746, 1.72328678, 1.98573505, 1.15081382,\n",
       "       2.15886652, 2.14306308, 1.08364104, 1.27886433, 2.09933   ])"
      ]
     },
     "execution_count": 148,
     "metadata": {},
     "output_type": "execute_result"
    }
   ],
   "source": [
    "tp[(3.5, 4.5)].prior_growth_rates"
   ]
  },
  {
   "cell_type": "code",
   "execution_count": null,
   "id": "bb4a4057",
   "metadata": {},
   "outputs": [],
   "source": []
  },
  {
   "cell_type": "code",
   "execution_count": null,
   "id": "497b6902",
   "metadata": {},
   "outputs": [],
   "source": []
  },
  {
   "cell_type": "code",
   "execution_count": null,
   "id": "30e4b06b",
   "metadata": {},
   "outputs": [],
   "source": []
  },
  {
   "cell_type": "code",
   "execution_count": null,
   "id": "de8f3cb9",
   "metadata": {},
   "outputs": [],
   "source": []
  }
 ],
 "metadata": {
  "kernelspec": {
   "display_name": "mc",
   "language": "python",
   "name": "mc"
  },
  "language_info": {
   "codemirror_mode": {
    "name": "ipython",
    "version": 3
   },
   "file_extension": ".py",
   "mimetype": "text/x-python",
   "name": "python",
   "nbconvert_exporter": "python",
   "pygments_lexer": "ipython3",
   "version": "3.10.9"
  }
 },
 "nbformat": 4,
 "nbformat_minor": 5
}
