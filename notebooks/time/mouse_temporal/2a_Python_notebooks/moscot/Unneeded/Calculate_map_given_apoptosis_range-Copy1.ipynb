{
 "cells": [
  {
   "cell_type": "code",
   "execution_count": 1,
   "id": "eea495f6",
   "metadata": {},
   "outputs": [],
   "source": [
    "import numpy as np\n",
    "import anndata\n",
    "import pandas as pd\n",
    "import scanpy as sc\n",
    "import scipy\n",
    "\n",
    "from moscot.problems.time._lineage import TemporalProblem\n",
    "from moscot.backends.ott._solver import SinkhornSolver"
   ]
  },
  {
   "cell_type": "code",
   "execution_count": 2,
   "id": "6ded8022",
   "metadata": {},
   "outputs": [],
   "source": [
    "from importlib import reload\n",
    "\n",
    "import sys\n",
    "sys.path.append('/home/icb/manuel.gander/moscotTime_Reproducibility/Notebooks/Python_notebooks')\n",
    "import Utils\n",
    "\n",
    "Utils=reload(Utils)"
   ]
  },
  {
   "cell_type": "code",
   "execution_count": 3,
   "id": "e0b23fce",
   "metadata": {},
   "outputs": [],
   "source": [
    "Path=\"/home/icb/manuel.gander/moscotTime_Reproducibility/Data\"\n",
    "ts=['E3.5', 'E4.5', 'E5.25', 'E5.5', 'E6.25', 'E6.5', 'E6.75', 'E7.0', 'E7.25', 'E7.5', 'E7.75', 'E8.0', 'E8.25', 'E8.5a', 'E8.5b', 'E9.5', 'E10.5', 'E11.5', 'E12.5', 'E13.5']"
   ]
  },
  {
   "cell_type": "code",
   "execution_count": null,
   "id": "186417bd",
   "metadata": {},
   "outputs": [],
   "source": []
  },
  {
   "cell_type": "code",
   "execution_count": 4,
   "id": "a10041a5",
   "metadata": {},
   "outputs": [],
   "source": [
    "def growth_rates_to_apoptosis_ratio(growth_rates, ts0, ts1):\n",
    "    \n",
    "    # I got these cell numbers from http://tome.gs.washington.edu/, and they got them from the experiments or \n",
    "    # for E8.5b they estimated it themselves (it was their experiment)\n",
    "    \n",
    "    cells=[32, 80, 100, 120, 400, 660, 1720, 4500, 8200, 15000, 30000, 60000, 73000, 90000, 90000, 200000, 1100000, 2600000, 6000000, 13000000]\n",
    "    Cell_number_dict={}\n",
    "    for i in range(20):\n",
    "        Cell_number_dict[ts[i]]=cells[i]\n",
    "    \n",
    "    cellular_growth_rates=growth_rates*Cell_number_dict[ts1]/Cell_number_dict[ts0]\n",
    "    apoptotic_cells=cellular_growth_rates[cellular_growth_rates<1]\n",
    "    sum_apoptotic_cells=(1-apoptotic_cells).sum()\n",
    "    perc_apoptotic_cells=sum_apoptotic_cells/len(growth_rates)\n",
    "    \n",
    "    return(perc_apoptotic_cells)\n",
    "\n",
    "\n",
    "\n",
    "def lambda_to_growth_rates(adata, epsilon, lam1, score_genes=True):\n",
    "    time_tuple=tuple(sorted(set(adata.obs['day'])))\n",
    "    \n",
    "    tp=TemporalProblem(adata)\n",
    "    \n",
    "    # This corresponds to the map from E8.5a to E8.5b, where no actuall time passes\n",
    "    if time_tuple!=(0,1) and score_genes:\n",
    "        tp.score_genes_for_marginals(gene_set_proliferation='mouse',  gene_set_apoptosis='mouse')\n",
    "    tp = tp.prepare('day', joint_attr=f'X_pcaS')\n",
    "    \n",
    "    \n",
    "    if time_tuple[0]>=8.5:\n",
    "        batch_size=10**5\n",
    "    else:\n",
    "        batch_size=10**6\n",
    "\n",
    "    eps=0.05\n",
    "    \n",
    "    lam2=lam1*100\n",
    "    \n",
    "    tau1=lam1/(lam1+eps)\n",
    "    tau2=lam2/(lam2+eps)\n",
    "    result=tp.solve(batch_size=batch_size, epsilon=eps, tau_a=tau1, tau_b=tau2, scale_cost=\"mean\", max_iterations=10**6)\n",
    "    \n",
    "    # ToDo: Tell Dominik to fix posterior_growth_rates, .solutions.a corresponds to transport_matrix.sum(1)\n",
    "    growth_rates=np.array(result[time_tuple].solution.a)\n",
    "    growth_rates=growth_rates/np.mean(growth_rates)\n",
    "    return(growth_rates, result)\n",
    "\n",
    "\n",
    "\n",
    "def given_apoptosis_rate_find_lam(adata, ts0, ts1, epsilon, ap_min, ap_max, posterior_search=False, lam_init=None):\n",
    "    # For the big data sets, it is faster to subsample to find the right lambda, and then to compute the full map\n",
    "    # in the end once. Apoptosis rate typically stay approxiamtely the same\n",
    "\n",
    "    # Lambdas are in log-scale, i.e. lam=10**x, with x in linear scale\n",
    "    x_interval=[4, -6]\n",
    "    xm=-1\n",
    "    \n",
    "    # This is only used for the big data sets, where lambda search is done on a subsampled set. The lambdas found in\n",
    "    # the subsampled case should already correspond to the right apoptosis rates, but in case they do not, find the\n",
    "    # right lambda in the not subsampled data set\n",
    "    if posterior_search:\n",
    "        xm=np.log10(lam)\n",
    "        x_interval=[xm-2, xm+2]\n",
    "        \n",
    "\n",
    "    while(True):\n",
    "        lam=10**xm\n",
    "\n",
    "        growth_rates, result=lambda_to_growth_rates(adata, epsilon, lam)\n",
    "        perc_apop=growth_rates_to_apoptosis_ratio(growth_rates, ts0, ts1)\n",
    "\n",
    "        if ap_min<=perc_apop<=ap_max:\n",
    "            # First entry is whether it was sucessful\n",
    "            return(lam, result)\n",
    "\n",
    "        elif xm>3 or xm<-5:\n",
    "            # Not successful\n",
    "            return(np.NaN)\n",
    "\n",
    "        else:\n",
    "            if ap_max<perc_apop:\n",
    "                x_interval=[x_interval[0], xm]\n",
    "            elif ap_min>perc_apop:\n",
    "                x_interval=[xm, x_interval[1]]\n",
    "            xm=np.mean(x_interval)"
   ]
  },
  {
   "cell_type": "code",
   "execution_count": 5,
   "id": "0a04ffee",
   "metadata": {},
   "outputs": [],
   "source": [
    "def compute_map_given_apoptosis_rate(adata, ts0, ts1, epsilon, ap_min, ap_max):\n",
    "    # For the big data set, estimate lambda on a subsampled set to speed up computations\n",
    "    if len(adata)>100000:\n",
    "        adatas=sc.pp.subsample(adata, fraction=0.3, copy=True)\n",
    "    else:\n",
    "        adatas=adata.copy()\n",
    "        \n",
    "    lam, result=given_apoptosis_rate_find_lam(adatas, ts0, ts1, epsilon, ap_min, ap_max)\n",
    "    \n",
    "    if len(adatas)!=len(adata):\n",
    "        lam, result=given_apoptosis_rate_find_lam(adata, ts0, ts1, epsilon, ap_min, ap_max, posterior_serch=True, lam_init=lam)\n",
    "    \n",
    "    return(np.isnan(lam), result)"
   ]
  },
  {
   "cell_type": "code",
   "execution_count": null,
   "id": "3cd0e4ad",
   "metadata": {},
   "outputs": [],
   "source": []
  },
  {
   "cell_type": "code",
   "execution_count": null,
   "id": "d9a811f3",
   "metadata": {
    "scrolled": true
   },
   "outputs": [
    {
     "name": "stdout",
     "output_type": "stream",
     "text": [
      "E7.25\n",
      "WARNING: Your filename has more than two extensions: ['.25_E7', '.5', '.h5ad'].\n",
      "Only considering the two last: ['.5', '.h5ad'].\n",
      "WARNING: Your filename has more than two extensions: ['.25_E7', '.5', '.h5ad'].\n",
      "Only considering the two last: ['.5', '.h5ad'].\n",
      "WARNING: genes are not in var_names and ignored: ['Hn1', 'Mlf1ip', 'Fam64a']\n"
     ]
    },
    {
     "name": "stderr",
     "output_type": "stream",
     "text": [
      "/home/icb/manuel.gander/miniconda3/lib/python3.9/site-packages/scanpy/tools/_score_genes.py:151: FutureWarning: Passing a set as an indexer is deprecated and will raise in a future version. Use a list instead.\n",
      "  for cut in np.unique(obs_cut.loc[gene_list]):\n"
     ]
    },
    {
     "name": "stdout",
     "output_type": "stream",
     "text": [
      "WARNING: genes are not in var_names and ignored: ['Adck3', 'Ikbkap', 'H2afj', 'Lrmp', 'Gnb2l1', 'Hist3h2a', 'Hist1h1c']\n"
     ]
    },
    {
     "name": "stderr",
     "output_type": "stream",
     "text": [
      "/home/icb/manuel.gander/miniconda3/lib/python3.9/site-packages/scanpy/tools/_score_genes.py:151: FutureWarning: Passing a set as an indexer is deprecated and will raise in a future version. Use a list instead.\n",
      "  for cut in np.unique(obs_cut.loc[gene_list]):\n"
     ]
    },
    {
     "name": "stdout",
     "output_type": "stream",
     "text": [
      "\u001b[34mINFO    \u001b[0m Solving problem BirthDeathProblem\u001b[1m[\u001b[0m\u001b[33mstage\u001b[0m=\u001b[32m'prepared'\u001b[0m, \u001b[33mshape\u001b[0m=\u001b[1m(\u001b[0m\u001b[1;36m13537\u001b[0m, \u001b[1;36m10994\u001b[0m\u001b[1m)\u001b[0m\u001b[1m]\u001b[0m.                                \n",
      "WARNING: genes are not in var_names and ignored: ['Hn1', 'Mlf1ip', 'Fam64a']\n"
     ]
    },
    {
     "name": "stderr",
     "output_type": "stream",
     "text": [
      "/home/icb/manuel.gander/miniconda3/lib/python3.9/site-packages/scanpy/tools/_score_genes.py:151: FutureWarning: Passing a set as an indexer is deprecated and will raise in a future version. Use a list instead.\n",
      "  for cut in np.unique(obs_cut.loc[gene_list]):\n"
     ]
    },
    {
     "name": "stdout",
     "output_type": "stream",
     "text": [
      "WARNING: genes are not in var_names and ignored: ['Adck3', 'Ikbkap', 'H2afj', 'Lrmp', 'Gnb2l1', 'Hist3h2a', 'Hist1h1c']\n"
     ]
    },
    {
     "name": "stderr",
     "output_type": "stream",
     "text": [
      "/home/icb/manuel.gander/miniconda3/lib/python3.9/site-packages/scanpy/tools/_score_genes.py:151: FutureWarning: Passing a set as an indexer is deprecated and will raise in a future version. Use a list instead.\n",
      "  for cut in np.unique(obs_cut.loc[gene_list]):\n"
     ]
    },
    {
     "name": "stdout",
     "output_type": "stream",
     "text": [
      "\u001b[34mINFO    \u001b[0m Solving problem BirthDeathProblem\u001b[1m[\u001b[0m\u001b[33mstage\u001b[0m=\u001b[32m'prepared'\u001b[0m, \u001b[33mshape\u001b[0m=\u001b[1m(\u001b[0m\u001b[1;36m13537\u001b[0m, \u001b[1;36m10994\u001b[0m\u001b[1m)\u001b[0m\u001b[1m]\u001b[0m.                                \n"
     ]
    }
   ],
   "source": [
    "epsilon=0.05\n",
    "ap_min=0.04\n",
    "ap_max=0.07\n",
    "\n",
    "i=8\n",
    "\n",
    "ts0=ts[i]\n",
    "ts1=ts[i+1]\n",
    "print(ts0)\n",
    "adata=sc.read(f\"{Path}/anndatas/adata_{ts0}_{ts1}.h5ad\")\n",
    "del adata.raw\n",
    "success, result=compute_map_given_apoptosis_rate(adata, ts0, ts1, epsilon, ap_min, ap_max)"
   ]
  },
  {
   "cell_type": "code",
   "execution_count": null,
   "id": "3e4ad7e7",
   "metadata": {},
   "outputs": [],
   "source": []
  },
  {
   "cell_type": "code",
   "execution_count": null,
   "id": "cd6183c8",
   "metadata": {},
   "outputs": [],
   "source": []
  },
  {
   "cell_type": "code",
   "execution_count": null,
   "id": "bf1f88ef",
   "metadata": {},
   "outputs": [],
   "source": []
  },
  {
   "cell_type": "code",
   "execution_count": null,
   "id": "c6e8adb2",
   "metadata": {},
   "outputs": [],
   "source": []
  },
  {
   "cell_type": "code",
   "execution_count": null,
   "id": "5201546f",
   "metadata": {},
   "outputs": [],
   "source": []
  },
  {
   "cell_type": "code",
   "execution_count": null,
   "id": "a324646e",
   "metadata": {},
   "outputs": [],
   "source": []
  },
  {
   "cell_type": "code",
   "execution_count": 16,
   "id": "58b66d2a",
   "metadata": {
    "scrolled": true
   },
   "outputs": [
    {
     "name": "stdout",
     "output_type": "stream",
     "text": [
      "WARNING: genes are not in var_names and ignored: ['Mcm4', 'Smc4', 'Gtse1', 'Ttk', 'Rangap1', 'Ccnb2', 'Cenpa', 'Cenpe', 'Cdca8', 'Ckap2', 'Rad51', 'Pcna', 'Ube2c', 'Lbr', 'Cenpf', 'Birc5', 'Dtl', 'Dscc1', 'Cbx5', 'Usp1', 'Hmmr', 'Wdr76', 'Ung', 'Hn1', 'Cks2', 'Kif20b', 'Cdk1', 'Slbp', 'Aurkb', 'Kif11', 'Cks1b', 'Blm', 'Msh2', 'Gas2l3', 'Tyms', 'Hjurp', 'Hells', 'Prim1', 'Uhrf1', 'Ndc80', 'Mcm6', 'Rrm1', 'Mlf1ip', 'Top2a', 'Hmgb2', 'Ccne2', 'G2e3', 'Tmpo', 'Nusap1', 'Ncapd2', 'Mcm2', 'Kif2c', 'Cdca2', 'Nasp', 'Gmnn', 'Cdc6', 'Pold3', 'Ckap2l', 'Fam64a', 'Ubr7', 'Fen1', 'Bub1', 'Brip1', 'Atad2', 'Psrc1', 'Rrm2', 'Tipin', 'Casp8ap2', 'Tubb4b', 'Kif23', 'Exo1', 'Rfc2', 'Pola1', 'Mki67', 'Tpx2', 'Aurka', 'Anln', 'Chaf1b', 'Hjurp', 'Tacc3', 'Mcm5', 'Anp32e', 'Dlgap5', 'Ect2', 'Nuf2', 'Cdc45', 'Ckap5', 'Ctcf', 'Clspn', 'Cdca7', 'Cdca3', 'Rpa2', 'Gins2', 'E2f8', 'Cdc25c', 'Nek2', 'Cdc20', 'Rad51ap1']\n"
     ]
    },
    {
     "ename": "ValueError",
     "evalue": "No valid genes were passed for scoring.",
     "output_type": "error",
     "traceback": [
      "\u001b[0;31m---------------------------------------------------------------------------\u001b[0m",
      "\u001b[0;31mValueError\u001b[0m                                Traceback (most recent call last)",
      "Cell \u001b[0;32mIn[16], line 7\u001b[0m\n\u001b[1;32m      4\u001b[0m \u001b[38;5;28;01melse\u001b[39;00m:\n\u001b[1;32m      5\u001b[0m     adatas\u001b[38;5;241m=\u001b[39madata\u001b[38;5;241m.\u001b[39mcopy()\n\u001b[0;32m----> 7\u001b[0m lam, result\u001b[38;5;241m=\u001b[39m\u001b[43mgiven_apoptosis_rate_find_lam\u001b[49m\u001b[43m(\u001b[49m\u001b[43madatas\u001b[49m\u001b[43m,\u001b[49m\u001b[43m \u001b[49m\u001b[43mts0\u001b[49m\u001b[43m,\u001b[49m\u001b[43m \u001b[49m\u001b[43mts1\u001b[49m\u001b[43m,\u001b[49m\u001b[43m \u001b[49m\u001b[43mepsilon\u001b[49m\u001b[43m,\u001b[49m\u001b[43m \u001b[49m\u001b[43map_min\u001b[49m\u001b[43m,\u001b[49m\u001b[43m \u001b[49m\u001b[43map_max\u001b[49m\u001b[43m)\u001b[49m\n\u001b[1;32m      9\u001b[0m \u001b[38;5;28;01mif\u001b[39;00m \u001b[38;5;28mlen\u001b[39m(adatas)\u001b[38;5;241m!=\u001b[39m\u001b[38;5;28mlen\u001b[39m(adata):\n\u001b[1;32m     10\u001b[0m     lam, result\u001b[38;5;241m=\u001b[39mgiven_apoptosis_rate_find_lam(adata, ts0, ts1, epsilon, ap_min, ap_max, posterior_serch\u001b[38;5;241m=\u001b[39m\u001b[38;5;28;01mTrue\u001b[39;00m, lam_init\u001b[38;5;241m=\u001b[39mlam)\n",
      "Cell \u001b[0;32mIn[13], line 70\u001b[0m, in \u001b[0;36mgiven_apoptosis_rate_find_lam\u001b[0;34m(adata, ts0, ts1, epsilon, ap_min, ap_max, posterior_search, lam_init)\u001b[0m\n\u001b[1;32m     67\u001b[0m \u001b[38;5;28;01mwhile\u001b[39;00m(\u001b[38;5;28;01mTrue\u001b[39;00m):\n\u001b[1;32m     68\u001b[0m     lam\u001b[38;5;241m=\u001b[39m\u001b[38;5;241m10\u001b[39m\u001b[38;5;241m*\u001b[39m\u001b[38;5;241m*\u001b[39mxm\n\u001b[0;32m---> 70\u001b[0m     growth_rates, result\u001b[38;5;241m=\u001b[39m\u001b[43mlambda_to_growth_rates\u001b[49m\u001b[43m(\u001b[49m\u001b[43madata\u001b[49m\u001b[43m,\u001b[49m\u001b[43m \u001b[49m\u001b[43mepsilon\u001b[49m\u001b[43m,\u001b[49m\u001b[43m \u001b[49m\u001b[43mlam\u001b[49m\u001b[43m)\u001b[49m\n\u001b[1;32m     71\u001b[0m     perc_apop\u001b[38;5;241m=\u001b[39mgrowth_rates_to_apoptosis_ratio(growth_rates, ts0, ts1)\n\u001b[1;32m     73\u001b[0m     \u001b[38;5;28;01mif\u001b[39;00m ap_min\u001b[38;5;241m<\u001b[39m\u001b[38;5;241m=\u001b[39mperc_apop\u001b[38;5;241m<\u001b[39m\u001b[38;5;241m=\u001b[39map_max:\n\u001b[1;32m     74\u001b[0m         \u001b[38;5;66;03m# First entry is whether it was sucessful\u001b[39;00m\n",
      "Cell \u001b[0;32mIn[13], line 27\u001b[0m, in \u001b[0;36mlambda_to_growth_rates\u001b[0;34m(adata, epsilon, lam1, score_genes)\u001b[0m\n\u001b[1;32m     25\u001b[0m \u001b[38;5;66;03m# This corresponds to the map from E8.5a to E8.5b, where no actuall time passes\u001b[39;00m\n\u001b[1;32m     26\u001b[0m \u001b[38;5;28;01mif\u001b[39;00m time_tuple\u001b[38;5;241m!=\u001b[39m(\u001b[38;5;241m0\u001b[39m,\u001b[38;5;241m1\u001b[39m) \u001b[38;5;129;01mand\u001b[39;00m score_genes:\n\u001b[0;32m---> 27\u001b[0m     \u001b[43mtp\u001b[49m\u001b[38;5;241;43m.\u001b[39;49m\u001b[43mscore_genes_for_marginals\u001b[49m\u001b[43m(\u001b[49m\u001b[43mgene_set_proliferation\u001b[49m\u001b[38;5;241;43m=\u001b[39;49m\u001b[38;5;124;43m'\u001b[39;49m\u001b[38;5;124;43mmouse\u001b[39;49m\u001b[38;5;124;43m'\u001b[39;49m\u001b[43m,\u001b[49m\u001b[43m  \u001b[49m\u001b[43mgene_set_apoptosis\u001b[49m\u001b[38;5;241;43m=\u001b[39;49m\u001b[38;5;124;43m'\u001b[39;49m\u001b[38;5;124;43mmouse\u001b[39;49m\u001b[38;5;124;43m'\u001b[39;49m\u001b[43m)\u001b[49m\n\u001b[1;32m     28\u001b[0m tp \u001b[38;5;241m=\u001b[39m tp\u001b[38;5;241m.\u001b[39mprepare(\u001b[38;5;124m'\u001b[39m\u001b[38;5;124mday\u001b[39m\u001b[38;5;124m'\u001b[39m, joint_attr\u001b[38;5;241m=\u001b[39m\u001b[38;5;124mf\u001b[39m\u001b[38;5;124m'\u001b[39m\u001b[38;5;124mX_pcaS\u001b[39m\u001b[38;5;124m'\u001b[39m)\n\u001b[1;32m     31\u001b[0m \u001b[38;5;28;01mif\u001b[39;00m time_tuple[\u001b[38;5;241m0\u001b[39m]\u001b[38;5;241m>\u001b[39m\u001b[38;5;241m=\u001b[39m\u001b[38;5;241m8.5\u001b[39m:\n",
      "File \u001b[0;32m~/miniconda3/lib/python3.9/site-packages/moscot/problems/base/_birth_death.py:110\u001b[0m, in \u001b[0;36mBirthDeathMixin.score_genes_for_marginals\u001b[0;34m(self, gene_set_proliferation, gene_set_apoptosis, proliferation_key, apoptosis_key, **kwargs)\u001b[0m\n\u001b[1;32m    108\u001b[0m \u001b[38;5;28;01melse\u001b[39;00m:\n\u001b[1;32m    109\u001b[0m     \u001b[38;5;28;01mif\u001b[39;00m \u001b[38;5;28misinstance\u001b[39m(gene_set_proliferation, \u001b[38;5;28mstr\u001b[39m):\n\u001b[0;32m--> 110\u001b[0m         \u001b[43msc\u001b[49m\u001b[38;5;241;43m.\u001b[39;49m\u001b[43mtl\u001b[49m\u001b[38;5;241;43m.\u001b[39;49m\u001b[43mscore_genes\u001b[49m\u001b[43m(\u001b[49m\n\u001b[1;32m    111\u001b[0m \u001b[43m            \u001b[49m\u001b[38;5;28;43mself\u001b[39;49m\u001b[38;5;241;43m.\u001b[39;49m\u001b[43madata\u001b[49m\u001b[43m,\u001b[49m\n\u001b[1;32m    112\u001b[0m \u001b[43m            \u001b[49m\u001b[43mMarkerGenes\u001b[49m\u001b[38;5;241;43m.\u001b[39;49m\u001b[43mproliferation_markers\u001b[49m\u001b[43m(\u001b[49m\u001b[43mgene_set_proliferation\u001b[49m\u001b[43m)\u001b[49m\u001b[43m,\u001b[49m\n\u001b[1;32m    113\u001b[0m \u001b[43m            \u001b[49m\u001b[43mscore_name\u001b[49m\u001b[38;5;241;43m=\u001b[39;49m\u001b[43mproliferation_key\u001b[49m\u001b[43m,\u001b[49m\n\u001b[1;32m    114\u001b[0m \u001b[43m            \u001b[49m\u001b[38;5;241;43m*\u001b[39;49m\u001b[38;5;241;43m*\u001b[39;49m\u001b[43mkwargs\u001b[49m\u001b[43m,\u001b[49m\n\u001b[1;32m    115\u001b[0m \u001b[43m        \u001b[49m\u001b[43m)\u001b[49m\n\u001b[1;32m    116\u001b[0m     \u001b[38;5;28;01melse\u001b[39;00m:\n\u001b[1;32m    117\u001b[0m         sc\u001b[38;5;241m.\u001b[39mtl\u001b[38;5;241m.\u001b[39mscore_genes(\u001b[38;5;28mself\u001b[39m\u001b[38;5;241m.\u001b[39madata, gene_set_proliferation, score_name\u001b[38;5;241m=\u001b[39mproliferation_key, \u001b[38;5;241m*\u001b[39m\u001b[38;5;241m*\u001b[39mkwargs)\n",
      "File \u001b[0;32m~/miniconda3/lib/python3.9/site-packages/scanpy/tools/_score_genes.py:115\u001b[0m, in \u001b[0;36mscore_genes\u001b[0;34m(adata, gene_list, ctrl_size, gene_pool, n_bins, score_name, random_state, copy, use_raw)\u001b[0m\n\u001b[1;32m    112\u001b[0m gene_list \u001b[38;5;241m=\u001b[39m \u001b[38;5;28mset\u001b[39m(gene_list_in_var[:])\n\u001b[1;32m    114\u001b[0m \u001b[38;5;28;01mif\u001b[39;00m \u001b[38;5;28mlen\u001b[39m(gene_list) \u001b[38;5;241m==\u001b[39m \u001b[38;5;241m0\u001b[39m:\n\u001b[0;32m--> 115\u001b[0m     \u001b[38;5;28;01mraise\u001b[39;00m \u001b[38;5;167;01mValueError\u001b[39;00m(\u001b[38;5;124m\"\u001b[39m\u001b[38;5;124mNo valid genes were passed for scoring.\u001b[39m\u001b[38;5;124m\"\u001b[39m)\n\u001b[1;32m    117\u001b[0m \u001b[38;5;28;01mif\u001b[39;00m gene_pool \u001b[38;5;129;01mis\u001b[39;00m \u001b[38;5;28;01mNone\u001b[39;00m:\n\u001b[1;32m    118\u001b[0m     gene_pool \u001b[38;5;241m=\u001b[39m \u001b[38;5;28mlist\u001b[39m(var_names)\n",
      "\u001b[0;31mValueError\u001b[0m: No valid genes were passed for scoring."
     ]
    }
   ],
   "source": [
    "# For the big data set, estimate lambda on a subsampled set to speed up computations\n",
    "if len(adata)>100000:\n",
    "    adatas=sc.pp.subsample(adata, fraction=0.3, copy=True)\n",
    "else:\n",
    "    adatas=adata.copy()\n",
    "\n",
    "lam, result=given_apoptosis_rate_find_lam(adatas, ts0, ts1, epsilon, ap_min, ap_max)\n",
    "\n",
    "if len(adatas)!=len(adata):\n",
    "    lam, result=given_apoptosis_rate_find_lam(adata, ts0, ts1, epsilon, ap_min, ap_max, posterior_serch=True, lam_init=lam)"
   ]
  },
  {
   "cell_type": "code",
   "execution_count": 17,
   "id": "49569eaa",
   "metadata": {},
   "outputs": [
    {
     "data": {
      "text/plain": [
       "AnnData object with n_obs × n_vars = 24531 × 29452\n",
       "    obs: 'cellID', 'day', 'cell_state', 'cell_type', 'group', 'sample', 'origin'\n",
       "    var: 'features', 'gene_names'\n",
       "    obsm: 'X_pcaS', 'X_umap3'"
      ]
     },
     "execution_count": 17,
     "metadata": {},
     "output_type": "execute_result"
    }
   ],
   "source": [
    "adatas"
   ]
  },
  {
   "cell_type": "code",
   "execution_count": 18,
   "id": "b57e7482",
   "metadata": {},
   "outputs": [
    {
     "data": {
      "text/plain": [
       "AnnData object with n_obs × n_vars = 24531 × 29452\n",
       "    obs: 'cellID', 'day', 'cell_state', 'cell_type', 'group', 'sample', 'origin'\n",
       "    var: 'features', 'gene_names'\n",
       "    obsm: 'X_pcaS', 'X_umap3'"
      ]
     },
     "execution_count": 18,
     "metadata": {},
     "output_type": "execute_result"
    }
   ],
   "source": [
    "adata"
   ]
  },
  {
   "cell_type": "code",
   "execution_count": null,
   "id": "1c355513",
   "metadata": {},
   "outputs": [],
   "source": []
  },
  {
   "cell_type": "code",
   "execution_count": null,
   "id": "b339dc64",
   "metadata": {},
   "outputs": [],
   "source": []
  },
  {
   "cell_type": "code",
   "execution_count": null,
   "id": "afb61f7d",
   "metadata": {},
   "outputs": [],
   "source": []
  },
  {
   "cell_type": "code",
   "execution_count": null,
   "id": "37bec7ea",
   "metadata": {},
   "outputs": [],
   "source": []
  },
  {
   "cell_type": "code",
   "execution_count": null,
   "id": "18dcfd6f",
   "metadata": {},
   "outputs": [],
   "source": []
  },
  {
   "cell_type": "code",
   "execution_count": null,
   "id": "424a6c33",
   "metadata": {},
   "outputs": [],
   "source": []
  },
  {
   "cell_type": "code",
   "execution_count": null,
   "id": "91400b50",
   "metadata": {},
   "outputs": [],
   "source": []
  },
  {
   "cell_type": "code",
   "execution_count": null,
   "id": "8d6973d6",
   "metadata": {
    "scrolled": true
   },
   "outputs": [
    {
     "name": "stdout",
     "output_type": "stream",
     "text": [
      "E8.5a\n",
      "WARNING: Your filename has more than two extensions: ['.5a_E8', '.5b', '.h5ad'].\n",
      "Only considering the two last: ['.5b', '.h5ad'].\n",
      "WARNING: Your filename has more than two extensions: ['.5a_E8', '.5b', '.h5ad'].\n",
      "Only considering the two last: ['.5b', '.h5ad'].\n",
      "WARNING: genes are not in var_names and ignored: ['Hn1', 'Mlf1ip', 'Fam64a', 'Pola1']\n"
     ]
    },
    {
     "name": "stderr",
     "output_type": "stream",
     "text": [
      "/home/icb/manuel.gander/miniconda3/lib/python3.9/site-packages/scanpy/tools/_score_genes.py:151: FutureWarning: Passing a set as an indexer is deprecated and will raise in a future version. Use a list instead.\n",
      "  for cut in np.unique(obs_cut.loc[gene_list]):\n"
     ]
    },
    {
     "name": "stdout",
     "output_type": "stream",
     "text": [
      "WARNING: genes are not in var_names and ignored: ['Adck3', 'Fgf13', 'Irak1', 'Tspyl2', 'Sat1', 'Ikbkap', 'H2afj', 'Lrmp', 'Gnb2l1', 'Hist3h2a', 'Hist1h1c']\n"
     ]
    },
    {
     "name": "stderr",
     "output_type": "stream",
     "text": [
      "/home/icb/manuel.gander/miniconda3/lib/python3.9/site-packages/scanpy/tools/_score_genes.py:151: FutureWarning: Passing a set as an indexer is deprecated and will raise in a future version. Use a list instead.\n",
      "  for cut in np.unique(obs_cut.loc[gene_list]):\n"
     ]
    },
    {
     "name": "stdout",
     "output_type": "stream",
     "text": [
      "\u001b[34mINFO    \u001b[0m Solving problem BirthDeathProblem\u001b[1m[\u001b[0m\u001b[33mstage\u001b[0m=\u001b[32m'prepared'\u001b[0m, \u001b[33mshape\u001b[0m=\u001b[1m(\u001b[0m\u001b[1;36m16909\u001b[0m, \u001b[1;36m154313\u001b[0m\u001b[1m)\u001b[0m\u001b[1m]\u001b[0m.                               \n",
      "WARNING: genes are not in var_names and ignored: ['Hn1', 'Mlf1ip', 'Fam64a', 'Pola1']\n"
     ]
    },
    {
     "name": "stderr",
     "output_type": "stream",
     "text": [
      "/home/icb/manuel.gander/miniconda3/lib/python3.9/site-packages/scanpy/tools/_score_genes.py:151: FutureWarning: Passing a set as an indexer is deprecated and will raise in a future version. Use a list instead.\n",
      "  for cut in np.unique(obs_cut.loc[gene_list]):\n"
     ]
    },
    {
     "name": "stdout",
     "output_type": "stream",
     "text": [
      "WARNING: genes are not in var_names and ignored: ['Adck3', 'Fgf13', 'Irak1', 'Tspyl2', 'Sat1', 'Ikbkap', 'H2afj', 'Lrmp', 'Gnb2l1', 'Hist3h2a', 'Hist1h1c']\n"
     ]
    },
    {
     "name": "stderr",
     "output_type": "stream",
     "text": [
      "/home/icb/manuel.gander/miniconda3/lib/python3.9/site-packages/scanpy/tools/_score_genes.py:151: FutureWarning: Passing a set as an indexer is deprecated and will raise in a future version. Use a list instead.\n",
      "  for cut in np.unique(obs_cut.loc[gene_list]):\n"
     ]
    },
    {
     "name": "stdout",
     "output_type": "stream",
     "text": [
      "\u001b[34mINFO    \u001b[0m Solving problem BirthDeathProblem\u001b[1m[\u001b[0m\u001b[33mstage\u001b[0m=\u001b[32m'prepared'\u001b[0m, \u001b[33mshape\u001b[0m=\u001b[1m(\u001b[0m\u001b[1;36m16909\u001b[0m, \u001b[1;36m154313\u001b[0m\u001b[1m)\u001b[0m\u001b[1m]\u001b[0m.                               \n"
     ]
    }
   ],
   "source": [
    "epsilon=0.005\n",
    "ap_min=0.04\n",
    "ap_max=0.07\n",
    "\n",
    "for i in range(13,19):\n",
    "    ts0=ts[i]\n",
    "    ts1=ts[i+1]\n",
    "    print(ts0)\n",
    "    adata=sc.read(f\"{Path}/anndatas/adata_{ts0}_{ts1}.h5ad\")\n",
    "    # adata.raw causes problems in gene scoring, and is not needed in any other way\n",
    "    del adata.raw\n",
    "        \n",
    "    success, result=compute_map_given_apoptosis_rate(adata, ts0, ts1, epsilon, ap_min, ap_max)\n",
    "    \n",
    "    if success:\n",
    "        result.save(f'{Path}/moscot_maps/', f'{ts0}_{epsilon}_{ap_min}_{ap_max}')\n",
    "    print('-------------------------------------------------------------------')"
   ]
  },
  {
   "cell_type": "code",
   "execution_count": null,
   "id": "9b1a2a38",
   "metadata": {},
   "outputs": [],
   "source": []
  },
  {
   "cell_type": "code",
   "execution_count": null,
   "id": "4a59c81d",
   "metadata": {},
   "outputs": [],
   "source": []
  },
  {
   "cell_type": "code",
   "execution_count": null,
   "id": "57d6575d",
   "metadata": {},
   "outputs": [],
   "source": []
  },
  {
   "cell_type": "code",
   "execution_count": null,
   "id": "33ab73f5",
   "metadata": {},
   "outputs": [],
   "source": []
  },
  {
   "cell_type": "code",
   "execution_count": null,
   "id": "a3834f3c",
   "metadata": {},
   "outputs": [],
   "source": []
  },
  {
   "cell_type": "code",
   "execution_count": null,
   "id": "f7c70b5b",
   "metadata": {},
   "outputs": [],
   "source": []
  },
  {
   "cell_type": "code",
   "execution_count": null,
   "id": "0789a98a",
   "metadata": {},
   "outputs": [],
   "source": []
  },
  {
   "cell_type": "code",
   "execution_count": null,
   "id": "0478dea8",
   "metadata": {},
   "outputs": [],
   "source": []
  },
  {
   "cell_type": "code",
   "execution_count": null,
   "id": "03de49b8",
   "metadata": {},
   "outputs": [],
   "source": []
  }
 ],
 "metadata": {
  "kernelspec": {
   "display_name": "n",
   "language": "python",
   "name": "n"
  },
  "language_info": {
   "codemirror_mode": {
    "name": "ipython",
    "version": 3
   },
   "file_extension": ".py",
   "mimetype": "text/x-python",
   "name": "python",
   "nbconvert_exporter": "python",
   "pygments_lexer": "ipython3",
   "version": "3.9.12"
  }
 },
 "nbformat": 4,
 "nbformat_minor": 5
}
