{
 "cells": [
  {
   "cell_type": "code",
   "execution_count": 1,
   "id": "eea495f6",
   "metadata": {},
   "outputs": [],
   "source": [
    "import numpy as np\n",
    "import anndata\n",
    "import pandas as pd\n",
    "import scanpy as sc\n",
    "import scipy\n",
    "\n",
    "from moscot.problems.time._lineage import TemporalProblem\n",
    "from moscot.backends.ott._solver import SinkhornSolver"
   ]
  },
  {
   "cell_type": "code",
   "execution_count": 2,
   "id": "6ded8022",
   "metadata": {},
   "outputs": [],
   "source": [
    "from importlib import reload\n",
    "\n",
    "import sys\n",
    "sys.path.append('/home/icb/manuel.gander/moscotTime_Reproducibility/Notebooks/Python_notebooks')\n",
    "import Utils\n",
    "\n",
    "Utils=reload(Utils)"
   ]
  },
  {
   "cell_type": "code",
   "execution_count": 3,
   "id": "e0b23fce",
   "metadata": {},
   "outputs": [],
   "source": [
    "Path=\"/home/icb/manuel.gander/moscotTime_Reproducibility/Data\"\n",
    "ts=['E3.5', 'E4.5', 'E5.25', 'E5.5', 'E6.25', 'E6.5', 'E6.75', 'E7.0', 'E7.25', 'E7.5', 'E7.75', 'E8.0', 'E8.25', 'E8.5a', 'E8.5b', 'E9.5', 'E10.5', 'E11.5', 'E12.5', 'E13.5']"
   ]
  },
  {
   "cell_type": "markdown",
   "id": "e81f8e21",
   "metadata": {},
   "source": [
    "# Calculate transport maps"
   ]
  },
  {
   "cell_type": "code",
   "execution_count": 4,
   "id": "a10041a5",
   "metadata": {},
   "outputs": [],
   "source": [
    "def growth_rates_to_apoptosis_ratio(growth_rates, ts0, ts1):\n",
    "    \n",
    "    # I got these cell numbers from http://tome.gs.washington.edu/, and they got them from the experiments or \n",
    "    # for E8.5b they estimated it themselves (it was their experiment)\n",
    "    \n",
    "    cells=[32, 80, 100, 120, 400, 660, 1720, 4500, 8200, 15000, 30000, 60000, 73000, 90000, 90000, 200000, 1100000, 2600000, 6000000, 13000000]\n",
    "    Cell_number_dict={}\n",
    "    for i in range(20):\n",
    "        Cell_number_dict[ts[i]]=cells[i]\n",
    "    \n",
    "    cellular_growth_rates=growth_rates*Cell_number_dict[ts1]/Cell_number_dict[ts0]\n",
    "    apoptotic_cells=cellular_growth_rates[cellular_growth_rates<1]\n",
    "    sum_apoptotic_cells=(1-apoptotic_cells).sum()\n",
    "    perc_apoptotic_cells=sum_apoptotic_cells/len(growth_rates)\n",
    "    \n",
    "    return(perc_apoptotic_cells)\n",
    "\n",
    "\n",
    "\n",
    "def lambda_to_growth_rates(adata, epsilon, lam1, score_genes=True):\n",
    "    time_tuple=tuple(sorted(set(adata.obs['day'])))\n",
    "    \n",
    "    tp=TemporalProblem(adata)\n",
    "    \n",
    "    # This corresponds to the map from E8.5a to E8.5b, where no actuall time passes\n",
    "    if time_tuple!=(0,1) and score_genes:\n",
    "        tp.score_genes_for_marginals(gene_set_proliferation='mouse',  gene_set_apoptosis='mouse')\n",
    "    tp = tp.prepare('day', joint_attr=f'X_pcaS')\n",
    "    \n",
    "    \n",
    "    if time_tuple[0]>=8.5:\n",
    "        batch_size=10**5\n",
    "    else:\n",
    "        batch_size=10**6\n",
    "\n",
    "    eps=0.05\n",
    "    \n",
    "    lam2=lam1*100\n",
    "    \n",
    "    tau1=lam1/(lam1+eps)\n",
    "    tau2=lam2/(lam2+eps)\n",
    "    result=tp.solve(batch_size=batch_size, epsilon=eps, tau_a=tau1, tau_b=tau2, scale_cost=\"mean\", max_iterations=10**6)\n",
    "    \n",
    "    # ToDo: Tell Dominik to fix posterior_growth_rates, .solutions.a corresponds to transport_matrix.sum(1)\n",
    "    growth_rates=np.array(result[time_tuple].solution.a)\n",
    "    growth_rates=growth_rates/np.mean(growth_rates)\n",
    "    return(growth_rates, result)\n",
    "\n",
    "def given_apoptosis_rate_find_lam(adata, ts0, ts1, epsilon, ap_min, ap_max):\n",
    "    \n",
    "    # Lambdas are in log-scale, i.e. lam=10**x, with x in linear scale\n",
    "    x_interval=[4, -6]\n",
    "    xm=-1\n",
    "\n",
    "    while(True):\n",
    "        lam=10**xm\n",
    "\n",
    "        growth_rates, result=lambda_to_growth_rates(adata, epsilon, lam)\n",
    "        perc_apop=growth_rates_to_apoptosis_ratio(growth_rates, ts0, ts1)\n",
    "\n",
    "        if ap_min<=perc_apop<=ap_max:\n",
    "            # First entry is whether it was sucessful\n",
    "            return(True, result)\n",
    "\n",
    "        elif xm>3 or xm<-5:\n",
    "            # Not successful\n",
    "            return(False, np.NaN)\n",
    "\n",
    "        else:\n",
    "            if ap_max<perc_apop:\n",
    "                x_interval=[x_interval[0], xm]\n",
    "            elif ap_min>perc_apop:\n",
    "                x_interval=[xm, x_interval[1]]\n",
    "            xm=np.mean(x_interval)"
   ]
  },
  {
   "cell_type": "code",
   "execution_count": null,
   "id": "3cd0e4ad",
   "metadata": {},
   "outputs": [],
   "source": []
  },
  {
   "cell_type": "code",
   "execution_count": null,
   "id": "8d6973d6",
   "metadata": {
    "scrolled": true
   },
   "outputs": [
    {
     "name": "stdout",
     "output_type": "stream",
     "text": [
      "E8.5a\n",
      "WARNING: Your filename has more than two extensions: ['.5a_E8', '.5b', '.h5ad'].\n",
      "Only considering the two last: ['.5b', '.h5ad'].\n",
      "WARNING: Your filename has more than two extensions: ['.5a_E8', '.5b', '.h5ad'].\n",
      "Only considering the two last: ['.5b', '.h5ad'].\n",
      "WARNING: genes are not in var_names and ignored: ['Hn1', 'Mlf1ip', 'Fam64a', 'Pola1']\n"
     ]
    },
    {
     "name": "stderr",
     "output_type": "stream",
     "text": [
      "/home/icb/manuel.gander/miniconda3/lib/python3.9/site-packages/scanpy/tools/_score_genes.py:151: FutureWarning: Passing a set as an indexer is deprecated and will raise in a future version. Use a list instead.\n",
      "  for cut in np.unique(obs_cut.loc[gene_list]):\n"
     ]
    },
    {
     "name": "stdout",
     "output_type": "stream",
     "text": [
      "WARNING: genes are not in var_names and ignored: ['Adck3', 'Fgf13', 'Irak1', 'Tspyl2', 'Sat1', 'Ikbkap', 'H2afj', 'Lrmp', 'Gnb2l1', 'Hist3h2a', 'Hist1h1c']\n"
     ]
    },
    {
     "name": "stderr",
     "output_type": "stream",
     "text": [
      "/home/icb/manuel.gander/miniconda3/lib/python3.9/site-packages/scanpy/tools/_score_genes.py:151: FutureWarning: Passing a set as an indexer is deprecated and will raise in a future version. Use a list instead.\n",
      "  for cut in np.unique(obs_cut.loc[gene_list]):\n"
     ]
    },
    {
     "name": "stdout",
     "output_type": "stream",
     "text": [
      "\u001b[34mINFO    \u001b[0m Solving problem BirthDeathProblem\u001b[1m[\u001b[0m\u001b[33mstage\u001b[0m=\u001b[32m'prepared'\u001b[0m, \u001b[33mshape\u001b[0m=\u001b[1m(\u001b[0m\u001b[1;36m16909\u001b[0m, \u001b[1;36m154313\u001b[0m\u001b[1m)\u001b[0m\u001b[1m]\u001b[0m.                               \n",
      "WARNING: genes are not in var_names and ignored: ['Hn1', 'Mlf1ip', 'Fam64a', 'Pola1']\n"
     ]
    },
    {
     "name": "stderr",
     "output_type": "stream",
     "text": [
      "/home/icb/manuel.gander/miniconda3/lib/python3.9/site-packages/scanpy/tools/_score_genes.py:151: FutureWarning: Passing a set as an indexer is deprecated and will raise in a future version. Use a list instead.\n",
      "  for cut in np.unique(obs_cut.loc[gene_list]):\n"
     ]
    },
    {
     "name": "stdout",
     "output_type": "stream",
     "text": [
      "WARNING: genes are not in var_names and ignored: ['Adck3', 'Fgf13', 'Irak1', 'Tspyl2', 'Sat1', 'Ikbkap', 'H2afj', 'Lrmp', 'Gnb2l1', 'Hist3h2a', 'Hist1h1c']\n"
     ]
    },
    {
     "name": "stderr",
     "output_type": "stream",
     "text": [
      "/home/icb/manuel.gander/miniconda3/lib/python3.9/site-packages/scanpy/tools/_score_genes.py:151: FutureWarning: Passing a set as an indexer is deprecated and will raise in a future version. Use a list instead.\n",
      "  for cut in np.unique(obs_cut.loc[gene_list]):\n"
     ]
    },
    {
     "name": "stdout",
     "output_type": "stream",
     "text": [
      "\u001b[34mINFO    \u001b[0m Solving problem BirthDeathProblem\u001b[1m[\u001b[0m\u001b[33mstage\u001b[0m=\u001b[32m'prepared'\u001b[0m, \u001b[33mshape\u001b[0m=\u001b[1m(\u001b[0m\u001b[1;36m16909\u001b[0m, \u001b[1;36m154313\u001b[0m\u001b[1m)\u001b[0m\u001b[1m]\u001b[0m.                               \n"
     ]
    }
   ],
   "source": [
    "epsilon=0.005\n",
    "ap_min=0.02\n",
    "ap_max=0.04\n",
    "\n",
    "for i in range(13,19):\n",
    "    ts0=ts[i]\n",
    "    ts1=ts[i+1]\n",
    "    print(ts0)\n",
    "    adata=sc.read(f\"{Path}/anndatas/adata_{ts0}_{ts1}.h5ad\")\n",
    "\n",
    "    del adata.raw\n",
    "        \n",
    "    success, result=given_apoptosis_rate_find_lam(adata, ts0, ts1, epsilon, ap_min, ap_max)\n",
    "    \n",
    "    if success:\n",
    "        result.save(f'{Path}/moscot_maps/', f'{ts0}_{epsilon}_{ap_min}_{ap_max}')\n",
    "    print('-------------------------------------------------------------------')"
   ]
  },
  {
   "cell_type": "code",
   "execution_count": null,
   "id": "1d44f952",
   "metadata": {},
   "outputs": [],
   "source": []
  },
  {
   "cell_type": "code",
   "execution_count": null,
   "id": "9b052425",
   "metadata": {},
   "outputs": [],
   "source": []
  },
  {
   "cell_type": "code",
   "execution_count": null,
   "id": "fa5deed5",
   "metadata": {},
   "outputs": [],
   "source": []
  },
  {
   "cell_type": "code",
   "execution_count": null,
   "id": "c530f105",
   "metadata": {},
   "outputs": [],
   "source": []
  },
  {
   "cell_type": "code",
   "execution_count": null,
   "id": "644743c2",
   "metadata": {},
   "outputs": [],
   "source": []
  },
  {
   "cell_type": "code",
   "execution_count": null,
   "id": "04e98931",
   "metadata": {},
   "outputs": [],
   "source": []
  },
  {
   "cell_type": "code",
   "execution_count": null,
   "id": "2b1e8a13",
   "metadata": {},
   "outputs": [],
   "source": []
  },
  {
   "cell_type": "code",
   "execution_count": null,
   "id": "aa9e0847",
   "metadata": {},
   "outputs": [],
   "source": []
  },
  {
   "cell_type": "code",
   "execution_count": null,
   "id": "0349b787",
   "metadata": {},
   "outputs": [],
   "source": []
  }
 ],
 "metadata": {
  "kernelspec": {
   "display_name": "n",
   "language": "python",
   "name": "n"
  },
  "language_info": {
   "codemirror_mode": {
    "name": "ipython",
    "version": 3
   },
   "file_extension": ".py",
   "mimetype": "text/x-python",
   "name": "python",
   "nbconvert_exporter": "python",
   "pygments_lexer": "ipython3",
   "version": "3.9.12"
  }
 },
 "nbformat": 4,
 "nbformat_minor": 5
}
