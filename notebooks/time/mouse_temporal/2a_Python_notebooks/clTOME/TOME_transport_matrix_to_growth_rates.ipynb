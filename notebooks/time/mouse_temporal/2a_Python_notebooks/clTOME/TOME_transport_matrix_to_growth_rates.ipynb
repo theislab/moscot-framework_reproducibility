{
 "cells": [
  {
   "cell_type": "code",
   "execution_count": 3,
   "id": "d621cecc",
   "metadata": {},
   "outputs": [],
   "source": [
    "import numpy as np\n",
    "import anndata\n",
    "import pandas as pd\n",
    "import scanpy as sc\n",
    "import scipy\n",
    "#import numpy_indexed as npi\n",
    "from scipy.sparse import lil_matrix\n",
    "from sklearn.preprocessing import normalize"
   ]
  },
  {
   "cell_type": "code",
   "execution_count": 4,
   "id": "6e4e1aac",
   "metadata": {},
   "outputs": [],
   "source": [
    "Path=\"/home/mgander/Unrelated/moscotTime_Reproducibility/Data\"\n",
    "ts=['E3.5', 'E4.5', 'E5.25', 'E5.5', 'E6.25', 'E6.5', 'E6.75', 'E7.0', 'E7.25', 'E7.5', 'E7.75', 'E8.0', 'E8.25', 'E8.5a', 'E8.5b', 'E9.5', 'E10.5', 'E11.5', 'E12.5', 'E13.5']"
   ]
  },
  {
   "cell_type": "markdown",
   "id": "837e9fdb",
   "metadata": {},
   "source": [
    "# Transform TOME transition matrix into growth rates"
   ]
  },
  {
   "cell_type": "code",
   "execution_count": 5,
   "id": "18f94605",
   "metadata": {},
   "outputs": [],
   "source": [
    "cells=[32, 80, 100, 120, 400, 660, 1720, 4500, 8200, 15000, 30000, 60000, 73000, 90000, 90000, 200000, 1100000, 2600000, 6000000, 13000000]\n",
    "Cell_number_dict={}\n",
    "for i in range(20):\n",
    "    Cell_number_dict[ts[i]]=cells[i]"
   ]
  },
  {
   "cell_type": "code",
   "execution_count": 6,
   "id": "402146b6",
   "metadata": {},
   "outputs": [
    {
     "name": "stdout",
     "output_type": "stream",
     "text": [
      "E3.5\n",
      "E4.5\n",
      "E5.25\n",
      "E5.5\n",
      "E6.25\n",
      "E6.5\n",
      "E6.75\n",
      "E7.0\n",
      "E7.25\n",
      "E7.5\n",
      "E7.75\n",
      "E8.0\n",
      "E8.25\n",
      "E8.5a\n",
      "E8.5b\n",
      "E9.5\n",
      "E10.5\n",
      "E11.5\n",
      "E12.5\n"
     ]
    }
   ],
   "source": [
    "for i in range(19):\n",
    "    ts0=ts[i]\n",
    "    ts1=ts[i+1]\n",
    "    print(ts0)\n",
    "    \n",
    "    M=scipy.sparse.load_npz(f'{Path}/TOME_transport_maps/{ts0}.npz')\n",
    "    M = normalize(M, norm='l1', axis=0)\n",
    "    gr=np.asarray(M.sum(1).T)[0]\n",
    "    gr=gr/gr.mean()*Cell_number_dict[ts1]/Cell_number_dict[ts0]\n",
    "    np.save(f'{Path}/TOME_transport_maps/{ts0}_growth_rates.npy', gr)"
   ]
  },
  {
   "cell_type": "code",
   "execution_count": null,
   "id": "05181940",
   "metadata": {},
   "outputs": [],
   "source": []
  },
  {
   "cell_type": "code",
   "execution_count": null,
   "id": "4d7d4dbf",
   "metadata": {},
   "outputs": [],
   "source": []
  },
  {
   "cell_type": "code",
   "execution_count": 13,
   "id": "e6a76cb9",
   "metadata": {},
   "outputs": [],
   "source": [
    "import seaborn as sns"
   ]
  },
  {
   "cell_type": "code",
   "execution_count": 14,
   "id": "0d885a9d",
   "metadata": {},
   "outputs": [],
   "source": [
    "i=11"
   ]
  },
  {
   "cell_type": "code",
   "execution_count": 15,
   "id": "c6fdcca0",
   "metadata": {},
   "outputs": [
    {
     "name": "stdout",
     "output_type": "stream",
     "text": [
      "E8.0\n"
     ]
    }
   ],
   "source": [
    "ts0=ts[i]\n",
    "ts1=ts[i+1]\n",
    "print(ts0)\n",
    "\n",
    "M=scipy.sparse.load_npz(f'{Path}/TOME_transport_maps/{ts0}.npz')\n",
    "M = normalize(M, norm='l1', axis=0)\n",
    "gr=np.asarray(M.sum(1).T)[0]\n",
    "gr=gr/gr.mean()*Cell_number_dict[ts1]/Cell_number_dict[ts0]"
   ]
  },
  {
   "cell_type": "code",
   "execution_count": 16,
   "id": "1cea5a07",
   "metadata": {},
   "outputs": [
    {
     "data": {
      "text/plain": [
       "<Axes: ylabel='Count'>"
      ]
     },
     "execution_count": 16,
     "metadata": {},
     "output_type": "execute_result"
    },
    {
     "data": {
      "image/png": "[encoded data removed]",
      "text/plain": [
       "<Figure size 640x480 with 1 Axes>"
      ]
     },
     "metadata": {},
     "output_type": "display_data"
    }
   ],
   "source": [
    "sns.histplot(gr)"
   ]
  },
  {
   "cell_type": "code",
   "execution_count": null,
   "id": "b2472572",
   "metadata": {},
   "outputs": [],
   "source": []
  },
  {
   "cell_type": "code",
   "execution_count": null,
   "id": "74f64bca",
   "metadata": {},
   "outputs": [],
   "source": []
  }
 ],
 "metadata": {
  "kernelspec": {
   "display_name": "mc",
   "language": "python",
   "name": "mc"
  },
  "language_info": {
   "codemirror_mode": {
    "name": "ipython",
    "version": 3
   },
   "file_extension": ".py",
   "mimetype": "text/x-python",
   "name": "python",
   "nbconvert_exporter": "python",
   "pygments_lexer": "ipython3",
   "version": "3.10.9"
  }
 },
 "nbformat": 4,
 "nbformat_minor": 5
}
