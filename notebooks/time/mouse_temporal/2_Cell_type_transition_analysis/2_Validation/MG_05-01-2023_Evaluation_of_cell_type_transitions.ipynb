{
 "cells": [
  {
   "cell_type": "markdown",
   "metadata": {},
   "source": [
    "# Evaluating Cell Type Transitions"
   ]
  },
  {
   "cell_type": "markdown",
   "metadata": {},
   "source": [
    "This noteboo"
   ]
  },
  {
   "cell_type": "code",
   "execution_count": 1,
   "metadata": {},
   "outputs": [],
   "source": [
    "import numpy as np\n",
    "import anndata\n",
    "import pandas as pd\n",
    "import scanpy as sc\n",
    "import scipy\n",
    "import networkx as nx"
   ]
  },
  {
   "cell_type": "code",
   "execution_count": 2,
   "metadata": {},
   "outputs": [],
   "source": [
    "Path=\"/home/mgander/moscot-framework_reproducibility/data/mouse_temporal\"\n",
    "ts=['E3.5', 'E4.5', 'E5.25', 'E5.5', 'E6.25', 'E6.5', 'E6.75', 'E7.0', 'E7.25', 'E7.5', 'E7.75', 'E8.0', 'E8.25', 'E8.5a', 'E8.5b', 'E9.5', 'E10.5', 'E11.5', 'E12.5', 'E13.5']"
   ]
  },
  {
   "cell_type": "markdown",
   "metadata": {},
   "source": [
    "# Load and check curated transitions"
   ]
  },
  {
   "cell_type": "code",
   "execution_count": 3,
   "metadata": {
    "scrolled": true
   },
   "outputs": [
    {
     "data": {
      "text/html": [
       "<div>\n",
       "<style scoped>\n",
       "    .dataframe tbody tr th:only-of-type {\n",
       "        vertical-align: middle;\n",
       "    }\n",
       "\n",
       "    .dataframe tbody tr th {\n",
       "        vertical-align: top;\n",
       "    }\n",
       "\n",
       "    .dataframe thead th {\n",
       "        text-align: right;\n",
       "    }\n",
       "</style>\n",
       "<table border=\"1\" class=\"dataframe\">\n",
       "  <thead>\n",
       "    <tr style=\"text-align: right;\">\n",
       "      <th></th>\n",
       "      <th>Cell_type</th>\n",
       "      <th>Known_progenitors</th>\n",
       "      <th>Known_descendants</th>\n",
       "      <th>Germ_layer</th>\n",
       "    </tr>\n",
       "  </thead>\n",
       "  <tbody>\n",
       "    <tr>\n",
       "      <th>0</th>\n",
       "      <td>Morula</td>\n",
       "      <td>/</td>\n",
       "      <td>Inner cell mass, Trophectoderm</td>\n",
       "      <td>Other</td>\n",
       "    </tr>\n",
       "    <tr>\n",
       "      <th>1</th>\n",
       "      <td>Inner cell mass</td>\n",
       "      <td>Morula</td>\n",
       "      <td>Epiblast, Hypoblast</td>\n",
       "      <td>Other</td>\n",
       "    </tr>\n",
       "    <tr>\n",
       "      <th>2</th>\n",
       "      <td>Trophectoderm</td>\n",
       "      <td>Morula</td>\n",
       "      <td>Extraembryonic ectoderm</td>\n",
       "      <td>Extraembryonic</td>\n",
       "    </tr>\n",
       "    <tr>\n",
       "      <th>3</th>\n",
       "      <td>Extraembryonic ectoderm</td>\n",
       "      <td>Trophectoderm, Hypoblast</td>\n",
       "      <td>/</td>\n",
       "      <td>Extraembryonic</td>\n",
       "    </tr>\n",
       "    <tr>\n",
       "      <th>4</th>\n",
       "      <td>Hypoblast</td>\n",
       "      <td>Inner cell mass</td>\n",
       "      <td>Parietal endoderm, Visceral endoderm, Extraemb...</td>\n",
       "      <td>Other</td>\n",
       "    </tr>\n",
       "    <tr>\n",
       "      <th>...</th>\n",
       "      <td>...</td>\n",
       "      <td>...</td>\n",
       "      <td>...</td>\n",
       "      <td>...</td>\n",
       "    </tr>\n",
       "    <tr>\n",
       "      <th>86</th>\n",
       "      <td>Hematoendothelial progenitors</td>\n",
       "      <td>Nascent mesoderm, Extraembryonic mesoderm, Spl...</td>\n",
       "      <td>Endothelium, Blood progenitors</td>\n",
       "      <td>Mesoderm</td>\n",
       "    </tr>\n",
       "    <tr>\n",
       "      <th>87</th>\n",
       "      <td>White blood cells</td>\n",
       "      <td>Blood progenitors</td>\n",
       "      <td>/</td>\n",
       "      <td>Mesoderm</td>\n",
       "    </tr>\n",
       "    <tr>\n",
       "      <th>88</th>\n",
       "      <td>Megakaryocytes</td>\n",
       "      <td>Blood progenitors</td>\n",
       "      <td>/</td>\n",
       "      <td>Mesoderm</td>\n",
       "    </tr>\n",
       "    <tr>\n",
       "      <th>89</th>\n",
       "      <td>Primitive erythroid cells</td>\n",
       "      <td>Blood progenitors</td>\n",
       "      <td>/</td>\n",
       "      <td>Mesoderm</td>\n",
       "    </tr>\n",
       "    <tr>\n",
       "      <th>90</th>\n",
       "      <td>Definitive erythroid cells</td>\n",
       "      <td>Blood progenitors</td>\n",
       "      <td>/</td>\n",
       "      <td>Mesoderm</td>\n",
       "    </tr>\n",
       "  </tbody>\n",
       "</table>\n",
       "<p>91 rows × 4 columns</p>\n",
       "</div>"
      ],
      "text/plain": [
       "                        Cell_type   \n",
       "0                          Morula  \\\n",
       "1                 Inner cell mass   \n",
       "2                   Trophectoderm   \n",
       "3         Extraembryonic ectoderm   \n",
       "4                       Hypoblast   \n",
       "..                            ...   \n",
       "86  Hematoendothelial progenitors   \n",
       "87              White blood cells   \n",
       "88                 Megakaryocytes   \n",
       "89      Primitive erythroid cells   \n",
       "90     Definitive erythroid cells   \n",
       "\n",
       "                                    Known_progenitors   \n",
       "0                                                   /  \\\n",
       "1                                              Morula   \n",
       "2                                              Morula   \n",
       "3                            Trophectoderm, Hypoblast   \n",
       "4                                     Inner cell mass   \n",
       "..                                                ...   \n",
       "86  Nascent mesoderm, Extraembryonic mesoderm, Spl...   \n",
       "87                                  Blood progenitors   \n",
       "88                                  Blood progenitors   \n",
       "89                                  Blood progenitors   \n",
       "90                                  Blood progenitors   \n",
       "\n",
       "                                    Known_descendants      Germ_layer  \n",
       "0                      Inner cell mass, Trophectoderm           Other  \n",
       "1                                 Epiblast, Hypoblast           Other  \n",
       "2                             Extraembryonic ectoderm  Extraembryonic  \n",
       "3                                                   /  Extraembryonic  \n",
       "4   Parietal endoderm, Visceral endoderm, Extraemb...           Other  \n",
       "..                                                ...             ...  \n",
       "86                     Endothelium, Blood progenitors        Mesoderm  \n",
       "87                                                  /        Mesoderm  \n",
       "88                                                  /        Mesoderm  \n",
       "89                                                  /        Mesoderm  \n",
       "90                                                  /        Mesoderm  \n",
       "\n",
       "[91 rows x 4 columns]"
      ]
     },
     "execution_count": 3,
     "metadata": {},
     "output_type": "execute_result"
    }
   ],
   "source": [
    "######## Load the excel-file where all transitions between cell types corresponds to literature    ############## \n",
    "# This file can be found in the supplementary table\n",
    "\n",
    "Lit=pd.read_csv(f'{Path}/Utils/Curated_transitions.csv', sep=';')\n",
    "Lit"
   ]
  },
  {
   "cell_type": "code",
   "execution_count": 4,
   "metadata": {},
   "outputs": [
    {
     "name": "stdout",
     "output_type": "stream",
     "text": [
      "Everything is consistent\n"
     ]
    }
   ],
   "source": [
    "###################     Check for inconsistencies     ########################################################\n",
    "Dict={}\n",
    "k=0\n",
    "for i in range(0,len(Lit)):\n",
    "    ct_l=Lit['Cell_type']\n",
    "    Dict[f'{ct_l[i]}']=i\n",
    "\n",
    "# Check if all the decendants are also in progenitors of the respective cell type\n",
    "for i in range(0, len(Lit)):\n",
    "    ct=Lit['Cell_type'][i]\n",
    "    for j in Lit['Known_descendants'][i].split(', '):\n",
    "        if j=='/':\n",
    "            pass\n",
    "        else:\n",
    "            if ct in Lit['Known_progenitors'][Dict[j]].split(', '):\n",
    "                pass\n",
    "            else:\n",
    "                print(f'{ct} is not in progenitors of {j}')\n",
    "                print(Lit['Known_progenitors'][Dict[j]].split(', '))\n",
    "                k=k+1\n",
    "\n",
    "# Check if all the progenitors are also in descendents of the respective cell type\n",
    "for i in range(0, len(Lit)):\n",
    "    ct=Lit['Cell_type'][i]\n",
    "    for j in Lit['Known_progenitors'][i].split(', '):\n",
    "        #print(j)\n",
    "        if j=='/':\n",
    "            pass\n",
    "        else:\n",
    "            if ct in Lit['Known_descendants'][Dict[j]].split(', '):\n",
    "                pass\n",
    "            else:\n",
    "                print(f'{ct} is not in descendants of {j}')\n",
    "                k=k+1\n",
    "if k!=0:\n",
    "    print('Inconsistencies in literature tree!')\n",
    "else:\n",
    "    print('Everything is consistent')"
   ]
  },
  {
   "cell_type": "code",
   "execution_count": 5,
   "metadata": {},
   "outputs": [],
   "source": [
    "G= nx.DiGraph()\n",
    "\n",
    "for n in Lit['Cell_type']:\n",
    "    G.add_node(n)\n",
    "\n",
    "for i in range(len(Lit)):\n",
    "    cell_type=Lit['Cell_type'][i]\n",
    "    desc=Lit['Known_descendants'][i].split(', ')\n",
    "    for des in desc:\n",
    "        G.add_edge(cell_type, des)\n",
    "        \n",
    "    # Add  transition to self\n",
    "    G.add_edge(cell_type, cell_type)"
   ]
  },
  {
   "cell_type": "markdown",
   "metadata": {},
   "source": [
    "# Evaluate"
   ]
  },
  {
   "cell_type": "code",
   "execution_count": 6,
   "metadata": {},
   "outputs": [],
   "source": [
    "def evaluate_using_curated_transitions(G, df, cutoff):\n",
    "    child_ct=[a.split(':')[1] for a in list(df.columns)]\n",
    "    parent_ct=[a.split(':')[1] for a in list(df.index)]\n",
    "    known_edges=list(G.edges)\n",
    "\n",
    "    known_transition=0\n",
    "    unknown_transition=0\n",
    "\n",
    "    M=df.values\n",
    "\n",
    "    for i,p in zip(range(len(parent_ct)), parent_ct):\n",
    "        for j,c in zip(range(len(child_ct)),child_ct):\n",
    "            edge_weight=M[i,j]\n",
    "\n",
    "            if edge_weight>cutoff:\n",
    "\n",
    "                if (p, c) in known_edges or c==p:\n",
    "                    known_transition+=edge_weight\n",
    "                else:\n",
    "                    unknown_transition+=edge_weight\n",
    "    all_transitions=unknown_transition+known_transition\n",
    "    accuracy=known_transition/all_transitions\n",
    "    return(accuracy, all_transitions)"
   ]
  },
  {
   "cell_type": "code",
   "execution_count": 7,
   "metadata": {},
   "outputs": [],
   "source": [
    "def evaluate_using_germ_layers(Lit, df, cutoff):\n",
    "    child_ct=[a.split(':')[1] for a in list(df.columns)]\n",
    "    parent_ct=[a.split(':')[1] for a in list(df.index)]\n",
    "\n",
    "    # Construct germ layer dict\n",
    "    Germ_layer_dict=dict(zip(Lit['Cell_type'], Lit['Germ_layer']))\n",
    "\n",
    "    # Manually add the cell types that have been sub-clusterd\n",
    "    Germ_layer_dict['Osteoblast progenitors A']='Mesoderm'\n",
    "    Germ_layer_dict['Osteoblast progenitors B']='Mesoderm'\n",
    "    Germ_layer_dict['Paraxial mesoderm A']='Mesoderm'\n",
    "    Germ_layer_dict['Paraxial mesoderm B']='Mesoderm'\n",
    "    Germ_layer_dict['Paraxial mesoderm C']='Mesoderm'\n",
    "    Germ_layer_dict['Amniochorionic mesoderm A']='Mesoderm'\n",
    "    Germ_layer_dict['Amniochorionic mesoderm B']='Mesoderm'\n",
    "\n",
    "\n",
    "    known_transition=0\n",
    "    unknown_transition=0\n",
    "\n",
    "    M=df.values\n",
    "\n",
    "    for i,p in zip(range(len(parent_ct)), parent_ct):\n",
    "        for j,c in zip(range(len(child_ct)),child_ct):\n",
    "            edge_weight=M[i,j]\n",
    "\n",
    "            if edge_weight>cutoff:\n",
    "\n",
    "                p_germ=Germ_layer_dict[p]\n",
    "                c_germ=Germ_layer_dict[c]\n",
    "\n",
    "                # Don't consider cell types that are not asigned a germ layer\n",
    "                if p_germ!='Other' and c_germ!='Other':\n",
    "\n",
    "                    # Special case: Neural crest (neuroectoderm) is known to become osteoblasts (mesoderm) of the head\n",
    "                    if p=='Neural crest' and c in ['Osteoblast progenitors A', 'Osteoblast progenitors B']:\n",
    "                        known_transition+=edge_weight\n",
    "\n",
    "                    else:\n",
    "                        if p_germ==c_germ:\n",
    "                            known_transition+=edge_weight\n",
    "                        else:\n",
    "                            unknown_transition+=edge_weight\n",
    "    all_transitions=unknown_transition+known_transition\n",
    "    if all_transitions==0:\n",
    "        accuracy=1\n",
    "    else:\n",
    "        accuracy=known_transition/all_transitions\n",
    "    return(accuracy, all_transitions)"
   ]
  },
  {
   "cell_type": "code",
   "execution_count": null,
   "metadata": {},
   "outputs": [],
   "source": []
  },
  {
   "cell_type": "code",
   "execution_count": null,
   "metadata": {},
   "outputs": [],
   "source": []
  },
  {
   "cell_type": "code",
   "execution_count": null,
   "metadata": {},
   "outputs": [],
   "source": []
  },
  {
   "cell_type": "code",
   "execution_count": 29,
   "metadata": {},
   "outputs": [],
   "source": [
    "# Cutoff used to exclude all edges with weight below that\n",
    "cutoff=0.05"
   ]
  },
  {
   "cell_type": "markdown",
   "metadata": {},
   "source": [
    "# Pre-gastrulation"
   ]
  },
  {
   "cell_type": "code",
   "execution_count": 30,
   "metadata": {},
   "outputs": [],
   "source": [
    "frames=[]\n",
    "for i in range(5):\n",
    "    ts0=ts[i]\n",
    "    ts1=ts[i+1]\n",
    "\n",
    "    MT=pd.read_pickle(f'{Path}/moscot_maps_cell_type_transition_analysis/{ts0}_{ts1}_cell_type_transitions.pkl')\n",
    "    TT=pd.read_csv(f'{Path}/TOME_maps_cell_type_transition_analysis/TOME_map_{ts0}_{ts1}.csv', index_col='Unnamed: 0').T\n",
    "    # TOME-columns do not always sum to 1, but is always very close. To enable a fair comparision normalize both\n",
    "    MT=MT/MT.sum(0)\n",
    "    TT=TT/TT.sum(0)\n",
    "\n",
    "    mc0, mc1=evaluate_using_curated_transitions(G, MT, cutoff)\n",
    "    tc0, tc1=evaluate_using_curated_transitions(G, TT, cutoff)\n",
    "    mg0, mg1=evaluate_using_germ_layers(Lit, MT, cutoff)\n",
    "    tg0, tg1=evaluate_using_germ_layers(Lit, TT, cutoff)\n",
    "    frames.append(pd.DataFrame({'moscot_curated_acc':[mc0], 'moscot_curated_total_weight':mc1,\n",
    "                    'tome_curated_acc':tc0, 'tome_curated_total_weight':tc1,\n",
    "                     'moscot_germ_acc':mg0, 'moscot_germ_total_weight':mg1,\n",
    "                     'tome_germ_acc':tg0, 'tome_germ_total_weight':tg1}))\n",
    "df=pd.concat(frames, ignore_index=True)\n",
    "df['Developmental_stage']='Pre-gastrulation'"
   ]
  },
  {
   "cell_type": "code",
   "execution_count": 31,
   "metadata": {},
   "outputs": [],
   "source": [
    "df.to_pickle(f'{Path}/Validation_output/Cell_type_transiton_validation_pre_gastrulation.npy')"
   ]
  },
  {
   "cell_type": "markdown",
   "metadata": {},
   "source": [
    "# Gastrulation"
   ]
  },
  {
   "cell_type": "code",
   "execution_count": 32,
   "metadata": {},
   "outputs": [],
   "source": [
    "frames=[]\n",
    "for i in range(5,13):\n",
    "    ts0=ts[i]\n",
    "    ts1=ts[i+1]\n",
    "\n",
    "    MT=pd.read_pickle(f'{Path}/moscot_maps_cell_type_transition_analysis/{ts0}_{ts1}_cell_type_transitions.pkl')\n",
    "    TT=pd.read_csv(f'{Path}/TOME_maps_cell_type_transition_analysis/TOME_map_{ts0}_{ts1}.csv', index_col='Unnamed: 0').T\n",
    "    # TOME-columns do not always sum to 1, but is always very close. To enable a fair comparision normalize both\n",
    "    MT=MT/MT.sum(0)\n",
    "    TT=TT/TT.sum(0)\n",
    "\n",
    "    mc0, mc1=evaluate_using_curated_transitions(G, MT, cutoff)\n",
    "    tc0, tc1=evaluate_using_curated_transitions(G, TT, cutoff)\n",
    "    mg0, mg1=evaluate_using_germ_layers(Lit, MT, cutoff)\n",
    "    tg0, tg1=evaluate_using_germ_layers(Lit, TT, cutoff)\n",
    "    frames.append(pd.DataFrame({'moscot_curated_acc':[mc0], 'moscot_curated_total_weight':mc1,\n",
    "                    'tome_curated_acc':tc0, 'tome_curated_total_weight':tc1,\n",
    "                     'moscot_germ_acc':mg0, 'moscot_germ_total_weight':mg1,\n",
    "                     'tome_germ_acc':tg0, 'tome_germ_total_weight':tg1}))\n",
    "df=pd.concat(frames, ignore_index=True)\n",
    "df['Developmental_stage']='Gastrulation'"
   ]
  },
  {
   "cell_type": "code",
   "execution_count": 33,
   "metadata": {},
   "outputs": [],
   "source": [
    "df.to_pickle(f'{Path}/Validation_output/Cell_type_transiton_validation_gastrulation.npy')"
   ]
  },
  {
   "cell_type": "markdown",
   "metadata": {},
   "source": [
    "# Organogenesis"
   ]
  },
  {
   "cell_type": "code",
   "execution_count": 34,
   "metadata": {
    "scrolled": true
   },
   "outputs": [],
   "source": [
    "frames=[]\n",
    "for i in range(13,19):\n",
    "    ts0=ts[i]\n",
    "    ts1=ts[i+1]\n",
    "\n",
    "    MT=pd.read_pickle(f'{Path}/moscot_maps_cell_type_transition_analysis/{ts0}_{ts1}_cell_type_transitions.pkl')\n",
    "    TT=pd.read_csv(f'{Path}/TOME_maps_cell_type_transition_analysis/TOME_map_{ts0}_{ts1}.csv', index_col='Unnamed: 0').T\n",
    "    # TOME-columns do not always sum to 1, but is always very close. To enable a fair comparision normalize both\n",
    "    MT=MT/MT.sum(0)\n",
    "    TT=TT/TT.sum(0)\n",
    "\n",
    "    mc0, mc1=evaluate_using_curated_transitions(G, MT, cutoff)\n",
    "    tc0, tc1=evaluate_using_curated_transitions(G, TT, cutoff)\n",
    "    mg0, mg1=evaluate_using_germ_layers(Lit, MT, cutoff)\n",
    "    tg0, tg1=evaluate_using_germ_layers(Lit, TT, cutoff)\n",
    "    frames.append(pd.DataFrame({'moscot_curated_acc':[mc0], 'moscot_curated_total_weight':mc1,\n",
    "                    'tome_curated_acc':tc0, 'tome_curated_total_weight':tc1,\n",
    "                     'moscot_germ_acc':mg0, 'moscot_germ_total_weight':mg1,\n",
    "                     'tome_germ_acc':tg0, 'tome_germ_total_weight':tg1}))\n",
    "df=pd.concat(frames, ignore_index=True)\n",
    "df['Developmental_stage']='Organogenesis'"
   ]
  },
  {
   "cell_type": "code",
   "execution_count": 35,
   "metadata": {},
   "outputs": [],
   "source": [
    "df.to_pickle(f'{Path}/Validation_output/Cell_type_transiton_validation_organogenesis.npy')"
   ]
  },
  {
   "cell_type": "code",
   "execution_count": null,
   "metadata": {},
   "outputs": [],
   "source": []
  },
  {
   "cell_type": "code",
   "execution_count": null,
   "metadata": {},
   "outputs": [],
   "source": []
  },
  {
   "cell_type": "code",
   "execution_count": null,
   "metadata": {},
   "outputs": [],
   "source": []
  },
  {
   "cell_type": "code",
   "execution_count": null,
   "metadata": {},
   "outputs": [],
   "source": []
  }
 ],
 "metadata": {
  "kernelspec": {
   "display_name": "mc",
   "language": "python",
   "name": "mc"
  },
  "language_info": {
   "codemirror_mode": {
    "name": "ipython",
    "version": 3
   },
   "file_extension": ".py",
   "mimetype": "text/x-python",
   "name": "python",
   "nbconvert_exporter": "python",
   "pygments_lexer": "ipython3",
   "version": "3.10.9"
  }
 },
 "nbformat": 4,
 "nbformat_minor": 2
}
