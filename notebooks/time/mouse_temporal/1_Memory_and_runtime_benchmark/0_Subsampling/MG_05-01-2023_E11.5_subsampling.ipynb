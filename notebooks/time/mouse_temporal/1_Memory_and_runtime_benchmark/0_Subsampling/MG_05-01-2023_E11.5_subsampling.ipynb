{
 "cells": [
  {
   "cell_type": "markdown",
   "id": "6cf62195",
   "metadata": {},
   "source": [
    "# Subsampling"
   ]
  },
  {
   "cell_type": "markdown",
   "id": "66750a59",
   "metadata": {},
   "source": [
    "Taking the time pair with the most cells and subsampling it randomly to evaluate running times and memory consumption."
   ]
  },
  {
   "cell_type": "code",
   "execution_count": 1,
   "id": "3c331669",
   "metadata": {},
   "outputs": [],
   "source": [
    "import scanpy as sc\n",
    "import anndata"
   ]
  },
  {
   "cell_type": "code",
   "execution_count": 2,
   "id": "5842210b",
   "metadata": {},
   "outputs": [],
   "source": [
    "Path=\"/home/mgander/moscot-framework_reproducibility/data/mouse_temporal\"\n",
    "ts=['E3.5', 'E4.5', 'E5.25', 'E5.5', 'E6.25', 'E6.5', 'E6.75', 'E7.0', 'E7.25', 'E7.5', 'E7.75', 'E8.0', 'E8.25', 'E8.5a', 'E8.5b', 'E9.5', 'E10.5', 'E11.5', 'E12.5', 'E13.5']"
   ]
  },
  {
   "cell_type": "code",
   "execution_count": 4,
   "id": "2c0ffc23",
   "metadata": {
    "scrolled": true
   },
   "outputs": [
    {
     "name": "stdout",
     "output_type": "stream",
     "text": [
      "------------------------------------------------------------------------\n",
      "E11.5\n",
      "WARNING: Your filename has more than two extensions: ['.5_E12', '.5', '.h5ad'].\n",
      "Only considering the two last: ['.5', '.h5ad'].\n",
      "WARNING: Your filename has more than two extensions: ['.5_E12', '.5', '.h5ad'].\n",
      "Only considering the two last: ['.5', '.h5ad'].\n"
     ]
    }
   ],
   "source": [
    "i=17\n",
    "ts0=ts[i]\n",
    "print('------------------------------------------------------------------------')\n",
    "print(ts0)\n",
    "ts1=ts[i+1]\n",
    "\n",
    "adata=sc.read(f'{Path}/anndatas/Comb_anndatas/adata_{ts0}_{ts1}.h5ad')\n",
    "A0=adata[adata.obs['day']==11.5]\n",
    "A1=adata[adata.obs['day']==12.5]"
   ]
  },
  {
   "cell_type": "code",
   "execution_count": 5,
   "id": "edb7e20d",
   "metadata": {},
   "outputs": [
    {
     "data": {
      "text/plain": [
       "455124"
      ]
     },
     "execution_count": 5,
     "metadata": {},
     "output_type": "execute_result"
    }
   ],
   "source": [
    "len(A0)"
   ]
  },
  {
   "cell_type": "code",
   "execution_count": 6,
   "id": "9687e72d",
   "metadata": {},
   "outputs": [
    {
     "data": {
      "text/plain": [
       "292726"
      ]
     },
     "execution_count": 6,
     "metadata": {},
     "output_type": "execute_result"
    }
   ],
   "source": [
    "len(A1)"
   ]
  },
  {
   "cell_type": "code",
   "execution_count": 29,
   "id": "51f7c22b",
   "metadata": {},
   "outputs": [],
   "source": [
    "# Subsample in 25k steps, up to 275k:\n",
    "ks=np.linspace(25,275,11, dtype=int)\n",
    "\n",
    "for k in ks:\n",
    "    A0_sub=sc.pp.subsample(A0, n_obs=k*10**3, random_state=0, copy=True)\n",
    "    A1_sub=sc.pp.subsample(A1, n_obs=k*10**3, random_state=0, copy=True)\n",
    "    adata_sub=anndata.concat((A0_sub, A1_sub), axis=0, join='outer', index_unique=None)\n",
    "    adata_sub.write(f'{Path}/Subsampled/adata_{k}k.h5ad')"
   ]
  },
  {
   "cell_type": "code",
   "execution_count": null,
   "id": "6b4c6cc0",
   "metadata": {},
   "outputs": [],
   "source": []
  },
  {
   "cell_type": "code",
   "execution_count": null,
   "id": "c892f005",
   "metadata": {},
   "outputs": [],
   "source": []
  },
  {
   "cell_type": "code",
   "execution_count": null,
   "id": "fda01db4",
   "metadata": {},
   "outputs": [],
   "source": []
  },
  {
   "cell_type": "code",
   "execution_count": null,
   "id": "a181285f",
   "metadata": {},
   "outputs": [],
   "source": []
  }
 ],
 "metadata": {
  "kernelspec": {
   "display_name": "mc",
   "language": "python",
   "name": "mc"
  },
  "language_info": {
   "codemirror_mode": {
    "name": "ipython",
    "version": 3
   },
   "file_extension": ".py",
   "mimetype": "text/x-python",
   "name": "python",
   "nbconvert_exporter": "python",
   "pygments_lexer": "ipython3",
   "version": "3.10.9"
  }
 },
 "nbformat": 4,
 "nbformat_minor": 5
}
