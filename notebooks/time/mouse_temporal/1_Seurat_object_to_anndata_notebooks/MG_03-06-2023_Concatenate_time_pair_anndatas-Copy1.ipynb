{
 "cells": [
  {
   "cell_type": "markdown",
   "id": "deec01e2",
   "metadata": {},
   "source": [
    "# Concatenate anndatas"
   ]
  },
  {
   "cell_type": "markdown",
   "id": "03632e05",
   "metadata": {},
   "source": [
    "For each time pair, the anndatas are concatenated and the representation form the Seurat integration is added."
   ]
  },
  {
   "cell_type": "code",
   "execution_count": 1,
   "id": "81d3cd77",
   "metadata": {},
   "outputs": [],
   "source": [
    "import numpy as np\n",
    "import anndata\n",
    "import pandas as pd\n",
    "import scanpy as sc\n",
    "import scipy"
   ]
  },
  {
   "cell_type": "code",
   "execution_count": 2,
   "id": "f041d575",
   "metadata": {},
   "outputs": [],
   "source": [
    "Path=\"/home/icb/manuel.gander/moscotTime_Reproducibility/Data\"\n",
    "ts=['E3.5', 'E4.5', 'E5.25', 'E5.5', 'E6.25', 'E6.5', 'E6.75', 'E7.0', 'E7.25', 'E7.5', 'E7.75', 'E8.0', 'E8.25', 'E8.5a', 'E8.5b', 'E9.5', 'E10.5', 'E11.5', 'E12.5', 'E13.5']"
   ]
  },
  {
   "cell_type": "code",
   "execution_count": 3,
   "id": "9893b841",
   "metadata": {},
   "outputs": [],
   "source": [
    "def load_and_concatenate(ts0, ts1):\n",
    "    import warnings\n",
    "    warnings.filterwarnings('ignore')\n",
    "    sc.settings.verbosity = 0\n",
    "    A0=sc.read(f\"{Path}/anndatas/adata_{ts0}.h5ad\")\n",
    "    A1=sc.read(f\"{Path}/anndatas/adata_{ts1}.h5ad\")\n",
    "\n",
    "    if ts0=='E8.5a':\n",
    "        A0.obs['day']=0\n",
    "    adata=A0.concatenate(A1, join='inner', index_unique=None, batch_key=None).copy()\n",
    "    \n",
    "    if ts0=='E8.5a':\n",
    "        adata.obs['group']=adata.obs['group'].astype('str')\n",
    "    return(adata)"
   ]
  },
  {
   "cell_type": "code",
   "execution_count": 4,
   "id": "8d2e852b",
   "metadata": {},
   "outputs": [],
   "source": [
    "def add_representation(adata, ts0, ts1):\n",
    "    # For E8.5b to E9.5, use the recomputed (better) integration (uses more hvgs=features)\n",
    "    if ts0=='E8.5b':\n",
    "        k='_new'\n",
    "    else:\n",
    "        k=''\n",
    "\n",
    "    # Load the representation from Seurat integration\n",
    "    PCA=pd.read_csv(f\"{Path}/Seurat_Representations/{ts0}_{ts1}_pca{k}.csv\", sep= \",\", index_col='Unnamed: 0')\n",
    "    adata.obsm['X_pcaS']=PCA.loc[list(adata.obs['cellID'])].values\n",
    "\n",
    "    UMAP=pd.read_csv(f\"{Path}/Seurat_Representations/{ts0}_{ts1}_umap3{k}.csv\", sep= \",\", index_col='Unnamed: 0')\n",
    "    adata.obsm['X_umap3']=UMAP.loc[list(adata.obs['cellID'])].values\n",
    "    return(adata)"
   ]
  },
  {
   "cell_type": "code",
   "execution_count": 5,
   "id": "fa05a199",
   "metadata": {},
   "outputs": [],
   "source": [
    "def fix_adata_var(adata):\n",
    "    # Put the gene names into adata.var.index for scoring genes later\n",
    "    \n",
    "    # If the genes of the two time points are not the same, two (identical) columns are added\n",
    "    if 'gene_names-0' in list(adata.var.columns):\n",
    "        if list(adata.var['gene_names-0'])==list(adata.var['gene_names-1']):\n",
    "            adata.var['gene_names']=adata.var['gene_names-1']\n",
    "            del adata.var['gene_names-0']\n",
    "            del adata.var['gene_names-1']\n",
    "        else:\n",
    "            print('Fatal Error: Gene names are not the same!!!')\n",
    "            return(np.NaN)\n",
    "        \n",
    "    adata.var['index']=[str(a) for a in adata.var['gene_names']]\n",
    "    adata.var=adata.var.set_index('index')\n",
    "    adata.var_names_make_unique()\n",
    "    \n",
    "    return(adata)"
   ]
  },
  {
   "cell_type": "markdown",
   "id": "8370440e",
   "metadata": {},
   "source": [
    "# Looping over all time pairs"
   ]
  },
  {
   "cell_type": "code",
   "execution_count": null,
   "id": "eddf76df",
   "metadata": {
    "collapsed": true
   },
   "outputs": [
    {
     "name": "stdout",
     "output_type": "stream",
     "text": [
      "E3.5\n",
      "E4.5\n",
      "E5.25\n",
      "E5.5\n",
      "E6.25\n",
      "E6.5\n",
      "E6.75\n",
      "E7.0\n",
      "E7.25\n",
      "E7.5\n",
      "E7.75\n",
      "E8.0\n",
      "E8.25\n",
      "E8.5a\n"
     ]
    }
   ],
   "source": [
    "for i in range(20):\n",
    "    ts0=ts[i]\n",
    "    ts1=ts[i+1]\n",
    "    print(ts0)\n",
    "\n",
    "    adata=load_and_concatenate(ts0, ts1)\n",
    "    adata=add_representation(adata, ts0, ts1)\n",
    "    adata=fix_adata_var(adata)\n",
    "    \n",
    "    adata.write(f\"{Path}/anndatas/adata_{ts0}_{ts1}.h5ad\", compression='gzip')"
   ]
  },
  {
   "cell_type": "code",
   "execution_count": null,
   "id": "fd34d3bf",
   "metadata": {},
   "outputs": [
    {
     "name": "stdout",
     "output_type": "stream",
     "text": [
      "E9.5\n",
      "E10.5\n"
     ]
    }
   ],
   "source": [
    "for i in range(15,19):\n",
    "    ts0=ts[i]\n",
    "    ts1=ts[i+1]\n",
    "    print(ts0)\n",
    "\n",
    "    adata=load_and_concatenate(ts0, ts1)\n",
    "    adata=add_representation(adata, ts0, ts1)\n",
    "    adata=fix_adata_var(adata)\n",
    "    \n",
    "    adata.write(f\"{Path}/anndatas/adata_{ts0}_{ts1}.h5ad\", compression='gzip')"
   ]
  },
  {
   "cell_type": "code",
   "execution_count": null,
   "id": "76236e4a",
   "metadata": {},
   "outputs": [],
   "source": []
  },
  {
   "cell_type": "code",
   "execution_count": null,
   "id": "33cf0d54",
   "metadata": {},
   "outputs": [],
   "source": []
  },
  {
   "cell_type": "code",
   "execution_count": 12,
   "id": "681d04a3",
   "metadata": {},
   "outputs": [],
   "source": [
    "adata.write(f\"{Path}/anndatas/adata_{ts0}_{ts1}.h5ad\", compression='gzip')"
   ]
  },
  {
   "cell_type": "code",
   "execution_count": null,
   "id": "7943b433",
   "metadata": {},
   "outputs": [],
   "source": []
  },
  {
   "cell_type": "code",
   "execution_count": null,
   "id": "ba550203",
   "metadata": {},
   "outputs": [],
   "source": []
  },
  {
   "cell_type": "code",
   "execution_count": null,
   "id": "3ee75e58",
   "metadata": {},
   "outputs": [],
   "source": []
  },
  {
   "cell_type": "code",
   "execution_count": null,
   "id": "9d8e5c96",
   "metadata": {},
   "outputs": [],
   "source": []
  },
  {
   "cell_type": "code",
   "execution_count": null,
   "id": "ab836cf4",
   "metadata": {},
   "outputs": [],
   "source": []
  }
 ],
 "metadata": {
  "kernelspec": {
   "display_name": "m",
   "language": "python",
   "name": "m"
  },
  "language_info": {
   "codemirror_mode": {
    "name": "ipython",
    "version": 3
   },
   "file_extension": ".py",
   "mimetype": "text/x-python",
   "name": "python",
   "nbconvert_exporter": "python",
   "pygments_lexer": "ipython3",
   "version": "3.10.5"
  }
 },
 "nbformat": 4,
 "nbformat_minor": 5
}
