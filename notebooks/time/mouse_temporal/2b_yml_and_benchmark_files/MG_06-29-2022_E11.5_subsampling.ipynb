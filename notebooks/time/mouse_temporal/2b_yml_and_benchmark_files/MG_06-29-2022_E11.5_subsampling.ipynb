{
 "cells": [
  {
   "cell_type": "markdown",
   "id": "6cf62195",
   "metadata": {},
   "source": [
    "# Subsampling"
   ]
  },
  {
   "cell_type": "markdown",
   "id": "66750a59",
   "metadata": {},
   "source": [
    "Taking the time pair with the msot cells and subsampling it randomly"
   ]
  },
  {
   "cell_type": "code",
   "execution_count": 13,
   "id": "3c331669",
   "metadata": {},
   "outputs": [],
   "source": [
    "import scanpy as sc\n",
    "import anndata"
   ]
  },
  {
   "cell_type": "code",
   "execution_count": 2,
   "id": "5842210b",
   "metadata": {},
   "outputs": [],
   "source": [
    "Path=\"/home/icb/manuel.gander/moscotTime_Reproducibility/Data\"\n",
    "# Define time points\n",
    "t=[3.5, 4.5, 5.25, 5.5]+[6.25+x/4 for x in range(0,10)]+[8.5]+[9.5+x for x in range(0,5)]\n",
    "ts=[str(a) for a in [3.5, 4.5, 5.25, 5.5, 6.25]] + [str(a) for a in np.arange(6.5, 8.5, 0.25)] + ['8.5a', '8.5b']+ [str(a) for a in np.arange(9.5, 14.5, 1)]\n",
    "ts=['E'+a for a in ts]"
   ]
  },
  {
   "cell_type": "code",
   "execution_count": 5,
   "id": "2c0ffc23",
   "metadata": {
    "scrolled": true
   },
   "outputs": [
    {
     "name": "stdout",
     "output_type": "stream",
     "text": [
      "------------------------------------------------------------------------\n",
      "E11.5\n",
      "WARNING: Your filename has more than two extensions: ['.5_E12', '.5', '.h5ad'].\n",
      "Only considering the two last: ['.5', '.h5ad'].\n",
      "WARNING: Your filename has more than two extensions: ['.5_E12', '.5', '.h5ad'].\n",
      "Only considering the two last: ['.5', '.h5ad'].\n"
     ]
    }
   ],
   "source": [
    "i=17\n",
    "ts0=ts[i]\n",
    "print('------------------------------------------------------------------------')\n",
    "print(ts0)\n",
    "ts1=ts[i+1]\n",
    "\n",
    "adata=sc.read(f'{Path}/anndatas/adata_{ts0}_{ts1}.h5ad')\n",
    "A0=adata[adata.obs['day']==11.5]\n",
    "A1=adata[adata.obs['day']==12.5]"
   ]
  },
  {
   "cell_type": "code",
   "execution_count": 29,
   "id": "51f7c22b",
   "metadata": {},
   "outputs": [],
   "source": [
    "# Subsample in 25k steps:\n",
    "ks=np.linspace(25,275,11, dtype=int)\n",
    "\n",
    "for k in ks:\n",
    "    A0_sub=sc.pp.subsample(A0, n_obs=k*10**3, random_state=0, copy=True)\n",
    "    A1_sub=sc.pp.subsample(A1, n_obs=k*10**3, random_state=0, copy=True)\n",
    "    adata_sub=anndata.concat((A0_sub,A1_sub), axis=0, join='outer', index_unique=None)\n",
    "    adata_sub.write(f'{Path}/Subsampled/adata_{k}k.h5ad')"
   ]
  },
  {
   "cell_type": "code",
   "execution_count": null,
   "id": "6b4c6cc0",
   "metadata": {},
   "outputs": [],
   "source": []
  },
  {
   "cell_type": "code",
   "execution_count": null,
   "id": "c892f005",
   "metadata": {},
   "outputs": [],
   "source": []
  },
  {
   "cell_type": "code",
   "execution_count": null,
   "id": "fda01db4",
   "metadata": {},
   "outputs": [],
   "source": []
  },
  {
   "cell_type": "code",
   "execution_count": null,
   "id": "a181285f",
   "metadata": {},
   "outputs": [],
   "source": []
  }
 ],
 "metadata": {
  "kernelspec": {
   "display_name": "m",
   "language": "python",
   "name": "m"
  },
  "language_info": {
   "codemirror_mode": {
    "name": "ipython",
    "version": 3
   },
   "file_extension": ".py",
   "mimetype": "text/x-python",
   "name": "python",
   "nbconvert_exporter": "python",
   "pygments_lexer": "ipython3",
   "version": "3.10.5"
  }
 },
 "nbformat": 4,
 "nbformat_minor": 5
}
