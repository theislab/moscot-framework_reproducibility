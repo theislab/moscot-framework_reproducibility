{
 "cells": [
  {
   "cell_type": "code",
   "execution_count": 1,
   "id": "86d7a6a9",
   "metadata": {
    "scrolled": true
   },
   "outputs": [],
   "source": [
    "import numpy as np\n",
    "import anndata\n",
    "import pandas as pd\n",
    "import scanpy as sc\n",
    "import scipy\n",
    "from moscot.problems.time._lineage import TemporalProblem\n",
    "import sys\n",
    "sys.path.append('/home/mgander/mouse_atlas/Utils')\n",
    "import c2\n",
    "\n",
    "\n",
    "Path=\"/home/mgander/mouse_atlas/data/\"\n",
    "ts=['E3.5', 'E4.5', 'E5.25', 'E5.5', 'E6.25', 'E6.5', 'E6.75', 'E7.0', 'E7.25', 'E7.5', 'E7.75', 'E8.0', 'E8.25', 'E8.5a', 'E8.5b', 'E9.5', 'E10.5', 'E11.5', 'E12.5', 'E13.5']\n",
    "\n",
    "# These cell numbers where determined by each lab that was performing the sequencing of the embryos\n",
    "# I took these numbers from http://tome.gs.washington.edu/ \n",
    "\n",
    "cells=[32, 80, 100, 120, 400, 660, 1720, 4500, 8200, 15000, 30000, 60000, 73000, 90000, 90000, 200000, 1100000, 2600000, 6000000, 13000000]\n",
    "Cell_number_dict={}\n",
    "for i in range(20):\n",
    "    Cell_number_dict[ts[i]]=cells[i]"
   ]
  },
  {
   "cell_type": "code",
   "execution_count": 2,
   "id": "4b38e33e",
   "metadata": {},
   "outputs": [],
   "source": [
    "# For some we also want to have the pull\n",
    "D_pull_population={7:'E7.25:Definitive endoderm', 10:'E8:Allantois',\n",
    "                   11:'E8.25:First heart field', 16:'E11.5:Pancreatic epithelium'}"
   ]
  },
  {
   "cell_type": "code",
   "execution_count": 3,
   "id": "d6da0c05",
   "metadata": {},
   "outputs": [],
   "source": [
    "# These are the tau1's I use\n",
    "taus=[0.99, 0.98, 0.99, 0.9, 0.95, 0.95, 0.6, 0.8, 0.92, 0.92, 0.87, 0.95, 0.93, 0.95, 0.98, 0.65, 0.8, 0.87, 0.88]"
   ]
  },
  {
   "cell_type": "code",
   "execution_count": 10,
   "id": "d4d4b75e",
   "metadata": {
    "scrolled": true
   },
   "outputs": [
    {
     "name": "stdout",
     "output_type": "stream",
     "text": [
      "E8.0_E8.25\n",
      "------------------------\n",
      "WARNING: Your filename has more than two extensions: ['.0_E8', '.25', '.h5ad'].\n",
      "Only considering the two last: ['.25', '.h5ad'].\n",
      "WARNING: Your filename has more than two extensions: ['.0_E8', '.25', '.h5ad'].\n",
      "Only considering the two last: ['.25', '.h5ad'].\n"
     ]
    },
    {
     "name": "stderr",
     "output_type": "stream",
     "text": [
      "/home/mgander/jax_test/lib/python3.9/site-packages/anndata/__init__.py:51: FutureWarning: `anndata.read` is deprecated, use `anndata.read_h5ad` instead. `ad.read` will be removed in mid 2024.\n",
      "  warnings.warn(\n"
     ]
    },
    {
     "name": "stdout",
     "output_type": "stream",
     "text": [
      "\u001b[34mINFO    \u001b[0m Ordering \u001b[1;35mIndex\u001b[0m\u001b[1m(\u001b[0m\u001b[1m[\u001b[0m\u001b[32m'cell_30635'\u001b[0m, \u001b[32m'cell_30636'\u001b[0m, \u001b[32m'cell_30638'\u001b[0m, \u001b[32m'cell_30639'\u001b[0m, \u001b[32m'cell_30642'\u001b[0m,                     \n",
      "                \u001b[32m'cell_30647'\u001b[0m, \u001b[32m'cell_30652'\u001b[0m, \u001b[32m'cell_30654'\u001b[0m, \u001b[32m'cell_30655'\u001b[0m, \u001b[32m'cell_30656'\u001b[0m,                              \n",
      "                \u001b[33m...\u001b[0m                                                                                                \n",
      "                \u001b[32m'cell_95713'\u001b[0m, \u001b[32m'cell_95715'\u001b[0m, \u001b[32m'cell_95716'\u001b[0m, \u001b[32m'cell_95717'\u001b[0m, \u001b[32m'cell_95718'\u001b[0m,                              \n",
      "                \u001b[32m'cell_95719'\u001b[0m, \u001b[32m'cell_95721'\u001b[0m, \u001b[32m'cell_95722'\u001b[0m, \u001b[32m'cell_95723'\u001b[0m, \u001b[32m'cell_95725'\u001b[0m\u001b[1m]\u001b[0m,                             \n",
      "               \u001b[33mdtype\u001b[0m=\u001b[32m'object'\u001b[0m, \u001b[33mlength\u001b[0m=\u001b[1;36m25041\u001b[0m\u001b[1m)\u001b[0m in ascending order.                                                   \n"
     ]
    },
    {
     "name": "stderr",
     "output_type": "stream",
     "text": [
      "/home/mgander/jax_test/lib/python3.9/site-packages/moscot/problems/time/_mixins.py:986: FutureWarning: is_categorical_dtype is deprecated and will be removed in a future version. Use isinstance(dtype, CategoricalDtype) instead\n",
      "  if not (is_categorical_dtype(col) and is_numeric_dtype(col.cat.categories)):\n"
     ]
    },
    {
     "name": "stdout",
     "output_type": "stream",
     "text": [
      "\u001b[34mINFO    \u001b[0m Solving `\u001b[1;36m1\u001b[0m` problems                                                                                      \n",
      "\u001b[34mINFO    \u001b[0m Solving problem BirthDeathProblem\u001b[1m[\u001b[0m\u001b[33mstage\u001b[0m=\u001b[32m'prepared'\u001b[0m, \u001b[33mshape\u001b[0m=\u001b[1m(\u001b[0m\u001b[1;36m11674\u001b[0m, \u001b[1;36m13367\u001b[0m\u001b[1m)\u001b[0m\u001b[1m]\u001b[0m.                                \n"
     ]
    },
    {
     "data": {
      "text/plain": [
       "TemporalProblem[(8.0, 8.25)]"
      ]
     },
     "execution_count": 10,
     "metadata": {},
     "output_type": "execute_result"
    }
   ],
   "source": [
    "i=11\n",
    "ts0=ts[i]\n",
    "ts1=ts[i+1]\n",
    "print(f'{ts0}_{ts1}')\n",
    "print('------------------------')\n",
    "\n",
    "adata=sc.read(f\"{Path}/Comb_anndatas/adata_{ts0}_{ts1}.h5ad\")\n",
    "# Raw count matrix not needed here, but causes problems in \"score_genes_for_marginals\"\n",
    "del adata.raw\n",
    "adata.obs['day']=adata.obs['day'].astype('category')\n",
    "day0,day1=sorted(set(adata.obs['day']))\n",
    "\n",
    "\n",
    "if 14>i>4:\n",
    "    ExE_cell_types=['Embryonic visceral endoderm', 'Extraembryonic visceral endoderm', 'Parietal endoderm', 'Extraembryonic ectoderm', 'Primitive erythroid cells', 'Blood progenitors']\n",
    "elif i>4:\n",
    "    ExE_cell_types=['Extraembryonic visceral endoderm']\n",
    "else:\n",
    "    ExE_cell_types=[]\n",
    "adata=adata[~adata.obs['cell_type'].isin(ExE_cell_types)].copy()\n",
    "\n",
    "\n",
    "tp=TemporalProblem(adata)\n",
    "#tp.score_genes_for_marginals(gene_set_proliferation='mouse',  gene_set_apoptosis='mouse')\n",
    "tp = tp.prepare('day', joint_attr=f'X_pcaS')\n",
    "\n",
    "batch_size=25*10**2\n",
    "eps=0.005\n",
    "tau1=taus[i]\n",
    "tau2=0.99995\n",
    "\n",
    "tp.solve(batch_size=batch_size, epsilon=eps, tau_a=tau1, tau_b=tau2, scale_cost=\"mean\", max_iterations=10**5)"
   ]
  },
  {
   "cell_type": "code",
   "execution_count": 11,
   "id": "2aa1f06d",
   "metadata": {
    "scrolled": true
   },
   "outputs": [
    {
     "name": "stdout",
     "output_type": "stream",
     "text": [
      "0.04827921465039253\n"
     ]
    }
   ],
   "source": [
    "gr=tp[(day0, day1)].solution.a \n",
    "gr=gr/gr.mean()*Cell_number_dict[ts1]/Cell_number_dict[ts0]\n",
    "cell_dying=np.sum((1-gr[gr<1]))\n",
    "apoptosis_rate=float(cell_dying/len(gr))\n",
    "df_gr=pd.DataFrame(data=gr, index=adata.obs[adata.obs['day']==day0].index, columns=['trained_growth_rate'])\n",
    "df_gr.to_pickle(f'{Path}/moscot_maps/growth_rates_and_pulls/{ts0}_{ts1}_growth_rates.pkl')\n",
    "\n",
    "\n",
    "#cell_states0={'cell_state': list(set(adata[adata.obs['day']==day0].obs['cell_state']))}\n",
    "#cell_states1={'cell_state': list(set(adata[adata.obs['day']==day1].obs['cell_state']))}\n",
    "#CT=tp.cell_transition(day0, day1, cell_states0, cell_states1)\n",
    "#df_curated=c2.evaluate_using_curated_transitions(CT)\n",
    "#df_germ=c2.evaluate_using_germ_layers(CT)\n",
    "print(apoptosis_rate)"
   ]
  },
  {
   "cell_type": "code",
   "execution_count": 12,
   "id": "673c0fbf",
   "metadata": {
    "scrolled": true
   },
   "outputs": [],
   "source": [
    "if i in list(D_pull_population.keys()):\n",
    "    tp.pull(day0, day1, data='cell_state', subset=D_pull_population[i])\n",
    "    df_pull=adata.obs['pull']\n",
    "    df_pull.to_pickle(f'{Path}/moscot_maps/growth_rates_and_pulls/{ts0}_{D_pull_population[i]}_pulls.pkl')"
   ]
  },
  {
   "cell_type": "code",
   "execution_count": null,
   "id": "322d4079",
   "metadata": {},
   "outputs": [],
   "source": []
  },
  {
   "cell_type": "code",
   "execution_count": null,
   "id": "b9b12830",
   "metadata": {},
   "outputs": [],
   "source": []
  }
 ],
 "metadata": {
  "kernelspec": {
   "display_name": "jax",
   "language": "python",
   "name": "jax"
  },
  "language_info": {
   "codemirror_mode": {
    "name": "ipython",
    "version": 3
   },
   "file_extension": ".py",
   "mimetype": "text/x-python",
   "name": "python",
   "nbconvert_exporter": "python",
   "pygments_lexer": "ipython3",
   "version": "3.9.17"
  }
 },
 "nbformat": 4,
 "nbformat_minor": 5
}
