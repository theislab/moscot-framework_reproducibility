{
 "cells": [
  {
   "cell_type": "code",
   "execution_count": 1,
   "id": "d621cecc",
   "metadata": {},
   "outputs": [],
   "source": [
    "import numpy as np\n",
    "import anndata\n",
    "import pandas as pd\n",
    "import scanpy as sc\n",
    "import scipy\n",
    "import numpy_indexed as npi\n",
    "from scipy.sparse import lil_matrix"
   ]
  },
  {
   "cell_type": "code",
   "execution_count": 2,
   "id": "6e4e1aac",
   "metadata": {},
   "outputs": [],
   "source": [
    "Path=\"/home/mgander/moscot-framework_reproducibility/data/mouse_temporal\"\n",
    "ts=['E3.5', 'E4.5', 'E5.25', 'E5.5', 'E6.25', 'E6.5', 'E6.75', 'E7.0', 'E7.25', 'E7.5', 'E7.75', 'E8.0', 'E8.25', 'E8.5a', 'E8.5b', 'E9.5', 'E10.5', 'E11.5', 'E12.5', 'E13.5']"
   ]
  },
  {
   "cell_type": "markdown",
   "id": "837e9fdb",
   "metadata": {},
   "source": [
    "# Load the neirest neighbors and restructure them into a sparse matrix"
   ]
  },
  {
   "cell_type": "markdown",
   "id": "1ab29fc1",
   "metadata": {},
   "source": [
    "By running TOME we get csv-files with the neirest neighbors. This accumulates all these nn and shapes it into sparse matrices, that are then considered the analogous to moscots transport matrices."
   ]
  },
  {
   "cell_type": "code",
   "execution_count": 4,
   "id": "81f6eeb9",
   "metadata": {},
   "outputs": [],
   "source": [
    "def cellID_Dict(adata):\n",
    "    D={}\n",
    "    \n",
    "    for i in range(len(adata)):\n",
    "        D[adata.obs['cellID'][i]]=i\n",
    "    return(D)\n",
    "\n",
    "def construct_nn_matrix(ts0, D0, D1, j):\n",
    "    \n",
    "    n=pd.read_csv(f'{Path}/TOME_maps_growth_rate_and_driver_genes_analysis/{ts0}/neigbors_{j}.csv')\n",
    "    c0=list(pd.read_csv(f'{Path}/TOME_maps_growth_rate_and_driver_genes_analysis/{ts0}/early_cells_{j}.csv')['x'])\n",
    "    c1=list(pd.read_csv(f'{Path}/TOME_maps_growth_rate_and_driver_genes_analysis/{ts0}/late_cells_{j}.csv')['x'])\n",
    "\n",
    "    D0s={}\n",
    "    for i in range(len(c0)):\n",
    "        D0s[i+1]=D0[c0[i]]\n",
    "    D1s={}\n",
    "    for i in range(len(c1)):\n",
    "        D1s[i]=D1[c1[i]]\n",
    "\n",
    "    N=n.values.copy()\n",
    "    ar=N.flatten().copy()\n",
    "    Nn = npi.remap(ar, list(D0s.keys()), list(D0s.values()))\n",
    "    Nn=Nn.reshape(N.shape)\n",
    "    return(Nn, D1s)"
   ]
  },
  {
   "cell_type": "code",
   "execution_count": 5,
   "id": "2dc30563",
   "metadata": {},
   "outputs": [],
   "source": [
    "def TOME_output_to_transport_matrix(A0, A1, ts0):\n",
    "    D0=cellID_Dict(A0)\n",
    "    D1=cellID_Dict(A1)\n",
    "    \n",
    "    M = lil_matrix((len(A0), len(A1)), dtype=int)\n",
    "\n",
    "    for j in range(1,501):\n",
    "        if j%100==0:\n",
    "            print(j)\n",
    "        Nn, D1s=construct_nn_matrix(ts0, D0, D1, j)\n",
    "\n",
    "        for k in range(len(Nn)):\n",
    "            for ks in range(Nn.shape[1]):\n",
    "                M[Nn[k,ks], D1s[k]]+=1\n",
    "    return(M)"
   ]
  },
  {
   "cell_type": "code",
   "execution_count": null,
   "id": "80e7635c",
   "metadata": {
    "scrolled": true
   },
   "outputs": [
    {
     "name": "stdout",
     "output_type": "stream",
     "text": [
      "E3.5\n",
      "100\n",
      "200\n",
      "300\n",
      "400\n",
      "500\n",
      "E4.5\n",
      "100\n",
      "200\n",
      "300\n",
      "400\n",
      "500\n",
      "E5.25\n",
      "100\n",
      "200\n",
      "300\n",
      "400\n",
      "500\n",
      "E5.5\n",
      "100\n",
      "200\n",
      "300\n",
      "400\n",
      "500\n",
      "E6.25\n",
      "100\n",
      "200\n",
      "300\n",
      "400\n",
      "500\n",
      "E6.5\n",
      "100\n",
      "200\n",
      "300\n",
      "400\n",
      "500\n",
      "E6.75\n",
      "100\n",
      "200\n",
      "300\n",
      "400\n",
      "500\n",
      "E7.0\n",
      "100\n",
      "200\n",
      "300\n",
      "400\n",
      "500\n",
      "E7.25\n",
      "100\n",
      "200\n",
      "300\n",
      "400\n",
      "500\n",
      "E7.5\n",
      "100\n",
      "200\n",
      "300\n",
      "400\n",
      "500\n",
      "E7.75\n",
      "100\n",
      "200\n",
      "300\n",
      "400\n",
      "500\n",
      "E8.0\n",
      "100\n",
      "200\n",
      "300\n",
      "400\n",
      "500\n",
      "E8.25\n",
      "100\n",
      "200\n",
      "300\n",
      "400\n",
      "500\n",
      "E8.5a\n",
      "100\n",
      "200\n",
      "300\n",
      "400\n",
      "500\n",
      "E8.5b\n",
      "100\n",
      "200\n",
      "300\n",
      "400\n",
      "500\n",
      "E9.5\n",
      "100\n"
     ]
    }
   ],
   "source": [
    "for i in range(19):\n",
    "    ts0=ts[i]\n",
    "    ts1=ts[i+1]\n",
    "    print(ts0)\n",
    "    \n",
    "    A0=sc.read(f\"{Path}/anndatas/Single_anndatas/adata_{ts0}.h5ad\")\n",
    "    A1=sc.read(f\"{Path}/anndatas/Single_anndatas/adata_{ts1}.h5ad\")\n",
    "    \n",
    "    M=TOME_output_to_transport_matrix(A0, A1, ts0)\n",
    "    scipy.sparse.save_npz(f'{Path}/TOME_maps_growth_rate_and_driver_genes_analysis/{ts0}.npz', M.tocsr())"
   ]
  },
  {
   "cell_type": "code",
   "execution_count": null,
   "id": "f6680eae",
   "metadata": {},
   "outputs": [],
   "source": []
  },
  {
   "cell_type": "code",
   "execution_count": null,
   "id": "5c2e3fc2",
   "metadata": {},
   "outputs": [],
   "source": []
  }
 ],
 "metadata": {
  "kernelspec": {
   "display_name": "mc",
   "language": "python",
   "name": "mc"
  },
  "language_info": {
   "codemirror_mode": {
    "name": "ipython",
    "version": 3
   },
   "file_extension": ".py",
   "mimetype": "text/x-python",
   "name": "python",
   "nbconvert_exporter": "python",
   "pygments_lexer": "ipython3",
   "version": "3.10.9"
  }
 },
 "nbformat": 4,
 "nbformat_minor": 5
}
