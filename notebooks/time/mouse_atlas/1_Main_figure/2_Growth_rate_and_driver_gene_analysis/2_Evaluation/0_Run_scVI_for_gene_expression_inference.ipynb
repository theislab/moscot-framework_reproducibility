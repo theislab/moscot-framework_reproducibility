{
 "cells": [
  {
   "cell_type": "markdown",
   "metadata": {},
   "source": [
    "# scVI for normalized_gene_expression"
   ]
  },
  {
   "cell_type": "markdown",
   "metadata": {},
   "source": [
    "scVI is run here to obtain a more smoothed gene expression landscape. This is mostly done because for cells with 0 expression in some genes correlations of pulls to these driver genes does not work well. "
   ]
  },
  {
   "cell_type": "code",
   "execution_count": 1,
   "metadata": {
    "scrolled": true
   },
   "outputs": [
    {
     "name": "stderr",
     "output_type": "stream",
     "text": [
      "/home/mgander/miniconda3/envs/mc/lib/python3.10/site-packages/flax/struct.py:132: FutureWarning: jax.tree_util.register_keypaths is deprecated, and will be removed in a future release. Please use `register_pytree_with_keys()` instead.\n",
      "  jax.tree_util.register_keypaths(data_clz, keypaths)\n",
      "/home/mgander/miniconda3/envs/mc/lib/python3.10/site-packages/flax/struct.py:132: FutureWarning: jax.tree_util.register_keypaths is deprecated, and will be removed in a future release. Please use `register_pytree_with_keys()` instead.\n",
      "  jax.tree_util.register_keypaths(data_clz, keypaths)\n"
     ]
    }
   ],
   "source": [
    "import numpy as np\n",
    "import anndata\n",
    "import scanpy as sc\n",
    "import scvi"
   ]
  },
  {
   "cell_type": "code",
   "execution_count": 2,
   "metadata": {},
   "outputs": [
    {
     "name": "stdout",
     "output_type": "stream",
     "text": [
      "Package                      Version\n",
      "---------------------------- ---------------------\n",
      "absl-py                      1.4.0\n",
      "aiohttp                      3.8.4\n",
      "aiosignal                    1.3.1\n",
      "anndata                      0.8.0\n",
      "anyio                        3.6.2\n",
      "apturl                       0.5.2\n",
      "argon2-cffi                  21.3.0\n",
      "argon2-cffi-bindings         21.2.0\n",
      "arrow                        1.2.3\n",
      "asn1crypto                   0.24.0\n",
      "asttokens                    2.2.1\n",
      "astunparse                   1.6.3\n",
      "async-lru                    2.0.2\n",
      "async-timeout                4.0.2\n",
      "attrs                        17.4.0\n",
      "Automat                      0.6.0\n",
      "Babel                        2.12.1\n",
      "backcall                     0.2.0\n",
      "beautifulsoup4               4.6.0\n",
      "bleach                       2.1.2\n",
      "blinker                      1.4\n",
      "Brlapi                       0.6.6\n",
      "cached-property              1.5.2\n",
      "cachetools                   5.3.0\n",
      "cellrank                     1.5.2.dev174+gad1248d\n",
      "certifi                      2018.1.18\n",
      "cfgv                         3.3.1\n",
      "chardet                      5.1.0\n",
      "charset-normalizer           3.1.0\n",
      "chex                         0.1.7\n",
      "click                        8.1.3\n",
      "cloud-init                   23.1.2\n",
      "cloudpickle                  2.2.1\n",
      "cmake                        3.26.3\n",
      "colorama                     0.4.6\n",
      "comm                         0.1.3\n",
      "command-not-found            0.3\n",
      "configobj                    5.0.6\n",
      "constantly                   15.1.0\n",
      "contextlib2                  21.6.0\n",
      "contourpy                    1.0.7\n",
      "cryptography                 2.1.4\n",
      "cupshelpers                  1.0\n",
      "cycler                       0.10.0\n",
      "debugpy                      1.6.7\n",
      "decorator                    4.1.2\n",
      "defer                        1.0.6\n",
      "defusedxml                   0.7.1\n",
      "distlib                      0.3.6\n",
      "distro-info                  0.18ubuntu0.18.04.1\n",
      "dm-tree                      0.1.8\n",
      "dnspython                    2.3.0\n",
      "docker-pycreds               0.4.0\n",
      "docopt                       0.6.2\n",
      "docrep                       0.3.2\n",
      "entrypoints                  0.2.3.post1\n",
      "et-xmlfile                   1.1.0\n",
      "etils                        1.2.0\n",
      "executing                    1.2.0\n",
      "fastjsonschema               2.17.1\n",
      "filelock                     3.12.0\n",
      "flake8                       3.5.0\n",
      "flatbuffers                  23.5.26\n",
      "flax                         0.6.9\n",
      "fonttools                    4.39.3\n",
      "fqdn                         1.5.1\n",
      "frozenlist                   1.3.3\n",
      "fsspec                       2023.5.0\n",
      "gitdb                        4.0.10\n",
      "GitPython                    3.1.31\n",
      "google-auth                  2.22.0\n",
      "google-auth-oauthlib         1.0.0\n",
      "grpcio                       1.57.0\n",
      "h5py                         3.8.0\n",
      "html5lib                     0.999999999\n",
      "httplib2                     0.9.2\n",
      "hyperlink                    17.3.1\n",
      "identify                     2.5.22\n",
      "idna                         3.4\n",
      "importlib-metadata           6.5.0\n",
      "importlib-resources          5.12.0\n",
      "incremental                  16.10.1\n",
      "install                      1.3.5\n",
      "iotop                        0.6\n",
      "ipykernel                    6.22.0\n",
      "ipython                      8.12.0\n",
      "ipython_genutils             0.2.0\n",
      "ipywidgets                   6.0.0\n",
      "isoduration                  20.11.0\n",
      "jax                          0.4.14\n",
      "jaxlib                       0.4.14+cuda12.cudnn89\n",
      "jaxopt                       0.6\n",
      "jedi                         0.18.2\n",
      "Jinja2                       3.0.3\n",
      "joblib                       1.2.0\n",
      "json5                        0.9.14\n",
      "jsonpatch                    1.16\n",
      "jsonpickle                   1.5.2\n",
      "jsonpointer                  2.3\n",
      "jsonschema                   4.17.3\n",
      "jupyter_client               8.2.0\n",
      "jupyter-console              6.6.3\n",
      "jupyter_core                 5.3.0\n",
      "jupyter-events               0.6.3\n",
      "jupyter-lsp                  2.1.0\n",
      "jupyter_server               2.5.0\n",
      "jupyter_server_terminals     0.4.4\n",
      "jupyterlab                   4.0.0\n",
      "jupyterlab-pygments          0.2.2\n",
      "jupyterlab_server            2.22.1\n",
      "keras                        2.13.1\n",
      "Keras-Applications           1.0.8\n",
      "Keras-Preprocessing          1.1.2\n",
      "keyring                      10.6.0\n",
      "keyrings.alt                 3.0\n",
      "kiwisolver                   1.4.4\n",
      "language-selector            0.1\n",
      "launchpadlib                 1.10.6\n",
      "lazr.restfulclient           0.13.5\n",
      "lazr.uri                     1.0.3\n",
      "libclang                     16.0.6\n",
      "lightning-utilities          0.8.0\n",
      "lit                          16.0.5\n",
      "llvmlite                     0.39.1\n",
      "loompy                       3.0.7\n",
      "louis                        3.5.0\n",
      "lxml                         4.2.1\n",
      "macaroonbakery               1.1.3\n",
      "Mako                         1.0.7\n",
      "markdown-it-py               2.2.0\n",
      "MarkupSafe                   2.1.2\n",
      "matplotlib                   3.7.1\n",
      "matplotlib-inline            0.1.6\n",
      "mccabe                       0.6.1\n",
      "mdurl                        0.1.2\n",
      "mistune                      2.0.5\n",
      "ml-collections               0.1.1\n",
      "ml-dtypes                    0.2.0\n",
      "moscot                       0.0.0\n",
      "mpmath                       1.3.0\n",
      "msgpack                      1.0.5\n",
      "mudata                       0.2.2\n",
      "multidict                    6.0.4\n",
      "multipledispatch             0.6.0\n",
      "multivelo                    0.1.3\n",
      "munch                        2.5.0\n",
      "natsort                      8.3.1\n",
      "nbclient                     0.8.0\n",
      "nbconvert                    7.4.0\n",
      "nbformat                     5.8.0\n",
      "nest-asyncio                 1.5.6\n",
      "netifaces                    0.10.4\n",
      "networkx                     3.1\n",
      "neural_ot                    0.1\n",
      "nodeenv                      1.7.0\n",
      "nose                         1.3.7\n",
      "nose-parameterized           0.3.4\n",
      "notebook                     5.2.2\n",
      "notebook_shim                0.2.3\n",
      "numba                        0.56.4\n",
      "numexpr                      2.6.4\n",
      "numpy                        1.23.5\n",
      "numpy-groupies               0.9.22\n",
      "numpyro                      0.11.0\n",
      "nvidia-cublas-cu11           11.10.3.66\n",
      "nvidia-cublas-cu12           12.1.3.1\n",
      "nvidia-cuda-cupti-cu11       11.7.101\n",
      "nvidia-cuda-cupti-cu12       12.1.105\n",
      "nvidia-cuda-nvcc-cu12        12.1.105\n",
      "nvidia-cuda-nvrtc-cu11       11.7.99\n",
      "nvidia-cuda-runtime-cu11     11.7.99\n",
      "nvidia-cuda-runtime-cu12     12.1.105\n",
      "nvidia-cudnn-cu11            8.5.0.96\n",
      "nvidia-cudnn-cu12            8.9.0.131\n",
      "nvidia-cufft-cu11            10.9.0.58\n",
      "nvidia-cufft-cu12            11.0.2.54\n",
      "nvidia-curand-cu11           10.2.10.91\n",
      "nvidia-cusolver-cu11         11.4.0.1\n",
      "nvidia-cusolver-cu12         11.4.5.107\n",
      "nvidia-cusparse-cu11         11.7.4.91\n",
      "nvidia-cusparse-cu12         12.1.0.106\n",
      "nvidia-ml-py                 7.352.0\n",
      "nvidia-nccl-cu11             2.14.3\n",
      "nvidia-nvjitlink-cu12        12.1.105\n",
      "nvidia-nvtx-cu11             11.7.91\n",
      "oauth                        1.0.1\n",
      "oauthlib                     3.2.2\n",
      "olefile                      0.45.1\n",
      "openpyxl                     3.1.2\n",
      "opt-einsum                   3.3.0\n",
      "optax                        0.1.4\n",
      "orbax-checkpoint             0.2.1\n",
      "ott-jax                      0.4.0\n",
      "packaging                    23.1\n",
      "PAM                          0.4.2\n",
      "pandas                       1.5.3\n",
      "pandocfilters                1.4.2\n",
      "parso                        0.8.3\n",
      "pathtools                    0.1.2\n",
      "patsy                        0.5.3\n",
      "pexpect                      4.8.0\n",
      "pickleshare                  0.7.4\n",
      "Pillow                       9.5.0\n",
      "pip                          23.2.1\n",
      "platformdirs                 3.2.0\n",
      "pluggy                       1.0.0\n",
      "poetry                       1.1.13\n",
      "poisson-atac                 1.0.0\n",
      "pre-commit                   3.2.2\n",
      "progressbar2                 4.2.0\n",
      "prometheus-client            0.16.0\n",
      "prompt-toolkit               3.0.38\n",
      "protobuf                     3.20.3\n",
      "psutil                       5.9.5\n",
      "ptyprocess                   0.7.0\n",
      "pure-eval                    0.2.2\n",
      "py                           1.5.2\n",
      "py-cpuinfo                   9.0.0\n",
      "pyasn1                       0.4.2\n",
      "pyasn1-modules               0.2.1\n",
      "pycairo                      1.16.2\n",
      "pycodestyle                  2.3.1\n",
      "pycrypto                     2.6.1\n",
      "pycups                       1.9.73\n",
      "pydot                        1.2.3\n",
      "pyflakes                     1.6.0\n",
      "pygam                        0.8.0\n",
      "Pygments                     2.15.1\n",
      "PyGObject                    3.26.1\n",
      "pygpcca                      1.0.4\n",
      "pygpu                        0.7.6\n",
      "PyJWT                        1.5.3\n",
      "pymacaroons                  0.13.0\n",
      "pymongo                      4.3.3\n",
      "PyNaCl                       1.1.2\n",
      "pynndescent                  0.5.9\n",
      "pyOpenSSL                    17.5.0\n",
      "pyparsing                    3.0.9\n",
      "pyproject_api                1.5.1\n",
      "pyRFC3339                    1.0\n",
      "pyro-api                     0.1.2\n",
      "pyro-ppl                     1.8.4\n",
      "pyrsistent                   0.19.3\n",
      "pyserial                     3.4\n",
      "pytest                       3.3.2\n",
      "python-apt                   1.6.6\n",
      "python-dateutil              2.8.2\n",
      "python-debian                0.1.32\n",
      "python-json-logger           2.0.7\n",
      "python-utils                 3.5.2\n",
      "pytorch-lightning            1.8.6\n",
      "pytz                         2023.3\n",
      "pyxdg                        0.25\n",
      "PyYAML                       6.0\n",
      "pyzmq                        25.0.2\n",
      "reportlab                    3.4.0\n",
      "requests                     2.31.0\n",
      "requests-oauthlib            1.3.1\n",
      "requests-unixsocket          0.1.5\n",
      "rfc3339-validator            0.1.4\n",
      "rfc3986-validator            0.1.1\n",
      "rich                         13.3.4\n",
      "rsa                          4.9\n",
      "sacred                       0.8.4\n",
      "scanpy                       1.9.3\n",
      "scikit-learn                 1.2.2\n",
      "scipy                        1.10.1\n",
      "screen-resolution-extra      0.0.0\n",
      "scvelo                       0.2.5\n",
      "scvi-colab                   0.12.0\n",
      "scvi-tools                   0.20.0\n",
      "seaborn                      0.12.2\n",
      "SecretStorage                2.3.1\n",
      "seml                         0.3.7\n",
      "Send2Trash                   1.8.2\n",
      "sentry-sdk                   1.23.1\n",
      "service-identity             16.0.0\n",
      "session-info                 1.0.0\n",
      "setproctitle                 1.3.2\n",
      "setuptools                   67.6.1\n",
      "simplegeneric                0.8.1\n",
      "simplejson                   3.13.2\n",
      "six                          1.14.0\n",
      "smmap                        5.0.0\n",
      "sniffio                      1.3.0\n",
      "sos                          4.4\n",
      "ssh-import-id                5.7\n",
      "stack-data                   0.6.2\n",
      "statsmodels                  0.13.5\n",
      "stdlib-list                  0.8.0\n",
      "sympy                        1.12\n",
      "system-service               0.3\n",
      "systemd-python               234\n",
      "tables                       3.4.2\n",
      "tensorboard                  2.13.0\n",
      "tensorboard-data-server      0.7.1\n",
      "tensorboardX                 2.6\n",
      "tensorflow                   2.13.0\n",
      "tensorflow-estimator         2.13.0\n",
      "tensorflow-io-gcs-filesystem 0.33.0\n",
      "tensorstore                  0.1.35\n",
      "terminado                    0.17.1\n",
      "testpath                     0.3.1\n",
      "Theano                       1.0.4\n",
      "threadpoolctl                3.1.0\n",
      "tinycss2                     1.2.1\n",
      "tomli                        2.0.1\n",
      "toolz                        0.12.0\n",
      "torch                        2.0.1\n",
      "torchmetrics                 0.11.4\n",
      "tornado                      6.3\n",
      "tox                          4.4.12\n",
      "tqdm                         4.65.0\n",
      "traitlets                    5.9.0\n",
      "triton                       2.0.0\n",
      "Twisted                      17.9.0\n",
      "typing_extensions            4.5.0\n",
      "tzdata                       2023.3\n",
      "ubuntu-advantage-tools       8001\n",
      "ubuntu-drivers-common        0.0.0\n",
      "ufw                          0.36\n",
      "umap-learn                   0.5.3\n",
      "unattended-upgrades          0.1\n",
      "uri-template                 1.2.0\n",
      "urllib3                      1.26.15\n",
      "usb-creator                  0.3.3\n",
      "virtualenv                   20.21.0\n",
      "wadllib                      1.3.2\n",
      "wandb                        0.15.3\n",
      "wcwidth                      0.1.7\n",
      "webcolors                    1.13\n",
      "webencodings                 0.5\n",
      "websocket-client             1.5.2\n",
      "Werkzeug                     2.3.7\n",
      "wheel                        0.30.0\n",
      "widgetsnbextension           2.0.1\n",
      "wrapt                        1.15.0\n",
      "xkit                         0.0.0\n",
      "yarl                         1.9.2\n",
      "zipp                         3.15.0\n",
      "zope.interface               4.3.2\n"
     ]
    },
    {
     "name": "stdout",
     "output_type": "stream",
     "text": [
      "\r\n",
      "\u001b[1m[\u001b[0m\u001b[34;49mnotice\u001b[0m\u001b[1;39;49m]\u001b[0m\u001b[39;49m A new release of pip is available: \u001b[0m\u001b[31;49m23.2.1\u001b[0m\u001b[39;49m -> \u001b[0m\u001b[32;49m23.3.2\u001b[0m\r\n",
      "\u001b[1m[\u001b[0m\u001b[34;49mnotice\u001b[0m\u001b[1;39;49m]\u001b[0m\u001b[39;49m To update, run: \u001b[0m\u001b[32;49m/usr/bin/python3 -m pip install --upgrade pip\u001b[0m\r\n"
     ]
    }
   ],
   "source": [
    "!pip list"
   ]
  },
  {
   "cell_type": "code",
   "execution_count": 3,
   "metadata": {},
   "outputs": [],
   "source": [
    "Path=\"/home/mgander/mouse_atlas/data/\"\n",
    "ts=['E3.5', 'E4.5', 'E5.25', 'E5.5', 'E6.25', 'E6.5', 'E6.75', 'E7.0', 'E7.25', 'E7.5', 'E7.75', 'E8.0', 'E8.25', 'E8.5a', 'E8.5b', 'E9.5', 'E10.5', 'E11.5', 'E12.5', 'E13.5']"
   ]
  },
  {
   "cell_type": "markdown",
   "metadata": {},
   "source": [
    "# Running scVI over all time points of interest"
   ]
  },
  {
   "cell_type": "code",
   "execution_count": 9,
   "metadata": {
    "scrolled": true
   },
   "outputs": [
    {
     "name": "stdout",
     "output_type": "stream",
     "text": [
      "E7.0\n"
     ]
    },
    {
     "name": "stderr",
     "output_type": "stream",
     "text": [
      "GPU available: True (cuda), used: True\n",
      "TPU available: False, using: 0 TPU cores\n",
      "IPU available: False, using: 0 IPUs\n",
      "HPU available: False, using: 0 HPUs\n",
      "LOCAL_RANK: 0 - CUDA_VISIBLE_DEVICES: [0,1]\n"
     ]
    },
    {
     "name": "stdout",
     "output_type": "stream",
     "text": [
      "Epoch 400/400: 100%|████████████████████████████████████████████████████| 400/400 [15:05<00:00,  2.23s/it, v_num=1, train_loss_step=1.53e+3, train_loss_epoch=1.55e+3]"
     ]
    },
    {
     "name": "stderr",
     "output_type": "stream",
     "text": [
      "`Trainer.fit` stopped: `max_epochs=400` reached.\n"
     ]
    },
    {
     "name": "stdout",
     "output_type": "stream",
     "text": [
      "Epoch 400/400: 100%|████████████████████████████████████████████████████| 400/400 [15:05<00:00,  2.26s/it, v_num=1, train_loss_step=1.53e+3, train_loss_epoch=1.55e+3]\n",
      "E7.75\n"
     ]
    },
    {
     "name": "stderr",
     "output_type": "stream",
     "text": [
      "GPU available: True (cuda), used: True\n",
      "TPU available: False, using: 0 TPU cores\n",
      "IPU available: False, using: 0 IPUs\n",
      "HPU available: False, using: 0 HPUs\n",
      "LOCAL_RANK: 0 - CUDA_VISIBLE_DEVICES: [0,1]\n"
     ]
    },
    {
     "name": "stdout",
     "output_type": "stream",
     "text": [
      "Epoch 400/400: 100%|████████████████████████████████████████████████████| 400/400 [14:40<00:00,  2.21s/it, v_num=1, train_loss_step=1.61e+3, train_loss_epoch=1.56e+3]"
     ]
    },
    {
     "name": "stderr",
     "output_type": "stream",
     "text": [
      "`Trainer.fit` stopped: `max_epochs=400` reached.\n"
     ]
    },
    {
     "name": "stdout",
     "output_type": "stream",
     "text": [
      "Epoch 400/400: 100%|████████████████████████████████████████████████████| 400/400 [14:40<00:00,  2.20s/it, v_num=1, train_loss_step=1.61e+3, train_loss_epoch=1.56e+3]\n"
     ]
    }
   ],
   "source": [
    "number_of_hvgs=3000\n",
    "\n",
    "for i in [7,10,11]:\n",
    "    ts0=ts[i]\n",
    "    ts1=ts[i+1]\n",
    "    print(ts0)\n",
    "    # Prepare the data set\n",
    "    adata=anndata.read(f'{Path}/Comb_anndatas/adata_{ts0}_{ts1}.h5ad')\n",
    "    adata=adata[adata.obs['day']==min(set(adata.obs['day']))].copy()\n",
    "    avar=adata.var.copy()\n",
    "    adata=adata.raw.to_adata()\n",
    "    adata.var=avar.copy()\n",
    "    adata.layers[\"counts\"] = adata.X.copy()\n",
    "    sc.pp.highly_variable_genes(adata, n_top_genes=number_of_hvgs, subset=True, layer=\"counts\", flavor=\"seurat_v3\")\n",
    "\n",
    "\n",
    "    # Run scVI\n",
    "    scvi.model.SCVI.setup_anndata(adata, layer=\"counts\")\n",
    "    model = scvi.model.SCVI(adata)\n",
    "    model.train()\n",
    "    adata.obsm[\"X_scVI\"]=model.get_latent_representation()\n",
    "    adata.layers[\"scvi_normalized\"] = model.get_normalized_expression(library_size=10e4)\n",
    "    adata.write(f'{Path}/Comb_anndatas/scVI_anndatas/scvi_adata_{ts0}.h5ad', compression='gzip')"
   ]
  },
  {
   "cell_type": "code",
   "execution_count": 4,
   "metadata": {},
   "outputs": [
    {
     "name": "stdout",
     "output_type": "stream",
     "text": [
      "E10.5\n"
     ]
    },
    {
     "name": "stderr",
     "output_type": "stream",
     "text": [
      "No GPU/TPU found, falling back to CPU. (Set TF_CPP_MIN_LOG_LEVEL=0 and rerun for more info.)\n",
      "GPU available: True (cuda), used: True\n",
      "TPU available: False, using: 0 TPU cores\n",
      "IPU available: False, using: 0 IPUs\n",
      "HPU available: False, using: 0 HPUs\n",
      "LOCAL_RANK: 0 - CUDA_VISIBLE_DEVICES: [0,1]\n"
     ]
    },
    {
     "name": "stdout",
     "output_type": "stream",
     "text": [
      "Epoch 30/30: 100%|████████████████████████████████████████████████████████████████| 30/30 [21:20<00:00, 41.05s/it, v_num=1, train_loss_step=649, train_loss_epoch=679]"
     ]
    },
    {
     "name": "stderr",
     "output_type": "stream",
     "text": [
      "`Trainer.fit` stopped: `max_epochs=30` reached.\n"
     ]
    },
    {
     "name": "stdout",
     "output_type": "stream",
     "text": [
      "Epoch 30/30: 100%|████████████████████████████████████████████████████████████████| 30/30 [21:21<00:00, 42.70s/it, v_num=1, train_loss_step=649, train_loss_epoch=679]\n"
     ]
    }
   ],
   "source": [
    "# For E13.5 we have much more cells and noisier data, hence I use 6k hvgs\n",
    "\n",
    "number_of_hvgs=6000\n",
    "\n",
    "for i in [16]:\n",
    "    ts0=ts[i]\n",
    "    ts1=ts[i+1]\n",
    "    print(ts0)\n",
    "    # Prepare the data set\n",
    "    adata=anndata.read(f'{Path}/Comb_anndatas/adata_{ts0}_{ts1}.h5ad')\n",
    "    adata=adata[adata.obs['day']==min(set(adata.obs['day']))].copy()\n",
    "    avar=adata.var.copy()\n",
    "    adata=adata.raw.to_adata()\n",
    "    adata.var=avar.copy()\n",
    "    adata.layers[\"counts\"] = adata.X.copy()\n",
    "    sc.pp.highly_variable_genes(adata, n_top_genes=number_of_hvgs, subset=True, layer=\"counts\", flavor=\"seurat_v3\")\n",
    "\n",
    "\n",
    "    # Run scVI\n",
    "    scvi.model.SCVI.setup_anndata(adata, layer=\"counts\")\n",
    "    model = scvi.model.SCVI(adata)\n",
    "    model.train()\n",
    "    adata.obsm[\"X_scVI\"]=model.get_latent_representation()\n",
    "    adata.layers[\"scvi_normalized\"] = model.get_normalized_expression(library_size=10e4)\n",
    "    adata.write(f'{Path}/Comb_anndatas/scVI_anndatas/scvi_adata_{ts0}.h5ad', compression='gzip')"
   ]
  },
  {
   "cell_type": "code",
   "execution_count": null,
   "metadata": {},
   "outputs": [],
   "source": []
  },
  {
   "cell_type": "code",
   "execution_count": null,
   "metadata": {},
   "outputs": [],
   "source": []
  },
  {
   "cell_type": "code",
   "execution_count": null,
   "metadata": {},
   "outputs": [],
   "source": []
  },
  {
   "cell_type": "code",
   "execution_count": null,
   "metadata": {},
   "outputs": [],
   "source": []
  },
  {
   "cell_type": "code",
   "execution_count": null,
   "metadata": {},
   "outputs": [],
   "source": []
  },
  {
   "cell_type": "code",
   "execution_count": null,
   "metadata": {},
   "outputs": [],
   "source": []
  },
  {
   "cell_type": "code",
   "execution_count": null,
   "metadata": {},
   "outputs": [],
   "source": []
  },
  {
   "cell_type": "code",
   "execution_count": null,
   "metadata": {},
   "outputs": [],
   "source": []
  },
  {
   "cell_type": "code",
   "execution_count": null,
   "metadata": {},
   "outputs": [],
   "source": []
  }
 ],
 "metadata": {
  "kernelspec": {
   "display_name": "mc",
   "language": "python",
   "name": "mc"
  },
  "language_info": {
   "codemirror_mode": {
    "name": "ipython",
    "version": 3
   },
   "file_extension": ".py",
   "mimetype": "text/x-python",
   "name": "python",
   "nbconvert_exporter": "python",
   "pygments_lexer": "ipython3",
   "version": "3.10.9"
  }
 },
 "nbformat": 4,
 "nbformat_minor": 4
}
