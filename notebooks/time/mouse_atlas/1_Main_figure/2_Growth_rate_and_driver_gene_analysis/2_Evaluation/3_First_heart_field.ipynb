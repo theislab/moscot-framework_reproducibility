{
 "cells": [
  {
   "cell_type": "markdown",
   "metadata": {},
   "source": [
    "# Evaluating Gene Correlations - First heart field"
   ]
  },
  {
   "cell_type": "code",
   "execution_count": 1,
   "metadata": {},
   "outputs": [
    {
     "name": "stderr",
     "output_type": "stream",
     "text": [
      "/home/mgander/miniconda3/envs/mc/lib/python3.10/site-packages/flax/struct.py:132: FutureWarning: jax.tree_util.register_keypaths is deprecated, and will be removed in a future release. Please use `register_pytree_with_keys()` instead.\n",
      "  jax.tree_util.register_keypaths(data_clz, keypaths)\n",
      "/home/mgander/miniconda3/envs/mc/lib/python3.10/site-packages/flax/struct.py:132: FutureWarning: jax.tree_util.register_keypaths is deprecated, and will be removed in a future release. Please use `register_pytree_with_keys()` instead.\n",
      "  jax.tree_util.register_keypaths(data_clz, keypaths)\n",
      "No GPU/TPU found, falling back to CPU. (Set TF_CPP_MIN_LOG_LEVEL=0 and rerun for more info.)\n",
      "/home/mgander/miniconda3/envs/mc/lib/python3.10/site-packages/docrep/decorators.py:43: SyntaxWarning: 'interpolation_parameters' is not a valid key!\n",
      "  doc = func(self, args[0].__doc__, *args[1:], **kwargs)\n",
      "/home/mgander/miniconda3/envs/mc/lib/python3.10/site-packages/docrep/decorators.py:43: SyntaxWarning: 'account_for_unbalancedness' is not a valid key!\n",
      "  doc = func(self, args[0].__doc__, *args[1:], **kwargs)\n",
      "/home/mgander/miniconda3/envs/mc/lib/python3.10/site-packages/docrep/decorators.py:43: SyntaxWarning: 'batch_size' is not a valid key!\n",
      "  doc = func(self, args[0].__doc__, *args[1:], **kwargs)\n",
      "/home/mgander/miniconda3/envs/mc/lib/python3.10/site-packages/docrep/decorators.py:43: SyntaxWarning: 'seed_interpolation' is not a valid key!\n",
      "  doc = func(self, args[0].__doc__, *args[1:], **kwargs)\n"
     ]
    }
   ],
   "source": [
    "import numpy as np\n",
    "import anndata\n",
    "import pandas as pd\n",
    "import scanpy as sc\n",
    "import scipy\n",
    "import seaborn as sns\n",
    "import matplotlib.pyplot as plt\n",
    "\n",
    "\n",
    "from moscot.problems.time._lineage import TemporalProblem"
   ]
  },
  {
   "cell_type": "code",
   "execution_count": 2,
   "metadata": {},
   "outputs": [],
   "source": [
    "Path=\"/home/mgander/mouse_atlas/data\"\n",
    "ts=['E3.5', 'E4.5', 'E5.25', 'E5.5', 'E6.25', 'E6.5', 'E6.75', 'E7.0', 'E7.25', 'E7.5', 'E7.75', 'E8.0', 'E8.25', 'E8.5a', 'E8.5b', 'E9.5', 'E10.5', 'E11.5', 'E12.5', 'E13.5']"
   ]
  },
  {
   "cell_type": "code",
   "execution_count": 3,
   "metadata": {},
   "outputs": [],
   "source": [
    "ct='E8.25:First heart field'\n",
    "i=11\n",
    "\n",
    "ts0=ts[i]\n",
    "ts1=ts[i+1]"
   ]
  },
  {
   "cell_type": "code",
   "execution_count": 4,
   "metadata": {},
   "outputs": [
    {
     "name": "stdout",
     "output_type": "stream",
     "text": [
      "WARNING: Your filename has more than two extensions: ['.0_E8', '.25', '.h5ad'].\n",
      "Only considering the two last: ['.25', '.h5ad'].\n",
      "WARNING: Your filename has more than two extensions: ['.0_E8', '.25', '.h5ad'].\n",
      "Only considering the two last: ['.25', '.h5ad'].\n"
     ]
    }
   ],
   "source": [
    "adata=sc.read(f\"{Path}/Comb_anndatas/adata_{ts0}_{ts1}.h5ad\")\n",
    "\n",
    "if 14>i>4:\n",
    "    ExE_cell_types=['Embryonic visceral endoderm', 'Extraembryonic visceral endoderm', 'Parietal endoderm', 'Extraembryonic ectoderm', 'Primitive erythroid cells', 'Blood progenitors']\n",
    "elif i>4:\n",
    "    ExE_cell_types=['Extraembryonic visceral endoderm']\n",
    "else:\n",
    "    ExE_cell_types=[]\n",
    "adata=adata[~adata.obs['cell_type'].isin(ExE_cell_types)].copy()\n",
    "cell_indices=adata[adata.obs['day']==sorted(set(adata.obs['day']))[0]].obs.index"
   ]
  },
  {
   "cell_type": "code",
   "execution_count": 5,
   "metadata": {},
   "outputs": [],
   "source": [
    "gT=np.load(f\"{Path}/TOME_maps/growth_rates_and_pulls/{ts0}_{ct}_pull.npy\", allow_pickle=True)\n",
    "gM=pd.read_pickle(f\"{Path}/moscot_maps/growth_rates_and_pulls2/{ts0}_{ct}_pulls.pkl\")\n",
    "gM=gM.loc[cell_indices].values"
   ]
  },
  {
   "cell_type": "markdown",
   "metadata": {},
   "source": [
    "# Correlation for curated genes"
   ]
  },
  {
   "cell_type": "markdown",
   "metadata": {},
   "source": [
    "The following list of genes was obtained by litarture seach when looking for genes that predict deveopment into first heart field cells. The key in the dictionary corresponds to the citation (Pubmed ID), and the values correspond to the genes the publication lists."
   ]
  },
  {
   "cell_type": "markdown",
   "metadata": {},
   "source": [
    "TOME used the following genes to identify the first heart field cluster: Tbx5, Hcn4, Gata4."
   ]
  },
  {
   "cell_type": "markdown",
   "metadata": {},
   "source": [
    "Be careful, I also listed driver/marker genes if there was only moderate evidence of them being directly involved in these cell transitions, so use this list with caution!!!"
   ]
  },
  {
   "cell_type": "code",
   "execution_count": 6,
   "metadata": {},
   "outputs": [],
   "source": [
    "D={}\n",
    "D['PMID: 25274757']=['Nkx2-5', 'Gata4', 'Tbx5', 'Smarcd3', 'Tbx2', 'Tbx3']\n",
    "\n",
    "D['PMID: 22072574']=['Tbx5', 'Actb', 'Tnnt2', 'Mlc1', 'Smarcd3', 'Gata4', 'Mef2c', 'Mesp1', 'Kdr',\n",
    "                     'Nkx2-5', 'Bmp2', 'Foxc2', 'Fgf8', 'Myl4', 'Myl7', 'Sln', 'Nppa']\n",
    "\n",
    "D['PMID: 23457256']=['Flk1', 'Pdgfra', 'Nkx2-5', 'Actc1', 'Nodal', 'Mesp1', 'Tbx5', 'Gata4', 'Gata6',\n",
    "                     'Mef2a', 'Nppa', 'Gja5', 'Tbx20', 'Smarcd3', 'Smarca4', 'Ep300', 'Smyd1', 'Hopx',\n",
    "                     'Srf', 'Ezh2', 'Six1']\n",
    "D['PMID: 27194630']=['Tnnt2']\n",
    "D['PMID: 23743334']=['Hcn4', 'Myh1', 'Tnnt2', 'Nkx2-5']\n",
    "D['PMID: 18924235']=['Hcn4', 'Bmp4', 'Bmp2', 'Mef2c', 'Nkx2-5', 'Tnnt2']\n",
    "D['PMID: 30288953']=['Hand1', 'Hand2', 'Irx2', 'Dkk1', 'Tbx20', 'Hey2', 'Gata4', 'Mef2c', 'Tbx5', 'Nkx2-5',\n",
    "                     'Nppa', 'Snai1']\n",
    "\n",
    "D['PMID: 29440224']=['Nkx2-5', 'Tbx5', 'Pdgfra', 'Flk1', 'Mesp1', 'Smarcd3', 'Hcn4', 'Hopx', 'Hand1',\n",
    "                     'Hand2', 'Tbx20', 'Foxf1']\n",
    "\n",
    "D['PMID: 24123507']=['Myl2', 'Irx4', 'Tnnt2']\n",
    "\n",
    "D['PMID: 17576928']=['Wnt2', 'Wnt7a', 'Wnt8a', 'Ctnnb1', 'Hand1', 'Nkx2-5', 'Tbx5', 'Gata4', 'Mesp1', 'Myh6',\n",
    "                    'Myh7', 'Myl7', 'Myl2']\n",
    "\n",
    "D['PMID: 29985326']=['Hcn4', 'Tbx5', 'Irx4', 'Myl2']\n",
    "\n",
    "D['PMID: 33585493']=['Tbx20', 'Nkx2-5', 'Gata4', 'Gata5', 'Mycn', 'Erbb2', 'Cdc6', 'Hey2', 'Irx4']\n",
    "\n",
    "D['PMID: 25183852']=['Tbx5', 'Hcn4', 'Tbx20', 'Hey2', 'Mycn', 'Etv2']\n",
    "\n",
    "# Only in chamber myocardium: Nppa, Cx40, cdkn1c, or Bmp10\n",
    "# Only in AV canal: Tbx2\n",
    "\n",
    "genes=[]\n",
    "for a in D.values():\n",
    "    genes=[*genes, *a]\n",
    "\n",
    "# Eliminate duplicates\n",
    "genes=[a for a in set(genes)]"
   ]
  },
  {
   "cell_type": "code",
   "execution_count": 7,
   "metadata": {
    "scrolled": true
   },
   "outputs": [],
   "source": [
    "adata=sc.read(f\"{Path}/Comb_anndatas/scVI_anndatas/scvi_adata_{ts0}.h5ad\")\n",
    "adata.var.index=list(adata.var['gene_names'])\n",
    "if 14>i>4:\n",
    "    ExE_cell_types=['Embryonic visceral endoderm', 'Extraembryonic visceral endoderm', 'Parietal endoderm', 'Extraembryonic ectoderm', 'Primitive erythroid cells', 'Blood progenitors']\n",
    "    adata=adata[~adata.obs['cell_type'].isin(ExE_cell_types)].copy()\n",
    "elif i>4:\n",
    "    ExE_cell_types=['Extraembryonic visceral endoderm']\n",
    "    adata=adata[~adata.obs['cell_type'].isin(ExE_cell_types)].copy()"
   ]
  },
  {
   "cell_type": "code",
   "execution_count": 35,
   "metadata": {
    "scrolled": true
   },
   "outputs": [
    {
     "data": {
      "text/plain": [
       "39"
      ]
     },
     "execution_count": 35,
     "metadata": {},
     "output_type": "execute_result"
    }
   ],
   "source": [
    "hvgs=list(adata.var[adata.var['highly_variable']]['gene_names'])\n",
    "genes_selected=[]\n",
    "for gene in genes:\n",
    "    if gene in hvgs:\n",
    "        genes_selected.append(gene)\n",
    "len(genes_selected)"
   ]
  },
  {
   "cell_type": "code",
   "execution_count": 32,
   "metadata": {
    "scrolled": true
   },
   "outputs": [
    {
     "data": {
      "text/plain": [
       "['Actb',\n",
       " 'Actc1',\n",
       " 'Bmp2',\n",
       " 'Bmp4',\n",
       " 'Dkk1',\n",
       " 'Etv2',\n",
       " 'Fgf8',\n",
       " 'Foxc2',\n",
       " 'Foxf1',\n",
       " 'Gata4',\n",
       " 'Gata5',\n",
       " 'Gata6',\n",
       " 'Hand1',\n",
       " 'Hand2',\n",
       " 'Hcn4',\n",
       " 'Irx2',\n",
       " 'Irx4',\n",
       " 'Kdr',\n",
       " 'Mef2c',\n",
       " 'Mesp1',\n",
       " 'Mycn',\n",
       " 'Myh6',\n",
       " 'Myh7',\n",
       " 'Myl2',\n",
       " 'Myl4',\n",
       " 'Myl7',\n",
       " 'Nkx2-5',\n",
       " 'Nodal',\n",
       " 'Nppa',\n",
       " 'Pdgfra',\n",
       " 'Six1',\n",
       " 'Smarcd3',\n",
       " 'Smyd1',\n",
       " 'Snai1',\n",
       " 'Tbx20',\n",
       " 'Tbx3',\n",
       " 'Tbx5',\n",
       " 'Tnnt2',\n",
       " 'Wnt2',\n",
       " 'Wnt8a']"
      ]
     },
     "execution_count": 32,
     "metadata": {},
     "output_type": "execute_result"
    }
   ],
   "source": [
    "sorted(genes_selected)"
   ]
  },
  {
   "cell_type": "code",
   "execution_count": 33,
   "metadata": {
    "scrolled": true
   },
   "outputs": [],
   "source": [
    "subset=True\n",
    "\n",
    "DF=pd.DataFrame({})\n",
    "\n",
    "for gene in genes_selected:\n",
    "    if gene in [a for a in adata.var.index]:\n",
    "\n",
    "        loc=adata.var.index.get_loc(gene)\n",
    "        exp=adata.layers['scvi_normalized'][:,loc]\n",
    "        #exp=adataS.X[:,loc]\n",
    "        #exp=np.array(exp.todense()).T[0]\n",
    "        \n",
    "        if subset:\n",
    "            wh=np.where(adata.obs['cell_state'].isin(['E8:Splanchnic mesoderm', 'E8:First heart field']))[0]\n",
    "            #wh=np.where(adata.obs['cell_state'].isin(['E7.75:Splanchnic mesoderm', 'E7.75:First heart field']))[0]\n",
    "            exp=exp[wh]\n",
    "            gT2=gT[wh]\n",
    "            gM2=gM[wh]\n",
    "        else:\n",
    "            gT2=gT.copy()\n",
    "            gM2=gM.copy()\n",
    "\n",
    "\n",
    "        (cor, p)=scipy.stats.spearmanr(exp, gT2)\n",
    "        dfT=pd.DataFrame({'Timepoint': ts0, 'Gene':[gene], 'Method': 'TOME', 'Correlation':cor, 'P-value':p, 'type':'Spearman'})\n",
    "        (cor, p)=scipy.stats.spearmanr(exp, gM2)\n",
    "        dfM=pd.DataFrame({'Timepoint': ts0, 'Gene':[gene], 'Method': 'moscot', 'Correlation':cor, 'P-value':p, 'type':'Spearman'})\n",
    "        DF=pd.concat([DF, dfM,dfT])\n",
    "DF['Abs. Correlation']=abs(DF['Correlation'])\n",
    "DF.index=np.arange(len(DF))"
   ]
  },
  {
   "cell_type": "code",
   "execution_count": 23,
   "metadata": {},
   "outputs": [
    {
     "data": {
      "image/png": "[encoded data removed]",
      "text/plain": [
       "<Figure size 300x300 with 1 Axes>"
      ]
     },
     "metadata": {},
     "output_type": "display_data"
    }
   ],
   "source": [
    "fig, ax = plt.subplots(ncols=1, figsize=(3, 3))\n",
    "g=sns.boxplot(data=DF, x=\"Abs. Correlation\", y=\"Timepoint\", hue='Method', showfliers=True,\n",
    "               showmeans=False,  whis=[100,0], ax=ax)\n",
    "sns.move_legend(g,(1,0))"
   ]
  },
  {
   "cell_type": "code",
   "execution_count": 24,
   "metadata": {},
   "outputs": [
    {
     "data": {
      "text/html": [
       "<div>\n",
       "<style scoped>\n",
       "    .dataframe tbody tr th:only-of-type {\n",
       "        vertical-align: middle;\n",
       "    }\n",
       "\n",
       "    .dataframe tbody tr th {\n",
       "        vertical-align: top;\n",
       "    }\n",
       "\n",
       "    .dataframe thead th {\n",
       "        text-align: right;\n",
       "    }\n",
       "</style>\n",
       "<table border=\"1\" class=\"dataframe\">\n",
       "  <thead>\n",
       "    <tr style=\"text-align: right;\">\n",
       "      <th></th>\n",
       "      <th>Timepoint</th>\n",
       "      <th>Gene</th>\n",
       "      <th>Method</th>\n",
       "      <th>Correlation</th>\n",
       "      <th>P-value</th>\n",
       "      <th>type</th>\n",
       "      <th>Abs. Correlation</th>\n",
       "    </tr>\n",
       "  </thead>\n",
       "  <tbody>\n",
       "    <tr>\n",
       "      <th>30</th>\n",
       "      <td>E8.0</td>\n",
       "      <td>Nkx2-5</td>\n",
       "      <td>moscot</td>\n",
       "      <td>0.738789</td>\n",
       "      <td>1.173011e-170</td>\n",
       "      <td>Spearman</td>\n",
       "      <td>0.738789</td>\n",
       "    </tr>\n",
       "    <tr>\n",
       "      <th>31</th>\n",
       "      <td>E8.0</td>\n",
       "      <td>Nkx2-5</td>\n",
       "      <td>TOME</td>\n",
       "      <td>0.496204</td>\n",
       "      <td>2.369535e-62</td>\n",
       "      <td>Spearman</td>\n",
       "      <td>0.496204</td>\n",
       "    </tr>\n",
       "  </tbody>\n",
       "</table>\n",
       "</div>"
      ],
      "text/plain": [
       "   Timepoint    Gene  Method  Correlation        P-value      type  \\\n",
       "30      E8.0  Nkx2-5  moscot     0.738789  1.173011e-170  Spearman   \n",
       "31      E8.0  Nkx2-5    TOME     0.496204   2.369535e-62  Spearman   \n",
       "\n",
       "    Abs. Correlation  \n",
       "30          0.738789  \n",
       "31          0.496204  "
      ]
     },
     "execution_count": 24,
     "metadata": {},
     "output_type": "execute_result"
    }
   ],
   "source": [
    "DF[DF['Gene']=='Nkx2-5']"
   ]
  },
  {
   "cell_type": "code",
   "execution_count": 25,
   "metadata": {},
   "outputs": [
    {
     "data": {
      "text/html": [
       "<div>\n",
       "<style scoped>\n",
       "    .dataframe tbody tr th:only-of-type {\n",
       "        vertical-align: middle;\n",
       "    }\n",
       "\n",
       "    .dataframe tbody tr th {\n",
       "        vertical-align: top;\n",
       "    }\n",
       "\n",
       "    .dataframe thead th {\n",
       "        text-align: right;\n",
       "    }\n",
       "</style>\n",
       "<table border=\"1\" class=\"dataframe\">\n",
       "  <thead>\n",
       "    <tr style=\"text-align: right;\">\n",
       "      <th></th>\n",
       "      <th>Timepoint</th>\n",
       "      <th>Gene</th>\n",
       "      <th>Method</th>\n",
       "      <th>Correlation</th>\n",
       "      <th>P-value</th>\n",
       "      <th>type</th>\n",
       "      <th>Abs. Correlation</th>\n",
       "    </tr>\n",
       "  </thead>\n",
       "  <tbody>\n",
       "    <tr>\n",
       "      <th>54</th>\n",
       "      <td>E8.0</td>\n",
       "      <td>Tbx5</td>\n",
       "      <td>moscot</td>\n",
       "      <td>0.709948</td>\n",
       "      <td>7.449437e-152</td>\n",
       "      <td>Spearman</td>\n",
       "      <td>0.709948</td>\n",
       "    </tr>\n",
       "    <tr>\n",
       "      <th>55</th>\n",
       "      <td>E8.0</td>\n",
       "      <td>Tbx5</td>\n",
       "      <td>TOME</td>\n",
       "      <td>0.639891</td>\n",
       "      <td>1.470439e-114</td>\n",
       "      <td>Spearman</td>\n",
       "      <td>0.639891</td>\n",
       "    </tr>\n",
       "  </tbody>\n",
       "</table>\n",
       "</div>"
      ],
      "text/plain": [
       "   Timepoint  Gene  Method  Correlation        P-value      type  \\\n",
       "54      E8.0  Tbx5  moscot     0.709948  7.449437e-152  Spearman   \n",
       "55      E8.0  Tbx5    TOME     0.639891  1.470439e-114  Spearman   \n",
       "\n",
       "    Abs. Correlation  \n",
       "54          0.709948  \n",
       "55          0.639891  "
      ]
     },
     "execution_count": 25,
     "metadata": {},
     "output_type": "execute_result"
    }
   ],
   "source": [
    "DF[DF['Gene']=='Tbx5']"
   ]
  },
  {
   "cell_type": "code",
   "execution_count": 26,
   "metadata": {},
   "outputs": [
    {
     "data": {
      "text/html": [
       "<div>\n",
       "<style scoped>\n",
       "    .dataframe tbody tr th:only-of-type {\n",
       "        vertical-align: middle;\n",
       "    }\n",
       "\n",
       "    .dataframe tbody tr th {\n",
       "        vertical-align: top;\n",
       "    }\n",
       "\n",
       "    .dataframe thead th {\n",
       "        text-align: right;\n",
       "    }\n",
       "</style>\n",
       "<table border=\"1\" class=\"dataframe\">\n",
       "  <thead>\n",
       "    <tr style=\"text-align: right;\">\n",
       "      <th></th>\n",
       "      <th>Timepoint</th>\n",
       "      <th>Gene</th>\n",
       "      <th>Method</th>\n",
       "      <th>Correlation</th>\n",
       "      <th>P-value</th>\n",
       "      <th>type</th>\n",
       "      <th>Abs. Correlation</th>\n",
       "    </tr>\n",
       "  </thead>\n",
       "  <tbody>\n",
       "    <tr>\n",
       "      <th>2</th>\n",
       "      <td>E8.0</td>\n",
       "      <td>Tnnt2</td>\n",
       "      <td>moscot</td>\n",
       "      <td>0.885937</td>\n",
       "      <td>0.000000e+00</td>\n",
       "      <td>Spearman</td>\n",
       "      <td>0.885937</td>\n",
       "    </tr>\n",
       "    <tr>\n",
       "      <th>3</th>\n",
       "      <td>E8.0</td>\n",
       "      <td>Tnnt2</td>\n",
       "      <td>TOME</td>\n",
       "      <td>0.740369</td>\n",
       "      <td>9.272761e-172</td>\n",
       "      <td>Spearman</td>\n",
       "      <td>0.740369</td>\n",
       "    </tr>\n",
       "  </tbody>\n",
       "</table>\n",
       "</div>"
      ],
      "text/plain": [
       "  Timepoint   Gene  Method  Correlation        P-value      type  \\\n",
       "2      E8.0  Tnnt2  moscot     0.885937   0.000000e+00  Spearman   \n",
       "3      E8.0  Tnnt2    TOME     0.740369  9.272761e-172  Spearman   \n",
       "\n",
       "   Abs. Correlation  \n",
       "2          0.885937  \n",
       "3          0.740369  "
      ]
     },
     "execution_count": 26,
     "metadata": {},
     "output_type": "execute_result"
    }
   ],
   "source": [
    "DF[DF['Gene']=='Tnnt2']"
   ]
  },
  {
   "cell_type": "code",
   "execution_count": 25,
   "metadata": {
    "scrolled": true
   },
   "outputs": [],
   "source": [
    "DF.to_pickle(f'{Path}/Validation_output/{ts0}_FHF.npy')"
   ]
  },
  {
   "cell_type": "code",
   "execution_count": null,
   "metadata": {},
   "outputs": [],
   "source": []
  },
  {
   "cell_type": "code",
   "execution_count": null,
   "metadata": {},
   "outputs": [],
   "source": []
  },
  {
   "cell_type": "code",
   "execution_count": null,
   "metadata": {},
   "outputs": [],
   "source": []
  },
  {
   "cell_type": "code",
   "execution_count": null,
   "metadata": {},
   "outputs": [],
   "source": []
  }
 ],
 "metadata": {
  "kernelspec": {
   "display_name": "mc",
   "language": "python",
   "name": "mc"
  },
  "language_info": {
   "codemirror_mode": {
    "name": "ipython",
    "version": 3
   },
   "file_extension": ".py",
   "mimetype": "text/x-python",
   "name": "python",
   "nbconvert_exporter": "python",
   "pygments_lexer": "ipython3",
   "version": "3.10.9"
  }
 },
 "nbformat": 4,
 "nbformat_minor": 4
}
