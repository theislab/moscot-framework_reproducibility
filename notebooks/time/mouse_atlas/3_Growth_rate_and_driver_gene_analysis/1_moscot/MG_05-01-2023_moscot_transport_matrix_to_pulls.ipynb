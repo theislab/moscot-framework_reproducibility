{
 "cells": [
  {
   "cell_type": "markdown",
   "id": "16af0019",
   "metadata": {},
   "source": [
    "# Moscot maps to pulls"
   ]
  },
  {
   "cell_type": "markdown",
   "id": "2a20a774",
   "metadata": {},
   "source": [
    "This notebook loads moscot maps and calulate pull each of these 4 cell types back one time points. These pulls are later correlated with driver/marker genes"
   ]
  },
  {
   "cell_type": "code",
   "execution_count": null,
   "id": "035f159d",
   "metadata": {},
   "outputs": [],
   "source": [
    "import numpy as np\n",
    "import anndata\n",
    "import pandas as pd\n",
    "import scanpy as sc\n",
    "import scipy\n",
    "\n",
    "from moscot.problems.time._lineage import TemporalProblem"
   ]
  },
  {
   "cell_type": "code",
   "execution_count": null,
   "id": "d2bd205d",
   "metadata": {},
   "outputs": [],
   "source": [
    "Path=\"/home/mgander/moscot-framework_reproducibility/data/mouse_temporal\"\n",
    "ts=['E3.5', 'E4.5', 'E5.25', 'E5.5', 'E6.25', 'E6.5', 'E6.75', 'E7.0', 'E7.25', 'E7.5', 'E7.75', 'E8.0', 'E8.25', 'E8.5a', 'E8.5b', 'E9.5', 'E10.5', 'E11.5', 'E12.5', 'E13.5']"
   ]
  },
  {
   "cell_type": "code",
   "execution_count": 3,
   "id": "32ffe77a",
   "metadata": {
    "scrolled": true
   },
   "outputs": [
    {
     "name": "stdout",
     "output_type": "stream",
     "text": [
      "WARNING: Your filename has more than two extensions: ['.5_E4', '.5', '.h5ad'].\n",
      "Only considering the two last: ['.5', '.h5ad'].\n",
      "WARNING: Your filename has more than two extensions: ['.5_E4', '.5', '.h5ad'].\n",
      "Only considering the two last: ['.5', '.h5ad'].\n"
     ]
    }
   ],
   "source": [
    "# Doesn't matter which adata you use to create a tp instance, the result is always the same. I just need one\n",
    "# to instantiate a tp-problem\n",
    "adata=sc.read(f\"{Path}/anndatas/Comb_anndatas/adata_E3.5_E4.5.h5ad\")\n",
    "tp=TemporalProblem(adata)"
   ]
  },
  {
   "cell_type": "code",
   "execution_count": 4,
   "id": "6a19788c",
   "metadata": {},
   "outputs": [],
   "source": [
    "cts=['E7.25:Definitive endoderm', 'E8:Allantois', 'E8.25:First heart field', 'E11.5:Pancreatic epithelium']\n",
    "ii=[7,10,11,16]"
   ]
  },
  {
   "cell_type": "code",
   "execution_count": 5,
   "id": "5455f4d6",
   "metadata": {
    "scrolled": true
   },
   "outputs": [
    {
     "name": "stdout",
     "output_type": "stream",
     "text": [
      "E7.0\n",
      "E7.75\n",
      "E8.0\n",
      "E10.5\n"
     ]
    },
    {
     "name": "stderr",
     "output_type": "stream",
     "text": [
      "2023-04-30 21:30:34.604466: E external/xla/xla/service/slow_operation_alarm.cc:65] Constant folding an instruction is taking > 1s:\n",
      "\n",
      "  reduce-window.6 (displaying the full instruction incurs a runtime overhead. Raise your logging level to 4 or above).\n",
      "\n",
      "This isn't necessarily a bug; constant-folding is inherently a trade-off between compilation time and speed at runtime. XLA has some guards that attempt to keep constant folding from taking too long, but fundamentally you'll always be able to come up with an input program that takes a long time.\n",
      "\n",
      "If you'd like to file a bug, run with envvar XLA_FLAGS=--xla_dump_to=/tmp/foo and attach the results.\n",
      "2023-04-30 21:30:34.769771: E external/xla/xla/service/slow_operation_alarm.cc:133] The operation took 1.16554699s\n",
      "Constant folding an instruction is taking > 1s:\n",
      "\n",
      "  reduce-window.6 (displaying the full instruction incurs a runtime overhead. Raise your logging level to 4 or above).\n",
      "\n",
      "This isn't necessarily a bug; constant-folding is inherently a trade-off between compilation time and speed at runtime. XLA has some guards that attempt to keep constant folding from taking too long, but fundamentally you'll always be able to come up with an input program that takes a long time.\n",
      "\n",
      "If you'd like to file a bug, run with envvar XLA_FLAGS=--xla_dump_to=/tmp/foo and attach the results.\n",
      "2023-04-30 21:53:41.147323: E external/xla/xla/service/slow_operation_alarm.cc:65] Constant folding an instruction is taking > 2s:\n",
      "\n",
      "  reduce-window.7 (displaying the full instruction incurs a runtime overhead. Raise your logging level to 4 or above).\n",
      "\n",
      "This isn't necessarily a bug; constant-folding is inherently a trade-off between compilation time and speed at runtime. XLA has some guards that attempt to keep constant folding from taking too long, but fundamentally you'll always be able to come up with an input program that takes a long time.\n",
      "\n",
      "If you'd like to file a bug, run with envvar XLA_FLAGS=--xla_dump_to=/tmp/foo and attach the results.\n",
      "2023-04-30 21:53:41.182988: E external/xla/xla/service/slow_operation_alarm.cc:133] The operation took 2.035738319s\n",
      "Constant folding an instruction is taking > 2s:\n",
      "\n",
      "  reduce-window.7 (displaying the full instruction incurs a runtime overhead. Raise your logging level to 4 or above).\n",
      "\n",
      "This isn't necessarily a bug; constant-folding is inherently a trade-off between compilation time and speed at runtime. XLA has some guards that attempt to keep constant folding from taking too long, but fundamentally you'll always be able to come up with an input program that takes a long time.\n",
      "\n",
      "If you'd like to file a bug, run with envvar XLA_FLAGS=--xla_dump_to=/tmp/foo and attach the results.\n"
     ]
    }
   ],
   "source": [
    "for ct,i in zip(cts, ii):\n",
    "    ts0=ts[i]\n",
    "    ts1=ts[i+1]\n",
    "    print(ts0)\n",
    "    \n",
    "    tp=tp.load(f'{Path}/moscot_maps_growth_rate_and_driver_genes_analysis/{ts0}_{ts1}_TemporalProblem.pkl')\n",
    "    adata=tp.adata\n",
    "    time_tuple=sorted(list(tp.solutions.keys())[0])\n",
    "    pull=tp.pull(time_tuple[0], time_tuple[1], data='cell_state', subset=ct, return_data=True)\n",
    "    pull=pull[time_tuple[0]].flatten()    \n",
    "    \n",
    "    np.save(f'{Path}/moscot_maps_growth_rate_and_driver_genes_analysis/{ts0}_{ct}_pull.npy', pull)"
   ]
  },
  {
   "cell_type": "code",
   "execution_count": null,
   "id": "1c603be5",
   "metadata": {},
   "outputs": [],
   "source": []
  },
  {
   "cell_type": "code",
   "execution_count": null,
   "id": "22ea6c0f",
   "metadata": {},
   "outputs": [],
   "source": []
  }
 ],
 "metadata": {
  "kernelspec": {
   "display_name": "mc",
   "language": "python",
   "name": "mc"
  },
  "language_info": {
   "codemirror_mode": {
    "name": "ipython",
    "version": 3
   },
   "file_extension": ".py",
   "mimetype": "text/x-python",
   "name": "python",
   "nbconvert_exporter": "python",
   "pygments_lexer": "ipython3",
   "version": "3.10.9"
  }
 },
 "nbformat": 4,
 "nbformat_minor": 5
}
