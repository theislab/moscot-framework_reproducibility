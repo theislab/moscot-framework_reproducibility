{
 "cells": [
  {
   "cell_type": "markdown",
   "id": "fc9bfcb2",
   "metadata": {},
   "source": [
    "# Tome transitions for Seruat V3.1.4"
   ]
  },
  {
   "cell_type": "markdown",
   "id": "0f8af823",
   "metadata": {},
   "source": [
    "The following code is a copy of code from https://github.com/ChengxiangQiu/tome_code, the createLineage_Knn-function is in https://github.com/ChengxiangQiu/tome_code/blob/main/help_code/help_code.R, the main function is in https://github.com/ChengxiangQiu/tome_code/blob/main/Section2_trajectory_Step1_connection.R"
   ]
  },
  {
   "cell_type": "markdown",
   "id": "61bc4b81",
   "metadata": {},
   "source": [
    "This runs TOME, with the only difference being it excludes extraembryonic tissues since the experiments sometimes extract more and sometime less extraembryonic tissue"
   ]
  },
  {
   "cell_type": "code",
   "execution_count": 1,
   "id": "134c2e64",
   "metadata": {},
   "outputs": [
    {
     "name": "stderr",
     "output_type": "stream",
     "text": [
      "Attaching SeuratObject\n",
      "\n",
      "Attaching sp\n",
      "\n"
     ]
    }
   ],
   "source": [
    "library(Seurat)\n",
    "library(future)\n",
    "library(future.apply)\n",
    "library(FNN)"
   ]
  },
  {
   "cell_type": "code",
   "execution_count": 2,
   "id": "6786fb65",
   "metadata": {
    "scrolled": true
   },
   "outputs": [
    {
     "data": {
      "text/plain": [
       "R version 4.1.2 (2021-11-01)\n",
       "Platform: x86_64-pc-linux-gnu (64-bit)\n",
       "Running under: Ubuntu 22.04.2 LTS\n",
       "\n",
       "Matrix products: default\n",
       "BLAS:   /usr/lib/x86_64-linux-gnu/blas/libblas.so.3.10.0\n",
       "LAPACK: /usr/lib/x86_64-linux-gnu/lapack/liblapack.so.3.10.0\n",
       "\n",
       "locale:\n",
       " [1] LC_CTYPE=en_US.UTF-8       LC_NUMERIC=C              \n",
       " [3] LC_TIME=de_DE.UTF-8        LC_COLLATE=en_US.UTF-8    \n",
       " [5] LC_MONETARY=de_DE.UTF-8    LC_MESSAGES=en_US.UTF-8   \n",
       " [7] LC_PAPER=de_DE.UTF-8       LC_NAME=C                 \n",
       " [9] LC_ADDRESS=C               LC_TELEPHONE=C            \n",
       "[11] LC_MEASUREMENT=de_DE.UTF-8 LC_IDENTIFICATION=C       \n",
       "\n",
       "attached base packages:\n",
       "[1] stats     graphics  grDevices utils     datasets  methods   base     \n",
       "\n",
       "other attached packages:\n",
       "[1] FNN_1.1.3.1        future.apply_1.9.0 future_1.26.1      sp_1.5-0          \n",
       "[5] SeuratObject_4.1.0 Seurat_4.1.1      \n",
       "\n",
       "loaded via a namespace (and not attached):\n",
       "  [1] Rtsne_0.16            colorspace_2.0-3      deldir_1.0-6         \n",
       "  [4] ellipsis_0.3.2        ggridges_0.5.3        IRdisplay_1.1        \n",
       "  [7] base64enc_0.1-3       spatstat.data_2.2-0   leiden_0.4.2         \n",
       " [10] listenv_0.8.0         ggrepel_0.9.1         fansi_1.0.3          \n",
       " [13] codetools_0.2-18      splines_4.1.2         polyclip_1.10-0      \n",
       " [16] IRkernel_1.3.0.9000   jsonlite_1.8.0        ica_1.0-2            \n",
       " [19] cluster_2.1.2         png_0.1-7             rgeos_0.5-9          \n",
       " [22] uwot_0.1.11           shiny_1.7.1           sctransform_0.3.3    \n",
       " [25] spatstat.sparse_2.1-1 compiler_4.1.2        httr_1.4.3           \n",
       " [28] Matrix_1.4-0          fastmap_1.1.0         lazyeval_0.2.2       \n",
       " [31] cli_3.3.0             later_1.3.0           htmltools_0.5.2      \n",
       " [34] tools_4.1.2           igraph_1.3.2          gtable_0.3.0         \n",
       " [37] glue_1.6.2            RANN_2.6.1            reshape2_1.4.4       \n",
       " [40] dplyr_1.0.9           Rcpp_1.0.8.3          scattermore_0.8      \n",
       " [43] vctrs_0.4.1           nlme_3.1-155          progressr_0.10.1     \n",
       " [46] lmtest_0.9-40         spatstat.random_2.2-0 stringr_1.4.0        \n",
       " [49] globals_0.15.1        mime_0.12             miniUI_0.1.1.1       \n",
       " [52] lifecycle_1.0.1       irlba_2.3.5           goftest_1.2-3        \n",
       " [55] MASS_7.3-55           zoo_1.8-10            scales_1.2.0         \n",
       " [58] spatstat.core_2.4-4   promises_1.2.0.1      spatstat.utils_2.3-1 \n",
       " [61] parallel_4.1.2        RColorBrewer_1.1-3    reticulate_1.25      \n",
       " [64] pbapply_1.5-0         gridExtra_2.3         ggplot2_3.3.6        \n",
       " [67] rpart_4.1.16          stringi_1.7.6         repr_1.1.4           \n",
       " [70] rlang_1.0.2           pkgconfig_2.0.3       matrixStats_0.62.0   \n",
       " [73] evaluate_0.15         lattice_0.20-45       ROCR_1.0-11          \n",
       " [76] purrr_0.3.4           tensor_1.5            patchwork_1.1.1      \n",
       " [79] htmlwidgets_1.5.4     cowplot_1.1.1         tidyselect_1.1.2     \n",
       " [82] parallelly_1.32.0     RcppAnnoy_0.0.19      plyr_1.8.7           \n",
       " [85] magrittr_2.0.3        R6_2.5.1              generics_0.1.2       \n",
       " [88] pbdZMQ_0.3-7          mgcv_1.8-39           pillar_1.7.0         \n",
       " [91] fitdistrplus_1.1-8    survival_3.2-13       abind_1.4-5          \n",
       " [94] tibble_3.1.7          crayon_1.5.1          uuid_1.1-0           \n",
       " [97] KernSmooth_2.23-20    utf8_1.2.2            spatstat.geom_2.4-0  \n",
       "[100] plotly_4.10.0         grid_4.1.2            data.table_1.14.2    \n",
       "[103] digest_0.6.29         xtable_1.8-4          tidyr_1.2.0          \n",
       "[106] httpuv_1.6.5          munsell_0.5.0         viridisLite_0.4.0    "
      ]
     },
     "metadata": {},
     "output_type": "display_data"
    }
   ],
   "source": [
    "sessionInfo()"
   ]
  },
  {
   "cell_type": "code",
   "execution_count": 3,
   "id": "786a9643",
   "metadata": {},
   "outputs": [],
   "source": [
    "file_path='/home/mgander/moscot-framework_reproducibility/data/mouse_temporal/RDS'\n",
    "\n",
    "work_path = \"/home/mgander/moscot-framework_reproducibility/data/mouse_temporal/Seurat_Representations\"\n",
    "\n",
    "work_path2 = \"/home/mgander/moscot-framework_reproducibility/data/mouse_temporal/TOME_maps_growth_rate_and_driver_genes_analysis\"\n",
    "\n",
    "time_point = paste0(\"E\", c(3.5, 4.5, 5.25, 5.5, 6.25, seq(6.5, 8.25, 0.25), \"8.5a\", \"8.5b\", seq(9.5, 13.5, 1)))"
   ]
  },
  {
   "cell_type": "code",
   "execution_count": null,
   "id": "30fc9aa2",
   "metadata": {},
   "outputs": [],
   "source": []
  },
  {
   "cell_type": "code",
   "execution_count": 4,
   "id": "d5a8a423",
   "metadata": {},
   "outputs": [],
   "source": [
    "#####################################################\n",
    "### Function: finding ancestor node for each node ###\n",
    "#####################################################\n",
    "\n",
    "createLineage_Knn <- function(emb, pd, time_1, reduction=\"umap\", replication_times=500, removing_cells_ratio=0.2, k_neigh = 5){\n",
    "    \n",
    "    print(dim(emb))\n",
    "    if(!\"Anno\" %in% names(pd) | !\"day\" %in% names(pd)) {print(\"Error: no Anno or day in pd\")}\n",
    "    if(sum(rownames(pd)!=rownames(emb))!=0) {print(\"Error: rownames are not matched\")}\n",
    "    pd$state = pd$Anno\n",
    "    \n",
    "    res = list()\n",
    "    \n",
    "    rep_i = 1\n",
    "    \n",
    "    while(rep_i < (replication_times+1)){\n",
    "        \n",
    "        sampling_index = sample(1:nrow(pd),round(nrow(pd)*(1-removing_cells_ratio)))\n",
    "        \n",
    "        emb_sub = emb[sampling_index,]\n",
    "        pd_sub = pd[sampling_index,]\n",
    "        \n",
    "        irlba_pca_res_1 <- emb_sub[as.vector(pd_sub$day)==\"pre\",]\n",
    "        irlba_pca_res_2 <- emb_sub[as.vector(pd_sub$day)==\"nex\",]\n",
    "        pd_sub1 <- pd_sub[pd_sub$day == \"pre\",]\n",
    "        pd_sub2 <- pd_sub[pd_sub$day == \"nex\",]\n",
    "        \n",
    "        pre_state_min = min(table(as.vector(pd_sub1$state)))\n",
    "        \n",
    "        if (pre_state_min < k_neigh & pre_state_min >= 3){\n",
    "            k_neigh = pre_state_min\n",
    "            print(k_neigh)\n",
    "        }\n",
    "        \n",
    "        if (pre_state_min < 3){\n",
    "            next\n",
    "        }\n",
    "        \n",
    "        neighbors <- get.knnx(irlba_pca_res_1, irlba_pca_res_2, k = k_neigh)$nn.index\n",
    "        \n",
    "        tmp1 <- matrix(NA,nrow(neighbors),ncol(neighbors))\n",
    "        for(i in 1:k_neigh){\n",
    "            tmp1[,i] <- as.vector(pd_sub1$state)[neighbors[,i]]\n",
    "        }\n",
    "        state1 <- names(table(as.vector(pd_sub1$state)))\n",
    "        state2 <- names(table(as.vector(pd_sub2$state)))\n",
    "        \n",
    "        tmp2 <- matrix(NA,length(state2),length(state1))\n",
    "        for(i in 1:length(state2)){\n",
    "            x <- c(tmp1[as.vector(pd_sub2$state)==state2[i],])\n",
    "            for(j in 1:length(state1)){\n",
    "                tmp2[i,j] <- sum(x==state1[j])\n",
    "            }\n",
    "        }\n",
    "        tmp2 <- tmp2/apply(tmp2,1,sum)\n",
    "        tmp2 <- data.frame(tmp2)\n",
    "        row.names(tmp2) = state2\n",
    "        names(tmp2) = state1\n",
    "        \n",
    "        \n",
    "        \n",
    "        # I need the nearest neighbors later, so I'll save them:\n",
    "        write.csv(rownames(pd_sub1), paste0(work_path2, \"/\", time_1, '/early_cells_', rep_i, \".csv\"), row.names=FALSE, quote=FALSE) \n",
    "        write.csv(rownames(pd_sub2), paste0(work_path2, \"/\", time_1, '/late_cells_', rep_i, \".csv\"), row.names=FALSE, quote=FALSE) \n",
    "        write.csv(neighbors, paste0(work_path2, \"/\", time_1, '/neigbors_', rep_i, \".csv\"), row.names=FALSE, quote=FALSE) \n",
    "        \n",
    "        \n",
    "        res[[rep_i]] = tmp2\n",
    "        \n",
    "        rep_i = rep_i + 1\n",
    "        \n",
    "    }\n",
    "    \n",
    "    return(res)\n",
    "}"
   ]
  },
  {
   "cell_type": "markdown",
   "id": "017831b2",
   "metadata": {},
   "source": [
    "# KNN-Scoring to obtain transition rates"
   ]
  },
  {
   "cell_type": "code",
   "execution_count": 5,
   "id": "b91dab23",
   "metadata": {},
   "outputs": [],
   "source": [
    "remove_exe_cells <- function(anno, i){\n",
    "    if (i<6){return(anno)}\n",
    "    if (i>5)\n",
    "        {ExE_cell_types=c('Embryonic visceral endoderm', 'Extraembryonic visceral endoderm', 'Parietal endoderm', 'Extraembryonic ectoderm', 'Primitive erythroid cells', 'Blood progenitors')}\n",
    "    if (i>14)\n",
    "        {ExE_cell_types=c('Extraembryonic visceral endoderm')}\n",
    "    anno_new <- anno[!(sapply(strsplit(anno$Anno, \":\"), \"[\", 2) %in% ExE_cell_types), ]\n",
    "    \n",
    "    return(anno_new)\n",
    "}"
   ]
  },
  {
   "cell_type": "code",
   "execution_count": 104,
   "id": "0655e8f8",
   "metadata": {
    "scrolled": true
   },
   "outputs": [
    {
     "name": "stdout",
     "output_type": "stream",
     "text": [
      "[1] \"E3.5\"\n",
      "[1] 157   3\n",
      "[1] \"E4.5\"\n",
      "[1] 398   3\n",
      "[1] \"E5.25\"\n",
      "[1] 795   3\n",
      "[1] \"E5.5\"\n",
      "[1] 785   3\n",
      "[1] \"E6.25\"\n",
      "[1] 4765    3\n",
      "[1] 3\n",
      "[1] \"E6.5\"\n",
      "[1] 4532    3\n",
      "[1] \"E6.75\"\n",
      "[1] 12295     3\n",
      "[1] \"E7\"\n",
      "[1] 21145     3\n",
      "[1] \"E7.25\"\n",
      "[1] 16757     3\n",
      "[1] \"E7.5\"\n",
      "[1] 14870     3\n",
      "[1] \"E7.75\"\n",
      "[1] 20003     3\n",
      "[1] \"E8\"\n",
      "[1] 25041     3\n",
      "[1] \"E8.25\"\n",
      "[1] 26706     3\n",
      "[1] \"E8.5a\"\n",
      "[1] 163685      3\n",
      "[1] \"E8.5b\"\n",
      "[1] 257896      3\n",
      "[1] \"E9.5\"\n",
      "[1] 380453      3\n",
      "[1] \"E10.5\"\n",
      "[1] 724637      3\n",
      "[1] \"E11.5\"\n",
      "[1] 747850      3\n",
      "[1] \"E12.5\"\n",
      "[1] 557850      3\n"
     ]
    }
   ],
   "source": [
    "# You will need about 20 Gb of free space to save all neirest_neigbors, and cell annotations\n",
    "\n",
    "for (i in 1:19) {\n",
    "    \n",
    "    # Prepare object\n",
    "    time_1=time_point[i]\n",
    "    print(time_1)\n",
    "    time_2=time_point[i+1]\n",
    "\n",
    "    if (time_2=='E7')\n",
    "        {time_2='E7.0'}\n",
    "    if (time_1=='E7')\n",
    "        {time_1='E7.0'}\n",
    "    \n",
    "    anno1 = readRDS(paste0(file_path, \"/seurat_object_\", time_1, \".rds\"))\n",
    "    anno1$Anno = as.vector(anno1$cell_state)\n",
    "    anno1=cbind(anno1[[\"day\"]], anno1[[\"Anno\"]])\n",
    "    anno1$day = \"pre\"\n",
    "    anno1$stage = time_1\n",
    "\n",
    "    anno2 = readRDS(paste0(file_path, \"/seurat_object_\", time_2, \".rds\"))\n",
    "    anno2$Anno = as.vector(anno2$cell_state)\n",
    "    anno2=cbind(anno2[[\"day\"]], anno2[[\"Anno\"]])\n",
    "    anno2$day = \"nex\"\n",
    "    anno2$stage = time_2\n",
    "    \n",
    "    if (time_2=='E8')\n",
    "        {time_2='E8.0'}\n",
    "    if (time_1=='E8')\n",
    "        {time_1='E8.0'}\n",
    "    \n",
    "    emb = readRDS(paste0(work_path, \"/\", time_1, \"_\", time_2, \"_umap3\", \".rds\"))\n",
    "    emb = data.frame(emb)\n",
    "    \n",
    "    anno = rbind(anno1, anno2)\n",
    "    anno = remove_exe_cells(anno, i)\n",
    "    \n",
    "    emb = emb[rownames(anno),]\n",
    "    \n",
    "    ########           I added three lines in this function to save TOMEs idenified k-nn\n",
    "    res = createLineage_Knn(emb, anno, time_1,  k_neigh = 5) #### createLineage_Knn function was in help_code.R\n",
    "}"
   ]
  },
  {
   "cell_type": "code",
   "execution_count": null,
   "id": "567ca939",
   "metadata": {},
   "outputs": [],
   "source": []
  },
  {
   "cell_type": "code",
   "execution_count": null,
   "id": "97c09581",
   "metadata": {},
   "outputs": [],
   "source": []
  },
  {
   "cell_type": "code",
   "execution_count": null,
   "id": "43b2b5d9",
   "metadata": {},
   "outputs": [],
   "source": []
  },
  {
   "cell_type": "code",
   "execution_count": null,
   "id": "a6bdb094",
   "metadata": {},
   "outputs": [],
   "source": []
  },
  {
   "cell_type": "code",
   "execution_count": null,
   "id": "edb930af",
   "metadata": {},
   "outputs": [],
   "source": []
  },
  {
   "cell_type": "code",
   "execution_count": null,
   "id": "f0cdc060",
   "metadata": {},
   "outputs": [],
   "source": []
  }
 ],
 "metadata": {
  "kernelspec": {
   "display_name": "mc",
   "language": "python",
   "name": "mc"
  },
  "language_info": {
   "codemirror_mode": {
    "name": "ipython",
    "version": 3
   },
   "file_extension": ".py",
   "mimetype": "text/x-python",
   "name": "python",
   "nbconvert_exporter": "python",
   "pygments_lexer": "ipython3",
   "version": "3.10.9"
  }
 },
 "nbformat": 4,
 "nbformat_minor": 5
}
