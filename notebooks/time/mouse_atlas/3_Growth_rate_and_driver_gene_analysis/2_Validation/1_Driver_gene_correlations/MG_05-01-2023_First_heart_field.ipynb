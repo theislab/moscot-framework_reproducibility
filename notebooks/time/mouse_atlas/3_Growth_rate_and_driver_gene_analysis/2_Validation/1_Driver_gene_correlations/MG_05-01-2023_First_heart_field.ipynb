{
 "cells": [
  {
   "cell_type": "markdown",
   "metadata": {},
   "source": [
    "# Evaluating Gene Correlations - First heart field"
   ]
  },
  {
   "cell_type": "code",
   "execution_count": 1,
   "metadata": {},
   "outputs": [
    {
     "name": "stderr",
     "output_type": "stream",
     "text": [
      "/home/mgander/miniconda3/envs/mc/lib/python3.10/site-packages/flax/struct.py:132: FutureWarning: jax.tree_util.register_keypaths is deprecated, and will be removed in a future release. Please use `register_pytree_with_keys()` instead.\n",
      "  jax.tree_util.register_keypaths(data_clz, keypaths)\n",
      "/home/mgander/miniconda3/envs/mc/lib/python3.10/site-packages/flax/struct.py:132: FutureWarning: jax.tree_util.register_keypaths is deprecated, and will be removed in a future release. Please use `register_pytree_with_keys()` instead.\n",
      "  jax.tree_util.register_keypaths(data_clz, keypaths)\n",
      "No GPU/TPU found, falling back to CPU. (Set TF_CPP_MIN_LOG_LEVEL=0 and rerun for more info.)\n"
     ]
    }
   ],
   "source": [
    "import numpy as np\n",
    "import anndata\n",
    "import pandas as pd\n",
    "import scanpy as sc\n",
    "import scipy\n",
    "import seaborn as sns\n",
    "import matplotlib.pyplot as plt\n",
    "\n",
    "\n",
    "from moscot.problems.time._lineage import TemporalProblem"
   ]
  },
  {
   "cell_type": "code",
   "execution_count": 2,
   "metadata": {},
   "outputs": [],
   "source": [
    "Path=\"/home/mgander/moscot-framework_reproducibility/data/mouse_temporal\"\n",
    "ts=['E3.5', 'E4.5', 'E5.25', 'E5.5', 'E6.25', 'E6.5', 'E6.75', 'E7.0', 'E7.25', 'E7.5', 'E7.75', 'E8.0', 'E8.25', 'E8.5a', 'E8.5b', 'E9.5', 'E10.5', 'E11.5', 'E12.5', 'E13.5']"
   ]
  },
  {
   "cell_type": "code",
   "execution_count": 3,
   "metadata": {},
   "outputs": [],
   "source": [
    "ct='E8.25:First heart field'\n",
    "i=11\n",
    "\n",
    "ts0=ts[i]\n",
    "ts1=ts[i+1]"
   ]
  },
  {
   "cell_type": "code",
   "execution_count": 4,
   "metadata": {},
   "outputs": [],
   "source": [
    "gT=np.load(f\"{Path}/TOME_maps_growth_rate_and_driver_genes_analysis/{ts0}_{ct}_pull.npy\", allow_pickle=True)\n",
    "gM=np.load(f\"{Path}/moscot_maps_growth_rate_and_driver_genes_analysis/{ts0}_{ct}_pull.npy\", allow_pickle=True)"
   ]
  },
  {
   "cell_type": "markdown",
   "metadata": {},
   "source": [
    "# Correlation for curated genes"
   ]
  },
  {
   "cell_type": "markdown",
   "metadata": {},
   "source": [
    "The following list of genes was obtained by litarture seach when looking for genes that predict deveopment into first heart field cells. The key in the dictionary corresponds to the citation (Pubmed ID), and the values correspond to the genes the publication lists."
   ]
  },
  {
   "cell_type": "markdown",
   "metadata": {},
   "source": [
    "TOME used the following genes to identify the first heart field cluster: Tbx5, Hcn4, Gata4."
   ]
  },
  {
   "cell_type": "markdown",
   "metadata": {},
   "source": [
    "Be careful, I also listed driver/marker genes if there was only moderate evidence of them being directly involved in these cell transitions, so use this list with caution!!!"
   ]
  },
  {
   "cell_type": "code",
   "execution_count": 29,
   "metadata": {},
   "outputs": [],
   "source": [
    "D={}\n",
    "D['PMID: 25274757']=['Nkx2-5', 'Gata4', 'Tbx5', 'Smarcd3']\n",
    "\n",
    "# Isl1 and Tbx1 are SHF-driver genes!!!\n",
    "#D['PMID: 22072574']=['Isl1', 'Tbx1', 'Tbx5']\n",
    "\n",
    "\n",
    "D['PMID: 23457256']=['Eomes', 'Mesp1', 'Pdgfra', 'Nkx2-5',  'Bmp2', 'Tbx5', 'Gata4', \n",
    "                     'Mef2c', 'Mef2a', 'Smarcd3']\n",
    "D['PMID: 27194630']=['Tnnt2']\n",
    "D['PMID: 23743334']=['Hcn4']\n",
    "D['PMID: 18924235']=['Bmp4', 'Mef2c']\n",
    "D['PMID: 30288953']=['Hand1', 'Hand2', 'Gata4', 'Mef2c', 'Tbx5']\n",
    "\n",
    "D['PMID: 29440224']=['Nkx2-5', 'Tbx20', 'Foxf1','Pdgfra', \n",
    "                     'Smarcd3', 'Foxa2',  'Bmp4', 'Hdac3', 'Nup155', 'Myod1']\n",
    "\n",
    "D['PMID: 24123507']=['Irx4']\n",
    "D['PMID: 17576928']=['Wnt2', 'Wnt7a', 'Wnt8a']\n",
    "D['PMID: 29985326']=['Actc1']   #Actc1 is pan-cardiac marker\n",
    "D['PMID: 33585493']=['Tbx20']\n",
    "D['PMID: 20956536']=['Ccdc141']\n",
    "\n",
    "D['PMID: 25183852']=['Tbx20', 'Hey2', 'Mycn', 'Nppa', 'Cx40', 'Cdkn1c', 'Bmp10']\n",
    "\n",
    "# Chicken, so gotta be slighlty careful\n",
    "#D['PMID: 14991725']=['Popdc2']\n",
    "\n",
    "\n",
    "\n",
    "# Only in chamber myocardium: Nppa\n",
    "# Only in AV canal: Tbx2\n",
    "\n",
    "genes=[]\n",
    "for a in D.values():\n",
    "    genes=[*genes, *a]\n",
    "\n",
    "# Eliminate duplicates\n",
    "genes=[a for a in set(genes)]"
   ]
  },
  {
   "cell_type": "code",
   "execution_count": 6,
   "metadata": {
    "scrolled": true
   },
   "outputs": [],
   "source": [
    "adata=sc.read(f\"{Path}/anndatas/scVI_anndatas/scvi_adata_{ts0}.h5ad\")\n",
    "adata.var.index=list(adata.var['gene_names'])"
   ]
  },
  {
   "cell_type": "code",
   "execution_count": 7,
   "metadata": {},
   "outputs": [],
   "source": [
    "if 14>i>4:\n",
    "    ExE_cell_types=['Embryonic visceral endoderm', 'Extraembryonic visceral endoderm', 'Parietal endoderm', 'Extraembryonic ectoderm', 'Primitive erythroid cells', 'Blood progenitors']\n",
    "    adata=adata[~adata.obs['cell_type'].isin(ExE_cell_types)].copy()\n",
    "elif i>4:\n",
    "    ExE_cell_types=['Extraembryonic visceral endoderm']\n",
    "    adata=adata[~adata.obs['cell_type'].isin(ExE_cell_types)].copy()"
   ]
  },
  {
   "cell_type": "code",
   "execution_count": 8,
   "metadata": {},
   "outputs": [],
   "source": [
    "#genes=list(adata.var['gene_names'])"
   ]
  },
  {
   "cell_type": "code",
   "execution_count": 31,
   "metadata": {
    "scrolled": true
   },
   "outputs": [
    {
     "data": {
      "text/plain": [
       "24"
      ]
     },
     "execution_count": 31,
     "metadata": {},
     "output_type": "execute_result"
    }
   ],
   "source": [
    "hvgs=list(adata.var[adata.var['highly_variable']]['gene_names'])\n",
    "genes_selected=[]\n",
    "for gene in genes:\n",
    "    if gene in hvgs:\n",
    "        genes_selected.append(gene)\n",
    "len(genes_selected)"
   ]
  },
  {
   "cell_type": "code",
   "execution_count": 32,
   "metadata": {
    "scrolled": true
   },
   "outputs": [
    {
     "name": "stdout",
     "output_type": "stream",
     "text": [
      "Actc1\n",
      "Bmp2\n",
      "Bmp4\n",
      "Ccdc141\n",
      "Cdkn1c\n",
      "Eomes\n",
      "Foxa2\n",
      "Foxf1\n",
      "Gata4\n",
      "Hand1\n",
      "Hand2\n",
      "Irx4\n",
      "Mef2c\n",
      "Mesp1\n",
      "Mycn\n",
      "Nkx2-5\n",
      "Nppa\n",
      "Pdgfra\n",
      "Smarcd3\n",
      "Tbx20\n",
      "Tbx5\n",
      "Tnnt2\n",
      "Wnt2\n",
      "Wnt8a\n"
     ]
    },
    {
     "data": {
      "text/plain": [
       "[None,\n",
       " None,\n",
       " None,\n",
       " None,\n",
       " None,\n",
       " None,\n",
       " None,\n",
       " None,\n",
       " None,\n",
       " None,\n",
       " None,\n",
       " None,\n",
       " None,\n",
       " None,\n",
       " None,\n",
       " None,\n",
       " None,\n",
       " None,\n",
       " None,\n",
       " None,\n",
       " None,\n",
       " None,\n",
       " None,\n",
       " None]"
      ]
     },
     "execution_count": 32,
     "metadata": {},
     "output_type": "execute_result"
    }
   ],
   "source": [
    "[print(a) for a in sorted(genes_selected)]"
   ]
  },
  {
   "cell_type": "code",
   "execution_count": null,
   "metadata": {},
   "outputs": [],
   "source": []
  },
  {
   "cell_type": "code",
   "execution_count": 17,
   "metadata": {
    "scrolled": true
   },
   "outputs": [],
   "source": [
    "subset=True\n",
    "\n",
    "DF=pd.DataFrame({})\n",
    "\n",
    "for gene in genes_selected:\n",
    "    if gene in [a for a in adata.var.index]:\n",
    "\n",
    "        loc=adata.var.index.get_loc(gene)\n",
    "        exp=adata.layers['scvi_normalized'][:,loc]\n",
    "        #exp=adataS.X[:,loc]\n",
    "        #exp=np.array(exp.todense()).T[0]\n",
    "        \n",
    "        if subset==True:\n",
    "            wh=np.where(adata.obs['cell_state'].isin(['E8:Splanchnic mesoderm', 'E8:First heart field']))[0]\n",
    "            #wh=np.where(adata.obs['cell_state'].isin(['E7.75:Splanchnic mesoderm', 'E7.75:First heart field']))[0]\n",
    "            exp=exp[wh]\n",
    "            gT2=gT[wh]\n",
    "            gM2=gM[wh]\n",
    "        else:\n",
    "            gT2=gT.copy()\n",
    "            gM2=gM.copy()\n",
    "\n",
    "\n",
    "        (cor, p)=scipy.stats.spearmanr(exp, gT2)\n",
    "        dfT=pd.DataFrame({'Timepoint': ts0, 'Gene':[gene], 'Method': 'TOME', 'Correlation':cor, 'P-value':p, 'type':'Spearman'})\n",
    "        (cor, p)=scipy.stats.spearmanr(exp, gM2)\n",
    "        dfM=pd.DataFrame({'Timepoint': ts0, 'Gene':[gene], 'Method': 'moscot', 'Correlation':cor, 'P-value':p, 'type':'Spearman'})\n",
    "        DF=pd.concat([DF, dfM,dfT])\n",
    "DF['Abs. Correlation']=abs(DF['Correlation'])\n",
    "DF.index=np.arange(len(DF))"
   ]
  },
  {
   "cell_type": "code",
   "execution_count": 18,
   "metadata": {},
   "outputs": [
    {
     "data": {
      "image/png": "[encoded data removed]",
      "text/plain": [
       "<Figure size 300x300 with 1 Axes>"
      ]
     },
     "metadata": {},
     "output_type": "display_data"
    }
   ],
   "source": [
    "fig, ax = plt.subplots(ncols=1, figsize=(3, 3))\n",
    "g=sns.boxplot(data=DF, x=\"Abs. Correlation\", y=\"Timepoint\", hue='Method', showfliers=True,\n",
    "               showmeans=False,  whis=[100,0], ax=ax)\n",
    "sns.move_legend(g,(1,0))"
   ]
  },
  {
   "cell_type": "code",
   "execution_count": 19,
   "metadata": {
    "scrolled": true
   },
   "outputs": [],
   "source": [
    "DF.to_pickle(f'{Path}/Validation_output/{ts0}_FHF.npy')"
   ]
  },
  {
   "cell_type": "code",
   "execution_count": null,
   "metadata": {},
   "outputs": [],
   "source": []
  },
  {
   "cell_type": "code",
   "execution_count": null,
   "metadata": {},
   "outputs": [],
   "source": []
  },
  {
   "cell_type": "code",
   "execution_count": null,
   "metadata": {},
   "outputs": [],
   "source": []
  }
 ],
 "metadata": {
  "kernelspec": {
   "display_name": "mc",
   "language": "python",
   "name": "mc"
  },
  "language_info": {
   "codemirror_mode": {
    "name": "ipython",
    "version": 3
   },
   "file_extension": ".py",
   "mimetype": "text/x-python",
   "name": "python",
   "nbconvert_exporter": "python",
   "pygments_lexer": "ipython3",
   "version": "3.10.9"
  }
 },
 "nbformat": 4,
 "nbformat_minor": 2
}
