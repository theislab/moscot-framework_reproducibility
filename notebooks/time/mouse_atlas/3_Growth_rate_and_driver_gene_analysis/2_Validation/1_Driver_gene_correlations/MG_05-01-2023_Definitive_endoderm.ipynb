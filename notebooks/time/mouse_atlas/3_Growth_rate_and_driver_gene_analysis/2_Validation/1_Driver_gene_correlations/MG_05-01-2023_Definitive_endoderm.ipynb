{
 "cells": [
  {
   "cell_type": "markdown",
   "metadata": {},
   "source": [
    "# Evaluating Gene Correlations - Definitive endoderm"
   ]
  },
  {
   "cell_type": "code",
   "execution_count": 1,
   "metadata": {},
   "outputs": [
    {
     "name": "stderr",
     "output_type": "stream",
     "text": [
      "/home/mgander/miniconda3/envs/mc/lib/python3.10/site-packages/flax/struct.py:132: FutureWarning: jax.tree_util.register_keypaths is deprecated, and will be removed in a future release. Please use `register_pytree_with_keys()` instead.\n",
      "  jax.tree_util.register_keypaths(data_clz, keypaths)\n",
      "/home/mgander/miniconda3/envs/mc/lib/python3.10/site-packages/flax/struct.py:132: FutureWarning: jax.tree_util.register_keypaths is deprecated, and will be removed in a future release. Please use `register_pytree_with_keys()` instead.\n",
      "  jax.tree_util.register_keypaths(data_clz, keypaths)\n",
      "No GPU/TPU found, falling back to CPU. (Set TF_CPP_MIN_LOG_LEVEL=0 and rerun for more info.)\n"
     ]
    }
   ],
   "source": [
    "import numpy as np\n",
    "import anndata\n",
    "import pandas as pd\n",
    "import scanpy as sc\n",
    "import scipy\n",
    "import seaborn as sns\n",
    "import matplotlib.pyplot as plt\n",
    "\n",
    "\n",
    "from moscot.problems.time._lineage import TemporalProblem"
   ]
  },
  {
   "cell_type": "code",
   "execution_count": 2,
   "metadata": {},
   "outputs": [],
   "source": [
    "Path=\"/home/mgander/moscot-framework_reproducibility/data/mouse_temporal\"\n",
    "ts=['E3.5', 'E4.5', 'E5.25', 'E5.5', 'E6.25', 'E6.5', 'E6.75', 'E7.0', 'E7.25', 'E7.5', 'E7.75', 'E8.0', 'E8.25', 'E8.5a', 'E8.5b', 'E9.5', 'E10.5', 'E11.5', 'E12.5', 'E13.5']"
   ]
  },
  {
   "cell_type": "code",
   "execution_count": 3,
   "metadata": {},
   "outputs": [],
   "source": [
    "ct='E7.25:Definitive endoderm'\n",
    "i=7\n",
    "\n",
    "ts0=ts[i]\n",
    "ts1=ts[i+1]"
   ]
  },
  {
   "cell_type": "code",
   "execution_count": 4,
   "metadata": {},
   "outputs": [],
   "source": [
    "gT=np.load(f\"{Path}/TOME_maps_growth_rate_and_driver_genes_analysis/{ts0}_{ct}_pull.npy\", allow_pickle=True)\n",
    "gM=np.load(f\"{Path}/moscot_maps_growth_rate_and_driver_genes_analysis/{ts0}_{ct}_pull.npy\", allow_pickle=True)"
   ]
  },
  {
   "cell_type": "markdown",
   "metadata": {},
   "source": [
    "# Correlation for curated genes"
   ]
  },
  {
   "cell_type": "markdown",
   "metadata": {},
   "source": [
    "The following list of genes was obtained by litarture seach when looking for genes that predict deveopment into definitive endoderm. The key in the dictionary corresponds to the citation (Pubmed ID), and the values correspond to the genes the publication lists."
   ]
  },
  {
   "cell_type": "markdown",
   "metadata": {},
   "source": [
    "Be careful, I also listed driver/marker genes if there was only moderate evidence of them being directly involved in these cell transitions, so use this list with caution!!!"
   ]
  },
  {
   "cell_type": "code",
   "execution_count": 5,
   "metadata": {},
   "outputs": [],
   "source": [
    "# Definitive endoderm\n",
    "\n",
    "# Nodal is meso+endoderm specific, but seems to be involed more in endoderm !!!\n",
    "# Noggin (Nog) and Chordin maybe not, maybe to mesoendodermal\n",
    "\n",
    "D={}\n",
    "\n",
    "D['PMID: 34988400']=['Sox17', 'Nodal', 'Tdgf1', 'Inhba']\n",
    "\n",
    "D['PMID: 30038254']=['Foxa2']\n",
    "\n",
    "# Organoids, hence rather weak evidence\n",
    "D['PMID: 24973948']=['Nanog','Eomes', 'Gata6','Smad2']\n",
    "\n",
    "# Most genes in here are only linked to lack of endoderm formation in the respective double negative mutant mouse,\n",
    "# hence gene expression of endoderm cells does not necessarily have to correlate...\n",
    "D['PMID: 17387317']=['Amot', 'Mixl1', 'Nckap1', 'Lhx1', 'Inhba', 'Foxh1']\n",
    "\n",
    "\n",
    "# weak-ish evidence\n",
    "D['PMID: 16752393']=['Gata4', 'Furin', 'Nodal', 'Mixl1', 'Ctnnb1',\n",
    "                    'Cdx2', 'Otx2', 'Lhx1','Pax1', 'Pax9', 'Hoxa3', 'Fgf8', 'Shh', 'Tbx1', 'Hoxa13', \n",
    "                     'Gata5',  'Pklr', 'Smad3' ]\n",
    "# strong evidence:\n",
    "D['PMID: 16752393, strong evidence']=['Hnf4a', 'Ihh', 'Afp', 'Alb', 'Foxa2',  'Dkk1', 'Cer1', 'Sox17', 'Irx3', \n",
    "                     'Irx1', 'Pax1', 'Hhex', 'Bmpr1a']\n",
    "\n",
    "D['PMID: 18213590']=['Cldn6',  'Shh', 'Sox17', 'Foxa3',  'Foxa1', 'Foxa2']\n",
    "\n",
    "D['https://www.rndsystems.com/research-area/definitive-endoderm-markers']=['Cldn6', 'Eomes', 'Fabp1', 'Fabp2',\n",
    "                                                                          'Gata4', 'Foxa1', 'Foxa2', 'Sox7',\n",
    "                                                                           'Sox17', 'Hnf1b' ]\n",
    "\n",
    "D['PMID: 27534536']=['Cer1', 'Eomes', 'Gata6', 'Lefty1', 'Cxcr4']\n",
    "\n",
    "D['PMID: 34450036']=['Hnf1b']\n",
    "\n",
    "# Proves Gata6 involvement on definitve endoderm development really well for humans\n",
    "D['PMID: 34010638']=['Gata6']\n",
    "\n",
    "\n",
    "\n",
    "D['PMID: 17576135']=['Plet1', 'Dsp', 'Klf5', 'Epha2']\n",
    "\n",
    "genes=[]\n",
    "for a in D.values():\n",
    "    genes=[*genes, *a]\n",
    "\n",
    "# Eliminate duplicates\n",
    "genes=[a for a in set(genes)]"
   ]
  },
  {
   "cell_type": "code",
   "execution_count": 6,
   "metadata": {
    "scrolled": true
   },
   "outputs": [],
   "source": [
    "adata=sc.read(f\"{Path}/anndatas/scVI_anndatas/scvi_adata_{ts0}.h5ad\")\n",
    "adata.var.index=list(adata.var['gene_names'])"
   ]
  },
  {
   "cell_type": "code",
   "execution_count": 7,
   "metadata": {},
   "outputs": [],
   "source": [
    "if 14>i>4:\n",
    "    ExE_cell_types=['Embryonic visceral endoderm', 'Extraembryonic visceral endoderm', 'Parietal endoderm', 'Extraembryonic ectoderm', 'Primitive erythroid cells', 'Blood progenitors']\n",
    "    adata=adata[~adata.obs['cell_type'].isin(ExE_cell_types)].copy()\n",
    "elif i>4:\n",
    "    ExE_cell_types=['Extraembryonic visceral endoderm']\n",
    "    adata=adata[~adata.obs['cell_type'].isin(ExE_cell_types)].copy()"
   ]
  },
  {
   "cell_type": "code",
   "execution_count": 8,
   "metadata": {
    "scrolled": true
   },
   "outputs": [],
   "source": [
    "hvgs=list(adata.var[adata.var['highly_variable']]['gene_names'])\n",
    "genes_selected=[]\n",
    "for gene in genes:\n",
    "    if gene in hvgs:\n",
    "        genes_selected.append(gene)"
   ]
  },
  {
   "cell_type": "code",
   "execution_count": 9,
   "metadata": {},
   "outputs": [
    {
     "data": {
      "text/plain": [
       "36"
      ]
     },
     "execution_count": 9,
     "metadata": {},
     "output_type": "execute_result"
    }
   ],
   "source": [
    "len(genes_selected)"
   ]
  },
  {
   "cell_type": "code",
   "execution_count": 10,
   "metadata": {},
   "outputs": [
    {
     "data": {
      "text/plain": [
       "52"
      ]
     },
     "execution_count": 10,
     "metadata": {},
     "output_type": "execute_result"
    }
   ],
   "source": [
    "len(genes)"
   ]
  },
  {
   "cell_type": "code",
   "execution_count": 11,
   "metadata": {
    "scrolled": true
   },
   "outputs": [
    {
     "name": "stdout",
     "output_type": "stream",
     "text": [
      "Afp\n",
      "Amot\n",
      "Cdx2\n",
      "Cer1\n",
      "Cldn6\n",
      "Cxcr4\n",
      "Dkk1\n",
      "Dsp\n",
      "Eomes\n",
      "Epha2\n",
      "Fabp1\n",
      "Fabp2\n",
      "Fgf8\n",
      "Foxa1\n",
      "Foxa2\n",
      "Foxa3\n",
      "Gata4\n",
      "Gata6\n",
      "Hhex\n",
      "Hnf1b\n",
      "Hnf4a\n",
      "Ihh\n",
      "Irx1\n",
      "Irx3\n",
      "Klf5\n",
      "Lefty1\n",
      "Lhx1\n",
      "Mixl1\n",
      "Nanog\n",
      "Nodal\n",
      "Otx2\n",
      "Plet1\n",
      "Smad3\n",
      "Sox17\n",
      "Sox7\n",
      "Tdgf1\n"
     ]
    },
    {
     "data": {
      "text/plain": [
       "[None,\n",
       " None,\n",
       " None,\n",
       " None,\n",
       " None,\n",
       " None,\n",
       " None,\n",
       " None,\n",
       " None,\n",
       " None,\n",
       " None,\n",
       " None,\n",
       " None,\n",
       " None,\n",
       " None,\n",
       " None,\n",
       " None,\n",
       " None,\n",
       " None,\n",
       " None,\n",
       " None,\n",
       " None,\n",
       " None,\n",
       " None,\n",
       " None,\n",
       " None,\n",
       " None,\n",
       " None,\n",
       " None,\n",
       " None,\n",
       " None,\n",
       " None,\n",
       " None,\n",
       " None,\n",
       " None,\n",
       " None]"
      ]
     },
     "execution_count": 11,
     "metadata": {},
     "output_type": "execute_result"
    }
   ],
   "source": [
    "[print(a) for a in sorted(genes_selected)]"
   ]
  },
  {
   "cell_type": "code",
   "execution_count": 48,
   "metadata": {
    "scrolled": true
   },
   "outputs": [],
   "source": [
    "subset=True\n",
    "\n",
    "DF=pd.DataFrame({})\n",
    "\n",
    "for gene in genes_selected:\n",
    "    loc=adata.var.index.get_loc(gene)\n",
    "    exp=adata.layers['scvi_normalized'][:,loc]\n",
    "    #exp=adataS.X[:,loc]\n",
    "    #exp=np.array(exp.todense()).T[0]\n",
    "\n",
    "    if subset==True:\n",
    "        wh=np.where(adata.obs['cell_state']=='E7:Anterior primitive streak')[0]\n",
    "        exp=exp[wh]\n",
    "        gT2=gT[wh]\n",
    "        gM2=gM[wh]\n",
    "    else:\n",
    "        gT2=gT.copy()\n",
    "        gM2=gM.copy()\n",
    "\n",
    "\n",
    "    (cor, p)=scipy.stats.spearmanr(exp, gT2)\n",
    "    dfT=pd.DataFrame({'Timepoint': ts0, 'Gene':[gene], 'Method': 'TOME', 'Correlation':cor, 'P-value':p, 'type':'Spearman'})\n",
    "    (cor, p)=scipy.stats.spearmanr(exp, gM2)\n",
    "    dfM=pd.DataFrame({'Timepoint': ts0, 'Gene':[gene], 'Method': 'moscot', 'Correlation':cor, 'P-value':p, 'type':'Spearman'})\n",
    "    DF=pd.concat([DF, dfM,dfT])\n",
    "DF['Abs. Correlation']=abs(DF['Correlation'])\n",
    "DF.index=np.arange(len(DF))"
   ]
  },
  {
   "cell_type": "code",
   "execution_count": 49,
   "metadata": {},
   "outputs": [
    {
     "data": {
      "text/plain": [
       "<Axes: xlabel='Abs. Correlation', ylabel='Timepoint'>"
      ]
     },
     "execution_count": 49,
     "metadata": {},
     "output_type": "execute_result"
    },
    {
     "data": {
      "image/png": "[encoded data removed]",
      "text/plain": [
       "<Figure size 300x300 with 1 Axes>"
      ]
     },
     "metadata": {},
     "output_type": "display_data"
    }
   ],
   "source": [
    "fig, ax = plt.subplots(ncols=1, figsize=(3, 3))\n",
    "sns.boxplot(data=DF, x=\"Abs. Correlation\", y=\"Timepoint\", hue='Method', showfliers=True,\n",
    "               showmeans=False,  whis=[100,0], ax=ax)"
   ]
  },
  {
   "cell_type": "code",
   "execution_count": 51,
   "metadata": {
    "scrolled": true
   },
   "outputs": [],
   "source": [
    "DF.to_pickle(f'{Path}/Validation_output/{ts0}_DE.npy')"
   ]
  },
  {
   "cell_type": "code",
   "execution_count": null,
   "metadata": {},
   "outputs": [],
   "source": []
  },
  {
   "cell_type": "code",
   "execution_count": null,
   "metadata": {},
   "outputs": [],
   "source": []
  },
  {
   "cell_type": "code",
   "execution_count": null,
   "metadata": {},
   "outputs": [],
   "source": []
  }
 ],
 "metadata": {
  "kernelspec": {
   "display_name": "mc",
   "language": "python",
   "name": "mc"
  },
  "language_info": {
   "codemirror_mode": {
    "name": "ipython",
    "version": 3
   },
   "file_extension": ".py",
   "mimetype": "text/x-python",
   "name": "python",
   "nbconvert_exporter": "python",
   "pygments_lexer": "ipython3",
   "version": "3.10.9"
  }
 },
 "nbformat": 4,
 "nbformat_minor": 2
}
