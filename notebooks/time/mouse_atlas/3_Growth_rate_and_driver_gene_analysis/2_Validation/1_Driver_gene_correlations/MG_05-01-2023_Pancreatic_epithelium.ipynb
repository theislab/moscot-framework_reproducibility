{
 "cells": [
  {
   "cell_type": "markdown",
   "metadata": {},
   "source": [
    "# Evaluating Gene Correlations - Pancreatic epithelium"
   ]
  },
  {
   "cell_type": "code",
   "execution_count": 1,
   "metadata": {},
   "outputs": [
    {
     "name": "stderr",
     "output_type": "stream",
     "text": [
      "/home/mgander/miniconda3/envs/mc/lib/python3.10/site-packages/flax/struct.py:132: FutureWarning: jax.tree_util.register_keypaths is deprecated, and will be removed in a future release. Please use `register_pytree_with_keys()` instead.\n",
      "  jax.tree_util.register_keypaths(data_clz, keypaths)\n",
      "/home/mgander/miniconda3/envs/mc/lib/python3.10/site-packages/flax/struct.py:132: FutureWarning: jax.tree_util.register_keypaths is deprecated, and will be removed in a future release. Please use `register_pytree_with_keys()` instead.\n",
      "  jax.tree_util.register_keypaths(data_clz, keypaths)\n",
      "No GPU/TPU found, falling back to CPU. (Set TF_CPP_MIN_LOG_LEVEL=0 and rerun for more info.)\n"
     ]
    }
   ],
   "source": [
    "import numpy as np\n",
    "import anndata\n",
    "import pandas as pd\n",
    "import scanpy as sc\n",
    "import scipy\n",
    "import seaborn as sns\n",
    "import matplotlib.pyplot as plt\n",
    "\n",
    "\n",
    "from moscot.problems.time._lineage import TemporalProblem"
   ]
  },
  {
   "cell_type": "code",
   "execution_count": 2,
   "metadata": {},
   "outputs": [],
   "source": [
    "Path=\"/home/mgander/moscot-framework_reproducibility/data/mouse_temporal\"\n",
    "ts=['E3.5', 'E4.5', 'E5.25', 'E5.5', 'E6.25', 'E6.5', 'E6.75', 'E7.0', 'E7.25', 'E7.5', 'E7.75', 'E8.0', 'E8.25', 'E8.5a', 'E8.5b', 'E9.5', 'E10.5', 'E11.5', 'E12.5', 'E13.5']"
   ]
  },
  {
   "cell_type": "code",
   "execution_count": 3,
   "metadata": {},
   "outputs": [],
   "source": [
    "ct='E11.5:Pancreatic epithelium'\n",
    "i=16\n",
    "\n",
    "ts0=ts[i]\n",
    "ts1=ts[i+1]"
   ]
  },
  {
   "cell_type": "code",
   "execution_count": 4,
   "metadata": {},
   "outputs": [],
   "source": [
    "gT=np.load(f\"{Path}/TOME_maps_growth_rate_and_driver_genes_analysis/{ts0}_{ct}_pull.npy\", allow_pickle=True)\n",
    "gM=np.load(f\"{Path}/moscot_maps_growth_rate_and_driver_genes_analysis/{ts0}_{ct}_pull.npy\", allow_pickle=True)"
   ]
  },
  {
   "cell_type": "markdown",
   "metadata": {},
   "source": [
    "# Correlation for curated genes"
   ]
  },
  {
   "cell_type": "markdown",
   "metadata": {},
   "source": [
    "The following list of genes was obtained by litarture seach when looking for genes that predict deveopment into pancreatic epithelium cells. The key in the dictionary corresponds to the citation (Pubmed ID), and the values correspond to the genes the publication lists."
   ]
  },
  {
   "cell_type": "markdown",
   "metadata": {},
   "source": [
    "Be careful, I also listed driver/marker genes if there was only moderate evidence of them being directly involved in these cell transitions, so use this list with caution!!!"
   ]
  },
  {
   "cell_type": "code",
   "execution_count": 5,
   "metadata": {},
   "outputs": [],
   "source": [
    "# Pancreas\n",
    "\n",
    "D={}\n",
    "\n",
    "D['PMID: 17202186']=['Ptf1a', 'Pdx1', 'Neurog3', 'Nkx6-1', 'Nkx2-2', 'Tle3']\n",
    "\n",
    "D['PMID: 15604203']=['Neurog3', 'Pdx1', 'Slc2a2', 'Iapp', 'Gck', 'Mnx1', 'Hes1', 'Neurod1', \n",
    "                     'Pax4', 'Pax6', 'Nkx2-2', 'Nkx6-1', 'Bhlha15']\n",
    "\n",
    "D['PMID: 15298336']=['Pdx1', 'Nkx2-2', 'Hnf1b', 'Ptf1a', 'Nkx6-1', 'Mnx1', 'Hhex', 'Onecut1', 'Foxa2', \n",
    "                     'Hes1', 'Mnx1', 'Ptf1a', 'Nr5a2', 'Neurod1', 'Pax4', 'Pax6', 'Hnf4a', 'Hnf1a']\n",
    "\n",
    "D['PMID: 25063451']=['Nr5a2', 'Bhlha15', 'Ptf1a', 'Rbpjl']\n",
    "\n",
    "\n",
    "\n",
    "D['PMID: 17202186, maybe']=['Slc2a2', 'Tle1', 'Tle2', 'Mafa', 'Mafb']\n",
    "\n",
    "D['PMID: 15298336, maybe']=['Irs2', 'Foxo1', 'Mafa', 'Mafb', 'Gck', 'Iapp', 'Pklr']\n",
    "\n",
    "\n",
    "D['PMID: 25063451, maybe'] = ['Myc', 'Gata4']\n",
    "\n",
    "D['Moscot pancreas multiome analysis']=['Btbd17', 'Cadm1', 'Ccdc34', 'Cck', 'Cel', 'Cox7a2l', 'Dctn3', 'Fev', 'Gadd45a', 'Gcg', 'Ghrl', 'Hes6', 'Hhex', 'Ins2', 'Kif11', 'Mki67', 'Nav2', 'Neurod1', 'Neurog3', 'Npepl1', 'Pclo', 'Ppp3ca', 'Ptf1a', 'Rbpjl', 'Reep5', 'Sox9', 'Spp1', 'Sst', 'Tox3', 'Ubl3Arx', 'Yipf4', 'Zwint']\n",
    "\n",
    "D['PMID: 30254276']=['Reep5', 'Btbd17', 'Gng12', 'Peg10', 'Sst', 'Ngn3', 'Fev', 'Pax4']\n",
    "\n",
    "D['PMID: 27318360']=['Anxa2']\n",
    "\n",
    "D['PMID: 18471525']=['Cadm1']\n",
    "\n",
    "genes=[]\n",
    "for a in D.values():\n",
    "    genes=[*genes, *a]\n",
    "\n",
    "# Eliminate duplicates\n",
    "genes=[a for a in set(genes)]"
   ]
  },
  {
   "cell_type": "code",
   "execution_count": 6,
   "metadata": {},
   "outputs": [],
   "source": [
    "adata=sc.read(f\"{Path}/anndatas/scVI_anndatas/scvi_adata_{ts0}_6k_hvgs.h5ad\")\n",
    "adata.var.index=list(adata.var['gene_names'])"
   ]
  },
  {
   "cell_type": "code",
   "execution_count": 7,
   "metadata": {},
   "outputs": [
    {
     "name": "stderr",
     "output_type": "stream",
     "text": [
      "/home/mgander/miniconda3/envs/mc/lib/python3.10/site-packages/anndata/_core/anndata.py:1832: UserWarning: Variable names are not unique. To make them unique, call `.var_names_make_unique`.\n",
      "  utils.warn_names_duplicates(\"var\")\n"
     ]
    }
   ],
   "source": [
    "if 14>i>4:\n",
    "    ExE_cell_types=['Embryonic visceral endoderm', 'Extraembryonic visceral endoderm', 'Parietal endoderm', 'Extraembryonic ectoderm', 'Primitive erythroid cells', 'Blood progenitors']\n",
    "    adata=adata[~adata.obs['cell_type'].isin(ExE_cell_types)].copy()\n",
    "elif i>4:\n",
    "    ExE_cell_types=['Extraembryonic visceral endoderm']\n",
    "    adata=adata[~adata.obs['cell_type'].isin(ExE_cell_types)].copy()"
   ]
  },
  {
   "cell_type": "code",
   "execution_count": 8,
   "metadata": {
    "scrolled": true
   },
   "outputs": [],
   "source": [
    "hvgs=list(adata.var[adata.var['highly_variable']]['gene_names'])\n",
    "genes_selected=[]\n",
    "for gene in genes:\n",
    "    if gene in hvgs:\n",
    "        genes_selected.append(gene)"
   ]
  },
  {
   "cell_type": "code",
   "execution_count": 13,
   "metadata": {},
   "outputs": [
    {
     "data": {
      "text/plain": [
       "24"
      ]
     },
     "execution_count": 13,
     "metadata": {},
     "output_type": "execute_result"
    }
   ],
   "source": [
    "len(genes_selected)"
   ]
  },
  {
   "cell_type": "code",
   "execution_count": 14,
   "metadata": {
    "scrolled": true
   },
   "outputs": [
    {
     "name": "stdout",
     "output_type": "stream",
     "text": [
      "Btbd17\n",
      "Cadm1\n",
      "Cck\n",
      "Cel\n",
      "Foxa2\n",
      "Gadd45a\n",
      "Gata4\n",
      "Gcg\n",
      "Gck\n",
      "Ghrl\n",
      "Hes6\n",
      "Hnf1a\n",
      "Irs2\n",
      "Mafb\n",
      "Mnx1\n",
      "Nav2\n",
      "Neurod1\n",
      "Nkx2-2\n",
      "Nkx6-1\n",
      "Nr5a2\n",
      "Onecut1\n",
      "Spp1\n",
      "Sst\n",
      "Tox3\n"
     ]
    },
    {
     "data": {
      "text/plain": [
       "[None,\n",
       " None,\n",
       " None,\n",
       " None,\n",
       " None,\n",
       " None,\n",
       " None,\n",
       " None,\n",
       " None,\n",
       " None,\n",
       " None,\n",
       " None,\n",
       " None,\n",
       " None,\n",
       " None,\n",
       " None,\n",
       " None,\n",
       " None,\n",
       " None,\n",
       " None,\n",
       " None,\n",
       " None,\n",
       " None,\n",
       " None]"
      ]
     },
     "execution_count": 14,
     "metadata": {},
     "output_type": "execute_result"
    }
   ],
   "source": [
    "[print(a) for a in sorted(genes_selected)]"
   ]
  },
  {
   "cell_type": "code",
   "execution_count": null,
   "metadata": {},
   "outputs": [],
   "source": []
  },
  {
   "cell_type": "code",
   "execution_count": 11,
   "metadata": {
    "scrolled": true
   },
   "outputs": [],
   "source": [
    "subset=True\n",
    "\n",
    "DF=pd.DataFrame({})\n",
    "\n",
    "for gene in genes_selected:\n",
    "    loc=adata.var.index.get_loc(gene)\n",
    "    exp=adata.layers['scvi_normalized'][:,loc]\n",
    "    #exp=adataS.X[:,loc]\n",
    "    #exp=np.array(exp.todense()).T[0]\n",
    "\n",
    "    if subset==True:\n",
    "        wh=np.where(adata.obs['cell_state']=='E10.5:Gut and lung epithelium')[0]\n",
    "        exp=exp[wh]\n",
    "        gT2=gT[wh]\n",
    "        gM2=gM[wh]\n",
    "    else:\n",
    "        gT2=gT.copy()\n",
    "        gM2=gM.copy()\n",
    "\n",
    "\n",
    "    (cor, p)=scipy.stats.spearmanr(exp, gT2)\n",
    "    dfT=pd.DataFrame({'Timepoint': ts0, 'Gene':[gene], 'Method': 'TOME', 'Correlation':cor, 'P-value':p, 'type':'Spearman'})\n",
    "    (cor, p)=scipy.stats.spearmanr(exp, gM2)\n",
    "    dfM=pd.DataFrame({'Timepoint': ts0, 'Gene':[gene], 'Method': 'moscot', 'Correlation':cor, 'P-value':p, 'type':'Spearman'})\n",
    "    DF=pd.concat([DF, dfM,dfT])\n",
    "DF['Abs. Correlation']=abs(DF['Correlation'])\n",
    "DF.index=np.arange(len(DF))"
   ]
  },
  {
   "cell_type": "code",
   "execution_count": 12,
   "metadata": {},
   "outputs": [
    {
     "data": {
      "text/plain": [
       "<Axes: xlabel='Abs. Correlation', ylabel='Timepoint'>"
      ]
     },
     "execution_count": 12,
     "metadata": {},
     "output_type": "execute_result"
    },
    {
     "data": {
      "image/png": "[encoded data removed]",
      "text/plain": [
       "<Figure size 300x300 with 1 Axes>"
      ]
     },
     "metadata": {},
     "output_type": "display_data"
    }
   ],
   "source": [
    "fig, ax = plt.subplots(ncols=1, figsize=(3, 3))\n",
    "sns.boxplot(data=DF, x=\"Abs. Correlation\", y=\"Timepoint\", hue='Method', showfliers=True,\n",
    "               showmeans=False,  whis=[100,0], ax=ax)"
   ]
  },
  {
   "cell_type": "code",
   "execution_count": 43,
   "metadata": {
    "scrolled": true
   },
   "outputs": [],
   "source": [
    "DF.to_pickle(f'{Path}/Validation_output/{ts0}_PE.npy')"
   ]
  },
  {
   "cell_type": "code",
   "execution_count": null,
   "metadata": {},
   "outputs": [],
   "source": []
  },
  {
   "cell_type": "code",
   "execution_count": null,
   "metadata": {},
   "outputs": [],
   "source": []
  },
  {
   "cell_type": "code",
   "execution_count": null,
   "metadata": {},
   "outputs": [],
   "source": []
  }
 ],
 "metadata": {
  "kernelspec": {
   "display_name": "mc",
   "language": "python",
   "name": "mc"
  },
  "language_info": {
   "codemirror_mode": {
    "name": "ipython",
    "version": 3
   },
   "file_extension": ".py",
   "mimetype": "text/x-python",
   "name": "python",
   "nbconvert_exporter": "python",
   "pygments_lexer": "ipython3",
   "version": "3.10.9"
  }
 },
 "nbformat": 4,
 "nbformat_minor": 2
}
