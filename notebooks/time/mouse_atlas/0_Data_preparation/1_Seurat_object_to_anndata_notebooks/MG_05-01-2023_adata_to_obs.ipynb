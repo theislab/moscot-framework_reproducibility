{
 "cells": [
  {
   "cell_type": "code",
   "execution_count": 1,
   "id": "eea495f6",
   "metadata": {},
   "outputs": [],
   "source": [
    "import numpy as np\n",
    "import anndata\n",
    "import pandas as pd\n",
    "import scanpy as sc\n",
    "import scipy\n",
    "import seaborn as sns"
   ]
  },
  {
   "cell_type": "code",
   "execution_count": 2,
   "id": "e0b23fce",
   "metadata": {
    "scrolled": true
   },
   "outputs": [],
   "source": [
    "Path=\"/home/mgander/moscot-framework_reproducibility/data/mouse_temporal\"\n",
    "ts=['E3.5', 'E4.5', 'E5.25', 'E5.5', 'E6.25', 'E6.5', 'E6.75', 'E7.0', 'E7.25', 'E7.5', 'E7.75', 'E8.0', 'E8.25', 'E8.5a', 'E8.5b', 'E9.5', 'E10.5', 'E11.5', 'E12.5', 'E13.5']\n",
    "\n",
    "cells=[32, 80, 100, 120, 400, 660, 1720, 4500, 8200, 15000, 30000, 60000, 73000, 90000, 90000, 200000, 1100000, 2600000, 6000000, 13000000]\n",
    "Cell_number_dict={}\n",
    "for i in range(20):\n",
    "    Cell_number_dict[ts[i]]=cells[i]"
   ]
  },
  {
   "cell_type": "markdown",
   "id": "00bd05b6",
   "metadata": {},
   "source": [
    "# Saving adata.obs"
   ]
  },
  {
   "cell_type": "code",
   "execution_count": null,
   "id": "6ad78a97",
   "metadata": {},
   "outputs": [],
   "source": [
    "# I need the cell type annotation to know which cells to filter out when calculating growth rates for cl-TOME"
   ]
  },
  {
   "cell_type": "code",
   "execution_count": 5,
   "id": "1ffd0253",
   "metadata": {
    "scrolled": true
   },
   "outputs": [
    {
     "name": "stdout",
     "output_type": "stream",
     "text": [
      "E3.5\n",
      "WARNING: Your filename has more than two extensions: ['.5_E4', '.5', '.h5ad'].\n",
      "Only considering the two last: ['.5', '.h5ad'].\n",
      "WARNING: Your filename has more than two extensions: ['.5_E4', '.5', '.h5ad'].\n",
      "Only considering the two last: ['.5', '.h5ad'].\n",
      "E4.5\n",
      "WARNING: Your filename has more than two extensions: ['.5_E5', '.25', '.h5ad'].\n",
      "Only considering the two last: ['.25', '.h5ad'].\n",
      "WARNING: Your filename has more than two extensions: ['.5_E5', '.25', '.h5ad'].\n",
      "Only considering the two last: ['.25', '.h5ad'].\n",
      "E5.25\n",
      "WARNING: Your filename has more than two extensions: ['.25_E5', '.5', '.h5ad'].\n",
      "Only considering the two last: ['.5', '.h5ad'].\n",
      "WARNING: Your filename has more than two extensions: ['.25_E5', '.5', '.h5ad'].\n",
      "Only considering the two last: ['.5', '.h5ad'].\n",
      "E5.5\n",
      "WARNING: Your filename has more than two extensions: ['.5_E6', '.25', '.h5ad'].\n",
      "Only considering the two last: ['.25', '.h5ad'].\n",
      "WARNING: Your filename has more than two extensions: ['.5_E6', '.25', '.h5ad'].\n",
      "Only considering the two last: ['.25', '.h5ad'].\n",
      "E6.25\n",
      "WARNING: Your filename has more than two extensions: ['.25_E6', '.5', '.h5ad'].\n",
      "Only considering the two last: ['.5', '.h5ad'].\n",
      "WARNING: Your filename has more than two extensions: ['.25_E6', '.5', '.h5ad'].\n",
      "Only considering the two last: ['.5', '.h5ad'].\n",
      "E6.5\n",
      "WARNING: Your filename has more than two extensions: ['.5_E6', '.75', '.h5ad'].\n",
      "Only considering the two last: ['.75', '.h5ad'].\n",
      "WARNING: Your filename has more than two extensions: ['.5_E6', '.75', '.h5ad'].\n",
      "Only considering the two last: ['.75', '.h5ad'].\n",
      "E6.75\n",
      "WARNING: Your filename has more than two extensions: ['.75_E7', '.0', '.h5ad'].\n",
      "Only considering the two last: ['.0', '.h5ad'].\n",
      "WARNING: Your filename has more than two extensions: ['.75_E7', '.0', '.h5ad'].\n",
      "Only considering the two last: ['.0', '.h5ad'].\n",
      "E7.0\n",
      "WARNING: Your filename has more than two extensions: ['.0_E7', '.25', '.h5ad'].\n",
      "Only considering the two last: ['.25', '.h5ad'].\n",
      "WARNING: Your filename has more than two extensions: ['.0_E7', '.25', '.h5ad'].\n",
      "Only considering the two last: ['.25', '.h5ad'].\n",
      "E7.25\n",
      "WARNING: Your filename has more than two extensions: ['.25_E7', '.5', '.h5ad'].\n",
      "Only considering the two last: ['.5', '.h5ad'].\n",
      "WARNING: Your filename has more than two extensions: ['.25_E7', '.5', '.h5ad'].\n",
      "Only considering the two last: ['.5', '.h5ad'].\n",
      "E7.5\n",
      "WARNING: Your filename has more than two extensions: ['.5_E7', '.75', '.h5ad'].\n",
      "Only considering the two last: ['.75', '.h5ad'].\n",
      "WARNING: Your filename has more than two extensions: ['.5_E7', '.75', '.h5ad'].\n",
      "Only considering the two last: ['.75', '.h5ad'].\n",
      "E7.75\n",
      "WARNING: Your filename has more than two extensions: ['.75_E8', '.0', '.h5ad'].\n",
      "Only considering the two last: ['.0', '.h5ad'].\n",
      "WARNING: Your filename has more than two extensions: ['.75_E8', '.0', '.h5ad'].\n",
      "Only considering the two last: ['.0', '.h5ad'].\n",
      "E8.0\n",
      "WARNING: Your filename has more than two extensions: ['.0_E8', '.25', '.h5ad'].\n",
      "Only considering the two last: ['.25', '.h5ad'].\n",
      "WARNING: Your filename has more than two extensions: ['.0_E8', '.25', '.h5ad'].\n",
      "Only considering the two last: ['.25', '.h5ad'].\n",
      "E8.25\n",
      "WARNING: Your filename has more than two extensions: ['.25_E8', '.5a', '.h5ad'].\n",
      "Only considering the two last: ['.5a', '.h5ad'].\n",
      "WARNING: Your filename has more than two extensions: ['.25_E8', '.5a', '.h5ad'].\n",
      "Only considering the two last: ['.5a', '.h5ad'].\n",
      "E8.5a\n",
      "WARNING: Your filename has more than two extensions: ['.5a_E8', '.5b', '.h5ad'].\n",
      "Only considering the two last: ['.5b', '.h5ad'].\n",
      "WARNING: Your filename has more than two extensions: ['.5a_E8', '.5b', '.h5ad'].\n",
      "Only considering the two last: ['.5b', '.h5ad'].\n",
      "E8.5b\n",
      "WARNING: Your filename has more than two extensions: ['.5b_E9', '.5', '.h5ad'].\n",
      "Only considering the two last: ['.5', '.h5ad'].\n",
      "WARNING: Your filename has more than two extensions: ['.5b_E9', '.5', '.h5ad'].\n",
      "Only considering the two last: ['.5', '.h5ad'].\n",
      "E9.5\n",
      "WARNING: Your filename has more than two extensions: ['.5_E10', '.5', '.h5ad'].\n",
      "Only considering the two last: ['.5', '.h5ad'].\n",
      "WARNING: Your filename has more than two extensions: ['.5_E10', '.5', '.h5ad'].\n",
      "Only considering the two last: ['.5', '.h5ad'].\n",
      "E10.5\n",
      "WARNING: Your filename has more than two extensions: ['.5_E11', '.5', '.h5ad'].\n",
      "Only considering the two last: ['.5', '.h5ad'].\n",
      "WARNING: Your filename has more than two extensions: ['.5_E11', '.5', '.h5ad'].\n",
      "Only considering the two last: ['.5', '.h5ad'].\n",
      "E11.5\n",
      "WARNING: Your filename has more than two extensions: ['.5_E12', '.5', '.h5ad'].\n",
      "Only considering the two last: ['.5', '.h5ad'].\n",
      "WARNING: Your filename has more than two extensions: ['.5_E12', '.5', '.h5ad'].\n",
      "Only considering the two last: ['.5', '.h5ad'].\n",
      "E12.5\n",
      "WARNING: Your filename has more than two extensions: ['.5_E13', '.5', '.h5ad'].\n",
      "Only considering the two last: ['.5', '.h5ad'].\n",
      "WARNING: Your filename has more than two extensions: ['.5_E13', '.5', '.h5ad'].\n",
      "Only considering the two last: ['.5', '.h5ad'].\n"
     ]
    }
   ],
   "source": [
    "for i in range(19):\n",
    "    ts0=ts[i]\n",
    "    ts1=ts[i+1]\n",
    "    print(ts0)\n",
    "    \n",
    "    adata=sc.read(f\"{Path}/anndatas/Comb_anndatas/adata_{ts0}_{ts1}.h5ad\")\n",
    "    obs=adata.obs\n",
    "    A0_obs=obs[obs['day']==min(set(obs['day']))]\n",
    "    A1_obs=obs[obs['day']==max(set(obs['day']))]\n",
    "    A0_obs.to_pickle(f'{Path}/moscot_maps/obs/{ts0}_A0_obs.pkl')\n",
    "    A1_obs.to_pickle(f'{Path}/moscot_maps/obs/{ts0}_A1_obs.pkl')"
   ]
  },
  {
   "cell_type": "code",
   "execution_count": null,
   "id": "a8497330",
   "metadata": {},
   "outputs": [],
   "source": []
  },
  {
   "cell_type": "code",
   "execution_count": null,
   "id": "b0d34887",
   "metadata": {},
   "outputs": [],
   "source": []
  },
  {
   "cell_type": "code",
   "execution_count": null,
   "id": "a871ab88",
   "metadata": {},
   "outputs": [],
   "source": []
  },
  {
   "cell_type": "code",
   "execution_count": null,
   "id": "21e287e3",
   "metadata": {},
   "outputs": [],
   "source": []
  }
 ],
 "metadata": {
  "kernelspec": {
   "display_name": "mc",
   "language": "python",
   "name": "mc"
  },
  "language_info": {
   "codemirror_mode": {
    "name": "ipython",
    "version": 3
   },
   "file_extension": ".py",
   "mimetype": "text/x-python",
   "name": "python",
   "nbconvert_exporter": "python",
   "pygments_lexer": "ipython3",
   "version": "3.10.9"
  }
 },
 "nbformat": 4,
 "nbformat_minor": 5
}
