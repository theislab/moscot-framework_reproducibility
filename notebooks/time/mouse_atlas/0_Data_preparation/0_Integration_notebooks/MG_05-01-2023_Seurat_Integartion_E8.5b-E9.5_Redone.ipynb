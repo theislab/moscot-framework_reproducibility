{
 "cells": [
  {
   "cell_type": "markdown",
   "id": "408565b3",
   "metadata": {},
   "source": [
    "# Seurat integration - choosing more hvgs"
   ]
  },
  {
   "cell_type": "markdown",
   "id": "c04bd89b",
   "metadata": {},
   "source": [
    "I had to redo the integration for E8.5b to E9.5 since the first integration clustered Allantois and Neural crest on top of each other. By increasing the amount of highly variable genes from 2000 (default) to 3000, the integration yielded a much better result."
   ]
  },
  {
   "cell_type": "markdown",
   "id": "316b9283",
   "metadata": {},
   "source": [
    " "
   ]
  },
  {
   "cell_type": "markdown",
   "id": "63344b69",
   "metadata": {},
   "source": [
    "The following code is used to obtain the same representation as Qiu.\n",
    "The code correponds to the code on github `ChengxiangQiu/tome_code/Section2_trajectory_Step1_connection.R` and \n",
    "`ChengxiangQiu/tome_code/help_code/help_code.R`\n",
    "Qiu et al. used Seurat V3 in TOME, therefore Seurat V3 is used here as well.\n",
    "\n",
    "#### seurat_object_XXX.rds can be downloaded from https://tome.gs.washington.edu/"
   ]
  },
  {
   "cell_type": "markdown",
   "id": "a2c39c72",
   "metadata": {},
   "source": [
    "## Import packages"
   ]
  },
  {
   "cell_type": "code",
   "execution_count": 1,
   "id": "20796bfa",
   "metadata": {},
   "outputs": [],
   "source": [
    "library(Seurat)\n",
    "library(future)\n",
    "library(future.apply)"
   ]
  },
  {
   "cell_type": "code",
   "execution_count": 2,
   "id": "280b67f5",
   "metadata": {
    "scrolled": true
   },
   "outputs": [
    {
     "data": {
      "text/plain": [
       "R version 4.1.3 (2022-03-10)\n",
       "Platform: x86_64-conda-linux-gnu (64-bit)\n",
       "Running under: CentOS Linux 7 (Core)\n",
       "\n",
       "Matrix products: default\n",
       "BLAS/LAPACK: /home/icb/manuel.gander/miniconda3/envs/seurat4/lib/libopenblasp-r0.3.20.so\n",
       "\n",
       "locale:\n",
       " [1] LC_CTYPE=en_US.UTF-8       LC_NUMERIC=C              \n",
       " [3] LC_TIME=de_DE.UTF-8        LC_COLLATE=en_US.UTF-8    \n",
       " [5] LC_MONETARY=de_DE.UTF-8    LC_MESSAGES=en_US.UTF-8   \n",
       " [7] LC_PAPER=de_DE.UTF-8       LC_NAME=C                 \n",
       " [9] LC_ADDRESS=C               LC_TELEPHONE=C            \n",
       "[11] LC_MEASUREMENT=de_DE.UTF-8 LC_IDENTIFICATION=C       \n",
       "\n",
       "attached base packages:\n",
       "[1] stats     graphics  grDevices utils     datasets  methods   base     \n",
       "\n",
       "other attached packages:\n",
       "[1] future.apply_1.9.0 future_1.26.1      Seurat_3.1.4      \n",
       "\n",
       "loaded via a namespace (and not attached):\n",
       "  [1] tsne_0.1-3.1        nlme_3.1-157        matrixStats_0.62.0 \n",
       "  [4] RcppAnnoy_0.0.19    RColorBrewer_1.1-3  httr_1.4.3         \n",
       "  [7] repr_1.1.4          numDeriv_2016.8-1.1 sctransform_0.3.3  \n",
       " [10] tools_4.1.3         utf8_1.2.2          R6_2.5.1           \n",
       " [13] irlba_2.3.5         KernSmooth_2.23-20  uwot_0.1.11        \n",
       " [16] lazyeval_0.2.2      BiocGenerics_0.40.0 colorspace_2.0-3   \n",
       " [19] sn_2.0.2            gridExtra_2.3       tidyselect_1.1.2   \n",
       " [22] mnormt_2.0.2        compiler_4.1.3      cli_3.3.0          \n",
       " [25] Biobase_2.54.0      TFisher_0.2.0       plotly_4.10.0      \n",
       " [28] sandwich_3.0-1      scales_1.2.0        lmtest_0.9-40      \n",
       " [31] mvtnorm_1.1-3       pbapply_1.5-0       ggridges_0.5.3     \n",
       " [34] stringr_1.4.0       pbdZMQ_0.3-7        digest_0.6.29      \n",
       " [37] base64enc_0.1-3     pkgconfig_2.0.3     htmltools_0.5.2    \n",
       " [40] parallelly_1.31.1   plotrix_3.8-2       fastmap_1.1.0      \n",
       " [43] htmlwidgets_1.5.4   rlang_1.0.2         generics_0.1.2     \n",
       " [46] zoo_1.8-10          jsonlite_1.8.0      ica_1.0-2          \n",
       " [49] dplyr_1.0.9         magrittr_2.0.3      patchwork_1.1.1    \n",
       " [52] Matrix_1.4-1        Rcpp_1.0.8.3        IRkernel_1.3.0.9000\n",
       " [55] munsell_0.5.0       fansi_1.0.3         ape_5.6-2          \n",
       " [58] reticulate_1.25     lifecycle_1.0.1     stringi_1.7.6      \n",
       " [61] multcomp_1.4-19     mathjaxr_1.6-0      MASS_7.3-57        \n",
       " [64] Rtsne_0.16          plyr_1.8.7          grid_4.1.3         \n",
       " [67] parallel_4.1.3      listenv_0.8.0       ggrepel_0.9.1      \n",
       " [70] crayon_1.5.1        lattice_0.20-45     IRdisplay_1.1      \n",
       " [73] cowplot_1.1.1       splines_4.1.3       multtest_2.50.0    \n",
       " [76] tmvnsim_1.0-2       qqconf_1.2.3        pillar_1.7.0       \n",
       " [79] igraph_1.3.1        uuid_1.1-0          reshape2_1.4.4     \n",
       " [82] codetools_0.2-18    stats4_4.1.3        leiden_0.4.2       \n",
       " [85] mutoss_0.1-12       glue_1.6.2          evaluate_0.15      \n",
       " [88] metap_1.8           data.table_1.14.2   png_0.1-7          \n",
       " [91] vctrs_0.4.1         Rdpack_2.3          tidyr_1.2.0        \n",
       " [94] gtable_0.3.0        RANN_2.6.1          purrr_0.3.4        \n",
       " [97] ggplot2_3.3.6       rsvd_1.0.5          rbibutils_2.2.8    \n",
       "[100] viridisLite_0.4.0   survival_3.3-1      tibble_3.1.7       \n",
       "[103] cluster_2.1.3       globals_0.15.0      fitdistrplus_1.1-8 \n",
       "[106] TH.data_1.1-1       ellipsis_0.3.2      ROCR_1.0-11        "
      ]
     },
     "metadata": {},
     "output_type": "display_data"
    }
   ],
   "source": [
    "sessionInfo()"
   ]
  },
  {
   "cell_type": "code",
   "execution_count": 3,
   "id": "a7f9e4ec",
   "metadata": {},
   "outputs": [],
   "source": [
    "file_path='/home/mgander/moscot-framework_reproducibility/data/mouse_temporal/RDS'\n",
    "\n",
    "work_path = \"/home/mgander/moscot-framework_reproducibility/data/mouse_temporal/Seurat_Representations\"\n",
    "\n",
    "time_point = paste0(\"E\", c(3.5, 4.5, 5.25, 5.5, 6.25, seq(6.5, 8.25, 0.25), \"8.5a\", \"8.5b\", seq(9.5, 13.5, 1)))"
   ]
  },
  {
   "cell_type": "code",
   "execution_count": 4,
   "id": "97ba5a4b",
   "metadata": {},
   "outputs": [],
   "source": [
    "###############################################\n",
    "### Function: doing clustering using Seurat ###\n",
    "###############################################\n",
    "\n",
    "doClusterSeurat <- function(obj, nfeatures = 2500, resolution = 1, k.filter = 200, savePath = NULL, correctCC = FALSE, n_dim = 30, min.dist = 0.75){\n",
    "    \n",
    "    if(length(table(obj$group))!=1){\n",
    "        \n",
    "        obj.list <- SplitObject(object = obj, split.by = \"group\")\n",
    "        \n",
    "        for (i in 1:length(x = obj.list)) {\n",
    "            obj.list[[i]] <- NormalizeData(object = obj.list[[i]], verbose = FALSE)\n",
    "            obj.list[[i]] <- FindVariableFeatures(object = obj.list[[i]], \n",
    "                                                  selection.method = \"vst\", nfeatures = nfeatures, verbose = FALSE)\n",
    "        }\n",
    "        \n",
    "        reference.list <- obj.list[names(table(obj$group))]\n",
    "        obj.anchors <- FindIntegrationAnchors(object.list = reference.list, dims = 1:n_dim, k.filter = k.filter)\n",
    "        obj.integrated <- IntegrateData(anchorset = obj.anchors, dims = 1:n_dim)\n",
    "        \n",
    "        # switch to integrated assay. The variable features of this assay are\n",
    "        # automatically set during IntegrateData\n",
    "        DefaultAssay(object = obj.integrated) <- \"integrated\"\n",
    "        \n",
    "        obj <- obj.integrated \n",
    "        \n",
    "    } else {\n",
    "        \n",
    "        obj <- NormalizeData(obj, normalization.method = \"LogNormalize\", scale.factor = 10000)\n",
    "        obj <- FindVariableFeatures(obj, selection.method = \"vst\", nfeatures = nfeatures)\n",
    "        \n",
    "    }\n",
    "    \n",
    "    if(correctCC == TRUE){\n",
    "        obj <- ScaleData(object = obj, vars.to.regress = c(\"S.Score\", \"G2M.Score\"), features = rownames(obj), verbose = FALSE)\n",
    "    } else {\n",
    "        obj <- ScaleData(object = obj, verbose = FALSE)\n",
    "    }\n",
    "    \n",
    "    obj <- RunPCA(object = obj, npcs = n_dim, verbose = FALSE)\n",
    "    obj <- FindNeighbors(object = obj, dims = 1:n_dim)\n",
    "    obj <- FindClusters(object = obj, resolution = resolution)\n",
    "    obj <- RunUMAP(object = obj, reduction = \"pca\", dims = 1:n_dim, min.dist = min.dist)\n",
    "    obj <- RunTSNE(object = obj, reduction = \"pca\", dims = 1:30)\n",
    "    \n",
    "    obj\n",
    "}"
   ]
  },
  {
   "cell_type": "markdown",
   "id": "9804307c",
   "metadata": {},
   "source": [
    "# Calcualtion for time pair E8.5b to E9.5"
   ]
  },
  {
   "cell_type": "markdown",
   "id": "f35b14eb",
   "metadata": {},
   "source": [
    "This code is an exact copy of the code in https://github.com/ChengxiangQiu/tome_code, except for the amount of anchors used when filtering anchors. I had to adjust these due to error messages, likely due to the fact that I'm using different package versions then Qiu et al."
   ]
  },
  {
   "cell_type": "code",
   "execution_count": 5,
   "id": "03ff03ae",
   "metadata": {},
   "outputs": [
    {
     "name": "stdout",
     "output_type": "stream",
     "text": [
      "[1] \"E8.5b\"\n"
     ]
    }
   ],
   "source": [
    "i=15\n",
    "time_1=time_point[i]\n",
    "print(time_1)\n",
    "time_2=time_point[i+1]"
   ]
  },
  {
   "cell_type": "code",
   "execution_count": null,
   "id": "bf057768",
   "metadata": {
    "scrolled": true
   },
   "outputs": [
    {
     "name": "stderr",
     "output_type": "stream",
     "text": [
      "Warning message:\n",
      "“UNRELIABLE VALUE: One of the ‘future.apply’ iterations (‘future_lapply-1’) unexpectedly generated random numbers without declaring so. There is a risk that those random numbers are not statistically sound and the overall results might be invalid. To fix this, specify 'future.seed=TRUE'. This ensures that proper, parallel-safe random numbers are produced via the L'Ecuyer-CMRG method. To disable this check, use 'future.seed = NULL', or set option 'future.rng.onMisuse' to \"ignore\".”\n",
      "Computing 3000 integration features\n",
      "\n",
      "Scaling features for provided objects\n",
      "\n",
      "Computing within dataset neighborhoods\n",
      "\n"
     ]
    }
   ],
   "source": [
    "if (time_2=='E7')\n",
    "    {time_2='E7.0'}\n",
    "if (time_1=='E7')\n",
    "    {time_1='E7.0'}\n",
    "\n",
    "obj_1 = readRDS(paste0(file_path, \"/seurat_object_\", time_1, \".rds\"))\n",
    "obj_1$group = paste0(time_1, \"_\", obj_1$group)\n",
    "obj_2 = readRDS(paste0(file_path, \"/seurat_object_\", time_2, \".rds\"))\n",
    "obj_2$group = paste0(time_2, \"_\", obj_2$group)\n",
    "obj = merge(obj_1, obj_2)\n",
    "\n",
    "\n",
    "if(!time_2 %in% paste0(\"E\", c(\"8.5b\", \"9.5\", \"10.5\", \"11.5\", \"12.5\", \"13.5\"))){\n",
    "\n",
    "    ### These lines where not present in the TOME-code \n",
    "    ### (https://github.com/ChengxiangQiu/tome_code/blob/main/Section2_trajectory_Step1_connection.R)\n",
    "    ### However, I encountered errors (if k.filter is bigger than the number of cells in a batch), that is\n",
    "    ### why I had to use less cells as neighbors when filtering anchors\n",
    "    if (i %in% c(1,  2, 3)){\n",
    "        k.filter=50}\n",
    "    else if (i %in% c(4,5,6)){\n",
    "        k.filter=100}\n",
    "    else {\n",
    "        k.filter=200\n",
    "    }\n",
    "\n",
    "    obj.integrated = doClusterSeurat(obj, k.filter=k.filter)\n",
    "\n",
    "} else {\n",
    "\n",
    "    obj.list <- SplitObject(obj, split.by = \"group\")\n",
    "    obj.list <- future_lapply(X = obj.list, FUN = function(x) {\n",
    "        x <- NormalizeData(x, verbose = FALSE)\n",
    "        x <- FindVariableFeatures(x, verbose = FALSE)\n",
    "    })\n",
    "    \n",
    "    ### Neural crest integrated really badly for Qiu et al. parameters + my package versions.\n",
    "    ### In order to get a good integration, more features are taken here (default is 2000)\n",
    "    features <- SelectIntegrationFeatures(object.list = obj.list, nfeatures = 3000)\n",
    "    \n",
    "    obj.list <- future_lapply(X = obj.list, FUN = function(x) {\n",
    "        x <- ScaleData(x, features = features, verbose = FALSE)\n",
    "        x <- RunPCA(x, features = features, verbose = FALSE)\n",
    "    })\n",
    "    \n",
    "    ### I had to add anchor.features = 3000 here so that it takes 3k features both times\n",
    "    anchors <- FindIntegrationAnchors(object.list = obj.list, reduction = \"rpca\", \n",
    "                                      dims = 1:50, anchor.features = 3000)\n",
    "    obj.integrated <- IntegrateData(anchorset = anchors, dims = 1:50)\n",
    "\n",
    "    obj.integrated <- ScaleData(obj.integrated, verbose = FALSE)\n",
    "    obj.integrated <- RunPCA(obj.integrated, npcs = 30, verbose = FALSE)\n",
    "    obj.integrated <- RunUMAP(obj.integrated, dims = 1:30, n.components = 3, min.dist = 0.75)\n",
    "\n",
    "}\n",
    "\n",
    "# Save the 30-dim PCA space and the 2d-umap for later use in TOME and Moscot\n",
    "umap = data.frame(Embeddings(object = obj.integrated, reduction = \"umap\"))\n",
    "write.csv(x=umap, file=paste0(work_path, \"/\", time_1, \"_\", time_2, \"_umap3_new.csv\"))\n",
    "saveRDS(umap, file=paste0(work_path, \"/\", time_1, \"_\", time_2, \"_umap3_new.rds\"))\n",
    "\n",
    "pca = data.frame(Embeddings(object = obj.integrated, reduction = \"pca\"))\n",
    "write.csv(x=pca, file=paste0(work_path, \"/\", time_1, \"_\", time_2, \"_pca.csv\"))\n",
    "saveRDS(pca, file=paste0(work_path, \"/\", time_1, \"_\", time_2, \"_pca.rds\"))"
   ]
  },
  {
   "cell_type": "code",
   "execution_count": null,
   "id": "3fc57721",
   "metadata": {},
   "outputs": [],
   "source": []
  },
  {
   "cell_type": "code",
   "execution_count": null,
   "id": "d03d79f7",
   "metadata": {},
   "outputs": [],
   "source": []
  },
  {
   "cell_type": "code",
   "execution_count": null,
   "id": "858093c1",
   "metadata": {},
   "outputs": [],
   "source": []
  }
 ],
 "metadata": {
  "kernelspec": {
   "display_name": "R",
   "language": "python",
   "name": "r"
  },
  "language_info": {
   "codemirror_mode": {
    "name": "ipython",
    "version": 3
   },
   "file_extension": ".py",
   "mimetype": "text/x-python",
   "name": "python",
   "nbconvert_exporter": "python",
   "pygments_lexer": "ipython3",
   "version": "3.10.9"
  }
 },
 "nbformat": 4,
 "nbformat_minor": 5
}
