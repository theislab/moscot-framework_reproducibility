{
 "cells": [
  {
   "cell_type": "code",
   "execution_count": 1,
   "id": "bb6b358d",
   "metadata": {},
   "outputs": [],
   "source": [
    "import numpy as np\n",
    "import anndata\n",
    "import pandas as pd\n",
    "import scanpy as sc\n",
    "import scipy"
   ]
  },
  {
   "cell_type": "code",
   "execution_count": 2,
   "id": "56627b2f",
   "metadata": {},
   "outputs": [],
   "source": [
    "import os\n",
    "os.environ[\"JAX_PLATFORM_NAME\"] = \"cpu\""
   ]
  },
  {
   "cell_type": "code",
   "execution_count": 3,
   "id": "acf7b68a",
   "metadata": {},
   "outputs": [],
   "source": [
    "from moscot.problems.time._lineage import TemporalProblem"
   ]
  },
  {
   "cell_type": "code",
   "execution_count": null,
   "id": "a54b8539",
   "metadata": {},
   "outputs": [],
   "source": []
  },
  {
   "cell_type": "code",
   "execution_count": 4,
   "id": "1b40d78e",
   "metadata": {},
   "outputs": [],
   "source": [
    "Path=\"/home/mgander/mouse_atlas/data\"\n",
    "ts=['E3.5', 'E4.5', 'E5.25', 'E5.5', 'E6.25', 'E6.5', 'E6.75', 'E7.0', 'E7.25', 'E7.5', 'E7.75', 'E8.0', 'E8.25', 'E8.5a', 'E8.5b', 'E9.5', 'E10.5', 'E11.5', 'E12.5', 'E13.5']"
   ]
  },
  {
   "cell_type": "code",
   "execution_count": null,
   "id": "0d37857f",
   "metadata": {},
   "outputs": [],
   "source": []
  },
  {
   "cell_type": "code",
   "execution_count": null,
   "id": "d2bf029d",
   "metadata": {},
   "outputs": [],
   "source": [
    "for i in range(13):\n",
    "    ts0=ts[i]\n",
    "    ts1=ts[i+1]\n",
    "    print(f'{ts0}_{ts1}')\n",
    "\n",
    "    adata=sc.read(f\"{Path}/Comb_anndatas/adata_{ts0}_{ts1}.h5ad\")\n",
    "    del adata.raw\n",
    "    adata.obs['day']=adata.obs['day'].astype('category')\n",
    "    day0,day1=sorted(set(adata.obs['day']))\n",
    "    inds0=list(adata[adata.obs['day']==day0].obs.index)\n",
    "    inds1=list(adata[adata.obs['day']==day1].obs.index)\n",
    "    \n",
    "    \n",
    "    eps=0.005\n",
    "    tau1s=[0.99,0.98,0.99,0.92,0.95,0.9,0.3,0.65,0.9,0.82,0.93,0.97,0.96]\n",
    "    lam1s=[t*eps/(1-t) for t in tau1s]\n",
    "    lam2=100\n",
    "    lam1=lam1s[i]\n",
    "    tau1=lam1/(lam1+eps)\n",
    "    tau2=lam2/(lam2+eps)\n",
    "    \n",
    "    \n",
    "    tp=TemporalProblem(adata)\n",
    "    tp.score_genes_for_marginals(gene_set_proliferation='mouse',  gene_set_apoptosis='mouse')\n",
    "    tp = tp.prepare('day', joint_attr=f'X_pcaS')\n",
    "    result=tp.solve(batch_size=None, epsilon=eps, tau_a=tau1, tau_b=tau2, scale_cost=\"median\")\n",
    "    \n",
    "    tmap=result[(day0, day1)].solution.transport_matrix\n",
    "    T=pd.DataFrame(data=tmap, index=inds0, columns=inds1)\n",
    "    T=T/T.sum()\n",
    "    T.to_pickle(f'{Path}/moscot_maps/Ts/Transitions_{ts0}_{ts1}.pkl')"
   ]
  },
  {
   "cell_type": "code",
   "execution_count": null,
   "id": "2b2211c3",
   "metadata": {},
   "outputs": [],
   "source": []
  },
  {
   "cell_type": "code",
   "execution_count": null,
   "id": "933fb90c",
   "metadata": {},
   "outputs": [],
   "source": []
  },
  {
   "cell_type": "code",
   "execution_count": null,
   "id": "0f821a69",
   "metadata": {},
   "outputs": [],
   "source": []
  }
 ],
 "metadata": {
  "kernelspec": {
   "display_name": "phos",
   "language": "python",
   "name": "phos"
  },
  "language_info": {
   "codemirror_mode": {
    "name": "ipython",
    "version": 3
   },
   "file_extension": ".py",
   "mimetype": "text/x-python",
   "name": "python",
   "nbconvert_exporter": "python",
   "pygments_lexer": "ipython3",
   "version": "3.10.5"
  }
 },
 "nbformat": 4,
 "nbformat_minor": 5
}
