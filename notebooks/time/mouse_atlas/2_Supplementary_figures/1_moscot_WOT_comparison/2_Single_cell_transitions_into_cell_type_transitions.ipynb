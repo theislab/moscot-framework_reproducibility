{
 "cells": [
  {
   "cell_type": "code",
   "execution_count": null,
   "id": "1faa2b9f",
   "metadata": {},
   "outputs": [],
   "source": [
    "import numpy as np\n",
    "import anndata\n",
    "import pandas as pd\n",
    "import scanpy as sc\n",
    "import scipy\n",
    "import seaborn as sns"
   ]
  },
  {
   "cell_type": "code",
   "execution_count": null,
   "id": "9d664c29",
   "metadata": {},
   "outputs": [],
   "source": [
    "Path=\"/home/mgander/mouse_atlas/data\"\n",
    "ts=['E3.5', 'E4.5', 'E5.25', 'E5.5', 'E6.25', 'E6.5', 'E6.75', 'E7.0', 'E7.25', 'E7.5', 'E7.75', 'E8.0', 'E8.25', 'E8.5a', 'E8.5b', 'E9.5', 'E10.5', 'E11.5', 'E12.5', 'E13.5']\n",
    "cells=[32, 80, 100, 120, 400, 660, 1720, 4500, 8200, 15000, 30000, 60000, 73000, 90000, 90000, 200000, 1100000, 2600000, 6000000, 13000000]\n",
    "Cell_number_dict={}\n",
    "for i in range(20):\n",
    "    Cell_number_dict[ts[i]]=cells[i]"
   ]
  },
  {
   "cell_type": "code",
   "execution_count": null,
   "id": "2bdd41fd",
   "metadata": {},
   "outputs": [],
   "source": [
    "def single_cell_to_cell_type_transitions(ts0, ts1, method):\n",
    "    adata=sc.read(f\"{Path}/Comb_anndatas/adata_{ts0}_{ts1}.h5ad\")\n",
    "    del adata.raw\n",
    "    day0,day1=sorted(set(adata.obs['day']))\n",
    "\n",
    "    a0=adata[adata.obs['day']==day0].copy()\n",
    "    a1=adata[adata.obs['day']==day1].copy()\n",
    "\n",
    "    T=pd.read_pickle(f'{Path}/{method}_maps/Ts/Transitions_{ts0}_{ts1}.pkl')\n",
    "\n",
    "    # Compute cell type transitions\n",
    "\n",
    "    # First normalize w.r.t. to right marginal (doesn't really change much since we chose a huge tau2/lam2)\n",
    "    T=T/T.sum(0)\n",
    "\n",
    "    # Loop through cell types and sum up the wight of each submatrix\n",
    "    cellstates0=sorted(set(a0.obs['cell_state']))\n",
    "    cellstates1=sorted(set(a1.obs['cell_state']))\n",
    "\n",
    "    CT=np.zeros((len(cellstates0), len(cellstates1)))\n",
    "\n",
    "    for j,c1 in enumerate(cellstates1):\n",
    "        inds1=list(a1[a1.obs['cell_state']==c1].obs.index)\n",
    "        T0=T[inds1].copy()\n",
    "\n",
    "\n",
    "        for i,c0 in enumerate(cellstates0):\n",
    "            inds0=list(a0[a0.obs['cell_state']==c0].obs.index)\n",
    "\n",
    "            CT[i,j]=T0.loc[inds0].sum().sum()\n",
    "    CT=pd.DataFrame(data=CT, index=cellstates0, columns=cellstates1)\n",
    "    CT.to_pickle(f'{Path}/{method}_maps/WOT_like_CTs/{ts0}_{ts1}_cell_type_transitions.pkl')"
   ]
  },
  {
   "cell_type": "code",
   "execution_count": null,
   "id": "99716769",
   "metadata": {},
   "outputs": [],
   "source": [
    "for i in range(13):\n",
    "    print(i)\n",
    "    ts0=ts[i]\n",
    "    ts1=ts[i+1]\n",
    "    single_cell_to_cell_type_transitions(ts0, ts1, method='moscot')\n",
    "    single_cell_to_cell_type_transitions(ts0, ts1, method='WOT')"
   ]
  },
  {
   "cell_type": "code",
   "execution_count": null,
   "id": "bea9447a",
   "metadata": {},
   "outputs": [],
   "source": []
  }
 ],
 "metadata": {
  "kernelspec": {
   "display_name": "phos",
   "language": "python",
   "name": "phos"
  },
  "language_info": {
   "codemirror_mode": {
    "name": "ipython",
    "version": 3
   },
   "file_extension": ".py",
   "mimetype": "text/x-python",
   "name": "python",
   "nbconvert_exporter": "python",
   "pygments_lexer": "ipython3",
   "version": "3.10.5"
  }
 },
 "nbformat": 4,
 "nbformat_minor": 5
}
