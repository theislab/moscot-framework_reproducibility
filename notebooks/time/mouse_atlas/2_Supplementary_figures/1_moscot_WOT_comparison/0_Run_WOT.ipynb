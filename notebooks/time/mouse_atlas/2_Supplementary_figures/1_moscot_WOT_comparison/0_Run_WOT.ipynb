{
 "cells": [
  {
   "cell_type": "code",
   "execution_count": 2,
   "id": "bd40b4d4",
   "metadata": {},
   "outputs": [],
   "source": [
    "import wot\n",
    "import numpy as np\n",
    "import anndata\n",
    "import pandas as pd\n",
    "import scanpy as sc\n",
    "import scipy"
   ]
  },
  {
   "cell_type": "code",
   "execution_count": 3,
   "id": "923f486a",
   "metadata": {},
   "outputs": [
    {
     "name": "stderr",
     "output_type": "stream",
     "text": [
      "/home/mgander/miniconda3/envs/mc/lib/python3.10/site-packages/flax/struct.py:132: FutureWarning: jax.tree_util.register_keypaths is deprecated, and will be removed in a future release. Please use `register_pytree_with_keys()` instead.\n",
      "  jax.tree_util.register_keypaths(data_clz, keypaths)\n",
      "/home/mgander/miniconda3/envs/mc/lib/python3.10/site-packages/flax/struct.py:132: FutureWarning: jax.tree_util.register_keypaths is deprecated, and will be removed in a future release. Please use `register_pytree_with_keys()` instead.\n",
      "  jax.tree_util.register_keypaths(data_clz, keypaths)\n",
      "/home/mgander/miniconda3/envs/mc/lib/python3.10/site-packages/docrep/decorators.py:43: SyntaxWarning: 'interpolation_parameters' is not a valid key!\n",
      "  doc = func(self, args[0].__doc__, *args[1:], **kwargs)\n",
      "/home/mgander/miniconda3/envs/mc/lib/python3.10/site-packages/docrep/decorators.py:43: SyntaxWarning: 'account_for_unbalancedness' is not a valid key!\n",
      "  doc = func(self, args[0].__doc__, *args[1:], **kwargs)\n",
      "/home/mgander/miniconda3/envs/mc/lib/python3.10/site-packages/docrep/decorators.py:43: SyntaxWarning: 'batch_size' is not a valid key!\n",
      "  doc = func(self, args[0].__doc__, *args[1:], **kwargs)\n",
      "/home/mgander/miniconda3/envs/mc/lib/python3.10/site-packages/docrep/decorators.py:43: SyntaxWarning: 'seed_interpolation' is not a valid key!\n",
      "  doc = func(self, args[0].__doc__, *args[1:], **kwargs)\n"
     ]
    }
   ],
   "source": [
    "# We only need moscot here to calculate the initial growth rates\n",
    "from moscot.problems.time._lineage import TemporalProblem"
   ]
  },
  {
   "cell_type": "code",
   "execution_count": 4,
   "id": "6247344a",
   "metadata": {},
   "outputs": [],
   "source": [
    "def compute_initial_growth_rates(adata):\n",
    "    # Get prior growth rates\n",
    "    tp=TemporalProblem(adata)\n",
    "    tp=tp.score_genes_for_marginals(gene_set_proliferation='mouse',  gene_set_apoptosis='mouse')\n",
    "    tp = tp.prepare('day', joint_attr=f'X_pcaS')\n",
    "    gr=tp.prior_growth_rates.loc[adata.obs.index]['prior_growth_rates'].values\n",
    "    return(gr)"
   ]
  },
  {
   "cell_type": "code",
   "execution_count": null,
   "id": "43733a00",
   "metadata": {},
   "outputs": [],
   "source": []
  },
  {
   "cell_type": "code",
   "execution_count": null,
   "id": "0fa66030",
   "metadata": {},
   "outputs": [],
   "source": []
  },
  {
   "cell_type": "code",
   "execution_count": 5,
   "id": "039b4472",
   "metadata": {},
   "outputs": [],
   "source": [
    "Path=\"/home/mgander/mouse_atlas/data\"\n",
    "ts=['E3.5', 'E4.5', 'E5.25', 'E5.5', 'E6.25', 'E6.5', 'E6.75', 'E7.0', 'E7.25', 'E7.5', 'E7.75', 'E8.0', 'E8.25', 'E8.5a', 'E8.5b', 'E9.5', 'E10.5', 'E11.5', 'E12.5', 'E13.5']"
   ]
  },
  {
   "cell_type": "markdown",
   "id": "acb3b4d6",
   "metadata": {},
   "source": [
    "# This computes the WOT maps"
   ]
  },
  {
   "cell_type": "code",
   "execution_count": null,
   "id": "7c7d661c",
   "metadata": {
    "scrolled": true
   },
   "outputs": [
    {
     "name": "stdout",
     "output_type": "stream",
     "text": [
      "E3.5_E4.5\n",
      "WARNING: Your filename has more than two extensions: ['.5_E4', '.5', '.h5ad'].\n",
      "Only considering the two last: ['.5', '.h5ad'].\n",
      "WARNING: Your filename has more than two extensions: ['.5_E4', '.5', '.h5ad'].\n",
      "Only considering the two last: ['.5', '.h5ad'].\n",
      "WARNING: genes are not in var_names and ignored: ['Hn1', 'Mlf1ip', 'Fam64a']\n",
      "WARNING: genes are not in var_names and ignored: ['Adck3', 'Ikbkap', 'H2afj', 'Lrmp', 'Gnb2l1', 'Hist3h2a', 'Hist1h1c']\n"
     ]
    },
    {
     "name": "stderr",
     "output_type": "stream",
     "text": [
      "/home/mgander/miniconda3/envs/mc/lib/python3.10/site-packages/wot/ot/optimal_transport.py:160: RuntimeWarning: invalid value encountered in double_scalars\n",
      "  np.linalg.norm(_b - old_b * np.exp(v / epsilon_i)) / (1 + np.linalg.norm(_b)))\n",
      "/home/mgander/miniconda3/envs/mc/lib/python3.10/site-packages/wot/ot/optimal_transport.py:148: RuntimeWarning: overflow encountered in exp\n",
      "  _a = a * np.exp(u / epsilon_i)\n",
      "/home/mgander/miniconda3/envs/mc/lib/python3.10/site-packages/wot/ot/optimal_transport.py:149: RuntimeWarning: overflow encountered in exp\n",
      "  _b = b * np.exp(v / epsilon_i)\n"
     ]
    },
    {
     "name": "stdout",
     "output_type": "stream",
     "text": [
      "E4.5_E5.25\n",
      "WARNING: Your filename has more than two extensions: ['.5_E5', '.25', '.h5ad'].\n",
      "Only considering the two last: ['.25', '.h5ad'].\n",
      "WARNING: Your filename has more than two extensions: ['.5_E5', '.25', '.h5ad'].\n",
      "Only considering the two last: ['.25', '.h5ad'].\n",
      "WARNING: genes are not in var_names and ignored: ['Hn1', 'Mlf1ip', 'Fam64a']\n",
      "WARNING: genes are not in var_names and ignored: ['Adck3', 'Ikbkap', 'H2afj', 'Lrmp', 'Gnb2l1', 'Hist3h2a', 'Hist1h1c']\n"
     ]
    },
    {
     "name": "stderr",
     "output_type": "stream",
     "text": [
      "/home/mgander/miniconda3/envs/mc/lib/python3.10/site-packages/wot/ot/optimal_transport.py:160: RuntimeWarning: invalid value encountered in double_scalars\n",
      "  np.linalg.norm(_b - old_b * np.exp(v / epsilon_i)) / (1 + np.linalg.norm(_b)))\n",
      "/home/mgander/miniconda3/envs/mc/lib/python3.10/site-packages/wot/ot/optimal_transport.py:149: RuntimeWarning: overflow encountered in exp\n",
      "  _b = b * np.exp(v / epsilon_i)\n"
     ]
    },
    {
     "name": "stdout",
     "output_type": "stream",
     "text": [
      "E5.25_E5.5\n",
      "WARNING: Your filename has more than two extensions: ['.25_E5', '.5', '.h5ad'].\n",
      "Only considering the two last: ['.5', '.h5ad'].\n",
      "WARNING: Your filename has more than two extensions: ['.25_E5', '.5', '.h5ad'].\n",
      "Only considering the two last: ['.5', '.h5ad'].\n",
      "WARNING: genes are not in var_names and ignored: ['Hn1', 'Mlf1ip', 'Fam64a']\n",
      "WARNING: genes are not in var_names and ignored: ['Adck3', 'Ikbkap', 'H2afj', 'Lrmp', 'Gnb2l1', 'Hist3h2a', 'Hist1h1c']\n",
      "E5.5_E6.25\n",
      "WARNING: Your filename has more than two extensions: ['.5_E6', '.25', '.h5ad'].\n",
      "Only considering the two last: ['.25', '.h5ad'].\n",
      "WARNING: Your filename has more than two extensions: ['.5_E6', '.25', '.h5ad'].\n",
      "Only considering the two last: ['.25', '.h5ad'].\n",
      "WARNING: genes are not in var_names and ignored: ['Hn1', 'Mlf1ip', 'Fam64a']\n",
      "WARNING: genes are not in var_names and ignored: ['Adck3', 'Ikbkap', 'H2afj', 'Lrmp', 'Gnb2l1', 'Hist3h2a', 'Hist1h1c']\n",
      "E6.25_E6.5\n",
      "WARNING: Your filename has more than two extensions: ['.25_E6', '.5', '.h5ad'].\n",
      "Only considering the two last: ['.5', '.h5ad'].\n",
      "WARNING: Your filename has more than two extensions: ['.25_E6', '.5', '.h5ad'].\n",
      "Only considering the two last: ['.5', '.h5ad'].\n",
      "WARNING: genes are not in var_names and ignored: ['Hn1', 'Mlf1ip', 'Fam64a']\n",
      "WARNING: genes are not in var_names and ignored: ['Adck3', 'Ikbkap', 'H2afj', 'Lrmp', 'Gnb2l1', 'Hist3h2a', 'Hist1h1c']\n",
      "E6.5_E6.75\n",
      "WARNING: Your filename has more than two extensions: ['.5_E6', '.75', '.h5ad'].\n",
      "Only considering the two last: ['.75', '.h5ad'].\n",
      "WARNING: Your filename has more than two extensions: ['.5_E6', '.75', '.h5ad'].\n",
      "Only considering the two last: ['.75', '.h5ad'].\n",
      "WARNING: genes are not in var_names and ignored: ['Hn1', 'Mlf1ip', 'Fam64a']\n",
      "WARNING: genes are not in var_names and ignored: ['Adck3', 'Ikbkap', 'H2afj', 'Lrmp', 'Gnb2l1', 'Hist3h2a', 'Hist1h1c']\n",
      "E6.75_E7.0\n",
      "WARNING: Your filename has more than two extensions: ['.75_E7', '.0', '.h5ad'].\n",
      "Only considering the two last: ['.0', '.h5ad'].\n",
      "WARNING: Your filename has more than two extensions: ['.75_E7', '.0', '.h5ad'].\n",
      "Only considering the two last: ['.0', '.h5ad'].\n",
      "WARNING: genes are not in var_names and ignored: ['Hn1', 'Mlf1ip', 'Fam64a']\n",
      "WARNING: genes are not in var_names and ignored: ['Adck3', 'Ikbkap', 'H2afj', 'Lrmp', 'Gnb2l1', 'Hist3h2a', 'Hist1h1c']\n"
     ]
    },
    {
     "name": "stderr",
     "output_type": "stream",
     "text": [
      "/home/mgander/miniconda3/envs/mc/lib/python3.10/site-packages/wot/ot/optimal_transport.py:149: RuntimeWarning: overflow encountered in exp\n",
      "  _b = b * np.exp(v / epsilon_i)\n"
     ]
    },
    {
     "name": "stdout",
     "output_type": "stream",
     "text": [
      "E7.0_E7.25\n",
      "WARNING: Your filename has more than two extensions: ['.0_E7', '.25', '.h5ad'].\n",
      "Only considering the two last: ['.25', '.h5ad'].\n",
      "WARNING: Your filename has more than two extensions: ['.0_E7', '.25', '.h5ad'].\n",
      "Only considering the two last: ['.25', '.h5ad'].\n",
      "WARNING: genes are not in var_names and ignored: ['Hn1', 'Mlf1ip', 'Fam64a']\n",
      "WARNING: genes are not in var_names and ignored: ['Adck3', 'Ikbkap', 'H2afj', 'Lrmp', 'Gnb2l1', 'Hist3h2a', 'Hist1h1c']\n"
     ]
    }
   ],
   "source": [
    "for i in range(13):\n",
    "    ts0=ts[i]\n",
    "    ts1=ts[i+1]\n",
    "    print(f'{ts0}_{ts1}')\n",
    "\n",
    "    adata=sc.read(f\"{Path}/Comb_anndatas/adata_{ts0}_{ts1}.h5ad\")\n",
    "    del adata.raw\n",
    "    # Compute intiial growth rates the same as in moscot\n",
    "    adata.obs['cell_growth_rate']=compute_initial_growth_rates(adata)\n",
    "    adata=anndata.AnnData(X=adata.obsm['X_pcaS'], obs=adata.obs)\n",
    "\n",
    "    day0,day1=sorted(set(adata.obs['day']))\n",
    "\n",
    "    inds0=list(adata[adata.obs['day']==day0].obs.index)\n",
    "    inds1=list(adata[adata.obs['day']==day1].obs.index)\n",
    "\n",
    "\n",
    "    # Parameter choice the same as in moscot\n",
    "    eps=0.005\n",
    "    tau1s=[0.99,0.98,0.99,0.92,0.95,0.9,0.3,0.65,0.9,0.82,0.93,0.97,0.96]\n",
    "    lam1s=[t*eps/(1-t) for t in tau1s]\n",
    "    lam2=100\n",
    "    lam1=lam1s[i]\n",
    "\n",
    "    # Compute optimal transport map\n",
    "    ot_model = wot.ot.OTModel(adata, epsilon = eps, lambda1 = lam1, lambda2 = lam2, growth_iters=1) \n",
    "    tmap = ot_model.compute_transport_map(day0, day1)\n",
    "\n",
    "    # Restructure it into a DataFrame and save it\n",
    "    T=pd.DataFrame(data=tmap.X, index=inds0, columns=inds1)\n",
    "    T=T/T.sum()\n",
    "    T.to_pickle(f'{Path}/WOT_maps/Ts/Transitions_{ts0}_{ts1}.pkl')"
   ]
  },
  {
   "cell_type": "code",
   "execution_count": null,
   "id": "425ea900",
   "metadata": {},
   "outputs": [],
   "source": []
  },
  {
   "cell_type": "code",
   "execution_count": null,
   "id": "a17696bc",
   "metadata": {},
   "outputs": [],
   "source": []
  },
  {
   "cell_type": "code",
   "execution_count": null,
   "id": "91d7b346",
   "metadata": {},
   "outputs": [],
   "source": []
  },
  {
   "cell_type": "code",
   "execution_count": null,
   "id": "ded595c2",
   "metadata": {},
   "outputs": [],
   "source": []
  },
  {
   "cell_type": "code",
   "execution_count": null,
   "id": "fbc88365",
   "metadata": {},
   "outputs": [],
   "source": []
  },
  {
   "cell_type": "code",
   "execution_count": null,
   "id": "ec0a545f",
   "metadata": {},
   "outputs": [],
   "source": []
  }
 ],
 "metadata": {
  "kernelspec": {
   "display_name": "phos",
   "language": "python",
   "name": "phos"
  },
  "language_info": {
   "codemirror_mode": {
    "name": "ipython",
    "version": 3
   },
   "file_extension": ".py",
   "mimetype": "text/x-python",
   "name": "python",
   "nbconvert_exporter": "python",
   "pygments_lexer": "ipython3",
   "version": "3.10.5"
  }
 },
 "nbformat": 4,
 "nbformat_minor": 5
}
