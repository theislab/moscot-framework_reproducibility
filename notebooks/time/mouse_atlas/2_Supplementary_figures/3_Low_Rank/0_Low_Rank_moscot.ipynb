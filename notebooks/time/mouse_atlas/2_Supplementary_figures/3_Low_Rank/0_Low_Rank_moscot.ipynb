{
 "cells": [
  {
   "cell_type": "code",
   "execution_count": null,
   "id": "6c1376a9",
   "metadata": {},
   "outputs": [],
   "source": [
    "#from jax.config import config\n",
    "#config.update(\"jax_enable_x64\", True)\n",
    "import numpy as np\n",
    "import anndata\n",
    "import pandas as pd\n",
    "import scanpy as sc\n",
    "import scipy \n",
    "import seaborn as sns\n",
    "import matplotlib.pyplot as plt\n",
    "import os\n",
    "import time\n",
    "from moscot.problems.time._lineage import TemporalProblem\n",
    "import warnings\n",
    "import jax\n",
    "import jax.numpy as jnp\n",
    "from ott.geometry import pointcloud\n",
    "from ott.problems.linear import linear_problem\n",
    "from ott.solvers.linear import sinkhorn, sinkhorn_lr\n",
    "import sys,os\n",
    "sys.path.append('/home/icb/manuel.gander/mouse_atlas/notebook')\n",
    "import c2\n",
    "warnings.simplefilter(action='ignore', category=FutureWarning) \n",
    "sc.settings.verbosity = 0\n",
    "import wandb"
   ]
  },
  {
   "cell_type": "code",
   "execution_count": null,
   "id": "ae059116",
   "metadata": {},
   "outputs": [],
   "source": [
    "Path=\"/home/icb/manuel.gander/mouse_atlas/data\"\n"
   ]
  },
  {
   "cell_type": "code",
   "execution_count": null,
   "id": "3cdff6e6",
   "metadata": {},
   "outputs": [],
   "source": [
    "ts=['E3.5', 'E4.5', 'E5.25', 'E5.5', 'E6.25', 'E6.5', 'E6.75', 'E7.0', 'E7.25', 'E7.5', 'E7.75', 'E8.0', 'E8.25', 'E8.5a', 'E8.5b', 'E9.5', 'E10.5', 'E11.5', 'E12.5', 'E13.5']\n",
    "cells=[32, 80, 100, 120, 400, 660, 1720, 4500, 8200, 15000, 30000, 60000, 73000, 90000, 90000, 200000, 1100000, 2600000, 6000000, 13000000]\n",
    "Cell_number_dict={ts[i]:cells[i] for i in range(20)}"
   ]
  },
  {
   "cell_type": "code",
   "execution_count": null,
   "id": "249a1ea6",
   "metadata": {},
   "outputs": [],
   "source": []
  },
  {
   "cell_type": "code",
   "execution_count": null,
   "id": "5c07263a",
   "metadata": {},
   "outputs": [],
   "source": [
    "def solve_LR_moscot(epsilon, rank, gamma, iterations, i=18, tau1=0.07, batch_size=10**5):\n",
    "    ts0=ts[i]\n",
    "    ts1=ts[i+1]\n",
    "    print(f'{ts0}_{ts1}')\n",
    "\n",
    "    adata=sc.read(f\"{Path}/Comb_anndatas/adata_{ts0}_{ts1}.h5ad\")\n",
    "    del adata.raw\n",
    "    adata.obs['day']=adata.obs['day'].astype('category')\n",
    "\n",
    "    day0,day1=sorted(set(adata.obs['day']))\n",
    "    inds0=list(adata[adata.obs['day']==day0].obs.index)\n",
    "    inds1=list(adata[adata.obs['day']==day1].obs.index)\n",
    "\n",
    "    tp=TemporalProblem(adata)\n",
    "    if i!=13:\n",
    "        tp.score_genes_for_marginals(gene_set_proliferation='mouse',  gene_set_apoptosis='mouse')\n",
    "    tp = tp.prepare('day', joint_attr=f'X_pcaS')\n",
    "    \n",
    "    tau2=0.99995\n",
    "\n",
    "    t0=time.time()\n",
    "    if rank==-1:\n",
    "        result=tp.solve(batch_size=batch_size, epsilon=epsilon, tau_a=tau1, tau_b=tau2, rank=rank)\n",
    "        iterations=float(tp[(day0, day1)].solution._output.n_iters)\n",
    "    else:\n",
    "        inners=max(int(iterations/20),1)\n",
    "        result=tp.solve(batch_size=batch_size, epsilon=epsilon, tau_a=tau1, tau_b=tau2, max_iterations=iterations, rank=rank, threshold=0, inner_iterations=inners, gamma=gamma)\n",
    "    t1=time.time()-t0\n",
    "    print('Sinkhorn done')\n",
    "    time0=time.time()\n",
    "    gr=tp[(day0, day1)].solution.a\n",
    "    gr=gr/gr.mean()*Cell_number_dict[ts1]/Cell_number_dict[ts0]\n",
    "    cell_dying=np.sum((1-gr[gr<1]))\n",
    "    apoptosis_rate=float(cell_dying/len(gr))\n",
    "\n",
    "    cell_states0={'cell_state': list(set(adata[adata.obs['day']==day0].obs['cell_state']))}\n",
    "    cell_states1={'cell_state': list(set(adata[adata.obs['day']==day1].obs['cell_state']))}\n",
    "    CT=tp.cell_transition(day0, day1, cell_states0, cell_states1)\n",
    "\n",
    "    ev=c2.evaluate_using_curated_transitions(CT)\n",
    "    acc0=list(ev['Accuracy'])[0]\n",
    "\n",
    "    ev=c2.evaluate_using_germ_layers(CT)\n",
    "    acc1=list(ev['Accuracy'])[0]\n",
    "    time1=time.time()-time0\n",
    "\n",
    "    return(acc0, acc1, apoptosis_rate, t1/3600, time1/3600, iterations)"
   ]
  },
  {
   "cell_type": "code",
   "execution_count": null,
   "id": "07362528",
   "metadata": {},
   "outputs": [],
   "source": [
    "def solve_and_save_to_wandb(epsilon, rank, gamma, iterations, i, tau1, batch_size): \n",
    "    wandb.init(project=f\"Low_Rank_benchmark\")\n",
    "    acc0, acc1, ap_rate, t1, t2, iterations=solve_LR_moscot(epsilon, rank, gamma, iterations, i, tau1, batch_size)\n",
    "    wandb.log({\"Accuracy_Curated\": acc0, 'Accuracy_Germ':acc1, 'Iteration':iterations, \n",
    "               'Gamma':gamma, 'Rank':rank, 'Time_Sinkhorn':t1, 'Time_Evaluation':t2, \n",
    "               'Epsilon':epsilon,\"Apoptosis_rate\":ap_rate, 'Gamma*Epsilon':gamma*epsilon, \n",
    "               'tau1':tau1, 'i':i, 'batch_size':batch_size})\n",
    "    wandb.finish()"
   ]
  },
  {
   "cell_type": "code",
   "execution_count": null,
   "id": "adccec67",
   "metadata": {},
   "outputs": [],
   "source": []
  },
  {
   "cell_type": "code",
   "execution_count": null,
   "id": "1547ad59",
   "metadata": {},
   "outputs": [],
   "source": []
  },
  {
   "cell_type": "code",
   "execution_count": null,
   "id": "e34eccbc",
   "metadata": {},
   "outputs": [],
   "source": [
    "# This dictionary is for the tau1s, such that the apoptitc range is in the approprate range\n",
    "D={}\n",
    "D[-1]=[0.99,0.98,0.99,0.92,0.985,0.9,0.3,0.65,0.9,0.82,0.93,0.996,0.96,0.99,0.98,0.68,0.8,0.9,0.9]\n",
    "D[10]=[0.4,0.23,0.35,0.083,0.215,0.15,0.115,0.21,0.12,0.15,0.3,0.65,0.4,0.6,0.45,0.25,0.4,0.4,0.35]\n",
    "D[100]=[0.33,0.2,0.34,0.062,0.215,0.12,0.07,0.065,0.07,0.077,0.25,0.65,0.16,0.5,0.22,0.08,0.15,0.15,0.12]\n",
    "D[1000]=[0.33,0.218,0.34,0.058,0.155,0.1,0.035,0.045,0.065,0.04,0.2,0.62,0.13,0.5,0.2,0.045,0.065,0.085,0.09]\n",
    "D[2000]=D[1000]\n",
    "D[2000][5]=0.08\n",
    "D[2000][6]=0.02\n",
    "D[2000][8]=0.06\n",
    "D[2000][15]=0.035\n",
    "D[2000][16]=0.06"
   ]
  },
  {
   "cell_type": "code",
   "execution_count": null,
   "id": "654439ea",
   "metadata": {},
   "outputs": [],
   "source": []
  },
  {
   "cell_type": "code",
   "execution_count": null,
   "id": "20401d94",
   "metadata": {},
   "outputs": [],
   "source": [
    "for rank in [-1, 10, 100, 1000, 2000]:\n",
    "    for i in range(19):\n",
    "        tau1=D[rank][i]\n",
    "        \n",
    "        if rank==-1:\n",
    "            eps=0.005\n",
    "            gamma=np.NaN\n",
    "            iters=np.NaN\n",
    "        else:\n",
    "            eps=0.0001\n",
    "            gamma=500\n",
    "            iters=1000\n",
    "        \n",
    "        # I choose batch-size ~as big as possible without breaking GPU-memory (40Gb in this case)\n",
    "        if i<13:\n",
    "            batch_size=10**6\n",
    "        elif i==13:\n",
    "            batch_size=10**5\n",
    "        else:\n",
    "            batch_size=3*10**3\n",
    "        \n",
    "        solve_and_save_to_wandb(epsilon, rank, gamma, iterations, i, tau1, batch_size)"
   ]
  },
  {
   "cell_type": "code",
   "execution_count": null,
   "id": "f303f22e",
   "metadata": {},
   "outputs": [],
   "source": []
  },
  {
   "cell_type": "code",
   "execution_count": null,
   "id": "9d247ad8",
   "metadata": {},
   "outputs": [],
   "source": []
  },
  {
   "cell_type": "code",
   "execution_count": null,
   "id": "db5be85f",
   "metadata": {},
   "outputs": [],
   "source": []
  }
 ],
 "metadata": {
  "kernelspec": {
   "display_name": "phos",
   "language": "python",
   "name": "phos"
  },
  "language_info": {
   "codemirror_mode": {
    "name": "ipython",
    "version": 3
   },
   "file_extension": ".py",
   "mimetype": "text/x-python",
   "name": "python",
   "nbconvert_exporter": "python",
   "pygments_lexer": "ipython3",
   "version": "3.9.16"
  }
 },
 "nbformat": 4,
 "nbformat_minor": 5
}
