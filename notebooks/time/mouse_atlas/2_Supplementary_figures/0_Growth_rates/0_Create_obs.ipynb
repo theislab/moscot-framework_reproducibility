{
 "cells": [
  {
   "cell_type": "markdown",
   "id": "248be5c6",
   "metadata": {},
   "source": [
    "# Only keep obs"
   ]
  },
  {
   "cell_type": "markdown",
   "id": "0d530ea6",
   "metadata": {},
   "source": [
    "We need the obs-only later for plotting, so get them from the anndatas and I save them"
   ]
  },
  {
   "cell_type": "code",
   "execution_count": 5,
   "id": "68b43f02",
   "metadata": {},
   "outputs": [],
   "source": [
    "import numpy as np\n",
    "import anndata\n",
    "import pandas as pd\n",
    "import matplotlib.pyplot as plt\n",
    "import seaborn as sns\n",
    "import scanpy as sc"
   ]
  },
  {
   "cell_type": "code",
   "execution_count": 6,
   "id": "d2da69b6",
   "metadata": {},
   "outputs": [],
   "source": [
    "sns.set_style(\"darkgrid\")\n",
    "sns.set(rc={'figure.figsize':(11,6)})\n",
    "\n",
    "import mplscience\n",
    "\n",
    "mplscience.set_style(reset_current=True)\n",
    "plt.rcParams['figure.dpi'] = 300"
   ]
  },
  {
   "cell_type": "code",
   "execution_count": 7,
   "id": "90e7d22f",
   "metadata": {},
   "outputs": [],
   "source": [
    "Path=\"/home/mgander/mouse_atlas/data\"\n",
    "\n",
    "# Define time points\n",
    "t=[3.5, 4.5, 5.25, 5.5]+[6.25+x/4 for x in range(0,10)]+[8.5]+[9.5+x for x in range(0,5)]\n",
    "ts=[str(a) for a in [3.5, 4.5, 5.25, 5.5, 6.25]] + [str(a) for a in np.arange(6.5, 8.5, 0.25)] + ['8.5a', '8.5b']+ [str(a) for a in np.arange(9.5, 14.5, 1)]\n",
    "ts=['E'+a for a in ts]"
   ]
  },
  {
   "cell_type": "code",
   "execution_count": 16,
   "id": "7366cad8",
   "metadata": {
    "scrolled": true
   },
   "outputs": [
    {
     "name": "stdout",
     "output_type": "stream",
     "text": [
      "E11.5\n",
      "WARNING: Your filename has more than two extensions: ['.5_E12', '.5', '.h5ad'].\n",
      "Only considering the two last: ['.5', '.h5ad'].\n",
      "WARNING: Your filename has more than two extensions: ['.5_E12', '.5', '.h5ad'].\n",
      "Only considering the two last: ['.5', '.h5ad'].\n",
      "E12.5\n",
      "WARNING: Your filename has more than two extensions: ['.5_E13', '.5', '.h5ad'].\n",
      "Only considering the two last: ['.5', '.h5ad'].\n",
      "WARNING: Your filename has more than two extensions: ['.5_E13', '.5', '.h5ad'].\n",
      "Only considering the two last: ['.5', '.h5ad'].\n"
     ]
    }
   ],
   "source": [
    "for i in range(19):\n",
    "    ts0=ts[i]\n",
    "    print(ts0)\n",
    "    ts1=ts[i+1]\n",
    "    \n",
    "\n",
    "    obs=sc.read(f\"{Path}/Comb_anndatas/adata_{ts0}_{ts1}.h5ad\").obs\n",
    "    obs=obs[obs['day']==min(obs['day'])]\n",
    "    if 14>i>4:\n",
    "        ExE_cell_types=['Embryonic visceral endoderm', 'Extraembryonic visceral endoderm', 'Parietal endoderm', 'Extraembryonic ectoderm', 'Primitive erythroid cells', 'Blood progenitors']\n",
    "    elif i>4:\n",
    "        ExE_cell_types=['Extraembryonic visceral endoderm']\n",
    "    else:\n",
    "        ExE_cell_types=[]\n",
    "    obs=obs[~obs['cell_type'].isin(ExE_cell_types)].copy()\n",
    "    obs.to_pickle(f'{Path}/Comb_anndatas/obs/{ts0}_obs.pkl')"
   ]
  },
  {
   "cell_type": "code",
   "execution_count": null,
   "id": "d751d7c8",
   "metadata": {},
   "outputs": [],
   "source": []
  },
  {
   "cell_type": "code",
   "execution_count": null,
   "id": "b9e1e3ad",
   "metadata": {},
   "outputs": [],
   "source": []
  },
  {
   "cell_type": "code",
   "execution_count": null,
   "id": "3f775a6b",
   "metadata": {},
   "outputs": [],
   "source": []
  },
  {
   "cell_type": "code",
   "execution_count": null,
   "id": "a1fdc4f7",
   "metadata": {},
   "outputs": [],
   "source": []
  },
  {
   "cell_type": "code",
   "execution_count": null,
   "id": "572af0c1",
   "metadata": {},
   "outputs": [],
   "source": []
  },
  {
   "cell_type": "code",
   "execution_count": null,
   "id": "d4c7a353",
   "metadata": {},
   "outputs": [],
   "source": []
  },
  {
   "cell_type": "code",
   "execution_count": null,
   "id": "6228de75",
   "metadata": {},
   "outputs": [],
   "source": []
  }
 ],
 "metadata": {
  "kernelspec": {
   "display_name": "mc",
   "language": "python",
   "name": "mc"
  },
  "language_info": {
   "codemirror_mode": {
    "name": "ipython",
    "version": 3
   },
   "file_extension": ".py",
   "mimetype": "text/x-python",
   "name": "python",
   "nbconvert_exporter": "python",
   "pygments_lexer": "ipython3",
   "version": "3.10.9"
  }
 },
 "nbformat": 4,
 "nbformat_minor": 5
}
