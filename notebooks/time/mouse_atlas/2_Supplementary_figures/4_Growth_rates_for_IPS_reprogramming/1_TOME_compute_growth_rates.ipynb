{
 "cells": [
  {
   "cell_type": "markdown",
   "id": "fc9bfcb2",
   "metadata": {},
   "source": [
    "# Tome transitions for Seruat V3.1.4"
   ]
  },
  {
   "cell_type": "markdown",
   "id": "0f8af823",
   "metadata": {},
   "source": [
    "The following code is a copy of code from https://github.com/ChengxiangQiu/tome_code, the createLineage_Knn-function is in https://github.com/ChengxiangQiu/tome_code/blob/main/help_code/help_code.R, the main function is in https://github.com/ChengxiangQiu/tome_code/blob/main/Section2_trajectory_Step1_connection.R"
   ]
  },
  {
   "cell_type": "markdown",
   "id": "61bc4b81",
   "metadata": {},
   "source": [
    "This runs TOME, with the only difference being it excludes extraembryonic tissues since the experiments sometimes extract more and sometime less extraembryonic tissue"
   ]
  },
  {
   "cell_type": "code",
   "execution_count": 1,
   "id": "134c2e64",
   "metadata": {
    "collapsed": true,
    "jupyter": {
     "outputs_hidden": true
    }
   },
   "outputs": [
    {
     "name": "stderr",
     "output_type": "stream",
     "text": [
      "Loading required package: SeuratObject\n",
      "\n",
      "Loading required package: sp\n",
      "\n",
      "\n",
      "Attaching package: ‘SeuratObject’\n",
      "\n",
      "\n",
      "The following object is masked from ‘package:base’:\n",
      "\n",
      "    intersect\n",
      "\n",
      "\n"
     ]
    }
   ],
   "source": [
    "library(Seurat)\n",
    "library(future)\n",
    "library(future.apply)\n",
    "library(FNN)"
   ]
  },
  {
   "cell_type": "code",
   "execution_count": 2,
   "id": "728fbc6b",
   "metadata": {},
   "outputs": [],
   "source": [
    "file_path='/home/mgander/mouse_atlas/data/WOT'"
   ]
  },
  {
   "cell_type": "code",
   "execution_count": 3,
   "id": "8ee9571a-eb01-416f-b1c5-254cfe92d379",
   "metadata": {},
   "outputs": [],
   "source": [
    "df=read.csv(paste0(file_path, \"/Representations/obs/days.csv\"))\n",
    "days=df$X0"
   ]
  },
  {
   "cell_type": "code",
   "execution_count": 4,
   "id": "6786fb65",
   "metadata": {
    "scrolled": true
   },
   "outputs": [
    {
     "data": {
      "text/plain": [
       "R version 4.3.2 (2023-10-31)\n",
       "Platform: x86_64-conda-linux-gnu (64-bit)\n",
       "Running under: Ubuntu 18.04.6 LTS\n",
       "\n",
       "Matrix products: default\n",
       "BLAS/LAPACK: /home/mgander/miniconda3/envs/r_env/lib/libopenblasp-r0.3.24.so;  LAPACK version 3.11.0\n",
       "\n",
       "locale:\n",
       " [1] LC_CTYPE=C.UTF-8       LC_NUMERIC=C           LC_TIME=C.UTF-8       \n",
       " [4] LC_COLLATE=C.UTF-8     LC_MONETARY=C.UTF-8    LC_MESSAGES=C.UTF-8   \n",
       " [7] LC_PAPER=C.UTF-8       LC_NAME=C              LC_ADDRESS=C          \n",
       "[10] LC_TELEPHONE=C         LC_MEASUREMENT=C.UTF-8 LC_IDENTIFICATION=C   \n",
       "\n",
       "time zone: Europe/Berlin\n",
       "tzcode source: system (glibc)\n",
       "\n",
       "attached base packages:\n",
       "[1] stats     graphics  grDevices utils     datasets  methods   base     \n",
       "\n",
       "other attached packages:\n",
       "[1] FNN_1.1.3.2         future.apply_1.11.0 future_1.33.0      \n",
       "[4] Seurat_5.0.0        SeuratObject_5.0.0  sp_2.1-1           \n",
       "\n",
       "loaded via a namespace (and not attached):\n",
       "  [1] deldir_1.0-9           pbapply_1.7-2          gridExtra_2.3         \n",
       "  [4] rlang_1.1.1            magrittr_2.0.3         RcppAnnoy_0.0.21      \n",
       "  [7] spatstat.geom_3.2-7    matrixStats_1.0.0      ggridges_0.5.4        \n",
       " [10] compiler_4.3.2         png_0.1-8              vctrs_0.6.4           \n",
       " [13] reshape2_1.4.4         stringr_1.5.0          pkgconfig_2.0.3       \n",
       " [16] crayon_1.5.2           fastmap_1.1.1          ellipsis_0.3.2        \n",
       " [19] utf8_1.2.4             promises_1.2.1         purrr_1.0.2           \n",
       " [22] jsonlite_1.8.7         goftest_1.2-3          later_1.3.1           \n",
       " [25] uuid_1.1-1             spatstat.utils_3.0-4   irlba_2.3.5.1         \n",
       " [28] parallel_4.3.2         cluster_2.1.4          R6_2.5.1              \n",
       " [31] ica_1.0-3              spatstat.data_3.0-3    stringi_1.7.12        \n",
       " [34] RColorBrewer_1.1-3     reticulate_1.34.0      parallelly_1.36.0     \n",
       " [37] lmtest_0.9-40          scattermore_1.2        Rcpp_1.0.11           \n",
       " [40] IRkernel_1.3.2         tensor_1.5             zoo_1.8-12            \n",
       " [43] base64enc_0.1-3        sctransform_0.4.1      httpuv_1.6.12         \n",
       " [46] Matrix_1.6-1.1         splines_4.3.2          igraph_1.5.1          \n",
       " [49] tidyselect_1.2.0       abind_1.4-5            spatstat.random_3.2-1 \n",
       " [52] codetools_0.2-19       miniUI_0.1.1.1         spatstat.explore_3.2-5\n",
       " [55] listenv_0.9.0          lattice_0.22-5         tibble_3.2.1          \n",
       " [58] plyr_1.8.9             shiny_1.7.5.1          ROCR_1.0-11           \n",
       " [61] evaluate_0.23          Rtsne_0.16             fastDummies_1.7.3     \n",
       " [64] survival_3.5-7         polyclip_1.10-6        fitdistrplus_1.1-11   \n",
       " [67] pillar_1.9.0           KernSmooth_2.23-22     plotly_4.10.3         \n",
       " [70] generics_0.1.3         RcppHNSW_0.5.0         IRdisplay_1.1         \n",
       " [73] ggplot2_3.4.4          munsell_0.5.0          scales_1.2.1          \n",
       " [76] globals_0.16.2         xtable_1.8-4           glue_1.6.2            \n",
       " [79] lazyeval_0.2.2         tools_4.3.2            data.table_1.14.8     \n",
       " [82] RSpectra_0.16-1        pbdZMQ_0.3-10          RANN_2.6.1            \n",
       " [85] leiden_0.4.3           dotCall64_1.1-0        cowplot_1.1.1         \n",
       " [88] grid_4.3.2             tidyr_1.3.0            colorspace_2.1-0      \n",
       " [91] nlme_3.1-163           patchwork_1.1.3        repr_1.1.6            \n",
       " [94] cli_3.6.1              spatstat.sparse_3.0-3  spam_2.10-0           \n",
       " [97] fansi_1.0.5            viridisLite_0.4.2      dplyr_1.1.3           \n",
       "[100] uwot_0.1.16            gtable_0.3.4           digest_0.6.33         \n",
       "[103] progressr_0.14.0       ggrepel_0.9.4          htmlwidgets_1.6.2     \n",
       "[106] htmltools_0.5.6.1      lifecycle_1.0.3        httr_1.4.7            \n",
       "[109] mime_0.12              MASS_7.3-60           "
      ]
     },
     "metadata": {},
     "output_type": "display_data"
    }
   ],
   "source": [
    "sessionInfo()"
   ]
  },
  {
   "cell_type": "code",
   "execution_count": 5,
   "id": "786a9643",
   "metadata": {},
   "outputs": [],
   "source": [
    "file_path='/home/mgander/mouse_atlas/data/WOT/TOME/RDS'\n",
    "\n",
    "work_path2 = \"/home/mgander/mouse_atlas/data/WOT/TOME\"\n",
    "\n",
    "time_point = paste0(\"E\", c(3.5, 4.5, 5.25, 5.5, 6.25, seq(6.5, 8.25, 0.25), \"8.5a\", \"8.5b\", seq(9.5, 13.5, 1)))"
   ]
  },
  {
   "cell_type": "code",
   "execution_count": 6,
   "id": "d5a8a423",
   "metadata": {},
   "outputs": [],
   "source": [
    "#####################################################\n",
    "### Function: finding ancestor node for each node ###\n",
    "#####################################################\n",
    "\n",
    "createLineage_Knn <- function(emb, pd, time_1, reduction=\"umap\", replication_times=500, removing_cells_ratio=0.2, k_neigh = 5){\n",
    "    \n",
    "    print(dim(emb))\n",
    "    if(!\"Anno\" %in% names(pd) | !\"day\" %in% names(pd)) {print(\"Error: no Anno or day in pd\")}\n",
    "    if(sum(rownames(pd)!=rownames(emb))!=0) {print(\"Error: rownames are not matched\")}\n",
    "    pd$state = pd$Anno\n",
    "    \n",
    "    res = list()\n",
    "    \n",
    "    rep_i = 1\n",
    "    \n",
    "    while(rep_i < (replication_times+1)){\n",
    "        \n",
    "        sampling_index = sample(1:nrow(pd),round(nrow(pd)*(1-removing_cells_ratio)))\n",
    "        \n",
    "        emb_sub = emb[sampling_index,]\n",
    "        pd_sub = pd[sampling_index,]\n",
    "        \n",
    "        irlba_pca_res_1 <- emb_sub[as.vector(pd_sub$day)==\"pre\",]\n",
    "        irlba_pca_res_2 <- emb_sub[as.vector(pd_sub$day)==\"nex\",]\n",
    "        pd_sub1 <- pd_sub[pd_sub$day == \"pre\",]\n",
    "        pd_sub2 <- pd_sub[pd_sub$day == \"nex\",]\n",
    "        \n",
    "        pre_state_min = min(table(as.vector(pd_sub1$state)))\n",
    "        \n",
    "        if (pre_state_min < k_neigh & pre_state_min >= 3){\n",
    "            k_neigh = pre_state_min\n",
    "            print(k_neigh)\n",
    "        }\n",
    "        \n",
    "        if (pre_state_min < 3){\n",
    "            next\n",
    "        }\n",
    "        \n",
    "        neighbors <- get.knnx(irlba_pca_res_1, irlba_pca_res_2, k = k_neigh)$nn.index\n",
    "        \n",
    "        tmp1 <- matrix(NA,nrow(neighbors),ncol(neighbors))\n",
    "        for(i in 1:k_neigh){\n",
    "            tmp1[,i] <- as.vector(pd_sub1$state)[neighbors[,i]]\n",
    "        }\n",
    "        state1 <- names(table(as.vector(pd_sub1$state)))\n",
    "        state2 <- names(table(as.vector(pd_sub2$state)))\n",
    "        \n",
    "        tmp2 <- matrix(NA,length(state2),length(state1))\n",
    "        for(i in 1:length(state2)){\n",
    "            x <- c(tmp1[as.vector(pd_sub2$state)==state2[i],])\n",
    "            for(j in 1:length(state1)){\n",
    "                tmp2[i,j] <- sum(x==state1[j])\n",
    "            }\n",
    "        }\n",
    "        tmp2 <- tmp2/apply(tmp2,1,sum)\n",
    "        tmp2 <- data.frame(tmp2)\n",
    "        row.names(tmp2) = state2\n",
    "        names(tmp2) = state1\n",
    "        \n",
    "        \n",
    "        \n",
    "        # I need the nearest neighbors later, so I'll save them:\n",
    "        write.csv(rownames(pd_sub1), paste0(work_path2, \"/\", time_1, '/early_cells_', rep_i, \".csv\"), row.names=FALSE, quote=FALSE) \n",
    "        write.csv(rownames(pd_sub2), paste0(work_path2, \"/\", time_1, '/late_cells_', rep_i, \".csv\"), row.names=FALSE, quote=FALSE) \n",
    "        write.csv(neighbors, paste0(work_path2, \"/\", time_1, '/neigbors_', rep_i, \".csv\"), row.names=FALSE, quote=FALSE) \n",
    "        \n",
    "        \n",
    "        res[[rep_i]] = tmp2\n",
    "        \n",
    "        rep_i = rep_i + 1\n",
    "        \n",
    "    }\n",
    "    \n",
    "    return(res)\n",
    "}"
   ]
  },
  {
   "cell_type": "markdown",
   "id": "017831b2",
   "metadata": {},
   "source": [
    "# KNN-Scoring to obtain transition rates"
   ]
  },
  {
   "cell_type": "code",
   "execution_count": 20,
   "id": "32d4689d-a93b-43a3-8015-f6b0815c8bc8",
   "metadata": {},
   "outputs": [],
   "source": [
    "file_path='/home/mgander/mouse_atlas/data/WOT'\n",
    "\n",
    "\n",
    "get_day <- function(days, i){\n",
    "    day=days[i]\n",
    "    day=as.character(day)\n",
    "    if(!grepl(\"\\\\.\", day)) {day=paste0(day, '.0')}\n",
    "    return(day)}"
   ]
  },
  {
   "cell_type": "code",
   "execution_count": 21,
   "id": "e5c2f079-55d2-4769-a0d8-2cd79fdc1911",
   "metadata": {},
   "outputs": [],
   "source": [
    "get_prepared_RDS <- function(day){\n",
    "   \n",
    "    obs=read.csv(paste0(file_path, \"/Representations/obs/\", day, '.csv'))\n",
    "    \n",
    "    zero_matrix <- matrix(0, nrow = 2, ncol=nrow(obs))\n",
    "    anno1 <- CreateSeuratObject(counts = zero_matrix, project = \"adata_sub\")\n",
    "    colnames(anno1)=obs$X\n",
    "    \n",
    "    anno1[['cell_state']]=obs$cell_state\n",
    "    anno1[['day']]=obs$day\n",
    "    anno1$Anno = as.vector(anno1$cell_state)\n",
    "    anno1=cbind(anno1[[\"day\"]], anno1[[\"Anno\"]])\n",
    "    \n",
    "    anno1$stage = day\n",
    "    return(anno1)}"
   ]
  },
  {
   "cell_type": "code",
   "execution_count": 28,
   "id": "e9d38583-ebfb-4025-80c3-e348c78d77d5",
   "metadata": {
    "scrolled": true
   },
   "outputs": [
    {
     "name": "stdout",
     "output_type": "stream",
     "text": [
      "[1] \"10.0\"\n"
     ]
    },
    {
     "name": "stderr",
     "output_type": "stream",
     "text": [
      "Warning message:\n",
      "“Data is of class matrix. Coercing to dgCMatrix.”\n",
      "Warning message:\n",
      "“Data is of class matrix. Coercing to dgCMatrix.”\n"
     ]
    },
    {
     "name": "stdout",
     "output_type": "stream",
     "text": [
      "[1] 3992    3\n",
      "[1] 4\n",
      "[1] 3\n",
      "[1] \"10.5\"\n"
     ]
    },
    {
     "name": "stderr",
     "output_type": "stream",
     "text": [
      "Warning message:\n",
      "“Data is of class matrix. Coercing to dgCMatrix.”\n",
      "Warning message:\n",
      "“Data is of class matrix. Coercing to dgCMatrix.”\n"
     ]
    },
    {
     "name": "stdout",
     "output_type": "stream",
     "text": [
      "[1] 4179    3\n",
      "[1] 4\n",
      "[1] \"11.0\"\n"
     ]
    },
    {
     "name": "stderr",
     "output_type": "stream",
     "text": [
      "Warning message:\n",
      "“Data is of class matrix. Coercing to dgCMatrix.”\n",
      "Warning message:\n",
      "“Data is of class matrix. Coercing to dgCMatrix.”\n"
     ]
    },
    {
     "name": "stdout",
     "output_type": "stream",
     "text": [
      "[1] 4402    3\n",
      "[1] 4\n",
      "[1] 3\n",
      "[1] \"11.5\"\n"
     ]
    },
    {
     "name": "stderr",
     "output_type": "stream",
     "text": [
      "Warning message:\n",
      "“Data is of class matrix. Coercing to dgCMatrix.”\n",
      "Warning message:\n",
      "“Data is of class matrix. Coercing to dgCMatrix.”\n"
     ]
    },
    {
     "name": "stdout",
     "output_type": "stream",
     "text": [
      "[1] 4593    3\n",
      "[1] \"12.0\"\n"
     ]
    },
    {
     "name": "stderr",
     "output_type": "stream",
     "text": [
      "Warning message:\n",
      "“Data is of class matrix. Coercing to dgCMatrix.”\n",
      "Warning message:\n",
      "“Data is of class matrix. Coercing to dgCMatrix.”\n"
     ]
    },
    {
     "name": "stdout",
     "output_type": "stream",
     "text": [
      "[1] 4682    3\n",
      "[1] \"12.5\"\n"
     ]
    },
    {
     "name": "stderr",
     "output_type": "stream",
     "text": [
      "Warning message:\n",
      "“Data is of class matrix. Coercing to dgCMatrix.”\n",
      "Warning message:\n",
      "“Data is of class matrix. Coercing to dgCMatrix.”\n"
     ]
    },
    {
     "name": "stdout",
     "output_type": "stream",
     "text": [
      "[1] 4398    3\n",
      "[1] \"13.0\"\n"
     ]
    },
    {
     "name": "stderr",
     "output_type": "stream",
     "text": [
      "Warning message:\n",
      "“Data is of class matrix. Coercing to dgCMatrix.”\n",
      "Warning message:\n",
      "“Data is of class matrix. Coercing to dgCMatrix.”\n"
     ]
    },
    {
     "name": "stdout",
     "output_type": "stream",
     "text": [
      "[1] 4179    3\n",
      "[1] \"13.5\"\n"
     ]
    },
    {
     "name": "stderr",
     "output_type": "stream",
     "text": [
      "Warning message:\n",
      "“Data is of class matrix. Coercing to dgCMatrix.”\n",
      "Warning message:\n",
      "“Data is of class matrix. Coercing to dgCMatrix.”\n"
     ]
    },
    {
     "name": "stdout",
     "output_type": "stream",
     "text": [
      "[1] 5792    3\n",
      "[1] \"14.0\"\n"
     ]
    },
    {
     "name": "stderr",
     "output_type": "stream",
     "text": [
      "Warning message:\n",
      "“Data is of class matrix. Coercing to dgCMatrix.”\n",
      "Warning message:\n",
      "“Data is of class matrix. Coercing to dgCMatrix.”\n"
     ]
    },
    {
     "name": "stdout",
     "output_type": "stream",
     "text": [
      "[1] 6481    3\n",
      "[1] \"14.5\"\n"
     ]
    },
    {
     "name": "stderr",
     "output_type": "stream",
     "text": [
      "Warning message:\n",
      "“Data is of class matrix. Coercing to dgCMatrix.”\n",
      "Warning message:\n",
      "“Data is of class matrix. Coercing to dgCMatrix.”\n"
     ]
    },
    {
     "name": "stdout",
     "output_type": "stream",
     "text": [
      "[1] 6440    3\n",
      "[1] \"15.0\"\n"
     ]
    },
    {
     "name": "stderr",
     "output_type": "stream",
     "text": [
      "Warning message:\n",
      "“Data is of class matrix. Coercing to dgCMatrix.”\n",
      "Warning message:\n",
      "“Data is of class matrix. Coercing to dgCMatrix.”\n"
     ]
    },
    {
     "name": "stdout",
     "output_type": "stream",
     "text": [
      "[1] 8568    3\n",
      "[1] \"15.5\"\n"
     ]
    },
    {
     "name": "stderr",
     "output_type": "stream",
     "text": [
      "Warning message:\n",
      "“Data is of class matrix. Coercing to dgCMatrix.”\n",
      "Warning message:\n",
      "“Data is of class matrix. Coercing to dgCMatrix.”\n"
     ]
    },
    {
     "name": "stdout",
     "output_type": "stream",
     "text": [
      "[1] 8273    3\n",
      "[1] \"16.0\"\n"
     ]
    },
    {
     "name": "stderr",
     "output_type": "stream",
     "text": [
      "Warning message:\n",
      "“Data is of class matrix. Coercing to dgCMatrix.”\n",
      "Warning message:\n",
      "“Data is of class matrix. Coercing to dgCMatrix.”\n"
     ]
    },
    {
     "name": "stdout",
     "output_type": "stream",
     "text": [
      "[1] 8067    3\n",
      "[1] \"16.5\"\n"
     ]
    },
    {
     "name": "stderr",
     "output_type": "stream",
     "text": [
      "Warning message:\n",
      "“Data is of class matrix. Coercing to dgCMatrix.”\n",
      "Warning message:\n",
      "“Data is of class matrix. Coercing to dgCMatrix.”\n"
     ]
    },
    {
     "name": "stdout",
     "output_type": "stream",
     "text": [
      "[1] 8323    3\n",
      "[1] \"17.0\"\n"
     ]
    },
    {
     "name": "stderr",
     "output_type": "stream",
     "text": [
      "Warning message:\n",
      "“Data is of class matrix. Coercing to dgCMatrix.”\n",
      "Warning message:\n",
      "“Data is of class matrix. Coercing to dgCMatrix.”\n"
     ]
    },
    {
     "name": "stdout",
     "output_type": "stream",
     "text": [
      "[1] 7746    3\n",
      "[1] \"17.5\"\n"
     ]
    },
    {
     "name": "stderr",
     "output_type": "stream",
     "text": [
      "Warning message:\n",
      "“Data is of class matrix. Coercing to dgCMatrix.”\n",
      "Warning message:\n",
      "“Data is of class matrix. Coercing to dgCMatrix.”\n"
     ]
    },
    {
     "name": "stdout",
     "output_type": "stream",
     "text": [
      "[1] 7867    3\n",
      "[1] \"18.0\"\n"
     ]
    },
    {
     "name": "stderr",
     "output_type": "stream",
     "text": [
      "Warning message:\n",
      "“Data is of class matrix. Coercing to dgCMatrix.”\n",
      "Warning message in file(file, \"rt\"):\n",
      "“cannot open file '/home/mgander/mouse_atlas/data/WOT/Representations/obs/NA.0.csv': No such file or directory”\n"
     ]
    },
    {
     "ename": "ERROR",
     "evalue": "Error in file(file, \"rt\"): cannot open the connection\n",
     "output_type": "error",
     "traceback": [
      "Error in file(file, \"rt\"): cannot open the connection\nTraceback:\n",
      "1. get_prepared_RDS(day1)",
      "2. read.csv(paste0(file_path, \"/Representations/obs/\", day, \".csv\"))   # at line 3 of file <text>",
      "3. read.table(file = file, header = header, sep = sep, quote = quote, \n .     dec = dec, fill = fill, comment.char = comment.char, ...)",
      "4. file(file, \"rt\")"
     ]
    }
   ],
   "source": [
    "for (i in 7:22) {\n",
    "    \n",
    "    day0=get_day(days, i)\n",
    "    day1=get_day(days, i+1)\n",
    "    print(day0)\n",
    "    \n",
    "    anno1=get_prepared_RDS(day0)\n",
    "    anno1$day = \"pre\"\n",
    "    \n",
    "    anno2=get_prepared_RDS(day1)\n",
    "    anno2$day = \"nex\"\n",
    "    anno = rbind(anno1, anno2)\n",
    "\n",
    "\n",
    "    emb=read.csv(paste0(file_path, \"/Representations/umap/\", day0, '_', day1, '.csv'))\n",
    "    rownames(emb)=emb$X\n",
    "    emb$X <- NULL\n",
    "    emb = emb[rownames(anno),]\n",
    "\n",
    "\n",
    "    ########           I added three lines in this function to save TOMEs idenified k-nn\n",
    "    res = createLineage_Knn(emb, anno, day0,  k_neigh = 5) #### createLineage_Knn function was in help_code.R\n",
    "\n",
    "    }"
   ]
  },
  {
   "cell_type": "code",
   "execution_count": null,
   "id": "e5076f83-a22f-4314-8c97-0b4706614de1",
   "metadata": {},
   "outputs": [],
   "source": []
  },
  {
   "cell_type": "code",
   "execution_count": null,
   "id": "25dbcd69-7bbe-42d6-b59e-be9f61245803",
   "metadata": {},
   "outputs": [],
   "source": []
  },
  {
   "cell_type": "code",
   "execution_count": null,
   "id": "d0225540-bde2-444f-b98b-671f029b1df7",
   "metadata": {},
   "outputs": [],
   "source": []
  },
  {
   "cell_type": "code",
   "execution_count": null,
   "id": "56397888-a81b-4383-8b47-0adf2b4764e1",
   "metadata": {},
   "outputs": [],
   "source": []
  },
  {
   "cell_type": "code",
   "execution_count": null,
   "id": "26510f04-26e6-473e-8a67-24d5496b2926",
   "metadata": {},
   "outputs": [],
   "source": []
  },
  {
   "cell_type": "code",
   "execution_count": null,
   "id": "f96f5f40-4ecf-4055-b387-9022c39ccccb",
   "metadata": {},
   "outputs": [],
   "source": []
  },
  {
   "cell_type": "code",
   "execution_count": null,
   "id": "c3966eb8-3789-49e2-b1eb-cecedf621e0a",
   "metadata": {},
   "outputs": [],
   "source": []
  },
  {
   "cell_type": "code",
   "execution_count": null,
   "id": "75ae867b-923b-4374-8dea-740dcfd067a2",
   "metadata": {},
   "outputs": [],
   "source": []
  }
 ],
 "metadata": {
  "kernelspec": {
   "display_name": "R",
   "language": "R",
   "name": "ir"
  },
  "language_info": {
   "codemirror_mode": "r",
   "file_extension": ".r",
   "mimetype": "text/x-r-source",
   "name": "R",
   "pygments_lexer": "r",
   "version": "4.3.0"
  }
 },
 "nbformat": 4,
 "nbformat_minor": 5
}
