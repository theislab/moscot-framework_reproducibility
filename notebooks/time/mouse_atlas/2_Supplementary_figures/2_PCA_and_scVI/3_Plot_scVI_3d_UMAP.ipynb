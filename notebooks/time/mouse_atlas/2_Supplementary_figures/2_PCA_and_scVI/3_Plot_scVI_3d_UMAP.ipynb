{
 "cells": [
  {
   "cell_type": "code",
   "execution_count": null,
   "id": "1e1bf736",
   "metadata": {},
   "outputs": [],
   "source": [
    "import numpy as np\n",
    "import anndata\n",
    "import pandas as pd\n",
    "import scanpy as sc\n",
    "import scipy\n",
    "import seaborn as sns\n",
    "import matplotlib.pyplot as plt\n",
    "\n",
    "import warnings\n",
    "warnings.simplefilter(action='ignore', category=FutureWarning)\n",
    "\n",
    "sc.settings.verbosity = 0"
   ]
  },
  {
   "cell_type": "code",
   "execution_count": null,
   "id": "cae1c4f5",
   "metadata": {},
   "outputs": [],
   "source": [
    "Path=\"/home/mgander/mouse_atlas/data\"\n",
    "#Path=\"/home/icb/manuel.gander/mouse_atlas/data\"\n",
    "ts=['E3.5', 'E4.5', 'E5.25', 'E5.5', 'E6.25', 'E6.5', 'E6.75', 'E7.0', 'E7.25', 'E7.5', 'E7.75', 'E8.0', 'E8.25', 'E8.5a', 'E8.5b', 'E9.5', 'E10.5', 'E11.5', 'E12.5', 'E13.5']"
   ]
  },
  {
   "cell_type": "code",
   "execution_count": null,
   "id": "136879d9",
   "metadata": {},
   "outputs": [],
   "source": [
    "i=13\n",
    "ts0=ts[i]\n",
    "ts1=ts[i+1]\n",
    "print(f'{ts0}_{ts1}')"
   ]
  },
  {
   "cell_type": "code",
   "execution_count": null,
   "id": "09fc98b9",
   "metadata": {},
   "outputs": [],
   "source": [
    "obs=sc.read(f\"{Path}/Comb_anndatas/adata_{ts0}_{ts1}.h5ad\").obs"
   ]
  },
  {
   "cell_type": "code",
   "execution_count": null,
   "id": "a34c0cf5",
   "metadata": {},
   "outputs": [],
   "source": [
    "df=pd.read_csv(f'{Path}/scVI_Representations/{ts0}_{ts1}_umap3.csv')\n",
    "df.columns=['cellID', 'UMAP_0', 'UMAP_1', 'UMAP_2']\n",
    "df=df.set_index('cellID').copy()\n",
    "df=df.join(obs)"
   ]
  },
  {
   "cell_type": "code",
   "execution_count": null,
   "id": "f3561339",
   "metadata": {},
   "outputs": [],
   "source": [
    "df['day']=['E8.5a' if a==0 else 'E8.5b' for a in df['day']]"
   ]
  },
  {
   "cell_type": "code",
   "execution_count": null,
   "id": "32bfd72b",
   "metadata": {},
   "outputs": [],
   "source": [
    "dfs=df.copy()\n",
    "dfs['cell_type']=list(dfs['cell_type'])"
   ]
  },
  {
   "cell_type": "code",
   "execution_count": null,
   "id": "46cf11e1",
   "metadata": {
    "scrolled": true
   },
   "outputs": [],
   "source": [
    "states=sorted(set(dfs['cell_type']))"
   ]
  },
  {
   "cell_type": "code",
   "execution_count": null,
   "id": "6bc970f5",
   "metadata": {},
   "outputs": [],
   "source": [
    "D_col={}\n",
    "D_col['Allantois']='aliceblue'\n",
    "D_col['Amniochorionic mesoderm A']='aqua'\n",
    "D_col['Amniochorionic mesoderm B']='aquamarine'\n",
    "D_col['Anterior floor plate']='cornflowerblue'\n",
    "D_col['Blood progenitors']='royalblue'\n",
    "D_col['Definitive endoderm']='darkblue'\n",
    "D_col['Endothelium']='darkslateblue'\n",
    "D_col['Extraembryonic mesoderm']='darkmagenta'\n",
    "D_col['Extraembryonic visceral endoderm']='blueviolet'\n",
    "D_col['First heart field']='fuchsia'\n",
    "D_col['Forebrain/midbrain']='deeppink'\n",
    "D_col['Fusing epithelium']='hotpink'\n",
    "D_col['Gut']='indianred'\n",
    "D_col['Hematoendothelial progenitors']='lightcoral'\n",
    "D_col['Hindbrain']='orangered'\n",
    "D_col['Intermediate mesoderm']='crimson'\n",
    "D_col['Neural crest']='red'\n",
    "D_col['Neuromesodermal progenitors']='darkred'\n",
    "D_col['Notochord']='maroon'\n",
    "D_col['Paraxial mesoderm A']='sienna'\n",
    "D_col['Paraxial mesoderm B']='brown'\n",
    "D_col['Placodal area']='chocolate'\n",
    "D_col['Posterior floor plate']='darkgoldenrod'\n",
    "D_col['Pre-epidermal keratinocytes']='darkolivegreen'\n",
    "D_col['Primitive erythroid cells']='olive'\n",
    "D_col['Primordial germ cells']='olivedrab'\n",
    "D_col['Second heart field']='forestgreen'\n",
    "D_col['Somatic mesoderm']='limegreen'\n",
    "D_col['Spinal cord']='mediumaquamarine'\n",
    "D_col['Splanchnic mesoderm']='palegreen'"
   ]
  },
  {
   "cell_type": "code",
   "execution_count": null,
   "id": "58bc4104",
   "metadata": {},
   "outputs": [],
   "source": [
    "dfn=pd.DataFrame({'ct':D_col.keys()})\n",
    "dfn['x']=range(len(dfn))\n",
    "dfn['y']=range(len(dfn))"
   ]
  },
  {
   "cell_type": "code",
   "execution_count": null,
   "id": "924c9905",
   "metadata": {
    "scrolled": true
   },
   "outputs": [],
   "source": [
    "# For the legend\n",
    "import plotly.express as px\n",
    "fig = px.scatter(dfn, x='x', y='y', color='ct',\n",
    "                   color_discrete_map=D_col)\n",
    "fig.show()"
   ]
  },
  {
   "cell_type": "code",
   "execution_count": null,
   "id": "7ee99aba",
   "metadata": {},
   "outputs": [],
   "source": [
    "w=10\n",
    "import plotly.express as px\n",
    "fig = px.scatter_3d(dfs, x='UMAP_0', y='UMAP_1', z='UMAP_2', color='day',\n",
    "                   color_discrete_map={'E8.5a':'yellow', 'E8.5b':'indigo'},\n",
    "                   width=w, height=w)\n",
    "fig.update_traces(marker={'size': 8})"
   ]
  },
  {
   "cell_type": "code",
   "execution_count": null,
   "id": "74fbd758",
   "metadata": {},
   "outputs": [],
   "source": []
  },
  {
   "cell_type": "code",
   "execution_count": null,
   "id": "2bdf4fd6",
   "metadata": {},
   "outputs": [],
   "source": [
    "w=3000\n",
    "fig.update_layout(width=w, height=w,scene_camera_eye=dict(x=0.5, y=-2, z=0.5), showlegend=False,\n",
    "                 scene=dict(\n",
    "        xaxis=dict(showticklabels=False, title=''),\n",
    "        yaxis=dict(showticklabels=False, title=''),\n",
    "        zaxis=dict(showticklabels=False, title=''),\n",
    "    ))"
   ]
  },
  {
   "cell_type": "code",
   "execution_count": null,
   "id": "1554afb1",
   "metadata": {},
   "outputs": [],
   "source": []
  },
  {
   "cell_type": "code",
   "execution_count": null,
   "id": "906d2328",
   "metadata": {},
   "outputs": [],
   "source": []
  },
  {
   "cell_type": "code",
   "execution_count": null,
   "id": "65daa3ff",
   "metadata": {},
   "outputs": [],
   "source": []
  },
  {
   "cell_type": "code",
   "execution_count": null,
   "id": "34873003",
   "metadata": {},
   "outputs": [],
   "source": []
  },
  {
   "cell_type": "code",
   "execution_count": null,
   "id": "1b9fdc7c",
   "metadata": {},
   "outputs": [],
   "source": [
    "w=10\n",
    "import plotly.express as px\n",
    "fig = px.scatter_3d(dfs, x='UMAP_0', y='UMAP_1', z='UMAP_2', color='cell_type',\n",
    "                   color_discrete_map=D_col,\n",
    "                   width=w, height=w)\n",
    "fig.update_traces(marker={'size': 8})"
   ]
  },
  {
   "cell_type": "code",
   "execution_count": null,
   "id": "14d238ef",
   "metadata": {},
   "outputs": [],
   "source": [
    "w=3000\n",
    "fig.update_layout(width=w, height=w,scene_camera_eye=dict(x=0.5, y=-2, z=0.5), showlegend=False,\n",
    "                 scene=dict(\n",
    "        xaxis=dict(showticklabels=False, title=''),\n",
    "        yaxis=dict(showticklabels=False, title=''),\n",
    "        zaxis=dict(showticklabels=False, title=''),\n",
    "    ))"
   ]
  },
  {
   "cell_type": "code",
   "execution_count": null,
   "id": "04cc7892",
   "metadata": {},
   "outputs": [],
   "source": []
  },
  {
   "cell_type": "code",
   "execution_count": null,
   "id": "50c77127",
   "metadata": {},
   "outputs": [],
   "source": []
  },
  {
   "cell_type": "code",
   "execution_count": null,
   "id": "8113364e",
   "metadata": {},
   "outputs": [],
   "source": []
  },
  {
   "cell_type": "code",
   "execution_count": null,
   "id": "df801f7d",
   "metadata": {},
   "outputs": [],
   "source": []
  },
  {
   "cell_type": "code",
   "execution_count": null,
   "id": "dcb287e8",
   "metadata": {},
   "outputs": [],
   "source": []
  },
  {
   "cell_type": "code",
   "execution_count": null,
   "id": "d236e3c0",
   "metadata": {},
   "outputs": [],
   "source": []
  },
  {
   "cell_type": "code",
   "execution_count": null,
   "id": "662899e8",
   "metadata": {},
   "outputs": [],
   "source": []
  }
 ],
 "metadata": {
  "kernelspec": {
   "display_name": "Python 3 (ipykernel)",
   "language": "python",
   "name": "python3"
  },
  "language_info": {
   "codemirror_mode": {
    "name": "ipython",
    "version": 3
   },
   "file_extension": ".py",
   "mimetype": "text/x-python",
   "name": "python",
   "nbconvert_exporter": "python",
   "pygments_lexer": "ipython3",
   "version": "3.9.16"
  }
 },
 "nbformat": 4,
 "nbformat_minor": 5
}
