{
 "cells": [
  {
   "cell_type": "code",
   "execution_count": 1,
   "id": "ca2f5f63",
   "metadata": {},
   "outputs": [],
   "source": [
    "import numpy as np\n",
    "import anndata\n",
    "import pandas as pd\n",
    "import scanpy as sc\n",
    "import scipy\n",
    "\n",
    "import warnings\n",
    "warnings.simplefilter(action='ignore', category=FutureWarning)\n",
    "from numba.core.errors import NumbaDeprecationWarning, NumbaPendingDeprecationWarning\n",
    "warnings.simplefilter('ignore', category=NumbaDeprecationWarning)\n",
    "#sc.settings.verbosity = 0"
   ]
  },
  {
   "cell_type": "code",
   "execution_count": 2,
   "id": "d98f503a",
   "metadata": {},
   "outputs": [],
   "source": [
    "Path=\"/home/icb/manuel.gander/mouse_atlas/data\"\n",
    "ts=['E3.5', 'E4.5', 'E5.25', 'E5.5', 'E6.25', 'E6.5', 'E6.75', 'E7.0', 'E7.25', 'E7.5', 'E7.75', 'E8.0', 'E8.25', 'E8.5a', 'E8.5b', 'E9.5', 'E10.5', 'E11.5', 'E12.5', 'E13.5']"
   ]
  },
  {
   "cell_type": "code",
   "execution_count": 3,
   "id": "3aa75df9",
   "metadata": {},
   "outputs": [],
   "source": [
    "def basic_PCA_preprocessing(adata):\n",
    "    adata.X=adata.raw.X.copy()\n",
    "    del adata.raw\n",
    "    sc.pp.filter_genes(adata, min_cells=3)\n",
    "    sc.pp.normalize_total(adata, target_sum=1e4)\n",
    "    sc.pp.log1p(adata)\n",
    "    sc.pp.highly_variable_genes(adata, min_mean=0.0125, max_mean=3, min_disp=0.5)\n",
    "    sc.tl.pca(adata, svd_solver='arpack', use_highly_variable=True, n_comps=30)\n",
    "    return(adata)"
   ]
  },
  {
   "cell_type": "code",
   "execution_count": 34,
   "id": "6af03c90",
   "metadata": {
    "scrolled": true
   },
   "outputs": [
    {
     "name": "stdout",
     "output_type": "stream",
     "text": [
      "E3.5_E4.5\n",
      "WARNING: Your filename has more than two extensions: ['.5_E4', '.5', '.h5ad'].\n",
      "Only considering the two last: ['.5', '.h5ad'].\n",
      "WARNING: Your filename has more than two extensions: ['.5_E4', '.5', '.h5ad'].\n",
      "Only considering the two last: ['.5', '.h5ad'].\n",
      "E4.5_E5.25\n",
      "WARNING: Your filename has more than two extensions: ['.5_E5', '.25', '.h5ad'].\n",
      "Only considering the two last: ['.25', '.h5ad'].\n",
      "WARNING: Your filename has more than two extensions: ['.5_E5', '.25', '.h5ad'].\n",
      "Only considering the two last: ['.25', '.h5ad'].\n",
      "E5.25_E5.5\n",
      "WARNING: Your filename has more than two extensions: ['.25_E5', '.5', '.h5ad'].\n",
      "Only considering the two last: ['.5', '.h5ad'].\n",
      "WARNING: Your filename has more than two extensions: ['.25_E5', '.5', '.h5ad'].\n",
      "Only considering the two last: ['.5', '.h5ad'].\n",
      "E5.5_E6.25\n",
      "WARNING: Your filename has more than two extensions: ['.5_E6', '.25', '.h5ad'].\n",
      "Only considering the two last: ['.25', '.h5ad'].\n",
      "WARNING: Your filename has more than two extensions: ['.5_E6', '.25', '.h5ad'].\n",
      "Only considering the two last: ['.25', '.h5ad'].\n",
      "E6.25_E6.5\n",
      "WARNING: Your filename has more than two extensions: ['.25_E6', '.5', '.h5ad'].\n",
      "Only considering the two last: ['.5', '.h5ad'].\n",
      "WARNING: Your filename has more than two extensions: ['.25_E6', '.5', '.h5ad'].\n",
      "Only considering the two last: ['.5', '.h5ad'].\n",
      "E6.5_E6.75\n",
      "WARNING: Your filename has more than two extensions: ['.5_E6', '.75', '.h5ad'].\n",
      "Only considering the two last: ['.75', '.h5ad'].\n",
      "WARNING: Your filename has more than two extensions: ['.5_E6', '.75', '.h5ad'].\n",
      "Only considering the two last: ['.75', '.h5ad'].\n",
      "E6.75_E7.0\n",
      "WARNING: Your filename has more than two extensions: ['.75_E7', '.0', '.h5ad'].\n",
      "Only considering the two last: ['.0', '.h5ad'].\n",
      "WARNING: Your filename has more than two extensions: ['.75_E7', '.0', '.h5ad'].\n",
      "Only considering the two last: ['.0', '.h5ad'].\n",
      "E7.0_E7.25\n",
      "WARNING: Your filename has more than two extensions: ['.0_E7', '.25', '.h5ad'].\n",
      "Only considering the two last: ['.25', '.h5ad'].\n",
      "WARNING: Your filename has more than two extensions: ['.0_E7', '.25', '.h5ad'].\n",
      "Only considering the two last: ['.25', '.h5ad'].\n",
      "E7.25_E7.5\n",
      "WARNING: Your filename has more than two extensions: ['.25_E7', '.5', '.h5ad'].\n",
      "Only considering the two last: ['.5', '.h5ad'].\n",
      "WARNING: Your filename has more than two extensions: ['.25_E7', '.5', '.h5ad'].\n",
      "Only considering the two last: ['.5', '.h5ad'].\n",
      "E7.5_E7.75\n",
      "WARNING: Your filename has more than two extensions: ['.5_E7', '.75', '.h5ad'].\n",
      "Only considering the two last: ['.75', '.h5ad'].\n",
      "WARNING: Your filename has more than two extensions: ['.5_E7', '.75', '.h5ad'].\n",
      "Only considering the two last: ['.75', '.h5ad'].\n",
      "E7.75_E8.0\n",
      "WARNING: Your filename has more than two extensions: ['.75_E8', '.0', '.h5ad'].\n",
      "Only considering the two last: ['.0', '.h5ad'].\n",
      "WARNING: Your filename has more than two extensions: ['.75_E8', '.0', '.h5ad'].\n",
      "Only considering the two last: ['.0', '.h5ad'].\n",
      "E8.0_E8.25\n",
      "WARNING: Your filename has more than two extensions: ['.0_E8', '.25', '.h5ad'].\n",
      "Only considering the two last: ['.25', '.h5ad'].\n",
      "WARNING: Your filename has more than two extensions: ['.0_E8', '.25', '.h5ad'].\n",
      "Only considering the two last: ['.25', '.h5ad'].\n",
      "E8.25_E8.5a\n",
      "WARNING: Your filename has more than two extensions: ['.25_E8', '.5a', '.h5ad'].\n",
      "Only considering the two last: ['.5a', '.h5ad'].\n",
      "WARNING: Your filename has more than two extensions: ['.25_E8', '.5a', '.h5ad'].\n",
      "Only considering the two last: ['.5a', '.h5ad'].\n"
     ]
    }
   ],
   "source": [
    "for i in range(18):\n",
    "    ts0=ts[i]\n",
    "    ts1=ts[i+1]\n",
    "    print(f'{ts0}_{ts1}')\n",
    "    adata=sc.read(f\"{Path}/Comb_anndatas/adata_{ts0}_{ts1}.h5ad\")\n",
    "\n",
    "\n",
    "    adata=basic_PCA_preprocessing(adata)\n",
    "    sc.pp.neighbors(adata)\n",
    "    sc.tl.umap(adata, n_components=3)\n",
    "    \n",
    "    \n",
    "    df=pd.DataFrame(adata.obsm['X_umap'])\n",
    "    df.columns=['UMAP_1', 'UMAP_2', 'UMAP_3']\n",
    "    df.index=adata.obs.index\n",
    "    \n",
    "    df.to_csv(f'{Path}/PCA_representations/{ts0}_{ts1}_umap3.csv')"
   ]
  },
  {
   "cell_type": "code",
   "execution_count": null,
   "id": "347b63dc",
   "metadata": {},
   "outputs": [],
   "source": []
  },
  {
   "cell_type": "code",
   "execution_count": null,
   "id": "bb17c37c",
   "metadata": {},
   "outputs": [],
   "source": []
  },
  {
   "cell_type": "code",
   "execution_count": null,
   "id": "c2b8e7e5",
   "metadata": {},
   "outputs": [],
   "source": []
  },
  {
   "cell_type": "code",
   "execution_count": null,
   "id": "f75aefe7",
   "metadata": {},
   "outputs": [],
   "source": []
  },
  {
   "cell_type": "code",
   "execution_count": null,
   "id": "de2567e4",
   "metadata": {},
   "outputs": [],
   "source": []
  },
  {
   "cell_type": "code",
   "execution_count": null,
   "id": "2330da40",
   "metadata": {},
   "outputs": [],
   "source": []
  },
  {
   "cell_type": "code",
   "execution_count": null,
   "id": "c9e4ec49",
   "metadata": {},
   "outputs": [],
   "source": []
  },
  {
   "cell_type": "code",
   "execution_count": null,
   "id": "6f91a218",
   "metadata": {},
   "outputs": [],
   "source": []
  },
  {
   "cell_type": "code",
   "execution_count": null,
   "id": "5ac6c98b",
   "metadata": {},
   "outputs": [],
   "source": []
  },
  {
   "cell_type": "code",
   "execution_count": null,
   "id": "565889b1",
   "metadata": {},
   "outputs": [],
   "source": []
  }
 ],
 "metadata": {
  "kernelspec": {
   "display_name": "jax",
   "language": "python",
   "name": "jax"
  },
  "language_info": {
   "codemirror_mode": {
    "name": "ipython",
    "version": 3
   },
   "file_extension": ".py",
   "mimetype": "text/x-python",
   "name": "python",
   "nbconvert_exporter": "python",
   "pygments_lexer": "ipython3",
   "version": "3.9.17"
  }
 },
 "nbformat": 4,
 "nbformat_minor": 5
}
