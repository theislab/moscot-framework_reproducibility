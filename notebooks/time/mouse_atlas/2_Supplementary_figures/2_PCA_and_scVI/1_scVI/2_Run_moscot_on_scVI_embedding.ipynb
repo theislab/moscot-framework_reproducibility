{
 "cells": [
  {
   "cell_type": "code",
   "execution_count": null,
   "id": "0e7987de",
   "metadata": {},
   "outputs": [],
   "source": [
    "import numpy as np\n",
    "import anndata\n",
    "import pandas as pd\n",
    "import scanpy as sc\n",
    "import scipy\n",
    "import seaborn as sns\n",
    "import matplotlib.pyplot as plt\n",
    "#import os\n",
    "#os.environ[\"JAX_PLATFORM_NAME\"] = \"cpu\"\n",
    "from moscot.problems.time._lineage import TemporalProblem\n",
    "\n",
    "import warnings\n",
    "warnings.simplefilter(action='ignore', category=FutureWarning)\n",
    "sc.settings.verbosity = 0"
   ]
  },
  {
   "cell_type": "code",
   "execution_count": null,
   "id": "cab53ec7",
   "metadata": {},
   "outputs": [],
   "source": [
    "Path=\"/home/icb/manuel.gander/mouse_atlas/data\"\n",
    "ts=['E3.5', 'E4.5', 'E5.25', 'E5.5', 'E6.25', 'E6.5', 'E6.75', 'E7.0', 'E7.25', 'E7.5', 'E7.75', 'E8.0', 'E8.25', 'E8.5a', 'E8.5b', 'E9.5', 'E10.5', 'E11.5', 'E12.5', 'E13.5']"
   ]
  },
  {
   "cell_type": "code",
   "execution_count": null,
   "id": "0a7c79c6",
   "metadata": {},
   "outputs": [],
   "source": [
    "def basic_PCA_preprocessing(adata):\n",
    "    adata.X=adata.raw.X.copy()\n",
    "    sc.pp.filter_genes(adata, min_cells=3)\n",
    "    sc.pp.normalize_total(adata, target_sum=1e4)\n",
    "    sc.pp.log1p(adata)\n",
    "    sc.pp.highly_variable_genes(adata, min_mean=0.0125, max_mean=3, min_disp=0.5)\n",
    "    sc.tl.pca(adata, svd_solver='arpack', use_highly_variable=True, n_comps=30)\n",
    "    return(adata.obsm['X_pca'])"
   ]
  },
  {
   "cell_type": "code",
   "execution_count": null,
   "id": "95798208",
   "metadata": {},
   "outputs": [],
   "source": [
    "cells=[32, 80, 100, 120, 400, 660, 1720, 4500, 8200, 15000, 30000, 60000, 73000, 90000, 90000, 200000, 1100000, 2600000, 6000000, 13000000]\n",
    "Cell_number_dict={}\n",
    "for i in range(20):\n",
    "    Cell_number_dict[ts[i]]=cells[i]"
   ]
  },
  {
   "cell_type": "code",
   "execution_count": null,
   "id": "0b855584",
   "metadata": {},
   "outputs": [],
   "source": [
    "for i in range(19):\n",
    "    eps=0.005\n",
    "    tau1s=[0.975,0.985,0.97,0.97,0.98,0.9955,0.94,0.96,0.972,0.95,0.975,0.99,0.985,0.98,0.985,0.895,0.935,0.95,0.94]\n",
    "    print(tau1s[i])\n",
    "    lam1s=[t*eps/(1-t) for t in tau1s]\n",
    "    lam2=100\n",
    "    lam1=lam1s[i]\n",
    "\n",
    "    tau1=lam1/(lam1+eps)\n",
    "    tau2=lam2/(lam2+eps)\n",
    "    \n",
    "    \n",
    "    ts0=ts[i]\n",
    "    ts1=ts[i+1]\n",
    "    print(f'{ts0}_{ts1}')\n",
    "\n",
    "    adata=sc.read(f\"{Path}/Comb_anndatas/adata_{ts0}_{ts1}.h5ad\")\n",
    "    del adata.raw\n",
    "    adata.obs['day']=adata.obs['day'].astype('category')\n",
    "    \n",
    "    # Load scVI-representation\n",
    "    scVI_repr=pd.read_pickle(f'{Path}/scVI_Representations/{ts0}_{ts1}_scVI.pkl')\n",
    "    if list(scVI_repr.index)==list(adata.obs.index):\n",
    "        adata.obsm['X_scVI']=scVI_repr.values\n",
    "\n",
    "    \n",
    "    tp=TemporalProblem(adata)\n",
    "    if i!=13:\n",
    "        tp.score_genes_for_marginals(gene_set_proliferation='mouse',  gene_set_apoptosis='mouse')\n",
    "    tp = tp.prepare('day', joint_attr=f'X_pca')\n",
    "\n",
    "    result=tp.solve(batch_size=3*10**3, epsilon=eps, tau_a=tau1, tau_b=tau2)\n",
    "    \n",
    "    \n",
    "    # Check apoptosis rate\n",
    "    gr=tp[(day0, day1)].solution.a\n",
    "    gr=gr/gr.mean()*Cell_number_dict[ts1]/Cell_number_dict[ts0]\n",
    "    cell_dying=np.sum((1-gr[gr<1]))\n",
    "    apoptosis_rate=float(cell_dying/len(gr))    \n",
    "    print(f'{ts0}:{apoptosis_rate}')\n",
    "    \n",
    "    \n",
    "    time_tuple=list(tp.solutions.keys())[0]\n",
    "    day0=time_tuple[0]\n",
    "    day1=time_tuple[1]\n",
    "    A0=adata[adata.obs['day']==day0].copy()\n",
    "    A1=adata[adata.obs['day']==day1].copy()\n",
    "    cell_states0={'cell_state': list(set(A0.obs['cell_state']))}\n",
    "    cell_states1={'cell_state': list(set(A1.obs['cell_state']))}\n",
    "    CT=tp.cell_transition(day0, day1, cell_states0, cell_states1)\n",
    "    CT.to_pickle(f'{Path}/moscot_maps/scVI/CTs/{ts0}_{ts1}_cell_type_transitions.pkl')"
   ]
  },
  {
   "cell_type": "code",
   "execution_count": null,
   "id": "085b3cec",
   "metadata": {},
   "outputs": [],
   "source": []
  },
  {
   "cell_type": "code",
   "execution_count": null,
   "id": "5341a64b",
   "metadata": {},
   "outputs": [],
   "source": []
  },
  {
   "cell_type": "code",
   "execution_count": null,
   "id": "ef1425d6",
   "metadata": {},
   "outputs": [],
   "source": []
  },
  {
   "cell_type": "code",
   "execution_count": null,
   "id": "22462a4b",
   "metadata": {},
   "outputs": [],
   "source": []
  },
  {
   "cell_type": "code",
   "execution_count": null,
   "id": "781fb9c5",
   "metadata": {},
   "outputs": [],
   "source": []
  }
 ],
 "metadata": {
  "kernelspec": {
   "display_name": "phos",
   "language": "python",
   "name": "phos"
  },
  "language_info": {
   "codemirror_mode": {
    "name": "ipython",
    "version": 3
   },
   "file_extension": ".py",
   "mimetype": "text/x-python",
   "name": "python",
   "nbconvert_exporter": "python",
   "pygments_lexer": "ipython3",
   "version": "3.10.5"
  }
 },
 "nbformat": 4,
 "nbformat_minor": 5
}
