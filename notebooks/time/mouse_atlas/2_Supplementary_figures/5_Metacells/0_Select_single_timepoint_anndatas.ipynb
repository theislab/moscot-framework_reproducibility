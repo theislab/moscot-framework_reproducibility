{
 "cells": [
  {
   "cell_type": "code",
   "execution_count": 1,
   "id": "73ff669f",
   "metadata": {},
   "outputs": [],
   "source": [
    "import numpy as np\n",
    "import anndata\n",
    "import pandas as pd\n",
    "import scanpy as sc\n",
    "import scipy\n",
    "import seaborn as sns\n",
    "import matplotlib.pyplot as plt\n",
    "import os\n",
    "import time"
   ]
  },
  {
   "cell_type": "code",
   "execution_count": null,
   "id": "f18b66f6",
   "metadata": {},
   "outputs": [],
   "source": [
    "ts0 = 'E9.5'\n",
    "ts1 = 'E10.5'\n",
    "\n",
    "Path=\"/home/icb/manuel.gander/mouse_atlas/data\"\n",
    "adata0=sc.read(f\"{Path}/Comb_anndatas/adata_{ts0}_{ts1}.h5ad\")\n",
    "del adata0.raw\n",
    "adata0.obs['day']=adata0.obs['day'].astype('category')\n",
    "a0 = adata0[adata0.obs['day']==9.5].copy()\n",
    "a0.write('E95_full.h5ad')"
   ]
  },
  {
   "cell_type": "code",
   "execution_count": 3,
   "id": "5fb9f20d",
   "metadata": {
    "scrolled": true
   },
   "outputs": [
    {
     "name": "stdout",
     "output_type": "stream",
     "text": [
      "WARNING: Your filename has more than two extensions: ['.5_E11', '.5', '.h5ad'].\n",
      "Only considering the two last: ['.5', '.h5ad'].\n",
      "WARNING: Your filename has more than two extensions: ['.5_E11', '.5', '.h5ad'].\n",
      "Only considering the two last: ['.5', '.h5ad'].\n"
     ]
    }
   ],
   "source": [
    "ts0 = 'E10.5'\n",
    "ts1 = 'E11.5'\n",
    "Path=\"/home/icb/manuel.gander/mouse_atlas/data\"\n",
    "adata0=sc.read(f\"{Path}/Comb_anndatas/adata_{ts0}_{ts1}.h5ad\")\n",
    "del adata0.raw\n",
    "adata0.obs['day']=adata0.obs['day'].astype('category')\n",
    "a0 = adata0[adata0.obs['day']==10.5].copy()\n",
    "a1 = adata0[adata0.obs['day']==11.5].copy()\n",
    "a0.write('E105_full.h5ad')\n",
    "a1.write('E115_full.h5ad')"
   ]
  },
  {
   "cell_type": "code",
   "execution_count": null,
   "id": "e65c5c26-f5f3-42f7-9270-bb89c5c44dfb",
   "metadata": {},
   "outputs": [],
   "source": []
  },
  {
   "cell_type": "code",
   "execution_count": null,
   "id": "200aa63e",
   "metadata": {},
   "outputs": [],
   "source": []
  },
  {
   "cell_type": "code",
   "execution_count": null,
   "id": "5e6b8c06",
   "metadata": {},
   "outputs": [],
   "source": []
  }
 ],
 "metadata": {
  "kernelspec": {
   "display_name": "ott_env",
   "language": "python",
   "name": "ott_env"
  },
  "language_info": {
   "codemirror_mode": {
    "name": "ipython",
    "version": 3
   },
   "file_extension": ".py",
   "mimetype": "text/x-python",
   "name": "python",
   "nbconvert_exporter": "python",
   "pygments_lexer": "ipython3",
   "version": "3.12.2"
  }
 },
 "nbformat": 4,
 "nbformat_minor": 5
}
