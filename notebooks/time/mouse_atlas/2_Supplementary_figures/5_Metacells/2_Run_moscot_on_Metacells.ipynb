{
 "cells": [
  {
   "cell_type": "code",
   "execution_count": 2,
   "id": "b74f7d9b",
   "metadata": {},
   "outputs": [],
   "source": [
    "import numpy as np\n",
    "import anndata\n",
    "import pandas as pd\n",
    "import scanpy as sc\n",
    "import scipy\n",
    "import seaborn as sns\n",
    "import matplotlib.pyplot as plt\n",
    "import os\n",
    "import time\n",
    "#os.environ[\"JAX_PLATFORM_NAME\"] = \"cpu\"\n",
    "from moscot.problems.time._lineage import TemporalProblem\n",
    "import warnings\n",
    "import jax\n",
    "import jax.numpy as jnp\n",
    "from ott.geometry import pointcloud\n",
    "from ott.problems.linear import linear_problem\n",
    "from ott.solvers.linear import sinkhorn, sinkhorn_lr\n",
    "import sys,os\n",
    "sys.path.append('/home/icb/manuel.gander/mouse_atlas/notebook')\n",
    "import scripts as scr\n",
    "import c2\n",
    "warnings.simplefilter(action='ignore', category=FutureWarning)\n",
    "sc.settings.verbosity = 0\n",
    "from tqdm import tqdm"
   ]
  },
  {
   "cell_type": "markdown",
   "id": "4387acc4",
   "metadata": {},
   "source": [
    "# Load and Aggregate based on SEACells"
   ]
  },
  {
   "cell_type": "code",
   "execution_count": 3,
   "id": "0fc95c30",
   "metadata": {},
   "outputs": [],
   "source": [
    "ts=['E3.5', 'E4.5', 'E5.25', 'E5.5', 'E6.25', 'E6.5', 'E6.75', 'E7.0', 'E7.25', 'E7.5', 'E7.75', 'E8.0', 'E8.25', 'E8.5a', 'E8.5b', 'E9.5', 'E10.5', 'E11.5', 'E12.5', 'E13.5']\n",
    "cells=[32, 80, 100, 120, 400, 660, 1720, 4500, 8200, 15000, 30000, 60000, 73000, 90000, 90000, 200000, 1100000, 2600000, 6000000, 13000000]\n",
    "Cell_number_dict={ts[i]:cells[i] for i in range(20)}"
   ]
  },
  {
   "cell_type": "code",
   "execution_count": 4,
   "id": "2e51e856",
   "metadata": {},
   "outputs": [
    {
     "name": "stderr",
     "output_type": "stream",
     "text": [
      "/home/icb/manuel.gander/ott_env/lib/python3.9/site-packages/anndata/_core/anndata.py:1818: UserWarning: Observation names are not unique. To make them unique, call `.obs_names_make_unique`.\n",
      "  utils.warn_names_duplicates(\"obs\")\n"
     ]
    }
   ],
   "source": [
    "adata = sc.read_h5ad('E105_E115_metacell_aggregated_anndata.h5ad')\n",
    "adata.obs['day']=adata.obs['day'].astype('category')"
   ]
  },
  {
   "cell_type": "markdown",
   "id": "e5d5752b",
   "metadata": {},
   "source": [
    "# Run moscot"
   ]
  },
  {
   "cell_type": "code",
   "execution_count": 47,
   "id": "e2377a2e",
   "metadata": {},
   "outputs": [],
   "source": [
    "ts0 = 'E10.5'\n",
    "ts1 = 'E11.5'\n",
    "\n",
    "tau1 = 0.8\n",
    "tau2=0.99995\n",
    "epsilon = 0.005"
   ]
  },
  {
   "cell_type": "code",
   "execution_count": 48,
   "id": "39656e19",
   "metadata": {},
   "outputs": [],
   "source": [
    "day0,day1=sorted(set(adata.obs['day']))\n",
    "inds0=list(adata[adata.obs['day']==day0].obs.index)\n",
    "inds1=list(adata[adata.obs['day']==day1].obs.index)"
   ]
  },
  {
   "cell_type": "code",
   "execution_count": 49,
   "id": "17c8ea4c",
   "metadata": {},
   "outputs": [],
   "source": [
    "# we need to adjust the weights of the metacells based on the number of cells that belong to the metacell\n",
    "\n",
    "ob0 = pd.read_pickle(f'E105_metacells.pkl')\n",
    "ob1 = pd.read_pickle(f'E115_metacells.pkl')\n",
    "\n",
    "a_mult = np.array([np.sum(ob0['metacell']==a) for a in sorted(set(ob0['metacell']))])\n",
    "b_mult = np.array([np.sum(ob1['metacell']==a) for a in sorted(set(ob1['metacell']))])"
   ]
  },
  {
   "cell_type": "code",
   "execution_count": 50,
   "id": "15c24528",
   "metadata": {
    "scrolled": true
   },
   "outputs": [],
   "source": [
    "tp=TemporalProblem(adata)\n",
    "tp.score_genes_for_marginals(gene_set_proliferation='mouse',  gene_set_apoptosis='mouse')\n",
    "tp = tp.prepare('day', joint_attr=f'X_pcaS')"
   ]
  },
  {
   "cell_type": "code",
   "execution_count": 51,
   "id": "2602d4cd",
   "metadata": {},
   "outputs": [],
   "source": [
    "tp[(10.5, 11.5)]._a = tp[(10.5, 11.5)].a*a_mult/a_mult.sum()\n",
    "tp[(10.5, 11.5)]._b = tp[(10.5, 11.5)].b*b_mult/b_mult.sum()"
   ]
  },
  {
   "cell_type": "code",
   "execution_count": 52,
   "id": "b239a2ea",
   "metadata": {},
   "outputs": [
    {
     "name": "stdout",
     "output_type": "stream",
     "text": [
      "\u001b[34mINFO    \u001b[0m Solving `\u001b[1;36m1\u001b[0m` problems                                                                                      \n",
      "\u001b[34mINFO    \u001b[0m Solving problem BirthDeathProblem\u001b[1m[\u001b[0m\u001b[33mstage\u001b[0m=\u001b[32m'prepared'\u001b[0m, \u001b[33mshape\u001b[0m=\u001b[1m(\u001b[0m\u001b[1;36m4573\u001b[0m, \u001b[1;36m7468\u001b[0m\u001b[1m)\u001b[0m\u001b[1m]\u001b[0m.                                  \n"
     ]
    }
   ],
   "source": [
    "result=tp.solve(epsilon=epsilon, tau_a=tau1, tau_b=tau2)\n",
    "iterations=float(tp[(day0, day1)].solution._output.n_iters)"
   ]
  },
  {
   "cell_type": "code",
   "execution_count": 53,
   "id": "44ea9e1b",
   "metadata": {},
   "outputs": [
    {
     "data": {
      "text/plain": [
       "0.023928280919790268"
      ]
     },
     "execution_count": 53,
     "metadata": {},
     "output_type": "execute_result"
    }
   ],
   "source": [
    "gr=tp[(day0, day1)].solution.a\n",
    "gr=gr/gr.mean()*Cell_number_dict[ts1]/Cell_number_dict[ts0]\n",
    "cell_dying=np.sum((1-gr[gr<1]))\n",
    "apoptosis_rate=float(cell_dying/len(gr))\n",
    "apoptosis_rate"
   ]
  },
  {
   "cell_type": "code",
   "execution_count": 59,
   "id": "a5926e19",
   "metadata": {},
   "outputs": [
    {
     "data": {
      "text/plain": [
       "array([[0.0000000e+00, 0.0000000e+00, 0.0000000e+00, ..., 0.0000000e+00,\n",
       "        0.0000000e+00, 9.7563513e-10],\n",
       "       [2.2820572e-22, 0.0000000e+00, 0.0000000e+00, ..., 1.8278701e-11,\n",
       "        6.2529975e-23, 0.0000000e+00],\n",
       "       [2.0755801e-21, 0.0000000e+00, 0.0000000e+00, ..., 1.0607004e-15,\n",
       "        8.6965156e-29, 0.0000000e+00],\n",
       "       ...,\n",
       "       [1.1972049e-21, 0.0000000e+00, 0.0000000e+00, ..., 1.1185957e-11,\n",
       "        3.5382883e-19, 0.0000000e+00],\n",
       "       [4.9574332e-21, 0.0000000e+00, 0.0000000e+00, ..., 3.0868795e-12,\n",
       "        1.0455959e-21, 0.0000000e+00],\n",
       "       [9.7072443e-16, 1.1818551e-40, 1.8809112e-29, ..., 9.1501665e-22,\n",
       "        3.7228707e-15, 6.6415752e-14]], dtype=float32)"
      ]
     },
     "execution_count": 59,
     "metadata": {},
     "output_type": "execute_result"
    }
   ],
   "source": [
    "M = np.array(tp.solutions[(10.5, 11.5)].transport_matrix)\n",
    "T = pd.DataFrame(data=M, index=adata[adata.obs['day']==10.5].obs.index, columns=adata[adata.obs['day']==11.5].obs.index)\n",
    "T.to_pickle('Metacell_T.pkl')"
   ]
  },
  {
   "cell_type": "code",
   "execution_count": null,
   "id": "9cf0b304",
   "metadata": {},
   "outputs": [],
   "source": []
  },
  {
   "cell_type": "code",
   "execution_count": null,
   "id": "3b4e5589",
   "metadata": {},
   "outputs": [],
   "source": []
  },
  {
   "cell_type": "code",
   "execution_count": null,
   "id": "52e8ab96",
   "metadata": {},
   "outputs": [],
   "source": []
  }
 ],
 "metadata": {
  "kernelspec": {
   "display_name": "ott_env",
   "language": "python",
   "name": "ott_env"
  },
  "language_info": {
   "codemirror_mode": {
    "name": "ipython",
    "version": 3
   },
   "file_extension": ".py",
   "mimetype": "text/x-python",
   "name": "python",
   "nbconvert_exporter": "python",
   "pygments_lexer": "ipython3",
   "version": "3.12.2"
  }
 },
 "nbformat": 4,
 "nbformat_minor": 5
}
