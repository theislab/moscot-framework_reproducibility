{
 "cells": [
  {
   "cell_type": "code",
   "execution_count": 1,
   "id": "2297730f-e2f7-449e-a7a9-9cf5cee14514",
   "metadata": {},
   "outputs": [],
   "source": [
    "# I followed this vignette:\n",
    "# https://tanaylab.github.io/metacells-vignettes/one-pass.html"
   ]
  },
  {
   "cell_type": "code",
   "execution_count": 1,
   "id": "cee90be7",
   "metadata": {},
   "outputs": [],
   "source": [
    "import anndata as ad             # For reading/writing AnnData files\n",
    "import matplotlib.pyplot as plt  # For plotting\n",
    "import metacells as mc           # The Metacells package\n",
    "import numpy as np               # For array/matrix operations\n",
    "import pandas as pd              # For data frames\n",
    "import os                        # For filesystem operations\n",
    "import seaborn as sb             # For plotting\n",
    "import scipy.sparse as sp        # For sparse matrices\n",
    "import shutil                    # for filesystem operations\n",
    "from math import hypot           # For plotting\n",
    "import scanpy as sc"
   ]
  },
  {
   "cell_type": "code",
   "execution_count": 2,
   "id": "efb84b6c",
   "metadata": {},
   "outputs": [
    {
     "data": {
      "text/plain": [
       "True"
      ]
     },
     "execution_count": 2,
     "metadata": {},
     "output_type": "execute_result"
    }
   ],
   "source": [
    "# Use SVG for scalable low-element-count diagrams.\n",
    "%config InlineBackend.figure_formats = [\"svg\"]\n",
    "\n",
    "# A matter of personal preference.\n",
    "sb.set_style(\"white\")\n",
    "\n",
    "# Running operations on an inefficient layout can make code **much** slower.\n",
    "# For example, summing the columns of a row-major matrix.\n",
    "# By default this will just be a warning.\n",
    "# We set it to be an error here to make sure the vignette does not lead you astray.\n",
    "#\n",
    "# Note that this only affects the Metacells package.\n",
    "# Numpy will happily and silently take 100x longer for running such inefficient operations.\n",
    "# At least, there's no way I can tell to create a warning or error for this;\n",
    "# also, the implementation for \"inefficient\" operations could be *much* faster.\n",
    "#\n",
    "# The workaround in either case is to explicitly re-layout the 2D matrix before the operations.\n",
    "# This turns out to be much faster, especially when the matrix can be reused.\n",
    "# Note that numpy is also very slow when doing matrix re-layout,\n",
    "# so the metacells package provides a function for doing it more efficiently.\n",
    "#\n",
    "# Sigh.\n",
    "mc.ut.allow_inefficient_layout(False)"
   ]
  },
  {
   "cell_type": "code",
   "execution_count": 3,
   "id": "e1cebf85",
   "metadata": {
    "scrolled": true
   },
   "outputs": [],
   "source": [
    "# cells = sc.read_h5ad('E115_full.h5ad')\n",
    "# cells = sc.read_h5ad('E105_full.h5ad')\n",
    "cells = sc.read_h5ad('E95_full.h5ad')"
   ]
  },
  {
   "cell_type": "code",
   "execution_count": 4,
   "id": "33026733",
   "metadata": {},
   "outputs": [
    {
     "name": "stdout",
     "output_type": "stream",
     "text": [
      "Input: 111078 cells, 24552 genes\n"
     ]
    }
   ],
   "source": [
    "clean = None  # Allow it to be gc-ed\n",
    "mc.ut.set_name(cells, \"hca_bm.one-pass.preliminary.cells\")\n",
    "print(f\"Input: {cells.n_obs} cells, {cells.n_vars} genes\")"
   ]
  },
  {
   "cell_type": "code",
   "execution_count": 5,
   "id": "0502081e",
   "metadata": {},
   "outputs": [],
   "source": [
    "# human vs mouse genes\n",
    "LATERAL_GENE_NAMES = [\n",
    "    \"ACSM3\", \"ANP32B\", \"APOE\", \"AURKA\", \"B2M\", \"BIRC5\", \"BTG2\", \"CALM1\", \"CD63\", \"CD69\", \"CDK4\",\n",
    "    \"CENPF\", \"CENPU\", \"CENPW\", \"CH17-373J23.1\", \"CKS1B\", \"CKS2\", \"COX4I1\", \"CXCR4\", \"DNAJB1\",\n",
    "    \"DONSON\", \"DUSP1\", \"DUT\", \"EEF1A1\", \"EEF1B2\", \"EIF3E\", \"EMP3\", \"FKBP4\", \"FOS\", \"FOSB\", \"FTH1\",\n",
    "    \"G0S2\", \"GGH\", \"GLTSCR2\", \"GMNN\", \"GNB2L1\", \"GPR183\", \"H2AFZ\", \"H3F3B\", \"HBM\", \"HIST1H1C\",\n",
    "    \"HIST1H2AC\", \"HIST1H2BG\", \"HIST1H4C\", \"HLA-A\", \"HLA-B\", \"HLA-C\", \"HLA-DMA\", \"HLA-DMB\",\n",
    "    \"HLA-DPA1\", \"HLA-DPB1\", \"HLA-DQA1\", \"HLA-DQB1\", \"HLA-DRA\", \"HLA-DRB1\", \"HLA-E\", \"HLA-F\", \"HMGA1\",\n",
    "    \"HMGB1\", \"HMGB2\", \"HMGB3\", \"HMGN2\", \"HNRNPAB\", \"HSP90AA1\", \"HSP90AB1\", \"HSPA1A\", \"HSPA1B\",\n",
    "    \"HSPA6\", \"HSPD1\", \"HSPE1\", \"HSPH1\", \"ID2\", \"IER2\", \"IGHA1\", \"IGHA2\", \"IGHD\", \"IGHG1\", \"IGHG2\",\n",
    "    \"IGHG3\", \"IGHG4\", \"IGHM\", \"IGKC\", \"IGKV1-12\", \"IGKV1-39\", \"IGKV1-5\", \"IGKV3-15\", \"IGKV4-1\",\n",
    "    \"IGLC2\", \"IGLC3\", \"IGLC6\", \"IGLC7\", \"IGLL1\", \"IGLL5\", \"IGLV2-34\", \"JUN\", \"JUNB\", \"KIAA0101\",\n",
    "    \"LEPROTL1\", \"LGALS1\", \"LINC01206\", \"LTB\", \"MCM3\", \"MCM4\", \"MCM7\", \"MKI67\", \"MT2A\", \"MYL12A\",\n",
    "    \"MYL6\", \"NASP\", \"NFKBIA\", \"NUSAP1\", \"PA2G4\", \"PCNA\", \"PDLIM1\", \"PLK3\", \"PPP1R15A\", \"PTMA\",\n",
    "    \"PTTG1\", \"RAN\", \"RANBP1\", \"RGCC\", \"RGS1\", \"RGS2\", \"RGS3\", \"RP11-1143G9.4\", \"RP11-160E2.6\",\n",
    "    \"RP11-53B5.1\", \"RP11-620J15.3\", \"RP5-1025A1.3\", \"RP5-1171I10.5\", \"RPS10\", \"RPS10-NUDT3\", \"RPS11\",\n",
    "    \"RPS12\", \"RPS13\", \"RPS14\", \"RPS15\", \"RPS15A\", \"RPS16\", \"RPS17\", \"RPS18\", \"RPS19\", \"RPS19BP1\",\n",
    "    \"RPS2\", \"RPS20\", \"RPS21\", \"RPS23\", \"RPS24\", \"RPS25\", \"RPS26\", \"RPS27\", \"RPS27A\", \"RPS27L\",\n",
    "    \"RPS28\", \"RPS29\", \"RPS3\", \"RPS3A\", \"RPS4X\", \"RPS4Y1\", \"RPS4Y2\", \"RPS5\", \"RPS6\", \"RPS6KA1\",\n",
    "    \"RPS6KA2\", \"RPS6KA2-AS1\", \"RPS6KA3\", \"RPS6KA4\", \"RPS6KA5\", \"RPS6KA6\", \"RPS6KB1\", \"RPS6KB2\",\n",
    "    \"RPS6KC1\", \"RPS6KL1\", \"RPS7\", \"RPS8\", \"RPS9\", \"RPSA\", \"RRM2\", \"SMC4\", \"SRGN\", \"SRSF7\", \"STMN1\",\n",
    "    \"TK1\", \"TMSB4X\", \"TOP2A\", \"TPX2\", \"TSC22D3\", \"TUBA1A\", \"TUBA1B\", \"TUBB\", \"TUBB4B\", \"TXN\", \"TYMS\",\n",
    "    \"UBA52\", \"UBC\", \"UBE2C\", \"UHRF1\", \"YBX1\", \"YPEL5\", \"ZFP36\", \"ZWINT\"\n",
    "]\n",
    "LATERAL_GENE_PATTERNS = [\"Rp[ls].*\"]  # Ribosomal"
   ]
  },
  {
   "cell_type": "code",
   "execution_count": 6,
   "id": "209934f8",
   "metadata": {},
   "outputs": [
    {
     "name": "stderr",
     "output_type": "stream",
     "text": [
      "set hca_bm.one-pass.preliminary.cells.var[lateral_gene]: 205 true (0.835%) out of 24552 bools\n"
     ]
    },
    {
     "name": "stdout",
     "output_type": "stream",
     "text": [
      "['Acsm3', 'Anp32b', 'Apoe', 'Aurka', 'B2m', 'Birc5', 'Btg2', 'Calm1', 'Cd63', 'Cd69', 'Cdk4', 'Cenpf', 'Cenpu', 'Cenpw', 'Cks1b', 'Cks2', 'Cox4i1', 'Cxcr4', 'Dnajb1', 'Donson', 'Dusp1', 'Dut', 'Eef1a1', 'Eef1b2', 'Eif3e', 'Emp3', 'Fkbp4', 'Fos', 'Fosb', 'Fth1', 'G0s2', 'Ggh', 'Gmnn', 'Gpr183', 'H3f3b', 'Hmga1', 'Hmgb1', 'Hmgb2', 'Hmgn2', 'Hnrnpab', 'Hsp90aa1', 'Hsp90ab1', 'Hspa1a', 'Hspa1b', 'Hspd1', 'Hspe1', 'Hsph1', 'Id2', 'Ier2', 'Igll1', 'Jun', 'Junb', 'Leprotl1', 'Lgals1', 'Ltb', 'Mcm3', 'Mcm4', 'Mcm7', 'Mki67', 'Myl12a', 'Myl6', 'Nasp', 'Nfkbia', 'Nusap1', 'Pa2g4', 'Pcna', 'Pdlim1', 'Plk3', 'Ppp1r15a', 'Ptma', 'Pttg1', 'Ran', 'Ranbp1', 'Rgcc', 'Rgs1', 'Rgs2', 'Rgs3', 'Rrm2', 'Smc4', 'Srgn', 'Srsf7', 'Stmn1', 'Tk1', 'Top2a', 'Tpx2', 'Tuba1a', 'Tuba1b', 'Tubb4b', 'Tyms', 'Uba52', 'Ubc', 'Ube2c', 'Uhrf1', 'Ybx1', 'Ypel5', 'Zfp36', 'Zwint']\n",
      "and 108 Rp[ls].* genes\n"
     ]
    }
   ],
   "source": [
    "# This will mark as \"lateral_gene\" any genes that match the above, if they exist in the clean dataset.\n",
    "mc.pl.mark_lateral_genes(\n",
    "    cells,\n",
    "    lateral_gene_names=LATERAL_GENE_NAMES,\n",
    "    lateral_gene_patterns=LATERAL_GENE_PATTERNS,\n",
    ")\n",
    "\n",
    "lateral_gene_mask = mc.ut.get_v_numpy(cells, \"lateral_gene\")\n",
    "lateral_gene_names = set(cells.var_names[lateral_gene_mask])\n",
    "print(sorted([\n",
    "    name for name in lateral_gene_names\n",
    "    if not name.startswith(\"Rpl\") and not name.startswith(\"Rps\")\n",
    "]))\n",
    "print(f\"\"\"and {len([\n",
    "    name for name in lateral_gene_names if name.startswith(\"Rpl\") or name.startswith(\"Rps\")\n",
    "])} Rp[ls].* genes\"\"\")"
   ]
  },
  {
   "cell_type": "code",
   "execution_count": 7,
   "id": "11454de6",
   "metadata": {},
   "outputs": [],
   "source": [
    "NOISY_GENE_NAMES = [\n",
    "    \"CCL3\", \"CCL4\", \"CCL5\", \"CXCL8\", \"DUSP1\", \"FOS\", \"G0S2\", \"HBB\", \"HIST1H4C\", \"IER2\", \"IGKC\",\n",
    "    \"IGLC2\", \"JUN\", \"JUNB\", \"KLRB1\", \"MT2A\", \"RPS26\", \"RPS4Y1\", \"TRBC1\", \"TUBA1B\", \"TUBB\"\n",
    "]"
   ]
  },
  {
   "cell_type": "code",
   "execution_count": 8,
   "id": "bab2663e",
   "metadata": {},
   "outputs": [
    {
     "name": "stderr",
     "output_type": "stream",
     "text": [
      "set hca_bm.one-pass.preliminary.cells.var[noisy_gene]: 12 true (0.04888%) out of 24552 bools\n"
     ]
    }
   ],
   "source": [
    "# This will mark as \"noisy_gene\" any genes that match the above, if they exist in the clean dataset.\n",
    "mc.pl.mark_noisy_genes(cells, noisy_gene_names=NOISY_GENE_NAMES)"
   ]
  },
  {
   "cell_type": "code",
   "execution_count": 9,
   "id": "03559e1d",
   "metadata": {},
   "outputs": [
    {
     "name": "stdout",
     "output_type": "stream",
     "text": [
      "10\n"
     ]
    }
   ],
   "source": [
    "# Either use the guesstimator:\n",
    "max_parallel_piles = mc.pl.guess_max_parallel_piles(cells)\n",
    "# Or, if running out of memory manually override:\n",
    "# max_paralle_piles = ...\n",
    "max_parallel_piles=10\n",
    "print(max_parallel_piles)\n",
    "mc.pl.set_max_parallel_piles(max_parallel_piles)"
   ]
  },
  {
   "cell_type": "code",
   "execution_count": 10,
   "id": "5159dc79",
   "metadata": {},
   "outputs": [
    {
     "name": "stderr",
     "output_type": "stream",
     "text": [
      "Detect rare gene modules...\n",
      "100%|███████████████████████████████████████████████████████████████████▉[04:08]\n"
     ]
    }
   ],
   "source": [
    "with mc.ut.progress_bar():\n",
    "    mc.pl.divide_and_conquer_pipeline(cells, random_seed=0)"
   ]
  },
  {
   "cell_type": "code",
   "execution_count": 11,
   "id": "b37b04c0",
   "metadata": {},
   "outputs": [
    {
     "name": "stderr",
     "output_type": "stream",
     "text": [
      "set hca_bm.one-pass.preliminary.metacells.obs[grouped]: 1972 int64s\n",
      "set hca_bm.one-pass.preliminary.metacells.obs[total_umis]: 1972 int64s\n",
      "set hca_bm.one-pass.preliminary.metacells.layers[total_umis]: ndarray 1972 X 24552 float32s\n",
      "set hca_bm.one-pass.preliminary.metacells.obs[__zeros_downsample_umis]: 1972 int64s\n",
      "set hca_bm.one-pass.preliminary.metacells.layers[zeros]: ndarray 1972 X 24552 int32s\n",
      "set hca_bm.one-pass.preliminary.cells.obs[metacell_name]: 111078 <U8s\n",
      "set hca_bm.one-pass.preliminary.metacells.var[features]: 24552 objects\n",
      "set hca_bm.one-pass.preliminary.metacells.var[gene_names]: 24552 objects\n",
      "set hca_bm.one-pass.preliminary.metacells.var[lateral_gene]: 205 true (0.835%) out of 24552 bools\n",
      "set hca_bm.one-pass.preliminary.metacells.var[noisy_gene]: 12 true (0.04888%) out of 24552 bools\n",
      "set hca_bm.one-pass.preliminary.metacells.var[selected_gene]: 4997 true (20.35%) out of 24552 bools\n",
      "set hca_bm.one-pass.preliminary.metacells.var[rare_gene]: 0 true (0%) out of 24552 bools\n",
      "set hca_bm.one-pass.preliminary.metacells.var[rare_gene_module]: 24552 int32s\n",
      "set hca_bm.one-pass.preliminary.metacells.obs[metacells_rare_gene_module]: 1972 int32s\n",
      "set hca_bm.one-pass.preliminary.metacells.obs[rare_metacell]: 0 true (0%) out of 1972 bools\n",
      "set hca_bm.one-pass.preliminary.metacells.uns[outliers]: 0\n",
      "set hca_bm.one-pass.preliminary.metacells.uns[metacells_algorithm]: metacells.0.9.4\n"
     ]
    },
    {
     "name": "stdout",
     "output_type": "stream",
     "text": [
      "Preliminary: 1972 metacells, 24552 genes\n"
     ]
    }
   ],
   "source": [
    "metacells = \\\n",
    "    mc.pl.collect_metacells(cells, name=\"hca_bm.one-pass.preliminary.metacells\", random_seed=0)\n",
    "print(f\"Preliminary: {metacells.n_obs} metacells, {metacells.n_vars} genes\")"
   ]
  },
  {
   "cell_type": "code",
   "execution_count": 12,
   "id": "566548f6",
   "metadata": {},
   "outputs": [],
   "source": [
    "# It's called prelimary because he does an additional round of doublet removal (the -1 metacells), I'll ingore this\n",
    "# since it is only very few cells for me that are called doublets "
   ]
  },
  {
   "cell_type": "code",
   "execution_count": 13,
   "id": "975e7a81",
   "metadata": {},
   "outputs": [],
   "source": [
    "# cells.obs.to_pickle('E115_metacells.pkl')\n",
    "# cells.obs.to_pickle('E105_metacells.pkl')\n",
    "cells.obs.to_pickle('E95_metacells.pkl')"
   ]
  },
  {
   "cell_type": "code",
   "execution_count": null,
   "id": "d214ebdb",
   "metadata": {},
   "outputs": [],
   "source": []
  },
  {
   "cell_type": "code",
   "execution_count": null,
   "id": "2e5c301e",
   "metadata": {},
   "outputs": [],
   "source": []
  }
 ],
 "metadata": {
  "kernelspec": {
   "display_name": "Python 3 (ipykernel)",
   "language": "python",
   "name": "python3"
  },
  "language_info": {
   "codemirror_mode": {
    "name": "ipython",
    "version": 3
   },
   "file_extension": ".py",
   "mimetype": "text/x-python",
   "name": "python",
   "nbconvert_exporter": "python",
   "pygments_lexer": "ipython3",
   "version": "3.9.16"
  }
 },
 "nbformat": 4,
 "nbformat_minor": 5
}
