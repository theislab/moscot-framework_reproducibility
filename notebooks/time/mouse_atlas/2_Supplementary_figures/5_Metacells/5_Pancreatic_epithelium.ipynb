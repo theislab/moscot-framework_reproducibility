{
 "cells": [
  {
   "cell_type": "markdown",
   "metadata": {},
   "source": [
    "# Evaluating Gene Correlations - Pancreatic epithelium"
   ]
  },
  {
   "cell_type": "code",
   "execution_count": 1,
   "metadata": {},
   "outputs": [],
   "source": [
    "import numpy as np\n",
    "import anndata\n",
    "import pandas as pd\n",
    "import scanpy as sc\n",
    "import scipy\n",
    "import seaborn as sns\n",
    "import matplotlib.pyplot as plt"
   ]
  },
  {
   "cell_type": "code",
   "execution_count": 2,
   "metadata": {},
   "outputs": [],
   "source": [
    "Path=\"/home/mgander/mouse_atlas/data\"\n",
    "ts=['E3.5', 'E4.5', 'E5.25', 'E5.5', 'E6.25', 'E6.5', 'E6.75', 'E7.0', 'E7.25', 'E7.5', 'E7.75', 'E8.0', 'E8.25', 'E8.5a', 'E8.5b', 'E9.5', 'E10.5', 'E11.5', 'E12.5', 'E13.5']"
   ]
  },
  {
   "cell_type": "code",
   "execution_count": 5,
   "metadata": {},
   "outputs": [],
   "source": [
    "ct='E11.5:Pancreatic epithelium'\n",
    "i=16\n",
    "\n",
    "ts0=ts[i]\n",
    "ts1=ts[i+1]"
   ]
  },
  {
   "cell_type": "code",
   "execution_count": 6,
   "metadata": {},
   "outputs": [
    {
     "name": "stdout",
     "output_type": "stream",
     "text": [
      "WARNING: Your filename has more than two extensions: ['.5_E11', '.5', '.h5ad'].\n",
      "Only considering the two last: ['.5', '.h5ad'].\n",
      "WARNING: Your filename has more than two extensions: ['.5_E11', '.5', '.h5ad'].\n",
      "Only considering the two last: ['.5', '.h5ad'].\n"
     ]
    },
    {
     "name": "stderr",
     "output_type": "stream",
     "text": [
      "/home/mgander/.local/lib/python3.9/site-packages/anndata/__init__.py:55: FutureWarning: `anndata.read` is deprecated, use `anndata.read_h5ad` instead. `ad.read` will be removed in mid 2024.\n",
      "  warnings.warn(\n"
     ]
    }
   ],
   "source": [
    "adata=sc.read(f\"{Path}/Comb_anndatas/adata_{ts0}_{ts1}.h5ad\")\n",
    "cell_indices=adata[adata.obs['day']==sorted(set(adata.obs['day']))[0]].obs.index"
   ]
  },
  {
   "cell_type": "code",
   "execution_count": 7,
   "metadata": {
    "scrolled": true
   },
   "outputs": [],
   "source": [
    "gT = pd.read_pickle(\"Pancreas_pull_metacells2.pkl\").loc[cell_indices]['c'].values\n",
    "gM=pd.read_pickle(f\"{Path}/moscot_maps/growth_rates_and_pulls2/{ts0}_{ct}_pulls.pkl\")\n",
    "gM=gM.loc[cell_indices].values"
   ]
  },
  {
   "cell_type": "markdown",
   "metadata": {},
   "source": [
    "# Correlation for curated genes"
   ]
  },
  {
   "cell_type": "markdown",
   "metadata": {},
   "source": [
    "The following list of genes was obtained by litarture seach when looking for genes that predict deveopment into pancreatic epithelium cells. The key in the dictionary corresponds to the citation (Pubmed ID), and the values correspond to the genes the publication lists."
   ]
  },
  {
   "cell_type": "markdown",
   "metadata": {},
   "source": [
    "Be careful, I also listed driver/marker genes if there was only moderate evidence of them being directly involved in these cell transitions, so use this list with caution!!!"
   ]
  },
  {
   "cell_type": "code",
   "execution_count": 8,
   "metadata": {},
   "outputs": [],
   "source": [
    "# Pancreas\n",
    "\n",
    "D={}\n",
    "\n",
    "D['PMID: 17202186']=['Ptf1a', 'Pdx1', 'Neurog3', 'Nkx6-1', 'Nkx2-2', 'Tle3']\n",
    "\n",
    "D['PMID: 15604203']=['Neurog3', 'Pdx1', 'Slc2a2', 'Iapp', 'Gck', 'Mnx1', 'Hes1', 'Neurod1', \n",
    "                     'Pax4', 'Pax6', 'Nkx2-2', 'Nkx6-1', 'Bhlha15']\n",
    "\n",
    "D['PMID: 15298336']=['Pdx1', 'Nkx2-2', 'Hnf1b', 'Ptf1a', 'Nkx6-1', 'Mnx1', 'Hhex', 'Onecut1', 'Foxa2', \n",
    "                     'Hes1', 'Mnx1', 'Ptf1a', 'Nr5a2', 'Neurod1', 'Pax4', 'Pax6', 'Hnf4a', 'Hnf1a']\n",
    "\n",
    "D['PMID: 25063451']=['Nr5a2', 'Bhlha15', 'Ptf1a', 'Rbpjl']\n",
    "\n",
    "\n",
    "\n",
    "D['PMID: 17202186, maybe']=['Slc2a2', 'Tle1', 'Tle2', 'Mafa', 'Mafb']\n",
    "\n",
    "D['PMID: 15298336, maybe']=['Irs2', 'Foxo1', 'Mafa', 'Mafb', 'Gck', 'Iapp', 'Pklr']\n",
    "\n",
    "\n",
    "D['PMID: 25063451, maybe'] = ['Myc', 'Gata4']\n",
    "\n",
    "D['Moscot pancreas multiome analysis']=['Btbd17', 'Cadm1', 'Ccdc34', 'Cck', 'Cel', 'Cox7a2l', 'Dctn3', 'Fev', 'Gadd45a', 'Gcg', 'Ghrl', 'Hes6', 'Hhex', 'Ins2', 'Kif11', 'Mki67', 'Nav2', 'Neurod1', 'Neurog3', 'Npepl1', 'Pclo', 'Ppp3ca', 'Ptf1a', 'Rbpjl', 'Reep5', 'Sox9', 'Spp1', 'Sst', 'Tox3', 'Ubl3Arx', 'Yipf4', 'Zwint']\n",
    "\n",
    "D['PMID: 30254276']=['Reep5', 'Btbd17', 'Gng12', 'Peg10', 'Sst', 'Ngn3', 'Fev', 'Pax4']\n",
    "\n",
    "D['PMID: 18471525']=['Cadm1']\n",
    "\n",
    "D['PMID: 31160421']=['Ngn3', 'Sox9', 'Nkx6-1', 'Muc1', 'Cdh1', 'Neurod1', 'Pax4', 'Arx', 'Hes6', 'Fev', 'Cck',\n",
    "                   'Btbd17', 'Gadd45a', 'Vwa5b2', 'Tox3', 'Dlk1', 'Mdk', 'Btf3', 'Amotl2', 'Cdkn1a', \n",
    "                    'Sox4', 'Mfng', 'Btg2', 'Ppp1r14a', 'Mtch1', 'Numbl', 'Hes6', 'Cbfa2t3', 'Rcor2',\n",
    "                   'Smarcd2', 'Insm1', 'Cbfa2t2', 'Cpa1', 'Myc', 'Notch2', 'Ptf1a', 'Cpa1', 'Cel', 'Rbpjl',\n",
    "                    'Anxa2']\n",
    "\n",
    "# These are the genes from PMID: 31160421, Table 2, Upregulated in Ngn3+\n",
    "# It is not ideal to use these, since Ngn3+ cells appear a little later (~E12), but these drivers/markers\n",
    "# are likely being started to be expressed already earlier\n",
    "b0=list(pd.read_csv('/home/mgander/mouse_atlas/data/genes.csv', header=None)[0])\n",
    "\n",
    "genes=[]\n",
    "for a in D.values():\n",
    "    genes=[*genes, *a]\n",
    "genes=[*genes, *b0]\n",
    "\n",
    "# Eliminate duplicates\n",
    "genes=[a for a in set(genes)]"
   ]
  },
  {
   "cell_type": "code",
   "execution_count": 9,
   "metadata": {},
   "outputs": [
    {
     "name": "stderr",
     "output_type": "stream",
     "text": [
      "/home/mgander/.local/lib/python3.9/site-packages/anndata/__init__.py:55: FutureWarning: `anndata.read` is deprecated, use `anndata.read_h5ad` instead. `ad.read` will be removed in mid 2024.\n",
      "  warnings.warn(\n"
     ]
    }
   ],
   "source": [
    "adata=sc.read(f\"{Path}/Comb_anndatas/scVI_anndatas/scvi_adata_{ts0}.h5ad\")\n",
    "adata.var.index=list(adata.var['gene_names'])"
   ]
  },
  {
   "cell_type": "code",
   "execution_count": 10,
   "metadata": {
    "scrolled": true
   },
   "outputs": [
    {
     "data": {
      "text/plain": [
       "106"
      ]
     },
     "execution_count": 10,
     "metadata": {},
     "output_type": "execute_result"
    }
   ],
   "source": [
    "hvgs=list(adata.var[adata.var['highly_variable']]['gene_names'])\n",
    "genes_selected=[]\n",
    "for gene in genes:\n",
    "    if gene in hvgs:\n",
    "        genes_selected.append(gene)\n",
    "len(genes_selected)"
   ]
  },
  {
   "cell_type": "code",
   "execution_count": 11,
   "metadata": {
    "scrolled": true
   },
   "outputs": [
    {
     "data": {
      "text/plain": [
       "['Bcl2',\n",
       " 'Btbd17',\n",
       " 'Btg2',\n",
       " 'C2cd4c',\n",
       " 'Cadm1',\n",
       " 'Casz1',\n",
       " 'Cbfa2t3',\n",
       " 'Cck',\n",
       " 'Cdkn1c',\n",
       " 'Cel',\n",
       " 'Cer1',\n",
       " 'Ckb',\n",
       " 'Cldn12',\n",
       " 'Col18a1',\n",
       " 'Cotl1',\n",
       " 'Cpt2',\n",
       " 'Crp',\n",
       " 'Crybb1',\n",
       " 'Cyb5r3',\n",
       " 'Dab1',\n",
       " 'Dlk1',\n",
       " 'Dll1',\n",
       " 'Efhd2',\n",
       " 'Epb42',\n",
       " 'Eya2',\n",
       " 'Fam110a',\n",
       " 'Fgd4',\n",
       " 'Foxa2',\n",
       " 'Foxa3',\n",
       " 'Gadd45a',\n",
       " 'Gata4',\n",
       " 'Gcg',\n",
       " 'Gck',\n",
       " 'Gfra3',\n",
       " 'Ghrl',\n",
       " 'Gpx2',\n",
       " 'Grin3a',\n",
       " 'Hes6',\n",
       " 'Hnf1a',\n",
       " 'Hpca',\n",
       " 'Ifitm2',\n",
       " 'Igfbpl1',\n",
       " 'Irs2',\n",
       " 'Kirrel2',\n",
       " 'Klf13',\n",
       " 'Krt19',\n",
       " 'Krt8',\n",
       " 'Krtap17-1',\n",
       " 'Lingo1',\n",
       " 'Lmna',\n",
       " 'Lynx1',\n",
       " 'Mafb',\n",
       " 'Megf11',\n",
       " 'Mfng',\n",
       " 'Mia',\n",
       " 'Miat',\n",
       " 'Mmd2',\n",
       " 'Mnx1',\n",
       " 'Nav2',\n",
       " 'Ndrg1',\n",
       " 'Neurod1',\n",
       " 'Neurod2',\n",
       " 'Nfix',\n",
       " 'Nkx2-2',\n",
       " 'Nkx6-1',\n",
       " 'Notum',\n",
       " 'Nptx1',\n",
       " 'Nr5a2',\n",
       " 'Obscn',\n",
       " 'Onecut1',\n",
       " 'Pde1c',\n",
       " 'Pla2g2f',\n",
       " 'Plk3',\n",
       " 'Prss8',\n",
       " 'Qsox1',\n",
       " 'Rab15',\n",
       " 'Rap1gap2',\n",
       " 'Rasgrp3',\n",
       " 'Rbfox3',\n",
       " 'Rhbg',\n",
       " 'Rph3al',\n",
       " 'Rsad2',\n",
       " 'Serinc2',\n",
       " 'Serpina1c',\n",
       " 'Sftpc',\n",
       " 'Sh3bgrl3',\n",
       " 'Shf',\n",
       " 'Smoc2',\n",
       " 'Sparc',\n",
       " 'Spint2',\n",
       " 'Spp1',\n",
       " 'Spsb4',\n",
       " 'Sst',\n",
       " 'St3gal6',\n",
       " 'St6galnac2',\n",
       " 'Steap1',\n",
       " 'Stxbp1',\n",
       " 'Tbc1d8',\n",
       " 'Tff3',\n",
       " 'Tgm2',\n",
       " 'Tinagl1',\n",
       " 'Tle6',\n",
       " 'Tmed4',\n",
       " 'Tmem176b',\n",
       " 'Tox3',\n",
       " 'Tpm1']"
      ]
     },
     "execution_count": 11,
     "metadata": {},
     "output_type": "execute_result"
    }
   ],
   "source": [
    "sorted(genes_selected)"
   ]
  },
  {
   "cell_type": "code",
   "execution_count": 12,
   "metadata": {
    "scrolled": true
   },
   "outputs": [],
   "source": [
    "subset=True\n",
    "\n",
    "DF=pd.DataFrame({})\n",
    "\n",
    "for gene in genes_selected:\n",
    "    loc=adata.var.index.get_loc(gene)\n",
    "    exp=adata.layers['scvi_normalized'][:,loc]\n",
    "    #exp=adataS.X[:,loc]\n",
    "    #exp=np.array(exp.todense()).T[0]\n",
    "\n",
    "    if subset==True:\n",
    "        wh=np.where(adata.obs['cell_state']=='E10.5:Gut and lung epithelium')[0]\n",
    "        exp=exp[wh]\n",
    "        gT2=gT[wh]\n",
    "        gM2=gM[wh]\n",
    "    else:\n",
    "        gT2=gT.copy()\n",
    "        gM2=gM.copy()\n",
    "\n",
    "\n",
    "    (cor, p)=scipy.stats.spearmanr(exp, gT2)\n",
    "    dfT=pd.DataFrame({'Timepoint': ts0, 'Gene':[gene], 'Method': 'moscot_metacells', 'Correlation':cor, 'P-value':p, 'type':'Spearman'})\n",
    "    (cor, p)=scipy.stats.spearmanr(exp, gM2)\n",
    "    dfM=pd.DataFrame({'Timepoint': ts0, 'Gene':[gene], 'Method': 'moscot_single_cell', 'Correlation':cor, 'P-value':p, 'type':'Spearman'})\n",
    "    DF=pd.concat([DF, dfM,dfT])\n",
    "DF['Abs. Correlation']=abs(DF['Correlation'])\n",
    "DF.index=np.arange(len(DF))"
   ]
  },
  {
   "cell_type": "code",
   "execution_count": 13,
   "metadata": {},
   "outputs": [
    {
     "data": {
      "text/plain": [
       "<Axes: xlabel='Abs. Correlation', ylabel='Timepoint'>"
      ]
     },
     "execution_count": 13,
     "metadata": {},
     "output_type": "execute_result"
    },
    {
     "data": {
      "image/png": "[encoded data removed]",
      "text/plain": [
       "<Figure size 300x300 with 1 Axes>"
      ]
     },
     "metadata": {},
     "output_type": "display_data"
    }
   ],
   "source": [
    "fig, ax = plt.subplots(ncols=1, figsize=(3, 3))\n",
    "sns.boxplot(data=DF, x=\"Abs. Correlation\", y=\"Timepoint\", hue='Method', showfliers=True,\n",
    "               showmeans=False,  whis=[100,0], ax=ax)"
   ]
  },
  {
   "cell_type": "code",
   "execution_count": 15,
   "metadata": {
    "scrolled": true
   },
   "outputs": [],
   "source": [
    "DF.to_pickle(f'{Path}/Validation_output/Metacells_PE.npy')"
   ]
  },
  {
   "cell_type": "code",
   "execution_count": 14,
   "metadata": {},
   "outputs": [
    {
     "data": {
      "text/html": [
       "<div>\n",
       "<style scoped>\n",
       "    .dataframe tbody tr th:only-of-type {\n",
       "        vertical-align: middle;\n",
       "    }\n",
       "\n",
       "    .dataframe tbody tr th {\n",
       "        vertical-align: top;\n",
       "    }\n",
       "\n",
       "    .dataframe thead th {\n",
       "        text-align: right;\n",
       "    }\n",
       "</style>\n",
       "<table border=\"1\" class=\"dataframe\">\n",
       "  <thead>\n",
       "    <tr style=\"text-align: right;\">\n",
       "      <th></th>\n",
       "      <th>Timepoint</th>\n",
       "      <th>Gene</th>\n",
       "      <th>Method</th>\n",
       "      <th>Correlation</th>\n",
       "      <th>P-value</th>\n",
       "      <th>type</th>\n",
       "      <th>Abs. Correlation</th>\n",
       "    </tr>\n",
       "  </thead>\n",
       "  <tbody>\n",
       "    <tr>\n",
       "      <th>0</th>\n",
       "      <td>E10.5</td>\n",
       "      <td>Efhd2</td>\n",
       "      <td>moscot_single_cell</td>\n",
       "      <td>0.396005</td>\n",
       "      <td>1.614720e-45</td>\n",
       "      <td>Spearman</td>\n",
       "      <td>0.396005</td>\n",
       "    </tr>\n",
       "    <tr>\n",
       "      <th>1</th>\n",
       "      <td>E10.5</td>\n",
       "      <td>Efhd2</td>\n",
       "      <td>moscot_metacells</td>\n",
       "      <td>0.357963</td>\n",
       "      <td>6.220043e-37</td>\n",
       "      <td>Spearman</td>\n",
       "      <td>0.357963</td>\n",
       "    </tr>\n",
       "    <tr>\n",
       "      <th>2</th>\n",
       "      <td>E10.5</td>\n",
       "      <td>Notum</td>\n",
       "      <td>moscot_single_cell</td>\n",
       "      <td>0.077970</td>\n",
       "      <td>7.421235e-03</td>\n",
       "      <td>Spearman</td>\n",
       "      <td>0.077970</td>\n",
       "    </tr>\n",
       "    <tr>\n",
       "      <th>3</th>\n",
       "      <td>E10.5</td>\n",
       "      <td>Notum</td>\n",
       "      <td>moscot_metacells</td>\n",
       "      <td>-0.257401</td>\n",
       "      <td>2.787209e-19</td>\n",
       "      <td>Spearman</td>\n",
       "      <td>0.257401</td>\n",
       "    </tr>\n",
       "    <tr>\n",
       "      <th>4</th>\n",
       "      <td>E10.5</td>\n",
       "      <td>Serinc2</td>\n",
       "      <td>moscot_single_cell</td>\n",
       "      <td>0.019446</td>\n",
       "      <td>5.049173e-01</td>\n",
       "      <td>Spearman</td>\n",
       "      <td>0.019446</td>\n",
       "    </tr>\n",
       "    <tr>\n",
       "      <th>...</th>\n",
       "      <td>...</td>\n",
       "      <td>...</td>\n",
       "      <td>...</td>\n",
       "      <td>...</td>\n",
       "      <td>...</td>\n",
       "      <td>...</td>\n",
       "      <td>...</td>\n",
       "    </tr>\n",
       "    <tr>\n",
       "      <th>207</th>\n",
       "      <td>E10.5</td>\n",
       "      <td>Gpx2</td>\n",
       "      <td>moscot_metacells</td>\n",
       "      <td>0.236046</td>\n",
       "      <td>2.225619e-16</td>\n",
       "      <td>Spearman</td>\n",
       "      <td>0.236046</td>\n",
       "    </tr>\n",
       "    <tr>\n",
       "      <th>208</th>\n",
       "      <td>E10.5</td>\n",
       "      <td>Tpm1</td>\n",
       "      <td>moscot_single_cell</td>\n",
       "      <td>0.017254</td>\n",
       "      <td>5.541032e-01</td>\n",
       "      <td>Spearman</td>\n",
       "      <td>0.017254</td>\n",
       "    </tr>\n",
       "    <tr>\n",
       "      <th>209</th>\n",
       "      <td>E10.5</td>\n",
       "      <td>Tpm1</td>\n",
       "      <td>moscot_metacells</td>\n",
       "      <td>0.041054</td>\n",
       "      <td>1.590840e-01</td>\n",
       "      <td>Spearman</td>\n",
       "      <td>0.041054</td>\n",
       "    </tr>\n",
       "    <tr>\n",
       "      <th>210</th>\n",
       "      <td>E10.5</td>\n",
       "      <td>Tmem176b</td>\n",
       "      <td>moscot_single_cell</td>\n",
       "      <td>0.383378</td>\n",
       "      <td>1.532252e-42</td>\n",
       "      <td>Spearman</td>\n",
       "      <td>0.383378</td>\n",
       "    </tr>\n",
       "    <tr>\n",
       "      <th>211</th>\n",
       "      <td>E10.5</td>\n",
       "      <td>Tmem176b</td>\n",
       "      <td>moscot_metacells</td>\n",
       "      <td>0.339233</td>\n",
       "      <td>4.103525e-33</td>\n",
       "      <td>Spearman</td>\n",
       "      <td>0.339233</td>\n",
       "    </tr>\n",
       "  </tbody>\n",
       "</table>\n",
       "<p>212 rows × 7 columns</p>\n",
       "</div>"
      ],
      "text/plain": [
       "    Timepoint      Gene              Method  Correlation       P-value  \\\n",
       "0       E10.5     Efhd2  moscot_single_cell     0.396005  1.614720e-45   \n",
       "1       E10.5     Efhd2    moscot_metacells     0.357963  6.220043e-37   \n",
       "2       E10.5     Notum  moscot_single_cell     0.077970  7.421235e-03   \n",
       "3       E10.5     Notum    moscot_metacells    -0.257401  2.787209e-19   \n",
       "4       E10.5   Serinc2  moscot_single_cell     0.019446  5.049173e-01   \n",
       "..        ...       ...                 ...          ...           ...   \n",
       "207     E10.5      Gpx2    moscot_metacells     0.236046  2.225619e-16   \n",
       "208     E10.5      Tpm1  moscot_single_cell     0.017254  5.541032e-01   \n",
       "209     E10.5      Tpm1    moscot_metacells     0.041054  1.590840e-01   \n",
       "210     E10.5  Tmem176b  moscot_single_cell     0.383378  1.532252e-42   \n",
       "211     E10.5  Tmem176b    moscot_metacells     0.339233  4.103525e-33   \n",
       "\n",
       "         type  Abs. Correlation  \n",
       "0    Spearman          0.396005  \n",
       "1    Spearman          0.357963  \n",
       "2    Spearman          0.077970  \n",
       "3    Spearman          0.257401  \n",
       "4    Spearman          0.019446  \n",
       "..        ...               ...  \n",
       "207  Spearman          0.236046  \n",
       "208  Spearman          0.017254  \n",
       "209  Spearman          0.041054  \n",
       "210  Spearman          0.383378  \n",
       "211  Spearman          0.339233  \n",
       "\n",
       "[212 rows x 7 columns]"
      ]
     },
     "execution_count": 14,
     "metadata": {},
     "output_type": "execute_result"
    }
   ],
   "source": [
    "DF"
   ]
  },
  {
   "cell_type": "code",
   "execution_count": null,
   "metadata": {},
   "outputs": [],
   "source": []
  },
  {
   "cell_type": "code",
   "execution_count": null,
   "metadata": {},
   "outputs": [],
   "source": []
  }
 ],
 "metadata": {
  "kernelspec": {
   "display_name": "phos",
   "language": "python",
   "name": "phos"
  },
  "language_info": {
   "codemirror_mode": {
    "name": "ipython",
    "version": 3
   },
   "file_extension": ".py",
   "mimetype": "text/x-python",
   "name": "python",
   "nbconvert_exporter": "python",
   "pygments_lexer": "ipython3",
   "version": "3.9.16"
  }
 },
 "nbformat": 4,
 "nbformat_minor": 4
}
