{
 "cells": [
  {
   "cell_type": "markdown",
   "id": "dd016781",
   "metadata": {},
   "source": [
    "# Moscot maps to cell type transitions"
   ]
  },
  {
   "cell_type": "markdown",
   "id": "2332fc35",
   "metadata": {},
   "source": [
    "This sums over the corresponding rows/columns of moscots transport maps to compute transition rates between cell types"
   ]
  },
  {
   "cell_type": "code",
   "execution_count": null,
   "id": "c11b247f",
   "metadata": {},
   "outputs": [],
   "source": [
    "import numpy as np\n",
    "import anndata\n",
    "import pandas as pd\n",
    "import scanpy as sc\n",
    "import scipy\n",
    "\n",
    "from moscot.problems.time._lineage import TemporalProblem"
   ]
  },
  {
   "cell_type": "code",
   "execution_count": 6,
   "id": "e0b23fce",
   "metadata": {},
   "outputs": [],
   "source": [
    "Path=\"/home/mgander/moscot-framework_reproducibility/data/mouse_temporal\"\n",
    "ts=['E3.5', 'E4.5', 'E5.25', 'E5.5', 'E6.25', 'E6.5', 'E6.75', 'E7.0', 'E7.25', 'E7.5', 'E7.75', 'E8.0', 'E8.25', 'E8.5a', 'E8.5b', 'E9.5', 'E10.5', 'E11.5', 'E12.5', 'E13.5']\n",
    "cells=[32, 80, 100, 120, 400, 660, 1720, 4500, 8200, 15000, 30000, 60000, 73000, 90000, 90000, 200000, 1100000, 2600000, 6000000, 13000000]\n",
    "Cell_number_dict={}\n",
    "for i in range(20):\n",
    "    Cell_number_dict[ts[i]]=cells[i]"
   ]
  },
  {
   "cell_type": "markdown",
   "id": "16af0019",
   "metadata": {},
   "source": []
  },
  {
   "cell_type": "code",
   "execution_count": 7,
   "id": "32ffe77a",
   "metadata": {
    "scrolled": true
   },
   "outputs": [
    {
     "name": "stdout",
     "output_type": "stream",
     "text": [
      "WARNING: Your filename has more than two extensions: ['.5_E4', '.5', '.h5ad'].\n",
      "Only considering the two last: ['.5', '.h5ad'].\n",
      "WARNING: Your filename has more than two extensions: ['.5_E4', '.5', '.h5ad'].\n",
      "Only considering the two last: ['.5', '.h5ad'].\n"
     ]
    }
   ],
   "source": [
    "# Doesn't matter which adata you use to create a tp instance, the result is always the same. I just need one\n",
    "# to instantiate a tp-problem\n",
    "adata=sc.read(f\"{Path}/anndatas/Comb_anndatas/adata_E3.5_E4.5.h5ad\")\n",
    "tp=TemporalProblem(adata)"
   ]
  },
  {
   "cell_type": "code",
   "execution_count": null,
   "id": "084c9865",
   "metadata": {},
   "outputs": [],
   "source": []
  },
  {
   "cell_type": "code",
   "execution_count": 4,
   "id": "7c98baef",
   "metadata": {},
   "outputs": [
    {
     "name": "stdout",
     "output_type": "stream",
     "text": [
      "E3.5\n",
      "E4.5\n",
      "E5.25\n",
      "E5.5\n",
      "E6.25\n",
      "E6.5\n",
      "E6.75\n",
      "E7.0\n",
      "E7.25\n",
      "E7.5\n",
      "E7.75\n",
      "E8.0\n",
      "E8.25\n"
     ]
    }
   ],
   "source": [
    "for i in range(18):\n",
    "    ts0=ts[i]\n",
    "    ts1=ts[i+1]\n",
    "    print(ts0)\n",
    "\n",
    "    tp=tp.load(f'{Path}/moscot_maps_cell_type_transition_analysis/{ts0}_{ts1}_TemporalProblem.pkl')\n",
    "    adata=tp.adata\n",
    "    \n",
    "    time_tuple=list(tp.solutions.keys())[0]\n",
    "    day0=time_tuple[0]\n",
    "    day1=time_tuple[1]\n",
    "    A0=adata[adata.obs['day']==day0]\n",
    "    A1=adata[adata.obs['day']==day1]\n",
    "    cell_states0={'cell_state': list(set(A0.obs['cell_state']))}\n",
    "    cell_states1={'cell_state': list(set(A1.obs['cell_state']))}\n",
    "    T=tp.cell_transition(day0, day1, cell_states0, cell_states1)\n",
    "    T.to_pickle(f'{Path}/moscot_maps_cell_type_transition_analysis/{ts0}_{ts1}_cell_type_transitions.pkl')"
   ]
  },
  {
   "cell_type": "code",
   "execution_count": null,
   "id": "b3c7688a",
   "metadata": {},
   "outputs": [],
   "source": []
  },
  {
   "cell_type": "code",
   "execution_count": null,
   "id": "9ab275e2",
   "metadata": {},
   "outputs": [],
   "source": []
  },
  {
   "cell_type": "code",
   "execution_count": null,
   "id": "1d23d52c",
   "metadata": {},
   "outputs": [],
   "source": []
  },
  {
   "cell_type": "code",
   "execution_count": null,
   "id": "63fd680d",
   "metadata": {},
   "outputs": [],
   "source": []
  }
 ],
 "metadata": {
  "kernelspec": {
   "display_name": "mc",
   "language": "python",
   "name": "mc"
  },
  "language_info": {
   "codemirror_mode": {
    "name": "ipython",
    "version": 3
   },
   "file_extension": ".py",
   "mimetype": "text/x-python",
   "name": "python",
   "nbconvert_exporter": "python",
   "pygments_lexer": "ipython3",
   "version": "3.10.9"
  }
 },
 "nbformat": 4,
 "nbformat_minor": 5
}
