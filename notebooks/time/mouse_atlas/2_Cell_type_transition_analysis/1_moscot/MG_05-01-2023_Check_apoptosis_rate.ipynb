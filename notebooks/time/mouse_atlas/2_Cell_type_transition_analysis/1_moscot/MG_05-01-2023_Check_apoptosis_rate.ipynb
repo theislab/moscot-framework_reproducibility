{
 "cells": [
  {
   "cell_type": "markdown",
   "id": "4c58773f",
   "metadata": {},
   "source": [
    "# Moscot map to growth/apoptosis rates"
   ]
  },
  {
   "cell_type": "markdown",
   "id": "4124f7b4",
   "metadata": {},
   "source": [
    "This is a short script that loads computed moscot maps to inspect the growth rates and the apoptosis rate"
   ]
  },
  {
   "cell_type": "code",
   "execution_count": null,
   "id": "d9fa804b",
   "metadata": {},
   "outputs": [],
   "source": [
    "import numpy as np\n",
    "import anndata\n",
    "import pandas as pd\n",
    "import scanpy as sc\n",
    "import scipy\n",
    "import seaborn as sns\n",
    "import matplotlib.pyplot as plt\n",
    "import scanpy\n",
    "\n",
    "\n",
    "from moscot.problems.time._lineage import TemporalProblem"
   ]
  },
  {
   "cell_type": "code",
   "execution_count": 2,
   "id": "e0b23fce",
   "metadata": {},
   "outputs": [],
   "source": [
    "Path=\"/home/mgander/moscot-framework_reproducibility/data/mouse_temporal\"\n",
    "ts=['E3.5', 'E4.5', 'E5.25', 'E5.5', 'E6.25', 'E6.5', 'E6.75', 'E7.0', 'E7.25', 'E7.5', 'E7.75', 'E8.0', 'E8.25', 'E8.5a', 'E8.5b', 'E9.5', 'E10.5', 'E11.5', 'E12.5', 'E13.5']"
   ]
  },
  {
   "cell_type": "code",
   "execution_count": 3,
   "id": "b0fb3471",
   "metadata": {},
   "outputs": [
    {
     "name": "stdout",
     "output_type": "stream",
     "text": [
      "absl-py @ file:///home/conda/feedstock_root/build_artifacts/absl-py_1673535674859/work\n",
      "aiohttp==3.8.4\n",
      "aiosignal==1.3.1\n",
      "anndata==0.9.1\n",
      "asttokens @ file:///opt/conda/conda-bld/asttokens_1646925590279/work\n",
      "async-timeout==4.0.2\n",
      "attrs==23.1.0\n",
      "backcall @ file:///home/ktietz/src/ci/backcall_1611930011877/work\n",
      "certifi==2022.12.7\n",
      "charset-normalizer==3.1.0\n",
      "chex @ file:///home/conda/feedstock_root/build_artifacts/chex_1679925560941/work\n",
      "cloudpickle==2.2.1\n",
      "cmake==3.26.3\n",
      "comm @ file:///croot/comm_1671231121260/work\n",
      "contextlib2==21.6.0\n",
      "contourpy==1.0.7\n",
      "cycler @ file:///home/conda/feedstock_root/build_artifacts/cycler_1635519461629/work\n",
      "debugpy @ file:///home/builder/ci_310/debugpy_1640789504635/work\n",
      "decorator @ file:///opt/conda/conda-bld/decorator_1643638310831/work\n",
      "dm-tree @ file:///home/conda/feedstock_root/build_artifacts/dm-tree_1649681253781/work\n",
      "dnspython==2.3.0\n",
      "docrep==0.3.2\n",
      "entrypoints @ file:///tmp/build/80754af9/entrypoints_1649908313000/work\n",
      "et-xmlfile==1.1.0\n",
      "executing @ file:///opt/conda/conda-bld/executing_1646925071911/work\n",
      "filelock==3.12.0\n",
      "flax @ file:///home/conda/feedstock_root/build_artifacts/flax_1678956281003/work\n",
      "fonttools==4.39.3\n",
      "frozenlist==1.3.3\n",
      "fsspec==2023.4.0\n",
      "future==0.18.3\n",
      "h5py==3.8.0\n",
      "hyperopt==0.1.2\n",
      "idna==3.4\n",
      "ipykernel @ file:///croot/ipykernel_1671488378391/work\n",
      "ipython @ file:///croot/ipython_1674681422581/work\n",
      "ipywidgets==8.0.6\n",
      "jax==0.4.8\n",
      "jaxlib==0.4.7+cuda12.cudnn88\n",
      "jaxopt @ file:///home/conda/feedstock_root/build_artifacts/jaxopt_1666272042018/work\n",
      "jedi @ file:///tmp/build/80754af9/jedi_1644315229345/work\n",
      "Jinja2==3.1.2\n",
      "joblib==1.2.0\n",
      "jupyter_client @ file:///croot/jupyter_client_1671703053786/work\n",
      "jupyter_core @ file:///croot/jupyter_core_1672332224593/work\n",
      "jupyterlab-widgets==3.0.7\n",
      "kiwisolver @ file:///croot/kiwisolver_1672387140495/work\n",
      "lightning-utilities==0.8.0\n",
      "lit==16.0.1\n",
      "llvmlite==0.39.1\n",
      "markdown-it-py @ file:///home/conda/feedstock_root/build_artifacts/markdown-it-py_1677100944732/work\n",
      "MarkupSafe==2.1.2\n",
      "matplotlib==3.7.1\n",
      "matplotlib-inline @ file:///opt/conda/conda-bld/matplotlib-inline_1662014470464/work\n",
      "mdurl @ file:///home/conda/feedstock_root/build_artifacts/mdurl_1639515908913/work\n",
      "ml-collections==0.1.1\n",
      "ml-dtypes==0.1.0\n",
      "moscot==0.2.0\n",
      "mplscience==0.0.7\n",
      "mpmath==1.3.0\n",
      "msgpack @ file:///opt/conda/conda-bld/msgpack-python_1652362659880/work\n",
      "mudata==0.2.2\n",
      "multidict==6.0.4\n",
      "multipledispatch==0.6.0\n",
      "natsort==8.3.1\n",
      "nest-asyncio @ file:///croot/nest-asyncio_1672387112409/work\n",
      "networkx==3.1\n",
      "numba==0.56.4\n",
      "numpy @ file:///home/conda/feedstock_root/build_artifacts/numpy_1651020388975/work\n",
      "numpy-indexed==0.3.7\n",
      "numpyro==0.11.0\n",
      "nvidia-cublas-cu11==11.10.3.66\n",
      "nvidia-cublas-cu12==12.1.3.1\n",
      "nvidia-cuda-cupti-cu11==11.7.101\n",
      "nvidia-cuda-nvcc-cu12==12.1.105\n",
      "nvidia-cuda-nvrtc-cu11==11.7.99\n",
      "nvidia-cuda-runtime-cu11==11.7.99\n",
      "nvidia-cuda-runtime-cu12==12.1.105\n",
      "nvidia-cudnn-cu11==8.5.0.96\n",
      "nvidia-cudnn-cu12==8.9.0.131\n",
      "nvidia-cufft-cu11==10.9.0.58\n",
      "nvidia-cufft-cu12==11.0.2.54\n",
      "nvidia-curand-cu11==10.2.10.91\n",
      "nvidia-cusolver-cu11==11.4.0.1\n",
      "nvidia-cusolver-cu12==11.4.5.107\n",
      "nvidia-cusparse-cu11==11.7.4.91\n",
      "nvidia-cusparse-cu12==12.1.0.106\n",
      "nvidia-nccl-cu11==2.14.3\n",
      "nvidia-nvjitlink-cu12==12.1.105\n",
      "nvidia-nvtx-cu11==11.7.91\n",
      "openpyxl==3.1.2\n",
      "opt-einsum @ file:///home/conda/feedstock_root/build_artifacts/opt_einsum_1617859230218/work\n",
      "optax @ file:///home/conda/feedstock_root/build_artifacts/optax_1682027409874/work\n",
      "ott-jax==0.4.0\n",
      "packaging @ file:///croot/packaging_1671697413597/work\n",
      "pandas==2.0.0\n",
      "parso @ file:///opt/conda/conda-bld/parso_1641458642106/work\n",
      "patsy==0.5.3\n",
      "pexpect @ file:///tmp/build/80754af9/pexpect_1605563209008/work\n",
      "pickleshare @ file:///tmp/build/80754af9/pickleshare_1606932040724/work\n",
      "Pillow==9.4.0\n",
      "platformdirs @ file:///opt/conda/conda-bld/platformdirs_1662711380096/work\n",
      "prompt-toolkit @ file:///croot/prompt-toolkit_1672387306916/work\n",
      "psutil @ file:///opt/conda/conda-bld/psutil_1656431268089/work\n",
      "ptyprocess @ file:///tmp/build/80754af9/ptyprocess_1609355006118/work/dist/ptyprocess-0.7.0-py2.py3-none-any.whl\n",
      "pure-eval @ file:///opt/conda/conda-bld/pure_eval_1646925070566/work\n",
      "Pygments @ file:///opt/conda/conda-bld/pygments_1644249106324/work\n",
      "pymongo==4.3.3\n",
      "pynndescent==0.5.10\n",
      "pyparsing @ file:///home/conda/feedstock_root/build_artifacts/pyparsing_1652235407899/work\n",
      "pyro-api==0.1.2\n",
      "pyro-ppl==1.8.4\n",
      "python-dateutil @ file:///tmp/build/80754af9/python-dateutil_1626374649649/work\n",
      "pytorch-lightning==1.9.5\n",
      "pytz==2023.3\n",
      "PyYAML @ file:///home/conda/feedstock_root/build_artifacts/pyyaml_1648757090803/work\n",
      "pyzmq @ file:///opt/conda/conda-bld/pyzmq_1657724186960/work\n",
      "requests==2.28.2\n",
      "rich @ file:///home/conda/feedstock_root/build_artifacts/rich-split_1674237923286/work/dist\n",
      "scanpy==1.9.3\n",
      "scikit-learn==1.2.2\n",
      "scikit-misc==0.2.0\n",
      "scipy==1.10.1\n",
      "scvi-tools==0.20.3\n",
      "seaborn==0.12.2\n",
      "session-info==1.0.0\n",
      "six @ file:///tmp/build/80754af9/six_1644875935023/work\n",
      "stack-data @ file:///opt/conda/conda-bld/stack_data_1646927590127/work\n",
      "statsmodels==0.13.5\n",
      "stdlib-list==0.8.0\n",
      "sympy==1.11.1\n",
      "threadpoolctl==3.1.0\n",
      "toolz @ file:///home/conda/feedstock_root/build_artifacts/toolz_1657485559105/work\n",
      "torch==2.0.0\n",
      "torchmetrics==0.11.4\n",
      "tornado @ file:///opt/conda/conda-bld/tornado_1662061693373/work\n",
      "tqdm==4.65.0\n",
      "traitlets @ file:///croot/traitlets_1671143879854/work\n",
      "triton==2.0.0\n",
      "typing_extensions @ file:///home/conda/feedstock_root/build_artifacts/typing_extensions_1678559861143/work\n",
      "tzdata==2023.3\n",
      "umap-learn==0.5.3\n",
      "urllib3==1.26.15\n",
      "wcwidth @ file:///Users/ktietz/demo/mc3/conda-bld/wcwidth_1629357192024/work\n",
      "widgetsnbextension==4.0.7\n",
      "wrapt==1.15.0\n",
      "xlrd==2.0.1\n",
      "yarl==1.9.1\n",
      "Note: you may need to restart the kernel to use updated packages.\n"
     ]
    }
   ],
   "source": [
    "# This is my environment where moscot runs on CPU\n",
    "pip freeze"
   ]
  },
  {
   "cell_type": "markdown",
   "id": "00bd05b6",
   "metadata": {},
   "source": [
    "# Moscot maps to growth rates"
   ]
  },
  {
   "cell_type": "code",
   "execution_count": 3,
   "id": "2e4b5950",
   "metadata": {},
   "outputs": [],
   "source": [
    "cells=[32, 80, 100, 120, 400, 660, 1720, 4500, 8200, 15000, 30000, 60000, 73000, 90000, 90000, 200000, 1100000, 2600000, 6000000, 13000000]\n",
    "Cell_number_dict={}\n",
    "for i in range(20):\n",
    "    Cell_number_dict[ts[i]]=cells[i]"
   ]
  },
  {
   "cell_type": "code",
   "execution_count": 4,
   "id": "95df4374",
   "metadata": {},
   "outputs": [
    {
     "name": "stdout",
     "output_type": "stream",
     "text": [
      "WARNING: Your filename has more than two extensions: ['.5_E4', '.5', '.h5ad'].\n",
      "Only considering the two last: ['.5', '.h5ad'].\n",
      "WARNING: Your filename has more than two extensions: ['.5_E4', '.5', '.h5ad'].\n",
      "Only considering the two last: ['.5', '.h5ad'].\n"
     ]
    }
   ],
   "source": [
    "# Doesn't matter which adata you use to create a tp instance, the result is always the same. I just need one\n",
    "# to instantiate a tp-problem\n",
    "adata=sc.read(f\"{Path}/anndatas/Comb_anndatas/adata_E3.5_E4.5.h5ad\")\n",
    "tp=TemporalProblem(adata)"
   ]
  },
  {
   "cell_type": "code",
   "execution_count": 5,
   "id": "48b75c2f",
   "metadata": {
    "scrolled": true
   },
   "outputs": [
    {
     "name": "stdout",
     "output_type": "stream",
     "text": [
      "E12.5 --> E13.5\n",
      "------------------------\n"
     ]
    }
   ],
   "source": [
    "i=13\n",
    "ts0=ts[i]\n",
    "ts1=ts[i+1]\n",
    "print(f'{ts0} --> {ts1}')\n",
    "print('------------------------')"
   ]
  },
  {
   "cell_type": "code",
   "execution_count": 6,
   "id": "13d691e1",
   "metadata": {
    "scrolled": true
   },
   "outputs": [
    {
     "name": "stderr",
     "output_type": "stream",
     "text": [
      "2023-05-01 10:33:57.264447: E external/xla/xla/service/slow_operation_alarm.cc:65] Constant folding an instruction is taking > 1s:\n",
      "\n",
      "  reduce-window.6 (displaying the full instruction incurs a runtime overhead. Raise your logging level to 4 or above).\n",
      "\n",
      "This isn't necessarily a bug; constant-folding is inherently a trade-off between compilation time and speed at runtime. XLA has some guards that attempt to keep constant folding from taking too long, but fundamentally you'll always be able to come up with an input program that takes a long time.\n",
      "\n",
      "If you'd like to file a bug, run with envvar XLA_FLAGS=--xla_dump_to=/tmp/foo and attach the results.\n",
      "2023-05-01 10:33:57.416107: E external/xla/xla/service/slow_operation_alarm.cc:133] The operation took 1.151915895s\n",
      "Constant folding an instruction is taking > 1s:\n",
      "\n",
      "  reduce-window.6 (displaying the full instruction incurs a runtime overhead. Raise your logging level to 4 or above).\n",
      "\n",
      "This isn't necessarily a bug; constant-folding is inherently a trade-off between compilation time and speed at runtime. XLA has some guards that attempt to keep constant folding from taking too long, but fundamentally you'll always be able to come up with an input program that takes a long time.\n",
      "\n",
      "If you'd like to file a bug, run with envvar XLA_FLAGS=--xla_dump_to=/tmp/foo and attach the results.\n"
     ]
    },
    {
     "data": {
      "text/plain": [
       "0.021524176001548767"
      ]
     },
     "execution_count": 6,
     "metadata": {},
     "output_type": "execute_result"
    }
   ],
   "source": [
    "# I ignored constant folding errors, results looked good\n",
    "\n",
    "tp=tp.load(f'{Path}/moscot_maps_cell_type_transition_analysis/{ts0}_{ts1}_TemporalProblem.pkl')\n",
    "adata=tp.adata\n",
    "time_tuple=list(tp.solutions.keys())[0]\n",
    "gr=tp[time_tuple].solution.a\n",
    "gr=gr/gr.mean()*Cell_number_dict[ts1]/Cell_number_dict[ts0]\n",
    "cell_dying=np.sum((1-gr[gr<1]))\n",
    "apoptosis_rate=float(cell_dying/len(gr))\n",
    "apoptosis_rate"
   ]
  },
  {
   "cell_type": "code",
   "execution_count": null,
   "id": "b184833f",
   "metadata": {},
   "outputs": [],
   "source": [
    "apoptosis_rate"
   ]
  },
  {
   "cell_type": "code",
   "execution_count": null,
   "id": "5d2fff1e",
   "metadata": {},
   "outputs": [],
   "source": []
  }
 ],
 "metadata": {
  "kernelspec": {
   "display_name": "mc",
   "language": "python",
   "name": "mc"
  },
  "language_info": {
   "codemirror_mode": {
    "name": "ipython",
    "version": 3
   },
   "file_extension": ".py",
   "mimetype": "text/x-python",
   "name": "python",
   "nbconvert_exporter": "python",
   "pygments_lexer": "ipython3",
   "version": "3.10.9"
  }
 },
 "nbformat": 4,
 "nbformat_minor": 5
}
