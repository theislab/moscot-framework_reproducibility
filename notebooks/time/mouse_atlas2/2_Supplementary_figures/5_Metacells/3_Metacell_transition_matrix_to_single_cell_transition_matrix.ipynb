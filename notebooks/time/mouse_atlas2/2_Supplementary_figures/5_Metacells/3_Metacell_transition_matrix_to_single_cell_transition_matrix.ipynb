{
 "cells": [
  {
   "cell_type": "code",
   "execution_count": 25,
   "id": "b74f7d9b",
   "metadata": {},
   "outputs": [],
   "source": [
    "import numpy as np\n",
    "import anndata\n",
    "import pandas as pd\n",
    "import scanpy as sc\n",
    "import scipy\n",
    "import seaborn as sns\n",
    "import matplotlib.pyplot as plt\n",
    "import os\n",
    "import time\n",
    "import warnings\n",
    "import sys,os\n",
    "warnings.simplefilter(action='ignore', category=FutureWarning)\n",
    "sc.settings.verbosity = 0\n",
    "from tqdm import tqdm"
   ]
  },
  {
   "cell_type": "markdown",
   "id": "4387acc4",
   "metadata": {},
   "source": [
    "# Load and Aggregate based on SEACells"
   ]
  },
  {
   "cell_type": "code",
   "execution_count": 26,
   "id": "d562e751",
   "metadata": {},
   "outputs": [],
   "source": [
    "def get_dicts(ob):\n",
    "    Ds = {}\n",
    "    for s in sorted(set(ob['metacell'])):\n",
    "        Ds[s]=[]\n",
    "    for i,s in zip(ob.index, ob['metacell']):\n",
    "        Ds[s].append(i)\n",
    "    Dsi = dict(zip(ob.index, ob.metacell))\n",
    "    return (Ds, Dsi)"
   ]
  },
  {
   "cell_type": "code",
   "execution_count": 27,
   "id": "0fc95c30",
   "metadata": {},
   "outputs": [],
   "source": [
    "ts=['E3.5', 'E4.5', 'E5.25', 'E5.5', 'E6.25', 'E6.5', 'E6.75', 'E7.0', 'E7.25', 'E7.5', 'E7.75', 'E8.0', 'E8.25', 'E8.5a', 'E8.5b', 'E9.5', 'E10.5', 'E11.5', 'E12.5', 'E13.5']\n",
    "cells=[32, 80, 100, 120, 400, 660, 1720, 4500, 8200, 15000, 30000, 60000, 73000, 90000, 90000, 200000, 1100000, 2600000, 6000000, 13000000]\n",
    "Cell_number_dict={ts[i]:cells[i] for i in range(20)}"
   ]
  },
  {
   "cell_type": "code",
   "execution_count": 28,
   "id": "bbbfe81f",
   "metadata": {},
   "outputs": [],
   "source": [
    "ob0 = pd.read_pickle(f'E105_metacells.pkl')\n",
    "ob1 = pd.read_pickle(f'E115_metacells.pkl')"
   ]
  },
  {
   "cell_type": "code",
   "execution_count": 29,
   "id": "ad78ea09",
   "metadata": {},
   "outputs": [],
   "source": [
    "Ds0, Ds0i = get_dicts(ob0)\n",
    "Ds1, Ds1i = get_dicts(ob1)"
   ]
  },
  {
   "cell_type": "code",
   "execution_count": 30,
   "id": "3e98d901",
   "metadata": {
    "scrolled": true
   },
   "outputs": [],
   "source": [
    "T = pd.read_pickle('Metacell_T.pkl')\n",
    "M = T.values\n",
    "\n",
    "D0n = dict(zip(T.index, range(len(T.index))))\n",
    "D1n = dict(zip(T.columns, range(len(T.columns))))"
   ]
  },
  {
   "cell_type": "code",
   "execution_count": 31,
   "id": "e620ff4b",
   "metadata": {},
   "outputs": [
    {
     "name": "stderr",
     "output_type": "stream",
     "text": [
      "100%|██████████████████████████████████████| 4573/4573 [00:41<00:00, 109.22it/s]\n"
     ]
    }
   ],
   "source": [
    "D0_sc_to_inds = {}\n",
    "for sc0 in tqdm(Ds0.keys()):\n",
    "    D0_sc_to_inds[str(sc0)] = np.where(ob0.index.isin(Ds0[sc0]))[0]"
   ]
  },
  {
   "cell_type": "code",
   "execution_count": 32,
   "id": "5b44ba57",
   "metadata": {},
   "outputs": [
    {
     "name": "stderr",
     "output_type": "stream",
     "text": [
      "100%|███████████████████████████████████████| 7468/7468 [01:54<00:00, 65.08it/s]\n"
     ]
    }
   ],
   "source": [
    "D1_sc_to_inds = {}\n",
    "for sc1 in tqdm(Ds1.keys()):\n",
    "    D1_sc_to_inds[str(sc1)] = np.where(ob1.index.isin(Ds1[sc1]))[0]"
   ]
  },
  {
   "cell_type": "code",
   "execution_count": 33,
   "id": "a2b0eb31",
   "metadata": {},
   "outputs": [],
   "source": [
    "# And reconstruct the full transition matrix from the SEACell associations, do the same thing for this"
   ]
  },
  {
   "cell_type": "code",
   "execution_count": 34,
   "id": "14a1e2c0",
   "metadata": {},
   "outputs": [],
   "source": [
    "ct0s = sorted(set(ob0['cell_state']))\n",
    "ct1s = sorted(set(ob1['cell_state']))"
   ]
  },
  {
   "cell_type": "code",
   "execution_count": 35,
   "id": "2fbca0ae",
   "metadata": {},
   "outputs": [],
   "source": [
    "# Get proportonallity CT"
   ]
  },
  {
   "cell_type": "code",
   "execution_count": 36,
   "id": "35bc9efd",
   "metadata": {},
   "outputs": [],
   "source": [
    "def get_sub_CT_for_sc0_sc1(sc0, sc1, M, D0n, D1n, D0_sc_to_inds, D1_sc_to_inds, ob0, ob1, ct0s, ct1s, CT0):\n",
    "    t = M[D0n[sc0], D1n[sc1]]\n",
    "    if t>0:\n",
    "        inds0 = D0_sc_to_inds[sc0]\n",
    "        inds1 = D1_sc_to_inds[sc1]\n",
    "        vc0 = ob0.cell_state.iloc[inds0].value_counts()\n",
    "        vc1 = ob1.cell_state.iloc[inds1].value_counts()\n",
    "        outer_product = np.outer(vc0, vc1)\n",
    "        CTa = pd.DataFrame(outer_product, index=vc0.index, columns=vc1.index)\n",
    "        CTa = CTa[ct1s].T[ct0s].T\n",
    "        CTa = CTa/CTa.sum().sum() * t\n",
    "        return(CTa)\n",
    "    else:\n",
    "        return(CT0)"
   ]
  },
  {
   "cell_type": "code",
   "execution_count": 38,
   "id": "57d3f62f",
   "metadata": {},
   "outputs": [],
   "source": [
    "sc0s = list(D0n.keys())\n",
    "sc1s = list(D1n.keys())"
   ]
  },
  {
   "cell_type": "code",
   "execution_count": 39,
   "id": "1d14a012",
   "metadata": {
    "scrolled": true
   },
   "outputs": [],
   "source": [
    "CT0 = get_sub_CT_for_sc0_sc1(list(D0n.keys())[1], list(D1n.keys())[0], M, D0n, D1n, D0_sc_to_inds, D1_sc_to_inds, \n",
    "                             ob0, ob1, ct0s, ct1s, 'a')*0\n",
    "\n",
    "def get_CT_for_scs(sc0, sc1s):\n",
    "    CT = CT0.copy()\n",
    "    for sc1 in sc1s:\n",
    "        CT += get_sub_CT_for_sc0_sc1(sc0, sc1, M, D0n, D1n, D0_sc_to_inds, \n",
    "                                          D1_sc_to_inds, ob0, ob1, ct0s, ct1s, CT0)\n",
    "    return CT"
   ]
  },
  {
   "cell_type": "code",
   "execution_count": 40,
   "id": "c87ccd54",
   "metadata": {
    "scrolled": true
   },
   "outputs": [
    {
     "name": "stderr",
     "output_type": "stream",
     "text": [
      "4573it [1:04:41,  1.18it/s]\n"
     ]
    }
   ],
   "source": [
    "import os\n",
    "num_workers = 10\n",
    "import concurrent.futures\n",
    "\n",
    "# This function is applied every time\n",
    "def process_item(sc0):\n",
    "    CT = get_CT_for_scs(sc0, sc1s)\n",
    "    return(CT)\n",
    "\n",
    "# I never change this\n",
    "def parallel_process(items, num_workers):\n",
    "    with concurrent.futures.ProcessPoolExecutor(max_workers=num_workers) as executor:\n",
    "        results = list(tqdm(executor.map(process_item, items)))\n",
    "    return list(results)\n",
    "CTs = parallel_process(sc0s, num_workers=num_workers)"
   ]
  },
  {
   "cell_type": "code",
   "execution_count": 41,
   "id": "486f632d",
   "metadata": {},
   "outputs": [],
   "source": [
    "CTc = CT0.copy()\n",
    "for ct in CTs:\n",
    "    CTc+=ct"
   ]
  },
  {
   "cell_type": "code",
   "execution_count": 51,
   "id": "c2bf884b",
   "metadata": {},
   "outputs": [
    {
     "data": {
      "text/plain": [
       "<AxesSubplot:xlabel='cell_state', ylabel='cell_state'>"
      ]
     },
     "execution_count": 51,
     "metadata": {},
     "output_type": "execute_result"
    },
    {
     "data": {
      "image/png": "[encoded data removed]",
      "text/plain": [
       "<Figure size 432x288 with 2 Axes>"
      ]
     },
     "metadata": {
      "needs_background": "light"
     },
     "output_type": "display_data"
    }
   ],
   "source": [
    "sns.heatmap(CTc)"
   ]
  },
  {
   "cell_type": "code",
   "execution_count": 52,
   "id": "069758be",
   "metadata": {},
   "outputs": [
    {
     "name": "stderr",
     "output_type": "stream",
     "text": [
      "100%|█████████████████████████████████████| 7468/7468 [00:01<00:00, 3957.04it/s]\n"
     ]
    },
    {
     "data": {
      "text/html": [
       "<div>\n",
       "<style scoped>\n",
       "    .dataframe tbody tr th:only-of-type {\n",
       "        vertical-align: middle;\n",
       "    }\n",
       "\n",
       "    .dataframe tbody tr th {\n",
       "        vertical-align: top;\n",
       "    }\n",
       "\n",
       "    .dataframe thead th {\n",
       "        text-align: right;\n",
       "    }\n",
       "</style>\n",
       "<table border=\"1\" class=\"dataframe\">\n",
       "  <thead>\n",
       "    <tr style=\"text-align: right;\">\n",
       "      <th></th>\n",
       "      <th>c</th>\n",
       "    </tr>\n",
       "  </thead>\n",
       "  <tbody>\n",
       "    <tr>\n",
       "      <th>sci3-me-001.GAGGAACTTAATACCATCC</th>\n",
       "      <td>1.656080e-45</td>\n",
       "    </tr>\n",
       "    <tr>\n",
       "      <th>sci3-me-001.CTACGGCATGCTAACTTGC</th>\n",
       "      <td>0.000000e+00</td>\n",
       "    </tr>\n",
       "    <tr>\n",
       "      <th>sci3-me-001.ATCTGATGATGCTAACTTGC</th>\n",
       "      <td>7.315567e-23</td>\n",
       "    </tr>\n",
       "    <tr>\n",
       "      <th>sci3-me-002.ACAGGTATTTTCGGCCTTAC</th>\n",
       "      <td>2.257748e-15</td>\n",
       "    </tr>\n",
       "    <tr>\n",
       "      <th>sci3-me-002.AGAACTCCTGGTATCCGCC</th>\n",
       "      <td>6.996039e-28</td>\n",
       "    </tr>\n",
       "    <tr>\n",
       "      <th>...</th>\n",
       "      <td>...</td>\n",
       "    </tr>\n",
       "    <tr>\n",
       "      <th>sci3-me-760.AGGCATCATTCTTGCCGAC</th>\n",
       "      <td>6.351277e-34</td>\n",
       "    </tr>\n",
       "    <tr>\n",
       "      <th>sci3-me-760.GGTTCGAGTTCTTGCCGAC</th>\n",
       "      <td>1.434072e-39</td>\n",
       "    </tr>\n",
       "    <tr>\n",
       "      <th>sci3-me-760.AAATCGTTCTCGTAGTTACC</th>\n",
       "      <td>4.238438e-26</td>\n",
       "    </tr>\n",
       "    <tr>\n",
       "      <th>sci3-me-760.TAGGAAGGTTCTTGCCGAC</th>\n",
       "      <td>5.216753e-13</td>\n",
       "    </tr>\n",
       "    <tr>\n",
       "      <th>sci3-me-760.CTAGTACGTCGTAGTTACC</th>\n",
       "      <td>6.606018e-15</td>\n",
       "    </tr>\n",
       "  </tbody>\n",
       "</table>\n",
       "<p>269513 rows × 1 columns</p>\n",
       "</div>"
      ],
      "text/plain": [
       "                                             c\n",
       "sci3-me-001.GAGGAACTTAATACCATCC   1.656080e-45\n",
       "sci3-me-001.CTACGGCATGCTAACTTGC   0.000000e+00\n",
       "sci3-me-001.ATCTGATGATGCTAACTTGC  7.315567e-23\n",
       "sci3-me-002.ACAGGTATTTTCGGCCTTAC  2.257748e-15\n",
       "sci3-me-002.AGAACTCCTGGTATCCGCC   6.996039e-28\n",
       "...                                        ...\n",
       "sci3-me-760.AGGCATCATTCTTGCCGAC   6.351277e-34\n",
       "sci3-me-760.GGTTCGAGTTCTTGCCGAC   1.434072e-39\n",
       "sci3-me-760.AAATCGTTCTCGTAGTTACC  4.238438e-26\n",
       "sci3-me-760.TAGGAAGGTTCTTGCCGAC   5.216753e-13\n",
       "sci3-me-760.CTAGTACGTCGTAGTTACC   6.606018e-15\n",
       "\n",
       "[269513 rows x 1 columns]"
      ]
     },
     "execution_count": 52,
     "metadata": {},
     "output_type": "execute_result"
    }
   ],
   "source": [
    "# Check if sc1 contains Pancreas cells\n",
    "pan_indices = set(np.where(ob1['cell_state'] == 'E11.5:Pancreatic epithelium')[0])\n",
    "\n",
    "pull0 = pd.DataFrame(data=np.zeros(len(ob0)), index=ob0.index, columns=['c'])\n",
    "\n",
    "def get_pull_of_sc1(sc1, D0_sc_to_inds, D1_sc_to_inds, pan_indices, ob0, M, sc0s, D0n, D1n, pull0):\n",
    "    inds1 = D1_sc_to_inds[sc1]\n",
    "    inters = set(inds1)&pan_indices\n",
    "\n",
    "    if len(inters)>0:\n",
    "        prop = len(inters)/len(inds1)\n",
    "        p = np.zeros(len(ob0))\n",
    "        for sc0 in sc0s:\n",
    "            t = M[D0n[sc0], D1n[sc1]]\n",
    "            if t>0:\n",
    "                p[D0_sc_to_inds[sc0]]=t*prop\n",
    "        pull = pd.DataFrame(data=p, index=ob0.index, columns=['c'])\n",
    "\n",
    "    else:\n",
    "        pull = pull0\n",
    "    return(pull)\n",
    "\n",
    "pull = pull0.copy()\n",
    "for sc1 in tqdm(sc1s):\n",
    "    pull += get_pull_of_sc1(sc1, D0_sc_to_inds, D1_sc_to_inds, pan_indices, ob0, M, sc0s, D0n, D1n, pull0)\n",
    "pull"
   ]
  },
  {
   "cell_type": "code",
   "execution_count": null,
   "id": "2d3d1a39",
   "metadata": {},
   "outputs": [],
   "source": []
  },
  {
   "cell_type": "code",
   "execution_count": 53,
   "id": "85d08300",
   "metadata": {},
   "outputs": [],
   "source": [
    "pull.to_pickle('Pancreas_pull_metacells.pkl')"
   ]
  },
  {
   "cell_type": "code",
   "execution_count": 54,
   "id": "dcfb318f",
   "metadata": {},
   "outputs": [],
   "source": [
    "CTc.to_pickle('CT_metacells.pkl')"
   ]
  },
  {
   "cell_type": "code",
   "execution_count": null,
   "id": "a44bc1c3",
   "metadata": {},
   "outputs": [],
   "source": []
  },
  {
   "cell_type": "code",
   "execution_count": null,
   "id": "91b95a32",
   "metadata": {},
   "outputs": [],
   "source": []
  },
  {
   "cell_type": "code",
   "execution_count": null,
   "id": "e9d11512",
   "metadata": {},
   "outputs": [],
   "source": []
  },
  {
   "cell_type": "code",
   "execution_count": null,
   "id": "ea78e7ec",
   "metadata": {},
   "outputs": [],
   "source": []
  },
  {
   "cell_type": "code",
   "execution_count": null,
   "id": "ec5c5d5b",
   "metadata": {},
   "outputs": [],
   "source": []
  },
  {
   "cell_type": "code",
   "execution_count": null,
   "id": "8657093c",
   "metadata": {},
   "outputs": [],
   "source": []
  }
 ],
 "metadata": {
  "kernelspec": {
   "display_name": "Python 3 (ipykernel)",
   "language": "python",
   "name": "python3"
  },
  "language_info": {
   "codemirror_mode": {
    "name": "ipython",
    "version": 3
   },
   "file_extension": ".py",
   "mimetype": "text/x-python",
   "name": "python",
   "nbconvert_exporter": "python",
   "pygments_lexer": "ipython3",
   "version": "3.9.16"
  }
 },
 "nbformat": 4,
 "nbformat_minor": 5
}
