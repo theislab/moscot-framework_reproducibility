{
 "cells": [
  {
   "cell_type": "code",
   "execution_count": null,
   "id": "e6679609",
   "metadata": {},
   "outputs": [],
   "source": [
    "#from jax.config import config\n",
    "#config.update(\"jax_enable_x64\", True)\n",
    "import numpy as np\n",
    "import anndata\n",
    "import pandas as pd\n",
    "import scanpy as sc\n",
    "import scipy \n",
    "import seaborn as sns\n",
    "import matplotlib.pyplot as plt\n",
    "import os\n",
    "import time\n",
    "#os.environ[\"JAX_PLATFORM_NAME\"] = \"cpu\"\n",
    "from moscot.problems.time._lineage import TemporalProblem\n",
    "import warnings\n",
    "import jax\n",
    "import jax.numpy as jnp\n",
    "from ott.geometry import pointcloud\n",
    "from ott.problems.linear import linear_problem\n",
    "from ott.solvers.linear import sinkhorn, sinkhorn_lr\n",
    "import sys,os\n",
    "sys.path.append('/home/icb/manuel.gander/mouse_atlas/notebook')\n",
    "import scripts as scr\n",
    "import c2\n",
    "warnings.simplefilter(action='ignore', category=FutureWarning) \n",
    "sc.settings.verbosity = 0\n",
    "import wandb"
   ]
  },
  {
   "cell_type": "code",
   "execution_count": null,
   "id": "e55e84b0",
   "metadata": {},
   "outputs": [],
   "source": [
    "Path=\"/home/icb/manuel.gander/mouse_atlas/data\""
   ]
  },
  {
   "cell_type": "code",
   "execution_count": null,
   "id": "56fd64dc",
   "metadata": {},
   "outputs": [],
   "source": [
    "ts=['E3.5', 'E4.5', 'E5.25', 'E5.5', 'E6.25', 'E6.5', 'E6.75', 'E7.0', 'E7.25', 'E7.5', 'E7.75', 'E8.0', 'E8.25', 'E8.5a', 'E8.5b', 'E9.5', 'E10.5', 'E11.5', 'E12.5', 'E13.5']\n",
    "cells=[32, 80, 100, 120, 400, 660, 1720, 4500, 8200, 15000, 30000, 60000, 73000, 90000, 90000, 200000, 1100000, 2600000, 6000000, 13000000]\n",
    "Cell_number_dict={ts[i]:cells[i] for i in range(20)}"
   ]
  },
  {
   "cell_type": "code",
   "execution_count": null,
   "id": "7105c315",
   "metadata": {},
   "outputs": [],
   "source": []
  },
  {
   "cell_type": "code",
   "execution_count": null,
   "id": "90251990",
   "metadata": {},
   "outputs": [],
   "source": [
    "def solve_moscot_and_save_CT(i, epsilon, tau1, batch_size=10**5):\n",
    "    tau2=0.99995\n",
    "    \n",
    "    ts0=ts[i]\n",
    "    ts1=ts[i+1]\n",
    "    print(f'{ts0}_{ts1}')\n",
    "\n",
    "    adata=sc.read(f\"{Path}/Comb_anndatas/adata_{ts0}_{ts1}.h5ad\")\n",
    "    del adata.raw\n",
    "    adata.obs['day']=adata.obs['day'].astype('category')\n",
    "    day0,day1=sorted(set(adata.obs['day']))\n",
    "\n",
    "    tp=TemporalProblem(adata)\n",
    "    if i!=13:\n",
    "        tp.score_genes_for_marginals(gene_set_proliferation='mouse',  gene_set_apoptosis='mouse')\n",
    "    tp = tp.prepare('day', joint_attr=f'X_pcaS')\n",
    "    \n",
    "    result=tp.solve(batch_size=batch_size, epsilon=epsilon, tau_a=tau1, tau_b=tau2, rank=rank)\n",
    "\n",
    "    \n",
    "    gr=tp[(day0, day1)].solution.a\n",
    "    gr=gr/gr.mean()*Cell_number_dict[ts1]/Cell_number_dict[ts0]\n",
    "    cell_dying=np.sum((1-gr[gr<1]))\n",
    "    apoptosis_rate=float(cell_dying/len(gr))\n",
    "    print(f'{ts0}: {apoptosis_rate}')\n",
    "    \n",
    "    cell_states0={'cell_state': list(set(adata[adata.obs['day']==day0].obs['cell_state']))}\n",
    "    cell_states1={'cell_state': list(set(adata[adata.obs['day']==day1].obs['cell_state']))}\n",
    "    CT=tp.cell_transition(day0, day1, cell_states0, cell_states1)\n",
    "    CT.to_pickle(f'{Path}/moscot_maps/Anchors/CTs/{ts0}_{ts1}_cell_type_transitions.pkl')\n",
    "\n",
    "    return(CT)"
   ]
  },
  {
   "cell_type": "code",
   "execution_count": null,
   "id": "e78f859e",
   "metadata": {},
   "outputs": [],
   "source": [
    "# Save the result to Weights-and-Biases"
   ]
  },
  {
   "cell_type": "code",
   "execution_count": null,
   "id": "0d243fd1",
   "metadata": {},
   "outputs": [],
   "source": []
  },
  {
   "cell_type": "code",
   "execution_count": null,
   "id": "e033cbb9",
   "metadata": {},
   "outputs": [],
   "source": [
    "epsilon=0.005\n",
    "batch_size=3000"
   ]
  },
  {
   "cell_type": "code",
   "execution_count": null,
   "id": "de0e5a67",
   "metadata": {},
   "outputs": [],
   "source": [
    "# I determined these taus such that the apoptosis rate is in the appropraite range for the different developmental stages\n",
    "tau1s=[0.99,0.98,0.99,0.92,0.985,0.9,0.3,0.65,0.9,0.82,0.93,0.996,0.96,0.99,0.98,0.68,0.8,0.9,0.9]"
   ]
  },
  {
   "cell_type": "code",
   "execution_count": null,
   "id": "1127246b",
   "metadata": {},
   "outputs": [],
   "source": [
    "for i in range(18):\n",
    "    solve_moscot_and_save_CT(i, epsilon, tau1s[i], batch_size):"
   ]
  },
  {
   "cell_type": "code",
   "execution_count": null,
   "id": "9d88b608",
   "metadata": {},
   "outputs": [],
   "source": []
  },
  {
   "cell_type": "code",
   "execution_count": null,
   "id": "331a3a54",
   "metadata": {},
   "outputs": [],
   "source": []
  },
  {
   "cell_type": "code",
   "execution_count": null,
   "id": "f92c2c4d",
   "metadata": {},
   "outputs": [],
   "source": []
  },
  {
   "cell_type": "code",
   "execution_count": null,
   "id": "3364cf6c",
   "metadata": {},
   "outputs": [],
   "source": []
  },
  {
   "cell_type": "code",
   "execution_count": null,
   "id": "73409e8e",
   "metadata": {},
   "outputs": [],
   "source": []
  },
  {
   "cell_type": "code",
   "execution_count": null,
   "id": "daabb3de",
   "metadata": {},
   "outputs": [],
   "source": []
  },
  {
   "cell_type": "code",
   "execution_count": null,
   "id": "5d279136",
   "metadata": {},
   "outputs": [],
   "source": []
  },
  {
   "cell_type": "code",
   "execution_count": null,
   "id": "0a79c385",
   "metadata": {},
   "outputs": [],
   "source": []
  }
 ],
 "metadata": {
  "kernelspec": {
   "display_name": "phos",
   "language": "python",
   "name": "phos"
  },
  "language_info": {
   "codemirror_mode": {
    "name": "ipython",
    "version": 3
   },
   "file_extension": ".py",
   "mimetype": "text/x-python",
   "name": "python",
   "nbconvert_exporter": "python",
   "pygments_lexer": "ipython3",
   "version": "3.10.5"
  }
 },
 "nbformat": 4,
 "nbformat_minor": 5
}
