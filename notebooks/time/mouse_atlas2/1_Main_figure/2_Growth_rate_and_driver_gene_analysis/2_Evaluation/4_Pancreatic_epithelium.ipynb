{
 "cells": [
  {
   "cell_type": "markdown",
   "metadata": {},
   "source": [
    "# Evaluating Gene Correlations - Pancreatic epithelium"
   ]
  },
  {
   "cell_type": "code",
   "execution_count": 1,
   "metadata": {},
   "outputs": [],
   "source": [
    "import numpy as np\n",
    "import anndata\n",
    "import pandas as pd\n",
    "import scanpy as sc\n",
    "import scipy\n",
    "import seaborn as sns\n",
    "import matplotlib.pyplot as plt"
   ]
  },
  {
   "cell_type": "code",
   "execution_count": 2,
   "metadata": {},
   "outputs": [],
   "source": [
    "Path=\"/home/mgander/mouse_atlas/data\"\n",
    "ts=['E3.5', 'E4.5', 'E5.25', 'E5.5', 'E6.25', 'E6.5', 'E6.75', 'E7.0', 'E7.25', 'E7.5', 'E7.75', 'E8.0', 'E8.25', 'E8.5a', 'E8.5b', 'E9.5', 'E10.5', 'E11.5', 'E12.5', 'E13.5']"
   ]
  },
  {
   "cell_type": "code",
   "execution_count": 3,
   "metadata": {},
   "outputs": [],
   "source": [
    "ct='E11.5:Pancreatic epithelium'\n",
    "i=16\n",
    "\n",
    "ts0=ts[i]\n",
    "ts1=ts[i+1]"
   ]
  },
  {
   "cell_type": "code",
   "execution_count": null,
   "metadata": {},
   "outputs": [
    {
     "name": "stdout",
     "output_type": "stream",
     "text": [
      "WARNING: Your filename has more than two extensions: ['.5_E11', '.5', '.h5ad'].\n",
      "Only considering the two last: ['.5', '.h5ad'].\n",
      "WARNING: Your filename has more than two extensions: ['.5_E11', '.5', '.h5ad'].\n",
      "Only considering the two last: ['.5', '.h5ad'].\n"
     ]
    },
    {
     "name": "stderr",
     "output_type": "stream",
     "text": [
      "/home/mgander/.local/lib/python3.9/site-packages/anndata/__init__.py:55: FutureWarning: `anndata.read` is deprecated, use `anndata.read_h5ad` instead. `ad.read` will be removed in mid 2024.\n",
      "  warnings.warn(\n"
     ]
    }
   ],
   "source": [
    "adata=sc.read(f\"{Path}/Comb_anndatas/adata_{ts0}_{ts1}.h5ad\")\n",
    "cell_indices=adata[adata.obs['day']==sorted(set(adata.obs['day']))[0]].obs.index"
   ]
  },
  {
   "cell_type": "code",
   "execution_count": 5,
   "metadata": {},
   "outputs": [],
   "source": [
    "gT=np.load(f\"{Path}/TOME_maps/growth_rates_and_pulls/{ts0}_{ct}_pull.npy\", allow_pickle=True)\n",
    "gM=pd.read_pickle(f\"{Path}/moscot_maps/growth_rates_and_pulls2/{ts0}_{ct}_pulls.pkl\")\n",
    "gM=gM.loc[cell_indices].values"
   ]
  },
  {
   "cell_type": "markdown",
   "metadata": {},
   "source": [
    "# Correlation for curated genes"
   ]
  },
  {
   "cell_type": "markdown",
   "metadata": {},
   "source": [
    "The following list of genes was obtained by litarture seach when looking for genes that predict deveopment into pancreatic epithelium cells. The key in the dictionary corresponds to the citation (Pubmed ID), and the values correspond to the genes the publication lists."
   ]
  },
  {
   "cell_type": "markdown",
   "metadata": {},
   "source": [
    "Be careful, I also listed driver/marker genes if there was only moderate evidence of them being directly involved in these cell transitions, so use this list with caution!!!"
   ]
  },
  {
   "cell_type": "code",
   "execution_count": 6,
   "metadata": {},
   "outputs": [],
   "source": [
    "# Pancreas\n",
    "\n",
    "D={}\n",
    "\n",
    "D['PMID: 17202186']=['Ptf1a', 'Pdx1', 'Neurog3', 'Nkx6-1', 'Nkx2-2', 'Tle3']\n",
    "\n",
    "D['PMID: 15604203']=['Neurog3', 'Pdx1', 'Slc2a2', 'Iapp', 'Gck', 'Mnx1', 'Hes1', 'Neurod1', \n",
    "                     'Pax4', 'Pax6', 'Nkx2-2', 'Nkx6-1', 'Bhlha15']\n",
    "\n",
    "D['PMID: 15298336']=['Pdx1', 'Nkx2-2', 'Hnf1b', 'Ptf1a', 'Nkx6-1', 'Mnx1', 'Hhex', 'Onecut1', 'Foxa2', \n",
    "                     'Hes1', 'Mnx1', 'Ptf1a', 'Nr5a2', 'Neurod1', 'Pax4', 'Pax6', 'Hnf4a', 'Hnf1a']\n",
    "\n",
    "D['PMID: 25063451']=['Nr5a2', 'Bhlha15', 'Ptf1a', 'Rbpjl']\n",
    "\n",
    "\n",
    "\n",
    "D['PMID: 17202186, maybe']=['Slc2a2', 'Tle1', 'Tle2', 'Mafa', 'Mafb']\n",
    "\n",
    "D['PMID: 15298336, maybe']=['Irs2', 'Foxo1', 'Mafa', 'Mafb', 'Gck', 'Iapp', 'Pklr']\n",
    "\n",
    "\n",
    "D['PMID: 25063451, maybe'] = ['Myc', 'Gata4']\n",
    "\n",
    "D['Moscot pancreas multiome analysis']=['Btbd17', 'Cadm1', 'Ccdc34', 'Cck', 'Cel', 'Cox7a2l', 'Dctn3', 'Fev', 'Gadd45a', 'Gcg', 'Ghrl', 'Hes6', 'Hhex', 'Ins2', 'Kif11', 'Mki67', 'Nav2', 'Neurod1', 'Neurog3', 'Npepl1', 'Pclo', 'Ppp3ca', 'Ptf1a', 'Rbpjl', 'Reep5', 'Sox9', 'Spp1', 'Sst', 'Tox3', 'Ubl3Arx', 'Yipf4', 'Zwint']\n",
    "\n",
    "D['PMID: 30254276']=['Reep5', 'Btbd17', 'Gng12', 'Peg10', 'Sst', 'Ngn3', 'Fev', 'Pax4']\n",
    "\n",
    "D['PMID: 18471525']=['Cadm1']\n",
    "\n",
    "D['PMID: 31160421']=['Ngn3', 'Sox9', 'Nkx6-1', 'Muc1', 'Cdh1', 'Neurod1', 'Pax4', 'Arx', 'Hes6', 'Fev', 'Cck',\n",
    "                   'Btbd17', 'Gadd45a', 'Vwa5b2', 'Tox3', 'Dlk1', 'Mdk', 'Btf3', 'Amotl2', 'Cdkn1a', \n",
    "                    'Sox4', 'Mfng', 'Btg2', 'Ppp1r14a', 'Mtch1', 'Numbl', 'Hes6', 'Cbfa2t3', 'Rcor2',\n",
    "                   'Smarcd2', 'Insm1', 'Cbfa2t2', 'Cpa1', 'Myc', 'Notch2', 'Ptf1a', 'Cpa1', 'Cel', 'Rbpjl',\n",
    "                    'Anxa2']\n",
    "\n",
    "# These are the genes from PMID: 31160421, Table 2, Upregulated in Ngn3+\n",
    "# It is not ideal to use these, since Ngn3+ cells appear a little later (~E12), but these drivers/markers\n",
    "# are likely being started to be expressed already earlier\n",
    "b0=list(pd.read_csv('/home/mgander/mouse_atlas/data/genes.csv', header=None)[0])\n",
    "\n",
    "genes=[]\n",
    "for a in D.values():\n",
    "    genes=[*genes, *a]\n",
    "genes=[*genes, *b0]\n",
    "\n",
    "# Eliminate duplicates\n",
    "genes=[a for a in set(genes)]"
   ]
  },
  {
   "cell_type": "code",
   "execution_count": 8,
   "metadata": {},
   "outputs": [],
   "source": [
    "adata=sc.read(f\"{Path}/Comb_anndatas/scVI_anndatas/scvi_adata_{ts0}.h5ad\")\n",
    "adata.var.index=list(adata.var['gene_names'])"
   ]
  },
  {
   "cell_type": "code",
   "execution_count": 9,
   "metadata": {
    "scrolled": true
   },
   "outputs": [
    {
     "data": {
      "text/plain": [
       "106"
      ]
     },
     "execution_count": 9,
     "metadata": {},
     "output_type": "execute_result"
    }
   ],
   "source": [
    "hvgs=list(adata.var[adata.var['highly_variable']]['gene_names'])\n",
    "genes_selected=[]\n",
    "for gene in genes:\n",
    "    if gene in hvgs:\n",
    "        genes_selected.append(gene)\n",
    "len(genes_selected)"
   ]
  },
  {
   "cell_type": "code",
   "execution_count": 19,
   "metadata": {
    "scrolled": true
   },
   "outputs": [],
   "source": [
    "subset=True\n",
    "\n",
    "DF=pd.DataFrame({})\n",
    "\n",
    "for gene in genes_selected:\n",
    "    loc=adata.var.index.get_loc(gene)\n",
    "    exp=adata.layers['scvi_normalized'][:,loc]\n",
    "    #exp=adataS.X[:,loc]\n",
    "    #exp=np.array(exp.todense()).T[0]\n",
    "\n",
    "    if subset==True:\n",
    "        wh=np.where(adata.obs['cell_state']=='E10.5:Gut and lung epithelium')[0]\n",
    "        exp=exp[wh]\n",
    "        gT2=gT[wh]\n",
    "        gM2=gM[wh]\n",
    "    else:\n",
    "        gT2=gT.copy()\n",
    "        gM2=gM.copy()\n",
    "\n",
    "\n",
    "    (cor, p)=scipy.stats.spearmanr(exp, gT2)\n",
    "    dfT=pd.DataFrame({'Timepoint': ts0, 'Gene':[gene], 'Method': 'TOME', 'Correlation':cor, 'P-value':p, 'type':'Spearman'})\n",
    "    (cor, p)=scipy.stats.spearmanr(exp, gM2)\n",
    "    dfM=pd.DataFrame({'Timepoint': ts0, 'Gene':[gene], 'Method': 'moscot', 'Correlation':cor, 'P-value':p, 'type':'Spearman'})\n",
    "    DF=pd.concat([DF, dfM,dfT])\n",
    "DF['Abs. Correlation']=abs(DF['Correlation'])\n",
    "DF.index=np.arange(len(DF))"
   ]
  },
  {
   "cell_type": "code",
   "execution_count": 20,
   "metadata": {},
   "outputs": [
    {
     "data": {
      "text/plain": [
       "<Axes: xlabel='Abs. Correlation', ylabel='Timepoint'>"
      ]
     },
     "execution_count": 20,
     "metadata": {},
     "output_type": "execute_result"
    },
    {
     "data": {
      "image/png": "[encoded data removed]",
      "text/plain": [
       "<Figure size 300x300 with 1 Axes>"
      ]
     },
     "metadata": {},
     "output_type": "display_data"
    }
   ],
   "source": [
    "fig, ax = plt.subplots(ncols=1, figsize=(3, 3))\n",
    "sns.boxplot(data=DF, x=\"Abs. Correlation\", y=\"Timepoint\", hue='Method', showfliers=True,\n",
    "               showmeans=False,  whis=[100,0], ax=ax)"
   ]
  },
  {
   "cell_type": "code",
   "execution_count": 21,
   "metadata": {
    "scrolled": true
   },
   "outputs": [],
   "source": [
    "DF.to_pickle(f'{Path}/Validation_output/{ts0}_PE.npy')"
   ]
  },
  {
   "cell_type": "code",
   "execution_count": null,
   "metadata": {},
   "outputs": [],
   "source": []
  },
  {
   "cell_type": "code",
   "execution_count": null,
   "metadata": {},
   "outputs": [],
   "source": []
  },
  {
   "cell_type": "code",
   "execution_count": null,
   "metadata": {},
   "outputs": [],
   "source": []
  }
 ],
 "metadata": {
  "kernelspec": {
   "display_name": "phos",
   "language": "python",
   "name": "phos"
  },
  "language_info": {
   "codemirror_mode": {
    "name": "ipython",
    "version": 3
   },
   "file_extension": ".py",
   "mimetype": "text/x-python",
   "name": "python",
   "nbconvert_exporter": "python",
   "pygments_lexer": "ipython3",
   "version": "3.9.16"
  }
 },
 "nbformat": 4,
 "nbformat_minor": 4
}
