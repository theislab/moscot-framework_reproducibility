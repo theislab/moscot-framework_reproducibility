{
 "cells": [
  {
   "cell_type": "code",
   "execution_count": 4,
   "id": "d621cecc",
   "metadata": {},
   "outputs": [],
   "source": [
    "import numpy as np\n",
    "import anndata\n",
    "import pandas as pd\n",
    "import scanpy as sc\n",
    "import scipy\n",
    "import numpy_indexed as npi\n",
    "from scipy.sparse import lil_matrix\n",
    "from sklearn.preprocessing import normalize"
   ]
  },
  {
   "cell_type": "code",
   "execution_count": 5,
   "id": "6e4e1aac",
   "metadata": {},
   "outputs": [],
   "source": [
    "Path=\"/home/mgander/mouse_atlas/data\"\n",
    "ts=['E3.5', 'E4.5', 'E5.25', 'E5.5', 'E6.25', 'E6.5', 'E6.75', 'E7.0', 'E7.25', 'E7.5', 'E7.75', 'E8.0', 'E8.25', 'E8.5a', 'E8.5b', 'E9.5', 'E10.5', 'E11.5', 'E12.5', 'E13.5']"
   ]
  },
  {
   "cell_type": "markdown",
   "id": "837e9fdb",
   "metadata": {},
   "source": [
    "# Pulling back cell types for driver gene correlations"
   ]
  },
  {
   "cell_type": "markdown",
   "id": "72568e3c",
   "metadata": {},
   "source": [
    "We pull back each of these cell types to the previous time point to evaluate if the pull correlates well with a set of driver/marker genes curated specifically for each cell type."
   ]
  },
  {
   "cell_type": "code",
   "execution_count": 3,
   "id": "15506f47",
   "metadata": {},
   "outputs": [],
   "source": [
    "cts=['E7.25:Definitive endoderm', 'E8:Allantois', 'E8.25:First heart field', 'E11.5:Pancreatic epithelium']\n",
    "ii=[7,10,11,16]"
   ]
  },
  {
   "cell_type": "code",
   "execution_count": 7,
   "id": "366bbf74",
   "metadata": {
    "scrolled": true
   },
   "outputs": [
    {
     "name": "stdout",
     "output_type": "stream",
     "text": [
      "E8.0\n",
      "WARNING: Your filename has more than two extensions: ['.0_E8', '.25', '.h5ad'].\n",
      "Only considering the two last: ['.25', '.h5ad'].\n",
      "WARNING: Your filename has more than two extensions: ['.0_E8', '.25', '.h5ad'].\n",
      "Only considering the two last: ['.25', '.h5ad'].\n"
     ]
    }
   ],
   "source": [
    "for ct,i in zip(cts, ii):\n",
    "    ts0=ts[i]\n",
    "    ts1=ts[i+1]\n",
    "    print(ts0)\n",
    "    adata=sc.read(f\"{Path}/Comb_anndatas/adata_{ts0}_{ts1}.h5ad\")\n",
    "    A0=adata[adata.obs['day']==min(set(adata.obs['day']))].copy()\n",
    "    A1=adata[adata.obs['day']==max(set(adata.obs['day']))].copy()\n",
    "\n",
    "    if 14>i>4:\n",
    "        ExE_cell_types=['Embryonic visceral endoderm', 'Extraembryonic visceral endoderm', 'Parietal endoderm', 'Extraembryonic ectoderm', 'Primitive erythroid cells', 'Blood progenitors']\n",
    "    elif i>4:\n",
    "        ExE_cell_types=['Extraembryonic visceral endoderm']\n",
    "    else:\n",
    "        ExE_cell_types=[]\n",
    "    mask_0=~A0.obs['cell_type'].isin(ExE_cell_types)\n",
    "    \n",
    "    \n",
    "    M=scipy.sparse.load_npz(f'{Path}/TOME_maps/growth_rates_and_pulls/TOME_maps/{ts0}.npz')\n",
    "    M = normalize(M, norm='l1', axis=0)\n",
    "    wh=np.where(A1.obs['cell_state']==ct)[0]\n",
    "    pull=np.asarray(M[:,wh].sum(1)).T[0]\n",
    "    pull=pull[np.where(mask_0)[0]]\n",
    "    \n",
    "    np.save(f'{Path}/TOME_maps/growth_rates_and_pulls/{ts0}_{ct}_pull.npy', pull)"
   ]
  },
  {
   "cell_type": "code",
   "execution_count": null,
   "id": "6ba5c29f",
   "metadata": {},
   "outputs": [],
   "source": []
  },
  {
   "cell_type": "code",
   "execution_count": null,
   "id": "2354c5b9",
   "metadata": {},
   "outputs": [],
   "source": []
  },
  {
   "cell_type": "code",
   "execution_count": null,
   "id": "fb78acdc",
   "metadata": {},
   "outputs": [],
   "source": []
  },
  {
   "cell_type": "code",
   "execution_count": null,
   "id": "2990ea1c",
   "metadata": {},
   "outputs": [],
   "source": []
  },
  {
   "cell_type": "code",
   "execution_count": null,
   "id": "866e2f08",
   "metadata": {},
   "outputs": [],
   "source": []
  }
 ],
 "metadata": {
  "kernelspec": {
   "display_name": "mc",
   "language": "python",
   "name": "mc"
  },
  "language_info": {
   "codemirror_mode": {
    "name": "ipython",
    "version": 3
   },
   "file_extension": ".py",
   "mimetype": "text/x-python",
   "name": "python",
   "nbconvert_exporter": "python",
   "pygments_lexer": "ipython3",
   "version": "3.10.9"
  }
 },
 "nbformat": 4,
 "nbformat_minor": 5
}
