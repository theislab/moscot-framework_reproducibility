{
 "cells": [
  {
   "cell_type": "code",
   "execution_count": 1,
   "id": "716132e7",
   "metadata": {},
   "outputs": [],
   "source": [
    "import jax\n",
    "from jax.config import config\n",
    "config.update(\"jax_enable_x64\", True)"
   ]
  },
  {
   "cell_type": "code",
   "execution_count": 2,
   "id": "e66396df",
   "metadata": {},
   "outputs": [
    {
     "name": "stdout",
     "output_type": "stream",
     "text": [
      "['default', 'despine']\n"
     ]
    }
   ],
   "source": [
    "import scanpy as sc\n",
    "import numpy as np\n",
    "import seaborn as sns\n",
    "import matplotlib.pyplot as plt\n",
    "import moscot\n",
    "from moscot.problems.time import TemporalProblem\n",
    "import moscot.plotting as mpl\n",
    "import pandas as pd\n",
    "import os\n",
    "\n",
    "sc.set_figure_params(scanpy=True, dpi=80, dpi_save=200)\n",
    "                         \n",
    "import mplscience\n",
    "\n",
    "mplscience.available_styles()\n",
    "mplscience.set_style(reset_current=True)\n",
    "plt.rcParams['legend.scatterpoints'] = 1 "
   ]
  },
  {
   "cell_type": "code",
   "execution_count": 3,
   "id": "195cb97a",
   "metadata": {},
   "outputs": [],
   "source": [
    "output_dir = \".\""
   ]
  },
  {
   "cell_type": "code",
   "execution_count": 4,
   "id": "8138551c",
   "metadata": {},
   "outputs": [],
   "source": [
    "adata = sc.read_h5ad(\"/lustre/groups/ml01/workspace/moscot_paper/pancreas/embeddings/pancreas_shared_embeddings.h5ad\")"
   ]
  },
  {
   "cell_type": "code",
   "execution_count": 5,
   "id": "008b444c",
   "metadata": {},
   "outputs": [],
   "source": [
    "new_annotation = pd.read_csv(\"../EDA/endocrine_refinement.csv\")"
   ]
  },
  {
   "cell_type": "code",
   "execution_count": 6,
   "id": "5503b4c2",
   "metadata": {},
   "outputs": [],
   "source": [
    "adata.obs[\"Fev_delta_refinement\"] = new_annotation[\"Fev_delta_refinement\"].values\n",
    "adata.obs[\"Ngn3_high_refinement\"] = new_annotation[\"Ngn3_high_refinement\"].values\n",
    "adata.obs[\"refinement\"] = new_annotation[\"refinement\"].values"
   ]
  },
  {
   "cell_type": "code",
   "execution_count": 7,
   "id": "6f26ba79",
   "metadata": {},
   "outputs": [],
   "source": [
    "adata_2 = sc.read_h5ad(\"/lustre/groups/ml01/workspace/moscot_paper/pancreas/pancreas_multiome_2022_processed.h5ad\")"
   ]
  },
  {
   "cell_type": "code",
   "execution_count": 8,
   "id": "85948d0a",
   "metadata": {},
   "outputs": [],
   "source": [
    "chromvar_features = pd.read_csv(\"/lustre/groups/ml01/workspace/moscot_paper/pancreas/chromvar_annotations_reduced.csv\")"
   ]
  },
  {
   "cell_type": "code",
   "execution_count": 9,
   "id": "cfb4cf47",
   "metadata": {},
   "outputs": [],
   "source": [
    "chromvar_features.set_index(\"Unnamed: 0\", inplace=True)"
   ]
  },
  {
   "cell_type": "code",
   "execution_count": 10,
   "id": "367cc1d2",
   "metadata": {},
   "outputs": [],
   "source": [
    "chromvar_features = chromvar_features.T"
   ]
  },
  {
   "cell_type": "code",
   "execution_count": 11,
   "id": "5383d152",
   "metadata": {},
   "outputs": [],
   "source": [
    "chromvar_features[\"old_index\"] = chromvar_features.index"
   ]
  },
  {
   "cell_type": "code",
   "execution_count": 12,
   "id": "48534849",
   "metadata": {},
   "outputs": [],
   "source": [
    "def rename_index(x):\n",
    "    split = x[\"old_index\"].split(\"_\")\n",
    "    if split[0] == \"E14-5\":\n",
    "        return split[1]+\"-0\"\n",
    "    if split[0] == \"E15-5\":\n",
    "        return split[1]+\"-1\"\n",
    "    raise ValueError(\"Pattern does not match\")"
   ]
  },
  {
   "cell_type": "code",
   "execution_count": 13,
   "id": "8c594a6c",
   "metadata": {},
   "outputs": [],
   "source": [
    "chromvar_features[\"index_adapted\"] = chromvar_features.apply(rename_index ,axis=1)"
   ]
  },
  {
   "cell_type": "code",
   "execution_count": 14,
   "id": "f5b4a4b5",
   "metadata": {},
   "outputs": [],
   "source": [
    "chromvar_features.set_index(\"index_adapted\", inplace=True)"
   ]
  },
  {
   "cell_type": "code",
   "execution_count": 15,
   "id": "c75e90d9",
   "metadata": {},
   "outputs": [],
   "source": [
    "endocrine_celltypes = [\n",
    "    \"Ngn3 low\",\n",
    "    \"Ngn3 high\",\n",
    "    \"Ngn3 high cycling\",\n",
    "    \"Fev+\",\n",
    "    \"Fev+ Alpha\",\n",
    "    \"Fev+ Beta\",\n",
    "    \"Fev+ Delta\",\n",
    "    \"Eps. progenitors\",\n",
    "    \"Alpha\",\n",
    "    \"Beta\",\n",
    "    \"Delta\",\n",
    "    \"Epsilon\"\n",
    "]"
   ]
  },
  {
   "cell_type": "code",
   "execution_count": null,
   "id": "335cffd4",
   "metadata": {},
   "outputs": [],
   "source": [
    "adata_red = adata_2[adata_2.obs[\"celltype\"].isin(endocrine_celltypes)].copy()\n",
    "adata = adata[adata.obs[\"celltype\"].isin(endocrine_celltypes)].copy()"
   ]
  },
  {
   "cell_type": "code",
   "execution_count": null,
   "id": "0dc2a8dc",
   "metadata": {},
   "outputs": [],
   "source": [
    "sc.tl.umap(adata_red, min_dist=2, spread=2)\n"
   ]
  },
  {
   "cell_type": "code",
   "execution_count": null,
   "id": "c83722e2",
   "metadata": {},
   "outputs": [],
   "source": [
    "sc.pl.umap(adata_red, color=\"celltype\")"
   ]
  },
  {
   "cell_type": "code",
   "execution_count": null,
   "id": "a9ecd216",
   "metadata": {},
   "outputs": [],
   "source": [
    "sc.tl.umap(adata_red)"
   ]
  },
  {
   "cell_type": "code",
   "execution_count": null,
   "id": "18e53985",
   "metadata": {},
   "outputs": [],
   "source": [
    "sc.pl.umap(adata_red, color=\"celltype\")"
   ]
  },
  {
   "cell_type": "code",
   "execution_count": null,
   "id": "09731cdf",
   "metadata": {},
   "outputs": [],
   "source": []
  },
  {
   "cell_type": "code",
   "execution_count": null,
   "id": "6c202cfb",
   "metadata": {},
   "outputs": [],
   "source": [
    "adata.obs['time'] = adata.obs.apply(lambda x: 14.5 if x[\"sample\"]==\"E14.5\" else 15.5, axis=1)"
   ]
  },
  {
   "cell_type": "code",
   "execution_count": null,
   "id": "f3550dd4",
   "metadata": {},
   "outputs": [],
   "source": [
    "adata.obsm[\"umap\"] = adata_red.obsm[\"umap\"]"
   ]
  },
  {
   "cell_type": "code",
   "execution_count": null,
   "id": "34f9681f",
   "metadata": {},
   "outputs": [],
   "source": [
    "adata.obs = adata.obs.merge(chromvar_features, left_index=True, right_index=True)"
   ]
  },
  {
   "cell_type": "code",
   "execution_count": null,
   "id": "56363eed",
   "metadata": {},
   "outputs": [],
   "source": [
    "color_dict = { 'Prlf. Ductal': '#f7b6d2', 'Ductal': '#d62728', 'Imm. Acinar': '#ffbb78', 'Mat. Acinar': '#98df8a',\n",
    "    'Alpha': '#1f77b4', 'Beta': '#ff7f0e', 'Delta': '#279e68', 'Eps. progenitors': '#aa40fc', 'Epsilon': '#8c564b',\n",
    "       'Fev+': '#e377c2', 'Fev+ Alpha': '#b5bd61', 'Fev+ Beta': '#aec7e8', 'Fev+ Delta': '#aec7e8', 'Fev+ Delta,0': '#ffbb78', 'Fev+ Delta,1':'#98df8a',\n",
    "        'Fev+ Delta,2': '#17becf', 'Ngn3 high cycling': '#aec7e8',\n",
    "        'Ngn3 high,0': '#ff9896', 'Ngn3 high,1':'#f0b98d', 'Ngn3 low': '#c5b0d5'\n",
    "}"
   ]
  },
  {
   "cell_type": "code",
   "execution_count": null,
   "id": "d4e0ec1f",
   "metadata": {},
   "outputs": [],
   "source": [
    "adata.obs[\"refinement\"] = adata.obs[\"refinement\"].astype(\"category\")\n",
    "adata.uns[\"refinement_colors\"] = [color_dict[ct] for ct in adata.obs[\"refinement\"].cat.categories]"
   ]
  },
  {
   "cell_type": "code",
   "execution_count": null,
   "id": "bb070ed0",
   "metadata": {},
   "outputs": [],
   "source": [
    "fig = sc.pl.umap(adata, color=\"refinement\", show=True, return_fig=True, title=\"Endocrine cells\")\n",
    "fig"
   ]
  },
  {
   "cell_type": "code",
   "execution_count": null,
   "id": "1e0e0f67",
   "metadata": {},
   "outputs": [],
   "source": [
    "fig.figure.savefig(os.path.join(output_dir, 'umap_endocrine_refinement_grouped.png'))"
   ]
  },
  {
   "cell_type": "code",
   "execution_count": null,
   "id": "8591567e",
   "metadata": {},
   "outputs": [],
   "source": [
    "label_params = fig.axes[0].get_legend_handles_labels() \n",
    "figl, axl = plt.subplots()\n",
    "axl.axis(False)\n",
    "axl.legend(*label_params, fontsize=5, loc=\"center\", markerscale=2, bbox_to_anchor=(0.5, 0.5), prop={\"size\":10})"
   ]
  },
  {
   "cell_type": "code",
   "execution_count": null,
   "id": "3f9c092f",
   "metadata": {},
   "outputs": [],
   "source": [
    "axl.figure"
   ]
  },
  {
   "cell_type": "code",
   "execution_count": null,
   "id": "9145f141",
   "metadata": {},
   "outputs": [],
   "source": [
    "axl.figure.savefig(os.path.join(output_dir, 'endocrine_refinement_grouped_legend_only.png'))"
   ]
  },
  {
   "cell_type": "markdown",
   "id": "8e4b8598",
   "metadata": {},
   "source": [
    "# Heat kernel distances"
   ]
  },
  {
   "cell_type": "code",
   "execution_count": null,
   "id": "df32bc81",
   "metadata": {},
   "outputs": [],
   "source": [
    "import pygsp"
   ]
  },
  {
   "cell_type": "code",
   "execution_count": null,
   "id": "b75c68e0",
   "metadata": {},
   "outputs": [],
   "source": [
    "sc.pp.neighbors(adata, use_rep=\"X_multi_vi\", key_added=\"multi_vi\", n_neighbors=30)"
   ]
  },
  {
   "cell_type": "code",
   "execution_count": null,
   "id": "cd06210b",
   "metadata": {},
   "outputs": [],
   "source": [
    "cell_ids_source = adata[adata.obs[\"time\"]==14.5].obs_names\n",
    "cell_ids_target = adata[adata.obs[\"time\"]==15.5].obs_names"
   ]
  },
  {
   "cell_type": "code",
   "execution_count": null,
   "id": "27af9390",
   "metadata": {},
   "outputs": [],
   "source": [
    "assert (adata.obs.iloc[:(len(cell_ids_source))].index == cell_ids_source).all()\n",
    "assert (adata.obs.iloc[(len(cell_ids_source)):].index == cell_ids_target).all()"
   ]
  },
  {
   "cell_type": "code",
   "execution_count": null,
   "id": "668237d5",
   "metadata": {},
   "outputs": [],
   "source": [
    "G = pygsp.graphs.Graph(adata.obsp[\"multi_vi_connectivities\"])"
   ]
  },
  {
   "cell_type": "code",
   "execution_count": null,
   "id": "1cfad71c",
   "metadata": {},
   "outputs": [],
   "source": [
    "G.estimate_lmax()"
   ]
  },
  {
   "cell_type": "code",
   "execution_count": null,
   "id": "13665f37",
   "metadata": {},
   "outputs": [],
   "source": [
    "filt = pygsp.filters.Heat(G, tau=100)\n",
    "diffusion_distances = filt.filter(np.eye(len(adata)))\n",
    "custom_cost = pd.DataFrame(data=-np.log(diffusion_distances[:len(cell_ids_source), len(cell_ids_source):].copy())+1e-15, index=cell_ids_source, columns=cell_ids_target)"
   ]
  },
  {
   "cell_type": "code",
   "execution_count": null,
   "id": "98f0f7ab",
   "metadata": {},
   "outputs": [],
   "source": [
    "tp0 = TemporalProblem(adata)\n",
    "tp0 = tp0.prepare(\"time\", joint_attr=\"X_multi_vi\")"
   ]
  },
  {
   "cell_type": "code",
   "execution_count": null,
   "id": "12d4201c",
   "metadata": {},
   "outputs": [],
   "source": [
    "tp0[14.5, 15.5].set_xy(custom_cost, tag=\"cost_matrix\")"
   ]
  },
  {
   "cell_type": "code",
   "execution_count": null,
   "id": "b83e9f5e",
   "metadata": {},
   "outputs": [],
   "source": [
    "tp0 = tp0.solve(max_iterations=1e8)"
   ]
  },
  {
   "cell_type": "code",
   "execution_count": null,
   "id": "e3a08820",
   "metadata": {},
   "outputs": [],
   "source": [
    "tp0.save(\"/lustre/groups/ml01/workspace/moscot_paper/pancreas/\", overwrite=True)"
   ]
  }
 ],
 "metadata": {
  "kernelspec": {
   "display_name": "jax_gpu3",
   "language": "python",
   "name": "jax_gpu3"
  },
  "language_info": {
   "codemirror_mode": {
    "name": "ipython",
    "version": 3
   },
   "file_extension": ".py",
   "mimetype": "text/x-python",
   "name": "python",
   "nbconvert_exporter": "python",
   "pygments_lexer": "ipython3",
   "version": "3.8.13"
  }
 },
 "nbformat": 4,
 "nbformat_minor": 5
}
