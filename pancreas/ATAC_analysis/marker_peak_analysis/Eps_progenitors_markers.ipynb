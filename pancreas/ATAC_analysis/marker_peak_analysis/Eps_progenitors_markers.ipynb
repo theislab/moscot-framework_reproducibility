{
 "cells": [
  {
   "cell_type": "code",
   "execution_count": null,
   "id": "817c48e1-eb6f-4f50-9f92-7918f8609784",
   "metadata": {},
   "outputs": [],
   "source": [
    "library(Signac)\n",
    "library(Seurat)"
   ]
  },
  {
   "cell_type": "code",
   "execution_count": null,
   "id": "1d47d395-948e-4093-a1f2-cbf1760962c4",
   "metadata": {},
   "outputs": [],
   "source": [
    "seurat <- readRDS(\"/Users/dominik.klein/data/seurat_filtered.rds\")"
   ]
  },
  {
   "cell_type": "code",
   "execution_count": null,
   "id": "47c53936-e7a8-4ec6-995a-5a7d243c335c",
   "metadata": {},
   "outputs": [],
   "source": [
    "seurat@meta.data[[\"refinement\"]] <- as.factor(seurat@meta.data[[\"refinement\"]])"
   ]
  },
  {
   "cell_type": "code",
   "execution_count": null,
   "id": "214a8966-75ab-474a-aca8-c2f80b40ca59",
   "metadata": {},
   "outputs": [],
   "source": [
    "Idents(seurat) <- seurat@meta.data[[\"refinement\"]]"
   ]
  },
  {
   "cell_type": "code",
   "execution_count": null,
   "id": "ba861c13-2c73-4278-9d85-6cc4a88c432c",
   "metadata": {},
   "outputs": [],
   "source": [
    "da_peaks <- FindMarkers(\n",
    "  object = seurat,\n",
    "  ident.1=\"Eps. progenitors\",\n",
    "  test.use = 'wilcox',\n",
    ")"
   ]
  },
  {
   "cell_type": "code",
   "execution_count": null,
   "id": "f4c2411e-715e-4c5d-88c0-60609cb19db3",
   "metadata": {},
   "outputs": [],
   "source": [
    "write.csv(da_peaks, \"diff_peaks_signac_eps_prog.csv\")"
   ]
  }
 ],
 "metadata": {
  "kernelspec": {
   "display_name": "R",
   "language": "R",
   "name": "ir"
  },
  "language_info": {
   "codemirror_mode": "r",
   "file_extension": ".r",
   "mimetype": "text/x-r-source",
   "name": "R",
   "pygments_lexer": "r",
   "version": "4.2.2"
  }
 },
 "nbformat": 4,
 "nbformat_minor": 5
}
