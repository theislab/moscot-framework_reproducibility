{
 "cells": [
  {
   "cell_type": "code",
   "execution_count": 1,
   "id": "1b0401dc-c8c9-44ca-85c2-7aa38b412eb8",
   "metadata": {},
   "outputs": [],
   "source": [
    "import scanpy as sc"
   ]
  },
  {
   "cell_type": "code",
   "execution_count": 2,
   "id": "747388cd-2fe3-4493-9f7f-1c1d9bde17f3",
   "metadata": {},
   "outputs": [],
   "source": [
    "adata = sc.read(\"/Users/dominik.klein/data/pancreas_multiome_2022_processed.h5ad\")"
   ]
  },
  {
   "cell_type": "code",
   "execution_count": 3,
   "id": "575fcc64-2efe-4a3a-a161-66fd78594a9e",
   "metadata": {},
   "outputs": [
    {
     "data": {
      "text/plain": [
       "AnnData object with n_obs × n_vars = 16918 × 242922\n",
       "    obs: 'n_counts', 'sample', 'n_genes', 'log_genes', 'mt_frac', 'rp_frac', 'ambi_frac', 'nCount_RNA', 'nFeature_RNA', 'nCount_ATAC', 'nFeature_ATAC', 'nucleosome_signal', 'nucleosome_percentile', 'TSS.enrichment', 'TSS.percentile', 'S_score', 'G2M_score', 'phase', 'proliferation', 'celltype', 'nCount_peaks', 'nFeature_peaks'\n",
       "    var: 'modality'\n",
       "    uns: 'celltype_colors', 'neighbors'\n",
       "    obsm: 'X_pca', 'X_pca_wsnn', 'X_spca_wsnn', 'X_umap', 'X_umap_ATAC', 'X_umap_GEX', 'X_umap_wsnn', 'lsi_full', 'lsi_red', 'umap', 'umap_ATAC', 'umap_GEX'\n",
       "    obsp: 'connectivities', 'connectivities_wnn', 'distances', 'distances_wnn'"
      ]
     },
     "execution_count": 3,
     "metadata": {},
     "output_type": "execute_result"
    }
   ],
   "source": [
    "adata"
   ]
  },
  {
   "cell_type": "code",
   "execution_count": 4,
   "id": "73e186b3-762e-47f7-b59a-476008572a65",
   "metadata": {},
   "outputs": [
    {
     "data": {
      "text/html": [
       "<div>\n",
       "<style scoped>\n",
       "    .dataframe tbody tr th:only-of-type {\n",
       "        vertical-align: middle;\n",
       "    }\n",
       "\n",
       "    .dataframe tbody tr th {\n",
       "        vertical-align: top;\n",
       "    }\n",
       "\n",
       "    .dataframe thead th {\n",
       "        text-align: right;\n",
       "    }\n",
       "</style>\n",
       "<table border=\"1\" class=\"dataframe\">\n",
       "  <thead>\n",
       "    <tr style=\"text-align: right;\">\n",
       "      <th></th>\n",
       "      <th>n_counts</th>\n",
       "      <th>n_genes</th>\n",
       "      <th>log_genes</th>\n",
       "      <th>mt_frac</th>\n",
       "      <th>rp_frac</th>\n",
       "      <th>ambi_frac</th>\n",
       "      <th>nCount_RNA</th>\n",
       "      <th>nFeature_RNA</th>\n",
       "      <th>nCount_ATAC</th>\n",
       "      <th>nFeature_ATAC</th>\n",
       "      <th>...</th>\n",
       "      <th>nucleosome_percentile</th>\n",
       "      <th>TSS.enrichment</th>\n",
       "      <th>TSS.percentile</th>\n",
       "      <th>S_score</th>\n",
       "      <th>G2M_score</th>\n",
       "      <th>phase</th>\n",
       "      <th>proliferation</th>\n",
       "      <th>celltype</th>\n",
       "      <th>nCount_peaks</th>\n",
       "      <th>nFeature_peaks</th>\n",
       "    </tr>\n",
       "    <tr>\n",
       "      <th>sample</th>\n",
       "      <th></th>\n",
       "      <th></th>\n",
       "      <th></th>\n",
       "      <th></th>\n",
       "      <th></th>\n",
       "      <th></th>\n",
       "      <th></th>\n",
       "      <th></th>\n",
       "      <th></th>\n",
       "      <th></th>\n",
       "      <th></th>\n",
       "      <th></th>\n",
       "      <th></th>\n",
       "      <th></th>\n",
       "      <th></th>\n",
       "      <th></th>\n",
       "      <th></th>\n",
       "      <th></th>\n",
       "      <th></th>\n",
       "      <th></th>\n",
       "      <th></th>\n",
       "    </tr>\n",
       "  </thead>\n",
       "  <tbody>\n",
       "    <tr>\n",
       "      <th>E14.5</th>\n",
       "      <td>9811</td>\n",
       "      <td>9811</td>\n",
       "      <td>9811</td>\n",
       "      <td>9811</td>\n",
       "      <td>9811</td>\n",
       "      <td>9811</td>\n",
       "      <td>9811</td>\n",
       "      <td>9811</td>\n",
       "      <td>9811</td>\n",
       "      <td>9811</td>\n",
       "      <td>...</td>\n",
       "      <td>9811</td>\n",
       "      <td>9811</td>\n",
       "      <td>9811</td>\n",
       "      <td>9811</td>\n",
       "      <td>9811</td>\n",
       "      <td>9811</td>\n",
       "      <td>9811</td>\n",
       "      <td>9811</td>\n",
       "      <td>9811</td>\n",
       "      <td>9811</td>\n",
       "    </tr>\n",
       "    <tr>\n",
       "      <th>E15.5</th>\n",
       "      <td>7107</td>\n",
       "      <td>7107</td>\n",
       "      <td>7107</td>\n",
       "      <td>7107</td>\n",
       "      <td>7107</td>\n",
       "      <td>7107</td>\n",
       "      <td>7107</td>\n",
       "      <td>7107</td>\n",
       "      <td>7107</td>\n",
       "      <td>7107</td>\n",
       "      <td>...</td>\n",
       "      <td>7107</td>\n",
       "      <td>7107</td>\n",
       "      <td>7107</td>\n",
       "      <td>7107</td>\n",
       "      <td>7107</td>\n",
       "      <td>7107</td>\n",
       "      <td>7107</td>\n",
       "      <td>7107</td>\n",
       "      <td>7107</td>\n",
       "      <td>7107</td>\n",
       "    </tr>\n",
       "  </tbody>\n",
       "</table>\n",
       "<p>2 rows × 21 columns</p>\n",
       "</div>"
      ],
      "text/plain": [
       "        n_counts  n_genes  log_genes  mt_frac  rp_frac  ambi_frac  nCount_RNA  \\\n",
       "sample                                                                          \n",
       "E14.5       9811     9811       9811     9811     9811       9811        9811   \n",
       "E15.5       7107     7107       7107     7107     7107       7107        7107   \n",
       "\n",
       "        nFeature_RNA  nCount_ATAC  nFeature_ATAC  ...  nucleosome_percentile  \\\n",
       "sample                                            ...                          \n",
       "E14.5           9811         9811           9811  ...                   9811   \n",
       "E15.5           7107         7107           7107  ...                   7107   \n",
       "\n",
       "        TSS.enrichment  TSS.percentile  S_score  G2M_score  phase  \\\n",
       "sample                                                              \n",
       "E14.5             9811            9811     9811       9811   9811   \n",
       "E15.5             7107            7107     7107       7107   7107   \n",
       "\n",
       "        proliferation  celltype  nCount_peaks  nFeature_peaks  \n",
       "sample                                                         \n",
       "E14.5            9811      9811          9811            9811  \n",
       "E15.5            7107      7107          7107            7107  \n",
       "\n",
       "[2 rows x 21 columns]"
      ]
     },
     "execution_count": 4,
     "metadata": {},
     "output_type": "execute_result"
    }
   ],
   "source": [
    "adata.obs.groupby(\"sample\").count()"
   ]
  },
  {
   "cell_type": "code",
   "execution_count": 9,
   "id": "ef897d4a-9840-40b1-813d-8e8eea8cc837",
   "metadata": {},
   "outputs": [
    {
     "data": {
      "text/plain": [
       "View of AnnData object with n_obs × n_vars = 5074 × 242922\n",
       "    obs: 'n_counts', 'sample', 'n_genes', 'log_genes', 'mt_frac', 'rp_frac', 'ambi_frac', 'nCount_RNA', 'nFeature_RNA', 'nCount_ATAC', 'nFeature_ATAC', 'nucleosome_signal', 'nucleosome_percentile', 'TSS.enrichment', 'TSS.percentile', 'S_score', 'G2M_score', 'phase', 'proliferation', 'celltype', 'nCount_peaks', 'nFeature_peaks'\n",
       "    var: 'modality'\n",
       "    uns: 'celltype_colors', 'neighbors'\n",
       "    obsm: 'X_pca', 'X_pca_wsnn', 'X_spca_wsnn', 'X_umap', 'X_umap_ATAC', 'X_umap_GEX', 'X_umap_wsnn', 'lsi_full', 'lsi_red', 'umap', 'umap_ATAC', 'umap_GEX'\n",
       "    obsp: 'connectivities', 'connectivities_wnn', 'distances', 'distances_wnn'"
      ]
     },
     "execution_count": 9,
     "metadata": {},
     "output_type": "execute_result"
    }
   ],
   "source": [
    "adata[adata.obs[\"celltype\"].isin([\"Ngn3 high\", \"Ngn3 low\"])]"
   ]
  },
  {
   "cell_type": "code",
   "execution_count": 10,
   "id": "c0163bfe-9a43-47cf-8b51-3e1db0c8134c",
   "metadata": {},
   "outputs": [
    {
     "data": {
      "text/plain": [
       "0.2999172479016432"
      ]
     },
     "execution_count": 10,
     "metadata": {},
     "output_type": "execute_result"
    }
   ],
   "source": [
    "adata[adata.obs[\"celltype\"].isin([\"Ngn3 high\", \"Ngn3 low\"])].n_obs/adata.n_obs"
   ]
  },
  {
   "cell_type": "code",
   "execution_count": null,
   "id": "54bae55f-c983-4020-bed2-2f4be9b7b990",
   "metadata": {},
   "outputs": [],
   "source": []
  }
 ],
 "metadata": {
  "kernelspec": {
   "display_name": "mm_best_muon_full",
   "language": "python",
   "name": "mm_best_muon_full"
  },
  "language_info": {
   "codemirror_mode": {
    "name": "ipython",
    "version": 3
   },
   "file_extension": ".py",
   "mimetype": "text/x-python",
   "name": "python",
   "nbconvert_exporter": "python",
   "pygments_lexer": "ipython3",
   "version": "3.9.13"
  }
 },
 "nbformat": 4,
 "nbformat_minor": 5
}
