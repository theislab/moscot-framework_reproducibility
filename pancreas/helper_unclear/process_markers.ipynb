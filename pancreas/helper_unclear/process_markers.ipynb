{
 "cells": [
  {
   "cell_type": "code",
   "execution_count": 1,
   "id": "bf28f446-2b2d-4597-9305-ec6c090788a9",
   "metadata": {},
   "outputs": [],
   "source": [
    "import pandas as pd"
   ]
  },
  {
   "cell_type": "code",
   "execution_count": 2,
   "id": "42d6dcd0-9034-4e7e-a9b3-6c9466784b0c",
   "metadata": {},
   "outputs": [],
   "source": [
    "def get_gene(x):\n",
    "    col = \"gene;logFC;padj;gene_symbol\"\n",
    "    try:\n",
    "        gene_name = str(x[col]).split(\";\")[1]\n",
    "    except IndexError:\n",
    "        return None\n",
    "    return gene_name"
   ]
  },
  {
   "cell_type": "code",
   "execution_count": 3,
   "id": "737731fd-b530-4b27-bc28-4ddf4cf44d36",
   "metadata": {},
   "outputs": [],
   "source": [
    "def get_fold_change(x):\n",
    "    col = \"gene;logFC;padj;gene_symbol\"\n",
    "    fc = x[\"level_0\"].split(\";\")[1] + \".\" + str(x[\"level_1\"]).split(\";\")[0]\n",
    "    try:\n",
    "        return float(fc)\n",
    "    except:\n",
    "        return None"
   ]
  },
  {
   "cell_type": "code",
   "execution_count": 4,
   "id": "3923de18-4b21-438d-be78-a039f69e336e",
   "metadata": {},
   "outputs": [],
   "source": [
    "def get_pval(x):\n",
    "    col = \"gene;logFC;padj;gene_symbol\"\n",
    "    try:\n",
    "        p_val = str(x[\"level_1\"]).split(\";\")[1] + \".\" + str(x[col]).split(\";\")[0]\n",
    "        p_val = float(p_val)\n",
    "    except:\n",
    "        return None\n",
    "    return p_val"
   ]
  },
  {
   "cell_type": "code",
   "execution_count": 5,
   "id": "0d1cbd0c-7a8a-43bb-bb44-db2da0727f0a",
   "metadata": {},
   "outputs": [],
   "source": [
    "df_eps = pd.read_csv(\"/Users/dominik.klein/Downloads/eps_markers.csv\")\n",
    "df_eps = df_eps.reset_index()"
   ]
  },
  {
   "cell_type": "code",
   "execution_count": 6,
   "id": "d3d3c1c7-2b2c-4cf7-b7d0-2214b2523f4a",
   "metadata": {},
   "outputs": [],
   "source": [
    "df_delta = pd.read_csv(\"/Users/dominik.klein/Downloads/delta_markers.csv\")\n",
    "df_delta = df_delta.reset_index()"
   ]
  },
  {
   "cell_type": "code",
   "execution_count": 7,
   "id": "cd6eb497-1d29-4c86-940e-a7f551bb582f",
   "metadata": {},
   "outputs": [],
   "source": [
    "dfs = [df_eps, df_delta]"
   ]
  },
  {
   "cell_type": "code",
   "execution_count": 8,
   "id": "c1e577bb-48d5-4be9-a13c-8ed08215cf7a",
   "metadata": {},
   "outputs": [],
   "source": [
    "for i, df in enumerate(dfs):\n",
    "    df[\"gene\"] = df.apply(get_gene, axis=1)\n",
    "    df[\"log_fold_change\"] = df.apply(get_fold_change, axis=1).astype(float)\n",
    "    df[\"pval\"] = df.apply(get_pval, axis=1).astype(float)\n",
    "    df = df.dropna()\n",
    "    df = df[[\"gene\", \"log_fold_change\", \"pval\"]]\n",
    "    dfs[i] = df"
   ]
  },
  {
   "cell_type": "code",
   "execution_count": 9,
   "id": "2b14d85b-c0f7-45cd-a6be-4371fbc5ab59",
   "metadata": {},
   "outputs": [],
   "source": [
    "dfs[0].to_csv(\"/Users/dominik.klein/data/eps_markers_processed.csv\")"
   ]
  },
  {
   "cell_type": "code",
   "execution_count": 10,
   "id": "fa68ee72-aaa8-4109-923f-bfbede205ce7",
   "metadata": {},
   "outputs": [],
   "source": [
    "dfs[1].to_csv(\"/Users/dominik.klein/data/delta_markers_processed.csv\")"
   ]
  }
 ],
 "metadata": {
  "kernelspec": {
   "display_name": "mm_best_muon_full",
   "language": "python",
   "name": "mm_best_muon_full"
  },
  "language_info": {
   "codemirror_mode": {
    "name": "ipython",
    "version": 3
   },
   "file_extension": ".py",
   "mimetype": "text/x-python",
   "name": "python",
   "nbconvert_exporter": "python",
   "pygments_lexer": "ipython3",
   "version": "3.9.13"
  }
 },
 "nbformat": 4,
 "nbformat_minor": 5
}
