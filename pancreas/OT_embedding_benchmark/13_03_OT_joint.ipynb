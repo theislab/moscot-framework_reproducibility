{
 "cells": [
  {
   "cell_type": "code",
   "execution_count": 1,
   "id": "2f938587",
   "metadata": {},
   "outputs": [],
   "source": [
    "from jax.config import config\n",
    "config.update(\"jax_enable_x64\", True)"
   ]
  },
  {
   "cell_type": "code",
   "execution_count": 2,
   "id": "8c8d8e33",
   "metadata": {},
   "outputs": [
    {
     "name": "stderr",
     "output_type": "stream",
     "text": [
      "2022-11-24 10:03:06.908029: E external/org_tensorflow/tensorflow/stream_executor/cuda/cuda_driver.cc:265] failed call to cuInit: CUDA_ERROR_NO_DEVICE: no CUDA-capable device is detected\n",
      "WARNING:absl:No GPU/TPU found, falling back to CPU. (Set TF_CPP_MIN_LOG_LEVEL=0 and rerun for more info.)\n"
     ]
    }
   ],
   "source": [
    "import scanpy as sc\n",
    "import seaborn as sns\n",
    "import matplotlib.pyplot as plt\n",
    "import moscot\n",
    "from moscot.problems.time import TemporalProblem\n",
    "import seaborn as sns\n",
    "from sklearn.preprocessing import StandardScaler\n",
    "from muon import atac as ac\n",
    "import numpy as np\n",
    "import itertools\n",
    "import pandas as pd"
   ]
  },
  {
   "cell_type": "code",
   "execution_count": 3,
   "id": "f8d665f5",
   "metadata": {},
   "outputs": [],
   "source": [
    "adata = sc.read_h5ad(\"/lustre/groups/ml01/workspace/moscot_paper/pancreas/pancreas_multiome_2022_processed.h5ad\")"
   ]
  },
  {
   "cell_type": "code",
   "execution_count": 4,
   "id": "a50c0d20",
   "metadata": {},
   "outputs": [],
   "source": [
    "adata.obs['time'] = adata.obs.apply(lambda x: 14.5 if x[\"sample\"]==\"E14.5\" else 15.5, axis=1)"
   ]
  },
  {
   "cell_type": "code",
   "execution_count": 5,
   "id": "9180d6df",
   "metadata": {},
   "outputs": [],
   "source": [
    "marginals = pd.read_csv(\"marginals.csv\", index_col=\"Unnamed: 0\")\n",
    "adata.obs[\"a\"] = marginals"
   ]
  },
  {
   "cell_type": "code",
   "execution_count": null,
   "id": "a5d5d12a",
   "metadata": {},
   "outputs": [],
   "source": [
    "adata_gex = adata[:, adata.var[\"modality\"]==\"GEX\"].copy()\n",
    "adata_atac = adata[:, adata.var[\"modality\"]==\"ATAC\"].copy()"
   ]
  },
  {
   "cell_type": "code",
   "execution_count": null,
   "id": "5ef23bcc",
   "metadata": {},
   "outputs": [],
   "source": [
    "known_transitions = [\n",
    "    (\"Imm. Acinar\", [\"Mat. Acinar\"]), \n",
    "    (\"Fev+ Alpha\", [\"Alpha\"]),\n",
    "    (\"Fev+ Beta\", [\"Beta\"]),\n",
    "    (\"Ngn3 high\", [\"Alpha\", \"Beta\", \"Delta\", \"Epsilon\", \"Fev+ Alpha\", \"Fev+ Beta\", \"Eps. progenitors\", \"Fev+ Delta\", \"Fev+\"]),\n",
    "    (\"Ngn3 low\", [\"Alpha\", \"Beta\", \"Delta\", \"Epsilon\", \"Fev+ Alpha\", \"Fev+ Beta\", \"Eps. progenitors\", \"Fev+ Delta\", \"Fev+\", \"Ngn3 high\", \"Ngn3 high cycling\"]),\n",
    "]\n",
    "\n",
    "self_transitions = [(el, el) for el in adata.obs[\"celltype\"].cat.categories]\n",
    "\n",
    "correct_transitions = known_transitions + self_transitions\n",
    "\n",
    "def compute_score(df):\n",
    "    score=0\n",
    "    for pair in correct_transitions:\n",
    "        score += df.loc[pair].sum()\n",
    "    return score/len(correct_transitions)"
   ]
  },
  {
   "cell_type": "code",
   "execution_count": null,
   "id": "bf9eb125",
   "metadata": {},
   "outputs": [],
   "source": [
    "epsilon = (1e-4, 1e-3, 1e-2)\n",
    "tau_a = (1, 0.99, 0.95, 0.9)\n",
    "tau_b = (1, 0.99, 0.95, 0.9)\n",
    "\n",
    "configs = itertools.product(epsilon, tau_a, tau_b)\n"
   ]
  },
  {
   "cell_type": "markdown",
   "id": "d781d8ce",
   "metadata": {},
   "source": [
    "# LSI ATAC space"
   ]
  },
  {
   "cell_type": "code",
   "execution_count": null,
   "id": "d35f28b1",
   "metadata": {},
   "outputs": [],
   "source": [
    "ac.pp.tfidf(adata_atac, scale_factor=1e4)"
   ]
  },
  {
   "cell_type": "code",
   "execution_count": null,
   "id": "f61ee3a4",
   "metadata": {},
   "outputs": [],
   "source": [
    "sc.pp.normalize_per_cell(adata_atac, counts_per_cell_after=1e4)\n",
    "sc.pp.log1p(adata_atac)"
   ]
  },
  {
   "cell_type": "code",
   "execution_count": null,
   "id": "089bbe3d",
   "metadata": {},
   "outputs": [],
   "source": [
    "ac.tl.lsi(adata_atac, n_comps=15)"
   ]
  },
  {
   "cell_type": "code",
   "execution_count": null,
   "id": "67550297",
   "metadata": {},
   "outputs": [],
   "source": [
    "depth_corr = [np.corrcoef(adata_atac.obsm[\"X_lsi\"][:,i], adata_atac.obs[\"nCount_ATAC\"])[1,0] for i in range(adata_atac.obsm[\"X_lsi\"].shape[1])]"
   ]
  },
  {
   "cell_type": "code",
   "execution_count": null,
   "id": "8b414db3",
   "metadata": {},
   "outputs": [],
   "source": [
    "comps_to_remove = np.where(np.abs(depth_corr) > 0.4)[0]\n",
    "comps_to_remove"
   ]
  },
  {
   "cell_type": "code",
   "execution_count": null,
   "id": "fd00899c",
   "metadata": {},
   "outputs": [],
   "source": [
    "subset = list(set(range(adata_atac.obsm[\"X_lsi\"].shape[1])) - set(comps_to_remove))"
   ]
  },
  {
   "cell_type": "code",
   "execution_count": null,
   "id": "b2bfe8a6",
   "metadata": {},
   "outputs": [],
   "source": [
    "adata_atac.obsm['X_lsi'] = adata_atac.obsm['X_lsi'][:,subset]"
   ]
  },
  {
   "cell_type": "markdown",
   "id": "675f9012",
   "metadata": {},
   "source": [
    "# PCA GEX space"
   ]
  },
  {
   "cell_type": "code",
   "execution_count": null,
   "id": "da706b92",
   "metadata": {},
   "outputs": [],
   "source": [
    "sc.pp.normalize_total(adata_gex, target_sum=1e4)\n",
    "sc.pp.log1p(adata_gex)"
   ]
  },
  {
   "cell_type": "code",
   "execution_count": null,
   "id": "f64a34bd",
   "metadata": {},
   "outputs": [],
   "source": [
    "sc.pp.pca(adata_gex, n_comps=15)"
   ]
  },
  {
   "cell_type": "code",
   "execution_count": null,
   "id": "5905df27",
   "metadata": {},
   "outputs": [],
   "source": [
    "adata_gex.obsm[\"X_pca_scaled\"] = StandardScaler().fit_transform(adata_gex.obsm[\"X_pca\"])"
   ]
  },
  {
   "cell_type": "markdown",
   "id": "1789ae2e",
   "metadata": {},
   "source": [
    "# Concatenate"
   ]
  },
  {
   "cell_type": "code",
   "execution_count": null,
   "id": "3948fcb4",
   "metadata": {},
   "outputs": [],
   "source": [
    "adata.obsm[\"X_joint\"] = np.concatenate((adata_gex.obsm[\"X_pca_scaled\"], adata_atac.obsm[\"X_lsi\"]), axis=1)"
   ]
  },
  {
   "cell_type": "code",
   "execution_count": null,
   "id": "ccad44a7",
   "metadata": {},
   "outputs": [],
   "source": [
    "tp0 = TemporalProblem(adata)\n",
    "tp0 = tp0.prepare(\"time\", joint_attr=\"X_joint\", a=\"a\")"
   ]
  },
  {
   "cell_type": "code",
   "execution_count": null,
   "id": "ae16efe2",
   "metadata": {},
   "outputs": [],
   "source": [
    "scores = {}\n",
    "for config in list(configs):\n",
    "    tp0 = tp0.solve(epsilon=config[0], tau_a=config[1], tau_b=config[2], max_iterations=1e8)\n",
    "    ct_desc = tp0.cell_transition(source=14.5, target=15.5, source_groups=\"celltype\", target_groups=\"celltype\", forward=True)\n",
    "    scores[config] = compute_score(ct_desc)"
   ]
  },
  {
   "cell_type": "code",
   "execution_count": null,
   "id": "cf233249",
   "metadata": {},
   "outputs": [],
   "source": [
    "df_joint = pd.DataFrame.from_dict([scores]).transpose()"
   ]
  },
  {
   "cell_type": "code",
   "execution_count": null,
   "id": "afcb3fab",
   "metadata": {},
   "outputs": [],
   "source": [
    "df_joint.to_csv(\"joint_pca_lsi_scores.csv\")"
   ]
  },
  {
   "cell_type": "markdown",
   "id": "89fc3adc",
   "metadata": {},
   "source": [
    "# MultiVI spaces"
   ]
  },
  {
   "cell_type": "code",
   "execution_count": null,
   "id": "7dd890dc",
   "metadata": {},
   "outputs": [],
   "source": [
    "adata = sc.read(\"/lustre/groups/ml01/workspace/moscot_paper/pancreas/embeddings/pancreas_shared_embeddings.h5ad\")"
   ]
  },
  {
   "cell_type": "code",
   "execution_count": null,
   "id": "d999cec6",
   "metadata": {},
   "outputs": [],
   "source": [
    "adata.obs['time'] = adata.obs.apply(lambda x: 14.5 if x[\"sample\"]==\"E14.5\" else 15.5, axis=1)"
   ]
  },
  {
   "cell_type": "code",
   "execution_count": null,
   "id": "c52b7759",
   "metadata": {},
   "outputs": [],
   "source": [
    "marginals = pd.read_csv(\"marginals.csv\", index_col=\"Unnamed: 0\")\n",
    "adata.obs[\"a\"] = marginals"
   ]
  },
  {
   "cell_type": "code",
   "execution_count": null,
   "id": "f4c783e2",
   "metadata": {},
   "outputs": [],
   "source": [
    "configs = itertools.product(epsilon, tau_a, tau_b)"
   ]
  },
  {
   "cell_type": "code",
   "execution_count": null,
   "id": "b4a454c8",
   "metadata": {},
   "outputs": [],
   "source": [
    "tp1 = TemporalProblem(adata)\n",
    "tp1 = tp1.prepare(\"time\", joint_attr=\"X_multi_vi\", a=\"a\")"
   ]
  },
  {
   "cell_type": "code",
   "execution_count": null,
   "id": "e4de1e66",
   "metadata": {},
   "outputs": [],
   "source": [
    "scores_multivi = {}\n",
    "for config in list(configs):\n",
    "    tp1 = tp1.solve(epsilon=config[0], tau_a=config[1], tau_b=config[2], max_iterations=1e8)\n",
    "    ct_desc = tp1.cell_transition(source=14.5, target=15.5, source_groups=\"celltype\", target_groups=\"celltype\", forward=True)\n",
    "    scores_multivi[config] = compute_score(ct_desc)"
   ]
  },
  {
   "cell_type": "code",
   "execution_count": null,
   "id": "15767375",
   "metadata": {},
   "outputs": [],
   "source": [
    "df_multivi = pd.DataFrame.from_dict([scores_multivi]).transpose()"
   ]
  },
  {
   "cell_type": "code",
   "execution_count": null,
   "id": "bb0c2f07",
   "metadata": {},
   "outputs": [],
   "source": [
    "df_multivi.to_csv(\"multivi_scores.csv\")"
   ]
  },
  {
   "cell_type": "code",
   "execution_count": null,
   "id": "978cdb25",
   "metadata": {},
   "outputs": [],
   "source": [
    "configs = itertools.product(epsilon, tau_a, tau_b)"
   ]
  },
  {
   "cell_type": "code",
   "execution_count": null,
   "id": "bad1a288",
   "metadata": {},
   "outputs": [],
   "source": [
    "tp2 = TemporalProblem(adata)\n",
    "tp2 = tp2.prepare(\"time\", joint_attr=\"X_multi_vi_batch_corrected\", a=\"a\")"
   ]
  },
  {
   "cell_type": "code",
   "execution_count": null,
   "id": "9384d5f1",
   "metadata": {},
   "outputs": [],
   "source": [
    "scores_multivi_bc = {}\n",
    "for config in list(configs):\n",
    "    tp2 = tp2.solve(epsilon=config[0], tau_a=config[1], tau_b=config[2], max_iterations=1e8)\n",
    "    ct_desc = tp2.cell_transition(source=14.5, target=15.5, source_groups=\"celltype\", target_groups=\"celltype\", forward=True)\n",
    "    scores_multivi_bc[config] = compute_score(ct_desc)"
   ]
  },
  {
   "cell_type": "code",
   "execution_count": null,
   "id": "ae73c7b4",
   "metadata": {},
   "outputs": [],
   "source": [
    "df_multivi_bc = pd.DataFrame.from_dict([scores_multivi_bc]).transpose()"
   ]
  },
  {
   "cell_type": "code",
   "execution_count": null,
   "id": "4e7f455a",
   "metadata": {},
   "outputs": [],
   "source": [
    "df_multivi_bc.to_csv(\"multivi_bc_scores.csv\")"
   ]
  }
 ],
 "metadata": {
  "kernelspec": {
   "display_name": "jax_gpu3",
   "language": "python",
   "name": "jax_gpu3"
  },
  "language_info": {
   "codemirror_mode": {
    "name": "ipython",
    "version": 3
   },
   "file_extension": ".py",
   "mimetype": "text/x-python",
   "name": "python",
   "nbconvert_exporter": "python",
   "pygments_lexer": "ipython3",
   "version": "3.8.13"
  }
 },
 "nbformat": 4,
 "nbformat_minor": 5
}
