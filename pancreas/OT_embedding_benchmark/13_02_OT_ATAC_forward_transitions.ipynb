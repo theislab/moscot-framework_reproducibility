{
 "cells": [
  {
   "cell_type": "code",
   "execution_count": 1,
   "id": "2f938587",
   "metadata": {},
   "outputs": [],
   "source": [
    "from jax.config import config\n",
    "config.update(\"jax_enable_x64\", True)"
   ]
  },
  {
   "cell_type": "code",
   "execution_count": 2,
   "id": "8c8d8e33",
   "metadata": {},
   "outputs": [],
   "source": [
    "import scanpy as sc\n",
    "import seaborn as sns\n",
    "import matplotlib.pyplot as plt\n",
    "import moscot\n",
    "from moscot.problems.time import TemporalProblem\n",
    "import seaborn as sns\n",
    "from sklearn.preprocessing import StandardScaler\n",
    "from muon import atac as ac\n",
    "import numpy as np\n",
    "import itertools\n",
    "import pandas as pd"
   ]
  },
  {
   "cell_type": "code",
   "execution_count": 3,
   "id": "f8d665f5",
   "metadata": {},
   "outputs": [],
   "source": [
    "adata = sc.read_h5ad(\"/lustre/groups/ml01/workspace/moscot_paper/pancreas/pancreas_multiome_2022_processed.h5ad\")"
   ]
  },
  {
   "cell_type": "code",
   "execution_count": 4,
   "id": "6aa80c87",
   "metadata": {},
   "outputs": [],
   "source": [
    "adata.obs['time'] = adata.obs.apply(lambda x: 14.5 if x[\"sample\"]==\"E14.5\" else 15.5, axis=1)"
   ]
  },
  {
   "cell_type": "code",
   "execution_count": 5,
   "id": "727857d9",
   "metadata": {},
   "outputs": [],
   "source": [
    "marginals = pd.read_csv(\"marginals.csv\", index_col=\"Unnamed: 0\")\n",
    "adata.obs[\"a\"] = marginals"
   ]
  },
  {
   "cell_type": "code",
   "execution_count": 6,
   "id": "a5d5d12a",
   "metadata": {},
   "outputs": [],
   "source": [
    "adata_gex = adata[:, adata.var[\"modality\"]==\"GEX\"].copy()\n",
    "adata = adata[:, adata.var[\"modality\"]==\"ATAC\"].copy()"
   ]
  },
  {
   "cell_type": "code",
   "execution_count": 7,
   "id": "5ef23bcc",
   "metadata": {},
   "outputs": [],
   "source": [
    "known_transitions = [\n",
    "    (\"Imm. Acinar\", [\"Mat. Acinar\"]), \n",
    "    (\"Fev+ Alpha\", [\"Alpha\"]),\n",
    "    (\"Fev+ Beta\", [\"Beta\"]),\n",
    "    (\"Ngn3 high\", [\"Alpha\", \"Beta\", \"Delta\", \"Epsilon\", \"Fev+ Alpha\", \"Fev+ Beta\", \"Eps. progenitors\", \"Fev+ Delta\", \"Fev+\"]),\n",
    "    (\"Ngn3 low\", [\"Alpha\", \"Beta\", \"Delta\", \"Epsilon\", \"Fev+ Alpha\", \"Fev+ Beta\", \"Eps. progenitors\", \"Fev+ Delta\", \"Fev+\", \"Ngn3 high\", \"Ngn3 high cycling\"]),\n",
    "]\n",
    "\n",
    "\n",
    "correct_transitions = known_transitions \n",
    "\n",
    "def compute_score(df):\n",
    "    score=0\n",
    "    for pair in correct_transitions:\n",
    "        score += df.loc[pair].sum()\n",
    "    return score/len(correct_transitions)"
   ]
  },
  {
   "cell_type": "code",
   "execution_count": 8,
   "id": "bf9eb125",
   "metadata": {},
   "outputs": [],
   "source": [
    "epsilon = (1e-4, 1e-3, 1e-2)\n",
    "tau_a = (1, 0.99, 0.95, 0.9)\n",
    "tau_b = (1, 0.99, 0.95, 0.9)\n",
    "\n",
    "configs = itertools.product(epsilon, tau_a, tau_b)\n"
   ]
  },
  {
   "cell_type": "markdown",
   "id": "d781d8ce",
   "metadata": {},
   "source": [
    "# LSI ATAC space"
   ]
  },
  {
   "cell_type": "code",
   "execution_count": 9,
   "id": "d35f28b1",
   "metadata": {},
   "outputs": [],
   "source": [
    "ac.pp.tfidf(adata, scale_factor=1e4)"
   ]
  },
  {
   "cell_type": "code",
   "execution_count": 10,
   "id": "f61ee3a4",
   "metadata": {},
   "outputs": [],
   "source": [
    "sc.pp.normalize_per_cell(adata, counts_per_cell_after=1e4)\n",
    "sc.pp.log1p(adata)"
   ]
  },
  {
   "cell_type": "code",
   "execution_count": 11,
   "id": "089bbe3d",
   "metadata": {},
   "outputs": [],
   "source": [
    "ac.tl.lsi(adata, n_comps=30)"
   ]
  },
  {
   "cell_type": "code",
   "execution_count": 12,
   "id": "67550297",
   "metadata": {},
   "outputs": [],
   "source": [
    "depth_corr = [np.corrcoef(adata.obsm[\"X_lsi\"][:,i], adata.obs[\"nCount_ATAC\"])[1,0] for i in range(adata.obsm[\"X_lsi\"].shape[1])]"
   ]
  },
  {
   "cell_type": "code",
   "execution_count": 13,
   "id": "8b414db3",
   "metadata": {},
   "outputs": [
    {
     "data": {
      "text/plain": [
       "array([0, 4])"
      ]
     },
     "execution_count": 13,
     "metadata": {},
     "output_type": "execute_result"
    }
   ],
   "source": [
    "comps_to_remove = np.where(np.abs(depth_corr) > 0.4)[0]\n",
    "comps_to_remove"
   ]
  },
  {
   "cell_type": "code",
   "execution_count": 14,
   "id": "fd00899c",
   "metadata": {},
   "outputs": [],
   "source": [
    "subset = list(set(range(adata.obsm[\"X_lsi\"].shape[1])) - set(comps_to_remove))"
   ]
  },
  {
   "cell_type": "code",
   "execution_count": 15,
   "id": "b2bfe8a6",
   "metadata": {},
   "outputs": [],
   "source": [
    "adata.obsm['X_lsi'] = adata.obsm['X_lsi'][:,subset]"
   ]
  },
  {
   "cell_type": "code",
   "execution_count": 16,
   "id": "ccad44a7",
   "metadata": {},
   "outputs": [],
   "source": [
    "tp0 = TemporalProblem(adata)\n",
    "tp0 = tp0.prepare(\"time\", joint_attr=\"X_lsi\", a=\"a\")"
   ]
  },
  {
   "cell_type": "code",
   "execution_count": 17,
   "id": "ae16efe2",
   "metadata": {},
   "outputs": [
    {
     "name": "stdout",
     "output_type": "stream",
     "text": [
      "\u001b[34mINFO    \u001b[0m Solving problem BirthDeathProblem\u001b[1m[\u001b[0m\u001b[33mstage\u001b[0m=\u001b[32m'prepared'\u001b[0m, \u001b[33mshape\u001b[0m=\u001b[1m(\u001b[0m\u001b[1;36m9811\u001b[0m, \u001b[1;36m7107\u001b[0m\u001b[1m)\u001b[0m\u001b[1m]\u001b[0m.            \n",
      "\u001b[34mINFO    \u001b[0m Solving problem BirthDeathProblem\u001b[1m[\u001b[0m\u001b[33mstage\u001b[0m=\u001b[32m'solved'\u001b[0m, \u001b[33mshape\u001b[0m=\u001b[1m(\u001b[0m\u001b[1;36m9811\u001b[0m, \u001b[1;36m7107\u001b[0m\u001b[1m)\u001b[0m\u001b[1m]\u001b[0m.              \n",
      "\u001b[34mINFO    \u001b[0m Solving problem BirthDeathProblem\u001b[1m[\u001b[0m\u001b[33mstage\u001b[0m=\u001b[32m'solved'\u001b[0m, \u001b[33mshape\u001b[0m=\u001b[1m(\u001b[0m\u001b[1;36m9811\u001b[0m, \u001b[1;36m7107\u001b[0m\u001b[1m)\u001b[0m\u001b[1m]\u001b[0m.              \n",
      "\u001b[34mINFO    \u001b[0m Solving problem BirthDeathProblem\u001b[1m[\u001b[0m\u001b[33mstage\u001b[0m=\u001b[32m'solved'\u001b[0m, \u001b[33mshape\u001b[0m=\u001b[1m(\u001b[0m\u001b[1;36m9811\u001b[0m, \u001b[1;36m7107\u001b[0m\u001b[1m)\u001b[0m\u001b[1m]\u001b[0m.              \n",
      "\u001b[34mINFO    \u001b[0m Solving problem BirthDeathProblem\u001b[1m[\u001b[0m\u001b[33mstage\u001b[0m=\u001b[32m'solved'\u001b[0m, \u001b[33mshape\u001b[0m=\u001b[1m(\u001b[0m\u001b[1;36m9811\u001b[0m, \u001b[1;36m7107\u001b[0m\u001b[1m)\u001b[0m\u001b[1m]\u001b[0m.              \n",
      "\u001b[34mINFO    \u001b[0m Solving problem BirthDeathProblem\u001b[1m[\u001b[0m\u001b[33mstage\u001b[0m=\u001b[32m'solved'\u001b[0m, \u001b[33mshape\u001b[0m=\u001b[1m(\u001b[0m\u001b[1;36m9811\u001b[0m, \u001b[1;36m7107\u001b[0m\u001b[1m)\u001b[0m\u001b[1m]\u001b[0m.              \n",
      "\u001b[34mINFO    \u001b[0m Solving problem BirthDeathProblem\u001b[1m[\u001b[0m\u001b[33mstage\u001b[0m=\u001b[32m'solved'\u001b[0m, \u001b[33mshape\u001b[0m=\u001b[1m(\u001b[0m\u001b[1;36m9811\u001b[0m, \u001b[1;36m7107\u001b[0m\u001b[1m)\u001b[0m\u001b[1m]\u001b[0m.              \n",
      "\u001b[34mINFO    \u001b[0m Solving problem BirthDeathProblem\u001b[1m[\u001b[0m\u001b[33mstage\u001b[0m=\u001b[32m'solved'\u001b[0m, \u001b[33mshape\u001b[0m=\u001b[1m(\u001b[0m\u001b[1;36m9811\u001b[0m, \u001b[1;36m7107\u001b[0m\u001b[1m)\u001b[0m\u001b[1m]\u001b[0m.              \n",
      "\u001b[34mINFO    \u001b[0m Solving problem BirthDeathProblem\u001b[1m[\u001b[0m\u001b[33mstage\u001b[0m=\u001b[32m'solved'\u001b[0m, \u001b[33mshape\u001b[0m=\u001b[1m(\u001b[0m\u001b[1;36m9811\u001b[0m, \u001b[1;36m7107\u001b[0m\u001b[1m)\u001b[0m\u001b[1m]\u001b[0m.              \n",
      "\u001b[34mINFO    \u001b[0m Solving problem BirthDeathProblem\u001b[1m[\u001b[0m\u001b[33mstage\u001b[0m=\u001b[32m'solved'\u001b[0m, \u001b[33mshape\u001b[0m=\u001b[1m(\u001b[0m\u001b[1;36m9811\u001b[0m, \u001b[1;36m7107\u001b[0m\u001b[1m)\u001b[0m\u001b[1m]\u001b[0m.              \n",
      "\u001b[34mINFO    \u001b[0m Solving problem BirthDeathProblem\u001b[1m[\u001b[0m\u001b[33mstage\u001b[0m=\u001b[32m'solved'\u001b[0m, \u001b[33mshape\u001b[0m=\u001b[1m(\u001b[0m\u001b[1;36m9811\u001b[0m, \u001b[1;36m7107\u001b[0m\u001b[1m)\u001b[0m\u001b[1m]\u001b[0m.              \n",
      "\u001b[34mINFO    \u001b[0m Solving problem BirthDeathProblem\u001b[1m[\u001b[0m\u001b[33mstage\u001b[0m=\u001b[32m'solved'\u001b[0m, \u001b[33mshape\u001b[0m=\u001b[1m(\u001b[0m\u001b[1;36m9811\u001b[0m, \u001b[1;36m7107\u001b[0m\u001b[1m)\u001b[0m\u001b[1m]\u001b[0m.              \n",
      "\u001b[34mINFO    \u001b[0m Solving problem BirthDeathProblem\u001b[1m[\u001b[0m\u001b[33mstage\u001b[0m=\u001b[32m'solved'\u001b[0m, \u001b[33mshape\u001b[0m=\u001b[1m(\u001b[0m\u001b[1;36m9811\u001b[0m, \u001b[1;36m7107\u001b[0m\u001b[1m)\u001b[0m\u001b[1m]\u001b[0m.              \n",
      "\u001b[34mINFO    \u001b[0m Solving problem BirthDeathProblem\u001b[1m[\u001b[0m\u001b[33mstage\u001b[0m=\u001b[32m'solved'\u001b[0m, \u001b[33mshape\u001b[0m=\u001b[1m(\u001b[0m\u001b[1;36m9811\u001b[0m, \u001b[1;36m7107\u001b[0m\u001b[1m)\u001b[0m\u001b[1m]\u001b[0m.              \n",
      "\u001b[34mINFO    \u001b[0m Solving problem BirthDeathProblem\u001b[1m[\u001b[0m\u001b[33mstage\u001b[0m=\u001b[32m'solved'\u001b[0m, \u001b[33mshape\u001b[0m=\u001b[1m(\u001b[0m\u001b[1;36m9811\u001b[0m, \u001b[1;36m7107\u001b[0m\u001b[1m)\u001b[0m\u001b[1m]\u001b[0m.              \n",
      "\u001b[34mINFO    \u001b[0m Solving problem BirthDeathProblem\u001b[1m[\u001b[0m\u001b[33mstage\u001b[0m=\u001b[32m'solved'\u001b[0m, \u001b[33mshape\u001b[0m=\u001b[1m(\u001b[0m\u001b[1;36m9811\u001b[0m, \u001b[1;36m7107\u001b[0m\u001b[1m)\u001b[0m\u001b[1m]\u001b[0m.              \n",
      "\u001b[34mINFO    \u001b[0m Solving problem BirthDeathProblem\u001b[1m[\u001b[0m\u001b[33mstage\u001b[0m=\u001b[32m'solved'\u001b[0m, \u001b[33mshape\u001b[0m=\u001b[1m(\u001b[0m\u001b[1;36m9811\u001b[0m, \u001b[1;36m7107\u001b[0m\u001b[1m)\u001b[0m\u001b[1m]\u001b[0m.              \n",
      "\u001b[34mINFO    \u001b[0m Solving problem BirthDeathProblem\u001b[1m[\u001b[0m\u001b[33mstage\u001b[0m=\u001b[32m'solved'\u001b[0m, \u001b[33mshape\u001b[0m=\u001b[1m(\u001b[0m\u001b[1;36m9811\u001b[0m, \u001b[1;36m7107\u001b[0m\u001b[1m)\u001b[0m\u001b[1m]\u001b[0m.              \n",
      "\u001b[34mINFO    \u001b[0m Solving problem BirthDeathProblem\u001b[1m[\u001b[0m\u001b[33mstage\u001b[0m=\u001b[32m'solved'\u001b[0m, \u001b[33mshape\u001b[0m=\u001b[1m(\u001b[0m\u001b[1;36m9811\u001b[0m, \u001b[1;36m7107\u001b[0m\u001b[1m)\u001b[0m\u001b[1m]\u001b[0m.              \n",
      "\u001b[34mINFO    \u001b[0m Solving problem BirthDeathProblem\u001b[1m[\u001b[0m\u001b[33mstage\u001b[0m=\u001b[32m'solved'\u001b[0m, \u001b[33mshape\u001b[0m=\u001b[1m(\u001b[0m\u001b[1;36m9811\u001b[0m, \u001b[1;36m7107\u001b[0m\u001b[1m)\u001b[0m\u001b[1m]\u001b[0m.              \n",
      "\u001b[34mINFO    \u001b[0m Solving problem BirthDeathProblem\u001b[1m[\u001b[0m\u001b[33mstage\u001b[0m=\u001b[32m'solved'\u001b[0m, \u001b[33mshape\u001b[0m=\u001b[1m(\u001b[0m\u001b[1;36m9811\u001b[0m, \u001b[1;36m7107\u001b[0m\u001b[1m)\u001b[0m\u001b[1m]\u001b[0m.              \n",
      "\u001b[34mINFO    \u001b[0m Solving problem BirthDeathProblem\u001b[1m[\u001b[0m\u001b[33mstage\u001b[0m=\u001b[32m'solved'\u001b[0m, \u001b[33mshape\u001b[0m=\u001b[1m(\u001b[0m\u001b[1;36m9811\u001b[0m, \u001b[1;36m7107\u001b[0m\u001b[1m)\u001b[0m\u001b[1m]\u001b[0m.              \n",
      "\u001b[34mINFO    \u001b[0m Solving problem BirthDeathProblem\u001b[1m[\u001b[0m\u001b[33mstage\u001b[0m=\u001b[32m'solved'\u001b[0m, \u001b[33mshape\u001b[0m=\u001b[1m(\u001b[0m\u001b[1;36m9811\u001b[0m, \u001b[1;36m7107\u001b[0m\u001b[1m)\u001b[0m\u001b[1m]\u001b[0m.              \n",
      "\u001b[34mINFO    \u001b[0m Solving problem BirthDeathProblem\u001b[1m[\u001b[0m\u001b[33mstage\u001b[0m=\u001b[32m'solved'\u001b[0m, \u001b[33mshape\u001b[0m=\u001b[1m(\u001b[0m\u001b[1;36m9811\u001b[0m, \u001b[1;36m7107\u001b[0m\u001b[1m)\u001b[0m\u001b[1m]\u001b[0m.              \n",
      "\u001b[34mINFO    \u001b[0m Solving problem BirthDeathProblem\u001b[1m[\u001b[0m\u001b[33mstage\u001b[0m=\u001b[32m'solved'\u001b[0m, \u001b[33mshape\u001b[0m=\u001b[1m(\u001b[0m\u001b[1;36m9811\u001b[0m, \u001b[1;36m7107\u001b[0m\u001b[1m)\u001b[0m\u001b[1m]\u001b[0m.              \n",
      "\u001b[34mINFO    \u001b[0m Solving problem BirthDeathProblem\u001b[1m[\u001b[0m\u001b[33mstage\u001b[0m=\u001b[32m'solved'\u001b[0m, \u001b[33mshape\u001b[0m=\u001b[1m(\u001b[0m\u001b[1;36m9811\u001b[0m, \u001b[1;36m7107\u001b[0m\u001b[1m)\u001b[0m\u001b[1m]\u001b[0m.              \n",
      "\u001b[34mINFO    \u001b[0m Solving problem BirthDeathProblem\u001b[1m[\u001b[0m\u001b[33mstage\u001b[0m=\u001b[32m'solved'\u001b[0m, \u001b[33mshape\u001b[0m=\u001b[1m(\u001b[0m\u001b[1;36m9811\u001b[0m, \u001b[1;36m7107\u001b[0m\u001b[1m)\u001b[0m\u001b[1m]\u001b[0m.              \n",
      "\u001b[34mINFO    \u001b[0m Solving problem BirthDeathProblem\u001b[1m[\u001b[0m\u001b[33mstage\u001b[0m=\u001b[32m'solved'\u001b[0m, \u001b[33mshape\u001b[0m=\u001b[1m(\u001b[0m\u001b[1;36m9811\u001b[0m, \u001b[1;36m7107\u001b[0m\u001b[1m)\u001b[0m\u001b[1m]\u001b[0m.              \n",
      "\u001b[34mINFO    \u001b[0m Solving problem BirthDeathProblem\u001b[1m[\u001b[0m\u001b[33mstage\u001b[0m=\u001b[32m'solved'\u001b[0m, \u001b[33mshape\u001b[0m=\u001b[1m(\u001b[0m\u001b[1;36m9811\u001b[0m, \u001b[1;36m7107\u001b[0m\u001b[1m)\u001b[0m\u001b[1m]\u001b[0m.              \n",
      "\u001b[34mINFO    \u001b[0m Solving problem BirthDeathProblem\u001b[1m[\u001b[0m\u001b[33mstage\u001b[0m=\u001b[32m'solved'\u001b[0m, \u001b[33mshape\u001b[0m=\u001b[1m(\u001b[0m\u001b[1;36m9811\u001b[0m, \u001b[1;36m7107\u001b[0m\u001b[1m)\u001b[0m\u001b[1m]\u001b[0m.              \n",
      "\u001b[34mINFO    \u001b[0m Solving problem BirthDeathProblem\u001b[1m[\u001b[0m\u001b[33mstage\u001b[0m=\u001b[32m'solved'\u001b[0m, \u001b[33mshape\u001b[0m=\u001b[1m(\u001b[0m\u001b[1;36m9811\u001b[0m, \u001b[1;36m7107\u001b[0m\u001b[1m)\u001b[0m\u001b[1m]\u001b[0m.              \n",
      "\u001b[34mINFO    \u001b[0m Solving problem BirthDeathProblem\u001b[1m[\u001b[0m\u001b[33mstage\u001b[0m=\u001b[32m'solved'\u001b[0m, \u001b[33mshape\u001b[0m=\u001b[1m(\u001b[0m\u001b[1;36m9811\u001b[0m, \u001b[1;36m7107\u001b[0m\u001b[1m)\u001b[0m\u001b[1m]\u001b[0m.              \n",
      "\u001b[34mINFO    \u001b[0m Solving problem BirthDeathProblem\u001b[1m[\u001b[0m\u001b[33mstage\u001b[0m=\u001b[32m'solved'\u001b[0m, \u001b[33mshape\u001b[0m=\u001b[1m(\u001b[0m\u001b[1;36m9811\u001b[0m, \u001b[1;36m7107\u001b[0m\u001b[1m)\u001b[0m\u001b[1m]\u001b[0m.              \n",
      "\u001b[34mINFO    \u001b[0m Solving problem BirthDeathProblem\u001b[1m[\u001b[0m\u001b[33mstage\u001b[0m=\u001b[32m'solved'\u001b[0m, \u001b[33mshape\u001b[0m=\u001b[1m(\u001b[0m\u001b[1;36m9811\u001b[0m, \u001b[1;36m7107\u001b[0m\u001b[1m)\u001b[0m\u001b[1m]\u001b[0m.              \n",
      "\u001b[34mINFO    \u001b[0m Solving problem BirthDeathProblem\u001b[1m[\u001b[0m\u001b[33mstage\u001b[0m=\u001b[32m'solved'\u001b[0m, \u001b[33mshape\u001b[0m=\u001b[1m(\u001b[0m\u001b[1;36m9811\u001b[0m, \u001b[1;36m7107\u001b[0m\u001b[1m)\u001b[0m\u001b[1m]\u001b[0m.              \n",
      "\u001b[34mINFO    \u001b[0m Solving problem BirthDeathProblem\u001b[1m[\u001b[0m\u001b[33mstage\u001b[0m=\u001b[32m'solved'\u001b[0m, \u001b[33mshape\u001b[0m=\u001b[1m(\u001b[0m\u001b[1;36m9811\u001b[0m, \u001b[1;36m7107\u001b[0m\u001b[1m)\u001b[0m\u001b[1m]\u001b[0m.              \n",
      "\u001b[34mINFO    \u001b[0m Solving problem BirthDeathProblem\u001b[1m[\u001b[0m\u001b[33mstage\u001b[0m=\u001b[32m'solved'\u001b[0m, \u001b[33mshape\u001b[0m=\u001b[1m(\u001b[0m\u001b[1;36m9811\u001b[0m, \u001b[1;36m7107\u001b[0m\u001b[1m)\u001b[0m\u001b[1m]\u001b[0m.              \n",
      "\u001b[34mINFO    \u001b[0m Solving problem BirthDeathProblem\u001b[1m[\u001b[0m\u001b[33mstage\u001b[0m=\u001b[32m'solved'\u001b[0m, \u001b[33mshape\u001b[0m=\u001b[1m(\u001b[0m\u001b[1;36m9811\u001b[0m, \u001b[1;36m7107\u001b[0m\u001b[1m)\u001b[0m\u001b[1m]\u001b[0m.              \n",
      "\u001b[34mINFO    \u001b[0m Solving problem BirthDeathProblem\u001b[1m[\u001b[0m\u001b[33mstage\u001b[0m=\u001b[32m'solved'\u001b[0m, \u001b[33mshape\u001b[0m=\u001b[1m(\u001b[0m\u001b[1;36m9811\u001b[0m, \u001b[1;36m7107\u001b[0m\u001b[1m)\u001b[0m\u001b[1m]\u001b[0m.              \n",
      "\u001b[34mINFO    \u001b[0m Solving problem BirthDeathProblem\u001b[1m[\u001b[0m\u001b[33mstage\u001b[0m=\u001b[32m'solved'\u001b[0m, \u001b[33mshape\u001b[0m=\u001b[1m(\u001b[0m\u001b[1;36m9811\u001b[0m, \u001b[1;36m7107\u001b[0m\u001b[1m)\u001b[0m\u001b[1m]\u001b[0m.              \n",
      "\u001b[34mINFO    \u001b[0m Solving problem BirthDeathProblem\u001b[1m[\u001b[0m\u001b[33mstage\u001b[0m=\u001b[32m'solved'\u001b[0m, \u001b[33mshape\u001b[0m=\u001b[1m(\u001b[0m\u001b[1;36m9811\u001b[0m, \u001b[1;36m7107\u001b[0m\u001b[1m)\u001b[0m\u001b[1m]\u001b[0m.              \n",
      "\u001b[34mINFO    \u001b[0m Solving problem BirthDeathProblem\u001b[1m[\u001b[0m\u001b[33mstage\u001b[0m=\u001b[32m'solved'\u001b[0m, \u001b[33mshape\u001b[0m=\u001b[1m(\u001b[0m\u001b[1;36m9811\u001b[0m, \u001b[1;36m7107\u001b[0m\u001b[1m)\u001b[0m\u001b[1m]\u001b[0m.              \n",
      "\u001b[34mINFO    \u001b[0m Solving problem BirthDeathProblem\u001b[1m[\u001b[0m\u001b[33mstage\u001b[0m=\u001b[32m'solved'\u001b[0m, \u001b[33mshape\u001b[0m=\u001b[1m(\u001b[0m\u001b[1;36m9811\u001b[0m, \u001b[1;36m7107\u001b[0m\u001b[1m)\u001b[0m\u001b[1m]\u001b[0m.              \n",
      "\u001b[34mINFO    \u001b[0m Solving problem BirthDeathProblem\u001b[1m[\u001b[0m\u001b[33mstage\u001b[0m=\u001b[32m'solved'\u001b[0m, \u001b[33mshape\u001b[0m=\u001b[1m(\u001b[0m\u001b[1;36m9811\u001b[0m, \u001b[1;36m7107\u001b[0m\u001b[1m)\u001b[0m\u001b[1m]\u001b[0m.              \n",
      "\u001b[34mINFO    \u001b[0m Solving problem BirthDeathProblem\u001b[1m[\u001b[0m\u001b[33mstage\u001b[0m=\u001b[32m'solved'\u001b[0m, \u001b[33mshape\u001b[0m=\u001b[1m(\u001b[0m\u001b[1;36m9811\u001b[0m, \u001b[1;36m7107\u001b[0m\u001b[1m)\u001b[0m\u001b[1m]\u001b[0m.              \n"
     ]
    },
    {
     "name": "stdout",
     "output_type": "stream",
     "text": [
      "\u001b[34mINFO    \u001b[0m Solving problem BirthDeathProblem\u001b[1m[\u001b[0m\u001b[33mstage\u001b[0m=\u001b[32m'solved'\u001b[0m, \u001b[33mshape\u001b[0m=\u001b[1m(\u001b[0m\u001b[1;36m9811\u001b[0m, \u001b[1;36m7107\u001b[0m\u001b[1m)\u001b[0m\u001b[1m]\u001b[0m.              \n",
      "\u001b[34mINFO    \u001b[0m Solving problem BirthDeathProblem\u001b[1m[\u001b[0m\u001b[33mstage\u001b[0m=\u001b[32m'solved'\u001b[0m, \u001b[33mshape\u001b[0m=\u001b[1m(\u001b[0m\u001b[1;36m9811\u001b[0m, \u001b[1;36m7107\u001b[0m\u001b[1m)\u001b[0m\u001b[1m]\u001b[0m.              \n",
      "\u001b[34mINFO    \u001b[0m Solving problem BirthDeathProblem\u001b[1m[\u001b[0m\u001b[33mstage\u001b[0m=\u001b[32m'solved'\u001b[0m, \u001b[33mshape\u001b[0m=\u001b[1m(\u001b[0m\u001b[1;36m9811\u001b[0m, \u001b[1;36m7107\u001b[0m\u001b[1m)\u001b[0m\u001b[1m]\u001b[0m.              \n"
     ]
    }
   ],
   "source": [
    "scores = {}\n",
    "for config in list(configs):\n",
    "    tp0 = tp0.solve(epsilon=config[0], tau_a=config[1], tau_b=config[2], max_iterations=1e8)\n",
    "    ct_desc = tp0.cell_transition(source=14.5, target=15.5, source_groups=\"celltype\", target_groups=\"celltype\", forward=True)\n",
    "    scores[str(config)] = compute_score(ct_desc)"
   ]
  },
  {
   "cell_type": "code",
   "execution_count": 18,
   "id": "a9eb8db2",
   "metadata": {},
   "outputs": [],
   "source": [
    "df_lsi = pd.DataFrame.from_dict([scores]).transpose()"
   ]
  },
  {
   "cell_type": "code",
   "execution_count": 19,
   "id": "c6193330",
   "metadata": {},
   "outputs": [],
   "source": [
    "df_lsi.to_csv(\"lsi_scores_forward.csv\")"
   ]
  },
  {
   "cell_type": "markdown",
   "id": "89fc3adc",
   "metadata": {},
   "source": [
    "# poissVI on ATAC space"
   ]
  },
  {
   "cell_type": "code",
   "execution_count": 20,
   "id": "d5599885",
   "metadata": {},
   "outputs": [],
   "source": [
    "adata = sc.read_h5ad(\"/lustre/groups/ml01/workspace/moscot_paper/pancreas/embeddings/pancreas_ATAC_embeddings.h5ad\")"
   ]
  },
  {
   "cell_type": "code",
   "execution_count": 21,
   "id": "adc005dc",
   "metadata": {},
   "outputs": [],
   "source": [
    "adata.obs['time'] = adata.obs.apply(lambda x: 14.5 if x[\"sample\"]==\"E14.5\" else 15.5, axis=1)"
   ]
  },
  {
   "cell_type": "code",
   "execution_count": 22,
   "id": "28623cf6",
   "metadata": {},
   "outputs": [],
   "source": [
    "marginals = pd.read_csv(\"marginals.csv\", index_col=\"Unnamed: 0\")\n",
    "adata.obs[\"a\"] = marginals"
   ]
  },
  {
   "cell_type": "code",
   "execution_count": 23,
   "id": "3f1fc600",
   "metadata": {},
   "outputs": [],
   "source": [
    "configs = itertools.product(epsilon, tau_a, tau_b)"
   ]
  },
  {
   "cell_type": "code",
   "execution_count": 24,
   "id": "b4a454c8",
   "metadata": {},
   "outputs": [],
   "source": [
    "tp1 = TemporalProblem(adata)\n",
    "tp1 = tp1.prepare(\"time\", joint_attr=\"X_patac\", a=\"a\")"
   ]
  },
  {
   "cell_type": "code",
   "execution_count": 25,
   "id": "5c6c8b1b",
   "metadata": {},
   "outputs": [
    {
     "name": "stdout",
     "output_type": "stream",
     "text": [
      "\u001b[34mINFO    \u001b[0m Solving problem BirthDeathProblem\u001b[1m[\u001b[0m\u001b[33mstage\u001b[0m=\u001b[32m'prepared'\u001b[0m, \u001b[33mshape\u001b[0m=\u001b[1m(\u001b[0m\u001b[1;36m9811\u001b[0m, \u001b[1;36m7107\u001b[0m\u001b[1m)\u001b[0m\u001b[1m]\u001b[0m.            \n",
      "\u001b[34mINFO    \u001b[0m Solving problem BirthDeathProblem\u001b[1m[\u001b[0m\u001b[33mstage\u001b[0m=\u001b[32m'solved'\u001b[0m, \u001b[33mshape\u001b[0m=\u001b[1m(\u001b[0m\u001b[1;36m9811\u001b[0m, \u001b[1;36m7107\u001b[0m\u001b[1m)\u001b[0m\u001b[1m]\u001b[0m.              \n",
      "\u001b[34mINFO    \u001b[0m Solving problem BirthDeathProblem\u001b[1m[\u001b[0m\u001b[33mstage\u001b[0m=\u001b[32m'solved'\u001b[0m, \u001b[33mshape\u001b[0m=\u001b[1m(\u001b[0m\u001b[1;36m9811\u001b[0m, \u001b[1;36m7107\u001b[0m\u001b[1m)\u001b[0m\u001b[1m]\u001b[0m.              \n",
      "\u001b[34mINFO    \u001b[0m Solving problem BirthDeathProblem\u001b[1m[\u001b[0m\u001b[33mstage\u001b[0m=\u001b[32m'solved'\u001b[0m, \u001b[33mshape\u001b[0m=\u001b[1m(\u001b[0m\u001b[1;36m9811\u001b[0m, \u001b[1;36m7107\u001b[0m\u001b[1m)\u001b[0m\u001b[1m]\u001b[0m.              \n",
      "\u001b[34mINFO    \u001b[0m Solving problem BirthDeathProblem\u001b[1m[\u001b[0m\u001b[33mstage\u001b[0m=\u001b[32m'solved'\u001b[0m, \u001b[33mshape\u001b[0m=\u001b[1m(\u001b[0m\u001b[1;36m9811\u001b[0m, \u001b[1;36m7107\u001b[0m\u001b[1m)\u001b[0m\u001b[1m]\u001b[0m.              \n",
      "\u001b[34mINFO    \u001b[0m Solving problem BirthDeathProblem\u001b[1m[\u001b[0m\u001b[33mstage\u001b[0m=\u001b[32m'solved'\u001b[0m, \u001b[33mshape\u001b[0m=\u001b[1m(\u001b[0m\u001b[1;36m9811\u001b[0m, \u001b[1;36m7107\u001b[0m\u001b[1m)\u001b[0m\u001b[1m]\u001b[0m.              \n",
      "\u001b[34mINFO    \u001b[0m Solving problem BirthDeathProblem\u001b[1m[\u001b[0m\u001b[33mstage\u001b[0m=\u001b[32m'solved'\u001b[0m, \u001b[33mshape\u001b[0m=\u001b[1m(\u001b[0m\u001b[1;36m9811\u001b[0m, \u001b[1;36m7107\u001b[0m\u001b[1m)\u001b[0m\u001b[1m]\u001b[0m.              \n",
      "\u001b[34mINFO    \u001b[0m Solving problem BirthDeathProblem\u001b[1m[\u001b[0m\u001b[33mstage\u001b[0m=\u001b[32m'solved'\u001b[0m, \u001b[33mshape\u001b[0m=\u001b[1m(\u001b[0m\u001b[1;36m9811\u001b[0m, \u001b[1;36m7107\u001b[0m\u001b[1m)\u001b[0m\u001b[1m]\u001b[0m.              \n",
      "\u001b[34mINFO    \u001b[0m Solving problem BirthDeathProblem\u001b[1m[\u001b[0m\u001b[33mstage\u001b[0m=\u001b[32m'solved'\u001b[0m, \u001b[33mshape\u001b[0m=\u001b[1m(\u001b[0m\u001b[1;36m9811\u001b[0m, \u001b[1;36m7107\u001b[0m\u001b[1m)\u001b[0m\u001b[1m]\u001b[0m.              \n",
      "\u001b[34mINFO    \u001b[0m Solving problem BirthDeathProblem\u001b[1m[\u001b[0m\u001b[33mstage\u001b[0m=\u001b[32m'solved'\u001b[0m, \u001b[33mshape\u001b[0m=\u001b[1m(\u001b[0m\u001b[1;36m9811\u001b[0m, \u001b[1;36m7107\u001b[0m\u001b[1m)\u001b[0m\u001b[1m]\u001b[0m.              \n",
      "\u001b[34mINFO    \u001b[0m Solving problem BirthDeathProblem\u001b[1m[\u001b[0m\u001b[33mstage\u001b[0m=\u001b[32m'solved'\u001b[0m, \u001b[33mshape\u001b[0m=\u001b[1m(\u001b[0m\u001b[1;36m9811\u001b[0m, \u001b[1;36m7107\u001b[0m\u001b[1m)\u001b[0m\u001b[1m]\u001b[0m.              \n",
      "\u001b[34mINFO    \u001b[0m Solving problem BirthDeathProblem\u001b[1m[\u001b[0m\u001b[33mstage\u001b[0m=\u001b[32m'solved'\u001b[0m, \u001b[33mshape\u001b[0m=\u001b[1m(\u001b[0m\u001b[1;36m9811\u001b[0m, \u001b[1;36m7107\u001b[0m\u001b[1m)\u001b[0m\u001b[1m]\u001b[0m.              \n",
      "\u001b[34mINFO    \u001b[0m Solving problem BirthDeathProblem\u001b[1m[\u001b[0m\u001b[33mstage\u001b[0m=\u001b[32m'solved'\u001b[0m, \u001b[33mshape\u001b[0m=\u001b[1m(\u001b[0m\u001b[1;36m9811\u001b[0m, \u001b[1;36m7107\u001b[0m\u001b[1m)\u001b[0m\u001b[1m]\u001b[0m.              \n",
      "\u001b[34mINFO    \u001b[0m Solving problem BirthDeathProblem\u001b[1m[\u001b[0m\u001b[33mstage\u001b[0m=\u001b[32m'solved'\u001b[0m, \u001b[33mshape\u001b[0m=\u001b[1m(\u001b[0m\u001b[1;36m9811\u001b[0m, \u001b[1;36m7107\u001b[0m\u001b[1m)\u001b[0m\u001b[1m]\u001b[0m.              \n",
      "\u001b[34mINFO    \u001b[0m Solving problem BirthDeathProblem\u001b[1m[\u001b[0m\u001b[33mstage\u001b[0m=\u001b[32m'solved'\u001b[0m, \u001b[33mshape\u001b[0m=\u001b[1m(\u001b[0m\u001b[1;36m9811\u001b[0m, \u001b[1;36m7107\u001b[0m\u001b[1m)\u001b[0m\u001b[1m]\u001b[0m.              \n",
      "\u001b[34mINFO    \u001b[0m Solving problem BirthDeathProblem\u001b[1m[\u001b[0m\u001b[33mstage\u001b[0m=\u001b[32m'solved'\u001b[0m, \u001b[33mshape\u001b[0m=\u001b[1m(\u001b[0m\u001b[1;36m9811\u001b[0m, \u001b[1;36m7107\u001b[0m\u001b[1m)\u001b[0m\u001b[1m]\u001b[0m.              \n",
      "\u001b[34mINFO    \u001b[0m Solving problem BirthDeathProblem\u001b[1m[\u001b[0m\u001b[33mstage\u001b[0m=\u001b[32m'solved'\u001b[0m, \u001b[33mshape\u001b[0m=\u001b[1m(\u001b[0m\u001b[1;36m9811\u001b[0m, \u001b[1;36m7107\u001b[0m\u001b[1m)\u001b[0m\u001b[1m]\u001b[0m.              \n",
      "\u001b[34mINFO    \u001b[0m Solving problem BirthDeathProblem\u001b[1m[\u001b[0m\u001b[33mstage\u001b[0m=\u001b[32m'solved'\u001b[0m, \u001b[33mshape\u001b[0m=\u001b[1m(\u001b[0m\u001b[1;36m9811\u001b[0m, \u001b[1;36m7107\u001b[0m\u001b[1m)\u001b[0m\u001b[1m]\u001b[0m.              \n",
      "\u001b[34mINFO    \u001b[0m Solving problem BirthDeathProblem\u001b[1m[\u001b[0m\u001b[33mstage\u001b[0m=\u001b[32m'solved'\u001b[0m, \u001b[33mshape\u001b[0m=\u001b[1m(\u001b[0m\u001b[1;36m9811\u001b[0m, \u001b[1;36m7107\u001b[0m\u001b[1m)\u001b[0m\u001b[1m]\u001b[0m.              \n",
      "\u001b[34mINFO    \u001b[0m Solving problem BirthDeathProblem\u001b[1m[\u001b[0m\u001b[33mstage\u001b[0m=\u001b[32m'solved'\u001b[0m, \u001b[33mshape\u001b[0m=\u001b[1m(\u001b[0m\u001b[1;36m9811\u001b[0m, \u001b[1;36m7107\u001b[0m\u001b[1m)\u001b[0m\u001b[1m]\u001b[0m.              \n",
      "\u001b[34mINFO    \u001b[0m Solving problem BirthDeathProblem\u001b[1m[\u001b[0m\u001b[33mstage\u001b[0m=\u001b[32m'solved'\u001b[0m, \u001b[33mshape\u001b[0m=\u001b[1m(\u001b[0m\u001b[1;36m9811\u001b[0m, \u001b[1;36m7107\u001b[0m\u001b[1m)\u001b[0m\u001b[1m]\u001b[0m.              \n",
      "\u001b[34mINFO    \u001b[0m Solving problem BirthDeathProblem\u001b[1m[\u001b[0m\u001b[33mstage\u001b[0m=\u001b[32m'solved'\u001b[0m, \u001b[33mshape\u001b[0m=\u001b[1m(\u001b[0m\u001b[1;36m9811\u001b[0m, \u001b[1;36m7107\u001b[0m\u001b[1m)\u001b[0m\u001b[1m]\u001b[0m.              \n",
      "\u001b[34mINFO    \u001b[0m Solving problem BirthDeathProblem\u001b[1m[\u001b[0m\u001b[33mstage\u001b[0m=\u001b[32m'solved'\u001b[0m, \u001b[33mshape\u001b[0m=\u001b[1m(\u001b[0m\u001b[1;36m9811\u001b[0m, \u001b[1;36m7107\u001b[0m\u001b[1m)\u001b[0m\u001b[1m]\u001b[0m.              \n",
      "\u001b[34mINFO    \u001b[0m Solving problem BirthDeathProblem\u001b[1m[\u001b[0m\u001b[33mstage\u001b[0m=\u001b[32m'solved'\u001b[0m, \u001b[33mshape\u001b[0m=\u001b[1m(\u001b[0m\u001b[1;36m9811\u001b[0m, \u001b[1;36m7107\u001b[0m\u001b[1m)\u001b[0m\u001b[1m]\u001b[0m.              \n",
      "\u001b[34mINFO    \u001b[0m Solving problem BirthDeathProblem\u001b[1m[\u001b[0m\u001b[33mstage\u001b[0m=\u001b[32m'solved'\u001b[0m, \u001b[33mshape\u001b[0m=\u001b[1m(\u001b[0m\u001b[1;36m9811\u001b[0m, \u001b[1;36m7107\u001b[0m\u001b[1m)\u001b[0m\u001b[1m]\u001b[0m.              \n",
      "\u001b[34mINFO    \u001b[0m Solving problem BirthDeathProblem\u001b[1m[\u001b[0m\u001b[33mstage\u001b[0m=\u001b[32m'solved'\u001b[0m, \u001b[33mshape\u001b[0m=\u001b[1m(\u001b[0m\u001b[1;36m9811\u001b[0m, \u001b[1;36m7107\u001b[0m\u001b[1m)\u001b[0m\u001b[1m]\u001b[0m.              \n",
      "\u001b[34mINFO    \u001b[0m Solving problem BirthDeathProblem\u001b[1m[\u001b[0m\u001b[33mstage\u001b[0m=\u001b[32m'solved'\u001b[0m, \u001b[33mshape\u001b[0m=\u001b[1m(\u001b[0m\u001b[1;36m9811\u001b[0m, \u001b[1;36m7107\u001b[0m\u001b[1m)\u001b[0m\u001b[1m]\u001b[0m.              \n",
      "\u001b[34mINFO    \u001b[0m Solving problem BirthDeathProblem\u001b[1m[\u001b[0m\u001b[33mstage\u001b[0m=\u001b[32m'solved'\u001b[0m, \u001b[33mshape\u001b[0m=\u001b[1m(\u001b[0m\u001b[1;36m9811\u001b[0m, \u001b[1;36m7107\u001b[0m\u001b[1m)\u001b[0m\u001b[1m]\u001b[0m.              \n",
      "\u001b[34mINFO    \u001b[0m Solving problem BirthDeathProblem\u001b[1m[\u001b[0m\u001b[33mstage\u001b[0m=\u001b[32m'solved'\u001b[0m, \u001b[33mshape\u001b[0m=\u001b[1m(\u001b[0m\u001b[1;36m9811\u001b[0m, \u001b[1;36m7107\u001b[0m\u001b[1m)\u001b[0m\u001b[1m]\u001b[0m.              \n",
      "\u001b[34mINFO    \u001b[0m Solving problem BirthDeathProblem\u001b[1m[\u001b[0m\u001b[33mstage\u001b[0m=\u001b[32m'solved'\u001b[0m, \u001b[33mshape\u001b[0m=\u001b[1m(\u001b[0m\u001b[1;36m9811\u001b[0m, \u001b[1;36m7107\u001b[0m\u001b[1m)\u001b[0m\u001b[1m]\u001b[0m.              \n",
      "\u001b[34mINFO    \u001b[0m Solving problem BirthDeathProblem\u001b[1m[\u001b[0m\u001b[33mstage\u001b[0m=\u001b[32m'solved'\u001b[0m, \u001b[33mshape\u001b[0m=\u001b[1m(\u001b[0m\u001b[1;36m9811\u001b[0m, \u001b[1;36m7107\u001b[0m\u001b[1m)\u001b[0m\u001b[1m]\u001b[0m.              \n",
      "\u001b[34mINFO    \u001b[0m Solving problem BirthDeathProblem\u001b[1m[\u001b[0m\u001b[33mstage\u001b[0m=\u001b[32m'solved'\u001b[0m, \u001b[33mshape\u001b[0m=\u001b[1m(\u001b[0m\u001b[1;36m9811\u001b[0m, \u001b[1;36m7107\u001b[0m\u001b[1m)\u001b[0m\u001b[1m]\u001b[0m.              \n",
      "\u001b[34mINFO    \u001b[0m Solving problem BirthDeathProblem\u001b[1m[\u001b[0m\u001b[33mstage\u001b[0m=\u001b[32m'solved'\u001b[0m, \u001b[33mshape\u001b[0m=\u001b[1m(\u001b[0m\u001b[1;36m9811\u001b[0m, \u001b[1;36m7107\u001b[0m\u001b[1m)\u001b[0m\u001b[1m]\u001b[0m.              \n",
      "\u001b[34mINFO    \u001b[0m Solving problem BirthDeathProblem\u001b[1m[\u001b[0m\u001b[33mstage\u001b[0m=\u001b[32m'solved'\u001b[0m, \u001b[33mshape\u001b[0m=\u001b[1m(\u001b[0m\u001b[1;36m9811\u001b[0m, \u001b[1;36m7107\u001b[0m\u001b[1m)\u001b[0m\u001b[1m]\u001b[0m.              \n",
      "\u001b[34mINFO    \u001b[0m Solving problem BirthDeathProblem\u001b[1m[\u001b[0m\u001b[33mstage\u001b[0m=\u001b[32m'solved'\u001b[0m, \u001b[33mshape\u001b[0m=\u001b[1m(\u001b[0m\u001b[1;36m9811\u001b[0m, \u001b[1;36m7107\u001b[0m\u001b[1m)\u001b[0m\u001b[1m]\u001b[0m.              \n",
      "\u001b[34mINFO    \u001b[0m Solving problem BirthDeathProblem\u001b[1m[\u001b[0m\u001b[33mstage\u001b[0m=\u001b[32m'solved'\u001b[0m, \u001b[33mshape\u001b[0m=\u001b[1m(\u001b[0m\u001b[1;36m9811\u001b[0m, \u001b[1;36m7107\u001b[0m\u001b[1m)\u001b[0m\u001b[1m]\u001b[0m.              \n",
      "\u001b[34mINFO    \u001b[0m Solving problem BirthDeathProblem\u001b[1m[\u001b[0m\u001b[33mstage\u001b[0m=\u001b[32m'solved'\u001b[0m, \u001b[33mshape\u001b[0m=\u001b[1m(\u001b[0m\u001b[1;36m9811\u001b[0m, \u001b[1;36m7107\u001b[0m\u001b[1m)\u001b[0m\u001b[1m]\u001b[0m.              \n",
      "\u001b[34mINFO    \u001b[0m Solving problem BirthDeathProblem\u001b[1m[\u001b[0m\u001b[33mstage\u001b[0m=\u001b[32m'solved'\u001b[0m, \u001b[33mshape\u001b[0m=\u001b[1m(\u001b[0m\u001b[1;36m9811\u001b[0m, \u001b[1;36m7107\u001b[0m\u001b[1m)\u001b[0m\u001b[1m]\u001b[0m.              \n",
      "\u001b[34mINFO    \u001b[0m Solving problem BirthDeathProblem\u001b[1m[\u001b[0m\u001b[33mstage\u001b[0m=\u001b[32m'solved'\u001b[0m, \u001b[33mshape\u001b[0m=\u001b[1m(\u001b[0m\u001b[1;36m9811\u001b[0m, \u001b[1;36m7107\u001b[0m\u001b[1m)\u001b[0m\u001b[1m]\u001b[0m.              \n",
      "\u001b[34mINFO    \u001b[0m Solving problem BirthDeathProblem\u001b[1m[\u001b[0m\u001b[33mstage\u001b[0m=\u001b[32m'solved'\u001b[0m, \u001b[33mshape\u001b[0m=\u001b[1m(\u001b[0m\u001b[1;36m9811\u001b[0m, \u001b[1;36m7107\u001b[0m\u001b[1m)\u001b[0m\u001b[1m]\u001b[0m.              \n",
      "\u001b[34mINFO    \u001b[0m Solving problem BirthDeathProblem\u001b[1m[\u001b[0m\u001b[33mstage\u001b[0m=\u001b[32m'solved'\u001b[0m, \u001b[33mshape\u001b[0m=\u001b[1m(\u001b[0m\u001b[1;36m9811\u001b[0m, \u001b[1;36m7107\u001b[0m\u001b[1m)\u001b[0m\u001b[1m]\u001b[0m.              \n",
      "\u001b[34mINFO    \u001b[0m Solving problem BirthDeathProblem\u001b[1m[\u001b[0m\u001b[33mstage\u001b[0m=\u001b[32m'solved'\u001b[0m, \u001b[33mshape\u001b[0m=\u001b[1m(\u001b[0m\u001b[1;36m9811\u001b[0m, \u001b[1;36m7107\u001b[0m\u001b[1m)\u001b[0m\u001b[1m]\u001b[0m.              \n",
      "\u001b[34mINFO    \u001b[0m Solving problem BirthDeathProblem\u001b[1m[\u001b[0m\u001b[33mstage\u001b[0m=\u001b[32m'solved'\u001b[0m, \u001b[33mshape\u001b[0m=\u001b[1m(\u001b[0m\u001b[1;36m9811\u001b[0m, \u001b[1;36m7107\u001b[0m\u001b[1m)\u001b[0m\u001b[1m]\u001b[0m.              \n",
      "\u001b[34mINFO    \u001b[0m Solving problem BirthDeathProblem\u001b[1m[\u001b[0m\u001b[33mstage\u001b[0m=\u001b[32m'solved'\u001b[0m, \u001b[33mshape\u001b[0m=\u001b[1m(\u001b[0m\u001b[1;36m9811\u001b[0m, \u001b[1;36m7107\u001b[0m\u001b[1m)\u001b[0m\u001b[1m]\u001b[0m.              \n",
      "\u001b[34mINFO    \u001b[0m Solving problem BirthDeathProblem\u001b[1m[\u001b[0m\u001b[33mstage\u001b[0m=\u001b[32m'solved'\u001b[0m, \u001b[33mshape\u001b[0m=\u001b[1m(\u001b[0m\u001b[1;36m9811\u001b[0m, \u001b[1;36m7107\u001b[0m\u001b[1m)\u001b[0m\u001b[1m]\u001b[0m.              \n"
     ]
    },
    {
     "name": "stdout",
     "output_type": "stream",
     "text": [
      "\u001b[34mINFO    \u001b[0m Solving problem BirthDeathProblem\u001b[1m[\u001b[0m\u001b[33mstage\u001b[0m=\u001b[32m'solved'\u001b[0m, \u001b[33mshape\u001b[0m=\u001b[1m(\u001b[0m\u001b[1;36m9811\u001b[0m, \u001b[1;36m7107\u001b[0m\u001b[1m)\u001b[0m\u001b[1m]\u001b[0m.              \n",
      "\u001b[34mINFO    \u001b[0m Solving problem BirthDeathProblem\u001b[1m[\u001b[0m\u001b[33mstage\u001b[0m=\u001b[32m'solved'\u001b[0m, \u001b[33mshape\u001b[0m=\u001b[1m(\u001b[0m\u001b[1;36m9811\u001b[0m, \u001b[1;36m7107\u001b[0m\u001b[1m)\u001b[0m\u001b[1m]\u001b[0m.              \n",
      "\u001b[34mINFO    \u001b[0m Solving problem BirthDeathProblem\u001b[1m[\u001b[0m\u001b[33mstage\u001b[0m=\u001b[32m'solved'\u001b[0m, \u001b[33mshape\u001b[0m=\u001b[1m(\u001b[0m\u001b[1;36m9811\u001b[0m, \u001b[1;36m7107\u001b[0m\u001b[1m)\u001b[0m\u001b[1m]\u001b[0m.              \n"
     ]
    }
   ],
   "source": [
    "scores_patac = {}\n",
    "for config in list(configs):\n",
    "    tp1 = tp1.solve(epsilon=config[0], tau_a=config[1], tau_b=config[2], max_iterations=1e8)\n",
    "    ct_desc = tp1.cell_transition(source=14.5, target=15.5, source_groups=\"celltype\", target_groups=\"celltype\", forward=True)\n",
    "    scores_patac[str(config)] = compute_score(ct_desc)"
   ]
  },
  {
   "cell_type": "code",
   "execution_count": 26,
   "id": "b56972cf",
   "metadata": {},
   "outputs": [],
   "source": [
    "df_patac = pd.DataFrame.from_dict([scores_patac]).transpose()"
   ]
  },
  {
   "cell_type": "code",
   "execution_count": 27,
   "id": "3aa23b85",
   "metadata": {},
   "outputs": [],
   "source": [
    "df_patac.to_csv(\"patac_scores_forward.csv\")"
   ]
  },
  {
   "cell_type": "code",
   "execution_count": 28,
   "id": "63348507",
   "metadata": {},
   "outputs": [],
   "source": [
    "configs = itertools.product(epsilon, tau_a, tau_b)"
   ]
  },
  {
   "cell_type": "code",
   "execution_count": 29,
   "id": "fad3cea5",
   "metadata": {},
   "outputs": [],
   "source": [
    "tp2 = TemporalProblem(adata)\n",
    "tp2 = tp2.prepare(\"time\", joint_attr=\"X_patac_batch_corrected\", a=\"a\")"
   ]
  },
  {
   "cell_type": "code",
   "execution_count": 30,
   "id": "3f0afa47",
   "metadata": {},
   "outputs": [
    {
     "name": "stdout",
     "output_type": "stream",
     "text": [
      "\u001b[34mINFO    \u001b[0m Solving problem BirthDeathProblem\u001b[1m[\u001b[0m\u001b[33mstage\u001b[0m=\u001b[32m'prepared'\u001b[0m, \u001b[33mshape\u001b[0m=\u001b[1m(\u001b[0m\u001b[1;36m9811\u001b[0m, \u001b[1;36m7107\u001b[0m\u001b[1m)\u001b[0m\u001b[1m]\u001b[0m.            \n",
      "\u001b[34mINFO    \u001b[0m Solving problem BirthDeathProblem\u001b[1m[\u001b[0m\u001b[33mstage\u001b[0m=\u001b[32m'solved'\u001b[0m, \u001b[33mshape\u001b[0m=\u001b[1m(\u001b[0m\u001b[1;36m9811\u001b[0m, \u001b[1;36m7107\u001b[0m\u001b[1m)\u001b[0m\u001b[1m]\u001b[0m.              \n",
      "\u001b[34mINFO    \u001b[0m Solving problem BirthDeathProblem\u001b[1m[\u001b[0m\u001b[33mstage\u001b[0m=\u001b[32m'solved'\u001b[0m, \u001b[33mshape\u001b[0m=\u001b[1m(\u001b[0m\u001b[1;36m9811\u001b[0m, \u001b[1;36m7107\u001b[0m\u001b[1m)\u001b[0m\u001b[1m]\u001b[0m.              \n",
      "\u001b[34mINFO    \u001b[0m Solving problem BirthDeathProblem\u001b[1m[\u001b[0m\u001b[33mstage\u001b[0m=\u001b[32m'solved'\u001b[0m, \u001b[33mshape\u001b[0m=\u001b[1m(\u001b[0m\u001b[1;36m9811\u001b[0m, \u001b[1;36m7107\u001b[0m\u001b[1m)\u001b[0m\u001b[1m]\u001b[0m.              \n",
      "\u001b[34mINFO    \u001b[0m Solving problem BirthDeathProblem\u001b[1m[\u001b[0m\u001b[33mstage\u001b[0m=\u001b[32m'solved'\u001b[0m, \u001b[33mshape\u001b[0m=\u001b[1m(\u001b[0m\u001b[1;36m9811\u001b[0m, \u001b[1;36m7107\u001b[0m\u001b[1m)\u001b[0m\u001b[1m]\u001b[0m.              \n",
      "\u001b[34mINFO    \u001b[0m Solving problem BirthDeathProblem\u001b[1m[\u001b[0m\u001b[33mstage\u001b[0m=\u001b[32m'solved'\u001b[0m, \u001b[33mshape\u001b[0m=\u001b[1m(\u001b[0m\u001b[1;36m9811\u001b[0m, \u001b[1;36m7107\u001b[0m\u001b[1m)\u001b[0m\u001b[1m]\u001b[0m.              \n",
      "\u001b[34mINFO    \u001b[0m Solving problem BirthDeathProblem\u001b[1m[\u001b[0m\u001b[33mstage\u001b[0m=\u001b[32m'solved'\u001b[0m, \u001b[33mshape\u001b[0m=\u001b[1m(\u001b[0m\u001b[1;36m9811\u001b[0m, \u001b[1;36m7107\u001b[0m\u001b[1m)\u001b[0m\u001b[1m]\u001b[0m.              \n",
      "\u001b[34mINFO    \u001b[0m Solving problem BirthDeathProblem\u001b[1m[\u001b[0m\u001b[33mstage\u001b[0m=\u001b[32m'solved'\u001b[0m, \u001b[33mshape\u001b[0m=\u001b[1m(\u001b[0m\u001b[1;36m9811\u001b[0m, \u001b[1;36m7107\u001b[0m\u001b[1m)\u001b[0m\u001b[1m]\u001b[0m.              \n",
      "\u001b[34mINFO    \u001b[0m Solving problem BirthDeathProblem\u001b[1m[\u001b[0m\u001b[33mstage\u001b[0m=\u001b[32m'solved'\u001b[0m, \u001b[33mshape\u001b[0m=\u001b[1m(\u001b[0m\u001b[1;36m9811\u001b[0m, \u001b[1;36m7107\u001b[0m\u001b[1m)\u001b[0m\u001b[1m]\u001b[0m.              \n",
      "\u001b[34mINFO    \u001b[0m Solving problem BirthDeathProblem\u001b[1m[\u001b[0m\u001b[33mstage\u001b[0m=\u001b[32m'solved'\u001b[0m, \u001b[33mshape\u001b[0m=\u001b[1m(\u001b[0m\u001b[1;36m9811\u001b[0m, \u001b[1;36m7107\u001b[0m\u001b[1m)\u001b[0m\u001b[1m]\u001b[0m.              \n",
      "\u001b[34mINFO    \u001b[0m Solving problem BirthDeathProblem\u001b[1m[\u001b[0m\u001b[33mstage\u001b[0m=\u001b[32m'solved'\u001b[0m, \u001b[33mshape\u001b[0m=\u001b[1m(\u001b[0m\u001b[1;36m9811\u001b[0m, \u001b[1;36m7107\u001b[0m\u001b[1m)\u001b[0m\u001b[1m]\u001b[0m.              \n",
      "\u001b[34mINFO    \u001b[0m Solving problem BirthDeathProblem\u001b[1m[\u001b[0m\u001b[33mstage\u001b[0m=\u001b[32m'solved'\u001b[0m, \u001b[33mshape\u001b[0m=\u001b[1m(\u001b[0m\u001b[1;36m9811\u001b[0m, \u001b[1;36m7107\u001b[0m\u001b[1m)\u001b[0m\u001b[1m]\u001b[0m.              \n",
      "\u001b[34mINFO    \u001b[0m Solving problem BirthDeathProblem\u001b[1m[\u001b[0m\u001b[33mstage\u001b[0m=\u001b[32m'solved'\u001b[0m, \u001b[33mshape\u001b[0m=\u001b[1m(\u001b[0m\u001b[1;36m9811\u001b[0m, \u001b[1;36m7107\u001b[0m\u001b[1m)\u001b[0m\u001b[1m]\u001b[0m.              \n",
      "\u001b[34mINFO    \u001b[0m Solving problem BirthDeathProblem\u001b[1m[\u001b[0m\u001b[33mstage\u001b[0m=\u001b[32m'solved'\u001b[0m, \u001b[33mshape\u001b[0m=\u001b[1m(\u001b[0m\u001b[1;36m9811\u001b[0m, \u001b[1;36m7107\u001b[0m\u001b[1m)\u001b[0m\u001b[1m]\u001b[0m.              \n",
      "\u001b[34mINFO    \u001b[0m Solving problem BirthDeathProblem\u001b[1m[\u001b[0m\u001b[33mstage\u001b[0m=\u001b[32m'solved'\u001b[0m, \u001b[33mshape\u001b[0m=\u001b[1m(\u001b[0m\u001b[1;36m9811\u001b[0m, \u001b[1;36m7107\u001b[0m\u001b[1m)\u001b[0m\u001b[1m]\u001b[0m.              \n",
      "\u001b[34mINFO    \u001b[0m Solving problem BirthDeathProblem\u001b[1m[\u001b[0m\u001b[33mstage\u001b[0m=\u001b[32m'solved'\u001b[0m, \u001b[33mshape\u001b[0m=\u001b[1m(\u001b[0m\u001b[1;36m9811\u001b[0m, \u001b[1;36m7107\u001b[0m\u001b[1m)\u001b[0m\u001b[1m]\u001b[0m.              \n",
      "\u001b[34mINFO    \u001b[0m Solving problem BirthDeathProblem\u001b[1m[\u001b[0m\u001b[33mstage\u001b[0m=\u001b[32m'solved'\u001b[0m, \u001b[33mshape\u001b[0m=\u001b[1m(\u001b[0m\u001b[1;36m9811\u001b[0m, \u001b[1;36m7107\u001b[0m\u001b[1m)\u001b[0m\u001b[1m]\u001b[0m.              \n",
      "\u001b[34mINFO    \u001b[0m Solving problem BirthDeathProblem\u001b[1m[\u001b[0m\u001b[33mstage\u001b[0m=\u001b[32m'solved'\u001b[0m, \u001b[33mshape\u001b[0m=\u001b[1m(\u001b[0m\u001b[1;36m9811\u001b[0m, \u001b[1;36m7107\u001b[0m\u001b[1m)\u001b[0m\u001b[1m]\u001b[0m.              \n",
      "\u001b[34mINFO    \u001b[0m Solving problem BirthDeathProblem\u001b[1m[\u001b[0m\u001b[33mstage\u001b[0m=\u001b[32m'solved'\u001b[0m, \u001b[33mshape\u001b[0m=\u001b[1m(\u001b[0m\u001b[1;36m9811\u001b[0m, \u001b[1;36m7107\u001b[0m\u001b[1m)\u001b[0m\u001b[1m]\u001b[0m.              \n",
      "\u001b[34mINFO    \u001b[0m Solving problem BirthDeathProblem\u001b[1m[\u001b[0m\u001b[33mstage\u001b[0m=\u001b[32m'solved'\u001b[0m, \u001b[33mshape\u001b[0m=\u001b[1m(\u001b[0m\u001b[1;36m9811\u001b[0m, \u001b[1;36m7107\u001b[0m\u001b[1m)\u001b[0m\u001b[1m]\u001b[0m.              \n",
      "\u001b[34mINFO    \u001b[0m Solving problem BirthDeathProblem\u001b[1m[\u001b[0m\u001b[33mstage\u001b[0m=\u001b[32m'solved'\u001b[0m, \u001b[33mshape\u001b[0m=\u001b[1m(\u001b[0m\u001b[1;36m9811\u001b[0m, \u001b[1;36m7107\u001b[0m\u001b[1m)\u001b[0m\u001b[1m]\u001b[0m.              \n",
      "\u001b[34mINFO    \u001b[0m Solving problem BirthDeathProblem\u001b[1m[\u001b[0m\u001b[33mstage\u001b[0m=\u001b[32m'solved'\u001b[0m, \u001b[33mshape\u001b[0m=\u001b[1m(\u001b[0m\u001b[1;36m9811\u001b[0m, \u001b[1;36m7107\u001b[0m\u001b[1m)\u001b[0m\u001b[1m]\u001b[0m.              \n",
      "\u001b[34mINFO    \u001b[0m Solving problem BirthDeathProblem\u001b[1m[\u001b[0m\u001b[33mstage\u001b[0m=\u001b[32m'solved'\u001b[0m, \u001b[33mshape\u001b[0m=\u001b[1m(\u001b[0m\u001b[1;36m9811\u001b[0m, \u001b[1;36m7107\u001b[0m\u001b[1m)\u001b[0m\u001b[1m]\u001b[0m.              \n",
      "\u001b[34mINFO    \u001b[0m Solving problem BirthDeathProblem\u001b[1m[\u001b[0m\u001b[33mstage\u001b[0m=\u001b[32m'solved'\u001b[0m, \u001b[33mshape\u001b[0m=\u001b[1m(\u001b[0m\u001b[1;36m9811\u001b[0m, \u001b[1;36m7107\u001b[0m\u001b[1m)\u001b[0m\u001b[1m]\u001b[0m.              \n",
      "\u001b[34mINFO    \u001b[0m Solving problem BirthDeathProblem\u001b[1m[\u001b[0m\u001b[33mstage\u001b[0m=\u001b[32m'solved'\u001b[0m, \u001b[33mshape\u001b[0m=\u001b[1m(\u001b[0m\u001b[1;36m9811\u001b[0m, \u001b[1;36m7107\u001b[0m\u001b[1m)\u001b[0m\u001b[1m]\u001b[0m.              \n",
      "\u001b[34mINFO    \u001b[0m Solving problem BirthDeathProblem\u001b[1m[\u001b[0m\u001b[33mstage\u001b[0m=\u001b[32m'solved'\u001b[0m, \u001b[33mshape\u001b[0m=\u001b[1m(\u001b[0m\u001b[1;36m9811\u001b[0m, \u001b[1;36m7107\u001b[0m\u001b[1m)\u001b[0m\u001b[1m]\u001b[0m.              \n",
      "\u001b[34mINFO    \u001b[0m Solving problem BirthDeathProblem\u001b[1m[\u001b[0m\u001b[33mstage\u001b[0m=\u001b[32m'solved'\u001b[0m, \u001b[33mshape\u001b[0m=\u001b[1m(\u001b[0m\u001b[1;36m9811\u001b[0m, \u001b[1;36m7107\u001b[0m\u001b[1m)\u001b[0m\u001b[1m]\u001b[0m.              \n",
      "\u001b[34mINFO    \u001b[0m Solving problem BirthDeathProblem\u001b[1m[\u001b[0m\u001b[33mstage\u001b[0m=\u001b[32m'solved'\u001b[0m, \u001b[33mshape\u001b[0m=\u001b[1m(\u001b[0m\u001b[1;36m9811\u001b[0m, \u001b[1;36m7107\u001b[0m\u001b[1m)\u001b[0m\u001b[1m]\u001b[0m.              \n",
      "\u001b[34mINFO    \u001b[0m Solving problem BirthDeathProblem\u001b[1m[\u001b[0m\u001b[33mstage\u001b[0m=\u001b[32m'solved'\u001b[0m, \u001b[33mshape\u001b[0m=\u001b[1m(\u001b[0m\u001b[1;36m9811\u001b[0m, \u001b[1;36m7107\u001b[0m\u001b[1m)\u001b[0m\u001b[1m]\u001b[0m.              \n",
      "\u001b[34mINFO    \u001b[0m Solving problem BirthDeathProblem\u001b[1m[\u001b[0m\u001b[33mstage\u001b[0m=\u001b[32m'solved'\u001b[0m, \u001b[33mshape\u001b[0m=\u001b[1m(\u001b[0m\u001b[1;36m9811\u001b[0m, \u001b[1;36m7107\u001b[0m\u001b[1m)\u001b[0m\u001b[1m]\u001b[0m.              \n",
      "\u001b[34mINFO    \u001b[0m Solving problem BirthDeathProblem\u001b[1m[\u001b[0m\u001b[33mstage\u001b[0m=\u001b[32m'solved'\u001b[0m, \u001b[33mshape\u001b[0m=\u001b[1m(\u001b[0m\u001b[1;36m9811\u001b[0m, \u001b[1;36m7107\u001b[0m\u001b[1m)\u001b[0m\u001b[1m]\u001b[0m.              \n",
      "\u001b[34mINFO    \u001b[0m Solving problem BirthDeathProblem\u001b[1m[\u001b[0m\u001b[33mstage\u001b[0m=\u001b[32m'solved'\u001b[0m, \u001b[33mshape\u001b[0m=\u001b[1m(\u001b[0m\u001b[1;36m9811\u001b[0m, \u001b[1;36m7107\u001b[0m\u001b[1m)\u001b[0m\u001b[1m]\u001b[0m.              \n",
      "\u001b[34mINFO    \u001b[0m Solving problem BirthDeathProblem\u001b[1m[\u001b[0m\u001b[33mstage\u001b[0m=\u001b[32m'solved'\u001b[0m, \u001b[33mshape\u001b[0m=\u001b[1m(\u001b[0m\u001b[1;36m9811\u001b[0m, \u001b[1;36m7107\u001b[0m\u001b[1m)\u001b[0m\u001b[1m]\u001b[0m.              \n",
      "\u001b[34mINFO    \u001b[0m Solving problem BirthDeathProblem\u001b[1m[\u001b[0m\u001b[33mstage\u001b[0m=\u001b[32m'solved'\u001b[0m, \u001b[33mshape\u001b[0m=\u001b[1m(\u001b[0m\u001b[1;36m9811\u001b[0m, \u001b[1;36m7107\u001b[0m\u001b[1m)\u001b[0m\u001b[1m]\u001b[0m.              \n",
      "\u001b[34mINFO    \u001b[0m Solving problem BirthDeathProblem\u001b[1m[\u001b[0m\u001b[33mstage\u001b[0m=\u001b[32m'solved'\u001b[0m, \u001b[33mshape\u001b[0m=\u001b[1m(\u001b[0m\u001b[1;36m9811\u001b[0m, \u001b[1;36m7107\u001b[0m\u001b[1m)\u001b[0m\u001b[1m]\u001b[0m.              \n",
      "\u001b[34mINFO    \u001b[0m Solving problem BirthDeathProblem\u001b[1m[\u001b[0m\u001b[33mstage\u001b[0m=\u001b[32m'solved'\u001b[0m, \u001b[33mshape\u001b[0m=\u001b[1m(\u001b[0m\u001b[1;36m9811\u001b[0m, \u001b[1;36m7107\u001b[0m\u001b[1m)\u001b[0m\u001b[1m]\u001b[0m.              \n",
      "\u001b[34mINFO    \u001b[0m Solving problem BirthDeathProblem\u001b[1m[\u001b[0m\u001b[33mstage\u001b[0m=\u001b[32m'solved'\u001b[0m, \u001b[33mshape\u001b[0m=\u001b[1m(\u001b[0m\u001b[1;36m9811\u001b[0m, \u001b[1;36m7107\u001b[0m\u001b[1m)\u001b[0m\u001b[1m]\u001b[0m.              \n",
      "\u001b[34mINFO    \u001b[0m Solving problem BirthDeathProblem\u001b[1m[\u001b[0m\u001b[33mstage\u001b[0m=\u001b[32m'solved'\u001b[0m, \u001b[33mshape\u001b[0m=\u001b[1m(\u001b[0m\u001b[1;36m9811\u001b[0m, \u001b[1;36m7107\u001b[0m\u001b[1m)\u001b[0m\u001b[1m]\u001b[0m.              \n",
      "\u001b[34mINFO    \u001b[0m Solving problem BirthDeathProblem\u001b[1m[\u001b[0m\u001b[33mstage\u001b[0m=\u001b[32m'solved'\u001b[0m, \u001b[33mshape\u001b[0m=\u001b[1m(\u001b[0m\u001b[1;36m9811\u001b[0m, \u001b[1;36m7107\u001b[0m\u001b[1m)\u001b[0m\u001b[1m]\u001b[0m.              \n",
      "\u001b[34mINFO    \u001b[0m Solving problem BirthDeathProblem\u001b[1m[\u001b[0m\u001b[33mstage\u001b[0m=\u001b[32m'solved'\u001b[0m, \u001b[33mshape\u001b[0m=\u001b[1m(\u001b[0m\u001b[1;36m9811\u001b[0m, \u001b[1;36m7107\u001b[0m\u001b[1m)\u001b[0m\u001b[1m]\u001b[0m.              \n",
      "\u001b[34mINFO    \u001b[0m Solving problem BirthDeathProblem\u001b[1m[\u001b[0m\u001b[33mstage\u001b[0m=\u001b[32m'solved'\u001b[0m, \u001b[33mshape\u001b[0m=\u001b[1m(\u001b[0m\u001b[1;36m9811\u001b[0m, \u001b[1;36m7107\u001b[0m\u001b[1m)\u001b[0m\u001b[1m]\u001b[0m.              \n",
      "\u001b[34mINFO    \u001b[0m Solving problem BirthDeathProblem\u001b[1m[\u001b[0m\u001b[33mstage\u001b[0m=\u001b[32m'solved'\u001b[0m, \u001b[33mshape\u001b[0m=\u001b[1m(\u001b[0m\u001b[1;36m9811\u001b[0m, \u001b[1;36m7107\u001b[0m\u001b[1m)\u001b[0m\u001b[1m]\u001b[0m.              \n",
      "\u001b[34mINFO    \u001b[0m Solving problem BirthDeathProblem\u001b[1m[\u001b[0m\u001b[33mstage\u001b[0m=\u001b[32m'solved'\u001b[0m, \u001b[33mshape\u001b[0m=\u001b[1m(\u001b[0m\u001b[1;36m9811\u001b[0m, \u001b[1;36m7107\u001b[0m\u001b[1m)\u001b[0m\u001b[1m]\u001b[0m.              \n",
      "\u001b[34mINFO    \u001b[0m Solving problem BirthDeathProblem\u001b[1m[\u001b[0m\u001b[33mstage\u001b[0m=\u001b[32m'solved'\u001b[0m, \u001b[33mshape\u001b[0m=\u001b[1m(\u001b[0m\u001b[1;36m9811\u001b[0m, \u001b[1;36m7107\u001b[0m\u001b[1m)\u001b[0m\u001b[1m]\u001b[0m.              \n",
      "\u001b[34mINFO    \u001b[0m Solving problem BirthDeathProblem\u001b[1m[\u001b[0m\u001b[33mstage\u001b[0m=\u001b[32m'solved'\u001b[0m, \u001b[33mshape\u001b[0m=\u001b[1m(\u001b[0m\u001b[1;36m9811\u001b[0m, \u001b[1;36m7107\u001b[0m\u001b[1m)\u001b[0m\u001b[1m]\u001b[0m.              \n"
     ]
    },
    {
     "name": "stdout",
     "output_type": "stream",
     "text": [
      "\u001b[34mINFO    \u001b[0m Solving problem BirthDeathProblem\u001b[1m[\u001b[0m\u001b[33mstage\u001b[0m=\u001b[32m'solved'\u001b[0m, \u001b[33mshape\u001b[0m=\u001b[1m(\u001b[0m\u001b[1;36m9811\u001b[0m, \u001b[1;36m7107\u001b[0m\u001b[1m)\u001b[0m\u001b[1m]\u001b[0m.              \n",
      "\u001b[34mINFO    \u001b[0m Solving problem BirthDeathProblem\u001b[1m[\u001b[0m\u001b[33mstage\u001b[0m=\u001b[32m'solved'\u001b[0m, \u001b[33mshape\u001b[0m=\u001b[1m(\u001b[0m\u001b[1;36m9811\u001b[0m, \u001b[1;36m7107\u001b[0m\u001b[1m)\u001b[0m\u001b[1m]\u001b[0m.              \n",
      "\u001b[34mINFO    \u001b[0m Solving problem BirthDeathProblem\u001b[1m[\u001b[0m\u001b[33mstage\u001b[0m=\u001b[32m'solved'\u001b[0m, \u001b[33mshape\u001b[0m=\u001b[1m(\u001b[0m\u001b[1;36m9811\u001b[0m, \u001b[1;36m7107\u001b[0m\u001b[1m)\u001b[0m\u001b[1m]\u001b[0m.              \n"
     ]
    }
   ],
   "source": [
    "scores_patac_bc = {}\n",
    "for config in list(configs):\n",
    "    tp2 = tp2.solve(epsilon=config[0], tau_a=config[1], tau_b=config[2], max_iterations=1e8)\n",
    "    ct_desc = tp2.cell_transition(source=14.5, target=15.5, source_groups=\"celltype\", target_groups=\"celltype\", forward=True)\n",
    "    scores_patac_bc[str(config)] = compute_score(ct_desc)"
   ]
  },
  {
   "cell_type": "code",
   "execution_count": 31,
   "id": "65346194",
   "metadata": {},
   "outputs": [],
   "source": [
    "df_patac_bc = pd.DataFrame.from_dict([scores_patac_bc]).transpose()"
   ]
  },
  {
   "cell_type": "code",
   "execution_count": 32,
   "id": "1f5c4038",
   "metadata": {},
   "outputs": [],
   "source": [
    "df_patac_bc.to_csv(\"patac_bc_scores_forward.csv\")"
   ]
  }
 ],
 "metadata": {
  "kernelspec": {
   "display_name": "jax_gpu3",
   "language": "python",
   "name": "jax_gpu3"
  },
  "language_info": {
   "codemirror_mode": {
    "name": "ipython",
    "version": 3
   },
   "file_extension": ".py",
   "mimetype": "text/x-python",
   "name": "python",
   "nbconvert_exporter": "python",
   "pygments_lexer": "ipython3",
   "version": "3.8.13"
  }
 },
 "nbformat": 4,
 "nbformat_minor": 5
}
