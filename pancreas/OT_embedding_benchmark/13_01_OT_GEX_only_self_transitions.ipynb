{
 "cells": [
  {
   "cell_type": "code",
   "execution_count": 1,
   "id": "d5e628f4",
   "metadata": {},
   "outputs": [],
   "source": [
    "from jax.config import config\n",
    "config.update(\"jax_enable_x64\", True)"
   ]
  },
  {
   "cell_type": "code",
   "execution_count": 2,
   "id": "5d213ea8",
   "metadata": {},
   "outputs": [],
   "source": [
    "import scanpy as sc\n",
    "import seaborn as sns\n",
    "import matplotlib.pyplot as plt\n",
    "import moscot\n",
    "from moscot.problems.time import TemporalProblem\n",
    "import seaborn as sns\n",
    "from sklearn.preprocessing import StandardScaler\n",
    "import itertools\n",
    "import pandas as pd"
   ]
  },
  {
   "cell_type": "code",
   "execution_count": 3,
   "id": "e6931805",
   "metadata": {},
   "outputs": [
    {
     "name": "stdout",
     "output_type": "stream",
     "text": [
      "0.1.0\n"
     ]
    }
   ],
   "source": [
    "print(moscot.__version__)"
   ]
  },
  {
   "cell_type": "code",
   "execution_count": 4,
   "id": "95173de5",
   "metadata": {},
   "outputs": [],
   "source": [
    "adata = sc.read_h5ad(\"/lustre/groups/ml01/workspace/moscot_paper/pancreas/pancreas_multiome_2022_processed.h5ad\")"
   ]
  },
  {
   "cell_type": "code",
   "execution_count": 5,
   "id": "304cccde",
   "metadata": {},
   "outputs": [],
   "source": [
    "marginals = pd.read_csv(\"marginals.csv\", index_col=\"Unnamed: 0\")\n",
    "adata.obs[\"a\"] = marginals"
   ]
  },
  {
   "cell_type": "code",
   "execution_count": 6,
   "id": "b8ed64dd",
   "metadata": {},
   "outputs": [],
   "source": [
    "adata = adata[:, adata.var[\"modality\"] == \"GEX\"].copy()"
   ]
  },
  {
   "cell_type": "code",
   "execution_count": 7,
   "id": "4e0039e5",
   "metadata": {},
   "outputs": [],
   "source": [
    "adata.obs['time'] = adata.obs.apply(lambda x: 14.5 if x[\"sample\"]==\"E14.5\" else 15.5, axis=1)"
   ]
  },
  {
   "cell_type": "code",
   "execution_count": 8,
   "id": "4bb21a30",
   "metadata": {},
   "outputs": [
    {
     "data": {
      "text/plain": [
       "AnnData object with n_obs × n_vars = 16918 × 14663\n",
       "    obs: 'n_counts', 'sample', 'n_genes', 'log_genes', 'mt_frac', 'rp_frac', 'ambi_frac', 'nCount_RNA', 'nFeature_RNA', 'nCount_ATAC', 'nFeature_ATAC', 'nucleosome_signal', 'nucleosome_percentile', 'TSS.enrichment', 'TSS.percentile', 'S_score', 'G2M_score', 'phase', 'proliferation', 'celltype', 'nCount_peaks', 'nFeature_peaks', 'a', 'time'\n",
       "    var: 'modality'\n",
       "    uns: 'celltype_colors', 'neighbors'\n",
       "    obsm: 'X_pca', 'X_pca_wsnn', 'X_spca_wsnn', 'X_umap', 'X_umap_ATAC', 'X_umap_GEX', 'X_umap_wsnn', 'lsi_full', 'lsi_red', 'umap', 'umap_ATAC', 'umap_GEX'\n",
       "    obsp: 'connectivities', 'connectivities_wnn', 'distances', 'distances_wnn'"
      ]
     },
     "execution_count": 8,
     "metadata": {},
     "output_type": "execute_result"
    }
   ],
   "source": [
    "adata"
   ]
  },
  {
   "cell_type": "code",
   "execution_count": 9,
   "id": "c596550c",
   "metadata": {},
   "outputs": [],
   "source": [
    "marginals = pd.read_csv(\"marginals.csv\", index_col=\"Unnamed: 0\")\n",
    "adata.obs[\"a\"] = marginals"
   ]
  },
  {
   "cell_type": "code",
   "execution_count": 10,
   "id": "000dacfd",
   "metadata": {},
   "outputs": [],
   "source": [
    "self_transitions = [(el, el) for el in adata.obs[\"celltype\"].cat.categories]\n",
    "\n",
    "correct_transitions =self_transitions\n",
    "\n",
    "def compute_score(df):\n",
    "    score=0\n",
    "    for pair in correct_transitions:\n",
    "        score += df.loc[pair].sum()\n",
    "    return score/len(correct_transitions)\n",
    "        "
   ]
  },
  {
   "cell_type": "code",
   "execution_count": 11,
   "id": "cdb19520",
   "metadata": {},
   "outputs": [],
   "source": [
    "epsilon = (1e-4, 1e-3, 1e-2)\n",
    "tau_a = (1, 0.99, 0.95, 0.9)\n",
    "tau_b = (1, 0.99, 0.95, 0.9)\n",
    "\n",
    "configs = itertools.product(epsilon, tau_a, tau_b)"
   ]
  },
  {
   "cell_type": "markdown",
   "id": "3ceaf81d",
   "metadata": {},
   "source": [
    "# PCA on GEX space"
   ]
  },
  {
   "cell_type": "code",
   "execution_count": 12,
   "id": "f9051a86",
   "metadata": {},
   "outputs": [],
   "source": [
    "sc.pp.normalize_total(adata, target_sum=1e4)\n",
    "sc.pp.log1p(adata)"
   ]
  },
  {
   "cell_type": "code",
   "execution_count": 13,
   "id": "bf3c5ac8",
   "metadata": {},
   "outputs": [
    {
     "name": "stdout",
     "output_type": "stream",
     "text": [
      "\u001b[34mINFO    \u001b[0m Computing pca with `\u001b[33mn_comps\u001b[0m=\u001b[1;36m30\u001b[0m` using `adata.X`                                     \n"
     ]
    }
   ],
   "source": [
    "tp0 = TemporalProblem(adata)\n",
    "tp0 = tp0.prepare(\"time\", a=\"a\")"
   ]
  },
  {
   "cell_type": "code",
   "execution_count": 14,
   "id": "da0f9c36",
   "metadata": {},
   "outputs": [
    {
     "name": "stdout",
     "output_type": "stream",
     "text": [
      "\u001b[34mINFO    \u001b[0m Solving problem BirthDeathProblem\u001b[1m[\u001b[0m\u001b[33mstage\u001b[0m=\u001b[32m'prepared'\u001b[0m, \u001b[33mshape\u001b[0m=\u001b[1m(\u001b[0m\u001b[1;36m9811\u001b[0m, \u001b[1;36m7107\u001b[0m\u001b[1m)\u001b[0m\u001b[1m]\u001b[0m.            \n",
      "\u001b[34mINFO    \u001b[0m Solving problem BirthDeathProblem\u001b[1m[\u001b[0m\u001b[33mstage\u001b[0m=\u001b[32m'solved'\u001b[0m, \u001b[33mshape\u001b[0m=\u001b[1m(\u001b[0m\u001b[1;36m9811\u001b[0m, \u001b[1;36m7107\u001b[0m\u001b[1m)\u001b[0m\u001b[1m]\u001b[0m.              \n",
      "\u001b[34mINFO    \u001b[0m Solving problem BirthDeathProblem\u001b[1m[\u001b[0m\u001b[33mstage\u001b[0m=\u001b[32m'solved'\u001b[0m, \u001b[33mshape\u001b[0m=\u001b[1m(\u001b[0m\u001b[1;36m9811\u001b[0m, \u001b[1;36m7107\u001b[0m\u001b[1m)\u001b[0m\u001b[1m]\u001b[0m.              \n",
      "\u001b[34mINFO    \u001b[0m Solving problem BirthDeathProblem\u001b[1m[\u001b[0m\u001b[33mstage\u001b[0m=\u001b[32m'solved'\u001b[0m, \u001b[33mshape\u001b[0m=\u001b[1m(\u001b[0m\u001b[1;36m9811\u001b[0m, \u001b[1;36m7107\u001b[0m\u001b[1m)\u001b[0m\u001b[1m]\u001b[0m.              \n",
      "\u001b[34mINFO    \u001b[0m Solving problem BirthDeathProblem\u001b[1m[\u001b[0m\u001b[33mstage\u001b[0m=\u001b[32m'solved'\u001b[0m, \u001b[33mshape\u001b[0m=\u001b[1m(\u001b[0m\u001b[1;36m9811\u001b[0m, \u001b[1;36m7107\u001b[0m\u001b[1m)\u001b[0m\u001b[1m]\u001b[0m.              \n",
      "\u001b[34mINFO    \u001b[0m Solving problem BirthDeathProblem\u001b[1m[\u001b[0m\u001b[33mstage\u001b[0m=\u001b[32m'solved'\u001b[0m, \u001b[33mshape\u001b[0m=\u001b[1m(\u001b[0m\u001b[1;36m9811\u001b[0m, \u001b[1;36m7107\u001b[0m\u001b[1m)\u001b[0m\u001b[1m]\u001b[0m.              \n",
      "\u001b[34mINFO    \u001b[0m Solving problem BirthDeathProblem\u001b[1m[\u001b[0m\u001b[33mstage\u001b[0m=\u001b[32m'solved'\u001b[0m, \u001b[33mshape\u001b[0m=\u001b[1m(\u001b[0m\u001b[1;36m9811\u001b[0m, \u001b[1;36m7107\u001b[0m\u001b[1m)\u001b[0m\u001b[1m]\u001b[0m.              \n",
      "\u001b[34mINFO    \u001b[0m Solving problem BirthDeathProblem\u001b[1m[\u001b[0m\u001b[33mstage\u001b[0m=\u001b[32m'solved'\u001b[0m, \u001b[33mshape\u001b[0m=\u001b[1m(\u001b[0m\u001b[1;36m9811\u001b[0m, \u001b[1;36m7107\u001b[0m\u001b[1m)\u001b[0m\u001b[1m]\u001b[0m.              \n",
      "\u001b[34mINFO    \u001b[0m Solving problem BirthDeathProblem\u001b[1m[\u001b[0m\u001b[33mstage\u001b[0m=\u001b[32m'solved'\u001b[0m, \u001b[33mshape\u001b[0m=\u001b[1m(\u001b[0m\u001b[1;36m9811\u001b[0m, \u001b[1;36m7107\u001b[0m\u001b[1m)\u001b[0m\u001b[1m]\u001b[0m.              \n",
      "\u001b[34mINFO    \u001b[0m Solving problem BirthDeathProblem\u001b[1m[\u001b[0m\u001b[33mstage\u001b[0m=\u001b[32m'solved'\u001b[0m, \u001b[33mshape\u001b[0m=\u001b[1m(\u001b[0m\u001b[1;36m9811\u001b[0m, \u001b[1;36m7107\u001b[0m\u001b[1m)\u001b[0m\u001b[1m]\u001b[0m.              \n",
      "\u001b[34mINFO    \u001b[0m Solving problem BirthDeathProblem\u001b[1m[\u001b[0m\u001b[33mstage\u001b[0m=\u001b[32m'solved'\u001b[0m, \u001b[33mshape\u001b[0m=\u001b[1m(\u001b[0m\u001b[1;36m9811\u001b[0m, \u001b[1;36m7107\u001b[0m\u001b[1m)\u001b[0m\u001b[1m]\u001b[0m.              \n",
      "\u001b[34mINFO    \u001b[0m Solving problem BirthDeathProblem\u001b[1m[\u001b[0m\u001b[33mstage\u001b[0m=\u001b[32m'solved'\u001b[0m, \u001b[33mshape\u001b[0m=\u001b[1m(\u001b[0m\u001b[1;36m9811\u001b[0m, \u001b[1;36m7107\u001b[0m\u001b[1m)\u001b[0m\u001b[1m]\u001b[0m.              \n",
      "\u001b[34mINFO    \u001b[0m Solving problem BirthDeathProblem\u001b[1m[\u001b[0m\u001b[33mstage\u001b[0m=\u001b[32m'solved'\u001b[0m, \u001b[33mshape\u001b[0m=\u001b[1m(\u001b[0m\u001b[1;36m9811\u001b[0m, \u001b[1;36m7107\u001b[0m\u001b[1m)\u001b[0m\u001b[1m]\u001b[0m.              \n",
      "\u001b[34mINFO    \u001b[0m Solving problem BirthDeathProblem\u001b[1m[\u001b[0m\u001b[33mstage\u001b[0m=\u001b[32m'solved'\u001b[0m, \u001b[33mshape\u001b[0m=\u001b[1m(\u001b[0m\u001b[1;36m9811\u001b[0m, \u001b[1;36m7107\u001b[0m\u001b[1m)\u001b[0m\u001b[1m]\u001b[0m.              \n",
      "\u001b[34mINFO    \u001b[0m Solving problem BirthDeathProblem\u001b[1m[\u001b[0m\u001b[33mstage\u001b[0m=\u001b[32m'solved'\u001b[0m, \u001b[33mshape\u001b[0m=\u001b[1m(\u001b[0m\u001b[1;36m9811\u001b[0m, \u001b[1;36m7107\u001b[0m\u001b[1m)\u001b[0m\u001b[1m]\u001b[0m.              \n",
      "\u001b[34mINFO    \u001b[0m Solving problem BirthDeathProblem\u001b[1m[\u001b[0m\u001b[33mstage\u001b[0m=\u001b[32m'solved'\u001b[0m, \u001b[33mshape\u001b[0m=\u001b[1m(\u001b[0m\u001b[1;36m9811\u001b[0m, \u001b[1;36m7107\u001b[0m\u001b[1m)\u001b[0m\u001b[1m]\u001b[0m.              \n",
      "\u001b[34mINFO    \u001b[0m Solving problem BirthDeathProblem\u001b[1m[\u001b[0m\u001b[33mstage\u001b[0m=\u001b[32m'solved'\u001b[0m, \u001b[33mshape\u001b[0m=\u001b[1m(\u001b[0m\u001b[1;36m9811\u001b[0m, \u001b[1;36m7107\u001b[0m\u001b[1m)\u001b[0m\u001b[1m]\u001b[0m.              \n",
      "\u001b[34mINFO    \u001b[0m Solving problem BirthDeathProblem\u001b[1m[\u001b[0m\u001b[33mstage\u001b[0m=\u001b[32m'solved'\u001b[0m, \u001b[33mshape\u001b[0m=\u001b[1m(\u001b[0m\u001b[1;36m9811\u001b[0m, \u001b[1;36m7107\u001b[0m\u001b[1m)\u001b[0m\u001b[1m]\u001b[0m.              \n",
      "\u001b[34mINFO    \u001b[0m Solving problem BirthDeathProblem\u001b[1m[\u001b[0m\u001b[33mstage\u001b[0m=\u001b[32m'solved'\u001b[0m, \u001b[33mshape\u001b[0m=\u001b[1m(\u001b[0m\u001b[1;36m9811\u001b[0m, \u001b[1;36m7107\u001b[0m\u001b[1m)\u001b[0m\u001b[1m]\u001b[0m.              \n",
      "\u001b[34mINFO    \u001b[0m Solving problem BirthDeathProblem\u001b[1m[\u001b[0m\u001b[33mstage\u001b[0m=\u001b[32m'solved'\u001b[0m, \u001b[33mshape\u001b[0m=\u001b[1m(\u001b[0m\u001b[1;36m9811\u001b[0m, \u001b[1;36m7107\u001b[0m\u001b[1m)\u001b[0m\u001b[1m]\u001b[0m.              \n",
      "\u001b[34mINFO    \u001b[0m Solving problem BirthDeathProblem\u001b[1m[\u001b[0m\u001b[33mstage\u001b[0m=\u001b[32m'solved'\u001b[0m, \u001b[33mshape\u001b[0m=\u001b[1m(\u001b[0m\u001b[1;36m9811\u001b[0m, \u001b[1;36m7107\u001b[0m\u001b[1m)\u001b[0m\u001b[1m]\u001b[0m.              \n",
      "\u001b[34mINFO    \u001b[0m Solving problem BirthDeathProblem\u001b[1m[\u001b[0m\u001b[33mstage\u001b[0m=\u001b[32m'solved'\u001b[0m, \u001b[33mshape\u001b[0m=\u001b[1m(\u001b[0m\u001b[1;36m9811\u001b[0m, \u001b[1;36m7107\u001b[0m\u001b[1m)\u001b[0m\u001b[1m]\u001b[0m.              \n",
      "\u001b[34mINFO    \u001b[0m Solving problem BirthDeathProblem\u001b[1m[\u001b[0m\u001b[33mstage\u001b[0m=\u001b[32m'solved'\u001b[0m, \u001b[33mshape\u001b[0m=\u001b[1m(\u001b[0m\u001b[1;36m9811\u001b[0m, \u001b[1;36m7107\u001b[0m\u001b[1m)\u001b[0m\u001b[1m]\u001b[0m.              \n",
      "\u001b[34mINFO    \u001b[0m Solving problem BirthDeathProblem\u001b[1m[\u001b[0m\u001b[33mstage\u001b[0m=\u001b[32m'solved'\u001b[0m, \u001b[33mshape\u001b[0m=\u001b[1m(\u001b[0m\u001b[1;36m9811\u001b[0m, \u001b[1;36m7107\u001b[0m\u001b[1m)\u001b[0m\u001b[1m]\u001b[0m.              \n",
      "\u001b[34mINFO    \u001b[0m Solving problem BirthDeathProblem\u001b[1m[\u001b[0m\u001b[33mstage\u001b[0m=\u001b[32m'solved'\u001b[0m, \u001b[33mshape\u001b[0m=\u001b[1m(\u001b[0m\u001b[1;36m9811\u001b[0m, \u001b[1;36m7107\u001b[0m\u001b[1m)\u001b[0m\u001b[1m]\u001b[0m.              \n",
      "\u001b[34mINFO    \u001b[0m Solving problem BirthDeathProblem\u001b[1m[\u001b[0m\u001b[33mstage\u001b[0m=\u001b[32m'solved'\u001b[0m, \u001b[33mshape\u001b[0m=\u001b[1m(\u001b[0m\u001b[1;36m9811\u001b[0m, \u001b[1;36m7107\u001b[0m\u001b[1m)\u001b[0m\u001b[1m]\u001b[0m.              \n",
      "\u001b[34mINFO    \u001b[0m Solving problem BirthDeathProblem\u001b[1m[\u001b[0m\u001b[33mstage\u001b[0m=\u001b[32m'solved'\u001b[0m, \u001b[33mshape\u001b[0m=\u001b[1m(\u001b[0m\u001b[1;36m9811\u001b[0m, \u001b[1;36m7107\u001b[0m\u001b[1m)\u001b[0m\u001b[1m]\u001b[0m.              \n",
      "\u001b[34mINFO    \u001b[0m Solving problem BirthDeathProblem\u001b[1m[\u001b[0m\u001b[33mstage\u001b[0m=\u001b[32m'solved'\u001b[0m, \u001b[33mshape\u001b[0m=\u001b[1m(\u001b[0m\u001b[1;36m9811\u001b[0m, \u001b[1;36m7107\u001b[0m\u001b[1m)\u001b[0m\u001b[1m]\u001b[0m.              \n",
      "\u001b[34mINFO    \u001b[0m Solving problem BirthDeathProblem\u001b[1m[\u001b[0m\u001b[33mstage\u001b[0m=\u001b[32m'solved'\u001b[0m, \u001b[33mshape\u001b[0m=\u001b[1m(\u001b[0m\u001b[1;36m9811\u001b[0m, \u001b[1;36m7107\u001b[0m\u001b[1m)\u001b[0m\u001b[1m]\u001b[0m.              \n",
      "\u001b[34mINFO    \u001b[0m Solving problem BirthDeathProblem\u001b[1m[\u001b[0m\u001b[33mstage\u001b[0m=\u001b[32m'solved'\u001b[0m, \u001b[33mshape\u001b[0m=\u001b[1m(\u001b[0m\u001b[1;36m9811\u001b[0m, \u001b[1;36m7107\u001b[0m\u001b[1m)\u001b[0m\u001b[1m]\u001b[0m.              \n",
      "\u001b[34mINFO    \u001b[0m Solving problem BirthDeathProblem\u001b[1m[\u001b[0m\u001b[33mstage\u001b[0m=\u001b[32m'solved'\u001b[0m, \u001b[33mshape\u001b[0m=\u001b[1m(\u001b[0m\u001b[1;36m9811\u001b[0m, \u001b[1;36m7107\u001b[0m\u001b[1m)\u001b[0m\u001b[1m]\u001b[0m.              \n",
      "\u001b[34mINFO    \u001b[0m Solving problem BirthDeathProblem\u001b[1m[\u001b[0m\u001b[33mstage\u001b[0m=\u001b[32m'solved'\u001b[0m, \u001b[33mshape\u001b[0m=\u001b[1m(\u001b[0m\u001b[1;36m9811\u001b[0m, \u001b[1;36m7107\u001b[0m\u001b[1m)\u001b[0m\u001b[1m]\u001b[0m.              \n",
      "\u001b[34mINFO    \u001b[0m Solving problem BirthDeathProblem\u001b[1m[\u001b[0m\u001b[33mstage\u001b[0m=\u001b[32m'solved'\u001b[0m, \u001b[33mshape\u001b[0m=\u001b[1m(\u001b[0m\u001b[1;36m9811\u001b[0m, \u001b[1;36m7107\u001b[0m\u001b[1m)\u001b[0m\u001b[1m]\u001b[0m.              \n",
      "\u001b[34mINFO    \u001b[0m Solving problem BirthDeathProblem\u001b[1m[\u001b[0m\u001b[33mstage\u001b[0m=\u001b[32m'solved'\u001b[0m, \u001b[33mshape\u001b[0m=\u001b[1m(\u001b[0m\u001b[1;36m9811\u001b[0m, \u001b[1;36m7107\u001b[0m\u001b[1m)\u001b[0m\u001b[1m]\u001b[0m.              \n",
      "\u001b[34mINFO    \u001b[0m Solving problem BirthDeathProblem\u001b[1m[\u001b[0m\u001b[33mstage\u001b[0m=\u001b[32m'solved'\u001b[0m, \u001b[33mshape\u001b[0m=\u001b[1m(\u001b[0m\u001b[1;36m9811\u001b[0m, \u001b[1;36m7107\u001b[0m\u001b[1m)\u001b[0m\u001b[1m]\u001b[0m.              \n",
      "\u001b[34mINFO    \u001b[0m Solving problem BirthDeathProblem\u001b[1m[\u001b[0m\u001b[33mstage\u001b[0m=\u001b[32m'solved'\u001b[0m, \u001b[33mshape\u001b[0m=\u001b[1m(\u001b[0m\u001b[1;36m9811\u001b[0m, \u001b[1;36m7107\u001b[0m\u001b[1m)\u001b[0m\u001b[1m]\u001b[0m.              \n",
      "\u001b[34mINFO    \u001b[0m Solving problem BirthDeathProblem\u001b[1m[\u001b[0m\u001b[33mstage\u001b[0m=\u001b[32m'solved'\u001b[0m, \u001b[33mshape\u001b[0m=\u001b[1m(\u001b[0m\u001b[1;36m9811\u001b[0m, \u001b[1;36m7107\u001b[0m\u001b[1m)\u001b[0m\u001b[1m]\u001b[0m.              \n",
      "\u001b[34mINFO    \u001b[0m Solving problem BirthDeathProblem\u001b[1m[\u001b[0m\u001b[33mstage\u001b[0m=\u001b[32m'solved'\u001b[0m, \u001b[33mshape\u001b[0m=\u001b[1m(\u001b[0m\u001b[1;36m9811\u001b[0m, \u001b[1;36m7107\u001b[0m\u001b[1m)\u001b[0m\u001b[1m]\u001b[0m.              \n",
      "\u001b[34mINFO    \u001b[0m Solving problem BirthDeathProblem\u001b[1m[\u001b[0m\u001b[33mstage\u001b[0m=\u001b[32m'solved'\u001b[0m, \u001b[33mshape\u001b[0m=\u001b[1m(\u001b[0m\u001b[1;36m9811\u001b[0m, \u001b[1;36m7107\u001b[0m\u001b[1m)\u001b[0m\u001b[1m]\u001b[0m.              \n",
      "\u001b[34mINFO    \u001b[0m Solving problem BirthDeathProblem\u001b[1m[\u001b[0m\u001b[33mstage\u001b[0m=\u001b[32m'solved'\u001b[0m, \u001b[33mshape\u001b[0m=\u001b[1m(\u001b[0m\u001b[1;36m9811\u001b[0m, \u001b[1;36m7107\u001b[0m\u001b[1m)\u001b[0m\u001b[1m]\u001b[0m.              \n",
      "\u001b[34mINFO    \u001b[0m Solving problem BirthDeathProblem\u001b[1m[\u001b[0m\u001b[33mstage\u001b[0m=\u001b[32m'solved'\u001b[0m, \u001b[33mshape\u001b[0m=\u001b[1m(\u001b[0m\u001b[1;36m9811\u001b[0m, \u001b[1;36m7107\u001b[0m\u001b[1m)\u001b[0m\u001b[1m]\u001b[0m.              \n",
      "\u001b[34mINFO    \u001b[0m Solving problem BirthDeathProblem\u001b[1m[\u001b[0m\u001b[33mstage\u001b[0m=\u001b[32m'solved'\u001b[0m, \u001b[33mshape\u001b[0m=\u001b[1m(\u001b[0m\u001b[1;36m9811\u001b[0m, \u001b[1;36m7107\u001b[0m\u001b[1m)\u001b[0m\u001b[1m]\u001b[0m.              \n",
      "\u001b[34mINFO    \u001b[0m Solving problem BirthDeathProblem\u001b[1m[\u001b[0m\u001b[33mstage\u001b[0m=\u001b[32m'solved'\u001b[0m, \u001b[33mshape\u001b[0m=\u001b[1m(\u001b[0m\u001b[1;36m9811\u001b[0m, \u001b[1;36m7107\u001b[0m\u001b[1m)\u001b[0m\u001b[1m]\u001b[0m.              \n",
      "\u001b[34mINFO    \u001b[0m Solving problem BirthDeathProblem\u001b[1m[\u001b[0m\u001b[33mstage\u001b[0m=\u001b[32m'solved'\u001b[0m, \u001b[33mshape\u001b[0m=\u001b[1m(\u001b[0m\u001b[1;36m9811\u001b[0m, \u001b[1;36m7107\u001b[0m\u001b[1m)\u001b[0m\u001b[1m]\u001b[0m.              \n",
      "\u001b[34mINFO    \u001b[0m Solving problem BirthDeathProblem\u001b[1m[\u001b[0m\u001b[33mstage\u001b[0m=\u001b[32m'solved'\u001b[0m, \u001b[33mshape\u001b[0m=\u001b[1m(\u001b[0m\u001b[1;36m9811\u001b[0m, \u001b[1;36m7107\u001b[0m\u001b[1m)\u001b[0m\u001b[1m]\u001b[0m.              \n"
     ]
    },
    {
     "name": "stdout",
     "output_type": "stream",
     "text": [
      "\u001b[34mINFO    \u001b[0m Solving problem BirthDeathProblem\u001b[1m[\u001b[0m\u001b[33mstage\u001b[0m=\u001b[32m'solved'\u001b[0m, \u001b[33mshape\u001b[0m=\u001b[1m(\u001b[0m\u001b[1;36m9811\u001b[0m, \u001b[1;36m7107\u001b[0m\u001b[1m)\u001b[0m\u001b[1m]\u001b[0m.              \n",
      "\u001b[34mINFO    \u001b[0m Solving problem BirthDeathProblem\u001b[1m[\u001b[0m\u001b[33mstage\u001b[0m=\u001b[32m'solved'\u001b[0m, \u001b[33mshape\u001b[0m=\u001b[1m(\u001b[0m\u001b[1;36m9811\u001b[0m, \u001b[1;36m7107\u001b[0m\u001b[1m)\u001b[0m\u001b[1m]\u001b[0m.              \n",
      "\u001b[34mINFO    \u001b[0m Solving problem BirthDeathProblem\u001b[1m[\u001b[0m\u001b[33mstage\u001b[0m=\u001b[32m'solved'\u001b[0m, \u001b[33mshape\u001b[0m=\u001b[1m(\u001b[0m\u001b[1;36m9811\u001b[0m, \u001b[1;36m7107\u001b[0m\u001b[1m)\u001b[0m\u001b[1m]\u001b[0m.              \n"
     ]
    }
   ],
   "source": [
    "scores = {}\n",
    "for config in list(configs):\n",
    "    tp0 = tp0.solve(epsilon=config[0], tau_a=config[1], tau_b=config[2], max_iterations=1e8)\n",
    "    ct_desc = tp0.cell_transition(source=14.5, target=15.5, source_groups=\"celltype\", target_groups=\"celltype\", forward=True)\n",
    "    scores[config] = compute_score(ct_desc)"
   ]
  },
  {
   "cell_type": "code",
   "execution_count": 15,
   "id": "6f5785ef",
   "metadata": {},
   "outputs": [],
   "source": [
    "df_pca = pd.DataFrame.from_dict([scores]).transpose()"
   ]
  },
  {
   "cell_type": "code",
   "execution_count": 16,
   "id": "150a5c3a",
   "metadata": {},
   "outputs": [],
   "source": [
    "df_pca.to_csv(\"scores_pca_self.csv\")"
   ]
  },
  {
   "cell_type": "markdown",
   "id": "91d8c248",
   "metadata": {},
   "source": [
    "# scVI on GEX space"
   ]
  },
  {
   "cell_type": "code",
   "execution_count": 17,
   "id": "a84bb647",
   "metadata": {},
   "outputs": [],
   "source": [
    "adata = sc.read(\"/lustre/groups/ml01/workspace/moscot_paper/pancreas/embeddings/pancreas_GEX_embeddings.h5ad\")"
   ]
  },
  {
   "cell_type": "code",
   "execution_count": 18,
   "id": "9bcc3510",
   "metadata": {},
   "outputs": [],
   "source": [
    "adata.obs['time'] = adata.obs.apply(lambda x: 14.5 if x[\"sample\"]==\"E14.5\" else 15.5, axis=1)"
   ]
  },
  {
   "cell_type": "code",
   "execution_count": 19,
   "id": "9833869c",
   "metadata": {},
   "outputs": [],
   "source": [
    "marginals = pd.read_csv(\"marginals.csv\", index_col=\"Unnamed: 0\")\n",
    "adata.obs[\"a\"] = marginals"
   ]
  },
  {
   "cell_type": "code",
   "execution_count": 20,
   "id": "42c3cd4f",
   "metadata": {},
   "outputs": [],
   "source": [
    "configs = itertools.product(epsilon, tau_a, tau_b)"
   ]
  },
  {
   "cell_type": "code",
   "execution_count": 21,
   "id": "0dad1e7b",
   "metadata": {},
   "outputs": [],
   "source": [
    "tp1 = TemporalProblem(adata)\n",
    "tp1 = tp1.prepare(\"time\", joint_attr=\"X_scVI\", a=\"a\")"
   ]
  },
  {
   "cell_type": "code",
   "execution_count": 22,
   "id": "7bc7a13c",
   "metadata": {},
   "outputs": [
    {
     "name": "stdout",
     "output_type": "stream",
     "text": [
      "\u001b[34mINFO    \u001b[0m Solving problem BirthDeathProblem\u001b[1m[\u001b[0m\u001b[33mstage\u001b[0m=\u001b[32m'prepared'\u001b[0m, \u001b[33mshape\u001b[0m=\u001b[1m(\u001b[0m\u001b[1;36m9811\u001b[0m, \u001b[1;36m7107\u001b[0m\u001b[1m)\u001b[0m\u001b[1m]\u001b[0m.            \n",
      "\u001b[34mINFO    \u001b[0m Solving problem BirthDeathProblem\u001b[1m[\u001b[0m\u001b[33mstage\u001b[0m=\u001b[32m'solved'\u001b[0m, \u001b[33mshape\u001b[0m=\u001b[1m(\u001b[0m\u001b[1;36m9811\u001b[0m, \u001b[1;36m7107\u001b[0m\u001b[1m)\u001b[0m\u001b[1m]\u001b[0m.              \n",
      "\u001b[34mINFO    \u001b[0m Solving problem BirthDeathProblem\u001b[1m[\u001b[0m\u001b[33mstage\u001b[0m=\u001b[32m'solved'\u001b[0m, \u001b[33mshape\u001b[0m=\u001b[1m(\u001b[0m\u001b[1;36m9811\u001b[0m, \u001b[1;36m7107\u001b[0m\u001b[1m)\u001b[0m\u001b[1m]\u001b[0m.              \n",
      "\u001b[34mINFO    \u001b[0m Solving problem BirthDeathProblem\u001b[1m[\u001b[0m\u001b[33mstage\u001b[0m=\u001b[32m'solved'\u001b[0m, \u001b[33mshape\u001b[0m=\u001b[1m(\u001b[0m\u001b[1;36m9811\u001b[0m, \u001b[1;36m7107\u001b[0m\u001b[1m)\u001b[0m\u001b[1m]\u001b[0m.              \n",
      "\u001b[34mINFO    \u001b[0m Solving problem BirthDeathProblem\u001b[1m[\u001b[0m\u001b[33mstage\u001b[0m=\u001b[32m'solved'\u001b[0m, \u001b[33mshape\u001b[0m=\u001b[1m(\u001b[0m\u001b[1;36m9811\u001b[0m, \u001b[1;36m7107\u001b[0m\u001b[1m)\u001b[0m\u001b[1m]\u001b[0m.              \n",
      "\u001b[34mINFO    \u001b[0m Solving problem BirthDeathProblem\u001b[1m[\u001b[0m\u001b[33mstage\u001b[0m=\u001b[32m'solved'\u001b[0m, \u001b[33mshape\u001b[0m=\u001b[1m(\u001b[0m\u001b[1;36m9811\u001b[0m, \u001b[1;36m7107\u001b[0m\u001b[1m)\u001b[0m\u001b[1m]\u001b[0m.              \n",
      "\u001b[34mINFO    \u001b[0m Solving problem BirthDeathProblem\u001b[1m[\u001b[0m\u001b[33mstage\u001b[0m=\u001b[32m'solved'\u001b[0m, \u001b[33mshape\u001b[0m=\u001b[1m(\u001b[0m\u001b[1;36m9811\u001b[0m, \u001b[1;36m7107\u001b[0m\u001b[1m)\u001b[0m\u001b[1m]\u001b[0m.              \n",
      "\u001b[34mINFO    \u001b[0m Solving problem BirthDeathProblem\u001b[1m[\u001b[0m\u001b[33mstage\u001b[0m=\u001b[32m'solved'\u001b[0m, \u001b[33mshape\u001b[0m=\u001b[1m(\u001b[0m\u001b[1;36m9811\u001b[0m, \u001b[1;36m7107\u001b[0m\u001b[1m)\u001b[0m\u001b[1m]\u001b[0m.              \n",
      "\u001b[34mINFO    \u001b[0m Solving problem BirthDeathProblem\u001b[1m[\u001b[0m\u001b[33mstage\u001b[0m=\u001b[32m'solved'\u001b[0m, \u001b[33mshape\u001b[0m=\u001b[1m(\u001b[0m\u001b[1;36m9811\u001b[0m, \u001b[1;36m7107\u001b[0m\u001b[1m)\u001b[0m\u001b[1m]\u001b[0m.              \n",
      "\u001b[34mINFO    \u001b[0m Solving problem BirthDeathProblem\u001b[1m[\u001b[0m\u001b[33mstage\u001b[0m=\u001b[32m'solved'\u001b[0m, \u001b[33mshape\u001b[0m=\u001b[1m(\u001b[0m\u001b[1;36m9811\u001b[0m, \u001b[1;36m7107\u001b[0m\u001b[1m)\u001b[0m\u001b[1m]\u001b[0m.              \n",
      "\u001b[34mINFO    \u001b[0m Solving problem BirthDeathProblem\u001b[1m[\u001b[0m\u001b[33mstage\u001b[0m=\u001b[32m'solved'\u001b[0m, \u001b[33mshape\u001b[0m=\u001b[1m(\u001b[0m\u001b[1;36m9811\u001b[0m, \u001b[1;36m7107\u001b[0m\u001b[1m)\u001b[0m\u001b[1m]\u001b[0m.              \n",
      "\u001b[34mINFO    \u001b[0m Solving problem BirthDeathProblem\u001b[1m[\u001b[0m\u001b[33mstage\u001b[0m=\u001b[32m'solved'\u001b[0m, \u001b[33mshape\u001b[0m=\u001b[1m(\u001b[0m\u001b[1;36m9811\u001b[0m, \u001b[1;36m7107\u001b[0m\u001b[1m)\u001b[0m\u001b[1m]\u001b[0m.              \n",
      "\u001b[34mINFO    \u001b[0m Solving problem BirthDeathProblem\u001b[1m[\u001b[0m\u001b[33mstage\u001b[0m=\u001b[32m'solved'\u001b[0m, \u001b[33mshape\u001b[0m=\u001b[1m(\u001b[0m\u001b[1;36m9811\u001b[0m, \u001b[1;36m7107\u001b[0m\u001b[1m)\u001b[0m\u001b[1m]\u001b[0m.              \n",
      "\u001b[34mINFO    \u001b[0m Solving problem BirthDeathProblem\u001b[1m[\u001b[0m\u001b[33mstage\u001b[0m=\u001b[32m'solved'\u001b[0m, \u001b[33mshape\u001b[0m=\u001b[1m(\u001b[0m\u001b[1;36m9811\u001b[0m, \u001b[1;36m7107\u001b[0m\u001b[1m)\u001b[0m\u001b[1m]\u001b[0m.              \n",
      "\u001b[34mINFO    \u001b[0m Solving problem BirthDeathProblem\u001b[1m[\u001b[0m\u001b[33mstage\u001b[0m=\u001b[32m'solved'\u001b[0m, \u001b[33mshape\u001b[0m=\u001b[1m(\u001b[0m\u001b[1;36m9811\u001b[0m, \u001b[1;36m7107\u001b[0m\u001b[1m)\u001b[0m\u001b[1m]\u001b[0m.              \n",
      "\u001b[34mINFO    \u001b[0m Solving problem BirthDeathProblem\u001b[1m[\u001b[0m\u001b[33mstage\u001b[0m=\u001b[32m'solved'\u001b[0m, \u001b[33mshape\u001b[0m=\u001b[1m(\u001b[0m\u001b[1;36m9811\u001b[0m, \u001b[1;36m7107\u001b[0m\u001b[1m)\u001b[0m\u001b[1m]\u001b[0m.              \n",
      "\u001b[34mINFO    \u001b[0m Solving problem BirthDeathProblem\u001b[1m[\u001b[0m\u001b[33mstage\u001b[0m=\u001b[32m'solved'\u001b[0m, \u001b[33mshape\u001b[0m=\u001b[1m(\u001b[0m\u001b[1;36m9811\u001b[0m, \u001b[1;36m7107\u001b[0m\u001b[1m)\u001b[0m\u001b[1m]\u001b[0m.              \n",
      "\u001b[34mINFO    \u001b[0m Solving problem BirthDeathProblem\u001b[1m[\u001b[0m\u001b[33mstage\u001b[0m=\u001b[32m'solved'\u001b[0m, \u001b[33mshape\u001b[0m=\u001b[1m(\u001b[0m\u001b[1;36m9811\u001b[0m, \u001b[1;36m7107\u001b[0m\u001b[1m)\u001b[0m\u001b[1m]\u001b[0m.              \n",
      "\u001b[34mINFO    \u001b[0m Solving problem BirthDeathProblem\u001b[1m[\u001b[0m\u001b[33mstage\u001b[0m=\u001b[32m'solved'\u001b[0m, \u001b[33mshape\u001b[0m=\u001b[1m(\u001b[0m\u001b[1;36m9811\u001b[0m, \u001b[1;36m7107\u001b[0m\u001b[1m)\u001b[0m\u001b[1m]\u001b[0m.              \n",
      "\u001b[34mINFO    \u001b[0m Solving problem BirthDeathProblem\u001b[1m[\u001b[0m\u001b[33mstage\u001b[0m=\u001b[32m'solved'\u001b[0m, \u001b[33mshape\u001b[0m=\u001b[1m(\u001b[0m\u001b[1;36m9811\u001b[0m, \u001b[1;36m7107\u001b[0m\u001b[1m)\u001b[0m\u001b[1m]\u001b[0m.              \n",
      "\u001b[34mINFO    \u001b[0m Solving problem BirthDeathProblem\u001b[1m[\u001b[0m\u001b[33mstage\u001b[0m=\u001b[32m'solved'\u001b[0m, \u001b[33mshape\u001b[0m=\u001b[1m(\u001b[0m\u001b[1;36m9811\u001b[0m, \u001b[1;36m7107\u001b[0m\u001b[1m)\u001b[0m\u001b[1m]\u001b[0m.              \n",
      "\u001b[34mINFO    \u001b[0m Solving problem BirthDeathProblem\u001b[1m[\u001b[0m\u001b[33mstage\u001b[0m=\u001b[32m'solved'\u001b[0m, \u001b[33mshape\u001b[0m=\u001b[1m(\u001b[0m\u001b[1;36m9811\u001b[0m, \u001b[1;36m7107\u001b[0m\u001b[1m)\u001b[0m\u001b[1m]\u001b[0m.              \n",
      "\u001b[34mINFO    \u001b[0m Solving problem BirthDeathProblem\u001b[1m[\u001b[0m\u001b[33mstage\u001b[0m=\u001b[32m'solved'\u001b[0m, \u001b[33mshape\u001b[0m=\u001b[1m(\u001b[0m\u001b[1;36m9811\u001b[0m, \u001b[1;36m7107\u001b[0m\u001b[1m)\u001b[0m\u001b[1m]\u001b[0m.              \n",
      "\u001b[34mINFO    \u001b[0m Solving problem BirthDeathProblem\u001b[1m[\u001b[0m\u001b[33mstage\u001b[0m=\u001b[32m'solved'\u001b[0m, \u001b[33mshape\u001b[0m=\u001b[1m(\u001b[0m\u001b[1;36m9811\u001b[0m, \u001b[1;36m7107\u001b[0m\u001b[1m)\u001b[0m\u001b[1m]\u001b[0m.              \n",
      "\u001b[34mINFO    \u001b[0m Solving problem BirthDeathProblem\u001b[1m[\u001b[0m\u001b[33mstage\u001b[0m=\u001b[32m'solved'\u001b[0m, \u001b[33mshape\u001b[0m=\u001b[1m(\u001b[0m\u001b[1;36m9811\u001b[0m, \u001b[1;36m7107\u001b[0m\u001b[1m)\u001b[0m\u001b[1m]\u001b[0m.              \n",
      "\u001b[34mINFO    \u001b[0m Solving problem BirthDeathProblem\u001b[1m[\u001b[0m\u001b[33mstage\u001b[0m=\u001b[32m'solved'\u001b[0m, \u001b[33mshape\u001b[0m=\u001b[1m(\u001b[0m\u001b[1;36m9811\u001b[0m, \u001b[1;36m7107\u001b[0m\u001b[1m)\u001b[0m\u001b[1m]\u001b[0m.              \n",
      "\u001b[34mINFO    \u001b[0m Solving problem BirthDeathProblem\u001b[1m[\u001b[0m\u001b[33mstage\u001b[0m=\u001b[32m'solved'\u001b[0m, \u001b[33mshape\u001b[0m=\u001b[1m(\u001b[0m\u001b[1;36m9811\u001b[0m, \u001b[1;36m7107\u001b[0m\u001b[1m)\u001b[0m\u001b[1m]\u001b[0m.              \n",
      "\u001b[34mINFO    \u001b[0m Solving problem BirthDeathProblem\u001b[1m[\u001b[0m\u001b[33mstage\u001b[0m=\u001b[32m'solved'\u001b[0m, \u001b[33mshape\u001b[0m=\u001b[1m(\u001b[0m\u001b[1;36m9811\u001b[0m, \u001b[1;36m7107\u001b[0m\u001b[1m)\u001b[0m\u001b[1m]\u001b[0m.              \n",
      "\u001b[34mINFO    \u001b[0m Solving problem BirthDeathProblem\u001b[1m[\u001b[0m\u001b[33mstage\u001b[0m=\u001b[32m'solved'\u001b[0m, \u001b[33mshape\u001b[0m=\u001b[1m(\u001b[0m\u001b[1;36m9811\u001b[0m, \u001b[1;36m7107\u001b[0m\u001b[1m)\u001b[0m\u001b[1m]\u001b[0m.              \n",
      "\u001b[34mINFO    \u001b[0m Solving problem BirthDeathProblem\u001b[1m[\u001b[0m\u001b[33mstage\u001b[0m=\u001b[32m'solved'\u001b[0m, \u001b[33mshape\u001b[0m=\u001b[1m(\u001b[0m\u001b[1;36m9811\u001b[0m, \u001b[1;36m7107\u001b[0m\u001b[1m)\u001b[0m\u001b[1m]\u001b[0m.              \n",
      "\u001b[34mINFO    \u001b[0m Solving problem BirthDeathProblem\u001b[1m[\u001b[0m\u001b[33mstage\u001b[0m=\u001b[32m'solved'\u001b[0m, \u001b[33mshape\u001b[0m=\u001b[1m(\u001b[0m\u001b[1;36m9811\u001b[0m, \u001b[1;36m7107\u001b[0m\u001b[1m)\u001b[0m\u001b[1m]\u001b[0m.              \n",
      "\u001b[34mINFO    \u001b[0m Solving problem BirthDeathProblem\u001b[1m[\u001b[0m\u001b[33mstage\u001b[0m=\u001b[32m'solved'\u001b[0m, \u001b[33mshape\u001b[0m=\u001b[1m(\u001b[0m\u001b[1;36m9811\u001b[0m, \u001b[1;36m7107\u001b[0m\u001b[1m)\u001b[0m\u001b[1m]\u001b[0m.              \n",
      "\u001b[34mINFO    \u001b[0m Solving problem BirthDeathProblem\u001b[1m[\u001b[0m\u001b[33mstage\u001b[0m=\u001b[32m'solved'\u001b[0m, \u001b[33mshape\u001b[0m=\u001b[1m(\u001b[0m\u001b[1;36m9811\u001b[0m, \u001b[1;36m7107\u001b[0m\u001b[1m)\u001b[0m\u001b[1m]\u001b[0m.              \n",
      "\u001b[34mINFO    \u001b[0m Solving problem BirthDeathProblem\u001b[1m[\u001b[0m\u001b[33mstage\u001b[0m=\u001b[32m'solved'\u001b[0m, \u001b[33mshape\u001b[0m=\u001b[1m(\u001b[0m\u001b[1;36m9811\u001b[0m, \u001b[1;36m7107\u001b[0m\u001b[1m)\u001b[0m\u001b[1m]\u001b[0m.              \n",
      "\u001b[34mINFO    \u001b[0m Solving problem BirthDeathProblem\u001b[1m[\u001b[0m\u001b[33mstage\u001b[0m=\u001b[32m'solved'\u001b[0m, \u001b[33mshape\u001b[0m=\u001b[1m(\u001b[0m\u001b[1;36m9811\u001b[0m, \u001b[1;36m7107\u001b[0m\u001b[1m)\u001b[0m\u001b[1m]\u001b[0m.              \n",
      "\u001b[34mINFO    \u001b[0m Solving problem BirthDeathProblem\u001b[1m[\u001b[0m\u001b[33mstage\u001b[0m=\u001b[32m'solved'\u001b[0m, \u001b[33mshape\u001b[0m=\u001b[1m(\u001b[0m\u001b[1;36m9811\u001b[0m, \u001b[1;36m7107\u001b[0m\u001b[1m)\u001b[0m\u001b[1m]\u001b[0m.              \n",
      "\u001b[34mINFO    \u001b[0m Solving problem BirthDeathProblem\u001b[1m[\u001b[0m\u001b[33mstage\u001b[0m=\u001b[32m'solved'\u001b[0m, \u001b[33mshape\u001b[0m=\u001b[1m(\u001b[0m\u001b[1;36m9811\u001b[0m, \u001b[1;36m7107\u001b[0m\u001b[1m)\u001b[0m\u001b[1m]\u001b[0m.              \n",
      "\u001b[34mINFO    \u001b[0m Solving problem BirthDeathProblem\u001b[1m[\u001b[0m\u001b[33mstage\u001b[0m=\u001b[32m'solved'\u001b[0m, \u001b[33mshape\u001b[0m=\u001b[1m(\u001b[0m\u001b[1;36m9811\u001b[0m, \u001b[1;36m7107\u001b[0m\u001b[1m)\u001b[0m\u001b[1m]\u001b[0m.              \n",
      "\u001b[34mINFO    \u001b[0m Solving problem BirthDeathProblem\u001b[1m[\u001b[0m\u001b[33mstage\u001b[0m=\u001b[32m'solved'\u001b[0m, \u001b[33mshape\u001b[0m=\u001b[1m(\u001b[0m\u001b[1;36m9811\u001b[0m, \u001b[1;36m7107\u001b[0m\u001b[1m)\u001b[0m\u001b[1m]\u001b[0m.              \n",
      "\u001b[34mINFO    \u001b[0m Solving problem BirthDeathProblem\u001b[1m[\u001b[0m\u001b[33mstage\u001b[0m=\u001b[32m'solved'\u001b[0m, \u001b[33mshape\u001b[0m=\u001b[1m(\u001b[0m\u001b[1;36m9811\u001b[0m, \u001b[1;36m7107\u001b[0m\u001b[1m)\u001b[0m\u001b[1m]\u001b[0m.              \n",
      "\u001b[34mINFO    \u001b[0m Solving problem BirthDeathProblem\u001b[1m[\u001b[0m\u001b[33mstage\u001b[0m=\u001b[32m'solved'\u001b[0m, \u001b[33mshape\u001b[0m=\u001b[1m(\u001b[0m\u001b[1;36m9811\u001b[0m, \u001b[1;36m7107\u001b[0m\u001b[1m)\u001b[0m\u001b[1m]\u001b[0m.              \n",
      "\u001b[34mINFO    \u001b[0m Solving problem BirthDeathProblem\u001b[1m[\u001b[0m\u001b[33mstage\u001b[0m=\u001b[32m'solved'\u001b[0m, \u001b[33mshape\u001b[0m=\u001b[1m(\u001b[0m\u001b[1;36m9811\u001b[0m, \u001b[1;36m7107\u001b[0m\u001b[1m)\u001b[0m\u001b[1m]\u001b[0m.              \n",
      "\u001b[34mINFO    \u001b[0m Solving problem BirthDeathProblem\u001b[1m[\u001b[0m\u001b[33mstage\u001b[0m=\u001b[32m'solved'\u001b[0m, \u001b[33mshape\u001b[0m=\u001b[1m(\u001b[0m\u001b[1;36m9811\u001b[0m, \u001b[1;36m7107\u001b[0m\u001b[1m)\u001b[0m\u001b[1m]\u001b[0m.              \n",
      "\u001b[34mINFO    \u001b[0m Solving problem BirthDeathProblem\u001b[1m[\u001b[0m\u001b[33mstage\u001b[0m=\u001b[32m'solved'\u001b[0m, \u001b[33mshape\u001b[0m=\u001b[1m(\u001b[0m\u001b[1;36m9811\u001b[0m, \u001b[1;36m7107\u001b[0m\u001b[1m)\u001b[0m\u001b[1m]\u001b[0m.              \n",
      "\u001b[34mINFO    \u001b[0m Solving problem BirthDeathProblem\u001b[1m[\u001b[0m\u001b[33mstage\u001b[0m=\u001b[32m'solved'\u001b[0m, \u001b[33mshape\u001b[0m=\u001b[1m(\u001b[0m\u001b[1;36m9811\u001b[0m, \u001b[1;36m7107\u001b[0m\u001b[1m)\u001b[0m\u001b[1m]\u001b[0m.              \n"
     ]
    },
    {
     "name": "stdout",
     "output_type": "stream",
     "text": [
      "\u001b[34mINFO    \u001b[0m Solving problem BirthDeathProblem\u001b[1m[\u001b[0m\u001b[33mstage\u001b[0m=\u001b[32m'solved'\u001b[0m, \u001b[33mshape\u001b[0m=\u001b[1m(\u001b[0m\u001b[1;36m9811\u001b[0m, \u001b[1;36m7107\u001b[0m\u001b[1m)\u001b[0m\u001b[1m]\u001b[0m.              \n",
      "\u001b[34mINFO    \u001b[0m Solving problem BirthDeathProblem\u001b[1m[\u001b[0m\u001b[33mstage\u001b[0m=\u001b[32m'solved'\u001b[0m, \u001b[33mshape\u001b[0m=\u001b[1m(\u001b[0m\u001b[1;36m9811\u001b[0m, \u001b[1;36m7107\u001b[0m\u001b[1m)\u001b[0m\u001b[1m]\u001b[0m.              \n",
      "\u001b[34mINFO    \u001b[0m Solving problem BirthDeathProblem\u001b[1m[\u001b[0m\u001b[33mstage\u001b[0m=\u001b[32m'solved'\u001b[0m, \u001b[33mshape\u001b[0m=\u001b[1m(\u001b[0m\u001b[1;36m9811\u001b[0m, \u001b[1;36m7107\u001b[0m\u001b[1m)\u001b[0m\u001b[1m]\u001b[0m.              \n"
     ]
    }
   ],
   "source": [
    "scores_scvi = {}\n",
    "for config in list(configs):\n",
    "    tp1 = tp1.solve(epsilon=config[0], tau_a=config[1], tau_b=config[2], max_iterations=1e8)\n",
    "    ct_desc = tp1.cell_transition(source=14.5, target=15.5, source_groups=\"celltype\", target_groups=\"celltype\", forward=True)\n",
    "    scores_scvi[config] = compute_score(ct_desc)"
   ]
  },
  {
   "cell_type": "code",
   "execution_count": 23,
   "id": "5f234c5c",
   "metadata": {},
   "outputs": [],
   "source": [
    "df_scvi = pd.DataFrame.from_dict([scores_scvi]).transpose()"
   ]
  },
  {
   "cell_type": "code",
   "execution_count": 24,
   "id": "63aee35d",
   "metadata": {},
   "outputs": [],
   "source": [
    "df_scvi.to_csv(\"scores_scvi_self.csv\")"
   ]
  },
  {
   "cell_type": "code",
   "execution_count": 25,
   "id": "acb63a08",
   "metadata": {},
   "outputs": [],
   "source": [
    "configs = itertools.product(epsilon, tau_a, tau_b)"
   ]
  },
  {
   "cell_type": "code",
   "execution_count": 26,
   "id": "7d4f636b",
   "metadata": {},
   "outputs": [],
   "source": [
    "tp2 = TemporalProblem(adata)\n",
    "tp2 = tp2.prepare(\"time\", joint_attr=\"X_scVI_batch_corrected\")"
   ]
  },
  {
   "cell_type": "code",
   "execution_count": 27,
   "id": "91bbbd20",
   "metadata": {},
   "outputs": [
    {
     "name": "stdout",
     "output_type": "stream",
     "text": [
      "\u001b[34mINFO    \u001b[0m Solving problem BirthDeathProblem\u001b[1m[\u001b[0m\u001b[33mstage\u001b[0m=\u001b[32m'prepared'\u001b[0m, \u001b[33mshape\u001b[0m=\u001b[1m(\u001b[0m\u001b[1;36m9811\u001b[0m, \u001b[1;36m7107\u001b[0m\u001b[1m)\u001b[0m\u001b[1m]\u001b[0m.            \n",
      "\u001b[34mINFO    \u001b[0m Solving problem BirthDeathProblem\u001b[1m[\u001b[0m\u001b[33mstage\u001b[0m=\u001b[32m'solved'\u001b[0m, \u001b[33mshape\u001b[0m=\u001b[1m(\u001b[0m\u001b[1;36m9811\u001b[0m, \u001b[1;36m7107\u001b[0m\u001b[1m)\u001b[0m\u001b[1m]\u001b[0m.              \n",
      "\u001b[34mINFO    \u001b[0m Solving problem BirthDeathProblem\u001b[1m[\u001b[0m\u001b[33mstage\u001b[0m=\u001b[32m'solved'\u001b[0m, \u001b[33mshape\u001b[0m=\u001b[1m(\u001b[0m\u001b[1;36m9811\u001b[0m, \u001b[1;36m7107\u001b[0m\u001b[1m)\u001b[0m\u001b[1m]\u001b[0m.              \n",
      "\u001b[34mINFO    \u001b[0m Solving problem BirthDeathProblem\u001b[1m[\u001b[0m\u001b[33mstage\u001b[0m=\u001b[32m'solved'\u001b[0m, \u001b[33mshape\u001b[0m=\u001b[1m(\u001b[0m\u001b[1;36m9811\u001b[0m, \u001b[1;36m7107\u001b[0m\u001b[1m)\u001b[0m\u001b[1m]\u001b[0m.              \n",
      "\u001b[34mINFO    \u001b[0m Solving problem BirthDeathProblem\u001b[1m[\u001b[0m\u001b[33mstage\u001b[0m=\u001b[32m'solved'\u001b[0m, \u001b[33mshape\u001b[0m=\u001b[1m(\u001b[0m\u001b[1;36m9811\u001b[0m, \u001b[1;36m7107\u001b[0m\u001b[1m)\u001b[0m\u001b[1m]\u001b[0m.              \n",
      "\u001b[34mINFO    \u001b[0m Solving problem BirthDeathProblem\u001b[1m[\u001b[0m\u001b[33mstage\u001b[0m=\u001b[32m'solved'\u001b[0m, \u001b[33mshape\u001b[0m=\u001b[1m(\u001b[0m\u001b[1;36m9811\u001b[0m, \u001b[1;36m7107\u001b[0m\u001b[1m)\u001b[0m\u001b[1m]\u001b[0m.              \n",
      "\u001b[34mINFO    \u001b[0m Solving problem BirthDeathProblem\u001b[1m[\u001b[0m\u001b[33mstage\u001b[0m=\u001b[32m'solved'\u001b[0m, \u001b[33mshape\u001b[0m=\u001b[1m(\u001b[0m\u001b[1;36m9811\u001b[0m, \u001b[1;36m7107\u001b[0m\u001b[1m)\u001b[0m\u001b[1m]\u001b[0m.              \n",
      "\u001b[34mINFO    \u001b[0m Solving problem BirthDeathProblem\u001b[1m[\u001b[0m\u001b[33mstage\u001b[0m=\u001b[32m'solved'\u001b[0m, \u001b[33mshape\u001b[0m=\u001b[1m(\u001b[0m\u001b[1;36m9811\u001b[0m, \u001b[1;36m7107\u001b[0m\u001b[1m)\u001b[0m\u001b[1m]\u001b[0m.              \n",
      "\u001b[34mINFO    \u001b[0m Solving problem BirthDeathProblem\u001b[1m[\u001b[0m\u001b[33mstage\u001b[0m=\u001b[32m'solved'\u001b[0m, \u001b[33mshape\u001b[0m=\u001b[1m(\u001b[0m\u001b[1;36m9811\u001b[0m, \u001b[1;36m7107\u001b[0m\u001b[1m)\u001b[0m\u001b[1m]\u001b[0m.              \n",
      "\u001b[34mINFO    \u001b[0m Solving problem BirthDeathProblem\u001b[1m[\u001b[0m\u001b[33mstage\u001b[0m=\u001b[32m'solved'\u001b[0m, \u001b[33mshape\u001b[0m=\u001b[1m(\u001b[0m\u001b[1;36m9811\u001b[0m, \u001b[1;36m7107\u001b[0m\u001b[1m)\u001b[0m\u001b[1m]\u001b[0m.              \n",
      "\u001b[34mINFO    \u001b[0m Solving problem BirthDeathProblem\u001b[1m[\u001b[0m\u001b[33mstage\u001b[0m=\u001b[32m'solved'\u001b[0m, \u001b[33mshape\u001b[0m=\u001b[1m(\u001b[0m\u001b[1;36m9811\u001b[0m, \u001b[1;36m7107\u001b[0m\u001b[1m)\u001b[0m\u001b[1m]\u001b[0m.              \n",
      "\u001b[34mINFO    \u001b[0m Solving problem BirthDeathProblem\u001b[1m[\u001b[0m\u001b[33mstage\u001b[0m=\u001b[32m'solved'\u001b[0m, \u001b[33mshape\u001b[0m=\u001b[1m(\u001b[0m\u001b[1;36m9811\u001b[0m, \u001b[1;36m7107\u001b[0m\u001b[1m)\u001b[0m\u001b[1m]\u001b[0m.              \n",
      "\u001b[34mINFO    \u001b[0m Solving problem BirthDeathProblem\u001b[1m[\u001b[0m\u001b[33mstage\u001b[0m=\u001b[32m'solved'\u001b[0m, \u001b[33mshape\u001b[0m=\u001b[1m(\u001b[0m\u001b[1;36m9811\u001b[0m, \u001b[1;36m7107\u001b[0m\u001b[1m)\u001b[0m\u001b[1m]\u001b[0m.              \n",
      "\u001b[34mINFO    \u001b[0m Solving problem BirthDeathProblem\u001b[1m[\u001b[0m\u001b[33mstage\u001b[0m=\u001b[32m'solved'\u001b[0m, \u001b[33mshape\u001b[0m=\u001b[1m(\u001b[0m\u001b[1;36m9811\u001b[0m, \u001b[1;36m7107\u001b[0m\u001b[1m)\u001b[0m\u001b[1m]\u001b[0m.              \n",
      "\u001b[34mINFO    \u001b[0m Solving problem BirthDeathProblem\u001b[1m[\u001b[0m\u001b[33mstage\u001b[0m=\u001b[32m'solved'\u001b[0m, \u001b[33mshape\u001b[0m=\u001b[1m(\u001b[0m\u001b[1;36m9811\u001b[0m, \u001b[1;36m7107\u001b[0m\u001b[1m)\u001b[0m\u001b[1m]\u001b[0m.              \n",
      "\u001b[34mINFO    \u001b[0m Solving problem BirthDeathProblem\u001b[1m[\u001b[0m\u001b[33mstage\u001b[0m=\u001b[32m'solved'\u001b[0m, \u001b[33mshape\u001b[0m=\u001b[1m(\u001b[0m\u001b[1;36m9811\u001b[0m, \u001b[1;36m7107\u001b[0m\u001b[1m)\u001b[0m\u001b[1m]\u001b[0m.              \n",
      "\u001b[34mINFO    \u001b[0m Solving problem BirthDeathProblem\u001b[1m[\u001b[0m\u001b[33mstage\u001b[0m=\u001b[32m'solved'\u001b[0m, \u001b[33mshape\u001b[0m=\u001b[1m(\u001b[0m\u001b[1;36m9811\u001b[0m, \u001b[1;36m7107\u001b[0m\u001b[1m)\u001b[0m\u001b[1m]\u001b[0m.              \n",
      "\u001b[34mINFO    \u001b[0m Solving problem BirthDeathProblem\u001b[1m[\u001b[0m\u001b[33mstage\u001b[0m=\u001b[32m'solved'\u001b[0m, \u001b[33mshape\u001b[0m=\u001b[1m(\u001b[0m\u001b[1;36m9811\u001b[0m, \u001b[1;36m7107\u001b[0m\u001b[1m)\u001b[0m\u001b[1m]\u001b[0m.              \n",
      "\u001b[34mINFO    \u001b[0m Solving problem BirthDeathProblem\u001b[1m[\u001b[0m\u001b[33mstage\u001b[0m=\u001b[32m'solved'\u001b[0m, \u001b[33mshape\u001b[0m=\u001b[1m(\u001b[0m\u001b[1;36m9811\u001b[0m, \u001b[1;36m7107\u001b[0m\u001b[1m)\u001b[0m\u001b[1m]\u001b[0m.              \n",
      "\u001b[34mINFO    \u001b[0m Solving problem BirthDeathProblem\u001b[1m[\u001b[0m\u001b[33mstage\u001b[0m=\u001b[32m'solved'\u001b[0m, \u001b[33mshape\u001b[0m=\u001b[1m(\u001b[0m\u001b[1;36m9811\u001b[0m, \u001b[1;36m7107\u001b[0m\u001b[1m)\u001b[0m\u001b[1m]\u001b[0m.              \n",
      "\u001b[34mINFO    \u001b[0m Solving problem BirthDeathProblem\u001b[1m[\u001b[0m\u001b[33mstage\u001b[0m=\u001b[32m'solved'\u001b[0m, \u001b[33mshape\u001b[0m=\u001b[1m(\u001b[0m\u001b[1;36m9811\u001b[0m, \u001b[1;36m7107\u001b[0m\u001b[1m)\u001b[0m\u001b[1m]\u001b[0m.              \n",
      "\u001b[34mINFO    \u001b[0m Solving problem BirthDeathProblem\u001b[1m[\u001b[0m\u001b[33mstage\u001b[0m=\u001b[32m'solved'\u001b[0m, \u001b[33mshape\u001b[0m=\u001b[1m(\u001b[0m\u001b[1;36m9811\u001b[0m, \u001b[1;36m7107\u001b[0m\u001b[1m)\u001b[0m\u001b[1m]\u001b[0m.              \n",
      "\u001b[34mINFO    \u001b[0m Solving problem BirthDeathProblem\u001b[1m[\u001b[0m\u001b[33mstage\u001b[0m=\u001b[32m'solved'\u001b[0m, \u001b[33mshape\u001b[0m=\u001b[1m(\u001b[0m\u001b[1;36m9811\u001b[0m, \u001b[1;36m7107\u001b[0m\u001b[1m)\u001b[0m\u001b[1m]\u001b[0m.              \n",
      "\u001b[34mINFO    \u001b[0m Solving problem BirthDeathProblem\u001b[1m[\u001b[0m\u001b[33mstage\u001b[0m=\u001b[32m'solved'\u001b[0m, \u001b[33mshape\u001b[0m=\u001b[1m(\u001b[0m\u001b[1;36m9811\u001b[0m, \u001b[1;36m7107\u001b[0m\u001b[1m)\u001b[0m\u001b[1m]\u001b[0m.              \n",
      "\u001b[34mINFO    \u001b[0m Solving problem BirthDeathProblem\u001b[1m[\u001b[0m\u001b[33mstage\u001b[0m=\u001b[32m'solved'\u001b[0m, \u001b[33mshape\u001b[0m=\u001b[1m(\u001b[0m\u001b[1;36m9811\u001b[0m, \u001b[1;36m7107\u001b[0m\u001b[1m)\u001b[0m\u001b[1m]\u001b[0m.              \n",
      "\u001b[34mINFO    \u001b[0m Solving problem BirthDeathProblem\u001b[1m[\u001b[0m\u001b[33mstage\u001b[0m=\u001b[32m'solved'\u001b[0m, \u001b[33mshape\u001b[0m=\u001b[1m(\u001b[0m\u001b[1;36m9811\u001b[0m, \u001b[1;36m7107\u001b[0m\u001b[1m)\u001b[0m\u001b[1m]\u001b[0m.              \n",
      "\u001b[34mINFO    \u001b[0m Solving problem BirthDeathProblem\u001b[1m[\u001b[0m\u001b[33mstage\u001b[0m=\u001b[32m'solved'\u001b[0m, \u001b[33mshape\u001b[0m=\u001b[1m(\u001b[0m\u001b[1;36m9811\u001b[0m, \u001b[1;36m7107\u001b[0m\u001b[1m)\u001b[0m\u001b[1m]\u001b[0m.              \n",
      "\u001b[34mINFO    \u001b[0m Solving problem BirthDeathProblem\u001b[1m[\u001b[0m\u001b[33mstage\u001b[0m=\u001b[32m'solved'\u001b[0m, \u001b[33mshape\u001b[0m=\u001b[1m(\u001b[0m\u001b[1;36m9811\u001b[0m, \u001b[1;36m7107\u001b[0m\u001b[1m)\u001b[0m\u001b[1m]\u001b[0m.              \n",
      "\u001b[34mINFO    \u001b[0m Solving problem BirthDeathProblem\u001b[1m[\u001b[0m\u001b[33mstage\u001b[0m=\u001b[32m'solved'\u001b[0m, \u001b[33mshape\u001b[0m=\u001b[1m(\u001b[0m\u001b[1;36m9811\u001b[0m, \u001b[1;36m7107\u001b[0m\u001b[1m)\u001b[0m\u001b[1m]\u001b[0m.              \n",
      "\u001b[34mINFO    \u001b[0m Solving problem BirthDeathProblem\u001b[1m[\u001b[0m\u001b[33mstage\u001b[0m=\u001b[32m'solved'\u001b[0m, \u001b[33mshape\u001b[0m=\u001b[1m(\u001b[0m\u001b[1;36m9811\u001b[0m, \u001b[1;36m7107\u001b[0m\u001b[1m)\u001b[0m\u001b[1m]\u001b[0m.              \n",
      "\u001b[34mINFO    \u001b[0m Solving problem BirthDeathProblem\u001b[1m[\u001b[0m\u001b[33mstage\u001b[0m=\u001b[32m'solved'\u001b[0m, \u001b[33mshape\u001b[0m=\u001b[1m(\u001b[0m\u001b[1;36m9811\u001b[0m, \u001b[1;36m7107\u001b[0m\u001b[1m)\u001b[0m\u001b[1m]\u001b[0m.              \n",
      "\u001b[34mINFO    \u001b[0m Solving problem BirthDeathProblem\u001b[1m[\u001b[0m\u001b[33mstage\u001b[0m=\u001b[32m'solved'\u001b[0m, \u001b[33mshape\u001b[0m=\u001b[1m(\u001b[0m\u001b[1;36m9811\u001b[0m, \u001b[1;36m7107\u001b[0m\u001b[1m)\u001b[0m\u001b[1m]\u001b[0m.              \n",
      "\u001b[34mINFO    \u001b[0m Solving problem BirthDeathProblem\u001b[1m[\u001b[0m\u001b[33mstage\u001b[0m=\u001b[32m'solved'\u001b[0m, \u001b[33mshape\u001b[0m=\u001b[1m(\u001b[0m\u001b[1;36m9811\u001b[0m, \u001b[1;36m7107\u001b[0m\u001b[1m)\u001b[0m\u001b[1m]\u001b[0m.              \n",
      "\u001b[34mINFO    \u001b[0m Solving problem BirthDeathProblem\u001b[1m[\u001b[0m\u001b[33mstage\u001b[0m=\u001b[32m'solved'\u001b[0m, \u001b[33mshape\u001b[0m=\u001b[1m(\u001b[0m\u001b[1;36m9811\u001b[0m, \u001b[1;36m7107\u001b[0m\u001b[1m)\u001b[0m\u001b[1m]\u001b[0m.              \n",
      "\u001b[34mINFO    \u001b[0m Solving problem BirthDeathProblem\u001b[1m[\u001b[0m\u001b[33mstage\u001b[0m=\u001b[32m'solved'\u001b[0m, \u001b[33mshape\u001b[0m=\u001b[1m(\u001b[0m\u001b[1;36m9811\u001b[0m, \u001b[1;36m7107\u001b[0m\u001b[1m)\u001b[0m\u001b[1m]\u001b[0m.              \n",
      "\u001b[34mINFO    \u001b[0m Solving problem BirthDeathProblem\u001b[1m[\u001b[0m\u001b[33mstage\u001b[0m=\u001b[32m'solved'\u001b[0m, \u001b[33mshape\u001b[0m=\u001b[1m(\u001b[0m\u001b[1;36m9811\u001b[0m, \u001b[1;36m7107\u001b[0m\u001b[1m)\u001b[0m\u001b[1m]\u001b[0m.              \n",
      "\u001b[34mINFO    \u001b[0m Solving problem BirthDeathProblem\u001b[1m[\u001b[0m\u001b[33mstage\u001b[0m=\u001b[32m'solved'\u001b[0m, \u001b[33mshape\u001b[0m=\u001b[1m(\u001b[0m\u001b[1;36m9811\u001b[0m, \u001b[1;36m7107\u001b[0m\u001b[1m)\u001b[0m\u001b[1m]\u001b[0m.              \n",
      "\u001b[34mINFO    \u001b[0m Solving problem BirthDeathProblem\u001b[1m[\u001b[0m\u001b[33mstage\u001b[0m=\u001b[32m'solved'\u001b[0m, \u001b[33mshape\u001b[0m=\u001b[1m(\u001b[0m\u001b[1;36m9811\u001b[0m, \u001b[1;36m7107\u001b[0m\u001b[1m)\u001b[0m\u001b[1m]\u001b[0m.              \n",
      "\u001b[34mINFO    \u001b[0m Solving problem BirthDeathProblem\u001b[1m[\u001b[0m\u001b[33mstage\u001b[0m=\u001b[32m'solved'\u001b[0m, \u001b[33mshape\u001b[0m=\u001b[1m(\u001b[0m\u001b[1;36m9811\u001b[0m, \u001b[1;36m7107\u001b[0m\u001b[1m)\u001b[0m\u001b[1m]\u001b[0m.              \n",
      "\u001b[34mINFO    \u001b[0m Solving problem BirthDeathProblem\u001b[1m[\u001b[0m\u001b[33mstage\u001b[0m=\u001b[32m'solved'\u001b[0m, \u001b[33mshape\u001b[0m=\u001b[1m(\u001b[0m\u001b[1;36m9811\u001b[0m, \u001b[1;36m7107\u001b[0m\u001b[1m)\u001b[0m\u001b[1m]\u001b[0m.              \n",
      "\u001b[34mINFO    \u001b[0m Solving problem BirthDeathProblem\u001b[1m[\u001b[0m\u001b[33mstage\u001b[0m=\u001b[32m'solved'\u001b[0m, \u001b[33mshape\u001b[0m=\u001b[1m(\u001b[0m\u001b[1;36m9811\u001b[0m, \u001b[1;36m7107\u001b[0m\u001b[1m)\u001b[0m\u001b[1m]\u001b[0m.              \n",
      "\u001b[34mINFO    \u001b[0m Solving problem BirthDeathProblem\u001b[1m[\u001b[0m\u001b[33mstage\u001b[0m=\u001b[32m'solved'\u001b[0m, \u001b[33mshape\u001b[0m=\u001b[1m(\u001b[0m\u001b[1;36m9811\u001b[0m, \u001b[1;36m7107\u001b[0m\u001b[1m)\u001b[0m\u001b[1m]\u001b[0m.              \n",
      "\u001b[34mINFO    \u001b[0m Solving problem BirthDeathProblem\u001b[1m[\u001b[0m\u001b[33mstage\u001b[0m=\u001b[32m'solved'\u001b[0m, \u001b[33mshape\u001b[0m=\u001b[1m(\u001b[0m\u001b[1;36m9811\u001b[0m, \u001b[1;36m7107\u001b[0m\u001b[1m)\u001b[0m\u001b[1m]\u001b[0m.              \n",
      "\u001b[34mINFO    \u001b[0m Solving problem BirthDeathProblem\u001b[1m[\u001b[0m\u001b[33mstage\u001b[0m=\u001b[32m'solved'\u001b[0m, \u001b[33mshape\u001b[0m=\u001b[1m(\u001b[0m\u001b[1;36m9811\u001b[0m, \u001b[1;36m7107\u001b[0m\u001b[1m)\u001b[0m\u001b[1m]\u001b[0m.              \n",
      "\u001b[34mINFO    \u001b[0m Solving problem BirthDeathProblem\u001b[1m[\u001b[0m\u001b[33mstage\u001b[0m=\u001b[32m'solved'\u001b[0m, \u001b[33mshape\u001b[0m=\u001b[1m(\u001b[0m\u001b[1;36m9811\u001b[0m, \u001b[1;36m7107\u001b[0m\u001b[1m)\u001b[0m\u001b[1m]\u001b[0m.              \n"
     ]
    },
    {
     "name": "stdout",
     "output_type": "stream",
     "text": [
      "\u001b[34mINFO    \u001b[0m Solving problem BirthDeathProblem\u001b[1m[\u001b[0m\u001b[33mstage\u001b[0m=\u001b[32m'solved'\u001b[0m, \u001b[33mshape\u001b[0m=\u001b[1m(\u001b[0m\u001b[1;36m9811\u001b[0m, \u001b[1;36m7107\u001b[0m\u001b[1m)\u001b[0m\u001b[1m]\u001b[0m.              \n",
      "\u001b[34mINFO    \u001b[0m Solving problem BirthDeathProblem\u001b[1m[\u001b[0m\u001b[33mstage\u001b[0m=\u001b[32m'solved'\u001b[0m, \u001b[33mshape\u001b[0m=\u001b[1m(\u001b[0m\u001b[1;36m9811\u001b[0m, \u001b[1;36m7107\u001b[0m\u001b[1m)\u001b[0m\u001b[1m]\u001b[0m.              \n",
      "\u001b[34mINFO    \u001b[0m Solving problem BirthDeathProblem\u001b[1m[\u001b[0m\u001b[33mstage\u001b[0m=\u001b[32m'solved'\u001b[0m, \u001b[33mshape\u001b[0m=\u001b[1m(\u001b[0m\u001b[1;36m9811\u001b[0m, \u001b[1;36m7107\u001b[0m\u001b[1m)\u001b[0m\u001b[1m]\u001b[0m.              \n"
     ]
    }
   ],
   "source": [
    "scores_scvi_bc = {}\n",
    "for config in list(configs):\n",
    "    tp2 = tp2.solve(epsilon=config[0], tau_a=config[1], tau_b=config[2], max_iterations=1e8)\n",
    "    ct_desc = tp2.cell_transition(source=14.5, target=15.5, source_groups=\"celltype\", target_groups=\"celltype\", forward=True)\n",
    "    scores_scvi_bc[config] = compute_score(ct_desc)"
   ]
  },
  {
   "cell_type": "code",
   "execution_count": 28,
   "id": "ed7f457a",
   "metadata": {},
   "outputs": [],
   "source": [
    "df_scvi_bc = pd.DataFrame.from_dict([scores_scvi_bc]).transpose()"
   ]
  },
  {
   "cell_type": "code",
   "execution_count": 29,
   "id": "7328b420",
   "metadata": {},
   "outputs": [],
   "source": [
    "df_scvi_bc.to_csv(\"scores_scvi_bc_self.csv\")"
   ]
  }
 ],
 "metadata": {
  "kernelspec": {
   "display_name": "jax_gpu3",
   "language": "python",
   "name": "jax_gpu3"
  },
  "language_info": {
   "codemirror_mode": {
    "name": "ipython",
    "version": 3
   },
   "file_extension": ".py",
   "mimetype": "text/x-python",
   "name": "python",
   "nbconvert_exporter": "python",
   "pygments_lexer": "ipython3",
   "version": "3.8.13"
  }
 },
 "nbformat": 4,
 "nbformat_minor": 5
}
