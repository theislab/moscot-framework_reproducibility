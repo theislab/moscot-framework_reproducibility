{
 "cells": [
  {
   "cell_type": "code",
   "execution_count": 10,
   "id": "db211425-a4ca-4618-a008-9fcd71a35bed",
   "metadata": {},
   "outputs": [],
   "source": [
    "import scanpy as sc\n",
    "import pandas as pd"
   ]
  },
  {
   "cell_type": "code",
   "execution_count": 2,
   "id": "00f0480e-91d1-4394-b19c-6e43522647f0",
   "metadata": {},
   "outputs": [],
   "source": [
    "adata = sc.read('/Users/dominik.klein/data/E14-E15_adata_filtered_rmDoublets.h5ad')"
   ]
  },
  {
   "cell_type": "code",
   "execution_count": 6,
   "id": "99d9edb5-2bad-4352-8a3c-d762309a900d",
   "metadata": {},
   "outputs": [],
   "source": [
    "filtered_var=adata.var_names"
   ]
  },
  {
   "cell_type": "code",
   "execution_count": 11,
   "id": "cd2051bc-c405-4fa0-9639-6e1166726d07",
   "metadata": {},
   "outputs": [],
   "source": [
    "pd.DataFrame(filtered_var).to_csv('/Users/dominik.klein/data/filtered_vars_helper.h5ad')"
   ]
  },
  {
   "cell_type": "code",
   "execution_count": null,
   "id": "036b3c7a-2290-4177-8f20-6b4fdf362044",
   "metadata": {},
   "outputs": [],
   "source": []
  }
 ],
 "metadata": {
  "kernelspec": {
   "display_name": "mm_best_muon_full",
   "language": "python",
   "name": "mm_best_muon_full"
  },
  "language_info": {
   "codemirror_mode": {
    "name": "ipython",
    "version": 3
   },
   "file_extension": ".py",
   "mimetype": "text/x-python",
   "name": "python",
   "nbconvert_exporter": "python",
   "pygments_lexer": "ipython3",
   "version": "3.9.13"
  }
 },
 "nbformat": 4,
 "nbformat_minor": 5
}
