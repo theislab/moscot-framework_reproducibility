{
 "cells": [
  {
   "cell_type": "raw",
   "metadata": {},
   "source": [
    "---\n",
    "title: \"scMultiome NVF E14.5 Pancreatic Cells - DropletUtils\"\n",
    "author: \"Michael Sterr\"\n",
    "date: \"`r format(Sys.time(), '%d %B, %Y')`\"\n",
    "output:\n",
    "  html_document:\n",
    "    code_folding: hide\n",
    "    toc: true\n",
    "    toc_depth: 3\n",
    "    toc_float: true \n",
    "---"
   ]
  },
  {
   "cell_type": "code",
   "execution_count": null,
   "metadata": {
    "name": "setup",
    "tags": [
     "remove_cell"
    ]
   },
   "outputs": [],
   "source": [
    "knitr::opts_chunk$set(echo = TRUE, message=FALSE, warning=FALSE)"
   ]
  },
  {
   "cell_type": "markdown",
   "metadata": {},
   "source": [
    "# Setup"
   ]
  },
  {
   "cell_type": "code",
   "execution_count": null,
   "metadata": {},
   "outputs": [],
   "source": [
    "# General\n",
    "library(tidyverse) # incl. ggplot2\n",
    "library(rhdf5)\n",
    "library(Matrix)\n",
    "library(SingleCellExperiment)\n",
    "library(DropletUtils)\n",
    "\n",
    "# Parallelization\n",
    "library(BiocParallel)\n",
    "register(MulticoreParam(64, progressbar = TRUE))"
   ]
  },
  {
   "cell_type": "code",
   "execution_count": null,
   "metadata": {},
   "outputs": [],
   "source": [
    "samples = c('E14-5','E15-5')\n",
    "base_path = '/storage/scRNA-seq/scMultiome_Mouse-Islets_NVF-E14.5_210044/data/cr_arc/cr_count/'\n",
    "outs_path = '/outs/'\n",
    "\n",
    "for(i in 1:length(samples)){\n",
    "  path_to_adata = paste0(base_path, samples[i], outs_path, samples[i], \"_raw_gex_bc_matrix.h5ad\")\n",
    "  \n",
    "  print(paste0('Loading ',path_to_adata))\n",
    "\n",
    "  adata <- h5read(path_to_adata, \"/\", compoundAsDataFrame=FALSE)\n",
    "\n",
    "  barcodes <- adata$obs$`_index`\n",
    "  genes <- adata$var$`_index`\n",
    "  counts <- adata$X$data\n",
    "  indices <- adata$X$indices\n",
    "  pointer <- adata$X$indptr\n",
    "\n",
    "  print(\"Construct SingleCellExperiment object as input for DropUtils\")\n",
    "  sparse_mat <- sparseMatrix(p = as.numeric(pointer), x= as.numeric(counts),  i = as.numeric(indices)+1)\n",
    "  sce <- SingleCellExperiment(assays = list(counts = sparse_mat), colData=barcodes)\n",
    "  rownames(sce) <- genes\n",
    "\n",
    "  print(\"Computing barcode ranks\")\n",
    "  barcode_ranks <- barcodeRanks(counts(sce))\n",
    "\n",
    "  print(\"Run DropUtils\")\n",
    "  drops <- emptyDrops(counts(sce))\n",
    "  rownames(drops) <- colData(sce)$X\n",
    "  is_cell <- drops$FDR <= 0.05\n",
    "  \n",
    "  plot(barcode_ranks$rank, barcode_ranks$total, col=ifelse(is_cell, \"firebrick2\", \"black\"), log=\"xy\", xlab=\"Rank\", ylab=\"Total\", main=paste0(samples[i],\" (\", table(is_cell)['TRUE'],\" cells)\"))\n",
    "  o <- order(barcode_ranks$rank)\n",
    "  lines(barcode_ranks$rank[o], barcode_ranks$fitted[o], col=\"red\")\n",
    "  abline(h=metadata(barcode_ranks)$knee, col=\"dodgerblue\", lty=2)\n",
    "  abline(h=metadata(barcode_ranks)$inflection, col=\"forestgreen\", lty=2)\n",
    "  legend(\"bottomleft\", lty=2, col=c(\"dodgerblue\", \"forestgreen\"), legend=c(\"knee\", \"inflection\"))\n",
    "\n",
    "  plot(drops$Total, -drops$LogProb, col=ifelse(is_cell, \"red\", \"black\"), xlab=\"Total UMI count\", ylab=\"-Log Probability\", main=paste0(samples[i],\" (\", table(is_cell)['TRUE'],\" cells)\"))\n",
    "\n",
    "  print(\"Save output\")\n",
    "  cell_barcodes <- barcodes[which(is_cell)]\n",
    "  write.csv(cell_barcodes, file=paste0(base_path, samples[i], outs_path, samples[i], \"_DropletUtils_CellBarcodes.csv\"))\n",
    "\n",
    "  ambient_genes <- drops@metadata$ambient\n",
    "  write.csv(data.frame(ambient_genes), file=paste0(base_path, samples[i], outs_path, samples[i], \"_DropletUtils_AmbientGenes.csv\"))\n",
    "  \n",
    "  cell_probs <- drops$LogProb\n",
    "  write.csv(data.frame(barcodes=rownames(drops), cell_probs=cell_probs), file=paste0(base_path, samples[i], outs_path, samples[i], \"_DropletUtils_LogProbabilities.csv\"))\n",
    "}"
   ]
  },
  {
   "cell_type": "code",
   "execution_count": null,
   "metadata": {
    "lines_to_next_cell": 0
   },
   "outputs": [],
   "source": [
    "sessionInfo()"
   ]
  },
  {
   "cell_type": "markdown",
   "metadata": {},
   "source": [
    "\n"
   ]
  }
 ],
 "metadata": {
  "jupytext": {
   "cell_metadata_filter": "name,tags,-all",
   "main_language": "R",
   "notebook_metadata_filter": "-all"
  },
  "kernelspec": {
   "display_name": "Python 2",
   "language": "python",
   "name": "python2"
  },
  "language_info": {
   "codemirror_mode": {
    "name": "ipython",
    "version": 2
   },
   "file_extension": ".py",
   "mimetype": "text/x-python",
   "name": "python",
   "nbconvert_exporter": "python",
   "pygments_lexer": "ipython2",
   "version": "2.7.5"
  }
 },
 "nbformat": 4,
 "nbformat_minor": 5
}
