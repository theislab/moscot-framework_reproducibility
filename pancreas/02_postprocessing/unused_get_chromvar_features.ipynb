{
 "cells": [
  {
   "cell_type": "code",
   "execution_count": 1,
   "id": "b72caacf-b21f-43f3-a573-d4481141cee5",
   "metadata": {},
   "outputs": [
    {
     "name": "stderr",
     "output_type": "stream",
     "text": [
      "Attaching SeuratObject\n",
      "\n",
      "Attaching sp\n",
      "\n",
      "── \u001b[1mAttaching packages\u001b[22m ────────────────────────────────────────────────────────────────────────────────── tidyverse 1.3.2 ──\n",
      "\u001b[32m✔\u001b[39m \u001b[34mtibble \u001b[39m 3.1.8     \u001b[32m✔\u001b[39m \u001b[34mdplyr  \u001b[39m 1.0.9\n",
      "\u001b[32m✔\u001b[39m \u001b[34mtidyr  \u001b[39m 1.2.0     \u001b[32m✔\u001b[39m \u001b[34mstringr\u001b[39m 1.5.0\n",
      "\u001b[32m✔\u001b[39m \u001b[34mreadr  \u001b[39m 2.1.3     \u001b[32m✔\u001b[39m \u001b[34mforcats\u001b[39m 0.5.1\n",
      "\u001b[32m✔\u001b[39m \u001b[34mpurrr  \u001b[39m 0.3.4     \n",
      "── \u001b[1mConflicts\u001b[22m ───────────────────────────────────────────────────────────────────────────────────── tidyverse_conflicts() ──\n",
      "\u001b[31m✖\u001b[39m \u001b[34mdplyr\u001b[39m::\u001b[32mfilter()\u001b[39m   masks \u001b[34mstats\u001b[39m::filter()\n",
      "\u001b[31m✖\u001b[39m \u001b[34mdplyr\u001b[39m::\u001b[32mlag()\u001b[39m      masks \u001b[34mstats\u001b[39m::lag()\n",
      "\u001b[31m✖\u001b[39m \u001b[34mreadr\u001b[39m::\u001b[32mread_csv()\u001b[39m masks \u001b[34manndata\u001b[39m::read_csv()\n",
      "\u001b[31m✖\u001b[39m \u001b[34mpurrr\u001b[39m::\u001b[32mreduce()\u001b[39m   masks \u001b[34mSignac\u001b[39m::reduce()\n",
      "Lade nötiges Paket: BSgenome\n",
      "\n",
      "Lade nötiges Paket: BiocGenerics\n",
      "\n",
      "\n",
      "Attache Paket: ‘BiocGenerics’\n",
      "\n",
      "\n",
      "Die folgenden Objekte sind maskiert von ‘package:dplyr’:\n",
      "\n",
      "    combine, intersect, setdiff, union\n",
      "\n",
      "\n",
      "Die folgenden Objekte sind maskiert von ‘package:stats’:\n",
      "\n",
      "    IQR, mad, sd, var, xtabs\n",
      "\n",
      "\n",
      "Die folgenden Objekte sind maskiert von ‘package:base’:\n",
      "\n",
      "    Filter, Find, Map, Position, Reduce, anyDuplicated, append,\n",
      "    as.data.frame, basename, cbind, colnames, dirname, do.call,\n",
      "    duplicated, eval, evalq, get, grep, grepl, intersect, is.unsorted,\n",
      "    lapply, mapply, match, mget, order, paste, pmax, pmax.int, pmin,\n",
      "    pmin.int, rank, rbind, rownames, sapply, setdiff, sort, table,\n",
      "    tapply, union, unique, unsplit, which.max, which.min\n",
      "\n",
      "\n",
      "Lade nötiges Paket: S4Vectors\n",
      "\n",
      "Lade nötiges Paket: stats4\n",
      "\n",
      "\n",
      "Attache Paket: ‘S4Vectors’\n",
      "\n",
      "\n",
      "Die folgenden Objekte sind maskiert von ‘package:dplyr’:\n",
      "\n",
      "    first, rename\n",
      "\n",
      "\n",
      "Das folgende Objekt ist maskiert ‘package:tidyr’:\n",
      "\n",
      "    expand\n",
      "\n",
      "\n",
      "Die folgenden Objekte sind maskiert von ‘package:base’:\n",
      "\n",
      "    I, expand.grid, unname\n",
      "\n",
      "\n",
      "Lade nötiges Paket: IRanges\n",
      "\n",
      "\n",
      "Attache Paket: ‘IRanges’\n",
      "\n",
      "\n",
      "Die folgenden Objekte sind maskiert von ‘package:dplyr’:\n",
      "\n",
      "    collapse, desc, slice\n",
      "\n",
      "\n",
      "Das folgende Objekt ist maskiert ‘package:purrr’:\n",
      "\n",
      "    reduce\n",
      "\n",
      "\n",
      "Das folgende Objekt ist maskiert ‘package:sp’:\n",
      "\n",
      "    %over%\n",
      "\n",
      "\n",
      "Lade nötiges Paket: GenomeInfoDb\n",
      "\n",
      "Lade nötiges Paket: GenomicRanges\n",
      "\n",
      "Lade nötiges Paket: Biostrings\n",
      "\n",
      "Lade nötiges Paket: XVector\n",
      "\n",
      "\n",
      "Attache Paket: ‘XVector’\n",
      "\n",
      "\n",
      "Das folgende Objekt ist maskiert ‘package:purrr’:\n",
      "\n",
      "    compact\n",
      "\n",
      "\n",
      "\n",
      "Attache Paket: ‘Biostrings’\n",
      "\n",
      "\n",
      "Das folgende Objekt ist maskiert ‘package:base’:\n",
      "\n",
      "    strsplit\n",
      "\n",
      "\n",
      "Lade nötiges Paket: rtracklayer\n",
      "\n"
     ]
    },
    {
     "ename": "ERROR",
     "evalue": "Error in library(EnsDb.Mmusculus.v102): es gibt kein Paket namens ‘EnsDb.Mmusculus.v102’\n",
     "output_type": "error",
     "traceback": [
      "Error in library(EnsDb.Mmusculus.v102): es gibt kein Paket namens ‘EnsDb.Mmusculus.v102’\nTraceback:\n",
      "1. library(EnsDb.Mmusculus.v102)"
     ]
    }
   ],
   "source": [
    "library(anndata)\n",
    "library(Signac)\n",
    "library(Seurat)\n",
    "library(anndata)\n",
    "library(ggplot2)\n",
    "library(tidyverse)\n",
    "library(Signac)\n",
    "library(Seurat)\n",
    "#library(EnsDb.Mmusculus.v102)\n",
    "library(BSgenome.Mmusculus.UCSC.mm10)\n",
    "library(EnsDb.Mmusculus.v102)\n",
    "#library(pastecs)\n",
    "library(stringr)"
   ]
  },
  {
   "cell_type": "code",
   "execution_count": 2,
   "id": "dffe2b90-4dc0-4fcc-b5d5-4089a3a74f1f",
   "metadata": {},
   "outputs": [
    {
     "data": {
      "text/plain": [
       "               _                           \n",
       "platform       x86_64-apple-darwin13.4.0   \n",
       "arch           x86_64                      \n",
       "os             darwin13.4.0                \n",
       "system         x86_64, darwin13.4.0        \n",
       "status                                     \n",
       "major          4                           \n",
       "minor          1.3                         \n",
       "year           2022                        \n",
       "month          03                          \n",
       "day            10                          \n",
       "svn rev        81868                       \n",
       "language       R                           \n",
       "version.string R version 4.1.3 (2022-03-10)\n",
       "nickname       One Push-Up                 "
      ]
     },
     "metadata": {},
     "output_type": "display_data"
    }
   ],
   "source": [
    "R.version"
   ]
  },
  {
   "cell_type": "code",
   "execution_count": 3,
   "id": "c391073f-96ff-49e8-94b6-f98c0c0ab113",
   "metadata": {},
   "outputs": [
    {
     "name": "stderr",
     "output_type": "stream",
     "text": [
      "Skipping install of 'chromVARmotifs' from a github remote, the SHA1 (38bed559) has not changed since last install.\n",
      "  Use `force = TRUE` to force installation\n",
      "\n"
     ]
    }
   ],
   "source": [
    "devtools::install_github(\"GreenleafLab/chromVARmotifs\")"
   ]
  },
  {
   "cell_type": "code",
   "execution_count": 4,
   "id": "ced64763-eda4-419d-a1bc-69f37fe9e635",
   "metadata": {},
   "outputs": [
    {
     "name": "stderr",
     "output_type": "stream",
     "text": [
      "\n",
      "\n"
     ]
    }
   ],
   "source": [
    "library(\"chromVARmotifs\")"
   ]
  },
  {
   "cell_type": "code",
   "execution_count": 5,
   "id": "5341a59d-b620-4bf9-8ee7-0dd678b727b4",
   "metadata": {},
   "outputs": [],
   "source": [
    "data(\"mouse_pwms_v2\")"
   ]
  },
  {
   "cell_type": "code",
   "execution_count": 6,
   "id": "65296b86-a103-44f9-91c7-d1f68257cf11",
   "metadata": {},
   "outputs": [],
   "source": [
    "sout <- sapply(strsplit(names(mouse_pwms_v2), split = \"_\"), function(s) c(s[3]))\n",
    "mouse_pwms_v2 <- mouse_pwms_v2[match(unique(sout), sout)]"
   ]
  },
  {
   "cell_type": "code",
   "execution_count": 8,
   "id": "f2dda4c1-aa81-4f23-9637-992087fd5f46",
   "metadata": {},
   "outputs": [],
   "source": [
    "seurat <- readRDS(\"/Users/dominik.klein/data/seurat_new_annotations.rds\")"
   ]
  },
  {
   "cell_type": "code",
   "execution_count": 9,
   "id": "60c2ff96-56e5-4d9e-8de3-b385c3713b06",
   "metadata": {},
   "outputs": [],
   "source": [
    "BSgenome.Mmusculus.UCSC.mm10.renamed <- renameSeqlevels(BSgenome.Mmusculus.UCSC.mm10, value = str_replace(str_replace(seqnames(BSgenome.Mmusculus.UCSC.mm10), pattern = \"chr\", replacement = \"\"), pattern = \"M\", replacement = \"MT\"))"
   ]
  },
  {
   "cell_type": "code",
   "execution_count": 10,
   "id": "57c5b368-8c3d-41df-a5c7-16bf2c4c98d5",
   "metadata": {},
   "outputs": [
    {
     "name": "stderr",
     "output_type": "stream",
     "text": [
      "Building motif matrix\n",
      "\n",
      "Finding motif positions\n",
      "\n",
      "Creating Motif object\n",
      "\n"
     ]
    }
   ],
   "source": [
    "# add motif information\n",
    "seurat <- AddMotifs(\n",
    "  object = seurat,\n",
    "  genome = BSgenome.Mmusculus.UCSC.mm10.renamed,\n",
    "  pfm = mouse_pwms_v2\n",
    ")"
   ]
  },
  {
   "cell_type": "code",
   "execution_count": 11,
   "id": "3af28a87-3bd9-4925-bcc4-344aa11f21f7",
   "metadata": {},
   "outputs": [
    {
     "name": "stderr",
     "output_type": "stream",
     "text": [
      "Bioconductor version '3.14' is out-of-date; the current release version '3.16'\n",
      "  is available with R version '4.2'; see https://bioconductor.org/install\n",
      "\n",
      "'getOption(\"repos\")' replaces Bioconductor standard repositories, see\n",
      "'?repositories' for details\n",
      "\n",
      "replacement repositories:\n",
      "    CRAN: https://cran.r-project.org\n",
      "\n",
      "\n",
      "Bioconductor version 3.14 (BiocManager 1.30.18), R 4.1.3 (2022-03-10)\n",
      "\n",
      "Warning message:\n",
      "“package(s) not installed when version(s) same as current; use `force = TRUE` to\n",
      "  re-install: 'chromVAR'”\n",
      "Old packages: 'BiocManager', 'Hmisc', 'IRkernel', 'MASS', 'Matrix',\n",
      "  'RcppAnnoy', 'RcppArmadillo', 'RcppEigen', 'Seurat', 'SeuratObject',\n",
      "  'Signac', 'anndata', 'boot', 'brew', 'broom', 'bslib', 'callr', 'caret',\n",
      "  'cluster', 'commonmark', 'crul', 'data.table', 'desc', 'devtools', 'digest',\n",
      "  'dplyr', 'dtplyr', 'e1071', 'evaluate', 'fontawesome', 'forcats', 'foreign',\n",
      "  'future', 'future.apply', 'gargle', 'gert', 'ggforce', 'ggrepel', 'ggridges',\n",
      "  'gh', 'gitcreds', 'glmnet', 'globals', 'googlesheets4', 'haven', 'hdf5r',\n",
      "  'htmltools', 'httpuv', 'igraph', 'irlba', 'jpeg', 'knitr', 'later', 'lava',\n",
      "  'leiden', 'lubridate', 'maps', 'mgcv', 'modelr', 'nlme', 'nnet', 'patchwork',\n",
      "  'pbapply', 'pbdZMQ', 'pkgbuild', 'pkgload', 'plotly', 'polyclip', 'processx',\n",
      "  'progressr', 'ps', 'purrr', 'ragg', 'readxl', 'recipes', 'reprex',\n",
      "  'reticulate', 'rgl', 'rmarkdown', 'roxygen2', 'rpart', 'rstudioapi',\n",
      "  'rversions', 'rvest', 'sass', 'sctransform', 'shiny', 'sp', 'sparsesvd',\n",
      "  'spatstat.data', 'spatstat.geom', 'spatstat.random', 'spatstat.sparse',\n",
      "  'spatstat.utils', 'survival', 'testthat', 'tidyr', 'timeDate', 'tinytex',\n",
      "  'tweenr', 'uwot', 'webshot', 'whisker', 'xfun', 'xts', 'zip', 'zoo'\n",
      "\n"
     ]
    }
   ],
   "source": [
    "if (!require(\"BiocManager\", quietly = TRUE))\n",
    "    install.packages(\"BiocManager\")\n",
    "\n",
    "BiocManager::install(\"chromVAR\")"
   ]
  },
  {
   "cell_type": "code",
   "execution_count": 12,
   "id": "2d94460d-31ed-4a9f-8a75-ecb320b7f3f1",
   "metadata": {},
   "outputs": [],
   "source": [
    "library(\"chromVAR\")"
   ]
  },
  {
   "cell_type": "code",
   "execution_count": 13,
   "id": "0d4ed6ef-15f5-4c38-b546-1f99763d09e4",
   "metadata": {},
   "outputs": [
    {
     "name": "stderr",
     "output_type": "stream",
     "text": [
      "Computing GC bias per region\n",
      "\n",
      "Selecting background regions\n",
      "\n",
      "Computing deviations from background\n",
      "\n",
      "Constructing chromVAR assay\n",
      "\n",
      "Warning message:\n",
      "“Feature names cannot have underscores ('_'), replacing with dashes ('-')”\n"
     ]
    }
   ],
   "source": [
    "seurat <- RunChromVAR(\n",
    "  object = seurat,\n",
    "  genome = BSgenome.Mmusculus.UCSC.mm10.renamed\n",
    ")\n",
    "\n"
   ]
  },
  {
   "cell_type": "code",
   "execution_count": 14,
   "id": "64269ae2-7963-40eb-a4bc-7508e7b103ca",
   "metadata": {},
   "outputs": [],
   "source": [
    "DefaultAssay(seurat) <- \"chromvar\""
   ]
  },
  {
   "cell_type": "code",
   "execution_count": 15,
   "id": "571c1892-5e26-4715-811f-e3d8b18828f3",
   "metadata": {},
   "outputs": [
    {
     "data": {
      "text/plain": [
       "An object of class Seurat \n",
       "476213 features across 16918 samples within 4 assays \n",
       "Active assay: chromvar (884 features, 0 variable features)\n",
       " 3 other assays present: RNA, ATAC, ATAC_merged\n",
       " 1 dimensional reduction calculated: lsi"
      ]
     },
     "metadata": {},
     "output_type": "display_data"
    }
   ],
   "source": [
    "seurat"
   ]
  },
  {
   "cell_type": "code",
   "execution_count": 16,
   "id": "df2f676c-021b-4dba-a795-26e99e6b56c1",
   "metadata": {},
   "outputs": [],
   "source": [
    "write.csv(seurat[[\"chromvar\"]]@data, \"/Users/dominik.klein/data/chromvar_annotations.csv\")"
   ]
  },
  {
   "cell_type": "code",
   "execution_count": 17,
   "id": "d34e5709-eb4a-4ea5-98ec-ce8e2137dd8d",
   "metadata": {},
   "outputs": [
    {
     "data": {
      "text/plain": [
       "R version 4.1.3 (2022-03-10)\n",
       "Platform: x86_64-apple-darwin13.4.0 (64-bit)\n",
       "Running under: macOS Big Sur/Monterey 10.16\n",
       "\n",
       "Matrix products: default\n",
       "BLAS/LAPACK: /Users/dominik.klein/opt/anaconda3/envs/mm_best_muon_full/lib/libopenblasp-r0.3.20.dylib\n",
       "\n",
       "locale:\n",
       "[1] C/UTF-8/C/C/C/C\n",
       "\n",
       "attached base packages:\n",
       "[1] stats4    stats     graphics  grDevices utils     datasets  methods  \n",
       "[8] base     \n",
       "\n",
       "other attached packages:\n",
       " [1] chromVAR_1.16.0                    BiocManager_1.30.18               \n",
       " [3] chromVARmotifs_0.2.0               BSgenome.Mmusculus.UCSC.mm10_1.4.3\n",
       " [5] BSgenome_1.62.0                    rtracklayer_1.54.0                \n",
       " [7] Biostrings_2.62.0                  XVector_0.34.0                    \n",
       " [9] GenomicRanges_1.46.1               GenomeInfoDb_1.30.1               \n",
       "[11] IRanges_2.28.0                     S4Vectors_0.32.4                  \n",
       "[13] BiocGenerics_0.40.0                forcats_0.5.1                     \n",
       "[15] stringr_1.4.0                      dplyr_1.0.9                       \n",
       "[17] purrr_0.3.4                        readr_2.1.3                       \n",
       "[19] tidyr_1.2.0                        tibble_3.1.8                      \n",
       "[21] tidyverse_1.3.2                    ggplot2_3.4.0                     \n",
       "[23] sp_1.5-0                           SeuratObject_4.1.0                \n",
       "[25] Seurat_4.1.1                       Signac_1.7.0                      \n",
       "[27] anndata_0.7.5.3                   \n",
       "\n",
       "loaded via a namespace (and not attached):\n",
       "  [1] pbdZMQ_0.3-7                scattermore_0.8            \n",
       "  [3] R.methodsS3_1.8.2           nabor_0.5.0                \n",
       "  [5] bit64_4.0.5                 irlba_2.3.5                \n",
       "  [7] DelayedArray_0.20.0         R.utils_2.12.2             \n",
       "  [9] data.table_1.14.2           rpart_4.1.16               \n",
       " [11] KEGGREST_1.34.0             TFBSTools_1.32.0           \n",
       " [13] RCurl_1.98-1.9              generics_0.1.3             \n",
       " [15] callr_3.7.1                 cowplot_1.1.1              \n",
       " [17] usethis_2.1.6               RSQLite_2.2.19             \n",
       " [19] RANN_2.6.1                  future_1.27.0              \n",
       " [21] bit_4.0.5                   tzdb_0.3.0                 \n",
       " [23] spatstat.data_2.2-0         xml2_1.3.3                 \n",
       " [25] lubridate_1.8.0             httpuv_1.6.5               \n",
       " [27] SummarizedExperiment_1.24.0 assertthat_0.2.1           \n",
       " [29] DirichletMultinomial_1.36.0 gargle_1.2.0               \n",
       " [31] hms_1.1.2                   evaluate_0.15              \n",
       " [33] promises_1.2.0.1            fansi_1.0.3                \n",
       " [35] restfulr_0.0.15             caTools_1.18.2             \n",
       " [37] dbplyr_2.2.1                readxl_1.4.0               \n",
       " [39] igraph_1.3.1                DBI_1.1.3                  \n",
       " [41] htmlwidgets_1.5.4           spatstat.geom_2.4-0        \n",
       " [43] googledrive_2.0.0           ellipsis_0.3.2             \n",
       " [45] backports_1.4.1             annotate_1.72.0            \n",
       " [47] deldir_1.0-6                MatrixGenerics_1.6.0       \n",
       " [49] vctrs_0.5.0                 Biobase_2.54.0             \n",
       " [51] remotes_2.4.2               ROCR_1.0-11                \n",
       " [53] abind_1.4-5                 cachem_1.0.6               \n",
       " [55] withr_2.5.0                 progressr_0.10.1           \n",
       " [57] sctransform_0.3.3           GenomicAlignments_1.30.0   \n",
       " [59] prettyunits_1.1.1           goftest_1.2-3              \n",
       " [61] cluster_2.1.3               IRdisplay_1.1              \n",
       " [63] lazyeval_0.2.2              seqLogo_1.60.0             \n",
       " [65] crayon_1.5.2                pkgconfig_2.0.3            \n",
       " [67] nlme_3.1-158                pkgload_1.3.0              \n",
       " [69] devtools_2.4.4              rlang_1.0.6                \n",
       " [71] globals_0.15.1              lifecycle_1.0.3            \n",
       " [73] miniUI_0.1.1.1              modelr_0.1.8               \n",
       " [75] cellranger_1.1.0            polyclip_1.10-0            \n",
       " [77] matrixStats_0.63.0          lmtest_0.9-40              \n",
       " [79] Matrix_1.4-1                IRkernel_1.3               \n",
       " [81] zoo_1.8-10                  reprex_2.0.1               \n",
       " [83] base64enc_0.1-3             ggridges_0.5.3             \n",
       " [85] processx_3.7.0              googlesheets4_1.0.0        \n",
       " [87] png_0.1-8                   viridisLite_0.4.1          \n",
       " [89] rjson_0.2.21                bitops_1.0-7               \n",
       " [91] R.oo_1.25.0                 KernSmooth_2.23-20         \n",
       " [93] blob_1.2.3                  parallelly_1.32.1          \n",
       " [95] spatstat.random_2.2-0       CNEr_1.30.0                \n",
       " [97] scales_1.2.1                memoise_2.0.1              \n",
       " [99] magrittr_2.0.3              plyr_1.8.8                 \n",
       "[101] ica_1.0-3                   zlibbioc_1.40.0            \n",
       "[103] compiler_4.1.3              BiocIO_1.4.0               \n",
       "[105] RColorBrewer_1.1-3          fitdistrplus_1.1-8         \n",
       "[107] Rsamtools_2.10.0            cli_3.4.1                  \n",
       "[109] urlchecker_1.0.1            listenv_0.8.0              \n",
       "[111] patchwork_1.1.1             pbapply_1.5-0              \n",
       "[113] ps_1.7.1                    MASS_7.3-58                \n",
       "[115] mgcv_1.8-40                 tidyselect_1.2.0           \n",
       "[117] stringi_1.7.8               yaml_2.3.6                 \n",
       "[119] ggrepel_0.9.1               grid_4.1.3                 \n",
       "[121] fastmatch_1.1-3             tools_4.1.3                \n",
       "[123] future.apply_1.9.0          parallel_4.1.3             \n",
       "[125] uuid_1.1-0                  TFMPvalue_0.0.9            \n",
       "[127] gridExtra_2.3               Rtsne_0.16                 \n",
       "[129] digest_0.6.29               rgeos_0.5-9                \n",
       "[131] shiny_1.7.2                 pracma_2.4.2               \n",
       "[133] motifmatchr_1.16.0          Rcpp_1.0.9                 \n",
       "[135] broom_1.0.0                 later_1.2.0                \n",
       "[137] RcppAnnoy_0.0.19            httr_1.4.4                 \n",
       "[139] AnnotationDbi_1.56.2        colorspace_2.0-3           \n",
       "[141] rvest_1.0.2                 XML_3.99-0.13              \n",
       "[143] fs_1.5.2                    tensor_1.5                 \n",
       "[145] reticulate_1.25             splines_4.1.3              \n",
       "[147] uwot_0.1.11                 RcppRoll_0.3.0             \n",
       "[149] spatstat.utils_2.3-1        plotly_4.10.0              \n",
       "[151] sessioninfo_1.2.2           xtable_1.8-4               \n",
       "[153] jsonlite_1.8.4              poweRlaw_0.70.6            \n",
       "[155] R6_2.5.1                    profvis_0.3.7              \n",
       "[157] pillar_1.8.1                htmltools_0.5.3            \n",
       "[159] mime_0.12                   DT_0.26                    \n",
       "[161] glue_1.6.2                  fastmap_1.1.0              \n",
       "[163] BiocParallel_1.28.3         codetools_0.2-18           \n",
       "[165] pkgbuild_1.3.1              utf8_1.2.2                 \n",
       "[167] lattice_0.20-45             spatstat.sparse_2.1-1      \n",
       "[169] curl_4.3.3                  leiden_0.4.2               \n",
       "[171] gtools_3.9.4                GO.db_3.14.0               \n",
       "[173] survival_3.3-1              repr_1.1.4                 \n",
       "[175] munsell_0.5.0               GenomeInfoDbData_1.2.7     \n",
       "[177] haven_2.5.0                 reshape2_1.4.4             \n",
       "[179] gtable_0.3.1                spatstat.core_2.4-4        "
      ]
     },
     "metadata": {},
     "output_type": "display_data"
    }
   ],
   "source": [
    "sessionInfo()"
   ]
  }
 ],
 "metadata": {
  "kernelspec": {
   "display_name": "R",
   "language": "R",
   "name": "ir"
  },
  "language_info": {
   "codemirror_mode": "r",
   "file_extension": ".r",
   "mimetype": "text/x-r-source",
   "name": "R",
   "pygments_lexer": "r",
   "version": "4.1.3"
  }
 },
 "nbformat": 4,
 "nbformat_minor": 5
}
