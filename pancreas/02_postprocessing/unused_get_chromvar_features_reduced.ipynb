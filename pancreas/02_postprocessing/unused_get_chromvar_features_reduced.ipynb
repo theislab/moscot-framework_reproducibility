{
 "cells": [
  {
   "cell_type": "code",
   "execution_count": 2,
   "id": "b72caacf-b21f-43f3-a573-d4481141cee5",
   "metadata": {},
   "outputs": [],
   "source": [
    "library(anndata)\n",
    "library(Signac)\n",
    "library(Seurat)\n",
    "library(anndata)\n",
    "library(ggplot2)\n",
    "library(tidyverse)\n",
    "library(Signac)\n",
    "library(Seurat)\n",
    "#library(EnsDb.Mmusculus.v102)\n",
    "library(BSgenome.Mmusculus.UCSC.mm10)\n",
    "#library(EnsDb.Mmusculus.v102)\n",
    "#library(pastecs)\n",
    "library(stringr)"
   ]
  },
  {
   "cell_type": "code",
   "execution_count": 3,
   "id": "dffe2b90-4dc0-4fcc-b5d5-4089a3a74f1f",
   "metadata": {},
   "outputs": [
    {
     "data": {
      "text/plain": [
       "               _                           \n",
       "platform       x86_64-apple-darwin13.4.0   \n",
       "arch           x86_64                      \n",
       "os             darwin13.4.0                \n",
       "system         x86_64, darwin13.4.0        \n",
       "status                                     \n",
       "major          4                           \n",
       "minor          1.3                         \n",
       "year           2022                        \n",
       "month          03                          \n",
       "day            10                          \n",
       "svn rev        81868                       \n",
       "language       R                           \n",
       "version.string R version 4.1.3 (2022-03-10)\n",
       "nickname       One Push-Up                 "
      ]
     },
     "metadata": {},
     "output_type": "display_data"
    }
   ],
   "source": [
    "R.version"
   ]
  },
  {
   "cell_type": "code",
   "execution_count": 4,
   "id": "c391073f-96ff-49e8-94b6-f98c0c0ab113",
   "metadata": {},
   "outputs": [],
   "source": [
    "#devtools::install_github(\"GreenleafLab/chromVARmotifs\")"
   ]
  },
  {
   "cell_type": "code",
   "execution_count": 5,
   "id": "ced64763-eda4-419d-a1bc-69f37fe9e635",
   "metadata": {},
   "outputs": [
    {
     "name": "stderr",
     "output_type": "stream",
     "text": [
      "\n",
      "\n"
     ]
    }
   ],
   "source": [
    "library(\"chromVARmotifs\")"
   ]
  },
  {
   "cell_type": "code",
   "execution_count": 6,
   "id": "5341a59d-b620-4bf9-8ee7-0dd678b727b4",
   "metadata": {},
   "outputs": [],
   "source": [
    "data(\"mouse_pwms_v2\")"
   ]
  },
  {
   "cell_type": "code",
   "execution_count": 7,
   "id": "65296b86-a103-44f9-91c7-d1f68257cf11",
   "metadata": {},
   "outputs": [],
   "source": [
    "sout <- sapply(strsplit(names(mouse_pwms_v2), split = \"_\"), function(s) c(s[3]))\n",
    "mouse_pwms_v2 <- mouse_pwms_v2[match(unique(sout), sout)]"
   ]
  },
  {
   "cell_type": "code",
   "execution_count": 8,
   "id": "f2dda4c1-aa81-4f23-9637-992087fd5f46",
   "metadata": {},
   "outputs": [],
   "source": [
    "seurat <- readRDS(\"/Users/dominik.klein/data/seurat_filtered.rds\")"
   ]
  },
  {
   "cell_type": "code",
   "execution_count": 9,
   "id": "60c2ff96-56e5-4d9e-8de3-b385c3713b06",
   "metadata": {},
   "outputs": [],
   "source": [
    "BSgenome.Mmusculus.UCSC.mm10.renamed <- renameSeqlevels(BSgenome.Mmusculus.UCSC.mm10, value = str_replace(str_replace(seqnames(BSgenome.Mmusculus.UCSC.mm10), pattern = \"chr\", replacement = \"\"), pattern = \"M\", replacement = \"MT\"))"
   ]
  },
  {
   "cell_type": "code",
   "execution_count": 10,
   "id": "57c5b368-8c3d-41df-a5c7-16bf2c4c98d5",
   "metadata": {},
   "outputs": [
    {
     "name": "stderr",
     "output_type": "stream",
     "text": [
      "Building motif matrix\n",
      "\n",
      "Finding motif positions\n",
      "\n",
      "Creating Motif object\n",
      "\n"
     ]
    }
   ],
   "source": [
    "# add motif information\n",
    "seurat <- AddMotifs(\n",
    "  object = seurat,\n",
    "  genome = BSgenome.Mmusculus.UCSC.mm10.renamed,\n",
    "  pfm = mouse_pwms_v2\n",
    ")"
   ]
  },
  {
   "cell_type": "code",
   "execution_count": 11,
   "id": "3af28a87-3bd9-4925-bcc4-344aa11f21f7",
   "metadata": {},
   "outputs": [],
   "source": [
    "#if (!require(\"BiocManager\", quietly = TRUE))\n",
    "#    install.packages(\"BiocManager\")\n",
    "\n",
    "#BiocManager::install(\"chromVAR\")"
   ]
  },
  {
   "cell_type": "code",
   "execution_count": 12,
   "id": "2d94460d-31ed-4a9f-8a75-ecb320b7f3f1",
   "metadata": {},
   "outputs": [],
   "source": [
    "library(\"chromVAR\")"
   ]
  },
  {
   "cell_type": "code",
   "execution_count": 13,
   "id": "0d4ed6ef-15f5-4c38-b546-1f99763d09e4",
   "metadata": {},
   "outputs": [
    {
     "name": "stderr",
     "output_type": "stream",
     "text": [
      "Computing GC bias per region\n",
      "\n",
      "Selecting background regions\n",
      "\n",
      "Computing deviations from background\n",
      "\n",
      "Constructing chromVAR assay\n",
      "\n",
      "Warning message:\n",
      "“Feature names cannot have underscores ('_'), replacing with dashes ('-')”\n"
     ]
    }
   ],
   "source": [
    "seurat <- RunChromVAR(\n",
    "  object = seurat,\n",
    "  genome = BSgenome.Mmusculus.UCSC.mm10.renamed\n",
    ")\n",
    "\n"
   ]
  },
  {
   "cell_type": "code",
   "execution_count": 14,
   "id": "64269ae2-7963-40eb-a4bc-7508e7b103ca",
   "metadata": {},
   "outputs": [],
   "source": [
    "DefaultAssay(seurat) <- \"chromvar\""
   ]
  },
  {
   "cell_type": "code",
   "execution_count": 15,
   "id": "571c1892-5e26-4715-811f-e3d8b18828f3",
   "metadata": {},
   "outputs": [
    {
     "data": {
      "text/plain": [
       "An object of class Seurat \n",
       "476213 features across 16918 samples within 4 assays \n",
       "Active assay: chromvar (884 features, 0 variable features)\n",
       " 3 other assays present: RNA, ATAC, ATAC_merged\n",
       " 1 dimensional reduction calculated: lsi"
      ]
     },
     "metadata": {},
     "output_type": "display_data"
    }
   ],
   "source": [
    "seurat"
   ]
  },
  {
   "cell_type": "code",
   "execution_count": 16,
   "id": "df2f676c-021b-4dba-a795-26e99e6b56c1",
   "metadata": {},
   "outputs": [],
   "source": [
    "write.csv(seurat[[\"chromvar\"]]@data, \"/Users/dominik.klein/data/chromvar_annotations_reduced.csv\")"
   ]
  },
  {
   "cell_type": "code",
   "execution_count": 18,
   "id": "3f69fc8c-4b37-4fa2-88ac-0119f9b8ced9",
   "metadata": {},
   "outputs": [],
   "source": [
    "saveRDS(seurat, \"/Users/dominik.klein/data/seurat_with_chromVAR_reduced.rds\")"
   ]
  },
  {
   "cell_type": "code",
   "execution_count": 17,
   "id": "d34e5709-eb4a-4ea5-98ec-ce8e2137dd8d",
   "metadata": {},
   "outputs": [
    {
     "data": {
      "text/plain": [
       "R version 4.1.3 (2022-03-10)\n",
       "Platform: x86_64-apple-darwin13.4.0 (64-bit)\n",
       "Running under: macOS Big Sur/Monterey 10.16\n",
       "\n",
       "Matrix products: default\n",
       "BLAS/LAPACK: /Users/dominik.klein/opt/anaconda3/envs/mm_best_muon_full/lib/libopenblasp-r0.3.20.dylib\n",
       "\n",
       "locale:\n",
       "[1] C/UTF-8/C/C/C/C\n",
       "\n",
       "attached base packages:\n",
       "[1] stats4    stats     graphics  grDevices utils     datasets  methods  \n",
       "[8] base     \n",
       "\n",
       "other attached packages:\n",
       " [1] chromVAR_1.16.0                    chromVARmotifs_0.2.0              \n",
       " [3] BSgenome.Mmusculus.UCSC.mm10_1.4.3 BSgenome_1.62.0                   \n",
       " [5] rtracklayer_1.54.0                 Biostrings_2.62.0                 \n",
       " [7] XVector_0.34.0                     GenomicRanges_1.46.1              \n",
       " [9] GenomeInfoDb_1.30.1                IRanges_2.28.0                    \n",
       "[11] S4Vectors_0.32.4                   BiocGenerics_0.40.0               \n",
       "[13] forcats_0.5.1                      stringr_1.4.0                     \n",
       "[15] dplyr_1.0.9                        purrr_0.3.4                       \n",
       "[17] readr_2.1.3                        tidyr_1.2.0                       \n",
       "[19] tibble_3.1.8                       tidyverse_1.3.2                   \n",
       "[21] ggplot2_3.4.0                      sp_1.5-0                          \n",
       "[23] SeuratObject_4.1.0                 Seurat_4.1.1                      \n",
       "[25] Signac_1.7.0                       anndata_0.7.5.3                   \n",
       "\n",
       "loaded via a namespace (and not attached):\n",
       "  [1] utf8_1.2.2                  R.utils_2.12.2             \n",
       "  [3] reticulate_1.25             tidyselect_1.2.0           \n",
       "  [5] AnnotationDbi_1.56.2        poweRlaw_0.70.6            \n",
       "  [7] RSQLite_2.2.19              htmlwidgets_1.5.4          \n",
       "  [9] grid_4.1.3                  BiocParallel_1.28.3        \n",
       " [11] Rtsne_0.16                  munsell_0.5.0              \n",
       " [13] codetools_0.2-18            ica_1.0-3                  \n",
       " [15] DT_0.26                     pbdZMQ_0.3-7               \n",
       " [17] future_1.27.0               miniUI_0.1.1.1             \n",
       " [19] withr_2.5.0                 spatstat.random_2.2-0      \n",
       " [21] colorspace_2.0-3            progressr_0.10.1           \n",
       " [23] Biobase_2.54.0              uuid_1.1-0                 \n",
       " [25] ROCR_1.0-11                 tensor_1.5                 \n",
       " [27] listenv_0.8.0               MatrixGenerics_1.6.0       \n",
       " [29] repr_1.1.4                  GenomeInfoDbData_1.2.7     \n",
       " [31] polyclip_1.10-0             bit64_4.0.5                \n",
       " [33] parallelly_1.32.1           vctrs_0.5.0                \n",
       " [35] generics_0.1.3              R6_2.5.1                   \n",
       " [37] cachem_1.0.6                bitops_1.0-7               \n",
       " [39] spatstat.utils_2.3-1        DelayedArray_0.20.0        \n",
       " [41] assertthat_0.2.1            promises_1.2.0.1           \n",
       " [43] BiocIO_1.4.0                scales_1.2.1               \n",
       " [45] googlesheets4_1.0.0         rgeos_0.5-9                \n",
       " [47] gtable_0.3.1                globals_0.15.1             \n",
       " [49] goftest_1.2-3               seqLogo_1.60.0             \n",
       " [51] rlang_1.0.6                 RcppRoll_0.3.0             \n",
       " [53] splines_4.1.3               lazyeval_0.2.2             \n",
       " [55] gargle_1.2.0                spatstat.geom_2.4-0        \n",
       " [57] broom_1.0.0                 yaml_2.3.6                 \n",
       " [59] reshape2_1.4.4              abind_1.4-5                \n",
       " [61] modelr_0.1.8                backports_1.4.1            \n",
       " [63] httpuv_1.6.5                tools_4.1.3                \n",
       " [65] nabor_0.5.0                 ellipsis_0.3.2             \n",
       " [67] spatstat.core_2.4-4         RColorBrewer_1.1-3         \n",
       " [69] ggridges_0.5.3              Rcpp_1.0.9                 \n",
       " [71] plyr_1.8.8                  base64enc_0.1-3            \n",
       " [73] zlibbioc_1.40.0             RCurl_1.98-1.9             \n",
       " [75] rpart_4.1.16                deldir_1.0-6               \n",
       " [77] pbapply_1.5-0               cowplot_1.1.1              \n",
       " [79] zoo_1.8-10                  SummarizedExperiment_1.24.0\n",
       " [81] haven_2.5.0                 ggrepel_0.9.1              \n",
       " [83] cluster_2.1.3               fs_1.5.2                   \n",
       " [85] motifmatchr_1.16.0          magrittr_2.0.3             \n",
       " [87] data.table_1.14.2           scattermore_0.8            \n",
       " [89] lmtest_0.9-40               reprex_2.0.1               \n",
       " [91] RANN_2.6.1                  googledrive_2.0.0          \n",
       " [93] fitdistrplus_1.1-8          matrixStats_0.63.0         \n",
       " [95] hms_1.1.2                   patchwork_1.1.1            \n",
       " [97] mime_0.12                   evaluate_0.15              \n",
       " [99] xtable_1.8-4                XML_3.99-0.13              \n",
       "[101] readxl_1.4.0                gridExtra_2.3              \n",
       "[103] compiler_4.1.3              KernSmooth_2.23-20         \n",
       "[105] crayon_1.5.2                R.oo_1.25.0                \n",
       "[107] htmltools_0.5.3             mgcv_1.8-40                \n",
       "[109] later_1.2.0                 tzdb_0.3.0                 \n",
       "[111] TFBSTools_1.32.0            lubridate_1.8.0            \n",
       "[113] DBI_1.1.3                   dbplyr_2.2.1               \n",
       "[115] MASS_7.3-58                 Matrix_1.4-1               \n",
       "[117] cli_3.4.1                   R.methodsS3_1.8.2          \n",
       "[119] parallel_4.1.3              igraph_1.3.1               \n",
       "[121] pkgconfig_2.0.3             TFMPvalue_0.0.9            \n",
       "[123] GenomicAlignments_1.30.0    IRdisplay_1.1              \n",
       "[125] plotly_4.10.0               spatstat.sparse_2.1-1      \n",
       "[127] xml2_1.3.3                  annotate_1.72.0            \n",
       "[129] DirichletMultinomial_1.36.0 rvest_1.0.2                \n",
       "[131] digest_0.6.29               pracma_2.4.2               \n",
       "[133] sctransform_0.3.3           RcppAnnoy_0.0.19           \n",
       "[135] CNEr_1.30.0                 spatstat.data_2.2-0        \n",
       "[137] cellranger_1.1.0            leiden_0.4.2               \n",
       "[139] fastmatch_1.1-3             uwot_0.1.11                \n",
       "[141] restfulr_0.0.15             gtools_3.9.4               \n",
       "[143] shiny_1.7.2                 Rsamtools_2.10.0           \n",
       "[145] rjson_0.2.21                lifecycle_1.0.3            \n",
       "[147] nlme_3.1-158                jsonlite_1.8.4             \n",
       "[149] viridisLite_0.4.1           fansi_1.0.3                \n",
       "[151] pillar_1.8.1                lattice_0.20-45            \n",
       "[153] GO.db_3.14.0                KEGGREST_1.34.0            \n",
       "[155] fastmap_1.1.0               httr_1.4.4                 \n",
       "[157] survival_3.3-1              glue_1.6.2                 \n",
       "[159] png_0.1-8                   bit_4.0.5                  \n",
       "[161] stringi_1.7.8               blob_1.2.3                 \n",
       "[163] memoise_2.0.1               caTools_1.18.2             \n",
       "[165] IRkernel_1.3                irlba_2.3.5                \n",
       "[167] future.apply_1.9.0         "
      ]
     },
     "metadata": {},
     "output_type": "display_data"
    }
   ],
   "source": [
    "sessionInfo()"
   ]
  }
 ],
 "metadata": {
  "kernelspec": {
   "display_name": "R",
   "language": "R",
   "name": "ir"
  },
  "language_info": {
   "codemirror_mode": "r",
   "file_extension": ".r",
   "mimetype": "text/x-r-source",
   "name": "R",
   "pygments_lexer": "r",
   "version": "4.1.3"
  }
 },
 "nbformat": 4,
 "nbformat_minor": 5
}
