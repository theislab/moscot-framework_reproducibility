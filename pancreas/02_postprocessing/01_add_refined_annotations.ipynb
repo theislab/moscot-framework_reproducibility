{
 "cells": [
  {
   "cell_type": "code",
   "execution_count": 1,
   "id": "cc87b786-049b-4dad-9fd6-e213de1a6001",
   "metadata": {},
   "outputs": [
    {
     "name": "stderr",
     "output_type": "stream",
     "text": [
      "Downloading package from url: http://cran.us.r-project.org/src/contrib/Archive/vctrs/vctrs_0.5.0.tar.gz\n",
      "\n"
     ]
    },
    {
     "name": "stdout",
     "output_type": "stream",
     "text": [
      "\n"
     ]
    },
    {
     "name": "stderr",
     "output_type": "stream",
     "text": [
      "Downloading package from url: http://cran.us.r-project.org/src/contrib/Archive/stringr/stringr_1.4.0.tar.gz\n",
      "\n"
     ]
    },
    {
     "name": "stdout",
     "output_type": "stream",
     "text": [
      "\n"
     ]
    }
   ],
   "source": [
    "library(remotes)\n",
    "install_version(\"vctrs\", version = \"0.5.0\", repos = \"http://cran.us.r-project.org\")\n",
    "install_version(\"stringr\", version = \"1.4.0\", repos = \"http://cran.us.r-project.org\")"
   ]
  },
  {
   "cell_type": "code",
   "execution_count": 2,
   "id": "e0d77877-645c-422a-86f4-9734646ee668",
   "metadata": {},
   "outputs": [],
   "source": [
    "library(stringr)"
   ]
  },
  {
   "cell_type": "code",
   "execution_count": 3,
   "id": "336a1ecf-e9ae-45d8-856f-3e46035c2613",
   "metadata": {},
   "outputs": [
    {
     "name": "stderr",
     "output_type": "stream",
     "text": [
      "Attaching SeuratObject\n",
      "\n",
      "── \u001b[1mAttaching packages\u001b[22m ─────────────────────────────────────── tidyverse 1.3.2 ──\n",
      "\u001b[32m✔\u001b[39m \u001b[34mggplot2\u001b[39m 3.4.0      \u001b[32m✔\u001b[39m \u001b[34mpurrr  \u001b[39m 1.0.0 \n",
      "\u001b[32m✔\u001b[39m \u001b[34mtibble \u001b[39m 3.1.8      \u001b[32m✔\u001b[39m \u001b[34mdplyr  \u001b[39m 1.0.10\n",
      "\u001b[32m✔\u001b[39m \u001b[34mtidyr  \u001b[39m 1.2.1      \u001b[32m✔\u001b[39m \u001b[34mforcats\u001b[39m 0.5.2 \n",
      "\u001b[32m✔\u001b[39m \u001b[34mreadr  \u001b[39m 2.1.3      \n",
      "── \u001b[1mConflicts\u001b[22m ────────────────────────────────────────── tidyverse_conflicts() ──\n",
      "\u001b[31m✖\u001b[39m \u001b[34mdplyr\u001b[39m::\u001b[32mfilter()\u001b[39m   masks \u001b[34mstats\u001b[39m::filter()\n",
      "\u001b[31m✖\u001b[39m \u001b[34mdplyr\u001b[39m::\u001b[32mlag()\u001b[39m      masks \u001b[34mstats\u001b[39m::lag()\n",
      "\u001b[31m✖\u001b[39m \u001b[34mreadr\u001b[39m::\u001b[32mread_csv()\u001b[39m masks \u001b[34manndata\u001b[39m::read_csv()\n",
      "\u001b[31m✖\u001b[39m \u001b[34mpurrr\u001b[39m::\u001b[32mreduce()\u001b[39m   masks \u001b[34mSignac\u001b[39m::reduce()\n"
     ]
    }
   ],
   "source": [
    "library(anndata)\n",
    "library(Signac)\n",
    "library(Seurat)\n",
    "library(tidyverse)\n"
   ]
  },
  {
   "cell_type": "code",
   "execution_count": 4,
   "id": "efe96d2c-0826-431f-8c49-f88e194065fe",
   "metadata": {},
   "outputs": [],
   "source": [
    "seurat <- readRDS(\"/Users/dominik.klein/data/E14-E15_adata_filtered_seurat_merged_peaks.rds\")"
   ]
  },
  {
   "cell_type": "code",
   "execution_count": 5,
   "id": "fea75abf-7ec4-4778-aa68-c331119307d0",
   "metadata": {},
   "outputs": [],
   "source": [
    "new_annotations <- read.csv(\"/Users/dominik.klein/paper_writing/moscot/endocrine_refinement.csv\")"
   ]
  },
  {
   "cell_type": "code",
   "execution_count": 6,
   "id": "295004fb-03fa-427c-bdd6-b51b729d1bab",
   "metadata": {},
   "outputs": [],
   "source": [
    "adapt_obs_names <- function(x){\n",
    "    tmp <- str_split(x, \"-\")[[1]]\n",
    "    if(tmp[3] == \"0\"){\n",
    "        prefix <- \"E14-5\"\n",
    "        }\n",
    "    else{\n",
    "        prefix <- \"E15-5\"\n",
    "        }\n",
    "    return(paste(prefix, \"_\", tmp[1], \"-\", tmp[2], sep = \"\"))\n",
    "    }"
   ]
  },
  {
   "cell_type": "code",
   "execution_count": 7,
   "id": "41b5d286-4375-4e39-99d1-ce8799044092",
   "metadata": {},
   "outputs": [],
   "source": [
    "new_annotations$obs_name_adapted <- sapply(new_annotations$X, adapt_obs_names)"
   ]
  },
  {
   "cell_type": "code",
   "execution_count": 8,
   "id": "5e1b6caa-02c3-48ab-810b-479296763d2a",
   "metadata": {},
   "outputs": [],
   "source": [
    "seurat <- seurat[,new_annotations$obs_name_adapted]"
   ]
  },
  {
   "cell_type": "code",
   "execution_count": 9,
   "id": "5e25adde-abea-42bc-b120-cc5b116b2ea2",
   "metadata": {},
   "outputs": [
    {
     "data": {
      "text/plain": [
       "An object of class Seurat \n",
       "475329 features across 16918 samples within 3 assays \n",
       "Active assay: ATAC_merged (228259 features, 228259 variable features)\n",
       " 2 other assays present: RNA, ATAC\n",
       " 1 dimensional reduction calculated: lsi"
      ]
     },
     "metadata": {},
     "output_type": "display_data"
    }
   ],
   "source": [
    "seurat"
   ]
  },
  {
   "cell_type": "code",
   "execution_count": 10,
   "id": "0b2996df-2ed5-429f-bdec-a6fa977362ff",
   "metadata": {},
   "outputs": [],
   "source": [
    "seurat@meta.data$rowname <- rownames(seurat@meta.data)"
   ]
  },
  {
   "cell_type": "code",
   "execution_count": 11,
   "id": "73f05b65-f2b5-4f54-a304-4a13a07c4678",
   "metadata": {},
   "outputs": [],
   "source": [
    "merged_obs <- merge(seurat@meta.data, new_annotations, by.x=\"rowname\", by.y=\"obs_name_adapted\")"
   ]
  },
  {
   "cell_type": "code",
   "execution_count": 12,
   "id": "3022b233-03b5-45bb-9806-5d504626b841",
   "metadata": {},
   "outputs": [],
   "source": [
    "seurat@meta.data <- merged_obs"
   ]
  },
  {
   "cell_type": "code",
   "execution_count": 13,
   "id": "f5010e64-52a1-4361-bf12-164e7cc5c75b",
   "metadata": {},
   "outputs": [],
   "source": [
    "Idents(seurat) <- seurat@meta.data$refinement"
   ]
  },
  {
   "cell_type": "code",
   "execution_count": 14,
   "id": "28fa614d-9cf2-43c8-b785-db53052efcc0",
   "metadata": {},
   "outputs": [],
   "source": [
    "Idents(seurat) <- seurat@meta.data$refinement"
   ]
  },
  {
   "cell_type": "code",
   "execution_count": 15,
   "id": "2d8d8bcc-f69c-41cd-a4e2-7b91f204d448",
   "metadata": {},
   "outputs": [],
   "source": [
    "celltypes_to_keep = c('Ngn3 low', 'Ngn3 high cycling', 'Ngn3 high,0', 'Ngn3 high,1', 'Eps. progenitors', 'Fev+', 'Fev+ Alpha', \n",
    "                   'Fev+ Beta', 'Fev+ Delta,0', 'Fev+ Delta,1', 'Alpha', 'Beta', 'Delta', 'Epsilon')"
   ]
  },
  {
   "cell_type": "code",
   "execution_count": 16,
   "id": "9e645fd7-ba81-41ff-9049-28dab36804bf",
   "metadata": {},
   "outputs": [],
   "source": [
    "seurat_filtered <- subset(x=seurat, idents= celltypes_to_keep)\n"
   ]
  },
  {
   "cell_type": "code",
   "execution_count": 17,
   "id": "147c26dc-c0ef-419a-818c-b26cdfb21b13",
   "metadata": {},
   "outputs": [],
   "source": [
    "seurat_filtered@meta.data <- seurat@meta.data[seurat@meta.data$refinement %in% celltypes_to_keep,]"
   ]
  },
  {
   "cell_type": "code",
   "execution_count": 19,
   "id": "a4b1488e-b128-4031-817a-34c44c188c12",
   "metadata": {},
   "outputs": [],
   "source": [
    "saveRDS(seurat_filtered, file=\"/Users/dominik.klein/data/seurat_new_annotations.rds\")"
   ]
  }
 ],
 "metadata": {
  "kernelspec": {
   "display_name": "R",
   "language": "R",
   "name": "ir"
  },
  "language_info": {
   "codemirror_mode": "r",
   "file_extension": ".r",
   "mimetype": "text/x-r-source",
   "name": "R",
   "pygments_lexer": "r",
   "version": "4.2.2"
  }
 },
 "nbformat": 4,
 "nbformat_minor": 5
}
