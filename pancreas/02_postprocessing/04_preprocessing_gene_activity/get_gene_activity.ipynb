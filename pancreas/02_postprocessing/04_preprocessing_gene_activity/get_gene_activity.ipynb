{
 "cells": [
  {
   "cell_type": "code",
   "execution_count": 1,
   "id": "25f85867-8114-4972-8587-5c486898a2ed",
   "metadata": {},
   "outputs": [
    {
     "name": "stderr",
     "output_type": "stream",
     "text": [
      "Attaching SeuratObject\n",
      "\n",
      "Attaching sp\n",
      "\n",
      "── \u001b[1mAttaching packages\u001b[22m ─────────────────────────────────────── tidyverse 1.3.2 ──\n",
      "\u001b[32m✔\u001b[39m \u001b[34mtibble \u001b[39m 3.1.8     \u001b[32m✔\u001b[39m \u001b[34mdplyr  \u001b[39m 1.0.9\n",
      "\u001b[32m✔\u001b[39m \u001b[34mtidyr  \u001b[39m 1.2.0     \u001b[32m✔\u001b[39m \u001b[34mstringr\u001b[39m 1.4.0\n",
      "\u001b[32m✔\u001b[39m \u001b[34mreadr  \u001b[39m 2.1.2     \u001b[32m✔\u001b[39m \u001b[34mforcats\u001b[39m 0.5.1\n",
      "\u001b[32m✔\u001b[39m \u001b[34mpurrr  \u001b[39m 0.3.4     \n",
      "── \u001b[1mConflicts\u001b[22m ────────────────────────────────────────── tidyverse_conflicts() ──\n",
      "\u001b[31m✖\u001b[39m \u001b[34mdplyr\u001b[39m::\u001b[32mfilter()\u001b[39m   masks \u001b[34mstats\u001b[39m::filter()\n",
      "\u001b[31m✖\u001b[39m \u001b[34mdplyr\u001b[39m::\u001b[32mlag()\u001b[39m      masks \u001b[34mstats\u001b[39m::lag()\n",
      "\u001b[31m✖\u001b[39m \u001b[34mreadr\u001b[39m::\u001b[32mread_csv()\u001b[39m masks \u001b[34manndata\u001b[39m::read_csv()\n",
      "\u001b[31m✖\u001b[39m \u001b[34mpurrr\u001b[39m::\u001b[32mreduce()\u001b[39m   masks \u001b[34mSignac\u001b[39m::reduce()\n",
      "Lade nötiges Paket: BSgenome\n",
      "\n",
      "Lade nötiges Paket: BiocGenerics\n",
      "\n",
      "\n",
      "Attache Paket: ‘BiocGenerics’\n",
      "\n",
      "\n",
      "Die folgenden Objekte sind maskiert von ‘package:dplyr’:\n",
      "\n",
      "    combine, intersect, setdiff, union\n",
      "\n",
      "\n",
      "Die folgenden Objekte sind maskiert von ‘package:stats’:\n",
      "\n",
      "    IQR, mad, sd, var, xtabs\n",
      "\n",
      "\n",
      "Die folgenden Objekte sind maskiert von ‘package:base’:\n",
      "\n",
      "    Filter, Find, Map, Position, Reduce, anyDuplicated, append,\n",
      "    as.data.frame, basename, cbind, colnames, dirname, do.call,\n",
      "    duplicated, eval, evalq, get, grep, grepl, intersect, is.unsorted,\n",
      "    lapply, mapply, match, mget, order, paste, pmax, pmax.int, pmin,\n",
      "    pmin.int, rank, rbind, rownames, sapply, setdiff, sort, table,\n",
      "    tapply, union, unique, unsplit, which.max, which.min\n",
      "\n",
      "\n",
      "Lade nötiges Paket: S4Vectors\n",
      "\n",
      "Lade nötiges Paket: stats4\n",
      "\n",
      "\n",
      "Attache Paket: ‘S4Vectors’\n",
      "\n",
      "\n",
      "Die folgenden Objekte sind maskiert von ‘package:dplyr’:\n",
      "\n",
      "    first, rename\n",
      "\n",
      "\n",
      "Das folgende Objekt ist maskiert ‘package:tidyr’:\n",
      "\n",
      "    expand\n",
      "\n",
      "\n",
      "Die folgenden Objekte sind maskiert von ‘package:base’:\n",
      "\n",
      "    I, expand.grid, unname\n",
      "\n",
      "\n",
      "Lade nötiges Paket: IRanges\n",
      "\n",
      "\n",
      "Attache Paket: ‘IRanges’\n",
      "\n",
      "\n",
      "Die folgenden Objekte sind maskiert von ‘package:dplyr’:\n",
      "\n",
      "    collapse, desc, slice\n",
      "\n",
      "\n",
      "Das folgende Objekt ist maskiert ‘package:purrr’:\n",
      "\n",
      "    reduce\n",
      "\n",
      "\n",
      "Das folgende Objekt ist maskiert ‘package:sp’:\n",
      "\n",
      "    %over%\n",
      "\n",
      "\n",
      "Lade nötiges Paket: GenomeInfoDb\n",
      "\n",
      "Lade nötiges Paket: GenomicRanges\n",
      "\n",
      "Lade nötiges Paket: Biostrings\n",
      "\n",
      "Lade nötiges Paket: XVector\n",
      "\n",
      "\n",
      "Attache Paket: ‘XVector’\n",
      "\n",
      "\n",
      "Das folgende Objekt ist maskiert ‘package:purrr’:\n",
      "\n",
      "    compact\n",
      "\n",
      "\n",
      "\n",
      "Attache Paket: ‘Biostrings’\n",
      "\n",
      "\n",
      "Das folgende Objekt ist maskiert ‘package:base’:\n",
      "\n",
      "    strsplit\n",
      "\n",
      "\n",
      "Lade nötiges Paket: rtracklayer\n",
      "\n"
     ]
    }
   ],
   "source": [
    "library(anndata)\n",
    "library(Signac)\n",
    "library(Seurat)\n",
    "library(anndata)\n",
    "library(ggplot2)\n",
    "library(tidyverse)\n",
    "library(Signac)\n",
    "library(Seurat)\n",
    "#library(EnsDb.Mmusculus.v102)\n",
    "library(BSgenome.Mmusculus.UCSC.mm10)\n",
    "#library(pastecs)\n",
    "library(stringr)"
   ]
  },
  {
   "cell_type": "code",
   "execution_count": 2,
   "id": "74917a52-e21c-41ae-a799-a2ed76c7cee1",
   "metadata": {},
   "outputs": [],
   "source": [
    "seurat <- readRDS(\"/Users/dominik.klein/data/seurat_new_annotations.rds\")"
   ]
  },
  {
   "cell_type": "code",
   "execution_count": 3,
   "id": "c05259f6-b28e-4fc3-9e8a-52450e93e826",
   "metadata": {},
   "outputs": [
    {
     "name": "stderr",
     "output_type": "stream",
     "text": [
      "Extracting gene coordinates\n",
      "\n",
      "Extracting reads overlapping genomic regions\n",
      "\n",
      "Extracting reads overlapping genomic regions\n",
      "\n"
     ]
    }
   ],
   "source": [
    "gene.activities <- GeneActivity(seurat)"
   ]
  },
  {
   "cell_type": "code",
   "execution_count": 4,
   "id": "3d541a0f-839b-43b9-9750-e533c3b51df6",
   "metadata": {},
   "outputs": [
    {
     "name": "stderr",
     "output_type": "stream",
     "text": [
      "Warning message:\n",
      "“Keys should be one or more alphanumeric characters followed by an underscore, setting key from gene_activity_ to geneactivity_”\n"
     ]
    }
   ],
   "source": [
    "seurat[['gene_activity']] <- CreateAssayObject(counts = gene.activities)"
   ]
  },
  {
   "cell_type": "code",
   "execution_count": 6,
   "id": "a132c818-ef6e-450e-bc95-4225f68fed64",
   "metadata": {},
   "outputs": [],
   "source": [
    "seurat <- NormalizeData(\n",
    "  object = seurat,\n",
    "  assay = 'gene_activity',\n",
    "  normalization.method = 'LogNormalize',\n",
    "  scale.factor = median(seurat$nCount_RNA)\n",
    ")"
   ]
  },
  {
   "cell_type": "code",
   "execution_count": 14,
   "id": "9c540817-eeeb-47bf-91b5-54cd39ea2152",
   "metadata": {},
   "outputs": [
    {
     "data": {
      "text/plain": [
       "An object of class Seurat \n",
       "496944 features across 16918 samples within 4 assays \n",
       "Active assay: gene_activity (21615 features, 0 variable features)\n",
       " 3 other assays present: RNA, ATAC, ATAC_merged\n",
       " 1 dimensional reduction calculated: lsi"
      ]
     },
     "metadata": {},
     "output_type": "display_data"
    }
   ],
   "source": [
    "seurat"
   ]
  },
  {
   "cell_type": "code",
   "execution_count": 11,
   "id": "dc31a942-ca5f-43cc-9d72-b18cb4ca8652",
   "metadata": {},
   "outputs": [],
   "source": [
    "adata <- anndata::AnnData(X=t(seurat[['gene_activity']]@counts))"
   ]
  },
  {
   "cell_type": "code",
   "execution_count": 12,
   "id": "5bfa9c3f-f709-465a-a28c-aba8952d0e20",
   "metadata": {},
   "outputs": [
    {
     "data": {
      "text/plain": [
       "None"
      ]
     },
     "metadata": {},
     "output_type": "display_data"
    }
   ],
   "source": [
    "adata$write_h5ad(\"/Users/dominik.klein/data/gene_activities.h5ad\",\n",
    "                compression = \"gzip\")"
   ]
  },
  {
   "cell_type": "code",
   "execution_count": 13,
   "id": "ed4d0b68-47c4-45f5-b1ea-bc62569e30c3",
   "metadata": {},
   "outputs": [],
   "source": [
    "saveRDS(seurat, \"/Users/dominik.klein/data/seurat_with_gene_activity.rds\")"
   ]
  }
 ],
 "metadata": {
  "kernelspec": {
   "display_name": "R",
   "language": "R",
   "name": "ir"
  },
  "language_info": {
   "codemirror_mode": "r",
   "file_extension": ".r",
   "mimetype": "text/x-r-source",
   "name": "R",
   "pygments_lexer": "r",
   "version": "4.2.2"
  }
 },
 "nbformat": 4,
 "nbformat_minor": 5
}
