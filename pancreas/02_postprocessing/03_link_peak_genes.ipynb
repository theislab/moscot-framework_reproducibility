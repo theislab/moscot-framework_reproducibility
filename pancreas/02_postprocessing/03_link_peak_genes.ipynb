{
 "cells": [
  {
   "cell_type": "code",
   "execution_count": 1,
   "id": "cc87b786-049b-4dad-9fd6-e213de1a6001",
   "metadata": {},
   "outputs": [
    {
     "name": "stderr",
     "output_type": "stream",
     "text": [
      "Downloading package from url: http://cran.us.r-project.org/src/contrib/Archive/vctrs/vctrs_0.5.0.tar.gz\n",
      "\n"
     ]
    },
    {
     "name": "stdout",
     "output_type": "stream",
     "text": [
      "\n"
     ]
    },
    {
     "name": "stderr",
     "output_type": "stream",
     "text": [
      "Downloading package from url: http://cran.us.r-project.org/src/contrib/Archive/stringr/stringr_1.4.0.tar.gz\n",
      "\n"
     ]
    },
    {
     "name": "stdout",
     "output_type": "stream",
     "text": [
      "\n"
     ]
    }
   ],
   "source": [
    "library(remotes)\n",
    "install_version(\"vctrs\", version = \"0.5.0\", repos = \"http://cran.us.r-project.org\")\n",
    "install_version(\"stringr\", version = \"1.4.0\", repos = \"http://cran.us.r-project.org\")"
   ]
  },
  {
   "cell_type": "code",
   "execution_count": 2,
   "id": "e0d77877-645c-422a-86f4-9734646ee668",
   "metadata": {},
   "outputs": [],
   "source": [
    "library(vctrs)\n",
    "library(stringr)"
   ]
  },
  {
   "cell_type": "code",
   "execution_count": 3,
   "id": "336a1ecf-e9ae-45d8-856f-3e46035c2613",
   "metadata": {},
   "outputs": [
    {
     "name": "stderr",
     "output_type": "stream",
     "text": [
      "Attaching SeuratObject\n",
      "\n",
      "── \u001b[1mAttaching packages\u001b[22m ─────────────────────────────────────── tidyverse 1.3.2 ──\n",
      "\u001b[32m✔\u001b[39m \u001b[34mtibble \u001b[39m 3.1.8      \u001b[32m✔\u001b[39m \u001b[34mpurrr  \u001b[39m 1.0.0 \n",
      "\u001b[32m✔\u001b[39m \u001b[34mtidyr  \u001b[39m 1.2.1      \u001b[32m✔\u001b[39m \u001b[34mdplyr  \u001b[39m 1.0.10\n",
      "\u001b[32m✔\u001b[39m \u001b[34mreadr  \u001b[39m 2.1.3      \u001b[32m✔\u001b[39m \u001b[34mforcats\u001b[39m 0.5.2 \n",
      "── \u001b[1mConflicts\u001b[22m ────────────────────────────────────────── tidyverse_conflicts() ──\n",
      "\u001b[31m✖\u001b[39m \u001b[34mdplyr\u001b[39m::\u001b[32mdata_frame()\u001b[39m masks \u001b[34mtibble\u001b[39m::data_frame(), \u001b[34mvctrs\u001b[39m::data_frame()\n",
      "\u001b[31m✖\u001b[39m \u001b[34mdplyr\u001b[39m::\u001b[32mfilter()\u001b[39m     masks \u001b[34mstats\u001b[39m::filter()\n",
      "\u001b[31m✖\u001b[39m \u001b[34mdplyr\u001b[39m::\u001b[32mlag()\u001b[39m        masks \u001b[34mstats\u001b[39m::lag()\n",
      "\u001b[31m✖\u001b[39m \u001b[34mreadr\u001b[39m::\u001b[32mread_csv()\u001b[39m   masks \u001b[34manndata\u001b[39m::read_csv()\n",
      "\u001b[31m✖\u001b[39m \u001b[34mpurrr\u001b[39m::\u001b[32mreduce()\u001b[39m     masks \u001b[34mSignac\u001b[39m::reduce()\n"
     ]
    }
   ],
   "source": [
    "library(anndata)\n",
    "library(Signac)\n",
    "library(Seurat)\n",
    "library(anndata)\n",
    "library(ggplot2)\n",
    "library(tidyverse)\n"
   ]
  },
  {
   "cell_type": "code",
   "execution_count": 4,
   "id": "2009bca0-e00d-4942-8453-621d77c73c97",
   "metadata": {},
   "outputs": [
    {
     "name": "stderr",
     "output_type": "stream",
     "text": [
      "Lade nötiges Paket: BSgenome\n",
      "\n",
      "Lade nötiges Paket: BiocGenerics\n",
      "\n",
      "\n",
      "Attache Paket: ‘BiocGenerics’\n",
      "\n",
      "\n",
      "Die folgenden Objekte sind maskiert von ‘package:dplyr’:\n",
      "\n",
      "    combine, intersect, setdiff, union\n",
      "\n",
      "\n",
      "Die folgenden Objekte sind maskiert von ‘package:stats’:\n",
      "\n",
      "    IQR, mad, sd, var, xtabs\n",
      "\n",
      "\n",
      "Die folgenden Objekte sind maskiert von ‘package:base’:\n",
      "\n",
      "    Filter, Find, Map, Position, Reduce, anyDuplicated, aperm, append,\n",
      "    as.data.frame, basename, cbind, colnames, dirname, do.call,\n",
      "    duplicated, eval, evalq, get, grep, grepl, intersect, is.unsorted,\n",
      "    lapply, mapply, match, mget, order, paste, pmax, pmax.int, pmin,\n",
      "    pmin.int, rank, rbind, rownames, sapply, setdiff, sort, table,\n",
      "    tapply, union, unique, unsplit, which.max, which.min\n",
      "\n",
      "\n",
      "Lade nötiges Paket: S4Vectors\n",
      "\n",
      "Lade nötiges Paket: stats4\n",
      "\n",
      "\n",
      "Attache Paket: ‘S4Vectors’\n",
      "\n",
      "\n",
      "Die folgenden Objekte sind maskiert von ‘package:dplyr’:\n",
      "\n",
      "    first, rename\n",
      "\n",
      "\n",
      "Das folgende Objekt ist maskiert ‘package:tidyr’:\n",
      "\n",
      "    expand\n",
      "\n",
      "\n",
      "Die folgenden Objekte sind maskiert von ‘package:base’:\n",
      "\n",
      "    I, expand.grid, unname\n",
      "\n",
      "\n",
      "Lade nötiges Paket: IRanges\n",
      "\n",
      "\n",
      "Attache Paket: ‘IRanges’\n",
      "\n",
      "\n",
      "Die folgenden Objekte sind maskiert von ‘package:dplyr’:\n",
      "\n",
      "    collapse, desc, slice\n",
      "\n",
      "\n",
      "Das folgende Objekt ist maskiert ‘package:purrr’:\n",
      "\n",
      "    reduce\n",
      "\n",
      "\n",
      "Lade nötiges Paket: GenomeInfoDb\n",
      "\n",
      "Lade nötiges Paket: GenomicRanges\n",
      "\n",
      "Lade nötiges Paket: Biostrings\n",
      "\n",
      "Lade nötiges Paket: XVector\n",
      "\n",
      "\n",
      "Attache Paket: ‘XVector’\n",
      "\n",
      "\n",
      "Das folgende Objekt ist maskiert ‘package:purrr’:\n",
      "\n",
      "    compact\n",
      "\n",
      "\n",
      "\n",
      "Attache Paket: ‘Biostrings’\n",
      "\n",
      "\n",
      "Das folgende Objekt ist maskiert ‘package:base’:\n",
      "\n",
      "    strsplit\n",
      "\n",
      "\n",
      "Lade nötiges Paket: rtracklayer\n",
      "\n"
     ]
    }
   ],
   "source": [
    "library(Signac)\n",
    "library(Seurat)\n",
    "library(BSgenome.Mmusculus.UCSC.mm10)"
   ]
  },
  {
   "cell_type": "code",
   "execution_count": 5,
   "id": "efe96d2c-0826-431f-8c49-f88e194065fe",
   "metadata": {},
   "outputs": [],
   "source": [
    "seurat <- readRDS(\"/Users/dominik.klein/data/seurat_filtered.rds\")"
   ]
  },
  {
   "cell_type": "code",
   "execution_count": 6,
   "id": "f055eadd-6f8a-4c1a-ab11-0c6e21e88529",
   "metadata": {},
   "outputs": [
    {
     "name": "stderr",
     "output_type": "stream",
     "text": [
      "Testing 17860 genes and 228235 peaks\n",
      "\n",
      "Found gene coordinates for 16350 genes\n",
      "\n",
      "as(<dgCMatrix>, \"dgTMatrix\") is deprecated since Matrix 1.5-0; do as(., \"TsparseMatrix\") instead\n",
      "\n"
     ]
    }
   ],
   "source": [
    "seurat <- LinkPeaks(\n",
    "  object = seurat,\n",
    "  peak.assay = \"ATAC_merged\",\n",
    "  expression.assay = \"RNA\",\n",
    ")"
   ]
  },
  {
   "cell_type": "code",
   "execution_count": 7,
   "id": "a4b1488e-b128-4031-817a-34c44c188c12",
   "metadata": {},
   "outputs": [],
   "source": [
    "saveRDS(seurat, file=\"/Users/dominik.klein/data/seurat_filtered_with_links.rds\")"
   ]
  },
  {
   "cell_type": "code",
   "execution_count": 13,
   "id": "c551c801-159e-47ff-a6d9-73734a4a5241",
   "metadata": {},
   "outputs": [
    {
     "data": {
      "text/plain": [
       "GRanges object with 16532 ranges and 5 metadata columns:\n",
       "          seqnames            ranges strand |      score        gene\n",
       "             <Rle>         <IRanges>  <Rle> |  <numeric> <character>\n",
       "      [1]        1   6073201-6487231      * |  0.0697463        St18\n",
       "      [2]        1   6458113-6487231      * | -0.0553801        St18\n",
       "      [3]        1   6487231-6510834      * | -0.0697601        St18\n",
       "      [4]        1   6487231-6638250      * |  0.0749044        St18\n",
       "      [5]        1   6487231-6668672      * |  0.0598030        St18\n",
       "      ...      ...               ...    ... .        ...         ...\n",
       "  [16528]        Y 90784738-90799322      * |  0.0667401     Gm47283\n",
       "  [16529]        Y 90784738-90803534      * |  0.0652607     Gm47283\n",
       "  [16530]        Y 90784738-90807679      * |  0.0571445     Gm47283\n",
       "  [16531]        Y 90784738-90808899      * |  0.0503883     Gm47283\n",
       "  [16532]        Y 90784738-90812832      * |  0.0802870     Gm47283\n",
       "                         peak    zscore      pvalue\n",
       "                  <character> <numeric>   <numeric>\n",
       "      [1]   1-6072759-6073642   2.48338  0.00650706\n",
       "      [2]   1-6457651-6458575  -1.88420  0.02976865\n",
       "      [3]   1-6510359-6511308  -2.57552  0.00500448\n",
       "      [4]   1-6637812-6638687   2.65488  0.00396685\n",
       "      [5]   1-6668226-6669117   1.93960  0.02621445\n",
       "      ...                 ...       ...         ...\n",
       "  [16528] Y-90798887-90799756   6.88878 2.81357e-12\n",
       "  [16529] Y-90803113-90803955   6.75447 7.16805e-12\n",
       "  [16530] Y-90807280-90808077   5.87479 2.11688e-09\n",
       "  [16531] Y-90808486-90809311   5.63287 8.86164e-09\n",
       "  [16532] Y-90812396-90813268   7.53795 2.38700e-14\n",
       "  -------\n",
       "  seqinfo: 21 sequences from an unspecified genome; no seqlengths"
      ]
     },
     "metadata": {},
     "output_type": "display_data"
    }
   ],
   "source": [
    "Links(seurat)"
   ]
  },
  {
   "cell_type": "code",
   "execution_count": null,
   "id": "00417ab7-efa2-4f82-bf93-b36e8ca19940",
   "metadata": {},
   "outputs": [],
   "source": []
  }
 ],
 "metadata": {
  "kernelspec": {
   "display_name": "R",
   "language": "R",
   "name": "ir"
  },
  "language_info": {
   "codemirror_mode": "r",
   "file_extension": ".r",
   "mimetype": "text/x-r-source",
   "name": "R",
   "pygments_lexer": "r",
   "version": "4.2.2"
  }
 },
 "nbformat": 4,
 "nbformat_minor": 5
}
