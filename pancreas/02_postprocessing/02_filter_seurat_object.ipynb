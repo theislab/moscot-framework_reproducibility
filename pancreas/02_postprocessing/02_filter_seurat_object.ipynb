{
 "cells": [
  {
   "cell_type": "code",
   "execution_count": 1,
   "id": "cc87b786-049b-4dad-9fd6-e213de1a6001",
   "metadata": {},
   "outputs": [
    {
     "name": "stderr",
     "output_type": "stream",
     "text": [
      "Downloading package from url: http://cran.us.r-project.org/src/contrib/Archive/vctrs/vctrs_0.5.0.tar.gz\n",
      "\n"
     ]
    },
    {
     "name": "stdout",
     "output_type": "stream",
     "text": [
      "\n"
     ]
    },
    {
     "name": "stderr",
     "output_type": "stream",
     "text": [
      "Downloading package from url: http://cran.us.r-project.org/src/contrib/Archive/stringr/stringr_1.4.0.tar.gz\n",
      "\n"
     ]
    },
    {
     "name": "stdout",
     "output_type": "stream",
     "text": [
      "\n"
     ]
    }
   ],
   "source": [
    "library(remotes)\n",
    "install_version(\"vctrs\", version = \"0.5.0\", repos = \"http://cran.us.r-project.org\")\n",
    "install_version(\"stringr\", version = \"1.4.0\", repos = \"http://cran.us.r-project.org\")"
   ]
  },
  {
   "cell_type": "code",
   "execution_count": 2,
   "id": "e0d77877-645c-422a-86f4-9734646ee668",
   "metadata": {},
   "outputs": [],
   "source": [
    "library(vctrs)\n",
    "library(stringr)"
   ]
  },
  {
   "cell_type": "code",
   "execution_count": 3,
   "id": "336a1ecf-e9ae-45d8-856f-3e46035c2613",
   "metadata": {},
   "outputs": [
    {
     "name": "stderr",
     "output_type": "stream",
     "text": [
      "Attaching SeuratObject\n",
      "\n",
      "── \u001b[1mAttaching packages\u001b[22m ─────────────────────────────────────── tidyverse 1.3.2 ──\n",
      "\u001b[32m✔\u001b[39m \u001b[34mtibble \u001b[39m 3.1.8      \u001b[32m✔\u001b[39m \u001b[34mpurrr  \u001b[39m 1.0.0 \n",
      "\u001b[32m✔\u001b[39m \u001b[34mtidyr  \u001b[39m 1.2.1      \u001b[32m✔\u001b[39m \u001b[34mdplyr  \u001b[39m 1.0.10\n",
      "\u001b[32m✔\u001b[39m \u001b[34mreadr  \u001b[39m 2.1.3      \u001b[32m✔\u001b[39m \u001b[34mforcats\u001b[39m 0.5.2 \n",
      "── \u001b[1mConflicts\u001b[22m ────────────────────────────────────────── tidyverse_conflicts() ──\n",
      "\u001b[31m✖\u001b[39m \u001b[34mdplyr\u001b[39m::\u001b[32mdata_frame()\u001b[39m masks \u001b[34mtibble\u001b[39m::data_frame(), \u001b[34mvctrs\u001b[39m::data_frame()\n",
      "\u001b[31m✖\u001b[39m \u001b[34mdplyr\u001b[39m::\u001b[32mfilter()\u001b[39m     masks \u001b[34mstats\u001b[39m::filter()\n",
      "\u001b[31m✖\u001b[39m \u001b[34mdplyr\u001b[39m::\u001b[32mlag()\u001b[39m        masks \u001b[34mstats\u001b[39m::lag()\n",
      "\u001b[31m✖\u001b[39m \u001b[34mreadr\u001b[39m::\u001b[32mread_csv()\u001b[39m   masks \u001b[34manndata\u001b[39m::read_csv()\n",
      "\u001b[31m✖\u001b[39m \u001b[34mpurrr\u001b[39m::\u001b[32mreduce()\u001b[39m     masks \u001b[34mSignac\u001b[39m::reduce()\n"
     ]
    }
   ],
   "source": [
    "library(anndata)\n",
    "library(Signac)\n",
    "library(Seurat)\n",
    "library(anndata)\n",
    "library(ggplot2)\n",
    "library(tidyverse)\n"
   ]
  },
  {
   "cell_type": "code",
   "execution_count": 4,
   "id": "2009bca0-e00d-4942-8453-621d77c73c97",
   "metadata": {},
   "outputs": [
    {
     "name": "stderr",
     "output_type": "stream",
     "text": [
      "Lade nötiges Paket: BSgenome\n",
      "\n",
      "Lade nötiges Paket: BiocGenerics\n",
      "\n",
      "\n",
      "Attache Paket: ‘BiocGenerics’\n",
      "\n",
      "\n",
      "Die folgenden Objekte sind maskiert von ‘package:dplyr’:\n",
      "\n",
      "    combine, intersect, setdiff, union\n",
      "\n",
      "\n",
      "Die folgenden Objekte sind maskiert von ‘package:stats’:\n",
      "\n",
      "    IQR, mad, sd, var, xtabs\n",
      "\n",
      "\n",
      "Die folgenden Objekte sind maskiert von ‘package:base’:\n",
      "\n",
      "    Filter, Find, Map, Position, Reduce, anyDuplicated, aperm, append,\n",
      "    as.data.frame, basename, cbind, colnames, dirname, do.call,\n",
      "    duplicated, eval, evalq, get, grep, grepl, intersect, is.unsorted,\n",
      "    lapply, mapply, match, mget, order, paste, pmax, pmax.int, pmin,\n",
      "    pmin.int, rank, rbind, rownames, sapply, setdiff, sort, table,\n",
      "    tapply, union, unique, unsplit, which.max, which.min\n",
      "\n",
      "\n",
      "Lade nötiges Paket: S4Vectors\n",
      "\n",
      "Lade nötiges Paket: stats4\n",
      "\n",
      "\n",
      "Attache Paket: ‘S4Vectors’\n",
      "\n",
      "\n",
      "Die folgenden Objekte sind maskiert von ‘package:dplyr’:\n",
      "\n",
      "    first, rename\n",
      "\n",
      "\n",
      "Das folgende Objekt ist maskiert ‘package:tidyr’:\n",
      "\n",
      "    expand\n",
      "\n",
      "\n",
      "Die folgenden Objekte sind maskiert von ‘package:base’:\n",
      "\n",
      "    I, expand.grid, unname\n",
      "\n",
      "\n",
      "Lade nötiges Paket: IRanges\n",
      "\n",
      "\n",
      "Attache Paket: ‘IRanges’\n",
      "\n",
      "\n",
      "Die folgenden Objekte sind maskiert von ‘package:dplyr’:\n",
      "\n",
      "    collapse, desc, slice\n",
      "\n",
      "\n",
      "Das folgende Objekt ist maskiert ‘package:purrr’:\n",
      "\n",
      "    reduce\n",
      "\n",
      "\n",
      "Lade nötiges Paket: GenomeInfoDb\n",
      "\n",
      "Lade nötiges Paket: GenomicRanges\n",
      "\n",
      "Lade nötiges Paket: Biostrings\n",
      "\n",
      "Lade nötiges Paket: XVector\n",
      "\n",
      "\n",
      "Attache Paket: ‘XVector’\n",
      "\n",
      "\n",
      "Das folgende Objekt ist maskiert ‘package:purrr’:\n",
      "\n",
      "    compact\n",
      "\n",
      "\n",
      "\n",
      "Attache Paket: ‘Biostrings’\n",
      "\n",
      "\n",
      "Das folgende Objekt ist maskiert ‘package:base’:\n",
      "\n",
      "    strsplit\n",
      "\n",
      "\n",
      "Lade nötiges Paket: rtracklayer\n",
      "\n"
     ]
    }
   ],
   "source": [
    "library(Signac)\n",
    "library(Seurat)\n",
    "library(BSgenome.Mmusculus.UCSC.mm10)"
   ]
  },
  {
   "cell_type": "code",
   "execution_count": null,
   "id": "efe96d2c-0826-431f-8c49-f88e194065fe",
   "metadata": {},
   "outputs": [],
   "source": [
    "seurat <- readRDS(\"/Users/dominik.klein/data/seurat_new_annotations.rds\")"
   ]
  },
  {
   "cell_type": "code",
   "execution_count": null,
   "id": "f055eadd-6f8a-4c1a-ab11-0c6e21e88529",
   "metadata": {},
   "outputs": [],
   "source": [
    "seurat"
   ]
  },
  {
   "cell_type": "code",
   "execution_count": null,
   "id": "0b5945e9-17e6-4bb1-806c-401bf506e755",
   "metadata": {},
   "outputs": [],
   "source": [
    "Idents(seurat) <- seurat@meta.data[[\"Fev_delta_refinement\"]]"
   ]
  },
  {
   "cell_type": "code",
   "execution_count": null,
   "id": "04eabd8b-90d2-4e3a-a24b-dafc540f7076",
   "metadata": {},
   "outputs": [],
   "source": [
    "endocrine_cell_types <- c(\n",
    "    \"Ngn3 low\",\n",
    "    \"Ngn3 high\",\n",
    "    \"Ngn3 high cycling\",\n",
    "    \"Fev+\",\n",
    "    \"Fev+ Alpha\",\n",
    "    \"Fev+ Beta\",\n",
    "    \"Fev+ Delta,0\",\n",
    "    \"Fev+ Delta,1\",\n",
    "    \"Fev+ Delta,2\",\n",
    "    \"Eps. progenitors\",\n",
    "    \"Alpha\",\n",
    "    \"Beta\",\n",
    "    \"Delta\",\n",
    "    \"Epsilon\"\n",
    ")"
   ]
  },
  {
   "cell_type": "code",
   "execution_count": null,
   "id": "bd8526b0-6a89-47e4-9414-6bd983853a65",
   "metadata": {},
   "outputs": [],
   "source": [
    "seurat_filtered <- subset(x=seurat, idents=endocrine_cell_types)"
   ]
  },
  {
   "cell_type": "code",
   "execution_count": null,
   "id": "c5aea959-3e65-4fb3-8ce2-963378c67187",
   "metadata": {},
   "outputs": [],
   "source": [
    "meta.data_filtered <- seurat@meta.data[seurat@meta.data$Fev_delta_refinement %in% endocrine_cell_types, ]"
   ]
  },
  {
   "cell_type": "code",
   "execution_count": null,
   "id": "f27656d0-1ae2-4706-a678-b8ccafa95445",
   "metadata": {},
   "outputs": [],
   "source": [
    "seurat_filtered@meta.data <- meta.data_filtered"
   ]
  },
  {
   "cell_type": "code",
   "execution_count": null,
   "id": "00d03c93-1077-41ea-988b-3aa6c6380ad9",
   "metadata": {},
   "outputs": [],
   "source": [
    "seurat_filtered@meta.data$refinement <- seurat_filtered@meta.data$Fev_delta_refinement"
   ]
  },
  {
   "cell_type": "code",
   "execution_count": null,
   "id": "cf9b89b4-68e0-4ee3-8b1c-564e4b3bba60",
   "metadata": {},
   "outputs": [],
   "source": [
    "seurat_filtered@meta.data$refinement[(seurat_filtered@meta.data$Ngn3_high_refinement != \"Ngn3 high,5\") & (seurat_filtered@meta.data$Fev_delta_refinement == \"Ngn3 high\")] <- \"Ngn3 high,0\"\n",
    "seurat_filtered@meta.data$refinement[seurat_filtered@meta.data$Ngn3_high_refinement == \"Ngn3 high,5\"] <- \"Ngn3 high,1\"\n"
   ]
  },
  {
   "cell_type": "code",
   "execution_count": null,
   "id": "a4b1488e-b128-4031-817a-34c44c188c12",
   "metadata": {},
   "outputs": [],
   "source": [
    "saveRDS(seurat_filtered, file=\"/Users/dominik.klein/data/seurat_filtered.rds\")"
   ]
  }
 ],
 "metadata": {
  "kernelspec": {
   "display_name": "R",
   "language": "R",
   "name": "ir"
  },
  "language_info": {
   "codemirror_mode": "r",
   "file_extension": ".r",
   "mimetype": "text/x-r-source",
   "name": "R",
   "pygments_lexer": "r",
   "version": "4.2.2"
  }
 },
 "nbformat": 4,
 "nbformat_minor": 5
}
