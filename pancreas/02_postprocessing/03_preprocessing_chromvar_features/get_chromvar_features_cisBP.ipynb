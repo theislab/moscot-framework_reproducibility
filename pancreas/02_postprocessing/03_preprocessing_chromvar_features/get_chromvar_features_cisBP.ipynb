{
 "cells": [
  {
   "cell_type": "code",
   "execution_count": null,
   "id": "a0e11d50-7b3c-4311-a630-7096b67cc361",
   "metadata": {},
   "outputs": [],
   "source": [
    "# Output had to be deleted as too long"
   ]
  },
  {
   "cell_type": "code",
   "execution_count": null,
   "id": "b72caacf-b21f-43f3-a573-d4481141cee5",
   "metadata": {},
   "outputs": [],
   "source": [
    "library(anndata)\n",
    "library(Signac)\n",
    "library(Seurat)\n",
    "library(anndata)\n",
    "library(ggplot2)\n",
    "library(tidyverse)\n",
    "library(Signac)\n",
    "library(Seurat)\n",
    "#library(EnsDb.Mmusculus.v102)\n",
    "library(BSgenome.Mmusculus.UCSC.mm10)\n",
    "#library(EnsDb.Mmusculus.v102)\n",
    "#library(pastecs)\n",
    "library(stringr)"
   ]
  },
  {
   "cell_type": "code",
   "execution_count": null,
   "id": "dffe2b90-4dc0-4fcc-b5d5-4089a3a74f1f",
   "metadata": {},
   "outputs": [],
   "source": [
    "R.version"
   ]
  },
  {
   "cell_type": "code",
   "execution_count": null,
   "id": "ced64763-eda4-419d-a1bc-69f37fe9e635",
   "metadata": {},
   "outputs": [],
   "source": [
    "library(\"chromVARmotifs\")"
   ]
  },
  {
   "cell_type": "code",
   "execution_count": null,
   "id": "804c4ba1-d999-420a-8e0b-8e78c5fb5bda",
   "metadata": {},
   "outputs": [],
   "source": [
    "library(TFBSTools)\n"
   ]
  },
  {
   "cell_type": "code",
   "execution_count": null,
   "id": "f2dda4c1-aa81-4f23-9637-992087fd5f46",
   "metadata": {},
   "outputs": [],
   "source": [
    "seurat <- readRDS(\"/Users/dominik.klein/data/seurat_filtered.rds\")"
   ]
  },
  {
   "cell_type": "code",
   "execution_count": null,
   "id": "60c2ff96-56e5-4d9e-8de3-b385c3713b06",
   "metadata": {},
   "outputs": [],
   "source": [
    "BSgenome.Mmusculus.UCSC.mm10.renamed <- renameSeqlevels(BSgenome.Mmusculus.UCSC.mm10, value = str_replace(str_replace(seqnames(BSgenome.Mmusculus.UCSC.mm10), pattern = \"chr\", replacement = \"\"), pattern = \"M\", replacement = \"MT\"))"
   ]
  },
  {
   "cell_type": "code",
   "execution_count": null,
   "id": "5d06dced-cea5-4913-adbc-9d4545fc280b",
   "metadata": {},
   "outputs": [],
   "source": [
    "if (!require(\"BiocManager\", quietly = TRUE))\n",
    "    install.packages(\"BiocManager\")\n",
    "\n",
    "BiocManager::install(\"universalmotif\")"
   ]
  },
  {
   "cell_type": "code",
   "execution_count": null,
   "id": "bba7edff-1720-4080-81d6-64168971894d",
   "metadata": {},
   "outputs": [],
   "source": [
    "library(\"universalmotif\")"
   ]
  },
  {
   "cell_type": "code",
   "execution_count": null,
   "id": "c8ab2964-93bc-4b76-aa14-02a13ecf4cae",
   "metadata": {},
   "outputs": [],
   "source": [
    "filenames <- list.files(\"/Users/dominik.klein/Downloads/Mus_musculus_2023_01_03_10_03_am/pwms_all_motifs\", full.names=TRUE)"
   ]
  },
  {
   "cell_type": "code",
   "execution_count": null,
   "id": "5a7d03b0-ae16-425f-8e2e-c57af6cb056e",
   "metadata": {},
   "outputs": [],
   "source": [
    "length(filenames)"
   ]
  },
  {
   "cell_type": "code",
   "execution_count": null,
   "id": "cb9c6618-2f54-40c6-ac7c-2bb99244ffc6",
   "metadata": {},
   "outputs": [],
   "source": [
    "read_cisbp_with_errors <- function (filename) {\n",
    "  out <- tryCatch(read_cisbp(filename), error=function(cond)NULL)\n",
    "}"
   ]
  },
  {
   "cell_type": "code",
   "execution_count": null,
   "id": "65ad97fe-0b9c-4dce-9049-a80002d9d531",
   "metadata": {},
   "outputs": [],
   "source": [
    "pfm_cisbp <- lapply(filenames, read_cisbp_with_errors)"
   ]
  },
  {
   "cell_type": "code",
   "execution_count": null,
   "id": "aad59682-3a2f-4aaa-9475-5b7c2f951225",
   "metadata": {},
   "outputs": [],
   "source": [
    "length(pfm_cisbp)"
   ]
  },
  {
   "cell_type": "code",
   "execution_count": null,
   "id": "27197495-ecad-4e0c-89d1-a1a528285b80",
   "metadata": {},
   "outputs": [],
   "source": [
    "pfm_cisbp[sapply(pfm_cisbp, is.null)] <- NULL"
   ]
  },
  {
   "cell_type": "code",
   "execution_count": null,
   "id": "5dc6ea09-8b5c-4f4a-a2c9-ae5a1431b73c",
   "metadata": {},
   "outputs": [],
   "source": [
    "length(pfm_cisbp)"
   ]
  },
  {
   "cell_type": "code",
   "execution_count": null,
   "id": "cefe4057-d488-4d03-817a-ea9a3712c2e0",
   "metadata": {},
   "outputs": [],
   "source": [
    "pfm_cisbp_as_list <- convert_motifs(pfm_cisbp, \"universalmotif-TFBSTools-PWMatrixList\")"
   ]
  },
  {
   "cell_type": "code",
   "execution_count": null,
   "id": "1baffed8-79af-404e-8d46-ef979acece43",
   "metadata": {},
   "outputs": [],
   "source": [
    "convert <- function(el){out <- convert_motifs(el, \"TFBSTools-PWMatrix\")}"
   ]
  },
  {
   "cell_type": "code",
   "execution_count": null,
   "id": "5a7ebbc1-a73e-452a-89a9-00dc7630fa47",
   "metadata": {},
   "outputs": [],
   "source": [
    "pfm_cisbp_converted <- lapply(pfm_cisbp, convert)"
   ]
  },
  {
   "cell_type": "code",
   "execution_count": null,
   "id": "664655d2-cd19-49f3-aa3b-a9528a524ab9",
   "metadata": {},
   "outputs": [],
   "source": [
    "res <- do.call(PWMatrixList, pfm_cisbp_converted)"
   ]
  },
  {
   "cell_type": "code",
   "execution_count": null,
   "id": "57c5b368-8c3d-41df-a5c7-16bf2c4c98d5",
   "metadata": {},
   "outputs": [],
   "source": [
    "# add motif information\n",
    "seurat <- AddMotifs(\n",
    "  object = seurat,\n",
    "  genome = BSgenome.Mmusculus.UCSC.mm10.renamed,\n",
    "  pfm = res\n",
    ")"
   ]
  },
  {
   "cell_type": "code",
   "execution_count": null,
   "id": "f19ef5e6-ff2a-4021-b26e-45e903fd1ecd",
   "metadata": {},
   "outputs": [],
   "source": [
    "saveRDS(seurat, \"/Users/dominik.klein/data/cisBP_seurat_reduced.rds\")"
   ]
  },
  {
   "cell_type": "code",
   "execution_count": null,
   "id": "2d94460d-31ed-4a9f-8a75-ecb320b7f3f1",
   "metadata": {},
   "outputs": [],
   "source": [
    "library(\"chromVAR\")"
   ]
  },
  {
   "cell_type": "code",
   "execution_count": null,
   "id": "0d4ed6ef-15f5-4c38-b546-1f99763d09e4",
   "metadata": {},
   "outputs": [],
   "source": [
    "seurat <- RunChromVAR(\n",
    "  object = seurat,\n",
    "  genome = BSgenome.Mmusculus.UCSC.mm10.renamed\n",
    ")\n",
    "\n"
   ]
  },
  {
   "cell_type": "code",
   "execution_count": null,
   "id": "64269ae2-7963-40eb-a4bc-7508e7b103ca",
   "metadata": {},
   "outputs": [],
   "source": [
    "DefaultAssay(seurat) <- \"chromvar\""
   ]
  },
  {
   "cell_type": "code",
   "execution_count": null,
   "id": "571c1892-5e26-4715-811f-e3d8b18828f3",
   "metadata": {},
   "outputs": [],
   "source": [
    "seurat"
   ]
  },
  {
   "cell_type": "code",
   "execution_count": null,
   "id": "df2f676c-021b-4dba-a795-26e99e6b56c1",
   "metadata": {},
   "outputs": [],
   "source": [
    "write.csv(seurat[[\"chromvar\"]]@data, \"/Users/dominik.klein/data/cisBP_chromvar_annotations_reduced.csv\")"
   ]
  },
  {
   "cell_type": "code",
   "execution_count": null,
   "id": "3f69fc8c-4b37-4fa2-88ac-0119f9b8ced9",
   "metadata": {},
   "outputs": [],
   "source": [
    "saveRDS(seurat, \"/Users/dominik.klein/data/cisBP_seurat_with_chromVAR_reduced.rds\")"
   ]
  },
  {
   "cell_type": "code",
   "execution_count": 1,
   "id": "d34e5709-eb4a-4ea5-98ec-ce8e2137dd8d",
   "metadata": {},
   "outputs": [
    {
     "data": {
      "text/plain": [
       "R version 4.2.2 (2022-10-31)\n",
       "Platform: x86_64-apple-darwin13.4.0 (64-bit)\n",
       "Running under: macOS Big Sur ... 10.16\n",
       "\n",
       "Matrix products: default\n",
       "BLAS/LAPACK: /Users/dominik.klein/opt/anaconda3/envs/mm_best_muon_full_2/lib/libopenblasp-r0.3.21.dylib\n",
       "\n",
       "locale:\n",
       "[1] C/UTF-8/C/C/C/C\n",
       "\n",
       "attached base packages:\n",
       "[1] stats     graphics  grDevices utils     datasets  methods   base     \n",
       "\n",
       "loaded via a namespace (and not attached):\n",
       " [1] fansi_1.0.3     crayon_1.5.2    digest_0.6.31   utf8_1.2.2     \n",
       " [5] IRdisplay_1.1   repr_1.1.4      lifecycle_1.0.3 jsonlite_1.8.4 \n",
       " [9] evaluate_0.19   pillar_1.8.1    rlang_1.0.6     cli_3.6.0      \n",
       "[13] uuid_1.1-0      vctrs_0.5.0     IRkernel_1.3.1  tools_4.2.2    \n",
       "[17] glue_1.6.2      fastmap_1.1.0   compiler_4.2.2  base64enc_0.1-3\n",
       "[21] pbdZMQ_0.3-8    htmltools_0.5.4"
      ]
     },
     "metadata": {},
     "output_type": "display_data"
    }
   ],
   "source": [
    "sessionInfo()"
   ]
  },
  {
   "cell_type": "code",
   "execution_count": null,
   "id": "68a570ed-9324-40dd-89ff-ab685644887b",
   "metadata": {},
   "outputs": [],
   "source": []
  }
 ],
 "metadata": {
  "kernelspec": {
   "display_name": "R",
   "language": "R",
   "name": "ir"
  },
  "language_info": {
   "codemirror_mode": "r",
   "file_extension": ".r",
   "mimetype": "text/x-r-source",
   "name": "R",
   "pygments_lexer": "r",
   "version": "4.2.2"
  }
 },
 "nbformat": 4,
 "nbformat_minor": 5
}
