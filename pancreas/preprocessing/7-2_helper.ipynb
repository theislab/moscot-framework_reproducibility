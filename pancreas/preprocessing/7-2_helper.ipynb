{
 "cells": [
  {
   "cell_type": "code",
   "execution_count": 1,
   "id": "a870213d-0441-4a59-8ab8-290294912445",
   "metadata": {},
   "outputs": [
    {
     "name": "stderr",
     "output_type": "stream",
     "text": [
      "Attaching SeuratObject\n",
      "\n",
      "Attaching sp\n",
      "\n"
     ]
    }
   ],
   "source": [
    "library(Seurat)"
   ]
  },
  {
   "cell_type": "code",
   "execution_count": 11,
   "id": "3fee9964-6cc4-4f7a-9311-be3920b1d046",
   "metadata": {},
   "outputs": [],
   "source": [
    "library(Signac)\n",
    "library(anndata)\n",
    "library(readr)\n",
    "library(Matrix)"
   ]
  },
  {
   "cell_type": "code",
   "execution_count": 3,
   "id": "7836c7f2-5579-48cb-86dc-d9797a5eac48",
   "metadata": {},
   "outputs": [],
   "source": [
    "seurat <- readRDS(\"/Users/dominik.klein/data/E14-E15_adata_filtered_seurat.rds\")"
   ]
  },
  {
   "cell_type": "code",
   "execution_count": 5,
   "id": "8005bb1a-d378-4bff-81c6-c0a894b5d7a4",
   "metadata": {},
   "outputs": [
    {
     "data": {
      "text/plain": [
       "An object of class Seurat \n",
       "487835 features across 16978 samples within 3 assays \n",
       "Active assay: ATAC (228321 features, 0 variable features)\n",
       " 2 other assays present: RNA, ATAC_merged"
      ]
     },
     "metadata": {},
     "output_type": "display_data"
    }
   ],
   "source": [
    "seurat"
   ]
  },
  {
   "cell_type": "code",
   "execution_count": 13,
   "id": "6aefc2fe-a654-40ac-8e65-640486f264b4",
   "metadata": {},
   "outputs": [],
   "source": [
    "adata <- anndata::AnnData(X = t(seurat[['ATAC_merged']]@data))"
   ]
  },
  {
   "cell_type": "code",
   "execution_count": 14,
   "id": "c2fcf804-2d35-47c2-ade8-2ed570d2ab18",
   "metadata": {},
   "outputs": [],
   "source": [
    "# Add meta data\n",
    "adata$obs = seurat@meta.data\n"
   ]
  },
  {
   "cell_type": "code",
   "execution_count": 15,
   "id": "c86e1fcf-441c-44f9-ba10-638367170640",
   "metadata": {},
   "outputs": [
    {
     "data": {
      "text/plain": [
       "None"
      ]
     },
     "metadata": {},
     "output_type": "display_data"
    }
   ],
   "source": [
    "adata$write_h5ad(\"/Users/dominik.klein/data/E14-E15_adata_filtered_seurat.h5ad\",\n",
    "                compression = \"gzip\")\n"
   ]
  },
  {
   "cell_type": "code",
   "execution_count": null,
   "id": "062f8e02-59b5-441d-abd8-f638c2a63557",
   "metadata": {},
   "outputs": [],
   "source": []
  }
 ],
 "metadata": {
  "kernelspec": {
   "display_name": "Python 3 (ipykernel)",
   "language": "python",
   "name": "python3"
  },
  "language_info": {
   "codemirror_mode": {
    "name": "ipython",
    "version": 3
   },
   "file_extension": ".py",
   "mimetype": "text/x-python",
   "name": "python",
   "nbconvert_exporter": "python",
   "pygments_lexer": "ipython3",
   "version": "3.9.12"
  }
 },
 "nbformat": 4,
 "nbformat_minor": 5
}
