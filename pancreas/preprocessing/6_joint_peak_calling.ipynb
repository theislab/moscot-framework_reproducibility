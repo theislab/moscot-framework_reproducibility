{
 "cells": [
  {
   "cell_type": "code",
   "execution_count": 2,
   "id": "5ad96078-5d96-4f15-a69e-d23a527fb79c",
   "metadata": {},
   "outputs": [
    {
     "name": "stderr",
     "output_type": "stream",
     "text": [
      "Attaching SeuratObject\n",
      "\n",
      "Attaching sp\n",
      "\n",
      "Lade nötiges Paket: BiocGenerics\n",
      "\n",
      "\n",
      "Attache Paket: ‘BiocGenerics’\n",
      "\n",
      "\n",
      "Die folgenden Objekte sind maskiert von ‘package:stats’:\n",
      "\n",
      "    IQR, mad, sd, var, xtabs\n",
      "\n",
      "\n",
      "Die folgenden Objekte sind maskiert von ‘package:base’:\n",
      "\n",
      "    Filter, Find, Map, Position, Reduce, anyDuplicated, append,\n",
      "    as.data.frame, basename, cbind, colnames, dirname, do.call,\n",
      "    duplicated, eval, evalq, get, grep, grepl, intersect, is.unsorted,\n",
      "    lapply, mapply, match, mget, order, paste, pmax, pmax.int, pmin,\n",
      "    pmin.int, rank, rbind, rownames, sapply, setdiff, sort, table,\n",
      "    tapply, union, unique, unsplit, which.max, which.min\n",
      "\n",
      "\n",
      "Lade nötiges Paket: S4Vectors\n",
      "\n",
      "Lade nötiges Paket: stats4\n",
      "\n",
      "\n",
      "Attache Paket: ‘S4Vectors’\n",
      "\n",
      "\n",
      "Die folgenden Objekte sind maskiert von ‘package:base’:\n",
      "\n",
      "    I, expand.grid, unname\n",
      "\n",
      "\n",
      "Lade nötiges Paket: IRanges\n",
      "\n",
      "\n",
      "Attache Paket: ‘IRanges’\n",
      "\n",
      "\n",
      "Das folgende Objekt ist maskiert ‘package:sp’:\n",
      "\n",
      "    %over%\n",
      "\n",
      "\n"
     ]
    }
   ],
   "source": [
    "library(Signac)\n",
    "library(Seurat)\n",
    "library(GenomeInfoDb)\n",
    "library(ggplot2)\n",
    "library(patchwork)\n",
    "library(stringr)\n",
    "set.seed(1234)"
   ]
  },
  {
   "cell_type": "code",
   "execution_count": 3,
   "id": "19e9e383-b368-4274-90c8-ad51a9874f79",
   "metadata": {},
   "outputs": [],
   "source": [
    "seurat <- readRDS(\"/Users/dominik.klein/data/E14-E15_adata_filtered_rmDoublets_seurat.rds\")"
   ]
  },
  {
   "cell_type": "code",
   "execution_count": 4,
   "id": "dd3fb5db-c0ca-47c2-9ebd-9cf013979838",
   "metadata": {},
   "outputs": [],
   "source": [
    "new_path_1 = \"/Users/dominik.klein/data/pancreas_multiome/E14-5/outs/atac_fragments.tsv.gz\""
   ]
  },
  {
   "cell_type": "code",
   "execution_count": 5,
   "id": "e59f4c79-36cf-4b18-baec-e69c53c22399",
   "metadata": {},
   "outputs": [],
   "source": [
    "new_path_2 = \"/Users/dominik.klein/data/pancreas_multiome/E15_5/outs/atac_fragments.tsv.gz\""
   ]
  },
  {
   "cell_type": "code",
   "execution_count": 6,
   "id": "ddd90156-1e87-4b9d-aa92-6da399b6f4a3",
   "metadata": {},
   "outputs": [
    {
     "name": "stderr",
     "output_type": "stream",
     "text": [
      "Computing hash\n",
      "\n"
     ]
    }
   ],
   "source": [
    "res <- UpdatePath(Fragments(seurat)[[1]], new_path_1 , verbose = TRUE)"
   ]
  },
  {
   "cell_type": "code",
   "execution_count": 7,
   "id": "054c7667-396b-4b91-86f4-b35ca6a306fc",
   "metadata": {},
   "outputs": [
    {
     "name": "stderr",
     "output_type": "stream",
     "text": [
      "Computing hash\n",
      "\n"
     ]
    }
   ],
   "source": [
    "res2 <- UpdatePath(Fragments(seurat)[[2]], new_path_2 , verbose = TRUE)"
   ]
  },
  {
   "cell_type": "code",
   "execution_count": 8,
   "id": "853dd49f-ddcc-4233-881a-eee869e14f7a",
   "metadata": {},
   "outputs": [],
   "source": [
    "tmp <- Fragments(seurat)"
   ]
  },
  {
   "cell_type": "code",
   "execution_count": 9,
   "id": "73b6d967-8095-495f-a9f9-2f81039b31ba",
   "metadata": {},
   "outputs": [],
   "source": [
    "tmp[[1]] <- NULL"
   ]
  },
  {
   "cell_type": "code",
   "execution_count": 10,
   "id": "c9823cd9-0782-44c4-8e0b-4ad3d9f1ad76",
   "metadata": {},
   "outputs": [],
   "source": [
    "tmp[[1]] <- res"
   ]
  },
  {
   "cell_type": "code",
   "execution_count": 11,
   "id": "f4668e77-df41-4db5-9a7c-00f856d95443",
   "metadata": {},
   "outputs": [],
   "source": [
    "tmp[[2]] <- NULL"
   ]
  },
  {
   "cell_type": "code",
   "execution_count": 12,
   "id": "7edaf720-d0b3-454a-9a61-cdf4d849a802",
   "metadata": {},
   "outputs": [],
   "source": [
    "tmp[[2]] <- res2"
   ]
  },
  {
   "cell_type": "code",
   "execution_count": 13,
   "id": "598bc818-64e3-4167-9bad-8c5683c421cc",
   "metadata": {},
   "outputs": [
    {
     "name": "stderr",
     "output_type": "stream",
     "text": [
      "Warning message in SetAssayData.ChromatinAssay(object = object[[assay]], slot = slot, :\n",
      "“Overwriting existing fragment objects”\n"
     ]
    }
   ],
   "source": [
    "seurat <- SetAssayData(seurat, slot = \"fragments\", new.data = tmp)"
   ]
  },
  {
   "cell_type": "code",
   "execution_count": 14,
   "id": "681649f2-c690-462e-a118-315c25987fc0",
   "metadata": {},
   "outputs": [],
   "source": [
    "merged_peaks <- granges(seurat[[\"ATAC\"]])\n",
    "merged_peaks <- keepStandardChromosomes(merged_peaks, pruning.mode = \"coarse\")"
   ]
  },
  {
   "cell_type": "code",
   "execution_count": 15,
   "id": "49b7f4f2-8ce0-46de-90ff-a1786bf0887c",
   "metadata": {},
   "outputs": [
    {
     "name": "stderr",
     "output_type": "stream",
     "text": [
      "Extracting reads overlapping genomic regions\n",
      "\n",
      "Extracting reads overlapping genomic regions\n",
      "\n"
     ]
    }
   ],
   "source": [
    "cr_peaks <- FeatureMatrix(\n",
    "  fragments = Fragments(seurat),\n",
    "  features = merged_peaks,\n",
    "  cells = colnames(seurat)\n",
    ")"
   ]
  },
  {
   "cell_type": "code",
   "execution_count": 18,
   "id": "2c67a51d-9096-49f8-ba62-e42909de1ee2",
   "metadata": {},
   "outputs": [
    {
     "data": {
      "text/html": [
       "<style>\n",
       ".list-inline {list-style: none; margin:0; padding: 0}\n",
       ".list-inline>li {display: inline-block}\n",
       ".list-inline>li:not(:last-child)::after {content: \"\\00b7\"; padding: 0 .5ex}\n",
       "</style>\n",
       "<ol class=list-inline><li>228259</li><li>16978</li></ol>\n"
      ],
      "text/latex": [
       "\\begin{enumerate*}\n",
       "\\item 228259\n",
       "\\item 16978\n",
       "\\end{enumerate*}\n"
      ],
      "text/markdown": [
       "1. 228259\n",
       "2. 16978\n",
       "\n",
       "\n"
      ],
      "text/plain": [
       "[1] 228259  16978"
      ]
     },
     "metadata": {},
     "output_type": "display_data"
    }
   ],
   "source": [
    "dim(cr_peaks)"
   ]
  },
  {
   "cell_type": "code",
   "execution_count": 19,
   "id": "d599dbfc-5f0a-40b5-9838-31b3fbdbc4a9",
   "metadata": {},
   "outputs": [
    {
     "name": "stderr",
     "output_type": "stream",
     "text": [
      "Warning message:\n",
      "“Keys should be one or more alphanumeric characters followed by an underscore, setting key from atac_merged_ to atacmerged_”\n"
     ]
    }
   ],
   "source": [
    "seurat[[\"ATAC_merged\"]] <- CreateChromatinAssay(\n",
    "  counts = cr_peaks,\n",
    "  fragments = Fragments(seurat),\n",
    "  annotation = seurat[[\"ATAC\"]]@annotation\n",
    ")"
   ]
  },
  {
   "cell_type": "code",
   "execution_count": 20,
   "id": "03348b5c-969d-4819-85e4-20765b5d9e34",
   "metadata": {},
   "outputs": [
    {
     "data": {
      "text/plain": [
       "An object of class Seurat \n",
       "487835 features across 16978 samples within 3 assays \n",
       "Active assay: ATAC (228321 features, 0 variable features)\n",
       " 2 other assays present: RNA, ATAC_merged"
      ]
     },
     "metadata": {},
     "output_type": "display_data"
    }
   ],
   "source": [
    "seurat"
   ]
  },
  {
   "cell_type": "code",
   "execution_count": 85,
   "id": "dba29d41-cc1d-4b08-84ae-e49d798c599a",
   "metadata": {},
   "outputs": [],
   "source": [
    "saveRDS(seurat, \"/Users/dominik.klein/data/E14-E15_adata_filtered_seurat.rds\")"
   ]
  },
  {
   "cell_type": "code",
   "execution_count": null,
   "id": "84f43c31-c091-4726-8741-4869278e2ace",
   "metadata": {},
   "outputs": [],
   "source": []
  }
 ],
 "metadata": {
  "kernelspec": {
   "display_name": "R",
   "language": "R",
   "name": "ir"
  },
  "language_info": {
   "codemirror_mode": "r",
   "file_extension": ".r",
   "mimetype": "text/x-r-source",
   "name": "R",
   "pygments_lexer": "r",
   "version": "4.1.3"
  }
 },
 "nbformat": 4,
 "nbformat_minor": 5
}
