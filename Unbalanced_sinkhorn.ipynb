{
 "cells": [
  {
   "cell_type": "code",
   "execution_count": 1,
   "id": "59df4af6",
   "metadata": {},
   "outputs": [],
   "source": [
    "import ott\n",
    "from ott.tools.sinkhorn_divergence import sinkhorn_divergence\n",
    "from ott.core.sinkhorn import sinkhorn, Sinkhorn\n",
    "from ott.geometry.pointcloud import PointCloud\n",
    "from ott.geometry.geometry import Geometry\n",
    "import jax\n",
    "import jax.numpy as jnp\n",
    "from ott.core import LinearProblem\n",
    "from ott.core import unbalanced_functions\n",
    "import ot\n",
    "import sklearn\n",
    "import numpy as np\n",
    "import scipy"
   ]
  },
  {
   "cell_type": "code",
   "execution_count": 6,
   "id": "d134d30a",
   "metadata": {},
   "outputs": [
    {
     "data": {
      "text/plain": [
       "'gpu'"
      ]
     },
     "execution_count": 6,
     "metadata": {},
     "output_type": "execute_result"
    }
   ],
   "source": [
    "jax.default_backend()"
   ]
  },
  {
   "cell_type": "code",
   "execution_count": 2,
   "id": "32272a9f",
   "metadata": {},
   "outputs": [
    {
     "name": "stderr",
     "output_type": "stream",
     "text": [
      "2022-09-05 18:19:02.991043: W external/org_tensorflow/tensorflow/stream_executor/gpu/asm_compiler.cc:111] *** WARNING *** You are using ptxas 11.0.221, which is older than 11.1. ptxas before 11.1 is known to miscompile XLA code, leading to incorrect results or invalid-address errors.\n",
      "\n",
      "You may not need to update to CUDA 11.1; cherry-picking the ptxas binary is often sufficient.\n",
      "2022-09-05 18:19:03.449125: W external/org_tensorflow/tensorflow/stream_executor/gpu/asm_compiler.cc:111] *** WARNING *** You are using ptxas 11.0.221, which is older than 11.1. ptxas before 11.1 is known to miscompile XLA code, leading to incorrect results or invalid-address errors.\n",
      "\n",
      "You may not need to update to CUDA 11.1; cherry-picking the ptxas binary is often sufficient.\n",
      "2022-09-05 18:19:03.827346: W external/org_tensorflow/tensorflow/stream_executor/gpu/asm_compiler.cc:111] *** WARNING *** You are using ptxas 11.0.221, which is older than 11.1. ptxas before 11.1 is known to miscompile XLA code, leading to incorrect results or invalid-address errors.\n",
      "\n",
      "You may not need to update to CUDA 11.1; cherry-picking the ptxas binary is often sufficient.\n",
      "2022-09-05 18:19:04.090642: W external/org_tensorflow/tensorflow/stream_executor/gpu/asm_compiler.cc:111] *** WARNING *** You are using ptxas 11.0.221, which is older than 11.1. ptxas before 11.1 is known to miscompile XLA code, leading to incorrect results or invalid-address errors.\n",
      "\n",
      "You may not need to update to CUDA 11.1; cherry-picking the ptxas binary is often sufficient.\n",
      "2022-09-05 18:19:04.500584: W external/org_tensorflow/tensorflow/stream_executor/gpu/asm_compiler.cc:111] *** WARNING *** You are using ptxas 11.0.221, which is older than 11.1. ptxas before 11.1 is known to miscompile XLA code, leading to incorrect results or invalid-address errors.\n",
      "\n",
      "You may not need to update to CUDA 11.1; cherry-picking the ptxas binary is often sufficient.\n",
      "2022-09-05 18:19:04.523175: W external/org_tensorflow/tensorflow/stream_executor/gpu/asm_compiler.cc:111] *** WARNING *** You are using ptxas 11.0.221, which is older than 11.1. ptxas before 11.1 is known to miscompile XLA code, leading to incorrect results or invalid-address errors.\n",
      "\n",
      "You may not need to update to CUDA 11.1; cherry-picking the ptxas binary is often sufficient.\n",
      "2022-09-05 18:19:04.575068: W external/org_tensorflow/tensorflow/stream_executor/gpu/asm_compiler.cc:111] *** WARNING *** You are using ptxas 11.0.221, which is older than 11.1. ptxas before 11.1 is known to miscompile XLA code, leading to incorrect results or invalid-address errors.\n",
      "\n",
      "You may not need to update to CUDA 11.1; cherry-picking the ptxas binary is often sufficient.\n",
      "2022-09-05 18:19:05.493998: W external/org_tensorflow/tensorflow/stream_executor/gpu/asm_compiler.cc:111] *** WARNING *** You are using ptxas 11.0.221, which is older than 11.1. ptxas before 11.1 is known to miscompile XLA code, leading to incorrect results or invalid-address errors.\n",
      "\n",
      "You may not need to update to CUDA 11.1; cherry-picking the ptxas binary is often sufficient.\n",
      "2022-09-05 18:19:05.837083: W external/org_tensorflow/tensorflow/stream_executor/gpu/asm_compiler.cc:111] *** WARNING *** You are using ptxas 11.0.221, which is older than 11.1. ptxas before 11.1 is known to miscompile XLA code, leading to incorrect results or invalid-address errors.\n",
      "\n",
      "You may not need to update to CUDA 11.1; cherry-picking the ptxas binary is often sufficient.\n",
      "2022-09-05 18:19:05.865938: W external/org_tensorflow/tensorflow/stream_executor/gpu/asm_compiler.cc:111] *** WARNING *** You are using ptxas 11.0.221, which is older than 11.1. ptxas before 11.1 is known to miscompile XLA code, leading to incorrect results or invalid-address errors.\n",
      "\n",
      "You may not need to update to CUDA 11.1; cherry-picking the ptxas binary is often sufficient.\n",
      "2022-09-05 18:19:05.952761: W external/org_tensorflow/tensorflow/stream_executor/gpu/asm_compiler.cc:111] *** WARNING *** You are using ptxas 11.0.221, which is older than 11.1. ptxas before 11.1 is known to miscompile XLA code, leading to incorrect results or invalid-address errors.\n",
      "\n",
      "You may not need to update to CUDA 11.1; cherry-picking the ptxas binary is often sufficient.\n",
      "2022-09-05 18:19:06.093429: W external/org_tensorflow/tensorflow/stream_executor/gpu/asm_compiler.cc:111] *** WARNING *** You are using ptxas 11.0.221, which is older than 11.1. ptxas before 11.1 is known to miscompile XLA code, leading to incorrect results or invalid-address errors.\n",
      "\n",
      "You may not need to update to CUDA 11.1; cherry-picking the ptxas binary is often sufficient.\n",
      "2022-09-05 18:19:06.205449: W external/org_tensorflow/tensorflow/stream_executor/gpu/asm_compiler.cc:111] *** WARNING *** You are using ptxas 11.0.221, which is older than 11.1. ptxas before 11.1 is known to miscompile XLA code, leading to incorrect results or invalid-address errors.\n",
      "\n",
      "You may not need to update to CUDA 11.1; cherry-picking the ptxas binary is often sufficient.\n",
      "2022-09-05 18:19:06.691694: W external/org_tensorflow/tensorflow/stream_executor/gpu/asm_compiler.cc:111] *** WARNING *** You are using ptxas 11.0.221, which is older than 11.1. ptxas before 11.1 is known to miscompile XLA code, leading to incorrect results or invalid-address errors.\n",
      "\n",
      "You may not need to update to CUDA 11.1; cherry-picking the ptxas binary is often sufficient.\n",
      "2022-09-05 18:19:06.851433: W external/org_tensorflow/tensorflow/stream_executor/gpu/asm_compiler.cc:111] *** WARNING *** You are using ptxas 11.0.221, which is older than 11.1. ptxas before 11.1 is known to miscompile XLA code, leading to incorrect results or invalid-address errors.\n",
      "\n",
      "You may not need to update to CUDA 11.1; cherry-picking the ptxas binary is often sufficient.\n"
     ]
    }
   ],
   "source": [
    "n = 1000\n",
    "dim = 30\n",
    "\n",
    "rng = jax.random.PRNGKey(0)\n",
    "rng, *rngs = jax.random.split(rng, 5)\n",
    "x = jax.random.uniform(rngs[0], (n, dim))\n",
    "y = jax.random.uniform(rngs[1], (n, dim)) + 0.1\n",
    "a = jnp.ones(n)\n",
    "b = jnp.ones(n)\n",
    "a_scaled = a / jnp.sum(a)\n",
    "b_scaled = b / jnp.sum(b)"
   ]
  },
  {
   "cell_type": "code",
   "execution_count": 3,
   "id": "80fad8e9",
   "metadata": {},
   "outputs": [],
   "source": [
    "lp = LinearProblem(PointCloud(x, y, epsilon=1), a_scaled, b_scaled, tau_a=0.5, tau_b=0.5)"
   ]
  },
  {
   "cell_type": "code",
   "execution_count": 4,
   "id": "2bc477dc",
   "metadata": {},
   "outputs": [
    {
     "name": "stderr",
     "output_type": "stream",
     "text": [
      "2022-09-05 18:19:07.044763: W external/org_tensorflow/tensorflow/stream_executor/gpu/asm_compiler.cc:111] *** WARNING *** You are using ptxas 11.0.221, which is older than 11.1. ptxas before 11.1 is known to miscompile XLA code, leading to incorrect results or invalid-address errors.\n",
      "\n",
      "You may not need to update to CUDA 11.1; cherry-picking the ptxas binary is often sufficient.\n",
      "2022-09-05 18:19:07.211270: W external/org_tensorflow/tensorflow/stream_executor/gpu/asm_compiler.cc:111] *** WARNING *** You are using ptxas 11.0.221, which is older than 11.1. ptxas before 11.1 is known to miscompile XLA code, leading to incorrect results or invalid-address errors.\n",
      "\n",
      "You may not need to update to CUDA 11.1; cherry-picking the ptxas binary is often sufficient.\n",
      "2022-09-05 18:19:21.605381: W external/org_tensorflow/tensorflow/stream_executor/gpu/asm_compiler.cc:111] *** WARNING *** You are using ptxas 11.0.221, which is older than 11.1. ptxas before 11.1 is known to miscompile XLA code, leading to incorrect results or invalid-address errors.\n",
      "\n",
      "You may not need to update to CUDA 11.1; cherry-picking the ptxas binary is often sufficient.\n",
      "2022-09-05 18:19:21.779868: W external/org_tensorflow/tensorflow/stream_executor/gpu/asm_compiler.cc:111] *** WARNING *** You are using ptxas 11.0.221, which is older than 11.1. ptxas before 11.1 is known to miscompile XLA code, leading to incorrect results or invalid-address errors.\n",
      "\n",
      "You may not need to update to CUDA 11.1; cherry-picking the ptxas binary is often sufficient.\n",
      "2022-09-05 18:19:22.476898: W external/org_tensorflow/tensorflow/stream_executor/gpu/asm_compiler.cc:111] *** WARNING *** You are using ptxas 11.0.221, which is older than 11.1. ptxas before 11.1 is known to miscompile XLA code, leading to incorrect results or invalid-address errors.\n",
      "\n",
      "You may not need to update to CUDA 11.1; cherry-picking the ptxas binary is often sufficient.\n",
      "2022-09-05 18:19:22.505817: W external/org_tensorflow/tensorflow/stream_executor/gpu/asm_compiler.cc:111] *** WARNING *** You are using ptxas 11.0.221, which is older than 11.1. ptxas before 11.1 is known to miscompile XLA code, leading to incorrect results or invalid-address errors.\n",
      "\n",
      "You may not need to update to CUDA 11.1; cherry-picking the ptxas binary is often sufficient.\n",
      "2022-09-05 18:19:22.532409: W external/org_tensorflow/tensorflow/stream_executor/gpu/asm_compiler.cc:111] *** WARNING *** You are using ptxas 11.0.221, which is older than 11.1. ptxas before 11.1 is known to miscompile XLA code, leading to incorrect results or invalid-address errors.\n",
      "\n",
      "You may not need to update to CUDA 11.1; cherry-picking the ptxas binary is often sufficient.\n",
      "2022-09-05 18:19:22.640353: W external/org_tensorflow/tensorflow/stream_executor/gpu/asm_compiler.cc:111] *** WARNING *** You are using ptxas 11.0.221, which is older than 11.1. ptxas before 11.1 is known to miscompile XLA code, leading to incorrect results or invalid-address errors.\n",
      "\n",
      "You may not need to update to CUDA 11.1; cherry-picking the ptxas binary is often sufficient.\n",
      "2022-09-05 18:19:22.667772: W external/org_tensorflow/tensorflow/stream_executor/gpu/asm_compiler.cc:111] *** WARNING *** You are using ptxas 11.0.221, which is older than 11.1. ptxas before 11.1 is known to miscompile XLA code, leading to incorrect results or invalid-address errors.\n",
      "\n",
      "You may not need to update to CUDA 11.1; cherry-picking the ptxas binary is often sufficient.\n",
      "2022-09-05 18:19:22.692495: W external/org_tensorflow/tensorflow/stream_executor/gpu/asm_compiler.cc:111] *** WARNING *** You are using ptxas 11.0.221, which is older than 11.1. ptxas before 11.1 is known to miscompile XLA code, leading to incorrect results or invalid-address errors.\n",
      "\n",
      "You may not need to update to CUDA 11.1; cherry-picking the ptxas binary is often sufficient.\n"
     ]
    }
   ],
   "source": [
    "s = Sinkhorn()(lp)"
   ]
  },
  {
   "cell_type": "code",
   "execution_count": 5,
   "id": "7afbe0d3",
   "metadata": {},
   "outputs": [
    {
     "data": {
      "text/plain": [
       "DeviceArray(-17.182905, dtype=float32)"
      ]
     },
     "execution_count": 5,
     "metadata": {},
     "output_type": "execute_result"
    }
   ],
   "source": [
    "s.reg_ot_cost"
   ]
  },
  {
   "cell_type": "code",
   "execution_count": 217,
   "id": "5bb973aa",
   "metadata": {},
   "outputs": [],
   "source": [
    "tmap_ott = s.matrix"
   ]
  },
  {
   "cell_type": "code",
   "execution_count": 218,
   "id": "04a9eb06",
   "metadata": {},
   "outputs": [],
   "source": [
    "pc = PointCloud(x, y, epsilon=1)"
   ]
  },
  {
   "cell_type": "code",
   "execution_count": 219,
   "id": "7fa86d7e",
   "metadata": {},
   "outputs": [],
   "source": [
    "M = pc.cost_matrix\n",
    "reg = 1\n",
    "reg_m = 0.5"
   ]
  },
  {
   "cell_type": "code",
   "execution_count": null,
   "id": "07bffca2",
   "metadata": {},
   "outputs": [],
   "source": []
  },
  {
   "cell_type": "code",
   "execution_count": 220,
   "id": "be57611d",
   "metadata": {},
   "outputs": [],
   "source": [
    "tmap_stabilized = ot.sinkhorn_unbalanced(a_scaled, b_scaled, M, reg, reg_m, method='sinkhorn_stabilized',\n",
    "                         numItermax=1000, stopThr=1e-6, verbose=False,\n",
    "                         log=False)"
   ]
  },
  {
   "cell_type": "code",
   "execution_count": 221,
   "id": "805aded6",
   "metadata": {},
   "outputs": [],
   "source": [
    "cost_stabilized = ot.sinkhorn_unbalanced2(a_scaled, b_scaled, M, reg, reg_m, method='sinkhorn_stabilized',\n",
    "                         numItermax=1000, stopThr=1e-6, verbose=False,\n",
    "                         log=False)"
   ]
  },
  {
   "cell_type": "code",
   "execution_count": 222,
   "id": "04b70e4b",
   "metadata": {},
   "outputs": [],
   "source": [
    "tmap_unstabilized = ot.sinkhorn_unbalanced(a_scaled, b_scaled, M, reg, reg_m, method='sinkhorn',\n",
    "                         numItermax=1000, stopThr=1e-6, verbose=False,\n",
    "                         log=False)"
   ]
  },
  {
   "cell_type": "code",
   "execution_count": 223,
   "id": "4d6005be",
   "metadata": {},
   "outputs": [],
   "source": [
    "cost_unstabilized = ot.sinkhorn_unbalanced2(a_scaled, b_scaled, M, reg, reg_m, method='sinkhorn',\n",
    "                         numItermax=1000, stopThr=1e-6, verbose=False,\n",
    "                         log=False)"
   ]
  },
  {
   "cell_type": "code",
   "execution_count": 224,
   "id": "89bc826e",
   "metadata": {},
   "outputs": [
    {
     "data": {
      "text/plain": [
       "(array([392.40014602]),\n",
       " array([392.4002301]),\n",
       " DeviceArray(-17.182905, dtype=float32))"
      ]
     },
     "execution_count": 224,
     "metadata": {},
     "output_type": "execute_result"
    }
   ],
   "source": [
    "cost_stabilized, cost_unstabilized, s.reg_ot_cost"
   ]
  },
  {
   "cell_type": "code",
   "execution_count": 225,
   "id": "470da2ec",
   "metadata": {},
   "outputs": [
    {
     "data": {
      "text/plain": [
       "(91.84217097182267, 91.84215129307975, DeviceArray(20.142618, dtype=float32))"
      ]
     },
     "execution_count": 225,
     "metadata": {},
     "output_type": "execute_result"
    }
   ],
   "source": [
    "tmap_unstabilized.sum(), tmap_stabilized.sum(), tmap_ott.sum()"
   ]
  },
  {
   "cell_type": "code",
   "execution_count": 226,
   "id": "b7066607",
   "metadata": {},
   "outputs": [
    {
     "data": {
      "text/plain": [
       "array([[1., 1.],\n",
       "       [1., 1.]])"
      ]
     },
     "execution_count": 226,
     "metadata": {},
     "output_type": "execute_result"
    }
   ],
   "source": [
    "np.corrcoef(tmap_unstabilized.flatten(), tmap_stabilized.flatten())"
   ]
  },
  {
   "cell_type": "code",
   "execution_count": 227,
   "id": "38c5cde5",
   "metadata": {},
   "outputs": [
    {
     "data": {
      "text/plain": [
       "array([[1.        , 0.99190975],\n",
       "       [0.99190975, 1.        ]])"
      ]
     },
     "execution_count": 227,
     "metadata": {},
     "output_type": "execute_result"
    }
   ],
   "source": [
    "np.corrcoef(tmap_unstabilized.flatten(), tmap_ott.flatten())"
   ]
  },
  {
   "cell_type": "markdown",
   "id": "cee9920d",
   "metadata": {},
   "source": [
    "## Same procedure with non-scaled marginals"
   ]
  },
  {
   "cell_type": "code",
   "execution_count": 228,
   "id": "b9c3bde6",
   "metadata": {},
   "outputs": [],
   "source": [
    "lp2 = LinearProblem(PointCloud(x, y, epsilon=1), a, b, tau_a=0.5, tau_b=0.5)"
   ]
  },
  {
   "cell_type": "code",
   "execution_count": 229,
   "id": "3eb010d2",
   "metadata": {},
   "outputs": [],
   "source": [
    "s2 = Sinkhorn()(lp2)"
   ]
  },
  {
   "cell_type": "code",
   "execution_count": 230,
   "id": "cb638169",
   "metadata": {},
   "outputs": [],
   "source": [
    "tmap_ott2 = s2.matrix"
   ]
  },
  {
   "cell_type": "code",
   "execution_count": 231,
   "id": "b256790b",
   "metadata": {},
   "outputs": [],
   "source": [
    "tmap_stabilized2 = ot.sinkhorn_unbalanced(a, b, M, reg, reg_m, method='sinkhorn_stabilized',\n",
    "                         numItermax=1000, stopThr=1e-6, verbose=False,\n",
    "                         log=False)"
   ]
  },
  {
   "cell_type": "code",
   "execution_count": 232,
   "id": "ee664f5a",
   "metadata": {},
   "outputs": [],
   "source": [
    "cost_stabilized2 = ot.sinkhorn_unbalanced2(a, b, M, reg, reg_m, method='sinkhorn_stabilized',\n",
    "                         numItermax=1000, stopThr=1e-6, verbose=False,\n",
    "                         log=False)"
   ]
  },
  {
   "cell_type": "code",
   "execution_count": 233,
   "id": "f85343a1",
   "metadata": {},
   "outputs": [],
   "source": [
    "tmap_unstabilized2 = ot.sinkhorn_unbalanced(a, b, M, reg, reg_m, method='sinkhorn',\n",
    "                         numItermax=1000, stopThr=1e-6, verbose=False,\n",
    "                         log=False)"
   ]
  },
  {
   "cell_type": "code",
   "execution_count": 234,
   "id": "f3714099",
   "metadata": {},
   "outputs": [],
   "source": [
    "cost_unstabilized2 = ot.sinkhorn_unbalanced2(a, b, M, reg, reg_m, method='sinkhorn',\n",
    "                         numItermax=1000, stopThr=1e-6, verbose=False,\n",
    "                         log=False)"
   ]
  },
  {
   "cell_type": "code",
   "execution_count": 235,
   "id": "b2b8e9ad",
   "metadata": {},
   "outputs": [
    {
     "data": {
      "text/plain": [
       "(array([12408.78186265]),\n",
       " array([12408.78226408]),\n",
       " DeviceArray(995957.2, dtype=float32))"
      ]
     },
     "execution_count": 235,
     "metadata": {},
     "output_type": "execute_result"
    }
   ],
   "source": [
    "cost_stabilized2, cost_unstabilized2, s2.reg_ot_cost"
   ]
  },
  {
   "cell_type": "markdown",
   "id": "61c55cd1",
   "metadata": {},
   "source": [
    "Here we can see that POT only reports the non-regularised OT cost"
   ]
  },
  {
   "cell_type": "code",
   "execution_count": 241,
   "id": "f4167671",
   "metadata": {},
   "outputs": [
    {
     "data": {
      "text/plain": [
       "12408.781862645832"
      ]
     },
     "execution_count": 241,
     "metadata": {},
     "output_type": "execute_result"
    }
   ],
   "source": [
    "np.multiply(M, tmap_stabilized2).sum()"
   ]
  },
  {
   "cell_type": "markdown",
   "id": "781fdeaf",
   "metadata": {},
   "source": [
    "... as oppposed to OTT-JAX"
   ]
  },
  {
   "cell_type": "code",
   "execution_count": 253,
   "id": "8a043f00",
   "metadata": {},
   "outputs": [
    {
     "data": {
      "text/plain": [
       "8713.144"
      ]
     },
     "execution_count": 253,
     "metadata": {},
     "output_type": "execute_result"
    }
   ],
   "source": [
    "np.multiply(M, tmap_ott2).sum()\n"
   ]
  },
  {
   "cell_type": "code",
   "execution_count": 207,
   "id": "0c4c8d85",
   "metadata": {},
   "outputs": [
    {
     "data": {
      "text/plain": [
       "10054524.811768912"
      ]
     },
     "execution_count": 207,
     "metadata": {},
     "output_type": "execute_result"
    }
   ],
   "source": [
    "np.sum(np.dot(tmap_stabilized2, M))"
   ]
  },
  {
   "cell_type": "code",
   "execution_count": 104,
   "id": "fe7c523d",
   "metadata": {},
   "outputs": [
    {
     "data": {
      "text/plain": [
       "(1889.6570213879825, 1889.6569623935577, DeviceArray(1173.2864, dtype=float32))"
      ]
     },
     "execution_count": 104,
     "metadata": {},
     "output_type": "execute_result"
    }
   ],
   "source": [
    "tmap_unstabilized2.sum(), tmap_stabilized2.sum(), tmap_ott2.sum()"
   ]
  },
  {
   "cell_type": "code",
   "execution_count": 105,
   "id": "e80c2b85",
   "metadata": {},
   "outputs": [
    {
     "data": {
      "text/plain": [
       "array([[1., 1.],\n",
       "       [1., 1.]])"
      ]
     },
     "execution_count": 105,
     "metadata": {},
     "output_type": "execute_result"
    }
   ],
   "source": [
    "np.corrcoef(tmap_unstabilized2.flatten(), tmap_stabilized2.flatten())"
   ]
  },
  {
   "cell_type": "code",
   "execution_count": 106,
   "id": "61de205e",
   "metadata": {},
   "outputs": [
    {
     "data": {
      "text/plain": [
       "array([[1.        , 0.98059842],\n",
       "       [0.98059842, 1.        ]])"
      ]
     },
     "execution_count": 106,
     "metadata": {},
     "output_type": "execute_result"
    }
   ],
   "source": [
    "np.corrcoef(tmap_unstabilized2.flatten(), tmap_ott2.flatten())"
   ]
  },
  {
   "cell_type": "markdown",
   "id": "521de3d2",
   "metadata": {},
   "source": [
    "Check correlation of transport matrices obtained with different scale of marginals"
   ]
  },
  {
   "cell_type": "code",
   "execution_count": 254,
   "id": "ba22c061",
   "metadata": {},
   "outputs": [
    {
     "data": {
      "text/plain": [
       "array([[1., 1.],\n",
       "       [1., 1.]])"
      ]
     },
     "execution_count": 254,
     "metadata": {},
     "output_type": "execute_result"
    }
   ],
   "source": [
    "np.corrcoef(tmap_unstabilized2.flatten(), tmap_unstabilized.flatten())"
   ]
  },
  {
   "cell_type": "code",
   "execution_count": 255,
   "id": "8091582c",
   "metadata": {},
   "outputs": [
    {
     "data": {
      "text/plain": [
       "array([[1., 1.],\n",
       "       [1., 1.]])"
      ]
     },
     "execution_count": 255,
     "metadata": {},
     "output_type": "execute_result"
    }
   ],
   "source": [
    "np.corrcoef(tmap_ott.flatten(), tmap_ott2.flatten())"
   ]
  },
  {
   "cell_type": "markdown",
   "id": "e3e3dde3",
   "metadata": {},
   "source": [
    "... as expected linear scaling of the marginals does not affect the transport plan"
   ]
  },
  {
   "cell_type": "markdown",
   "id": "debbff40",
   "metadata": {},
   "source": [
    "As a comparison check the scale of the cost of balanced Sinkhorn"
   ]
  },
  {
   "cell_type": "code",
   "execution_count": 168,
   "id": "0dd91a31",
   "metadata": {},
   "outputs": [],
   "source": [
    "lp3 = LinearProblem(PointCloud(x, y, epsilon=1), a, b)"
   ]
  },
  {
   "cell_type": "code",
   "execution_count": 169,
   "id": "8282f59d",
   "metadata": {},
   "outputs": [],
   "source": [
    "s3 = Sinkhorn()(lp3)"
   ]
  },
  {
   "cell_type": "code",
   "execution_count": 170,
   "id": "e78c1c65",
   "metadata": {},
   "outputs": [
    {
     "data": {
      "text/plain": [
       "DeviceArray(245641.27, dtype=float32)"
      ]
     },
     "execution_count": 170,
     "metadata": {},
     "output_type": "execute_result"
    }
   ],
   "source": [
    "s3.reg_ot_cost"
   ]
  },
  {
   "cell_type": "code",
   "execution_count": 171,
   "id": "edbfc824",
   "metadata": {},
   "outputs": [],
   "source": [
    "lp4 = LinearProblem(PointCloud(x, y, epsilon=1e-3), a, b)"
   ]
  },
  {
   "cell_type": "code",
   "execution_count": 172,
   "id": "9a6fb662",
   "metadata": {},
   "outputs": [],
   "source": [
    "s4 = Sinkhorn()(lp4)"
   ]
  },
  {
   "cell_type": "code",
   "execution_count": 173,
   "id": "f61b91b5",
   "metadata": {},
   "outputs": [
    {
     "data": {
      "text/plain": [
       "DeviceArray(1580.634, dtype=float32)"
      ]
     },
     "execution_count": 173,
     "metadata": {},
     "output_type": "execute_result"
    }
   ],
   "source": [
    "s4.reg_ot_cost"
   ]
  },
  {
   "cell_type": "markdown",
   "id": "c7af57a0",
   "metadata": {},
   "source": [
    "# TODOs"
   ]
  },
  {
   "cell_type": "markdown",
   "id": "f613038f",
   "metadata": {},
   "source": [
    "- Stopping criterion of unbalanced OT should account for scale of marginals, otherwise we never converge\n",
    "- maybe use stabilised implementation?\n",
    "- check computation of final cost, compare with equation in Sejourne, 2019"
   ]
  },
  {
   "cell_type": "code",
   "execution_count": null,
   "id": "853e7566",
   "metadata": {},
   "outputs": [],
   "source": []
  },
  {
   "cell_type": "code",
   "execution_count": 201,
   "id": "3a4a49fd",
   "metadata": {},
   "outputs": [],
   "source": [
    "ot_prob = lp2"
   ]
  },
  {
   "cell_type": "code",
   "execution_count": 202,
   "id": "b2e4da05",
   "metadata": {},
   "outputs": [],
   "source": [
    "f = s2.f\n",
    "g = s2.g"
   ]
  },
  {
   "cell_type": "code",
   "execution_count": 203,
   "id": "48d612ff",
   "metadata": {},
   "outputs": [],
   "source": [
    "lse_mode=True"
   ]
  },
  {
   "cell_type": "code",
   "execution_count": 204,
   "id": "83391445",
   "metadata": {},
   "outputs": [],
   "source": [
    "supp_a = ot_prob.a > 0\n",
    "supp_b = ot_prob.b > 0\n",
    "fa = ot_prob.geom.potential_from_scaling(ot_prob.a)\n",
    "if ot_prob.tau_a == 1.0:\n",
    "    div_a = jnp.sum(jnp.where(supp_a, ot_prob.a * (f - fa), 0.0))\n",
    "else:\n",
    "    rho_a = ot_prob.epsilon * (ot_prob.tau_a / (1 - ot_prob.tau_a))\n",
    "    div_a = -jnp.sum(\n",
    "        jnp.where(\n",
    "            supp_a, ot_prob.a * unbalanced_functions.phi_star(-(f - fa), rho_a),\n",
    "            0.0\n",
    "        )\n",
    "    )\n",
    "\n",
    "gb = ot_prob.geom.potential_from_scaling(ot_prob.b)\n",
    "if ot_prob.tau_b == 1.0:\n",
    "    div_b = jnp.sum(jnp.where(supp_b, ot_prob.b * (g - gb), 0.0))\n",
    "else:\n",
    "    rho_b = ot_prob.epsilon * (ot_prob.tau_b / (1 - ot_prob.tau_b))\n",
    "    div_b = -jnp.sum(\n",
    "    jnp.where(\n",
    "        supp_b, ot_prob.b * unbalanced_functions.phi_star(-(g - gb), rho_b),\n",
    "        0.0\n",
    "    )\n",
    "    )\n",
    "\n",
    "# Using https://arxiv.org/pdf/1910.12958.pdf (24)\n",
    "if lse_mode:\n",
    "    total_sum = jnp.sum(ot_prob.geom.marginal_from_potentials(f, g))\n",
    "else:\n",
    "    u = ot_prob.geom.scaling_from_potential(f)\n",
    "    v = ot_prob.geom.scaling_from_potential(g)\n",
    "    total_sum = jnp.sum(ot_prob.geom.marginal_from_scalings(u, v))\n",
    "res = div_a + div_b + ot_prob.epsilon * (\n",
    "  jnp.sum(ot_prob.a) * jnp.sum(ot_prob.b) - total_sum\n",
    ")\n"
   ]
  },
  {
   "cell_type": "code",
   "execution_count": 206,
   "id": "c4f0f8ac",
   "metadata": {},
   "outputs": [
    {
     "data": {
      "text/plain": [
       "(DeviceArray(245133.56, dtype=float32),\n",
       " DeviceArray(-200.08899, dtype=float32),\n",
       " DeviceArray(-201.83295, dtype=float32),\n",
       " DeviceArray(498.85, dtype=float32),\n",
       " DeviceArray(494.555, dtype=float32),\n",
       " DeviceArray(1173.2864, dtype=float32))"
      ]
     },
     "execution_count": 206,
     "metadata": {},
     "output_type": "execute_result"
    }
   ],
   "source": [
    "res, div_a, div_b, jnp.sum(ot_prob.a), jnp.sum(ot_prob.b), total_sum"
   ]
  },
  {
   "cell_type": "code",
   "execution_count": null,
   "id": "8d1891a1",
   "metadata": {},
   "outputs": [],
   "source": []
  }
 ],
 "metadata": {
  "kernelspec": {
   "display_name": "moscot_env",
   "language": "python",
   "name": "moscot_env"
  },
  "language_info": {
   "codemirror_mode": {
    "name": "ipython",
    "version": 3
   },
   "file_extension": ".py",
   "mimetype": "text/x-python",
   "name": "python",
   "nbconvert_exporter": "python",
   "pygments_lexer": "ipython3",
   "version": "3.9.7"
  }
 },
 "nbformat": 4,
 "nbformat_minor": 5
}
