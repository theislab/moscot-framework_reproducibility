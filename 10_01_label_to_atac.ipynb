{
 "cells": [
  {
   "cell_type": "code",
   "execution_count": 1,
   "id": "eab69d38",
   "metadata": {},
   "outputs": [],
   "source": [
    "import scanpy as sc\n",
    "import seaborn as sns\n",
    "import matplotlib.pyplot as plt"
   ]
  },
  {
   "cell_type": "markdown",
   "id": "339f38df",
   "metadata": {},
   "source": [
    "# GEX"
   ]
  },
  {
   "cell_type": "code",
   "execution_count": 2,
   "id": "6cbd3465",
   "metadata": {},
   "outputs": [],
   "source": [
    "adata = sc.read_h5ad(\"/Users/dominik.klein/data/pancreas_2022.h5ad\")"
   ]
  },
  {
   "cell_type": "code",
   "execution_count": 3,
   "id": "6d444b11",
   "metadata": {},
   "outputs": [
    {
     "data": {
      "text/plain": [
       "AnnData object with n_obs × n_vars = 16918 × 14663\n",
       "    obs: 'n_counts', 'sample', 'int_id', 'reporter', 'log_cell_probs', 'cell_barcodes_du', 'cell_barcodes_cr', 'cell_barcodes', 'log_counts', 'n_genes', 'log_genes', 'mt_frac', 'rp_frac', 'ambi_frac', 'total_counts_rank', 'n_genes_by_counts', 'log1p_n_genes_by_counts', 'total_counts', 'log1p_total_counts', 'pct_counts_in_top_50_genes', 'pct_counts_in_top_100_genes', 'pct_counts_in_top_200_genes', 'pct_counts_in_top_500_genes', 'leiden', 'orig.ident', 'nCount_RNA', 'nFeature_RNA', 'nCount_ATAC', 'nFeature_ATAC', 'nucleosome_signal', 'nucleosome_percentile', 'TSS.enrichment', 'TSS.percentile', 'log_nCount_ATAC', 'log_nFeature_ATAC', 'scrublet_scores', 'scrublet_doublets', 'scrublet_doublets_cat', 'dd_doublets', 'dd_scores', 'dd_log_p_values', 'dd_voting_average', 'dd_-log_p_values', 'dd_doublets_cat', 'pANN', 'DF_classifications_1', 'DF_classifications_2', 'pANN_SCT', 'DF_SCT_classifications_1', 'DF_SCT_classifications_2', 'df_doublets', 'scDblFinder.class', 'scDblFinder.score', 'hybrid_class', 'hybrid_score', 'scDblFinder.class.sct', 'scDblFinder.score.sct', 'hybrid_class_sct', 'hybrid_score_sct', 'sdf_doublets', 'scds_doublets', 'doublet_calls', 'final_doublets', 'final_doublets_cat', 'batch', 'size_factors', 'mt_frac_raw', 'rp_frac_raw', 'n_genes_raw', 'log_genes_raw', 'n_counts_raw', 'log_counts_raw', 'S_score', 'G2M_score', 'phase', 'proliferation', 'leiden_combined', 'leiden_gex_graph', 'leiden_ATAC_graph', 'leiden_wnn_graph', 'umap_GEX_1', 'umap_GEX_2', 'umap_ATAC_1', 'umap_ATAC_2', 'leiden_sub', 'leiden_sub1', 'leiden_sub2', 'leiden_sub3', 'leiden_sub4', 'leiden_sub5', 'leiden_sub6', 'leiden_sub7', 'leiden_sub8', 'leiden_sub9', 'leiden_sub10', 'leiden_sub11', 'leiden_sub12', 'tmp', 'leiden_sub13', 'leiden_sub14', 'leiden_sub15', 'leiden_sub16', 'leiden_sub17', 'leiden_sub18', 'leiden_sub19', 'celltype'\n",
       "    var: 'feature_types', 'genome', 'gene_ids-0', 'n_cells-0', 'ambient_genes-0', 'is_ambient-0', 'n_cells_by_counts-0', 'mean_counts-0', 'log1p_mean_counts-0', 'pct_dropout_by_counts-0', 'total_counts-0', 'log1p_total_counts-0', 'gene_ids-1', 'n_cells-1', 'ambient_genes-1', 'is_ambient-1', 'n_cells_by_counts-1', 'mean_counts-1', 'log1p_mean_counts-1', 'pct_dropout_by_counts-1', 'total_counts-1', 'log1p_total_counts-1', 'n_cells', 'sct.detection_rate', 'sct.gmean', 'sct.variance', 'sct.residual_variance', 'sct.variable', 'highly_variable'\n",
       "    uns: 'celltype_colors', 'dendrogram_leiden_sub1', 'dendrogram_leiden_sub12', 'dendrogram_leiden_sub14', 'dendrogram_leiden_sub15', 'dendrogram_leiden_sub17', 'dendrogram_leiden_sub18', 'dendrogram_leiden_sub19', 'dendrogram_leiden_sub2', 'dendrogram_leiden_sub5', 'dendrogram_leiden_sub6', 'dendrogram_leiden_sub7', 'dendrogram_leiden_sub8', 'dendrogram_leiden_sub9', 'final_doublets_cat_colors', 'leiden', 'leiden_ATAC_graph_colors', 'leiden_colors', 'leiden_combined_colors', 'leiden_gex_graph_colors', 'leiden_sub10_colors', 'leiden_sub11_colors', 'leiden_sub12_colors', 'leiden_sub13_colors', 'leiden_sub14_colors', 'leiden_sub15_colors', 'leiden_sub16_colors', 'leiden_sub17_colors', 'leiden_sub18_colors', 'leiden_sub19_colors', 'leiden_sub1_colors', 'leiden_sub2_colors', 'leiden_sub3_colors', 'leiden_sub4_colors', 'leiden_sub5_colors', 'leiden_sub6_colors', 'leiden_sub7_colors', 'leiden_sub8_colors', 'leiden_sub9_colors', 'leiden_sub_colors', 'leiden_wnn_graph_colors', 'neighbors', 'neighbors_wnn', 'pca', 'reporter_colors', 'sample_colors', 'tmp_colors', 'umap'\n",
       "    obsm: 'X_pca', 'X_pca_wsnn', 'X_spca_wsnn', 'X_umap', 'X_umap_ATAC', 'X_umap_GEX', 'X_umap_wsnn', 'umap', 'umap_ATAC', 'umap_GEX'\n",
       "    varm: 'PCs', 'PCs_wsnn', 'SPCA_wsnn'\n",
       "    layers: 'log_raw_counts', 'raw_counts', 'scran_counts', 'sct_counts', 'sct_logcounts', 'sct_scale_data'\n",
       "    obsp: 'connectivities', 'distances'"
      ]
     },
     "execution_count": 3,
     "metadata": {},
     "output_type": "execute_result"
    }
   ],
   "source": [
    "adata"
   ]
  },
  {
   "cell_type": "code",
   "execution_count": 4,
   "id": "76bc0818",
   "metadata": {},
   "outputs": [
    {
     "data": {
      "text/plain": [
       "True"
      ]
     },
     "execution_count": 4,
     "metadata": {},
     "output_type": "execute_result"
    }
   ],
   "source": [
    "# \"sample\" and \"batch\" are 1-to-1\n",
    "((adata.obs[\"sample\"]==\"E14.5\") == (adata.obs[\"batch\"]==\"0\")).all()"
   ]
  },
  {
   "cell_type": "markdown",
   "id": "9e0e480b",
   "metadata": {},
   "source": [
    "## ATAC"
   ]
  },
  {
   "cell_type": "code",
   "execution_count": 5,
   "id": "5def64e0",
   "metadata": {},
   "outputs": [],
   "source": [
    "bdata = sc.read_h5ad(\"/Users/dominik.klein/data/E14-E15_lsi_peaks_to_adata.h5ad\")"
   ]
  },
  {
   "cell_type": "code",
   "execution_count": 6,
   "id": "1b17232b",
   "metadata": {},
   "outputs": [
    {
     "data": {
      "text/html": [
       "<div>\n",
       "<style scoped>\n",
       "    .dataframe tbody tr th:only-of-type {\n",
       "        vertical-align: middle;\n",
       "    }\n",
       "\n",
       "    .dataframe tbody tr th {\n",
       "        vertical-align: top;\n",
       "    }\n",
       "\n",
       "    .dataframe thead th {\n",
       "        text-align: right;\n",
       "    }\n",
       "</style>\n",
       "<table border=\"1\" class=\"dataframe\">\n",
       "  <thead>\n",
       "    <tr style=\"text-align: right;\">\n",
       "      <th></th>\n",
       "      <th>n_counts</th>\n",
       "      <th>sample</th>\n",
       "      <th>int_id</th>\n",
       "      <th>reporter</th>\n",
       "      <th>log_cell_probs</th>\n",
       "      <th>cell_barcodes_du</th>\n",
       "      <th>cell_barcodes_cr</th>\n",
       "      <th>cell_barcodes</th>\n",
       "      <th>log_counts</th>\n",
       "      <th>n_genes</th>\n",
       "      <th>...</th>\n",
       "      <th>leiden_sub12</th>\n",
       "      <th>tmp</th>\n",
       "      <th>leiden_sub13</th>\n",
       "      <th>leiden_sub14</th>\n",
       "      <th>leiden_sub15</th>\n",
       "      <th>leiden_sub16</th>\n",
       "      <th>leiden_sub17</th>\n",
       "      <th>leiden_sub18</th>\n",
       "      <th>leiden_sub19</th>\n",
       "      <th>celltype</th>\n",
       "    </tr>\n",
       "  </thead>\n",
       "  <tbody>\n",
       "    <tr>\n",
       "      <th>AAACAGCCAACAGCCT-1-0</th>\n",
       "      <td>8457.0</td>\n",
       "      <td>E14.5</td>\n",
       "      <td>4xx</td>\n",
       "      <td>Neurog3-Venus-Fusion</td>\n",
       "      <td>-12538.516611</td>\n",
       "      <td>1</td>\n",
       "      <td>1</td>\n",
       "      <td>2</td>\n",
       "      <td>9.042749</td>\n",
       "      <td>3651</td>\n",
       "      <td>...</td>\n",
       "      <td>17</td>\n",
       "      <td>0</td>\n",
       "      <td>17</td>\n",
       "      <td>17</td>\n",
       "      <td>17</td>\n",
       "      <td>17</td>\n",
       "      <td>17</td>\n",
       "      <td>17</td>\n",
       "      <td>17,0</td>\n",
       "      <td>Fev+ Alpha</td>\n",
       "    </tr>\n",
       "    <tr>\n",
       "      <th>AAACAGCCAACCCTCC-1-0</th>\n",
       "      <td>7841.0</td>\n",
       "      <td>E14.5</td>\n",
       "      <td>4xx</td>\n",
       "      <td>Neurog3-Venus-Fusion</td>\n",
       "      <td>-10665.635853</td>\n",
       "      <td>1</td>\n",
       "      <td>1</td>\n",
       "      <td>2</td>\n",
       "      <td>8.967122</td>\n",
       "      <td>3120</td>\n",
       "      <td>...</td>\n",
       "      <td>6,0</td>\n",
       "      <td>0</td>\n",
       "      <td>6,0</td>\n",
       "      <td>6,0</td>\n",
       "      <td>6,0</td>\n",
       "      <td>6,0</td>\n",
       "      <td>6,0</td>\n",
       "      <td>6,0</td>\n",
       "      <td>6,0</td>\n",
       "      <td>Fev+</td>\n",
       "    </tr>\n",
       "    <tr>\n",
       "      <th>AAACAGCCACCTGTAA-1-0</th>\n",
       "      <td>9492.0</td>\n",
       "      <td>E14.5</td>\n",
       "      <td>4xx</td>\n",
       "      <td>Neurog3-Venus-Fusion</td>\n",
       "      <td>-15545.684333</td>\n",
       "      <td>1</td>\n",
       "      <td>1</td>\n",
       "      <td>2</td>\n",
       "      <td>9.158205</td>\n",
       "      <td>3938</td>\n",
       "      <td>...</td>\n",
       "      <td>8</td>\n",
       "      <td>0</td>\n",
       "      <td>8</td>\n",
       "      <td>8,0</td>\n",
       "      <td>8,0</td>\n",
       "      <td>8,0</td>\n",
       "      <td>8,0</td>\n",
       "      <td>8,0</td>\n",
       "      <td>8,0</td>\n",
       "      <td>Imm. Acinar</td>\n",
       "    </tr>\n",
       "    <tr>\n",
       "      <th>AAACAGCCACTAAGCC-1-0</th>\n",
       "      <td>7915.0</td>\n",
       "      <td>E14.5</td>\n",
       "      <td>4xx</td>\n",
       "      <td>Neurog3-Venus-Fusion</td>\n",
       "      <td>-12149.266909</td>\n",
       "      <td>1</td>\n",
       "      <td>1</td>\n",
       "      <td>2</td>\n",
       "      <td>8.976515</td>\n",
       "      <td>3318</td>\n",
       "      <td>...</td>\n",
       "      <td>6,0</td>\n",
       "      <td>0</td>\n",
       "      <td>6,0</td>\n",
       "      <td>6,0</td>\n",
       "      <td>6,0</td>\n",
       "      <td>6,0</td>\n",
       "      <td>6,0</td>\n",
       "      <td>6,0</td>\n",
       "      <td>6,0</td>\n",
       "      <td>Fev+</td>\n",
       "    </tr>\n",
       "    <tr>\n",
       "      <th>AAACAGCCAGGATAAC-1-0</th>\n",
       "      <td>9193.0</td>\n",
       "      <td>E14.5</td>\n",
       "      <td>4xx</td>\n",
       "      <td>Neurog3-Venus-Fusion</td>\n",
       "      <td>-11208.509422</td>\n",
       "      <td>1</td>\n",
       "      <td>1</td>\n",
       "      <td>2</td>\n",
       "      <td>9.126198</td>\n",
       "      <td>3666</td>\n",
       "      <td>...</td>\n",
       "      <td>4,1</td>\n",
       "      <td>0</td>\n",
       "      <td>4,1</td>\n",
       "      <td>4,1</td>\n",
       "      <td>4,1</td>\n",
       "      <td>4,1</td>\n",
       "      <td>4,1</td>\n",
       "      <td>4,1</td>\n",
       "      <td>4,1</td>\n",
       "      <td>Ngn3 high</td>\n",
       "    </tr>\n",
       "    <tr>\n",
       "      <th>...</th>\n",
       "      <td>...</td>\n",
       "      <td>...</td>\n",
       "      <td>...</td>\n",
       "      <td>...</td>\n",
       "      <td>...</td>\n",
       "      <td>...</td>\n",
       "      <td>...</td>\n",
       "      <td>...</td>\n",
       "      <td>...</td>\n",
       "      <td>...</td>\n",
       "      <td>...</td>\n",
       "      <td>...</td>\n",
       "      <td>...</td>\n",
       "      <td>...</td>\n",
       "      <td>...</td>\n",
       "      <td>...</td>\n",
       "      <td>...</td>\n",
       "      <td>...</td>\n",
       "      <td>...</td>\n",
       "      <td>...</td>\n",
       "      <td>...</td>\n",
       "    </tr>\n",
       "    <tr>\n",
       "      <th>TTTGTGTTCTTGTTCG-1-1</th>\n",
       "      <td>9644.0</td>\n",
       "      <td>E15.5</td>\n",
       "      <td>4xx</td>\n",
       "      <td>Neurog3-Venus-Fusion</td>\n",
       "      <td>-17196.982412</td>\n",
       "      <td>1</td>\n",
       "      <td>1</td>\n",
       "      <td>2</td>\n",
       "      <td>9.174091</td>\n",
       "      <td>4703</td>\n",
       "      <td>...</td>\n",
       "      <td>13,0</td>\n",
       "      <td>0</td>\n",
       "      <td>13,0</td>\n",
       "      <td>13,0</td>\n",
       "      <td>13,0</td>\n",
       "      <td>13,0</td>\n",
       "      <td>13,0</td>\n",
       "      <td>13,0</td>\n",
       "      <td>13,0</td>\n",
       "      <td>Ductal</td>\n",
       "    </tr>\n",
       "    <tr>\n",
       "      <th>TTTGTTGGTATTGAGT-1-1</th>\n",
       "      <td>8914.0</td>\n",
       "      <td>E15.5</td>\n",
       "      <td>4xx</td>\n",
       "      <td>Neurog3-Venus-Fusion</td>\n",
       "      <td>-13303.741618</td>\n",
       "      <td>1</td>\n",
       "      <td>1</td>\n",
       "      <td>2</td>\n",
       "      <td>9.095378</td>\n",
       "      <td>3772</td>\n",
       "      <td>...</td>\n",
       "      <td>5,0</td>\n",
       "      <td>0</td>\n",
       "      <td>5,0</td>\n",
       "      <td>5,0</td>\n",
       "      <td>5,0</td>\n",
       "      <td>5,0</td>\n",
       "      <td>5,0</td>\n",
       "      <td>5,0</td>\n",
       "      <td>5,0</td>\n",
       "      <td>Ngn3 low</td>\n",
       "    </tr>\n",
       "    <tr>\n",
       "      <th>TTTGTTGGTCCTAAGA-1-1</th>\n",
       "      <td>9689.0</td>\n",
       "      <td>E15.5</td>\n",
       "      <td>4xx</td>\n",
       "      <td>Neurog3-Venus-Fusion</td>\n",
       "      <td>-16358.359709</td>\n",
       "      <td>1</td>\n",
       "      <td>1</td>\n",
       "      <td>2</td>\n",
       "      <td>9.178746</td>\n",
       "      <td>4540</td>\n",
       "      <td>...</td>\n",
       "      <td>13,0</td>\n",
       "      <td>0</td>\n",
       "      <td>13,0</td>\n",
       "      <td>13,0</td>\n",
       "      <td>13,0</td>\n",
       "      <td>13,0</td>\n",
       "      <td>13,0</td>\n",
       "      <td>13,0</td>\n",
       "      <td>13,0</td>\n",
       "      <td>Ductal</td>\n",
       "    </tr>\n",
       "    <tr>\n",
       "      <th>TTTGTTGGTTAACAGT-1-1</th>\n",
       "      <td>9570.0</td>\n",
       "      <td>E15.5</td>\n",
       "      <td>4xx</td>\n",
       "      <td>Neurog3-Venus-Fusion</td>\n",
       "      <td>-16296.427054</td>\n",
       "      <td>1</td>\n",
       "      <td>1</td>\n",
       "      <td>2</td>\n",
       "      <td>9.166389</td>\n",
       "      <td>4502</td>\n",
       "      <td>...</td>\n",
       "      <td>14</td>\n",
       "      <td>0</td>\n",
       "      <td>14</td>\n",
       "      <td>14</td>\n",
       "      <td>14,0</td>\n",
       "      <td>14,0</td>\n",
       "      <td>14,0</td>\n",
       "      <td>14,0</td>\n",
       "      <td>14,0</td>\n",
       "      <td>Mat. Acinar</td>\n",
       "    </tr>\n",
       "    <tr>\n",
       "      <th>TTTGTTGGTTGTTGCT-1-1</th>\n",
       "      <td>8930.0</td>\n",
       "      <td>E15.5</td>\n",
       "      <td>4xx</td>\n",
       "      <td>Neurog3-Venus-Fusion</td>\n",
       "      <td>-12763.261525</td>\n",
       "      <td>1</td>\n",
       "      <td>1</td>\n",
       "      <td>2</td>\n",
       "      <td>9.097172</td>\n",
       "      <td>3458</td>\n",
       "      <td>...</td>\n",
       "      <td>11</td>\n",
       "      <td>0</td>\n",
       "      <td>11,2</td>\n",
       "      <td>11,2</td>\n",
       "      <td>11,2</td>\n",
       "      <td>11,2</td>\n",
       "      <td>11,2</td>\n",
       "      <td>11,2</td>\n",
       "      <td>11,2</td>\n",
       "      <td>Epsilon</td>\n",
       "    </tr>\n",
       "  </tbody>\n",
       "</table>\n",
       "<p>16918 rows × 106 columns</p>\n",
       "</div>"
      ],
      "text/plain": [
       "                      n_counts sample int_id              reporter  \\\n",
       "AAACAGCCAACAGCCT-1-0    8457.0  E14.5    4xx  Neurog3-Venus-Fusion   \n",
       "AAACAGCCAACCCTCC-1-0    7841.0  E14.5    4xx  Neurog3-Venus-Fusion   \n",
       "AAACAGCCACCTGTAA-1-0    9492.0  E14.5    4xx  Neurog3-Venus-Fusion   \n",
       "AAACAGCCACTAAGCC-1-0    7915.0  E14.5    4xx  Neurog3-Venus-Fusion   \n",
       "AAACAGCCAGGATAAC-1-0    9193.0  E14.5    4xx  Neurog3-Venus-Fusion   \n",
       "...                        ...    ...    ...                   ...   \n",
       "TTTGTGTTCTTGTTCG-1-1    9644.0  E15.5    4xx  Neurog3-Venus-Fusion   \n",
       "TTTGTTGGTATTGAGT-1-1    8914.0  E15.5    4xx  Neurog3-Venus-Fusion   \n",
       "TTTGTTGGTCCTAAGA-1-1    9689.0  E15.5    4xx  Neurog3-Venus-Fusion   \n",
       "TTTGTTGGTTAACAGT-1-1    9570.0  E15.5    4xx  Neurog3-Venus-Fusion   \n",
       "TTTGTTGGTTGTTGCT-1-1    8930.0  E15.5    4xx  Neurog3-Venus-Fusion   \n",
       "\n",
       "                      log_cell_probs  cell_barcodes_du  cell_barcodes_cr  \\\n",
       "AAACAGCCAACAGCCT-1-0   -12538.516611                 1                 1   \n",
       "AAACAGCCAACCCTCC-1-0   -10665.635853                 1                 1   \n",
       "AAACAGCCACCTGTAA-1-0   -15545.684333                 1                 1   \n",
       "AAACAGCCACTAAGCC-1-0   -12149.266909                 1                 1   \n",
       "AAACAGCCAGGATAAC-1-0   -11208.509422                 1                 1   \n",
       "...                              ...               ...               ...   \n",
       "TTTGTGTTCTTGTTCG-1-1   -17196.982412                 1                 1   \n",
       "TTTGTTGGTATTGAGT-1-1   -13303.741618                 1                 1   \n",
       "TTTGTTGGTCCTAAGA-1-1   -16358.359709                 1                 1   \n",
       "TTTGTTGGTTAACAGT-1-1   -16296.427054                 1                 1   \n",
       "TTTGTTGGTTGTTGCT-1-1   -12763.261525                 1                 1   \n",
       "\n",
       "                      cell_barcodes  log_counts  n_genes  ...  leiden_sub12  \\\n",
       "AAACAGCCAACAGCCT-1-0              2    9.042749     3651  ...            17   \n",
       "AAACAGCCAACCCTCC-1-0              2    8.967122     3120  ...           6,0   \n",
       "AAACAGCCACCTGTAA-1-0              2    9.158205     3938  ...             8   \n",
       "AAACAGCCACTAAGCC-1-0              2    8.976515     3318  ...           6,0   \n",
       "AAACAGCCAGGATAAC-1-0              2    9.126198     3666  ...           4,1   \n",
       "...                             ...         ...      ...  ...           ...   \n",
       "TTTGTGTTCTTGTTCG-1-1              2    9.174091     4703  ...          13,0   \n",
       "TTTGTTGGTATTGAGT-1-1              2    9.095378     3772  ...           5,0   \n",
       "TTTGTTGGTCCTAAGA-1-1              2    9.178746     4540  ...          13,0   \n",
       "TTTGTTGGTTAACAGT-1-1              2    9.166389     4502  ...            14   \n",
       "TTTGTTGGTTGTTGCT-1-1              2    9.097172     3458  ...            11   \n",
       "\n",
       "                      tmp  leiden_sub13  leiden_sub14  leiden_sub15  \\\n",
       "AAACAGCCAACAGCCT-1-0    0            17            17            17   \n",
       "AAACAGCCAACCCTCC-1-0    0           6,0           6,0           6,0   \n",
       "AAACAGCCACCTGTAA-1-0    0             8           8,0           8,0   \n",
       "AAACAGCCACTAAGCC-1-0    0           6,0           6,0           6,0   \n",
       "AAACAGCCAGGATAAC-1-0    0           4,1           4,1           4,1   \n",
       "...                   ...           ...           ...           ...   \n",
       "TTTGTGTTCTTGTTCG-1-1    0          13,0          13,0          13,0   \n",
       "TTTGTTGGTATTGAGT-1-1    0           5,0           5,0           5,0   \n",
       "TTTGTTGGTCCTAAGA-1-1    0          13,0          13,0          13,0   \n",
       "TTTGTTGGTTAACAGT-1-1    0            14            14          14,0   \n",
       "TTTGTTGGTTGTTGCT-1-1    0          11,2          11,2          11,2   \n",
       "\n",
       "                      leiden_sub16  leiden_sub17  leiden_sub18  leiden_sub19  \\\n",
       "AAACAGCCAACAGCCT-1-0            17            17            17          17,0   \n",
       "AAACAGCCAACCCTCC-1-0           6,0           6,0           6,0           6,0   \n",
       "AAACAGCCACCTGTAA-1-0           8,0           8,0           8,0           8,0   \n",
       "AAACAGCCACTAAGCC-1-0           6,0           6,0           6,0           6,0   \n",
       "AAACAGCCAGGATAAC-1-0           4,1           4,1           4,1           4,1   \n",
       "...                            ...           ...           ...           ...   \n",
       "TTTGTGTTCTTGTTCG-1-1          13,0          13,0          13,0          13,0   \n",
       "TTTGTTGGTATTGAGT-1-1           5,0           5,0           5,0           5,0   \n",
       "TTTGTTGGTCCTAAGA-1-1          13,0          13,0          13,0          13,0   \n",
       "TTTGTTGGTTAACAGT-1-1          14,0          14,0          14,0          14,0   \n",
       "TTTGTTGGTTGTTGCT-1-1          11,2          11,2          11,2          11,2   \n",
       "\n",
       "                         celltype  \n",
       "AAACAGCCAACAGCCT-1-0   Fev+ Alpha  \n",
       "AAACAGCCAACCCTCC-1-0         Fev+  \n",
       "AAACAGCCACCTGTAA-1-0  Imm. Acinar  \n",
       "AAACAGCCACTAAGCC-1-0         Fev+  \n",
       "AAACAGCCAGGATAAC-1-0    Ngn3 high  \n",
       "...                           ...  \n",
       "TTTGTGTTCTTGTTCG-1-1       Ductal  \n",
       "TTTGTTGGTATTGAGT-1-1     Ngn3 low  \n",
       "TTTGTTGGTCCTAAGA-1-1       Ductal  \n",
       "TTTGTTGGTTAACAGT-1-1  Mat. Acinar  \n",
       "TTTGTTGGTTGTTGCT-1-1      Epsilon  \n",
       "\n",
       "[16918 rows x 106 columns]"
      ]
     },
     "execution_count": 6,
     "metadata": {},
     "output_type": "execute_result"
    }
   ],
   "source": [
    "adata.obs"
   ]
  },
  {
   "cell_type": "code",
   "execution_count": 7,
   "id": "1cc795e2",
   "metadata": {},
   "outputs": [
    {
     "data": {
      "text/html": [
       "<div>\n",
       "<style scoped>\n",
       "    .dataframe tbody tr th:only-of-type {\n",
       "        vertical-align: middle;\n",
       "    }\n",
       "\n",
       "    .dataframe tbody tr th {\n",
       "        vertical-align: top;\n",
       "    }\n",
       "\n",
       "    .dataframe thead th {\n",
       "        text-align: right;\n",
       "    }\n",
       "</style>\n",
       "<table border=\"1\" class=\"dataframe\">\n",
       "  <thead>\n",
       "    <tr style=\"text-align: right;\">\n",
       "      <th></th>\n",
       "    </tr>\n",
       "  </thead>\n",
       "  <tbody>\n",
       "    <tr>\n",
       "      <th>E14-5_AAACAGCCAACAGCCT-1</th>\n",
       "    </tr>\n",
       "    <tr>\n",
       "      <th>E14-5_AAACAGCCAACCCTCC-1</th>\n",
       "    </tr>\n",
       "    <tr>\n",
       "      <th>E14-5_AAACAGCCACCTGTAA-1</th>\n",
       "    </tr>\n",
       "    <tr>\n",
       "      <th>E14-5_AAACAGCCACTAAGCC-1</th>\n",
       "    </tr>\n",
       "    <tr>\n",
       "      <th>E14-5_AAACAGCCAGGATAAC-1</th>\n",
       "    </tr>\n",
       "    <tr>\n",
       "      <th>...</th>\n",
       "    </tr>\n",
       "    <tr>\n",
       "      <th>E15-5_TTTGTGTTCTTGTTCG-1</th>\n",
       "    </tr>\n",
       "    <tr>\n",
       "      <th>E15-5_TTTGTTGGTATTGAGT-1</th>\n",
       "    </tr>\n",
       "    <tr>\n",
       "      <th>E15-5_TTTGTTGGTCCTAAGA-1</th>\n",
       "    </tr>\n",
       "    <tr>\n",
       "      <th>E15-5_TTTGTTGGTTAACAGT-1</th>\n",
       "    </tr>\n",
       "    <tr>\n",
       "      <th>E15-5_TTTGTTGGTTGTTGCT-1</th>\n",
       "    </tr>\n",
       "  </tbody>\n",
       "</table>\n",
       "<p>16978 rows × 0 columns</p>\n",
       "</div>"
      ],
      "text/plain": [
       "Empty DataFrame\n",
       "Columns: []\n",
       "Index: [E14-5_AAACAGCCAACAGCCT-1, E14-5_AAACAGCCAACCCTCC-1, E14-5_AAACAGCCACCTGTAA-1, E14-5_AAACAGCCACTAAGCC-1, E14-5_AAACAGCCAGGATAAC-1, E14-5_AAACAGCCATAAAGCA-1, E14-5_AAACATGCAAGGTAAC-1, E14-5_AAACATGCAAGGTGGC-1, E14-5_AAACATGCACTAGGTC-1, E14-5_AAACATGCAGCATTAT-1, E14-5_AAACATGCAGTTAGCC-1, E14-5_AAACATGCATTGGGAG-1, E14-5_AAACATGCATTGTGGC-1, E14-5_AAACCAACAACCTAAT-1, E14-5_AAACCAACAGCAACAG-1, E14-5_AAACCAACATAGGCGA-1, E14-5_AAACCAACATCGCTCC-1, E14-5_AAACCAACATGAGTTT-1, E14-5_AAACCAACATGTCAAT-1, E14-5_AAACCAACATTAAGCT-1, E14-5_AAACCGAAGACAACGA-1, E14-5_AAACCGAAGCATGTCG-1, E14-5_AAACCGAAGCTTTGTT-1, E14-5_AAACCGAAGTGAACAG-1, E14-5_AAACCGCGTCAGGCCA-1, E14-5_AAACCGCGTTCGCTTG-1, E14-5_AAACCGCGTTTCGCCA-1, E14-5_AAACCGGCAGAGAGCC-1, E14-5_AAACCGGCAGCTTAAT-1, E14-5_AAACCGGCAGGAACAT-1, E14-5_AAACCGGCAGGCCATT-1, E14-5_AAACCGGCAGGCTTCG-1, E14-5_AAACCGGCATGAGCAG-1, E14-5_AAACGCGCAAACTAAG-1, E14-5_AAACGCGCAATTGCGC-1, E14-5_AAACGCGCACAATGTT-1, E14-5_AAACGCGCACAGAAAC-1, E14-5_AAACGCGCACAGAACG-1, E14-5_AAACGCGCACTGACTA-1, E14-5_AAACGCGCAGCAACCT-1, E14-5_AAACGCGCAGGAACTG-1, E14-5_AAACGGATCAGGTTTA-1, E14-5_AAACGGATCATTAGGC-1, E14-5_AAACGGATCTAACTGA-1, E14-5_AAACGTACACTTCATC-1, E14-5_AAACGTACAGTCTAAT-1, E14-5_AAACGTACATAAGTCT-1, E14-5_AAACGTACATAATGTC-1, E14-5_AAAGCAAGTCCTTTAA-1, E14-5_AAAGCAAGTCGACTCC-1, E14-5_AAAGCAAGTGTGAGGA-1, E14-5_AAAGCAAGTGTTGCTT-1, E14-5_AAAGCAAGTTTGCTGT-1, E14-5_AAAGCACCAAGGTACG-1, E14-5_AAAGCACCAATAATGG-1, E14-5_AAAGCACCACAGCCAT-1, E14-5_AAAGCACCACTAAGAA-1, E14-5_AAAGCACCAGTAATAG-1, E14-5_AAAGCACCATAAGTTC-1, E14-5_AAAGCACCATGGTTAT-1, E14-5_AAAGCCCGTCATCATC-1, E14-5_AAAGCCCGTGTGCAAC-1, E14-5_AAAGCCCGTGTGTCCC-1, E14-5_AAAGCCCGTTACTTCA-1, E14-5_AAAGCCCGTTAGTTGG-1, E14-5_AAAGCCCGTTGCACGG-1, E14-5_AAAGCCGCAACACTTG-1, E14-5_AAAGCGGGTAAGGTCC-1, E14-5_AAAGCGGGTCACCTAT-1, E14-5_AAAGCGGGTCCAAGAC-1, E14-5_AAAGCGGGTCGTTACT-1, E14-5_AAAGCGGGTTGACTTC-1, E14-5_AAAGCTTGTCACCTAT-1, E14-5_AAAGCTTGTCTAACAG-1, E14-5_AAAGCTTGTGGATTCA-1, E14-5_AAAGCTTGTGGGTACT-1, E14-5_AAAGGACGTAATCGCA-1, E14-5_AAAGGACGTTAGGATT-1, E14-5_AAAGGACGTTGTGATG-1, E14-5_AAAGGACGTTGTTCAC-1, E14-5_AAAGGACGTTGTTGGA-1, E14-5_AAAGGAGCAAACATAG-1, E14-5_AAAGGAGCAAAGCGGC-1, E14-5_AAAGGAGCAGATAGAC-1, E14-5_AAAGGAGCAGCAACAG-1, E14-5_AAAGGAGCAGGATTAA-1, E14-5_AAAGGAGCAGGTATTT-1, E14-5_AAAGGAGCATGAGTTT-1, E14-5_AAAGGCTCAAACGCGA-1, E14-5_AAAGGCTCAGGTTATT-1, E14-5_AAAGGCTCAGTAGGTG-1, E14-5_AAAGGCTCATAGCGGA-1, E14-5_AAAGGTTAGAAAGCAT-1, E14-5_AAAGGTTAGGCTACAT-1, E14-5_AAAGGTTAGTAACCAC-1, E14-5_AAATCCGGTAACTACG-1, E14-5_AAATCCGGTATTACCC-1, E14-5_AAATCCGGTATTGCAG-1, E14-5_AAATCCGGTATTTGGG-1, E14-5_AAATCCGGTCAACAAT-1, ...]\n",
       "\n",
       "[16978 rows x 0 columns]"
      ]
     },
     "execution_count": 7,
     "metadata": {},
     "output_type": "execute_result"
    }
   ],
   "source": [
    "bdata.obs"
   ]
  },
  {
   "cell_type": "code",
   "execution_count": 8,
   "id": "cc251f5d",
   "metadata": {},
   "outputs": [],
   "source": [
    "import re \n",
    "def rename_index(x):\n",
    "    splits = re.split('_',x[\"old_index\"])\n",
    "    cell_tag = re.split(\"-\", splits[1])[0]\n",
    "    suffix = \"-1-0\" if splits[0] == \"E14-5\" else \"-1-1\"\n",
    "    return cell_tag+suffix\n",
    "\n",
    "bdata.obs[\"old_index\"] = bdata.obs.index\n",
    "bdata.obs[\"index_adapted\"] = bdata.obs.apply(rename_index, axis=1)"
   ]
  },
  {
   "cell_type": "code",
   "execution_count": 11,
   "id": "35c255d0",
   "metadata": {},
   "outputs": [
    {
     "data": {
      "text/plain": [
       "True"
      ]
     },
     "execution_count": 11,
     "metadata": {},
     "output_type": "execute_result"
    }
   ],
   "source": [
    "# make sure the rows are in the same order for both modalities\n",
    "set(adata.obs.index).issubset(set(bdata.obs[\"index_adapted\"].values))\n"
   ]
  },
  {
   "cell_type": "code",
   "execution_count": 12,
   "id": "a5df4681",
   "metadata": {},
   "outputs": [],
   "source": [
    "# we want to have the same indices in both anndata objects\n",
    "bdata.obs.set_index(\"index_adapted\", inplace=True)"
   ]
  },
  {
   "cell_type": "code",
   "execution_count": 13,
   "id": "1ec0ab75-e5f5-4506-a65d-6ea1a757d182",
   "metadata": {},
   "outputs": [],
   "source": [
    "# filter the cells in the ATAC dataset\n",
    "bdata_filtered = bdata[bdata.obs.index.isin(adata.obs.index)].copy()"
   ]
  },
  {
   "cell_type": "code",
   "execution_count": 14,
   "id": "911dc140-22c2-4374-bd95-a4df3c041647",
   "metadata": {},
   "outputs": [
    {
     "data": {
      "text/plain": [
       "True"
      ]
     },
     "execution_count": 14,
     "metadata": {},
     "output_type": "execute_result"
    }
   ],
   "source": [
    "(bdata_filtered.obs.index == adata.obs.index).all()"
   ]
  },
  {
   "cell_type": "code",
   "execution_count": 24,
   "id": "6895bfb4-861f-4ebe-809f-b82c2a9388ab",
   "metadata": {},
   "outputs": [],
   "source": [
    "atac_cols = [\n",
    "    \"sample\",\n",
    "    \"celltype\",\n",
    "    \"nCount_ATAC\",\n",
    "    \"nFeature_ATAC\",\n",
    "    \"nucleosome_signal\",\n",
    "    \"nucleosome_percentile\",\n",
    "    \"TSS.enrichment\",\n",
    "    \"TSS.percentile\",\n",
    "    \"log_nCount_ATAC\",\n",
    "    \"log_nFeature_ATAC\",\n",
    "    \"S_score\",\n",
    "    \"G2M_score\",\n",
    "    \"phase\",\n",
    "    \"proliferation\"]"
   ]
  },
  {
   "cell_type": "code",
   "execution_count": 25,
   "id": "cd3f4182",
   "metadata": {},
   "outputs": [],
   "source": [
    "bdata_filtered.obs[atac_cols] = adata.obs[atac_cols]"
   ]
  },
  {
   "cell_type": "code",
   "execution_count": 27,
   "id": "5cfeab75-f6bd-4d64-9977-e84ecfe61236",
   "metadata": {},
   "outputs": [],
   "source": [
    "bdata_filtered.obsm[\"X_umap\"] = adata.obsm[\"X_umap\"]\n",
    "bdata_filtered.obsm[\"X_umap_GEX\"] = adata.obsm[\"X_umap_GEX\"]\n",
    "bdata_filtered.obsm[\"X_umap_ATAC\"] = adata.obsm[\"X_umap_ATAC\"]"
   ]
  },
  {
   "cell_type": "code",
   "execution_count": 28,
   "id": "200b3dd3",
   "metadata": {},
   "outputs": [
    {
     "data": {
      "text/plain": [
       "AnnData object with n_obs × n_vars = 16918 × 228259\n",
       "    obs: 'old_index', 'celltype', 'nCount_ATAC', 'nFeature_ATAC', 'nucleosome_signal', 'nucleosome_percentile', 'TSS.enrichment', 'TSS.percentile', 'log_nCount_ATAC', 'log_nFeature_ATAC', 'sample'\n",
       "    obsm: 'lsi_full', 'lsi_red', 'lsi_red2', 'X_umap', 'X_umap_GEX', 'X_umap_ATAC'"
      ]
     },
     "execution_count": 28,
     "metadata": {},
     "output_type": "execute_result"
    }
   ],
   "source": [
    "bdata_filtered"
   ]
  },
  {
   "cell_type": "code",
   "execution_count": 31,
   "id": "024cc458",
   "metadata": {},
   "outputs": [],
   "source": [
    "bdata_filtered.write(\"/Users/dominik.klein/data/E14-E15_lsi_peaks_to_adata.h5ad\")\n"
   ]
  },
  {
   "cell_type": "markdown",
   "id": "dcd80118",
   "metadata": {},
   "source": [
    "# Construct a joint dataset"
   ]
  },
  {
   "cell_type": "code",
   "execution_count": 22,
   "id": "00366c92",
   "metadata": {},
   "outputs": [],
   "source": [
    "#import anndata\n",
    "#cdata = anndata.concat([adata, bdata], axis=1, join=\"inner\")"
   ]
  },
  {
   "cell_type": "code",
   "execution_count": 23,
   "id": "281bad13",
   "metadata": {},
   "outputs": [],
   "source": [
    "#gex_set = adata.var.index\n",
    "#def get_feature_type(x):\n",
    "#    return \"GEX\" if x[\"ind\"] in gex_set else \"ATAC\"\n",
    "\n",
    "#cdata.var[\"ind\"] = cdata.var.index\n",
    "#cdata.var[\"feature_type\"] = cdata.var.apply(get_feature_type, axis=1)\n",
    "\n",
    "#del cdata.var[\"ind\"]"
   ]
  },
  {
   "cell_type": "code",
   "execution_count": 37,
   "id": "74286ab7",
   "metadata": {},
   "outputs": [],
   "source": [
    "#cdata.obs = adata.obs"
   ]
  },
  {
   "cell_type": "code",
   "execution_count": 133,
   "id": "82abb6bf",
   "metadata": {},
   "outputs": [],
   "source": [
    "#cdata.obsm[\"GEX_pca\"] = adata.obsm[\"X_pca\"]\n",
    "#cdata.obsm[\"ATAC_pca\"] = bdata.obsm[\"X_pca\"]\n",
    "#cdata.obsm[\"GEX_umap\"] = adata.obsm[\"X_umap\"]\n",
    "#cdata.obsm[\"ATAC_umap\"] = bdata.obsm[\"X_umap\"]\n",
    "#cdata.uns[\"GEX_neighbors\"] = adata.uns[\"neighbors\"]\n",
    "#cdata.uns[\"ATAC_neighbors\"] = bdata.uns[\"neighbors\"]\n",
    "#cdata.obsm[\"\"]"
   ]
  },
  {
   "cell_type": "code",
   "execution_count": 137,
   "id": "626875bb",
   "metadata": {},
   "outputs": [],
   "source": [
    "#sc.pp.pca(cdata)"
   ]
  },
  {
   "cell_type": "code",
   "execution_count": 140,
   "id": "04f7fe4d",
   "metadata": {},
   "outputs": [
    {
     "name": "stderr",
     "output_type": "stream",
     "text": [
      "/home/icb/dominik.klein/miniconda3/envs/moscot_with_cupti_gpu_fix/lib/python3.8/site-packages/anndata/_core/anndata.py:1228: FutureWarning: The `inplace` parameter in pandas.Categorical.reorder_categories is deprecated and will be removed in a future version. Reordering categories will always return a new Categorical object.\n",
      "  c.reorder_categories(natsorted(c.categories), inplace=True)\n",
      "... storing 'celltype' as categorical\n",
      "/home/icb/dominik.klein/miniconda3/envs/moscot_with_cupti_gpu_fix/lib/python3.8/site-packages/anndata/_core/anndata.py:1228: FutureWarning: The `inplace` parameter in pandas.Categorical.reorder_categories is deprecated and will be removed in a future version. Reordering categories will always return a new Categorical object.\n",
      "  c.reorder_categories(natsorted(c.categories), inplace=True)\n",
      "... storing 'feature_type' as categorical\n"
     ]
    }
   ],
   "source": [
    "#cdata.write(\"/storage/groups/ml01/workspace/dominik.klein/scMultiome_NVF/scMultiome_NVF_E14-E15/adata_preprocessed.h5ad\")"
   ]
  },
  {
   "cell_type": "code",
   "execution_count": null,
   "id": "0d0c5f55",
   "metadata": {},
   "outputs": [],
   "source": []
  }
 ],
 "metadata": {
  "kernelspec": {
   "display_name": "mm_best_muon_full",
   "language": "python",
   "name": "mm_best_muon_full"
  },
  "language_info": {
   "codemirror_mode": {
    "name": "ipython",
    "version": 3
   },
   "file_extension": ".py",
   "mimetype": "text/x-python",
   "name": "python",
   "nbconvert_exporter": "python",
   "pygments_lexer": "ipython3",
   "version": "3.9.13"
  }
 },
 "nbformat": 4,
 "nbformat_minor": 5
}
