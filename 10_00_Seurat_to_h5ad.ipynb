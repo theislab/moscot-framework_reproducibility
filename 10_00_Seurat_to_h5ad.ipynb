{
 "cells": [
  {
   "cell_type": "code",
   "execution_count": 1,
   "id": "8c148adf",
   "metadata": {},
   "outputs": [],
   "source": [
    "library(reticulate)"
   ]
  },
  {
   "cell_type": "code",
   "execution_count": 2,
   "id": "877baea4",
   "metadata": {},
   "outputs": [
    {
     "ename": "ERROR",
     "evalue": "Error in library(Seurat): there is no package called ‘Seurat’\n",
     "output_type": "error",
     "traceback": [
      "Error in library(Seurat): there is no package called ‘Seurat’\nTraceback:\n",
      "1. library(Seurat)"
     ]
    }
   ],
   "source": [
    "#library(zellkonverter)\n",
    "library(Seurat)\n",
    "#library(basilisk)"
   ]
  },
  {
   "cell_type": "code",
   "execution_count": 3,
   "id": "a9ba4445",
   "metadata": {},
   "outputs": [
    {
     "ename": "ERROR",
     "evalue": "Error in library(Signac): there is no package called 'Signac'\n",
     "output_type": "error",
     "traceback": [
      "Error in library(Signac): there is no package called 'Signac'\nTraceback:\n",
      "1. library(Signac)"
     ]
    }
   ],
   "source": [
    "#library(SeuratData)\n",
    "#library(SeuratDisk)\n",
    "library(Signac)\n",
    "library(SingleCellExperiment)"
   ]
  },
  {
   "cell_type": "code",
   "execution_count": 6,
   "id": "b38dd1b8",
   "metadata": {},
   "outputs": [],
   "source": [
    "filename = \"/storage/groups/ml01/workspace/dominik.klein/scMultiome_NVF/scMultiome_NVF_E14-E15/E14-E15_adata_filtered_rmDoublets_seurat_jointPeaks_sctNormalized_wnn.rds\"\n",
    "sce = readRDS(filename)"
   ]
  },
  {
   "cell_type": "code",
   "execution_count": 7,
   "id": "917751c9",
   "metadata": {},
   "outputs": [
    {
     "name": "stderr",
     "output_type": "stream",
     "text": [
      "Loading required package: SeuratObject\n",
      "\n",
      "Warning message in library(package, lib.loc = lib.loc, character.only = TRUE, logical.return = TRUE, :\n",
      "“there is no package called ‘SeuratObject’”\n",
      "ERROR while rich displaying an object: Error in .requirePackage(package): unable to find required package ‘SeuratObject’\n",
      "\n",
      "Traceback:\n",
      "1. FUN(X[[i]], ...)\n",
      "2. tryCatch(withCallingHandlers({\n",
      " .     if (!mime %in% names(repr::mime2repr)) \n",
      " .         stop(\"No repr_* for mimetype \", mime, \" in repr::mime2repr\")\n",
      " .     rpr <- repr::mime2repr[[mime]](obj)\n",
      " .     if (is.null(rpr)) \n",
      " .         return(NULL)\n",
      " .     prepare_content(is.raw(rpr), rpr)\n",
      " . }, error = error_handler), error = outer_handler)\n",
      "3. tryCatchList(expr, classes, parentenv, handlers)\n",
      "4. tryCatchOne(expr, names, parentenv, handlers[[1L]])\n",
      "5. doTryCatch(return(expr), name, parentenv, handler)\n",
      "6. withCallingHandlers({\n",
      " .     if (!mime %in% names(repr::mime2repr)) \n",
      " .         stop(\"No repr_* for mimetype \", mime, \" in repr::mime2repr\")\n",
      " .     rpr <- repr::mime2repr[[mime]](obj)\n",
      " .     if (is.null(rpr)) \n",
      " .         return(NULL)\n",
      " .     prepare_content(is.raw(rpr), rpr)\n",
      " . }, error = error_handler)\n",
      "7. repr::mime2repr[[mime]](obj)\n",
      "8. .extendsForS3(structure(\"Seurat\", package = \"SeuratObject\"))\n",
      "9. extends(Class, maybe = FALSE)\n",
      "10. getClassDef(class1)\n",
      "11. .requirePackage(package)\n",
      "12. stop(gettextf(\"unable to find required package %s\", sQuote(package)), \n",
      "  .     domain = NA)\n"
     ]
    }
   ],
   "source": [
    "sce"
   ]
  },
  {
   "cell_type": "code",
   "execution_count": 18,
   "id": "be863d99",
   "metadata": {},
   "outputs": [],
   "source": [
    "singlece = as.SingleCellExperiment(sce)"
   ]
  },
  {
   "cell_type": "code",
   "execution_count": 19,
   "id": "b325bee2",
   "metadata": {},
   "outputs": [
    {
     "data": {
      "text/plain": [
       "class: SingleCellExperiment \n",
       "dim: 18749 16978 \n",
       "metadata(0):\n",
       "assays(3): counts logcounts scaledata\n",
       "rownames(18749): Xkr4 Gm1992 ... CAAA01118383.1 CAAA01147332.1\n",
       "rowData names(0):\n",
       "colnames(16978): E14-5_AAACAGCCAACAGCCT-1 E14-5_AAACAGCCAACCCTCC-1 ...\n",
       "  E15-5_TTTGTTGGTTAACAGT-1 E15-5_TTTGTTGGTTGTTGCT-1\n",
       "colData names(20): orig.ident nCount_RNA ... sample ident\n",
       "reducedDimNames(4): PCA UMAP.RNA UMAP SPCA\n",
       "mainExpName: SCT\n",
       "altExpNames(3): RNA ATAC peaks"
      ]
     },
     "metadata": {},
     "output_type": "display_data"
    }
   ],
   "source": [
    "singlece"
   ]
  },
  {
   "cell_type": "code",
   "execution_count": 32,
   "id": "fd8b0d8d",
   "metadata": {},
   "outputs": [
    {
     "name": "stderr",
     "output_type": "stream",
     "text": [
      "* Installing Miniconda -- please wait a moment ...\n",
      "\n",
      "* Downloading 'https://repo.anaconda.com/miniconda/Miniconda3-latest-Linux-x86_64.sh' ...\n",
      "\n",
      "* Miniconda has been successfully installed at \"~/.local/share/r-miniconda\".\n",
      "\n"
     ]
    },
    {
     "data": {
      "text/html": [
       "'/home/dominik.klein/.local/share/r-miniconda'"
      ],
      "text/latex": [
       "'/home/dominik.klein/.local/share/r-miniconda'"
      ],
      "text/markdown": [
       "'/home/dominik.klein/.local/share/r-miniconda'"
      ],
      "text/plain": [
       "[1] \"/home/dominik.klein/.local/share/r-miniconda\""
      ]
     },
     "metadata": {},
     "output_type": "display_data"
    }
   ],
   "source": [
    "reticulate::install_miniconda()"
   ]
  },
  {
   "cell_type": "code",
   "execution_count": 34,
   "id": "4abda660",
   "metadata": {},
   "outputs": [],
   "source": [
    "py_install(\"anndata\")"
   ]
  },
  {
   "cell_type": "code",
   "execution_count": 58,
   "id": "b01d6ea8",
   "metadata": {},
   "outputs": [
    {
     "name": "stderr",
     "output_type": "stream",
     "text": [
      "\u001b[36mℹ\u001b[39m Using the \u001b[32m\u001b[32m'\u001b[32mcounts\u001b[32m'\u001b[32m\u001b[39m assay as the \u001b[32m\u001b[32mX matrix\u001b[32m\u001b[39m\n",
      "\n"
     ]
    }
   ],
   "source": [
    "#new_adata = SCE2AnnData(swapAltExp(singlece, \"ATAC\", saved=\"SCT\"))\n",
    "#new_adata"
   ]
  },
  {
   "cell_type": "code",
   "execution_count": 60,
   "id": "035fbed3",
   "metadata": {},
   "outputs": [],
   "source": [
    "writeH5AD(swapAltExp(singlece, \"ATAC\", saved=\"SCT\"), \"/storage/groups/ml01/workspace/dominik.klein/scMultiome_NVF/scMultiome_NVF_E14-E15/E14-E15_adata_filtered_rmDoublets_seurat_jointPeaks_sctNormalized_wnn\") "
   ]
  },
  {
   "cell_type": "code",
   "execution_count": null,
   "id": "e842b88b",
   "metadata": {},
   "outputs": [],
   "source": []
  }
 ],
 "metadata": {
  "kernelspec": {
   "display_name": "R",
   "language": "R",
   "name": "ir"
  },
  "language_info": {
   "codemirror_mode": "r",
   "file_extension": ".r",
   "mimetype": "text/x-r-source",
   "name": "R",
   "pygments_lexer": "r",
   "version": "4.1.2"
  }
 },
 "nbformat": 4,
 "nbformat_minor": 5
}
